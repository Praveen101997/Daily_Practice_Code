{
 "cells": [
  {
   "cell_type": "markdown",
   "metadata": {},
   "source": [
    "**------------------------Questions Covered-----------------------------**"
   ]
  },
  {
   "cell_type": "markdown",
   "metadata": {},
   "source": [
    "***12A\tGraphs\thttps://www.hackerrank.com/challenges/torque-and-development/problem\tdfs, greedy\n",
    "12A\tGraphs\thttps://www.hackerrank.com/challenges/journey-to-the-moon/problem\tdfs, combinatorics\t\t\t\t\t\t\t\t\t\t\t\t\t\t\t\t\t\t\t\t\t\t\t\t\n",
    "12A\tGraphs\thttps://www.hackerrank.com/challenges/even-tree/problem\tdfs, generic tree\t\t\t\t\t\t\t\t\t\t\t\t\t\t\t\t\t\t\t\t\t\t\t\t\n",
    "12A\tGraphs\thttps://leetcode.com/problems/course-schedule-ii/description/\tnew question\t\t\t\t\t\t\t\t\t\t\t\t\t\t\t\t\t\t\t\t\t\t\t\t\n",
    "12A\tGraphs\t\n",
    "https://www.hackerearth.com/practice/algorithms/graphs/graph-representation/practice-problems/algorithm/mancunian-and-liverbird-go-bar-hopping-2/\n",
    "graph implementation\t\t\t\t\t\t\t\t\t\t\t\t\t\t\t\t\t\t\t\t\t\t\t\t\n",
    "12A\tGraphs\thttps://leetcode.com/problems/cheapest-flights-within-k-stops/description/\tnew added\t\t\t\t\t\t\t\t\t\t\t\t\t\t\t\t\t\t\t\t\t\t\t\t\n",
    "12A\tGraphs\thttps://www.hackerearth.com/practice/algorithms/graphs/breadth-first-search/practice-problems/algorithm/dhoom-4/\tdoesnt look like graph ques, but graph theory used\t\t\t\t\t\t\t\t\t\t\t\t\t\t\t\t\t\t\t\t\t\t\t\t\n",
    "12A\tGraphs\thttps://www.hackerearth.com/practice/algorithms/graphs/breadth-first-search/practice-problems/algorithm/monk-and-the-islands/\teasy bfs\t\t\t\t\t\t\t\t\t\t\t\t\t\t\t\t\t\t\t\t\t\t\t\t\n",
    "12A\tGraphs\thttps://www.hackerearth.com/practice/algorithms/graphs/breadth-first-search/practice-problems/algorithm/connected-horses-10/\tgraph + dp\ttimeout tc\t\t\t\t\t\t\t\t\t\t\t\t\t\t\t\t\t\t\t\t\t\t\t\n",
    "12A\tGraphs\thttps://www.hackerearth.com/practice/algorithms/graphs/breadth-first-search/practice-problems/algorithm/we-are-on-fire/\tgraph + dfs\t\t\t\t\t\t\t\t\t\t\t\t\t\t\t\t\t\t\t\t\t\t\t\t\n",
    "12A\tGraphs\t\n",
    "https://www.hackerearth.com/practice/algorithms/graphs/depth-first-search/practice-problems/algorithm/mrinal-and-three-musketeers-128f4c52/\n",
    "dfs\t\t\t\t\t\t\t\t\t\t\t\t\t\t\t\t\t\t\t\t\t\t\t\t\n",
    "12A\tGraphs\thttps://www.hackerearth.com/practice/algorithms/graphs/minimum-spanning-tree/practice-problems/algorithm/efficient-network/\tmst\t\t\t\t\t\t\t\t\t\t\t\t\t\t\t\t\t\t\t\t\t\t\t\t\n",
    "12A\tGraphs\thttps://www.hackerearth.com/practice/algorithms/graphs/minimum-spanning-tree/practice-problems/algorithm/mr-president/\tmst\ttimeout tc\t\t\t\t\t\t\t\t\t\t\t\t\t\t\t\t\t\t\t\t\t\t\t\n",
    "12A\tGraphs\t\n",
    "https://www.hackerearth.com/practice/algorithms/graphs/shortest-path-algorithms/practice-problems/algorithm/successful-marathon-0691ec04/\n",
    "shortest path\t\t\t\t\t\t\t\t\t\t\t\t\t\t\t\t\t\t\t\t\t\t\t\t\n",
    "12A\tGraphs\thttps://www.hackerearth.com/practice/algorithms/graphs/shortest-path-algorithms/practice-problems/algorithm/minimizing-path-cost/\tshortest path\t\t\t\t\t\t\t\t\t\t\t\t\t\t\t\t\t\t\t\t\t\t\t\t\n",
    "12A\tGraphs\thttps://www.hackerearth.com/practice/algorithms/graphs/topological-sort/practice-problems/algorithm/oliver-and-the-game-3/\ttopological sort***"
   ]
  },
  {
   "cell_type": "code",
   "execution_count": 1,
   "metadata": {},
   "outputs": [],
   "source": [
    "import java.util.*;\n",
    "import java.io.*;\n",
    "String[] args =new String[0];"
   ]
  },
  {
   "cell_type": "markdown",
   "metadata": {},
   "source": [
    "## **420. Roads and Libraries**\n",
    "https://www.hackerrank.com/challenges/torque-and-development/problem"
   ]
  },
  {
   "cell_type": "code",
   "execution_count": 2,
   "metadata": {},
   "outputs": [],
   "source": [
    "/*\n",
    "View Question Link For Question Description\n",
    "*/"
   ]
  },
  {
   "cell_type": "code",
   "execution_count": 6,
   "metadata": {},
   "outputs": [],
   "source": [
    "/*\n",
    "Using Disjoint Set\n",
    "*/"
   ]
  },
  {
   "cell_type": "code",
   "execution_count": 8,
   "metadata": {},
   "outputs": [
    {
     "name": "stdout",
     "output_type": "stream",
     "text": [
      "2 3 3 2 1 1 2 3 1 2 3 6 6 2 5 1 3 3 4 2 4 1 2 2 3 5 6\n",
      "4\n",
      "12\n"
     ]
    }
   ],
   "source": [
    "public class Solution {\n",
    "    public static int getRoot(int[] map, int ind){\n",
    "        if(map[ind] < 0)\n",
    "            return ind;\n",
    "        else\n",
    "            return getRoot(map, map[ind]);\n",
    "    }\n",
    "\n",
    "    public static void main(String[] args) {\n",
    "        Scanner in = new Scanner(System.in);\n",
    "        int q = in.nextInt();\n",
    "        for(int a0 = 0; a0 < q; a0++){\n",
    "            int n = in.nextInt();\n",
    "            int m = in.nextInt();\n",
    "            long x = in.nextLong();\n",
    "            long y = in.nextLong();\n",
    "            int[] map = new int[n];\n",
    "            Arrays.fill(map, -1);\n",
    "            for(int a1 = 0; a1 < m; a1++){\n",
    "                int city_1 = in.nextInt()-1;\n",
    "                int city_2 = in.nextInt()-1;\n",
    "                int root_1 = getRoot(map, city_1);\n",
    "                int root_2 = getRoot(map, city_2);\n",
    "                if(root_1 != root_2){\n",
    "                    if(map[root_1]<map[root_2]){\n",
    "                        map[root_1] = map[root_1]+map[root_2];\n",
    "                        map[root_2] = root_1;\n",
    "                    }else{\n",
    "                        map[root_2] = map[root_1]+map[root_2];\n",
    "                        map[root_1] = root_2;\n",
    "                    }\n",
    "                }\n",
    "            }\n",
    "            //get sets\n",
    "            Queue queue = new LinkedList();\n",
    "            for(int i=0;i<n;i++){\n",
    "                if(map[i] < 0)\n",
    "                    queue.add(map[i]);\n",
    "            }\n",
    "            //build library: size*x\n",
    "            //build route: (size-1)*y+x\n",
    "            if(x>y){\n",
    "                long sum = 0;\n",
    "                while(!queue.isEmpty()){\n",
    "                    sum += ((int)queue.poll()+1)*y-x;\n",
    "                }\n",
    "                System.out.println(-sum);\n",
    "            }else{\n",
    "                long sum = 0;\n",
    "                while(!queue.isEmpty()){\n",
    "                    sum += ((int)queue.poll())*x;\n",
    "                }\n",
    "                System.out.println(-sum);\n",
    "            }\n",
    "        }\n",
    "    }\n",
    "}\n",
    "Solution.main(args);"
   ]
  },
  {
   "cell_type": "code",
   "execution_count": 10,
   "metadata": {},
   "outputs": [],
   "source": [
    "/*\n",
    "Check For input\n",
    "\n",
    "2\n",
    "3 3 2 1\n",
    "1 2\n",
    "3 1\n",
    "2 3\n",
    "6 6 2 5\n",
    "1 3\n",
    "3 4\n",
    "2 4\n",
    "1 2\n",
    "2 3\n",
    "5 6\n",
    "\n",
    "Output -->\n",
    "4\n",
    "12\n",
    "*/"
   ]
  },
  {
   "cell_type": "code",
   "execution_count": 12,
   "metadata": {},
   "outputs": [],
   "source": [
    "/*\n",
    "Summary 1--\n",
    "\n",
    "It's easy to overthink this one.\n",
    "\n",
    "If the cost of a road is >= the cost of a library, \n",
    "    just build a library at each node.\n",
    "\n",
    "Otherwise, \n",
    "    use DFS to get the number of nodes (ct) in each connected component. \n",
    "        Put 1 library in each component, \n",
    "        and the total per component cost is simply \n",
    "        ct-1 (a road to connect to each node in the compomnent) * cost of a road + cost of one library.\n",
    "\n",
    "You'll never put more than one library per component \n",
    "    because once you're adding an additional node to a component, \n",
    "    the cost of just building a road will always be cheaper than the cost of disconnecting the node (not building a road)\n",
    "    and building a library instead.\n",
    "*/"
   ]
  },
  {
   "cell_type": "markdown",
   "metadata": {},
   "source": [
    "<img src = \"data:image/png;base64,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\"/>"
   ]
  },
  {
   "cell_type": "markdown",
   "metadata": {},
   "source": [
    "***https://ideone.com/tXTmEw***"
   ]
  },
  {
   "cell_type": "markdown",
   "metadata": {},
   "source": [
    "***https://ideone.com/54FAZA***"
   ]
  },
  {
   "cell_type": "code",
   "execution_count": 13,
   "metadata": {},
   "outputs": [],
   "source": [
    "/*\n",
    "Time Complexity:\n",
    "O(N)\n",
    "*/"
   ]
  },
  {
   "cell_type": "markdown",
   "metadata": {},
   "source": [
    "## **421. Journey to the Moon**\n",
    "https://www.hackerrank.com/challenges/journey-to-the-moon/problem"
   ]
  },
  {
   "cell_type": "code",
   "execution_count": 20,
   "metadata": {},
   "outputs": [],
   "source": [
    "/*\n",
    "View Question Link For Question Description\n",
    "*/"
   ]
  },
  {
   "cell_type": "code",
   "execution_count": 15,
   "metadata": {},
   "outputs": [],
   "source": [
    "/*\n",
    "This problem can be thought of as a graph problem. \n",
    "The very first step is to compute how many different countries are there. \n",
    "For this, we apply Depth First Search to calculate \n",
    "    how many different connected components are present in the graph where the vertices are represented by the people\n",
    "    and the people from the same country form one connected component. \n",
    "\n",
    "After we get how many connected components are present, say M,\n",
    "    we just need to calculate the number of ways of selecting two persons from two different connected component.\n",
    "    Let us assume that component i contains Mi people. \n",
    "    So, for the number of ways selecting two persons from different components, \n",
    "        we subtract the number of ways of selecting two persons from the same component \n",
    "            from the total numbers of ways of selecting two persons i.e.\n",
    "\n",
    "Ways = N choose 2 - (∑(Mi Choose 2) for i = 1 to M)\n",
    "*/"
   ]
  },
  {
   "cell_type": "markdown",
   "metadata": {},
   "source": [
    "***https://ideone.com/uawL5I***"
   ]
  },
  {
   "cell_type": "code",
   "execution_count": null,
   "metadata": {},
   "outputs": [],
   "source": []
  },
  {
   "cell_type": "code",
   "execution_count": 16,
   "metadata": {},
   "outputs": [
    {
     "name": "stdout",
     "output_type": "stream",
     "text": [
      "5 3 0 1 2 3 0 4\n",
      "6\n"
     ]
    }
   ],
   "source": [
    "public class Solution {\n",
    "\n",
    "    public static void main(String[] args) throws InterruptedException {\n",
    "        Scanner x = new Scanner(System.in);\n",
    "        int N, P;\n",
    "        N = x.nextInt();\n",
    "        P = x.nextInt();\n",
    "\n",
    "        Graph g = new Graph(N);\n",
    "        for (int i = 0; i < P; i++) {\n",
    "            g.addEdge(x.nextInt(), x.nextInt());\n",
    "        }\n",
    "        System.out.println(g.solve());\n",
    "        x.close();\n",
    "    }\n",
    "}\n",
    "\n",
    "class Graph{\n",
    "    static int V;\n",
    "    static boolean visited[];\n",
    "    HashMap<Integer, ArrayList<Integer>> graph;\n",
    "    Graph(int V){\n",
    "        this.V = V;\n",
    "        visited = new boolean[V];\n",
    "        graph = new HashMap<>();\n",
    "        for (int i = 0; i < V; i++) {\n",
    "            graph.put(i, new ArrayList<>());\n",
    "        }\n",
    "    }\n",
    "\n",
    "    public void addEdge(int s, int d) {\n",
    "        graph.get(s).add(d);\n",
    "        graph.get(d).add(s);\n",
    "    }\n",
    "\n",
    "    public int DFS(int s) {\n",
    "        int count = 1;\n",
    "        visited[s] = true;\n",
    "        for (Integer i : graph.get(s)) {\n",
    "            if(!visited[i]) {\n",
    "                count+=DFS(i);\n",
    "            }\n",
    "        }\n",
    "        return count;\n",
    "    }\n",
    "\n",
    "    public ArrayList<Integer> traversal(){\n",
    "        ArrayList<Integer> countrySizes = new ArrayList<>();\n",
    "        for (int i = 0; i < visited.length; i++) {\n",
    "            if(!visited[i])\n",
    "                countrySizes.add(DFS(i));\n",
    "        }\n",
    "        return countrySizes;\n",
    "    }\n",
    "\n",
    "    public long solve() {\n",
    "        ArrayList<Integer> countrySizes = traversal();\n",
    "        long sum = 0, result=0;\n",
    "        for(int size : countrySizes){\n",
    "           result += sum*size;\n",
    "           sum += size;    \n",
    "         }   \n",
    "        return result;\n",
    "    }\n",
    "}\n",
    "Solution.main(args);"
   ]
  },
  {
   "cell_type": "code",
   "execution_count": 17,
   "metadata": {},
   "outputs": [],
   "source": [
    "/*\n",
    "Input\n",
    "\n",
    "5 3\n",
    "0 1\n",
    "2 3\n",
    "0 4\n",
    "\n",
    "Output\n",
    "\n",
    "6\n",
    "*/"
   ]
  },
  {
   "cell_type": "code",
   "execution_count": 19,
   "metadata": {},
   "outputs": [],
   "source": [
    "/*\n",
    "Description\n",
    "\n",
    "The question demands the concept of using disjoint sets. (find and union with rank and path compression).\n",
    "\n",
    "However, this method below using DFS also works (which I think i pretty similar to the editorial) :\n",
    "\n",
    "We need to find the distinct sets (i.e. if x and y are from same country, they belong to same set) to get the answer.\n",
    "    Let's say set A has a elements,set B has b elements.\n",
    "\n",
    "Answer = a x b. [Because actual formula is to select one from set A and another one from set B = aC1 x bC1 = a x b]\n",
    "\n",
    "Similarly, let's calculate answer for 4 sets - A,B,C,D with a,b,c,d elements respectively.\n",
    "\n",
    "Lets say somehow I find set A has a elements.\n",
    "\n",
    "Answer = 0 (Since I don't have another country to pair with)\n",
    "\n",
    "Now, I find set B with b elements.\n",
    "\n",
    "Answer = axb; .................................................(1)\n",
    "\n",
    "Then, I find set C with c elements.\n",
    "\n",
    "Answer = (axb) + (axc) + (bxc) [because we can select a pair from A and B, or A and C or B and C]\n",
    "\n",
    "But this can be written as\n",
    "\n",
    "Answer = (axb) + (a+b)xc ......................................(2)\n",
    "\n",
    "Now I find set D with d elements, and I've examined all people.\n",
    "\n",
    "Answer = (axb) + (axc) + (axd) + (bxc) + (bxd) + (cxd)\n",
    "\n",
    "Or\n",
    "\n",
    "Answer = (axb) x (a+b)xc + (a+b+c)xd ..........................(3)\n",
    "\n",
    "Do you see the pattern? \n",
    "    That means when we find a new set, the new answer is the old answer + the sum of old values x new value.\n",
    "\n",
    "Now, how do we find the people of same country?\n",
    "\n",
    "Make each person a node. Draw an edge for every input (i.e. they belong to same country)\n",
    "\n",
    "Now, run DFS starting from every node (if the node is not already visited). DFS should return the nodes in that set.\n",
    "\n",
    "Example:\n",
    "\n",
    "10 7\n",
    "0 2\n",
    "1 8\n",
    "1 4\n",
    "2 8\n",
    "2 6\n",
    "3 5\n",
    "6 9\n",
    "\n",
    "Graph:\n",
    "\n",
    "0 ---- 2 ---- 6     3     7\n",
    "          |        |      |\n",
    "          |        |      |\n",
    "1 ---- 8       9     5\n",
    "|\n",
    "|\n",
    "4\n",
    "\n",
    "3 sets {0,1,2,4,6,8,9} {3,5} {7}\n",
    "\n",
    "DFS from 0 returns \"7\"\n",
    "\n",
    "answer = 0\n",
    "\n",
    "DFS from 1 should not start [since we have vistied 1 while dfs(0)]\n",
    "\n",
    "DFS from 2 should not start ...\n",
    "\n",
    "DFS from 3 returns \"2\"\n",
    "\n",
    "answer = 7 * 2 = 14\n",
    "\n",
    "DFS from 7 returns \"1\"\n",
    "\n",
    "answer = 14 + (7+2)*1\n",
    "\n",
    "answer = 23\n",
    "*/"
   ]
  },
  {
   "cell_type": "markdown",
   "metadata": {},
   "source": [
    "## **422. Even Tree**\n",
    "https://www.hackerrank.com/challenges/even-tree/problem"
   ]
  },
  {
   "cell_type": "code",
   "execution_count": 21,
   "metadata": {},
   "outputs": [],
   "source": [
    "/*\n",
    "View Question Link For Question Description\n",
    "*/"
   ]
  },
  {
   "cell_type": "code",
   "execution_count": 22,
   "metadata": {},
   "outputs": [],
   "source": [
    "/*\n",
    "Problem Overview\n",
    "\n",
    "Given a tree print the maximum number of edges that can be removed to form a forest(a disjoint union of trees) \n",
    "    in which each connected component of the forest should contain an even number of vertices.\n",
    "\n",
    "Also, note that the input graph will be such that it can always be decomposed into components \n",
    "    containing an even number of nodes which indirectly means that N is even.\n",
    "*/"
   ]
  },
  {
   "cell_type": "code",
   "execution_count": 24,
   "metadata": {},
   "outputs": [],
   "source": [
    "/*\n",
    "Approach\n",
    "\n",
    "What we need is a subtree that has even number of vertices \n",
    "and as we get it we can remove the edge that connects it to the remaining of the tree \n",
    "so that we are left with a subtree of even vertices\n",
    "and the remaining tree with vertices N -(No. of vertices in the subtree removed). \n",
    "Now we are left with the same problem again with remaining tree having even number of vertices \n",
    "because remember that N is even so even-even=even, \n",
    "so we have to repeat this algorithm until the remaining tree cannot be decomposed further in the above manner. \n",
    "To maximize the number of subtree remove(which is equal to the number of edges removed) \n",
    "we have to remove subtree which cannot be decomposed in the above manner.\n",
    "\n",
    "\n",
    "To do this we can traverse the tree using dfs and the dfs function \n",
    "should return the number of vertices in the subtree of which the current node is the root. \n",
    "If a node gets in return an even number of vertices from one of it child \n",
    "    then the edge from that node to its child should be removed \n",
    "and if the number is odd add it to the number of vertices that the subtree will have \n",
    "    if the current node is the root of it.\n",
    "*/"
   ]
  },
  {
   "cell_type": "code",
   "execution_count": 25,
   "metadata": {},
   "outputs": [],
   "source": [
    "// ans is total number of edges removed and al is adjacency list of the tree.\n",
    "int dfs(int node)\n",
    "{\n",
    "    visit[node]=true;\n",
    "    int num_vertex=0;\n",
    "    for(int i=0;i<al[node].size();i++)\n",
    "    {\n",
    "        if(!visit[al[node][i]])\n",
    "        {\n",
    "            int num_nodes=dfs(al[node][i]);\n",
    "            if(num_nodes%2==0)\n",
    "                ans++;\n",
    "            else\n",
    "                num_vertex+=num_nodes;\n",
    "        }\n",
    "    }\n",
    "    return num_vertex+1;\n",
    "}"
   ]
  },
  {
   "cell_type": "code",
   "execution_count": 26,
   "metadata": {},
   "outputs": [],
   "source": [
    "/*\n",
    "Note: You can start the dfs from any node assuming that it's the root because it will have no effect on the answer.\n",
    "*/"
   ]
  },
  {
   "cell_type": "markdown",
   "metadata": {},
   "source": [
    "***https://ideone.com/06zevg***"
   ]
  },
  {
   "cell_type": "code",
   "execution_count": 27,
   "metadata": {},
   "outputs": [],
   "source": [
    "/*\n",
    "Try counting the children. \n",
    "If the subtree has even number of nodes \n",
    "    then the edge leading to this subtree can be removed. \n",
    "Otherwise, \n",
    "    you have to keep on searching until you find a suitable edge or the entire tree exhausted.\n",
    "As it always can be decomposed into forests of even number of nodes, \n",
    "    you will always end up with an answer greater than 1.\n",
    "*/"
   ]
  },
  {
   "cell_type": "markdown",
   "metadata": {},
   "source": [
    "## **423. Course Schedule II**\n",
    "https://leetcode.com/problems/course-schedule-ii/description/"
   ]
  },
  {
   "cell_type": "code",
   "execution_count": 28,
   "metadata": {},
   "outputs": [],
   "source": [
    "/*\n",
    "View Question Link For Both Description and Solution\n",
    "*/"
   ]
  },
  {
   "cell_type": "markdown",
   "metadata": {},
   "source": [
    "**Solution :**   ***https://leetcode.com/problems/course-schedule-ii/solution/***  "
   ]
  },
  {
   "cell_type": "markdown",
   "metadata": {},
   "source": [
    "## **424. Mancunian And Liverbird Go Bar Hopping**\n",
    "https://www.hackerearth.com/practice/algorithms/graphs/graph-representation/practice-problems/algorithm/mancunian-and-liverbird-go-bar-hopping-2/"
   ]
  },
  {
   "cell_type": "code",
   "execution_count": 31,
   "metadata": {},
   "outputs": [],
   "source": [
    "/*\n",
    "View Question Link For Question Description\n",
    "*/"
   ]
  },
  {
   "cell_type": "code",
   "execution_count": 30,
   "metadata": {},
   "outputs": [],
   "source": [
    "/*\n",
    "Update as given here, will toggle direction of all the edges. \n",
    "Hence there are only two configurations possible for the (linear) graph.\n",
    "We will precompute answer for every node for both configurations.\n",
    "\n",
    "For each configuration, \n",
    "    we can find maximum reachable nodes from each node on either side(left and right). \n",
    "    Consider given configuration(when its not toggled). \n",
    "For a particular node a, if edge from (a-1) node points to a,\n",
    "\n",
    "    number of left reachable nodes from a = number of left reachable nodes from (a-1) + 1\n",
    "    \n",
    "else, number of left reachable nodes from a = 1(itself).\n",
    "\n",
    "In this way,\n",
    "    we can generate number of left reachable nodes from any node by traversing left to right. \n",
    "In similar fashion, \n",
    "    we can generate number of right reachable nodes by traversing from right to left, and answer for each query will be\n",
    "    \n",
    "    number of left reachable nodes + number of right reachable nodes - 1\n",
    "    \n",
    "Subtracting one, because node itself is counted twice.\n",
    "\n",
    "This should be done for both configurations, \n",
    "    now each query and update can be performed in O(1), by doing pre computation in O(n).\n",
    "*/"
   ]
  },
  {
   "cell_type": "markdown",
   "metadata": {},
   "source": [
    "***https://ideone.com/IHNdG6***"
   ]
  },
  {
   "cell_type": "markdown",
   "metadata": {},
   "source": [
    "***https://ideone.com/wa4Gq1***"
   ]
  },
  {
   "cell_type": "markdown",
   "metadata": {},
   "source": [
    "## **425. Cheapest Flights Within K Stops**\n",
    "https://leetcode.com/problems/cheapest-flights-within-k-stops/description/"
   ]
  },
  {
   "cell_type": "code",
   "execution_count": 32,
   "metadata": {},
   "outputs": [],
   "source": [
    "/*\n",
    "View Question Link For Question Description\n",
    "*/"
   ]
  },
  {
   "cell_type": "markdown",
   "metadata": {},
   "source": [
    "***https://leetcode.com/problems/cheapest-flights-within-k-stops/discuss/516723/Four-Method-To-Solve-This-Program***"
   ]
  },
  {
   "cell_type": "code",
   "execution_count": 34,
   "metadata": {},
   "outputs": [],
   "source": [
    "/*\n",
    "The idea is Dijkstra's Algorithm. However, we need to modify it.\n",
    "\n",
    "Brief Explanation of Correctness:\n",
    "The proof of Dijkstra's Algorithm will not be repeated here. \n",
    "We just say that the original graph G can be modified into a subgraph G' where only the nodes and edges can be visited in (K+1) steps are kept (not sure if dst is included).\n",
    "\n",
    "If we run Dijkstra's on subgraph G' and dst is in G', it should be shortest path from src to dst.\n",
    "\n",
    "Algorithm:\n",
    "\n",
    "Initially push the src into the heap\n",
    "for every step:\n",
    "1. check if the current top element in heap is dst. If so return its costFromSrc;\n",
    "2. Push every adjacent edge into the heap if the distance is less than k;\n",
    "3. If it is larger than k, no more neighbors get pushed into the heap;\n",
    "If until the end, we cannot find dst, return -1;\n",
    "*/"
   ]
  },
  {
   "cell_type": "code",
   "execution_count": 35,
   "metadata": {},
   "outputs": [],
   "source": [
    "class Pair {\n",
    "    int city, cost;\n",
    "\n",
    "    Pair(int city, int cost) {\n",
    "        this.city = city;\n",
    "        this.cost = cost;\n",
    "    }\n",
    "}\n",
    "\n",
    "class City {\n",
    "    int city, distFromSrc, costFromSrc;\n",
    "\n",
    "    City(int city, int distFromSrc, int cost) {\n",
    "        this.city = city;\n",
    "        this.distFromSrc = distFromSrc;\n",
    "        this.costFromSrc = cost;\n",
    "    }\n",
    "}"
   ]
  },
  {
   "cell_type": "code",
   "execution_count": 37,
   "metadata": {},
   "outputs": [],
   "source": [
    "class Solution {\n",
    "\n",
    "    public int findCheapestPrice(int n, int[][] flights, int src, int dst, int K) {\n",
    "        // DFS\n",
    "        if(n <= 0 || flights == null || flights.length == 0 || K < 0)\n",
    "            return -1;\n",
    "\n",
    "        List<List<Pair>> graph = new ArrayList<>();\n",
    "        this.buildGraph(graph, n, flights);\n",
    "\n",
    "        Queue<City> pQueue = new PriorityQueue<>((City c1, City c2) -> c1.costFromSrc - c2.costFromSrc);\n",
    "        pQueue.offer(new City(src, 0, 0));\n",
    "\n",
    "        int totalCost = 0;\n",
    "\n",
    "        while (!pQueue.isEmpty()) {\n",
    "            City top = pQueue.poll();\n",
    "\n",
    "            if (top.city == dst) {\n",
    "                return top.costFromSrc;\n",
    "            }\n",
    "\n",
    "            if (top.distFromSrc > K) {\n",
    "                continue;\n",
    "            }\n",
    "\n",
    "            List<Pair> neighbors = graph.get(top.city);\n",
    "            for (Pair neighbor: neighbors) {\n",
    "                pQueue.offer(new City(neighbor.city, top.distFromSrc + 1, top.costFromSrc + neighbor.cost));\n",
    "            }\n",
    "        }\n",
    "\n",
    "        return -1;\n",
    "    }\n",
    "\n",
    "    private void buildGraph(List<List<Pair>> graph, int n, int[][] flights) {\n",
    "        for (int i = 0; i < n; i++) {\n",
    "            graph.add(new ArrayList<>());\n",
    "        }\n",
    "\n",
    "        for (int[] flight: flights) {\n",
    "            graph.get(flight[0]).add(new Pair(flight[1], flight[2]));\n",
    "        }\n",
    "    }\n",
    "}"
   ]
  },
  {
   "cell_type": "markdown",
   "metadata": {},
   "source": [
    "***https://leetcode.com/problems/cheapest-flights-within-k-stops/discuss/434585/Java-Dijkstra's-Algorithm-Clean-and-Easy-to-Understand***"
   ]
  },
  {
   "cell_type": "code",
   "execution_count": 40,
   "metadata": {},
   "outputs": [
    {
     "name": "stdout",
     "output_type": "stream",
     "text": [
      "200\n"
     ]
    }
   ],
   "source": [
    "int n = 3;\n",
    "int edges[][] = {{0,1,100},\n",
    "             {1,2,100},\n",
    "             {0,2,500}};\n",
    "int src = 0;\n",
    "int dest = 2;\n",
    "int k = 1;\n",
    "Solution s  =new Solution();\n",
    "int out = s.findCheapestPrice(n,edges,src,dest,k);\n",
    "System.out.println(out);\n",
    "//Output: 200"
   ]
  },
  {
   "cell_type": "markdown",
   "metadata": {},
   "source": [
    "## **426. Dhoom 4**\n",
    "https://www.hackerearth.com/practice/algorithms/graphs/breadth-first-search/practice-problems/algorithm/dhoom-4/"
   ]
  },
  {
   "cell_type": "code",
   "execution_count": 41,
   "metadata": {},
   "outputs": [],
   "source": [
    "/*\n",
    "Samarpit is the main hero of the Dhoom 4.\n",
    "He is trying to steal from the Code Bank Of Hackers.\n",
    "Samarpit has a key with an integer value printed on it. \n",
    "He also has N other keys with each key having its own specific value.\n",
    "Samarpit is trying to break the Lock for which he is supposed to get to the lock's key value. \n",
    "He can perform one type of operation.\n",
    "    Take his own key and one of the other N keys and merge them.\n",
    "    During merging Samarpit's Key value changes to product of both the keys modulus 100000.\n",
    "\n",
    "For example \n",
    "\n",
    "if his key value was X and he took a key with value Y \n",
    "    the his new key will be (X*Y)%100000.\n",
    "The other key that was used during the merging process remains along with other N-1 keys.\n",
    "\n",
    "This entire process of merging takes 1 second.\n",
    "    Now since he is in a hurry he asks to you to find the minimum time in which he could reach to the lock's key value.\n",
    "*/"
   ]
  },
  {
   "cell_type": "code",
   "execution_count": 42,
   "metadata": {},
   "outputs": [],
   "source": [
    "/*\n",
    "Input:\n",
    "The first line contains 2 integers they are Samarpit's Key value and the Lock's key value.\n",
    "The second line contains N indicating the number of other keys Samarpit has.\n",
    "Third line contains N space separated integers indicating the value of N other keys.\n",
    "\n",
    "Output:\n",
    "The minimum time required to get to the Lock's Key.If he is unable to reach that print -1.\n",
    "\n",
    "Constraints:\n",
    "1 ≤ N ≤ 1000\n",
    "1 ≤ Value of all the keys ≤ 100000\n",
    "*/"
   ]
  },
  {
   "cell_type": "code",
   "execution_count": 43,
   "metadata": {},
   "outputs": [],
   "source": [
    "/*\n",
    "Example--\n",
    "\n",
    "SAMPLE INPUT \n",
    "3 30\n",
    "3\n",
    "2 5 7\n",
    "\n",
    "SAMPLE OUTPUT \n",
    "2\n",
    "\n",
    "Explanation\n",
    "In the first second he can take make his own key to value 6 by multiplying it by 2.\n",
    "Then in the next second he can multiply his new key with 5 to get to 30.\n",
    "*/"
   ]
  },
  {
   "cell_type": "code",
   "execution_count": 44,
   "metadata": {},
   "outputs": [],
   "source": [
    "/*\n",
    "This question was a basic graph question. \n",
    "As one can see there can be maximum of 10^5 states \n",
    "    so we can check all these states by applying a simple BFS.\n",
    "Since each time a new state is discovered we can mark it so that we do not visit it the next time .\n",
    "States here refer to a new key value obtained after the merging process.\n",
    "*/"
   ]
  },
  {
   "cell_type": "markdown",
   "metadata": {},
   "source": [
    "***https://ideone.com/tS1Ne2***"
   ]
  },
  {
   "cell_type": "markdown",
   "metadata": {},
   "source": [
    "***https://ideone.com/6jrJbp***"
   ]
  },
  {
   "cell_type": "code",
   "execution_count": 46,
   "metadata": {},
   "outputs": [
    {
     "name": "stdout",
     "output_type": "stream",
     "text": [
      "3 30 3 2 5 7\n",
      "2\n"
     ]
    }
   ],
   "source": [
    "public static void main(String args[]) {\n",
    "\n",
    "    Scanner in = new Scanner(System.in);\n",
    "\n",
    "    int ownKey = in.nextInt();\n",
    "    int lockKey = in.nextInt();\n",
    "\n",
    "    int n = in.nextInt();\n",
    "    int keys[] = new int[n];\n",
    "\n",
    "    for (int i = 0; i < n; i++) {\n",
    "        keys[i] = in.nextInt();\n",
    "    }\n",
    "\n",
    "    HashMap<Integer, Integer> time = new HashMap<Integer, Integer>();   // to store time taken\n",
    "    time.put(ownKey, 0);\n",
    "\n",
    "    Queue<Integer> q = new LinkedList<Integer>();     \t\t\t\t\t       // to keep track of a visited combination\n",
    "\n",
    "    q.add(ownKey);\n",
    "    while (!q.isEmpty()) {\n",
    "        int element = q.remove();\n",
    "\n",
    "        if (element == lockKey) {\t\t\t\t\t\t\t\t\t                    \t// if we found the combination, return value from the hashmap\n",
    "            System.out.println(time.get(element));\n",
    "            return;\n",
    "        }\n",
    "\n",
    "        for (int i = 0; i < n; i++) {\t\t\t\t\t\t\t\t\t                  // else create more initial keys\n",
    "            long prod = (((long) element) * keys[i]) % 100000;\n",
    "\n",
    "            if (!time.containsKey((int) prod)) {\n",
    "                time.put((int) prod, time.get(element) + 1);\t\t      \t// we store time 1 greater than previous sice we are going to next level.\n",
    "                q.add((int) prod);\n",
    "            }\n",
    "        }\n",
    "\n",
    "    }\n",
    "\n",
    "    System.out.println(-1);\n",
    "}\n",
    "main(args);"
   ]
  },
  {
   "cell_type": "markdown",
   "metadata": {},
   "source": [
    "**Related Link :**  ***http://laymansalgo.blogspot.com/2017/09/hacker-earth-tutorial-dhoom4-easy.html***"
   ]
  },
  {
   "cell_type": "code",
   "execution_count": null,
   "metadata": {},
   "outputs": [
    {
     "name": "stdout",
     "output_type": "stream",
     "text": [
      "3 30 3 2 5 7\n",
      "2\n"
     ]
    }
   ],
   "source": [
    "public class BigO22002 {\n",
    "\n",
    "    private static boolean[] checked = new boolean[100000];\n",
    "    private static int[] keys;\n",
    "\n",
    "    public static void main(String[] args) {\n",
    "        Scanner userInput = new Scanner(System.in);\n",
    "        int k1 = userInput.nextInt();\n",
    "        int lock = userInput.nextInt();\n",
    "        int numKeys = userInput.nextInt();\n",
    "        keys = new int[numKeys];\n",
    "        for (int i = 0; i < numKeys; i++) {\n",
    "            keys[i] = userInput.nextInt();\n",
    "        }\n",
    "        userInput.close();\n",
    "        Queue<Integer> q1 = new LinkedList<>();\n",
    "        Queue<Integer> q2 = new LinkedList<>();\n",
    "        checked[k1] = true;\n",
    "        q1.add(k1);\n",
    "        int count = 0;\n",
    "        while (!q1.isEmpty()) {\n",
    "            count++;\n",
    "            while (!q1.isEmpty()) {\n",
    "                int k = q1.remove();\n",
    "                for (int i = 0; i < numKeys; i++) {\n",
    "                    int K = (int)(((long)k * keys[i]) % 100000);\n",
    "                    if (K == lock) {\n",
    "                        System.out.println(count);\n",
    "                        System.exit(0);\n",
    "                    } else if (checked[K] == false) {\n",
    "                        q2.add(K);\n",
    "                        checked[K] = true;\n",
    "                    }\n",
    "                }\n",
    "            }\n",
    "            q1 = q2;\n",
    "            q2 = new LinkedList<>();\n",
    "        }\n",
    "        System.out.println(-1);\n",
    "    }\n",
    "\n",
    "}\n",
    "BigO22002.main(args);"
   ]
  },
  {
   "cell_type": "markdown",
   "metadata": {},
   "source": [
    "## **427. Monk and the Islands**\n",
    "https://www.hackerearth.com/practice/algorithms/graphs/breadth-first-search/practice-problems/algorithm/monk-and-the-islands/"
   ]
  },
  {
   "cell_type": "code",
   "execution_count": 3,
   "metadata": {},
   "outputs": [],
   "source": [
    "/*\n",
    "Monk visits the land of Islands. \n",
    "There are a total of N islands numbered from 1 to N. \n",
    "Some pairs of islands are connected to each other by Bidirectional bridges running over water.\n",
    "\n",
    "Monk hates to cross these bridges as they require a lot of efforts. \n",
    "He is standing at Island #1 and wants to reach the Island #N. \n",
    "Find the minimum the number of bridges that he shall have to cross, if he takes the optimal route.\n",
    "*/"
   ]
  },
  {
   "cell_type": "code",
   "execution_count": 4,
   "metadata": {},
   "outputs": [],
   "source": [
    "/*\n",
    "Input:\n",
    "First line contains T. T testcases follow.\n",
    "First line of each test case contains two space-separated integers N, M.\n",
    "Each of the next M lines contains two space-separated integers X and Y ,\n",
    "denoting that there is a bridge between Island X and Island Y.\n",
    "\n",
    "Output:\n",
    "Print the answer to each test case in a new line.\n",
    "\n",
    "Constraints:\n",
    "1 ≤ T ≤ 10\n",
    "1 ≤ N ≤ 104\n",
    "1 ≤ M ≤ 105\n",
    "1 ≤ X, Y ≤ N\n",
    "*/"
   ]
  },
  {
   "cell_type": "code",
   "execution_count": 5,
   "metadata": {},
   "outputs": [],
   "source": [
    "/*\n",
    "Example--\n",
    "\n",
    "SAMPLE INPUT \n",
    "2\n",
    "3 2\n",
    "1 2\n",
    "2 3\n",
    "4 4\n",
    "1 2\n",
    "2 3\n",
    "3 4\n",
    "4 2\n",
    "\n",
    "SAMPLE OUTPUT \n",
    "2\n",
    "2\n",
    "*/"
   ]
  },
  {
   "cell_type": "code",
   "execution_count": 6,
   "metadata": {},
   "outputs": [],
   "source": [
    "/*\n",
    "Prerequisites: BFS, Graph Theory\n",
    "\n",
    "Problem:  \n",
    "\n",
    "If you think of the islands as the vertices of a graph, \n",
    "the bridges become the edges of the graph as every bridge connects two islands in the same way \n",
    "    that every edge connects two vertices.\n",
    "Now, the question asks us to find the shortest path from vertex 1 to vertex N on an unweighted graph.\n",
    "\n",
    "Solution: \n",
    "\n",
    "To do this you can run a breadth-first search from vertex 1. \n",
    "The path taken by the breadth-first search to reach vertex N is guaranteed to be the shortest path from vertex 1 to N.\n",
    "The following solution uses BFS for computing number of edges(bridges).\n",
    "I would recommend you to read basic concepts of BFS.\n",
    "\n",
    "Operation – 1: \n",
    "\n",
    "Initially we create an array of nodes with each node being a SET. \n",
    "Corresponding to the set array, we create a visit array to check whether a node has been visited or not. \n",
    "Initially visit array is set to false.\n",
    "\n",
    "Operation – 2: \n",
    "\n",
    "For each pair p(a,b), we add a connection from a to b and b to a i.e. \n",
    "we push ‘a’ to the set node[b] and we push ‘b’ to the set node[a]. \n",
    "At the same time we reset visit[a] and visit[b] to false to mark them as not visited.\n",
    "\n",
    "Operation – 3: \n",
    "\n",
    "Now we apply BFS to traverse and count the nodes. \n",
    "Inside BFS function we initialize a queue with starting node that is 1. \n",
    "Then we level order traverse. We keep a track of number of nodes encountered for every node. \n",
    "\n",
    "For ex:\n",
    "\n",
    "For pairs\n",
    "1 2\n",
    "1 4\n",
    "2 3\n",
    "\n",
    "1{0} -> 2{1} -> 3{2} -> 4{1}\n",
    "\n",
    "Note: We use Fast IO technique for faster input and output.\n",
    "*/"
   ]
  },
  {
   "cell_type": "markdown",
   "metadata": {},
   "source": [
    "***https://ideone.com/QhGmqJ***"
   ]
  },
  {
   "cell_type": "code",
   "execution_count": 8,
   "metadata": {},
   "outputs": [],
   "source": [
    "static class InputReader {\n",
    "\n",
    "    private InputStream stream;\n",
    "    private byte[] buf = new byte[8192];\n",
    "    private int curChar, snumChars;\n",
    "    private SpaceCharFilter filter;\n",
    "\n",
    "    public InputReader(InputStream stream) {\n",
    "        this.stream = stream;\n",
    "    }\n",
    "\n",
    "    public int snext() {\n",
    "        if (snumChars == -1)\n",
    "            throw new InputMismatchException();\n",
    "        if (curChar >= snumChars) {\n",
    "            curChar = 0;\n",
    "            try {\n",
    "                snumChars = stream.read(buf);\n",
    "            } catch (IOException e) {\n",
    "                throw new InputMismatchException();\n",
    "            }\n",
    "            if (snumChars <= 0)\n",
    "                return -1;\n",
    "        }\n",
    "        return buf[curChar++];\n",
    "    }\n",
    "\n",
    "    public int nextInt() {\n",
    "        int c = snext();\n",
    "        while (isSpaceChar(c))\n",
    "            c = snext();\n",
    "        int sgn = 1;\n",
    "        if (c == '-') {\n",
    "            sgn = -1;\n",
    "            c = snext();\n",
    "        }\n",
    "        int res = 0;\n",
    "        do {\n",
    "            if (c < '0' || c > '9')\n",
    "                throw new InputMismatchException();\n",
    "            res *= 10;\n",
    "            res += c - '0';\n",
    "            c = snext();\n",
    "        } while (!isSpaceChar(c));\n",
    "        return res * sgn;\n",
    "    }\n",
    "\n",
    "    public long nextLong() {\n",
    "        int c = snext();\n",
    "        while (isSpaceChar(c))\n",
    "            c = snext();\n",
    "        int sgn = 1;\n",
    "        if (c == '-') {\n",
    "            sgn = -1;\n",
    "            c = snext();\n",
    "        }\n",
    "        long res = 0;\n",
    "        do {\n",
    "            if (c < '0' || c > '9')\n",
    "                throw new InputMismatchException();\n",
    "            res *= 10;\n",
    "            res += c - '0';\n",
    "            c = snext();\n",
    "        } while (!isSpaceChar(c));\n",
    "        return res * sgn;\n",
    "    }\n",
    "\n",
    "    public int[] nextIntArray(int n) {\n",
    "        int a[] = new int[n];\n",
    "        for (int i = 0; i < n; i++)\n",
    "            a[i] = nextInt();\n",
    "        return a;\n",
    "    }\n",
    "\n",
    "    public String readString() {\n",
    "        int c = snext();\n",
    "        while (isSpaceChar(c))\n",
    "            c = snext();\n",
    "        StringBuilder res = new StringBuilder();\n",
    "        do {\n",
    "            res.appendCodePoint(c);\n",
    "            c = snext();\n",
    "        } while (!isSpaceChar(c));\n",
    "        return res.toString();\n",
    "    }\n",
    "\n",
    "    public boolean isSpaceChar(int c) {\n",
    "        if (filter != null)\n",
    "            return filter.isSpaceChar(c);\n",
    "        return c == ' ' || c == '\\n' || c == '\\r' || c == '\\t' || c == -1;\n",
    "    }\n",
    "\n",
    "    public interface SpaceCharFilter {\n",
    "        public boolean isSpaceChar(int ch);\n",
    "    }\n",
    "}"
   ]
  },
  {
   "cell_type": "code",
   "execution_count": 9,
   "metadata": {},
   "outputs": [],
   "source": [
    "static class Graph {\n",
    "    int V;\n",
    "    List<Integer>[] adjs;\n",
    "\n",
    "    Graph(int nodes) {\n",
    "        V = nodes;\n",
    "        adjs = (List<Integer>[]) new List[nodes + 1];\n",
    "        for (int v = 0; v <= nodes; v++)\n",
    "            adjs[v] = new ArrayList<>();\n",
    "    }\n",
    "\n",
    "    void addEdge(int source, int dest) {\n",
    "        adjs[source].add(dest);\n",
    "        adjs[dest].add(source);\n",
    "    }\n",
    "\n",
    "    Iterable<Integer> ads(int v){\n",
    "        return adjs[v];\n",
    "    }\n",
    "\n",
    "    int MinHopPathFor(int N){\n",
    "        if(N == 1)\n",
    "            return 0;\n",
    "\n",
    "        Queue<Integer> nodes = new LinkedList<>();\n",
    "        Queue<Integer> hopsRequired = new LinkedList<>();\n",
    "        nodes.add(1);\n",
    "        hopsRequired.add(1);\n",
    "        boolean[] visited = new boolean[N];\n",
    "\n",
    "        while (!nodes.isEmpty()){\n",
    "            Integer node = nodes.remove();\n",
    "            int hops = hopsRequired.remove();\n",
    "            for (Integer vertex : ads(node)){\n",
    "                if (vertex == N)\n",
    "                    return hops;\n",
    "                nodes.add(vertex);\n",
    "                hopsRequired.add(hops+1);\n",
    "            }\n",
    "        }\n",
    "\n",
    "        return -1;\n",
    "    }\n",
    "}"
   ]
  },
  {
   "cell_type": "code",
   "execution_count": 10,
   "metadata": {},
   "outputs": [
    {
     "name": "stdout",
     "output_type": "stream",
     "text": [
      "2 3 2 1 2 2 3 4 4 1 2 2 3 3 4 4 2\n",
      "2\n",
      "2\n"
     ]
    }
   ],
   "source": [
    "public static void main(String[] args) {\n",
    "    InputReader in = new InputReader(System.in);\n",
    "    PrintWriter out = new PrintWriter(System.out);\n",
    "\n",
    "    int T = in.nextInt();\n",
    "    for (int i = 0; i < T; i++) {\n",
    "        int N = in.nextInt();\n",
    "        int M = in.nextInt();\n",
    "        Graph graph = new Graph(N);\n",
    "        for (int j = 0; j < M; j++) {\n",
    "            graph.addEdge(in.nextInt(), in.nextInt());\n",
    "        }\n",
    "        out.println(graph.MinHopPathFor(N));\n",
    "    }\n",
    "    out.close();\n",
    "}\n",
    "main(args);"
   ]
  },
  {
   "cell_type": "markdown",
   "metadata": {},
   "source": [
    "## **428. Connected Horses**\n",
    "https://www.hackerearth.com/practice/algorithms/graphs/breadth-first-search/practice-problems/algorithm/connected-horses-10/"
   ]
  },
  {
   "cell_type": "markdown",
   "metadata": {},
   "source": [
    "<img src = \"data:image/png;base64,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\"/>"
   ]
  },
  {
   "cell_type": "markdown",
   "metadata": {},
   "source": [
    "<img src = \"data:image/png;base64,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\"/>"
   ]
  },
  {
   "cell_type": "markdown",
   "metadata": {},
   "source": [
    "<img src = \"data:image/png;base64,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\"/>"
   ]
  },
  {
   "cell_type": "code",
   "execution_count": 12,
   "metadata": {},
   "outputs": [],
   "source": [
    "/*\n",
    "Brief Description:\n",
    "\n",
    "Given three integers N,M and Q where N,M is the size of the board and Q is the number of horses on it.\n",
    "Q lines follow each containing the 2 integers X and Y which are the coordinates of the Horses.\n",
    "\n",
    "output the number of photographs taken by photographer \n",
    "(The multiplication of factorials of number of each connected group of horses).\n",
    "\n",
    "Pre-requisites:\n",
    "\n",
    "Dynamic Programming Concept, DFS, Math.\n",
    "\n",
    "Difficulty Level: \n",
    "\n",
    "Easy - Medium.\n",
    "\n",
    "Hints:\n",
    "\n",
    "Use (DFS) to traverse the board and counting the number of horses\n",
    "int each connected group, then find the factorial of this number.\n",
    "Apply the same concept in each connected group of horses.\n",
    "*/"
   ]
  },
  {
   "cell_type": "code",
   "execution_count": 13,
   "metadata": {},
   "outputs": [],
   "source": [
    "/*\n",
    "Detailed Editorial:\n",
    "\n",
    "This Question depends on your Graph Skills (DFS), Math Skills.\n",
    "\n",
    "Firstly:\n",
    "\n",
    "Check this condition \"Now these horses are not the usual horses which could jump\n",
    "to any of the 8 positions they usually jump in. They can move only if there is another\n",
    "horse on one of the 8-positions that it can go to usually and then both the horses\n",
    "will swap their positions. This swapping can happen infinitely times.\"\n",
    "\n",
    "So you should count how many horses in a connected group.\n",
    "\n",
    "Note: Connected group means that you can swap any 2 horses in the\n",
    "group in some number of movements.\n",
    "\n",
    "So You should use a DFS to traverse each group and check how many\n",
    "horses in each group, as you can swap them with each other.\n",
    "\n",
    "Secondly:\n",
    "\n",
    "If you have for instance 5 horses in a group, how many number of ways\n",
    "you can swap them ?\n",
    "\n",
    "Note: This Question has the same meaning of \"how to arrange n horses in r places ?\"\n",
    "\n",
    "So you can use this law in counting:\n",
    "*/"
   ]
  },
  {
   "cell_type": "markdown",
   "metadata": {},
   "source": [
    "<img src = \"data:image/png;base64,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\"/>"
   ]
  },
  {
   "cell_type": "code",
   "execution_count": 14,
   "metadata": {},
   "outputs": [],
   "source": [
    "/*\n",
    "Thirdly:\n",
    "\n",
    "So now how to calculate the factorial ?\n",
    "\n",
    "Note: you can't calculate the factorial each time you want because this\n",
    "will result in Time Limit Exceeded, as each factorial take .\n",
    "\n",
    "So you should use DP for that:\n",
    "\n",
    "void pre_calculate(){       // calculating factorial\n",
    "\n",
    "    factorial[0] = 1;\n",
    "    for(long long i = 1; i <= 1e6; i++){\n",
    "        factorial[i] = (factorial[i - 1] * i) % mod;\n",
    "    }\n",
    "}\n",
    "\n",
    "\n",
    "In last:\n",
    "\n",
    "You should multiply all groups factorials with each other to get the\n",
    "number of ways for different photographs.\n",
    "*/"
   ]
  },
  {
   "cell_type": "code",
   "execution_count": 15,
   "metadata": {},
   "outputs": [],
   "source": [
    "/*\n",
    "Time Complexity : O(N^2)\n",
    "Space Complexity : O(N^2)\n",
    "*/"
   ]
  },
  {
   "cell_type": "markdown",
   "metadata": {},
   "source": [
    "***https://ideone.com/GsrNVb***"
   ]
  },
  {
   "cell_type": "markdown",
   "metadata": {},
   "source": [
    "***https://ideone.com/0X4AVj***"
   ]
  },
  {
   "cell_type": "markdown",
   "metadata": {},
   "source": [
    "## **429. We Are On Fire**\n",
    "https://www.hackerearth.com/practice/algorithms/graphs/breadth-first-search/practice-problems/algorithm/we-are-on-fire/"
   ]
  },
  {
   "cell_type": "code",
   "execution_count": 16,
   "metadata": {},
   "outputs": [],
   "source": [
    "/*\n",
    "An intergallactic war is on. \n",
    "Aliens are throwing fire-balls at our planet and this fire is so deadly that whichever nation it hits,\n",
    "    it will wipe out not only that nation, but also spreads to any other nation which lies adjacent to it.\n",
    "\n",
    "Given an NxM map which has N x M cells.\n",
    "Each cell may have a country or else it may be the ocean. \n",
    "Fire cannot penetrate the ocean or go beyond the edges of the map \n",
    "    (a wise man managed to bound the corners preventing fire from wrapping around the corners).\n",
    "\n",
    "You will be given a initial state of the planet represented by an N x M grid consists of 0 or 1 representing ocean and nation respectively. \n",
    "Also there will be Q attacks of the fire-ball. \n",
    "After each query, you are to tell the number of nations still left unburnt.\n",
    "*/"
   ]
  },
  {
   "cell_type": "code",
   "execution_count": 17,
   "metadata": {},
   "outputs": [],
   "source": [
    "/*\n",
    "Input:\n",
    "\n",
    "First line of input contains 3 space separated integers N,M,Q where N x M is the size of the planet. \n",
    "    Q is the number of fire-ball attacks.\n",
    "N lines follow each with M values of either 0 or 1, denoting whether that particular coordinate is a nation(1) or ocean(0).\n",
    "Q lines follow. Each line has a coordinate X,Y where the next fire-ball attack takes place.\n",
    "\n",
    "Output:\n",
    "\n",
    "For each Q, output the number of nations still existing on a single line.\n",
    "\n",
    "Note:\n",
    "\n",
    "--Two countries are said to be adjacent if they share an edge.\n",
    "--Aliens can shoot the fireball at any place on the planet within its domain any number of times.\n",
    "--Once a nation is destroyed, it will continue to remain destroyed over all the forthcoming queries.\n",
    "--Large IO. Prefer scanf/printf(in C/C++).\n",
    "\n",
    "Constraints:\n",
    "\n",
    "1 ≤ N,M ≤ 103\n",
    "1 ≤ X ≤ N\n",
    "1 ≤ Y ≤ M\n",
    "1 ≤ Q ≤ 106\n",
    "\n",
    "Scoring:\n",
    "1 ≤ N,M ≤ 102 , Q ≤ 103: (30 pts)\n",
    "\n",
    "Original Constraints : (70 pts)\n",
    "*/"
   ]
  },
  {
   "cell_type": "code",
   "execution_count": 19,
   "metadata": {},
   "outputs": [],
   "source": [
    "/*\n",
    "Example :\n",
    "\n",
    "SAMPLE INPUT \n",
    "3 3 3\n",
    "0 0 0\n",
    "1 0 1\n",
    "0 1 1\n",
    "1 2\n",
    "2 2\n",
    "3 3\n",
    "\n",
    "SAMPLE OUTPUT \n",
    "4\n",
    "4\n",
    "1\n",
    "\n",
    "Explanation\n",
    "Query 1: (1,2) No nation is hit. Unburnt nations=4 (initial)\n",
    "Query 2: (2,2) No nation is hit. Still unburnt=4\n",
    "Query 3: (3,3) is hit and fire spreads to (2,3) and (3,2) also. Thus only 1 nation is left (1,2).\n",
    "*/"
   ]
  },
  {
   "cell_type": "code",
   "execution_count": 22,
   "metadata": {},
   "outputs": [],
   "source": [
    "/*\n",
    "Difficulty : Medium\n",
    "\n",
    "Pre-requisites:\n",
    "\n",
    "-Graph Theory - Connected Components/BFS/DFS\n",
    "-Implementation\n",
    "\n",
    "Explanation:\n",
    "\n",
    "Initially mark all points to 1(nation) and everything else to 0(ocean) on a N*M grid.\n",
    "You have initial count of number of nations(while taking input).\n",
    "For each query check if a nation still exists at that point. \n",
    "    If so, mark it 2(burnt) and mark all connected 1's also as 2 by applying standard DFS/BFS.\n",
    "Overall each cell will be visited at most once.\n",
    "\n",
    "Hence Complexity O(N^2)\n",
    "*/"
   ]
  },
  {
   "cell_type": "markdown",
   "metadata": {},
   "source": [
    "***https://ideone.com/GCTrwg***"
   ]
  },
  {
   "cell_type": "markdown",
   "metadata": {},
   "source": [
    "***https://ideone.com/kRV0G6***"
   ]
  },
  {
   "cell_type": "code",
   "execution_count": 23,
   "metadata": {},
   "outputs": [],
   "source": [
    "static class Reader\n",
    "{\n",
    "    final private int BUFFER_SIZE = 1 << 16;\n",
    "    private DataInputStream din;\n",
    "    private byte[] buffer;\n",
    "    private int bufferPointer, bytesRead;\n",
    "\n",
    "    public Reader()\n",
    "    {\n",
    "        din = new DataInputStream(System.in);\n",
    "        buffer = new byte[BUFFER_SIZE];\n",
    "        bufferPointer = bytesRead = 0;\n",
    "    }\n",
    "\n",
    "    public Reader(String file_name) throws IOException\n",
    "    {\n",
    "        din = new DataInputStream(new FileInputStream(file_name));\n",
    "        buffer = new byte[BUFFER_SIZE];\n",
    "        bufferPointer = bytesRead = 0;\n",
    "    }\n",
    "\n",
    "    public String readLine() throws IOException\n",
    "    {\n",
    "        byte[] buf = new byte[64]; // line length\n",
    "        int cnt = 0, c;\n",
    "        while ((c = read()) != -1)\n",
    "        {\n",
    "            if (c == '\\n')\n",
    "                break;\n",
    "            buf[cnt++] = (byte) c;\n",
    "        }\n",
    "        return new String(buf, 0, cnt);\n",
    "    }\n",
    "\n",
    "    public int nextInt() throws IOException\n",
    "    {\n",
    "        int ret = 0;\n",
    "        byte c = read();\n",
    "        while (c <= ' ')\n",
    "            c = read();\n",
    "        boolean neg = (c == '-');\n",
    "        if (neg)\n",
    "            c = read();\n",
    "        do\n",
    "        {\n",
    "            ret = ret * 10 + c - '0';\n",
    "        }  while ((c = read()) >= '0' && c <= '9');\n",
    "\n",
    "        if (neg)\n",
    "            return -ret;\n",
    "        return ret;\n",
    "    }\n",
    "\n",
    "    public long nextLong() throws IOException\n",
    "    {\n",
    "        long ret = 0;\n",
    "        byte c = read();\n",
    "        while (c <= ' ')\n",
    "            c = read();\n",
    "        boolean neg = (c == '-');\n",
    "        if (neg)\n",
    "            c = read();\n",
    "        do {\n",
    "            ret = ret * 10 + c - '0';\n",
    "        }\n",
    "        while ((c = read()) >= '0' && c <= '9');\n",
    "        if (neg)\n",
    "            return -ret;\n",
    "        return ret;\n",
    "    }\n",
    "\n",
    "    public double nextDouble() throws IOException\n",
    "    {\n",
    "        double ret = 0, div = 1;\n",
    "        byte c = read();\n",
    "        while (c <= ' ')\n",
    "            c = read();\n",
    "        boolean neg = (c == '-');\n",
    "        if (neg)\n",
    "            c = read();\n",
    "\n",
    "        do {\n",
    "            ret = ret * 10 + c - '0';\n",
    "        }\n",
    "        while ((c = read()) >= '0' && c <= '9');\n",
    "\n",
    "        if (c == '.')\n",
    "        {\n",
    "            while ((c = read()) >= '0' && c <= '9')\n",
    "            {\n",
    "                ret += (c - '0') / (div *= 10);\n",
    "            }\n",
    "        }\n",
    "\n",
    "        if (neg)\n",
    "            return -ret;\n",
    "        return ret;\n",
    "    }\n",
    "\n",
    "    private void fillBuffer() throws IOException\n",
    "    {\n",
    "        bytesRead = din.read(buffer, bufferPointer = 0, BUFFER_SIZE);\n",
    "        if (bytesRead == -1)\n",
    "            buffer[0] = -1;\n",
    "    }\n",
    "\n",
    "    private byte read() throws IOException\n",
    "    {\n",
    "        if (bufferPointer == bytesRead)\n",
    "            fillBuffer();\n",
    "        return buffer[bufferPointer++];\n",
    "    }\n",
    "\n",
    "    public void close() throws IOException\n",
    "    {\n",
    "        if (din == null)\n",
    "            return;\n",
    "        din.close();\n",
    "    }\n",
    "}"
   ]
  },
  {
   "cell_type": "code",
   "execution_count": 24,
   "metadata": {},
   "outputs": [],
   "source": [
    "static int bfs(int curx, int cury, int n, int m, int[][] values){\n",
    "    if(curx<0 || cury<0 || curx>=n || cury>=m)return 0;\n",
    "    if(values[curx][cury]==0)return 0;\n",
    "    values[curx][cury]=0;\n",
    "    int cur = 1;\n",
    "    cur += bfs(curx+1,cury,n,m,values) + bfs(curx-1,cury,n,m,values) +\n",
    "        bfs(curx,cury+1,n,m,values) + bfs(curx,cury-1,n,m,values);\n",
    "    return cur;\n",
    "}"
   ]
  },
  {
   "cell_type": "code",
   "execution_count": 25,
   "metadata": {},
   "outputs": [
    {
     "name": "stdout",
     "output_type": "stream",
     "text": [
      "3 3 3 0 0 0 1 0 1 0 1 1 1 2 2 2 3 3\n"
     ]
    }
   ],
   "source": [
    "public static void main(String args[]) throws IOException\n",
    "{\n",
    "    Reader in=new Reader();\n",
    "    int n,m,q;\n",
    "    n=in.nextInt();\n",
    "    m=in.nextInt();\n",
    "    q=in.nextInt();\n",
    "    int c=0;\n",
    "    int a[][]=new int[n][m];\n",
    "    for(int i=0;i<n;i++)\n",
    "    {\n",
    "        for(int j=0;j<m;j++)\n",
    "        {\n",
    "            a[i][j]=in.nextInt();\n",
    "            c+=a[i][j];\n",
    "        }\n",
    "    }\n",
    "    StringBuilder sb=new StringBuilder(\"\");\n",
    "    while(q--!=0)\n",
    "    {\n",
    "        int x=in.nextInt()-1;\n",
    "        int y=in.nextInt()-1;\n",
    "        int count=bfs(x,y,n,m,a);\n",
    "        c-=count;\n",
    "        sb.append(c+\"\\n\");\n",
    "    }\n",
    "    System.out.println(sb.toString());\n",
    "}\n",
    "main(args);"
   ]
  },
  {
   "cell_type": "markdown",
   "metadata": {},
   "source": [
    "***https://ideone.com/wpdIWO***"
   ]
  },
  {
   "cell_type": "markdown",
   "metadata": {},
   "source": [
    "## **430. Mrinal and Three Musketeers**\n",
    "https://www.hackerearth.com/practice/algorithms/graphs/depth-first-search/practice-problems/algorithm/mrinal-and-three-musketeers-128f4c52/"
   ]
  },
  {
   "cell_type": "code",
   "execution_count": 26,
   "metadata": {},
   "outputs": [],
   "source": [
    "/*\n",
    "Mrinal is a cardinal in the city of Bearis. He is tired of dealing with crime by himself. \n",
    "He needs three brave warriors to help him to fight against bad guys.\n",
    "\n",
    "There are n warriors. Mrinal wants to choose three of them to become musketeers but it's not that easy. \n",
    "The most important condition is that musketeers must know each other to cooperate efficiently. \n",
    "And they shouldn't be too well known because they could be betrayed by old friends. \n",
    "For each musketeer his recognition is the number of warriors he knows, excluding other two musketeers.\n",
    "\n",
    "Help Mrinal Find if it is possible to choose three musketeers knowing each other, \n",
    "and what is minimum possible sum of their recognitions.\n",
    "\n",
    "Input The first line contains two space-separated integers,n and m (3 ≤ n ≤ 4000, 0 ≤ m ≤ 4000) — respectively \n",
    "number of warriors and number of pairs of warriors knowing each other.\n",
    "\n",
    "i-th of the following m lines contains two space-separated integers ai and bi (1 ≤ ai, bi ≤ n, ai ≠ bi).\n",
    "Warriors ai and bi know each other. Each pair of warriors will be listed at most once.\n",
    "\n",
    "Output \n",
    "\n",
    "If Mrinal can choose three musketeers, \n",
    "    print the minimum possible sum of their recognitions. \n",
    "Otherwise, \n",
    "    print \"-1\" (without the quotes).\n",
    "*/"
   ]
  },
  {
   "cell_type": "code",
   "execution_count": 27,
   "metadata": {},
   "outputs": [],
   "source": [
    "/*\n",
    "Example: \n",
    "\n",
    "SAMPLE INPUT \n",
    "5 6\n",
    "1 2\n",
    "1 3\n",
    "2 3\n",
    "2 4\n",
    "3 4\n",
    "4 5\n",
    "\n",
    "SAMPLE OUTPUT \n",
    "2\n",
    "*/"
   ]
  },
  {
   "cell_type": "code",
   "execution_count": 28,
   "metadata": {},
   "outputs": [],
   "source": [
    "static class Print {\n",
    "    private final BufferedWriter bw;\n",
    "\n",
    "    public Print() {\n",
    "        this.bw = new BufferedWriter(new OutputStreamWriter(System.out));\n",
    "    }\n",
    "\n",
    "    public void print(Object object) throws IOException {\n",
    "        bw.append(\"\" + object);\n",
    "    }\n",
    "\n",
    "    public void println(Object object) throws IOException {\n",
    "        print(object);\n",
    "        bw.append(\"\\n\");\n",
    "    }\n",
    "\n",
    "    public void close() throws IOException {\n",
    "        bw.close();\n",
    "    }\n",
    "}\n",
    "\n",
    "static class Scan {\n",
    "    private byte[] buff = new byte[1024];\n",
    "    private int index;\n",
    "    private InputStream inputStream;\n",
    "    private int total;\n",
    "\n",
    "    public Scan(InputStream stream) {\n",
    "        inputStream = stream;\n",
    "    }\n",
    "\n",
    "    private int scan() throws IOException {\n",
    "        if (total < 0)\n",
    "            throw new InputMismatchException();\n",
    "        if (index >= total) {\n",
    "            index = 0;\n",
    "            total = inputStream.read(buff);\n",
    "            if (total <= 0)\n",
    "                return -1;\n",
    "        }\n",
    "        return buff[index++];\n",
    "    }\n",
    "\n",
    "    public final int readInt() throws IOException {\n",
    "        int c = scan();\n",
    "        boolean neg = false;\n",
    "        while (isWhiteSpace(c)) {\n",
    "            c = scan();\n",
    "        }\n",
    "        char d = (char) c;\n",
    "        if (d == '-') {\n",
    "            neg = true;\n",
    "            c = scan();\n",
    "        }\n",
    "        int res = 0;\n",
    "        do {\n",
    "            res *= 10;\n",
    "            res += c - '0';\n",
    "            c = scan();\n",
    "        } while (!isWhiteSpace(c));\n",
    "        if (neg)\n",
    "            return -res;\n",
    "        return res;\n",
    "    }\n",
    "\n",
    "    public final String readString() throws IOException {\n",
    "        int c = scan();\n",
    "        while (isWhiteSpace(c)) {\n",
    "            c = scan();\n",
    "        }\n",
    "        StringBuilder res = new StringBuilder();\n",
    "        do {\n",
    "            res.append((char) c);\n",
    "            c = scan();\n",
    "        } while (!isWhiteSpace(c));\n",
    "        return res.toString();\n",
    "    }\n",
    "\n",
    "    public final long readLong() throws IOException {\n",
    "        int c = scan();\n",
    "        boolean neg = false;\n",
    "        while (isWhiteSpace(c)) {\n",
    "            c = scan();\n",
    "        }\n",
    "        char d = (char) c;\n",
    "        if (d == '-') {\n",
    "            neg = true;\n",
    "            c = scan();\n",
    "        }\n",
    "        long res = 0;\n",
    "        do {\n",
    "            res *= 10;\n",
    "            res += c - '0';\n",
    "            c = scan();\n",
    "        } while (!isWhiteSpace(c));\n",
    "        if (neg)\n",
    "            return -res;\n",
    "        return res;\n",
    "    }\n",
    "\n",
    "    private boolean isWhiteSpace(int n) {\n",
    "        if (n == ' ' || n == '\\n' || n == '\\r' || n == '\\t' || n == -1)\n",
    "            return true;\n",
    "        return false;\n",
    "    }\n",
    "\n",
    "    public final char readChar() throws IOException {\n",
    "        int c = scan();\n",
    "        while (isWhiteSpace(c)) {\n",
    "            c = scan();\n",
    "        }\n",
    "        return (char) c;\n",
    "    }\n",
    "\n",
    "}"
   ]
  },
  {
   "cell_type": "code",
   "execution_count": 29,
   "metadata": {},
   "outputs": [],
   "source": [
    "private static Scan scanner = new Scan(System.in);\n",
    "private static Print printer = new Print();"
   ]
  },
  {
   "cell_type": "code",
   "execution_count": 30,
   "metadata": {},
   "outputs": [],
   "source": [
    "public static void process() throws IOException {\n",
    "    int n = scanner.readInt();\n",
    "    int m = scanner.readInt();\n",
    "    List<List<Integer>> known = new ArrayList<List<Integer>>();\n",
    "    for (int i = 0; i <= n; i++) {\n",
    "        known.add(new ArrayList<Integer>());\n",
    "    }\n",
    "//\t\tEdge[] edges = new Edge[m];\n",
    "    for (int i = 0; i < m; i++) {\n",
    "        int x = scanner.readInt();\n",
    "        int y = scanner.readInt();\n",
    "        known.get(x).add(y);\n",
    "        known.get(y).add(x);\n",
    "    }\n",
    "//\t\tfor (int i = 1; i <= n; i++) {\n",
    "//\t\t\tprinter.println(known.get(i).size());\n",
    "//\t\t}\n",
    "    int min = Integer.MAX_VALUE;\n",
    "    for (int i = 1; i <= n; i++) {\n",
    "        List<Integer> ik = known.get(i);\n",
    "        int is = ik.size();\n",
    "        for (int j = i + 1; j <= n; j++) {\n",
    "            List<Integer> jk = known.get(j);\n",
    "            int js = jk.size();\n",
    "            if (jk.contains(i)) {\n",
    "                js--;\n",
    "                is--;\n",
    "            } else {\n",
    "                continue;\n",
    "            }\n",
    "            for (int k = j + 1; k <= n; k++) {\n",
    "                List<Integer> kk = known.get(k);\n",
    "                int ks = kk.size();\n",
    "                int curr = is + js + ks;\n",
    "                if (kk.contains(i)) {\n",
    "                    curr -= 2;\n",
    "                } else {\n",
    "                    continue;\n",
    "                }\n",
    "                if (kk.contains(j)) {\n",
    "                    curr -= 2;\n",
    "                } else {\n",
    "                    continue;\n",
    "                }\n",
    "//\t\t\t\t\tif (min > curr) {\n",
    "//\t\t\t\t\t\tprinter.println(i + \" \" + ik);\n",
    "//\t\t\t\t\t\tprinter.println(j + \" \" + jk);\n",
    "//\t\t\t\t\t\tprinter.println(k + \" \" + kk);\n",
    "//\t\t\t\t\t\tprinter.println(curr + \" \" + min);\n",
    "//\t\t\t\t\t}\n",
    "                min = Math.min(min, curr);\n",
    "            }\n",
    "        }\n",
    "    }\n",
    "    printer.println(min);\n",
    "\n",
    "}"
   ]
  },
  {
   "cell_type": "code",
   "execution_count": 32,
   "metadata": {},
   "outputs": [],
   "source": [
    "private static void add(List<Integer> group, int node) {\n",
    "    if (group.contains(node))\n",
    "        return;\n",
    "    group.add(node);\n",
    "}\n",
    "\n",
    "private static class Edge implements Comparable<Edge> {\n",
    "    public int x, y;\n",
    "\n",
    "    public Edge(int x, int y) {\n",
    "        this.x = x;\n",
    "        this.y = y;\n",
    "    }\n",
    "\n",
    "    public int compareTo(Edge o) {\n",
    "        if (x != o.x)\n",
    "            return x - o.x;\n",
    "        return y - o.y;\n",
    "    }\n",
    "\n",
    "    public boolean equals(Object obj) {\n",
    "        Edge o = (Edge) obj;\n",
    "            return x == o.x && y == o.y;\n",
    "    }\n",
    "\n",
    "    public String toString() {\n",
    "        return \"(\" + x + \", \" + y + \")\";\n",
    "    }\n",
    "}"
   ]
  },
  {
   "cell_type": "code",
   "execution_count": 33,
   "metadata": {},
   "outputs": [],
   "source": [
    "private static List<List<Integer>> groupInit(Edge[] edges) throws IOException {\n",
    "    List<List<Integer>> grps = new ArrayList<List<Integer>>();\n",
    "    int m = edges.length;\n",
    "    for (int i = 0; i < m; i++) {\n",
    "        Edge e = edges[i];\n",
    "        int x = e.x;\n",
    "        int y = e.y;\n",
    "        List<Integer> gx = null, gy = null;\n",
    "        for (List<Integer> grp : grps) {\n",
    "            if (grp.contains(x))\n",
    "                gx = grp;\n",
    "            if (grp.contains(y))\n",
    "                gy = grp;\n",
    "            if (gx != null && gy != null)\n",
    "                break;\n",
    "        }\n",
    "\n",
    "        if (gx != null && gy != null) {\n",
    "                if (!gx.equals(gy)) {\n",
    "                for (int gyi : gy)\n",
    "                    add(gx, gyi);\n",
    "                grps.remove(gy);\n",
    "                }\n",
    "        } else if (gx != null && gy == null) {\n",
    "            add(gx, y);\n",
    "        } else if (gx == null && gy != null) {\n",
    "            add(gy, x);\n",
    "        } else {\n",
    "            gx = new ArrayList<Integer>();\n",
    "            gx.add(x);\n",
    "            gx.add(y);\n",
    "            grps.add(gx);\n",
    "        }\n",
    "    }\n",
    "    return grps;\n",
    "}"
   ]
  },
  {
   "cell_type": "code",
   "execution_count": 34,
   "metadata": {},
   "outputs": [
    {
     "name": "stdout",
     "output_type": "stream",
     "text": [
      "5 6 1 2 1 3 2 3 2 4 3 4 4 5\n"
     ]
    }
   ],
   "source": [
    "public static void main(String args[]) throws Exception {\n",
    "    long st = System.currentTimeMillis();\n",
    "//\t\tscanner = new Scan(new java.io.FileInputStream(new java.io.File(\"Test.txt\")));\n",
    "    process();\n",
    "    long ed = System.currentTimeMillis();\n",
    "//\t\tprinter.println(\"Time:\" + (ed - st));\n",
    "    printer.close();\n",
    "}\n",
    "main(args);"
   ]
  },
  {
   "cell_type": "markdown",
   "metadata": {},
   "source": [
    "***https://ideone.com/upTF5e***"
   ]
  },
  {
   "cell_type": "code",
   "execution_count": 39,
   "metadata": {},
   "outputs": [],
   "source": [
    "/*\n",
    "Brute Force\n",
    "*/"
   ]
  },
  {
   "cell_type": "code",
   "execution_count": 42,
   "metadata": {},
   "outputs": [],
   "source": [
    "public static void main(String[] args) {\n",
    "    Scanner scn = new Scanner(System.in);\n",
    "    int n = scn.nextInt();;\n",
    "    int m = scn.nextInt();;\n",
    "\n",
    "    int[][] graph = new int[n + 1][n + 1];\n",
    "    int[] nbrs = new int[n + 1];\n",
    "    for(int i = 1; i <= m; i++){\n",
    "        int x = scn.nextInt();\n",
    "        int y = scn.nextInt();\n",
    "        graph[x][y] = 1;\n",
    "        graph[y][x] = 1;\n",
    "\n",
    "        nbrs[x]++;\n",
    "        nbrs[y]++;\n",
    "    }\n",
    "\n",
    "    int res = Integer.MAX_VALUE;\n",
    "    for(int i = 1; i < graph.length; i++){\n",
    "        for(int j = 1; j < graph.length; j++){\n",
    "            for(int k = 1; k < graph.length; k++){\n",
    "                if(i != j && i != k && j != k && graph[i][j] == 1 && graph[i][k] == 1 && graph[j][k] == 1){\n",
    "                    res = Math.min(res, nbrs[i] + nbrs[j] + nbrs[k]);\n",
    "                }\n",
    "            }\n",
    "        }\n",
    "    }\n",
    "    \n",
    "    System.out.println((res  - 6)+ \"\");\n",
    "}\n"
   ]
  },
  {
   "cell_type": "markdown",
   "metadata": {},
   "source": [
    "***https://ideone.com/cj7huY***"
   ]
  },
  {
   "cell_type": "markdown",
   "metadata": {},
   "source": [
    "## **431. Simulate Network**\n",
    "https://www.hackerearth.com/practice/algorithms/graphs/minimum-spanning-tree/practice-problems/algorithm/efficient-network/"
   ]
  },
  {
   "cell_type": "markdown",
   "metadata": {},
   "source": [
    "**New Link :**   ***https://www.hackerearth.com/challenges/hiring/globalsoft-backend-hiring-challenge/algorithm/efficient-network/***"
   ]
  },
  {
   "cell_type": "code",
   "execution_count": 45,
   "metadata": {},
   "outputs": [],
   "source": [
    "/*\n",
    "Globsoft has a network of N computers connected by M lan cables.\n",
    "It is possible to communicate between any two computers in the network using these cables. \n",
    "There can be multiple cables connecting 2 computers. A computer may be connected via a cable to itself.\n",
    "\n",
    "We say that computer A can communicate with computer B,\n",
    "    if there exists a sequence of cables connecting these 2 computers directly or undirectly.\n",
    "\n",
    "Each cable has a latency associated with it. Now, \n",
    "the company has decided to revamp the existing network and replace some existing cables with newer cables. \n",
    "You are given Q new cables, each having its own latency. \n",
    "You can pick any number of cables (maybe 0) from these Q cables and use it to replace any cable in the existing network. \n",
    "Each new Cable can be used at most once. It is not necessary to replace every cable from the existing network.\n",
    "\n",
    "Now, considering you use an arbitrary number of new cables and embed them into the existing network, \n",
    "you need to pick N-1 cables from this network (Can consist of old as well as new ) \n",
    "such that N-1 using these  cables, it is posible to communicate beween any 2 computers present in the network. \n",
    "What can be the minimum sum of latencies of these N-1 cables satisfying the above constraints, \n",
    "considering you perform the replacement of the cables optimally ?\n",
    "*/"
   ]
  },
  {
   "cell_type": "code",
   "execution_count": 46,
   "metadata": {},
   "outputs": [],
   "source": [
    "/*\n",
    "Input Format:\n",
    "\n",
    "The First line consists of two integers N and M, N is the number of computers in the network\n",
    "    and M is the number of cables in the network.\n",
    "Next M lines consists of three integers each: A, B anc L, \n",
    "    denoting there is a cable connecting computers A and B and having latency L.\n",
    "Next line consists of an integer Q denoting the number of cables available for use.\n",
    "Next line consists of an array C denoting the latencies of the Q cables.\n",
    "\n",
    "Output Format:\n",
    "\n",
    "Output the required answer on a single line\n",
    "*/"
   ]
  },
  {
   "cell_type": "markdown",
   "metadata": {},
   "source": [
    "<img src = \"data:image/png;base64,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\"/>"
   ]
  },
  {
   "cell_type": "code",
   "execution_count": 47,
   "metadata": {},
   "outputs": [],
   "source": [
    "/*\n",
    "Example :\n",
    "\n",
    "SAMPLE INPUT \n",
    "4 6\n",
    "1 2 1\n",
    "1 3 5\n",
    "1 4 5\n",
    "1 2 3\n",
    "2 1 4\n",
    "2 3 6\n",
    "5\n",
    "5 8 2 2 3\n",
    "\n",
    "SAMPLE OUTPUT \n",
    "5\n",
    "\n",
    "Explanation\n",
    "The computers 1 and 2 are connected by cables of latencies 1,3 and 4.\n",
    "The computers 1 and 3 are connected by cable of latency 5.\n",
    "The computers 1 and 4 are connected by cable of latency 5.\n",
    "The computers 2 and 3 are connected by cable of latency 6.\n",
    "The available cables have latencies: 5,8,2,2,3\n",
    "\n",
    "If we take the cable of latency 1 between computers 1 and 2 (as given in the network),\n",
    "    cable of latency 2 between computers 1 and 3 (from Q cables), \n",
    "    cable of latency 2 between computers 1 and 4 (from Q cables), \n",
    "    the latency of the network would be 1+2+2=5 , \n",
    "which is the minimum possible latency for the network.\n",
    "*/"
   ]
  },
  {
   "cell_type": "markdown",
   "metadata": {},
   "source": [
    "***https://ideone.com/aFoP2S***"
   ]
  },
  {
   "cell_type": "markdown",
   "metadata": {},
   "source": [
    "***https://ideone.com/0gWbN8***"
   ]
  },
  {
   "cell_type": "markdown",
   "metadata": {},
   "source": [
    "## **432. Mr. President**\n",
    "https://www.hackerearth.com/practice/algorithms/graphs/minimum-spanning-tree/practice-problems/algorithm/mr-president/"
   ]
  },
  {
   "cell_type": "code",
   "execution_count": 50,
   "metadata": {},
   "outputs": [],
   "source": [
    "/*\n",
    "View Question link for qustion description\n",
    "*/"
   ]
  },
  {
   "cell_type": "code",
   "execution_count": 51,
   "metadata": {},
   "outputs": [],
   "source": [
    "/*\n",
    "The first thing you can notice is that this is graph problem. \n",
    "You are given a graph G with N vertices and M weighted edges between them. \n",
    "You can change the weight of any edge to 1 - let's call this operation a transformation. \n",
    "You are interested in minimal number of transformations required to make, so that G has minimal spanning tree of weight not greater than K.\n",
    "\n",
    "Solution for disconnected graphs\n",
    "The first observation is that if the G is not connected, \n",
    "it does not have any spanning tree, and because you cannot add edges, \n",
    "there is no way to achieve the task it this case.\n",
    "\n",
    "Solution for connected graphs\n",
    "Let's assume that G is connected, so we know that G has a spanning tree. \n",
    "Let Ft be any spanning forest of G consisting of t trees. \n",
    "You know that you can extend Ft to a spanning tree of G by adding exactly t - 1 edges to it. \n",
    "Let w(Ft) be the sum of weights of edges in Ft. \n",
    "Since you can transform any edge to and edge of weight 1, \n",
    "    you know that you can transform Ft to a spanning tree of weight w(Ft) + t - 1. \n",
    "Since we are interested in the smallest number of transformations required to produce a graph with MST of weight not greater than K,\n",
    "    we are interested in the smallest t, for which there exists Ft, such that w(Ft + t - 1 <= K.\n",
    "\n",
    "If we only know the weight of the lightest forest Ft for each t, we can easily compute the answer.\n",
    "\n",
    "How to compute the weights of these lightest forests?\n",
    "The Kruskal algorithm is the answer here! Notice that in the i-th step of Kruskal algorithm \n",
    "    we compute the lightest forest consisting of N - i trees, \n",
    "    so in fact, we are computing the costs of our FN - i. \n",
    "This is great news, now we are able to run the Kruskal algorithm, \n",
    "and compute the answer to the problem during its execution.\n",
    "\n",
    "Time complexity\n",
    "Since Kruskal algorithm works in O(M * log(M), our solution works in the same exact time.\n",
    "*/"
   ]
  },
  {
   "cell_type": "markdown",
   "metadata": {},
   "source": [
    "***https://ideone.com/U5W76S***"
   ]
  },
  {
   "cell_type": "markdown",
   "metadata": {},
   "source": [
    "## **433. Chocolate Journey**\n",
    "https://www.hackerearth.com/practice/algorithms/graphs/shortest-path-algorithms/practice-problems/algorithm/successful-marathon-0691ec04/"
   ]
  },
  {
   "cell_type": "code",
   "execution_count": 52,
   "metadata": {},
   "outputs": [],
   "source": [
    "/*\n",
    "View Question link for qustion description\n",
    "*/"
   ]
  },
  {
   "cell_type": "code",
   "execution_count": 53,
   "metadata": {},
   "outputs": [],
   "source": [
    "/*\n",
    "Run the shortest path algorithm from A and another one from B. \n",
    "Store all nodes which are at distance less than or equal to x from B into an array or vector. \n",
    "Now, \n",
    "    traverse through this vector and \n",
    "    find the sum of the minimum distance from A to this node \n",
    "    and minimum distance from B to this node and maintain the minimum of all these values.\n",
    "*/"
   ]
  },
  {
   "cell_type": "markdown",
   "metadata": {},
   "source": [
    "***https://ideone.com/s5S6mU***"
   ]
  },
  {
   "cell_type": "markdown",
   "metadata": {},
   "source": [
    "## **434. Minimizing Path Cost**\n",
    "https://www.hackerearth.com/practice/algorithms/graphs/shortest-path-algorithms/practice-problems/algorithm/minimizing-path-cost/"
   ]
  },
  {
   "cell_type": "code",
   "execution_count": 55,
   "metadata": {},
   "outputs": [],
   "source": [
    "/*\n",
    "View Question link for qustion description\n",
    "*/"
   ]
  },
  {
   "cell_type": "markdown",
   "metadata": {},
   "source": [
    "***https://ideone.com/KudHNn***"
   ]
  },
  {
   "cell_type": "markdown",
   "metadata": {},
   "source": [
    "## **435. Oliver and the Game**\n",
    "https://www.hackerearth.com/practice/algorithms/graphs/topological-sort/practice-problems/algorithm/oliver-and-the-game-3/"
   ]
  },
  {
   "cell_type": "code",
   "execution_count": 56,
   "metadata": {},
   "outputs": [],
   "source": [
    "/*\n",
    "View Question link for qustion description\n",
    "*/"
   ]
  },
  {
   "cell_type": "code",
   "execution_count": 58,
   "metadata": {},
   "outputs": [],
   "source": [
    "/*\n",
    "This Problem can be solved by Depth First Search and Topological Sorting.\n",
    "\n",
    "The idea is to maintain a global timer variable which stores an in time and an out time during DFS calls.\n",
    "\n",
    "In any query we just need to check if one node is fully contained within another or not. \n",
    "In other words,\n",
    "    if one node lies in the sub tree of the other node, then the answer might be YES depending on the Query type 0 or 1.\n",
    "*/"
   ]
  },
  {
   "cell_type": "markdown",
   "metadata": {},
   "source": [
    "***https://ideone.com/OnDE2p***"
   ]
  },
  {
   "cell_type": "code",
   "execution_count": null,
   "metadata": {},
   "outputs": [],
   "source": []
  }
 ],
 "metadata": {
  "kernelspec": {
   "display_name": "Java",
   "language": "java",
   "name": "java"
  },
  "language_info": {
   "codemirror_mode": "java",
   "file_extension": ".jshell",
   "mimetype": "text/x-java-source",
   "name": "Java",
   "pygments_lexer": "java",
   "version": "11.0.6+8-LTS"
  },
  "toc": {
   "base_numbering": 1,
   "nav_menu": {},
   "number_sections": true,
   "sideBar": true,
   "skip_h1_title": false,
   "title_cell": "Table of Contents",
   "title_sidebar": "Contents",
   "toc_cell": false,
   "toc_position": {
    "height": "calc(100% - 180px)",
    "left": "10px",
    "top": "150px",
    "width": "303.542px"
   },
   "toc_section_display": true,
   "toc_window_display": true
  }
 },
 "nbformat": 4,
 "nbformat_minor": 2
}
