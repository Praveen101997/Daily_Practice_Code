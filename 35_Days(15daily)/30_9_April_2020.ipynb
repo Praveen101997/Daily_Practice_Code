{
 "cells": [
  {
   "cell_type": "markdown",
   "metadata": {},
   "source": [
    "**------------------------Questions Covered-----------------------------**"
   ]
  },
  {
   "cell_type": "markdown",
   "metadata": {},
   "source": [
    "***12A\tGraphs\thttp://codeforces.com/problemset/problem/917/B\tMY FAVOURITE GRAPH PROBLEM\t\t\t\t\t\t\t\t\t\t\t\t\t\t\t\t\t\t\t\t\t\t\t\t\n",
    "12A\tGraphs\thttps://www.ideserve.co.in/learn/friend-circles-graph\tfamous ques\t\t\t\t\t\t\t\t\t\t\t\t\t\t\t\t\t\t\t\t\t\t\t\t\n",
    "12A\tGraphs\thttps://www.geeksforgeeks.org/strongly-connected-components/\t\t\t\t\t\t\t\t\t\t\t\t\t\t\t\t\t\t\t\t\t\t\t\t\t\n",
    "12A\tGraphs\thttps://www.ideserve.co.in/learn/minimum-trials-to-reach-from-source-to-destination-word\t\t\t\t\t\t\t\t\t\t\t\t\t\t\t\t\t\t\t\t\t\t\t\t\t\n",
    "12A\tGraphs\thttps://www.geeksforgeeks.org/find-longest-path-directed-acyclic-graph/\ttheory more imp\t\t\t\t\t\t\t\t\t\t\t\t\t\t\t\t\t\t\t\t\t\t\t\t\n",
    "12A\tGraphs\thttps://www.geeksforgeeks.org/find-a-mother-vertex-in-a-graph/\t\t\t\t\t\t\t\t\t\t\t\t\t\t\t\t\t\t\t\t\t\t\t\t\t\n",
    "12A\tGraphs\thttps://www.geeksforgeeks.org/count-possible-paths-two-vertices/\t\t\t\t\t\t\t\t\t\t\t\t\t\t\t\t\t\t\t\t\t\t\t\t\t\n",
    "12A\tGraphs\thttps://www.geeksforgeeks.org/water-jug-problem-using-bfs/\tpopular ques\t\t\t\t\t\t\t\t\t\t\t\t\t\t\t\t\t\t\t\t\t\t\t\t\n",
    "12A\tGraphs\thttps://www.geeksforgeeks.org/detect-cycle-undirected-graph/\tcycle detection\t\t\t\t\t\t\t\t\t\t\t\t\t\t\t\t\t\t\t\t\t\t\t\t\n",
    "12A\tGraphs\thttps://www.geeksforgeeks.org/detect-cycle-in-a-graph/\t\t\t\t\t\t\t\t\t\t\t\t\t\t\t\t\t\t\t\t\t\t\t\t\t\n",
    "12A\tGraphs\thttps://www.geeksforgeeks.org/snake-ladder-problem-2/\tclass ques but very famous\t\t\t\t\t\t\t\t\t\t\t\t\t\t\t\t\t\t\t\t\t\t\t\t\n",
    "12A\tGraphs\thttps://www.geeksforgeeks.org/given-sorted-dictionary-find-precedence-characters/\t\t\t\t\t\t\t\t\t\t\t\t\t\t\t\t\t\t\t\t\t\t\t\t\t\n",
    "12A\tGraphs\thttps://www.geeksforgeeks.org/print-all-jumping-numbers-smaller-than-or-equal-to-a-given-value/\t\tbreaker\t\t\t\t\t\t\t\t\t\t\t\t\t\t\t\t\t\t\t\t\t\t\t\n",
    "12A\tGraphs\thttps://www.geeksforgeeks.org/optimal-read-list-given-number-days/\tgraph theory\t\t\t\t\t\t\t\t\t\t\t\t\t\t\t\t\t\t\t\t\t\t\t\t\n",
    "12A\tGraphs\thttps://www.geeksforgeeks.org/count-number-trees-forest/\ttrees in graphs\n",
    "12A\tGraphs\thttps://www.geeksforgeeks.org/construct-binary-palindrome-by-repeated-appending-and-trimming/\tgraph + string\t\t\t\t\t\t\t\t\t\t\t\t\t\t\t\t\t\t\t\t\t\t\t\t\n",
    "12A\tGraphs\thttps://leetcode.com/problems/find-eventual-safe-states/description/***"
   ]
  },
  {
   "cell_type": "code",
   "execution_count": 1,
   "metadata": {},
   "outputs": [],
   "source": [
    "import java.util.*;\n",
    "import java.io.*;\n",
    "String[] args =new String[0];"
   ]
  },
  {
   "cell_type": "markdown",
   "metadata": {},
   "source": [
    "## **436. B. MADMAX**\n",
    "http://codeforces.com/problemset/problem/917/B"
   ]
  },
  {
   "cell_type": "code",
   "execution_count": 2,
   "metadata": {},
   "outputs": [],
   "source": [
    "/*\n",
    "View Question Link For Complete Description\n",
    "*/"
   ]
  },
  {
   "cell_type": "markdown",
   "metadata": {},
   "source": [
    "## **437. Friend Circles Problem - Graph Theory**\n",
    "https://www.ideserve.co.in/learn/friend-circles-graph"
   ]
  },
  {
   "cell_type": "code",
   "execution_count": 3,
   "metadata": {},
   "outputs": [],
   "source": [
    "/*\n",
    "View Question Link for best visual description Solution\n",
    "*/"
   ]
  },
  {
   "cell_type": "code",
   "execution_count": 4,
   "metadata": {},
   "outputs": [],
   "source": [
    "/*\n",
    "There are n students in a class. \n",
    "Every student can have 0 or more friends.\n",
    "If A is a friend of B and B is a friend of C \n",
    "    then A and C are also friends.\n",
    "\n",
    "So we define a friend circle as a group of students who are friends as given by above definition.\n",
    "Given an nXn-matrix friends which consists of characters Y or N. \n",
    "If friends[i][j]=Y, \n",
    "    then ith and jth students are friends, \n",
    "friends[i][j]=N, \n",
    "    then i and j are not friends. \n",
    "\n",
    "Find the total number of such friend circles in the class.\n",
    "*/"
   ]
  },
  {
   "cell_type": "code",
   "execution_count": 5,
   "metadata": {},
   "outputs": [],
   "source": [
    "/*\n",
    "Algorithm/Insights\n",
    "1. We start with the first student (first row), i = 0. set visited[i] = Y\n",
    "2. Initialize noOfCircles = 1\n",
    "3. Move to next student j, for which M[i][j] == Y, set visited[j] = Y.\n",
    "4. Recursively, find friends of j and mark them visited too till all students that can be reached from i=0 are covered.\n",
    "    These will form 1 friend circle.\n",
    "5. Once all friends of student 1 are traversed, we move to next unvisited student and increase noOfCircles by 1.\n",
    "6. Repeat the above steps till all the students are visited.\n",
    "7. Return noOfCircles.\n",
    "*/"
   ]
  },
  {
   "cell_type": "code",
   "execution_count": 6,
   "metadata": {},
   "outputs": [],
   "source": [
    "public class FriendCirclesGraph {\n",
    " \n",
    "    public static void main(String[] args) {\n",
    " \n",
    "        char[][] friends = {\"YYNN\".toCharArray(), \"YYYN\".toCharArray(), \"NYYN\".toCharArray(), \"NNNY\".toCharArray()};\n",
    "        System.out.println(getFriendCircles(friends));\n",
    "    }\n",
    " \n",
    "    public static int getFriendCircles(char[][] friends) {\n",
    " \n",
    "        if (friends == null || friends.length < 1)\n",
    "            return 0;\n",
    " \n",
    "        int noOfCircles = 0;\n",
    " \n",
    "        boolean visited[] = new boolean[friends.length];\n",
    " \n",
    "        for (int i = 0; i < visited.length; i++)\n",
    "            visited[i] = false;\n",
    " \n",
    "        for (int i = 0; i < friends.length; i++) {\n",
    "            if (!visited[i]) {\n",
    "                noOfCircles++;\n",
    "                visited[i] = true;\n",
    "                findFriends(friends, visited, i);\n",
    "            }\n",
    "        }\n",
    " \n",
    "        return noOfCircles;\n",
    " \n",
    "    }\n",
    " \n",
    "    public static void findFriends(char[][] friends, boolean[] visited, int id) {\n",
    " \n",
    "        for (int i = 0; i < friends.length; i++) {\n",
    "            if (!visited[i] && i != id && 'Y' == friends[id][i]) {\n",
    "                visited[i] = true;\n",
    "                findFriends(friends, visited, i);\n",
    "            }\n",
    "        }\n",
    " \n",
    "    }\n",
    " \n",
    "}"
   ]
  },
  {
   "cell_type": "code",
   "execution_count": 7,
   "metadata": {},
   "outputs": [],
   "source": [
    "/*\n",
    "Order of the Algorithm\n",
    "\n",
    "Time Complexity is O(n^2)\n",
    "Space Complexity is O(n)\n",
    "*/"
   ]
  },
  {
   "cell_type": "markdown",
   "metadata": {},
   "source": [
    "## **438. Strongly Connected Components**\n",
    "https://www.geeksforgeeks.org/strongly-connected-components/"
   ]
  },
  {
   "cell_type": "code",
   "execution_count": 8,
   "metadata": {},
   "outputs": [],
   "source": [
    "/*\n",
    "A directed graph is strongly connected \n",
    "    if there is a path between all pairs of vertices. \n",
    "\n",
    "A strongly connected component (SCC) of a directed graph \n",
    "    is a maximal strongly connected subgraph. \n",
    "    \n",
    "For example, there are 3 SCCs in the following graph.\n",
    "*/"
   ]
  },
  {
   "cell_type": "markdown",
   "metadata": {},
   "source": [
    "<img src = \"https://media.geeksforgeeks.org/wp-content/cdn-uploads/SCC.png\"/>"
   ]
  },
  {
   "cell_type": "code",
   "execution_count": 9,
   "metadata": {},
   "outputs": [],
   "source": [
    "/*\n",
    "We can find all strongly connected components in O(V+E) time using Kosaraju’s algorithm.\n",
    "\n",
    "Following is detailed Kosaraju’s algorithm.\n",
    "\n",
    "1) Create an empty stack ‘S’ and do DFS traversal of a graph. \n",
    "   In DFS traversal,\n",
    "       after calling recursive DFS for adjacent vertices of a vertex, push the vertex to stack. \n",
    "   In the above graph, \n",
    "       if we start DFS from vertex 0, we get vertices in stack as 1, 2, 4, 3, 0.\n",
    "2) Reverse directions of all arcs to obtain the transpose graph.\n",
    "3) One by one pop a vertex from S while S is not empty.\n",
    "   Let the popped vertex be ‘v’. \n",
    "   Take v as source and do DFS (call DFSUtil(v)). \n",
    "   The DFS starting from v prints strongly connected component of v. \n",
    "   In the above example,\n",
    "       we process vertices in order 0, 3, 4, 2, 1 (One by one popped from stack).\n",
    "*/"
   ]
  },
  {
   "cell_type": "code",
   "execution_count": 10,
   "metadata": {},
   "outputs": [],
   "source": [
    "/*\n",
    "How does this work?\n",
    "\n",
    "The above algorithm is DFS based.\n",
    "It does DFS two times.\n",
    "DFS of a graph produces a single tree \n",
    "    if all vertices are reachable from the DFS starting point.\n",
    "Otherwise \n",
    "    DFS produces a forest. \n",
    "    \n",
    "So DFS of a graph with only one SCC always produces a tree. \n",
    "The important point to note is DFS may produce a tree or a forest \n",
    "    when there are more than one SCCs depending upon the chosen starting point. \n",
    "\n",
    "For example, in the above diagram, \n",
    "    if we start DFS from vertices 0 or 1 or 2, \n",
    "        we get a tree as output.\n",
    "    And if we start from 3 or 4, \n",
    "        we get a forest. \n",
    "To find and print all SCCs, \n",
    "    we would want to start DFS from vertex 4 (which is a sink vertex),\n",
    "        then move to 3 which is sink in the remaining set (set excluding 4) \n",
    "           and finally any of the remaining vertices (0, 1, 2). \n",
    "           \n",
    "So how do we find this sequence of picking vertices as starting points of DFS? \n",
    "Unfortunately, \n",
    "    there is no direct way for getting this sequence. \n",
    "    However, if we do a DFS of graph and store vertices according to their finish times,\n",
    "        we make sure that the finish time of a vertex that connects to other SCCs (other that its own SCC),\n",
    "            will always be greater than finish time of vertices in the other SCC (See this for proof). \n",
    "\n",
    "For example, in DFS of above example graph, \n",
    "    finish time of 0 is always greater than 3 and 4 (irrespective of the sequence of vertices considered for DFS). \n",
    "    And finish time of 3 is always greater than 4. DFS doesn’t guarantee about other vertices, \n",
    "    \n",
    "for example finish times of 1 and 2 may be smaller or greater than 3 and 4 depending upon the sequence of vertices considered for DFS. \n",
    "So to use this property, we do DFS traversal of complete graph and push every finished vertex to a stack.\n",
    "In stack, 3 always appears after 4, and 0 appear after both 3 and 4.\n",
    "\n",
    "\n",
    "In the next step,\n",
    "    we reverse the graph.\n",
    "Consider the graph of SCCs.\n",
    "    In the reversed graph, \n",
    "        the edges that connect two components are reversed.\n",
    "\n",
    "So the SCC {0, 1, 2} becomes sink and the SCC {4} becomes source. \n",
    "    As discussed above,\n",
    "        in stack, we always have 0 before 3 and 4.\n",
    "        \n",
    "    So if we do a DFS of the reversed graph using sequence of vertices in stack, \n",
    "        we process vertices from sink to source (in reversed graph). \n",
    "        That is what we wanted to achieve and that is all needed to print SCCs one by one.\n",
    "*/"
   ]
  },
  {
   "cell_type": "markdown",
   "metadata": {},
   "source": [
    "<img src = \"https://media.geeksforgeeks.org/wp-content/cdn-uploads/SCCGraph2.png\"/>"
   ]
  },
  {
   "cell_type": "code",
   "execution_count": 11,
   "metadata": {},
   "outputs": [],
   "source": [
    "// This class represents a directed graph using adjacency list \n",
    "// representation \n",
    "class Graph \n",
    "{ \n",
    "    private int V;   // No. of vertices \n",
    "    private LinkedList<Integer> adj[]; //Adjacency List \n",
    "  \n",
    "    //Constructor \n",
    "    Graph(int v) \n",
    "    { \n",
    "        V = v; \n",
    "        adj = new LinkedList[v]; \n",
    "        for (int i=0; i<v; ++i) \n",
    "            adj[i] = new LinkedList(); \n",
    "    } \n",
    "  \n",
    "    //Function to add an edge into the graph \n",
    "    void addEdge(int v, int w)  { adj[v].add(w); } \n",
    "  \n",
    "    // A recursive function to print DFS starting from v \n",
    "    void DFSUtil(int v,boolean visited[]) \n",
    "    { \n",
    "        // Mark the current node as visited and print it \n",
    "        visited[v] = true; \n",
    "        System.out.print(v + \" \"); \n",
    "  \n",
    "        int n; \n",
    "  \n",
    "        // Recur for all the vertices adjacent to this vertex \n",
    "        Iterator<Integer> i =adj[v].iterator(); \n",
    "        while (i.hasNext()) \n",
    "        { \n",
    "            n = i.next(); \n",
    "            if (!visited[n]) \n",
    "                DFSUtil(n,visited); \n",
    "        } \n",
    "    } \n",
    "  \n",
    "    // Function that returns reverse (or transpose) of this graph \n",
    "    Graph getTranspose() \n",
    "    { \n",
    "        Graph g = new Graph(V); \n",
    "        for (int v = 0; v < V; v++) \n",
    "        { \n",
    "            // Recur for all the vertices adjacent to this vertex \n",
    "            Iterator<Integer> i =adj[v].listIterator(); \n",
    "            while(i.hasNext()) \n",
    "                g.adj[i.next()].add(v); \n",
    "        } \n",
    "        return g; \n",
    "    } \n",
    "  \n",
    "    void fillOrder(int v, boolean visited[], Stack stack) \n",
    "    { \n",
    "        // Mark the current node as visited and print it \n",
    "        visited[v] = true; \n",
    "  \n",
    "        // Recur for all the vertices adjacent to this vertex \n",
    "        Iterator<Integer> i = adj[v].iterator(); \n",
    "        while (i.hasNext()) \n",
    "        { \n",
    "            int n = i.next(); \n",
    "            if(!visited[n]) \n",
    "                fillOrder(n, visited, stack); \n",
    "        } \n",
    "  \n",
    "        // All vertices reachable from v are processed by now, \n",
    "        // push v to Stack \n",
    "        stack.push(new Integer(v)); \n",
    "    } \n",
    "  \n",
    "    // The main function that finds and prints all strongly \n",
    "    // connected components \n",
    "    void printSCCs() \n",
    "    { \n",
    "        Stack stack = new Stack(); \n",
    "  \n",
    "        // Mark all the vertices as not visited (For first DFS) \n",
    "        boolean visited[] = new boolean[V]; \n",
    "        for(int i = 0; i < V; i++) \n",
    "            visited[i] = false; \n",
    "  \n",
    "        // Fill vertices in stack according to their finishing \n",
    "        // times \n",
    "        for (int i = 0; i < V; i++) \n",
    "            if (visited[i] == false) \n",
    "                fillOrder(i, visited, stack); \n",
    "  \n",
    "        // Create a reversed graph \n",
    "        Graph gr = getTranspose(); \n",
    "  \n",
    "        // Mark all the vertices as not visited (For second DFS) \n",
    "        for (int i = 0; i < V; i++) \n",
    "            visited[i] = false; \n",
    "  \n",
    "        // Now process all vertices in order defined by Stack \n",
    "        while (stack.empty() == false) \n",
    "        { \n",
    "            // Pop a vertex from stack \n",
    "            int v = (int)stack.pop(); \n",
    "  \n",
    "            // Print Strongly connected component of the popped vertex \n",
    "            if (visited[v] == false) \n",
    "            { \n",
    "                gr.DFSUtil(v, visited); \n",
    "                System.out.println(); \n",
    "            } \n",
    "        } \n",
    "    } \n",
    "}"
   ]
  },
  {
   "cell_type": "code",
   "execution_count": 12,
   "metadata": {},
   "outputs": [
    {
     "name": "stdout",
     "output_type": "stream",
     "text": [
      "Following are strongly connected components in given graph \n",
      "0 1 2 \n",
      "3 \n",
      "4 \n"
     ]
    }
   ],
   "source": [
    "// Driver method \n",
    "public static void main(String args[]) \n",
    "{ \n",
    "    // Create a graph given in the above diagram \n",
    "    Graph g = new Graph(5); \n",
    "    g.addEdge(1, 0); \n",
    "    g.addEdge(0, 2); \n",
    "    g.addEdge(2, 1); \n",
    "    g.addEdge(0, 3); \n",
    "    g.addEdge(3, 4); \n",
    "\n",
    "    System.out.println(\"Following are strongly connected components \"+ \n",
    "                       \"in given graph \"); \n",
    "    g.printSCCs(); \n",
    "} \n",
    "main(args);"
   ]
  },
  {
   "cell_type": "code",
   "execution_count": 13,
   "metadata": {},
   "outputs": [],
   "source": [
    "/*\n",
    "Time Complexity: \n",
    "    The above algorithm calls DFS,\n",
    "        fins reverse of the graph and again calls DFS.\n",
    "        DFS takes O(V+E) for a graph represented using adjacency list. \n",
    "        Reversing a graph also takes O(V+E) time. \n",
    "        For reversing the graph,\n",
    "            we simple traverse all adjacency lists.\n",
    "\n",
    "The above algorithm is asymptotically best algorithm, \n",
    "    but there are other algorithms like Tarjan’s algorithm and path-based which have same time complexity \n",
    "        but find SCCs using single DFS. \n",
    "        \n",
    "The Tarjan’s algorithm is discussed in the following post.\n",
    "*/"
   ]
  },
  {
   "cell_type": "markdown",
   "metadata": {},
   "source": [
    "**The Tarjan’s algorithm :**   ***https://www.geeksforgeeks.org/tarjan-algorithm-find-strongly-connected-components/***"
   ]
  },
  {
   "cell_type": "markdown",
   "metadata": {},
   "source": [
    "***https://youtu.be/5wFyZJ8yH9Q***"
   ]
  },
  {
   "cell_type": "markdown",
   "metadata": {},
   "source": [
    "## **439. Minimum number of trials to reach from source word to destination word**\n",
    "https://www.ideserve.co.in/learn/minimum-trials-to-reach-from-source-to-destination-word"
   ]
  },
  {
   "cell_type": "code",
   "execution_count": 14,
   "metadata": {},
   "outputs": [],
   "source": [
    "/*\n",
    "View Question Link For Better Understanding\n",
    "*/"
   ]
  },
  {
   "cell_type": "markdown",
   "metadata": {},
   "source": [
    "## **440. Longest Path in a Directed Acyclic Graph**\n",
    "https://www.geeksforgeeks.org/find-longest-path-directed-acyclic-graph/"
   ]
  },
  {
   "cell_type": "code",
   "execution_count": 15,
   "metadata": {},
   "outputs": [],
   "source": [
    "/*\n",
    "Given a Weighted Directed Acyclic Graph (DAG) and a source vertex s in it, \n",
    "find the longest distances from s to all other vertices in the given graph.\n",
    "*/"
   ]
  },
  {
   "cell_type": "code",
   "execution_count": 16,
   "metadata": {},
   "outputs": [],
   "source": [
    "/*\n",
    "The longest path problem for a general graph is not as easy as the shortest path problem \n",
    "    because the longest path problem doesn’t have optimal substructure property. \n",
    "In fact, \n",
    "    the Longest Path problem is NP-Hard for a general graph. \n",
    "However, the longest path problem has a linear time solution for directed acyclic graphs. \n",
    "\n",
    "The idea is similar to linear time solution for shortest path in a directed acyclic graph., \n",
    "    we use Topological Sorting.\n",
    "*/"
   ]
  },
  {
   "cell_type": "code",
   "execution_count": 17,
   "metadata": {},
   "outputs": [],
   "source": [
    "/*\n",
    "We initialize distances to all vertices as minus infinite and distance to source as 0, \n",
    "    then we find a topological sorting of the graph. \n",
    "Topological Sorting of a graph represents a linear ordering of the graph\n",
    "    (See below, figure (b) is a linear representation of figure (a) ). \n",
    "Once we have topological order (or linear representation), \n",
    "    we one by one process all vertices in topological order.\n",
    "For every vertex being processed, \n",
    "    we update distances of its adjacent using distance of current vertex.\n",
    "*/"
   ]
  },
  {
   "cell_type": "code",
   "execution_count": 18,
   "metadata": {},
   "outputs": [],
   "source": [
    "/*\n",
    "Following figure shows step by step process of finding longest paths.\n",
    "*/"
   ]
  },
  {
   "cell_type": "markdown",
   "metadata": {},
   "source": [
    "<img src = \"https://media.geeksforgeeks.org/wp-content/uploads/LongestPath-2.png\"/>"
   ]
  },
  {
   "cell_type": "code",
   "execution_count": 19,
   "metadata": {},
   "outputs": [],
   "source": [
    "/*\n",
    "Following is complete algorithm for finding longest distances.\n",
    "1) Initialize dist[] = {NINF, NINF, ….} and dist[s] = 0 where s is the source vertex. Here NINF means negative infinite.\n",
    "2) Create a toplogical order of all vertices.\n",
    "3) Do following for every vertex u in topological order.\n",
    "    Do following for every adjacent vertex v of u\n",
    "        if (dist[v] < dist[u] + weight(u, v))\n",
    "            dist[v] = dist[u] + weight(u, v)\n",
    "\n",
    "Time Complexity: \n",
    "    Time complexity of topological sorting is O(V+E). \n",
    "    After finding topological order,\n",
    "        the algorithm process all vertices and for every vertex, \n",
    "        it runs a loop for all adjacent vertices. \n",
    "    Total adjacent vertices in a graph is O(E). \n",
    "    So the inner loop runs O(V+E) times.\n",
    "    Therefore, overall time complexity of this algorithm is O(V+E).\n",
    "\n",
    "*/"
   ]
  },
  {
   "cell_type": "markdown",
   "metadata": {},
   "source": [
    "***https://ideone.com/mu3xkr***"
   ]
  },
  {
   "cell_type": "markdown",
   "metadata": {},
   "source": [
    "## **441. Find a Mother Vertex in a Graph**\n",
    "https://www.geeksforgeeks.org/find-a-mother-vertex-in-a-graph/"
   ]
  },
  {
   "cell_type": "code",
   "execution_count": 20,
   "metadata": {},
   "outputs": [],
   "source": [
    "/*\n",
    "What is a Mother Vertex?\n",
    "\n",
    "A mother vertex in a graph G = (V,E) is a vertex v such that all other vertices in G can be reached by a path from v.\n",
    "*/"
   ]
  },
  {
   "cell_type": "code",
   "execution_count": 21,
   "metadata": {},
   "outputs": [],
   "source": [
    "/*\n",
    "Example :\n",
    "\n",
    "Input  : Below Graph\n",
    "Output : 5\n",
    "*/"
   ]
  },
  {
   "cell_type": "markdown",
   "metadata": {},
   "source": [
    "<img src = \"https://media.geeksforgeeks.org/wp-content/cdn-uploads/mother1.png\"/>"
   ]
  },
  {
   "cell_type": "code",
   "execution_count": 22,
   "metadata": {},
   "outputs": [],
   "source": [
    "/*\n",
    "There can be more than one mother vertices in a graph. \n",
    "We need to output anyone of them. \n",
    "For example, \n",
    "    in the below graph, vertices 0, 1 and 2 are mother vertices.\n",
    "*/"
   ]
  },
  {
   "cell_type": "markdown",
   "metadata": {},
   "source": [
    "<img src = \"https://media.geeksforgeeks.org/wp-content/cdn-uploads/MotherVertex.png\"/>"
   ]
  },
  {
   "cell_type": "code",
   "execution_count": 23,
   "metadata": {},
   "outputs": [],
   "source": [
    "/*\n",
    "How to find mother vertex?\n",
    "\n",
    "Case 1:- Undirected Connected Graph : \n",
    "    In this case, \n",
    "        all the vertices are mother vertices as we can reach to all the other nodes in the graph.\n",
    "Case 2:- Undirected/Directed Disconnected Graph : \n",
    "    In this case, \n",
    "        there is no mother vertices as we cannot reach to all the other nodes in the graph.\n",
    "Case 3:- Directed Connected Graph :\n",
    "    In this case, \n",
    "        we have to find a vertex -v in the graph \n",
    "            such that we can reach to all the other nodes in the graph through a directed path.\n",
    "*/"
   ]
  },
  {
   "cell_type": "code",
   "execution_count": 24,
   "metadata": {},
   "outputs": [],
   "source": [
    "/*\n",
    "A Naive approach :\n",
    "\n",
    "A trivial approach will be to perform a DFS/BFS on all the vertices and \n",
    "    find whether we can reach all the vertices from that vertex. \n",
    "This approach takes O(V(E+V)) time, which is very inefficient for large graphs.\n",
    "*/"
   ]
  },
  {
   "cell_type": "code",
   "execution_count": 25,
   "metadata": {},
   "outputs": [],
   "source": [
    "/*\n",
    "Can we do better?\n",
    "\n",
    "We can find a mother vertex in O(V+E) time. \n",
    "The idea is based on Kosaraju’s Strongly Connected Component Algorithm. \n",
    "In a graph of strongly connected components, \n",
    "    mother vertices are always vertices of source component in component graph.\n",
    "The idea is based on below fact.\n",
    "\n",
    "If there exist mother vertex (or vertices), \n",
    "    then one of the mother vertices is the last finished vertex in DFS. \n",
    "    (Or a mother vertex has the maximum finish time in DFS traversal).\n",
    "\n",
    "A vertex is said to be finished in DFS if a recursive call for its DFS is over, \n",
    "    i.e., all descendants of the vertex have been visited.\n",
    "*/"
   ]
  },
  {
   "cell_type": "markdown",
   "metadata": {},
   "source": [
    "**Kosaraju’s Strongly Connected Component Algorithm :**   ***https://www.geeksforgeeks.org/strongly-connected-components/***"
   ]
  },
  {
   "cell_type": "code",
   "execution_count": 26,
   "metadata": {},
   "outputs": [],
   "source": [
    "/*\n",
    "How does the above idea work?\n",
    "\n",
    "Let the last finished vertex be v. \n",
    "Basically, \n",
    "    we need to prove that there cannot be an edge from another vertex u to v \n",
    "        if u is not another mother vertex (Or there cannot exist a non-mother vertex u such that u-→v is an edge). \n",
    "    There can be two possibilities.\n",
    "\n",
    "1. Recursive DFS call is made for u before v. \n",
    "        If an edge u-→v exists, \n",
    "            then v must have finished before u because v is reachable through u and a vertex finishes after all its descendants.\n",
    "2. Recursive DFS call is made for v before u. \n",
    "        In this case also, if an edge u-→v exists, t\n",
    "            hen either v must finish before u (which contradicts our assumption that v is finished at the end) OR \n",
    "            u should be reachable from v (which means u is another mother vertex).\n",
    "*/"
   ]
  },
  {
   "cell_type": "code",
   "execution_count": 27,
   "metadata": {},
   "outputs": [],
   "source": [
    "/*\n",
    "Algorithm :\n",
    "\n",
    "1. Do DFS traversal of the given graph. While doing traversal keep track of last finished vertex ‘v’. \n",
    "        This step takes O(V+E) time.\n",
    "2. If there exist mother vertex (or vetices), then v must be one (or one of them). \n",
    "        Check if v is a mother vertex by doing DFS/BFS from v. This step also takes O(V+E) time.\n",
    "        \n",
    "Time Complexity : O(V + E)\n",
    "*/"
   ]
  },
  {
   "cell_type": "markdown",
   "metadata": {},
   "source": [
    "***https://ideone.com/vUtTQW***"
   ]
  },
  {
   "cell_type": "markdown",
   "metadata": {},
   "source": [
    "***https://youtu.be/gTt5idzVCgA***"
   ]
  },
  {
   "cell_type": "markdown",
   "metadata": {},
   "source": [
    "## **442. Count all possible paths between two vertices**\n",
    "https://www.geeksforgeeks.org/count-possible-paths-two-vertices/"
   ]
  },
  {
   "cell_type": "code",
   "execution_count": 28,
   "metadata": {},
   "outputs": [],
   "source": [
    "/*\n",
    "Count the total number of ways or paths that exist between two vertices in a directed graph. \n",
    "These paths doesn’t contain a cycle,\n",
    "the simple enough reason is that a cylce contain infinite number of paths and hence they create problem.\n",
    "*/"
   ]
  },
  {
   "cell_type": "code",
   "execution_count": 29,
   "metadata": {},
   "outputs": [],
   "source": [
    "/*\n",
    "Examples:\n",
    "\n",
    "Input : Count paths between A and E\n",
    "\n",
    "Output : Total paths between A and E are 4\n",
    "         Explanation: The 4 paths between A and E are:\n",
    "                      A -> E\n",
    "                      A -> B -> E\n",
    "                      A -> C -> E\n",
    "                      A -> B -> D -> C -> E \n",
    "*/"
   ]
  },
  {
   "cell_type": "markdown",
   "metadata": {},
   "source": [
    "<img src = \"https://media.geeksforgeeks.org/wp-content/uploads/paths1.png\"/>"
   ]
  },
  {
   "cell_type": "code",
   "execution_count": 30,
   "metadata": {},
   "outputs": [],
   "source": [
    "/*\n",
    "The problem can be solved using backtracking, \n",
    "    that is we take a path and start walking it,\n",
    "        if it leads us to the destination vertex then we count the path and backtrack to take another path.\n",
    "If the path doesn’t leads us to the destination vertex,\n",
    "    we discard the path.\n",
    "*/"
   ]
  },
  {
   "cell_type": "code",
   "execution_count": 31,
   "metadata": {},
   "outputs": [],
   "source": [
    "/*\n",
    "Backtracking for above graph can be shown like this:\n",
    "\n",
    "The red color vertex is the source vertex and the light-blue color vertex is destination,\n",
    "    rest are either intermediate or discarded paths.\n",
    "*/"
   ]
  },
  {
   "cell_type": "markdown",
   "metadata": {},
   "source": [
    "<img src = \"https://media.geeksforgeeks.org/wp-content/uploads/path5.png\"/>"
   ]
  },
  {
   "cell_type": "code",
   "execution_count": 32,
   "metadata": {},
   "outputs": [],
   "source": [
    "/*\n",
    "This gives us four paths between source(A) and destination(E) vertex.\n",
    "\n",
    "Problem Associated with this: \n",
    "    Now if we add just one more edge between C and B, \n",
    "        it would make a cycle (B -> D -> C -> B). \n",
    "    And hence we could loop the cycles any number of times to get a new path, \n",
    "        and there would be infinitely many paths because of the cycle.\n",
    "*/"
   ]
  },
  {
   "cell_type": "markdown",
   "metadata": {},
   "source": [
    "<img src = \"https://media.geeksforgeeks.org/wp-content/uploads/path6.png\"/>"
   ]
  },
  {
   "cell_type": "code",
   "execution_count": 33,
   "metadata": {},
   "outputs": [
    {
     "name": "stdout",
     "output_type": "stream",
     "text": [
      "3\n"
     ]
    }
   ],
   "source": [
    "// This class represents a directed graph using  \n",
    "// adjacency list representation \n",
    "  \n",
    "class Graph { \n",
    "      \n",
    "    // No. of vertices \n",
    "    private int V;  \n",
    "  \n",
    "    // Array of lists for \n",
    "    // Adjacency List  \n",
    "    // Representation \n",
    "    private LinkedList<Integer> adj[]; \n",
    "  \n",
    "    @SuppressWarnings(\"unchecked\") \n",
    "    Graph(int v)  \n",
    "    { \n",
    "        V = v; \n",
    "        adj = new LinkedList[v]; \n",
    "        for (int i = 0; i < v; ++i) \n",
    "            adj[i] = new LinkedList<>(); \n",
    "    } \n",
    "  \n",
    "    // Method to add an edge into the graph \n",
    "    void addEdge(int v, int w) \n",
    "    { \n",
    "          \n",
    "        // Add w to v's list. \n",
    "        adj[v].add(w);  \n",
    "    } \n",
    "  \n",
    "      \n",
    "    // A recursive method to count \n",
    "    // all paths from 'u' to 'd'. \n",
    "    int countPathsUtil(int u, int d, \n",
    "                    boolean visited[],  \n",
    "                    int pathCount) \n",
    "    { \n",
    "          \n",
    "        // Mark the current node as \n",
    "        // visited and print it \n",
    "        visited[u] = true; \n",
    "  \n",
    "        // If current vertex is same as  \n",
    "        // destination, then increment count \n",
    "        if (u == d)  \n",
    "        { \n",
    "            pathCount++; \n",
    "        } \n",
    "              \n",
    "        // Recur for all the vertices \n",
    "        // adjacent to this vertex \n",
    "        else\n",
    "        { \n",
    "            Iterator<Integer> i = adj[u].listIterator(); \n",
    "            while (i.hasNext())  \n",
    "            { \n",
    "                int n = i.next(); \n",
    "                if (!visited[n])  \n",
    "                { \n",
    "                    pathCount = countPathsUtil(n, d, \n",
    "                                            visited, \n",
    "                                            pathCount); \n",
    "                } \n",
    "            } \n",
    "        } \n",
    "  \n",
    "        visited[u] = false; \n",
    "        return pathCount; \n",
    "    } \n",
    "  \n",
    "    // Returns count of \n",
    "    // paths from 's' to 'd' \n",
    "    int countPaths(int s, int d) \n",
    "    { \n",
    "          \n",
    "        // Mark all the vertices \n",
    "        // as not visited \n",
    "        boolean visited[] = new boolean[V]; \n",
    "        Arrays.fill(visited, false); \n",
    "  \n",
    "        // Call the recursive method \n",
    "        // to count all paths \n",
    "        int pathCount = 0; \n",
    "        pathCount = countPathsUtil(s, d, \n",
    "                                visited,  \n",
    "                                pathCount); \n",
    "        return pathCount; \n",
    "    } \n",
    "  \n",
    "    // Driver Code \n",
    "    public static void main(String args[])  \n",
    "    { \n",
    "        Graph g = new Graph(4); \n",
    "        g.addEdge(0, 1); \n",
    "        g.addEdge(0, 2); \n",
    "        g.addEdge(0, 3); \n",
    "        g.addEdge(2, 0); \n",
    "        g.addEdge(2, 1); \n",
    "        g.addEdge(1, 3); \n",
    "  \n",
    "        int s = 2, d = 3; \n",
    "        System.out.println(g.countPaths(s, d)); \n",
    "    } \n",
    "} \n",
    "Graph.main(args);"
   ]
  },
  {
   "cell_type": "markdown",
   "metadata": {},
   "source": [
    "## **443. Water Jug problem using BFS**\n",
    "https://www.geeksforgeeks.org/water-jug-problem-using-bfs/"
   ]
  },
  {
   "cell_type": "code",
   "execution_count": 34,
   "metadata": {},
   "outputs": [],
   "source": [
    "/*\n",
    "You are given a m litre jug and a n litre jug .\n",
    "Both the jugs are initially empty.\n",
    "The jugs don’t have markings to allow measuring smaller quantities.\n",
    "You have to use the jugs to measure d litres of water where d is less than n.\n",
    "    (X, Y) corresponds to a state where X refers to amount of water in Jug1 and Y refers to amount of water in Jug2\n",
    "\n",
    "Determine the path from initial state (xi, yi) to final state (xf, yf),\n",
    "    where (xi, yi) is (0, 0) which indicates both Jugs are initially empty and (xf, yf) indicates a state which could be (0, d) or (d, 0).\n",
    "\n",
    "The operations you can perform are:\n",
    "\n",
    "1. Empty a Jug, (X, Y)->(0, Y) Empty Jug 1\n",
    "2. Fill a Jug, (0, 0)->(X, 0) Fill Jug 1\n",
    "3. Pour water from one jug to the other until one of the jugs is either empty or full, (X, Y) -> (X-d, Y+d)\n",
    "*/"
   ]
  },
  {
   "cell_type": "code",
   "execution_count": 35,
   "metadata": {},
   "outputs": [],
   "source": [
    "/*\n",
    "Example:\n",
    "\n",
    "Input : 4 3 2\n",
    "Output : {(0, 0), (0, 3), (4, 0), (4, 3), \n",
    "          (3, 0), (1, 3), (3, 3), (4, 2),\n",
    "          (0, 2)}\n",
    "*/"
   ]
  },
  {
   "cell_type": "markdown",
   "metadata": {},
   "source": [
    "**Related Link :**   ***https://www.geeksforgeeks.org/two-water-jug-puzzle/***"
   ]
  },
  {
   "cell_type": "code",
   "execution_count": 36,
   "metadata": {},
   "outputs": [],
   "source": [
    "/*\n",
    "We run breadth first search on the states \n",
    "    and these states will be created after applying allowed operations \n",
    "    and we also use visited map of pair to keep track of states that should be visited only once in the search.\n",
    "    \n",
    "This solution can also be achieved using depth first search.\n",
    "*/"
   ]
  },
  {
   "cell_type": "markdown",
   "metadata": {},
   "source": [
    "***https://ideone.com/4wnTi7***"
   ]
  },
  {
   "cell_type": "markdown",
   "metadata": {},
   "source": [
    "## **444. Detect cycle in an undirected graph**\n",
    "https://www.geeksforgeeks.org/detect-cycle-undirected-graph/"
   ]
  },
  {
   "cell_type": "code",
   "execution_count": 37,
   "metadata": {},
   "outputs": [],
   "source": [
    "/*\n",
    "Given an undirected graph, \n",
    "    how to check if there is a cycle in the graph?\n",
    "    \n",
    "For example, the following graph has a cycle 1-0-2-1.\n",
    "*/"
   ]
  },
  {
   "cell_type": "markdown",
   "metadata": {},
   "source": [
    "<img src = \"https://media.geeksforgeeks.org/wp-content/cdn-uploads/cycleGraph.png\"/>"
   ]
  },
  {
   "cell_type": "code",
   "execution_count": 38,
   "metadata": {},
   "outputs": [],
   "source": [
    "/*\n",
    "We have discussed a union-find algorithm for cycle detection in undirected graphs. \n",
    "The time complexity of the union-find algorithm is O(ELogV). \n",
    "\n",
    "Like directed graphs, \n",
    "    we can use DFS to detect cycle in an undirected graph in O(V+E) time.\n",
    "    \n",
    "    We do a DFS traversal of the given graph.\n",
    "    For every visited vertex ‘v’, \n",
    "        if there is an adjacent ‘u’ such that u is already visited and u is not parent of v,\n",
    "            then there is a cycle in graph. If we don’t find such an adjacent for any vertex,\n",
    "            we say that there is no cycle. \n",
    "    The assumption of this approach is that there are no parallel edges between any two vertices.\n",
    "*/"
   ]
  },
  {
   "cell_type": "markdown",
   "metadata": {},
   "source": [
    "***https://www.geeksforgeeks.org/union-find/***"
   ]
  },
  {
   "cell_type": "markdown",
   "metadata": {},
   "source": [
    "<img src = \"https://media.geeksforgeeks.org/wp-content/cdn-uploads/20190704125710/DetectCycleInAnUndirectedGraph-1024x777.png\"/>"
   ]
  },
  {
   "cell_type": "code",
   "execution_count": 39,
   "metadata": {},
   "outputs": [
    {
     "name": "stdout",
     "output_type": "stream",
     "text": [
      "Graph contains cycle\n",
      "Graph doesn't contains cycle\n"
     ]
    }
   ],
   "source": [
    "// This class represents a directed graph using adjacency list \n",
    "// representation \n",
    "class Graph \n",
    "{ \n",
    "    private int V;   // No. of vertices \n",
    "    private LinkedList<Integer> adj[]; // Adjacency List Represntation \n",
    "  \n",
    "    // Constructor \n",
    "    Graph(int v) { \n",
    "        V = v; \n",
    "        adj = new LinkedList[v]; \n",
    "        for(int i=0; i<v; ++i) \n",
    "            adj[i] = new LinkedList(); \n",
    "    } \n",
    "  \n",
    "    // Function to add an edge into the graph \n",
    "    void addEdge(int v,int w) { \n",
    "        adj[v].add(w); \n",
    "        adj[w].add(v); \n",
    "    } \n",
    "  \n",
    "    // A recursive function that uses visited[] and parent to detect \n",
    "    // cycle in subgraph reachable from vertex v. \n",
    "    Boolean isCyclicUtil(int v, Boolean visited[], int parent) \n",
    "    { \n",
    "        // Mark the current node as visited \n",
    "        visited[v] = true; \n",
    "        Integer i; \n",
    "  \n",
    "        // Recur for all the vertices adjacent to this vertex \n",
    "        Iterator<Integer> it = adj[v].iterator(); \n",
    "        while (it.hasNext()) \n",
    "        { \n",
    "            i = it.next(); \n",
    "  \n",
    "            // If an adjacent is not visited, then recur for that \n",
    "            // adjacent \n",
    "            if (!visited[i]) \n",
    "            { \n",
    "                if (isCyclicUtil(i, visited, v)) \n",
    "                    return true; \n",
    "            } \n",
    "  \n",
    "            // If an adjacent is visited and not parent of current \n",
    "            // vertex, then there is a cycle. \n",
    "            else if (i != parent) \n",
    "                return true; \n",
    "        } \n",
    "        return false; \n",
    "    } \n",
    "  \n",
    "    // Returns true if the graph contains a cycle, else false. \n",
    "    Boolean isCyclic() \n",
    "    { \n",
    "        // Mark all the vertices as not visited and not part of \n",
    "        // recursion stack \n",
    "        Boolean visited[] = new Boolean[V]; \n",
    "        for (int i = 0; i < V; i++) \n",
    "            visited[i] = false; \n",
    "  \n",
    "        // Call the recursive helper function to detect cycle in \n",
    "        // different DFS trees \n",
    "        for (int u = 0; u < V; u++) \n",
    "            if (!visited[u]) // Don't recur for u if already visited \n",
    "                if (isCyclicUtil(u, visited, -1)) \n",
    "                    return true; \n",
    "  \n",
    "        return false; \n",
    "    } \n",
    "  \n",
    "  \n",
    "    // Driver method to test above methods \n",
    "    public static void main(String args[]) \n",
    "    { \n",
    "        // Create a graph given in the above diagram \n",
    "        Graph g1 = new Graph(5); \n",
    "        g1.addEdge(1, 0); \n",
    "        g1.addEdge(0, 2); \n",
    "        g1.addEdge(2, 1); \n",
    "        g1.addEdge(0, 3); \n",
    "        g1.addEdge(3, 4); \n",
    "        if (g1.isCyclic()) \n",
    "            System.out.println(\"Graph contains cycle\"); \n",
    "        else\n",
    "            System.out.println(\"Graph doesn't contains cycle\"); \n",
    "  \n",
    "        Graph g2 = new Graph(3); \n",
    "        g2.addEdge(0, 1); \n",
    "        g2.addEdge(1, 2); \n",
    "        if (g2.isCyclic()) \n",
    "            System.out.println(\"Graph contains cycle\"); \n",
    "        else\n",
    "            System.out.println(\"Graph doesn't contains cycle\"); \n",
    "    } \n",
    "} \n",
    "Graph.main(args);"
   ]
  },
  {
   "cell_type": "code",
   "execution_count": 40,
   "metadata": {},
   "outputs": [],
   "source": [
    "/*\n",
    "Time Complexity:\n",
    "    The program does a simple DFS Traversal of graph and graph is represented using adjacency list. \n",
    "    So the time complexity is O(V+E)\n",
    "*/"
   ]
  },
  {
   "cell_type": "markdown",
   "metadata": {},
   "source": [
    "***https://youtu.be/6ZRhq2oFCuo***"
   ]
  },
  {
   "cell_type": "markdown",
   "metadata": {},
   "source": [
    "## **445. Detect Cycle in a Directed Graph**\n",
    "https://www.geeksforgeeks.org/detect-cycle-in-a-graph/"
   ]
  },
  {
   "cell_type": "code",
   "execution_count": 41,
   "metadata": {},
   "outputs": [],
   "source": [
    "/*\n",
    "Given a directed graph, \n",
    "    check whether the graph contains a cycle or not.\n",
    "    Your function should return true \n",
    "        if the given graph contains at least one cycle,\n",
    "    else \n",
    "        return false. \n",
    "\n",
    "For example,\n",
    "    the following graph contains three cycles 0->2->0, 0->1->2->0 and 3->3,\n",
    "        so your function must return true.\n",
    "*/"
   ]
  },
  {
   "cell_type": "code",
   "execution_count": 42,
   "metadata": {},
   "outputs": [],
   "source": [
    "/*\n",
    "Depth First Traversal can be used to detect a cycle in a Graph.\n",
    "DFS for a connected graph produces a tree.\n",
    "There is a cycle in a graph only if there is a back edge present in the graph. \n",
    "A back edge is an edge that is from a node to itself (self-loop) or one of its ancestor in the tree produced by DFS. \n",
    "In the following graph, there are 3 back edges, marked with a cross sign.\n",
    "We can observe that these 3 back edges indicate 3 cycles present in the graph.\n",
    "*/"
   ]
  },
  {
   "cell_type": "markdown",
   "metadata": {},
   "source": [
    "<img src = \"https://media.geeksforgeeks.org/wp-content/uploads/cycle.png\"/>"
   ]
  },
  {
   "cell_type": "code",
   "execution_count": 43,
   "metadata": {},
   "outputs": [],
   "source": [
    "/*\n",
    "For a disconnected graph,\n",
    "we get the DFS forest as output.\n",
    "To detect cycle,\n",
    "    we can check for a cycle in individual trees by checking back edges.\n",
    "\n",
    "To detect a back edge, \n",
    "    we can keep track of vertices currently in recursion stack of function for DFS traversal. \n",
    "    If we reach a vertex that is already in the recursion stack,\n",
    "        then there is a cycle in the tree. \n",
    "    The edge that connects current vertex to the vertex in the recursion stack is a back edge. \n",
    "    We have used recStack[] array to keep track of vertices in the recursion stack.\n",
    "*/"
   ]
  },
  {
   "cell_type": "markdown",
   "metadata": {},
   "source": [
    "<img src = \"https://media.geeksforgeeks.org/wp-content/cdn-uploads/20190704130006/DetectCycleInaDirectedGraph-1024x991.png\"/>"
   ]
  },
  {
   "cell_type": "code",
   "execution_count": 44,
   "metadata": {},
   "outputs": [],
   "source": [
    "class Graph { \n",
    "      \n",
    "    private final int V; \n",
    "    private final List<List<Integer>> adj; \n",
    "  \n",
    "    public Graph(int V)  \n",
    "    { \n",
    "        this.V = V; \n",
    "        adj = new ArrayList<>(V); \n",
    "          \n",
    "        for (int i = 0; i < V; i++) \n",
    "            adj.add(new LinkedList<>()); \n",
    "    } \n",
    "      \n",
    "    // This function is a variation of DFSUtil() in  \n",
    "    // https://www.geeksforgeeks.org/archives/18212 \n",
    "    private boolean isCyclicUtil(int i, boolean[] visited, \n",
    "                                      boolean[] recStack)  \n",
    "    { \n",
    "          \n",
    "        // Mark the current node as visited and \n",
    "        // part of recursion stack \n",
    "        if (recStack[i]) \n",
    "            return true; \n",
    "  \n",
    "        if (visited[i]) \n",
    "            return false; \n",
    "              \n",
    "        visited[i] = true; \n",
    "  \n",
    "        recStack[i] = true; \n",
    "        List<Integer> children = adj.get(i); \n",
    "          \n",
    "        for (Integer c: children) \n",
    "            if (isCyclicUtil(c, visited, recStack)) \n",
    "                return true; \n",
    "                  \n",
    "        recStack[i] = false; \n",
    "  \n",
    "        return false; \n",
    "    } \n",
    "  \n",
    "    public void addEdge(int source, int dest) { \n",
    "        adj.get(source).add(dest); \n",
    "    } \n",
    "  \n",
    "    // Returns true if the graph contains a  \n",
    "    // cycle, else false. \n",
    "    // This function is a variation of DFS() in  \n",
    "    // https://www.geeksforgeeks.org/archives/18212 \n",
    "    public boolean isCyclic()  \n",
    "    { \n",
    "          \n",
    "        // Mark all the vertices as not visited and \n",
    "        // not part of recursion stack \n",
    "        boolean[] visited = new boolean[V]; \n",
    "        boolean[] recStack = new boolean[V]; \n",
    "          \n",
    "          \n",
    "        // Call the recursive helper function to \n",
    "        // detect cycle in different DFS trees \n",
    "        for (int i = 0; i < V; i++) \n",
    "            if (isCyclicUtil(i, visited, recStack)) \n",
    "                return true; \n",
    "  \n",
    "        return false; \n",
    "    } \n",
    "}"
   ]
  },
  {
   "cell_type": "code",
   "execution_count": 45,
   "metadata": {},
   "outputs": [
    {
     "name": "stdout",
     "output_type": "stream",
     "text": [
      "Graph contains cycle\n"
     ]
    }
   ],
   "source": [
    "// Driver code \n",
    "public static void main(String[] args) \n",
    "{ \n",
    "    Graph graph = new Graph(4); \n",
    "    graph.addEdge(0, 1); \n",
    "    graph.addEdge(0, 2); \n",
    "    graph.addEdge(1, 2); \n",
    "    graph.addEdge(2, 0); \n",
    "    graph.addEdge(2, 3); \n",
    "    graph.addEdge(3, 3); \n",
    "\n",
    "    if(graph.isCyclic()) \n",
    "        System.out.println(\"Graph contains cycle\"); \n",
    "    else\n",
    "        System.out.println(\"Graph doesn't \"\n",
    "                                + \"contain cycle\"); \n",
    "} \n",
    "main(args);"
   ]
  },
  {
   "cell_type": "code",
   "execution_count": 46,
   "metadata": {},
   "outputs": [],
   "source": [
    "/*\n",
    "Time Complexity of this method is same as time complexity of DFS traversal which is O(V+E).\n",
    "*/"
   ]
  },
  {
   "cell_type": "markdown",
   "metadata": {},
   "source": [
    "***https://youtu.be/joqmqvHC_Bo***"
   ]
  },
  {
   "cell_type": "markdown",
   "metadata": {},
   "source": [
    "**Related Link :**   ***https://www.geeksforgeeks.org/detect-cycle-direct-graph-using-colors/***"
   ]
  },
  {
   "cell_type": "markdown",
   "metadata": {},
   "source": [
    "## **446. Snake and Ladder Problem**\n",
    "https://www.geeksforgeeks.org/snake-ladder-problem-2/"
   ]
  },
  {
   "cell_type": "code",
   "execution_count": 47,
   "metadata": {},
   "outputs": [],
   "source": [
    "/*\n",
    "Given a snake and ladder board, \n",
    "    find the minimum number of dice throws required to reach the destination or last cell from source or 1st cell. \n",
    "    Basically, \n",
    "        the player has total control over outcome of dice throw \n",
    "        and wants to find out minimum number of throws required to reach last cell.\n",
    "\n",
    "If the player reaches a cell which is base of a ladder, \n",
    "    the player has to climb up that ladder and if reaches a cell is mouth of the snake, \n",
    "        has to go down to the tail of snake without a dice throw.\n",
    "*/"
   ]
  },
  {
   "cell_type": "markdown",
   "metadata": {},
   "source": [
    "<img src = \"https://media.geeksforgeeks.org/wp-content/uploads/snake-and-ladders.jpg\"/>"
   ]
  },
  {
   "cell_type": "code",
   "execution_count": 48,
   "metadata": {},
   "outputs": [],
   "source": [
    "/*\n",
    "For example, \n",
    "    consider the board shown, the minimum number of dice throws required to reach cell 30 from cell 1 is 3.\n",
    "\n",
    "Following are the steps:\n",
    "\n",
    "a) First throw two on dice to reach cell number 3 and then ladder to reach 22\n",
    "b) Then throw 6 to reach 28.\n",
    "c) Finally through 2 to reach 30.\n",
    "\n",
    "There can be other solutions as well like (2, 2, 6), (2, 4, 4), (2, 3, 5).. etc.\n",
    "*/"
   ]
  },
  {
   "cell_type": "code",
   "execution_count": 49,
   "metadata": {},
   "outputs": [],
   "source": [
    "/*\n",
    "The idea is to consider the given snake and ladder board as a directed graph with number of vertices \n",
    "    equal to the number of cells in the board. \n",
    "The problem reduces to finding the shortest path in a graph. \n",
    "Every vertex of the graph has an edge to next six vertices if next 6 vertices do not have a snake or ladder.\n",
    "If any of the next six vertices has a snake or ladder, \n",
    "    then the edge from current vertex goes to the top of the ladder or tail of the snake.\n",
    "Since all edges are of equal weight, we can efficiently find shortest path using Breadth First Search of the graph.\n",
    "\n",
    "\n",
    "Following is the implementation of the above idea. \n",
    "The input is represented by two things,\n",
    "    first is ‘N’ which is number of cells in the given board, \n",
    "    second is an array ‘move[0…N-1]’ of size N.\n",
    "An entry move[i] is -1 \n",
    "    if there is no snake and no ladder from i,\n",
    "otherwise\n",
    "    move[i] contains index of destination cell for the snake or the ladder at i.\n",
    "*/"
   ]
  },
  {
   "cell_type": "code",
   "execution_count": 50,
   "metadata": {},
   "outputs": [],
   "source": [
    "\n",
    "// An entry in queue used in BFS \n",
    "static class qentry  \n",
    "{ \n",
    "    int v;// Vertex number \n",
    "    int dist;// Distance of this vertex from source \n",
    "} \n",
    "\n",
    "// This function returns minimum number of dice  \n",
    "// throws required to Reach last cell from 0'th cell  \n",
    "// in a snake and ladder game. move[] is an array of  \n",
    "// size N where N is no. of cells on board If there  \n",
    "// is no snake or ladder from cell i, then move[i]  \n",
    "// is -1 Otherwise move[i] contains cell to which  \n",
    "// snake or ladder at i takes to. \n",
    "static int getMinDiceThrows(int move[], int n)  \n",
    "{ \n",
    "    int visited[] = new int[n]; \n",
    "    Queue<qentry> q = new LinkedList<>(); \n",
    "    qentry qe = new qentry(); \n",
    "    qe.v = 0; \n",
    "    qe.dist = 0; \n",
    "\n",
    "    // Mark the node 0 as visited and enqueue it. \n",
    "    visited[0] = 1; \n",
    "    q.add(qe); \n",
    "\n",
    "    // Do a BFS starting from vertex at index 0 \n",
    "    while (!q.isEmpty())  \n",
    "    { \n",
    "        qe = q.remove(); \n",
    "        int v = qe.v; \n",
    "\n",
    "        // If front vertex is the destination  \n",
    "        // vertex, we are done \n",
    "        if (v == n - 1) \n",
    "            break; \n",
    "\n",
    "        // Otherwise dequeue the front vertex and  \n",
    "        // enqueue its adjacent vertices (or cell  \n",
    "        // numbers reachable through a dice throw) \n",
    "        for (int j = v + 1; j <= (v + 6) && j < n; ++j)  \n",
    "        { \n",
    "            // If this cell is already visited, then ignore \n",
    "            if (visited[j] == 0) \n",
    "            { \n",
    "                // Otherwise calculate its distance and  \n",
    "                // mark it as visited \n",
    "                qentry a = new qentry(); \n",
    "                a.dist = (qe.dist + 1); \n",
    "                visited[j] = 1; \n",
    "\n",
    "                // Check if there a snake or ladder at 'j' \n",
    "                // then tail of snake or top of ladder \n",
    "                // become the adjacent of 'i' \n",
    "                if (move[j] != -1) \n",
    "                    a.v = move[j]; \n",
    "                else\n",
    "                    a.v = j; \n",
    "                q.add(a); \n",
    "            } \n",
    "        } \n",
    "    } \n",
    "\n",
    "    // We reach here when 'qe' has last vertex \n",
    "    // return the distance of vertex in 'qe' \n",
    "    return qe.dist; \n",
    "}"
   ]
  },
  {
   "cell_type": "code",
   "execution_count": 51,
   "metadata": {},
   "outputs": [
    {
     "name": "stdout",
     "output_type": "stream",
     "text": [
      "Min Dice throws required is 3\n"
     ]
    }
   ],
   "source": [
    "public static void main(String[] args)  \n",
    "{ \n",
    "    // Let us construct the board given in above diagram \n",
    "    int N = 30; \n",
    "    int moves[] = new int[N]; \n",
    "    for (int i = 0; i < N; i++) \n",
    "        moves[i] = -1; \n",
    "\n",
    "    // Ladders \n",
    "    moves[2] = 21; \n",
    "    moves[4] = 7; \n",
    "    moves[10] = 25; \n",
    "    moves[19] = 28; \n",
    "\n",
    "    // Snakes \n",
    "    moves[26] = 0; \n",
    "    moves[20] = 8; \n",
    "    moves[16] = 3; \n",
    "    moves[18] = 6; \n",
    "\n",
    "    System.out.println(\"Min Dice throws required is \" +  \n",
    "                      getMinDiceThrows(moves, N)); \n",
    "} \n",
    "main(args);"
   ]
  },
  {
   "cell_type": "code",
   "execution_count": 52,
   "metadata": {},
   "outputs": [],
   "source": [
    "/*\n",
    "Time complexity of the above solution is O(N) \n",
    "    as every cell is added and removed only once from queue. \n",
    "    And a typical enqueue or dequeue operation takes O(1) time.\n",
    "*/"
   ]
  },
  {
   "cell_type": "markdown",
   "metadata": {},
   "source": [
    "## **447. Given a sorted dictionary of an alien language, find order of characters**\n",
    "https://www.geeksforgeeks.org/given-sorted-dictionary-find-precedence-characters/"
   ]
  },
  {
   "cell_type": "code",
   "execution_count": 53,
   "metadata": {},
   "outputs": [],
   "source": [
    "/*\n",
    "Already Discussed In 18 March Code\n",
    "*/"
   ]
  },
  {
   "cell_type": "markdown",
   "metadata": {},
   "source": [
    "## **448. Print all Jumping Numbers smaller than or equal to a given value**\n",
    "https://www.geeksforgeeks.org/print-all-jumping-numbers-smaller-than-or-equal-to-a-given-value/"
   ]
  },
  {
   "cell_type": "code",
   "execution_count": 54,
   "metadata": {},
   "outputs": [],
   "source": [
    "/*\n",
    "A number is called as a Jumping Number \n",
    "    if all adjacent digits in it differ by 1. \n",
    "\n",
    "The difference between ‘9’ and ‘0’ is not considered as 1.\n",
    "\n",
    "All single digit numbers are considered as Jumping Numbers. \n",
    "For example \n",
    "    7, 8987 and 4343456 are Jumping numbers \n",
    "    but 796 and 89098 are not.\n",
    "\n",
    "Given a positive number x, \n",
    "    print all Jumping Numbers smaller than or equal to x. \n",
    "The numbers can be printed in any order.\n",
    "*/"
   ]
  },
  {
   "cell_type": "code",
   "execution_count": 55,
   "metadata": {},
   "outputs": [],
   "source": [
    "/*\n",
    "Example:\n",
    "\n",
    "Input: x = 20\n",
    "Output:  0 1 2 3 4 5 6 7 8 9 10 12\n",
    "\n",
    "Input: x = 105\n",
    "Output:  0 1 2 3 4 5 6 7 8 9 10 12\n",
    "         21 23 32 34 43 45 54 56 65\n",
    "         67 76 78 87 89 98 101\n",
    "\n",
    "Note: Order of output doesn't matter, \n",
    "i.e. numbers can be printed in any order\n",
    "*/"
   ]
  },
  {
   "cell_type": "code",
   "execution_count": 56,
   "metadata": {},
   "outputs": [],
   "source": [
    "/*\n",
    "One Simple Solution is to traverse all numbers from 0 to x.\n",
    "For every traversed number, \n",
    "    check if it is a Jumping number. \n",
    "If yes, \n",
    "    then print it. \n",
    "Otherwise \n",
    "    ignore it. \n",
    "    \n",
    "Time Complexity of this solution is O(x).\n",
    "*/"
   ]
  },
  {
   "cell_type": "code",
   "execution_count": 57,
   "metadata": {},
   "outputs": [],
   "source": [
    "/*\n",
    "An Efficient Solution can solve this problem in O(k) time \n",
    "    where k is number of Jumping Numbers smaller than or equal to x. \n",
    "    The idea is use BFS or DFS.\n",
    "\n",
    "Assume that we have a graph where the starting node is 0 \n",
    "and we need to traverse it from the start node to all the reachable nodes.\n",
    "\n",
    "With the restrictions given in the graph about the jumping numbers, \n",
    "\n",
    "what do you think should be the restrictions defining the next transitions in the graph.\n",
    "*/"
   ]
  },
  {
   "cell_type": "code",
   "execution_count": 58,
   "metadata": {},
   "outputs": [],
   "source": [
    "/*\n",
    "Lets take a example for input x = 90\n",
    "\n",
    "Start node = 0\n",
    "From 0, we can move to 1 2 3 4 5 6 7 8 9 \n",
    "[these are not in our range so we don't add it]\n",
    "\n",
    "Now from 1, we can move to 12 and 10 \n",
    "From 2, 23 and 21\n",
    "From 3, 34 and 32\n",
    ".\n",
    ".\n",
    ".\n",
    ".\n",
    ".\n",
    ".\n",
    "and so on.\n",
    "*/"
   ]
  },
  {
   "cell_type": "code",
   "execution_count": 59,
   "metadata": {},
   "outputs": [],
   "source": [
    "class GFG { \n",
    "  \n",
    "    // Prints all jumping numbers smaller than or equal to x starting \n",
    "    // with 'num'. It mainly does BFS starting from 'num'. \n",
    "    public void bfs(int x, int num) \n",
    "    { \n",
    "        // Create a queue and enqueue 'i' to it \n",
    "        Queue<Integer> q = new LinkedList<Integer>(); \n",
    "        q.add(num); \n",
    "  \n",
    "        // Do BFS starting from i \n",
    "        while (!q.isEmpty()) { \n",
    "            num = q.peek(); \n",
    "            q.poll(); \n",
    "            if (num <= x) { \n",
    "                System.out.print(num + \" \"); \n",
    "                int last_digit = num % 10; \n",
    "  \n",
    "                // If last digit is 0, append next digit only \n",
    "                if (last_digit == 0) { \n",
    "                    q.add((num * 10) + (last_digit + 1)); \n",
    "                } \n",
    "  \n",
    "                // If last digit is 9, append previous digit only \n",
    "                else if (last_digit == 9) { \n",
    "                    q.add((num * 10) + (last_digit - 1)); \n",
    "                } \n",
    "  \n",
    "                // If last digit is neighter 0 nor 9, append both \n",
    "                // previous and next digits \n",
    "                else { \n",
    "                    q.add((num * 10) + (last_digit - 1)); \n",
    "                    q.add((num * 10) + (last_digit + 1)); \n",
    "                } \n",
    "            } \n",
    "        } \n",
    "    } \n",
    "  \n",
    "    // Prints all jumping numbers smaller than or equal to \n",
    "    // a positive number x \n",
    "    public void printJumping(int x) \n",
    "    { \n",
    "        System.out.print(\"0 \"); \n",
    "  \n",
    "        for (int i = 1; i <= 9 && i <= x; i++) { \n",
    "            this.bfs(x, i); \n",
    "        } \n",
    "    }\n",
    "}"
   ]
  },
  {
   "cell_type": "code",
   "execution_count": 60,
   "metadata": {},
   "outputs": [
    {
     "name": "stdout",
     "output_type": "stream",
     "text": [
      "0 1 10 12 2 21 23 3 32 34 4 5 6 7 8 9 "
     ]
    }
   ],
   "source": [
    "// Driver program \n",
    "public static void main(String[] args) throws IOException \n",
    "{ \n",
    "    int x = 40; \n",
    "    GFG obj = new GFG(); \n",
    "    obj.printJumping(x); \n",
    "} \n",
    "main(args);"
   ]
  },
  {
   "cell_type": "markdown",
   "metadata": {},
   "source": [
    "***https://youtu.be/5lFiDUmTtCM***"
   ]
  },
  {
   "cell_type": "markdown",
   "metadata": {},
   "source": [
    "## **449. Optimal read list for given number of days**\n",
    "https://www.geeksforgeeks.org/optimal-read-list-given-number-days/"
   ]
  },
  {
   "cell_type": "code",
   "execution_count": 61,
   "metadata": {},
   "outputs": [],
   "source": [
    "/*\n",
    "A person is determined to finish the book in ‘k’ days \n",
    "but he never wants to stop a chapter in between. \n",
    "\n",
    "Find the optimal assignment of chapters, \n",
    "    such that the person doesn’t read too many extra/less pages overall.\n",
    "*/"
   ]
  },
  {
   "cell_type": "code",
   "execution_count": 62,
   "metadata": {},
   "outputs": [],
   "source": [
    "/*\n",
    "Example:\n",
    "\n",
    "Input:  Number of Days to Finish book = 2\n",
    "        Number of pages in chapters = {10, 5, 5}\n",
    "Output: Day 1:  Chapter 1\n",
    "        Day 2:  Chapters 2 and 3\n",
    "\n",
    "Input:  Number of Days to Finish book = 3\n",
    "        Number of pages in chapters = {8, 5, 6, 12}\n",
    "Output: Day 1:  Chapter 1\n",
    "        Day 2:  Chapters 2 and 3 \n",
    "        Day 2:  Chapter 4\n",
    "*/"
   ]
  },
  {
   "cell_type": "code",
   "execution_count": 63,
   "metadata": {},
   "outputs": [],
   "source": [
    "/*\n",
    "The target is to minimize the sum of differences between the pages read on each day and average number of pages. \n",
    "If the average number of pages is a non-integer, \n",
    "    then it should be rounded to closest integer.\n",
    "\n",
    "In above example 2,\n",
    "average number of pages is (8 + 5 + 6 + 12)/3 = 31/3 which is rounded to 10. \n",
    "So the difference between average and number of pages on each day for the output shown above is \n",
    "        “abs(8-10) + abs(5+6-10) + abs(12-10)” which is 5. \n",
    "\n",
    "The value 5 is the optimal value of sum of differences.\n",
    "*/"
   ]
  },
  {
   "cell_type": "code",
   "execution_count": 64,
   "metadata": {},
   "outputs": [],
   "source": [
    "/*\n",
    "Consider the example 2 above where a book has 4 chapters with pages 8, 5, 6 and 12. \n",
    "User wishes to finish it in 3 days. \n",
    "\n",
    "The graphical representation of the above scenario is,\n",
    "*/"
   ]
  },
  {
   "cell_type": "markdown",
   "metadata": {},
   "source": [
    "<img src = \"https://media.geeksforgeeks.org/wp-content/uploads/OptimalReadGraph.png\"/>"
   ]
  },
  {
   "cell_type": "code",
   "execution_count": 65,
   "metadata": {},
   "outputs": [],
   "source": [
    "/*\n",
    "In the above graph vertex represents the chapter and an edge e(u, v) represents \n",
    "    number of pages to be read to reach ‘v ‘ from ‘u ‘. \n",
    "Sink node is added to symbolize the end of book.\n",
    "\n",
    "First, calculate the average number of pages to read in a day (here 31/3 roughly 10). \n",
    "New edge weight e ‘(u, v) would be the mean difference |avg – e(u, v)|. \n",
    "Modified graph for the above problem would be,\n",
    "*/"
   ]
  },
  {
   "cell_type": "markdown",
   "metadata": {},
   "source": [
    "<img src = \"https://media.geeksforgeeks.org/wp-content/uploads/OptimalReadGraph-1.png\"/>"
   ]
  },
  {
   "cell_type": "code",
   "execution_count": 66,
   "metadata": {},
   "outputs": [],
   "source": [
    "/*\n",
    "The idea is to start from chapter 1 and do a DFS to find sink with count of edges being ‘k ‘.\n",
    "Keep storing the visited vertices in an array say ‘path[]’.\n",
    "If we reach the destination vertex,\n",
    "    and path sum is less than the optimal path update the optimal assignment optimal_path[]. \n",
    "Note, \n",
    "    that the graph is DAG thus there is no need to take care of cycles during DFS.\n",
    "    \n",
    "Following, is the C++ implementation of the same, adjacency matrix is used to represent the graph. \n",
    "\n",
    "The following program has mainly 4 phases.\n",
    "1) Construct a directed acyclic graph.\n",
    "2) Find the optimal path using DFS.\n",
    "3) Print the found optimal path.\n",
    "*/"
   ]
  },
  {
   "cell_type": "markdown",
   "metadata": {},
   "source": [
    "***https://ideone.com/nz15tb***"
   ]
  },
  {
   "cell_type": "markdown",
   "metadata": {},
   "source": [
    "## **450. Count number of trees in a forest**\n",
    "https://www.geeksforgeeks.org/count-number-trees-forest/"
   ]
  },
  {
   "cell_type": "code",
   "execution_count": 67,
   "metadata": {},
   "outputs": [],
   "source": [
    "/*\n",
    "Given n nodes of a forest (collection of trees), find the number of trees in the forest.\n",
    "*/"
   ]
  },
  {
   "cell_type": "code",
   "execution_count": 68,
   "metadata": {},
   "outputs": [],
   "source": [
    "/*\n",
    "Examples :\n",
    "\n",
    "Input :  edges[] = {0, 1}, {0, 2}, {3, 4}\n",
    "Output : 2\n",
    "Explanation : There are 2 trees\n",
    "                   0       3\n",
    "                  / \\       \\\n",
    "                 1   2       4\n",
    "*/"
   ]
  },
  {
   "cell_type": "code",
   "execution_count": 69,
   "metadata": {},
   "outputs": [],
   "source": [
    "/*\n",
    "Time Complexity : O(V + E)\n",
    "\n",
    "Approach :\n",
    "1. Apply DFS on every node.\n",
    "2. Increment count by one if every connected node is visited from one source.\n",
    "3. Again perform DFS traversal if some nodes yet not visited.\n",
    "4. Count will give the number of trees in forest.\n",
    "*/"
   ]
  },
  {
   "cell_type": "code",
   "execution_count": 70,
   "metadata": {},
   "outputs": [],
   "source": [
    "// This class represents a directed graph using adjacency list  \n",
    "// representation  \n",
    "class Graph  \n",
    "{  \n",
    "    private int V; // No. of vertices  \n",
    "  \n",
    "    // Array of lists for Adjacency List Representation  \n",
    "    private LinkedList<Integer> adj[];  \n",
    "  \n",
    "    // Constructor  \n",
    "    Graph(int v)  \n",
    "    {  \n",
    "        V = v;  \n",
    "        adj = new LinkedList[v];  \n",
    "        for (int i = 0; i <  v; ++i)  \n",
    "            adj[i] = new LinkedList();  \n",
    "    }  \n",
    "  \n",
    "    //Function to add an edge into the graph  \n",
    "    void addEdge(int v, int w)  \n",
    "    {  \n",
    "        adj[v].add(w); // Add w to v's list.  \n",
    "    }  \n",
    "  \n",
    "    // A function used by DFS  \n",
    "    void DFSUtil(int v,boolean visited[])  \n",
    "    {  \n",
    "        // Mark the current node as visited and print it  \n",
    "        visited[v] = true;  \n",
    "          \n",
    "        // Recur for all the vertices adjacent to this vertex  \n",
    "        Iterator<Integer> i = adj[v].listIterator();  \n",
    "        while (i.hasNext())  \n",
    "        {  \n",
    "            int n = i.next();  \n",
    "            if (!visited[n]) \n",
    "            { \n",
    "                DFSUtil(n,visited);  \n",
    "            } \n",
    "        } \n",
    "    }  \n",
    "  \n",
    "    // The function to do DFS traversal. It uses recursive DFSUtil()  \n",
    "    int countTrees() \n",
    "    {  \n",
    "        // Mark all the vertices as not visited(set as  \n",
    "        // false by default in java)  \n",
    "        boolean visited[] = new boolean[V];  \n",
    "        int res = 0; \n",
    "          \n",
    "        // Call the recursive helper function to print DFS traversal  \n",
    "        // starting from all vertices one by one  \n",
    "        for (int i = 0; i < V; ++i)  \n",
    "        { \n",
    "            if (visited[i] == false) \n",
    "            {  \n",
    "                DFSUtil(i, visited);  \n",
    "                res ++; \n",
    "            } \n",
    "        } \n",
    "        return res; \n",
    "    }  \n",
    "}"
   ]
  },
  {
   "cell_type": "code",
   "execution_count": 71,
   "metadata": {},
   "outputs": [
    {
     "name": "stdout",
     "output_type": "stream",
     "text": [
      "2\n"
     ]
    }
   ],
   "source": [
    "// Driver code \n",
    "public static void main(String args[])  \n",
    "{  \n",
    "    Graph g = new Graph(5);  \n",
    "\n",
    "    g.addEdge(0, 1);  \n",
    "    g.addEdge(0, 2);  \n",
    "    g.addEdge(3, 4);  \n",
    "\n",
    "    System.out.println(g.countTrees());  \n",
    "}  \n",
    "main(args);"
   ]
  },
  {
   "cell_type": "markdown",
   "metadata": {},
   "source": [
    "## **451. Construct binary palindrome by repeated appending and trimming**\n",
    "https://www.geeksforgeeks.org/construct-binary-palindrome-by-repeated-appending-and-trimming/"
   ]
  },
  {
   "cell_type": "code",
   "execution_count": 72,
   "metadata": {},
   "outputs": [],
   "source": [
    "/*\n",
    "Given n and k, \n",
    "Construct a palindrome of size n using a binary number of size k repeating itself to wrap into the palindrome.\n",
    "The palindrome must always begin with 1 and contains maximum number of zeros.\n",
    "*/"
   ]
  },
  {
   "cell_type": "code",
   "execution_count": 73,
   "metadata": {},
   "outputs": [],
   "source": [
    "/*\n",
    "Examples :\n",
    "\n",
    "Input : n = 5,  k = 3\n",
    "Output : 11011 \n",
    "Explanation : the 3 sized substring is\n",
    "110 combined twice and trimming the extra \n",
    "0 in the end to give 11011.\n",
    "\n",
    "Input : n = 2,  k = 8\n",
    "Output : 11 \n",
    "Explanation : the 8 sized substring is 11...... \n",
    "wrapped to two places to give 11.\n",
    "*/"
   ]
  },
  {
   "cell_type": "code",
   "execution_count": 74,
   "metadata": {},
   "outputs": [],
   "source": [
    "/*\n",
    "The naive approach would be to try every palindrome of size k starting with 1 \n",
    "such that a palindrome of size n is formed. \n",
    "\n",
    "This approach has an exponential complexity.\n",
    "*/"
   ]
  },
  {
   "cell_type": "code",
   "execution_count": 75,
   "metadata": {},
   "outputs": [],
   "source": [
    "/*\n",
    "Time Complexity : O(n)\n",
    "\n",
    "A better way to do this is to initialize the k sized binary number with the index \n",
    "and connect the palindrome in the way it should be. Like last character of palindrome should match to first,\n",
    "find which indexes will be present at those locations and link them.\n",
    "Set every character linked with 0th index to 1 and the string is ready. \n",
    "This approach will have a linear complexity.\n",
    "\n",
    "In this approach, first lay the index of the k sized binary to hold into an array, \n",
    "\n",
    "for example if n = 7, k = 3 arr becomes [0, 1, 2, 0, 1, 2, 0].\n",
    "\n",
    "Following that in the connectchars graph, \n",
    "connect the indices of the k sized binary \n",
    "    which should be same by going through the property of palindrome \n",
    "    which is kth and (n – k – 1)th variable should be same, \n",
    "    such that 0 is linked to 1(and vice versa), 1 is linked to 2(and vice versa) and so on.\n",
    "\n",
    "After that, \n",
    "    check what is linked with 0 in connectchars array\n",
    "    and make all of the associated indices one \n",
    "        (because the first number should be non-zero) by using dfs approach.\n",
    "    In the dfs, pass 0, the final answer string and the graph. \n",
    "    Begin by making the parent 1 and checking \n",
    "        if its children are zero,\n",
    "        if they are make them and their children 1. \n",
    "\n",
    "This makes only the required indices of the k sized string one, others are left zero. \n",
    "Finally, the answer contains the 0 to k – 1 indexes and corresponding to arr the digits are printed.\n",
    "*/"
   ]
  },
  {
   "cell_type": "code",
   "execution_count": 76,
   "metadata": {},
   "outputs": [],
   "source": [
    "// function to apply DFS \n",
    "static void dfs(int parent, int ans[],  \n",
    "                Vector<Integer> connectchars[]) \n",
    "{ \n",
    "    // set the parent marked \n",
    "    ans[parent] = 1; \n",
    "  \n",
    "    // if the node has not been visited set it and \n",
    "    // its children marked \n",
    "    for (int i = 0; i < connectchars[parent].size(); i++)  \n",
    "    { \n",
    "        if (ans[connectchars[parent].get(i)] != 1) \n",
    "            dfs(connectchars[parent].get(i), ans, connectchars); \n",
    "    } \n",
    "} \n",
    "  \n",
    "static void printBinaryPalindrome(int n, int k) \n",
    "{ \n",
    "    int []arr = new int[n]; \n",
    "    int []ans = new int[n]; \n",
    "  \n",
    "    // link which digits must be equal \n",
    "    Vector<Integer> []connectchars = new Vector[k]; \n",
    "    for (int i = 0; i < k; i++) \n",
    "        connectchars[i] = new Vector<Integer>(); \n",
    "    for (int i = 0; i < n; i++) \n",
    "        arr[i] = i % k; \n",
    "  \n",
    "    // connect the two indices \n",
    "    for (int i = 0; i < n / 2; i++)  \n",
    "    { \n",
    "        connectchars[arr[i]].add(arr[n - i - 1]); \n",
    "        connectchars[arr[n - i - 1]].add(arr[i]); \n",
    "    } \n",
    "  \n",
    "    // set everything connected to  \n",
    "    // first character as 1 \n",
    "    dfs(0, ans, connectchars); \n",
    "  \n",
    "    for (int i = 0; i < n; i++) \n",
    "        System.out.print(ans[arr[i]]); \n",
    "} "
   ]
  },
  {
   "cell_type": "code",
   "execution_count": 77,
   "metadata": {},
   "outputs": [
    {
     "name": "stdout",
     "output_type": "stream",
     "text": [
      "1100110011"
     ]
    }
   ],
   "source": [
    "// Driver code \n",
    "public static void main(String[] args) \n",
    "{ \n",
    "    int n = 10, k = 4; \n",
    "    printBinaryPalindrome(n, k); \n",
    "} \n",
    "main(args);"
   ]
  },
  {
   "cell_type": "markdown",
   "metadata": {},
   "source": [
    "## **451. Find Eventual Safe States**\n",
    "https://leetcode.com/problems/find-eventual-safe-states/description/"
   ]
  },
  {
   "cell_type": "code",
   "execution_count": 78,
   "metadata": {},
   "outputs": [],
   "source": [
    "/*\n",
    "In a directed graph,\n",
    "    we start at some node and every turn, walk along a directed edge of the graph.  \n",
    "If we reach a node that is terminal (that is, it has no outgoing directed edges), \n",
    "    we stop.\n",
    "\n",
    "Now, say our starting node is eventually safe \n",
    "    if and only if we must eventually walk to a terminal node. \n",
    "More specifically,\n",
    "    there exists a natural number K so that for any choice of where to walk, \n",
    "        we must have stopped at a terminal node in less than K steps.\n",
    "\n",
    "Which nodes are eventually safe?  \n",
    "\n",
    "Return them as an array in sorted order.\n",
    "\n",
    "The directed graph has N nodes with labels 0, 1, ..., N-1, \n",
    "    where N is the length of graph.  \n",
    "The graph is given in the following form:\n",
    "    graph[i] is a list of labels j such that (i, j) is a directed edge of the graph.\n",
    "*/"
   ]
  },
  {
   "cell_type": "code",
   "execution_count": 79,
   "metadata": {},
   "outputs": [],
   "source": [
    "/*\n",
    "Example:\n",
    "\n",
    "Input: graph = [[1,2],[2,3],[5],[0],[5],[],[]]\n",
    "Output: [2,4,5,6]\n",
    "\n",
    "Here is a diagram of the above graph.\n",
    "*/"
   ]
  },
  {
   "cell_type": "markdown",
   "metadata": {},
   "source": [
    "<img src = \"https://s3-lc-upload.s3.amazonaws.com/uploads/2018/03/17/picture1.png\"/>"
   ]
  },
  {
   "cell_type": "code",
   "execution_count": 80,
   "metadata": {},
   "outputs": [],
   "source": [
    "/*\n",
    "Note:\n",
    "\n",
    "1. graph will have length at most 10000.\n",
    "2. The number of edges in the graph will not exceed 32000.\n",
    "3. Each graph[i] will be a sorted list of different integers, chosen within the range [0, graph.length - 1].\n",
    "*/"
   ]
  },
  {
   "cell_type": "code",
   "execution_count": 81,
   "metadata": {},
   "outputs": [],
   "source": [
    "/*\n",
    "Approach #1: Reverse Edges [Accepted]\n",
    "\n",
    "Intuition\n",
    "\n",
    "The crux of the problem is whether you can reach a cycle from the node you start in. \n",
    "If you can,\n",
    "    then there is a way to avoid stopping indefinitely;\n",
    "and if you can't, \n",
    "    then after some finite number of steps you'll stop.\n",
    "\n",
    "Thinking about this property more, \n",
    "    a node is eventually safe if all it's outgoing edges are to nodes that are eventually safe.\n",
    "\n",
    "This gives us the following idea: \n",
    "    we start with nodes that have no outgoing edges - those are eventually safe. \n",
    "    Now, we can update any nodes which only point to eventually safe nodes - those are also eventually safe. \n",
    "    Then, we can update again, and so on.\n",
    "\n",
    "However, we'll need a good algorithm to make sure our updates are efficient.\n",
    "*/"
   ]
  },
  {
   "cell_type": "code",
   "execution_count": 82,
   "metadata": {},
   "outputs": [],
   "source": [
    "/*\n",
    "Complexity Analysis\n",
    "\n",
    "Time Complexity: O(N + E)O(N+E), where NN is the number of nodes in the given graph, and EE is the total number of edges.\n",
    "\n",
    "Space Complexity: O(N)O(N) in additional space complexity.\n",
    "*/"
   ]
  },
  {
   "cell_type": "code",
   "execution_count": 83,
   "metadata": {},
   "outputs": [],
   "source": [
    "/*\n",
    "Algorithm\n",
    "\n",
    "We'll keep track of graph, \n",
    "a way to know for some node i,\n",
    "what the outgoing edges (i, j) are. \n",
    "We'll also keep track of rgraph, a way to know for some node j, what the incoming edges (i, j) are.\n",
    "\n",
    "Now for every node j which was declared eventually safe,\n",
    "    we'll process them in a queue. We'll look at all parents i = rgraph[j] \n",
    "    and remove the edge (i, j) from the graph (from graph). \n",
    "If this causes the graph to have no outgoing edges graph[i], \n",
    "    then we'll declare it eventually safe and add it to our queue.\n",
    "\n",
    "Also, we'll keep track of everything we ever added to the queue,\n",
    "so we can read off the answer in sorted order later.\n",
    "*/"
   ]
  },
  {
   "cell_type": "code",
   "execution_count": 84,
   "metadata": {},
   "outputs": [],
   "source": [
    "class Solution {\n",
    "    public List<Integer> eventualSafeNodes(int[][] G) {\n",
    "        int N = G.length;\n",
    "        boolean[] safe = new boolean[N];\n",
    "\n",
    "        List<Set<Integer>> graph = new ArrayList();\n",
    "        List<Set<Integer>> rgraph = new ArrayList();\n",
    "        for (int i = 0; i < N; ++i) {\n",
    "            graph.add(new HashSet());\n",
    "            rgraph.add(new HashSet());\n",
    "        }\n",
    "\n",
    "        Queue<Integer> queue = new LinkedList();\n",
    "\n",
    "        for (int i = 0; i < N; ++i) {\n",
    "            if (G[i].length == 0)\n",
    "                queue.offer(i);\n",
    "            for (int j: G[i]) {\n",
    "                graph.get(i).add(j);\n",
    "                rgraph.get(j).add(i);\n",
    "            }\n",
    "        }\n",
    "\n",
    "        while (!queue.isEmpty()) {\n",
    "            int j = queue.poll();\n",
    "            safe[j] = true;\n",
    "            for (int i: rgraph.get(j)) {\n",
    "                graph.get(i).remove(j);\n",
    "                if (graph.get(i).isEmpty())\n",
    "                    queue.offer(i);\n",
    "            }\n",
    "        }\n",
    "\n",
    "        List<Integer> ans = new ArrayList();\n",
    "        for (int i = 0; i < N; ++i) if (safe[i])\n",
    "            ans.add(i);\n",
    "\n",
    "        return ans;\n",
    "    }\n",
    "}"
   ]
  },
  {
   "cell_type": "code",
   "execution_count": 85,
   "metadata": {},
   "outputs": [],
   "source": [
    "/*\n",
    "For DFS Approach View Below Link\n",
    "*/"
   ]
  },
  {
   "cell_type": "markdown",
   "metadata": {},
   "source": [
    "***https://leetcode.com/problems/find-eventual-safe-states/solution/***"
   ]
  },
  {
   "cell_type": "code",
   "execution_count": null,
   "metadata": {},
   "outputs": [],
   "source": []
  }
 ],
 "metadata": {
  "kernelspec": {
   "display_name": "Java",
   "language": "java",
   "name": "java"
  },
  "language_info": {
   "codemirror_mode": "java",
   "file_extension": ".jshell",
   "mimetype": "text/x-java-source",
   "name": "Java",
   "pygments_lexer": "java",
   "version": "11.0.6+8-LTS"
  },
  "toc": {
   "base_numbering": 1,
   "nav_menu": {},
   "number_sections": true,
   "sideBar": true,
   "skip_h1_title": false,
   "title_cell": "Table of Contents",
   "title_sidebar": "Contents",
   "toc_cell": false,
   "toc_position": {},
   "toc_section_display": true,
   "toc_window_display": true
  }
 },
 "nbformat": 4,
 "nbformat_minor": 2
}
