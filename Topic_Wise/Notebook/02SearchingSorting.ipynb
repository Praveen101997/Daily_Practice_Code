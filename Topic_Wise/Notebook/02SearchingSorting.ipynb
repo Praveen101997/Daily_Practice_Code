{
 "cells": [
  {
   "cell_type": "markdown",
   "metadata": {},
   "source": [
    "# -------------------------------------Searching & Sorting-------------------------------------\n",
    "**==============================================================================**\n",
    "# Assembled By - Praveen Kumar Sharma\n",
    "# Source - GeeksForGeeks\n",
    "**==============================================================================**"
   ]
  },
  {
   "cell_type": "code",
   "execution_count": 1,
   "metadata": {},
   "outputs": [],
   "source": [
    "import java.util.*;\n",
    "import java.io.*;\n",
    "import java.util.Arrays;\n",
    "String[] args =new String[0];"
   ]
  },
  {
   "cell_type": "markdown",
   "metadata": {},
   "source": [
    "## **48. Majority Element**\n",
    "https://www.geeksforgeeks.org/majority-element/"
   ]
  },
  {
   "cell_type": "code",
   "execution_count": 2,
   "metadata": {},
   "outputs": [],
   "source": [
    "/*\n",
    "Write a function which takes an array \n",
    "and prints the majority element (if it exists), \n",
    "otherwise prints “No Majority Element”. \n",
    "A majority element in an array A[] of size n is an element that appears more than n/2 times \n",
    "(and hence there is at most one such element).\n",
    "*/"
   ]
  },
  {
   "cell_type": "code",
   "execution_count": 3,
   "metadata": {},
   "outputs": [],
   "source": [
    "/*\n",
    "Examples :\n",
    "\n",
    "Input : {3, 3, 4, 2, 4, 4, 2, 4, 4}\n",
    "Output : 4 \n",
    "\n",
    "Input : {3, 3, 4, 2, 4, 4, 2, 4}\n",
    "Output : No Majority Element\n",
    "*/"
   ]
  },
  {
   "cell_type": "code",
   "execution_count": 4,
   "metadata": {},
   "outputs": [],
   "source": [
    "/*\n",
    "METHOD 1 (Basic)\n",
    "\n",
    "The basic solution is to have two loops and keep track of maximum count for all different elements. \n",
    "If maximum count becomes greater than n/2 then break the loops and return the element having maximum count. \n",
    "If maximum count doesn’t become more than n/2 then majority element doesn’t exist.\n",
    "\n",
    "Time Complexity : O(n*n).\n",
    "Auxiliary Space : O(1).\n",
    "*/"
   ]
  },
  {
   "cell_type": "code",
   "execution_count": 5,
   "metadata": {},
   "outputs": [],
   "source": [
    "/*\n",
    "METHOD 2 (Using Binary Search Tree)\n",
    "\n",
    "Insert elements in BST one by one and if an element is already present then increment the count of the node. \n",
    "At any stage, if count of a node becomes more than n/2 then return.\n",
    "The method works well for the cases where n/2+1 occurrences of the majority element is present in the starting of the array, \n",
    "for example {1, 1, 1, 1, 1, 2, 3, 4}.\n",
    "\n",
    "Time Complexity : If a Binary Search Tree is used then time complexity will be O(n^2). \n",
    "                  If a self-balancing-binary-search tree is used then O(nlogn)\n",
    "Auxiliary Space : O(n)\n",
    "*/"
   ]
  },
  {
   "cell_type": "code",
   "execution_count": 6,
   "metadata": {},
   "outputs": [],
   "source": [
    "/*\n",
    "METHOD 3 (Using Moore’s Voting Algorithm)\n",
    "Time Complexity: O(n)\n",
    "Auxiliary Space : O(1)\n",
    "\n",
    "This is a two step process.\n",
    "\n",
    "NOTE :  This Method only works when we are given that majority element do exist in the array , \n",
    "        otherwise this method won’t work , \n",
    "        as in the problem definition we said that majority element may or may not exist but for applying this approach you can assume that majority element do exist in the given input array\n",
    "\n",
    "1. The first step gives the element that may be majority element in the array. \n",
    "   If there is a majority element in an array, then this step will definitely return majority element, \n",
    "   otherwise it will return candidate for majority element.\n",
    "2. Check if the element obtained from above step is majority element.\n",
    "   This step is necessary as we are not always sure that element return by first step is majority element.\n",
    "*/"
   ]
  },
  {
   "cell_type": "code",
   "execution_count": 7,
   "metadata": {},
   "outputs": [],
   "source": [
    "/*\n",
    "1. Finding a Candidate :\n",
    "The algorithm for first phase that works in O(n) is known as Moore’s Voting Algorithm. \n",
    "Basic idea of the algorithm is that \n",
    "if we cancel out each occurrence of an element e with all the other elements that are different from e \n",
    "then e will exist till end if it is a majority element.\n",
    "\n",
    "findCandidate(a[], size)\n",
    "1.  Initialize index and count of majority element\n",
    "     maj_index = 0, count = 1\n",
    "2.  Loop for i = 1 to size – 1\n",
    "    (a) If a[maj_index] == a[i]\n",
    "          count++\n",
    "    (b) Else\n",
    "        count--;\n",
    "    (c) If count == 0\n",
    "          maj_index = i;\n",
    "          count = 1\n",
    "3.  Return a[maj_index]\n",
    "\n",
    "Above algorithm loops through each element and maintains a count of a[maj_index]. \n",
    "If the next element is same then increment the count, \n",
    "if the next element is not same then decrement the count, \n",
    "and if the count reaches 0 then changes the maj_index to the current element and set the count again to 1. \n",
    "So, the first phase of the algorithm gives us a candidate element.\n",
    "*/"
   ]
  },
  {
   "cell_type": "code",
   "execution_count": 8,
   "metadata": {},
   "outputs": [],
   "source": [
    "/*\n",
    "2. Check if the element obtained in step 1 is majority element or not :\n",
    "\n",
    "printMajority (a[], size)\n",
    "1.  Find the candidate for majority\n",
    "2.  If candidate is majority. i.e., appears more than n/2 times.\n",
    "       Print the candidate\n",
    "3.  Else\n",
    "       Print \"No Majority Element\"\n",
    "\n",
    "In the second phase we need to check if the candidate is really a majority element. \n",
    "Second phase is simple and can be easily done in O(n). \n",
    "We just need to check if count of the candidate element is greater than n/2.\n",
    "*/"
   ]
  },
  {
   "cell_type": "code",
   "execution_count": 9,
   "metadata": {},
   "outputs": [],
   "source": [
    "/*\n",
    "Example :\n",
    "Let the array be A[] = 2, 2, 3, 5, 2, 2, 6\n",
    "\n",
    "- Initialize maj_index = 0, count = 1\n",
    "- Next element is 2, which is same as a[maj_index] => count = 2\n",
    "- Next element is 3, which is different from a[maj_index] => count = 1\n",
    "- Next element is 5, which is different from a[maj_index] => count = 0\n",
    "- Since count = 0, change candidate for majority element to 5 => maj_index = 3, count = 1\n",
    "- Next element is 2, which is different from a[maj_index] => count = 0\n",
    "- Since count = 0, change candidate for majority element to 2 => maj_index = 4\n",
    "- Next element is 2, which is same as a[maj_index] => count = 2\n",
    "- Next element is 6, which is different from a[maj_index] => count = 1\n",
    "- Finally candidate for majority element is 2.\n",
    "*/"
   ]
  },
  {
   "cell_type": "code",
   "execution_count": 10,
   "metadata": {},
   "outputs": [],
   "source": [
    "/* Function to print Majority Element */\n",
    "void printMajority(int a[], int size)  \n",
    "{ \n",
    "    /* Find the candidate for Majority*/\n",
    "    int cand = findCandidate(a, size); \n",
    "\n",
    "    /* Print the candidate if it is Majority*/\n",
    "    if (isMajority(a, size, cand)) \n",
    "        System.out.println(\" \" + cand + \" \"); \n",
    "    else \n",
    "        System.out.println(\"No Majority Element\"); \n",
    "} "
   ]
  },
  {
   "cell_type": "code",
   "execution_count": 11,
   "metadata": {},
   "outputs": [],
   "source": [
    "/* Function to find the candidate for Majority */\n",
    "int findCandidate(int a[], int size)  \n",
    "{ \n",
    "    int maj_index = 0, count = 1; \n",
    "    int i; \n",
    "    for (i = 1; i < size; i++)  \n",
    "    { \n",
    "        if (a[maj_index] == a[i]) \n",
    "            count++; \n",
    "        else\n",
    "            count--; \n",
    "        if (count == 0) \n",
    "        { \n",
    "            maj_index = i; \n",
    "            count = 1; \n",
    "        } \n",
    "    } \n",
    "    return a[maj_index]; \n",
    "} "
   ]
  },
  {
   "cell_type": "code",
   "execution_count": 12,
   "metadata": {},
   "outputs": [],
   "source": [
    "/* Function to check if the candidate occurs more \n",
    "   than n/2 times */\n",
    "boolean isMajority(int a[], int size, int cand)  \n",
    "{ \n",
    "    int i, count = 0; \n",
    "    for (i = 0; i < size; i++)  \n",
    "    { \n",
    "        if (a[i] == cand) \n",
    "            count++; \n",
    "    } \n",
    "    if (count > size / 2)  \n",
    "        return true; \n",
    "    else\n",
    "        return false; \n",
    "} "
   ]
  },
  {
   "cell_type": "code",
   "execution_count": 13,
   "metadata": {},
   "outputs": [
    {
     "name": "stdout",
     "output_type": "stream",
     "text": [
      "No Majority Element\n"
     ]
    }
   ],
   "source": [
    "/* Driver program to test the above functions */\n",
    "public static void main(String[] args)  \n",
    "{ \n",
    "    int a[] = new int[]{1, 3, 3, 1, 2}; \n",
    "    int size = a.length; \n",
    "    printMajority(a, size); \n",
    "} \n",
    "main(args)"
   ]
  },
  {
   "cell_type": "code",
   "execution_count": 14,
   "metadata": {},
   "outputs": [],
   "source": [
    "/*\n",
    "METHOD 4 (Using Hashmap) :\n",
    "This method is somewhat similar to Moore voting algorithm in terms of time complexity, \n",
    "but in this case there is no need of second step of Moore voting algorithm.\n",
    "But as usual, here space complexity becomes O(n).\n",
    "In Hashmap(key-value pair), at value,\n",
    "maintain a count for each element(key) and whenever count is greater than half of array length, \n",
    "we are just returning that key(majority element).\n",
    "\n",
    "Time Complexity : O(n)\n",
    "Auxiliary Space : O(n)\n",
    "*/"
   ]
  },
  {
   "cell_type": "code",
   "execution_count": 15,
   "metadata": {},
   "outputs": [
    {
     "name": "stdout",
     "output_type": "stream",
     "text": [
      "Majority found :- 2\n"
     ]
    }
   ],
   "source": [
    "private static void findMajority(int[] arr)  \n",
    "{ \n",
    "    HashMap<Integer,Integer> map = new HashMap<Integer, Integer>(); \n",
    "\n",
    "    for(int i = 0; i < arr.length; i++) { \n",
    "        if (map.containsKey(arr[i])) { \n",
    "                int count = map.get(arr[i]) +1; \n",
    "                if (count > arr.length /2) { \n",
    "                    System.out.println(\"Majority found :- \" + arr[i]); \n",
    "                    return; \n",
    "                } else\n",
    "                    map.put(arr[i], count); \n",
    "\n",
    "        } \n",
    "        else\n",
    "            map.put(arr[i],1); \n",
    "        } \n",
    "        System.out.println(\" No Majority element\"); \n",
    "} \n",
    "\n",
    "\n",
    "/* Driver program to test the above functions */\n",
    "public static void main(String[] args)  \n",
    "{ \n",
    "    int a[] = new int[]{2,2,2,2,5,5,2,3,3}; \n",
    "\n",
    "    findMajority(a); \n",
    "} \n",
    "\n",
    "main(args)"
   ]
  },
  {
   "cell_type": "markdown",
   "metadata": {},
   "source": [
    "***https://youtu.be/uwogtyFiDLg***"
   ]
  },
  {
   "cell_type": "markdown",
   "metadata": {},
   "source": [
    "## **49. Searching in an array where adjacent differ by at most k**\n",
    "https://www.geeksforgeeks.org/searching-array-adjacent-differ-k/"
   ]
  },
  {
   "cell_type": "code",
   "execution_count": 16,
   "metadata": {},
   "outputs": [],
   "source": [
    "/*\n",
    "A step array is an array of integer where each element has a difference of at most k with its neighbor. \n",
    "Given a key x, we need to find the index value of x if multiple element exist return the first occurrence of the key.\n",
    "*/"
   ]
  },
  {
   "cell_type": "code",
   "execution_count": 17,
   "metadata": {},
   "outputs": [],
   "source": [
    "/*\n",
    "Examples:\n",
    "\n",
    "Input : arr[] = {4, 5, 6, 7, 6}\n",
    "           k = 1\n",
    "           x = 6\n",
    "Output : 2\n",
    "The first index of 6 is 2.\n",
    "\n",
    "Input : arr[] = {20, 40, 50, 70, 70, 60}  \n",
    "          k = 20\n",
    "          x = 60\n",
    "Output : 5\n",
    "The index of 60 is 5\n",
    "*/"
   ]
  },
  {
   "cell_type": "code",
   "execution_count": 18,
   "metadata": {},
   "outputs": [],
   "source": [
    "/*\n",
    "The above solution can be Optimized using the fact that difference between all adjacent elements is at most k. \n",
    "The idea is to start comparing from the leftmost element and find the difference between current array element and x. \n",
    "Let this difference be ‘diff’. \n",
    "From the given property of array, we always know that x must be at-least ‘diff/k’ away, \n",
    "so instead of searching one by one, we jump ‘diff/k’.\n",
    "*/"
   ]
  },
  {
   "cell_type": "code",
   "execution_count": 19,
   "metadata": {},
   "outputs": [],
   "source": [
    "// x is the element to be searched  \n",
    "// in arr[0..n-1] such that all  \n",
    "// elements differ by at-most k. \n",
    "static int search(int arr[], int n,  \n",
    "                        int x, int k) \n",
    "{ \n",
    "\n",
    "    // Traverse the given array starting \n",
    "    // from leftmost element \n",
    "    int i = 0; \n",
    "\n",
    "    while (i < n) { \n",
    "\n",
    "        // If x is found at index i \n",
    "        if (arr[i] == x) \n",
    "            return i; \n",
    "\n",
    "        // Jump the difference between  \n",
    "        // current array element and x \n",
    "        // divided by k We use max here \n",
    "        // to make sure that i moves  \n",
    "        // at-least one step ahead. \n",
    "        i = i + Math.max(1, Math.abs(arr[i]  \n",
    "                                  - x) / k); \n",
    "    } \n",
    "\n",
    "    System.out.println(\"number is \" +  \n",
    "                            \"not present!\"); \n",
    "    return -1; \n",
    "}"
   ]
  },
  {
   "cell_type": "code",
   "execution_count": 20,
   "metadata": {},
   "outputs": [
    {
     "name": "stdout",
     "output_type": "stream",
     "text": [
      "Element 6 is present at index 5\n"
     ]
    }
   ],
   "source": [
    "// Driver program to test above function \n",
    "public static void main(String[] args) \n",
    "{ \n",
    "\n",
    "    int arr[] = { 2, 4, 5, 7, 7, 6 }; \n",
    "    int x = 6; \n",
    "    int k = 2; \n",
    "    int n = arr.length; \n",
    "\n",
    "    System.out.println(\"Element \" + x + \n",
    "                    \" is present at index \"\n",
    "                    + search(arr, n, x, k)); \n",
    "} \n",
    "main(args);"
   ]
  },
  {
   "cell_type": "markdown",
   "metadata": {},
   "source": [
    "## **50. Find the repeating and the missing | Added 3 new methods**\n",
    "https://www.geeksforgeeks.org/find-a-repeating-and-a-missing-number/"
   ]
  },
  {
   "cell_type": "code",
   "execution_count": 21,
   "metadata": {},
   "outputs": [],
   "source": [
    "/*\n",
    "Given an unsorted array of size n. \n",
    "Array elements are in the range from 1 to n. \n",
    "One number from set {1, 2, …n} is missing and one number occurs twice in the array. \n",
    "Find these two numbers.\n",
    "*/"
   ]
  },
  {
   "cell_type": "code",
   "execution_count": 22,
   "metadata": {},
   "outputs": [],
   "source": [
    "/*\n",
    "Examples:\n",
    "\n",
    "Input: arr[] = {3, 1, 3}\n",
    "Output: Missing = 2, Repeating = 3\n",
    "Explanation: In the array, \n",
    "2 is missing and 3 occurs twice \n",
    "\n",
    "Input: arr[] = {4, 3, 6, 2, 1, 1}\n",
    "Output: Missing = 5, Repeating = 1\n",
    "*/"
   ]
  },
  {
   "cell_type": "code",
   "execution_count": 23,
   "metadata": {},
   "outputs": [],
   "source": [
    "/*\n",
    "Method 5 (Use XOR)\n",
    "Time Complexity: O(n)\n",
    "Approach:\n",
    "\n",
    "Let x and y be the desired output elements.\n",
    "1. Calculate XOR of all the array elements.\n",
    "    xor1 = arr[0]^arr[1]^arr[2]…..arr[n-1]\n",
    "\n",
    "2. XOR the result with all numbers from 1 to n\n",
    "    xor1 = xor1^1^2^…..^n\n",
    "\n",
    "3. In the result xor1, \n",
    "    all elements would nullify each other except x and y. \n",
    "    All the bits that are set in xor1 will be set in either x or y. \n",
    "    So if we take any set bit (We have chosen the rightmost set bit in code) of xor1 and divide the elements of the array in two sets – one set of elements with same bit set and other set with same bit not set. \n",
    "    By doing so, we will get x in one set and y in another set. \n",
    "    Now if we do XOR of all the elements in first set, we will get x, and by doing same in other set we will get y..\n",
    "*/"
   ]
  },
  {
   "cell_type": "code",
   "execution_count": 24,
   "metadata": {},
   "outputs": [],
   "source": [
    "static int x, y; \n",
    "\n",
    "static void getTwoElements(int arr[], int n) \n",
    "{ \n",
    "    /* Will hold xor of all elements \n",
    "   and numbers from 1 to n  */\n",
    "    int xor1; \n",
    "\n",
    "    /* Will have only single set bit of xor1 */\n",
    "    int set_bit_no; \n",
    "\n",
    "    int i; \n",
    "    x = 0; \n",
    "    y = 0; \n",
    "\n",
    "    xor1 = arr[0]; \n",
    "\n",
    "    /* Get the xor of all array elements  */\n",
    "    for (i = 1; i < n; i++) \n",
    "        xor1 = xor1 ^ arr[i]; \n",
    "\n",
    "    /* XOR the previous result with numbers from  \n",
    "   1 to n*/\n",
    "    for (i = 1; i <= n; i++) \n",
    "        xor1 = xor1 ^ i; \n",
    "\n",
    "    /* Get the rightmost set bit in set_bit_no */\n",
    "    set_bit_no = xor1 & ~(xor1 - 1); \n",
    "\n",
    "    /* Now divide elements into two sets by comparing \n",
    "        rightmost set bit of xor1 with the bit at the same  \n",
    "        position in each element. Also, get XORs of two \n",
    "        sets. The two XORs are the output elements. The  \n",
    "        following two for loops serve the purpose */\n",
    "    for (i = 0; i < n; i++) { \n",
    "        if ((arr[i] & set_bit_no) != 0) \n",
    "            /* arr[i] belongs to first set */\n",
    "            x = x ^ arr[i]; \n",
    "\n",
    "        else\n",
    "            /* arr[i] belongs to second set*/\n",
    "            y = y ^ arr[i]; \n",
    "    } \n",
    "    for (i = 1; i <= n; i++) { \n",
    "        if ((i & set_bit_no) != 0) \n",
    "            /* i belongs to first set */\n",
    "            x = x ^ i; \n",
    "\n",
    "        else\n",
    "            /* i belongs to second set*/\n",
    "            y = y ^ i; \n",
    "    } \n",
    "\n",
    "    /* *x and *y hold the desired output elements */\n",
    "} "
   ]
  },
  {
   "cell_type": "code",
   "execution_count": 25,
   "metadata": {},
   "outputs": [
    {
     "name": "stdout",
     "output_type": "stream",
     "text": [
      " The missing element is  7and the repeating number is 1\n"
     ]
    }
   ],
   "source": [
    "/* Driver program to test above function */\n",
    "public static void main(String[] args) \n",
    "{ \n",
    "    int arr[] = { 1, 3, 4, 5, 1, 6, 2 }; \n",
    "\n",
    "    int n = arr.length; \n",
    "    getTwoElements(arr, n); \n",
    "    System.out.println(\" The missing element is  \"\n",
    "                       + x + \"and the \"\n",
    "                       + \"repeating number is \"\n",
    "                       + y); \n",
    "} \n",
    "main(args)"
   ]
  },
  {
   "cell_type": "markdown",
   "metadata": {},
   "source": [
    "## **51. Ceiling in a sorted array**\n",
    "https://www.geeksforgeeks.org/ceiling-in-a-sorted-array/"
   ]
  },
  {
   "cell_type": "code",
   "execution_count": 26,
   "metadata": {},
   "outputs": [],
   "source": [
    "/*\n",
    "Given a sorted array and a value x, \n",
    "the ceiling of x is the smallest element in array greater than or equal to x, \n",
    "and the floor is the greatest element smaller than or equal to x. \n",
    "Assume than the array is sorted in non-decreasing order. \n",
    "Write efficient functions to find floor and ceiling of x.\n",
    "*/"
   ]
  },
  {
   "cell_type": "code",
   "execution_count": 27,
   "metadata": {},
   "outputs": [],
   "source": [
    "/*\n",
    "Examples :\n",
    "\n",
    "For example, let the input array be {1, 2, 8, 10, 10, 12, 19}\n",
    "For x = 0:    floor doesn't exist in array,  ceil  = 1\n",
    "For x = 1:    floor  = 1,  ceil  = 1\n",
    "For x = 5:    floor  = 2,  ceil  = 8\n",
    "For x = 20:   floor  = 19,  ceil doesn't exist in array\n",
    "*/"
   ]
  },
  {
   "cell_type": "code",
   "execution_count": 28,
   "metadata": {},
   "outputs": [],
   "source": [
    "/*\n",
    "Method 1 (Linear Search)\n",
    "Algorithm to search ceiling of x:\n",
    "1) If x is smaller than or equal to the first element in array then return 0(index of first element)\n",
    "2) Else Linearly search for an index i such that x lies between arr[i] and arr[i+1].\n",
    "3) If we do not find an index i in step 2, then return -1\n",
    "*/"
   ]
  },
  {
   "cell_type": "code",
   "execution_count": 29,
   "metadata": {},
   "outputs": [],
   "source": [
    "/*\n",
    "Method 2 (Binary Search)\n",
    "Instead of using linear search, binary search is used here to find out the index. \n",
    "Binary search reduces time complexity to O(Logn).\n",
    "*/"
   ]
  },
  {
   "cell_type": "code",
   "execution_count": 30,
   "metadata": {},
   "outputs": [],
   "source": [
    "/* Function to get index of  \n",
    "   ceiling of x in arr[low..high]*/\n",
    "static int ceilSearch(int arr[], int low, int high, int x) \n",
    "{ \n",
    "  int mid;     \n",
    "\n",
    "  /* If x is smaller than or equal to the  \n",
    "     first element, then return the first element */\n",
    "  if(x <= arr[low]) \n",
    "    return low;  \n",
    "\n",
    "  /* If x is greater than the last  \n",
    "     element, then return -1 */\n",
    "  if(x > arr[high]) \n",
    "    return -1;   \n",
    "\n",
    "  /* get the index of middle element  \n",
    "     of arr[low..high]*/\n",
    "  mid = (low + high)/2;  /* low + (high - low)/2 */\n",
    "\n",
    "  /* If x is same as middle element,  \n",
    "     then return mid */\n",
    "  if(arr[mid] == x) \n",
    "    return mid; \n",
    "\n",
    "  /* If x is greater than arr[mid], then  \n",
    "     either arr[mid + 1] is ceiling of x or  \n",
    "     ceiling lies in arr[mid+1...high] */ \n",
    "  else if(arr[mid] < x) \n",
    "  { \n",
    "    if(mid + 1 <= high && x <= arr[mid+1]) \n",
    "      return mid + 1; \n",
    "    else\n",
    "      return ceilSearch(arr, mid+1, high, x); \n",
    "  } \n",
    "\n",
    "  /* If x is smaller than arr[mid],  \n",
    "     then either arr[mid] is ceiling of x  \n",
    "     or ceiling lies in arr[mid-1...high] */   \n",
    "  else\n",
    "  { \n",
    "    if(mid - 1 >= low && x > arr[mid-1]) \n",
    "      return mid; \n",
    "    else    \n",
    "      return ceilSearch(arr, low, mid - 1, x); \n",
    "  } \n",
    "} "
   ]
  },
  {
   "cell_type": "code",
   "execution_count": 31,
   "metadata": {},
   "outputs": [
    {
     "name": "stdout",
     "output_type": "stream",
     "text": [
      "ceiling of 8 is 8\n"
     ]
    }
   ],
   "source": [
    "/* Driver program to check above functions */\n",
    "public static void main (String[] args) \n",
    "{ \n",
    "   int arr[] = {1, 2, 8, 10, 10, 12, 19}; \n",
    "   int n = arr.length; \n",
    "   int x = 8; \n",
    "   int index = ceilSearch(arr, 0, n-1, x); \n",
    "   if(index == -1) \n",
    "     System.out.println(\"Ceiling of \"+x+\" doesn't exist in array\"); \n",
    "   else \n",
    "     System.out.println(\"ceiling of \"+x+\" is \"+arr[index]); \n",
    "}   \n",
    "main(args)"
   ]
  },
  {
   "cell_type": "markdown",
   "metadata": {},
   "source": [
    "***https://youtu.be/Nzm9emAkSCM***"
   ]
  },
  {
   "cell_type": "markdown",
   "metadata": {},
   "source": [
    "## **52. Find a pair with the given difference**\n",
    "https://www.geeksforgeeks.org/find-a-pair-with-the-given-difference/"
   ]
  },
  {
   "cell_type": "code",
   "execution_count": 32,
   "metadata": {},
   "outputs": [],
   "source": [
    "/*\n",
    "Given an unsorted array and a number n, \n",
    "find if there exists a pair of elements in the array whose difference is n.\n",
    "*/"
   ]
  },
  {
   "cell_type": "code",
   "execution_count": 33,
   "metadata": {},
   "outputs": [],
   "source": [
    "/*\n",
    "Examples:\n",
    "\n",
    "Input: arr[] = {5, 20, 3, 2, 50, 80}, n = 78\n",
    "Output: Pair Found: (2, 80)\n",
    "\n",
    "Input: arr[] = {90, 70, 20, 80, 50}, n = 45\n",
    "Output: No Such Pair\n",
    "*/"
   ]
  },
  {
   "cell_type": "code",
   "execution_count": 34,
   "metadata": {},
   "outputs": [],
   "source": [
    "/*\n",
    "The simplest method is to run two loops, \n",
    "the outer loop picks the first element (smaller element) \n",
    "and the inner loop looks for the element picked by outer loop plus n. \n",
    "Time complexity of this method is O(n^2).\n",
    "*/"
   ]
  },
  {
   "cell_type": "code",
   "execution_count": 35,
   "metadata": {},
   "outputs": [],
   "source": [
    "/*\n",
    "We can use sorting and Binary Search to improve time complexity to O(nLogn). \n",
    "The first step is to sort the array in ascending order. \n",
    "Once the array is sorted, \n",
    "traverse the array from left to right, and for each element arr[i], binary search for arr[i] + n in arr[i+1..n-1]. \n",
    "If the element is found, return the pair.\n",
    "\n",
    "Both first and second steps take O(nLogn). So overall complexity is O(nLogn).\n",
    "*/"
   ]
  },
  {
   "cell_type": "code",
   "execution_count": 36,
   "metadata": {},
   "outputs": [],
   "source": [
    "/*\n",
    "The second step of the above algorithm can be improved to O(n). \n",
    "The first step remain same. \n",
    "The idea for second step is take two index variables i and j, initialize them as 0 and 1 respectively. \n",
    "Now run a linear loop. \n",
    "If arr[j] – arr[i] is smaller than n, we need to look for greater arr[j], so increment j. \n",
    "If arr[j] – arr[i] is greater than n, we need to look for greater arr[i], so increment i. \n",
    "*/"
   ]
  },
  {
   "cell_type": "code",
   "execution_count": 37,
   "metadata": {},
   "outputs": [],
   "source": [
    "/*\n",
    "The following code is only for the second step of the algorithm, it assumes that the array is already sorted.\n",
    "*/"
   ]
  },
  {
   "cell_type": "code",
   "execution_count": 38,
   "metadata": {},
   "outputs": [],
   "source": [
    "// The function assumes that the array is sorted \n",
    "static boolean findPair(int arr[],int n) \n",
    "{ \n",
    "    int size = arr.length; \n",
    "\n",
    "    // Initialize positions of two elements \n",
    "    int i = 0, j = 1; \n",
    "\n",
    "    // Search for a pair \n",
    "    while (i < size && j < size) \n",
    "    { \n",
    "        if (i != j && arr[j]-arr[i] == n) \n",
    "        { \n",
    "            System.out.print(\"Pair Found: \"+ \n",
    "                             \"( \"+arr[i]+\", \"+ arr[j]+\" )\"); \n",
    "            return true; \n",
    "        } \n",
    "        else if (arr[j] - arr[i] < n) \n",
    "            j++; \n",
    "        else\n",
    "            i++; \n",
    "    } \n",
    "\n",
    "    System.out.print(\"No such pair\"); \n",
    "    return false; \n",
    "} "
   ]
  },
  {
   "cell_type": "code",
   "execution_count": 39,
   "metadata": {},
   "outputs": [
    {
     "name": "stdout",
     "output_type": "stream",
     "text": [
      "Pair Found: ( 40, 100 )"
     ]
    }
   ],
   "source": [
    "// Driver program to test above function \n",
    "public static void main (String[] args) \n",
    "{ \n",
    "    int arr[] = {1, 8, 30, 40, 100}; \n",
    "    int n = 60; \n",
    "    findPair(arr,n); \n",
    "} \n",
    "main(args)"
   ]
  },
  {
   "cell_type": "markdown",
   "metadata": {},
   "source": [
    "***https://youtu.be/qODOVGzk6Zc***"
   ]
  },
  {
   "cell_type": "markdown",
   "metadata": {},
   "source": [
    "## **53. Find four elements that sum to a given value | Set 2 ( O(n^2Logn) Solution)**\n",
    "https://www.geeksforgeeks.org/find-four-elements-that-sum-to-a-given-value-set-2/"
   ]
  },
  {
   "cell_type": "code",
   "execution_count": 40,
   "metadata": {},
   "outputs": [],
   "source": [
    "/*\n",
    "Given an array of integers, \n",
    "find any one combination of four elements in the array whose sum is equal to a given value X.\n",
    "For example, \n",
    "    if the given array is {10, 2, 3, 4, 5, 9, 7, 8} and X = 23, \n",
    "    then your function should print “3 5 7 8” (3 + 5 + 7 + 8 = 23).\n",
    "*/"
   ]
  },
  {
   "cell_type": "code",
   "execution_count": 41,
   "metadata": {},
   "outputs": [],
   "source": [
    "/*\n",
    "Let the input array be A[].\n",
    "\n",
    "1. Create an auxiliary array aux[] and store sum of all possible pairs in aux[]. \n",
    "    The size of aux[] will be n*(n-1)/2 where n is the size of A[].\n",
    "2. Sort the auxiliary array aux[].\n",
    "3. Now the problem reduces to find two elements in aux[] with sum equal to X. \n",
    "We can use method 1 of this post to find the two elements efficiently. \n",
    "\n",
    "There is following important point to note though. \n",
    "An element of aux[] represents a pair from A[]. \n",
    "While picking two elements from aux[], we must check whether the two elements have an element of A[] in common. \n",
    "For example, if first element sum of A[1] and A[2], and second element is sum of A[2] and A[4], \n",
    "             then these two elements of aux[] don’t represent four distinct elements of input array A[].\n",
    "*/"
   ]
  },
  {
   "cell_type": "markdown",
   "metadata": {},
   "source": [
    "***https://ideone.com/oci8yN***"
   ]
  },
  {
   "cell_type": "code",
   "execution_count": 42,
   "metadata": {},
   "outputs": [],
   "source": [
    "/*\n",
    "Hashing Based Solution : O(n2Logn)\n",
    "1. Store sums of all pairs in a hash table\n",
    "2. Traverse through all pairs again and search for X – (current pair sum) in the hash table.\n",
    "3. If a pair is found with the required sum, \n",
    "   then make sure that all elements are distinct array elements and an element is not considered more than once.\n",
    "Below image is a dry run of the above approach:\n",
    "*/"
   ]
  },
  {
   "cell_type": "markdown",
   "metadata": {},
   "source": [
    "<img src = \"https://media.geeksforgeeks.org/wp-content/cdn-uploads/20190702113336/FourElementsThatSumToAGivenValue1-1024x474.png\"/>"
   ]
  },
  {
   "cell_type": "code",
   "execution_count": 43,
   "metadata": {},
   "outputs": [],
   "source": [
    "static class pair \n",
    "{  \n",
    "    int first, second;  \n",
    "    public pair(int first, int second)  \n",
    "    {  \n",
    "        this.first = first;  \n",
    "        this.second = second;  \n",
    "    }  \n",
    "} "
   ]
  },
  {
   "cell_type": "code",
   "execution_count": 44,
   "metadata": {},
   "outputs": [],
   "source": [
    "// The function finds four elements  \n",
    "// with given sum X \n",
    "static void findFourElements(int arr[],  \n",
    "                             int n, int X) \n",
    "{ \n",
    "    // Store sums of all pairs in a hash table \n",
    "    HashMap<Integer,         \n",
    "            pair> mp = new HashMap<Integer, \n",
    "                                   pair>(); \n",
    "    for (int i = 0; i < n - 1; i++) \n",
    "        for (int j = i + 1; j < n; j++) \n",
    "            mp.put(arr[i] + arr[j], \n",
    "                    new pair(i, j)); \n",
    "  \n",
    "    // Traverse through all pairs and search \n",
    "    // for X - (current pair sum).  \n",
    "    for (int i = 0; i < n - 1; i++) \n",
    "    { \n",
    "        for (int j = i + 1; j < n; j++) \n",
    "        { \n",
    "            int sum = arr[i] + arr[j]; \n",
    "  \n",
    "            // If X - sum is present in hash table,          \n",
    "            if (mp.containsKey(X - sum)) \n",
    "            { \n",
    "  \n",
    "                // Making sure that all elements are \n",
    "                // distinct array elements and an element \n",
    "                // is not considered more than once. \n",
    "                pair p = mp.get(X - sum); \n",
    "                if (p.first != i && p.first != j && \n",
    "                    p.second != i && p.second != j) \n",
    "                { \n",
    "                    System.out.print(arr[i] + \", \" + arr[j] +  \n",
    "                                              \", \" + arr[p.first] +  \n",
    "                                              \", \" + arr[p.second]); \n",
    "                    return; \n",
    "                } \n",
    "            } \n",
    "        } \n",
    "    } \n",
    "} "
   ]
  },
  {
   "cell_type": "code",
   "execution_count": 45,
   "metadata": {},
   "outputs": [
    {
     "name": "stdout",
     "output_type": "stream",
     "text": [
      "20, 30, 40, 1"
     ]
    }
   ],
   "source": [
    "// Driver Code \n",
    "public static void main(String[] args)  \n",
    "{ \n",
    "    int arr[] = {10, 20, 30, 40, 1, 2}; \n",
    "    int n = arr.length; \n",
    "    int X = 91; \n",
    "    findFourElements(arr, n, X); \n",
    "} \n",
    "main(args)"
   ]
  },
  {
   "cell_type": "markdown",
   "metadata": {},
   "source": [
    "## **54. Median of two sorted arrays of different sizes**\n",
    "https://www.geeksforgeeks.org/median-of-two-sorted-arrays-of-different-sizes/"
   ]
  },
  {
   "cell_type": "code",
   "execution_count": 46,
   "metadata": {},
   "outputs": [],
   "source": [
    "/*\n",
    "This is an extension of median of two sorted arrays of equal size problem. \n",
    "Here we handle arrays of unequal size also.\n",
    "*/"
   ]
  },
  {
   "cell_type": "code",
   "execution_count": 47,
   "metadata": {},
   "outputs": [],
   "source": [
    "/*\n",
    "Method 1: (Linear and Simpler Approach)\n",
    "Here we need to find the median of the two sorted arrays of different sizes\n",
    "so we keep two variables to point to the arrays and one used to count the no of elements read. \n",
    "We used a simple Merge based O(n) solution \n",
    "just we are not merging the array instead we are keeping track of the last element read till we reach the median\n",
    "There are two cases :\n",
    "    Case 1: m+n is odd\n",
    "        Then we will find a clear median at (m+n)/2 index in the array obtained after merging both the arrays \n",
    "        so we just traverse both the arrays and keep the last value in m1 after the loop, \n",
    "        m1 will contain the value of the median\n",
    "    Case 2: m+n is even\n",
    "        Median will be average of elements at index ((m+n)/2 – 1) and (m+n)/2 in the array obtained after merging both the arrays \n",
    "        so we need to keep track of not only the last element but also the second last element (m2 is used for this) \n",
    "        so we traverse both the arrays and keep the last value in m1 and second last value in m2 after the loop, \n",
    "        (m1+m2)/2 will contain the value of the median.\n",
    "*/"
   ]
  },
  {
   "cell_type": "markdown",
   "metadata": {},
   "source": [
    "***https://ideone.com/UjYPXf***"
   ]
  },
  {
   "cell_type": "code",
   "execution_count": 48,
   "metadata": {},
   "outputs": [],
   "source": [
    "/*\n",
    "Method 2: (Effective but a little Complex Approach)\n",
    "Time Complexity: O(LogM + LogN)\n",
    "The approach discussed in this post is similar to method 2 of equal the size post. \n",
    "The basic idea is same, \n",
    "we find the median of two arrays and compare the medians to discard almost half of the elements in both arrays. \n",
    "Since the number of elements may differ here, there are many base cases that need to be handled separately. \n",
    "Before we proceed to complete solution, let us first talk about all base cases.\n",
    "\n",
    "Let the two arrays be A[N] and B[M]. \n",
    "In the following explanation, it is assumed that N is smaller than or equal to M.\n",
    "Base cases:\n",
    "The smaller array has only one element\n",
    "Case 0: N = 0, M = 2\n",
    "Case 1: N = 1, M = 1.\n",
    "Case 2: N = 1, M is odd\n",
    "Case 3: N = 1, M is even\n",
    "The smaller array has only two elements\n",
    "Case 4: N = 2, M = 2\n",
    "Case 5: N = 2, M is odd\n",
    "Case 6: N = 2, M is even\n",
    "*/"
   ]
  },
  {
   "cell_type": "code",
   "execution_count": 49,
   "metadata": {},
   "outputs": [],
   "source": [
    "/*\n",
    "Case 0: \n",
    "    There are no elements in first array, \n",
    "        return median of second array. \n",
    "    If second array is also empty, \n",
    "        return -1.\n",
    "        \n",
    "Case 1: \n",
    "    There is only one element in both arrays, \n",
    "    so output the average of A[0] and B[0].\n",
    "    \n",
    "Case 2: \n",
    "    N = 1, M is odd\n",
    "    Let B[5] = {5, 10, 12, 15, 20}\n",
    "    First find the middle element of B[], which is 12 for above array. \n",
    "    There are following 4 sub-cases.\n",
    "        …2.1 If A[0] is smaller than 10, the median is average of 10 and 12.\n",
    "        …2.2 If A[0] lies between 10 and 12, the median is average of A[0] and 12.\n",
    "        …2.3 If A[0] lies between 12 and 15, the median is average of 12 and A[0].\n",
    "        …2.4 If A[0] is greater than 15, the median is average of 12 and 15.\n",
    "    In all the sub-cases, we find that 12 is fixed. \n",
    "    So, we need to find the median of B[ M / 2 – 1 ], B[ M / 2 + 1], A[ 0 ] and take its average with B[ M / 2 ].\n",
    "    \n",
    "Case 3: \n",
    "    N = 1, M is even\n",
    "    Let B[4] = {5, 10, 12, 15}\n",
    "    First find the middle items in B[], which are 10 and 12 in above example. \n",
    "    There are following 3 sub-cases.\n",
    "        …3.1 If A[0] is smaller than 10, the median is 10.\n",
    "        …3.2 If A[0] lies between 10 and 12, the median is A[0].\n",
    "        …3.3 If A[0] is greater than 12, the median is 12.\n",
    "    So, in this case, find the median of three elements \n",
    "        B[ M / 2 – 1 ], B[ M / 2] and A[ 0 ].\n",
    "    \n",
    "Case 4: \n",
    "    N = 2, M = 2\n",
    "    There are four elements in total. So we find the median of 4 elements.\n",
    "    \n",
    "Case 5: \n",
    "    N = 2, M is odd\n",
    "    Let B[5] = {5, 10, 12, 15, 20}\n",
    "    The median is given by median of following three elements: \n",
    "        B[M/2], max(A[0], B[M/2 – 1]), min(A[1], B[M/2 + 1]).\n",
    "    \n",
    "Case 6: \n",
    "    N = 2, M is even\n",
    "    Let B[4] = {5, 10, 12, 15}\n",
    "    The median is given by median of following four elements: \n",
    "        B[M/2], B[M/2 – 1], max(A[0], B[M/2 – 2]), min(A[1], B[M/2 + 1])\n",
    "        \n",
    "Remaining Cases:\n",
    "    Once we have handled the above base cases, following is the remaining process.\n",
    "        1) Find the middle item of A[] and middle item of B[].\n",
    "            …..1.1) If the middle item of A[] is greater than middle item of B[], \n",
    "                    ignore the last half of A[], let length of ignored part is idx. Also, cut down B[] by idx from the start.\n",
    "            …..1.2) else, \n",
    "                    ignore the first half of A[], let length of ignored part is idx. Also, cut down B[] by idx from the last.\n",
    "*/"
   ]
  },
  {
   "cell_type": "markdown",
   "metadata": {},
   "source": [
    "***https://ideone.com/dZirsb***"
   ]
  },
  {
   "cell_type": "markdown",
   "metadata": {},
   "source": [
    "## **55. Maximum sum such that no two elements are adjacent**\n",
    "https://www.geeksforgeeks.org/maximum-sum-such-that-no-two-elements-are-adjacent/"
   ]
  },
  {
   "cell_type": "code",
   "execution_count": 50,
   "metadata": {},
   "outputs": [],
   "source": [
    "/*\n",
    "Given an array of positive numbers, \n",
    "find the maximum sum of a subsequence with the constraint that no 2 numbers in the sequence should be adjacent in the array. \n",
    "So,\n",
    "3 2 7 10 should return 13 (sum of 3 and 10) \n",
    "or 3 2 5 10 7 should return 15 (sum of 3, 5 and 7).\n",
    "Answer the question in most efficient way.\n",
    "Time Complexity: O(n)\n",
    "*/"
   ]
  },
  {
   "cell_type": "code",
   "execution_count": 51,
   "metadata": {},
   "outputs": [],
   "source": [
    "/*\n",
    "Examples :\n",
    "\n",
    "Input : arr[] = {5, 5, 10, 100, 10, 5}\n",
    "Output : 110\n",
    "\n",
    "Input : arr[] = {1, 2, 3}\n",
    "Output : 4\n",
    "\n",
    "Input : arr[] = {1, 20, 3}\n",
    "Output : 20\n",
    "*/"
   ]
  },
  {
   "cell_type": "code",
   "execution_count": 52,
   "metadata": {},
   "outputs": [],
   "source": [
    "/*\n",
    "Algorithm:\n",
    "Loop for all elements in arr[] \n",
    "and maintain two sums incl and excl \n",
    "where incl = Max sum including the previous element \n",
    "and excl = Max sum excluding the previous element.\n",
    "\n",
    "Max sum excluding the current element will be max(incl, excl) \n",
    "and max sum including the current element will be excl + current element \n",
    "(Note that only excl is considered because elements cannot be adjacent).\n",
    "\n",
    "At the end of the loop return max of incl and excl.\n",
    "*/"
   ]
  },
  {
   "cell_type": "code",
   "execution_count": 53,
   "metadata": {},
   "outputs": [],
   "source": [
    "/*\n",
    "Example:\n",
    "\n",
    "  arr[] = {5,  5, 10, 40, 50, 35}\n",
    "\n",
    "  incl = 5 \n",
    "  excl = 0\n",
    "\n",
    "  For i = 1 (current element is 5)\n",
    "  incl =  (excl + arr[i])  = 5\n",
    "  excl =  max(5, 0) = 5\n",
    "\n",
    "  For i = 2 (current element is 10)\n",
    "  incl =  (excl + arr[i]) = 15\n",
    "  excl =  max(5, 5) = 5\n",
    "\n",
    "  For i = 3 (current element is 40)\n",
    "  incl = (excl + arr[i]) = 45\n",
    "  excl = max(5, 15) = 15\n",
    "\n",
    "  For i = 4 (current element is 50)\n",
    "  incl = (excl + arr[i]) = 65\n",
    "  excl =  max(45, 15) = 45\n",
    "\n",
    "  For i = 5 (current element is 35)\n",
    "  incl =  (excl + arr[i]) = 80\n",
    "  excl =  max(65, 45) = 65\n",
    "\n",
    "And 35 is the last element. So, answer is max(incl, excl) =  80\n",
    "*/"
   ]
  },
  {
   "cell_type": "code",
   "execution_count": 54,
   "metadata": {},
   "outputs": [],
   "source": [
    "/*Function to return max sum such that no two elements \n",
    "  are adjacent */\n",
    "int FindMaxSum(int arr[], int n) \n",
    "{ \n",
    "    int incl = arr[0]; \n",
    "    int excl = 0; \n",
    "    int excl_new; \n",
    "    int i; \n",
    "\n",
    "    for (i = 1; i < n; i++) \n",
    "    { \n",
    "        /* current max excluding i */\n",
    "        excl_new = (incl > excl) ? incl : excl; \n",
    "\n",
    "        /* current max including i */\n",
    "        incl = excl + arr[i]; \n",
    "        excl = excl_new; \n",
    "    } \n",
    "\n",
    "    /* return max of incl and excl */\n",
    "    return ((incl > excl) ? incl : excl); \n",
    "} "
   ]
  },
  {
   "cell_type": "code",
   "execution_count": 55,
   "metadata": {},
   "outputs": [
    {
     "name": "stdout",
     "output_type": "stream",
     "text": [
      "110\n"
     ]
    }
   ],
   "source": [
    "// Driver program to test above functions \n",
    "public static void main(String[] args) \n",
    "{  \n",
    "    int arr[] = new int[]{5, 5, 10, 100, 10, 5}; \n",
    "    System.out.println(FindMaxSum(arr, arr.length)); \n",
    "} \n",
    "main(args);"
   ]
  },
  {
   "cell_type": "markdown",
   "metadata": {},
   "source": [
    "***https://youtu.be/6w60Zi1NtL8***"
   ]
  },
  {
   "cell_type": "markdown",
   "metadata": {},
   "source": [
    "## **56. Find common elements in three sorted arrays**\n",
    "https://www.geeksforgeeks.org/find-common-elements-three-sorted-arrays/"
   ]
  },
  {
   "cell_type": "code",
   "execution_count": 56,
   "metadata": {},
   "outputs": [],
   "source": [
    "/*\n",
    "Given three arrays sorted in non-decreasing order, print all common elements in these arrays.\n",
    "*/"
   ]
  },
  {
   "cell_type": "code",
   "execution_count": 57,
   "metadata": {},
   "outputs": [],
   "source": [
    "/*\n",
    "Examples:\n",
    "\n",
    "Input:\n",
    "ar1[] = {1, 5, 10, 20, 40, 80}\n",
    "ar2[] = {6, 7, 20, 80, 100}\n",
    "ar3[] = {3, 4, 15, 20, 30, 70, 80, 120}\n",
    "Output: 20, 80\n",
    "\n",
    "Input:\n",
    "ar1[] = {1, 5, 5}\n",
    "ar2[] = {3, 4, 5, 5, 10}\n",
    "ar3[] = {5, 5, 10, 20}\n",
    "Output: 5, 5\n",
    "*/"
   ]
  },
  {
   "cell_type": "code",
   "execution_count": 58,
   "metadata": {},
   "outputs": [],
   "source": [
    "/*\n",
    "A simple solution is to first find intersection of two arrays (https://www.geeksforgeeks.org/union-and-intersection-of-two-sorted-arrays-2/) and store the intersection in a temporary array, \n",
    "then find the intersection of third array and temporary array.\n",
    "\n",
    "Time complexity of this solution is O(n1 + n2 + n3) where n1, n2 and n3 are sizes of ar1[], ar2[] and ar3[] respectively.\n",
    "\n",
    "The above solution requires extra space and two loops, \n",
    "we can find the common elements using a single loop and without extra space.\n",
    "*/"
   ]
  },
  {
   "cell_type": "code",
   "execution_count": 59,
   "metadata": {},
   "outputs": [],
   "source": [
    "/*\n",
    "Let the current element traversed in ar1[] be x, in ar2[] be y and in ar3[] be z. \n",
    "\n",
    "We can have following cases inside the loop.\n",
    "    If x, y and z are same, we can simply print any of them as common element and move ahead in all three arrays.\n",
    "    Else If x < y, we can move ahead in ar1[] as x cannot be a common element.\n",
    "    Else If x > z and y > z), we can simply move ahead in ar3[] as z cannot be a common element.\n",
    "Below image is a dry run of the above approach:\n",
    "*/"
   ]
  },
  {
   "cell_type": "markdown",
   "metadata": {},
   "source": [
    "<img src = \"https://media.geeksforgeeks.org/wp-content/cdn-uploads/20190704124815/FindCommonElementsinThreeSortedArrays.png\"/>"
   ]
  },
  {
   "cell_type": "code",
   "execution_count": 60,
   "metadata": {},
   "outputs": [],
   "source": [
    "// This function prints common elements in ar1 \n",
    "void findCommon(int ar1[], int ar2[], int ar3[]) \n",
    "{ \n",
    "    // Initialize starting indexes for ar1[], ar2[] and ar3[] \n",
    "    int i = 0, j = 0, k = 0; \n",
    "\n",
    "    // Iterate through three arrays while all arrays have elements \n",
    "    while (i < ar1.length && j < ar2.length && k < ar3.length) \n",
    "    { \n",
    "         // If x = y and y = z, print any of them and move ahead \n",
    "         // in all arrays \n",
    "         if (ar1[i] == ar2[j] && ar2[j] == ar3[k]) \n",
    "         {   System.out.print(ar1[i]+\" \");   i++; j++; k++; } \n",
    "\n",
    "         // x < y \n",
    "         else if (ar1[i] < ar2[j]) \n",
    "             i++; \n",
    "\n",
    "         // y < z \n",
    "         else if (ar2[j] < ar3[k]) \n",
    "             j++; \n",
    "\n",
    "         // We reach here when x > y and z < y, i.e., z is smallest \n",
    "         else\n",
    "             k++; \n",
    "    } \n",
    "} "
   ]
  },
  {
   "cell_type": "code",
   "execution_count": 61,
   "metadata": {},
   "outputs": [
    {
     "name": "stdout",
     "output_type": "stream",
     "text": [
      "Common elements are 20 80 "
     ]
    }
   ],
   "source": [
    "// Driver code to test above \n",
    "public static void main(String args[]) \n",
    "{ \n",
    "    int ar1[] = {1, 5, 10, 20, 40, 80}; \n",
    "    int ar2[] = {6, 7, 20, 80, 100}; \n",
    "    int ar3[] = {3, 4, 15, 20, 30, 70, 80, 120}; \n",
    "\n",
    "    System.out.print(\"Common elements are \"); \n",
    "    findCommon(ar1, ar2, ar3); \n",
    "} \n",
    "main(args)"
   ]
  },
  {
   "cell_type": "code",
   "execution_count": 62,
   "metadata": {},
   "outputs": [],
   "source": [
    "/*\n",
    "Time complexity of the above solution is O(n1 + n2 + n3). \n",
    "In the worst case, \n",
    "    the largest sized array may have all small elements and middle-sized array has all middle elements.\n",
    "*/"
   ]
  },
  {
   "cell_type": "markdown",
   "metadata": {},
   "source": [
    "***https://youtu.be/ilKK8bimP24***"
   ]
  },
  {
   "cell_type": "markdown",
   "metadata": {},
   "source": [
    "## **57. Count triplets with sum smaller than a given value**\n",
    "https://www.geeksforgeeks.org/count-triplets-with-sum-smaller-that-a-given-value/"
   ]
  },
  {
   "cell_type": "code",
   "execution_count": 63,
   "metadata": {},
   "outputs": [],
   "source": [
    "/*\n",
    "Given an array of distinct integers and a sum value. \n",
    "Find count of triplets with sum smaller than given sum value. \n",
    "Expected Time Complexity is O(n^2).\n",
    "*/"
   ]
  },
  {
   "cell_type": "code",
   "execution_count": 64,
   "metadata": {},
   "outputs": [],
   "source": [
    "/*\n",
    "Examples:\n",
    "\n",
    "Input : arr[] = {-2, 0, 1, 3}\n",
    "        sum = 2.\n",
    "Output : 2\n",
    "Explanation :  Below are triplets with sum less than 2\n",
    "               (-2, 0, 1) and (-2, 0, 3) \n",
    "\n",
    "Input : arr[] = {5, 1, 3, 4, 7}\n",
    "        sum = 12.\n",
    "Output : 4\n",
    "Explanation :  Below are triplets with sum less than 12\n",
    "               (1, 3, 4), (1, 3, 5), (1, 3, 7) and \n",
    "               (1, 4, 5)\n",
    "*/"
   ]
  },
  {
   "cell_type": "code",
   "execution_count": 65,
   "metadata": {},
   "outputs": [],
   "source": [
    "/*\n",
    "A Simple Solution is to run three loops to consider all triplets one by one. \n",
    "For every triplet, \n",
    "    compare the sums and increment count if triplet sum is smaller than given sum.\n",
    "    \n",
    "Time complexity is O(n^3).\n",
    "*/"
   ]
  },
  {
   "cell_type": "code",
   "execution_count": 66,
   "metadata": {},
   "outputs": [
    {
     "name": "stdout",
     "output_type": "stream",
     "text": [
      "4\n"
     ]
    }
   ],
   "source": [
    "static int arr[] = new int[]{5, 1, 3, 4, 7}; \n",
    "\n",
    "static int countTriplets(int n, int sum) \n",
    "{ \n",
    "    // Initialize result \n",
    "    int ans = 0; \n",
    "\n",
    "    // Fix the first element as A[i] \n",
    "    for (int i = 0; i < n-2; i++) \n",
    "    { \n",
    "       // Fix the second element as A[j] \n",
    "       for (int j = i+1; j < n-1; j++) \n",
    "       { \n",
    "           // Now look for the third number \n",
    "           for (int k = j+1; k < n; k++) \n",
    "               if (arr[i] + arr[j] + arr[k] < sum) \n",
    "                   ans++; \n",
    "       } \n",
    "    } \n",
    "\n",
    "    return ans; \n",
    "} \n",
    "\n",
    "// Driver method to test the above function \n",
    "public static void main(String[] args)  \n",
    "{ \n",
    "    int sum = 12;  \n",
    "    System.out.println(countTriplets(arr.length, sum)); \n",
    "} \n",
    "main(args)"
   ]
  },
  {
   "cell_type": "code",
   "execution_count": 67,
   "metadata": {},
   "outputs": [],
   "source": [
    "/*\n",
    "An Efficient Solution can count triplets in O(n^2) by sorting the array first, \n",
    "and then using method 1 of below cell method\n",
    "*/"
   ]
  },
  {
   "cell_type": "code",
   "execution_count": 68,
   "metadata": {},
   "outputs": [],
   "source": [
    "/*\n",
    "Given an array A[] and a number x, check for pair in A[] with sum as x\n",
    "\n",
    "METHOD 1 (Use Sorting)\n",
    "\n",
    "Algorithm :\n",
    "\n",
    "hasArrayTwoCandidates (A[], ar_size, sum)\n",
    "1) Sort the array in non-decreasing order.\n",
    "2) Initialize two index variables to find the candidate \n",
    "   elements in the sorted array.\n",
    "       (a) Initialize first to the leftmost index: l = 0\n",
    "       (b) Initialize second  the rightmost index:  r = ar_size-1\n",
    "3) Loop while l < r.\n",
    "       (a) If (A[l] + A[r] == sum)  then return 1\n",
    "       (b) Else if( A[l] + A[r] <  sum )  then l++\n",
    "       (c) Else r--    \n",
    "4) No candidates in whole array - return 0\n",
    "*/"
   ]
  },
  {
   "cell_type": "code",
   "execution_count": 69,
   "metadata": {},
   "outputs": [],
   "source": [
    "/*\n",
    "1) Sort the input array in increasing order.\n",
    "2) Initialize result as 0.\n",
    "3) Run a loop from i = 0 to n-2.  An iteration of this loop finds all\n",
    "   triplets with arr[i] as first element.\n",
    "     a) Initialize other two elements as corner elements of subarray\n",
    "        arr[i+1..n-1], i.e., j = i+1 and k = n-1\n",
    "     b) Move j and k toward each other until they meet, i.e., while (j = sum), then do k--\n",
    "\n",
    "            // Else for current i and j, there can (k-j) possible third elements\n",
    "            // that satisfy the constraint.\n",
    "            (ii) Else Do ans += (k - j) followed by j++ \n",
    "*/"
   ]
  },
  {
   "cell_type": "code",
   "execution_count": 70,
   "metadata": {},
   "outputs": [],
   "source": [
    "static int arr[] = new int[]{5, 1, 3, 4, 7}; \n",
    "\n",
    "static int countTriplets(int n, int sum) \n",
    "{ \n",
    "    // Sort input array \n",
    "    Arrays.sort(arr); \n",
    "\n",
    "    // Initialize result \n",
    "    int ans = 0; \n",
    "\n",
    "    // Every iteration of loop counts triplet with \n",
    "    // first element as arr[i]. \n",
    "    for (int i = 0; i < n - 2; i++) \n",
    "    { \n",
    "        // Initialize other two elements as corner elements \n",
    "        // of subarray arr[j+1..k] \n",
    "        int j = i + 1, k = n - 1; \n",
    "\n",
    "        // Use Meet in the Middle concept \n",
    "        while (j < k) \n",
    "        { \n",
    "            // If sum of current triplet is more or equal, \n",
    "            // move right corner to look for smaller values \n",
    "            if (arr[i] + arr[j] + arr[k] >= sum) \n",
    "                k--; \n",
    "\n",
    "            // Else move left corner \n",
    "            else\n",
    "            { \n",
    "                // This is important. For current i and j, there \n",
    "                // can be total k-j third elements. \n",
    "                ans += (k - j); \n",
    "                j++; \n",
    "            } \n",
    "        } \n",
    "    } \n",
    "    return ans; \n",
    "} "
   ]
  },
  {
   "cell_type": "code",
   "execution_count": 71,
   "metadata": {},
   "outputs": [
    {
     "name": "stdout",
     "output_type": "stream",
     "text": [
      "4\n"
     ]
    }
   ],
   "source": [
    "// Driver method to test the above function \n",
    "public static void main(String[] args)  \n",
    "{ \n",
    "    int sum = 12;  \n",
    "    System.out.println(countTriplets(arr.length, sum)); \n",
    "} \n",
    "main(args)"
   ]
  },
  {
   "cell_type": "markdown",
   "metadata": {},
   "source": [
    "***https://youtu.be/7nso5Dgc6CI***"
   ]
  },
  {
   "cell_type": "markdown",
   "metadata": {},
   "source": [
    "## **58. Merge two sorted arrays with O(1) extra space**\n",
    "https://www.geeksforgeeks.org/merge-two-sorted-arrays-o1-extra-space/"
   ]
  },
  {
   "cell_type": "code",
   "execution_count": 72,
   "metadata": {},
   "outputs": [],
   "source": [
    "/*\n",
    "We are given two sorted array. \n",
    "We need to merge these two arrays \n",
    "such that the initial numbers (after complete sorting) are in the first array \n",
    "and the remaining numbers are in the second array. \n",
    "Extra space allowed in O(1).\n",
    "*/"
   ]
  },
  {
   "cell_type": "code",
   "execution_count": 73,
   "metadata": {},
   "outputs": [],
   "source": [
    "/*\n",
    "Example:\n",
    "\n",
    "Input: ar1[] = {10};\n",
    "       ar2[] = {2, 3};\n",
    "Output: ar1[] = {2}\n",
    "        ar2[] = {3, 10}  \n",
    "\n",
    "Input: ar1[] = {1, 5, 9, 10, 15, 20};\n",
    "       ar2[] = {2, 3, 8, 13};\n",
    "Output: ar1[] = {1, 2, 3, 5, 8, 9}\n",
    "        ar2[] = {10, 13, 15, 20} \n",
    "*/"
   ]
  },
  {
   "cell_type": "code",
   "execution_count": 74,
   "metadata": {},
   "outputs": [],
   "source": [
    "/*\n",
    "This task is simple and O(m+n) if we are allowed to use extra space. \n",
    "But it becomes really complicated when extra space is not allowed and doesn’t look possible in less than O(m*n) worst case time.\n",
    "*/"
   ]
  },
  {
   "cell_type": "code",
   "execution_count": 75,
   "metadata": {},
   "outputs": [],
   "source": [
    "/*\n",
    "The idea is to begin from last element of ar2[] and search it in ar1[]. \n",
    "If there is a greater element in ar1[], then we move last element of ar1[] to ar2[]. \n",
    "To keep ar1[] and ar2[] sorted, we need to place last element of ar2[] at correct place in ar1[]. \n",
    "We can use Insertion Sort type of insertion for this. \n",
    "Below is algorithm:\n",
    "*/"
   ]
  },
  {
   "cell_type": "code",
   "execution_count": 76,
   "metadata": {},
   "outputs": [],
   "source": [
    "/*\n",
    "1) Iterate through every element of ar2[] starting from last \n",
    "   element. Do following for every element ar2[i]\n",
    "    a) Store last element of ar1[i]: last = ar1[i]\n",
    "    b) Loop from last element of ar1[] while element ar1[j] is \n",
    "       smaller than ar2[i].\n",
    "          ar1[j+1] = ar1[j] // Move element one position ahead\n",
    "          j--\n",
    "    c) If any element of ar1[] was moved or (j != m-1)\n",
    "          ar1[j+1] = ar2[i] \n",
    "          ar2[i] = last  \n",
    "*/"
   ]
  },
  {
   "cell_type": "code",
   "execution_count": 77,
   "metadata": {},
   "outputs": [
    {
     "name": "stdout",
     "output_type": "stream",
     "text": [
      "After Merging nFirst Array: [1, 2, 3, 5, 8, 9]\n",
      "Second Array:  [10, 13, 15, 20]\n"
     ]
    }
   ],
   "source": [
    "static int arr1[] = new int[]{1, 5, 9, 10, 15, 20}; \n",
    "static int arr2[] = new int[]{2, 3, 8, 13}; \n",
    "\n",
    "static void merge(int m, int n) \n",
    "{ \n",
    "    // Iterate through all elements of ar2[] starting from \n",
    "    // the last element \n",
    "    for (int i=n-1; i>=0; i--) \n",
    "    { \n",
    "        /* Find the smallest element greater than ar2[i]. Move all \n",
    "           elements one position ahead till the smallest greater \n",
    "           element is not found */\n",
    "        int j, last = arr1[m-1]; \n",
    "        for (j=m-2; j >= 0 && arr1[j] > arr2[i]; j--) \n",
    "            arr1[j+1] = arr1[j]; \n",
    "\n",
    "        // If there was a greater element \n",
    "        if (j != m-2 || last > arr2[i]) \n",
    "        { \n",
    "            arr1[j+1] = arr2[i]; \n",
    "            arr2[i] = last; \n",
    "        } \n",
    "    } \n",
    "} \n",
    "\n",
    "// Driver method to test the above function \n",
    "public static void main(String[] args)  \n",
    "{ \n",
    "    merge(arr1.length,arr2.length); \n",
    "    System.out.print(\"After Merging nFirst Array: \"); \n",
    "    System.out.println(Arrays.toString(arr1)); \n",
    "    System.out.print(\"Second Array:  \"); \n",
    "    System.out.println(Arrays.toString(arr2)); \n",
    "} \n",
    "main(args)"
   ]
  },
  {
   "cell_type": "code",
   "execution_count": 78,
   "metadata": {},
   "outputs": [],
   "source": [
    "/*\n",
    "Time Complexity: The worst case time complexity of code/algorithm is O(m*n). \n",
    "The worst case occurs when all elements of ar1[] are greater than all elements of ar2[].\n",
    "*/"
   ]
  },
  {
   "cell_type": "markdown",
   "metadata": {},
   "source": [
    "<img src = \"https://media.geeksforgeeks.org/wp-content/cdn-uploads/Merge-two-sorted-Arrays.png\"/>"
   ]
  },
  {
   "cell_type": "markdown",
   "metadata": {},
   "source": [
    "***Efficient Method***\n",
    "***https://www.geeksforgeeks.org/efficiently-merging-two-sorted-arrays-with-o1-extra-space/***"
   ]
  },
  {
   "cell_type": "markdown",
   "metadata": {},
   "source": [
    "## **59. 3-Way QuickSort (Dutch National Flag)**\n",
    "https://www.geeksforgeeks.org/3-way-quicksort-dutch-national-flag/"
   ]
  },
  {
   "cell_type": "code",
   "execution_count": 79,
   "metadata": {},
   "outputs": [],
   "source": [
    "/*\n",
    "n simple QuickSort algorithm, \n",
    "we select an element as pivot, partition the array around pivot and recur for subarrays on left and right of pivot.\n",
    "*/"
   ]
  },
  {
   "cell_type": "code",
   "execution_count": 80,
   "metadata": {},
   "outputs": [],
   "source": [
    "/*\n",
    "Consider an array which has many redundant elements. \n",
    "For example, \n",
    "    {1, 4, 2, 4, 2, 4, 1, 2, 4, 1, 2, 2, 2, 2, 4, 1, 4, 4, 4}. \n",
    "        If 4 is picked as pivot in Simple QuickSort, \n",
    "        we fix only one 4 and recursively process remaining occurrences.\n",
    "*/"
   ]
  },
  {
   "cell_type": "code",
   "execution_count": 81,
   "metadata": {},
   "outputs": [],
   "source": [
    "/*\n",
    "The idea of 3 way QuickSort is to process all occurrences of pivot and is based on Dutch National Flag algorithm.\n",
    "\n",
    "In 3 Way QuickSort, an array arr[l..r] is divided in 3 parts:\n",
    "    a) arr[l..i] elements less than pivot.\n",
    "    b) arr[i+1..j-1] elements equal to pivot.\n",
    "    c) arr[j..r] elements greater than pivot.\n",
    "Below is the implementation of above algorithm.\n",
    "*/"
   ]
  },
  {
   "cell_type": "markdown",
   "metadata": {},
   "source": [
    "***https://ideone.com/JUYB5p***"
   ]
  },
  {
   "cell_type": "code",
   "execution_count": 82,
   "metadata": {},
   "outputs": [],
   "source": [
    "/*\n",
    "Another Implementation using Dutch National Flag Algorithm\n",
    "*/"
   ]
  },
  {
   "cell_type": "code",
   "execution_count": null,
   "metadata": {},
   "outputs": [],
   "source": []
  },
  {
   "cell_type": "markdown",
   "metadata": {},
   "source": [
    "## **60. Counting Sort**\n",
    "https://www.geeksforgeeks.org/counting-sort/"
   ]
  },
  {
   "cell_type": "code",
   "execution_count": 83,
   "metadata": {},
   "outputs": [],
   "source": [
    "/*\n",
    "Counting sort is a sorting technique based on keys between a specific range. \n",
    "It works by counting the number of objects having distinct key values (kind of hashing). \n",
    "Then doing some arithmetic to calculate the position of each object in the output sequence.\n",
    "*/"
   ]
  },
  {
   "cell_type": "code",
   "execution_count": 84,
   "metadata": {},
   "outputs": [],
   "source": [
    "/*\n",
    "Let us understand it with the help of an example.\n",
    "\n",
    "For simplicity, consider the data in the range 0 to 9. \n",
    "Input data: 1, 4, 1, 2, 7, 5, 2\n",
    "  1) Take a count array to store the count of each unique object.\n",
    "  Index:     0  1  2  3  4  5  6  7  8  9\n",
    "  Count:     0  2  2  0   1  1  0  1  0  0\n",
    "\n",
    "  2) Modify the count array such that each element at each index \n",
    "  stores the sum of previous counts. \n",
    "  Index:     0  1  2  3  4  5  6  7  8  9\n",
    "  Count:     0  2  4  4  5  6  6  7  7  7\n",
    "\n",
    "The modified count array indicates the position of each object in \n",
    "the output sequence.\n",
    " \n",
    "  3) Output each object from the input sequence followed by \n",
    "  decreasing its count by 1.\n",
    "  Process the input data: 1, 4, 1, 2, 7, 5, 2. Position of 1 is 2.\n",
    "  Put data 1 at index 2 in output. Decrease count by 1 to place \n",
    "  next data 1 at an index 1 smaller than this index.\n",
    "\n",
    "Time Complexity: O(n+k) where n is the number of elements in input array and k is the range of input.\n",
    "Auxiliary Space: O(n+k)\n",
    "*/"
   ]
  },
  {
   "cell_type": "code",
   "execution_count": 85,
   "metadata": {},
   "outputs": [],
   "source": [
    "void sort(char arr[]) \n",
    "{ \n",
    "    int n = arr.length; \n",
    "\n",
    "    // The output character array that will have sorted arr \n",
    "    char output[] = new char[n]; \n",
    "\n",
    "    // Create a count array to store count of inidividul \n",
    "    // characters and initialize count array as 0 \n",
    "    int count[] = new int[256]; \n",
    "    for (int i=0; i<256; ++i) \n",
    "        count[i] = 0; \n",
    "\n",
    "    // store count of each character \n",
    "    for (int i=0; i<n; ++i) \n",
    "        ++count[arr[i]]; \n",
    "\n",
    "    // Change count[i] so that count[i] now contains actual \n",
    "    // position of this character in output array \n",
    "    for (int i=1; i<=255; ++i) \n",
    "        count[i] += count[i-1]; \n",
    "\n",
    "    // Build the output character array \n",
    "    // To make it stable we are operating in reverse order. \n",
    "    for (int i = n-1; i>=0; i--) \n",
    "    { \n",
    "        output[count[arr[i]]-1] = arr[i]; \n",
    "        --count[arr[i]]; \n",
    "    } \n",
    "\n",
    "    // Copy the output array to arr, so that arr now \n",
    "    // contains sorted characters \n",
    "    for (int i = 0; i<n; ++i) \n",
    "        arr[i] = output[i]; \n",
    "} "
   ]
  },
  {
   "cell_type": "code",
   "execution_count": 86,
   "metadata": {},
   "outputs": [
    {
     "name": "stdout",
     "output_type": "stream",
     "text": [
      "Sorted character array is eeeefggkkorss"
     ]
    }
   ],
   "source": [
    "// Driver method \n",
    "public static void main(String args[]) \n",
    "{ \n",
    "    char arr[] = {'g', 'e', 'e', 'k', 's', 'f', 'o', \n",
    "                'r', 'g', 'e', 'e', 'k', 's'\n",
    "                }; \n",
    "\n",
    "    sort(arr); \n",
    "\n",
    "    System.out.print(\"Sorted character array is \"); \n",
    "    for (int i=0; i<arr.length; ++i) \n",
    "        System.out.print(arr[i]); \n",
    "} \n",
    "main(args)"
   ]
  },
  {
   "cell_type": "code",
   "execution_count": 87,
   "metadata": {},
   "outputs": [],
   "source": [
    "/*\n",
    "The problem with the previous counting sort was that we could not sort the elements if we have negative numbers in it. \n",
    "Because there are no negative array indices. \n",
    "So what we do is, we find the minimum element and we will store count of that minimum element at zero index.\n",
    "*/"
   ]
  },
  {
   "cell_type": "code",
   "execution_count": 88,
   "metadata": {},
   "outputs": [
    {
     "name": "stdout",
     "output_type": "stream",
     "text": [
      "-10 -5 -3 -1 0 5 8 10 \n"
     ]
    }
   ],
   "source": [
    "static void countSort(int[] arr)  \n",
    "{ \n",
    "    int max = Arrays.stream(arr).max().getAsInt(); \n",
    "    int min = Arrays.stream(arr).min().getAsInt(); \n",
    "    int range = max - min + 1; \n",
    "    int count[] = new int[range]; \n",
    "    int output[] = new int[arr.length]; \n",
    "    for (int i = 0; i < arr.length; i++)  \n",
    "    { \n",
    "        count[arr[i] - min]++; \n",
    "    } \n",
    "\n",
    "    for (int i = 1; i < count.length; i++)  \n",
    "    { \n",
    "        count[i] += count[i - 1]; \n",
    "    } \n",
    "\n",
    "    for (int i = arr.length - 1; i >= 0; i--)  \n",
    "    { \n",
    "        output[count[arr[i] - min] - 1] = arr[i]; \n",
    "        count[arr[i] - min]--; \n",
    "    } \n",
    "\n",
    "    for (int i = 0; i < arr.length; i++) \n",
    "    { \n",
    "        arr[i] = output[i]; \n",
    "    } \n",
    "} \n",
    "\n",
    "static void printArray(int[] arr)  \n",
    "{ \n",
    "    for (int i = 0; i < arr.length; i++)  \n",
    "    { \n",
    "        System.out.print(arr[i] + \" \"); \n",
    "    } \n",
    "    System.out.println(\"\"); \n",
    "} \n",
    "\n",
    "// Driver code \n",
    "public static void main(String[] args) \n",
    "{ \n",
    "    int[] arr = {-5, -10, 0, -3, 8, 5, -1, 10}; \n",
    "    countSort(arr); \n",
    "    printArray(arr); \n",
    "} \n",
    "main(args);"
   ]
  },
  {
   "cell_type": "code",
   "execution_count": 89,
   "metadata": {},
   "outputs": [],
   "source": [
    "/*\n",
    "Points to be noted:\n",
    "1. Counting sort is efficient if the range of input data is not significantly greater than the number of objects to be sorted. \n",
    "   Consider the situation where the input sequence is between range 1 to 10K and the data is 10, 5, 10K, 5K.\n",
    "2. It is not a comparison based sorting. It running time complexity is O(n) with space proportional to the range of data.\n",
    "3. It is often used as a sub-routine to another sorting algorithm like radix sort.\n",
    "4. Counting sort uses a partial hashing to count the occurrence of the data object in O(1).\n",
    "5. Counting sort can be extended to work for negative inputs also.\n",
    "*/"
   ]
  },
  {
   "cell_type": "markdown",
   "metadata": {},
   "source": [
    "***https://youtu.be/7zuGmKfUt7s***"
   ]
  },
  {
   "cell_type": "code",
   "execution_count": null,
   "metadata": {},
   "outputs": [],
   "source": []
  },
  {
   "cell_type": "markdown",
   "metadata": {},
   "source": [
    "## **61. Radix Sort**\n",
    "https://www.geeksforgeeks.org/radix-sort/"
   ]
  },
  {
   "cell_type": "code",
   "execution_count": 90,
   "metadata": {},
   "outputs": [],
   "source": [
    "/*\n",
    "The lower bound for Comparison based sorting algorithm (Merge Sort, Heap Sort, Quick-Sort .. etc) is Ω(nLogn), \n",
    "i.e., they cannot do better than nLogn.\n",
    "Counting sort is a linear time sorting algorithm that sort in O(n+k) time when elements are in range from 1 to k.\n",
    "*/"
   ]
  },
  {
   "cell_type": "code",
   "execution_count": 91,
   "metadata": {},
   "outputs": [],
   "source": [
    "/*\n",
    "What if the elements are in range from 1 to n^2?\n",
    "    We can’t use counting sort \n",
    "    because counting sort will take O(n^2) which is worse than comparison based sorting algorithms. \n",
    "\n",
    "Can we sort such an array in linear time?\n",
    "    Radix Sort is the answer. \n",
    "    The idea of Radix Sort is to do digit by digit sort starting from least significant digit to most significant digit. \n",
    "    Radix sort uses counting sort as a subroutine to sort.\n",
    "*/"
   ]
  },
  {
   "cell_type": "code",
   "execution_count": 92,
   "metadata": {},
   "outputs": [],
   "source": [
    "/*\n",
    "The Radix Sort Algorithm\n",
    "1) Do following for each digit i where i varies from least significant digit to the most significant digit.\n",
    "………….a) Sort input array using counting sort (or any stable sort) according to the i’th digit.\n",
    "\n",
    "Example:\n",
    "Original, unsorted list:\n",
    "    170, 45, 75, 90, 802, 24, 2, 66\n",
    "\n",
    "Sorting by least significant digit (1s place) gives: \n",
    "[*Notice that we keep 802 before 2, because 802 occurred before 2 in the original list, and similarly for pairs 170 & 90 and 45 & 75.]\n",
    "    170, 90, 802, 2, 24, 45, 75, 66\n",
    "\n",
    "Sorting by next digit (10s place) gives: \n",
    "[*Notice that 802 again comes before 2 as 802 comes before 2 in the previous list.]\n",
    "    802, 2, 24, 45, 66, 170, 75, 90\n",
    "\n",
    "Sorting by most significant digit (100s place) gives:\n",
    "    2, 24, 45, 66, 75, 90, 170, 802\n",
    "*/"
   ]
  },
  {
   "cell_type": "code",
   "execution_count": 93,
   "metadata": {},
   "outputs": [],
   "source": [
    "/*\n",
    "What is the running time of Radix Sort?\n",
    "    Let there be d digits in input integers. \n",
    "    Radix Sort takes O(d*(n+b)) time where b is the base for representing numbers, \n",
    "    for example, \n",
    "    for decimal system, b is 10. \n",
    "    What is the value of d? \n",
    "        If k is the maximum possible value, \n",
    "        then d would be O(logb(k)). \n",
    "        So overall time complexity is O((n+b) * logb(k)). \n",
    "        Which looks more than the time complexity of comparison based sorting algorithms for a large k. \n",
    "        Let us first limit k. Let k <= nc where c is a constant. \n",
    "        In that case, the complexity becomes O(nLogb(n)). But it still doesn’t beat comparison based sorting algorithms.\n",
    "    What if we make value of b larger?. \n",
    "    What should be the value of b to make the time complexity linear? \n",
    "        If we set b as n, we get the time complexity as O(n). \n",
    "        In other words, we can sort an array of integers with range from 1 to n^c \n",
    "        if the numbers are represented in base n (or every digit takes log2(n) bits).\n",
    "*/"
   ]
  },
  {
   "cell_type": "code",
   "execution_count": 94,
   "metadata": {},
   "outputs": [],
   "source": [
    "/*\n",
    "Is Radix Sort preferable to Comparison based sorting algorithms like Quick-Sort?\n",
    "    If we have log2n bits for every digit, \n",
    "    the running time of Radix appears to be better than Quick Sort for a wide range of input numbers. \n",
    "    The constant factors hidden in asymptotic notation are higher for Radix Sort and Quick-Sort uses hardware caches more effectively. \n",
    "    Also, Radix sort uses counting sort as a subroutine and counting sort takes extra space to sort numbers.\n",
    "*/"
   ]
  },
  {
   "cell_type": "code",
   "execution_count": 95,
   "metadata": {},
   "outputs": [],
   "source": [
    "// A utility function to get maximum value in arr[] \n",
    "static int getMax(int arr[], int n) \n",
    "{ \n",
    "    int mx = arr[0]; \n",
    "    for (int i = 1; i < n; i++) \n",
    "        if (arr[i] > mx) \n",
    "            mx = arr[i]; \n",
    "    return mx; \n",
    "} "
   ]
  },
  {
   "cell_type": "code",
   "execution_count": 96,
   "metadata": {},
   "outputs": [],
   "source": [
    "// A function to do counting sort of arr[] according to \n",
    "// the digit represented by exp. \n",
    "static void countSort(int arr[], int n, int exp) \n",
    "{ \n",
    "    int output[] = new int[n]; // output array \n",
    "    int i; \n",
    "    int count[] = new int[10]; \n",
    "    Arrays.fill(count,0); \n",
    "\n",
    "    // Store count of occurrences in count[] \n",
    "    for (i = 0; i < n; i++) \n",
    "        count[ (arr[i]/exp)%10 ]++; \n",
    "\n",
    "    // Change count[i] so that count[i] now contains \n",
    "    // actual position of this digit in output[] \n",
    "    for (i = 1; i < 10; i++) \n",
    "        count[i] += count[i - 1]; \n",
    "\n",
    "    // Build the output array \n",
    "    for (i = n - 1; i >= 0; i--) \n",
    "    { \n",
    "        output[count[ (arr[i]/exp)%10 ] - 1] = arr[i]; \n",
    "        count[ (arr[i]/exp)%10 ]--; \n",
    "    } \n",
    "\n",
    "    // Copy the output array to arr[], so that arr[] now \n",
    "    // contains sorted numbers according to curent digit \n",
    "    for (i = 0; i < n; i++) \n",
    "        arr[i] = output[i]; \n",
    "} "
   ]
  },
  {
   "cell_type": "code",
   "execution_count": 97,
   "metadata": {},
   "outputs": [],
   "source": [
    "// The main function to that sorts arr[] of size n using \n",
    "// Radix Sort \n",
    "static void radixsort(int arr[], int n) \n",
    "{ \n",
    "    // Find the maximum number to know number of digits \n",
    "    int m = getMax(arr, n); \n",
    "\n",
    "    // Do counting sort for every digit. Note that instead \n",
    "    // of passing digit number, exp is passed. exp is 10^i \n",
    "    // where i is current digit number \n",
    "    for (int exp = 1; m/exp > 0; exp *= 10) \n",
    "        countSort(arr, n, exp); \n",
    "} "
   ]
  },
  {
   "cell_type": "code",
   "execution_count": 98,
   "metadata": {},
   "outputs": [
    {
     "name": "stdout",
     "output_type": "stream",
     "text": [
      "2 24 45 66 75 90 170 802 "
     ]
    }
   ],
   "source": [
    "// A utility function to print an array \n",
    "static void print(int arr[], int n) \n",
    "{ \n",
    "    for (int i=0; i<n; i++) \n",
    "        System.out.print(arr[i]+\" \"); \n",
    "} \n",
    "\n",
    "\n",
    "/*Driver function to check for above function*/\n",
    "public static void main (String[] args) \n",
    "{ \n",
    "    int arr[] = {170, 45, 75, 90, 802, 24, 2, 66}; \n",
    "    int n = arr.length; \n",
    "    radixsort(arr, n); \n",
    "    print(arr, n); \n",
    "}\n",
    "main(args);"
   ]
  },
  {
   "cell_type": "markdown",
   "metadata": {},
   "source": [
    "***https://youtu.be/nu4gDuFabIM***"
   ]
  },
  {
   "cell_type": "markdown",
   "metadata": {},
   "source": [
    "## **62. How to efficiently sort a big list dates in 20’s**\n",
    "https://www.geeksforgeeks.org/how-to-efficiently-sort-a-big-list-dates-in-20s/"
   ]
  },
  {
   "cell_type": "code",
   "execution_count": 99,
   "metadata": {},
   "outputs": [],
   "source": [
    "/*\n",
    "Given a big list of dates in 20’s, how to efficiently sort the list.\n",
    "*/"
   ]
  },
  {
   "cell_type": "code",
   "execution_count": 100,
   "metadata": {},
   "outputs": [],
   "source": [
    "/*\n",
    "Example:\n",
    "\n",
    "Input:\n",
    "       Date arr[] = {{20,  1, 2014},\n",
    "                    {25,  3, 2010},\n",
    "                    { 3, 12, 2000},\n",
    "                    {18, 11, 2001},\n",
    "                    {19,  4, 2015},\n",
    "                    { 9,  7, 2005}}\n",
    "\n",
    "Output:\n",
    "      Date arr[] = {{ 3, 12, 2000},\n",
    "                    {18, 11, 2001},\n",
    "                    { 9,  7, 2005},\n",
    "                    {25,  3, 2010},\n",
    "                    {20,  1, 2014},\n",
    "                    {19,  4, 2015}}\n",
    "*/"
   ]
  },
  {
   "cell_type": "code",
   "execution_count": 101,
   "metadata": {},
   "outputs": [],
   "source": [
    "/*\n",
    "A Simple Solution is to use a O(nLogn) algorithm like Merge Sort.\n",
    "\n",
    "We can sort the list in O(n) time using Radix Sort. \n",
    "In a typical Radix Sort implementation, we first sort by last digit, then by second last digit, and so on. \n",
    "Here we sort in following order.\n",
    "    1) First sort by day using counting sort\n",
    "    2) Then sort by month using counting sort\n",
    "    3) Finally sort by year using counting sort\n",
    "\n",
    "As the number of days, months and years are fixed, all three steps take O(n) time. \n",
    "Therefore, overall time complexity is O(n).\n",
    "*/"
   ]
  },
  {
   "cell_type": "markdown",
   "metadata": {},
   "source": [
    "***https://ideone.com/808Pg5***"
   ]
  },
  {
   "cell_type": "code",
   "execution_count": 102,
   "metadata": {},
   "outputs": [],
   "source": [
    "class Date{\n",
    "    int day;\n",
    "    int month;\n",
    "    int year;\n",
    "    Date(int day,int month,int year){\n",
    "        this.day=day;\n",
    "        this.month=month;\n",
    "        this.year=year;\n",
    "    }\n",
    "    public String toString(){\n",
    "        Formatter fm=new Formatter();\n",
    "        String str= fm.format(\"%3d%3d%5d\",day,month,year).toString();\n",
    "        fm.close();\n",
    "        return str;\n",
    "    }\n",
    "}"
   ]
  },
  {
   "cell_type": "code",
   "execution_count": 103,
   "metadata": {},
   "outputs": [],
   "source": [
    "class MyComp implements Comparator<Date>{\n",
    "    public int compare(Date d1,Date d2){\n",
    "        if(d1.year<d2.year){\n",
    "            return -1;\n",
    "        }else if(d1.year==d2.year){\n",
    "            if(d1.month<d2.month){\n",
    "                return -1;\n",
    "            }else if(d1.month==d2.month){\n",
    "                if(d1.day<=d2.day)return -1;\n",
    "                else return 1;\n",
    "            }else{\n",
    "                return 1;\n",
    "            }\n",
    "        }else{\n",
    "            return 1;\n",
    "        }\n",
    "    }\n",
    "}"
   ]
  },
  {
   "cell_type": "code",
   "execution_count": 104,
   "metadata": {},
   "outputs": [
    {
     "name": "stdout",
     "output_type": "stream",
     "text": [
      "Input Dates\n",
      " 20  1 2014\n",
      " 25  3 2010\n",
      "  3 12 2000\n",
      " 18 11 2001\n",
      " 19  4 2015\n",
      "  9  7 2005\n",
      "\n",
      "Sorted Dates\n",
      "  3 12 2000\n",
      " 18 11 2001\n",
      "  9  7 2005\n",
      " 25  3 2010\n",
      " 20  1 2014\n",
      " 19  4 2015\n"
     ]
    }
   ],
   "source": [
    "public static void main(String[] args){\n",
    "    Date[] date={\n",
    "            new Date(20,  1, 2014),\n",
    "            new Date(25, 3, 2010),\n",
    "            new Date(3, 12, 2000),\n",
    "            new Date(18, 11, 2001),\n",
    "            new Date(19, 4, 2015),\n",
    "            new Date(9, 7, 2005)\n",
    "    };\n",
    "    System.out.println(\"Input Dates\");\n",
    "    for(Date d:date){\n",
    "        System.out.println(d);\n",
    "    }\n",
    "    Arrays.sort(date,new MyComp());\n",
    "    System.out.println(\"\\nSorted Dates\");\n",
    "    for(Date d:date){\n",
    "        System.out.println(d);\n",
    "    }\n",
    "}\n",
    "main(args);"
   ]
  },
  {
   "cell_type": "markdown",
   "metadata": {},
   "source": [
    "## **63. Median in a stream of integers (running integers)**\n",
    "https://www.geeksforgeeks.org/median-of-stream-of-integers-running-integers/"
   ]
  },
  {
   "cell_type": "code",
   "execution_count": 105,
   "metadata": {},
   "outputs": [],
   "source": [
    "/*\n",
    "Given that integers are read from a data stream. \n",
    "Find median of elements read so for in efficient way. \n",
    "For simplicity assume there are no duplicates. \n",
    "\n",
    "For example, let us consider the stream 5, 15, 1, 3 …\n",
    "\n",
    "    After reading 1st element of stream - 5 -> median - 5\n",
    "    After reading 2nd element of stream - 5, 15 -> median - 10\n",
    "    After reading 3rd element of stream - 5, 15, 1 -> median - 5\n",
    "    After reading 4th element of stream - 5, 15, 1, 3 -> median - 4, so on...\n",
    "*/"
   ]
  },
  {
   "cell_type": "code",
   "execution_count": 106,
   "metadata": {},
   "outputs": [],
   "source": [
    "/*\n",
    "Making it clear, \n",
    "when the input size is odd, we take the middle element of sorted data. \n",
    "If the input size is even, we pick average of middle two elements in sorted stream.\n",
    "\n",
    "Note that output is effective median of integers read from the stream so far. \n",
    "Such an algorithm is called online algorithm. \n",
    "Any algorithm that can guarantee output of i-elements after processing i-th element, is said to be online algorithm. \n",
    "Let us discuss three solutions for the above problem.\n",
    "*/"
   ]
  },
  {
   "cell_type": "code",
   "execution_count": 107,
   "metadata": {},
   "outputs": [],
   "source": [
    "/*\n",
    "Method 1: Insertion Sort\n",
    "\n",
    "If we can sort the data as it appears, we can easily locate median element. \n",
    "Insertion Sort is one such online algorithm that sorts the data appeared so far. \n",
    "At any instance of sorting, say after sorting i-th element, the first i elements of array are sorted. \n",
    "The insertion sort doesn’t depend on future data to sort data input till that point. \n",
    "In other words, insertion sort considers data sorted so far while inserting next element. \n",
    "This is the key part of insertion sort that makes it an online algorithm.\n",
    "\n",
    "However, insertion sort takes O(n^2) time to sort n elements. \n",
    "Perhaps we can use binary search on insertion sort to find location of next element in O(log n) time. \n",
    "Yet, we can’t do data movement in O(log n) time. \n",
    "No matter how efficient the implementation is, it takes polynomial time in case of insertion sort.\n",
    "*/"
   ]
  },
  {
   "cell_type": "code",
   "execution_count": 108,
   "metadata": {},
   "outputs": [],
   "source": [
    "/*\n",
    "Method 2: Augmented self balanced binary search tree (AVL, RB, etc…)\n",
    "\n",
    "At every node of BST, maintain number of elements in the subtree rooted at that node. \n",
    "We can use a node as root of simple binary tree, \n",
    "whose left child is self balancing BST with elements less than root and right child is self balancing BST with elements greater than root. \n",
    "The root element always holds effective median.\n",
    "\n",
    "If left and right subtrees contain same number of elements, \n",
    "    root node holds average of left and right subtree root data. \n",
    "Otherwise, root contains same data as the root of subtree which is having more elements. \n",
    "After processing an incoming element, the left and right subtrees (BST) are differed utmost by 1.\n",
    "\n",
    "Self balancing BST is costly in managing balancing factor of BST. \n",
    "However, they provide sorted data which we don’t need. \n",
    "We need median only. The next method make use of Heaps to trace median.\n",
    "*/"
   ]
  },
  {
   "cell_type": "code",
   "execution_count": 109,
   "metadata": {},
   "outputs": [],
   "source": [
    "/*\n",
    "Method 3: Heaps\n",
    "Time Complexity: If we omit the way how stream was read, complexity of median finding is O(N log N), as we need to read the stream, and due to heap insertions/deletions.\n",
    "\n",
    "\n",
    "Similar to balancing BST in Method 2 above, \n",
    "we can use a max heap on left side to represent elements that are less than effective median, \n",
    "and a min heap on right side to represent elements that are greater than effective median.\n",
    "\n",
    "After processing an incoming element, the number of elements in heaps differ utmost by 1 element. \n",
    "When both heaps contain same number of elements, we pick average of heaps root data as effective median. \n",
    "When the heaps are not balanced, we select effective median from the root of heap containing more elements.\n",
    "\n",
    "Given below is implementation of above method. For algorithm to build these heaps, please read the highlighted code.\n",
    "*/"
   ]
  },
  {
   "cell_type": "markdown",
   "metadata": {},
   "source": [
    "***https://ideone.com/SLthBb***"
   ]
  },
  {
   "cell_type": "markdown",
   "metadata": {},
   "source": [
    "***Median of Stream of Running Integers using STL***\n",
    "\n",
    "***https://www.geeksforgeeks.org/median-of-stream-of-running-integers-using-stl/***"
   ]
  },
  {
   "cell_type": "markdown",
   "metadata": {},
   "source": [
    "## **64. Make all array elements equal with minimum cost**\n",
    "https://www.geeksforgeeks.org/make-array-elements-equal-minimum-cost/"
   ]
  },
  {
   "cell_type": "code",
   "execution_count": 110,
   "metadata": {},
   "outputs": [],
   "source": [
    "/*\n",
    "Given an array which contains integer values, \n",
    "we need to make all values of this array equal to some integer value with minimum cost \n",
    "where the cost of changing an array value x to y is abs(x-y).\n",
    "*/"
   ]
  },
  {
   "cell_type": "code",
   "execution_count": 111,
   "metadata": {},
   "outputs": [],
   "source": [
    "/*\n",
    "Examples :\n",
    "\n",
    "Input  : arr[] = [1, 100, 101]\n",
    "Output : 100\n",
    "We can change all its values to 100 with minimum cost,\n",
    "|1 - 100| + |100 - 100| + |101 - 100| = 100\n",
    "\n",
    "Input  : arr[] = [4, 6]\n",
    "Output : 2\n",
    "We can change all its values to 5 with minimum cost,\n",
    "|4 - 5| + |5 - 6| = 2\n",
    "*/"
   ]
  },
  {
   "cell_type": "code",
   "execution_count": 112,
   "metadata": {},
   "outputs": [],
   "source": [
    "/*\n",
    "This problem can be solved by observing the cost while changing the target equal value, \n",
    "i.e. we will see the change in cost when target equal value is changed. \n",
    "It can be observed that, \n",
    "    as we increase the target equal value the total cost decreases up to a limit and then starts increasing \n",
    "    i.e. the cost graph with respect to target equal value is of U-shape \n",
    "    and as cost graph is in U-shape, \n",
    "        the ternary search can be applied to this search space and our goal is to get that bottom most point of the curve which will represent the smallest cost. \n",
    "    We will make smallest and largest value of the array as the limit of our search space \n",
    "    and then we will keep skipping 1/3 part of the search space until we reach to the bottom most point of our U-curve.\n",
    "Please see below code for better understanding,\n",
    "\n",
    "Time Complexity : O (n Log n)\n",
    "*/"
   ]
  },
  {
   "cell_type": "code",
   "execution_count": 113,
   "metadata": {},
   "outputs": [],
   "source": [
    "// Utility method to compute cost, when \n",
    "// all values of array are made equal to X \n",
    "public static int computeCost(int arr[], int N, \n",
    "                              int X) \n",
    "{ \n",
    "    int cost = 0; \n",
    "    for (int i = 0; i < N; i++) \n",
    "        cost += Math.abs(arr[i] - X); \n",
    "    return cost; \n",
    "} "
   ]
  },
  {
   "cell_type": "code",
   "execution_count": 114,
   "metadata": {},
   "outputs": [],
   "source": [
    "// Method to find minimum cost to make all \n",
    "// elements equal \n",
    "public static int minCostToMakeElementEqual(int arr[], \n",
    "                                            int N) \n",
    "{ \n",
    "    int low, high; \n",
    "    low = high = arr[0]; \n",
    "\n",
    "    // setting limits for ternary search by \n",
    "    // smallest and largest element \n",
    "    for (int i = 0; i < N; i++) { \n",
    "        if (low > arr[i]) \n",
    "            low = arr[i]; \n",
    "        if (high < arr[i]) \n",
    "            high = arr[i]; \n",
    "    } \n",
    "\n",
    "    /* loop until difference between low and high \n",
    "       become less than 3, because after that \n",
    "       mid1 and mid2 will start repeating \n",
    "    */\n",
    "    while ((high - low) > 2) { \n",
    "        // mid1 and mid2 are representative array \n",
    "        // equal values of search space \n",
    "        int mid1 = low + (high - low) / 3; \n",
    "        int mid2 = high - (high - low) / 3; \n",
    "\n",
    "        int cost1 = computeCost(arr, N, mid1); \n",
    "        int cost2 = computeCost(arr, N, mid2); \n",
    "\n",
    "        // if mid2 point gives more total cost, \n",
    "        // skip third part \n",
    "        if (cost1 < cost2) \n",
    "            high = mid2; \n",
    "\n",
    "        // if mid1 point gives more total cost, \n",
    "        // skip first part \n",
    "        else\n",
    "            low = mid1; \n",
    "    } \n",
    "\n",
    "    // computeCost gets optimum cost by sending \n",
    "    // average of low and high as X \n",
    "    return computeCost(arr, N, (low + high) / 2); \n",
    "} "
   ]
  },
  {
   "cell_type": "code",
   "execution_count": 115,
   "metadata": {},
   "outputs": [
    {
     "name": "stdout",
     "output_type": "stream",
     "text": [
      "100\n"
     ]
    }
   ],
   "source": [
    "/* Driver program to test above function */\n",
    "public static void main(String[] args) \n",
    "{ \n",
    "    int arr[] = { 1, 100, 101 }; \n",
    "    int N = arr.length; \n",
    "    System.out.println(minCostToMakeElementEqual(arr, N)); \n",
    "} \n",
    "main(args);"
   ]
  },
  {
   "cell_type": "markdown",
   "metadata": {},
   "source": [
    "## **65. Check if reversing a sub array make the array sorted**\n",
    "https://www.geeksforgeeks.org/check-reversing-sub-array-make-array-sorted/"
   ]
  },
  {
   "cell_type": "code",
   "execution_count": 116,
   "metadata": {},
   "outputs": [],
   "source": [
    "/*\n",
    "Given an array of distinct n integers. \n",
    "The task is to check whether reversing one sub-array make the array sorted or not. \n",
    "If the array is already sorted or by reversing a subarray once make it sorted, \n",
    "    print “Yes”, \n",
    "else \n",
    "    print “No”.\n",
    "*/"
   ]
  },
  {
   "cell_type": "code",
   "execution_count": 117,
   "metadata": {},
   "outputs": [],
   "source": [
    "/*\n",
    "Examples:\n",
    "\n",
    "Input : arr [] = {1, 2, 5, 4, 3}\n",
    "Output : Yes\n",
    "By reversing the subarray {5, 4, 3}, \n",
    "the array will be sorted.\n",
    "\n",
    "Input : arr [] = { 1, 2, 4, 5, 3 }\n",
    "Output : No\n",
    "*/"
   ]
  },
  {
   "cell_type": "code",
   "execution_count": 118,
   "metadata": {},
   "outputs": [],
   "source": [
    "/*\n",
    "Method 1 (Simple : O(n2)\n",
    "A simple solution is to consider every subarray one by one. \n",
    "Try reversing every subarray and check if reversing the subarray makes the whole array sorted. \n",
    "If yes, \n",
    "    return true. \n",
    "If reversing any subarray doesn’t make the array sorted, \n",
    "    then return false.\n",
    "*/"
   ]
  },
  {
   "cell_type": "code",
   "execution_count": 119,
   "metadata": {},
   "outputs": [],
   "source": [
    "/*\n",
    "Method 2 (Sorting : O(nlogn)):\n",
    "The idea is to compare the given array with the sorted array. \n",
    "Make a copy of the given array and sort it. \n",
    "Now, find the first index and last index which do not match with sorted array. \n",
    "If no such indices are found, \n",
    "    print “Yes”. \n",
    "Else \n",
    "    check if the elements between the indices are in decreasing order.\n",
    "*/"
   ]
  },
  {
   "cell_type": "code",
   "execution_count": 120,
   "metadata": {},
   "outputs": [],
   "source": [
    "// Return true, if reversing the subarray will  \n",
    "// sort the array, else return false.  \n",
    "static boolean checkReverse(int arr[], int n) { \n",
    "    // Copying the array.  \n",
    "    int temp[] = new int[n]; \n",
    "    for (int i = 0; i < n; i++) { \n",
    "        temp[i] = arr[i]; \n",
    "    } \n",
    "\n",
    "    // Sort the copied array.  \n",
    "    Arrays.sort(temp); \n",
    "\n",
    "    // Finding the first mismatch.  \n",
    "    int front; \n",
    "    for (front = 0; front < n; front++) { \n",
    "        if (temp[front] != arr[front]) { \n",
    "            break; \n",
    "        } \n",
    "    } \n",
    "\n",
    "    // Finding the last mismatch.  \n",
    "    int back; \n",
    "    for (back = n - 1; back >= 0; back--) { \n",
    "        if (temp[back] != arr[back]) { \n",
    "            break; \n",
    "        } \n",
    "    } \n",
    "\n",
    "    // If whole array is sorted  \n",
    "    if (front >= back) { \n",
    "        return true; \n",
    "    } \n",
    "\n",
    "    // Checking subarray is decreasing or not.  \n",
    "    do { \n",
    "        front++; \n",
    "        if (arr[front - 1] < arr[front]) { \n",
    "            return false; \n",
    "        } \n",
    "    } while (front != back); \n",
    "\n",
    "    return true; \n",
    "} "
   ]
  },
  {
   "cell_type": "code",
   "execution_count": 121,
   "metadata": {},
   "outputs": [
    {
     "name": "stdout",
     "output_type": "stream",
     "text": [
      "Yes"
     ]
    }
   ],
   "source": [
    "// Driven Program  \n",
    "public static void main(String[] args) { \n",
    "\n",
    "    int arr[] = {1, 2, 5, 4, 3}; \n",
    "    int n = arr.length; \n",
    "\n",
    "    if (checkReverse(arr, n)) { \n",
    "        System.out.print(\"Yes\"); \n",
    "    } else { \n",
    "        System.out.print(\"No\"); \n",
    "    } \n",
    "} \n",
    "main(args);"
   ]
  },
  {
   "cell_type": "code",
   "execution_count": 122,
   "metadata": {},
   "outputs": [],
   "source": [
    "/*\n",
    "Method 3 (Linear : O(n)):\n",
    "Observe, answer will be “Yes” when the array is sorted or when the array consist of three parts. \n",
    "    1. First part is increasing subarray, then decreasing subarray and then again increasing subarray. \n",
    "        So, we need to check that array contain increasing elements then some decreasing elements and then increasing elements. \n",
    "    2. In all other case, answer will be “No”.\n",
    "*/"
   ]
  },
  {
   "cell_type": "code",
   "execution_count": 123,
   "metadata": {},
   "outputs": [],
   "source": [
    "// Return true, if reversing the subarray will sort t  \n",
    "// he array, else return false.  \n",
    "static boolean checkReverse(int arr[], int n) { \n",
    "    if (n == 1) { \n",
    "        return true; \n",
    "    } \n",
    "\n",
    "    // Find first increasing part  \n",
    "    int i; \n",
    "    for (i = 1; arr[i - 1] < arr[i] && i < n; i++); \n",
    "    if (i == n) { \n",
    "        return true; \n",
    "    } \n",
    "\n",
    "    // Find reversed part  \n",
    "    int j = i++; \n",
    "    while (arr[j] < arr[j - 1]) { \n",
    "        if (i > 1 && arr[j] < arr[i - 2]) { \n",
    "            return false; \n",
    "        } \n",
    "        j++; \n",
    "    } \n",
    "\n",
    "    if (j == n) { \n",
    "        return true; \n",
    "    } \n",
    "\n",
    "    // Find last increasing part  \n",
    "    int k = j; \n",
    "\n",
    "    // To handle cases like {1,2,3,4,20,9,16,17}  \n",
    "    if (arr[k] < arr[i - 1]) { \n",
    "        return false; \n",
    "    } \n",
    "\n",
    "    while (k > 1 && k < n) { \n",
    "        if (arr[k] < arr[k - 1]) { \n",
    "            return false; \n",
    "        } \n",
    "        k++; \n",
    "    } \n",
    "    return true; \n",
    "}"
   ]
  },
  {
   "cell_type": "code",
   "execution_count": 124,
   "metadata": {},
   "outputs": [
    {
     "name": "stdout",
     "output_type": "stream",
     "text": [
      "No"
     ]
    }
   ],
   "source": [
    "// Driven Program  \n",
    "public static void main(String[] args) { \n",
    "\n",
    "    int arr[] = {1, 3, 4, 10, 9, 8}; \n",
    "    int n = arr.length; \n",
    "\n",
    "    if (checkReverse(arr, n)) { \n",
    "        System.out.print(\"Yes\"); \n",
    "    } else { \n",
    "        System.out.print(\"No\"); \n",
    "    } \n",
    "} \n",
    "main(args);"
   ]
  },
  {
   "cell_type": "markdown",
   "metadata": {},
   "source": [
    "## **66. Print all subarrays with 0 sum**\n",
    "https://www.geeksforgeeks.org/print-all-subarrays-with-0-sum/"
   ]
  },
  {
   "cell_type": "code",
   "execution_count": 125,
   "metadata": {},
   "outputs": [],
   "source": [
    "/*\n",
    "Given an array, print all subarrays in the array which has sum 0.\n",
    "*/"
   ]
  },
  {
   "cell_type": "code",
   "execution_count": 126,
   "metadata": {},
   "outputs": [],
   "source": [
    "/*\n",
    "Examples:\n",
    "\n",
    "Input:  arr = [6, 3, -1, -3, 4, -2, 2, 4, 6, -12, -7]\n",
    "Output:  \n",
    "Subarray found from Index 2 to 4\n",
    "Subarray found from Index 2 to 6          \n",
    "Subarray found from Index 5 to 6\n",
    "Subarray found from Index 6 to 9\n",
    "Subarray found from Index 0 to 10\n",
    "*/"
   ]
  },
  {
   "cell_type": "code",
   "execution_count": 127,
   "metadata": {},
   "outputs": [],
   "source": [
    "/*\n",
    "A simple solution is to consider all subarrays one by one and check if sum of every subarray is equal to 0 or not. \n",
    "The complexity of this solution would be O(n^2).\n",
    "*/"
   ]
  },
  {
   "cell_type": "code",
   "execution_count": 128,
   "metadata": {},
   "outputs": [],
   "source": [
    "/*\n",
    "A better approach is to use Hashing.\n",
    "\n",
    "Do following for each element in the array\n",
    "\n",
    "    1. Maintain sum of elements encountered so far in a variable (say sum).\n",
    "    2. If current sum is 0, we found a subarray starting from index 0 and ending at index current index/\n",
    "    3. Check if current sum exists in the hash table or not.\n",
    "    4. If current sum already exists in the hash table \n",
    "       then it indicates that this sum was the sum of some sub-array elements arr[0]…arr[i] \n",
    "       and now the same sum is obtained for the current sub-array arr[0]…arr[j] \n",
    "       which means that the sum of the sub-array arr[i+1]…arr[j] must be 0.\n",
    "    5. Insert current sum into the hash table\n",
    "Below is a dry run of the above approach:\n",
    "*/"
   ]
  },
  {
   "cell_type": "markdown",
   "metadata": {},
   "source": [
    "<img src = \"https://media.geeksforgeeks.org/wp-content/cdn-uploads/20190703111645/ZeroSumSubarrays.png\"/>"
   ]
  },
  {
   "cell_type": "code",
   "execution_count": 129,
   "metadata": {},
   "outputs": [],
   "source": [
    "// User defined pair class \n",
    "class Pair  \n",
    "{ \n",
    "    int first, second; \n",
    "    Pair(int a, int b)  \n",
    "    { \n",
    "        first = a; \n",
    "        second = b; \n",
    "    } \n",
    "} "
   ]
  },
  {
   "cell_type": "code",
   "execution_count": 130,
   "metadata": {},
   "outputs": [],
   "source": [
    "// Function to print all subarrays in the array which  \n",
    "// has sum 0 \n",
    "static ArrayList<Pair> findSubArrays(int[] arr, int n) \n",
    "{ \n",
    "        // create an empty map  \n",
    "        HashMap<Integer,ArrayList<Integer>> map = new HashMap<>(); \n",
    "\n",
    "        // create an empty vector of pairs to store  \n",
    "        // subarray starting and ending index  \n",
    "        ArrayList<Pair> out = new ArrayList<>(); \n",
    "\n",
    "        // Maintains sum of elements so far \n",
    "        int sum = 0; \n",
    "\n",
    "        for (int i = 0; i < n; i++)  \n",
    "        { \n",
    "            // add current element to sum  \n",
    "            sum += arr[i]; \n",
    "\n",
    "            // if sum is 0, we found a subarray starting  \n",
    "            // from index 0 and ending at index i  \n",
    "            if (sum == 0) \n",
    "                out.add(new Pair(0, i)); \n",
    "            ArrayList<Integer> al = new ArrayList<>(); \n",
    "\n",
    "            // If sum already exists in the map there exists  \n",
    "            // at-least one subarray ending at index i with  \n",
    "            // 0 sum  \n",
    "            if (map.containsKey(sum)) \n",
    "            { \n",
    "                // map[sum] stores starting index of all subarrays \n",
    "                al = map.get(sum); \n",
    "                for (int it = 0; it < al.size(); it++) \n",
    "                { \n",
    "                        out.add(new Pair(al.get(it) + 1, i));  \n",
    "                } \n",
    "            } \n",
    "            al.add(i); \n",
    "            map.put(sum, al); \n",
    "        } \n",
    "        return out; \n",
    "}  "
   ]
  },
  {
   "cell_type": "code",
   "execution_count": 131,
   "metadata": {},
   "outputs": [],
   "source": [
    "// Utility function to print all subarrays with sum 0 \n",
    "static void print(ArrayList<Pair> out) \n",
    "{ \n",
    "        for (int i = 0; i < out.size(); i++) \n",
    "        { \n",
    "            Pair p = out.get(i); \n",
    "            System.out.println(\"Subarray found from Index \"\n",
    "                    + p.first + \" to \" + p.second);  \n",
    "        } \n",
    "} "
   ]
  },
  {
   "cell_type": "code",
   "execution_count": 132,
   "metadata": {},
   "outputs": [
    {
     "name": "stdout",
     "output_type": "stream",
     "text": [
      "Subarray found from Index 2 to 4\n",
      "Subarray found from Index 2 to 6\n",
      "Subarray found from Index 5 to 6\n",
      "Subarray found from Index 6 to 9\n",
      "Subarray found from Index 0 to 10\n"
     ]
    }
   ],
   "source": [
    "// Driver code \n",
    "public static void main(String args[]) \n",
    "{ \n",
    "        int[] arr = {6, 3, -1, -3, 4, -2, 2, 4, 6, -12, -7}; \n",
    "        int n = arr.length; \n",
    "\n",
    "        ArrayList<Pair> out = findSubArrays(arr, n); \n",
    "\n",
    "        // if we did not find any subarray with 0 sum,  \n",
    "        // then subarray does not exists  \n",
    "        if (out.size() == 0) \n",
    "            System.out.println(\"No subarray exists\"); \n",
    "        else\n",
    "            print(out); \n",
    "} \n",
    "main(args);"
   ]
  },
  {
   "cell_type": "markdown",
   "metadata": {},
   "source": [
    "## **67. Sort a nearly sorted (or K sorted) array**\n",
    "https://www.geeksforgeeks.org/nearly-sorted-algorithm/"
   ]
  },
  {
   "cell_type": "code",
   "execution_count": 133,
   "metadata": {},
   "outputs": [],
   "source": [
    "/*\n",
    "Given an array of n elements, \n",
    "where each element is at most k away from its target position, \n",
    "devise an algorithm that sorts in O(n log k) time. \n",
    "For example, \n",
    "    let us consider k is 2, an element at index 7 in the sorted array, \n",
    "    can be at indexes 5, 6, 7, 8, 9 in the given array.\n",
    "*/"
   ]
  },
  {
   "cell_type": "code",
   "execution_count": 134,
   "metadata": {},
   "outputs": [],
   "source": [
    "/*\n",
    "Examples:\n",
    "\n",
    "Input : arr[] = {6, 5, 3, 2, 8, 10, 9}\n",
    "            k = 3 \n",
    "Output : arr[] = {2, 3, 5, 6, 8, 9, 10}\n",
    "\n",
    "Input : arr[] = {10, 9, 8, 7, 4, 70, 60, 50}\n",
    "         k = 4\n",
    "Output : arr[] = {4, 7, 8, 9, 10, 50, 60, 70}\n",
    "*/"
   ]
  },
  {
   "cell_type": "code",
   "execution_count": 135,
   "metadata": {},
   "outputs": [],
   "source": [
    "/*\n",
    "We can use Insertion Sort to sort the elements efficiently.\n",
    "\n",
    "The inner loop will run at most k times. \n",
    "To move every element to its correct place, at most k elements need to be moved. \n",
    "So overall complexity will be O(nk)\n",
    "*/"
   ]
  },
  {
   "cell_type": "code",
   "execution_count": 136,
   "metadata": {},
   "outputs": [],
   "source": [
    "/* Function to sort an array using insertion sort*/\n",
    "static void insertionSort(int A[], int size){  \n",
    "    int i, key, j;  \n",
    "    for (i = 1; i < size; i++)  \n",
    "    {  \n",
    "        key = A[i];  \n",
    "        j = i-1;  \n",
    "  \n",
    "        /* Move elements of A[0..i-1], that are greater than key, to one  \n",
    "            position ahead of their current position.  \n",
    "            This loop will run at most k times */\n",
    "        while (j >= 0 && A[j] > key)  \n",
    "        {  \n",
    "            A[j+1] = A[j];  \n",
    "            j = j-1;  \n",
    "        }  \n",
    "        A[j+1] = key;  \n",
    "    }  \n",
    "}  "
   ]
  },
  {
   "cell_type": "code",
   "execution_count": 137,
   "metadata": {},
   "outputs": [],
   "source": [
    "/*\n",
    "We can sort such arrays more efficiently with the help of Heap data structure. \n",
    "Following is the detailed process that uses Heap.\n",
    "    1) Create a Min Heap of size k+1 with first k+1 elements. \n",
    "       This will take O(k) time (See this GFact)\n",
    "    2) One by one remove min element from heap, put it in result array, \n",
    "    and add a new element to heap from remaining elements.\n",
    "\n",
    "Removing an element and adding a new element to min heap will take Logk time. \n",
    "So overall complexity will be O(k) + O((n-k)*logK)\n",
    "*/"
   ]
  },
  {
   "cell_type": "code",
   "execution_count": 138,
   "metadata": {},
   "outputs": [],
   "source": [
    "private static void kSort(int[] arr, int n, int k)  \n",
    "{ \n",
    "\n",
    "    // min heap \n",
    "    PriorityQueue<Integer> priorityQueue = new PriorityQueue<>(); \n",
    "\n",
    "    // add first k + 1 items to the min heap \n",
    "    for(int i = 0; i < k + 1; i++) \n",
    "    { \n",
    "        priorityQueue.add(arr[i]); \n",
    "    } \n",
    "\n",
    "    int index = 0; \n",
    "    for(int i = k + 1; i < n; i++)  \n",
    "    { \n",
    "        arr[index++] = priorityQueue.peek(); \n",
    "        priorityQueue.poll(); \n",
    "        priorityQueue.add(arr[i]); \n",
    "    } \n",
    "\n",
    "    Iterator<Integer> itr = priorityQueue.iterator(); \n",
    "\n",
    "    while(itr.hasNext())  \n",
    "    { \n",
    "        arr[index++] = priorityQueue.peek(); \n",
    "        priorityQueue.poll(); \n",
    "    } \n",
    "\n",
    "} "
   ]
  },
  {
   "cell_type": "code",
   "execution_count": 139,
   "metadata": {},
   "outputs": [
    {
     "name": "stdout",
     "output_type": "stream",
     "text": [
      "Following is sorted array\n",
      "2 3 6 8 12 56 "
     ]
    }
   ],
   "source": [
    "// A utility function to print the array \n",
    "private static void printArray(int[] arr, int n)  \n",
    "{ \n",
    "    for(int i = 0; i < n; i++) \n",
    "        System.out.print(arr[i] + \" \"); \n",
    "} \n",
    "// Driver Code \n",
    "public static void main(String[] args)  \n",
    "{ \n",
    "    int k = 3; \n",
    "    int arr[] = { 2, 6, 3, 12, 56, 8 }; \n",
    "    int n = arr.length; \n",
    "    kSort(arr, n, k); \n",
    "    System.out.println(\"Following is sorted array\"); \n",
    "    printArray(arr, n); \n",
    "} \n",
    "main(args)"
   ]
  },
  {
   "cell_type": "code",
   "execution_count": 140,
   "metadata": {},
   "outputs": [],
   "source": [
    "/*\n",
    "The Min Heap based method takes O(nLogk) time and uses O(k) auxiliary space.\n",
    "\n",
    "We can also use a Balanced Binary Search Tree instead of Heap to store K+1 elements. \n",
    "The insert and delete operations on Balanced BST also take O(Logk) time. \n",
    "So Balanced BST based method will also take O(nLogk) time, \n",
    "but the Heap bassed method seems to be more efficient as the minimum element will always be at root. \n",
    "Also, Heap doesn’t need extra space for left and right pointers.\n",
    "*/"
   ]
  },
  {
   "cell_type": "markdown",
   "metadata": {},
   "source": [
    "## **68. A Product Array Puzzle**\n",
    "https://www.geeksforgeeks.org/a-product-array-puzzle/"
   ]
  },
  {
   "cell_type": "code",
   "execution_count": 141,
   "metadata": {},
   "outputs": [],
   "source": [
    "/*\n",
    "Given an array arr[] of n integers, \n",
    "construct a Product Array prod[] (of same size) such that prod[i] is equal to the product of all the elements of arr[] except arr[i]. \n",
    "Solve it without division operator and in O(n).\n",
    "*/"
   ]
  },
  {
   "cell_type": "code",
   "execution_count": 142,
   "metadata": {},
   "outputs": [],
   "source": [
    "/*\n",
    "Example :\n",
    "arr[] = {10, 3, 5, 6, 2}\n",
    "prod[] = {180, 600, 360, 300, 900}\n",
    "*/"
   ]
  },
  {
   "cell_type": "code",
   "execution_count": 143,
   "metadata": {},
   "outputs": [],
   "source": [
    "/*\n",
    "Time Complexity: O(n)\n",
    "Space Complexity: O(n)\n",
    "Auxiliary Space: O(n)\n",
    "\n",
    "Algorithm:\n",
    "    1) Construct a temporary array left[] such that left[i] contains product of all elements on left of arr[i] excluding arr[i].\n",
    "    2) Construct another temporary array right[] such that right[i] contains product of all elements on on right of arr[i] excluding arr[i].\n",
    "    3) To get prod[], multiply left[] and right[].\n",
    "*/"
   ]
  },
  {
   "cell_type": "code",
   "execution_count": 144,
   "metadata": {},
   "outputs": [
    {
     "name": "stdout",
     "output_type": "stream",
     "text": [
      "The product array is : \n",
      "180 600 360 300 900 "
     ]
    }
   ],
   "source": [
    "/* Function to print product array for a given array  \n",
    "arr[] of size n */\n",
    "void productArray(int arr[], int n) \n",
    "{ \n",
    "\n",
    "    // Base case \n",
    "    if (n == 1) { \n",
    "        System.out.print(0); \n",
    "        return; \n",
    "    } \n",
    "    // Initialize memory to all arrays \n",
    "    int left[] = new int[n]; \n",
    "    int right[] = new int[n]; \n",
    "    int prod[] = new int[n]; \n",
    "\n",
    "    int i, j; \n",
    "\n",
    "    /* Left most element of left array is always 1 */\n",
    "    left[0] = 1; \n",
    "\n",
    "    /* Rightmost most element of right array is always 1 */\n",
    "    right[n - 1] = 1; \n",
    "\n",
    "    /* Construct the left array */\n",
    "    for (i = 1; i < n; i++) \n",
    "        left[i] = arr[i - 1] * left[i - 1]; \n",
    "\n",
    "    /* Construct the right array */\n",
    "    for (j = n - 2; j >= 0; j--) \n",
    "        right[j] = arr[j + 1] * right[j + 1]; \n",
    "\n",
    "    /* Construct the product array using  \n",
    "    left[] and right[] */\n",
    "    for (i = 0; i < n; i++) \n",
    "        prod[i] = left[i] * right[i]; \n",
    "\n",
    "    /* print the constructed prod array */\n",
    "    for (i = 0; i < n; i++) \n",
    "        System.out.print(prod[i] + \" \"); \n",
    "\n",
    "    return; \n",
    "} \n",
    "\n",
    "/* Driver program to test the aboe function */\n",
    "public static void main(String[] args) \n",
    "{  \n",
    "    int arr[] = { 10, 3, 5, 6, 2 }; \n",
    "    int n = arr.length; \n",
    "    System.out.println(\"The product array is : \"); \n",
    "    productArray(arr, n); \n",
    "} \n",
    "main(args);"
   ]
  },
  {
   "cell_type": "code",
   "execution_count": 145,
   "metadata": {},
   "outputs": [],
   "source": [
    "/*\n",
    "The above method can be optimized to work in space complexity O(1).\n",
    "\n",
    "Time Complexity: O(n)\n",
    "Space Complexity: O(n)\n",
    "Auxiliary Space: O(1)\n",
    "*/"
   ]
  },
  {
   "cell_type": "code",
   "execution_count": 146,
   "metadata": {},
   "outputs": [
    {
     "name": "stdout",
     "output_type": "stream",
     "text": [
      "The product array is : \n",
      "180 600 360 300 900 "
     ]
    }
   ],
   "source": [
    "void productArray(int arr[], int n) \n",
    "{ \n",
    "\n",
    "    // Base case \n",
    "    if (n == 1) { \n",
    "        System.out.print(\"0\"); \n",
    "        return; \n",
    "    } \n",
    "\n",
    "    int i, temp = 1; \n",
    "\n",
    "    /* Allocate memory for the product array */\n",
    "    int prod[] = new int[n]; \n",
    "\n",
    "    /* Initialize the product array as 1 */\n",
    "    for (int j = 0; j < n; j++) \n",
    "        prod[j] = 1; \n",
    "\n",
    "    /* In this loop, temp variable contains product of \n",
    "       elements on left side excluding arr[i] */\n",
    "    for (i = 0; i < n; i++) { \n",
    "        prod[i] = temp; \n",
    "        temp *= arr[i]; \n",
    "    } \n",
    "\n",
    "    /* Initialize temp to 1 for product on right side */\n",
    "    temp = 1; \n",
    "\n",
    "    /* In this loop, temp variable contains product of \n",
    "       elements on right side excluding arr[i] */\n",
    "    for (i = n - 1; i >= 0; i--) { \n",
    "        prod[i] *= temp; \n",
    "        temp *= arr[i]; \n",
    "    } \n",
    "\n",
    "    /* print the constructed prod array */\n",
    "    for (i = 0; i < n; i++) \n",
    "        System.out.print(prod[i] + \" \"); \n",
    "\n",
    "    return; \n",
    "} \n",
    "\n",
    "/* Driver program to test above functions */\n",
    "public static void main(String[] args) \n",
    "{ \n",
    "    int arr[] = { 10, 3, 5, 6, 2 }; \n",
    "    int n = arr.length; \n",
    "    System.out.println(\"The product array is : \"); \n",
    "    productArray(arr, n); \n",
    "} \n",
    "main(args);"
   ]
  },
  {
   "cell_type": "markdown",
   "metadata": {},
   "source": [
    "## **69. Find number of pairs (x, y) in an array such that x^y > y^x**\n",
    "https://www.geeksforgeeks.org/find-number-pairs-xy-yx/"
   ]
  },
  {
   "cell_type": "code",
   "execution_count": 147,
   "metadata": {},
   "outputs": [],
   "source": [
    "/*\n",
    "Given two arrays X[] and Y[] of positive integers, \n",
    "find number of pairs such that x^y > y^x \n",
    "where x is an element from X[] and y is an element from Y[].\n",
    "*/"
   ]
  },
  {
   "cell_type": "code",
   "execution_count": 148,
   "metadata": {},
   "outputs": [],
   "source": [
    "/*\n",
    "Examples:\n",
    "\n",
    "Input: X[] = {2, 1, 6}, Y = {1, 5}\n",
    "Output: 3\n",
    "Explanation: There are total 3 pairs where pow(x, y) is greater\n",
    "than pow(y, x) Pairs are (2, 1), (2, 5) and (6, 1)\n",
    "\n",
    "Input: X[] = {10, 19, 18}, Y[] = {11, 15, 9}\n",
    "Output: 2\n",
    "Explanation: There are total 2 pairs where pow(x, y) is greater\n",
    "than pow(y, x) Pairs are (10, 11) and (10, 15)\n",
    "*/"
   ]
  },
  {
   "cell_type": "code",
   "execution_count": 149,
   "metadata": {},
   "outputs": [],
   "source": [
    "/*\n",
    "The brute force solution is to consider each element of X[] and Y[], \n",
    "and check whether the given condition satisfies or not.\n",
    "\n",
    "Following is C++ code based on brute force solution.\n",
    "\n",
    "int countPairsBruteForce(int X[], int Y[], int m, int n) \n",
    "{ \n",
    "    int ans = 0; \n",
    "    for (int i = 0; i < m; i++) \n",
    "       for (int j = 0; j < n; j++) \n",
    "          if (pow(X[i], Y[j]) > pow(Y[j], X[i])) \n",
    "              ans++; \n",
    "    return ans; \n",
    "} \n",
    "\n",
    "Time Complexity: O(M*N) where M and N are sizes of given arrays.\n",
    "*/"
   ]
  },
  {
   "cell_type": "code",
   "execution_count": 150,
   "metadata": {},
   "outputs": [],
   "source": [
    "/*\n",
    "Efficient Solution:\n",
    "The problem can be solved in O(nLogn + mLogn) time. \n",
    "The trick here is, \n",
    "    if y > x then x^y > y^x with some exceptions.\n",
    "\n",
    "Following are simple steps based on this trick.\n",
    "*/"
   ]
  },
  {
   "cell_type": "code",
   "execution_count": 151,
   "metadata": {},
   "outputs": [],
   "source": [
    "/*\n",
    "Sort array Y[].\n",
    "For every x in X[], find the index idx of smallest number greater than x (also called ceil of x) in Y[] using binary search \n",
    "or we can use the inbuilt function upper_bound() in algorithm library.\n",
    "\n",
    "All the numbers after idx satisfy the relation so just add (n-idx) to the count.\n",
    "*/"
   ]
  },
  {
   "cell_type": "code",
   "execution_count": 152,
   "metadata": {},
   "outputs": [],
   "source": [
    "/*\n",
    "Base Cases and Exceptions:\n",
    "Following are exceptions for x from X[] and y from Y[]\n",
    "\n",
    "1. If x = 0, then the count of pairs for this x is 0.\n",
    "2. If x = 1, then the count of pairs for this x is equal to count of 0s in Y[].\n",
    "3. x smaller than y means x^y is greater than y^x.\n",
    "    i.  x = 2, y = 3 or 4\n",
    "    ii. x = 3, y = 2\n",
    "\n",
    "Note that the case where x = 4 and y = 2 is not there\n",
    "\n",
    "Following diagram shows all exceptions in tabular form. \n",
    "The value 1 indicates that the corresponding (x, y) form a valid pair.\n",
    "*/"
   ]
  },
  {
   "cell_type": "markdown",
   "metadata": {},
   "source": [
    "<img src = \"https://media.geeksforgeeks.org/wp-content/uploads/tableNumberOfPairs.png\"/>"
   ]
  },
  {
   "cell_type": "code",
   "execution_count": 153,
   "metadata": {},
   "outputs": [],
   "source": [
    "/*\n",
    "In the following implementation, we pre-process the Y array and count 0, 1, 2, 3 and 4 in it, so that we can handle all exceptions in constant time. \n",
    "The array NoOfY[] is used to store the counts.\n",
    "\n",
    "Time Complexity : \n",
    "    O(nLogn + mLogn), where m and n are the sizes of arrays X[] and Y[] respectively. \n",
    "    The sort step takes O(nLogn) time. \n",
    "    Then every element of X[] is searched in Y[] using binary search. \n",
    "    This step takes O(mLogn) time.\n",
    "*/"
   ]
  },
  {
   "cell_type": "code",
   "execution_count": 154,
   "metadata": {},
   "outputs": [],
   "source": [
    "// Function to return count of pairs with x as one element \n",
    "// of the pair. It mainly looks for all values in Y[] where \n",
    "// x ^ Y[i] > Y[i] ^ x \n",
    "static int count(int x, int Y[], int n, int NoOfY[]) \n",
    "{ \n",
    "    // If x is 0, then there cannot be any value in Y such that \n",
    "    // x^Y[i] > Y[i]^x \n",
    "    if (x == 0) return 0; \n",
    "\n",
    "    // If x is 1, then the number of pais is equal to number of \n",
    "    // zeroes in Y[] \n",
    "    if (x == 1) return NoOfY[0]; \n",
    "\n",
    "    // Find number of elements in Y[] with values greater than x \n",
    "    // getting upperbound of x with binary search \n",
    "    int idx = Arrays.binarySearch(Y, x); \n",
    "    int ans; \n",
    "    if(idx < 0){ \n",
    "        idx = Math.abs(idx+1); \n",
    "        ans = Y.length - idx; \n",
    "    } \n",
    "    else{ \n",
    "        while (idx<n && Y[idx]==x) { \n",
    "            idx++; \n",
    "        } \n",
    "        ans = Y.length - idx; \n",
    "    } \n",
    "\n",
    "    // If we have reached here, then x must be greater than 1, \n",
    "    // increase number of pairs for y=0 and y=1 \n",
    "    ans += (NoOfY[0] + NoOfY[1]); \n",
    "\n",
    "    // Decrease number of pairs for x=2 and (y=4 or y=3) \n",
    "    if (x == 2)  ans -= (NoOfY[3] + NoOfY[4]); \n",
    "\n",
    "    // Increase number of pairs for x=3 and y=2 \n",
    "    if (x == 3)  ans += NoOfY[2]; \n",
    "\n",
    "    return ans; \n",
    "} "
   ]
  },
  {
   "cell_type": "code",
   "execution_count": 155,
   "metadata": {},
   "outputs": [],
   "source": [
    "// Function to returns count of pairs (x, y) such that \n",
    "// x belongs to X[], y belongs to Y[] and x^y > y^x \n",
    "static int countPairs(int X[], int Y[], int m, int n) \n",
    "{ \n",
    "    // To store counts of 0, 1, 2, 3 and 4 in array Y \n",
    "    int NoOfY[] = new int[5]; \n",
    "    for (int i = 0; i < n; i++) \n",
    "        if (Y[i] < 5) \n",
    "            NoOfY[Y[i]]++; \n",
    "\n",
    "    // Sort Y[] so that we can do binary search in it \n",
    "    Arrays.sort(Y); \n",
    "\n",
    "    int total_pairs = 0; // Initialize result \n",
    "\n",
    "    // Take every element of X and count pairs with it \n",
    "    for (int i=0; i<m; i++) \n",
    "        total_pairs += count(X[i], Y, n, NoOfY); \n",
    "\n",
    "    return total_pairs; \n",
    "} "
   ]
  },
  {
   "cell_type": "code",
   "execution_count": 156,
   "metadata": {},
   "outputs": [
    {
     "name": "stdout",
     "output_type": "stream",
     "text": [
      "Total pairs = 3\n"
     ]
    }
   ],
   "source": [
    "// Driver method \n",
    "public static void main(String args[]) \n",
    "{ \n",
    "    int X[] = {2, 1, 6}; \n",
    "    int Y[] = {1, 5}; \n",
    "\n",
    "    System.out.println(\"Total pairs = \" + countPairs(X, Y, X.length, Y.length)); \n",
    "}\n",
    "main(args);"
   ]
  },
  {
   "cell_type": "markdown",
   "metadata": {},
   "source": [
    "***https://youtu.be/chYKJGPNEvg***"
   ]
  },
  {
   "cell_type": "markdown",
   "metadata": {},
   "source": [
    "## **70. Find duplicates in O(n) time and O(1) extra space | Set 1**\n",
    "https://www.geeksforgeeks.org/find-duplicates-in-on-time-and-constant-extra-space/"
   ]
  },
  {
   "cell_type": "code",
   "execution_count": 157,
   "metadata": {},
   "outputs": [],
   "source": [
    "/*\n",
    "Given an array of n elements which contains elements from 0 to n-1, \n",
    "with any of these numbers appearing any number of times. \n",
    "Find these repeating numbers in O(n) and using only constant memory space.\n",
    "For example, \n",
    "    let n be 7 and array be {1, 2, 3, 1, 3, 6, 6}, \n",
    "    the answer should be 1, 3 and 6.\n",
    "*/"
   ]
  },
  {
   "cell_type": "markdown",
   "metadata": {},
   "source": [
    "***Find the two repeating elements in a given array\n",
    "https://www.geeksforgeeks.org/find-the-two-repeating-elements-in-a-given-array/***\n"
   ]
  },
  {
   "cell_type": "code",
   "execution_count": 158,
   "metadata": {},
   "outputs": [],
   "source": [
    "/*\n",
    "Method 5 (Use array elements as index)\n",
    "\n",
    "Traverse the array. Do following for every index i of A[].\n",
    "{\n",
    "check for sign of A[abs(A[i])] ;\n",
    "if positive then\n",
    "   make it negative by   A[abs(A[i])]=-A[abs(A[i])];\n",
    "else  // i.e., A[abs(A[i])] is negative\n",
    "   this   element (ith element of list) is a repetition\n",
    "}\n",
    "*/"
   ]
  },
  {
   "cell_type": "code",
   "execution_count": 159,
   "metadata": {},
   "outputs": [],
   "source": [
    "/*\n",
    "Method 1 and Method 2 of the above link are not applicable as the question says O(n) time complexity and O(1) constant space. \n",
    "Also, \n",
    "Method 3 and Method 4 cannot be applied here because there can be more than 2 repeating elements in this problem. \n",
    "Method 5 can be extended to work for this problem. Below is the solution that is similar to Method 5.\n",
    "*/"
   ]
  },
  {
   "cell_type": "code",
   "execution_count": 160,
   "metadata": {},
   "outputs": [],
   "source": [
    "/*\n",
    "Algorithm:\n",
    "\n",
    "traverse the list for i= 0 to n-1 elements\n",
    "{\n",
    "  check for sign of A[abs(A[i])] ;\n",
    "  if positive then\n",
    "     make it negative by   A[abs(A[i])]=-A[abs(A[i])];\n",
    "  else  // i.e., A[abs(A[i])] is negative\n",
    "     this   element (ith element of list) is a repetition\n",
    "}\n",
    "*/"
   ]
  },
  {
   "cell_type": "code",
   "execution_count": 161,
   "metadata": {},
   "outputs": [
    {
     "name": "stdout",
     "output_type": "stream",
     "text": [
      "The repeating elements are : \n",
      "1 3 6 "
     ]
    }
   ],
   "source": [
    "void printRepeating(int arr[], int size) \n",
    "{ \n",
    "    int i;   \n",
    "    System.out.println(\"The repeating elements are : \"); \n",
    "\n",
    "    for (i = 0; i < size; i++) \n",
    "    { \n",
    "        if (arr[ Math.abs(arr[i])] >= 0) \n",
    "            arr[ Math.abs(arr[i])] = -arr[ Math.abs(arr[i])]; \n",
    "        else\n",
    "            System.out.print(Math.abs(arr[i]) + \" \"); \n",
    "    }          \n",
    "}  \n",
    "\n",
    "// Driver program  \n",
    "public static void main(String[] args)  \n",
    "{ \n",
    "    int arr[] = {1, 2, 3, 1, 3, 6, 6}; \n",
    "    int arr_size = arr.length; \n",
    "\n",
    "    printRepeating(arr, arr_size); \n",
    "} \n",
    "main(args);"
   ]
  },
  {
   "cell_type": "code",
   "execution_count": 162,
   "metadata": {},
   "outputs": [],
   "source": [
    "/*\n",
    "Note: The above program doesn’t handle 0 case (If 0 is present in array). \n",
    "The program can be easily modified to handle that also. It is not handled to keep the code simple.\n",
    "\n",
    "Time Complexity: O(n)\n",
    "Auxiliary Space: O(1)\n",
    "*/"
   ]
  },
  {
   "cell_type": "code",
   "execution_count": 163,
   "metadata": {},
   "outputs": [
    {
     "name": "stdout",
     "output_type": "stream",
     "text": [
      "The repeating elements are : \n",
      "2 \n",
      "3 \n"
     ]
    }
   ],
   "source": [
    "public static void main(String args[]) { \n",
    "    int numRay[] = {0, 4, 3, 2, 7, 8, 2, 3, 1}; \n",
    "\n",
    "    for (int i = 0; i < numRay.length; i++) { \n",
    "        numRay[numRay[i] % 10] = numRay[numRay[i] % 10] + 10; \n",
    "    } \n",
    "    System.out.println(\"The repeating elements are : \"); \n",
    "    for (int i = 0; i < numRay.length; i++) { \n",
    "        if (numRay[i] > 19) { \n",
    "            System.out.println(i + \" \"); \n",
    "        } \n",
    "    } \n",
    "} \n",
    "main(args);"
   ]
  },
  {
   "cell_type": "markdown",
   "metadata": {},
   "source": [
    "## **71. Insert in sorted and non-overlapping interval array**\n",
    "https://www.geeksforgeeks.org/insert-in-sorted-and-non-overlapping-interval-array/"
   ]
  },
  {
   "cell_type": "code",
   "execution_count": 164,
   "metadata": {},
   "outputs": [],
   "source": [
    "/*\n",
    "Given a set of non-overlapping intervals and a new interval, \n",
    "insert the interval at correct position. \n",
    "If the insertion results in overlapping intervals, then merge the overlapping intervals. \n",
    "Assume that the set of non-overlapping intervals is sorted on the basis of start time, to find correct position of insertion.\n",
    "*/"
   ]
  },
  {
   "cell_type": "markdown",
   "metadata": {},
   "source": [
    "<span class=\"mark\">**Prerequisite** : ***Merge Overlapping Intervals https://www.geeksforgeeks.org/merging-intervals/***</span>"
   ]
  },
  {
   "cell_type": "code",
   "execution_count": 165,
   "metadata": {},
   "outputs": [],
   "source": [
    "/*\n",
    "Examples :\n",
    "\n",
    "Input : Set : [1, 3], [6, 9]\n",
    "        New Interval : [2, 5] \n",
    "Output : [1, 5], [6, 9]\n",
    "The correct position to insert new interval \n",
    "[2, 5] is between the two given intervals. \n",
    "The resulting set would have been \n",
    "[1, 3], [2, 5], [6, 9], but the intervals \n",
    "[1, 3], [2, 5] are overlapping. So, they are \n",
    "merged together in one interval [1, 5]. \n",
    "\n",
    "Input : Set : [1, 2], [3, 5], [6, 7], [8, 10], [12, 16]\n",
    "        New Interval : [4, 9]\n",
    "Output : [1, 2], [3, 10], [12, 16]\n",
    "First the interval is inserted between intervals \n",
    "[3, 5] and [6, 7]. Then overlapping intervals are \n",
    "merged together in one interval.\n",
    "*/"
   ]
  },
  {
   "cell_type": "code",
   "execution_count": 166,
   "metadata": {},
   "outputs": [],
   "source": [
    "/*\n",
    "Approach :\n",
    "Let the new interval to be inserted is : [a, b]\n",
    "\n",
    "Case 1 : b < (starting time of first interval in set)\n",
    "In this case simply insert new interval at the beginning of the set.\n",
    "\n",
    "Case 2 : (ending value of last interval in set) < a\n",
    "In this case simply insert new interval at the end of the set.\n",
    "\n",
    "Case 3 : a ≤ (starting value of first interval) and b ≥ (ending value of last interval)\n",
    "In this case the new interval overlaps with all the intervals, i.e., it contains all the intervals. So the final answer is the new interval itself.\n",
    "\n",
    "Case 4 : The new interval does not overlap with any interval in the set and falls between any two intervals in the set\n",
    "In this case simply insert the interval in the correct position in the set. A sample test case for this is :\n",
    "\n",
    "Input : Set : [1, 2], [6, 9]\n",
    "        New interval : [3, 5]\n",
    "Output : [1, 2], [3, 5], [6, 9]\n",
    "\n",
    "Case 5 : The new interval overlaps with the interval(s) of the set.\n",
    "In this case simply merge the new interval with overlapping intervals. \n",
    "\n",
    "To have a better understanding of how to merge overlapping intervals, refer this post : Prerequisite \n",
    "\n",
    "Example 2 of sample test cases above cover this case.\n",
    "\n",
    "Time Complexity : O(n)\n",
    "Auxiliary Space : O(n)\n",
    "*/"
   ]
  },
  {
   "cell_type": "markdown",
   "metadata": {},
   "source": [
    "***https://ideone.com/5EIvXM***"
   ]
  },
  {
   "cell_type": "markdown",
   "metadata": {},
   "source": [
    "***https://www.youtube.com/watch?v=I_ZC4HRG9tI***"
   ]
  },
  {
   "cell_type": "code",
   "execution_count": 167,
   "metadata": {},
   "outputs": [],
   "source": [
    "class Solution {\n",
    "    \n",
    "    private int[] merge(int[] current, int[] newInterval) {\n",
    "        if (newInterval == null) return null;\n",
    "        boolean conflict = (current[0] <= newInterval[0] && newInterval[0] <= current[1]);\n",
    "        conflict = conflict || (current[0] <= newInterval[1] && newInterval[1] <= current[1]);\n",
    "        conflict = conflict || (newInterval[0] <= current[0] && current[0] <= newInterval[1]);\n",
    "        \n",
    "        if (!conflict) {\n",
    "            return null;\n",
    "        }\n",
    "        \n",
    "        return new int[] { Math.min(current[0], newInterval[0]), Math.max(current[1], newInterval[1]) };\n",
    "    }\n",
    "\n",
    "    \n",
    "    public int[][] insert(int[][] intervals, int[] newInterval) {\n",
    "        int[][] final_intervals = new int[intervals.length+1][];\n",
    "        int i = 0;\n",
    "        for (int[] current : intervals) {\n",
    "            int[] merged = merge(current, newInterval);\n",
    "            if (merged == null) {\n",
    "                if (newInterval != null && newInterval[0] < current[0]) {\n",
    "                    final_intervals[i++] = newInterval;\n",
    "                    newInterval = null;\n",
    "                }\n",
    "                final_intervals[i++] = current;\n",
    "            }\n",
    "            else {\n",
    "                newInterval = merged;\n",
    "            }\n",
    "        }\n",
    "        \n",
    "        if (newInterval != null) {\n",
    "            final_intervals[i++] = newInterval;\n",
    "        }\n",
    "        \n",
    "        return Arrays.copyOf(final_intervals, i);\n",
    "    }\n",
    "}"
   ]
  },
  {
   "cell_type": "code",
   "execution_count": 168,
   "metadata": {},
   "outputs": [],
   "source": [
    "/*\n",
    "Above Solution has Complexity  \n",
    "Time Complexity : O(2n)\n",
    "Auxiliary Space : O(2n)\n",
    "\n",
    "Additional Links Are given below\n",
    "*/"
   ]
  },
  {
   "cell_type": "markdown",
   "metadata": {},
   "source": [
    "***https://leetcode.com/problems/insert-interval/***"
   ]
  },
  {
   "cell_type": "markdown",
   "metadata": {},
   "source": [
    "## **72. Sort an array according to count of set bits**\n",
    "https://www.geeksforgeeks.org/sort-array-according-count-set-bits/"
   ]
  },
  {
   "cell_type": "code",
   "execution_count": 169,
   "metadata": {},
   "outputs": [],
   "source": [
    "/*\n",
    "Given an array of positive integers, \n",
    "sort the array in decreasing order of count of set bits in binary representations of array elements.\n",
    "For integers having same number of set bits in their binary representation, \n",
    "sort according to their position in the original array i.e., a stable sort. \n",
    "For example, \n",
    "    if input array is {3, 5}, \n",
    "    then output array should also be {3, 5}. \n",
    "    \n",
    "    Note that both 3 and 5 have same number set bits.\n",
    "*/"
   ]
  },
  {
   "cell_type": "code",
   "execution_count": null,
   "metadata": {},
   "outputs": [],
   "source": []
  },
  {
   "cell_type": "code",
   "execution_count": 170,
   "metadata": {},
   "outputs": [],
   "source": [
    "/*\n",
    "Examples:\n",
    "\n",
    "Input: arr[] = {5, 2, 3, 9, 4, 6, 7, 15, 32};\n",
    "Output: 15 7 5 3 9 6 2 4 32\n",
    "Explanation:\n",
    "The integers in their binary representation are:\n",
    "15 -1111\n",
    "7  -0111\n",
    "5  -0101\n",
    "3  -0011\n",
    "9  -1001\n",
    "6  -0110\n",
    "2  -0010\n",
    "4- -0100\n",
    "32 -10000\n",
    "hence the non-increasing sorted order is:\n",
    "{15}, {7}, {5, 3, 9, 6}, {2, 4, 32}\n",
    "\n",
    "Input: arr[] = {1, 2, 3, 4, 5, 6};\n",
    "Output: 3 5 6 1 2 4\n",
    "Explanation:\n",
    "3  - 0011\n",
    "5  - 0101\n",
    "6  - 0110\n",
    "1  - 0001\n",
    "2  - 0010\n",
    "4  - 0100\n",
    "hence the non-increasing sorted order is\n",
    "{3, 5, 6}, {1, 2, 4}\n",
    "*/"
   ]
  },
  {
   "cell_type": "code",
   "execution_count": 171,
   "metadata": {},
   "outputs": [],
   "source": [
    "/*\n",
    "Method 1: Simple\n",
    "Create an auxiliary array and store the set-bit counts of all integers in the aux array\n",
    "Simultaneously sort both arrays according to the non-increasing order of auxiliary array. \n",
    "(Note that we need to use a stable sort algorithm)\n",
    "\n",
    "Auxiliary Space: O(n)\n",
    "Time complexity: O(n^2)\n",
    "*/"
   ]
  },
  {
   "cell_type": "code",
   "execution_count": 172,
   "metadata": {},
   "outputs": [],
   "source": [
    "/*\n",
    "Before sort:\n",
    "int arr[] = {1, 2, 3, 4, 5, 6};\n",
    "int aux[] = {1, 1, 2, 1, 2, 2}\n",
    "\n",
    "After sort:\n",
    "arr = {3, 5, 6, 1, 2, 4}\n",
    "aux = {2, 2, 2, 1, 1, 1}\n",
    "*/"
   ]
  },
  {
   "cell_type": "code",
   "execution_count": 173,
   "metadata": {},
   "outputs": [
    {
     "name": "stdout",
     "output_type": "stream",
     "text": [
      "3 5 6 1 2 4 "
     ]
    }
   ],
   "source": [
    "// a utility function that  \n",
    "// returns total set bits \n",
    "// count in an integer \n",
    "static int countBits(int a) \n",
    "{ \n",
    "    int count = 0; \n",
    "    while (a > 0) \n",
    "    { \n",
    "        if ((a & 1) > 0) \n",
    "            count+= 1; \n",
    "        a = a >> 1; \n",
    "    } \n",
    "    return count; \n",
    "} \n",
    "  \n",
    "// Function to simultaneously  \n",
    "// sort both arrays using  \n",
    "// insertion sort  \n",
    "// (http://quiz.geeksforgeeks.org/insertion-sort/ ) \n",
    "static void insertionSort(int arr[], \n",
    "                          int aux[], int n) \n",
    "{ \n",
    "    for (int i = 1; i < n; i++) \n",
    "    { \n",
    "        // use 2 keys because we  \n",
    "        // need to sort both \n",
    "        // arrays simultaneously \n",
    "        int key1 = aux[i]; \n",
    "        int key2 = arr[i]; \n",
    "        int j = i - 1; \n",
    "  \n",
    "        /* Move elements of arr[0..i-1]  \n",
    "        and aux[0..i-1], such that  \n",
    "        elements of aux[0..i-1] are \n",
    "        greater than key1, to one  \n",
    "        position ahead of their current \n",
    "        position */\n",
    "        while (j >= 0 && aux[j] < key1) \n",
    "        { \n",
    "            aux[j + 1] = aux[j]; \n",
    "            arr[j + 1] = arr[j]; \n",
    "            j = j - 1; \n",
    "        } \n",
    "        aux[j + 1] = key1; \n",
    "        arr[j + 1] = key2; \n",
    "    } \n",
    "} \n",
    "  \n",
    "// Function to sort according \n",
    "// to bit count using an  \n",
    "// auxiliary array \n",
    "static void sortBySetBitCount(int arr[], \n",
    "                              int n) \n",
    "{ \n",
    "    // Create an array and  \n",
    "    // store count of \n",
    "    // set bits in it. \n",
    "    int aux[] = new int[n]; \n",
    "    for (int i = 0; i < n; i++) \n",
    "        aux[i] = countBits(arr[i]); \n",
    "  \n",
    "    // Sort arr[] according  \n",
    "    // to values in aux[] \n",
    "    insertionSort(arr, aux, n); \n",
    "} \n",
    "  \n",
    "// Utility function \n",
    "// to print an array \n",
    "static void printArr(int arr[], int n) \n",
    "{ \n",
    "    for (int i = 0; i < n; i++) \n",
    "        System.out.print(arr[i] + \" \"); \n",
    "} \n",
    "  \n",
    "// Driver Code \n",
    "public static void main (String[] args)  \n",
    "{ \n",
    "    int arr[] = {1, 2, 3, 4, 5, 6}; \n",
    "    int n = arr.length; \n",
    "    sortBySetBitCount(arr, n); \n",
    "    printArr(arr, n); \n",
    "} \n",
    "\n",
    "main(args);"
   ]
  },
  {
   "cell_type": "code",
   "execution_count": 174,
   "metadata": {},
   "outputs": [],
   "source": [
    "/*\n",
    "Note: Time complexity can be improved to O(nLogn) by using a stable O(nlogn) sorting algorithm.\n",
    "\n",
    "Auxiliary Space : O(1)\n",
    "Time complexity : O(n log n)\n",
    "\n",
    "\n",
    "*/"
   ]
  },
  {
   "cell_type": "code",
   "execution_count": 175,
   "metadata": {},
   "outputs": [
    {
     "name": "stdout",
     "output_type": "stream",
     "text": [
      "3 5 6 1 2 4 \n"
     ]
    }
   ],
   "source": [
    "// Java program to sort an array according to \n",
    "// count of set bits using std::sort() \n",
    "import java.util.Arrays; \n",
    "import java.util.Comparator; \n",
    "\n",
    "public class Test { \n",
    "\n",
    "\tpublic static void main(String[] args) \n",
    "\t{ \n",
    "\t\t// TODO Auto-generated method stub \n",
    "\t\tInteger arr[] = { 1, 2, 3, 4, 5, 6 }; \n",
    "\t\tint n = 6; \n",
    "\t\tsortBySetBitCount(arr, n); \n",
    "\t\tprintArr(arr, n); \n",
    "\t\tSystem.out.println(); \n",
    "\t} \n",
    "\n",
    "\tprivate static void printArr(Integer[] arr, int n) \n",
    "\t{ \n",
    "\t\t// TODO Auto-generated method stub \n",
    "\t\tfor (int i = 0; i < n; i++) \n",
    "\t\t\tSystem.out.print(arr[i] + \" \"); \n",
    "\t\t// cout << arr[i] << \" \"; \n",
    "\t} \n",
    "\n",
    "\tprivate static Integer[] sortBySetBitCount(Integer[] arr, int n) \n",
    "\t{ \n",
    "\t\t// TODO Auto-generated method stub \n",
    "\t\tArrays.sort(arr, new Comparator<Integer>() \n",
    "\t\t{ \n",
    "\n",
    "\t\t\t@Override\n",
    "\t\t\tpublic int compare(Integer arg0, Integer arg1) \n",
    "\t\t\t{ \n",
    "\t\t\t\t// TODO Auto-generated method stub \n",
    "\t\t\t\tint c1 = Integer.bitCount(arg0); \n",
    "\t\t\t\tint c2 = Integer.bitCount(arg1); \n",
    "\t\t\t\tif (c1 <= c2) \n",
    "\t\t\t\t\treturn 1; \n",
    "\t\t\t\telse\n",
    "\t\t\t\t\treturn -1; \n",
    "\t\t\t} \n",
    "\n",
    "\t\t}); \n",
    "\t\treturn arr; \n",
    "\t} \n",
    "} \n",
    "\n",
    "Test.main(args);\n"
   ]
  },
  {
   "cell_type": "code",
   "execution_count": 176,
   "metadata": {},
   "outputs": [],
   "source": [
    "/*\n",
    "Method 3 : Counting Sort based (https://www.geeksforgeeks.org/counting-sort/)\n",
    "\n",
    "This problem can be solved in O(n) time. \n",
    "The idea is similar to counting sort.\n",
    "\n",
    "Note: There can be minimum 1 set-bit and only a maximum of 31set-bits in any integer.\n",
    "*/"
   ]
  },
  {
   "cell_type": "code",
   "execution_count": 177,
   "metadata": {},
   "outputs": [],
   "source": [
    "/*\n",
    "Steps (assuming that an integer takes 32 bits):\n",
    "\n",
    "- Create a vector “count” of size 32. \n",
    "   Each cell of count i.e., count[i] is another vector that stores all the elements whose set-bit-count is i\n",
    "- Traverse the array and do following for each element:\n",
    "        >Count the number set-bits of this element. Let it be ‘setbitcount’\n",
    "        >count[setbitcount].push_back(element)\n",
    "- Traverse ‘count’ in reverse fashion(as we need to sort in non-increasing order) and modify the array.\n",
    "*/"
   ]
  },
  {
   "cell_type": "markdown",
   "metadata": {},
   "source": [
    "<img src = \"https://media.geeksforgeeks.org/wp-content/uploads/count-1.png\"/>"
   ]
  },
  {
   "cell_type": "markdown",
   "metadata": {},
   "source": [
    "***https://ideone.com/XQQmzS***"
   ]
  },
  {
   "cell_type": "markdown",
   "metadata": {},
   "source": [
    "## **73. Minimum swaps to make two arrays identical**\n",
    "https://www.geeksforgeeks.org/minimum-swaps-to-make-two-array-identical/"
   ]
  },
  {
   "cell_type": "code",
   "execution_count": 178,
   "metadata": {},
   "outputs": [],
   "source": [
    "/*\n",
    "Given two arrays which have same values but in different order, \n",
    "we need to make second array same as first array using minimum number of swaps.\n",
    "*/"
   ]
  },
  {
   "cell_type": "code",
   "execution_count": 179,
   "metadata": {},
   "outputs": [],
   "source": [
    "/*\n",
    "Examples:\n",
    "\n",
    "Input  : arrA[] = {3, 6, 4, 8}, \n",
    "         arrB[] = {4, 6, 8, 3}\n",
    "Output : 2\n",
    "we can make arrB to same as arrA in 2 swaps \n",
    "which are shown below,\n",
    "swap 4 with 8,   arrB = {8, 6, 4, 3}\n",
    "swap 8 with 3,   arrB = {3, 6, 4, 8}\n",
    "*/"
   ]
  },
  {
   "cell_type": "code",
   "execution_count": 180,
   "metadata": {},
   "outputs": [],
   "source": [
    "/*\n",
    "This problem can be solved by modifying the array B. \n",
    "We save the index of array A elements in array B \n",
    "i.e. if ith element of array A is at jth position in array B, \n",
    "then we will make arrB[i] = j\n",
    "For above given example, \n",
    "    modified array B will be, arrB = {3, 1, 0, 2}. \n",
    "    This modified array represents distribution of array A element in array B \n",
    "    and our goal is to sort this modified array in minimum number of swaps because after sorting only array B element will be aligned with array A elements.\n",
    "*/"
   ]
  },
  {
   "cell_type": "markdown",
   "metadata": {},
   "source": [
    "***Minimum number of swaps required to sort an array\n",
    "https://www.geeksforgeeks.org/minimum-number-swaps-required-sort-array/***"
   ]
  },
  {
   "cell_type": "code",
   "execution_count": 181,
   "metadata": {},
   "outputs": [],
   "source": [
    "/*\n",
    "Now count of minimum swaps for sorting an array can be found by visualizing the problem as a graph, \n",
    "this problem is already explained in above link.\n",
    "So we count these swaps in modified array and that will be our final answer.\n",
    "*/"
   ]
  },
  {
   "cell_type": "markdown",
   "metadata": {},
   "source": [
    "***https://ideone.com/o8bUwq***"
   ]
  },
  {
   "cell_type": "markdown",
   "metadata": {},
   "source": [
    "## **74. Find the largest multiple of 3 from array of digits | Set 2 (In O(n) time and O(1) space)**\n",
    "https://www.geeksforgeeks.org/find-largest-multiple-3-array-digits-set-2-time-o1-space/"
   ]
  },
  {
   "cell_type": "code",
   "execution_count": 182,
   "metadata": {},
   "outputs": [],
   "source": [
    "/*\n",
    "Given an array of digits (contain elements from 0 to 9). \n",
    "Find the largest number that can be made from some or all digits of array and is divisible by 3. \n",
    "The same element may appear multiple times in the array, but each element in the array may only be used once.\n",
    "*/"
   ]
  },
  {
   "cell_type": "code",
   "execution_count": 183,
   "metadata": {},
   "outputs": [],
   "source": [
    "/*\n",
    "Examples:\n",
    "\n",
    "Input : arr[] = {5, 4, 3, 1, 1} \n",
    "Output : 4311\n",
    "\n",
    "Input : Arr[] = {5, 5, 5, 7} \n",
    "Output : 555 \n",
    "*/"
   ]
  },
  {
   "cell_type": "markdown",
   "metadata": {},
   "source": [
    "***Find the largest multiple of 3 | Set 1 (Using Queue)\n",
    "https://www.geeksforgeeks.org/find-the-largest-number-multiple-of-3/***"
   ]
  },
  {
   "cell_type": "code",
   "execution_count": 184,
   "metadata": {},
   "outputs": [],
   "source": [
    "/*\n",
    "For example, \n",
    "let us consider 555, it is divisible by 3 because sum of digits is 5 + 5 + 5 = 15, which is divisible by 3. \n",
    "If a sum of digits is not divisible by 3 then the remainder should be either 1 or 2.\n",
    "If we get remainder either ‘1’ or ‘2’, we have to remove maximum two digits to make a number that is divisible by 3:\n",
    "\n",
    "If remainder is ‘1’ : \n",
    "    We have to remove single digit that have remainder ‘1’ or we have to remove two digit that have remainder ‘2’ \n",
    "    ( 2 + 2 => 4 % 3 => ‘1’).\n",
    "If remainder is ‘2’ : \n",
    "    We have to remove single digit that have remainder ‘2’ or we have to remove two digit that have remainder ‘1’ \n",
    "    ( 1 + 1 => 2 % 3 => 2 ).\n",
    "    \n",
    "Time Complexity : O(n)\n",
    "*/"
   ]
  },
  {
   "cell_type": "markdown",
   "metadata": {},
   "source": [
    "**Related Link:**\n",
    "\n",
    "***Check if a large number is divisible by 3 or not\n",
    "https://www.geeksforgeeks.org/check-large-number-divisible-3-not/***"
   ]
  },
  {
   "cell_type": "code",
   "execution_count": 185,
   "metadata": {},
   "outputs": [],
   "source": [
    "/*\n",
    "Examples :\n",
    "\n",
    "Input : arr[] = 5, 5, 5, 7 \n",
    "Sum of digits = 5 + 5 + 7 = 22\n",
    "Remainder = 22 % 3 = 1 \n",
    "\n",
    "We remove smallest single digit that \n",
    "has remainder '1'. \n",
    "We remove 7 % 3 = 1 \n",
    "So largest number divisible by 3 is : 555\n",
    "\n",
    "Let's take an another example :\n",
    "Input : arr[]  = 4 , 4 , 1 , 1 , 1 , 3\n",
    "Sum of digits  = 4 + 4 + 1 + 1 + 1 + 3 = 14\n",
    "Reminder = 14 % 3 = 2 \n",
    "\n",
    "We have to remove the smallest digit that \n",
    "has remainder ' 2 ' or two digits that have\n",
    "remainder '1'.\n",
    "Here there is no digit with reminder '2', \n",
    "so we have to remove two smallest digits that have remainder '1'. \n",
    "The digits are : 1, 1. \n",
    "So largest number divisible by 3 is 4 4 3 1 \n",
    "*/"
   ]
  },
  {
   "cell_type": "code",
   "execution_count": 186,
   "metadata": {},
   "outputs": [
    {
     "name": "stdout",
     "output_type": "stream",
     "text": [
      "4431"
     ]
    }
   ],
   "source": [
    "// Number of digits \n",
    "static int MAX_SIZE = 10; \n",
    "\n",
    "// function to sort array of digits using \n",
    "// counts \n",
    "static void sortArrayUsingCounts(int arr[],  \n",
    "                                 int n) \n",
    "{ \n",
    "    // Store count of all elements \n",
    "    int[] count = new int[MAX_SIZE]; \n",
    "    for (int i = 0; i < n; i++)  \n",
    "    { \n",
    "        count[arr[i]]++; \n",
    "    } \n",
    "\n",
    "    // Store \n",
    "    int index = 0; \n",
    "    for (int i = 0; i < MAX_SIZE; i++)  \n",
    "    { \n",
    "        while (count[i] > 0)  \n",
    "        { \n",
    "            arr[index++] = i; \n",
    "            count[i]--; \n",
    "        } \n",
    "    } \n",
    "} \n",
    "\n",
    "// Remove elements from arr[] \n",
    "// at indexes ind1 and ind2 \n",
    "static void removeAndPrintResult(int arr[], int n,  \n",
    "                                 int ind1, int ind2) \n",
    "{ \n",
    "    for (int i = n - 1; i >= 0; i--) \n",
    "    { \n",
    "        if (i != ind1 && i != ind2)  \n",
    "        { \n",
    "            System.out.print(arr[i]); \n",
    "        } \n",
    "    } \n",
    "} \n",
    "\n",
    "// Returns largest multiple of 3  \n",
    "// that can be formed using \n",
    "// arr[] elements. \n",
    "static boolean largest3Multiple(int arr[],  \n",
    "                                int n) \n",
    "{ \n",
    "    // Sum of all array element \n",
    "    int sum = accumulate(arr, 0, n); \n",
    "\n",
    "    // If sum is divisible by 3,  \n",
    "    // no need to delete an element \n",
    "    if (sum % 3 == 0)  \n",
    "    { \n",
    "        return true; \n",
    "    } \n",
    "\n",
    "    // Sort array element in increasing order \n",
    "    sortArrayUsingCounts(arr, n); \n",
    "\n",
    "    // Find reminder \n",
    "    int remainder = sum % 3; \n",
    "\n",
    "    // If remainder is '1', we have to  \n",
    "    // delete either one element of  \n",
    "    // remainder '1' or two elements of  \n",
    "    // remainder '2' \n",
    "    if (remainder == 1) \n",
    "    { \n",
    "        int[] rem_2 = new int[2]; \n",
    "        rem_2[0] = -1; \n",
    "        rem_2[1] = -1; \n",
    "\n",
    "        // Traverse array elements \n",
    "        for (int i = 0; i < n; i++)  \n",
    "        { \n",
    "\n",
    "            // Store first element of remainder '1' \n",
    "            if (arr[i] % 3 == 1) \n",
    "            { \n",
    "                removeAndPrintResult(arr, n, i, -1); \n",
    "                return true; \n",
    "            } \n",
    "\n",
    "            if (arr[i] % 3 == 2) \n",
    "            { \n",
    "\n",
    "                // If this is first occurrence \n",
    "                // of remainder 2 \n",
    "                if (rem_2[0] == -1) \n",
    "                { \n",
    "                    rem_2[0] = i; \n",
    "                } \n",
    "\n",
    "                // If second occurrence \n",
    "                else if (rem_2[1] == -1)  \n",
    "                { \n",
    "                    rem_2[1] = i; \n",
    "                } \n",
    "            } \n",
    "        } \n",
    "\n",
    "        if (rem_2[0] != -1 &&  \n",
    "            rem_2[1] != -1)  \n",
    "        { \n",
    "            removeAndPrintResult(arr, n, rem_2[0],  \n",
    "                                         rem_2[1]); \n",
    "            return true; \n",
    "        } \n",
    "    }  \n",
    "\n",
    "    // If remainder is '2', we have to  \n",
    "    // delete either one element of  \n",
    "    // remainder '2' or two elements of \n",
    "    // remainder '1' \n",
    "    else if (remainder == 2)  \n",
    "    { \n",
    "        int[] rem_1 = new int[2]; \n",
    "        rem_1[0] = -1; \n",
    "        rem_1[1] = -1; \n",
    "\n",
    "        // traverse array elements \n",
    "        for (int i = 0; i < n; i++)  \n",
    "        { \n",
    "\n",
    "            // store first element of remainder '2' \n",
    "            if (arr[i] % 3 == 2)  \n",
    "            { \n",
    "                removeAndPrintResult(arr, n, i, -1); \n",
    "                return true; \n",
    "            } \n",
    "\n",
    "            if (arr[i] % 3 == 1)  \n",
    "            { \n",
    "\n",
    "                // If this is first occurrence \n",
    "                // of remainder 1 \n",
    "                if (rem_1[0] == -1)  \n",
    "                { \n",
    "                    rem_1[0] = i; \n",
    "                }  \n",
    "\n",
    "                // If second occurrence \n",
    "                else if (rem_1[1] == -1)  \n",
    "                { \n",
    "                    rem_1[1] = i; \n",
    "                } \n",
    "            } \n",
    "        } \n",
    "\n",
    "        if (rem_1[0] != -1 &&  \n",
    "            rem_1[1] != -1) \n",
    "        { \n",
    "            removeAndPrintResult(arr, n, rem_1[0],  \n",
    "                                         rem_1[1]); \n",
    "            return true; \n",
    "        } \n",
    "    } \n",
    "    System.out.print(\"Not possible\"); \n",
    "    return false; \n",
    "} \n",
    "\n",
    "static int accumulate(int[] arr, \n",
    "                      int start,  \n",
    "                      int end)  \n",
    "{ \n",
    "    int sum = 0; \n",
    "    for (int i = 0; i < arr.length; i++)  \n",
    "    { \n",
    "        sum += arr[i]; \n",
    "    } \n",
    "    return sum; \n",
    "} \n",
    "\n",
    "// Driver code \n",
    "public static void main(String[] args) \n",
    "{ \n",
    "    int arr[] = {4, 4, 1, 1, 1, 3}; \n",
    "    int n = arr.length; \n",
    "    largest3Multiple(arr, n); \n",
    "}\n",
    "\n",
    "main(args);"
   ]
  },
  {
   "cell_type": "markdown",
   "metadata": {},
   "source": [
    "## **75. Permute two arrays such that sum of every pair is greater or equal to K**\n",
    "https://www.geeksforgeeks.org/permute-two-arrays-sum-every-pair-greater-equal-k/"
   ]
  },
  {
   "cell_type": "code",
   "execution_count": 187,
   "metadata": {},
   "outputs": [],
   "source": [
    "/*\n",
    "Given two arrays of equal size n and an integer k. \n",
    "The task is to permute both arrays such that sum of their corresponding element is greater than or equal to k i.e a[i] + b[i] >= k.\n",
    "The task is print “Yes” if any such permutation exists, otherwise print “No”.\n",
    "\n",
    "Time Complexity: O(n log n).\n",
    "*/"
   ]
  },
  {
   "cell_type": "code",
   "execution_count": 188,
   "metadata": {},
   "outputs": [],
   "source": [
    "/*\n",
    "Examples :\n",
    "\n",
    "Input : a[] = {2, 1, 3}, \n",
    "        b[] = { 7, 8, 9 }, \n",
    "        k = 10. \n",
    "Output : Yes\n",
    "Permutation  a[] = { 1, 2, 3 } and b[] = { 9, 8, 7 } \n",
    "satisfied the condition a[i] + b[i] >= K.\n",
    "\n",
    "Input : a[] = {1, 2, 2, 1}, \n",
    "        b[] = { 3, 3, 3, 4 }, \n",
    "        k = 5. \n",
    "Output : No\n",
    "*/"
   ]
  },
  {
   "cell_type": "markdown",
   "metadata": {},
   "source": [
    "<img src = \"data:image/png;base64,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\"/>"
   ]
  },
  {
   "cell_type": "code",
   "execution_count": 189,
   "metadata": {},
   "outputs": [
    {
     "name": "stdout",
     "output_type": "stream",
     "text": [
      "Yes"
     ]
    }
   ],
   "source": [
    "// Check whether any permutation  \n",
    "// exists which satisfy the condition. \n",
    "static boolean isPossible(Integer a[], int b[], \n",
    "                                  int n, int k)  \n",
    "{ \n",
    "    // Sort the array a[] in decreasing order. \n",
    "    Arrays.sort(a, Collections.reverseOrder()); \n",
    "  \n",
    "    // Sort the array b[] in increasing order. \n",
    "    Arrays.sort(b); \n",
    "  \n",
    "    // Checking condition on each index. \n",
    "    for (int i = 0; i < n; i++) \n",
    "    if (a[i] + b[i] < k) \n",
    "        return false; \n",
    "  \n",
    "    return true; \n",
    "} \n",
    "  \n",
    "// Driver code \n",
    "public static void main(String[] args) { \n",
    "    Integer a[] = {2, 1, 3}; \n",
    "    int b[] = {7, 8, 9}; \n",
    "    int k = 10; \n",
    "    int n = a.length; \n",
    "  \n",
    "    if (isPossible(a, b, n, k)) \n",
    "    System.out.print(\"Yes\"); \n",
    "    else\n",
    "    System.out.print(\"No\"); \n",
    "} \n",
    "\n",
    "main(args);"
   ]
  },
  {
   "cell_type": "markdown",
   "metadata": {},
   "source": [
    "## **76. Find pair with greatest product in array**\n",
    "https://www.geeksforgeeks.org/find-pair-with-greatest-product-in-array/"
   ]
  },
  {
   "cell_type": "code",
   "execution_count": 190,
   "metadata": {},
   "outputs": [],
   "source": [
    "/*\n",
    "Given an array of n elements, \n",
    "the task is to find the greatest number such that it is product of two elements of given array. \n",
    "If no such element exists, print -1. Elements are within the range of 1 to 10^5.\n",
    "*/"
   ]
  },
  {
   "cell_type": "code",
   "execution_count": 191,
   "metadata": {},
   "outputs": [],
   "source": [
    "/*\n",
    "Examples :\n",
    "\n",
    "Input :  arr[] = {10, 3, 5, 30, 35}\n",
    "Output:  30\n",
    "Explanation: 30 is the product of 10 and 3.\n",
    "\n",
    "Input :  arr[] = {2, 5, 7, 8}\n",
    "Output:  -1\n",
    "Explanation: Since, no such element exists.\n",
    "\n",
    "Input :  arr[] = {10, 2, 4, 30, 35}\n",
    "Output:  -1\n",
    "\n",
    "Input :  arr[] = {10, 2, 2, 4, 30, 35}\n",
    "Output:  4\n",
    "\n",
    "Input  : arr[] = {17, 2, 1, 35, 30}\n",
    "Output : 35\n",
    "*/"
   ]
  },
  {
   "cell_type": "code",
   "execution_count": 192,
   "metadata": {},
   "outputs": [],
   "source": [
    "/*\n",
    "A naive approach is to pick an element and then check for each pair product \n",
    "if equal to that number and update the max \n",
    "if the number is maximum,repeat until whole array gets traversed takes O(n^3) time.\n",
    "*/"
   ]
  },
  {
   "cell_type": "code",
   "execution_count": 193,
   "metadata": {},
   "outputs": [
    {
     "name": "stdout",
     "output_type": "stream",
     "text": [
      "30\n"
     ]
    }
   ],
   "source": [
    "static int findGreatest( int []arr , int n) \n",
    "{ \n",
    "int result = -1; \n",
    "for (int i = 0; i < n ; i++) \n",
    "    for (int j = 0; j < n-1; j++) \n",
    "        for (int k = j+1 ; k < n ; k++) \n",
    "            if (arr[j] * arr[k] == arr[i]) \n",
    "                result = Math.max(result, arr[i]); \n",
    "return result; \n",
    "} \n",
    "\n",
    "// Driver code \n",
    "static public void main (String[] args) \n",
    "{ \n",
    "    int []arr = {30, 10, 9, 3, 35}; \n",
    "    int n = arr.length; \n",
    "\n",
    "    System.out.println(findGreatest(arr, n)); \n",
    "} \n",
    "main(args)"
   ]
  },
  {
   "cell_type": "code",
   "execution_count": 194,
   "metadata": {},
   "outputs": [],
   "source": [
    "/*\n",
    "Time Complexity : O(nlogn)\n",
    "\n",
    "An efficient method follows below implementation:-\n",
    "\n",
    "1. Create an empty hash table and store all array elements in it.\n",
    "2. Sort the array in ascending order.\n",
    "3. Pick elements one by one from end of the array.\n",
    "4. And check if there exists a pair whose product is equal to that number. \n",
    "   In this efficiency can be achieved. \n",
    "   The idea is to reach till sqrt of that number. \n",
    "   If we don’t get the pair till sqrt that means no such pair exists. \n",
    "   We use hash table to make sure that we can find other element of pair in O(1) time.\n",
    "5. Repeat steps 2 to 3 until we get the element or whole array gets traversed.\n",
    "*/"
   ]
  },
  {
   "cell_type": "code",
   "execution_count": 195,
   "metadata": {},
   "outputs": [],
   "source": [
    "// Function to find greatest number \n",
    "static int findGreatest(int arr[], int n)  \n",
    "{ \n",
    "    // Store occurrences of all  \n",
    "    // elements in hash array \n",
    "    Map<Integer, Integer> m = new HashMap<>(); \n",
    "    for (int i = 0; i < n; i++)  \n",
    "    { \n",
    "        if (m.containsKey(arr[i]))  \n",
    "        { \n",
    "            m.put(arr[i], m.get(arr[i]) + 1); \n",
    "        }  \n",
    "        else \n",
    "        { \n",
    "            m.put(arr[i], m.get(arr[i])); \n",
    "        } \n",
    "    } \n",
    "\n",
    "    // m[arr[i]]++; \n",
    "    // Sort the array and traverse  \n",
    "    // all elements from end. \n",
    "    Arrays.sort(arr); \n",
    "\n",
    "    for (int i = n - 1; i > 1; i--)  \n",
    "    { \n",
    "        // For every element, check if there is another \n",
    "        // element which divides it. \n",
    "        for (int j = 0; j < i &&  \n",
    "            arr[j] <= Math.sqrt(arr[i]); j++)  \n",
    "        { \n",
    "            if (arr[i] % arr[j] == 0)  \n",
    "            { \n",
    "                int result = arr[i] / arr[j]; \n",
    "\n",
    "                // Check if the result value exists in array \n",
    "                // or not if yes the return arr[i] \n",
    "                if (result != arr[j] &&  \n",
    "                    m.get(result) == null|| m.get(result) > 0) \n",
    "                { \n",
    "                    return arr[i]; \n",
    "                }  \n",
    "\n",
    "                // To handle the case like arr[i] = 4 \n",
    "                // and arr[j] = 2 \n",
    "                else if (result == arr[j] && m.get(result) > 1)  \n",
    "                { \n",
    "                    return arr[i]; \n",
    "                } \n",
    "            } \n",
    "        } \n",
    "    } \n",
    "    return -1; \n",
    "} "
   ]
  },
  {
   "cell_type": "code",
   "execution_count": 196,
   "metadata": {},
   "outputs": [
    {
     "name": "stdout",
     "output_type": "stream",
     "text": [
      "30\n"
     ]
    }
   ],
   "source": [
    "// Driver code \n",
    "public static void main(String[] args)  \n",
    "{ \n",
    "    int arr[] = {17, 2, 1, 15, 30}; \n",
    "    int n = arr.length; \n",
    "    System.out.println(findGreatest(arr, n)); \n",
    "} \n",
    "main(args);"
   ]
  },
  {
   "cell_type": "markdown",
   "metadata": {},
   "source": [
    "## **77. Minimum number of swaps required to sort an array**\n",
    "https://www.geeksforgeeks.org/minimum-number-swaps-required-sort-array/"
   ]
  },
  {
   "cell_type": "code",
   "execution_count": 197,
   "metadata": {},
   "outputs": [],
   "source": [
    "/*\n",
    "Given an array of n distinct elements, \n",
    "find the minimum number of swaps required to sort the array.\n",
    "\n",
    "Time Complexity: O(n Log n)\n",
    "Auxiliary Space: O(n)\n",
    "*/"
   ]
  },
  {
   "cell_type": "code",
   "execution_count": 198,
   "metadata": {},
   "outputs": [],
   "source": [
    "/*\n",
    "Examples:\n",
    "\n",
    "Input : {4, 3, 2, 1}\n",
    "Output : 2\n",
    "Explanation : Swap index 0 with 3 and 1 with 2 to \n",
    "              form the sorted array {1, 2, 3, 4}.\n",
    "\n",
    "Input : {1, 5, 4, 3, 2}\n",
    "Output : 2\n",
    "*/"
   ]
  },
  {
   "cell_type": "code",
   "execution_count": 199,
   "metadata": {},
   "outputs": [],
   "source": [
    "/*\n",
    "This can be easily done by visualizing the problem as a graph. \n",
    "We will have n nodes and an edge directed from node i to node j \n",
    "    if the element at i’th index must be present at j’th index in the sorted array.\n",
    "    \n",
    "Graph for {4, 3, 2, 1}\n",
    "*/"
   ]
  },
  {
   "cell_type": "markdown",
   "metadata": {},
   "source": [
    "<img src = \"https://media.geeksforgeeks.org/wp-content/cdn-uploads/a-1.png\"/>"
   ]
  },
  {
   "cell_type": "code",
   "execution_count": 200,
   "metadata": {},
   "outputs": [],
   "source": [
    "/*\n",
    "The graph will now contain many non-intersecting cycles. \n",
    "Now a cycle with 2 nodes will only require 1 swap to reach the correct ordering, \n",
    "similarly a cycle with 3 nodes will only require 2 swap to do so.\n",
    "\n",
    "Graph for {4, 5, 2, 1, 5}\n",
    "*/"
   ]
  },
  {
   "cell_type": "markdown",
   "metadata": {},
   "source": [
    "<img src = \"https://media.geeksforgeeks.org/wp-content/cdn-uploads/b-1.png\"/>"
   ]
  },
  {
   "cell_type": "code",
   "execution_count": 201,
   "metadata": {},
   "outputs": [],
   "source": [
    "/*\n",
    "Hence,\n",
    "\n",
    "ans = Σi = 1^k(cycle_size – 1)\n",
    "where k is the number of cycles\n",
    "*/"
   ]
  },
  {
   "cell_type": "code",
   "execution_count": 202,
   "metadata": {},
   "outputs": [
    {
     "ename": "CompilationException",
     "evalue": "",
     "output_type": "error",
     "traceback": [
      "\u001b[1m\u001b[30m|   \u001b[1m\u001b[30mimport \u001b[0m\u001b[1m\u001b[30m\u001b[41mjavafx.util.Pair\u001b[0m\u001b[1m\u001b[30m;\u001b[0m",
      "\u001b[1m\u001b[31mpackage javafx.util does not exist\u001b[0m",
      ""
     ]
    }
   ],
   "source": [
    "import javafx.util.Pair;\n",
    "\n",
    "// Function returns the minimum number of swaps \n",
    "// required to sort the array \n",
    "public int minSwaps(int[] arr) \n",
    "{ \n",
    "    int n = arr.length; \n",
    "\n",
    "    // Create two arrays and use as pairs where first \n",
    "    // array is element and second array \n",
    "    // is position of first element \n",
    "    ArrayList <Pair <Integer, Integer> > arrpos = \n",
    "              new ArrayList <Pair <Integer, Integer> > (); \n",
    "    for (int i = 0; i < n; i++) \n",
    "         arrpos.add(new Pair <Integer, Integer> (arr[i], i)); \n",
    "\n",
    "    // Sort the array by array element values to \n",
    "    // get right position of every element as the \n",
    "    // elements of second array. \n",
    "    arrpos.sort(new Comparator<Pair<Integer, Integer>>() \n",
    "    { \n",
    "        @Override\n",
    "        public int compare(Pair<Integer, Integer> o1, \n",
    "                           Pair<Integer, Integer> o2) \n",
    "        { \n",
    "            if (o1.getKey() > o2.getKey()) \n",
    "                return -1; \n",
    "\n",
    "            // We can change this to make it then look at the \n",
    "            // words alphabetical order \n",
    "            else if (o1.getKey().equals(o2.getKey())) \n",
    "                return 0; \n",
    "\n",
    "            else\n",
    "                return 1; \n",
    "        } \n",
    "    }); \n",
    "\n",
    "    // To keep track of visited elements. Initialize \n",
    "    // all elements as not visited or false. \n",
    "    Boolean[] vis = new Boolean[n]; \n",
    "    Arrays.fill(vis, false); \n",
    "\n",
    "    // Initialize result \n",
    "    int ans = 0; \n",
    "\n",
    "    // Traverse array elements \n",
    "    for (int i = 0; i < n; i++) \n",
    "    { \n",
    "        // already swapped and corrected or \n",
    "        // already present at correct pos \n",
    "        if (vis[i] || arrpos.get(i).getValue() == i) \n",
    "            continue; \n",
    "\n",
    "        // find out the number of  node in \n",
    "        // this cycle and add in ans \n",
    "        int cycle_size = 0; \n",
    "        int j = i; \n",
    "        while (!vis[j]) \n",
    "        { \n",
    "            vis[j] = true; \n",
    "\n",
    "            // move to next node \n",
    "            j = arrpos.get(j).getValue(); \n",
    "            cycle_size++; \n",
    "        } \n",
    "\n",
    "        // Update answer by adding current cycle. \n",
    "        if(cycle_size > 0) \n",
    "        { \n",
    "            ans += (cycle_size - 1); \n",
    "        } \n",
    "    } \n",
    "\n",
    "    // Return result \n",
    "    return ans; \n",
    "} "
   ]
  },
  {
   "cell_type": "code",
   "execution_count": 203,
   "metadata": {},
   "outputs": [],
   "source": [
    "// Driver program to test the above function \n",
    "public static void main(String[] args) \n",
    "{ \n",
    "    int []a = {1, 5, 4, 3, 2}; \n",
    "    System.out.println(minSwaps(a)); \n",
    "}\n"
   ]
  },
  {
   "cell_type": "markdown",
   "metadata": {},
   "source": [
    "**Additional Link**\n",
    "***https://stackoverflow.com/questions/15152322/compute-the-minimal-number-of-swaps-to-order-a-sequence/15152602#15152602***"
   ]
  },
  {
   "cell_type": "code",
   "execution_count": null,
   "metadata": {},
   "outputs": [],
   "source": []
  }
 ],
 "metadata": {
  "kernelspec": {
   "display_name": "Java",
   "language": "java",
   "name": "java"
  },
  "language_info": {
   "codemirror_mode": "java",
   "file_extension": ".jshell",
   "mimetype": "text/x-java-source",
   "name": "Java",
   "pygments_lexer": "java",
   "version": "11.0.6+8-LTS"
  },
  "toc": {
   "base_numbering": 1,
   "nav_menu": {},
   "number_sections": true,
   "sideBar": true,
   "skip_h1_title": true,
   "title_cell": "Table of Contents",
   "title_sidebar": "Contents",
   "toc_cell": false,
   "toc_position": {
    "height": "calc(100% - 180px)",
    "left": "10px",
    "top": "150px",
    "width": "303.542px"
   },
   "toc_section_display": true,
   "toc_window_display": true
  }
 },
 "nbformat": 4,
 "nbformat_minor": 2
}
