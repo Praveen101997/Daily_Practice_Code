{
 "cells": [
  {
   "cell_type": "markdown",
   "metadata": {},
   "source": [
    "# ---------------ORDER STATISTICS & HEAP & HASH----------------\n",
    "**==============================================================================**\n",
    "# Assembled By - Praveen Kumar Sharma\n",
    "# Source - GeeksForGeeks\n",
    "**==============================================================================**"
   ]
  },
  {
   "cell_type": "code",
   "execution_count": 1,
   "metadata": {},
   "outputs": [],
   "source": [
    "import java.util.*;\n",
    "import java.io.*;\n",
    "String[] args =new String[0];"
   ]
  },
  {
   "cell_type": "markdown",
   "metadata": {},
   "source": [
    "## **390. k largest(or smallest) elements in an array | added Min Heap method**\n",
    "https://www.geeksforgeeks.org/k-largestor-smallest-elements-in-an-array/"
   ]
  },
  {
   "cell_type": "code",
   "execution_count": 2,
   "metadata": {},
   "outputs": [],
   "source": [
    "/*\n",
    "Question: \n",
    "Write an efficient program for printing k largest elements in an array. \n",
    "Elements in array can be in any order.\n",
    "*/"
   ]
  },
  {
   "cell_type": "code",
   "execution_count": 3,
   "metadata": {},
   "outputs": [],
   "source": [
    "/*\n",
    "For example, \n",
    "if given array is [1, 23, 12, 9, 30, 2, 50] and \n",
    "you are asked for the largest 3 elements i.e., k = 3 then your program should print 50, 30 and 23.\n",
    "*/"
   ]
  },
  {
   "cell_type": "code",
   "execution_count": 4,
   "metadata": {},
   "outputs": [],
   "source": [
    "public String findKLargest(int[] nums, int k) {\n",
    "\n",
    "    //we will remove n-k smaller elements and at the end kth largest will be there.\n",
    "    PriorityQueue<Integer> min_heap=new PriorityQueue<Integer>(Comparator.reverseOrder());\n",
    "    int[] out = new int[k];\n",
    "    int count = 0;\n",
    "    for(int i=0;i<nums.length;i++)\n",
    "    {\n",
    "        min_heap.add(nums[i]); //add element;\n",
    "    }\n",
    "    while(k-->0){\n",
    "        out[count++] = min_heap.poll(); //remove the smallest element;\n",
    "    }\n",
    "    \n",
    "    return Arrays.toString(out);\n",
    "\n",
    "}"
   ]
  },
  {
   "cell_type": "code",
   "execution_count": 5,
   "metadata": {},
   "outputs": [
    {
     "name": "stdout",
     "output_type": "stream",
     "text": [
      "[50, 30, 23]\n"
     ]
    }
   ],
   "source": [
    "public static void main(String[] args){\n",
    "    int[] arr = {1, 23, 12, 9, 30, 2, 50};\n",
    "    int k = 3;\n",
    "    System.out.println(findKLargest(arr,k));\n",
    "}\n",
    "main(args);"
   ]
  },
  {
   "cell_type": "code",
   "execution_count": 6,
   "metadata": {},
   "outputs": [],
   "source": [
    "/*\n",
    "For Other Methods View Quesion Link\n",
    "*/"
   ]
  },
  {
   "cell_type": "markdown",
   "metadata": {},
   "source": [
    "## **391. Next Greater Element**\n",
    "https://www.geeksforgeeks.org/next-greater-element/"
   ]
  },
  {
   "cell_type": "code",
   "execution_count": 7,
   "metadata": {},
   "outputs": [],
   "source": [
    "/*\n",
    "Given an array, \n",
    "print the Next Greater Element (NGE) for every element.\n",
    "The Next greater Element for an element x is the first greater element on the right side of x in array.\n",
    "Elements for which no greater element exist, consider next greater element as -1.\n",
    "*/"
   ]
  },
  {
   "cell_type": "code",
   "execution_count": 8,
   "metadata": {},
   "outputs": [],
   "source": [
    "/*\n",
    "Examples:\n",
    "\n",
    "1. For any array, rightmost element always has next greater element as -1.\n",
    "2. For an array which is sorted in decreasing order, all elements have next greater element as -1.\n",
    "3. For the input array [4, 5, 2, 25}, the next greater elements for each element are as follows.\n",
    "\n",
    "Element       NGE\n",
    "   4      -->   5\n",
    "   5      -->   25\n",
    "   2      -->   25\n",
    "   25     -->   -1\n",
    "   \n",
    "4. For the input array [13, 7, 6, 12}, the next greater elements for each element are as follows.\n",
    "\n",
    "  Element        NGE\n",
    "   13      -->    -1\n",
    "   7       -->     12\n",
    "   6       -->     12\n",
    "   12      -->     -1\n",
    "*/"
   ]
  },
  {
   "cell_type": "code",
   "execution_count": 9,
   "metadata": {},
   "outputs": [],
   "source": [
    "/*\n",
    "Method 1 (Simple)\n",
    "Time Complexity: O(n^2). The worst case occurs when all elements are sorted in decreasing order.\n",
    "\n",
    "Use two loops: \n",
    "    The outer loop picks all the elements one by one. \n",
    "    The inner loop looks for the first greater element for the element picked by the outer loop. \n",
    "    If a greater element is found \n",
    "        then that element is printed as next, \n",
    "    otherwise \n",
    "        -1 is printed.\n",
    "*/"
   ]
  },
  {
   "cell_type": "code",
   "execution_count": 10,
   "metadata": {},
   "outputs": [],
   "source": [
    "/*\n",
    "Method 2 (Using Stack)\n",
    "Time Complexity: O(n).\n",
    "\n",
    "-- Push the first element to stack.\n",
    "-- Pick rest of the elements one by one and follow the following steps in loop.\n",
    "    1. Mark the current element as next.\n",
    "    2. If stack is not empty, compare top element of stack with next.\n",
    "    3. If next is greater than the top element,\n",
    "            Pop element from stack. \n",
    "        next is the next greater element for the popped element.\n",
    "    4. Keep popping from the stack while the popped element is smaller than next. \n",
    "        next becomes the next greater element for all such popped elements\n",
    "-- Finally, push the next in the stack.\n",
    "-- After the loop in step 2 is over, pop all the elements from stack and print -1 as next element for them.\n",
    "*/"
   ]
  },
  {
   "cell_type": "markdown",
   "metadata": {},
   "source": [
    "<img src = \"https://media.geeksforgeeks.org/wp-content/cdn-uploads/20190626132057/NextGreaterElement-949x1024.png\"/>"
   ]
  },
  {
   "cell_type": "code",
   "execution_count": 11,
   "metadata": {},
   "outputs": [],
   "source": [
    "static class stack  \n",
    "{ \n",
    "    int top; \n",
    "    int items[] = new int[100]; \n",
    "\n",
    "    // Stack functions to be used by printNGE \n",
    "    void push(int x)  \n",
    "    { \n",
    "        if (top == 99)  \n",
    "        { \n",
    "            System.out.println(\"Stack full\"); \n",
    "        }  \n",
    "        else \n",
    "        { \n",
    "            items[++top] = x; \n",
    "        } \n",
    "    } \n",
    "\n",
    "    int pop()  \n",
    "    { \n",
    "        if (top == -1)  \n",
    "        { \n",
    "            System.out.println(\"Underflow error\"); \n",
    "            return -1; \n",
    "        }  \n",
    "        else \n",
    "        { \n",
    "            int element = items[top]; \n",
    "            top--; \n",
    "            return element; \n",
    "        } \n",
    "    } \n",
    "\n",
    "    boolean isEmpty()  \n",
    "    { \n",
    "        return (top == -1) ? true : false; \n",
    "    } \n",
    "} "
   ]
  },
  {
   "cell_type": "code",
   "execution_count": 12,
   "metadata": {},
   "outputs": [],
   "source": [
    "/* prints element and NGE pair for  \n",
    "   all elements of arr[] of size n */\n",
    "static void printNGE(int arr[], int n)  \n",
    "{ \n",
    "    int i = 0; \n",
    "    stack s = new stack(); \n",
    "    s.top = -1; \n",
    "    int element, next; \n",
    "\n",
    "    /* push the first element to stack */\n",
    "    s.push(arr[0]); \n",
    "\n",
    "    // iterate for rest of the elements \n",
    "    for (i = 1; i < n; i++)  \n",
    "    { \n",
    "        next = arr[i]; \n",
    "\n",
    "        if (s.isEmpty() == false)  \n",
    "        { \n",
    "\n",
    "            // if stack is not empty, then  \n",
    "            // pop an element from stack \n",
    "            element = s.pop(); \n",
    "\n",
    "            /* If the popped element is smaller than  \n",
    "               next, then a) print the pair b) keep  \n",
    "               popping while elements are smaller and  \n",
    "               stack is not empty */\n",
    "            while (element < next)  \n",
    "            { \n",
    "                System.out.println(element + \" --> \" + next); \n",
    "                if (s.isEmpty() == true) \n",
    "                    break; \n",
    "                element = s.pop(); \n",
    "            } \n",
    "\n",
    "            /* If element is greater than next, then  \n",
    "               push the element back */\n",
    "            if (element > next) \n",
    "                s.push(element); \n",
    "        } \n",
    "\n",
    "        /* push next to stack so that we can find next \n",
    "           greater for it */\n",
    "        s.push(next); \n",
    "    } \n",
    "\n",
    "    /* After iterating over the loop, the remaining  \n",
    "       elements in stack do not have the next greater  \n",
    "       element, so print -1 for them */\n",
    "    while (s.isEmpty() == false)  \n",
    "    { \n",
    "        element = s.pop(); \n",
    "        next = -1; \n",
    "        System.out.println(element + \" -- \" + next); \n",
    "    } \n",
    "} "
   ]
  },
  {
   "cell_type": "code",
   "execution_count": 13,
   "metadata": {},
   "outputs": [
    {
     "name": "stdout",
     "output_type": "stream",
     "text": [
      "11 --> 13\n",
      "13 --> 21\n",
      "3 -- -1\n",
      "21 -- -1\n"
     ]
    }
   ],
   "source": [
    "public static void main(String[] args)  \n",
    "{ \n",
    "    int arr[] = { 11, 13, 21, 3 }; \n",
    "    int n = arr.length; \n",
    "    printNGE(arr, n); \n",
    "} \n",
    "main(args);"
   ]
  },
  {
   "cell_type": "code",
   "execution_count": 14,
   "metadata": {},
   "outputs": [],
   "source": [
    "/*\n",
    "The worst case occurs when all elements are sorted in decreasing order.\n",
    "If elements are sorted in decreasing order,\n",
    "    then every element is processed at most 4 times.\n",
    "\n",
    "1. Initially pushed to the stack.\n",
    "2. Popped from the stack when next element is being processed.\n",
    "3. Pushed back to the stack because the next element is smaller.\n",
    "4. Popped from the stack in step 3 of algorithm.\n",
    "*/"
   ]
  },
  {
   "cell_type": "markdown",
   "metadata": {},
   "source": [
    "**Related Link :**   ***https://www.geeksforgeeks.org/next-greater-element-in-same-order-as-input/***"
   ]
  },
  {
   "cell_type": "markdown",
   "metadata": {},
   "source": [
    "***https://youtu.be/sgelJuvX1bU***"
   ]
  },
  {
   "cell_type": "markdown",
   "metadata": {},
   "source": [
    "## **392. K’th Smallest/Largest Element in Unsorted Array | Set 1**\n",
    "https://www.geeksforgeeks.org/kth-smallestlargest-element-unsorted-array/"
   ]
  },
  {
   "cell_type": "code",
   "execution_count": 15,
   "metadata": {},
   "outputs": [],
   "source": [
    "/*\n",
    "Given an array and a number k where k is smaller than size of array, \n",
    "we need to find the k’th smallest element in the given array. \n",
    "It is given that ll array elements are distinct.\n",
    "*/"
   ]
  },
  {
   "cell_type": "code",
   "execution_count": 16,
   "metadata": {},
   "outputs": [],
   "source": [
    "/*\n",
    "Examples:\n",
    "\n",
    "Input: arr[] = {7, 10, 4, 3, 20, 15}\n",
    "k = 3\n",
    "Output: 7\n",
    "\n",
    "Input: arr[] = {7, 10, 4, 3, 20, 15}\n",
    "k = 4\n",
    "Output: 10\n",
    "*/"
   ]
  },
  {
   "cell_type": "code",
   "execution_count": 17,
   "metadata": {},
   "outputs": [],
   "source": [
    "/*\n",
    "Method 1 (Simple Solution)\n",
    "A simple solution is to sort the given array using a O(N log N) sorting algorithm like Merge Sort, Heap Sort, etc \n",
    "and return the element at index k-1 in the sorted array.\n",
    "\n",
    "Time Complexity of this solution is O(N Log N)\n",
    "*/"
   ]
  },
  {
   "cell_type": "code",
   "execution_count": 18,
   "metadata": {},
   "outputs": [
    {
     "name": "stdout",
     "output_type": "stream",
     "text": [
      "K'th smallest element is 5"
     ]
    }
   ],
   "source": [
    "// Function to return k'th smallest  \n",
    "// element in a given array \n",
    "public static int kthSmallest(Integer [] arr,  \n",
    "                                     int k)  \n",
    "{ \n",
    "    // Sort the given array \n",
    "    Arrays.sort(arr); \n",
    "\n",
    "    // Return k'th element in  \n",
    "    // the sorted array \n",
    "    return arr[k-1]; \n",
    "}  \n",
    "\n",
    "// driver program \n",
    "public static void main(String[] args)  \n",
    "{ \n",
    "    Integer arr[] = new Integer[]{12, 3, 5, 7, 19}; \n",
    "    int k = 2; \n",
    "    System.out.print( \"K'th smallest element is \"+ \n",
    "                        kthSmallest(arr, k) );      \n",
    "} \n",
    "main(args);"
   ]
  },
  {
   "cell_type": "code",
   "execution_count": 19,
   "metadata": {},
   "outputs": [],
   "source": [
    "/*\n",
    "Method 4 (QuickSelect)\n",
    "\n",
    "This is an optimization over method 1 if QuickSort is used as a sorting algorithm in first step.\n",
    "In QuickSort, \n",
    "    we pick a pivot element, \n",
    "    then move the pivot element to its correct position \n",
    "    and partition the array around it. \n",
    "\n",
    "The idea is, not to do complete quicksort,\n",
    "but stop at the point where pivot itself is k’th smallest element.\n",
    "Also, not to recur for both left and right sides of pivot, \n",
    "    but recur for one of them according to the position of pivot. \n",
    "    \n",
    "The worst case time complexity of this method is O(n^2), \n",
    "but it works in O(n) on average.\n",
    "*/"
   ]
  },
  {
   "cell_type": "code",
   "execution_count": 20,
   "metadata": {},
   "outputs": [],
   "source": [
    "// Standard partition process of QuickSort.  \n",
    "// It considers the last element as pivot  \n",
    "// and moves all smaller element to left of \n",
    "// it and greater elements to right \n",
    "public static int partition(Integer [] arr, int l,  \n",
    "                                           int r) \n",
    "{ \n",
    "    int x = arr[r], i = l; \n",
    "    for (int j = l; j <= r - 1; j++) \n",
    "    { \n",
    "        if (arr[j] <= x) \n",
    "        { \n",
    "            //Swapping arr[i] and arr[j] \n",
    "            int temp = arr[i]; \n",
    "            arr[i] = arr[j]; \n",
    "            arr[j] = temp; \n",
    "\n",
    "            i++; \n",
    "        } \n",
    "    } \n",
    "\n",
    "    //Swapping arr[i] and arr[r] \n",
    "    int temp = arr[i]; \n",
    "    arr[i] = arr[r]; \n",
    "    arr[r] = temp; \n",
    "\n",
    "    return i; \n",
    "} "
   ]
  },
  {
   "cell_type": "code",
   "execution_count": 21,
   "metadata": {},
   "outputs": [],
   "source": [
    "// This function returns k'th smallest element  \n",
    "// in arr[l..r] using QuickSort based method.  \n",
    "// ASSUMPTION: ALL ELEMENTS IN ARR[] ARE DISTINCT \n",
    "public static int kthSmallest(Integer[] arr, int l,  \n",
    "                                     int r, int k) \n",
    "{ \n",
    "    // If k is smaller than number of elements \n",
    "    // in array \n",
    "    if (k > 0 && k <= r - l + 1) \n",
    "    { \n",
    "        // Partition the array around last  \n",
    "        // element and get position of pivot  \n",
    "        // element in sorted array \n",
    "        int pos = partition(arr, l, r); \n",
    "\n",
    "        // If position is same as k \n",
    "        if (pos-l == k-1) \n",
    "            return arr[pos]; \n",
    "\n",
    "        // If position is more, recur for \n",
    "        // left subarray \n",
    "        if (pos-l > k-1)  \n",
    "            return kthSmallest(arr, l, pos-1, k); \n",
    "\n",
    "        // Else recur for right subarray \n",
    "        return kthSmallest(arr, pos+1, r, k-pos+l-1); \n",
    "    } \n",
    "\n",
    "    // If k is more than number of elements \n",
    "    // in array \n",
    "    return Integer.MAX_VALUE; \n",
    "}"
   ]
  },
  {
   "cell_type": "code",
   "execution_count": 22,
   "metadata": {},
   "outputs": [
    {
     "name": "stdout",
     "output_type": "stream",
     "text": [
      "K'th smallest element is 5"
     ]
    }
   ],
   "source": [
    "// Driver program to test above methods  \n",
    "public static void main(String[] args) \n",
    "{ \n",
    "    Integer arr[] = new Integer[]{12, 3, 5, 7, 4, 19, 26}; \n",
    "    int k = 3; \n",
    "    System.out.print( \"K'th smallest element is \" + \n",
    "                 kthSmallest(arr, 0, arr.length - 1, k) ); \n",
    "} \n",
    "main(args);"
   ]
  },
  {
   "cell_type": "markdown",
   "metadata": {},
   "source": [
    "## **393. Sliding Window Maximum (Maximum of all subarrays of size k)**\n",
    "https://www.geeksforgeeks.org/sliding-window-maximum-maximum-of-all-subarrays-of-size-k/"
   ]
  },
  {
   "cell_type": "code",
   "execution_count": 23,
   "metadata": {},
   "outputs": [],
   "source": [
    "/*\n",
    "Given an array and an integer K, find the maximum for each and every contiguous subarray of size k.\n",
    "*/"
   ]
  },
  {
   "cell_type": "code",
   "execution_count": 24,
   "metadata": {},
   "outputs": [],
   "source": [
    "/*\n",
    "Examples :\n",
    "\n",
    "Input: arr[] = {1, 2, 3, 1, 4, 5, 2, 3, 6}, K = 3\n",
    "Output: 3 3 4 5 5 5 6\n",
    "\n",
    "Input: arr[] = {8, 5, 10, 7, 9, 4, 15, 12, 90, 13}, K = 4\n",
    "Output: 10 10 10 15 15 90 90\n",
    "*/"
   ]
  },
  {
   "cell_type": "code",
   "execution_count": 25,
   "metadata": {},
   "outputs": [],
   "source": [
    "/*\n",
    "Method 1 (Simple)\n",
    "\n",
    "Time Complexity : \n",
    "    The outer loop runs n-k+1 times and the inner loop runs k times for every iteration of outer loop. \n",
    "    So time complexity is O((n-k+1)*k) which can also be written as O(N * K).\n",
    "\n",
    "Run two loops. \n",
    "\n",
    "In the outer loop, take all subarrays of size K. \n",
    "In the inner loop, get the maximum of the current subarray.\n",
    "*/"
   ]
  },
  {
   "cell_type": "code",
   "execution_count": 26,
   "metadata": {},
   "outputs": [
    {
     "name": "stdout",
     "output_type": "stream",
     "text": [
      "3 4 5 6 7 8 9 10 "
     ]
    }
   ],
   "source": [
    "// Method to find the maximum for each and every contiguous subarray of size k. \n",
    "static void printKMax(int arr[], int n, int k) \n",
    "{ \n",
    "    int j, max; \n",
    "\n",
    "    for (int i = 0; i <= n - k; i++) { \n",
    "\n",
    "        max = arr[i]; \n",
    "\n",
    "        for (j = 1; j < k; j++) { \n",
    "            if (arr[i + j] > max) \n",
    "                max = arr[i + j]; \n",
    "        } \n",
    "        System.out.print(max + \" \"); \n",
    "    } \n",
    "} \n",
    "\n",
    "// Driver method \n",
    "public static void main(String args[]) \n",
    "{ \n",
    "    int arr[] = { 1, 2, 3, 4, 5, 6, 7, 8, 9, 10 }; \n",
    "    int k = 3; \n",
    "    printKMax(arr, arr.length, k); \n",
    "} \n",
    "main(args);"
   ]
  },
  {
   "cell_type": "code",
   "execution_count": 27,
   "metadata": {},
   "outputs": [],
   "source": [
    "/*\n",
    "Method 3 (A O(n) method: use Deque) \n",
    "\n",
    "Time Complexity: O(n). \n",
    "    It seems more than O(n) at first look. \n",
    "    If we take a closer look, we can observe that every element of array is added and removed at most once. \n",
    "    So there are total 2n operations.\n",
    "Auxiliary Space: O(k)\n",
    "\n",
    "We create a Deque, Qi of capacity k, that stores only useful elements of current window of k elements. \n",
    "An element is useful \n",
    "    if it is in current window \n",
    "    and is greater than all other elements on left side of it in current window. \n",
    "\n",
    "We process all array elements one by one and maintain Qi to contain useful elements of current window \n",
    "and these useful elements are maintained in sorted order. \n",
    "The element at front of the Qi is the largest\n",
    "and element at rear of Qi is the smallest of current window. \n",
    "*/"
   ]
  },
  {
   "cell_type": "markdown",
   "metadata": {},
   "source": [
    "<img src = \"https://media.geeksforgeeks.org/wp-content/cdn-uploads/20190626175333/SlidingWindowMaximum.png\"/>"
   ]
  },
  {
   "cell_type": "code",
   "execution_count": 28,
   "metadata": {},
   "outputs": [
    {
     "name": "stdout",
     "output_type": "stream",
     "text": [
      "78 90 90 90 89"
     ]
    }
   ],
   "source": [
    "// A Dequeue (Double ended queue) based method for printing maximum element of \n",
    "// all subarrays of size k \n",
    "static void printMax(int arr[], int n, int k) \n",
    "{ \n",
    "    // Create a Double Ended Queue, Qi that will store indexes of array elements \n",
    "    // The queue will store indexes of useful elements in every window and it will \n",
    "    // maintain decreasing order of values from front to rear in Qi, i.e., \n",
    "    // arr[Qi.front[]] to arr[Qi.rear()] are sorted in decreasing order \n",
    "    Deque<Integer> Qi = new LinkedList<Integer>(); \n",
    "\n",
    "    /* Process first k (or first window) elements of array */\n",
    "    int i; \n",
    "    for (i = 0; i < k; ++i) { \n",
    "        // For every element, the previous smaller elements are useless so \n",
    "        // remove them from Qi \n",
    "        while (!Qi.isEmpty() && arr[i] >= arr[Qi.peekLast()]) \n",
    "            Qi.removeLast(); // Remove from rear \n",
    "\n",
    "        // Add new element at rear of queue \n",
    "        Qi.addLast(i); \n",
    "    } \n",
    "\n",
    "    // Process rest of the elements, i.e., from arr[k] to arr[n-1] \n",
    "    for (; i < n; ++i) { \n",
    "        // The element at the front of the queue is the largest element of \n",
    "        // previous window, so print it \n",
    "        System.out.print(arr[Qi.peek()] + \" \"); \n",
    "\n",
    "        // Remove the elements which are out of this window \n",
    "        while ((!Qi.isEmpty()) && Qi.peek() <= i - k) \n",
    "            Qi.removeFirst(); \n",
    "\n",
    "        // Remove all elements smaller than the currently \n",
    "        // being added element (remove useless elements) \n",
    "        while ((!Qi.isEmpty()) && arr[i] >= arr[Qi.peekLast()]) \n",
    "            Qi.removeLast(); \n",
    "\n",
    "        // Add current element at the rear of Qi \n",
    "        Qi.addLast(i); \n",
    "    } \n",
    "\n",
    "    // Print the maximum element of last window \n",
    "    System.out.print(arr[Qi.peek()]); \n",
    "} \n",
    "\n",
    "// Driver program to test above functions \n",
    "public static void main(String[] args) \n",
    "{ \n",
    "    int arr[] = { 12, 1, 78, 90, 57, 89, 56 }; \n",
    "    int k = 3; \n",
    "    printMax(arr, arr.length, k); \n",
    "} \n",
    "main(args);"
   ]
  },
  {
   "cell_type": "code",
   "execution_count": 29,
   "metadata": {},
   "outputs": [],
   "source": [
    "/*\n",
    "For other Methods view question link\n",
    "*/"
   ]
  },
  {
   "cell_type": "markdown",
   "metadata": {},
   "source": [
    "## **394. Find the smallest positive number missing from an unsorted array | Set 1**\n",
    "https://www.geeksforgeeks.org/find-the-smallest-positive-number-missing-from-an-unsorted-array/"
   ]
  },
  {
   "cell_type": "markdown",
   "metadata": {},
   "source": [
    "**Related Link :**\n",
    "<br>\n",
    "***https://www.geeksforgeeks.org/find-the-smallest-positive-number-missing-from-an-unsorted-array-set-2/?ref=rp***\n",
    "<br>\n",
    "***https://www.geeksforgeeks.org/find-the-smallest-positive-number-missing-from-an-unsorted-array-set-3/?ref=rp***\n",
    "<br>\n",
    "***https://www.geeksforgeeks.org/find-the-smallest-positive-number-missing-from-an-unsorted-array-hashing-implementation/?ref=rp***"
   ]
  },
  {
   "cell_type": "code",
   "execution_count": 30,
   "metadata": {},
   "outputs": [],
   "source": [
    "/*\n",
    "Given an unsorted array with both positive and negative elements including 0. \n",
    "The task is to find the smallest positive number missing from the array in O(N) time.\n",
    "*/"
   ]
  },
  {
   "cell_type": "code",
   "execution_count": 31,
   "metadata": {},
   "outputs": [],
   "source": [
    "/*\n",
    "Examples:\n",
    "\n",
    "Input: arr[] = {-5, 2, 0, -1, -10, 15}\n",
    "Output: 1\n",
    "\n",
    "Input: arr[] = {0, 1, 2, 3, 4, 5}\n",
    "Output: 6\n",
    "\n",
    "Input: arr[] = {1, 1, 1, 0, -1, -2}\n",
    "Output: 2\n",
    "*/"
   ]
  },
  {
   "cell_type": "code",
   "execution_count": 32,
   "metadata": {},
   "outputs": [],
   "source": [
    "/*\n",
    "1. We can use hashing to solve this problem. \n",
    "2. The idea is to build a hash table of all positive elements in the given array. \n",
    "3. Once the hash table is built. \n",
    "4. We can look in the hash table for all positive integers, starting from 1.\n",
    "5. As soon as we find a number which is not there in the hash table, we return it.\n",
    "\n",
    "Time Complexity: O(N)\n",
    "Auxiliary Space: O(N)\n",
    "*/"
   ]
  },
  {
   "cell_type": "code",
   "execution_count": 33,
   "metadata": {},
   "outputs": [
    {
     "name": "stdout",
     "output_type": "stream",
     "text": [
      "Smallest positive missing number is : 2\n"
     ]
    }
   ],
   "source": [
    "// Function to find the smallest positive  \n",
    "// missing number  \n",
    "static int missingNumber(int a[], int n)  \n",
    "{ \n",
    "    // Declaring an unordered_map  \n",
    "    Map<Integer, Integer> mp = new LinkedHashMap<>(); \n",
    "\n",
    "    // if array value is positive  \n",
    "    // store it in map  \n",
    "    for (int i = 0; i < n; i++)  \n",
    "    { \n",
    "        if (a[i] > 0)  \n",
    "        { \n",
    "            mp.put(a[i], mp.get(a[i]) == null ? 1 : mp.get(a[i]) + 1); \n",
    "        } \n",
    "    } \n",
    "\n",
    "    // index value set to 1  \n",
    "    int index = 1; \n",
    "\n",
    "    // Return the first value starting  \n",
    "    // from 1 which does not exists in map  \n",
    "    while (true)  \n",
    "    { \n",
    "        if (!mp.containsKey(index))  \n",
    "        { \n",
    "            return index; \n",
    "        } \n",
    "\n",
    "        index++; \n",
    "    } \n",
    "} \n",
    "\n",
    "// Driver code  \n",
    "public static void main(String[] args)  \n",
    "{ \n",
    "    int a[] = {1, 1, 1, 0, -1, -2}; \n",
    "    int size = a.length; \n",
    "\n",
    "    System.out.println(\"Smallest positive missing number is : \"\n",
    "            + missingNumber(a, size)); \n",
    "} \n",
    "main(args);"
   ]
  },
  {
   "cell_type": "code",
   "execution_count": 34,
   "metadata": {},
   "outputs": [],
   "source": [
    "/*\n",
    "Method 2\n",
    "*/"
   ]
  },
  {
   "cell_type": "code",
   "execution_count": 35,
   "metadata": {},
   "outputs": [
    {
     "name": "stdout",
     "output_type": "stream",
     "text": [
      "4\n"
     ]
    }
   ],
   "source": [
    "// Function to find the smallest \n",
    "// positive missing number \n",
    "static int findMissingPositive(int arr[], int n) \n",
    "{ \n",
    "    // Default smallest Positive Integer \n",
    "    int m = 1; \n",
    "  \n",
    "    // Store values in set which are \n",
    "    // greater than variable m \n",
    "    HashSet<Integer> x = new HashSet<Integer>(); \n",
    "  \n",
    "    for (int i = 0; i < n; i++) \n",
    "    { \n",
    "        // Store value when m is less than \n",
    "        // current index of given array \n",
    "        if (m < arr[i]) \n",
    "        { \n",
    "            x.add(arr[i]); \n",
    "        } \n",
    "        else if (m == arr[i]) \n",
    "        { \n",
    "            // Increment m when it is equal \n",
    "            // to current element \n",
    "            m = m + 1; \n",
    "  \n",
    "            while (x.contains(m))  \n",
    "            { \n",
    "                x.remove(m); \n",
    "  \n",
    "                // Increment m when it is one of the \n",
    "                // element of the set \n",
    "                m = m + 1; \n",
    "            } \n",
    "        } \n",
    "    } \n",
    "  \n",
    "    // Return the required answer \n",
    "    return m; \n",
    "} \n",
    "  \n",
    "// Driver code \n",
    "public static void main(String[] args)  \n",
    "{ \n",
    "    int arr[] = { 2, 3, -7, 6, 8, 1, -10, 15 }; \n",
    "  \n",
    "    int n = arr.length; \n",
    "  \n",
    "    // Function call \n",
    "    System.out.println(findMissingPositive(arr, n)); \n",
    "} \n",
    "main(args);"
   ]
  },
  {
   "cell_type": "markdown",
   "metadata": {},
   "source": [
    "## **395. Find the maximum repeating number in O(n) time and O(1) extra space**\n",
    "https://www.geeksforgeeks.org/find-the-maximum-repeating-number-in-ok-time/"
   ]
  },
  {
   "cell_type": "code",
   "execution_count": 36,
   "metadata": {},
   "outputs": [],
   "source": [
    "/*\n",
    "Given an array of size n, \n",
    "the array contains numbers in range from 0 to k-1 where k is a positive integer and k <= n. \n",
    "Find the maximum repeating number in this array. \n",
    "\n",
    "For example, \n",
    "    let k be 10 \n",
    "    the given array be arr[] = {1, 2, 2, 2, 0, 2, 0, 2, 3, 8, 0, 9, 2, 3},\n",
    "    \n",
    "    the maximum repeating number would be 2. \n",
    "    \n",
    "Expected time complexity is O(n) and extra space allowed is O(1). \n",
    "Modifications to array are allowed.\n",
    "*/"
   ]
  },
  {
   "cell_type": "code",
   "execution_count": 37,
   "metadata": {},
   "outputs": [],
   "source": [
    "/*\n",
    "The naive approach \n",
    "    is to run two loops, \n",
    "    the outer loop picks an element one by one, \n",
    "    the inner loop counts number of occurrences of the picked element. \n",
    "    \n",
    "    Finally return the element with maximum count.\n",
    "    \n",
    "Time complexity of this approach is O(n^2).\n",
    "*/"
   ]
  },
  {
   "cell_type": "code",
   "execution_count": 38,
   "metadata": {},
   "outputs": [],
   "source": [
    "/*\n",
    "A better approach \n",
    "    is to create a count array of size k \n",
    "    and initialize all elements of count[] as 0. \n",
    "    Iterate through all elements of input array, \n",
    "    and for every element arr[i], increment count[arr[i]].\n",
    "    Finally, iterate through count[] and return the index with maximum value. \n",
    "    \n",
    "This approach takes O(n) time, but requires O(k) space.\n",
    "*/"
   ]
  },
  {
   "cell_type": "code",
   "execution_count": 39,
   "metadata": {},
   "outputs": [],
   "source": [
    "/*\n",
    "Following is the O(n) time and O(1) extra space approach.\n",
    "\n",
    "Let us understand the approach with a simple example \n",
    "where arr[] = {2, 3, 3, 5, 3, 4, 1, 7}, k = 8, n = 8 (number of elements in arr[]).\n",
    "\n",
    "1) Iterate though input array arr[],\n",
    "    for every element arr[i], \n",
    "        increment arr[arr[i]%k] by k (arr[] becomes {2, 11, 11, 29, 11, 12, 1, 15 })\n",
    "\n",
    "2) Find the maximum value in the modified array (maximum value is 29). \n",
    "    Index of the maximum value is the maximum repeating element (index of 29 is 3).\n",
    "\n",
    "3) If we want to get the original array back, \n",
    "    we can iterate through the array one more time and do arr[i] = arr[i] % k where i varies from 0 to n-1.\n",
    "*/"
   ]
  },
  {
   "cell_type": "code",
   "execution_count": 40,
   "metadata": {},
   "outputs": [],
   "source": [
    "/*\n",
    "How does the above algorithm work? \n",
    "\n",
    "Since we use arr[i]%k as index and add value k at the index arr[i]%k, \n",
    "the index which is equal to maximum repeating element will have the maximum value in the end. \n",
    "\n",
    "Note that k is added maximum number of times at the index equal to maximum repeating element \n",
    "and all array elements are smaller than k.\n",
    "*/"
   ]
  },
  {
   "cell_type": "code",
   "execution_count": 41,
   "metadata": {},
   "outputs": [],
   "source": [
    "// Returns maximum repeating element in arr[0..n-1]. \n",
    "// The array elements are in range from 0 to k-1 \n",
    "static int maxRepeating(int arr[], int n, int k) \n",
    "{ \n",
    "    // Iterate though input array, for every element \n",
    "    // arr[i], increment arr[arr[i]%k] by k \n",
    "    for (int i = 0; i< n; i++) \n",
    "        arr[(arr[i]%k)] += k; \n",
    "\n",
    "    // Find index of the maximum repeating element \n",
    "    int max = arr[0], result = 0; \n",
    "    for (int i = 1; i < n; i++) \n",
    "    { \n",
    "        if (arr[i] > max) \n",
    "        { \n",
    "            max = arr[i]; \n",
    "            result = i; \n",
    "        } \n",
    "    } \n",
    "\n",
    "    /* Uncomment this code to get the original array back \n",
    "    for (int i = 0; i< n; i++) \n",
    "      arr[i] = arr[i]%k; */\n",
    "\n",
    "    // Return index of the maximum element \n",
    "    return result; \n",
    "} "
   ]
  },
  {
   "cell_type": "code",
   "execution_count": 42,
   "metadata": {},
   "outputs": [
    {
     "name": "stdout",
     "output_type": "stream",
     "text": [
      "Maximum repeating element is: 3\n"
     ]
    }
   ],
   "source": [
    "/*Driver function to check for above function*/\n",
    "public static void main (String[] args) \n",
    "{ \n",
    "\n",
    "    int arr[] = {2, 3, 3, 5, 3, 4, 1, 7}; \n",
    "    int n = arr.length; \n",
    "    int k=8; \n",
    "    System.out.println(\"Maximum repeating element is: \" + \n",
    "                       maxRepeating(arr,n,k)); \n",
    "} \n",
    "main(args);"
   ]
  },
  {
   "cell_type": "markdown",
   "metadata": {},
   "source": [
    "## **396. Online algorithm for checking palindrome in a stream**\n",
    "https://www.geeksforgeeks.org/online-algorithm-for-checking-palindrome-in-a-stream/"
   ]
  },
  {
   "cell_type": "code",
   "execution_count": 43,
   "metadata": {},
   "outputs": [],
   "source": [
    "/*\n",
    "Given a stream of characters (characters are received one by one), \n",
    "write a function that prints ‘Yes’ \n",
    "    if a character makes the complete string palindrome, \n",
    "else \n",
    "    prints ‘No’.\n",
    "*/"
   ]
  },
  {
   "cell_type": "code",
   "execution_count": 44,
   "metadata": {},
   "outputs": [],
   "source": [
    "/*\n",
    "Examples:\n",
    "\n",
    "Input: str[] = \"abcba\"\n",
    "Output: a Yes   // \"a\" is palindrome\n",
    "        b No    // \"ab\" is not palindrome\n",
    "        c No    // \"abc\" is not palindrome\n",
    "        b No    // \"abcb\" is not palindrome\n",
    "        a Yes   // \"abcba\" is palindrome\n",
    "\n",
    "Input: str[] = \"aabaacaabaa\"\n",
    "Output:  a Yes   // \"a\" is palindrome\n",
    "         a Yes   // \"aa\" is palindrome\n",
    "         b No    // \"aab\" is not palindrome \n",
    "         a No    // \"aaba\" is not palindrome  \n",
    "         a Yes   // \"aabaa\" is palindrome  \n",
    "         c No    // \"aabaac\" is not palindrome  \n",
    "         a No    // \"aabaaca\" is not palindrome  \n",
    "         a No    // \"aabaacaa\" is not palindrome  \n",
    "         b No    // \"aabaacaab\" is not palindrome  \n",
    "         a No    // \"aabaacaaba\" is not palindrome  \n",
    "         a Yes   // \"aabaacaabaa\" is palindrome  \n",
    "*/"
   ]
  },
  {
   "cell_type": "code",
   "execution_count": 45,
   "metadata": {},
   "outputs": [],
   "source": [
    "/*\n",
    "Let input string be str[0..n-1]. \n",
    "\n",
    "A Simple Solution is to do following for every character str[i] in input string. \n",
    "Check if substring str[0…i] is palindrome, \n",
    "    then print yes, \n",
    "else \n",
    "    print no.\n",
    "*/"
   ]
  },
  {
   "cell_type": "code",
   "execution_count": 46,
   "metadata": {},
   "outputs": [],
   "source": [
    "/*\n",
    "A Better Solution is to use the idea of Rolling Hash used in Rabin Karp algorithm. \n",
    "The idea is to keep track of reverse of first half and second half \n",
    "(we also use first half and reverse of second half) for every index. \n",
    "\n",
    "Below is complete algorithm.\n",
    "\n",
    "  1) The first character is always a palindrome, so print yes for \n",
    "     first character.\n",
    "\n",
    "  2) Initialize reverse of first half as \"a\" and second half as \"b\".  \n",
    "     Let the hash value of first half reverse be 'firstr' and that of \n",
    "     second half be 'second'.\n",
    "\n",
    "  3) Iterate through string starting from second character, do following\n",
    "      for every character str[i], i.e., i varies from 1 to n-1.\n",
    "     a) If 'firstr' and 'second' are same, then character by character \n",
    "        check the substring ending with current character and print \n",
    "        \"Yes\" if palindrome.\n",
    "        Note that if hash values match, then strings need not be same.\n",
    "        For example, hash values of \"ab\" and \"ba\" are same, but strings\n",
    "        are different. That is why we check complete string after hash.\n",
    "\n",
    "     b) Update 'firstr' and 'second' for next iteration.  \n",
    "           If 'i' is even, then add next character to the beginning of \n",
    "                           'firstr' and end of second half and update \n",
    "                            hash values.\n",
    "           If 'i' is odd,  then keep 'firstr' as it is, remove leading \n",
    "                           character from second and append a next \n",
    "                           character at end.\n",
    "*/"
   ]
  },
  {
   "cell_type": "code",
   "execution_count": 47,
   "metadata": {},
   "outputs": [],
   "source": [
    "/*\n",
    "Let us see all steps for example string “abcba”\n",
    "\n",
    "Initial values of ‘firstr’ and ‘second’\n",
    "     firstr’ = hash(“a”), ‘second’ = hash(“b”)\n",
    "     \n",
    "Start from second character, i.e.,\n",
    "\n",
    "i = 1\n",
    "     a) Compare ‘firstr’ and ‘second’, they don’t match, so print no.\n",
    "     b) Calculate hash values for next iteration, i.e., i = 2\n",
    "     Since i is odd, ‘firstr’ is not changed and ‘second’ becomes hash(“c”)\n",
    "\n",
    "i = 2\n",
    "     a) Compare ‘firstr’ and ‘second’, they don’t match, so print no.\n",
    "     b) Calculate hash values for next iteration, i.e., i = 3\n",
    "     Since i is even, ‘firstr’ becomes hash(“ba”) and ‘second’ becomes hash(“cb”)\n",
    "\n",
    "i = 3\n",
    "     a) Compare ‘first’ and ‘second’, they don’t match, so print no.\n",
    "     b) Calculate hash values for next iteration, i.e., i = 4\n",
    "     Since i is odd, ‘firstr’ is not changed and ‘second’ becomes hash(“ba”)\n",
    "\n",
    "i = 4\n",
    "     a) ‘firstr’ and ‘second’ match, compare the whole strings, they match, so print yes\n",
    "     b) We don’t need to calculate next hash values as this is last index\n",
    "     \n",
    "The idea of using rolling hashes is, \n",
    "    next hash value can be calculated from previous in O(1) time \n",
    "        by just doing some constant number of arithmetic operations.\n",
    "*/"
   ]
  },
  {
   "cell_type": "code",
   "execution_count": 48,
   "metadata": {},
   "outputs": [],
   "source": [
    "// d is the number of characters in  \n",
    "// input alphabet \n",
    "static final int d = 256; \n",
    "\n",
    "// q is a prime number used for  \n",
    "// evaluating Rabin Karp's Rolling hash \n",
    "static final int q = 103; "
   ]
  },
  {
   "cell_type": "code",
   "execution_count": 49,
   "metadata": {},
   "outputs": [],
   "source": [
    "static void checkPalindromes(String str) \n",
    "{ \n",
    "    // Length of input string \n",
    "    int N = str.length(); \n",
    "\n",
    "    // A single character is always a palindrome \n",
    "    System.out.println(str.charAt(0)+\" Yes\"); \n",
    "\n",
    "    // Return if string has only one character \n",
    "    if (N == 1) return; \n",
    "\n",
    "    // Initialize first half reverse and second  \n",
    "    // half for as firstr and second characters \n",
    "    int firstr  = str.charAt(0) % q; \n",
    "    int second = str.charAt(1) % q; \n",
    "\n",
    "    int h = 1, i, j; \n",
    "\n",
    "    // Now check for palindromes from second  \n",
    "    // character onward \n",
    "    for (i = 1; i < N; i++) \n",
    "    { \n",
    "        // If the hash values of 'firstr' and \n",
    "        // 'second' match, then only check  \n",
    "        // individual characters \n",
    "        if (firstr == second) \n",
    "        { \n",
    "            /* Check if str[0..i] is palindrome \n",
    "            using simple character by character  \n",
    "             match */\n",
    "            for (j = 0; j < i/2; j++) \n",
    "            { \n",
    "                if (str.charAt(j) != str.charAt(i  \n",
    "                                           - j)) \n",
    "                    break; \n",
    "            } \n",
    "            System.out.println((j == i/2) ?  \n",
    "              str.charAt(i) + \" Yes\": str.charAt(i)+ \n",
    "              \" No\"); \n",
    "        } \n",
    "        else System.out.println(str.charAt(i)+ \" No\"); \n",
    "\n",
    "        // Calculate hash values for next iteration. \n",
    "        // Don't calculate hash for next characters \n",
    "        // if this is the last character of string \n",
    "        if (i != N - 1) \n",
    "        { \n",
    "            // If i is even (next i is odd)  \n",
    "            if (i % 2 == 0) \n",
    "            { \n",
    "                // Add next character after first  \n",
    "                // half at beginning of 'firstr' \n",
    "                h = (h * d) % q; \n",
    "                firstr  = (firstr + h *str.charAt(i /  \n",
    "                                             2)) % q; \n",
    "\n",
    "                // Add next character after second  \n",
    "                // half at the end of second half. \n",
    "                second = (second * d + str.charAt(i +  \n",
    "                                            1)) % q; \n",
    "            } \n",
    "            else\n",
    "            { \n",
    "                // If next i is odd (next i is even) \n",
    "                // then we need not to change firstr, \n",
    "                // we need to remove first character \n",
    "                // of second and append a character \n",
    "                // to it. \n",
    "                second = (d * (second + q - str.charAt( \n",
    "                         (i + 1) / 2) * h) % q + \n",
    "                           str.charAt(i + 1)) % q; \n",
    "            } \n",
    "        } \n",
    "    } \n",
    "} "
   ]
  },
  {
   "cell_type": "code",
   "execution_count": 50,
   "metadata": {},
   "outputs": [
    {
     "name": "stdout",
     "output_type": "stream",
     "text": [
      "a Yes\n",
      "a Yes\n",
      "b No\n",
      "a No\n",
      "a Yes\n",
      "c No\n",
      "a No\n",
      "a No\n",
      "b No\n",
      "a No\n",
      "a Yes\n"
     ]
    }
   ],
   "source": [
    "/* Driver program to test above function */\n",
    "public static void main(String args[]) \n",
    "{ \n",
    "    String txt = \"aabaacaabaa\"; \n",
    "    checkPalindromes(txt); \n",
    "} \n",
    "main(args);"
   ]
  },
  {
   "cell_type": "code",
   "execution_count": 51,
   "metadata": {},
   "outputs": [],
   "source": [
    "/*\n",
    "The worst case time complexity of the above solution remains O(n*n), \n",
    "but in general, \n",
    "    it works much better than simple approach as we avoid complete substring comparison \n",
    "    most of the time by first comparing hash values. \n",
    "    \n",
    "The worst case occurs for input strings with all same characters like “aaaaaa”.\n",
    "*/"
   ]
  },
  {
   "cell_type": "markdown",
   "metadata": {},
   "source": [
    "## **397. K’th largest element in a stream**\n",
    "https://www.geeksforgeeks.org/kth-largest-element-in-a-stream/"
   ]
  },
  {
   "cell_type": "code",
   "execution_count": 52,
   "metadata": {},
   "outputs": [],
   "source": [
    "/*\n",
    "Given an infinite stream of integers, find the k’th largest element at any point of time.\n",
    "Extra space allowed is O(k).\n",
    "*/"
   ]
  },
  {
   "cell_type": "code",
   "execution_count": 53,
   "metadata": {},
   "outputs": [],
   "source": [
    "/*\n",
    "Example:\n",
    "\n",
    "Input:\n",
    "stream[] = {10, 20, 11, 70, 50, 40, 100, 5, ...}\n",
    "k = 3\n",
    "\n",
    "Output:    {_,   _, 10, 11, 20, 40, 50,  50, ...}\n",
    "*/"
   ]
  },
  {
   "cell_type": "code",
   "execution_count": 54,
   "metadata": {},
   "outputs": [],
   "source": [
    "/*\n",
    "A Simple Solution is to keep an array of size k. \n",
    "The idea is to keep the array sorted so that the k’th largest element can be found in O(1) time \n",
    "(we just need to return first element of array if array is sorted in increasing order)\n",
    "\n",
    "How to process a new element of stream?\n",
    "For every new element in stream, \n",
    "    check if the new element is smaller than current k’th largest element. \n",
    "    If yes,\n",
    "        then ignore it. \n",
    "    If no, \n",
    "        then remove the smallest element from array \n",
    "        and insert new element in sorted order. \n",
    "Time complexity of processing a new element is O(k).\n",
    "*/"
   ]
  },
  {
   "cell_type": "code",
   "execution_count": 55,
   "metadata": {},
   "outputs": [],
   "source": [
    "/*\n",
    "A Better Solution is to use a Self Balancing Binary Search Tree of size k. \n",
    "The k’th largest element can be found in O(Logk) time.\n",
    "\n",
    "How to process a new element of stream?\n",
    "For every new element in stream, \n",
    "    check if the new element is smaller than current k’th largest element. \n",
    "    If yes, \n",
    "        then ignore it. \n",
    "    If no, \n",
    "        then remove the smallest element from the tree \n",
    "        and insert new element. \n",
    "Time complexity of processing a new element is O(Logk).\n",
    "*/"
   ]
  },
  {
   "cell_type": "code",
   "execution_count": 56,
   "metadata": {},
   "outputs": [],
   "source": [
    "/*\n",
    "An Efficient Solution is to use Min Heap of size k to store k largest elements of stream. \n",
    "The k’th largest element is always at root and can be found in O(1) time.\n",
    "\n",
    "How to process a new element of stream?\n",
    "Compare the new element with root of heap. \n",
    "If new element is smaller, \n",
    "    then ignore it. \n",
    "Otherwise replace root with new element and call heapify for the root of modified heap. \n",
    "\n",
    "Time complexity of finding the k’th largest element is O(Logk).\n",
    "*/"
   ]
  },
  {
   "cell_type": "markdown",
   "metadata": {},
   "source": [
    "***https://ideone.com/XAg16m***"
   ]
  },
  {
   "cell_type": "markdown",
   "metadata": {},
   "source": [
    "## **398. K-th smallest element after removing some integers from natural numbers**\n",
    "https://www.geeksforgeeks.org/k-th-smallest-element-removing-integers-natural-numbers/"
   ]
  },
  {
   "cell_type": "code",
   "execution_count": 57,
   "metadata": {},
   "outputs": [],
   "source": [
    "/*\n",
    "Given an array arr[] of size ‘n’ and a positive integer k. \n",
    "Consider series of natural numbers and remove arr[0], arr[1], arr[2], …, arr[p] from it.\n",
    "\n",
    "Now the task is to find k-th smallest number in the remaining set of natural numbers.\n",
    "If no such number exists print “-1”.\n",
    "*/"
   ]
  },
  {
   "cell_type": "code",
   "execution_count": 58,
   "metadata": {},
   "outputs": [],
   "source": [
    "/*\n",
    "Examples :\n",
    "\n",
    "Input : arr[] = { 1 } and k = 1.\n",
    "Output: 2\n",
    "Natural numbers are {1, 2, 3, 4, .... }\n",
    "After removing {1}, we get {2, 3, 4, ...}.\n",
    "Now, K-th smallest element = 2.\n",
    "\n",
    "Input : arr[] = {1, 3}, k = 4.\n",
    "Output : 6\n",
    "First 5 Natural number {1, 2, 3, 4, 5, 6,  .. }\n",
    "After removing {1, 3}, we get {2, 4, 5, 6, ... }.\n",
    "*/"
   ]
  },
  {
   "cell_type": "code",
   "execution_count": 59,
   "metadata": {},
   "outputs": [],
   "source": [
    "/*\n",
    "Method 1 (Simple):\n",
    "Time Complexity : O(n).\n",
    "\n",
    "Make an auxiliary array b[] for presence/absence of natural numbers and initialize all with 0. \n",
    "Make all the integer equal to 1 which are present in array arr[] i.e b[arr[i]] = 1. \n",
    "Now, \n",
    "    run a loop and decrement k whenever unmarked cell is encountered. \n",
    "When the value of k is 0, we get the answer.\n",
    "\n",
    "Below is implementation of this approach:\n",
    "*/"
   ]
  },
  {
   "cell_type": "code",
   "execution_count": 60,
   "metadata": {},
   "outputs": [
    {
     "name": "stdout",
     "output_type": "stream",
     "text": [
      "2\n"
     ]
    }
   ],
   "source": [
    "static final int MAX = 1000000; \n",
    "\n",
    "// Return the K-th smallest element. \n",
    "static int ksmallest(int arr[], int n, int k) \n",
    "{ \n",
    "    // Making an array, and mark \n",
    "    // all number as unmarked. \n",
    "    int b[] = new int[MAX]; \n",
    "\n",
    "    // Marking the number present \n",
    "    // in the given array. \n",
    "    for (int i = 0; i < n; i++) { \n",
    "        b[arr[i]] = 1; \n",
    "    } \n",
    "\n",
    "    for (int j = 1; j < MAX; j++) { \n",
    "        // If j is unmarked, reduce k by 1. \n",
    "        if (b[j] != 1) { \n",
    "            k--; \n",
    "        } \n",
    "\n",
    "        // If k is 0 return j. \n",
    "        if (k != 1) { \n",
    "            return j; \n",
    "        } \n",
    "    } \n",
    "    return Integer.MAX_VALUE; \n",
    "} \n",
    "\n",
    "// Driven code \n",
    "public static void main(String[] args) \n",
    "{ \n",
    "    int k = 1; \n",
    "    int arr[] = { 1 }; \n",
    "    int n = arr.length; \n",
    "    System.out.println(ksmallest(arr, n, k)); \n",
    "} \n",
    "main(args);"
   ]
  },
  {
   "cell_type": "code",
   "execution_count": 61,
   "metadata": {},
   "outputs": [],
   "source": [
    "/*\n",
    "Method 2 (Efficient):\n",
    "\n",
    "First, sort the array arr[].\n",
    "Observe, there will be arr[0] – 1 numbers between 0 and arr[0], \n",
    "similarly, arr[1] – arr[0] – 1 numbers between arr[0] and arr[1] \n",
    "and so on. \n",
    "\n",
    "So, if k lies between arr[i] – arr[i+1] – 1, \n",
    "    then return K-th smallest element in the range. \n",
    "Else \n",
    "    reduce k by arr[i] – arr[i+1] – 1 \n",
    "    \n",
    "    i.e., k = k – (arr[i] – arr[i+1] – 1).\n",
    "\n",
    "Algorithm to solve the problem:\n",
    "\n",
    "1. Sort the array arr[].\n",
    "2. For i = 1 to k. Find c = arr[i+1] - arr[i] -1.\n",
    "  a) if k - c <= 0, return arr[i-1] + k.\n",
    "  b) else k = k - c.\n",
    "Below is implementation of this approach:\n",
    "*/"
   ]
  },
  {
   "cell_type": "code",
   "execution_count": 62,
   "metadata": {},
   "outputs": [
    {
     "name": "stdout",
     "output_type": "stream",
     "text": [
      "2\n"
     ]
    }
   ],
   "source": [
    "// Return the K-th \n",
    "// smallest element. \n",
    "static int ksmallest(int arr[], \n",
    "                     int n, int k) \n",
    "{ \n",
    "    // sort(arr, arr+n); \n",
    "    Arrays.sort(arr); \n",
    "\n",
    "    // Checking if k lies \n",
    "    // before 1st element \n",
    "    if (k < arr[0]) \n",
    "        return k; \n",
    "\n",
    "    // If k is the first \n",
    "    // element of array arr[]. \n",
    "    if (k == arr[0]) \n",
    "        return arr[0] + 1; \n",
    "\n",
    "    // If k is more \n",
    "    // than last element \n",
    "    if (k > arr[n - 1]) \n",
    "        return k + n; \n",
    "\n",
    "    // If first element \n",
    "    // of array is 1. \n",
    "    if (arr[0] == 1) \n",
    "        k--; \n",
    "\n",
    "    // Reducing k by numbers \n",
    "    // before arr[0]. \n",
    "    else\n",
    "        k -= (arr[0] - 1); \n",
    "\n",
    "    // Finding k'th smallest \n",
    "    // element after removing \n",
    "    // array elements. \n",
    "    for (int i = 1; i < n; i++) { \n",
    "        // Finding count of \n",
    "        // element between i-th \n",
    "        // and (i-1)-th element. \n",
    "        int c = arr[i] - arr[i - 1] - 1; \n",
    "        if (k <= c) \n",
    "            return arr[i - 1] + k; \n",
    "        else\n",
    "            k -= c; \n",
    "    } \n",
    "\n",
    "    return arr[n - 1] + k; \n",
    "} \n",
    "\n",
    "// Driven Code \n",
    "public static void main(String[] args) \n",
    "{ \n",
    "    int k = 1; \n",
    "    int arr[] = { 1 }; \n",
    "    int n = arr.length; \n",
    "    System.out.println(ksmallest(arr, n, k)); \n",
    "} \n",
    "main(args);"
   ]
  },
  {
   "cell_type": "markdown",
   "metadata": {},
   "source": [
    "**Related Link :**   ***https://www.geeksforgeeks.org/k-th-smallest-element-removing-given-integers-natural-numbers-set-2/***"
   ]
  },
  {
   "cell_type": "markdown",
   "metadata": {},
   "source": [
    "## **399. Find Surpasser Count of each element in array**\n",
    "https://www.geeksforgeeks.org/find-surpasser-count-of-each-element-in-array/"
   ]
  },
  {
   "cell_type": "code",
   "execution_count": 63,
   "metadata": {},
   "outputs": [],
   "source": [
    "/*\n",
    "A surpasser of an element of an array is a greater element to its right, \n",
    "therefore x[j] is a surpasser of x[i] if i < j and x[i] < x[j]. \n",
    "The surpasser count of an element is the number of surpassers. \n",
    "\n",
    "Given an array of distinct integers, \n",
    "    for each element of the array \n",
    "    \n",
    "    find its surpasser count i.e. count the number of elements to the right that are greater than that element.\n",
    "*/"
   ]
  },
  {
   "cell_type": "code",
   "execution_count": 64,
   "metadata": {},
   "outputs": [],
   "source": [
    "/*\n",
    "Examples :\n",
    "\n",
    "Input:  [2, 7, 5, 3, 0, 8, 1]\n",
    "Output: [4, 1, 1, 1, 2, 0, 0]\n",
    "*/"
   ]
  },
  {
   "cell_type": "code",
   "execution_count": 65,
   "metadata": {},
   "outputs": [],
   "source": [
    "/*\n",
    "Method 1 (Naive)\n",
    "\n",
    "The naive solution would be to run two loops. \n",
    "For each element of the array, \n",
    "    we count all elements greater than it to its right. \n",
    "\n",
    "The complexity of this solution is O(n^2)\n",
    "*/"
   ]
  },
  {
   "cell_type": "code",
   "execution_count": 66,
   "metadata": {},
   "outputs": [
    {
     "name": "stdout",
     "output_type": "stream",
     "text": [
      "Given array is \n",
      "2 7 5 3 0 8 1 \n",
      "Surpasser Count of array is \n",
      "4 1 1 1 2 0 0 "
     ]
    }
   ],
   "source": [
    "// Function to find surpasser count of  \n",
    "// each element in array \n",
    "static void findSurpasser(int arr[], int n) \n",
    "{ \n",
    "    for (int i = 0; i < n; i++) \n",
    "    { \n",
    "\n",
    "        // stores surpasser count for  \n",
    "        // element arr[i] \n",
    "        int count = 0; \n",
    "        for (int j = i + 1; j < n; j++) \n",
    "            if (arr[j] > arr[i]) \n",
    "                count++; \n",
    "\n",
    "        System.out.print(count +\" \"); \n",
    "    } \n",
    "} \n",
    "\n",
    "/* Function to print an array */\n",
    "static void printArray(int arr[], int n) \n",
    "{ \n",
    "    for (int i = 0; i < n; i++) \n",
    "        System.out.print( arr[i] + \" \"); \n",
    "\n",
    "    System.out.println(); \n",
    "} \n",
    "\n",
    "// Driver program to test above functions \n",
    "public static void main (String[] args)  \n",
    "{ \n",
    "    int arr[] = { 2, 7, 5, 3, 0, 8, 1 }; \n",
    "    int n = arr.length; \n",
    "\n",
    "    System.out.println(\"Given array is \"); \n",
    "    printArray(arr, n); \n",
    "\n",
    "    System.out.println(\"Surpasser Count of\"\n",
    "                           + \" array is \"); \n",
    "    findSurpasser(arr, n); \n",
    "} \n",
    "main(args);"
   ]
  },
  {
   "cell_type": "markdown",
   "metadata": {},
   "source": [
    "***https://www.geeksforgeeks.org/counting-inversions/***"
   ]
  },
  {
   "cell_type": "code",
   "execution_count": 67,
   "metadata": {},
   "outputs": [],
   "source": [
    "/*\n",
    "Method 2 (Uses Merge Sort)\n",
    "Time complexity of above solution is O(nlogn).\n",
    "\n",
    "For any element of the array, \n",
    "    we can easily find out number of elements to the right that are greater than that element \n",
    "    if we know number of elements to its right that are less than that element. \n",
    "    \n",
    "    The idea is to count the number of inversions for each element of the array using merge sort. \n",
    "    \n",
    "    So, surpasser count of an element at position i will be equal to “n – i – inversion-count” at that position \n",
    "        where n is the size of the array.\n",
    "\n",
    "We have already discussed how to find inversion count of complete array above link. \n",
    "We have modified the discussed approach to find number of inversions for each element of the array \n",
    "    instead of returning inversion count of whole array. \n",
    "Also, as all elements of the array are distinct, \n",
    "    we maintain a map that stores inversion count for each element of the array.\n",
    "*/"
   ]
  },
  {
   "cell_type": "markdown",
   "metadata": {},
   "source": [
    "***https://ideone.com/ysR3I3***"
   ]
  },
  {
   "cell_type": "markdown",
   "metadata": {},
   "source": [
    "## **400. A Pancake Sorting Problem**\n",
    "https://www.geeksforgeeks.org/a-pancake-sorting-question/"
   ]
  },
  {
   "cell_type": "markdown",
   "metadata": {},
   "source": [
    "**Related Link :**   ***https://www.geeksforgeeks.org/pancake-sorting/***"
   ]
  },
  {
   "cell_type": "code",
   "execution_count": 68,
   "metadata": {},
   "outputs": [],
   "source": [
    "/*\n",
    "Given an unsorted array, sort the given array. You are allowed to do only following operation on array.\n",
    "\n",
    "flip(arr, i): Reverse array from 0 to i \n",
    "\n",
    "Imagine a hypothetical machine where flip(i) always takes O(1) time.\n",
    "\n",
    "Write an efficient program for sorting a given array in O(nLogn) time on the given machine.\n",
    "*/"
   ]
  },
  {
   "cell_type": "code",
   "execution_count": 69,
   "metadata": {},
   "outputs": [],
   "source": [
    "/*\n",
    "We can use insertion sort that uses binary search. \n",
    "The idea is to run a loop from second element to last element (from i = 1 to n-1),\n",
    "    and one by one insert arr[i] in arr[0..i-1] (like standard insertion sort algorithm).\n",
    "When we insert an element arr[i], \n",
    "    we can use binary search to find position of arr[i] in O(Logi) time. \n",
    "    \n",
    "Once we have the position, we can use some flip operations to put arr[i] at its new place.\n",
    "\n",
    "Following are abstract steps.\n",
    "\n",
    "// Standard Insertion Sort Loop that starts from second element\n",
    "for (i=1; i  O(n)\n",
    "{\n",
    "  int key = arr[i];\n",
    "\n",
    "  // Find index of ceiling of arr[i] in arr[0..i-1] using binary search\n",
    "  j = celiSearch(arr, key, 0, i-1); ----> O(logn) (See this)\n",
    "    \n",
    "  // Apply some flip operations to put arr[i] at correct place\n",
    "} \n",
    "\n",
    "Since flip operation takes O(1) on given hypothetical machine, \n",
    "    total running time of above algorithm is O(nlogn).\n",
    "*/"
   ]
  },
  {
   "cell_type": "code",
   "execution_count": 70,
   "metadata": {},
   "outputs": [],
   "source": [
    "/*\n",
    "Let us see how does the above algorithm work. \n",
    "ceilSearch() actually returns the index of the smallest element which is greater than arr[i] in arr[0..i-1].\n",
    "If there is no such element, \n",
    "    it returns -1. \n",
    "    \n",
    "Let the returned value be j. \n",
    "    If j is -1, \n",
    "        then we don’t need to do anything as arr[i] is already the greatest element among arr[0..i]. \n",
    "    Otherwise \n",
    "        we need to put arr[i] just before arr[j].\n",
    "\n",
    "So how to apply flip operations to put arr[i] \n",
    "    just before arr[j] using values of i and j. \n",
    "\n",
    "Let us take an example to understand this. \n",
    "\n",
    "Let i be 6 and \n",
    "current array be {12, 15, 18, 30, 35, 40, 20, 6, 90, 80}. \n",
    "\n",
    "To put 20 at its new place, \n",
    "    the array should be changed to {12, 15, 18, 20, 30, 35, 40, 6, 90, 80}. \n",
    "    \n",
    "We apply following steps to put 20 at its new place.\n",
    "\n",
    "1) Find j using ceilSearch (In the above example j is 3).\n",
    "2) flip(arr, j-1) (array becomes {18, 15, 12, 30, 35, 40, 20, 6, 90, 80})\n",
    "3) flip(arr, i-1); (array becomes {40, 35, 30, 12, 15, 18, 20, 6, 90, 80})\n",
    "4) flip(arr, i); (array becomes {20, 18, 15, 12, 30, 35, 40, 6, 90, 80})\n",
    "5) flip(arr, j); (array becomes {12, 15, 18, 20, 30, 35, 40, 6, 90, 80})\n",
    "\n",
    "Following is the implementation of the above algorithm.\n",
    "*/"
   ]
  },
  {
   "cell_type": "code",
   "execution_count": 71,
   "metadata": {},
   "outputs": [],
   "source": [
    "/* A Binary Search based function to get index of ceiling of x in  \n",
    "arr[low..high] */\n",
    "static int ceilSearch(int arr[], int low, int high, int x)  \n",
    "{  \n",
    "    int mid;  \n",
    "  \n",
    "    /* If x is smaller than or equal to the first element,  \n",
    "    then return the first element */\n",
    "    if(x <= arr[low])  \n",
    "        return low;  \n",
    "  \n",
    "    /* If x is greater than the last element, then return -1 */\n",
    "    if(x > arr[high])  \n",
    "        return -1;  \n",
    "  \n",
    "    /* get the index of middle element of arr[low..high]*/\n",
    "//     low + (high - low)/2  \n",
    "    mid = (low + high)/2;  \n",
    "  \n",
    "    /* If x is same as middle element, then return mid */\n",
    "    if(arr[mid] == x)  \n",
    "        return mid;  \n",
    "  \n",
    "    /* If x is greater than arr[mid], then either arr[mid + 1]  \n",
    "    is ceiling of x, or ceiling lies in arr[mid+1...high] */\n",
    "    if(arr[mid] < x)  \n",
    "    {  \n",
    "        if(mid + 1 <= high && x <= arr[mid+1])  \n",
    "            return mid + 1;  \n",
    "        else\n",
    "            return ceilSearch(arr, mid+1, high, x);  \n",
    "    }  \n",
    "  \n",
    "    /* If x is smaller than arr[mid], then either arr[mid]  \n",
    "    is ceiling of x or ceiling lies in arr[mid-1...high] */\n",
    "    if (mid - 1 >= low && x > arr[mid-1])  \n",
    "        return mid;  \n",
    "    else\n",
    "        return ceilSearch(arr, low, mid - 1, x);  \n",
    "}  "
   ]
  },
  {
   "cell_type": "code",
   "execution_count": 72,
   "metadata": {},
   "outputs": [],
   "source": [
    "/* Reverses arr[0..i] */\n",
    "static void flip(int arr[], int i)  \n",
    "{  \n",
    "    int temp, start = 0;  \n",
    "    while (start < i)  \n",
    "    {  \n",
    "        temp = arr[start];  \n",
    "        arr[start] = arr[i];  \n",
    "        arr[i] = temp;  \n",
    "        start++;  \n",
    "        i--;  \n",
    "    }  \n",
    "}  "
   ]
  },
  {
   "cell_type": "code",
   "execution_count": 73,
   "metadata": {},
   "outputs": [],
   "source": [
    "/* Function to sort an array using insertion sort, binary search and flip */\n",
    "static void insertionSort(int arr[], int size)  \n",
    "{  \n",
    "    int i;  \n",
    "  \n",
    "    // Start from the second element and one by one insert arr[i]  \n",
    "    // in already sorted arr[0..i-1]  \n",
    "    for(i = 1; i < size; i++)  \n",
    "    {  \n",
    "        // Find the smallest element in arr[0..i-1] which is also greater than  \n",
    "        // or equal to arr[i]  \n",
    "        int j = ceilSearch(arr, 0, i-1, arr[i]);  \n",
    "  \n",
    "        // Check if there was no element greater than arr[i]  \n",
    "        if (j != -1)  \n",
    "        {  \n",
    "            // Put arr[i] before arr[j] using following four flip operations  \n",
    "            flip(arr, j-1);  \n",
    "            flip(arr, i-1);  \n",
    "            flip(arr, i);  \n",
    "            flip(arr, j);  \n",
    "        }  \n",
    "    }  \n",
    "} "
   ]
  },
  {
   "cell_type": "code",
   "execution_count": 74,
   "metadata": {},
   "outputs": [
    {
     "name": "stdout",
     "output_type": "stream",
     "text": [
      "6 12 18 20 30 35 35 40 80 90 "
     ]
    }
   ],
   "source": [
    "/* A utility function to print an array of size n */\n",
    "static void printArray(int arr[], int n)  \n",
    "{  \n",
    "    int i;  \n",
    "    for (i = 0; i < n; ++i)  \n",
    "        System.out.print(arr[i] + \" \");  \n",
    "}  \n",
    "  \n",
    "/* Driver program to test insertion sort */\n",
    "public static void main(String[] args)  \n",
    "{  \n",
    "    int arr[] = {18, 40, 35, 12, 30, 35, 20, 6, 90, 80};  \n",
    "    int n = arr.length;  \n",
    "    insertionSort(arr, n);  \n",
    "    printArray(arr, n);  \n",
    "}  \n",
    "\n",
    "main(args);"
   ]
  },
  {
   "cell_type": "markdown",
   "metadata": {},
   "source": [
    "## **401. Choose k array elements such that difference of maximum and minimum is minimized**\n",
    "https://www.geeksforgeeks.org/k-numbers-difference-maximum-minimum-k-number-minimized/"
   ]
  },
  {
   "cell_type": "code",
   "execution_count": 75,
   "metadata": {},
   "outputs": [],
   "source": [
    "/*\n",
    "Given an array of n integers and a positive number k. \n",
    "\n",
    "We are allowed to take any k integers from the given array. \n",
    "The task is to find the minimum possible value of the difference between maximum and minimum of K numbers.\n",
    "*/"
   ]
  },
  {
   "cell_type": "code",
   "execution_count": 76,
   "metadata": {},
   "outputs": [],
   "source": [
    "/*\n",
    "Examples:\n",
    "\n",
    "Input : arr[] = {10, 100, 300, 200, 1000, 20, 30}\n",
    "        k = 3\n",
    "Output : 20\n",
    "20 is the minimum possible difference between any\n",
    "maximum and minimum of any k numbers.\n",
    "Given k = 3, we get the result 20 by selecting \n",
    "integers {10, 20, 30}.\n",
    "max(10, 20, 30) - max(10, 20, 30) = 30 - 10 = 20.\n",
    "\n",
    "Input : arr[] = {1, 2, 3, 4, 10, 20, 30, 40, \n",
    "                                   100, 200}.\n",
    "        k = 4      \n",
    "Output : 3\n",
    "*/"
   ]
  },
  {
   "cell_type": "code",
   "execution_count": 77,
   "metadata": {},
   "outputs": [],
   "source": [
    "/*\n",
    "Time Complexity: O(nlogn).\n",
    "\n",
    "The idea is to sort the array and choose k continuous integers. \n",
    "\n",
    "Why continuous? \n",
    "    let the chosen k integers be arr[0], arr[1],,..arr[r], arr[r+x]…, arr[k-1], \n",
    "    all in increasing order but not continuous in the sorted array. \n",
    "    \n",
    "This means there exists an integer p which lies between arr[r] and arr[r+x],. \n",
    "So if p is included and arr[0] is removed, \n",
    "    then the new difference will be arr[r] – arr[1] whereas old difference was arr[r] – arr[0]. \n",
    "\n",
    "And we know arr[0] <= arr[1] <= ..<= arr[k-1] \n",
    "    so minimum difference reduces or remain same. \n",
    "\n",
    "If we perform same procedure for other p like number, \n",
    "    we get the minimum difference.\n",
    "*/"
   ]
  },
  {
   "cell_type": "code",
   "execution_count": 78,
   "metadata": {},
   "outputs": [],
   "source": [
    "/*\n",
    "Algorithm to solve the problem:\n",
    "\n",
    "1. Sort the Array.\n",
    "2. Calculate the maximum(k numbers) – minimum(k numbers) for each group of k consecutive integers.\n",
    "3. Return minimum of all values obtained in step 2.\n",
    "*/"
   ]
  },
  {
   "cell_type": "code",
   "execution_count": 79,
   "metadata": {},
   "outputs": [],
   "source": [
    "// Return minimum difference of  \n",
    "// maximum and minimum of k  \n",
    "// elements of arr[0..n-1]. \n",
    "static int minDiff(int arr[], int n, int k) { \n",
    "    int result = Integer.MAX_VALUE; \n",
    "  \n",
    "    // Sorting the array. \n",
    "    Arrays.sort(arr); \n",
    "  \n",
    "    // Find minimum value among  \n",
    "    // all K size subarray. \n",
    "    for (int i = 0; i <= n - k; i++) \n",
    "    result = Math.min(result, arr[i + k - 1] - arr[i]); \n",
    "  \n",
    "    return result; \n",
    "} "
   ]
  },
  {
   "cell_type": "code",
   "execution_count": 80,
   "metadata": {},
   "outputs": [
    {
     "name": "stdout",
     "output_type": "stream",
     "text": [
      "20\n"
     ]
    }
   ],
   "source": [
    "// Driver code \n",
    "public static void main(String[] args) { \n",
    "    int arr[] = {10, 100, 300, 200, 1000, 20, 30}; \n",
    "    int n = arr.length; \n",
    "    int k = 3; \n",
    "  \n",
    "    System.out.println(minDiff(arr, n, k)); \n",
    "} \n",
    "main(args);"
   ]
  },
  {
   "cell_type": "markdown",
   "metadata": {},
   "source": [
    "## **402. Find k closest elements to a given value**\n",
    "https://www.geeksforgeeks.org/find-k-closest-elements-given-value/"
   ]
  },
  {
   "cell_type": "code",
   "execution_count": 81,
   "metadata": {},
   "outputs": [],
   "source": [
    "/*\n",
    "Given a sorted array arr[] and a value X, find the k closest elements to X in arr[].\n",
    "\n",
    "Note that if the element is present in array, \n",
    "    then it should not be in output, only the other closest elements are required\n",
    "*/"
   ]
  },
  {
   "cell_type": "code",
   "execution_count": 82,
   "metadata": {},
   "outputs": [],
   "source": [
    "/*\n",
    "Examples:\n",
    "\n",
    "Input: K = 4, X = 35\n",
    "       arr[] = {12, 16, 22, 30, 35, 39, 42, \n",
    "               45, 48, 50, 53, 55, 56}\n",
    "Output: 30 39 42 45\n",
    "*/"
   ]
  },
  {
   "cell_type": "code",
   "execution_count": 83,
   "metadata": {},
   "outputs": [],
   "source": [
    "/*\n",
    "A simple solution is to do linear search for k closest elements.\n",
    "1) Start from the first element and search for the crossover point \n",
    "  (The point before which elements are smaller than or equal to X and after which elements are greater). \n",
    "  This step takes O(n) time.\n",
    "2) Once we find the crossover point, \n",
    "  we can compare elements on both sides of crossover point to print k closest elements. \n",
    "  This step takes O(k) time.\n",
    "\n",
    "The time complexity of the above solution is O(n).\n",
    "*/"
   ]
  },
  {
   "cell_type": "code",
   "execution_count": 84,
   "metadata": {},
   "outputs": [],
   "source": [
    "/*\n",
    "An Optimized Solution is to find k elements in O(Logn + k) time. \n",
    "\n",
    "The idea is to use Binary Search to find the crossover point. \n",
    "Once we find index of crossover point, we can print k closest elements in O(k) time.\n",
    "*/"
   ]
  },
  {
   "cell_type": "code",
   "execution_count": 85,
   "metadata": {},
   "outputs": [],
   "source": [
    "/* Function to find the cross over point (the point before \n",
    "   which elements are smaller than or equal to x and after \n",
    "   which greater than x)*/\n",
    "int findCrossOver(int arr[], int low, int high, int x) \n",
    "{ \n",
    "    // Base cases \n",
    "    if (arr[high] <= x) // x is greater than all \n",
    "        return high; \n",
    "    if (arr[low] > x)  // x is smaller than all \n",
    "        return low; \n",
    "\n",
    "    // Find the middle point \n",
    "    int mid = (low + high)/2;  /* low + (high - low)/2 */\n",
    "\n",
    "    /* If x is same as middle element, then return mid */\n",
    "    if (arr[mid] <= x && arr[mid+1] > x) \n",
    "        return mid; \n",
    "\n",
    "    /* If x is greater than arr[mid], then either arr[mid + 1] \n",
    "      is ceiling of x or ceiling lies in arr[mid+1...high] */\n",
    "    if(arr[mid] < x) \n",
    "        return findCrossOver(arr, mid+1, high, x); \n",
    "\n",
    "    return findCrossOver(arr, low, mid - 1, x); \n",
    "} \n",
    "\n",
    "// This function prints k closest elements to x in arr[]. \n",
    "// n is the number of elements in arr[] \n",
    "void printKclosest(int arr[], int x, int k, int n) \n",
    "{ \n",
    "    // Find the crossover point \n",
    "    int l = findCrossOver(arr, 0, n-1, x);  \n",
    "    int r = l+1;   // Right index to search \n",
    "    int count = 0; // To keep track of count of elements \n",
    "                   // already printed \n",
    "\n",
    "    // If x is present in arr[], then reduce left index \n",
    "    // Assumption: all elements in arr[] are distinct \n",
    "    if (arr[l] == x) l--; \n",
    "\n",
    "    // Compare elements on left and right of crossover \n",
    "    // point to find the k closest elements \n",
    "    while (l >= 0 && r < n && count < k) \n",
    "    { \n",
    "        if (x - arr[l] < arr[r] - x) \n",
    "            System.out.print(arr[l--]+\" \"); \n",
    "        else\n",
    "            System.out.print(arr[r++]+\" \"); \n",
    "        count++; \n",
    "    } \n",
    "\n",
    "    // If there are no more elements on right side, then \n",
    "    // print left elements \n",
    "    while (count < k && l >= 0) \n",
    "    { \n",
    "        System.out.print(arr[l--]+\" \"); \n",
    "        count++; \n",
    "    } \n",
    "\n",
    "\n",
    "    // If there are no more elements on left side, then \n",
    "    // print right elements \n",
    "    while (count < k && r < n) \n",
    "    { \n",
    "        System.out.print(arr[r++]+\" \"); \n",
    "        count++; \n",
    "    } \n",
    "} "
   ]
  },
  {
   "cell_type": "code",
   "execution_count": 86,
   "metadata": {},
   "outputs": [
    {
     "name": "stdout",
     "output_type": "stream",
     "text": [
      "39 30 42 45 "
     ]
    }
   ],
   "source": [
    "/* Driver program to check above functions */\n",
    "public static void main(String args[]) \n",
    "{ \n",
    "    int arr[] = {12, 16, 22, 30, 35, 39, 42, \n",
    "                 45, 48, 50, 53, 55, 56\n",
    "                }; \n",
    "    int n = arr.length; \n",
    "    int x = 35, k = 4; \n",
    "    printKclosest(arr, x, 4, n); \n",
    "} \n",
    "main(args);"
   ]
  },
  {
   "cell_type": "markdown",
   "metadata": {},
   "source": [
    "## **403. Tournament Tree (Winner Tree) and Binary Heap**\n",
    "https://www.geeksforgeeks.org/tournament-tree-and-binary-heap/"
   ]
  },
  {
   "cell_type": "code",
   "execution_count": 87,
   "metadata": {},
   "outputs": [],
   "source": [
    "/*\n",
    "View Question Link for Better Understanding\n",
    "*/"
   ]
  },
  {
   "cell_type": "markdown",
   "metadata": {},
   "source": [
    "## **404. Connect n ropes with minimum cost**\n",
    "https://www.geeksforgeeks.org/connect-n-ropes-minimum-cost/"
   ]
  },
  {
   "cell_type": "code",
   "execution_count": 88,
   "metadata": {},
   "outputs": [],
   "source": [
    "/*\n",
    "There are given n ropes of different lengths, \n",
    "we need to connect these ropes into one rope. \n",
    "The cost to connect two ropes is equal to sum of their lengths. \n",
    "We need to connect the ropes with minimum cost.\n",
    "*/"
   ]
  },
  {
   "cell_type": "code",
   "execution_count": 89,
   "metadata": {},
   "outputs": [],
   "source": [
    "/*\n",
    "For example if we are given 4 ropes of lengths 4, 3, 2 and 6. We can connect the ropes in following ways.\n",
    "\n",
    "1) First connect ropes of lengths 2 and 3. Now we have three ropes of lengths 4, 6 and 5.\n",
    "2) Now connect ropes of lengths 4 and 5. Now we have two ropes of lengths 6 and 9.\n",
    "3) Finally connect the two ropes and all ropes have connected.\n",
    "\n",
    "Total cost for connecting all ropes is 5 + 9 + 15 = 29. \n",
    "This is the optimized cost for connecting ropes. \n",
    "Other ways of connecting ropes would always have same or more cost. \n",
    "\n",
    "For example, \n",
    "    if we connect 4 and 6 first (we get three strings of 3, 2 and 10), \n",
    "            then connect 10 and 3 (we get two strings of 13 and 2). \n",
    "    Finally we connect 13 and 2. \n",
    "    Total cost in this way is 10 + 13 + 15 = 38.\n",
    "*/"
   ]
  },
  {
   "cell_type": "code",
   "execution_count": 90,
   "metadata": {},
   "outputs": [],
   "source": [
    "/*\n",
    "A simple implementation with STL in JAVA\n",
    "Following is a simple implementation that uses priority_queue available in STL. \n",
    "*/"
   ]
  },
  {
   "cell_type": "code",
   "execution_count": 91,
   "metadata": {},
   "outputs": [
    {
     "name": "stdout",
     "output_type": "stream",
     "text": [
      "Total cost for connecting ropes is 29\n"
     ]
    }
   ],
   "source": [
    "static int minCost(int arr[], int n) \n",
    "{ \n",
    "    // Create a priority queue \n",
    "    PriorityQueue<Integer> pq = new PriorityQueue<Integer>(); \n",
    "\n",
    "    // Adding items to the pQueue \n",
    "    for (int i = 0; i < n; i++) { \n",
    "        pq.add(arr[i]); \n",
    "    } \n",
    "\n",
    "    // Initialize result \n",
    "    int res = 0; \n",
    "\n",
    "    // While size of priority queue \n",
    "    // is more than 1 \n",
    "    while (pq.size() > 1) { \n",
    "        // Extract shortest two ropes from pq \n",
    "        int first = pq.poll(); \n",
    "        int second = pq.poll(); \n",
    "\n",
    "        // Connect the ropes: update result \n",
    "        // and insert the new rope to pq \n",
    "        res += first + second; \n",
    "        pq.add(first + second); \n",
    "    } \n",
    "\n",
    "    return res; \n",
    "} \n",
    "\n",
    "// Driver program to test above function \n",
    "public static void main(String args[]) \n",
    "{ \n",
    "    int len[] = { 4, 3, 2, 6 }; \n",
    "    int size = len.length; \n",
    "    System.out.println(\"Total cost for connecting\"\n",
    "                       + \" ropes is \" + minCost(len, size)); \n",
    "} \n",
    "main(args);"
   ]
  },
  {
   "cell_type": "code",
   "execution_count": 92,
   "metadata": {},
   "outputs": [],
   "source": [
    "/*\n",
    "For Other Method View Quesion Link\n",
    "*/"
   ]
  },
  {
   "cell_type": "code",
   "execution_count": null,
   "metadata": {},
   "outputs": [],
   "source": []
  },
  {
   "cell_type": "markdown",
   "metadata": {},
   "source": [
    "## **405. Design an efficient data structure for given operations**\n",
    "https://www.geeksforgeeks.org/a-data-structure-question/"
   ]
  },
  {
   "cell_type": "code",
   "execution_count": 93,
   "metadata": {},
   "outputs": [],
   "source": [
    "/*\n",
    "Design a Data Structure for the following operations. \n",
    "The data structure should be efficient enough to accommodate the operations according to their frequency.\n",
    "*/"
   ]
  },
  {
   "cell_type": "code",
   "execution_count": 94,
   "metadata": {},
   "outputs": [],
   "source": [
    "/*\n",
    "1) findMin() : Returns the minimum item.\n",
    "   Frequency: Most frequent\n",
    "\n",
    "2) findMax() : Returns the maximum item.\n",
    "    Frequency: Most frequent\n",
    "\n",
    "3) deleteMin() : Delete the minimum item.\n",
    "    Frequency: Moderate frequent \n",
    "\n",
    "4) deleteMax() : Delete the maximum item.\n",
    "    Frequency: Moderate frequent \n",
    "\n",
    "5) Insert() : Inserts an item.\n",
    "    Frequency: Least frequent\n",
    "\n",
    "6) Delete() : Deletes an item.\n",
    "    Frequency: Least frequent. \n",
    "*/"
   ]
  },
  {
   "cell_type": "code",
   "execution_count": 95,
   "metadata": {},
   "outputs": [],
   "source": [
    "/*\n",
    "A simple solution \n",
    "    is to maintain a sorted array where smallest element is at first position and largest element is at last. \n",
    "    \n",
    "    The time complexity of findMin(), findMAx() and deleteMax() is O(1). \n",
    "    But time complexities of deleteMin(), insert() and delete() will be O(n).\n",
    "*/"
   ]
  },
  {
   "cell_type": "code",
   "execution_count": 96,
   "metadata": {},
   "outputs": [],
   "source": [
    "/*\n",
    "Can we do the most frequent two operations in O(1) and other operations in O(Logn) time?.\n",
    "\n",
    "The idea is to use two binary heaps (one max and one min heap). \n",
    "The main challenge is,\n",
    "    while deleting an item, we need to delete from both min-heap and max-heap. \n",
    "    So, we need some kind of mutual data structure. \n",
    "    \n",
    "    In the following design, \n",
    "        we have used doubly linked list as a mutual data structure.\n",
    "    The doubly linked list contains all input items and indexes of corresponding min and max heap nodes. \n",
    "    The nodes of min and max heaps store addresses of nodes of doubly linked list.\n",
    "    The root node of min heap stores the address of minimum item in doubly linked list. \n",
    "    Similarly, \n",
    "    root of max heap stores address of maximum item in doubly linked list. \n",
    "    \n",
    "Following are the details of operations.\n",
    "*/"
   ]
  },
  {
   "cell_type": "code",
   "execution_count": 97,
   "metadata": {},
   "outputs": [],
   "source": [
    "/*\n",
    "1) findMax(): We get the address of maximum value node from root of Max Heap. \n",
    "        So this is a O(1) operation.\n",
    "\n",
    "1) findMin(): We get the address of minimum value node from root of Min Heap. \n",
    "        So this is a O(1) operation.\n",
    "\n",
    "3) deleteMin(): We get the address of minimum value node from root of Min Heap.\n",
    "                We use this address to find the node in doubly linked list. \n",
    "                From the doubly linked list, we get node of Max Heap. \n",
    "                We delete node from all three. \n",
    "        We can delete a node from doubly linked list in O(1) time. \n",
    "        delete() operations for max and min heaps take O(Logn) time.\n",
    "\n",
    "4) deleteMax(): is similar to deleteMin()\n",
    "\n",
    "5) Insert() We always insert at the beginning of linked list in O(1) time. \n",
    "        Inserting the address in Max and Min Heaps take O(Logn) time. \n",
    "        So overall complexity is O(Logn)\n",
    "\n",
    "6) Delete() We first search the item in Linked List. \n",
    "        Once the item is found in O(n) time, we delete it from linked list. \n",
    "        Then using the indexes stored in linked list, we delete it from Min Heap and Max Heaps in O(Logn) time. \n",
    "*/"
   ]
  },
  {
   "cell_type": "code",
   "execution_count": 98,
   "metadata": {},
   "outputs": [],
   "source": [
    "/*\n",
    "So overall complexity of this operation is O(n).\n",
    "\n",
    "The Delete operation can be optimized to O(Logn) \n",
    "    by using a balanced binary search tree instead of doubly linked list as a mutual data structure. \n",
    "    Use of balanced binary search \n",
    "        will not effect time complexity of other operations \n",
    "        as it will act as a mutual data structure like doubly Linked List.\n",
    "*/"
   ]
  },
  {
   "cell_type": "markdown",
   "metadata": {},
   "source": [
    "<img src = \"https://media.geeksforgeeks.org/wp-content/cdn-uploads/data-structure1.png\"/>"
   ]
  },
  {
   "cell_type": "markdown",
   "metadata": {},
   "source": [
    "***https://ideone.com/nDIRjY***"
   ]
  },
  {
   "cell_type": "markdown",
   "metadata": {},
   "source": [
    "## **406. Cuckoo Hashing – Worst case O(1) Lookup!**\n",
    "https://www.geeksforgeeks.org/cuckoo-hashing/"
   ]
  },
  {
   "cell_type": "code",
   "execution_count": 99,
   "metadata": {},
   "outputs": [],
   "source": [
    "/*\n",
    "Background :\n",
    "\n",
    "There are three basic operations that must be supported by a hash table (or a dictionary):\n",
    "\n",
    "1. Lookup(key): return true if key is there in the table, else false\n",
    "2. Insert(key): adds the item ‘key’ to the table if not already present\n",
    "3. Delete(key): removes ‘key’ from the table\n",
    "*/"
   ]
  },
  {
   "cell_type": "code",
   "execution_count": 100,
   "metadata": {},
   "outputs": [],
   "source": [
    "/*\n",
    "View Question Link for full description\n",
    "*/"
   ]
  },
  {
   "cell_type": "markdown",
   "metadata": {},
   "source": [
    "## **407. Find number of Employees Under every Employee**\n",
    "https://www.geeksforgeeks.org/find-number-of-employees-under-every-manager/"
   ]
  },
  {
   "cell_type": "code",
   "execution_count": 101,
   "metadata": {},
   "outputs": [],
   "source": [
    "/*\n",
    "Given a dictionary that contains mapping of employee and his manager as a number of (employee, manager) pairs like below.\n",
    "{ \"A\", \"C\" },\n",
    "{ \"B\", \"C\" },\n",
    "{ \"C\", \"F\" },\n",
    "{ \"D\", \"E\" },\n",
    "{ \"E\", \"F\" },\n",
    "{ \"F\", \"F\" } \n",
    "\n",
    "In this example \n",
    "C is manager of A, \n",
    "C is also manager of B, \n",
    "F is manager of C \n",
    "and so on.\n",
    "*/"
   ]
  },
  {
   "cell_type": "code",
   "execution_count": 102,
   "metadata": {},
   "outputs": [],
   "source": [
    "/*\n",
    "Write a function to get no of employees under each manager in the hierarchy not just their direct reports. \n",
    "It may be assumed that an employee directly reports to only one manager. \n",
    "In the above dictionary the root node/ceo is listed as reporting to himself.\n",
    "\n",
    "Output should be a Dictionary that contains following.\n",
    "\n",
    "A - 0  \n",
    "B - 0\n",
    "C - 2\n",
    "D - 0\n",
    "E - 1\n",
    "F - 5 \n",
    "*/"
   ]
  },
  {
   "cell_type": "code",
   "execution_count": 103,
   "metadata": {},
   "outputs": [],
   "source": [
    "/*\n",
    "This question might be solved differently but i followed this and found interesting, so sharing:\n",
    "\n",
    " 1. Create a reverse map with Manager->DirectReportingEmployee \n",
    "    combination. Off-course employee will be multiple so Value \n",
    "    in Map is List of Strings.\n",
    "        \"C\" --> \"A\", \"B\",\n",
    "        \"E\" --> \"D\" \n",
    "        \"F\" --> \"C\", \"E\", \"F\"\n",
    "\n",
    " \n",
    "2. Now use the given employee-manager map to iterate  and at \n",
    "   the same time use newly reverse map to find the count of \n",
    "   employees under manager.\n",
    "   \n",
    "   Let the map created in step 2 be 'mngrEmpMap' \n",
    "   Do following for every employee 'emp'.\n",
    "     a) If 'emp' is not present in 'mngrEmpMap' \n",
    "          Count under 'emp' is 0 [Nobody reports to 'emp']\n",
    "     b) If 'emp' is present in 'mngrEmpMap' \n",
    "          Use the list of direct reports from map 'mngrEmpMap'\n",
    "          and recursively calculate number of total employees\n",
    "          under 'emp'. \n",
    "*/"
   ]
  },
  {
   "cell_type": "code",
   "execution_count": 104,
   "metadata": {},
   "outputs": [],
   "source": [
    "/*\n",
    "A trick in step 2.b is to use memorization(Dynamic programming) \n",
    "    while finding number of employees under a manager \n",
    "    so that we don’t need to find number of employees again for any of the employees. \n",
    "\n",
    "In the below code populateResultUtil() \n",
    "    is the recursive function that uses memoization to avoid re-computation of same results.\n",
    "*/"
   ]
  },
  {
   "cell_type": "code",
   "execution_count": 105,
   "metadata": {},
   "outputs": [],
   "source": [
    "// A hashmap to store result. It stores count of employees \n",
    "// under every employee, the count may by 0 also \n",
    "static Map<String,Integer> result = new HashMap<String, Integer>(); "
   ]
  },
  {
   "cell_type": "code",
   "execution_count": 106,
   "metadata": {},
   "outputs": [],
   "source": [
    "// This is a recursive function to fill count for 'mgr' using \n",
    "// mngrEmpMap.  This function uses memoization to avoid re- \n",
    "// computations of subproblems. \n",
    "private static int populateResultUtil(String mngr, \n",
    "                           Map<String, List<String>> mngrEmpMap) \n",
    "{ \n",
    "    int count = 0; \n",
    "\n",
    "    // means employee is not a manager of any other employee \n",
    "    if (!mngrEmpMap.containsKey(mngr)) \n",
    "    { \n",
    "        result.put(mngr, 0); \n",
    "        return 0; \n",
    "    } \n",
    "\n",
    "    // this employee count has already been done by this \n",
    "    // method, so avoid re-computation \n",
    "    else if (result.containsKey(mngr)) \n",
    "        count = result.get(mngr); \n",
    "\n",
    "    else\n",
    "    { \n",
    "        List<String> directReportEmpList = mngrEmpMap.get(mngr); \n",
    "        count = directReportEmpList.size(); \n",
    "        for (String directReportEmp: directReportEmpList) \n",
    "           count +=  populateResultUtil(directReportEmp, mngrEmpMap); \n",
    "\n",
    "        result.put(mngr, count); \n",
    "    } \n",
    "    return count; \n",
    "} "
   ]
  },
  {
   "cell_type": "code",
   "execution_count": 107,
   "metadata": {},
   "outputs": [],
   "source": [
    "// This function populates 'result' for given input 'dataset' \n",
    "private static void populateResult(Map<String, String> dataSet) \n",
    "{ \n",
    "    // To store reverse of original map, each key will have 0 \n",
    "    // to multiple values \n",
    "    Map<String, List<String>> mngrEmpMap = \n",
    "                              new HashMap<String, List<String>>(); \n",
    "\n",
    "    // To fill mngrEmpMap, iterate through the given map \n",
    "    for (Map.Entry<String,String> entry: dataSet.entrySet()) \n",
    "    { \n",
    "        String emp = entry.getKey(); \n",
    "        String mngr = entry.getValue(); \n",
    "        if (!emp.equals(mngr)) // excluding emp-emp entry \n",
    "        { \n",
    "            // Get the previous list of direct reports under \n",
    "            // current 'mgr' and add the current 'emp' to the list \n",
    "            List<String> directReportList = mngrEmpMap.get(mngr); \n",
    "\n",
    "            // If 'emp' is the first employee under 'mgr' \n",
    "            if (directReportList == null) \n",
    "            { \n",
    "                directReportList = new ArrayList<String>(); \n",
    "                // add a new entry for the mngr with empty directReportList \n",
    "                mngrEmpMap.put(mngr, directReportList); \n",
    "            } \n",
    "            directReportList.add(emp); \n",
    "        } \n",
    "    } \n",
    "\n",
    "    // Now use manager-Emp map built above to populate result  \n",
    "    // with use of populateResultUtil() \n",
    "\n",
    "    // note- we are iterating over original emp-manager map and \n",
    "    // will use mngr-emp map in helper to get the count \n",
    "    for (String mngr: dataSet.keySet()) \n",
    "        populateResultUtil(mngr, mngrEmpMap); \n",
    "} "
   ]
  },
  {
   "cell_type": "code",
   "execution_count": 108,
   "metadata": {},
   "outputs": [
    {
     "name": "stdout",
     "output_type": "stream",
     "text": [
      "result = {A=0, B=0, C=2, D=0, E=1, F=5}\n"
     ]
    }
   ],
   "source": [
    "// Driver function \n",
    "public static void main(String[] args) \n",
    "{ \n",
    "    Map<String, String> dataSet = new HashMap<String, String>(); \n",
    "    dataSet.put(\"A\", \"C\"); \n",
    "    dataSet.put(\"B\", \"C\"); \n",
    "    dataSet.put(\"C\", \"F\"); \n",
    "    dataSet.put(\"D\", \"E\"); \n",
    "    dataSet.put(\"E\", \"F\"); \n",
    "    dataSet.put(\"F\", \"F\"); \n",
    "\n",
    "    populateResult(dataSet); \n",
    "    System.out.println(\"result = \" + result); \n",
    "} \n",
    "main(args);"
   ]
  },
  {
   "cell_type": "markdown",
   "metadata": {},
   "source": [
    "## **408. Find Itinerary from a given list of tickets**\n",
    "https://www.geeksforgeeks.org/find-itinerary-from-a-given-list-of-tickets/"
   ]
  },
  {
   "cell_type": "code",
   "execution_count": 109,
   "metadata": {},
   "outputs": [],
   "source": [
    "/*\n",
    "Given a list of tickets, find itinerary in order using the given list.\n",
    "\n",
    "It may be assumed that the input list of tickets is not cyclic \n",
    "and there is one ticket from every city except final destination\n",
    "*/"
   ]
  },
  {
   "cell_type": "code",
   "execution_count": 110,
   "metadata": {},
   "outputs": [],
   "source": [
    "/*\n",
    "One Solution is to build a graph and do Topological Sorting of the graph. \n",
    "Time complexity of this solution is O(n).\n",
    "*/"
   ]
  },
  {
   "cell_type": "markdown",
   "metadata": {},
   "source": [
    "**Topological Sorting :**  ***https://www.geeksforgeeks.org/topological-sorting/***"
   ]
  },
  {
   "cell_type": "code",
   "execution_count": 111,
   "metadata": {},
   "outputs": [],
   "source": [
    "/*\n",
    "We can also use hashing to avoid building a graph. \n",
    "The idea is to first find the starting point. \n",
    "A starting point would never be on ‘to’ side of a ticket. \n",
    "Once we find the starting point, \n",
    "    we can simply traverse the given map to print itinerary in order. \n",
    "    \n",
    "Following are steps.\n",
    "\n",
    "1) Create a HashMap of given pair of tickets.  Let the created \n",
    "   HashMap be 'dataset'. Every entry of 'dataset' is of the form \n",
    "   \"from->to\" like \"Chennai\" -> \"Banglore\"\n",
    "\n",
    "2) Find the starting point of itinerary.\n",
    "     a) Create a reverse HashMap.  Let the reverse be 'reverseMap'\n",
    "        Entries of 'reverseMap' are of the form \"to->form\". \n",
    "        Following is 'reverseMap' for above example.\n",
    "        \"Banglore\"-> \"Chennai\" \n",
    "        \"Delhi\"   -> \"Bombay\" \n",
    "        \"Chennai\" -> \"Goa\"\n",
    "        \"Goa\"     ->  \"Delhi\"\n",
    " \n",
    "     b) Traverse 'dataset'.  For every key of dataset, check if it\n",
    "        is there in 'reverseMap'.  If a key is not present, then we \n",
    "        found the starting point. In the above example, \"Bombay\" is\n",
    "        starting point.\n",
    "\n",
    "3) Start from above found starting point and traverse the 'dataset' \n",
    "   to print itinerary.\n",
    "\n",
    "All of the above steps require O(n) time so \n",
    "\n",
    "overall time complexity is O(n).\n",
    "*/"
   ]
  },
  {
   "cell_type": "code",
   "execution_count": 112,
   "metadata": {},
   "outputs": [],
   "source": [
    "// This function populates 'result' for given input 'dataset' \n",
    "private static void printResult(Map<String, String> dataSet) \n",
    "{ \n",
    "    // To store reverse of given map \n",
    "    Map<String, String> reverseMap = new HashMap<String, String>(); \n",
    "\n",
    "    // To fill reverse map, iterate through the given map \n",
    "    for (Map.Entry<String,String> entry: dataSet.entrySet()) \n",
    "        reverseMap.put(entry.getValue(), entry.getKey()); \n",
    "\n",
    "    // Find the starting point of itinerary \n",
    "    String start = null; \n",
    "    for (Map.Entry<String,String> entry: dataSet.entrySet()) \n",
    "    { \n",
    "          if (!reverseMap.containsKey(entry.getKey())) \n",
    "          { \n",
    "               start = entry.getKey(); \n",
    "               break; \n",
    "          } \n",
    "    } \n",
    "\n",
    "    // If we could not find a starting point, then something wrong \n",
    "    // with input \n",
    "    if (start == null) \n",
    "    { \n",
    "       System.out.println(\"Invalid Input\"); \n",
    "       return; \n",
    "    } \n",
    "\n",
    "    // Once we have starting point, we simple need to go next, next \n",
    "    // of next using given hash map \n",
    "    String to = dataSet.get(start); \n",
    "    while (to != null) \n",
    "    { \n",
    "        System.out.print(start +  \"->\" + to + \", \"); \n",
    "        start = to; \n",
    "        to = dataSet.get(to); \n",
    "    } \n",
    "} "
   ]
  },
  {
   "cell_type": "code",
   "execution_count": 113,
   "metadata": {},
   "outputs": [
    {
     "name": "stdout",
     "output_type": "stream",
     "text": [
      "Bombay->Delhi, Delhi->Goa, Goa->Chennai, Chennai->Banglore, "
     ]
    }
   ],
   "source": [
    "// Driver function \n",
    "public static void main(String[] args) \n",
    "{ \n",
    "    Map<String, String> dataSet = new HashMap<String, String>(); \n",
    "    dataSet.put(\"Chennai\", \"Banglore\"); \n",
    "    dataSet.put(\"Bombay\", \"Delhi\"); \n",
    "    dataSet.put(\"Goa\", \"Chennai\"); \n",
    "    dataSet.put(\"Delhi\", \"Goa\"); \n",
    "\n",
    "    printResult(dataSet); \n",
    "} \n",
    "main(args);"
   ]
  },
  {
   "cell_type": "markdown",
   "metadata": {},
   "source": [
    "## **409. Check if an array can be divided into pairs whose sum is divisible by k**\n",
    "https://www.geeksforgeeks.org/check-if-an-array-can-be-divided-into-pairs-whose-sum-is-divisible-by-k/"
   ]
  },
  {
   "cell_type": "code",
   "execution_count": 114,
   "metadata": {},
   "outputs": [],
   "source": [
    "/*\n",
    "Given an array of integers and a number k, \n",
    "write a function that returns true \n",
    "    if given array can be divided into pairs such that sum of every pair is divisible by k.\n",
    "*/"
   ]
  },
  {
   "cell_type": "code",
   "execution_count": 115,
   "metadata": {},
   "outputs": [],
   "source": [
    "/*\n",
    "Examples:\n",
    "\n",
    "Input: arr[] = {9, 7, 5, 3},\n",
    "k = 6\n",
    "Output: True\n",
    "We can divide array into (9, 3) and\n",
    "(7, 5). Sum of both of these pairs\n",
    "is a multiple of 6.\n",
    "\n",
    "Input: arr[] = {92, 75, 65, 48, 45, 35},\n",
    "k = 10\n",
    "Output: True\n",
    "We can divide array into (92, 48), (75, 65)\n",
    "and (45, 35). Sum of all these pairs is a\n",
    "multiple of 10.\n",
    "\n",
    "Input: arr[] = {91, 74, 66, 48}, k = 10\n",
    "Output: False\n",
    "*/"
   ]
  },
  {
   "cell_type": "code",
   "execution_count": 116,
   "metadata": {},
   "outputs": [],
   "source": [
    "/*\n",
    "A Simple Solution is to iterate through every element arr[i]. \n",
    "Find if there is another not yet visited element that has remainder as (k – arr[i]%k). \n",
    "If there is no such element, \n",
    "    return false. \n",
    "If a pair is found, \n",
    "    then mark both elements as visited.\n",
    "\n",
    "Time complexity of this solution is O(n^2) and it requires O(n) extra space.\n",
    "*/"
   ]
  },
  {
   "cell_type": "code",
   "execution_count": 117,
   "metadata": {},
   "outputs": [],
   "source": [
    "/*\n",
    "An Efficient Solution is to use Hashing.\n",
    "\n",
    "1) If length of given array is odd, return false. \n",
    "    An odd length array cannot be divided into pairs.\n",
    "2) Traverse input array and count occurrences of \n",
    "    all reminders. \n",
    "      freq[arr[i] % k]++\n",
    "3) Traverse input array again. \n",
    "   a) Find the remainder of the current element.\n",
    "   b) If remainder divides k into two halves, then\n",
    "      there must be even occurrences of it as it \n",
    "      forms pair with itself only.\n",
    "   c) If the remainder is 0, then there must be \n",
    "      even occurrences.\n",
    "   c) Else, number of occurrences of current \n",
    "      the remainder must be equal to a number of \n",
    "      occurrences of \"k - current remainder\".\n",
    "*/"
   ]
  },
  {
   "cell_type": "code",
   "execution_count": 118,
   "metadata": {},
   "outputs": [],
   "source": [
    "/*\n",
    "An efficient approach is to use a map in C++ STL.\n",
    "The map is typically implemented using Red-Black Tree and takes O(Log n) time for access.\n",
    "Therefore time complexity of below implementation is O(n Log n),\n",
    "but the algorithm can be easily implemented in O(n) time using a hash table.\n",
    "*/"
   ]
  },
  {
   "cell_type": "markdown",
   "metadata": {},
   "source": [
    "<img src = \"https://media.geeksforgeeks.org/wp-content/cdn-uploads/20190702121044/ArrayPairSumDivisibility-768x970.png\"/>"
   ]
  },
  {
   "cell_type": "code",
   "execution_count": 119,
   "metadata": {},
   "outputs": [],
   "source": [
    "// Returns true if arr[0..n-1] can be divided into pairs \n",
    "// with sum divisible by k. \n",
    "static boolean canPairs(int ar[], int k)  \n",
    "{ \n",
    "    // An odd length array cannot be divided into pairs \n",
    "    if (ar.length % 2 == 1) \n",
    "        return false; \n",
    "\n",
    "    // Create a frequency array to count occurrences \n",
    "    // of all remainders when divided by k. \n",
    "    HashMap<Integer, Integer> hm = new HashMap<>(); \n",
    "\n",
    "    // Count occurrences of all remainders \n",
    "    for (int i = 0; i < ar.length; i++)  \n",
    "    { \n",
    "        int rem = ar[i] % k; \n",
    "        if (!hm.containsKey(rem))  \n",
    "        { \n",
    "            hm.put(rem, 0); \n",
    "        } \n",
    "        hm.put(rem, hm.get(rem) + 1); \n",
    "    } \n",
    "\n",
    "    // Traverse input array and use freq[] to decide \n",
    "    // if given array can be divided in pairs \n",
    "    for (int i = 0; i < ar.length; i++)  \n",
    "    { \n",
    "         // Remainder of current element \n",
    "        int rem = ar[i] % k; \n",
    "\n",
    "        // If remainder with current element divides \n",
    "        // k into two halves. \n",
    "        if (2 * rem == k)  \n",
    "        { \n",
    "            // Then there must be even occurrences of \n",
    "            // such remainder \n",
    "            if (hm.get(rem) % 2 == 1) \n",
    "                return false; \n",
    "        }  \n",
    "\n",
    "        // If remainder is 0, then there must be two  \n",
    "        // elements with 0 remainder \n",
    "        else if (rem == 0)  \n",
    "        { \n",
    "            // Then there must be even occurrences of \n",
    "            // such remainder \n",
    "            if (hm.get(rem) % 2 == 1) \n",
    "                return false; \n",
    "        } \n",
    "\n",
    "        // Else number of occurrences of remainder \n",
    "        // must be equal to number of occurrences of \n",
    "        // k - remainder \n",
    "        else \n",
    "        { \n",
    "            if (hm.get(k - rem) != hm.get(rem)) \n",
    "                return false; \n",
    "        } \n",
    "    } \n",
    "    return true; \n",
    "}"
   ]
  },
  {
   "cell_type": "code",
   "execution_count": 120,
   "metadata": {},
   "outputs": [
    {
     "name": "stdout",
     "output_type": "stream",
     "text": [
      "True\n"
     ]
    }
   ],
   "source": [
    "// Driver program to test above functions \n",
    "public static void main(String[] args)  \n",
    "{ \n",
    "    int arr[] = { 92, 75, 65, 48, 45, 35 }; \n",
    "    int k = 10; \n",
    "    boolean ans = canPairs(arr, k); \n",
    "    if (ans) \n",
    "        System.out.println(\"True\"); \n",
    "    else\n",
    "        System.out.println(\"False\"); \n",
    "\n",
    "} \n",
    "main(args);"
   ]
  },
  {
   "cell_type": "markdown",
   "metadata": {},
   "source": [
    "## **410. Find the length of largest subarray with 0 sum**\n",
    "https://www.geeksforgeeks.org/find-the-largest-subarray-with-0-sum/"
   ]
  },
  {
   "cell_type": "code",
   "execution_count": 121,
   "metadata": {},
   "outputs": [],
   "source": [
    "/*\n",
    "Given an array of integers, find the length of the longest sub-array with sum equals to 0.\n",
    "*/"
   ]
  },
  {
   "cell_type": "code",
   "execution_count": 122,
   "metadata": {},
   "outputs": [],
   "source": [
    "/*\n",
    "Examples :\n",
    "\n",
    "Input: arr[] = {15, -2, 2, -8, 1, 7, 10, 23};\n",
    "Output: 5\n",
    "Explanation: The longest sub-array with \n",
    "elements summing up-to 0 is {-2, 2, -8, 1, 7}\n",
    "\n",
    "Input: arr[] = {1, 2, 3}\n",
    "Output: 0\n",
    "Explanation:There is no subarray with 0 sum\n",
    "\n",
    "Input:  arr[] = {1, 0, 3}\n",
    "Output:  1\n",
    "Explanation: The longest sub-array with \n",
    "elements summing up-to 0 is {0}\n",
    "*/"
   ]
  },
  {
   "cell_type": "code",
   "execution_count": 123,
   "metadata": {},
   "outputs": [],
   "source": [
    "/*\n",
    "Naive Approach: \n",
    "This involves the use of brute force where two nested loops are used. \n",
    "The outer loop is used to fix the starting position of the sub array, and\n",
    "the inner loop is used for the ending position of the sub-array \n",
    "    and if the sum of elements is equal to zero then increase the count.\n",
    "\n",
    "Algorithm:\n",
    "1. Consider all sub-arrays one by one and check the sum of every sub-array.\n",
    "2. Run two loops: \n",
    "        the outer loop picks the starting point i and \n",
    "        the inner loop tries all sub-arrays starting from i.\n",
    "        \n",
    "Complexity Analysis:\n",
    "Time Complexity: O(n^2) due to the use of nested loops.\n",
    "Space complexity: O(1) as no extra space is used.\n",
    "*/"
   ]
  },
  {
   "cell_type": "code",
   "execution_count": 124,
   "metadata": {},
   "outputs": [],
   "source": [
    "// Returns length of the largest subarray \n",
    "// with 0 sum \n",
    "static int maxLen(int arr[], int n) \n",
    "{ \n",
    "    int max_len = 0; \n",
    "\n",
    "    // Pick a starting point \n",
    "    for (int i = 0; i < n; i++) { \n",
    "        // Initialize curr_sum for every \n",
    "        // starting point \n",
    "        int curr_sum = 0; \n",
    "\n",
    "        // try all subarrays starting with 'i' \n",
    "        for (int j = i; j < n; j++) { \n",
    "            curr_sum += arr[j]; \n",
    "\n",
    "            // If curr_sum becomes 0, then update \n",
    "            // max_len \n",
    "            if (curr_sum == 0) \n",
    "                max_len = Math.max(max_len, j - i + 1); \n",
    "        } \n",
    "    } \n",
    "    return max_len; \n",
    "} "
   ]
  },
  {
   "cell_type": "code",
   "execution_count": 125,
   "metadata": {},
   "outputs": [
    {
     "name": "stdout",
     "output_type": "stream",
     "text": [
      "Length of the longest 0 sum subarray is 5\n"
     ]
    }
   ],
   "source": [
    "public static void main(String args[]) \n",
    "{ \n",
    "    int arr[] = { 15, -2, 2, -8, 1, 7, 10, 23 }; \n",
    "    int n = arr.length; \n",
    "    System.out.println(\"Length of the longest 0 sum \"\n",
    "                       + \"subarray is \" + maxLen(arr, n)); \n",
    "} \n",
    "main(args);"
   ]
  },
  {
   "cell_type": "code",
   "execution_count": 126,
   "metadata": {},
   "outputs": [],
   "source": [
    "/*\n",
    "Efficient Approach: \n",
    "\n",
    "The brute force solution is calculating the sum of each and every sub-array \n",
    "    and checking whether the sum is zero or not. \n",
    "Let’s now try to improve the time complexity by taking an extra space of ‘n’ length. \n",
    "The new array will store the sum of all the elements up to that index. \n",
    "The sum-index pair will be stored in a hash-map.\n",
    "A Hash map allows insertion and deletion of key-value pair in constant time.\n",
    "\n",
    "Therefore, the time complexity remains unaffected.\n",
    "\n",
    "So, if the same value appears twice in the array, \n",
    "    it will be guaranteed that the particular array will be a zero-sum sub-array.\n",
    "*/"
   ]
  },
  {
   "cell_type": "code",
   "execution_count": 127,
   "metadata": {},
   "outputs": [],
   "source": [
    "/*\n",
    "Mathematical Proof:\n",
    "\n",
    "prefix(i) = arr[0] + arr[1] +…+ arr[i]\n",
    "prefix(j) = arr[0] + arr[1] +…+ arr[j], j>i\n",
    "if prefix(i) == prefix(j) then prefix(j) – prefix(i) = 0 that means \n",
    "    arr[i+1] + .. + arr[j] = 0, So a sub-array has zero sum , \n",
    "    and the length of that sub-array is j-i+1\n",
    "*/"
   ]
  },
  {
   "cell_type": "code",
   "execution_count": 128,
   "metadata": {},
   "outputs": [],
   "source": [
    "/*\n",
    "Algorithm:\n",
    "1. Create a extra space, \n",
    "    an array of length n (prefix), a variable (sum) , length (max_len) \n",
    "    and a hash map (hm) to store sum-index pair as a key-value pair\n",
    "2. Move along the input array from starting to the end\n",
    "3. For every index update the value of sum = sum + array[i]\n",
    "4. Check for every index, if the current sum is present in the hash map or not\n",
    "5. If present \n",
    "        update the value of max_len to maximum of difference of two indices \n",
    "        (current index and index in the hash-map) and max_len\n",
    "6. Else \n",
    "        Put the value (sum) in the hash map, with the index as a key-value pair.\n",
    "7. Print the maximum length (max_len)\n",
    "\n",
    "Complexity Analysis:\n",
    "Time Complexity: O(n), as use of good hashing function will allow insertion and retrieval operations in O(1) time.\n",
    "Space Complexity: O(n), for the use of extra space to store the prefix array and hashmap.\n",
    "*/"
   ]
  },
  {
   "cell_type": "markdown",
   "metadata": {},
   "source": [
    "<img src = \"https://media.geeksforgeeks.org/wp-content/cdn-uploads/20190702111822/LenghtOfLargestSubarrayWithOSum.png\"/>"
   ]
  },
  {
   "cell_type": "code",
   "execution_count": 129,
   "metadata": {},
   "outputs": [],
   "source": [
    "// Returns length of the maximum length subarray with 0 sum \n",
    "static int maxLen(int arr[]) \n",
    "{ \n",
    "    // Creates an empty hashMap hM \n",
    "    HashMap<Integer, Integer> hM = new HashMap<Integer, Integer>(); \n",
    "\n",
    "    int sum = 0; // Initialize sum of elements \n",
    "    int max_len = 0; // Initialize result \n",
    "\n",
    "    // Traverse through the given array \n",
    "    for (int i = 0; i < arr.length; i++) { \n",
    "        // Add current element to sum \n",
    "        sum += arr[i]; \n",
    "\n",
    "        if (arr[i] == 0 && max_len == 0) \n",
    "            max_len = 1; \n",
    "\n",
    "        if (sum == 0) \n",
    "            max_len = i + 1; \n",
    "\n",
    "        // Look this sum in hash table \n",
    "        Integer prev_i = hM.get(sum); \n",
    "\n",
    "        // If this sum is seen before, then update max_len \n",
    "        // if required \n",
    "        if (prev_i != null) \n",
    "            max_len = Math.max(max_len, i - prev_i); \n",
    "        else // Else put this sum in hash table \n",
    "            hM.put(sum, i); \n",
    "    } \n",
    "\n",
    "    return max_len; \n",
    "} "
   ]
  },
  {
   "cell_type": "code",
   "execution_count": 130,
   "metadata": {},
   "outputs": [
    {
     "name": "stdout",
     "output_type": "stream",
     "text": [
      "Length of the longest 0 sum subarray is 5\n"
     ]
    }
   ],
   "source": [
    "// Drive method \n",
    "public static void main(String arg[]) \n",
    "{ \n",
    "    int arr[] = { 15, -2, 2, -8, 1, 7, 10, 23 }; \n",
    "    System.out.println(\"Length of the longest 0 sum subarray is \"\n",
    "                       + maxLen(arr)); \n",
    "} \n",
    "main(args);"
   ]
  },
  {
   "cell_type": "markdown",
   "metadata": {},
   "source": [
    "## **411. Count distinct elements in every window of size k**\n",
    "https://www.geeksforgeeks.org/count-distinct-elements-in-every-window-of-size-k/"
   ]
  },
  {
   "cell_type": "code",
   "execution_count": 131,
   "metadata": {},
   "outputs": [],
   "source": [
    "/*\n",
    "Given an array of size n and an integer k, return the count of distinct numbers in all windows of size k.\n",
    "*/"
   ]
  },
  {
   "cell_type": "code",
   "execution_count": 132,
   "metadata": {},
   "outputs": [],
   "source": [
    "/*\n",
    "Example:\n",
    "\n",
    "Input: arr[] = {1, 2, 1, 3, 4, 2, 3};\n",
    "       k = 4\n",
    "Output: 3 4 4 3\n",
    "\n",
    "Explanation:\n",
    "First window is {1, 2, 1, 3}, count of distinct numbers is 3\n",
    "Second window is {2, 1, 3, 4} count of distinct numbers is 4\n",
    "Third window is {1, 3, 4, 2} count of distinct numbers is 4\n",
    "Fourth window is {3, 4, 2, 3} count of distinct numbers is 3\n",
    "\n",
    "Input: arr[] = {1, 2, 4, 4};\n",
    "       k = 2\n",
    "Output: 2 2 1\n",
    "\n",
    "Explanation:\n",
    "First window is {1, 2}, count of distinct numbers is 2\n",
    "First window is {2, 4}, count of distinct numbers is 2\n",
    "First window is {4, 4}, count of distinct numbers is 1\n",
    "*/"
   ]
  },
  {
   "cell_type": "code",
   "execution_count": 133,
   "metadata": {},
   "outputs": [],
   "source": [
    "/*\n",
    "Naive Approach: \n",
    "\n",
    "The naive solution is to traverse the given array considering every window in it \n",
    "and keeping a count on the distinct elements of the window.\n",
    "\n",
    "Algorithm:\n",
    "\n",
    "1. For every index i from 0 to len_array(n) – k, i.e \n",
    "    n – k, traverse the array from i to i + k. This is the window\n",
    "2. Traverse the window, from i to that index and check if the element is present or not.\n",
    "3. If the element is not present in the prefix of the array, i.e \n",
    "    no duplicate element is present from i to index-1, \n",
    "        then increase the count.\n",
    "4. Print the count.\n",
    "\n",
    "Complexity Analysis:\n",
    "\n",
    "1. Time complexity: O(nk^2).\n",
    "        The time complexity can be improved to O(n*k*log k) \n",
    "            by modifying countWindowDistinct() by the use of sorting. \n",
    "        The function can further be optimized to use hashing to find distinct elements in a window. \n",
    "            With hashing the time complexity becomes O(n*k).\n",
    "2. Space Complexity: O(1) we no any extra space is needed.\n",
    "*/"
   ]
  },
  {
   "cell_type": "code",
   "execution_count": 134,
   "metadata": {},
   "outputs": [],
   "source": [
    "// Counts distinct elements in window of size k \n",
    "static int countWindowDistinct(int win[], int k) \n",
    "{ \n",
    "    int dist_count = 0; \n",
    "\n",
    "    // Traverse the window \n",
    "    for (int i = 0; i < k; i++) \n",
    "    { \n",
    "        // Check if element arr[i] exists in arr[0..i-1] \n",
    "        int j; \n",
    "        for (j = 0; j < i; j++) \n",
    "           if (win[i] == win[j]) \n",
    "              break; \n",
    "        if (j == i) \n",
    "            dist_count++; \n",
    "    } \n",
    "    return dist_count; \n",
    "}"
   ]
  },
  {
   "cell_type": "code",
   "execution_count": 135,
   "metadata": {},
   "outputs": [],
   "source": [
    "// Counts distinct elements in all windows of size k \n",
    "static void countDistinct(int arr[], int n, int k) \n",
    "{ \n",
    "    // Traverse through every window \n",
    "    for (int i = 0; i <= n - k; i++) \n",
    "       System.out.println(countWindowDistinct \n",
    "                          (Arrays.copyOfRange(arr, i, arr.length), k)); \n",
    "} "
   ]
  },
  {
   "cell_type": "code",
   "execution_count": 136,
   "metadata": {},
   "outputs": [
    {
     "name": "stdout",
     "output_type": "stream",
     "text": [
      "3\n",
      "4\n",
      "4\n",
      "3\n"
     ]
    }
   ],
   "source": [
    "// Driver method \n",
    "public static void main(String args[]) \n",
    "{ \n",
    "     int arr[] = {1, 2, 1, 3, 4, 2, 3},  k = 4; \n",
    "\n",
    "     countDistinct(arr, arr.length, k); \n",
    "} \n",
    "main(args);"
   ]
  },
  {
   "cell_type": "code",
   "execution_count": 137,
   "metadata": {},
   "outputs": [],
   "source": [
    "/*\n",
    "Efficient Approach: \n",
    "\n",
    "So, there is an efficient solution using hashing, \n",
    "    though hashing requires extra O(n) space but the time complexity will improve. \n",
    "    \n",
    "The trick is to use the count of the previous window while sliding the window. \n",
    "To do this a hash map can be used that stores elements of the current window. \n",
    "---The hash-map is also operated on by simultaneous addition and removal of an element while keeping track of distinct elements. \n",
    "---The problem deals with finding the count of distinct elements in a window of length k, \n",
    "        at any step while shifting the window and discarding all the computation done in the previous step, \n",
    "            even though k – 1 elements are same from the previous adjacent window. \n",
    "\n",
    "For example,\n",
    "    assume that elements from index i to i + k – 1 are stored in a Hash Map as an element-frequency pair. \n",
    "    So, while updating the Hash Map in range i + 1 to i + k, \n",
    "        reduce the frequency of the i-th element by 1 and \n",
    "        increase the frequency of (i + k)-th element by 1.\n",
    "\n",
    "Insertion and deletion from the HashMap takes constant time.\n",
    "*/"
   ]
  },
  {
   "cell_type": "code",
   "execution_count": 138,
   "metadata": {},
   "outputs": [],
   "source": [
    "/*\n",
    "Algorithm:\n",
    "1. Create an empty hash map. Let the hash map be hM.\n",
    "2. Initialize the count of distinct element as dist_count to 0.\n",
    "3. Traverse through the first window and insert elements of the first window to hM. \n",
    "   The elements are used as key and their counts as the value in hM. Also, keep updating dist_count\n",
    "4. Print distinct count for the first window.\n",
    "5. Traverse through the remaining array (or other windows).\n",
    "6. Remove the first element of the previous window\n",
    "    -If the removed element appeared only once, \n",
    "        remove it from hM and decrease the distinct count,i.e. do “dist_count–“\n",
    "    -else (appeared multiple times in hM), \n",
    "        then decrement its count in hM\n",
    "7. Add the current element (last element of the new window)\n",
    "    -If the added element is not present in hM, \n",
    "        add it to hM and increase the distinct count,i.e. do “dist_count++”\n",
    "    -Else (the added element appeared multiple times), \n",
    "        increment its count in hM\n",
    "*/"
   ]
  },
  {
   "cell_type": "markdown",
   "metadata": {},
   "source": [
    "<img src = \"https://media.geeksforgeeks.org/wp-content/cdn-uploads/20190702115832/CountdistinctElementsIneveryWindow.png\"/>"
   ]
  },
  {
   "cell_type": "code",
   "execution_count": 139,
   "metadata": {},
   "outputs": [],
   "source": [
    "static void countDistinct(int arr[], int k) \n",
    "{ \n",
    "    // Creates an empty hashMap hM \n",
    "    HashMap<Integer, Integer> hM = \n",
    "                  new HashMap<Integer, Integer>(); \n",
    "\n",
    "    // initialize distinct element  count for \n",
    "    // current window \n",
    "    int dist_count = 0; \n",
    "\n",
    "    // Traverse the first window and store count \n",
    "    // of every element in hash map \n",
    "    for (int i = 0; i < k; i++) \n",
    "    { \n",
    "        if (hM.get(arr[i]) == null) \n",
    "        { \n",
    "            hM.put(arr[i], 1); \n",
    "            dist_count++; \n",
    "        } \n",
    "        else\n",
    "        { \n",
    "           int count = hM.get(arr[i]); \n",
    "           hM.put(arr[i], count+1); \n",
    "        } \n",
    "    } \n",
    "\n",
    "    // Print count of first window \n",
    "    System.out.println(dist_count); \n",
    "\n",
    "    // Traverse through the remaining array \n",
    "    for (int i = k; i < arr.length; i++) \n",
    "    { \n",
    "\n",
    "        // Remove first element of previous window \n",
    "        // If there was only one occurrence, then \n",
    "        // reduce distinct count. \n",
    "        if (hM.get(arr[i-k]) == 1) \n",
    "        { \n",
    "            hM.remove(arr[i-k]); \n",
    "            dist_count--; \n",
    "        } \n",
    "        else // reduce count of the removed element \n",
    "        { \n",
    "           int count = hM.get(arr[i-k]); \n",
    "           hM.put(arr[i-k], count-1); \n",
    "        } \n",
    "\n",
    "        // Add new element of current window \n",
    "        // If this element appears first time, \n",
    "        // increment distinct element count \n",
    "        if (hM.get(arr[i]) == null) \n",
    "        { \n",
    "            hM.put(arr[i], 1); \n",
    "            dist_count++; \n",
    "        } \n",
    "        else // Increment distinct element count \n",
    "        { \n",
    "           int count = hM.get(arr[i]); \n",
    "           hM.put(arr[i], count+1); \n",
    "        } \n",
    "\n",
    "       // Print count of current window \n",
    "        System.out.println(dist_count); \n",
    "    } \n",
    "} "
   ]
  },
  {
   "cell_type": "code",
   "execution_count": 140,
   "metadata": {},
   "outputs": [
    {
     "name": "stdout",
     "output_type": "stream",
     "text": [
      "3\n",
      "4\n",
      "4\n",
      "3\n"
     ]
    }
   ],
   "source": [
    "// Driver method \n",
    "public static void main(String arg[]) \n",
    "{ \n",
    "    int arr[] =  {1, 2, 1, 3, 4, 2, 3}; \n",
    "    int k = 4; \n",
    "    countDistinct(arr, k); \n",
    "} \n",
    "main(args);"
   ]
  },
  {
   "cell_type": "code",
   "execution_count": 141,
   "metadata": {},
   "outputs": [],
   "source": [
    "/*\n",
    "Complexity Analysis:\n",
    "\n",
    "Time complexity O(n). \n",
    "    As single traversal of the array is required.\n",
    "Space Compelxity O(n). \n",
    "    Since, the hashmap requires linear space.\n",
    "*/"
   ]
  },
  {
   "cell_type": "markdown",
   "metadata": {},
   "source": [
    "## **412. Design a data structure that supports insert, delete, search and getRandom in constant time**\n",
    "https://www.geeksforgeeks.org/design-a-data-structure-that-supports-insert-delete-search-and-getrandom-in-constant-time/"
   ]
  },
  {
   "cell_type": "code",
   "execution_count": 142,
   "metadata": {},
   "outputs": [],
   "source": [
    "/*\n",
    "Design a data structure that supports the following operations in Θ(1) time.\n",
    "\n",
    "insert(x): Inserts an item x to the data structure if not already present.\n",
    "\n",
    "remove(x): Removes an item x from the data structure if present.\n",
    "\n",
    "search(x): Searches an item x in the data structure.\n",
    "\n",
    "getRandom(): Returns a random element from current set of elements\n",
    "*/"
   ]
  },
  {
   "cell_type": "code",
   "execution_count": 143,
   "metadata": {},
   "outputs": [],
   "source": [
    "/*\n",
    "We can use hashing to support first 3 operations in Θ(1) time.\n",
    "\n",
    "How to do the 4th operation? \n",
    "The idea is to use a resizable array (ArrayList in Java, vector in C) together with hashing. \n",
    "Resizable arrays support insert in Θ(1) amortized time complexity.\n",
    "\n",
    "To implement getRandom(),\n",
    "    we can simply pick a random number from 0 to size-1 \n",
    "    (size is the number of current elements) and return the element at that index. \n",
    "    \n",
    "    The hash map stores array values as keys and array indexes as values.\n",
    "*/"
   ]
  },
  {
   "cell_type": "code",
   "execution_count": 144,
   "metadata": {},
   "outputs": [],
   "source": [
    "/*\n",
    "Following are detailed operations.\n",
    "\n",
    "insert(x)\n",
    "1) Check if x is already present by doing a hash map lookup.\n",
    "2) If not present, then insert it at the end of the array.\n",
    "3) Add in the hash table also, x is added as key and last array index as the index.\n",
    "\n",
    "remove(x)\n",
    "1) Check if x is present by doing a hash map lookup.\n",
    "2) If present, then find its index and remove it from a hash map.\n",
    "3) Swap the last element with this element in an array and remove the last element.\n",
    "Swapping is done because the last element can be removed in O(1) time.\n",
    "4) Update index of the last element in a hash map.\n",
    "\n",
    "getRandom()\n",
    "1) Generate a random number from 0 to last index.\n",
    "2) Return the array element at the randomly generated index.\n",
    "\n",
    "search(x)\n",
    "Do a lookup for x in hash map.\n",
    "*/"
   ]
  },
  {
   "cell_type": "code",
   "execution_count": 145,
   "metadata": {},
   "outputs": [],
   "source": [
    "class MyDS \n",
    "{ \n",
    "   ArrayList<Integer> arr;   // A resizable array \n",
    "  \n",
    "   // A hash where keys are array elements and vlaues are \n",
    "   // indexes in arr[] \n",
    "   HashMap<Integer, Integer>  hash; \n",
    "  \n",
    "   // Constructor (creates arr[] and hash) \n",
    "   public MyDS() \n",
    "   { \n",
    "       arr = new ArrayList<Integer>(); \n",
    "       hash = new HashMap<Integer, Integer>(); \n",
    "   } \n",
    "  \n",
    "   // A Theta(1) function to add an element to MyDS \n",
    "   // data structure \n",
    "   void add(int x) \n",
    "   { \n",
    "      // If ekement is already present, then noting to do \n",
    "      if (hash.get(x) != null) \n",
    "          return; \n",
    "  \n",
    "      // Else put element at the end of arr[] \n",
    "      int s = arr.size(); \n",
    "      arr.add(x); \n",
    "  \n",
    "      // And put in hash also \n",
    "      hash.put(x, s); \n",
    "   } \n",
    "  \n",
    "   // A Theta(1) function to remove an element from MyDS \n",
    "   // data structure \n",
    "   void remove(int x) \n",
    "   { \n",
    "       // Check if element is present \n",
    "       Integer index = hash.get(x); \n",
    "       if (index == null) \n",
    "          return; \n",
    "  \n",
    "       // If present, then remove element from hash \n",
    "       hash.remove(x); \n",
    "  \n",
    "       // Swap element with last element so that remove from \n",
    "       // arr[] can be done in O(1) time \n",
    "       int size = arr.size(); \n",
    "       Integer last = arr.get(size-1); \n",
    "       Collections.swap(arr, index,  size-1); \n",
    "  \n",
    "       // Remove last element (This is O(1)) \n",
    "       arr.remove(size-1); \n",
    "  \n",
    "       // Update hash table for new index of last element \n",
    "       hash.put(last, index); \n",
    "    } \n",
    "  \n",
    "    // Returns a random element from MyDS \n",
    "    int getRandom() \n",
    "    { \n",
    "       // Find a random index from 0 to size - 1 \n",
    "       Random rand = new Random();  // Choose a different seed \n",
    "       int index = rand.nextInt(arr.size()); \n",
    "  \n",
    "       // Return element at randomly picked index \n",
    "       return arr.get(index); \n",
    "    } \n",
    "  \n",
    "    // Returns index of element if element is present, otherwise null \n",
    "    Integer search(int x) \n",
    "    { \n",
    "       return hash.get(x); \n",
    "    } \n",
    "} "
   ]
  },
  {
   "cell_type": "code",
   "execution_count": 146,
   "metadata": {},
   "outputs": [
    {
     "name": "stdout",
     "output_type": "stream",
     "text": [
      "2\n",
      "3\n",
      "40\n"
     ]
    }
   ],
   "source": [
    "public static void main (String[] args) \n",
    "{ \n",
    "    MyDS ds = new MyDS(); \n",
    "    ds.add(10); \n",
    "    ds.add(20); \n",
    "    ds.add(30); \n",
    "    ds.add(40); \n",
    "    System.out.println(ds.search(30)); \n",
    "    ds.remove(20); \n",
    "    ds.add(50); \n",
    "    System.out.println(ds.search(50)); \n",
    "    System.out.println(ds.getRandom()); \n",
    "} \n",
    "main(args);"
   ]
  },
  {
   "cell_type": "markdown",
   "metadata": {},
   "source": [
    "## **413. Length of the largest subarray with contiguous elements | Set 2**\n",
    "https://www.geeksforgeeks.org/length-largest-subarray-contiguous-elements-set-2/"
   ]
  },
  {
   "cell_type": "code",
   "execution_count": 147,
   "metadata": {},
   "outputs": [],
   "source": [
    "/*\n",
    "Given an array of integers, \n",
    "    find length of the longest subarray which contains numbers that can be arranged in a continuous sequence.\n",
    "*/"
   ]
  },
  {
   "cell_type": "code",
   "execution_count": 148,
   "metadata": {},
   "outputs": [],
   "source": [
    "/*\n",
    "In below link\n",
    "    we have discussed a solution that assumes that elements in given array are distinct. \n",
    "    Here we discuss a solution that works even if the input array has duplicates.\n",
    "*/"
   ]
  },
  {
   "cell_type": "markdown",
   "metadata": {},
   "source": [
    "***https://www.geeksforgeeks.org/length-largest-subarray-contiguous-elements-set-1/***"
   ]
  },
  {
   "cell_type": "code",
   "execution_count": 149,
   "metadata": {},
   "outputs": [],
   "source": [
    "/*\n",
    "Examples:\n",
    "\n",
    "Input:  arr[] = {10, 12, 11};\n",
    "Output: Length of the longest contiguous subarray is 3\n",
    "\n",
    "Input:  arr[] = {10, 12, 12, 10, 10, 11, 10};\n",
    "Output: Length of the longest contiguous subarray is 2 \n",
    "*/"
   ]
  },
  {
   "cell_type": "code",
   "execution_count": 150,
   "metadata": {},
   "outputs": [],
   "source": [
    "/*\n",
    "The idea is similar to previous post. \n",
    "\n",
    "In the previous post, \n",
    "    we checked whether maximum value minus minimum value is equal to ending index minus starting index or not. \n",
    "    Since duplicate elements are allowed, \n",
    "        we also need to check if the subarray contains duplicate elements or not. \n",
    "        \n",
    "        For example, the array {12, 14, 12} follows the first property, \n",
    "            but numbers in it are not contiguous elements.\n",
    "To check duplicate elements in a subarray,\n",
    "    we create a hash set for every subarray and if we find an element already in hash,\n",
    "        we don’t consider the current subarray.\n",
    "\n",
    "Following is the implementation of the above idea.\n",
    "\n",
    "Time complexity of the above solution is O(n^2) under the assumption that hash set operations like add() \n",
    "and contains() work in O(1) time.\n",
    "\n",
    "*/"
   ]
  },
  {
   "cell_type": "code",
   "execution_count": 151,
   "metadata": {},
   "outputs": [],
   "source": [
    "// This function prints all distinct elements \n",
    "static int findLength(int arr[]) \n",
    "{ \n",
    "    int n = arr.length; \n",
    "    int max_len = 1; // Inialize result \n",
    "\n",
    "    // One by one fix the starting points \n",
    "    for (int i=0; i<n-1; i++) \n",
    "    { \n",
    "        // Create an empty hash set and add i'th element \n",
    "        // to it. \n",
    "        HashSet<Integer> set = new HashSet<>(); \n",
    "        set.add(arr[i]); \n",
    "\n",
    "        // Initialize max and min in current subarray \n",
    "        int mn = arr[i], mx = arr[i]; \n",
    "\n",
    "        // One by one fix ending points \n",
    "        for (int j=i+1; j<n; j++) \n",
    "        { \n",
    "            // If current element is already in hash set, then \n",
    "            // this subarray cannot contain contiguous elements \n",
    "            if (set.contains(arr[j])) \n",
    "                break; \n",
    "\n",
    "            // Else add curremt element to hash set and update \n",
    "            // min, max if required. \n",
    "            set.add(arr[j]); \n",
    "            mn = Math.min(mn, arr[j]); \n",
    "            mx = Math.max(mx, arr[j]); \n",
    "\n",
    "            // We have already cheched for duplicates, now check \n",
    "            // for other property and update max_len if needed \n",
    "            if (mx-mn == j-i) \n",
    "                max_len = Math.max(max_len, mx-mn+1); \n",
    "        } \n",
    "    } \n",
    "    return max_len; // Return result \n",
    "} "
   ]
  },
  {
   "cell_type": "code",
   "execution_count": 152,
   "metadata": {},
   "outputs": [
    {
     "name": "stdout",
     "output_type": "stream",
     "text": [
      "Length of the longest contiguous subarray is 2\n"
     ]
    }
   ],
   "source": [
    "// Driver method to test above method \n",
    "public static void main (String[] args) \n",
    "{ \n",
    "   int arr[] =  {10, 12, 12, 10, 10, 11, 10}; \n",
    "   System.out.println(\"Length of the longest contiguous subarray is \" + \n",
    "                       findLength(arr)); \n",
    "} \n",
    "main(args);"
   ]
  },
  {
   "cell_type": "markdown",
   "metadata": {},
   "source": [
    "## **414. Group Shifted String**\n",
    "https://www.geeksforgeeks.org/group-shifted-string/"
   ]
  },
  {
   "cell_type": "code",
   "execution_count": 153,
   "metadata": {},
   "outputs": [],
   "source": [
    "/*\n",
    "Given an array of strings (all lowercase letters), \n",
    "the task is to group them in such a way that all strings in a group are shifted versions of each other. \n",
    "Two string S and T are called shifted if,\n",
    "\n",
    "S.length = T.length \n",
    "and\n",
    "S[i] = T[i] + K for \n",
    "1 <= i <= S.length  for a constant integer K\n",
    "*/"
   ]
  },
  {
   "cell_type": "code",
   "execution_count": 154,
   "metadata": {},
   "outputs": [],
   "source": [
    "/*\n",
    "For example \n",
    "\n",
    "strings {acd, dfg, wyz, yab, mop} are shifted versions of each other.\n",
    "\n",
    "Input  : str[] = {\"acd\", \"dfg\", \"wyz\", \"yab\", \"mop\",\n",
    "                 \"bdfh\", \"a\", \"x\", \"moqs\"};\n",
    "\n",
    "Output : a x\n",
    "         acd dfg wyz yab mop\n",
    "         bdfh moqs\n",
    "All shifted strings are grouped together.\n",
    "*/"
   ]
  },
  {
   "cell_type": "code",
   "execution_count": 155,
   "metadata": {},
   "outputs": [],
   "source": [
    "/*\n",
    "We can see a pattern among string of one group, \n",
    "the difference between consecutive characters for all character of string are equal. \n",
    "\n",
    "As in above example take acd, dfg and mop\n",
    "\n",
    "a c d -> 2 1\n",
    "d f g -> 2 1\n",
    "m o p -> 2 1\n",
    "\n",
    "Since the differences are same, \n",
    "    we can use this to identify strings that belong to same group. \n",
    "\n",
    "The idea is to form a string of differences as key. \n",
    "If a string with same difference string is found,\n",
    "    then this string also belongs to same group. \n",
    "    \n",
    "For example,\n",
    "    above three strings have same difference string, that is “21”.\n",
    "\n",
    "In below implementation, \n",
    "    we add ‘a’ to every difference and store 21 as “ba”.\n",
    "*/"
   ]
  },
  {
   "cell_type": "markdown",
   "metadata": {},
   "source": [
    "***https://ideone.com/thJKI1***"
   ]
  },
  {
   "cell_type": "markdown",
   "metadata": {},
   "source": [
    "## **415. Palindrome Substring Queries**\n",
    "https://www.geeksforgeeks.org/palindrome-substring-queries/"
   ]
  },
  {
   "cell_type": "code",
   "execution_count": 156,
   "metadata": {},
   "outputs": [],
   "source": [
    "/*\n",
    "Given a string and several queries on the substrings of the given input string \n",
    "    to check whether the substring is a palindrome or not.\n",
    "*/"
   ]
  },
  {
   "cell_type": "code",
   "execution_count": 157,
   "metadata": {},
   "outputs": [],
   "source": [
    "/*\n",
    "Examples :\n",
    "\n",
    "Suppose our input string is “abaaabaaaba” and the queries- [0, 10], [5, 8], [2, 5], [5, 9]\n",
    "\n",
    "We have to tell that the substring having the starting and ending indices as above is a palindrome or not.\n",
    "\n",
    "[0, 10] → Substring is “abaaabaaaba” which is a palindrome.\n",
    "[5, 8] → Substring is “baaa” which is not a palindrome.\n",
    "[2, 5] → Substring is “aaab” which is not a palindrome.\n",
    "[5, 9] → Substring is “baaab” which is a palindrome.\n",
    "\n",
    "Let us assume that there are Q such queries to be answered and N be the length of our input string.\n",
    "\n",
    "There are the following two ways to answer these queries\n",
    "1. Method 1 (Naive)\n",
    "2. Method 2 (Cumulative Hash)\n",
    "*/"
   ]
  },
  {
   "cell_type": "code",
   "execution_count": 158,
   "metadata": {},
   "outputs": [],
   "source": [
    "/*\n",
    "Method 1 (Naive)\n",
    "\n",
    "One by one we go through all the substrings of the queries \n",
    "and check whether the substring under consideration is a palindrome or not.\n",
    "Since there are Q queries and each query can take O(N) worse case time to answer, \n",
    "    this method takes O(Q.N) time in the worst case. \n",
    "    \n",
    "Although this is an in-place/space-efficient algorithm, but still there are more efficient method to do this.\n",
    "*/"
   ]
  },
  {
   "cell_type": "code",
   "execution_count": 159,
   "metadata": {},
   "outputs": [],
   "source": [
    "/*\n",
    "Mathod 2 (Cumulative Hash)\n",
    "\n",
    "View Question Link\n",
    "*/"
   ]
  },
  {
   "cell_type": "markdown",
   "metadata": {},
   "source": [
    "## **416. Find four elements a, b, c and d in an array such that a+b = c+d**\n",
    "https://www.geeksforgeeks.org/find-four-elements-a-b-c-and-d-in-an-array-such-that-ab-cd/"
   ]
  },
  {
   "cell_type": "code",
   "execution_count": 160,
   "metadata": {},
   "outputs": [],
   "source": [
    "/*\n",
    "Given an array of distinct integers, \n",
    "    find if there are two pairs (a, b) and (c, d) \n",
    "    such that a+b = c+d, and a, b, c and d are distinct elements.\n",
    "    \n",
    "If there are multiple answers, \n",
    "    then print any of them.\n",
    "*/"
   ]
  },
  {
   "cell_type": "code",
   "execution_count": 161,
   "metadata": {},
   "outputs": [],
   "source": [
    "/*\n",
    "Example:\n",
    "\n",
    "Input:   {3, 4, 7, 1, 2, 9, 8}\n",
    "Output:  (3, 8) and (4, 7)\n",
    "Explanation: 3+8 = 4+7\n",
    "\n",
    "Input:   {3, 4, 7, 1, 12, 9};\n",
    "Output:  (4, 12) and (7, 9)\n",
    "Explanation: 4+12 = 7+9\n",
    "\n",
    "Input:  {65, 30, 7, 90, 1, 9, 8};\n",
    "Output:  No pairs found\n",
    "*/"
   ]
  },
  {
   "cell_type": "code",
   "execution_count": 162,
   "metadata": {},
   "outputs": [],
   "source": [
    "/*\n",
    "A Simple Solution is to run four loops to generate all possible quadruples of array element. \n",
    "For every quadruple (a, b, c, d), check if (a+b) = (c+d). \n",
    "Time complexity of this solution is O(n^4).\n",
    "*/"
   ]
  },
  {
   "cell_type": "code",
   "execution_count": 163,
   "metadata": {},
   "outputs": [],
   "source": [
    "/*\n",
    "An Efficient Solution can solve this problem in O(n2) time.\n",
    "The idea is to use hashing. We use sum as key and pair as value in hash table.\n",
    "\n",
    "Loop i = 0 to n-1 :\n",
    "    Loop j = i + 1 to n-1 :\n",
    "        calculate sum\n",
    "        If in hash table any index already exist\n",
    "            Then print (i, j) and previous pair \n",
    "            from hash table  \n",
    "        Else update hash table\n",
    "    EndLoop;\n",
    "EndLoop;\n",
    "\n",
    "Below are implementations of above idea. \n",
    "In below implementation, \n",
    "    map is used instead of hash. \n",
    "    \n",
    "Time complexity of map insert and search is actually O(Log n) instead of O(1). \n",
    "So below implementation is O(n^2 Log n).\n",
    "*/"
   ]
  },
  {
   "cell_type": "code",
   "execution_count": 164,
   "metadata": {},
   "outputs": [],
   "source": [
    "// Class to represent a pair \n",
    "class pair \n",
    "{ \n",
    "    int first, second; \n",
    "    pair(int f,int s) \n",
    "    { \n",
    "        first = f; second = s; \n",
    "    } \n",
    "}; \n",
    "\n",
    "boolean findPairs(int arr[]) \n",
    "{ \n",
    "    // Create an empty Hash to store mapping from sum to \n",
    "    // pair indexes \n",
    "    HashMap<Integer,pair> map = new HashMap<Integer,pair>(); \n",
    "    int n=arr.length; \n",
    "\n",
    "    // Traverse through all possible pairs of arr[] \n",
    "    for (int i=0; i<n; ++i) \n",
    "    { \n",
    "        for (int j=i+1; j<n; ++j) \n",
    "        { \n",
    "            // If sum of current pair is not in hash, \n",
    "            // then store it and continue to next pair \n",
    "            int sum = arr[i]+arr[j]; \n",
    "            if (!map.containsKey(sum)) \n",
    "                map.put(sum,new pair(i,j)); \n",
    "\n",
    "            else // Else (Sum already present in hash) \n",
    "            { \n",
    "                // Find previous pair \n",
    "                pair p = map.get(sum); \n",
    "\n",
    "                // Since array elements are distinct, we don't \n",
    "                // need to check if any element is common among pairs \n",
    "                System.out.println(\"(\"+arr[p.first]+\", \"+arr[p.second]+ \n",
    "                                  \") and (\"+arr[i]+\", \"+arr[j]+\")\"); \n",
    "                return true; \n",
    "            } \n",
    "        } \n",
    "    } \n",
    "    return false; \n",
    "} "
   ]
  },
  {
   "cell_type": "code",
   "execution_count": 165,
   "metadata": {},
   "outputs": [
    {
     "name": "stdout",
     "output_type": "stream",
     "text": [
      "(3, 8) and (4, 7)\n"
     ]
    }
   ],
   "source": [
    "// Testing program \n",
    "public static void main(String args[]) \n",
    "{ \n",
    "    int arr[] = {3, 4, 7, 1, 2, 9, 8}; \n",
    "    findPairs(arr); \n",
    "} \n",
    "main(args);"
   ]
  },
  {
   "cell_type": "markdown",
   "metadata": {},
   "source": [
    "## **417. Subarrays with distinct elements**\n",
    "https://www.geeksforgeeks.org/subarrays-distinct-elements/"
   ]
  },
  {
   "cell_type": "code",
   "execution_count": 166,
   "metadata": {},
   "outputs": [],
   "source": [
    "/*\n",
    "Given an array, \n",
    "    the task is to calculate the sum of lengths of contiguous subarrays having all elements distinct.\n",
    "*/"
   ]
  },
  {
   "cell_type": "code",
   "execution_count": 167,
   "metadata": {},
   "outputs": [],
   "source": [
    "/*\n",
    "Examples:\n",
    "\n",
    "Input :  arr[] = {1, 2, 3}\n",
    "Output : 10\n",
    "{1, 2, 3} is a subarray of length 3 with \n",
    "distinct elements. Total length of length\n",
    "three = 3.\n",
    "{1, 2}, {2, 3} are 2 subarray of length 2 \n",
    "with distinct elements. Total length of \n",
    "lengths two = 2 + 2 = 4\n",
    "{1}, {2}, {3} are 3 subarrays of length 1\n",
    "with distinct element. Total lengths of \n",
    "length one = 1 + 1 + 1 = 3\n",
    "Sum of lengths = 3 + 4 + 3 = 10\n",
    "\n",
    "Input :  arr[] = {1, 2, 1}\n",
    "Output : 7\n",
    "\n",
    "Input :  arr[] = {1, 2, 3, 4}\n",
    "Output : 20\n",
    "*/"
   ]
  },
  {
   "cell_type": "code",
   "execution_count": 168,
   "metadata": {},
   "outputs": [],
   "source": [
    "/*\n",
    "A simple solution is to consider all subarrays and for every subarray \n",
    "check if it has distinct elements or not using hashing. \n",
    "And add lengths of all subarrays having distinct elements. \n",
    "If we use hashing to find distinct elements, \n",
    "    then this approach takes O(n^2) time under the assumption that hashing search and insert operations take O(1) time.\n",
    "*/"
   ]
  },
  {
   "cell_type": "code",
   "execution_count": 169,
   "metadata": {},
   "outputs": [],
   "source": [
    "/*\n",
    "An efficient solution is based on the fact that \n",
    "if we know all elements in a subarray arr[i..j] are distinct, \n",
    "sum of all lengths of distinct element subarrays in this sub array is ((j-i+1)*(j-i+2))/2. \n",
    "\n",
    "How? \n",
    "the possible lengths of subarrays are 1, 2, 3,……, j – i +1. \n",
    "So, the sum will be ((j – i +1)*(j – i +2))/2.\n",
    "*/"
   ]
  },
  {
   "cell_type": "code",
   "execution_count": 170,
   "metadata": {},
   "outputs": [],
   "source": [
    "/*\n",
    "We first find largest subarray (with distinct elements) starting from first element. \n",
    "We count sum of lengths in this subarray using above formula. \n",
    "For finding next subarray of the distinct element,\n",
    "    we increment starting point, i and ending point, j unless (i+1, j) are distinct.\n",
    "If not possible, \n",
    "    then we increment i again and move forward the same way.\n",
    "*/"
   ]
  },
  {
   "cell_type": "code",
   "execution_count": 171,
   "metadata": {},
   "outputs": [],
   "source": [
    "// Returns sum of lengths of all subarrays \n",
    "// with distinct elements. \n",
    "public static int sumoflength(int[] arr, int n)  \n",
    "{ \n",
    "\n",
    "    // For maintaining distinct elements. \n",
    "    Set<Integer> s = new HashSet<>(); \n",
    "\n",
    "    // Initialize ending point and result \n",
    "    int j = 0, ans = 0; \n",
    "\n",
    "    // Fix starting point \n",
    "    for (int i = 0; i < n; i++) \n",
    "    { \n",
    "        while (j < n && !s.contains(arr[j])) \n",
    "        { \n",
    "            s.add(arr[i]); \n",
    "            j++; \n",
    "        } \n",
    "\n",
    "        // Calculating and adding all possible length \n",
    "        // subarrays in arr[i..j] \n",
    "        ans += ((j - i) * (j - i + 1)) / 2; \n",
    "\n",
    "        // Remove arr[i] as we pick new stating point \n",
    "        // from next \n",
    "        s.remove(arr[i]); \n",
    "    } \n",
    "\n",
    "    return ans; \n",
    "} "
   ]
  },
  {
   "cell_type": "code",
   "execution_count": 172,
   "metadata": {},
   "outputs": [
    {
     "name": "stdout",
     "output_type": "stream",
     "text": [
      "20\n"
     ]
    }
   ],
   "source": [
    "// Driver Code \n",
    "public static void main(String[] args)  \n",
    "{ \n",
    "    int[] arr = { 1, 2, 3, 4 }; \n",
    "    int n = arr.length; \n",
    "\n",
    "    System.out.println(sumoflength(arr, n)); \n",
    "} \n",
    "main(args);"
   ]
  },
  {
   "cell_type": "code",
   "execution_count": 173,
   "metadata": {},
   "outputs": [],
   "source": [
    "/*\n",
    "Time Complexity of this solution is O(n). \n",
    "Note that the inner loop runs n times in total as j goes from 0 to n across all outer loops. \n",
    "So we do O(2n) operations which is same as O(n).\n",
    "*/"
   ]
  },
  {
   "cell_type": "markdown",
   "metadata": {},
   "source": [
    "## **418. Find Recurring Sequence in a Fraction**\n",
    "https://www.geeksforgeeks.org/find-recurring-sequence-fraction/"
   ]
  },
  {
   "cell_type": "code",
   "execution_count": 174,
   "metadata": {},
   "outputs": [],
   "source": [
    "/*\n",
    "Given a fraction, find recurring sequence of digits if exists, otherwise print “No recurring sequence”\n",
    "*/"
   ]
  },
  {
   "cell_type": "code",
   "execution_count": 175,
   "metadata": {},
   "outputs": [],
   "source": [
    "/*\n",
    "Examples:\n",
    "\n",
    "Input  : Numerator = 8, Denominator = 3\n",
    "Output : Recurring sequence is 6 \n",
    "Explanation : 8/3 = 2.66666666.......  \n",
    "\n",
    "Input : Numerator = 50, Denominator = 22\n",
    "Output : Recurring sequence is 27\n",
    "Explanation : 50/22 = 2.272727272..... \n",
    "\n",
    "Input : Numerator = 11, Denominator = 2\n",
    "Output : No recurring sequence\n",
    "Explanation : 11/2 = 5.5 \n",
    "*/"
   ]
  },
  {
   "cell_type": "code",
   "execution_count": 176,
   "metadata": {},
   "outputs": [],
   "source": [
    "/*\n",
    "When does the fractional part repeat ?\n",
    "\n",
    "Let us simulate the process of converting fraction to decimal. \n",
    "Let us look at the part where we have already figured out the integer part which is floor(numerator/denominator). \n",
    "Now we are left with ( remainder = numerator%denominator ) / denominator.\n",
    "If you remember the process of converting to decimal, at each step we do the following :\n",
    "\n",
    "1. Multiply the remainder by 10.\n",
    "2. Append remainder / denominator to result.\n",
    "3. Remainder = remainder % denominator.\n",
    "4. At any moment, if remainder becomes 0, we are done.\n",
    "\n",
    "However, when there is a recurring sequence, remainder never becomes 0. \n",
    "\n",
    "For example \n",
    "    if you look at 1/3, the remainder never becomes 0.\n",
    "\n",
    "Below is one important observation :\n",
    "\n",
    "If we start with remainder ‘rem’ and if the remainder repeats at any point of time,\n",
    "    the digits between the two occurrence of ‘rem’ keep repeating.\n",
    "\n",
    "So the idea is to store seen remainders in a map. \n",
    "Whenever a remainder repeats, \n",
    "    we return the sequence before the next occurrence. \n",
    "*/"
   ]
  },
  {
   "cell_type": "markdown",
   "metadata": {},
   "source": [
    "***https://ideone.com/SFlMHh***"
   ]
  },
  {
   "cell_type": "markdown",
   "metadata": {},
   "source": [
    "## **419. K maximum sum combinations from two arrays**\n",
    "https://www.geeksforgeeks.org/k-maximum-sum-combinations-two-arrays/"
   ]
  },
  {
   "cell_type": "code",
   "execution_count": 177,
   "metadata": {},
   "outputs": [],
   "source": [
    "/*\n",
    "Given two equally sized arrays (A, B) and N (size of both arrays).\n",
    "\n",
    "A sum combination is made by adding one element from array A and another element of array B. \n",
    "Display the maximum K valid sum combinations from all the possible sum combinations.\n",
    "*/"
   ]
  },
  {
   "cell_type": "code",
   "execution_count": 178,
   "metadata": {},
   "outputs": [],
   "source": [
    "/*\n",
    "Examples:\n",
    "\n",
    "Input :  A[] : {3, 2} \n",
    "         B[] : {1, 4}\n",
    "         K : 2 [Number of maximum sum\n",
    "               combinations to be printed]\n",
    "Output : 7    // (A : 3) + (B : 4)\n",
    "         6    // (A : 2) + (B : 4)\n",
    "\n",
    "Input :  A[] : {4, 2, 5, 1}\n",
    "         B[] : {8, 0, 3, 5}\n",
    "         K : 3\n",
    "Output : 13   // (A : 5) + (B : 8)\n",
    "         12   // (A : 4) + (B :  8)\n",
    "         10   // (A : 2) + (B : 8) \n",
    "*/"
   ]
  },
  {
   "cell_type": "code",
   "execution_count": 179,
   "metadata": {},
   "outputs": [],
   "source": [
    "/*\n",
    "Approach 1 (Naive Algorithm) :\n",
    "\n",
    "Time Complexity : O(N^2)\n",
    "\n",
    "We can use Brute force through all the possible combinations \n",
    "    that can be made by taking one element from array A and another from array B and inserting them to a max heap. \n",
    "In a max heap maximum element is at the root node so \n",
    "    whenever we pop from max heap we get the maximum element present in the heap. \n",
    "After inserting all the sum combinations we take out K elements from max heap and display it.\n",
    "*/"
   ]
  },
  {
   "cell_type": "code",
   "execution_count": 180,
   "metadata": {},
   "outputs": [
    {
     "name": "stdout",
     "output_type": "stream",
     "text": [
      "13\n",
      "12\n",
      "10\n"
     ]
    }
   ],
   "source": [
    "// function to display first K  \n",
    "// maximum sum combinations \n",
    "static void KMaxCombinations(int A[], int B[], int N, \n",
    "                                               int K) \n",
    "{ \n",
    "    // max heap. \n",
    "    PriorityQueue<Integer> pq = \n",
    "                        new PriorityQueue<Integer>(Collections.reverseOrder()); \n",
    "\n",
    "    // insert all the possible  \n",
    "    // combinations in max heap. \n",
    "    for (int i = 0; i < N; i++) \n",
    "        for (int j = 0; j < N; j++) \n",
    "            pq.add(A[i] + B[j]); \n",
    "\n",
    "    // pop first N elements  \n",
    "    // from max heap and  \n",
    "    // display them. \n",
    "    int count = 0; \n",
    "\n",
    "    while (count < K) \n",
    "    { \n",
    "        System.out.println(pq.peek()); \n",
    "        pq.remove(); \n",
    "        count++; \n",
    "    } \n",
    "} \n",
    "\n",
    "public static void main (String[] args)  \n",
    "{ \n",
    "    int A[] = { 4, 2, 5, 1 }; \n",
    "    int B[] = { 8, 0, 5, 3 }; \n",
    "    int N = A.length; \n",
    "    int K = 3; \n",
    "\n",
    "    KMaxCombinations(A, B, N, K); \n",
    "\n",
    "} \n",
    "main(args);"
   ]
  },
  {
   "cell_type": "code",
   "execution_count": 181,
   "metadata": {},
   "outputs": [],
   "source": [
    "/*\n",
    "Approach 2 (Sorting, Max heap, Map) :\n",
    "\n",
    "Time Complexity :\n",
    "O(N log N) assuming K <= N\n",
    "\n",
    "Instead of brute forcing through all the possible sum combinations \n",
    "    we should find a way to limit our search space to possible candidate sum combinations.\n",
    "1. Sort both arrays array A and array B.\n",
    "2. Create a max heap \n",
    "    i.e priority_queue in C++ to store the sum combinations along with the indices of elements from both arrays A and B \n",
    "        which make up the sum. \n",
    "    Heap is ordered by the sum.\n",
    "3. Initialize the heap with the maximum possible sum combination \n",
    "    i.e (A[N – 1] + B[N – 1] where N is the size of array) \n",
    "    and with the indices of elements from both arrays (N – 1, N – 1). \n",
    "    The tuple inside max heap will be (A[N-1] + B[N – 1], N – 1, N – 1). \n",
    "    Heap is ordered by first value i.e sum of both elements.\n",
    "4. Pop the heap to get the current largest sum and along with the indices of the element that make up the sum. \n",
    "    Let the tuple be (sum, i, j).\n",
    "4.1. Next insert (A[i – 1] + B[j], i – 1, j) and (A[i] + B[j – 1], i, j – 1) into the max heap \n",
    "    but make sure that the pair of indices i.e (i – 1, j) and (i, j – 1) are not\n",
    "    already present in the max heap. To check this we can use set in C++.\n",
    "4.2 Go back to 4 until K times.\n",
    "*/"
   ]
  },
  {
   "cell_type": "markdown",
   "metadata": {},
   "source": [
    "***https://ideone.com/phZEtb***"
   ]
  },
  {
   "cell_type": "code",
   "execution_count": null,
   "metadata": {},
   "outputs": [],
   "source": []
  }
 ],
 "metadata": {
  "kernelspec": {
   "display_name": "Java",
   "language": "java",
   "name": "java"
  },
  "language_info": {
   "codemirror_mode": "java",
   "file_extension": ".jshell",
   "mimetype": "text/x-java-source",
   "name": "Java",
   "pygments_lexer": "java",
   "version": "11.0.6+8-LTS"
  },
  "toc": {
   "base_numbering": 1,
   "nav_menu": {},
   "number_sections": true,
   "sideBar": true,
   "skip_h1_title": true,
   "title_cell": "Table of Contents",
   "title_sidebar": "Contents",
   "toc_cell": false,
   "toc_position": {},
   "toc_section_display": true,
   "toc_window_display": true
  }
 },
 "nbformat": 4,
 "nbformat_minor": 2
}
