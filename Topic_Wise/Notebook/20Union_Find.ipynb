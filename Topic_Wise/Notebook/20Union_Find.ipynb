{
 "cells": [
  {
   "cell_type": "markdown",
   "metadata": {},
   "source": [
    "# --------------------------UNION&FIND TOPIC---------------------------\n",
    "**==============================================================================**\n",
    "# Assembled By - Praveen Kumar Sharma\n",
    "# Source - GeeksForGeeks\n",
    "**==============================================================================**"
   ]
  },
  {
   "cell_type": "code",
   "execution_count": 1,
   "metadata": {},
   "outputs": [],
   "source": [
    "import java.util.*;\n",
    "import java.io.*;\n",
    "String[] args =new String[0];"
   ]
  },
  {
   "cell_type": "markdown",
   "metadata": {},
   "source": [
    "## **496. For Union-Find Tag Question View Below Link**\n",
    "https://www.geeksforgeeks.org/tag/union-find/"
   ]
  },
  {
   "cell_type": "code",
   "execution_count": 2,
   "metadata": {},
   "outputs": [],
   "source": [
    "/*\n",
    "Visit Question Link\n",
    "*/"
   ]
  },
  {
   "cell_type": "markdown",
   "metadata": {},
   "source": [
    "## **497. Disjoint Set (Or Union-Find) | Set 1 (Detect Cycle in an Undirected Graph)**\n",
    "https://www.geeksforgeeks.org/union-find/"
   ]
  },
  {
   "cell_type": "code",
   "execution_count": 3,
   "metadata": {},
   "outputs": [],
   "source": [
    "/*\n",
    "A disjoint-set data structure is a data structure \n",
    "    that keeps track of a set of elements partitioned into a number of disjoint (non-overlapping) subsets.\n",
    "\n",
    "A union-find algorithm is an algorithm \n",
    "    that performs two useful operations on such a data structure:\n",
    "\n",
    "Find: \n",
    "    Determine which subset a particular element is in. \n",
    "    This can be used for determining if two elements are in the same subset.\n",
    "\n",
    "Union: \n",
    "    Join two subsets into a single subset.\n",
    "*/"
   ]
  },
  {
   "cell_type": "code",
   "execution_count": 4,
   "metadata": {},
   "outputs": [],
   "source": [
    "/*\n",
    "In this post, \n",
    "    we will discuss the application of Disjoint Set Data Structure. \n",
    "    The application is to check whether a given graph contains a cycle or not.\n",
    "\n",
    "Union-Find Algorithm \n",
    "    can be used to check whether an undirected graph contains cycle or not. \n",
    "    \n",
    "Note that we have discussed an algorithm to detect cycle. \n",
    "This is another method based on Union-Find. \n",
    "This method assumes that the graph doesn’t contain any self-loops.\n",
    "\n",
    "We can keep track of the subsets in a 1D array, let’s call it parent[].\n",
    "\n",
    "Let us consider the following graph:\n",
    "*/"
   ]
  },
  {
   "cell_type": "markdown",
   "metadata": {},
   "source": [
    "<img src = \"https://media.geeksforgeeks.org/wp-content/cdn-uploads/Cycle-in-graph.png\"/>"
   ]
  },
  {
   "cell_type": "code",
   "execution_count": 5,
   "metadata": {},
   "outputs": [],
   "source": [
    "/*\n",
    "For each edge, \n",
    "    make subsets using both the vertices of the edge. \n",
    "    If both the vertices are in the same subset, a cycle is found.\n",
    "\n",
    "Initially, all slots of parent array are initialized to -1 (means there is only one item in every subset).\n",
    "\n",
    "0   1   2\n",
    "-1 -1  -1 \n",
    "Now process all edges one by one.\n",
    "\n",
    "Edge 0-1: Find the subsets in which vertices 0 and 1 are. \n",
    "Since they are in different subsets, we take the union of them. \n",
    "For taking the union, either make node 0 as parent of node 1 or vice-versa.\n",
    "\n",
    "0   1   2    <----- 1 is made parent of 0 (1 is now representative of subset {0, 1})\n",
    "1  -1  -1\n",
    "Edge 1-2: 1 is in subset 1 and 2 is in subset 2. So, take union.\n",
    "\n",
    "0   1   2    <----- 2 is made parent of 1 (2 is now representative of subset {0, 1, 2})\n",
    "1   2  -1\n",
    "Edge 0-2: 0 is in subset 2 and 2 is also in subset 2. Hence, including this edge forms a cycle.\n",
    "\n",
    "How subset of 0 is same as 2?\n",
    "0->1->2 // 1 is parent of 0 and 2 is parent of 1\n",
    "*/"
   ]
  },
  {
   "cell_type": "code",
   "execution_count": 6,
   "metadata": {},
   "outputs": [],
   "source": [
    "class Graph \n",
    "{ \n",
    "    int V, E;    // V-> no. of vertices & E->no.of edges \n",
    "    Edge edge[]; // /collection of all edges \n",
    "  \n",
    "    class Edge \n",
    "    { \n",
    "        int src, dest; \n",
    "    }; \n",
    "  \n",
    "    // Creates a graph with V vertices and E edges \n",
    "    Graph(int v,int e) \n",
    "    { \n",
    "        V = v; \n",
    "        E = e; \n",
    "        edge = new Edge[E]; \n",
    "        for (int i=0; i<e; ++i) \n",
    "            edge[i] = new Edge(); \n",
    "    } \n",
    "  \n",
    "    // A utility function to find the subset of an element i \n",
    "    int find(int parent[], int i) \n",
    "    { \n",
    "        if (parent[i] == -1) \n",
    "            return i; \n",
    "        return find(parent, parent[i]); \n",
    "    } \n",
    "  \n",
    "    // A utility function to do union of two subsets \n",
    "    void Union(int parent[], int x, int y) \n",
    "    { \n",
    "        int xset = find(parent, x); \n",
    "        int yset = find(parent, y); \n",
    "        parent[xset] = yset; \n",
    "    } \n",
    "  \n",
    "  \n",
    "    // The main function to check whether a given graph \n",
    "    // contains cycle or not \n",
    "    int isCycle( Graph graph) \n",
    "    { \n",
    "        // Allocate memory for creating V subsets \n",
    "        int parent[] = new int[graph.V]; \n",
    "  \n",
    "        // Initialize all subsets as single element sets \n",
    "        for (int i=0; i<graph.V; ++i) \n",
    "            parent[i]=-1; \n",
    "  \n",
    "        // Iterate through all edges of graph, find subset of both \n",
    "        // vertices of every edge, if both subsets are same, then \n",
    "        // there is cycle in graph. \n",
    "        for (int i = 0; i < graph.E; ++i) \n",
    "        { \n",
    "            int x = graph.find(parent, graph.edge[i].src); \n",
    "            int y = graph.find(parent, graph.edge[i].dest); \n",
    "  \n",
    "            if (x == y) \n",
    "                return 1; \n",
    "  \n",
    "            graph.Union(parent, x, y); \n",
    "        } \n",
    "        return 0; \n",
    "    } \n",
    "}"
   ]
  },
  {
   "cell_type": "code",
   "execution_count": 7,
   "metadata": {},
   "outputs": [
    {
     "name": "stdout",
     "output_type": "stream",
     "text": [
      "graph contains cycle\n"
     ]
    }
   ],
   "source": [
    "// Driver Method \n",
    "public static void main (String[] args) \n",
    "{ \n",
    "    /* Let us create following graph \n",
    "     0 \n",
    "    |  \\ \n",
    "    |    \\ \n",
    "    1-----2 */\n",
    "    int V = 3, E = 3; \n",
    "    Graph graph = new Graph(V, E); \n",
    "\n",
    "    // add edge 0-1 \n",
    "    graph.edge[0].src = 0; \n",
    "    graph.edge[0].dest = 1; \n",
    "\n",
    "    // add edge 1-2 \n",
    "    graph.edge[1].src = 1; \n",
    "    graph.edge[1].dest = 2; \n",
    "\n",
    "    // add edge 0-2 \n",
    "    graph.edge[2].src = 0; \n",
    "    graph.edge[2].dest = 2; \n",
    "\n",
    "    if (graph.isCycle(graph)==1) \n",
    "        System.out.println( \"graph contains cycle\" ); \n",
    "    else\n",
    "        System.out.println( \"graph doesn't contain cycle\" ); \n",
    "} \n",
    "main(args);"
   ]
  },
  {
   "cell_type": "code",
   "execution_count": 8,
   "metadata": {},
   "outputs": [],
   "source": [
    "/*\n",
    "Note that the implementation of union() and find() is naive and takes O(n) time in worst case. \n",
    "\n",
    "These methods can be improved to O(Logn) using Union by Rank or Height. \n",
    "*/"
   ]
  },
  {
   "cell_type": "markdown",
   "metadata": {},
   "source": [
    "***https://youtu.be/mHz-mx-8lJ8***"
   ]
  },
  {
   "cell_type": "code",
   "execution_count": null,
   "metadata": {},
   "outputs": [],
   "source": []
  }
 ],
 "metadata": {
  "kernelspec": {
   "display_name": "Java",
   "language": "java",
   "name": "java"
  },
  "language_info": {
   "codemirror_mode": "java",
   "file_extension": ".jshell",
   "mimetype": "text/x-java-source",
   "name": "Java",
   "pygments_lexer": "java",
   "version": "11.0.6+8-LTS"
  },
  "toc": {
   "base_numbering": 1,
   "nav_menu": {},
   "number_sections": true,
   "sideBar": true,
   "skip_h1_title": true,
   "title_cell": "Table of Contents",
   "title_sidebar": "Contents",
   "toc_cell": false,
   "toc_position": {},
   "toc_section_display": true,
   "toc_window_display": true
  }
 },
 "nbformat": 4,
 "nbformat_minor": 2
}
