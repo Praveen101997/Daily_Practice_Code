{
 "cells": [
  {
   "cell_type": "markdown",
   "metadata": {},
   "source": [
    "# ---------------------------DYNAMIC PROGRAMMING----------------------------\n",
    "**==============================================================================**\n",
    "# Assembled By - Praveen Kumar Sharma\n",
    "# Source - GeeksForGeeks\n",
    "**==============================================================================**"
   ]
  },
  {
   "cell_type": "code",
   "execution_count": 1,
   "metadata": {},
   "outputs": [],
   "source": [
    "import java.util.*;\n",
    "import java.io.*;\n",
    "import java.util.Arrays;\n",
    "String[] args =new String[0];"
   ]
  },
  {
   "cell_type": "markdown",
   "metadata": {},
   "source": [
    "## **191. Ugly Numbers**\n",
    "https://www.geeksforgeeks.org/ugly-numbers/"
   ]
  },
  {
   "cell_type": "code",
   "execution_count": 2,
   "metadata": {},
   "outputs": [],
   "source": [
    "/*\n",
    "Ugly numbers are numbers whose only prime factors are 2, 3 or 5. \n",
    "The sequence 1, 2, 3, 4, 5, 6, 8, 9, 10, 12, 15, … shows the first 11 ugly numbers. \n",
    "By convention, 1 is included.\n",
    "\n",
    "Given a number n, the task is to find n’th Ugly number.\n",
    "*/"
   ]
  },
  {
   "cell_type": "code",
   "execution_count": 3,
   "metadata": {},
   "outputs": [],
   "source": [
    "/*\n",
    "Examples:\n",
    "\n",
    "Input  : n = 7\n",
    "Output : 8\n",
    "\n",
    "Input  : n = 10\n",
    "Output : 12\n",
    "\n",
    "Input  : n = 15\n",
    "Output : 24\n",
    "\n",
    "Input  : n = 150\n",
    "Output : 5832\n",
    "*/"
   ]
  },
  {
   "cell_type": "code",
   "execution_count": 4,
   "metadata": {},
   "outputs": [],
   "source": [
    "/*\n",
    "Method 1 (Simple)\n",
    "This method is not time efficient as it checks for all integers until ugly number count becomes n, \n",
    "but space complexity of this method is O(1)\n",
    "\n",
    "Loop for all positive integers until ugly number count is smaller than n, \n",
    "if an integer is ugly than increment ugly number count.\n",
    "\n",
    "To check if a number is ugly, \n",
    "divide the number by greatest divisible powers of 2, 3 and 5, \n",
    "if the number becomes 1 then it is an ugly number otherwise not.\n",
    "\n",
    "For example, \n",
    "let us see how to check for 300 is ugly or not. \n",
    "Greatest divisible power of 2 is 4, after dividing 300 by 4 we get 75. \n",
    "Greatest divisible power of 3 is 3, after dividing 75 by 3 we get 25. \n",
    "Greatest divisible power of 5 is 25, after dividing 25 by 25 we get 1. \n",
    "Since we get 1 finally, 300 is ugly number.\n",
    "*/"
   ]
  },
  {
   "cell_type": "code",
   "execution_count": 5,
   "metadata": {},
   "outputs": [
    {
     "name": "stdout",
     "output_type": "stream",
     "text": [
      "150th ugly no. is 5832\n"
     ]
    }
   ],
   "source": [
    "/*This function divides a by greatest \n",
    "divisible power of b*/\n",
    "static int maxDivide(int a, int b) \n",
    "{ \n",
    "    while(a % b == 0) \n",
    "        a = a/b; \n",
    "    return a; \n",
    "} \n",
    "\n",
    "/* Function to check if a number  \n",
    "is ugly or not */\n",
    "static int isUgly(int no) \n",
    "{ \n",
    "    no = maxDivide(no, 2); \n",
    "    no = maxDivide(no, 3); \n",
    "    no = maxDivide(no, 5); \n",
    "\n",
    "    return (no == 1)? 1 : 0; \n",
    "} \n",
    "\n",
    "/* Function to get the nth ugly  \n",
    "number*/\n",
    "static int getNthUglyNo(int n) \n",
    "{ \n",
    "    int i = 1; \n",
    "\n",
    "    // ugly number count  \n",
    "    int count = 1;  \n",
    "\n",
    "    // check for all integers  \n",
    "    // until count becomes n  \n",
    "    while(n > count) \n",
    "    { \n",
    "        i++; \n",
    "        if(isUgly(i) == 1) \n",
    "            count++; \n",
    "    } \n",
    "    return i; \n",
    "} \n",
    "\n",
    "/* Driver program to test above \n",
    "functions */\n",
    "public static void main(String args[]) \n",
    "{ \n",
    "    int no = getNthUglyNo(150); \n",
    "    System.out.println(\"150th ugly \"\n",
    "                   + \"no. is \"+ no); \n",
    "} \n",
    "main(args);"
   ]
  },
  {
   "cell_type": "code",
   "execution_count": 6,
   "metadata": {},
   "outputs": [],
   "source": [
    "/*\n",
    "Method 2 (Use Dynamic Programming)\n",
    "\n",
    "Here is a time efficient solution with O(n) extra space. \n",
    "The ugly-number sequence is 1, 2, 3, 4, 5, 6, 8, 9, 10, 12, 15, …\n",
    "\n",
    "because every number can only be divided by 2, 3, 5, \n",
    "one way to look at the sequence is to split the sequence to three groups as below:\n",
    "     (1) 1×2, 2×2, 3×2, 4×2, 5×2, …\n",
    "     (2) 1×3, 2×3, 3×3, 4×3, 5×3, …\n",
    "     (3) 1×5, 2×5, 3×5, 4×5, 5×5, …\n",
    "\n",
    "We can find that every subsequence is the ugly-sequence itself (1, 2, 3, 4, 5, …) multiply 2, 3, 5. \n",
    "Then we use similar merge method as merge sort, \n",
    "    to get every ugly number from the three subsequence. \n",
    "Every step we choose the smallest one, and move one step after.\n",
    "*/"
   ]
  },
  {
   "cell_type": "code",
   "execution_count": 7,
   "metadata": {},
   "outputs": [],
   "source": [
    "/*\n",
    "Time Complexity: O(n)\n",
    "Auxiliary Space: O(n)\n",
    "\n",
    "Algorithm:\n",
    "\n",
    "1 Declare an array for ugly numbers:  ugly[n]\n",
    "2 Initialize first ugly no:  ugly[0] = 1\n",
    "3 Initialize three array index variables i2, i3, i5 to point to \n",
    "   1st element of the ugly array: \n",
    "        i2 = i3 = i5 =0; \n",
    "4 Initialize 3 choices for the next ugly no:\n",
    "         next_mulitple_of_2 = ugly[i2]*2;\n",
    "         next_mulitple_of_3 = ugly[i3]*3\n",
    "         next_mulitple_of_5 = ugly[i5]*5;\n",
    "5 Now go in a loop to fill all ugly numbers till 150:\n",
    "For (i = 1; i < 150; i++ ) \n",
    "{\n",
    "    \n",
    "    next_ugly_no  = Min(next_mulitple_of_2,\n",
    "                        next_mulitple_of_3,\n",
    "                        next_mulitple_of_5); \n",
    "\n",
    "    ugly[i] =  next_ugly_no       \n",
    "\n",
    "    if (next_ugly_no  == next_mulitple_of_2) \n",
    "    {             \n",
    "        i2 = i2 + 1;        \n",
    "        next_mulitple_of_2 = ugly[i2]*2;\n",
    "    } \n",
    "    if (next_ugly_no  == next_mulitple_of_3) \n",
    "    {             \n",
    "        i3 = i3 + 1;        \n",
    "        next_mulitple_of_3 = ugly[i3]*3;\n",
    "     }            \n",
    "     if (next_ugly_no  == next_mulitple_of_5)\n",
    "     {    \n",
    "        i5 = i5 + 1;        \n",
    "        next_mulitple_of_5 = ugly[i5]*5;\n",
    "     } \n",
    "     \n",
    "}\n",
    "6.return next_ugly_no\n",
    "*/"
   ]
  },
  {
   "cell_type": "code",
   "execution_count": 8,
   "metadata": {},
   "outputs": [],
   "source": [
    "/*\n",
    "Example:\n",
    "Let us see how it works\n",
    "\n",
    "initialize\n",
    "   ugly[] =  | 1 |\n",
    "   i2 =  i3 = i5 = 0;\n",
    "\n",
    "First iteration\n",
    "   ugly[1] = Min(ugly[i2]*2, ugly[i3]*3, ugly[i5]*5)\n",
    "            = Min(2, 3, 5)\n",
    "            = 2\n",
    "   ugly[] =  | 1 | 2 |\n",
    "   i2 = 1,  i3 = i5 = 0  (i2 got incremented ) \n",
    "\n",
    "Second iteration\n",
    "    ugly[2] = Min(ugly[i2]*2, ugly[i3]*3, ugly[i5]*5)\n",
    "             = Min(4, 3, 5)\n",
    "             = 3\n",
    "    ugly[] =  | 1 | 2 | 3 |\n",
    "    i2 = 1,  i3 =  1, i5 = 0  (i3 got incremented ) \n",
    "\n",
    "Third iteration\n",
    "    ugly[3] = Min(ugly[i2]*2, ugly[i3]*3, ugly[i5]*5)\n",
    "             = Min(4, 6, 5)\n",
    "             = 4\n",
    "    ugly[] =  | 1 | 2 | 3 |  4 |\n",
    "    i2 = 2,  i3 =  1, i5 = 0  (i2 got incremented )\n",
    "\n",
    "Fourth iteration\n",
    "    ugly[4] = Min(ugly[i2]*2, ugly[i3]*3, ugly[i5]*5)\n",
    "              = Min(6, 6, 5)\n",
    "              = 5\n",
    "    ugly[] =  | 1 | 2 | 3 |  4 | 5 |\n",
    "    i2 = 2,  i3 =  1, i5 = 1  (i5 got incremented )\n",
    "\n",
    "Fifth iteration\n",
    "    ugly[4] = Min(ugly[i2]*2, ugly[i3]*3, ugly[i5]*5)\n",
    "              = Min(6, 6, 10)\n",
    "              = 6\n",
    "    ugly[] =  | 1 | 2 | 3 |  4 | 5 | 6 |\n",
    "    i2 = 3,  i3 =  2, i5 = 1  (i2 and i3 got incremented )\n",
    "\n",
    "Will continue same way till I < 150\n",
    "*/"
   ]
  },
  {
   "cell_type": "code",
   "execution_count": 9,
   "metadata": {},
   "outputs": [],
   "source": [
    "/* Function to get the nth ugly number*/\n",
    "int getNthUglyNo(int n) \n",
    "{ \n",
    "    int ugly[] = new int[n];  // To store ugly numbers \n",
    "    int i2 = 0, i3 = 0, i5 = 0; \n",
    "    int next_multiple_of_2 = 2; \n",
    "    int next_multiple_of_3 = 3; \n",
    "    int next_multiple_of_5 = 5; \n",
    "    int next_ugly_no = 1; \n",
    "\n",
    "    ugly[0] = 1; \n",
    "\n",
    "    for(int i = 1; i < n; i++) \n",
    "    { \n",
    "        next_ugly_no = Math.min(next_multiple_of_2, \n",
    "                              Math.min(next_multiple_of_3, \n",
    "                                    next_multiple_of_5)); \n",
    "\n",
    "        ugly[i] = next_ugly_no; \n",
    "        if (next_ugly_no == next_multiple_of_2) \n",
    "        { \n",
    "           i2 = i2+1; \n",
    "           next_multiple_of_2 = ugly[i2]*2; \n",
    "        } \n",
    "        if (next_ugly_no == next_multiple_of_3) \n",
    "        { \n",
    "           i3 = i3+1; \n",
    "           next_multiple_of_3 = ugly[i3]*3; \n",
    "        } \n",
    "        if (next_ugly_no == next_multiple_of_5) \n",
    "        { \n",
    "           i5 = i5+1; \n",
    "           next_multiple_of_5 = ugly[i5]*5; \n",
    "        } \n",
    "    } /*End of for loop (i=1; i<n; i++) */\n",
    "    return next_ugly_no; \n",
    "} "
   ]
  },
  {
   "cell_type": "code",
   "execution_count": 10,
   "metadata": {},
   "outputs": [
    {
     "name": "stdout",
     "output_type": "stream",
     "text": [
      "5832\n"
     ]
    }
   ],
   "source": [
    "/* Driver program to test above functions */\n",
    "public static void main(String args[]) \n",
    "{ \n",
    "    int n = 150; \n",
    "    System.out.println(getNthUglyNo(n)); \n",
    "} \n",
    "main(args);"
   ]
  },
  {
   "cell_type": "markdown",
   "metadata": {},
   "source": [
    "## **192. Super Ugly Number (Number whose prime factors are in given set)**\n",
    "https://www.geeksforgeeks.org/super-ugly-number-number-whose-prime-factors-given-set/"
   ]
  },
  {
   "cell_type": "code",
   "execution_count": 11,
   "metadata": {},
   "outputs": [],
   "source": [
    "/*\n",
    "Super ugly numbers are positive numbers whose all prime factors are in the given prime list. \n",
    "Given a number n, the task is to find n’th Super Ugly number.\n",
    "\n",
    "It may be assumed that given set of primes is sorted. \n",
    "Also, first Super Ugly number is 1 by convention.\n",
    "*/"
   ]
  },
  {
   "cell_type": "code",
   "execution_count": 12,
   "metadata": {},
   "outputs": [],
   "source": [
    "/*\n",
    "Examples:\n",
    "\n",
    "Input  : primes[] = [2, 5]\n",
    "         n = 5\n",
    "Output : 8\n",
    "Super Ugly numbers with given prime factors \n",
    "are 1, 2, 4, 5, 8, ...\n",
    "Fifth Super Ugly number is 8\n",
    "\n",
    "Input  : primes[] = [2, 3, 5]\n",
    "         n = 50\n",
    "Output : 243\n",
    "\n",
    "Input : primes[] = [3, 5, 7, 11, 13]\n",
    "        n = 9\n",
    "Output: 21\n",
    "*/"
   ]
  },
  {
   "cell_type": "code",
   "execution_count": 13,
   "metadata": {},
   "outputs": [],
   "source": [
    "/*\n",
    "A simple solution for this problem is to one by one pick each number starting from 1 and find its all primes factors, \n",
    "if all prime factors lie in the given set of primes that means number is Super Ugly. \n",
    "Repeat this process until we get n’th Super Ugly Number .\n",
    "*/"
   ]
  },
  {
   "cell_type": "code",
   "execution_count": 14,
   "metadata": {},
   "outputs": [],
   "source": [
    "/*\n",
    "An efficient solution for this problem is similar to Method-2 of Ugly Number. Here is the algorithm :\n",
    "\n",
    "1. Let k be size of given array of prime numbers.\n",
    "2. Declare a set for super ugly numbers.\n",
    "3. Insert first ugly number (which is always 1) into set.\n",
    "4. Initialize array multiple_of[k] of size k with 0. Each element of this array is iterator for corresponding prime in primes[k] array.\n",
    "5. Initialize nextMultipe[k] array with primes[k]. This array behaves like next multiple variables of each prime in given primes[k] array \n",
    "    i.e; nextMultiple[i] = primes[i] * ugly[++multiple_of[i]].\n",
    "6. Now loop until there are n elements in set ugly.\n",
    "    a). Find minimum among current multiples of primes in nextMultiple[] array and insert it in the set of ugly numbers.\n",
    "    b). Then find this current minimum is multiple of which prime .\n",
    "    c). Increase iterator by 1 i.e; ++multiple_Of[i], for next multiple of current selected prime and update nextMultiple for it.\n",
    "*/"
   ]
  },
  {
   "cell_type": "markdown",
   "metadata": {},
   "source": [
    "***https://ideone.com/ltSTp6***"
   ]
  },
  {
   "cell_type": "code",
   "execution_count": 15,
   "metadata": {},
   "outputs": [],
   "source": [
    "/*\n",
    "Time Complexity: O(nlogn)\n",
    "Auxiliary Space: O(n)\n",
    "\n",
    "Another method (using priority_queue)\n",
    "1. Here we use min heap priority_queue.\n",
    "2. The idea is to push the first ugly no. which is 1 into priority_queue \n",
    "   and at every iteration take the top of priority_queue and push all the mulitples of that top into priotiy_queue.\n",
    "3. Assuming a[] = {2, 3, 5},\n",
    "    so at first iteration 1 is top so 1 is popped and 1 * 2, 1 * 3, 1 * 5 is pushed.\n",
    "    At second iteration min is 2, so it is popped and 2 * 2, 2 * 3, 2 * 5 is pushed and so on.\n",
    "*/"
   ]
  },
  {
   "cell_type": "markdown",
   "metadata": {},
   "source": [
    "***https://ideone.com/xFHI49***"
   ]
  },
  {
   "cell_type": "markdown",
   "metadata": {},
   "source": [
    "## **193. Maximum size square sub-matrix with all 1s**\n",
    "https://www.geeksforgeeks.org/maximum-size-sub-matrix-with-all-1s-in-a-binary-matrix/"
   ]
  },
  {
   "cell_type": "code",
   "execution_count": 16,
   "metadata": {},
   "outputs": [],
   "source": [
    "/*\n",
    "Given a binary matrix, find out the maximum size square sub-matrix with all 1s.\n",
    "\n",
    "For example, consider the below binary matrix.\n",
    "*/"
   ]
  },
  {
   "cell_type": "markdown",
   "metadata": {},
   "source": [
    "<img src = \"https://media.geeksforgeeks.org/wp-content/cdn-uploads/Maximum-size-square-sub-matrix-with-all-1s.png\"/>"
   ]
  },
  {
   "cell_type": "code",
   "execution_count": 17,
   "metadata": {},
   "outputs": [],
   "source": [
    "/*\n",
    "Algorithm:\n",
    "\n",
    "Let the given binary matrix be M[R][C]. \n",
    "\n",
    "The idea of the algorithm is to construct an auxiliary size matrix S[][] \n",
    "in which each entry S[i][j] represents size of the square sub-matrix with all 1s including M[i][j] \n",
    "where M[i][j] is the rightmost and bottommost entry in sub-matrix.\n",
    "*/"
   ]
  },
  {
   "cell_type": "code",
   "execution_count": 18,
   "metadata": {},
   "outputs": [],
   "source": [
    "/*\n",
    "1) Construct a sum matrix S[R][C] for the given M[R][C].\n",
    "     a)    Copy first row and first columns as it is from M[][] to S[][]\n",
    "     b)    For other entries, use following expressions to construct S[][]\n",
    "         If M[i][j] is 1 then\n",
    "            S[i][j] = min(S[i][j-1], S[i-1][j], S[i-1][j-1]) + 1\n",
    "         Else //If M[i][j] is 0\n",
    "            S[i][j] = 0\n",
    "2) Find the maximum entry in S[R][C]\n",
    "3) Using the value and coordinates of maximum entry in S[i], print \n",
    "   sub-matrix of M[][]\n",
    "*/"
   ]
  },
  {
   "cell_type": "code",
   "execution_count": 19,
   "metadata": {},
   "outputs": [],
   "source": [
    "/*\n",
    "For the given M[R][C] in above example, constructed S[R][C] would be:\n",
    "\n",
    "   0  1  1  0  1\n",
    "   1  1  0  1  0\n",
    "   0  1  1  1  0\n",
    "   1  1  2  2  0\n",
    "   1  2  2  3  1\n",
    "   0  0  0  0  0\n",
    "*/"
   ]
  },
  {
   "cell_type": "code",
   "execution_count": 20,
   "metadata": {},
   "outputs": [],
   "source": [
    "/*\n",
    "The value of maximum entry in above matrix is 3 and coordinates of the entry are (4, 3). \n",
    "Using the maximum value and its coordinates, \n",
    "    we can find out the required sub-matrix.\n",
    "*/"
   ]
  },
  {
   "cell_type": "code",
   "execution_count": 21,
   "metadata": {},
   "outputs": [],
   "source": [
    "// method for Maximum size square sub-matrix with all 1s \n",
    "static void printMaxSubSquare(int M[][]) \n",
    "{ \n",
    "    int i,j; \n",
    "    int R = M.length;         //no of rows in M[][] \n",
    "    int C = M[0].length;     //no of columns in M[][] \n",
    "    int S[][] = new int[R][C];      \n",
    "\n",
    "    int max_of_s, max_i, max_j;  \n",
    "\n",
    "    /* Set first column of S[][]*/\n",
    "    for(i = 0; i < R; i++) \n",
    "        S[i][0] = M[i][0]; \n",
    "\n",
    "    /* Set first row of S[][]*/\n",
    "    for(j = 0; j < C; j++) \n",
    "        S[0][j] = M[0][j]; \n",
    "\n",
    "    /* Construct other entries of S[][]*/\n",
    "    for(i = 1; i < R; i++) \n",
    "    { \n",
    "        for(j = 1; j < C; j++) \n",
    "        { \n",
    "            if(M[i][j] == 1)  \n",
    "                S[i][j] = Math.min(S[i][j-1], \n",
    "                            Math.min(S[i-1][j], S[i-1][j-1])) + 1; \n",
    "            else\n",
    "                S[i][j] = 0; \n",
    "        }  \n",
    "    }      \n",
    "\n",
    "    /* Find the maximum entry, and indexes of maximum entry  \n",
    "        in S[][] */\n",
    "    max_of_s = S[0][0]; max_i = 0; max_j = 0; \n",
    "    for(i = 0; i < R; i++) \n",
    "    { \n",
    "        for(j = 0; j < C; j++) \n",
    "        { \n",
    "            if(max_of_s < S[i][j]) \n",
    "            { \n",
    "                max_of_s = S[i][j]; \n",
    "                max_i = i;  \n",
    "                max_j = j; \n",
    "            }      \n",
    "        }                  \n",
    "    }      \n",
    "\n",
    "    System.out.println(\"Maximum size sub-matrix is: \"); \n",
    "    for(i = max_i; i > max_i - max_of_s; i--) \n",
    "    { \n",
    "        for(j = max_j; j > max_j - max_of_s; j--) \n",
    "        { \n",
    "            System.out.print(M[i][j] + \" \"); \n",
    "        }  \n",
    "        System.out.println(); \n",
    "    }  \n",
    "} "
   ]
  },
  {
   "cell_type": "code",
   "execution_count": 22,
   "metadata": {},
   "outputs": [
    {
     "name": "stdout",
     "output_type": "stream",
     "text": [
      "Maximum size sub-matrix is: \n",
      "1 1 1 \n",
      "1 1 1 \n",
      "1 1 1 \n"
     ]
    }
   ],
   "source": [
    "// Driver program  \n",
    "public static void main(String[] args)  \n",
    "{ \n",
    "    int M[][] = {{0, 1, 1, 0, 1},  \n",
    "                {1, 1, 0, 1, 0},  \n",
    "                {0, 1, 1, 1, 0}, \n",
    "                {1, 1, 1, 1, 0}, \n",
    "                {1, 1, 1, 1, 1}, \n",
    "                {0, 0, 0, 0, 0}}; \n",
    "\n",
    "    printMaxSubSquare(M); \n",
    "} \n",
    "main(args);"
   ]
  },
  {
   "cell_type": "code",
   "execution_count": 23,
   "metadata": {},
   "outputs": [],
   "source": [
    "/*\n",
    "Time Complexity: O(m*n) where m is number of rows and n is number of columns in the given matrix.\n",
    "Auxiliary Space: O(m*n) where m is number of rows and n is number of columns in the given matrix.\n",
    "*/"
   ]
  },
  {
   "cell_type": "markdown",
   "metadata": {},
   "source": [
    "***https://youtu.be/vI4PE4JdadE***"
   ]
  },
  {
   "cell_type": "markdown",
   "metadata": {},
   "source": [
    "## **194. Subset Sum Problem | DP-25**\n",
    "https://www.geeksforgeeks.org/subset-sum-problem-dp-25/"
   ]
  },
  {
   "cell_type": "code",
   "execution_count": 24,
   "metadata": {},
   "outputs": [],
   "source": [
    "/*\n",
    "Given a set of non-negative integers, and a value sum, \n",
    "determine if there is a subset of the given set with sum equal to given sum.\n",
    "*/"
   ]
  },
  {
   "cell_type": "code",
   "execution_count": 25,
   "metadata": {},
   "outputs": [],
   "source": [
    "/*\n",
    "Example:\n",
    "\n",
    "Input:  set[] = {3, 34, 4, 12, 5, 2}, sum = 9\n",
    "Output:  True  //There is a subset (4, 5) with sum 9.\n",
    "*/"
   ]
  },
  {
   "cell_type": "code",
   "execution_count": 26,
   "metadata": {},
   "outputs": [],
   "source": [
    "/*\n",
    "Let isSubSetSum(int set[], int n, int sum) be the function \n",
    "to find whether there is a subset of set[] with sum equal to sum. n is the number of elements in set[].\n",
    "\n",
    "The isSubsetSum problem can be divided into two subproblems\n",
    "    a) Include the last element, recur for n = n-1, sum = sum – set[n-1]\n",
    "    b) Exclude the last element, recur for n = n-1.\n",
    "If any of the above the above subproblems return true, then return true.\n",
    "*/"
   ]
  },
  {
   "cell_type": "code",
   "execution_count": 27,
   "metadata": {},
   "outputs": [],
   "source": [
    "/*\n",
    "Following is the recursive formula for isSubsetSum() problem.\n",
    "\n",
    "isSubsetSum(set, n, sum) = isSubsetSum(set, n-1, sum) || \n",
    "                           isSubsetSum(set, n-1, sum-set[n-1])\n",
    "Base Cases:\n",
    "isSubsetSum(set, n, sum) = false, if sum > 0 and n == 0\n",
    "isSubsetSum(set, n, sum) = true, if sum == 0 \n",
    "*/"
   ]
  },
  {
   "cell_type": "markdown",
   "metadata": {},
   "source": [
    "<img src = \"https://media.geeksforgeeks.org/wp-content/cdn-uploads/Subset-Sum-Problem1.jpg\"/>"
   ]
  },
  {
   "cell_type": "code",
   "execution_count": 28,
   "metadata": {},
   "outputs": [],
   "source": [
    "/*\n",
    "Following is naive recursive implementation that simply follows the recursive structure mentioned above.\n",
    "*/"
   ]
  },
  {
   "cell_type": "code",
   "execution_count": 29,
   "metadata": {},
   "outputs": [],
   "source": [
    "// Returns true if there is a subset \n",
    "// of set[] with sum equal to given sum \n",
    "static boolean isSubsetSum(int set[], \n",
    "                        int n, int sum) \n",
    "{ \n",
    "    // Base Cases \n",
    "    if (sum == 0) \n",
    "        return true; \n",
    "    if (n == 0 && sum != 0) \n",
    "        return false; \n",
    "\n",
    "    // If last element is greater than  \n",
    "    // sum, then ignore it \n",
    "    if (set[n-1] > sum) \n",
    "        return isSubsetSum(set, n-1, sum); \n",
    "\n",
    "    /* else, check if sum can be obtained  \n",
    "    by any of the following \n",
    "        (a) including the last element \n",
    "        (b) excluding the last element */\n",
    "    return isSubsetSum(set, n-1, sum) ||  \n",
    "        isSubsetSum(set, n-1, sum-set[n-1]); \n",
    "} "
   ]
  },
  {
   "cell_type": "code",
   "execution_count": 30,
   "metadata": {},
   "outputs": [
    {
     "name": "stdout",
     "output_type": "stream",
     "text": [
      "Found a subset with given sum\n"
     ]
    }
   ],
   "source": [
    "/* Driver program to test above function */\n",
    "public static void main (String args[]) \n",
    "{ \n",
    "    int set[] = {3, 34, 4, 12, 5, 2}; \n",
    "    int sum = 9; \n",
    "    int n = set.length; \n",
    "    if (isSubsetSum(set, n, sum) == true) \n",
    "        System.out.println(\"Found a subset\" + \" with given sum\"); \n",
    "    else\n",
    "        System.out.println(\"No subset with\" + \" given sum\"); \n",
    "} \n",
    "main(args);"
   ]
  },
  {
   "cell_type": "code",
   "execution_count": 31,
   "metadata": {},
   "outputs": [],
   "source": [
    "/*\n",
    "Time complexity of the above solution is O(sum*n).\n",
    "\n",
    "The above solution may try all subsets of given set in worst case. \n",
    "Therefore time complexity of the above solution is exponential. \n",
    "The problem is in-fact NP-Complete (There is no known polynomial time solution for this problem).\n",
    "\n",
    "We can solve the problem in Pseudo-polynomial time using Dynamic programming. \n",
    "We create a boolean 2D table subset[][] and fill it in bottom up manner. \n",
    "The value of subset[i][j] will be true \n",
    "    if there is a subset of set[0..j-1] with sum equal to i., \n",
    "otherwise \n",
    "    false. \n",
    "Finally, we return subset[sum][n]\n",
    "*/"
   ]
  },
  {
   "cell_type": "code",
   "execution_count": 32,
   "metadata": {},
   "outputs": [],
   "source": [
    "// Returns true if there is a subset of  \n",
    "// set[] with sun equal to given sum \n",
    "static boolean isSubsetSum(int set[],  \n",
    "                         int n, int sum) \n",
    "{ \n",
    "    // The value of subset[i][j] will be \n",
    "    // true if there is a subset of  \n",
    "    // set[0..j-1] with sum equal to i \n",
    "    boolean subset[][] =  \n",
    "                 new boolean[sum+1][n+1]; \n",
    "\n",
    "    // If sum is 0, then answer is true \n",
    "    for (int i = 0; i <= n; i++) \n",
    "        subset[0][i] = true; \n",
    "\n",
    "    // If sum is not 0 and set is empty, \n",
    "    // then answer is false \n",
    "    for (int i = 1; i <= sum; i++) \n",
    "        subset[i][0] = false; \n",
    "\n",
    "    // Fill the subset table in botton \n",
    "    // up manner \n",
    "    for (int i = 1; i <= sum; i++) \n",
    "    { \n",
    "        for (int j = 1; j <= n; j++) \n",
    "        { \n",
    "            subset[i][j] = subset[i][j-1]; \n",
    "            if (i >= set[j-1]) \n",
    "            subset[i][j] = subset[i][j] ||  \n",
    "                 subset[i - set[j-1]][j-1]; \n",
    "        } \n",
    "    } \n",
    "\n",
    "    /* // uncomment this code to print table \n",
    "    for (int i = 0; i <= sum; i++) \n",
    "    { \n",
    "    for (int j = 0; j <= n; j++) \n",
    "        System.out.println (subset[i][j]); \n",
    "    } */\n",
    "\n",
    "    return subset[sum][n]; \n",
    "} "
   ]
  },
  {
   "cell_type": "code",
   "execution_count": 33,
   "metadata": {},
   "outputs": [
    {
     "name": "stdout",
     "output_type": "stream",
     "text": [
      "Found a subset with given sum\n"
     ]
    }
   ],
   "source": [
    "/* Driver program to test above function */\n",
    "public static void main (String args[]) \n",
    "{ \n",
    "    int set[] = {3, 34, 4, 12, 5, 2}; \n",
    "    int sum = 9; \n",
    "    int n = set.length; \n",
    "    if (isSubsetSum(set, n, sum) == true) \n",
    "        System.out.println(\"Found a subset\" + \" with given sum\"); \n",
    "    else\n",
    "        System.out.println(\"No subset\"+\" with given sum\"); \n",
    "} \n",
    "main(args);"
   ]
  },
  {
   "cell_type": "markdown",
   "metadata": {},
   "source": [
    "**Related Link**\n",
    "\n",
    "***https://www.geeksforgeeks.org/subset-sum-problem-osum-space/***\n",
    "\n",
    "***https://www.geeksforgeeks.org/perfect-sum-problem-print-subsets-given-sum/***"
   ]
  },
  {
   "cell_type": "markdown",
   "metadata": {},
   "source": [
    "## **195. Minimum number of jumps to reach end**\n",
    "https://www.geeksforgeeks.org/minimum-number-of-jumps-to-reach-end-of-a-given-array/"
   ]
  },
  {
   "cell_type": "code",
   "execution_count": 34,
   "metadata": {},
   "outputs": [],
   "source": [
    "/*\n",
    "Given an array of integers \n",
    "where each element represents the max number of steps that can be made forward from that element. \n",
    "\n",
    "Write a function to return the minimum number of jumps to reach the end of the array (starting from the first element). \n",
    "If an element is 0, then cannot move through that element.\n",
    "*/"
   ]
  },
  {
   "cell_type": "markdown",
   "metadata": {},
   "source": [
    "**Relatd Link :**  ***https://www.geeksforgeeks.org/minimum-number-jumps-reach-endset-2on-solution/***"
   ]
  },
  {
   "cell_type": "code",
   "execution_count": 35,
   "metadata": {},
   "outputs": [],
   "source": [
    "/*\n",
    "Example:\n",
    "\n",
    "Input: arr[] = {1, 3, 5, 8, 9, 2, 6, 7, 6, 8, 9}\n",
    "Output: 3 (1-> 3 -> 8 ->9)\n",
    "\n",
    "First element is 1, so can only go to 3. \n",
    "Second element is 3, so can make at most 3 steps \n",
    "eg to 5 or 8 or 9.\n",
    "*/"
   ]
  },
  {
   "cell_type": "code",
   "execution_count": 36,
   "metadata": {},
   "outputs": [],
   "source": [
    "/*\n",
    "Method 1 (Naive Recursive Approach)\n",
    "\n",
    "A naive approach is to start from the first element and recursively call for all the elements reachable from first element. \n",
    "The minimum number of jumps to reach end from first can be calculated \n",
    "    using minimum number of jumps needed to reach end from the elements reachable from first.\n",
    "\n",
    "minJumps(start, end) = Min ( minJumps(k, end) ) for all k reachable from start\n",
    "*/"
   ]
  },
  {
   "cell_type": "code",
   "execution_count": 37,
   "metadata": {},
   "outputs": [
    {
     "name": "stdout",
     "output_type": "stream",
     "text": [
      "Minimum number of jumps to reach end is 4"
     ]
    }
   ],
   "source": [
    "// Returns minimum number of \n",
    "// jumps to reach arr[h] from arr[l] \n",
    "static int minJumps(int arr[], int l, int h) \n",
    "{ \n",
    "    // Base case: when source \n",
    "    // and destination are same \n",
    "    if (h == l) \n",
    "        return 0; \n",
    "\n",
    "    // When nothing is reachable \n",
    "    // from the given source \n",
    "    if (arr[l] == 0) \n",
    "        return Integer.MAX_VALUE; \n",
    "\n",
    "    // Traverse through all the points \n",
    "    // reachable from arr[l]. Recursively \n",
    "    // get the minimum number of jumps \n",
    "    // needed to reach arr[h] from these \n",
    "    // reachable points. \n",
    "    int min = Integer.MAX_VALUE; \n",
    "    for (int i = l + 1; i <= h && i <= l + arr[l]; i++) { \n",
    "        int jumps = minJumps(arr, i, h); \n",
    "        if (jumps != Integer.MAX_VALUE && jumps + 1 < min) \n",
    "            min = jumps + 1; \n",
    "    } \n",
    "    return min; \n",
    "} \n",
    "\n",
    "// Driver code \n",
    "public static void main(String args[]) \n",
    "{ \n",
    "    int arr[] = { 1, 3, 6, 3, 2, 3, 6, 8, 9, 5 }; \n",
    "    int n = arr.length; \n",
    "    System.out.print(\"Minimum number of jumps to reach end is \"\n",
    "                     + minJumps(arr, 0, n - 1)); \n",
    "} \n",
    "main(args);"
   ]
  },
  {
   "cell_type": "code",
   "execution_count": 38,
   "metadata": {},
   "outputs": [],
   "source": [
    "/*\n",
    "If we trace the execution of this method, \n",
    "    we can see that there will be overlapping subproblems. \n",
    "\n",
    "For example, \n",
    "minJumps(3, 9) will be called two times as arr[3] is reachable from arr[1] and arr[2]. \n",
    "So this problem has both properties (optimal substructure and overlapping subproblems) of Dynamic Programming.\n",
    "*/"
   ]
  },
  {
   "cell_type": "code",
   "execution_count": 39,
   "metadata": {},
   "outputs": [],
   "source": [
    "/*\n",
    "Method 2 (Dynamic Programming)\n",
    "Time Complexity: O(n^2)\n",
    "\n",
    "In this method, \n",
    "we build a jumps[] array from left to right \n",
    "    such that jumps[i] indicates the minimum number of jumps needed to reach arr[i] from arr[0]. \n",
    "Finally, we return jumps[n-1].\n",
    "*/"
   ]
  },
  {
   "cell_type": "code",
   "execution_count": 40,
   "metadata": {},
   "outputs": [
    {
     "name": "stdout",
     "output_type": "stream",
     "text": [
      "Minimum number of jumps to reach end is : 3\n"
     ]
    }
   ],
   "source": [
    "private static int minJumps(int[] arr, int n) \n",
    "{ \n",
    "    int jumps[] = new int[n]; // jumps[n-1] will hold the \n",
    "    // result \n",
    "    int i, j; \n",
    "\n",
    "    if (n == 0 || arr[0] == 0) \n",
    "        return Integer.MAX_VALUE; // if first element is 0, \n",
    "    // end cannot be reached \n",
    "\n",
    "    jumps[0] = 0; \n",
    "\n",
    "    // Find the minimum number of jumps to reach arr[i] \n",
    "    // from arr[0], and assign this value to jumps[i] \n",
    "    for (i = 1; i < n; i++) { \n",
    "        jumps[i] = Integer.MAX_VALUE; \n",
    "        for (j = 0; j < i; j++) { \n",
    "            if (i <= j + arr[j] && jumps[j] != Integer.MAX_VALUE) { \n",
    "                jumps[i] = Math.min(jumps[i], jumps[j] + 1); \n",
    "                break; \n",
    "            } \n",
    "        } \n",
    "    } \n",
    "    return jumps[n - 1]; \n",
    "} \n",
    "\n",
    "// driver program to test above function \n",
    "public static void main(String[] args) \n",
    "{ \n",
    "    int arr[] = { 1, 3, 6, 1, 0, 9 }; \n",
    "\n",
    "    System.out.println(\"Minimum number of jumps to reach end is : \" + minJumps(arr, arr.length)); \n",
    "} \n",
    "main(args);"
   ]
  },
  {
   "cell_type": "code",
   "execution_count": 41,
   "metadata": {},
   "outputs": [],
   "source": [
    "/*\n",
    "Method 3 (Dynamic Programming)\n",
    "Time Complexity: O(n^2) in worst case.\n",
    "\n",
    "In this method, \n",
    "    we build jumps[] array from right to left \n",
    "    such that jumps[i] indicates the minimum number of jumps needed to reach arr[n-1] from arr[i]. \n",
    "Finally, we return arr[0].\n",
    "*/"
   ]
  },
  {
   "cell_type": "code",
   "execution_count": 42,
   "metadata": {},
   "outputs": [
    {
     "name": "stdout",
     "output_type": "stream",
     "text": [
      "Minimum number of jumps to reach end is 3\n"
     ]
    }
   ],
   "source": [
    "// Returns Minimum number \n",
    "// of jumps to reach end \n",
    "static int minJumps(int arr[], \n",
    "                    int n) \n",
    "{ \n",
    "    // jumps[0] will \n",
    "    // hold the result \n",
    "    int[] jumps = new int[n]; \n",
    "    int min; \n",
    "\n",
    "    // Minimum number of jumps \n",
    "    // needed to reach last \n",
    "    // element from last elements \n",
    "    // itself is always 0 \n",
    "    jumps[n - 1] = 0; \n",
    "\n",
    "    // Start from the second \n",
    "    // element, move from right \n",
    "    // to left and construct the \n",
    "    // jumps[] array where jumps[i] \n",
    "    // represents minimum number of \n",
    "    // jumps needed to reach arr[m-1] \n",
    "    // from arr[i] \n",
    "    for (int i = n - 2; i >= 0; i--) { \n",
    "        // If arr[i] is 0 then arr[n-1] \n",
    "        // can't be reached from here \n",
    "        if (arr[i] == 0) \n",
    "            jumps[i] = Integer.MAX_VALUE; \n",
    "\n",
    "        // If we can direcly reach to \n",
    "        // the end point from here then \n",
    "        // jumps[i] is 1 \n",
    "        else if (arr[i] >= n - i - 1) \n",
    "            jumps[i] = 1; \n",
    "\n",
    "        // Otherwise, to find out \n",
    "        // the minimum number of \n",
    "        // jumps needed to reach \n",
    "        // arr[n-1], check all the \n",
    "        // points reachable from \n",
    "        // here and jumps[] value \n",
    "        // for those points \n",
    "        else { \n",
    "            // initialize min value \n",
    "            min = Integer.MAX_VALUE; \n",
    "\n",
    "            // following loop checks \n",
    "            // with all reachable points \n",
    "            // and takes the minimum \n",
    "            for (int j = i + 1; j < n && j <= arr[i] + i; j++) { \n",
    "                if (min > jumps[j]) \n",
    "                    min = jumps[j]; \n",
    "            } \n",
    "\n",
    "            // Handle overflow \n",
    "            if (min != Integer.MAX_VALUE) \n",
    "                jumps[i] = min + 1; \n",
    "            else\n",
    "                jumps[i] = min; // or Integer.MAX_VALUE \n",
    "        } \n",
    "    } \n",
    "\n",
    "    return jumps[0]; \n",
    "} \n",
    "\n",
    "// Driver Code \n",
    "public static void main(String[] args) \n",
    "{ \n",
    "    int[] arr = { 1, 3, 6, 1, 0, 9 }; \n",
    "    int size = arr.length; \n",
    "    System.out.println(\"Minimum number of\"\n",
    "                       + \" jumps to reach end is \" + minJumps(arr, size)); \n",
    "} \n",
    "main(args);"
   ]
  },
  {
   "cell_type": "markdown",
   "metadata": {},
   "source": [
    "## **196. Longest Bitonic Subsequence | DP-15**\n",
    "https://www.geeksforgeeks.org/longest-bitonic-subsequence-dp-15/"
   ]
  },
  {
   "cell_type": "code",
   "execution_count": 43,
   "metadata": {},
   "outputs": [],
   "source": [
    "/*\n",
    "Given an array arr[0 … n-1] containing n positive integers, \n",
    "    a subsequence of arr[] is called Bitonic if it is first increasing, then decreasing. \n",
    "Write a function that takes an array as argument and returns the length of the longest bitonic subsequence.\n",
    "\n",
    "A sequence, sorted in increasing order is considered Bitonic with the decreasing part as empty. \n",
    "Similarly, decreasing order sequence is considered Bitonic with the increasing part as empty.\n",
    "*/"
   ]
  },
  {
   "cell_type": "code",
   "execution_count": 44,
   "metadata": {},
   "outputs": [],
   "source": [
    "/*\n",
    "Examples:\n",
    "\n",
    "Input arr[] = {1, 11, 2, 10, 4, 5, 2, 1};\n",
    "Output: 6 (A Longest Bitonic Subsequence of length 6 is 1, 2, 10, 4, 2, 1)\n",
    "\n",
    "Input arr[] = {12, 11, 40, 5, 3, 1}\n",
    "Output: 5 (A Longest Bitonic Subsequence of length 5 is 12, 11, 5, 3, 1)\n",
    "\n",
    "Input arr[] = {80, 60, 30, 40, 20, 10}\n",
    "Output: 5 (A Longest Bitonic Subsequence of length 5 is 80, 60, 30, 20, 10)\n",
    "*/"
   ]
  },
  {
   "cell_type": "code",
   "execution_count": 45,
   "metadata": {},
   "outputs": [],
   "source": [
    "/*\n",
    "Solution\n",
    "\n",
    "This problem is a variation of standard Longest Increasing Subsequence (LIS) problem. \n",
    "Let the input array be arr[] of length n. \n",
    "We need to construct two arrays lis[] and lds[] using Dynamic Programming solution of LIS problem. \n",
    "    lis[i] stores the length of the Longest Increasing subsequence ending with arr[i]. \n",
    "    lds[i] stores the length of the longest Decreasing subsequence starting from arr[i]. \n",
    "Finally, we need to return the max value of lis[i] + lds[i] – 1 where i is from 0 to n-1.\n",
    "\n",
    "Following is the implementation of the above Dynamic Programming solution.\n",
    "\n",
    "Time Complexity: O(n^2)\n",
    "Auxiliary Space: O(n)\n",
    "*/"
   ]
  },
  {
   "cell_type": "markdown",
   "metadata": {},
   "source": [
    "**Longest Increasing Subsequence (LIS) :**  ***https://www.geeksforgeeks.org/longest-increasing-subsequence-dp-3/***"
   ]
  },
  {
   "cell_type": "code",
   "execution_count": 46,
   "metadata": {},
   "outputs": [],
   "source": [
    "/* lbs() returns the length of the Longest Bitonic Subsequence in \n",
    "arr[] of size n. The function mainly creates two temporary arrays \n",
    "lis[] and lds[] and returns the maximum lis[i] + lds[i] - 1. \n",
    "\n",
    "lis[i] ==> Longest Increasing subsequence ending with arr[i] \n",
    "lds[i] ==> Longest decreasing subsequence starting with arr[i] \n",
    "*/\n",
    "static int lbs( int arr[], int n ) \n",
    "{ \n",
    "    int i, j; \n",
    "\n",
    "    /* Allocate memory for LIS[] and initialize LIS values as 1 for \n",
    "        all indexes */\n",
    "    int[] lis = new int[n]; \n",
    "    for (i = 0; i < n; i++) \n",
    "        lis[i] = 1; \n",
    "\n",
    "    /* Compute LIS values from left to right */\n",
    "    for (i = 1; i < n; i++) \n",
    "        for (j = 0; j < i; j++) \n",
    "            if (arr[i] > arr[j] && lis[i] < lis[j] + 1) \n",
    "                lis[i] = lis[j] + 1; \n",
    "\n",
    "    /* Allocate memory for lds and initialize LDS values for \n",
    "        all indexes */\n",
    "    int[] lds = new int [n]; \n",
    "    for (i = 0; i < n; i++) \n",
    "        lds[i] = 1; \n",
    "\n",
    "    /* Compute LDS values from right to left */\n",
    "    for (i = n-2; i >= 0; i--) \n",
    "        for (j = n-1; j > i; j--) \n",
    "            if (arr[i] > arr[j] && lds[i] < lds[j] + 1) \n",
    "                lds[i] = lds[j] + 1; \n",
    "\n",
    "\n",
    "    /* Return the maximum value of lis[i] + lds[i] - 1*/\n",
    "    int max = lis[0] + lds[0] - 1; \n",
    "    for (i = 1; i < n; i++) \n",
    "        if (lis[i] + lds[i] - 1 > max) \n",
    "            max = lis[i] + lds[i] - 1; \n",
    "\n",
    "    return max; \n",
    "} "
   ]
  },
  {
   "cell_type": "code",
   "execution_count": 47,
   "metadata": {},
   "outputs": [
    {
     "name": "stdout",
     "output_type": "stream",
     "text": [
      "Length of LBS is 7\n"
     ]
    }
   ],
   "source": [
    "public static void main (String[] args) \n",
    "{ \n",
    "    int arr[] = {0, 8, 4, 12, 2, 10, 6, 14, 1, 9, 5, \n",
    "                13, 3, 11, 7, 15}; \n",
    "    int n = arr.length; \n",
    "    System.out.println(\"Length of LBS is \"+ lbs( arr, n )); \n",
    "}\n",
    "main(args);"
   ]
  },
  {
   "cell_type": "markdown",
   "metadata": {},
   "source": [
    "**Visualisation :** ***https://youtu.be/CxpfBdPaRTE***\n",
    "\n",
    "**Explanation :** ***https://youtu.be/CZ8eM2f3_gY***"
   ]
  },
  {
   "cell_type": "markdown",
   "metadata": {},
   "source": [
    "## **197. Maximum sum Bi-tonic Sub-sequence**\n",
    "https://www.geeksforgeeks.org/maximum-sum-bi-tonic-sub-sequence/"
   ]
  },
  {
   "cell_type": "code",
   "execution_count": 48,
   "metadata": {},
   "outputs": [],
   "source": [
    "/*\n",
    "Given an array of integers. \n",
    "    A subsequence of arr[] is called Bitonic if it is first increasing, then decreasing.\n",
    "*/"
   ]
  },
  {
   "cell_type": "code",
   "execution_count": 49,
   "metadata": {},
   "outputs": [],
   "source": [
    "/*\n",
    "Examples :\n",
    "\n",
    "Input : arr[] = {1, 15, 51, 45, 33, 100, 12, 18, 9}\n",
    "Output : 194\n",
    "Explanation : Bi-tonic Sub-sequence are :\n",
    "             {1, 51, 9} or {1, 50, 100, 18, 9} or\n",
    "             {1, 15, 51, 100, 18, 9}  or \n",
    "             {1, 15, 45, 100, 12, 9}  or \n",
    "             {1, 15, 45, 100, 18, 9} .. so on            \n",
    "Maximum sum Bi-tonic sub-sequence is \n",
    "        1 + 15 + 51 + 100 + 18 + 9 = 194   \n",
    "\n",
    "Input : arr[] = {80, 60, 30, 40, 20, 10} \n",
    "Output : 210  \n",
    "*/"
   ]
  },
  {
   "cell_type": "code",
   "execution_count": 50,
   "metadata": {},
   "outputs": [],
   "source": [
    "/*\n",
    "Time complexity : O(n^2)\n",
    "This problem is a variation of \n",
    "    standard Longest Increasing Subsequence (LIS) problem and \n",
    "    longest Bitonic Sub-sequence.\n",
    "\n",
    "We construct two arrays MSIBS[] and MSDBS[]. \n",
    "    MSIBS[i] stores the sum of the Increasing subsequence ending with arr[i]. \n",
    "    MSDBS[i] stores the sum of the Decreasing subsequence starting from arr[i].\n",
    "Finally, we need to return the max sum of MSIBS[i] + MSDBS[i] – Arr[i].\n",
    "*/"
   ]
  },
  {
   "cell_type": "markdown",
   "metadata": {},
   "source": [
    "**Longest Increasing Subsequence (LIS)** ***https://www.geeksforgeeks.org/dynamic-programming-set-3-longest-increasing-subsequence/***\n",
    "\n",
    "**longest Bitonic Sub-sequence** ***https://www.geeksforgeeks.org/dynamic-programming-set-15-longest-bitonic-subsequence/***"
   ]
  },
  {
   "cell_type": "code",
   "execution_count": 51,
   "metadata": {},
   "outputs": [],
   "source": [
    "// Function return maximum sum \n",
    "// of Bi-tonic sub-sequence \n",
    "static int MaxSumBS(int arr[], int n) \n",
    "{ \n",
    "    int max_sum = Integer.MIN_VALUE; \n",
    "\n",
    "    // MSIBS[i] ==> Maximum sum Increasing Bi-tonic \n",
    "    // subsequence ending with arr[i] \n",
    "    // MSDBS[i] ==> Maximum sum Decreasing Bi-tonic \n",
    "    // subsequence starting with arr[i] \n",
    "    // Initialize MSDBS and MSIBS values as arr[i] for \n",
    "    // all indexes \n",
    "    int MSIBS[] = new int[n]; \n",
    "    int MSDBS[] = new int[n]; \n",
    "    for (int i = 0; i < n; i++) { \n",
    "        MSDBS[i] = arr[i]; \n",
    "        MSIBS[i] = arr[i]; \n",
    "    } \n",
    "\n",
    "    // Compute MSIBS values from left to right */ \n",
    "    for (int i = 1; i < n; i++) \n",
    "        for (int j = 0; j < i; j++) \n",
    "            if (arr[i] > arr[j] && MSIBS[i] < MSIBS[j] + arr[i]) \n",
    "                MSIBS[i] = MSIBS[j] + arr[i]; \n",
    "\n",
    "    // Compute MSDBS values from right to left \n",
    "    for (int i = n - 2; i >= 0; i--) \n",
    "        for (int j = n - 1; j > i; j--) \n",
    "            if (arr[i] > arr[j] && MSDBS[i] < MSDBS[j] + arr[i]) \n",
    "                MSDBS[i] = MSDBS[j] + arr[i]; \n",
    "\n",
    "    // Find the maximum value of MSIBS[i] + \n",
    "    // MSDBS[i] - arr[i] \n",
    "    for (int i = 0; i < n; i++) \n",
    "        max_sum = Math.max(max_sum, (MSDBS[i] + MSIBS[i] - arr[i])); \n",
    "\n",
    "    // return max sum of bi-tonic \n",
    "    // sub-sequence \n",
    "    return max_sum; \n",
    "} "
   ]
  },
  {
   "cell_type": "code",
   "execution_count": 52,
   "metadata": {},
   "outputs": [
    {
     "name": "stdout",
     "output_type": "stream",
     "text": [
      "Maximum Sum : 194\n"
     ]
    }
   ],
   "source": [
    "// Driver program \n",
    "public static void main(String[] args) \n",
    "{ \n",
    "    int arr[] = { 1, 15, 51, 45, 33, 100, 12, 18, 9 }; \n",
    "    int n = arr.length; \n",
    "    System.out.println(\"Maximum Sum : \" + MaxSumBS(arr, n)); \n",
    "} \n",
    "main(args);"
   ]
  },
  {
   "cell_type": "markdown",
   "metadata": {},
   "source": [
    "## **198. LCS (Longest Common Subsequence) of three strings**\n",
    "https://www.geeksforgeeks.org/lcs-longest-common-subsequence-three-strings/"
   ]
  },
  {
   "cell_type": "code",
   "execution_count": 53,
   "metadata": {},
   "outputs": [],
   "source": [
    "/*\n",
    "Given 3 strings of all having length < 100,\n",
    "    the task is to find the longest common sub-sequence in all three given sequences.\n",
    "*/"
   ]
  },
  {
   "cell_type": "code",
   "execution_count": 54,
   "metadata": {},
   "outputs": [],
   "source": [
    "/*\n",
    "Examples:\n",
    "\n",
    "Input : str1 = \"geeks\"  \n",
    "        str2 = \"geeksfor\"  \n",
    "        str3 = \"geeksforgeeks\"\n",
    "Output : 5\n",
    "Longest common subsequence is \"geeks\"\n",
    "i.e., length = 5\n",
    "\n",
    "Input : str1 = \"abcd1e2\"  \n",
    "        str2 = \"bc12ea\"  \n",
    "        str3 = \"bd1ea\"\n",
    "Output : 3\n",
    "Longest common subsequence is \"b1e\" \n",
    "i.e. length = 3.\n",
    "*/"
   ]
  },
  {
   "cell_type": "code",
   "execution_count": 55,
   "metadata": {},
   "outputs": [],
   "source": [
    "/*\n",
    "This problem is simply an extension of LCS\n",
    "\n",
    "Let the input sequences be X[0..m-1], Y[0..n-1] and Z[0..o-1] of lengths m, n and o respectively. \n",
    "\n",
    "And let L(X[0..m-1], Y[0..n-1], Z[0..o-1]) be the lengths of LCS of the three sequences X, Y and Z. \n",
    "\n",
    "Following is the implementation:\n",
    "*/"
   ]
  },
  {
   "cell_type": "markdown",
   "metadata": {},
   "source": [
    "**LCS** ***https://www.geeksforgeeks.org/dynamic-programming-set-4-longest-common-subsequence/***"
   ]
  },
  {
   "cell_type": "code",
   "execution_count": 56,
   "metadata": {},
   "outputs": [],
   "source": [
    "/*\n",
    "The idea is to take a 3D array to store the length of common subsequence in all 3 given sequences \n",
    "    i. e., L[m + 1][n + 1][o + 1]\n",
    "\n",
    "1- If any of the string is empty \n",
    "        then there is no common subsequence at all \n",
    "        then\n",
    "            L[i][j][k] = 0\n",
    "\n",
    "2- If the characters of all sequences match (or X[i] == Y[j] ==Z[k]) \n",
    "        then\n",
    "            L[i][j][k] = 1 + L[i-1][j-1][k-1]\n",
    "\n",
    "3- If the characters of both sequences do not match (or X[i] != Y[j] || X[i] != Z[k] || Y[j] !=Z[k]) \n",
    "        then\n",
    "            L[i][j][k] = max(L[i-1][j][k], L[i][j-1][k], L[i][j][k-1])\n",
    "*/"
   ]
  },
  {
   "cell_type": "code",
   "execution_count": 57,
   "metadata": {},
   "outputs": [],
   "source": [
    "/* Returns length of LCS for X[0..m-1], Y[0..n-1] \n",
    "   and Z[0..o-1] */\n",
    "static int lcsOf3(String X, String Y, String Z, int m, int n, int o) \n",
    "{ \n",
    "    int[][][] L = new int[m+1][n+1][o+1]; \n",
    "\n",
    "    /* Following steps build L[m+1][n+1][o+1] in \n",
    "       bottom up fashion. Note that L[i][j][k] \n",
    "       contains length of LCS of X[0..i-1] and \n",
    "       Y[0..j-1]  and Z[0.....k-1]*/\n",
    "    for (int i=0; i<=m; i++) \n",
    "    { \n",
    "        for (int j=0; j<=n; j++) \n",
    "        { \n",
    "            for (int k=0; k<=o; k++) \n",
    "            { \n",
    "                if (i == 0 || j == 0||k==0) \n",
    "                    L[i][j][k] = 0; \n",
    "\n",
    "                else if (X.charAt(i - 1) == Y.charAt(j - 1)  \n",
    "                            && X.charAt(i - 1)==Z.charAt(k - 1)) \n",
    "                    L[i][j][k] = L[i-1][j-1][k-1] + 1; \n",
    "\n",
    "                else\n",
    "                    L[i][j][k] = Math.max(Math.max(L[i-1][j][k], \n",
    "                                                   L[i][j-1][k]), \n",
    "                                                   L[i][j][k-1]); \n",
    "            } \n",
    "        } \n",
    "    } \n",
    "\n",
    "    /* L[m][n][o] contains length of LCS for \n",
    "      X[0..n-1] and Y[0..m-1] and Z[0..o-1]*/\n",
    "    return L[m][n][o]; \n",
    "}"
   ]
  },
  {
   "cell_type": "code",
   "execution_count": 58,
   "metadata": {},
   "outputs": [
    {
     "name": "stdout",
     "output_type": "stream",
     "text": [
      "Length of LCS is 2\n"
     ]
    }
   ],
   "source": [
    "/* Driver program to test above function */\n",
    "public static void main(String args[]) \n",
    "{ \n",
    "    String X = \"AGGT12\"; \n",
    "    String Y = \"12TXAYB\"; \n",
    "    String Z = \"12XBA\"; \n",
    "\n",
    "    int m = X.length(); \n",
    "    int n = Y.length(); \n",
    "    int o = Z.length(); \n",
    "\n",
    "    System.out.println(\"Length of LCS is \" + \n",
    "                            lcsOf3(X, Y,Z, m, n, o)); \n",
    "\n",
    "} \n",
    "main(args);"
   ]
  },
  {
   "cell_type": "code",
   "execution_count": 59,
   "metadata": {},
   "outputs": [],
   "source": [
    "/*\n",
    "Another approach: (Using recursion)\n",
    "*/"
   ]
  },
  {
   "cell_type": "code",
   "execution_count": 60,
   "metadata": {},
   "outputs": [],
   "source": [
    "static String X = \"AGGT12\"; \n",
    "static String Y = \"12TXAYB\"; \n",
    "static String Z = \"12XBA\"; \n",
    "\n",
    "static int[][][] dp = new int[100][100][100]; "
   ]
  },
  {
   "cell_type": "code",
   "execution_count": 61,
   "metadata": {},
   "outputs": [],
   "source": [
    "/* Returns length of LCS for X[0..m-1],  \n",
    "Y[0..n-1] and Z[0..o-1] */\n",
    "static int lcsOf3(int i, int j, int k)  \n",
    "{ \n",
    "    if (i == -1 || j == -1 || k == -1) \n",
    "    { \n",
    "        return 0; \n",
    "    } \n",
    "    if (dp[i][j][k] != -1)  \n",
    "    { \n",
    "        return dp[i][j][k]; \n",
    "    } \n",
    "\n",
    "    if (X.charAt(i) == Y.charAt(j) && \n",
    "        Y.charAt(j) == Z.charAt(k)) \n",
    "    { \n",
    "        return dp[i][j][k] = 1 + lcsOf3(i - 1, j - 1, k - 1); \n",
    "    } else { \n",
    "        return dp[i][j][k] = Math.max(Math.max(lcsOf3(i - 1, j, k), \n",
    "                                               lcsOf3(i, j - 1, k)), \n",
    "                                               lcsOf3(i, j, k - 1)); \n",
    "    } \n",
    "} "
   ]
  },
  {
   "cell_type": "code",
   "execution_count": 62,
   "metadata": {},
   "outputs": [
    {
     "name": "stdout",
     "output_type": "stream",
     "text": [
      "Length of LCS is 2"
     ]
    }
   ],
   "source": [
    "// Driver code  \n",
    "public static void main(String[] args) \n",
    "{ \n",
    "\n",
    "    for (int i = 0; i < 100; i++) \n",
    "    { \n",
    "        for (int j = 0; j < 100; j++)  \n",
    "        { \n",
    "            for (int k = 0; k < 100; k++)  \n",
    "            { \n",
    "                dp[i][j][k] = -1; \n",
    "            } \n",
    "        } \n",
    "    } \n",
    "    int m = X.length(); \n",
    "    int n = Y.length(); \n",
    "    int o = Z.length(); \n",
    "\n",
    "    System.out.print(\"Length of LCS is \"\n",
    "            + lcsOf3(m - 1, n - 1, o - 1)); \n",
    "} \n",
    "main(args);"
   ]
  },
  {
   "cell_type": "markdown",
   "metadata": {},
   "source": [
    "## **199. Friends Pairing Problem**\n",
    "https://www.geeksforgeeks.org/friends-pairing-problem/"
   ]
  },
  {
   "cell_type": "code",
   "execution_count": 63,
   "metadata": {},
   "outputs": [],
   "source": [
    "/*\n",
    "Given n friends, \n",
    "    each one can remain single or can be paired up with some other friend. \n",
    "    Each friend can be paired only once. \n",
    "Find out the total number of ways in which friends can remain single or can be paired up.\n",
    "*/"
   ]
  },
  {
   "cell_type": "code",
   "execution_count": 64,
   "metadata": {},
   "outputs": [],
   "source": [
    "/*\n",
    "Examples :\n",
    "\n",
    "Input  : n = 3\n",
    "Output : 4\n",
    "\n",
    "Explanation\n",
    "{1}, {2}, {3} : all single\n",
    "{1}, {2, 3} : 2 and 3 paired but 1 is single.\n",
    "{1, 2}, {3} : 1 and 2 are paired but 3 is single.\n",
    "{1, 3}, {2} : 1 and 3 are paired but 2 is single.\n",
    "Note that {1, 2} and {2, 1} are considered same.\n",
    "*/"
   ]
  },
  {
   "cell_type": "code",
   "execution_count": 65,
   "metadata": {},
   "outputs": [],
   "source": [
    "/*\n",
    "f(n) = ways n people can remain single \n",
    "       or pair up.\n",
    "\n",
    "For n-th person there are two choices:\n",
    "    1) n-th person remains single, we recur for f(n - 1)\n",
    "    2) n-th person pairs up with any of the remaining n - 1 persons. We get (n - 1) * f(n - 2)\n",
    "\n",
    "Therefore we can recursively write f(n) as:\n",
    "    f(n) = f(n - 1) + (n - 1) * f(n - 2)\n",
    "*/"
   ]
  },
  {
   "cell_type": "code",
   "execution_count": 66,
   "metadata": {},
   "outputs": [],
   "source": [
    "// Returns count of ways n people \n",
    "// can remain single or paired up. \n",
    "static int countFriendsPairings(int n) \n",
    "{ \n",
    "    int dp[] = new int[n + 1]; \n",
    "\n",
    "    // Filling dp[] in bottom-up manner using \n",
    "    // recursive formula explained above. \n",
    "    for (int i = 0; i <= n; i++) { \n",
    "        if (i <= 2) \n",
    "            dp[i] = i; \n",
    "        else\n",
    "            dp[i] = dp[i - 1] + (i - 1) * dp[i - 2]; \n",
    "    } \n",
    "\n",
    "    return dp[n]; \n",
    "} "
   ]
  },
  {
   "cell_type": "code",
   "execution_count": 67,
   "metadata": {},
   "outputs": [
    {
     "name": "stdout",
     "output_type": "stream",
     "text": [
      "10\n"
     ]
    }
   ],
   "source": [
    "// Driver code \n",
    "public static void main(String[] args) \n",
    "{ \n",
    "    int n = 4; \n",
    "    System.out.println(countFriendsPairings(n)); \n",
    "}\n",
    "main(args);"
   ]
  },
  {
   "cell_type": "code",
   "execution_count": 68,
   "metadata": {},
   "outputs": [],
   "source": [
    "/*\n",
    "Time Complexity : O(n)\n",
    "Auxiliary Space : O(n)\n",
    "\n",
    "Another approach: (Using recursion)\n",
    "*/"
   ]
  },
  {
   "cell_type": "code",
   "execution_count": 69,
   "metadata": {},
   "outputs": [],
   "source": [
    "static int[] dp = new int[1000]; "
   ]
  },
  {
   "cell_type": "code",
   "execution_count": 70,
   "metadata": {},
   "outputs": [],
   "source": [
    "// Returns count of ways n people \n",
    "// can remain single or paired up. \n",
    "static int countFriendsPairings(int n) \n",
    "{ \n",
    "    if (dp[n] != -1) \n",
    "        return dp[n]; \n",
    "\n",
    "    if (n > 2) \n",
    "        return dp[n] = countFriendsPairings(n - 1) + (n - 1) * countFriendsPairings(n - 2); \n",
    "    else\n",
    "        return dp[n] = n; \n",
    "} "
   ]
  },
  {
   "cell_type": "code",
   "execution_count": 71,
   "metadata": {},
   "outputs": [
    {
     "name": "stdout",
     "output_type": "stream",
     "text": [
      "10\n"
     ]
    }
   ],
   "source": [
    "// Driver code \n",
    "public static void main(String[] args) \n",
    "{ \n",
    "    for (int i = 0; i < 1000; i++) \n",
    "        dp[i] = -1; \n",
    "    int n = 4; \n",
    "    System.out.println(countFriendsPairings(n)); \n",
    "} \n",
    "main(args);"
   ]
  },
  {
   "cell_type": "code",
   "execution_count": 72,
   "metadata": {},
   "outputs": [],
   "source": [
    "/*\n",
    "Time Complexity : O(n)\n",
    "Auxiliary Space : O(n)\n",
    "\n",
    "Since above formula is similar to fibonacci number, \n",
    "    we can optimize the space with an iterative solution.\n",
    "Time Complexity : O(n)\n",
    "Auxiliary Space : O(1)\n",
    "*/"
   ]
  },
  {
   "cell_type": "code",
   "execution_count": 73,
   "metadata": {},
   "outputs": [
    {
     "name": "stdout",
     "output_type": "stream",
     "text": [
      "10\n"
     ]
    }
   ],
   "source": [
    "// Returns count of ways n people \n",
    "// can remain single or paired up. \n",
    "static int countFriendsPairings(int n) \n",
    "{ \n",
    "    int a = 1, b = 2, c = 0; \n",
    "    if (n <= 2) { \n",
    "        return n; \n",
    "    } \n",
    "    for (int i = 3; i <= n; i++) { \n",
    "        c = b + (i - 1) * a; \n",
    "        a = b; \n",
    "        b = c; \n",
    "    } \n",
    "    return c; \n",
    "} \n",
    "\n",
    "// Driver code \n",
    "public static void main(String[] args) \n",
    "{ \n",
    "    int n = 4; \n",
    "    System.out.println(countFriendsPairings(n)); \n",
    "} \n",
    "main(args);"
   ]
  },
  {
   "cell_type": "markdown",
   "metadata": {},
   "source": [
    "***https://youtu.be/jRKbOe88UYo***"
   ]
  },
  {
   "cell_type": "markdown",
   "metadata": {},
   "source": [
    "## **200. Dynamic Programming | Building Bridges**\n",
    "https://www.geeksforgeeks.org/dynamic-programming-building-bridges/"
   ]
  },
  {
   "cell_type": "code",
   "execution_count": 74,
   "metadata": {},
   "outputs": [],
   "source": [
    "/*\n",
    "Consider a 2-D map with a horizontal river passing through its center. \n",
    "There are n cities on the southern bank with x-coordinates a(1) … a(n) and \n",
    "          n cities on the northern bank with x-coordinates b(1) … b(n). \n",
    "\n",
    "You want to connect as many north-south pairs of cities as possible with bridges such that no two bridges cross. \n",
    "When connecting cities, \n",
    "    you can only connect city a(i) on the northern bank to city b(i) on the southern bank. \n",
    "\n",
    "Maximum number of bridges that can be built to connect north-south pairs with the aforementioned constraints.\n",
    "*/"
   ]
  },
  {
   "cell_type": "markdown",
   "metadata": {},
   "source": [
    "<img src = \"https://media.geeksforgeeks.org/wp-content/uploads/build_bridge.jpg\"/>"
   ]
  },
  {
   "cell_type": "code",
   "execution_count": 75,
   "metadata": {},
   "outputs": [],
   "source": [
    "/*\n",
    "The values in the upper bank can be considered as the northern x-coordinates of the cities and \n",
    "the values in the bottom bank can be considered as the corresponding southern x-coordinates of the cities \n",
    "    to which the northern x-coordinate city can be connected.\n",
    "*/"
   ]
  },
  {
   "cell_type": "code",
   "execution_count": 76,
   "metadata": {},
   "outputs": [],
   "source": [
    "/*\n",
    "Examples:\n",
    "\n",
    "Input : 6 4 2 1\n",
    "        2 3 6 5\n",
    "Output : Maximum number of bridges = 2\n",
    "Explanation: Let the north-south x-coordinates\n",
    "be written in increasing order.\n",
    "\n",
    "1  2  3  4  5  6\n",
    "  \\  \\\n",
    "   \\  \\        For the north-south pairs\n",
    "    \\  \\       (2, 6) and (1, 5)\n",
    "     \\  \\      the bridges can be built.\n",
    "      \\  \\     We can consider other pairs also,\n",
    "       \\  \\    but then only one bridge can be built \n",
    "        \\  \\   because more than one bridge built will\n",
    "         \\  \\  then cross each other.\n",
    "          \\  \\\n",
    "1  2  3  4  5  6 \n",
    "\n",
    "Input : 8 1 4 3 5 2 6 7 \n",
    "        1 2 3 4 5 6 7 8\n",
    "Output : Maximum number of bridges = 5\n",
    "*/"
   ]
  },
  {
   "cell_type": "markdown",
   "metadata": {},
   "source": [
    "**LIS :** ***https://www.geeksforgeeks.org/dynamic-programming-set-3-longest-increasing-subsequence/***"
   ]
  },
  {
   "cell_type": "code",
   "execution_count": 77,
   "metadata": {},
   "outputs": [],
   "source": [
    "/*\n",
    "Approach: It is a variation of LIS problem. The following are the steps to solve the problem.\n",
    "\n",
    "    1. Sort the north-south pairs on the basis of increasing order of south x-coordinates.\n",
    "    2. If two south x-coordinates are same, then sort on the basis of increasing order of north x-coordinates.\n",
    "    3. Now find the Longest Increasing Subsequence of the north x-coordinates.\n",
    "    4. One thing to note that \n",
    "        in the increasing subsequence a value can be greater as well as can be equal to its previous value.\n",
    "\n",
    "Time Complexity: O(n^2)\n",
    "*/"
   ]
  },
  {
   "cell_type": "markdown",
   "metadata": {},
   "source": [
    "***https://ideone.com/T1RbXT***"
   ]
  },
  {
   "cell_type": "markdown",
   "metadata": {},
   "source": [
    "## **201 Partition problem | DP-18**\n",
    "https://www.geeksforgeeks.org/partition-problem-dp-18/"
   ]
  },
  {
   "cell_type": "code",
   "execution_count": 78,
   "metadata": {},
   "outputs": [],
   "source": [
    "/*\n",
    "Partition problem is to determine \n",
    "    whether a given set can be partitioned into two subsets \n",
    "    such that the sum of elements in both subsets is same.\n",
    "*/"
   ]
  },
  {
   "cell_type": "code",
   "execution_count": 79,
   "metadata": {},
   "outputs": [],
   "source": [
    "/*\n",
    "Examples:\n",
    "\n",
    "arr[] = {1, 5, 11, 5}\n",
    "Output: true \n",
    "The array can be partitioned as {1, 5, 5} and {11}\n",
    "\n",
    "arr[] = {1, 5, 3}\n",
    "Output: false \n",
    "The array cannot be partitioned into equal sum sets.\n",
    "*/"
   ]
  },
  {
   "cell_type": "code",
   "execution_count": 80,
   "metadata": {},
   "outputs": [],
   "source": [
    "/*\n",
    "Following are the two main steps to solve this problem:\n",
    "    1) Calculate sum of the array. \n",
    "       If sum is odd, \n",
    "           there can not be two subsets with equal sum, \n",
    "           so return false.\n",
    "    2) If sum of array elements is even, \n",
    "            calculate sum/2 and find a subset of array with sum equal to sum/2.\n",
    "*/"
   ]
  },
  {
   "cell_type": "code",
   "execution_count": 81,
   "metadata": {},
   "outputs": [],
   "source": [
    "/*\n",
    "The first step is simple. \n",
    "The second step is crucial, \n",
    "    it can be solved either using recursion or Dynamic Programming.\n",
    "*/"
   ]
  },
  {
   "cell_type": "code",
   "execution_count": 82,
   "metadata": {},
   "outputs": [],
   "source": [
    "/*\n",
    "Recursive Solution\n",
    "Time Complexity: O(2^n) \n",
    "    In worst case, this solution tries two possibilities (whether to include or exclude) for every element.\n",
    "\n",
    "Following is the recursive property of the second step mentioned above.\n",
    "\n",
    "Let isSubsetSum(arr, n, sum/2) be the function that returns true \n",
    "    if there is a subset of arr[0..n-1] with sum equal to sum/2\n",
    "\n",
    "The isSubsetSum problem can be divided into two subproblems\n",
    " a) isSubsetSum() without considering last element \n",
    "    (reducing n to n-1)\n",
    " b) isSubsetSum considering the last element \n",
    "    (reducing sum/2 by arr[n-1] and n to n-1)\n",
    "    \n",
    "If any of the above the above subproblems return true, \n",
    "    then return true. \n",
    "    \n",
    "isSubsetSum (arr, n, sum/2) = isSubsetSum (arr, n-1, sum/2) ||\n",
    "                              isSubsetSum (arr, n-1, sum/2 - arr[n-1])\n",
    "*/"
   ]
  },
  {
   "cell_type": "code",
   "execution_count": 83,
   "metadata": {},
   "outputs": [],
   "source": [
    "// A utility function that returns true if there is a \n",
    "// subset of arr[] with sun equal to given sum \n",
    "static boolean isSubsetSum (int arr[], int n, int sum) \n",
    "{ \n",
    "    // Base Cases \n",
    "    if (sum == 0) \n",
    "        return true; \n",
    "    if (n == 0 && sum != 0) \n",
    "        return false; \n",
    "\n",
    "    // If last element is greater than sum, then ignore it \n",
    "    if (arr[n-1] > sum) \n",
    "        return isSubsetSum (arr, n-1, sum); \n",
    "\n",
    "    /* else, check if sum can be obtained by any of \n",
    "       the following \n",
    "    (a) including the last element \n",
    "    (b) excluding the last element \n",
    "    */\n",
    "    return isSubsetSum (arr, n-1, sum) || \n",
    "           isSubsetSum (arr, n-1, sum-arr[n-1]); \n",
    "} "
   ]
  },
  {
   "cell_type": "code",
   "execution_count": 84,
   "metadata": {},
   "outputs": [],
   "source": [
    "// Returns true if arr[] can be partitioned in two \n",
    "// subsets of equal sum, otherwise false \n",
    "static boolean findPartition (int arr[], int n) \n",
    "{ \n",
    "    // Calculate sum of the elements in array \n",
    "    int sum = 0; \n",
    "    for (int i = 0; i < n; i++) \n",
    "        sum += arr[i]; \n",
    "\n",
    "    // If sum is odd, there cannot be two subsets \n",
    "    // with equal sum \n",
    "    if (sum%2 != 0) \n",
    "        return false; \n",
    "\n",
    "    // Find if there is subset with sum equal to half \n",
    "    // of total sum \n",
    "    return isSubsetSum (arr, n, sum/2); \n",
    "} "
   ]
  },
  {
   "cell_type": "code",
   "execution_count": 85,
   "metadata": {},
   "outputs": [
    {
     "name": "stdout",
     "output_type": "stream",
     "text": [
      "Can be divided into two subsets of equal sum\n"
     ]
    }
   ],
   "source": [
    "/*Driver function to check for above function*/\n",
    "public static void main (String[] args) \n",
    "{ \n",
    "\n",
    "    int arr[] = {3, 1, 5, 9, 12}; \n",
    "    int n = arr.length; \n",
    "    if (findPartition(arr, n) == true) \n",
    "        System.out.println(\"Can be divided into two \"+ \n",
    "                            \"subsets of equal sum\"); \n",
    "    else\n",
    "        System.out.println(\"Can not be divided into \" + \n",
    "                            \"two subsets of equal sum\"); \n",
    "} \n",
    "main(args);"
   ]
  },
  {
   "cell_type": "code",
   "execution_count": 86,
   "metadata": {},
   "outputs": [],
   "source": [
    "/*\n",
    "Dynamic Programming Solution\n",
    "\n",
    "The problem can be solved using dynamic programming \n",
    "    when the sum of the elements is not too big. \n",
    "We can create a 2D array part[][] of size (sum/2)*(n+1). \n",
    "And we can construct the solution in bottom up manner such that every filled entry has following property\n",
    "*/"
   ]
  },
  {
   "cell_type": "code",
   "execution_count": 87,
   "metadata": {},
   "outputs": [],
   "source": [
    "/*\n",
    "part[i][j] = true if a subset of {arr[0], arr[1], ..arr[j-1]} has sum equal to i, \n",
    "            otherwise false\n",
    "*/"
   ]
  },
  {
   "cell_type": "code",
   "execution_count": 88,
   "metadata": {},
   "outputs": [],
   "source": [
    "// Returns true if arr[] can be partitioned in two subsets of \n",
    "// equal sum, otherwise false \n",
    "static boolean findPartition (int arr[], int n) \n",
    "{ \n",
    "    int sum = 0; \n",
    "    int i, j; \n",
    "\n",
    "    // Calculate sum of all elements \n",
    "    for (i = 0; i < n; i++) \n",
    "        sum += arr[i]; \n",
    "\n",
    "    if (sum%2 != 0) \n",
    "        return false; \n",
    "\n",
    "    boolean part[][]=new boolean[sum/2+1][n+1]; \n",
    "\n",
    "    // initialize top row as true \n",
    "    for (i = 0; i <= n; i++) \n",
    "        part[0][i] = true; \n",
    "\n",
    "    // initialize leftmost column, except part[0][0], as 0 \n",
    "    for (i = 1; i <= sum/2; i++) \n",
    "        part[i][0] = false; \n",
    "\n",
    "    // Fill the partition table in botton up manner \n",
    "    for (i = 1; i <= sum/2; i++) \n",
    "    { \n",
    "        for (j = 1; j <= n; j++) \n",
    "        { \n",
    "            part[i][j] = part[i][j-1]; \n",
    "            if (i >= arr[j-1]) \n",
    "                part[i][j] = part[i][j] || \n",
    "                             part[i - arr[j-1]][j-1]; \n",
    "        } \n",
    "    } \n",
    "\n",
    "    /* // uncomment this part to print table \n",
    "    for (i = 0; i <= sum/2; i++) \n",
    "    { \n",
    "        for (j = 0; j <= n; j++) \n",
    "            printf (\"%4d\", part[i][j]); \n",
    "        printf(\"\\n\"); \n",
    "    } */\n",
    "\n",
    "    return part[sum/2][n]; \n",
    "} "
   ]
  },
  {
   "cell_type": "code",
   "execution_count": 89,
   "metadata": {},
   "outputs": [
    {
     "name": "stdout",
     "output_type": "stream",
     "text": [
      "Can be divided into two subsets of equal sum\n"
     ]
    }
   ],
   "source": [
    "/*Driver function to check for above function*/\n",
    "public static void main (String[] args) \n",
    "{ \n",
    "    int arr[] = {3, 1, 1, 2, 2,1}; \n",
    "    int n = arr.length; \n",
    "    if (findPartition(arr, n) == true) \n",
    "        System.out.println(\"Can be divided into two \"+\n",
    "                           \"subsets of equal sum\"); \n",
    "    else\n",
    "        System.out.println(\"Can not be divided into\"+\n",
    "                        \" two subsets of equal sum\"); \n",
    "} \n",
    "main(args);"
   ]
  },
  {
   "cell_type": "code",
   "execution_count": 90,
   "metadata": {},
   "outputs": [],
   "source": [
    "/*\n",
    "Following diagram shows the values in partition table.\n",
    "Time Complexity: O(sum*n)\n",
    "Auxiliary Space: O(sum*n)\n",
    "*/"
   ]
  },
  {
   "cell_type": "markdown",
   "metadata": {},
   "source": [
    "<img src = \"https://media.geeksforgeeks.org/wp-content/uploads/dynamicprogramming.jpg\"/>"
   ]
  },
  {
   "cell_type": "markdown",
   "metadata": {},
   "source": [
    "## **202 Count number of ways to partition a set into k subsets**\n",
    "https://www.geeksforgeeks.org/count-number-of-ways-to-partition-a-set-into-k-subsets/"
   ]
  },
  {
   "cell_type": "code",
   "execution_count": 91,
   "metadata": {},
   "outputs": [],
   "source": [
    "/*\n",
    "Given two numbers n and k \n",
    "    where n represents number of elements in a set, \n",
    "find number of ways to partition the set into k subsets.\n",
    "*/"
   ]
  },
  {
   "cell_type": "code",
   "execution_count": 92,
   "metadata": {},
   "outputs": [],
   "source": [
    "/*\n",
    "Example:\n",
    "\n",
    "Input: n = 3, k = 2\n",
    "Output: 3\n",
    "Explanation: Let the set be {1, 2, 3}, we can partition\n",
    "             it into 2 subsets in following ways\n",
    "             {{1,2}, {3}},  {{1}, {2,3}},  {{1,3}, {2}}  \n",
    "\n",
    "Input: n = 3, k = 1\n",
    "Output: 1\n",
    "Explanation: There is only one way {{1, 2, 3}}\n",
    "*/"
   ]
  },
  {
   "cell_type": "code",
   "execution_count": 93,
   "metadata": {},
   "outputs": [],
   "source": [
    "/*\n",
    "Let S(n, k) be total number of partitions of n elements into k sets. \n",
    "\n",
    "Value of S(n, k) can be defined recursively as,\n",
    "    S(n, k) = k*S(n-1, k) + S(n-1, k-1) \n",
    "S(n, k) is called Stirling numbers of the second kind\n",
    "*/"
   ]
  },
  {
   "cell_type": "markdown",
   "metadata": {},
   "source": [
    "**Stirling numbers of the second kind :** ***https://en.wikipedia.org/wiki/Stirling_numbers_of_the_second_kind***"
   ]
  },
  {
   "cell_type": "code",
   "execution_count": 94,
   "metadata": {},
   "outputs": [],
   "source": [
    "/*\n",
    "How does above recursive formula work?\n",
    "\n",
    "When we add a (n+1)’th element to k partitions, there are two possibilities.\n",
    "    1) It is added as a single element set to existing partitions, i.e, S(n, k-1)\n",
    "    2) It is added to all sets of every partition, i.e., k*S(n, k)\n",
    "\n",
    "Therefore S(n+1, k) = k*S(n, k) + S(n, k-1) which means S(n, k) = k*S(n-1, k) + S(n-1, k-1)\n",
    "\n",
    "Below is recursive solution based on above formula.\n",
    "*/"
   ]
  },
  {
   "cell_type": "code",
   "execution_count": 95,
   "metadata": {},
   "outputs": [
    {
     "name": "stdout",
     "output_type": "stream",
     "text": [
      "3\n"
     ]
    }
   ],
   "source": [
    "// Returns count of different  \n",
    "// partitions of n elements in \n",
    "// k subsets \n",
    "public static int countP(int n, int k) \n",
    "{ \n",
    "   // Base cases \n",
    "   if (n == 0 || k == 0 || k > n) \n",
    "      return 0; \n",
    "   if (k == 1 || k == n) \n",
    "      return 1; \n",
    "\n",
    "   // S(n+1, k) = k*S(n, k) + S(n, k-1) \n",
    "   return (k * countP(n - 1, k)  \n",
    "          + countP(n - 1, k - 1)); \n",
    "} \n",
    "\n",
    "// Driver program \n",
    "public static void main(String args[]) \n",
    "{ \n",
    "   System.out.println(countP(3, 2)); \n",
    "\n",
    "} \n",
    "main(args);"
   ]
  },
  {
   "cell_type": "code",
   "execution_count": 96,
   "metadata": {},
   "outputs": [],
   "source": [
    "/*\n",
    "The time complexity of above recursive solution is exponential. \n",
    "The solution can be optimized as there are overlapping subproblems. \n",
    "For example, \n",
    "    below is recursion tree of countP(10,7). \n",
    "The subproblem countP(8,6) or CP(8,6) is called multiple times.\n",
    "*/"
   ]
  },
  {
   "cell_type": "code",
   "execution_count": 97,
   "metadata": {},
   "outputs": [],
   "source": [
    "/*\n",
    "CP() represents countP()\n",
    "\n",
    "             CP(10,7)\n",
    "           /        \\\n",
    "       CP(9,7)       CP(9,6) \n",
    "       /    \\       /    \\\n",
    "  CP(8,7) CP(8,6) CP(8,6)  CP(8,5)\n",
    "    / \\    / \\     / \\       / \\\n",
    "\n",
    "  Partial Recursion Tree for countP(10, 7) \n",
    "  to highlight overlapping subproblems.\n",
    "*/"
   ]
  },
  {
   "cell_type": "code",
   "execution_count": 98,
   "metadata": {},
   "outputs": [],
   "source": [
    "/*\n",
    "So this problem has both properties of a dynamic programming problem. \n",
    "Like other typical Dynamic Programming(DP) problems, \n",
    "    recomputations of same subproblems can be avoided by constructing a temporary array dp[][] in bottom up manner \n",
    "    using the above recursive formula.\n",
    "\n",
    "Time Complexity: O(n x k)\n",
    "Auxiliary Space: O(n x k)\n",
    "\n",
    "Below is the implementation of Dynamic Programming Solution.\n",
    "*/"
   ]
  },
  {
   "cell_type": "code",
   "execution_count": 99,
   "metadata": {},
   "outputs": [],
   "source": [
    "// Returns count of different partitions of n  \n",
    "// elements in k subsets  \n",
    "static int countP(int n, int k)  \n",
    "{  \n",
    "    // Table to store results of subproblems  \n",
    "    int[][] dp = new int[n+1][k+1];  \n",
    "      \n",
    "    // Base cases  \n",
    "    for (int i = 0; i <= n; i++)  \n",
    "        dp[i][0] = 0;  \n",
    "    for (int i = 0; i <= k; i++)  \n",
    "        dp[0][k] = 0;  \n",
    "      \n",
    "    // Fill rest of the entries in dp[][] \n",
    "    // in bottom up manner  \n",
    "    for (int i = 1; i <= n; i++)  \n",
    "        for (int j = 1; j <= k; j++)  \n",
    "            if (j == 1 || i == j)  \n",
    "                dp[i][j] = 1;  \n",
    "            else\n",
    "                dp[i][j] = j * dp[i - 1][j] + dp[i - 1][j - 1];  \n",
    "          \n",
    "    return dp[n][k];  \n",
    "      \n",
    "}  "
   ]
  },
  {
   "cell_type": "code",
   "execution_count": 100,
   "metadata": {},
   "outputs": [
    {
     "name": "stdout",
     "output_type": "stream",
     "text": [
      "15\n"
     ]
    }
   ],
   "source": [
    "// Driver program  \n",
    "public static void main(String[] args )  \n",
    "{  \n",
    "    System.out.println(countP(5, 2));  \n",
    "}  \n",
    "main(args);"
   ]
  },
  {
   "cell_type": "markdown",
   "metadata": {},
   "source": [
    "## **203 Longest Palindromic Subsequence | DP-12**\n",
    "https://www.geeksforgeeks.org/longest-palindromic-subsequence-dp-12/"
   ]
  },
  {
   "cell_type": "code",
   "execution_count": 101,
   "metadata": {},
   "outputs": [],
   "source": [
    "/*\n",
    "Given a sequence, \n",
    "    find the length of the longest palindromic subsequence in it.\n",
    "*/"
   ]
  },
  {
   "cell_type": "markdown",
   "metadata": {},
   "source": [
    "<img src = \"https://media.geeksforgeeks.org/wp-content/cdn-uploads/longest-palindromic-subsequence.png\"/>"
   ]
  },
  {
   "cell_type": "code",
   "execution_count": 102,
   "metadata": {},
   "outputs": [],
   "source": [
    "/*\n",
    "As another example, \n",
    "    if the given sequence is “BBABCBCAB”, \n",
    "        then the output should be 7 as “BABCBAB” is the longest palindromic subseuqnce in it. \n",
    "    “BBBBB” and “BBCBB” are also palindromic subsequences of the given sequence, but not the longest ones.\n",
    "*/"
   ]
  },
  {
   "cell_type": "code",
   "execution_count": 103,
   "metadata": {},
   "outputs": [],
   "source": [
    "/*\n",
    "The naive solution for this problem is to generate all subsequences of the given sequence and \n",
    "find the longest palindromic subsequence. \n",
    "\n",
    "This solution is exponential in term of time complexity. \n",
    "\n",
    "Let us see how this problem possesses both important properties of a Dynamic Programming (DP) Problem \n",
    "and can efficiently solved using Dynamic Programming.\n",
    "*/"
   ]
  },
  {
   "cell_type": "code",
   "execution_count": 104,
   "metadata": {},
   "outputs": [],
   "source": [
    "/*\n",
    "1) Optimal Substructure:\n",
    "\n",
    "Let X[0..n-1] be the input sequence of length n \n",
    "and L(0, n-1) be the length of the longest palindromic subsequence of X[0..n-1].\n",
    "\n",
    "If last and first characters of X are same, \n",
    "    then L(0, n-1) = L(1, n-2) + 2.\n",
    "Else \n",
    "    L(0, n-1) = MAX (L(1, n-1), L(0, n-2)).\n",
    "*/"
   ]
  },
  {
   "cell_type": "code",
   "execution_count": 105,
   "metadata": {},
   "outputs": [],
   "source": [
    "/*\n",
    "Following is a general recursive solution with all cases handled.\n",
    "\n",
    "// Every single character is a palindrome of length 1\n",
    "L(i, i) = 1 for all indexes i in given sequence\n",
    "\n",
    "// IF first and last characters are not same\n",
    "If (X[i] != X[j])  \n",
    "    L(i, j) =  max{L(i + 1, j),L(i, j - 1)} \n",
    "\n",
    "// If there are only 2 characters and both are same\n",
    "Else if (j == i + 1) \n",
    "    L(i, j) = 2  \n",
    "\n",
    "// If there are more than two characters, and first and last \n",
    "// characters are same\n",
    "Else \n",
    "    L(i, j) =  L(i + 1, j - 1) + 2\n",
    "*/"
   ]
  },
  {
   "cell_type": "code",
   "execution_count": 106,
   "metadata": {},
   "outputs": [],
   "source": [
    "/*\n",
    "2) Overlapping Subproblems\n",
    "\n",
    "Following is simple recursive implementation of the LPS problem. \n",
    "The implementation simply follows the recursive structure mentioned above.\n",
    "*/"
   ]
  },
  {
   "cell_type": "code",
   "execution_count": null,
   "metadata": {},
   "outputs": [],
   "source": []
  },
  {
   "cell_type": "code",
   "execution_count": 120,
   "metadata": {},
   "outputs": [],
   "source": [
    "// Returns the length of the longest palindromic subsequence in seq  \n",
    "\n",
    "static int lps(char seq[], int i, int j) { \n",
    "// Base Case 1: If there is only 1 character  \n",
    "    if (i == j) { \n",
    "        return 1; \n",
    "    } \n",
    "\n",
    "// Base Case 2: If there are only 2 characters and both are same  \n",
    "    if (seq[i] == seq[j] && i + 1 == j) { \n",
    "        return 2; \n",
    "    } \n",
    "\n",
    "// If the first and last characters match  \n",
    "    if (seq[i] == seq[j]) { \n",
    "        return lps(seq, i + 1, j - 1) + 2; \n",
    "    } \n",
    "\n",
    "// If the first and last characters do not match  \n",
    "    return Math.max(lps(seq, i, j - 1), lps(seq, i + 1, j)); \n",
    "} "
   ]
  },
  {
   "cell_type": "code",
   "execution_count": 121,
   "metadata": {},
   "outputs": [
    {
     "name": "stdout",
     "output_type": "stream",
     "text": [
      "The length of the LPS is 5"
     ]
    }
   ],
   "source": [
    "/* Driver program to test above function */\n",
    "public static void main(String[] args) { \n",
    "    String seq = \"GEEKSFORGEEKS\"; \n",
    "    int n = seq.length(); \n",
    "    System.out.printf(\"The length of the LPS is %d\", lps(seq.toCharArray(), 0, n - 1)); \n",
    "} \n",
    "main(args);"
   ]
  },
  {
   "cell_type": "code",
   "execution_count": 122,
   "metadata": {},
   "outputs": [],
   "source": [
    "/*\n",
    "Considering the above implementation, \n",
    "    following is a partial recursion tree for a sequence of length 6 with all different characters.\n",
    "\n",
    "               L(0, 5)\n",
    "             /        \\ \n",
    "            /          \\  \n",
    "        L(1,5)          L(0,4)\n",
    "       /    \\            /    \\\n",
    "      /      \\          /      \\\n",
    "  L(2,5)    L(1,4)  L(1,4)  L(0,3)\n",
    "  \n",
    "In the above partial recursion tree, \n",
    "    L(1, 4) is being solved twice. \n",
    "If we draw the complete recursion tree, \n",
    "    then we can see that there are many subproblems which are solved again and again. \n",
    "\n",
    "Since same suproblems are called again, \n",
    "    this problem has Overlapping Subprolems property. \n",
    "\n",
    "So LPS problem has both properties of a dynamic programming problem. \n",
    "Like other typical Dynamic Programming(DP) problems, \n",
    "    recomputations of same subproblems can be avoided by constructing a temporary array L[][] in bottom up manner.\n",
    "*/"
   ]
  },
  {
   "cell_type": "code",
   "execution_count": 127,
   "metadata": {},
   "outputs": [],
   "source": [
    "// Returns the length of the longest  \n",
    "// palindromic subsequence in seq \n",
    "static int lps(String seq) \n",
    "{ \n",
    "    int n = seq.length(); \n",
    "    int i, j, cl; \n",
    "    // Create a table to store results of subproblems \n",
    "    int L[][] = new int[n][n];  \n",
    "\n",
    "    // Strings of length 1 are palindrome of lentgh 1 \n",
    "    for (i = 0; i < n; i++) \n",
    "        L[i][i] = 1; \n",
    "\n",
    "    // Build the table. Note that the lower  \n",
    "    // diagonal values of table are \n",
    "    // useless and not filled in the process.  \n",
    "    // The values are filled in a manner similar \n",
    "    //  to Matrix Chain Multiplication DP solution (See \n",
    "    // https://www.geeksforgeeks.org/matrix-chain-multiplication-dp-8/).  \n",
    "    // cl is length of substring \n",
    "    for (cl=2; cl<=n; cl++) \n",
    "    { \n",
    "        for (i=0; i<n-cl+1; i++) \n",
    "        { \n",
    "            j = i+cl-1; \n",
    "            if (seq.charAt(i) == seq.charAt(j) && cl == 2) \n",
    "                L[i][j] = 2; \n",
    "            else if (seq.charAt(i) == seq.charAt(j)) \n",
    "                L[i][j] = L[i+1][j-1] + 2; \n",
    "            else\n",
    "                L[i][j] = Math.max(L[i][j-1], L[i+1][j]); \n",
    "        } \n",
    "    } \n",
    "\n",
    "    return L[0][n-1]; \n",
    "}"
   ]
  },
  {
   "cell_type": "code",
   "execution_count": 128,
   "metadata": {},
   "outputs": [
    {
     "name": "stdout",
     "output_type": "stream",
     "text": [
      "The lnegth of the lps is 5\n"
     ]
    }
   ],
   "source": [
    "/* Driver program to test above functions */\n",
    "public static void main(String args[]) \n",
    "{ \n",
    "    String seq = \"GEEKSFORGEEKS\"; \n",
    "    int n = seq.length(); \n",
    "    System.out.println(\"The lnegth of the lps is \"+ lps(seq)); \n",
    "} \n",
    "main(args);"
   ]
  },
  {
   "cell_type": "markdown",
   "metadata": {},
   "source": [
    "***https://youtu.be/TLaGwTnd3HY***"
   ]
  },
  {
   "cell_type": "markdown",
   "metadata": {},
   "source": [
    "**Related Link**\n",
    "\n",
    "***https://www.geeksforgeeks.org/print-longest-palindromic-subsequence/***\n",
    "\n",
    "***https://www.geeksforgeeks.org/longest-palindrome-subsequence-space/***"
   ]
  },
  {
   "cell_type": "markdown",
   "metadata": {},
   "source": [
    "## **204 Egg Dropping Puzzle | DP-11**\n",
    "https://www.geeksforgeeks.org/egg-dropping-puzzle-dp-11/"
   ]
  },
  {
   "cell_type": "code",
   "execution_count": 129,
   "metadata": {},
   "outputs": [],
   "source": [
    "/*\n",
    "The following is a description of the instance of this famous puzzle \n",
    "    involving n=2 eggs and a building with k=36 floors.\n",
    "    \n",
    "Suppose that we wish to know which stories in a 36-story building are safe to drop eggs from, \n",
    "and which will cause the eggs to break on landing. \n",
    "\n",
    "We make a few assumptions:\n",
    "\n",
    "    An egg that survives a fall can be used again.\n",
    "    A broken egg must be discarded.\n",
    "    The effect of a fall is the same for all eggs.\n",
    "    If an egg breaks when dropped, \n",
    "        then it would break if dropped from a higher floor.\n",
    "    If an egg survives a fall \n",
    "        then it would survive a shorter fall.\n",
    "    It is not ruled out that the first-floor windows break eggs, \n",
    "        nor is it ruled out that the 36th-floor do not cause an egg to break.\n",
    "\n",
    "If only one egg is available and we wish to be sure of obtaining the right result, \n",
    "    the experiment can be carried out in only one way. \n",
    "    Drop the egg from the first-floor window; \n",
    "        if it survives, \n",
    "            drop it from the second floor window. \n",
    "            Continue upward until it breaks. \n",
    "    In the worst case, this method may require 36 droppings. \n",
    "\n",
    "Suppose 2 eggs are available. \n",
    "    What is the least number of egg-droppings that is guaranteed to work in all cases?\n",
    "\n",
    "The problem is not actually to find the critical floor, \n",
    "    but merely to decide floors from which eggs should be dropped so that total number of trials are minimized.\n",
    "*/"
   ]
  },
  {
   "cell_type": "code",
   "execution_count": 130,
   "metadata": {},
   "outputs": [],
   "source": [
    "/*\n",
    "In this post, \n",
    "we will discuss solution to a general problem with n eggs and k floors.\n",
    "\n",
    "The solution is to try dropping an egg from every floor (from 1 to k) \n",
    "and recursively calculate the minimum number of droppings needed in worst case. \n",
    "The floor which gives the minimum value in worst case is going to be part of the solution.\n",
    "\n",
    "In the following solutions, \n",
    "    we return the minimum number of trials in worst case; \n",
    "    these solutions can be easily modified to print floor numbers of every trials also.\n",
    "*/"
   ]
  },
  {
   "cell_type": "code",
   "execution_count": 131,
   "metadata": {},
   "outputs": [],
   "source": [
    "/*\n",
    "1) Optimal Substructure:\n",
    "\n",
    "When we drop an egg from a floor x, \n",
    "there can be two cases \n",
    "    (1) The egg breaks \n",
    "    (2) The egg doesn’t break.\n",
    "\n",
    "1) If the egg breaks after dropping from xth floor, \n",
    "        then we only need to check for floors lower than x with remaining eggs; \n",
    "        so the problem reduces to x-1 floors and n-1 eggs\n",
    "2) If the egg doesn’t break after dropping from the xth floor, \n",
    "        then we only need to check for floors higher than x; \n",
    "        so the problem reduces to k-x floors and n eggs.\n",
    "\n",
    "Since we need to minimize the number of trials in worst case, \n",
    "    we take the maximum of two cases. \n",
    "\n",
    "We consider the max of above two cases for every floor and choose the floor which yields minimum number of trials.\n",
    "*/"
   ]
  },
  {
   "cell_type": "code",
   "execution_count": 132,
   "metadata": {},
   "outputs": [],
   "source": [
    "/*\n",
    "k ==> Number of floors\n",
    "n ==> Number of Eggs\n",
    "\n",
    "eggDrop(n, k) ==> Minimum number of trials needed to find the critical\n",
    "                    floor in worst case.\n",
    "eggDrop(n, k) = 1 + min{max(eggDrop(n - 1, x - 1), eggDrop(n, k - x)): \n",
    "                 x in {1, 2, ..., k}}\n",
    "*/"
   ]
  },
  {
   "cell_type": "code",
   "execution_count": 133,
   "metadata": {},
   "outputs": [],
   "source": [
    "/*\n",
    "2) Overlapping Subproblems\n",
    "    Following is recursive implementation that simply follows the recursive structure mentioned above.\n",
    "*/"
   ]
  },
  {
   "cell_type": "code",
   "execution_count": 134,
   "metadata": {},
   "outputs": [
    {
     "name": "stdout",
     "output_type": "stream",
     "text": [
      "Minimum number of trials in worst case with 2 eggs and 10 floors is 4"
     ]
    }
   ],
   "source": [
    "/* Function to get minimum number of  \n",
    "trials needed in worst case with n  \n",
    "eggs and k floors */\n",
    "static int eggDrop(int n, int k)  \n",
    "{  \n",
    "    // If there are no floors, then  \n",
    "    // no trials needed. OR if there  \n",
    "    // is one floor, one trial needed.  \n",
    "    if (k == 1 || k == 0)  \n",
    "        return k;  \n",
    "\n",
    "    // We need k trials for one egg  \n",
    "    // and k floors  \n",
    "    if (n == 1)  \n",
    "        return k;  \n",
    "\n",
    "    int min = Integer.MAX_VALUE;  \n",
    "    int x, res;  \n",
    "\n",
    "    // Consider all droppings from  \n",
    "    //1st floor to kth floor and  \n",
    "    // return the minimum of these  \n",
    "    // values plus 1.  \n",
    "    for (x = 1; x <= k; x++)  \n",
    "    {  \n",
    "        res = Math.max(eggDrop(n-1, x-1),  \n",
    "                    eggDrop(n, k-x));  \n",
    "        if (res < min)  \n",
    "            min = res;  \n",
    "    }  \n",
    "\n",
    "    return min + 1;  \n",
    "}  \n",
    "\n",
    "// Driver code  \n",
    "public static void main(String args[])  \n",
    "{  \n",
    "    int n = 2, k = 10;  \n",
    "    System.out.print(\"Minimum number of \"\n",
    "        + \"trials in worst case with \"\n",
    "            + n + \" eggs and \" + k  \n",
    "    + \" floors is \" + eggDrop(n, k));  \n",
    "}  \n",
    "main(args);"
   ]
  },
  {
   "cell_type": "code",
   "execution_count": 135,
   "metadata": {},
   "outputs": [],
   "source": [
    "/*\n",
    "It should be noted that the above function computes the same subproblems again and again. \n",
    "See the following partial recursion tree, \n",
    "    E(2, 2) is being evaluated twice. \n",
    "There will many repeated subproblems when you draw the complete recursion tree even for small values of n and k.\n",
    "*/"
   ]
  },
  {
   "cell_type": "code",
   "execution_count": 136,
   "metadata": {},
   "outputs": [],
   "source": [
    "/*\n",
    "                         E(2,4)\n",
    "                           |                      \n",
    "          ------------------------------------- \n",
    "          |             |           |         |   \n",
    "          |             |           |         |       \n",
    "      x=1/          x=2/      x=3/     x=4/ \n",
    "        /             /         ....      ....\n",
    "       /             /    \n",
    " E(1,0)  E(2,3)     E(1,1)  E(2,2)\n",
    "          /  /...         /  \n",
    "      x=1/                 .....\n",
    "        /    \n",
    "     E(1,0)  E(2,2)\n",
    "            /   \n",
    "            ......\n",
    "\n",
    "Partial recursion tree for 2 eggs and 4 floors.\n",
    "*/"
   ]
  },
  {
   "cell_type": "code",
   "execution_count": 137,
   "metadata": {},
   "outputs": [],
   "source": [
    "/*\n",
    "Dynamic Programming Solution\n",
    "\n",
    "    Following are the implementations for Egg Dropping problem using Dynamic Programming.\n",
    "*/"
   ]
  },
  {
   "cell_type": "code",
   "execution_count": 140,
   "metadata": {},
   "outputs": [],
   "source": [
    "/* Function to get minimum number of trials needed in worst \n",
    "case with n eggs and k floors */\n",
    "static int eggDrop(int n, int k) \n",
    "{ \n",
    "   /* A 2D table where entery eggFloor[i][j] will represent minimum \n",
    "   number of trials needed for i eggs and j floors. */\n",
    "    int eggFloor[][] = new int[n+1][k+1]; \n",
    "    int res; \n",
    "    int i, j, x; \n",
    "\n",
    "    // We need one trial for one floor and0 trials for 0 floors \n",
    "    for (i = 1; i <= n; i++) \n",
    "    { \n",
    "        eggFloor[i][1] = 1; \n",
    "        eggFloor[i][0] = 0; \n",
    "    } \n",
    "\n",
    "   // We always need j trials for one egg and j floors. \n",
    "    for (j = 1; j <= k; j++) \n",
    "        eggFloor[1][j] = j; \n",
    "\n",
    "    // Fill rest of the entries in table using optimal substructure \n",
    "    // property \n",
    "    for (i = 2; i <= n; i++) \n",
    "    { \n",
    "        for (j = 2; j <= k; j++) \n",
    "        { \n",
    "            eggFloor[i][j] = Integer.MAX_VALUE; \n",
    "            for (x = 1; x <= j; x++) \n",
    "            { \n",
    "                 res = 1 + Math.max(eggFloor[i-1][x-1], eggFloor[i][j-x]); \n",
    "                 if (res < eggFloor[i][j]) \n",
    "                    eggFloor[i][j] = res; \n",
    "            } \n",
    "        } \n",
    "    } \n",
    "\n",
    "    // eggFloor[n][k] holds the result \n",
    "    return eggFloor[n][k]; \n",
    "\n",
    "}"
   ]
  },
  {
   "cell_type": "code",
   "execution_count": 141,
   "metadata": {},
   "outputs": [
    {
     "name": "stdout",
     "output_type": "stream",
     "text": [
      "Minimum number of trials in worst case with 2  eggs and 10 floors is 4\n"
     ]
    }
   ],
   "source": [
    "/* Driver program to test to pront printDups*/\n",
    "public static void  main(String args[] ) \n",
    "{ \n",
    "    int n = 2, k = 10; \n",
    "    System.out.println(\"Minimum number of trials in worst case with \"+n+\"  eggs and \"+k+ \n",
    "             \" floors is \"+eggDrop(n, k));    \n",
    "} \n",
    "main(args);"
   ]
  },
  {
   "cell_type": "code",
   "execution_count": 142,
   "metadata": {},
   "outputs": [],
   "source": [
    "/*\n",
    "Time Complexity: O(nk^2)\n",
    "Auxiliary Space: O(nk)\n",
    "*/"
   ]
  },
  {
   "cell_type": "markdown",
   "metadata": {},
   "source": [
    "**Related Link** ***https://www.geeksforgeeks.org/eggs-dropping-puzzle-binomial-coefficient-and-binary-search-solution/***"
   ]
  },
  {
   "cell_type": "markdown",
   "metadata": {},
   "source": [
    "***https://www.geeksforgeeks.org/egg-dropping-puzzle-with-2-eggs-and-k-floors/***\n",
    "\n",
    "***http://geeksquiz.com/puzzle-set-35-2-eggs-and-100-floors/***"
   ]
  },
  {
   "cell_type": "markdown",
   "metadata": {},
   "source": [
    "***https://youtu.be/KVfxgpI3Tv0***"
   ]
  },
  {
   "cell_type": "markdown",
   "metadata": {},
   "source": [
    "## **205 Box Stacking Problem | DP-22**\n",
    "https://www.geeksforgeeks.org/box-stacking-problem-dp-22/"
   ]
  },
  {
   "cell_type": "code",
   "execution_count": 143,
   "metadata": {},
   "outputs": [],
   "source": [
    "/*\n",
    "You are given a set of n types of rectangular 3-D boxes, \n",
    "    where the i^th box has height h(i), width w(i) and depth d(i) (all real numbers). \n",
    "You want to create a stack of boxes which is as tall as possible, \n",
    "    but you can only stack a box on top of another box \n",
    "        if the dimensions of the 2-D base of the lower box are each strictly larger than those of the 2-D base of the higher box. \n",
    "    Of course, you can rotate a box so that any side functions as its base. \n",
    "It is also allowable to use multiple instances of the same type of box.\n",
    "*/"
   ]
  },
  {
   "cell_type": "code",
   "execution_count": 144,
   "metadata": {},
   "outputs": [],
   "source": [
    "/*\n",
    "The Box Stacking problem is a variation of LIS problem. We need to build a maximum height stack.\n",
    "*/"
   ]
  },
  {
   "cell_type": "code",
   "execution_count": 145,
   "metadata": {},
   "outputs": [],
   "source": [
    "/*\n",
    "Following are the key points to note in the problem statement:\n",
    "\n",
    "1) A box can be placed on top of another box \n",
    "    only if both width and depth of the upper placed box are smaller than width and depth of the lower box respectively.\n",
    "2) We can rotate boxes such that width is smaller than depth. \n",
    "    For example, \n",
    "        if there is a box with dimensions {1x2x3} where 1 is height, 2×3 is base, \n",
    "            then there can be three possibilities, {1x2x3}, {2x1x3} and {3x1x2}\n",
    "3) We can use multiple instances of boxes.\n",
    "    What it means is, \n",
    "        we can have two different rotations of a box as part of our maximum height stack.\n",
    "\n",
    "Following is the solution based on DP solution of LIS problem.\n",
    "\n",
    "1) Generate all 3 rotations of all boxes. \n",
    "    The size of rotation array becomes 3 times the size of original array. \n",
    "    For simplicity, we consider depth as always smaller than or equal to width.\n",
    "\n",
    "2) Sort the above generated 3n boxes in decreasing order of base area.\n",
    "\n",
    "3) After sorting the boxes, the problem is same as LIS with following optimal substructure property.\n",
    "    MSH(i) = Maximum possible Stack Height with box i at top of stack\n",
    "    MSH(i) = { Max ( MSH(j) ) + height(i) } where j < i and width(j) > width(i) and depth(j) > depth(i).\n",
    "    \n",
    "    If there is no such j then MSH(i) = height(i)\n",
    "\n",
    "4) To get overall maximum height, we return max(MSH(i)) where 0 < i < n\n",
    "*/"
   ]
  },
  {
   "cell_type": "code",
   "execution_count": 146,
   "metadata": {},
   "outputs": [],
   "source": [
    "/* Representation of a box */\n",
    "static class Box implements Comparable<Box>{ \n",
    "\n",
    "    // h --> height, w --> width, \n",
    "    // d --> depth \n",
    "    int h, w, d, area; \n",
    "\n",
    "    // for simplicity of solution, \n",
    "    // always keep w <= d \n",
    "\n",
    "    /*Constructor to initialise object*/\n",
    "    public Box(int h, int w, int d) { \n",
    "        this.h = h; \n",
    "        this.w = w; \n",
    "        this.d = d; \n",
    "    } \n",
    "\n",
    "    /*To sort the box array on the basis \n",
    "    of area in decreasing order of area */\n",
    "    @Override\n",
    "    public int compareTo(Box o) { \n",
    "        return o.area-this.area; \n",
    "    } \n",
    "} "
   ]
  },
  {
   "cell_type": "code",
   "execution_count": 147,
   "metadata": {},
   "outputs": [],
   "source": [
    "/* Returns the height of the tallest \n",
    "stack that can be formed with give  \n",
    "type of boxes */\n",
    "static int maxStackHeight( Box arr[], int n){ \n",
    "\n",
    "    Box[] rot = new Box[n*3]; \n",
    "\n",
    "    /* New Array of boxes is created -  \n",
    "    considering all 3 possible rotations,  \n",
    "    with width always greater than equal \n",
    "    to width */\n",
    "    for(int i = 0;i < n;i++){ \n",
    "        Box box = arr[i]; \n",
    "\n",
    "        /* Orignal Box*/\n",
    "        rot[3*i] = new Box(box.h, Math.max(box.w,box.d),  \n",
    "                                Math.min(box.w,box.d)); \n",
    "\n",
    "        /* First rotation of box*/\n",
    "        rot[3*i + 1] = new Box(box.w, Math.max(box.h,box.d),  \n",
    "                                   Math.min(box.h,box.d)); \n",
    "\n",
    "        /* Second rotation of box*/\n",
    "        rot[3*i + 2] = new Box(box.d, Math.max(box.w,box.h), \n",
    "                                   Math.min(box.w,box.h)); \n",
    "    } \n",
    "\n",
    "    /* Calculating base area of  \n",
    "    each of the boxes.*/\n",
    "    for(int i = 0; i < rot.length; i++) \n",
    "        rot[i].area = rot[i].w * rot[i].d; \n",
    "\n",
    "    /* Sorting the Boxes on the bases  \n",
    "    of Area in non Increasing order.*/\n",
    "    Arrays.sort(rot); \n",
    "\n",
    "    int count = 3 * n; \n",
    "\n",
    "    /* Initialize msh values for all  \n",
    "    indexes  \n",
    "    msh[i] --> Maximum possible Stack Height \n",
    "               with box i on top */\n",
    "    int[]msh = new int[count]; \n",
    "    for (int i = 0; i < count; i++ ) \n",
    "        msh[i] = rot[i].h; \n",
    "\n",
    "    /* Computing optimized msh[]  \n",
    "    values in bottom up manner */\n",
    "    for(int i = 0; i < count; i++){ \n",
    "        msh[i] = 0; \n",
    "        Box box = rot[i]; \n",
    "        int val = 0; \n",
    "\n",
    "        for(int j = 0; j < i; j++){ \n",
    "            Box prevBox = rot[j]; \n",
    "            if(box.w < prevBox.w && box.d < prevBox.d){ \n",
    "                val = Math.max(val, msh[j]); \n",
    "            } \n",
    "        } \n",
    "        msh[i] = val + box.h; \n",
    "    } \n",
    "\n",
    "    int max = -1; \n",
    "\n",
    "    /* Pick maximum of all msh values */\n",
    "    for(int i = 0; i < count; i++){ \n",
    "        max = Math.max(max, msh[i]); \n",
    "    } \n",
    "\n",
    "    return max; \n",
    "}"
   ]
  },
  {
   "cell_type": "code",
   "execution_count": 148,
   "metadata": {},
   "outputs": [
    {
     "name": "stdout",
     "output_type": "stream",
     "text": [
      "The maximum possible height of stack is 60\n"
     ]
    }
   ],
   "source": [
    "/* Driver program to test above function */\n",
    "public static void main(String[] args) { \n",
    "\n",
    "    Box[] arr = new Box[4]; \n",
    "    arr[0] = new Box(4, 6, 7); \n",
    "    arr[1] = new Box(1, 2, 3); \n",
    "    arr[2] = new Box(4, 5, 6); \n",
    "    arr[3] = new Box(10, 12, 32); \n",
    "\n",
    "    System.out.println(\"The maximum possible \"+ \n",
    "                       \"height of stack is \" +  \n",
    "                       maxStackHeight(arr,4)); \n",
    "} \n",
    "main(args);"
   ]
  },
  {
   "cell_type": "code",
   "execution_count": 149,
   "metadata": {},
   "outputs": [],
   "source": [
    "/*\n",
    "In the above program, \n",
    "given input boxes are {4, 6, 7}, {1, 2, 3}, {4, 5, 6}, {10, 12, 32}.\n",
    "Following are all rotations of the boxes in decreasing order of base area.\n",
    "\n",
    "   10 x 12 x 32\n",
    "   12 x 10 x 32\n",
    "   32 x 10 x 12\n",
    "   4 x 6 x 7\n",
    "   4 x 5 x 6\n",
    "   6 x 4 x 7\n",
    "   5 x 4 x 6\n",
    "   7 x 4 x 6\n",
    "   6 x 4 x 5\n",
    "   1 x 2 x 3\n",
    "   2 x 1 x 3\n",
    "   3 x 1 x 2\n",
    "The height 60 is obtained by boxes { {3, 1, 2}, {1, 2, 3}, {6, 4, 5}, {4, 5, 6}, {4, 6, 7}, {32, 10, 12}, {10, 12, 32}}\n",
    "\n",
    "Time Complexity: O(n^2)\n",
    "Auxiliary Space: O(n)\n",
    "*/"
   ]
  },
  {
   "cell_type": "markdown",
   "metadata": {},
   "source": [
    "***https://youtu.be/KgWy0fY0dRM***"
   ]
  },
  {
   "cell_type": "markdown",
   "metadata": {},
   "source": [
    "## **206 Optimal Binary Search Tree | DP-24**\n",
    "https://www.geeksforgeeks.org/optimal-binary-search-tree-dp-24/"
   ]
  },
  {
   "cell_type": "code",
   "execution_count": 150,
   "metadata": {},
   "outputs": [],
   "source": [
    "/*\n",
    "Given a sorted array keys[0.. n-1] of search keys \n",
    "and an array freq[0.. n-1] of frequency counts, \n",
    "where freq[i] is the number of searches to keys[i]. \n",
    "\n",
    "Construct a binary search tree of all keys such that the total cost of all the searches is as small as possible.\n",
    "\n",
    "Let us first define the cost of a BST. \n",
    "The cost of a BST node is level of that node multiplied by its frequency. \n",
    "Level of root is 1.\n",
    "*/"
   ]
  },
  {
   "cell_type": "code",
   "execution_count": 151,
   "metadata": {},
   "outputs": [],
   "source": [
    "/*\n",
    "Examples:\n",
    "\n",
    "\n",
    "\n",
    "Input:  keys[] = {10, 12}, freq[] = {34, 50}\n",
    "There can be following two possible BSTs \n",
    "        10                       12\n",
    "          \\                     / \n",
    "           12                 10\n",
    "          I                     II\n",
    "Frequency of searches of 10 and 12 are 34 and 50 respectively.\n",
    "The cost of tree I is 34*1 + 50*2 = 134\n",
    "The cost of tree II is 50*1 + 34*2 = 118 \n",
    "\n",
    "\n",
    "Input:  keys[] = {10, 12, 20}, freq[] = {34, 8, 50}\n",
    "There can be following possible BSTs\n",
    "    10                12                 20         10              20\n",
    "      \\             /    \\              /             \\            /\n",
    "      12          10     20           12               20         10  \n",
    "        \\                            /                 /           \\\n",
    "         20                        10                12             12  \n",
    "     I               II             III             IV             V\n",
    "Among all possible BSTs, cost of the fifth BST is minimum.  \n",
    "Cost of the fifth BST is 1*50 + 2*34 + 3*8 = 142\n",
    "*/"
   ]
  },
  {
   "cell_type": "code",
   "execution_count": 152,
   "metadata": {},
   "outputs": [],
   "source": [
    "/*\n",
    "1) Optimal Substructure:\n",
    "The optimal cost for freq[i..j] can be recursively calculated using formula given below.\n",
    "\n",
    "We need to calculate optCost(0, n-1) to find the result.\n",
    "\n",
    "The idea of above formula is simple, \n",
    "    we one by one try all nodes as root (r varies from i to j in second term). \n",
    "    When we make rth node as root, \n",
    "        we recursively calculate optimal cost from i to r-1 and r+1 to j.\n",
    "        \n",
    "We add sum of frequencies from i to j (see first term in the above formula),\n",
    "    this is added because every search will go through root and one comparison will be done for every search.\n",
    "*/"
   ]
  },
  {
   "cell_type": "markdown",
   "metadata": {},
   "source": [
    "<img src = \"https://www.geeksforgeeks.org/wp-content/ql-cache/quicklatex.com-944d3ae84f7f1459635e4d28f884fb49_l3.svg\"/>"
   ]
  },
  {
   "cell_type": "code",
   "execution_count": 153,
   "metadata": {},
   "outputs": [],
   "source": [
    "/*\n",
    "2) Overlapping Subproblems\n",
    "    Following is recursive implementation that simply follows the recursive structure mentioned above.\n",
    "*/"
   ]
  },
  {
   "cell_type": "code",
   "execution_count": 154,
   "metadata": {},
   "outputs": [],
   "source": [
    "// A recursive function to calculate cost of \n",
    "    // optimal binary search tree \n",
    "static int optCost(int freq[], int i, int j) \n",
    "{ \n",
    "   // Base cases \n",
    "   if (j < i)      // no elements in this subarray \n",
    "     return 0; \n",
    "   if (j == i)     // one element in this subarray \n",
    "     return freq[i]; \n",
    "\n",
    "   // Get sum of freq[i], freq[i+1], ... freq[j] \n",
    "   int fsum = sum(freq, i, j); \n",
    "\n",
    "   // Initialize minimum value \n",
    "   int min = Integer.MAX_VALUE; \n",
    "\n",
    "   // One by one consider all elements as root and  \n",
    "       // recursively find cost of the BST, compare the  \n",
    "       // cost with min and update min if needed \n",
    "   for (int r = i; r <= j; ++r) \n",
    "   { \n",
    "       int cost = optCost(freq, i, r-1) +  \n",
    "                      optCost(freq, r+1, j); \n",
    "       if (cost < min) \n",
    "          min = cost; \n",
    "   } \n",
    "\n",
    "   // Return minimum value \n",
    "   return min + fsum; \n",
    "} \n"
   ]
  },
  {
   "cell_type": "code",
   "execution_count": 155,
   "metadata": {},
   "outputs": [],
   "source": [
    "// The main function that calculates minimum cost of \n",
    "    // a Binary Search Tree. It mainly uses optCost() to \n",
    "    // find the optimal cost. \n",
    "static int optimalSearchTree(int keys[], int freq[], int n) \n",
    "{ \n",
    "     // Here array keys[] is assumed to be sorted in  \n",
    "         // increasing order. If keys[] is not sorted, then \n",
    "         // add code to sort keys, and rearrange freq[]  \n",
    "         // accordingly. \n",
    "     return optCost(freq, 0, n-1); \n",
    "} "
   ]
  },
  {
   "cell_type": "code",
   "execution_count": 156,
   "metadata": {},
   "outputs": [],
   "source": [
    "// A utility function to get sum of array elements  \n",
    "    // freq[i] to freq[j] \n",
    "static int sum(int freq[], int i, int j) \n",
    "{ \n",
    "    int s = 0; \n",
    "    for (int k = i; k <=j; k++) \n",
    "       s += freq[k]; \n",
    "    return s; \n",
    "} "
   ]
  },
  {
   "cell_type": "code",
   "execution_count": 157,
   "metadata": {},
   "outputs": [
    {
     "name": "stdout",
     "output_type": "stream",
     "text": [
      "Cost of Optimal BST is 142\n"
     ]
    }
   ],
   "source": [
    "// Driver code \n",
    "public static void main(String[] args) { \n",
    "    int keys[] = {10, 12, 20}; \n",
    "    int freq[] = {34, 8, 50}; \n",
    "    int n = keys.length; \n",
    "    System.out.println(\"Cost of Optimal BST is \" + \n",
    "                     optimalSearchTree(keys, freq, n)); \n",
    "} \n",
    "main(args);"
   ]
  },
  {
   "cell_type": "code",
   "execution_count": 158,
   "metadata": {},
   "outputs": [],
   "source": [
    "/*\n",
    "Time complexity of the above naive recursive approach is exponential. \n",
    "It should be noted that the above function computes the same subproblems again and again. \n",
    "We can see many subproblems being repeated in the following recursion tree for freq[1..4].\n",
    "*/"
   ]
  },
  {
   "cell_type": "markdown",
   "metadata": {},
   "source": [
    "<img src = \"https://media.geeksforgeeks.org/wp-content/uploads/matrixchainmultiplication.png\"/>"
   ]
  },
  {
   "cell_type": "code",
   "execution_count": 159,
   "metadata": {},
   "outputs": [],
   "source": [
    "/*\n",
    "Dynamic Programming Solution\n",
    "\n",
    "Following is implementation for optimal BST problem using Dynamic Programming. \n",
    "\n",
    "We use an auxiliary array cost[n][n] to store the solutions of subproblems. \n",
    "cost[0][n-1] will hold the final result. \n",
    "The challenge in implementation is, \n",
    "\n",
    "all diagonal values must be filled first, \n",
    "then the values which lie on the line just above the diagonal. \n",
    "\n",
    "In other words, we must first fill all cost[i][i] values, \n",
    "then all cost[i][i+1] values, \n",
    "then all cost[i][i+2] values. \n",
    "\n",
    "So how to fill the 2D array in such manner> \n",
    "The idea used in the implementation is same as Matrix Chain Multiplication problem, \n",
    "we use a variable ‘L’ for chain length and increment ‘L’, one by one. \n",
    "We calculate column number ‘j’ using the values of ‘i’ and ‘L’.\n",
    "*/"
   ]
  },
  {
   "cell_type": "code",
   "execution_count": 160,
   "metadata": {},
   "outputs": [],
   "source": [
    "/* A Dynamic Programming based function that calculates \n",
    "    minimum cost of a Binary Search Tree.  */\n",
    "static int optimalSearchTree(int keys[], int freq[], int n) { \n",
    "\n",
    "    /* Create an auxiliary 2D matrix to store results of  \n",
    "       subproblems */\n",
    "    int cost[][] = new int[n + 1][n + 1]; \n",
    "\n",
    "    /* cost[i][j] = Optimal cost of binary search tree that  \n",
    "       can be formed from keys[i] to keys[j]. cost[0][n-1]  \n",
    "       will store the resultant cost */\n",
    "\n",
    "    // For a single key, cost is equal to frequency of the key \n",
    "    for (int i = 0; i < n; i++) \n",
    "        cost[i][i] = freq[i]; \n",
    "\n",
    "    // Now we need to consider chains of length 2, 3, ... . \n",
    "    // L is chain length. \n",
    "    for (int L = 2; L <= n; L++) { \n",
    "\n",
    "        // i is row number in cost[][] \n",
    "        for (int i = 0; i <= n - L + 1; i++) { \n",
    "\n",
    "            // Get column number j from row number i and  \n",
    "            // chain length L \n",
    "            int j = i + L - 1; \n",
    "            cost[i][j] = Integer.MAX_VALUE; \n",
    "\n",
    "            // Try making all keys in interval keys[i..j] as root \n",
    "            for (int r = i; r <= j; r++) { \n",
    "\n",
    "                // c = cost when keys[r] becomes root of this subtree \n",
    "                int c = ((r > i) ? cost[i][r - 1] : 0) \n",
    "                        + ((r < j) ? cost[r + 1][j] : 0) + sum(freq, i, j); \n",
    "                if (c < cost[i][j]) \n",
    "                    cost[i][j] = c; \n",
    "            } \n",
    "        } \n",
    "    } \n",
    "    return cost[0][n - 1]; \n",
    "}"
   ]
  },
  {
   "cell_type": "code",
   "execution_count": 161,
   "metadata": {},
   "outputs": [],
   "source": [
    "// A utility function to get sum of array elements  \n",
    "// freq[i] to freq[j] \n",
    "static int sum(int freq[], int i, int j) { \n",
    "    int s = 0; \n",
    "    for (int k = i; k <= j; k++) { \n",
    "        if (k >= freq.length) \n",
    "            continue; \n",
    "        s += freq[k]; \n",
    "    } \n",
    "    return s; \n",
    "} "
   ]
  },
  {
   "cell_type": "code",
   "execution_count": 162,
   "metadata": {},
   "outputs": [
    {
     "name": "stdout",
     "output_type": "stream",
     "text": [
      "Cost of Optimal BST is 142\n"
     ]
    }
   ],
   "source": [
    "public static void main(String[] args) { \n",
    "\n",
    "    int keys[] = { 10, 12, 20 }; \n",
    "    int freq[] = { 34, 8, 50 }; \n",
    "    int n = keys.length; \n",
    "    System.out.println(\"Cost of Optimal BST is \"\n",
    "            + optimalSearchTree(keys, freq, n)); \n",
    "} \n",
    "main(args);"
   ]
  },
  {
   "cell_type": "code",
   "execution_count": 163,
   "metadata": {},
   "outputs": [],
   "source": [
    "/*\n",
    "Notes\n",
    "\n",
    "1) The time complexity of the above solution is O(n^4). \n",
    "   The time complexity can be easily reduced to O(n^3) by \n",
    "       pre-calculating sum of frequencies instead of calling sum() again and again.\n",
    "\n",
    "2) In the above solutions, \n",
    "   we have computed optimal cost only. \n",
    "   The solutions can be easily modified to store the structure of BSTs also. \n",
    "   We can create another auxiliary array of size n to store the structure of tree. \n",
    "   All we need to do is, store the chosen ‘r’ in the innermost loop.\n",
    "*/"
   ]
  },
  {
   "cell_type": "markdown",
   "metadata": {},
   "source": [
    "## **207 Minimum insertions to form a palindrome | DP-28**\n",
    "https://www.geeksforgeeks.org/minimum-insertions-to-form-a-palindrome-dp-28/"
   ]
  },
  {
   "cell_type": "code",
   "execution_count": 164,
   "metadata": {},
   "outputs": [],
   "source": [
    "/*\n",
    "Given a string str, \n",
    "the task is to find the minimum number of characters to be inserted to convert it to palindrome.\n",
    "\n",
    "Before we go further, let us understand with few examples:\n",
    "\n",
    "- ab: Number of insertions required is 1 \n",
    "        i.e. bab\n",
    "- aa: Number of insertions required is 0 \n",
    "        i.e. aa\n",
    "- abcd: Number of insertions required is 3 \n",
    "        i.e. dcbabcd\n",
    "- abcda: Number of insertions required is 2 \n",
    "        i.e. adcbcda which is same as number of insertions in the substring bcd(Why?).\n",
    "- abcde: Number of insertions required is 4 \n",
    "        i.e. edcbabcde\n",
    "*/"
   ]
  },
  {
   "cell_type": "code",
   "execution_count": 165,
   "metadata": {},
   "outputs": [],
   "source": [
    "/*\n",
    "Let the input string be str[l……h]. The problem can be broken down into three parts:\n",
    "\n",
    "1. Find the minimum number of insertions in the substring str[l+1,…….h].\n",
    "2. Find the minimum number of insertions in the substring str[l…….h-1].\n",
    "3. Find the minimum number of insertions in the substring str[l+1……h-1].\n",
    "*/"
   ]
  },
  {
   "cell_type": "code",
   "execution_count": 166,
   "metadata": {},
   "outputs": [],
   "source": [
    "/*\n",
    "Recursive Approach: The minimum number of insertions in the string str[l…..h] can be given as:\n",
    "\n",
    "minInsertions(str[l+1…..h-1]) \n",
    "    if str[l] is equal to str[h]\n",
    "min(minInsertions(str[l…..h-1]), minInsertions(str[l+1…..h])) + 1 \n",
    "    otherwise\n",
    "*/"
   ]
  },
  {
   "cell_type": "code",
   "execution_count": 167,
   "metadata": {},
   "outputs": [],
   "source": [
    "// Recursive function to find minimum number \n",
    "// of insertions \n",
    "static int findMinInsertions(char str[], int l, \n",
    "                                         int h) \n",
    "{ \n",
    "    // Base Cases \n",
    "    if (l > h) return Integer.MAX_VALUE; \n",
    "    if (l == h) return 0; \n",
    "    if (l == h - 1) return (str[l] == str[h])? 0 : 1; \n",
    "\n",
    "    // Check if the first and last characters \n",
    "    // are same. On the basis of the  comparison \n",
    "    // result, decide which subrpoblem(s) to call \n",
    "    return (str[l] == str[h])? \n",
    "        findMinInsertions(str, l + 1, h - 1): \n",
    "        (Integer.min(findMinInsertions(str, l, h - 1), \n",
    "        findMinInsertions(str, l + 1, h)) + 1); \n",
    "} "
   ]
  },
  {
   "cell_type": "code",
   "execution_count": 168,
   "metadata": {},
   "outputs": [
    {
     "name": "stdout",
     "output_type": "stream",
     "text": [
      "3\n"
     ]
    }
   ],
   "source": [
    "// Driver program to test above functions \n",
    "public static void main(String args[]) \n",
    "{ \n",
    "    String str= \"geeks\"; \n",
    "    System.out.println(findMinInsertions(str.toCharArray(), \n",
    "                                      0, str.length()-1)); \n",
    "} \n",
    "main(args);"
   ]
  },
  {
   "cell_type": "code",
   "execution_count": 169,
   "metadata": {},
   "outputs": [],
   "source": [
    "/*\n",
    "Dynamic Programming based Solution\n",
    "\n",
    "If we observe the above approach carefully, \n",
    "    we can find that it exhibits overlapping subproblems.\n",
    "Suppose we want to find the minimum number of insertions in string “abcde”:\n",
    "\n",
    "                      abcde\n",
    "            /       |      \\\n",
    "           /        |        \\\n",
    "           bcde         abcd       bcd  <- case 3 is discarded as str[l] != str[h]\n",
    "       /   |   \\       /   |   \\\n",
    "      /    |    \\     /    |    \\\n",
    "     cde   bcd  cd   bcd abc bc\n",
    "   / | \\  / | \\ /|\\ / | \\\n",
    "de cd d cd bc c………………….\n",
    "\n",
    "The substrings in bold show that the recursion to be terminated and \n",
    "the recursion tree cannot originate from there. \n",
    "\n",
    "Substring in the same color indicates overlapping subproblems.\n",
    "\n",
    "How to re-use solutions of subproblems? \n",
    "    Memoization technique is used to avoid similar subproblem recalls. \n",
    "    We can create a table to store results of subproblems \n",
    "        so that they can be used directly if same subproblem is encountered again.\n",
    "        \n",
    "Time complexity: O(N^2)\n",
    "Auxiliary Space: O(N^2)\n",
    "*/"
   ]
  },
  {
   "cell_type": "code",
   "execution_count": 170,
   "metadata": {},
   "outputs": [],
   "source": [
    "/*\n",
    "The below table represents the stored values for the string abcde.\n",
    "\n",
    "a b c d e\n",
    "----------\n",
    "0 1 2 3 4\n",
    "0 0 1 2 3 \n",
    "0 0 0 1 2 \n",
    "0 0 0 0 1 \n",
    "0 0 0 0 0\n",
    "*/"
   ]
  },
  {
   "cell_type": "code",
   "execution_count": 171,
   "metadata": {},
   "outputs": [],
   "source": [
    "/*\n",
    "How to fill the table?\n",
    "\n",
    "The table should be filled in diagonal fashion. \n",
    "For the string abcde, 0….4, the following should be order in which the table is filled:\n",
    "\n",
    "Gap = 1: (0, 1) (1, 2) (2, 3) (3, 4)\n",
    "\n",
    "Gap = 2: (0, 2) (1, 3) (2, 4)\n",
    "\n",
    "Gap = 3: (0, 3) (1, 4)\n",
    "\n",
    "Gap = 4: (0, 4)\n",
    "*/"
   ]
  },
  {
   "cell_type": "code",
   "execution_count": 172,
   "metadata": {},
   "outputs": [],
   "source": [
    "// A DP function to find minimum number \n",
    "// of insersions \n",
    "static int findMinInsertionsDP(char str[], int n) \n",
    "{ \n",
    "    // Create a table of size n*n. table[i][j] \n",
    "    // will store minumum number of insertions \n",
    "    // needed to convert str[i..j] to a palindrome. \n",
    "    int table[][] = new int[n][n]; \n",
    "    int l, h, gap; \n",
    "\n",
    "    // Fill the table \n",
    "    for (gap = 1; gap < n; ++gap) \n",
    "    for (l = 0, h = gap; h < n; ++l, ++h) \n",
    "        table[l][h] = (str[l] == str[h])? \n",
    "                       table[l+1][h-1] : \n",
    "                      (Integer.min(table[l][h-1], \n",
    "                             table[l+1][h]) + 1); \n",
    "\n",
    "    // Return minimum number of insertions \n",
    "    // for str[0..n-1] \n",
    "    return table[0][n-1]; \n",
    "} "
   ]
  },
  {
   "cell_type": "code",
   "execution_count": 173,
   "metadata": {},
   "outputs": [
    {
     "name": "stdout",
     "output_type": "stream",
     "text": [
      "3\n"
     ]
    }
   ],
   "source": [
    "// Driver program to test above function. \n",
    "public static void main(String args[]) \n",
    "{ \n",
    "    String str = \"geeks\"; \n",
    "    System.out.println( \n",
    "    findMinInsertionsDP(str.toCharArray(), str.length())); \n",
    "} \n",
    "main(args);"
   ]
  },
  {
   "cell_type": "code",
   "execution_count": 174,
   "metadata": {},
   "outputs": [],
   "source": [
    "/*\n",
    "Another Dynamic Programming Solution (Variation of Longest Common Subsequence Problem)\n",
    "Time complexity: O(N^2)\n",
    "Auxiliary Space: O(N^2)\n",
    "\n",
    "The problem of finding minimum insertions can also be solved using Longest Common Subsequence (LCS) Problem. \n",
    "If we find out LCS of string and its reverse, \n",
    "    we know how many maximum characters can form a palindrome. \n",
    "    We need insert remaining characters. \n",
    "\n",
    "Following are the steps.\n",
    "\n",
    "    Find the length of LCS of input string and its reverse. Let the length be ‘l’.\n",
    "    The minimum number insertions needed is length of input string minus ‘l’.\n",
    "*/"
   ]
  },
  {
   "cell_type": "code",
   "execution_count": 175,
   "metadata": {},
   "outputs": [],
   "source": [
    "/* Returns length of LCS for X[0..m-1], \n",
    "   Y[0..n-1]. See http://goo.gl/bHQVP for \n",
    "   details of this function */\n",
    "static int lcs( String X, String Y, int m, int n ) \n",
    "{ \n",
    "    int L[][] = new int[n+1][n+1]; \n",
    "    int i, j; \n",
    "\n",
    "    /* Following steps build L[m+1][n+1] in \n",
    "       bottom up fashion. Note that L[i][j] \n",
    "       contains length of LCS of X[0..i-1] \n",
    "       and Y[0..j-1] */\n",
    "    for (i=0; i<=m; i++) \n",
    "    { \n",
    "        for (j=0; j<=n; j++) \n",
    "        { \n",
    "            if (i == 0 || j == 0) \n",
    "                L[i][j] = 0; \n",
    "\n",
    "            else if (X.charAt(i-1) == Y.charAt(j-1)) \n",
    "                L[i][j] = L[i-1][j-1] + 1; \n",
    "\n",
    "            else\n",
    "                L[i][j] = Integer.max(L[i-1][j], L[i][j-1]); \n",
    "        } \n",
    "    } \n",
    "\n",
    "    /* L[m][n] contains length of LCS for \n",
    "       X[0..n-1] and Y[0..m-1] */\n",
    "    return L[m][n]; \n",
    "} "
   ]
  },
  {
   "cell_type": "code",
   "execution_count": 176,
   "metadata": {},
   "outputs": [],
   "source": [
    "// LCS based function to find minimum number \n",
    "// of insersions \n",
    "static int findMinInsertionsLCS(String str, int n) \n",
    "{ \n",
    "    // Using StringBuffer to reverse a String \n",
    "    StringBuffer sb = new StringBuffer(str); \n",
    "    sb.reverse(); \n",
    "    String revString = sb.toString(); \n",
    "\n",
    "    // The output is length of string minus \n",
    "    // length of lcs of str and it reverse \n",
    "    return (n - lcs(str, revString , n, n)); \n",
    "} "
   ]
  },
  {
   "cell_type": "code",
   "execution_count": 177,
   "metadata": {},
   "outputs": [
    {
     "name": "stdout",
     "output_type": "stream",
     "text": [
      "3\n"
     ]
    }
   ],
   "source": [
    "// Driver program to test above functions \n",
    "public static void main(String args[]) \n",
    "{ \n",
    "    String str = \"geeks\"; \n",
    "    System.out.println( \n",
    "    findMinInsertionsLCS(str, str.length())); \n",
    "} \n",
    "main(args);"
   ]
  },
  {
   "cell_type": "markdown",
   "metadata": {},
   "source": [
    "**Related Link :** ***https://www.geeksforgeeks.org/minimum-number-appends-needed-make-string-palindrome/***"
   ]
  },
  {
   "cell_type": "markdown",
   "metadata": {},
   "source": [
    "## **208 Maximum Product Cutting | DP-36**\n",
    "https://www.geeksforgeeks.org/maximum-product-cutting-dp-36/"
   ]
  },
  {
   "cell_type": "code",
   "execution_count": 178,
   "metadata": {},
   "outputs": [],
   "source": [
    "/*\n",
    "Given a rope of length n meters, \n",
    "cut the rope in different parts of integer lengths in a way that maximizes product of lengths of all parts. \n",
    "\n",
    "You must make at least one cut. \n",
    "Assume that the length of rope is more than 2 meters.\n",
    "*/"
   ]
  },
  {
   "cell_type": "code",
   "execution_count": 179,
   "metadata": {},
   "outputs": [],
   "source": [
    "/*\n",
    "Examples:\n",
    "\n",
    "Input: n = 2\n",
    "Output: 1 (Maximum obtainable product is 1*1)\n",
    "\n",
    "Input: n = 3\n",
    "Output: 2 (Maximum obtainable product is 1*2)\n",
    "\n",
    "Input: n = 4\n",
    "Output: 4 (Maximum obtainable product is 2*2)\n",
    "\n",
    "Input: n = 5\n",
    "Output: 6 (Maximum obtainable product is 2*3)\n",
    "\n",
    "Input: n = 10\n",
    "Output: 36 (Maximum obtainable product is 3*3*4)\n",
    "*/"
   ]
  },
  {
   "cell_type": "markdown",
   "metadata": {},
   "source": [
    "**Related Link :** ***https://www.geeksforgeeks.org/dynamic-programming-set-13-cutting-a-rod/***"
   ]
  },
  {
   "cell_type": "code",
   "execution_count": 180,
   "metadata": {},
   "outputs": [],
   "source": [
    "/*\n",
    "1) Optimal Substructure:\n",
    "\n",
    "This problem is similar to Rod Cutting Problem. \n",
    "We can get the maximum product by making a cut at different positions and comparing the values obtained after a cut. \n",
    "We can recursively call the same function for a piece obtained after a cut.\n",
    "\n",
    "Let maxProd(n) be the maximum product for a rope of length n. maxProd(n) can be written as following.\n",
    "\n",
    "    maxProd(n) = max(i*(n-i), maxProdRec(n-i)*i) for all i in {1, 2, 3 .. n}\n",
    "*/"
   ]
  },
  {
   "cell_type": "code",
   "execution_count": 181,
   "metadata": {},
   "outputs": [],
   "source": [
    "/*\n",
    "2) Overlapping Subproblems\n",
    "\n",
    "Following is simple recursive implementation of the problem. \n",
    "The implementation simply follows the recursive structure mentioned above.\n",
    "*/"
   ]
  },
  {
   "cell_type": "code",
   "execution_count": 182,
   "metadata": {},
   "outputs": [
    {
     "name": "stdout",
     "output_type": "stream",
     "text": [
      "Maximum Product is 36\n"
     ]
    }
   ],
   "source": [
    "// The main function that returns  \n",
    "// maximum product obtainable from  \n",
    "// a rope of length n \n",
    "static int maxProd(int n) \n",
    "{ \n",
    "    // Base cases \n",
    "    if (n == 0 || n == 1) return 0; \n",
    "\n",
    "    // Make a cut at different places \n",
    "    // and take the maximum of all \n",
    "    int max_val = 0; \n",
    "    for (int i = 1; i < n; i++) \n",
    "    max_val = Math.max(max_val, \n",
    "              Math.max(i * (n - i), \n",
    "               maxProd(n - i) * i)); \n",
    "\n",
    "    // Return the maximum of all values \n",
    "    return max_val; \n",
    "}    \n",
    "\n",
    "/* Driver program to test above functions */\n",
    "public static void main(String[] args) \n",
    "{ \n",
    "    System.out.println(\"Maximum Product is \" \n",
    "                        + maxProd(10)); \n",
    "} \n",
    "main(args);"
   ]
  },
  {
   "cell_type": "code",
   "execution_count": 183,
   "metadata": {},
   "outputs": [],
   "source": [
    "/*\n",
    "Considering the above implementation, following is recursion tree for a Rope of length 5\n",
    "\n",
    "In this partial recursion tree, \n",
    "mP(3) is being solved twice. \n",
    "\n",
    "We can see that there are many subproblems which are solved again and again.\n",
    "\n",
    "Like other typical Dynamic Programming(DP) problems, \n",
    "recomputations of same subproblems can be avoided by constructing a temporary array val[] in bottom up manner.\n",
    "\n",
    "Time Complexity of the Dynamic Programming solution is O(n^2) and it requires O(n) extra space\n",
    "*/"
   ]
  },
  {
   "cell_type": "markdown",
   "metadata": {},
   "source": [
    "<img src = \"https://media.geeksforgeeks.org/wp-content/cdn-uploads/maximium-product-cutting.png\"/>"
   ]
  },
  {
   "cell_type": "code",
   "execution_count": 184,
   "metadata": {},
   "outputs": [
    {
     "name": "stdout",
     "output_type": "stream",
     "text": [
      "0 0 1 2 4 6 9 12 18 27 36 \n",
      "Maximum Product is 36\n"
     ]
    }
   ],
   "source": [
    "// A Dynamic Programming solution for Max Product Problem \n",
    "int maxProds(int n) \n",
    "{ \n",
    "   int[] val = new int[n+1]; \n",
    "   val[0] = val[1] = 0; \n",
    "   \n",
    "   // Build the table val[] in bottom up manner and return \n",
    "   // the last entry from the table \n",
    "   for (int i = 1; i <= n; i++) \n",
    "   { \n",
    "      int max_val = 0; \n",
    "      for (int j = 1; j <= i/2; j++) \n",
    "         max_val = Math.max(max_val, Math.max((i-j)*j, j*val[i-j])); \n",
    "      val[i] = max_val; \n",
    "   } \n",
    "    \n",
    "   for(int v:val){\n",
    "       System.out.print(v+\" \");\n",
    "   }\n",
    "   System.out.println();\n",
    "   return val[n];\n",
    "}\n",
    "/* Driver program to test above functions */\n",
    "public static void main(String[] args) \n",
    "{ \n",
    "    System.out.println(\"Maximum Product is \" \n",
    "                        + maxProds(10)); \n",
    "} \n",
    "main(args);"
   ]
  },
  {
   "cell_type": "code",
   "execution_count": 185,
   "metadata": {},
   "outputs": [],
   "source": [
    "/*\n",
    "A Tricky Solution:\n",
    "If we see some examples of this problems, \n",
    "    we can easily observe following pattern.\n",
    "    \n",
    "The maximum product can be obtained be repeatedly cutting parts of size 3 while size is greater than 4, \n",
    "keeping the last part as size of 2 or 3 or 4. \n",
    "\n",
    "For example, \n",
    "n = 10,\n",
    "    the maximum product is obtained by 3, 3, 4. \n",
    "For n = 11, \n",
    "    the maximum product is obtained by 3, 3, 3, 2. \n",
    "    \n",
    "Following is the implementation of this approach.\n",
    "*/"
   ]
  },
  {
   "cell_type": "code",
   "execution_count": 186,
   "metadata": {},
   "outputs": [
    {
     "name": "stdout",
     "output_type": "stream",
     "text": [
      "Maximum Product is 36\n"
     ]
    }
   ],
   "source": [
    "/* The main function that returns the  \n",
    "    max possible product */\n",
    "static int maxProd(int n) \n",
    "{ \n",
    "      \n",
    "    // n equals to 2 or 3 must be handled \n",
    "    // explicitly \n",
    "    if (n == 2 || n == 3) \n",
    "        return (n-1); \n",
    "  \n",
    "    // Keep removing parts of size 3  \n",
    "    // while n is greater than 4 \n",
    "    int res = 1; \n",
    "    while (n > 4) \n",
    "    { \n",
    "        n -= 3; \n",
    "          \n",
    "        // Keep multiplying 3 to res \n",
    "        res *= 3;  \n",
    "    } \n",
    "      \n",
    "    // The last part multiplied by  \n",
    "    // previous parts \n",
    "    return (n * res);  \n",
    "} \n",
    "  \n",
    "/* Driver program to test above functions */\n",
    "public static void main(String[] args) \n",
    "{ \n",
    "        System.out.println(\"Maximum Product is \"\n",
    "                            + maxProd(10)); \n",
    "}\n",
    "main(args);"
   ]
  },
  {
   "cell_type": "markdown",
   "metadata": {},
   "source": [
    "## **209 Optimal Strategy for a Game | DP-31**\n",
    "https://www.geeksforgeeks.org/optimal-strategy-for-a-game-dp-31/"
   ]
  },
  {
   "cell_type": "code",
   "execution_count": 187,
   "metadata": {},
   "outputs": [],
   "source": [
    "/*\n",
    "Problem statement: \n",
    "Consider a row of n coins of values v1 . . . vn, where n is even. \n",
    "We play a game against an opponent by alternating turns. \n",
    "\n",
    "In each turn, \n",
    "a player selects either the first or last coin from the row, \n",
    "removes it from the row permanently, and receives the value of the coin. \n",
    "\n",
    "Determine the maximum possible amount of money we can definitely win if we move first.\n",
    "\n",
    "Note: The opponent is as clever as the user.\n",
    "*/"
   ]
  },
  {
   "cell_type": "code",
   "execution_count": 188,
   "metadata": {},
   "outputs": [],
   "source": [
    "/*\n",
    "Let us understand the problem with few examples:\n",
    "\n",
    "1. 5, 3, 7, 10 : The user collects maximum value as 15(10 + 5)\n",
    "\n",
    "2. 8, 15, 3, 7 : The user collects maximum value as 22(7 + 15)\n",
    "\n",
    "Does choosing the best at each move give an optimal solution?\n",
    "\n",
    "No. In the second example, this is how the game can finish:\n",
    "\n",
    "1.\n",
    "    User chooses 8.\n",
    "    Opponent chooses 15.\n",
    "    User chooses 7.\n",
    "    Opponent chooses 3.\n",
    "Total value collected by user is 15(8 + 7)\n",
    "\n",
    "2.\n",
    "    User chooses 7.\n",
    "    Opponent chooses 8.\n",
    "    User chooses 15.\n",
    "    Opponent chooses 3.\n",
    "Total value collected by user is 22(7 + 15)\n",
    "\n",
    "So if the user follows the second game state, \n",
    "maximum value can be collected although the first move is not the best.\n",
    "*/"
   ]
  },
  {
   "cell_type": "code",
   "execution_count": 189,
   "metadata": {},
   "outputs": [],
   "source": [
    "/*\n",
    "There are two choices:\n",
    "\n",
    "1. The user chooses the ith coin with value Vi: \n",
    "    The opponent either chooses (i+1)th coin or jth coin. \n",
    "    The opponent intends to choose the coin which leaves the user with minimum value.\n",
    "    \n",
    "    i.e. The user can collect the value Vi + min(F(i+2, j), F(i+1, j-1) )\n",
    "\n",
    "2. The user chooses the jth coin with value Vj: \n",
    "    The opponent either chooses ith coin or (j-1)th coin. \n",
    "    The opponent intends to choose the coin which leaves the user with minimum value.\n",
    "\n",
    "    i.e. The user can collect the value Vj + min(F(i+1, j-1), F(i, j-2) )\n",
    "*/"
   ]
  },
  {
   "cell_type": "markdown",
   "metadata": {},
   "source": [
    "<img src = \"https://media.geeksforgeeks.org/wp-content/cdn-uploads/coinGame1.png\"/>"
   ]
  },
  {
   "cell_type": "markdown",
   "metadata": {},
   "source": [
    "<img src= \"https://media.geeksforgeeks.org/wp-content/cdn-uploads/coinGame21.png\"/>"
   ]
  },
  {
   "cell_type": "code",
   "execution_count": 190,
   "metadata": {},
   "outputs": [],
   "source": [
    "/*\n",
    "Following is recursive solution that is based on above two choices. \n",
    "We take the maximum of two choices.\n",
    "\n",
    "F(i, j)  represents the maximum value the user can collect from \n",
    "         i'th coin to j'th coin.\n",
    "\n",
    "    F(i, j)  = Max(Vi + min(F(i+2, j), F(i+1, j-1) ), \n",
    "                   Vj + min(F(i+1, j-1), F(i, j-2) )) \n",
    "Base Cases\n",
    "    F(i, j)  = Vi           If j == i\n",
    "    F(i, j)  = max(Vi, Vj)  If j == i+1\n",
    "*/"
   ]
  },
  {
   "cell_type": "code",
   "execution_count": 191,
   "metadata": {},
   "outputs": [],
   "source": [
    "/*\n",
    "Why Dynamic Programming?\n",
    "\n",
    "The above relation exhibits overlapping sub-problems. \n",
    "In the above relation, \n",
    "    F(i+1, j-1) is calculated twice.\n",
    "*/"
   ]
  },
  {
   "cell_type": "code",
   "execution_count": 192,
   "metadata": {},
   "outputs": [],
   "source": [
    "// Returns optimal value possible that a player \n",
    "// can collect from an array of coins of size n. \n",
    "// Note than n must be even \n",
    "static int optimalStrategyOfGame(int arr[], int n) \n",
    "{ \n",
    "    // Create a table to store solutions of subproblems \n",
    "    int table[][] = new int[n][n]; \n",
    "    int gap, i, j, x, y, z; \n",
    "\n",
    "    // Fill table using above recursive formula. \n",
    "    // Note that the tableis filled in diagonal \n",
    "    // fashion (similar to http://goo.gl/PQqoS), \n",
    "    // from diagonal elements to table[0][n-1] \n",
    "    // which is the result. \n",
    "    for (gap = 0; gap < n; ++gap) { \n",
    "        for (i = 0, j = gap; j < n; ++i, ++j) { \n",
    "\n",
    "            // Here x is value of F(i+2, j), \n",
    "            // y is F(i+1, j-1) and z is \n",
    "            // F(i, j-2) in above recursive formula \n",
    "            x = ((i + 2) <= j) ? table[i + 2][j] : 0; \n",
    "            y = ((i + 1) <= (j - 1)) ? table[i + 1][j - 1] : 0; \n",
    "            z = (i <= (j - 2)) ? table[i][j - 2] : 0; \n",
    "\n",
    "            table[i][j] = Math.max(arr[i] + Math.min(x, y),  \n",
    "                                   arr[j] + Math.min(y, z)); \n",
    "        } \n",
    "    } \n",
    "\n",
    "    return table[0][n - 1]; \n",
    "} "
   ]
  },
  {
   "cell_type": "code",
   "execution_count": 193,
   "metadata": {},
   "outputs": [
    {
     "name": "stdout",
     "output_type": "stream",
     "text": [
      "22\n",
      "4\n",
      "42\n"
     ]
    }
   ],
   "source": [
    "// Driver program \n",
    "public static void main(String[] args) \n",
    "{ \n",
    "    int arr1[] = { 8, 15, 3, 7 }; \n",
    "    int n = arr1.length; \n",
    "    System.out.println(\"\" + optimalStrategyOfGame(arr1, n)); \n",
    "\n",
    "    int arr2[] = { 2, 2, 2, 2 }; \n",
    "    n = arr2.length; \n",
    "    System.out.println(\"\" + optimalStrategyOfGame(arr2, n)); \n",
    "\n",
    "    int arr3[] = { 20, 30, 2, 2, 2, 10 }; \n",
    "    n = arr3.length; \n",
    "    System.out.println(\"\" + optimalStrategyOfGame(arr3, n)); \n",
    "} \n",
    "main(args);"
   ]
  },
  {
   "cell_type": "markdown",
   "metadata": {},
   "source": [
    "**Related Link** ***https://www.geeksforgeeks.org/optimal-strategy-for-a-game-set-2/***"
   ]
  },
  {
   "cell_type": "markdown",
   "metadata": {},
   "source": [
    "## **210 Word Break Problem | DP-32**\n",
    "https://www.geeksforgeeks.org/word-break-problem-dp-32/"
   ]
  },
  {
   "cell_type": "code",
   "execution_count": 194,
   "metadata": {},
   "outputs": [],
   "source": [
    "/*\n",
    "Given an input string and a dictionary of words, \n",
    "find out if the input string can be segmented into a space-separated sequence of dictionary words. \n",
    "*/"
   ]
  },
  {
   "cell_type": "code",
   "execution_count": 195,
   "metadata": {},
   "outputs": [],
   "source": [
    "/*\n",
    "See following examples for more details.\n",
    "\n",
    "Consider the following dictionary \n",
    "{ i, like, sam, sung, samsung, mobile, ice, \n",
    "  cream, icecream, man, go, mango}\n",
    "\n",
    "Input:  ilike\n",
    "Output: Yes \n",
    "The string can be segmented as \"i like\".\n",
    "\n",
    "Input:  ilikesamsung\n",
    "Output: Yes\n",
    "The string can be segmented as \"i like samsung\" \n",
    "or \"i like sam sung\".\n",
    "*/"
   ]
  },
  {
   "cell_type": "code",
   "execution_count": 196,
   "metadata": {},
   "outputs": [],
   "source": [
    "/*\n",
    "Recursive implementation:\n",
    "\n",
    "The idea is simple, \n",
    "we consider each prefix and search it in dictionary. \n",
    "If the prefix is present in dictionary, \n",
    "    we recur for rest of the string (or suffix). \n",
    "If the recursive call for suffix returns true, \n",
    "    we return true, \n",
    "otherwise \n",
    "    we try next prefix. \n",
    "\n",
    "If we have tried all prefixes and none of them resulted in a solution,\n",
    "    we return false.\n",
    "*/"
   ]
  },
  {
   "cell_type": "code",
   "execution_count": 197,
   "metadata": {},
   "outputs": [
    {
     "name": "stdout",
     "output_type": "stream",
     "text": [
      "true\n",
      "true\n",
      "true\n",
      "true\n",
      "true\n",
      "false\n"
     ]
    }
   ],
   "source": [
    "// set to hold dictionary values \n",
    "private static Set<String> dictionary = new HashSet<>(); \n",
    "\n",
    "public static void main(String []args) \n",
    "{ \n",
    "\n",
    "    // array of strings to be added in dictionary set. \n",
    "    String temp_dictionary[] = {\"mobile\",\"samsung\",\"sam\",\"sung\",  \n",
    "                        \"man\",\"mango\",\"icecream\",\"and\",  \n",
    "                        \"go\",\"i\",\"like\",\"ice\",\"cream\"}; \n",
    "\n",
    "    // loop to add all strings in dictionary set  \n",
    "    for (String temp :temp_dictionary) \n",
    "    { \n",
    "        dictionary.add(temp); \n",
    "    } \n",
    "\n",
    "    // sample input cases \n",
    "    System.out.println(wordBreak(\"ilikesamsung\")); \n",
    "    System.out.println(wordBreak(\"iiiiiiii\")); \n",
    "    System.out.println(wordBreak(\"\")); \n",
    "    System.out.println(wordBreak(\"ilikelikeimangoiii\")); \n",
    "    System.out.println(wordBreak(\"samsungandmango\")); \n",
    "    System.out.println(wordBreak(\"samsungandmangok\")); \n",
    "\n",
    "} \n",
    "\n",
    "// returns true if the word can be segmented into parts such \n",
    "// that each part is contained in dictionary \n",
    "public static boolean wordBreak(String word) \n",
    "{ \n",
    "    int size = word.length(); \n",
    "\n",
    "    // base case \n",
    "    if (size == 0) \n",
    "    return true; \n",
    "\n",
    "    //else check for all words \n",
    "    for (int i = 1; i <= size; i++) \n",
    "    { \n",
    "        // Now we will first divide the word into two parts , \n",
    "        // the prefix will have a length of i and check if it is  \n",
    "        // present in dictionary ,if yes then we will check for  \n",
    "        // suffix of length size-i recursively. if both prefix and  \n",
    "        // suffix are present the word is found in dictionary. \n",
    "\n",
    "        if (dictionary.contains(word.substring(0,i)) &&  \n",
    "                wordBreak(word.substring(i,size))) \n",
    "        return true; \n",
    "    } \n",
    "\n",
    "    // if all cases failed then return false \n",
    "    return false; \n",
    "} \n",
    "main(args);"
   ]
  },
  {
   "cell_type": "code",
   "execution_count": 198,
   "metadata": {},
   "outputs": [],
   "source": [
    "/*\n",
    "Dynamic Programming\n",
    "\n",
    "Why Dynamic Programming? \n",
    "The above problem exhibits overlapping sub-problems. \n",
    "For example, \n",
    "    see the following partial recursion tree for string “abcde” in worst case.\n",
    "*/"
   ]
  },
  {
   "cell_type": "markdown",
   "metadata": {},
   "source": [
    "<img src=\"https://media.geeksforgeeks.org/wp-content/cdn-uploads/wordBreak1.png\"/>"
   ]
  },
  {
   "cell_type": "markdown",
   "metadata": {},
   "source": [
    "***https://ideone.com/36qp3O***"
   ]
  },
  {
   "cell_type": "code",
   "execution_count": 199,
   "metadata": {},
   "outputs": [],
   "source": [
    "/*\n",
    "Optimized Dynamic Programming:\n",
    "\n",
    "In this approach, apart from the dp table,\n",
    "    we also maintain all the indexes which have matched earlier. \n",
    "Then we will check the substrings from those indexes to the current index. \n",
    "If anyone of that matches then we can divide the string up to that index.\n",
    "\n",
    "In this program, we are using some extra space. \n",
    "    However, its time complexity is O(n*s) \n",
    "        where s is the length of the largest string in the dictionary \n",
    "        and n is the length of the given string.\n",
    "*/"
   ]
  },
  {
   "cell_type": "markdown",
   "metadata": {},
   "source": [
    "***https://ideone.com/4crMpO***"
   ]
  },
  {
   "cell_type": "markdown",
   "metadata": {},
   "source": [
    "**Related Link**\n",
    "\n",
    "***https://www.geeksforgeeks.org/word-break-problem-trie-solution/***\n",
    "\n",
    "***https://www.geeksforgeeks.org/word-break-problem-using-backtracking/***"
   ]
  },
  {
   "cell_type": "markdown",
   "metadata": {},
   "source": [
    "## **211. Mobile Numeric Keypad Problem**\n",
    "https://www.geeksforgeeks.org/mobile-numeric-keypad-problem/"
   ]
  },
  {
   "cell_type": "code",
   "execution_count": 200,
   "metadata": {},
   "outputs": [],
   "source": [
    "/*\n",
    "Given the mobile numeric keypad. \n",
    "You can only press buttons that are up, left, right or down to the current button. \n",
    "You are not allowed to press bottom row corner buttons (i.e. * and # ).\n",
    "\n",
    "Given a number N, find out the number of possible numbers of given length.\n",
    "*/"
   ]
  },
  {
   "cell_type": "markdown",
   "metadata": {},
   "source": [
    "<img src = \"https://www.geeksforgeeks.org/wp-content/uploads/Mobile-keypad-267x300.png\"/>"
   ]
  },
  {
   "cell_type": "code",
   "execution_count": 201,
   "metadata": {},
   "outputs": [],
   "source": [
    "/*\n",
    "Examples:\n",
    "For N=1, number of possible numbers would be 10 (0, 1, 2, 3, …., 9)\n",
    "For N=2, number of possible numbers would be 36\n",
    "Possible numbers: 00,08 11,12,14 22,21,23,25 and so on.\n",
    "If we start with 0, valid numbers will be 00, 08 (count: 2)\n",
    "If we start with 1, valid numbers will be 11, 12, 14 (count: 3)\n",
    "If we start with 2, valid numbers will be 22, 21, 23,25 (count: 4)\n",
    "If we start with 3, valid numbers will be 33, 32, 36 (count: 3)\n",
    "If we start with 4, valid numbers will be 44,41,45,47 (count: 4)\n",
    "If we start with 5, valid numbers will be 55,54,52,56,58 (count: 5)\n",
    "………………………………\n",
    "………………………………\n",
    "\n",
    "\n",
    "We need to print the count of possible numbers.\n",
    "*/"
   ]
  },
  {
   "cell_type": "code",
   "execution_count": 202,
   "metadata": {},
   "outputs": [],
   "source": [
    "/*\n",
    "N = 1 is trivial case, \n",
    "    number of possible numbers would be 10 (0, 1, 2, 3, …., 9)\n",
    "For N > 1, \n",
    "we need to start from some button,\n",
    "    then move to any of the four direction (up, left, right or down) which takes to a valid button (should not go to *, #).\n",
    "    Keep doing this until N length number is obtained (depth first traversal).\n",
    "*/"
   ]
  },
  {
   "cell_type": "code",
   "execution_count": 203,
   "metadata": {},
   "outputs": [],
   "source": [
    "/*\n",
    "Recursive Solution:\n",
    "\n",
    "Mobile Keypad is a rectangular grid of 4X3 (4 rows and 3 columns)\n",
    "Lets say Count(i, j, N) represents the count of N length numbers starting from position (i, j)\n",
    "\n",
    "If N = 1\n",
    "  Count(i, j, N) = 10  \n",
    "Else\n",
    "  Count(i, j, N) = Sum of all Count(r, c, N-1) where (r, c) is new \n",
    "                   position after valid move of length 1 from current \n",
    "                   position (i, j)\n",
    "*/"
   ]
  },
  {
   "cell_type": "code",
   "execution_count": 204,
   "metadata": {},
   "outputs": [],
   "source": [
    "// left, up, right, down  \n",
    "// move from current location \n",
    "static int row[] = {0, 0, -1, 0, 1}; \n",
    "static int col[] = {0, -1, 0, 1, 0}; "
   ]
  },
  {
   "cell_type": "code",
   "execution_count": 205,
   "metadata": {},
   "outputs": [],
   "source": [
    "// Returns count of numbers of length \n",
    "// n starting from key position \n",
    "// (i, j) in a numeric keyboard. \n",
    "static int getCountUtil(char keypad[][],  int i, int j, int n) \n",
    "{ \n",
    "    if (keypad == null || n <= 0) \n",
    "        return 0; \n",
    "  \n",
    "    // From a given key, only one  \n",
    "    // number is possible of length 1 \n",
    "    if (n == 1) \n",
    "        return 1; \n",
    "  \n",
    "    int k = 0, move = 0, ro = 0, co = 0, totalCount = 0; \n",
    "  \n",
    "    // move left, up, right, down \n",
    "    // from current location and if \n",
    "    // new location is valid, then  \n",
    "    // get number count of length \n",
    "    // (n-1) from that new position  \n",
    "    // and add in count obtained so far \n",
    "    for (move=0; move<5; move++) \n",
    "    { \n",
    "        ro = i + row[move]; \n",
    "        co = j + col[move]; \n",
    "        if (ro >= 0 && ro <= 3 && co >=0 && co <= 2 && \n",
    "        keypad[ro][co] != '*' && keypad[ro][co] != '#') \n",
    "        { \n",
    "            totalCount += getCountUtil(keypad, ro, co, n - 1); \n",
    "        } \n",
    "    } \n",
    "    return totalCount; \n",
    "} "
   ]
  },
  {
   "cell_type": "code",
   "execution_count": 206,
   "metadata": {},
   "outputs": [],
   "source": [
    "// Return count of all possible numbers of length n \n",
    "// in a given numeric keyboard \n",
    "static int getCount(char keypad[][], int n) \n",
    "{ \n",
    "    // Base cases \n",
    "    if (keypad == null || n <= 0) \n",
    "        return 0; \n",
    "    if (n == 1) \n",
    "        return 10; \n",
    "  \n",
    "    int i = 0, j = 0, totalCount = 0; \n",
    "    for (i = 0; i < 4; i++) // Loop on keypad row \n",
    "    { \n",
    "        for (j=0; j<3; j++) // Loop on keypad column \n",
    "        { \n",
    "            // Process for 0 to 9 digits \n",
    "            if (keypad[i][j] != '*' && keypad[i][j] != '#') \n",
    "            { \n",
    "                // Get count when number is starting from key \n",
    "                // position (i, j) and add in count obtained so far \n",
    "                totalCount += getCountUtil(keypad, i, j, n); \n",
    "            } \n",
    "        } \n",
    "    } \n",
    "    return totalCount; \n",
    "} "
   ]
  },
  {
   "cell_type": "code",
   "execution_count": 207,
   "metadata": {},
   "outputs": [
    {
     "name": "stdout",
     "output_type": "stream",
     "text": [
      "Count for numbers of length 1: 10\n",
      "Count for numbers oflength 2: 36\n",
      "Count for numbers oflength 3: 138\n",
      "Count for numbers oflength 4: 532\n",
      "Count for numbers oflength 5: 2062"
     ]
    }
   ],
   "source": [
    "// Driver code \n",
    "public static void main(String[] args)  \n",
    "{ \n",
    "    char keypad[][] = {{'1','2','3'}, \n",
    "                        {'4','5','6'}, \n",
    "                        {'7','8','9'}, \n",
    "                        {'*','0','#'}}; \n",
    "    System.out.printf(\"Count for numbers of\"+ \n",
    "                    \" length %d: %d\", 1, getCount(keypad, 1)); \n",
    "    System.out.printf(\"\\nCount for numbers of\" +  \n",
    "                    \"length %d: %d\", 2, getCount(keypad, 2)); \n",
    "    System.out.printf(\"\\nCount for numbers of\" +  \n",
    "                    \"length %d: %d\", 3, getCount(keypad, 3)); \n",
    "    System.out.printf(\"\\nCount for numbers of\" +  \n",
    "                    \"length %d: %d\", 4, getCount(keypad, 4)); \n",
    "    System.out.printf(\"\\nCount for numbers of\" +  \n",
    "                    \"length %d: %d\", 5, getCount(keypad, 5)); \n",
    "} \n",
    "main(args);"
   ]
  },
  {
   "cell_type": "code",
   "execution_count": 208,
   "metadata": {},
   "outputs": [],
   "source": [
    "/*\n",
    "Dynamic Programming\n",
    "\n",
    "There are many repeated traversal on smaller paths (traversal for smaller N) \n",
    "to find all possible longer paths (traversal for bigger N). \n",
    "\n",
    "See following two diagrams for example. \n",
    "In this traversal, \n",
    "for N = 4 from two starting positions (buttons ‘4’ and ‘8’), \n",
    "    we can see there are few repeated traversals for N = 2 (e.g. 4 -> 1, 6 -> 3, 8 -> 9, 8 -> 7 etc).\n",
    "*/"
   ]
  },
  {
   "cell_type": "markdown",
   "metadata": {},
   "source": [
    "<img src = \"https://media.geeksforgeeks.org/wp-content/cdn-uploads/mobile2.png\"/>"
   ]
  },
  {
   "cell_type": "markdown",
   "metadata": {
    "cell_style": "split"
   },
   "source": [
    "<img src = \"https://media.geeksforgeeks.org/wp-content/cdn-uploads/mobile3.png\"/>"
   ]
  },
  {
   "cell_type": "code",
   "execution_count": 209,
   "metadata": {},
   "outputs": [],
   "source": [
    "/*\n",
    "Following is the program for dynamic programming implementation.\n",
    "*/"
   ]
  },
  {
   "cell_type": "code",
   "execution_count": 210,
   "metadata": {},
   "outputs": [],
   "source": [
    "// Return count of all possible numbers of length n \n",
    "// in a given numeric keyboard \n",
    "static int getCount(char keypad[][], int n) \n",
    "{ \n",
    "    if(keypad == null || n <= 0) \n",
    "        return 0; \n",
    "    if(n == 1) \n",
    "        return 10; \n",
    "  \n",
    "    // left, up, right, down move from current location \n",
    "    int row[] = {0, 0, -1, 0, 1}; \n",
    "    int col[] = {0, -1, 0, 1, 0}; \n",
    "  \n",
    "    // taking n+1 for simplicity - count[i][j] will store \n",
    "    // number count starting with digit i and length j \n",
    "    int [][]count = new int[10][n + 1]; \n",
    "    int i = 0, j = 0, k = 0, move = 0,  \n",
    "             ro = 0, co = 0, num = 0; \n",
    "    int nextNum = 0, totalCount = 0; \n",
    "  \n",
    "    // count numbers starting with digit i  \n",
    "    // and of lengths 0 and 1 \n",
    "    for (i = 0; i <= 9; i++) \n",
    "    { \n",
    "        count[i][0] = 0; \n",
    "        count[i][1] = 1; \n",
    "    } \n",
    "  \n",
    "    // Bottom up - Get number count of length 2, 3, 4, ... , n \n",
    "    for (k = 2; k <= n; k++) \n",
    "    { \n",
    "        for (i = 0; i < 4; i++) // Loop on keypad row \n",
    "        { \n",
    "            for (j = 0; j < 3; j++) // Loop on keypad column \n",
    "            { \n",
    "                // Process for 0 to 9 digits \n",
    "                if (keypad[i][j] != '*' &&  \n",
    "                    keypad[i][j] != '#') \n",
    "                { \n",
    "                    // Here we are counting the numbers starting with \n",
    "                    // digit keypad[i][j] and of length k keypad[i][j] \n",
    "                    // will become 1st digit, and we need to look for \n",
    "                    // (k-1) more digits \n",
    "                    num = keypad[i][j] - '0'; \n",
    "                    count[num][k] = 0; \n",
    "  \n",
    "                    // move left, up, right, down from current location \n",
    "                    // and if new location is valid, then get number \n",
    "                    // count of length (k-1) from that new digit and \n",
    "                    // add in count we found so far \n",
    "                    for (move = 0; move < 5; move++) \n",
    "                    { \n",
    "                        ro = i + row[move]; \n",
    "                        co = j + col[move]; \n",
    "                        if (ro >= 0 && ro <= 3 && co >= 0 &&  \n",
    "                            co <= 2 && keypad[ro][co] != '*' &&  \n",
    "                                       keypad[ro][co] != '#') \n",
    "                        { \n",
    "                            nextNum = keypad[ro][co] - '0'; \n",
    "                            count[num][k] += count[nextNum][k - 1]; \n",
    "                        } \n",
    "                    } \n",
    "                } \n",
    "            } \n",
    "        } \n",
    "    } \n",
    "  \n",
    "    // Get count of all possible numbers of length \"n\"  \n",
    "    // starting with digit 0, 1, 2, ..., 9 \n",
    "    totalCount = 0; \n",
    "    for (i = 0; i <= 9; i++) \n",
    "        totalCount += count[i][n]; \n",
    "    return totalCount; \n",
    "}"
   ]
  },
  {
   "cell_type": "code",
   "execution_count": 211,
   "metadata": {},
   "outputs": [
    {
     "name": "stdout",
     "output_type": "stream",
     "text": [
      "Count for numbers of length 1: 10\n",
      "Count for numbers of length 2: 36\n",
      "Count for numbers of length 3: 138\n",
      "Count for numbers of length 4: 532\n",
      "Count for numbers of length 5: 2062\n"
     ]
    }
   ],
   "source": [
    "// Driver Code \n",
    "public static void main(String[] args) \n",
    "{ \n",
    "    char keypad[][] = {{'1','2','3'}, \n",
    "                       {'4','5','6'}, \n",
    "                       {'7','8','9'}, \n",
    "                       {'*','0','#'}}; \n",
    "    System.out.printf(\"Count for numbers of length %d: %d\\n\", 1,  \n",
    "                                           getCount(keypad, 1)); \n",
    "    System.out.printf(\"Count for numbers of length %d: %d\\n\", 2, \n",
    "                                           getCount(keypad, 2)); \n",
    "    System.out.printf(\"Count for numbers of length %d: %d\\n\", 3,  \n",
    "                                           getCount(keypad, 3)); \n",
    "    System.out.printf(\"Count for numbers of length %d: %d\\n\", 4,  \n",
    "                                           getCount(keypad, 4)); \n",
    "    System.out.printf(\"Count for numbers of length %d: %d\\n\", 5, \n",
    "                                           getCount(keypad, 5)); \n",
    "} \n",
    "main(args);"
   ]
  },
  {
   "cell_type": "code",
   "execution_count": 212,
   "metadata": {},
   "outputs": [],
   "source": [
    "/*\n",
    "A Space Optimized Solution:\n",
    "\n",
    "The above dynamic programming approach also runs in O(n) time and requires O(n) auxiliary space, \n",
    "    as only one for loop runs n times, other for loops runs for constant time. \n",
    "\n",
    "We can see that nth iteration needs data from (n-1)th iteration only, s\n",
    "    o we need not keep the data from older iterations. \n",
    "We can have a space efficient dynamic programming approach with just two arrays of size 10. \n",
    "*/"
   ]
  },
  {
   "cell_type": "code",
   "execution_count": 213,
   "metadata": {},
   "outputs": [],
   "source": [
    "// Return count of all possible numbers of  \n",
    "// length n in a given numeric keyboard \n",
    "static int getCount(char keypad[][], int n) \n",
    "{ \n",
    "    if(keypad == null || n <= 0) \n",
    "        return 0; \n",
    "    if(n == 1) \n",
    "        return 10; \n",
    "  \n",
    "    // odd[i], even[i] arrays represent count of  \n",
    "    // numbers starting with digit i for any length j \n",
    "    int []odd = new int[10]; \n",
    "    int []even = new int[10]; \n",
    "    int i = 0, j = 0, useOdd = 0, totalCount = 0; \n",
    "  \n",
    "    for (i = 0; i <= 9; i++) \n",
    "        odd[i] = 1; // for j = 1 \n",
    "      \n",
    "    // Bottom Up calculation from j = 2 to n \n",
    "    for (j = 2; j <= n; j++)  \n",
    "    { \n",
    "        useOdd = 1 - useOdd; \n",
    "  \n",
    "        // Here we are explicitly writing lines  \n",
    "        // for each number 0 to 9. But it can always be  \n",
    "        // written as DFS on 4X3 grid using row,  \n",
    "        // column array valid moves \n",
    "        if(useOdd == 1) \n",
    "        { \n",
    "            even[0] = odd[0] + odd[8]; \n",
    "            even[1] = odd[1] + odd[2] + odd[4]; \n",
    "            even[2] = odd[2] + odd[1] + odd[3] + odd[5]; \n",
    "            even[3] = odd[3] + odd[2] + odd[6]; \n",
    "            even[4] = odd[4] + odd[1] + odd[5] + odd[7]; \n",
    "            even[5] = odd[5] + odd[2] + odd[4] + odd[8] + odd[6]; \n",
    "            even[6] = odd[6] + odd[3] + odd[5] + odd[9]; \n",
    "            even[7] = odd[7] + odd[4] + odd[8]; \n",
    "            even[8] = odd[8] + odd[0] + odd[5] + odd[7] + odd[9]; \n",
    "            even[9] = odd[9] + odd[6] + odd[8]; \n",
    "        } \n",
    "        else\n",
    "        { \n",
    "            odd[0] = even[0] + even[8]; \n",
    "            odd[1] = even[1] + even[2] + even[4]; \n",
    "            odd[2] = even[2] + even[1] + even[3] + even[5]; \n",
    "            odd[3] = even[3] + even[2] + even[6]; \n",
    "            odd[4] = even[4] + even[1] + even[5] + even[7]; \n",
    "            odd[5] = even[5] + even[2] + even[4] + even[8] + even[6]; \n",
    "            odd[6] = even[6] + even[3] + even[5] + even[9]; \n",
    "            odd[7] = even[7] + even[4] + even[8]; \n",
    "            odd[8] = even[8] + even[0] + even[5] + even[7] + even[9]; \n",
    "            odd[9] = even[9] + even[6] + even[8]; \n",
    "        } \n",
    "    } \n",
    "  \n",
    "    // Get count of all possible numbers of  \n",
    "    // length \"n\" starting with digit 0, 1, 2, ..., 9 \n",
    "    totalCount = 0; \n",
    "    if(useOdd == 1) \n",
    "    { \n",
    "        for (i = 0; i <= 9; i++) \n",
    "            totalCount += even[i]; \n",
    "    } \n",
    "    else\n",
    "    { \n",
    "        for (i = 0; i <= 9; i++) \n",
    "            totalCount += odd[i]; \n",
    "    } \n",
    "    return totalCount; \n",
    "} "
   ]
  },
  {
   "cell_type": "code",
   "execution_count": 214,
   "metadata": {},
   "outputs": [
    {
     "name": "stdout",
     "output_type": "stream",
     "text": [
      "Count for numbers of length 1: 10\n",
      "Count for numbers of length 2: 36\n",
      "Count for numbers of length 3: 138\n",
      "Count for numbers of length 4: 532\n",
      "Count for numbers of length 5: 2062\n"
     ]
    }
   ],
   "source": [
    "// Driver Code \n",
    "public static void main(String[] args)  \n",
    "{ \n",
    "    char keypad[][] = {{'1','2','3'}, \n",
    "                       {'4','5','6'}, \n",
    "                       {'7','8','9'}, \n",
    "                       {'*','0','#'}}; \n",
    "    System.out.printf(\"Count for numbers of length %d: %d\\n\", 1,  \n",
    "                                           getCount(keypad, 1)); \n",
    "    System.out.printf(\"Count for numbers of length %d: %d\\n\", 2,  \n",
    "                                           getCount(keypad, 2)); \n",
    "    System.out.printf(\"Count for numbers of length %d: %d\\n\", 3, \n",
    "                                           getCount(keypad, 3)); \n",
    "    System.out.printf(\"Count for numbers of length %d: %d\\n\", 4, \n",
    "                                           getCount(keypad, 4)); \n",
    "    System.out.printf(\"Count for numbers of length %d: %d\\n\", 5, \n",
    "                                           getCount(keypad, 5)); \n",
    "} \n",
    "main(args);"
   ]
  },
  {
   "cell_type": "markdown",
   "metadata": {},
   "source": [
    "## **212. Find number of solutions of a linear equation of n variables**\n",
    "https://www.geeksforgeeks.org/find-number-of-solutions-of-a-linear-equation-of-n-variables/"
   ]
  },
  {
   "cell_type": "code",
   "execution_count": 215,
   "metadata": {},
   "outputs": [],
   "source": [
    "/*\n",
    "Given a linear equation of n variables, \n",
    "find number of non-negative integer solutions of it. \n",
    "\n",
    "For example,\n",
    "\n",
    "let the given equation be “x + 2y = 5”, \n",
    "solutions of this equation are “x = 1, y = 2”, “x = 5, y = 0” and “x = 1. \n",
    "\n",
    "It may be assumed that all coefficients in given equation are positive integers.\n",
    "*/"
   ]
  },
  {
   "cell_type": "code",
   "execution_count": 216,
   "metadata": {},
   "outputs": [],
   "source": [
    "/*\n",
    "Example :\n",
    "\n",
    "Input:  coeff[] = {1, 2}, rhs = 5\n",
    "Output: 3\n",
    "The equation \"x + 2y = 5\" has 3 solutions.\n",
    "(x=3,y=1), (x=1,y=2), (x=5,y=0)\n",
    "\n",
    "Input:  coeff[] = {2, 2, 3}, rhs = 4\n",
    "Output: 3\n",
    "The equation \"2x + 2y + 3z = 4\"  has 3 solutions.\n",
    "(x=0,y=2,z=0), (x=2,y=0,z=0), (x=1,y=1,z=0)\n",
    "*/"
   ]
  },
  {
   "cell_type": "code",
   "execution_count": 217,
   "metadata": {},
   "outputs": [],
   "source": [
    "/*\n",
    "We can solve this problem recursively. \n",
    "The idea is to subtract first coefficient from rhs and then recur for remaining value of rhs.\n",
    "\n",
    "If rhs = 0\n",
    "  countSol(coeff, 0, rhs, n-1) = 1\n",
    "Else\n",
    "  countSol(coeff, 0, rhs, n-1) = &Sum;countSol(coeff, i, rhs-coeff[i], m-1) \n",
    "                                 where coeff[i]<=rhs and \n",
    "                                 i varies from 0 to n-1       \n",
    "*/"
   ]
  },
  {
   "cell_type": "code",
   "execution_count": 218,
   "metadata": {},
   "outputs": [
    {
     "name": "stdout",
     "output_type": "stream",
     "text": [
      "3\n"
     ]
    }
   ],
   "source": [
    "// Recursive function that returns  \n",
    "// count of solutions for given \n",
    "// rhs value and coefficients coeff[start..end] \n",
    "static int countSol(int coeff[], int start, int end, int rhs) \n",
    "{ \n",
    "    // Base case \n",
    "    if (rhs == 0) \n",
    "    return 1; \n",
    "\n",
    "    // Initialize count of solutions  \n",
    "    int result = 0;  \n",
    "\n",
    "    // One by subtract all smaller or \n",
    "    // equal coefficiants and recur \n",
    "    for (int i = start; i <= end; i++) \n",
    "    if (coeff[i] <= rhs) \n",
    "        result += countSol(coeff, i, end, rhs - coeff[i]); \n",
    "\n",
    "    return result; \n",
    "} \n",
    "\n",
    "// Driver Code \n",
    "public static void main (String[] args) \n",
    "{ \n",
    "    int coeff[] = {2, 2, 5}; \n",
    "    int rhs = 4; \n",
    "    int n = coeff.length; \n",
    "    System.out.println (countSol(coeff, 0, n - 1, rhs)); \n",
    "\n",
    "} \n",
    "main(args);"
   ]
  },
  {
   "cell_type": "code",
   "execution_count": 219,
   "metadata": {},
   "outputs": [],
   "source": [
    "/*\n",
    "The time complexity of above solution is exponential. \n",
    "\n",
    "We can solve this problem in Pseudo Polynomial Time (time complexity is dependent on numeric value of input) using Dynamic Programming. \n",
    "\n",
    "The idea is similar to Dynamic Programming solution Subset Sum problem. \n",
    "Below is Dynamic Programming based implementation.\n",
    "\n",
    "Time Complexity of is O(n * rhs)\n",
    "*/"
   ]
  },
  {
   "cell_type": "markdown",
   "metadata": {},
   "source": [
    "***https://www.geeksforgeeks.org/dynamic-programming-subset-sum-problem/***"
   ]
  },
  {
   "cell_type": "code",
   "execution_count": 220,
   "metadata": {},
   "outputs": [
    {
     "name": "stdout",
     "output_type": "stream",
     "text": [
      "3"
     ]
    }
   ],
   "source": [
    "// Returns counr of solutions for given  \n",
    "// rhs and coefficients coeff[0..n-1] \n",
    "static int countSol(int coeff[],  \n",
    "                    int n, int rhs) \n",
    "{ \n",
    "\n",
    "    // Create and initialize a table to  \n",
    "    // store results of subproblems \n",
    "    int dp[] = new int[rhs + 1]; \n",
    "    Arrays.fill(dp, 0); \n",
    "    dp[0] = 1; \n",
    "\n",
    "    // Fill table in bottom up manner \n",
    "    for (int i = 0; i < n; i++) \n",
    "    for (int j = coeff[i]; j <= rhs; j++) \n",
    "        dp[j] += dp[j - coeff[i]]; \n",
    "\n",
    "    return dp[rhs]; \n",
    "} \n",
    "\n",
    "// Driver code \n",
    "public static void main (String[] args) \n",
    "{ \n",
    "    int coeff[] = {2, 2, 5}; \n",
    "    int rhs = 4; \n",
    "    int n = coeff.length; \n",
    "    System.out.print(countSol(coeff, n, rhs)); \n",
    "} \n",
    "main(args);"
   ]
  },
  {
   "cell_type": "markdown",
   "metadata": {},
   "source": [
    "## **213. Count the number of ways to tile the floor of size n x m using 1 x m size tiles**\n",
    "https://www.geeksforgeeks.org/count-number-ways-tile-floor-size-n-x-m-using-1-x-m-size-tiles/"
   ]
  },
  {
   "cell_type": "code",
   "execution_count": 221,
   "metadata": {},
   "outputs": [],
   "source": [
    "/*\n",
    "Given a floor of size n x m and tiles of size 1 x m. \n",
    "\n",
    "The problem is to count the number of ways to tile the given floor using 1 x m tiles. \n",
    "A tile can either be placed horizontally or vertically.\n",
    "\n",
    "Both n and m are positive integers and 2 < = m.\n",
    "*/"
   ]
  },
  {
   "cell_type": "code",
   "execution_count": 222,
   "metadata": {},
   "outputs": [],
   "source": [
    "/*\n",
    "Examples:\n",
    "\n",
    "Input : n = 2, m = 3\n",
    "Output : 1\n",
    "Only one combination to place \n",
    "two tiles of size 1 x 3 horizontally\n",
    "on the floor of size 2 x 3. \n",
    "\n",
    "Input :  n = 4, m = 4\n",
    "Output : 2\n",
    "1st combination:\n",
    "All tiles are placed horizontally\n",
    "2nd combination:\n",
    "All tiles are placed vertically.\n",
    "*/"
   ]
  },
  {
   "cell_type": "code",
   "execution_count": 223,
   "metadata": {},
   "outputs": [],
   "source": [
    "/*\n",
    "This problem is mainly a more generalized approach to the Tiling Problem.\n",
    "\n",
    "Approach: For a given value of n and m, the number of ways to tile the floor can be obtained from the following relation.\n",
    "\n",
    "\n",
    "            |  1, 1 < = n < m\n",
    " count(n) = |  2, n = m\n",
    "            | count(n-1) + count(n-m), m < n\n",
    "            \n",
    "Time Complexity: O(n)\n",
    "Auxiliary Space: O(n)\n",
    "*/"
   ]
  },
  {
   "cell_type": "code",
   "execution_count": 224,
   "metadata": {},
   "outputs": [
    {
     "name": "stdout",
     "output_type": "stream",
     "text": [
      "Number of ways = 5\n"
     ]
    }
   ],
   "source": [
    "// function to count the total number of ways \n",
    "static int countWays(int n, int m) \n",
    "{ \n",
    "    // table to store values \n",
    "    // of subproblems \n",
    "    int count[] = new int[n + 1]; \n",
    "    count[0] = 0; \n",
    "\n",
    "    // Fill the table upto value n \n",
    "    int i; \n",
    "    for (i = 1; i <= n; i++) { \n",
    "        // recurrence relation \n",
    "        if (i > m) \n",
    "            count[i] = count[i - 1] + count[i - m]; \n",
    "\n",
    "        // base cases \n",
    "        else if (i < m) \n",
    "            count[i] = 1; \n",
    "\n",
    "        // i = = m \n",
    "        else\n",
    "            count[i] = 2; \n",
    "    } \n",
    "\n",
    "    // required number of ways \n",
    "    return count[n]; \n",
    "} \n",
    "\n",
    "// Driver program \n",
    "public static void main(String[] args) \n",
    "{ \n",
    "    int n = 7; \n",
    "    int m = 4; \n",
    "    System.out.println(\"Number of ways = \"\n",
    "                       + countWays(n, m)); \n",
    "} \n",
    "main(args);"
   ]
  },
  {
   "cell_type": "markdown",
   "metadata": {},
   "source": [
    "## **214. Count number of binary strings without consecutive 1’s**\n",
    "https://www.geeksforgeeks.org/count-number-binary-strings-without-consecutive-1s/"
   ]
  },
  {
   "cell_type": "code",
   "execution_count": 225,
   "metadata": {},
   "outputs": [],
   "source": [
    "/*\n",
    "Given a positive integer N, \n",
    "count all possible distinct binary strings of length N such that there are no consecutive 1’s.\n",
    "*/"
   ]
  },
  {
   "cell_type": "code",
   "execution_count": 226,
   "metadata": {},
   "outputs": [],
   "source": [
    "/*\n",
    "Examples:\n",
    "\n",
    "Input:  N = 2\n",
    "Output: 3\n",
    "// The 3 strings are 00, 01, 10\n",
    "\n",
    "Input: N = 3\n",
    "Output: 5\n",
    "// The 5 strings are 000, 001, 010, 100, 101\n",
    "*/"
   ]
  },
  {
   "cell_type": "code",
   "execution_count": 227,
   "metadata": {},
   "outputs": [],
   "source": [
    "/*\n",
    "This problem can be solved using Dynamic Programming. \n",
    "\n",
    "Let a[i] be the number of binary strings of length i which do not contain any two consecutive 1’s and which end in 0. \n",
    "Similarly, \n",
    "let b[i] be the number of such strings which end in 1. \n",
    "\n",
    "We can append either 0 or 1 to a string ending in 0, but we can only append 0 to a string ending in 1. \n",
    "This yields the recurrence relation:\n",
    "        a[i] = a[i - 1] + b[i - 1]\n",
    "        b[i] = a[i - 1] \n",
    "\n",
    "The base cases of above recurrence are a[1] = b[1] = 1. \n",
    "The total number of strings of length i is just a[i] + b[i].\n",
    "\n",
    "Following is the implementation of above solution. \n",
    "In the following implementation, indexes start from 0. \n",
    "So \n",
    "a[i] represents the number of binary strings for input length i+1. \n",
    "Similarly, \n",
    "b[i] represents binary strings for input length i+1.\n",
    "*/"
   ]
  },
  {
   "cell_type": "code",
   "execution_count": 228,
   "metadata": {},
   "outputs": [
    {
     "name": "stdout",
     "output_type": "stream",
     "text": [
      "5\n"
     ]
    }
   ],
   "source": [
    "static  int countStrings(int n) \n",
    "{ \n",
    "    int a[] = new int [n]; \n",
    "    int b[] = new int [n]; \n",
    "    a[0] = b[0] = 1; \n",
    "    for (int i = 1; i < n; i++) \n",
    "    { \n",
    "        a[i] = a[i-1] + b[i-1]; \n",
    "        b[i] = a[i-1]; \n",
    "    } \n",
    "    return a[n-1] + b[n-1]; \n",
    "} \n",
    "/* Driver program to test above function */ \n",
    "public static void main (String args[]) \n",
    "{ \n",
    "      System.out.println(countStrings(3)); \n",
    "} \n",
    "main(args);"
   ]
  },
  {
   "cell_type": "code",
   "execution_count": 229,
   "metadata": {},
   "outputs": [],
   "source": [
    "/*\n",
    "If we take a closer look at the pattern,\n",
    "we can observe that the count is actually (n+2)’th Fibonacci number for n >= 1. \n",
    "The Fibonacci Numbers are 0, 1, 1, 2, 3, 5, 8, 13, 21, 34, 55, 89, 141, ….\n",
    "\n",
    "n = 1, count = 2  = fib(3)\n",
    "n = 2, count = 3  = fib(4)\n",
    "n = 3, count = 5  = fib(5)\n",
    "n = 4, count = 8  = fib(6)\n",
    "n = 5, count = 13 = fib(7)\n",
    "\n",
    "*/"
   ]
  },
  {
   "cell_type": "markdown",
   "metadata": {},
   "source": [
    "**Related Link :**  ***https://www.geeksforgeeks.org/program-for-nth-fibonacci-number/***\n",
    "\n",
    "***https://www.geeksforgeeks.org/1-to-n-bit-numbers-with-no-consecutive-1s-in-binary-representation/***"
   ]
  },
  {
   "cell_type": "markdown",
   "metadata": {},
   "source": [
    "***https://youtu.be/GLi7yCWsXMo***"
   ]
  },
  {
   "cell_type": "markdown",
   "metadata": {},
   "source": [
    "## **215. The painter’s partition problem**\n",
    "https://www.geeksforgeeks.org/painters-partition-problem/"
   ]
  },
  {
   "cell_type": "code",
   "execution_count": 230,
   "metadata": {},
   "outputs": [],
   "source": [
    "/*\n",
    "We have to paint n boards of length {A1, A2…An}. \n",
    "\n",
    "There are k painters available and each takes 1 unit time to paint 1 unit of board. \n",
    "\n",
    "The problem is to find the minimum time to get this job done under the constraints \n",
    "that any painter will only paint continuous sections of boards, \n",
    "say board {2, 3, 4} or only board {1} or nothing but not board {2, 4, 5}.\n",
    "*/"
   ]
  },
  {
   "cell_type": "code",
   "execution_count": 231,
   "metadata": {},
   "outputs": [],
   "source": [
    "/*\n",
    "Examples:\n",
    "\n",
    "Input : k = 2, A = {10, 10, 10, 10} \n",
    "Output : 20.\n",
    "Here we can divide the boards into 2\n",
    "equal sized partitions, so each painter \n",
    "gets 20 units of board and the total\n",
    "time taken is 20. \n",
    "\n",
    "Input : k = 2, A = {10, 20, 30, 40} \n",
    "Output : 60.\n",
    "Here we can divide first 3 boards for\n",
    "one painter and the last board for \n",
    "second painter.\n",
    "*/"
   ]
  },
  {
   "cell_type": "code",
   "execution_count": 232,
   "metadata": {},
   "outputs": [],
   "source": [
    "/*\n",
    "From the above examples, \n",
    "it is obvious that the strategy of dividing the boards into k equal partitions won’t work for all the cases. \n",
    "\n",
    "We can observe that the problem can be broken down into: \n",
    "    Given an array A of non-negative integers and a positive integer k, we have to divide A into k of fewer partitions \n",
    "    such that the maximum sum of the elements in a partition, overall partitions is minimized. \n",
    "    \n",
    "    So for the second example above, possible divisions are:\n",
    "    * One partition: so time is 100.\n",
    "    * Two partitions: (10) & (20, 30, 40), so time is 90. \n",
    "      Similarly we can put the first divider after 20 (=> time 70) or 30 (=> time 60); \n",
    "      so this means the minimum time: (100, 90, 70, 60) is 60.\n",
    "*/"
   ]
  },
  {
   "cell_type": "code",
   "execution_count": 233,
   "metadata": {},
   "outputs": [],
   "source": [
    "/*\n",
    "A brute force solution is to consider all possible set of contiguous partitions \n",
    "and calculate the maximum sum partition in each case and return the minimum of all these cases.\n",
    "*/"
   ]
  },
  {
   "cell_type": "code",
   "execution_count": 234,
   "metadata": {},
   "outputs": [],
   "source": [
    "/*\n",
    "1) Optimal Substructure:\n",
    "\n",
    "We can implement the naive solution using recursion with the following optimal substructure property:\n",
    "\n",
    "Assuming that we already have k-1 partitions in place (using k-2 dividers), \n",
    "we now have to put the k-1 th divider to get k partitions.\n",
    "\n",
    "How can we do this? \n",
    "    We can put the k-1 th divider between the i th and i+1 th element where i = 1 to n. \n",
    "    Please note that putting it before the first element is the same as putting it after the last element.\n",
    "\n",
    "The total cost of this arrangement can be calculated as the maximum of the following:\n",
    "    a) The cost of the last partition: \n",
    "            sum(Ai..An), where the k-1 th divider is before element i.\n",
    "    b) The maximum cost of any partition already formed to the left of the k-1 th divider.\n",
    "\n",
    "Here \n",
    "    a) can be found out using a simple helper function \n",
    "        to calculate sum of elements between two indices in the array. \n",
    "        \n",
    "How to find out b) ?\n",
    "    We can observe that b) actually is to place the k-2 separators as fairly as possible, \n",
    "    so it is a subproblem of the given problem. \n",
    "\n",
    "Thus we can write the optimal substructure property as the following recurrence relation:\n",
    "\n",
    "The time complexity of the solution is exponential.\n",
    "*/"
   ]
  },
  {
   "cell_type": "markdown",
   "metadata": {},
   "source": [
    "<img src = \"https://media.geeksforgeeks.org/wp-content/uploads/paintersproblem.jpg\"/>"
   ]
  },
  {
   "cell_type": "code",
   "execution_count": 235,
   "metadata": {},
   "outputs": [
    {
     "name": "stdout",
     "output_type": "stream",
     "text": [
      "90\n"
     ]
    }
   ],
   "source": [
    "// function to calculate sum between two indices  \n",
    "// in array \n",
    "static int sum(int arr[], int from, int to) \n",
    "{ \n",
    "    int total = 0; \n",
    "    for (int i = from; i <= to; i++) \n",
    "        total += arr[i]; \n",
    "    return total; \n",
    "} \n",
    "   \n",
    "// for n boards and k partitions \n",
    "static int partition(int arr[], int n, int k) \n",
    "{ \n",
    "    // base cases     \n",
    "    if (k == 1) // one partition \n",
    "        return sum(arr, 0, n - 1);     \n",
    "    if (n == 1)  // one board \n",
    "        return arr[0]; \n",
    "   \n",
    "    int best = Integer.MAX_VALUE; \n",
    "   \n",
    "    // find minimum of all possible maximum \n",
    "    // k-1 partitions to the left of arr[i], \n",
    "    // with i elements, put k-1 th divider  \n",
    "    // between arr[i-1] & arr[i] to get k-th  \n",
    "    // partition \n",
    "    for (int i = 1; i <= n; i++) \n",
    "        best = Math.min(best, Math.max(partition(arr, i, k - 1),  \n",
    "                                sum(arr, i, n - 1))); \n",
    "   \n",
    "    return best; \n",
    "} \n",
    "  \n",
    "// Driver code \n",
    "public static void main(String args[]) \n",
    "{ \n",
    " int arr[] = { 10, 20, 60, 50, 30, 40 }; \n",
    "   \n",
    "    // Calculate size of array. \n",
    "    int n = arr.length; \n",
    "        int k = 3; \n",
    " System.out.println(partition(arr, n, k)); \n",
    "} \n",
    "main(args);"
   ]
  },
  {
   "cell_type": "code",
   "execution_count": 236,
   "metadata": {},
   "outputs": [],
   "source": [
    "/*\n",
    "2) Overlapping subproblems:\n",
    "\n",
    "Following is the partial recursion tree for T(4, 3) in above equation.\n",
    "\n",
    "        T(4, 3)\n",
    "     /    /    \\ ..         \n",
    "T(1, 2)  T(2, 2) T(3, 2) \n",
    "          /..      /..     \n",
    "      T(1, 1)    T(1, 1) \n",
    "\n",
    "We can observe that many subproblems like T(1, 1) in the above problem are being solved again and again. \n",
    "\n",
    "Because of these two properties of this problem, we can solve it using dynamic programming, \n",
    "either by top down memoized method or bottom up tabular method. \n",
    "\n",
    "Following is the bottom up tabular implementation:\n",
    "*/"
   ]
  },
  {
   "cell_type": "code",
   "execution_count": 237,
   "metadata": {},
   "outputs": [
    {
     "name": "stdout",
     "output_type": "stream",
     "text": [
      "90\n"
     ]
    }
   ],
   "source": [
    "// function to calculate sum between two indices \n",
    "// in array \n",
    "static int sum(int arr[], int from, int to) \n",
    "{ \n",
    "    int total = 0; \n",
    "    for (int i = from; i <= to; i++) \n",
    "        total += arr[i]; \n",
    "    return total; \n",
    "} \n",
    "   \n",
    "// bottom up tabular dp \n",
    "static int findMax(int arr[], int n, int k) \n",
    "{ \n",
    "    // initialize table \n",
    "    int dp[][] = new int[k+1][n+1]; \n",
    "   \n",
    "    // base cases \n",
    "    // k=1 \n",
    "    for (int i = 1; i <= n; i++) \n",
    "        dp[1][i] = sum(arr, 0, i - 1); \n",
    "   \n",
    "    // n=1 \n",
    "    for (int i = 1; i <= k; i++) \n",
    "        dp[i][1] = arr[0]; \n",
    "   \n",
    "    // 2 to k partitions \n",
    "    for (int i = 2; i <= k; i++) { // 2 to n boards \n",
    "        for (int j = 2; j <= n; j++) { \n",
    "   \n",
    "            // track minimum \n",
    "            int best = Integer.MAX_VALUE; \n",
    "   \n",
    "            // i-1 th separator before position arr[p=1..j] \n",
    "            for (int p = 1; p <= j; p++)  \n",
    "                best = Math.min(best, Math.max(dp[i - 1][p], \n",
    "                              sum(arr, p, j - 1)));        \n",
    "   \n",
    "            dp[i][j] = best; \n",
    "        } \n",
    "    } \n",
    "   \n",
    "    // required \n",
    "    return dp[k][n]; \n",
    "} \n",
    "  \n",
    "// Driver code \n",
    "public static void main(String args[]) \n",
    "{ \n",
    " int arr[] = { 10, 20, 60, 50, 30, 40 }; \n",
    "   \n",
    "    // Calculate size of array. \n",
    "    int n = arr.length; \n",
    "        int k = 3; \n",
    " System.out.println(findMax(arr, n, k)); \n",
    "} \n",
    "main(args);"
   ]
  },
  {
   "cell_type": "code",
   "execution_count": 238,
   "metadata": {},
   "outputs": [],
   "source": [
    "/*\n",
    "Optimizations:\n",
    "\n",
    "1) The time complexity of the above program is O(k*N^3)\n",
    "   It can be easily brought down to O(k*N^2)\n",
    "       by precomputing the cumulative sums in an array thus avoiding repeated calls to the sum function:\n",
    "       \n",
    "    int sum[n+1] = {0}; \n",
    "\n",
    "    // sum from 1 to i elements of arr \n",
    "    for (int i = 1; i <= n; i++) \n",
    "        sum[i] = sum[i-1] + arr[i-1]; \n",
    "\n",
    "    for (int i = 1; i <= n; i++) \n",
    "        dp[1][i] = sum[i]; \n",
    "\n",
    "    //and using it to calculate the result as: \n",
    "    best = min(best, max(dp[i-1][p], sum[j] - sum[p])); \n",
    "       \n",
    "       \n",
    "2) Though here we consider to divide A into k or fewer partitions, \n",
    "    we can observe that\n",
    "        the optimal case always occurs when we divide A into exactly k partitions. So we can use:\n",
    "    \n",
    "    for (int i = k-1; i <= n; i++) \n",
    "        best = min(best, max( partition(arr, i, k-1), sum(arr, i, n-1))); \n",
    "\n",
    "*/"
   ]
  },
  {
   "cell_type": "markdown",
   "metadata": {},
   "source": [
    "***https://articles.leetcode.com/the-painters-partition-problem/***"
   ]
  },
  {
   "cell_type": "markdown",
   "metadata": {},
   "source": [
    "## **216. Find if a string is interleaved of two other strings | DP-33**\n",
    "https://www.geeksforgeeks.org/find-if-a-string-is-interleaved-of-two-other-strings-dp-33/"
   ]
  },
  {
   "cell_type": "code",
   "execution_count": 239,
   "metadata": {},
   "outputs": [],
   "source": [
    "/*\n",
    "Given three strings A, B and C. \n",
    "Write a function that checks whether C is an interleaving of A and B. \n",
    "\n",
    "C is said to be interleaving A and B, \n",
    "    if it contains all characters of A and B \n",
    "    and order of all characters in individual strings is preserved.\n",
    "*/"
   ]
  },
  {
   "cell_type": "markdown",
   "metadata": {},
   "source": [
    "**Related Link :**  ***https://www.geeksforgeeks.org/check-whether-a-given-string-is-an-interleaving-of-two-other-given-strings/***"
   ]
  },
  {
   "cell_type": "code",
   "execution_count": 240,
   "metadata": {},
   "outputs": [],
   "source": [
    "/*\n",
    "We have discussed a simple solution of this problem in above link. \n",
    "The simple solution doesn’t work if strings A and B have some common characters. \n",
    "\n",
    "For example \n",
    "A = “XXY”, \n",
    "string B = “XXZ” \n",
    "and string C = “XXZXXXY”. \n",
    "To handle all cases, two possibilities need to be considered.\n",
    "\n",
    "a) If first character of C matches with first character of A, \n",
    "    we move one character ahead in A and C and recursively check.\n",
    "\n",
    "b) If first character of C matches with first character of B, \n",
    "    we move one character ahead in B and C and recursively check.\n",
    "\n",
    "If any of the above two cases is true, \n",
    "    we return true, \n",
    "else \n",
    "    false. \n",
    "    \n",
    "Following is simple recursive implementation of this approach\n",
    "*/"
   ]
  },
  {
   "cell_type": "code",
   "execution_count": 241,
   "metadata": {},
   "outputs": [],
   "source": [
    "/*\n",
    "// A simple recursive function to check whether C is an interleaving of A and B \n",
    "bool isInterleaved(char* A, char* B, char* C) \n",
    "{ \n",
    "    // Base Case: If all strings are empty \n",
    "    if (!(*A || *B || *C)) \n",
    "        return true; \n",
    "\n",
    "    // If C is empty and any of the two strings is not empty \n",
    "    if (*C == '\\0') \n",
    "        return false; \n",
    "\n",
    "    // If any of the above mentioned two possibilities is true, \n",
    "    // then return true, otherwise false \n",
    "    return ((*C == *A) && isInterleaved(A + 1, B, C + 1)) \n",
    "        || ((*C == *B) && isInterleaved(A, B + 1, C + 1)); \n",
    "} \n",
    "*/"
   ]
  },
  {
   "cell_type": "code",
   "execution_count": 242,
   "metadata": {},
   "outputs": [],
   "source": [
    "/*\n",
    "Dynamic Programming\n",
    "\n",
    "The worst case time complexity of recursive solution is O(2^n). \n",
    "The above recursive solution certainly has many overlapping subproblems. \n",
    "\n",
    "For example, \n",
    "if wee consider A = “XXX”, B = “XXX” and C = “XXXXXX” and draw recursion tree, \n",
    "there will be many overlapping subproblems.\n",
    "\n",
    "Therefore, \n",
    "    like other typical Dynamic Programming problems, \n",
    "    we can solve it by creating a table and store results of subproblems in bottom up manner. \n",
    "    \n",
    "Time Complexity: O(MN)\n",
    "Auxiliary Space: O(MN)\n",
    "*/"
   ]
  },
  {
   "cell_type": "markdown",
   "metadata": {},
   "source": [
    "***https://ideone.com/4jnFZu***"
   ]
  },
  {
   "cell_type": "markdown",
   "metadata": {},
   "source": [
    "***https://ideone.com/Krilbs***"
   ]
  },
  {
   "cell_type": "markdown",
   "metadata": {},
   "source": [
    "## **217. Wildcard Pattern Matching**\n",
    "https://www.geeksforgeeks.org/wildcard-pattern-matching/"
   ]
  },
  {
   "cell_type": "code",
   "execution_count": 243,
   "metadata": {},
   "outputs": [],
   "source": [
    "/*\n",
    "Given a text and a wildcard pattern, \n",
    "    implement wildcard pattern matching algorithm that finds if wildcard pattern is matched with text. \n",
    "    The matching should cover the entire text (not partial text).\n",
    "\n",
    "The wildcard pattern can include the characters ‘?’ and ‘*’\n",
    "‘?’ – matches any single character\n",
    "‘*’ – Matches any sequence of characters (including the empty sequence)\n",
    "*/"
   ]
  },
  {
   "cell_type": "code",
   "execution_count": 244,
   "metadata": {},
   "outputs": [],
   "source": [
    "/*\n",
    "For example,\n",
    "\n",
    "Text = \"baaabab\",\n",
    "Pattern = “*****ba*****ab\", output : true\n",
    "Pattern = \"baaa?ab\", output : true\n",
    "Pattern = \"ba*a?\", output : true\n",
    "Pattern = \"a*ab\", output : false \n",
    "*/"
   ]
  },
  {
   "cell_type": "markdown",
   "metadata": {},
   "source": [
    "<img src = \"https://media.geeksforgeeks.org/wp-content/cdn-uploads/wildcard-pattern-matching.png\"/>"
   ]
  },
  {
   "cell_type": "code",
   "execution_count": 245,
   "metadata": {},
   "outputs": [],
   "source": [
    "/*\n",
    "Each occurrence of ‘?’ character in wildcard pattern \n",
    "    can be replaced with any other character \n",
    "and each occurrence of ‘*’ \n",
    "    with a sequence of characters \n",
    "\n",
    "such that the wildcard pattern becomes identical to the input string after replacement.\n",
    "\n",
    "Let’s consider any character in the pattern.\n",
    "\n",
    "Case 1: The character is ‘*’\n",
    "    Here two cases arise\n",
    "        1. We can ignore ‘*’ character and move to next character in the Pattern.\n",
    "        2. ‘*’ character matches with one or more characters in Text. \n",
    "            Here we will move to next character in the string.\n",
    "            \n",
    "Case 2: The character is ‘?’\n",
    "    We can ignore current character in Text and move to next character in the Pattern and Text.\n",
    "\n",
    "Case 3: The character is not a wildcard character\n",
    "    If current character in Text matches with current character in Pattern, \n",
    "    we move to next character in the Pattern and Text. \n",
    "    If they do not match, \n",
    "        wildcard pattern and Text do not match.\n",
    "\n",
    "We can use Dynamic Programming to solve this problem –\n",
    "\n",
    "Let T[i][j] is true \n",
    "    if first i characters in given string matches the first j characters of pattern.\n",
    "*/"
   ]
  },
  {
   "cell_type": "code",
   "execution_count": 246,
   "metadata": {},
   "outputs": [],
   "source": [
    "/*\n",
    "DP Initialization:\n",
    "\n",
    "// both text and pattern are null\n",
    "T[0][0] = true; \n",
    "\n",
    "// pattern is null\n",
    "T[i][0] = false; \n",
    "\n",
    "// text is null\n",
    "T[0][j] = T[0][j - 1] if pattern[j – 1] is '*'  \n",
    "*/"
   ]
  },
  {
   "cell_type": "code",
   "execution_count": 247,
   "metadata": {},
   "outputs": [],
   "source": [
    "/*\n",
    "DP relation :\n",
    "\n",
    "// If current characters match, result is same as \n",
    "// result for lengths minus one. Characters match\n",
    "// in two cases:\n",
    "// a) If pattern character is '?' then it matches  \n",
    "//    with any character of text. \n",
    "// b) If current characters in both match\n",
    "if ( pattern[j – 1] == ‘?’) || \n",
    "     (pattern[j – 1] == text[i - 1])\n",
    "    T[i][j] = T[i-1][j-1]   \n",
    " \n",
    "// If we encounter ‘*’, two choices are possible-\n",
    "// a) We ignore ‘*’ character and move to next \n",
    "//    character in the pattern, i.e., ‘*’ \n",
    "//    indicates an empty sequence.\n",
    "// b) '*' character matches with ith character in\n",
    "//     input \n",
    "else if (pattern[j – 1] == ‘*’)\n",
    "    T[i][j] = T[i][j-1] || T[i-1][j]  \n",
    "\n",
    "else // if (pattern[j – 1] != text[i - 1])\n",
    "    T[i][j]  = false \n",
    "*/"
   ]
  },
  {
   "cell_type": "code",
   "execution_count": 248,
   "metadata": {},
   "outputs": [],
   "source": [
    "// Function that matches input str with \n",
    "// given wildcard pattern \n",
    "static boolean strmatch(String str, String pattern, \n",
    "                             int n, int m) \n",
    "{ \n",
    "    // empty pattern can only match with \n",
    "    // empty string \n",
    "    if (m == 0) \n",
    "        return (n == 0); \n",
    "\n",
    "    // lookup table for storing results of \n",
    "    // subproblems \n",
    "    boolean[][] lookup = new boolean[n + 1][m + 1]; \n",
    "\n",
    "    // initailze lookup table to false \n",
    "    for(int i = 0; i < n + 1; i++) \n",
    "        Arrays.fill(lookup[i], false); \n",
    "\n",
    "\n",
    "    // empty pattern can match with empty string \n",
    "    lookup[0][0] = true; \n",
    "\n",
    "    // Only '*' can match with empty string \n",
    "    for (int j = 1; j <= m; j++) \n",
    "        if (pattern.charAt(j - 1) == '*') \n",
    "            lookup[0][j] = lookup[0][j - 1]; \n",
    "\n",
    "    // fill the table in bottom-up fashion \n",
    "    for (int i = 1; i <= n; i++) \n",
    "    { \n",
    "        for (int j = 1; j <= m; j++) \n",
    "        { \n",
    "            // Two cases if we see a '*' \n",
    "            // a) We ignore '*'' character and move \n",
    "            //    to next  character in the pattern, \n",
    "            //     i.e., '*' indicates an empty sequence. \n",
    "            // b) '*' character matches with ith \n",
    "            //     character in input \n",
    "            if (pattern.charAt(j - 1) == '*') \n",
    "                lookup[i][j] = lookup[i][j - 1] || \n",
    "                               lookup[i - 1][j]; \n",
    "\n",
    "            // Current characters are considered as \n",
    "            // matching in two cases \n",
    "            // (a) current character of pattern is '?' \n",
    "            // (b) characters actually match \n",
    "            else if (pattern.charAt(j - 1) == '?' || \n",
    "                str.charAt(i - 1) == pattern.charAt(j - 1)) \n",
    "                lookup[i][j] = lookup[i - 1][j - 1]; \n",
    "\n",
    "            // If characters don't match \n",
    "            else lookup[i][j] = false; \n",
    "        } \n",
    "    } \n",
    "\n",
    "    return lookup[n][m]; \n",
    "} "
   ]
  },
  {
   "cell_type": "code",
   "execution_count": 249,
   "metadata": {},
   "outputs": [
    {
     "name": "stdout",
     "output_type": "stream",
     "text": [
      "Yes\n"
     ]
    }
   ],
   "source": [
    "public static void main(String args[]) \n",
    "{ \n",
    "    String str = \"baaabab\"; \n",
    "    String pattern = \"*****ba*****ab\"; \n",
    "    // String pattern = \"ba*****ab\"; \n",
    "    // String pattern = \"ba*ab\"; \n",
    "    // String pattern = \"a*ab\"; \n",
    "    // String pattern = \"a*****ab\"; \n",
    "    // String pattern = \"*a*****ab\"; \n",
    "    // String pattern = \"ba*ab****\"; \n",
    "    // String pattern = \"****\"; \n",
    "    // String pattern = \"*\"; \n",
    "    // String pattern = \"aa?ab\"; \n",
    "    // String pattern = \"b*b\"; \n",
    "    // String pattern = \"a*a\"; \n",
    "    // String pattern = \"baaabab\"; \n",
    "    // String pattern = \"?baaabab\"; \n",
    "    // String pattern = \"*baaaba*\"; \n",
    "\n",
    "    if (strmatch(str, pattern, str.length(), \n",
    "                         pattern.length())) \n",
    "        System.out.println(\"Yes\"); \n",
    "    else\n",
    "        System.out.println(\"No\"); \n",
    "}\n",
    "main(args);"
   ]
  },
  {
   "cell_type": "code",
   "execution_count": 250,
   "metadata": {},
   "outputs": [],
   "source": [
    "/*\n",
    "Time complexity of above solution is O(m x n). \n",
    "Auxiliary space used is also O(m x n).\n",
    "*/"
   ]
  },
  {
   "cell_type": "markdown",
   "metadata": {},
   "source": [
    "## **218. Probability of Knight to remain in the chessboard**\n",
    "https://www.geeksforgeeks.org/probability-knight-remain-chessboard/"
   ]
  },
  {
   "cell_type": "code",
   "execution_count": 251,
   "metadata": {},
   "outputs": [],
   "source": [
    "/*\n",
    "Given an NxN chessboard and a Knight at position (x,y). \n",
    "The Knight has to take exactly K steps, \n",
    "    where at each step it chooses any of the 8 directions uniformly at random. \n",
    "What is the probability that the Knight remains in the chessboard after taking K steps, \n",
    "    with the condition that it can’t enter the board again once it leaves it.\n",
    "*/"
   ]
  },
  {
   "cell_type": "code",
   "execution_count": 252,
   "metadata": {},
   "outputs": [],
   "source": [
    "/*\n",
    "Examples:\n",
    "\n",
    "Let's take:\n",
    "    8x8 chessboard,\n",
    "initial position of the knight : (0, 0),\n",
    "number of steps : 1\n",
    "At each step, the Knight has 8 different positions to choose from. \n",
    "\n",
    "If it starts from (0, 0), after taking one step it will lie inside the\n",
    "board only at 2 out of 8 positions, and will lie outside at other positions.\n",
    "So, the probability is 2/8 = 0.25\n",
    "*/"
   ]
  },
  {
   "cell_type": "code",
   "execution_count": 253,
   "metadata": {},
   "outputs": [],
   "source": [
    "/*\n",
    "Time Complexity: O(NxNxKx8) which is O(NxNxK), where N is the size of the board and K is the number of steps.\n",
    "Space Complexity: O(NxNxK)\n",
    "\n",
    "One thing that we can observe is that at every step the Knight has 8 choices to choose from. \n",
    "Suppose, \n",
    "    the Knight has to take k steps and after taking the Kth step the knight reaches (x,y). \n",
    "    There are 8 different positions from where the Knight can reach to (x,y) in one step, \n",
    "    and they are: (x+1,y+2), (x+2,y+1), (x+2,y-1), (x+1,y-2), (x-1,y-2), (x-2,y-1), (x-2,y+1), (x-1,y+2).\n",
    "\n",
    "What if we already knew the probabilities of reaching these 8 positions after K-1 steps? \n",
    "Then,\n",
    "    the final probability after K steps will simply be equal to the \n",
    "        (Σ probability of reaching each of these 8 positions after K-1 steps)/8;\n",
    "    Here we are dividing by 8 \n",
    "        because each of these 8 positions have 8 choices and position (x,y) is one of the choice.\n",
    "        \n",
    "For the positions that lie outside the board, \n",
    "    we will either take their probabilities as 0 or simply neglect it.\n",
    "\n",
    "Since, \n",
    "    we need to keep track of the probabilities at each position for every number of steps, \n",
    "    we need Dynamic Programming to solve this problem.\n",
    "        We are going to take an array dp[x][y][steps] \n",
    "            which will store the probability of reaching (x,y) after (steps) number of moves.\n",
    "            \n",
    "Base case : \n",
    "    if number of steps is 0, then the probability that the Knight will remain inside the board is 1.\n",
    "*/"
   ]
  },
  {
   "cell_type": "code",
   "execution_count": 254,
   "metadata": {},
   "outputs": [],
   "source": [
    "// size of the chessboard \n",
    "static final int N = 8; \n",
    "\n",
    "// direction vector for the Knight \n",
    "static int dx[] = { 1, 2, 2, 1,  \n",
    "                 -1, -2, -2, -1 }; \n",
    "\n",
    "static int dy[] = { 2, 1, -1, -2, \n",
    "                   -2, -1, 1, 2 }; \n",
    "\n",
    "// returns true if the knight is  \n",
    "// inside the chessboard \n",
    "static boolean inside(int x, int y) \n",
    "{ \n",
    "    return (x >= 0 && x < N &&  \n",
    "            y >= 0 && y < N); \n",
    "} "
   ]
  },
  {
   "cell_type": "code",
   "execution_count": 255,
   "metadata": {},
   "outputs": [],
   "source": [
    "// Bottom up approach for finding  \n",
    "// the probability to go out of  \n",
    "// chessboard. \n",
    "static double findProb(int start_x,  \n",
    "              int start_y, int steps) \n",
    "{ \n",
    "\n",
    "    // dp array \n",
    "    double dp1[][][] = new double[N][N][N]; \n",
    "\n",
    "    // for 0 number of steps, each position \n",
    "    // will have probability 1 \n",
    "    for (int i = 0; i < N; ++i) \n",
    "        for (int j = 0; j < N; ++j) \n",
    "            dp1[i][j][0] = 1; \n",
    "\n",
    "    // for every number of steps s \n",
    "    for (int s = 1; s <= steps; ++s) { \n",
    "\n",
    "        // for every position (x, y) after \n",
    "        // s number of steps \n",
    "        for (int x = 0; x < N; ++x) { \n",
    "\n",
    "            for (int y = 0; y < N; ++y) { \n",
    "\n",
    "                double prob = 0.0; \n",
    "\n",
    "                // for every position reachable  \n",
    "                // from (x, y) \n",
    "                for (int i = 0; i < 8; ++i) { \n",
    "                    int nx = x + dx[i]; \n",
    "                    int ny = y + dy[i]; \n",
    "\n",
    "                    // if this position lie  \n",
    "                    // inside the board \n",
    "                    if (inside(nx, ny)) \n",
    "                        prob += dp1[nx][ny][s - 1]  \n",
    "                                            / 8.0; \n",
    "                } \n",
    "\n",
    "                // store the result \n",
    "                dp1[x][y][s] = prob; \n",
    "            } \n",
    "        } \n",
    "    } \n",
    "\n",
    "    // return the result \n",
    "    return dp1[start_x][start_y][steps]; \n",
    "} "
   ]
  },
  {
   "cell_type": "code",
   "execution_count": 256,
   "metadata": {},
   "outputs": [
    {
     "name": "stdout",
     "output_type": "stream",
     "text": [
      "0.125\n"
     ]
    }
   ],
   "source": [
    "// Driver code \n",
    "public static void main(String[] args) \n",
    "{ \n",
    "\n",
    "    // number of steps \n",
    "    int K = 3; \n",
    "\n",
    "    System.out.println(findProb(0, 0, K)); \n",
    "} \n",
    "main(args);"
   ]
  },
  {
   "cell_type": "markdown",
   "metadata": {},
   "source": [
    "## **219. The Two Water Jug Puzzle**\n",
    "https://www.geeksforgeeks.org/two-water-jug-puzzle/"
   ]
  },
  {
   "cell_type": "code",
   "execution_count": 257,
   "metadata": {},
   "outputs": [],
   "source": [
    "/*\n",
    "You are at the side of a river. \n",
    "You are given a m litre jug and a n litre jug where 0 < m < n. \n",
    "Both the jugs are initially empty. \n",
    "The jugs don’t have markings to allow measuring smaller quantities. \n",
    "You have to use the jugs to measure d litres of water where d < n. \n",
    "\n",
    "Determine the minimum no of operations to be performed to obtain d litres of water in one of jug.\n",
    "\n",
    "The operations you can perform are:\n",
    "1. Empty a Jug\n",
    "2. Fill a Jug\n",
    "3. Pour water from one jug to the other until one of the jugs is either empty or full.\n",
    "*/"
   ]
  },
  {
   "cell_type": "code",
   "execution_count": 258,
   "metadata": {},
   "outputs": [],
   "source": [
    "/*\n",
    "There are several ways of solving this problem including BFS and DP. \n",
    "\n",
    "In this article an arithmetic approach to solve the problem is discussed. \n",
    "\n",
    "The problem can be modeled by means of Diophantine equation of the form mx + ny = d which is solvable \n",
    "if and only if gcd(m, n) divides d. \n",
    "\n",
    "Also, the solution x,y for which equation is satisfied can be given using the Extended Euclid algorithm for GCD.\n",
    "\n",
    "For example, \n",
    "    if we have a jug J1 of 5 litre (n = 5) and another jug J2 of 3 litre (m = 3) \n",
    "    and we have to measure 1 litre of water using them. \n",
    "    \n",
    "    The associated equation will be 5n + 3m = 1. \n",
    "    First of all this problem can be solved since gcd(3,5) = 1 which divides 1 (See this for detailed explanation). \n",
    "    \n",
    "    Using the Extended Euclid algorithm, \n",
    "        we get values of n and m for which the equation is satisfied which are n = 2 and m = -3. \n",
    "    \n",
    "    These values of n, m also have some meaning like here n = 2 and m = -3 \n",
    "    means that we have to fill J1 twice and empty J2 thrice.\n",
    "    \n",
    "Now to find the minimum no of operations to be performed we have to decide which jug should be filled first. \n",
    "Depending upon which jug is chosen to be filled \n",
    "and which to be emptied we have two different solutions \n",
    "and the minimum among them would be our answer.\n",
    "*/"
   ]
  },
  {
   "cell_type": "code",
   "execution_count": 259,
   "metadata": {},
   "outputs": [],
   "source": [
    "/*\n",
    "Solution 1 (Always pour from m litre jug into n litre jug)\n",
    "\n",
    "1. Fill the m litre jug and empty it into n litre jug.\n",
    "2. Whenever the m litre jug becomes empty fill it.\n",
    "3. Whenever the n litre jug becomes full empty it.\n",
    "4. Repeat steps 1,2,3 till either n litre jug or the m litre jug contains d litres of water.\n",
    "\n",
    "Each of steps 1, 2 and 3 are counted as one operation that we perform. \n",
    "Let us say algorithm 1 achieves the task in C1 no of operations.\n",
    "*/"
   ]
  },
  {
   "cell_type": "code",
   "execution_count": 260,
   "metadata": {},
   "outputs": [],
   "source": [
    "/*\n",
    "Solution 2 (Always pour from n litre jug into m litre jug)\n",
    "\n",
    "1. Fill the n litre jug and empty it into m litre jug.\n",
    "2. Whenever the n litre jug becomes empty fill it.\n",
    "3. Whenever the m litre jug becomes full empty it.\n",
    "4. Repeat steps 1, 2 and 3 till either n litre jug or the m litre jug contains d litres of water.\n",
    "*/"
   ]
  },
  {
   "cell_type": "code",
   "execution_count": 261,
   "metadata": {},
   "outputs": [],
   "source": [
    "/*\n",
    "Let us say solution 2 achieves the task in C2 no of operations.\n",
    "\n",
    "Now our final solution will be minimum of C1 and C2.\n",
    "\n",
    "Now we illustrate how both of the solutions work. \n",
    "\n",
    "Suppose there are a 3 litre jug and a 5 litre jug to measure 4 litres water \n",
    "so m = 3,n = 5 and d = 4. \n",
    "The associated Diophantine equation will be 3m + 5n = 4. \n",
    "\n",
    "We us pair (x, y) to represent amounts of water inside 3 litre jug and 5 litre jug respectively in each pouring step.\n",
    "*/"
   ]
  },
  {
   "cell_type": "code",
   "execution_count": 262,
   "metadata": {},
   "outputs": [],
   "source": [
    "/*\n",
    "Using Solution 1, successive pouring steps are:\n",
    "\n",
    "(0,0)->(3,0)->(0,3)->(3,3)->(1,5)->(1,0)->(0,1)->(3,1)->(0,4)\n",
    "Hence the no of operations you need to perform are 8.\n",
    "\n",
    "Using Solution 2, successive pouring steps are:\n",
    "\n",
    "(0,0)->(0,5)->(3,2)->(0,2)->(2,0)->(2,5)->(3,4)\n",
    "Hence the no of operations you need to perform are 6.\n",
    "\n",
    "Therefore we would use solution 2 to measure 4 liters of water in 6 operations or moves.\n",
    "*/"
   ]
  },
  {
   "cell_type": "code",
   "execution_count": 263,
   "metadata": {},
   "outputs": [],
   "source": [
    "// Utility function to return GCD of 'a' \n",
    "// and 'b'. \n",
    "int gcd(int a, int b) \n",
    "{ \n",
    "    if (b==0) \n",
    "       return a; \n",
    "    return gcd(b, a%b); \n",
    "} \n",
    "\n",
    "public static int swap(int itself, int dummy)\n",
    "{\n",
    "    return itself;\n",
    "}"
   ]
  },
  {
   "cell_type": "code",
   "execution_count": 264,
   "metadata": {},
   "outputs": [],
   "source": [
    "/* fromCap -- Capacity of jug from which \n",
    "              water is poured \n",
    "   toCap   -- Capacity of jug to which \n",
    "              water is poured \n",
    "   d       -- Amount to be measured */\n",
    "int pour(int fromCap, int toCap, int d) \n",
    "{ \n",
    "    // Initialize current amount of water \n",
    "    // in source and destination jugs \n",
    "    int from = fromCap; \n",
    "    int to = 0; \n",
    "  \n",
    "    // Initialize count of steps required \n",
    "    int step = 1; // Needed to fill \"from\" Jug \n",
    "  \n",
    "    // Break the loop when either of the two \n",
    "    // jugs has d litre water \n",
    "    while (from != d && to != d) \n",
    "    { \n",
    "        // Find the maximum amount that can be \n",
    "        // poured \n",
    "        int temp = Math.min(from, toCap - to); \n",
    "  \n",
    "        // Pour \"temp\" litres from \"from\" to \"to\" \n",
    "        to   += temp; \n",
    "        from -= temp; \n",
    "  \n",
    "        // Increment count of steps \n",
    "        step++; \n",
    "  \n",
    "        if (from == d || to == d) \n",
    "            break; \n",
    "  \n",
    "        // If first jug becomes empty, fill it \n",
    "        if (from == 0) \n",
    "        { \n",
    "            from = fromCap; \n",
    "            step++; \n",
    "        } \n",
    "  \n",
    "        // If second jug becomes full, empty it \n",
    "        if (to == toCap) \n",
    "        { \n",
    "            to = 0; \n",
    "            step++; \n",
    "        } \n",
    "    } \n",
    "    return step; \n",
    "} "
   ]
  },
  {
   "cell_type": "code",
   "execution_count": 265,
   "metadata": {},
   "outputs": [],
   "source": [
    "// Returns count of minimum steps needed to \n",
    "// measure d litre \n",
    "int minSteps(int m, int n, int d) \n",
    "{ \n",
    "    // To make sure that m is smaller than n \n",
    "    if (m > n) \n",
    "        m = swap(n, n = m); \n",
    "\n",
    "    // For d > n we cant measure the water \n",
    "    // using the jugs \n",
    "    if (d > n) \n",
    "        return -1; \n",
    "  \n",
    "    // If gcd of n and m does not divide d \n",
    "    // then solution is not possible \n",
    "    if ((d % gcd(n,m)) != 0) \n",
    "        return -1; \n",
    "  \n",
    "    // Return minimum two cases: \n",
    "    // a) Water of n litre jug is poured into \n",
    "    //    m litre jug \n",
    "    // b) Vice versa of \"a\" \n",
    "    return Math.min(pour(n,m,d),   // n to m \n",
    "               pour(m,n,d));  // m to n \n",
    "} "
   ]
  },
  {
   "cell_type": "code",
   "execution_count": 266,
   "metadata": {},
   "outputs": [
    {
     "name": "stdout",
     "output_type": "stream",
     "text": [
      "Minimum number of steps required is 6\n"
     ]
    }
   ],
   "source": [
    "int n = 3, m = 5, d = 4; \n",
    "//System.out.println(minSteps(m, n, d));\n",
    "System.out.println(\"Minimum number of steps required is \"+ minSteps(m, n, d));"
   ]
  },
  {
   "cell_type": "markdown",
   "metadata": {},
   "source": [
    "## **220. Word Wrap Problem | DP-19**\n",
    "https://www.geeksforgeeks.org/word-wrap-problem-dp-19/"
   ]
  },
  {
   "cell_type": "code",
   "execution_count": 267,
   "metadata": {},
   "outputs": [],
   "source": [
    "/*\n",
    "Given a sequence of words, and a limit on the number of characters that can be put in one line (line width). \n",
    "Put line breaks in the given sequence \n",
    "    such that the lines are printed neatly. \n",
    "Assume that the length of each word is smaller than the line width.\n",
    "\n",
    "The word processors like MS Word do task of placing line breaks. \n",
    "The idea is to have balanced lines. \n",
    "\n",
    "In other words, \n",
    "    not have few lines with lots of extra spaces and some lines with small amount of extra spaces.\n",
    "*/"
   ]
  },
  {
   "cell_type": "code",
   "execution_count": 268,
   "metadata": {},
   "outputs": [],
   "source": [
    "/*\n",
    "The extra spaces includes spaces put at the end of every line except the last one.  \n",
    "The problem is to minimize the following total cost.\n",
    " Cost of a line = (Number of extra spaces in the line)^3\n",
    " Total Cost = Sum of costs for all lines\n",
    "\n",
    "For example, consider the following string and line width M = 15\n",
    " \"Geeks for Geeks presents word wrap problem\" \n",
    "     \n",
    "Following is the optimized arrangement of words in 3 lines\n",
    "Geeks for Geeks\n",
    "presents word\n",
    "wrap problem \n",
    "\n",
    "The total extra spaces in line 1, line 2 and line 3 are 0, 2 and 3 respectively. \n",
    "So optimal value of total cost is 0 + 2*2 + 3*3 = 13\n",
    "*/"
   ]
  },
  {
   "cell_type": "code",
   "execution_count": 269,
   "metadata": {},
   "outputs": [],
   "source": [
    "/*\n",
    "Please note that \n",
    "the total cost function is not sum of extra spaces, but sum of cubes (or square is also used) of extra spaces. \n",
    "The idea behind this cost function is to balance the spaces among lines. \n",
    "\n",
    "For example, consider the following two arrangement of same set of words:\n",
    "\n",
    "1) There are 3 lines. \n",
    "    One line has 3 extra spaces and all other lines have 0 extra spaces. \n",
    "    Total extra spaces = 3 + 0 + 0 = 3. \n",
    "    Total cost = 3*3*3 + 0*0*0 + 0*0*0 = 27.\n",
    "\n",
    "2) There are 3 lines. \n",
    "    Each of the 3 lines has one extra space. \n",
    "    Total extra spaces = 1 + 1 + 1 = 3. \n",
    "    Total cost = 1*1*1 + 1*1*1 + 1*1*1 = 3.\n",
    "\n",
    "Total extra spaces are 3 in both scenarios, \n",
    "    but second arrangement should be preferred because extra spaces are balanced in all three lines. \n",
    "The cost function with cubic sum serves the purpose because the value of total cost in second scenario is less.\n",
    "*/"
   ]
  },
  {
   "cell_type": "code",
   "execution_count": 270,
   "metadata": {},
   "outputs": [],
   "source": [
    "/*\n",
    "Method 1 (Greedy Solution)\n",
    "\n",
    "The greedy solution is to place as many words as possible in the first line. \n",
    "Then do the same thing for the second line and so on until all words are placed. \n",
    "\n",
    "This solution gives optimal solution for many cases, but doesn’t give optimal solution in all cases. \n",
    "\n",
    "For example, \n",
    "    consider the following string “aaa bb cc ddddd” and line width as 6. \n",
    "    Greedy method will produce following output.\n",
    "    aaa bb \n",
    "    cc \n",
    "    ddddd\n",
    "    Extra spaces in the above 3 lines are 0, 4 and 1 respectively. \n",
    "    So total cost is 0 + 64 + 1 = 65.\n",
    "\n",
    "But the above solution is not the best solution. \n",
    "Following arrangement has more balanced spaces. Therefore less value of total cost function.\n",
    "    aaa\n",
    "    bb cc\n",
    "    ddddd\n",
    "    Extra spaces in the above 3 lines are 3, 1 and 1 respectively. \n",
    "    So total cost is 27 + 1 + 1 = 29.\n",
    "\n",
    "Despite being sub-optimal in some cases, \n",
    "the greedy approach is used by many word processors like MS Word and OpenOffice.org Writer.\n",
    "*/"
   ]
  },
  {
   "cell_type": "code",
   "execution_count": 271,
   "metadata": {},
   "outputs": [],
   "source": [
    "/*\n",
    "Method 2 (Dynamic Programming)\n",
    "\n",
    "Time Complexity: O(n^2)\n",
    "Auxiliary Space: O(n^2) The auxiliary space used in the above program cane be optimized to O(n) \n",
    "\n",
    "The following Dynamic approach strictly follows the algorithm given in solution of Cormen book. \n",
    "First we compute costs of all possible lines in a 2D table lc[][]. \n",
    "The value lc[i][j] indicates the cost to put words from i to j in a single line \n",
    "    where i and j are indexes of words in the input sequences. \n",
    "If a sequence of words from i to j cannot fit in a single line, \n",
    "    then lc[i][j] is considered infinite (to avoid it from being a part of the solution). \n",
    "Once we have the lc[][] table constructed, \n",
    "    we can calculate total cost using following recursive formula. \n",
    "In the following formula, \n",
    "    C[j] is the optimized total cost for arranging words from 1 to j.\n",
    "*/"
   ]
  },
  {
   "cell_type": "markdown",
   "metadata": {},
   "source": [
    "<img src = \"https://media.geeksforgeeks.org/wp-content/uploads/wordwrapformula.jpg\"/>"
   ]
  },
  {
   "cell_type": "code",
   "execution_count": 272,
   "metadata": {},
   "outputs": [],
   "source": [
    "/*\n",
    "The above recursion has overlapping subproblem property. \n",
    "    For example, \n",
    "    the solution of subproblem c(2) is used by c(3), C(4) and so on. \n",
    "    So Dynamic Programming is used to store the results of subproblems. \n",
    "    The array c[] can be computed from left to right, since each value depends only on earlier values.\n",
    "\n",
    "To print the output, \n",
    "    we keep track of what words go on what lines, \n",
    "    we can keep a parallel p array that points to where each c value came from. \n",
    "    The last line starts at word p[n] and goes through word n. \n",
    "    The previous line starts at word p[p[n]] and goes through word p[n] – 1, etc. \n",
    "    The function printSolution() uses p[] to print the solution.\n",
    "\n",
    "In the below program, \n",
    "    input is an array l[] that represents lengths of words in a sequence. \n",
    "    The value l[i] indicates length of the ith word (i starts from 1) in theinput sequence.\n",
    "*/"
   ]
  },
  {
   "cell_type": "code",
   "execution_count": 273,
   "metadata": {},
   "outputs": [],
   "source": [
    "final int MAX = Integer.MAX_VALUE; \n",
    "\n",
    "// A utility function to print the solution \n",
    "int printSolution (int p[], int n) \n",
    "{ \n",
    "    int k; \n",
    "    if (p[n] == 1) \n",
    "    k = 1; \n",
    "    else\n",
    "    k = printSolution (p, p[n]-1) + 1; \n",
    "    System.out.println(\"Line number\" + \" \" + k + \": \" +  \n",
    "                \"From word no.\" +\" \"+ p[n] + \" \" + \"to\" + \" \" + n); \n",
    "    return k; \n",
    "} "
   ]
  },
  {
   "cell_type": "code",
   "execution_count": 274,
   "metadata": {},
   "outputs": [],
   "source": [
    "// l[] represents lengths of different words in input sequence.  \n",
    "// For example, l[] = {3, 2, 2, 5} is for a sentence like  \n",
    "// \"aaa bb cc ddddd\". n is size of l[] and M is line width  \n",
    "// (maximum no. of characters that can fit in a line)  \n",
    "void solveWordWrap (int l[], int n, int M) \n",
    "{ \n",
    "    // For simplicity, 1 extra space is used in all below arrays \n",
    "\n",
    "    // extras[i][j] will have number of extra spaces if words from i \n",
    "    // to j are put in a single line \n",
    "    int extras[][] = new int[n+1][n+1]; \n",
    "\n",
    "    // lc[i][j] will have cost of a line which has words from \n",
    "    // i to j \n",
    "    int lc[][]= new int[n+1][n+1]; \n",
    "\n",
    "    // c[i] will have total cost of optimal arrangement of words \n",
    "    // from 1 to i \n",
    "    int c[] = new int[n+1]; \n",
    "\n",
    "    // p[] is used to print the solution. \n",
    "    int p[] =new int[n+1]; \n",
    "\n",
    "    // calculate extra spaces in a single line. The value extra[i][j] \n",
    "    // indicates extra spaces if words from word number i to j are \n",
    "    // placed in a single line \n",
    "    for (int i = 1; i <= n; i++) \n",
    "    { \n",
    "        extras[i][i] = M - l[i-1]; \n",
    "        for (int j = i+1; j <= n; j++) \n",
    "        extras[i][j] = extras[i][j-1] - l[j-1] - 1; \n",
    "    } \n",
    "\n",
    "    // Calculate line cost corresponding to the above calculated extra \n",
    "    // spaces. The value lc[i][j] indicates cost of putting words from \n",
    "    // word number i to j in a single line \n",
    "    for (int i = 1; i <= n; i++) \n",
    "    { \n",
    "        for (int j = i; j <= n; j++) \n",
    "        { \n",
    "            if (extras[i][j] < 0) \n",
    "                lc[i][j] = MAX; \n",
    "            else if (j == n && extras[i][j] >= 0) \n",
    "                lc[i][j] = 0; \n",
    "            else\n",
    "                lc[i][j] = extras[i][j]*extras[i][j]; \n",
    "        } \n",
    "    } \n",
    "\n",
    "    // Calculate minimum cost and find minimum cost arrangement. \n",
    "    // The value c[j] indicates optimized cost to arrange words \n",
    "    // from word number 1 to j. \n",
    "    c[0] = 0; \n",
    "    for (int j = 1; j <= n; j++) \n",
    "    { \n",
    "        c[j] = MAX; \n",
    "        for (int i = 1; i <= j; i++) \n",
    "        { \n",
    "            if (c[i-1] != MAX && lc[i][j] != MAX &&  \n",
    "               (c[i-1] + lc[i][j] < c[j])) \n",
    "            { \n",
    "                c[j] = c[i-1] + lc[i][j]; \n",
    "                p[j] = i; \n",
    "            } \n",
    "        } \n",
    "    } \n",
    "\n",
    "    printSolution(p, n); \n",
    "} "
   ]
  },
  {
   "cell_type": "code",
   "execution_count": 275,
   "metadata": {},
   "outputs": [
    {
     "name": "stdout",
     "output_type": "stream",
     "text": [
      "Line number 1: From word no. 1 to 1\n",
      "Line number 2: From word no. 2 to 3\n",
      "Line number 3: From word no. 4 to 4\n"
     ]
    }
   ],
   "source": [
    "public static void main(String args[]) \n",
    "{ \n",
    "    int l[] = {3, 2, 2, 5}; \n",
    "    int n = l.length; \n",
    "    int M = 6; \n",
    "    solveWordWrap (l, n, M); \n",
    "} \n",
    "main(args);"
   ]
  },
  {
   "cell_type": "markdown",
   "metadata": {},
   "source": [
    "**Related Link :**  ***https://www.geeksforgeeks.org/word-wrap-problem-space-optimized-solution/***\n",
    "\n",
    "**Reference :**  ***http://en.wikipedia.org/wiki/Word_wrap***"
   ]
  },
  {
   "cell_type": "markdown",
   "metadata": {},
   "source": [
    "## **221. Largest sum subarray with at-least k numbers**\n",
    "https://www.geeksforgeeks.org/largest-sum-subarray-least-k-numbers/"
   ]
  },
  {
   "cell_type": "code",
   "execution_count": 276,
   "metadata": {},
   "outputs": [],
   "source": [
    "/*\n",
    "Given an array, find the subarray (containing at least k numbers) which has the largest sum.\n",
    "*/"
   ]
  },
  {
   "cell_type": "code",
   "execution_count": 277,
   "metadata": {},
   "outputs": [],
   "source": [
    "/*\n",
    "Examples:\n",
    "\n",
    "Input : arr[] = {-4, -2, 1, -3} \n",
    "            k = 2\n",
    "Output : -1\n",
    "The sub array is {-2, 1}\n",
    "\n",
    "Input : arr[] = {1, 1, 1, 1, 1, 1} \n",
    "            k = 2\n",
    "Output : 6 \n",
    "The sub array is {1, 1, 1, 1, 1, 1}\n",
    "*/"
   ]
  },
  {
   "cell_type": "code",
   "execution_count": 278,
   "metadata": {},
   "outputs": [],
   "source": [
    "/*\n",
    "Time Complexity: O(n)\n",
    "\n",
    "This problem is an extension of Largest Sum Subarray Problem.\n",
    "\n",
    "1) We first compute maximum sum till every index and store it in an array maxSum[].\n",
    "2) After filling the array, \n",
    "        we use the sliding window concept of size k. \n",
    "    Keep track of sum of current k elements. \n",
    "    To compute sum of current window, remove first element of previous window and add current element. \n",
    "    After getting the sum of current window, we add the maxSum of the previous window, \n",
    "    if it is greater than current max, \n",
    "        then update it \n",
    "    else \n",
    "        not.\n",
    "\n",
    "Below is the implementation of above approach:\n",
    "*/"
   ]
  },
  {
   "cell_type": "markdown",
   "metadata": {},
   "source": [
    "**Related Link :**  ***https://www.geeksforgeeks.org/largest-sum-contiguous-subarray/***\n",
    "\n",
    "***https://www.geeksforgeeks.org/sliding-window-maximum-maximum-of-all-subarrays-of-size-k/***"
   ]
  },
  {
   "cell_type": "code",
   "execution_count": 279,
   "metadata": {},
   "outputs": [
    {
     "name": "stdout",
     "output_type": "stream",
     "text": [
      "-4\n"
     ]
    }
   ],
   "source": [
    "// Returns maximum sum of a subarray with at-least \n",
    "// k elements. \n",
    "static int maxSumWithK(int a[], int n, int k) \n",
    "{ \n",
    "    // maxSum[i] is going to store maximum sum \n",
    "    // till index i such that a[i] is part of the \n",
    "    // sum. \n",
    "    int maxSum[] = new int [n]; \n",
    "    maxSum[0] = a[0]; \n",
    "\n",
    "    // We use Kadane's algorithm to fill maxSum[] \n",
    "    // Below code is taken from method 3 of \n",
    "    // https://www.geeksforgeeks.org/largest-sum-contiguous-subarray/ \n",
    "    int curr_max = a[0]; \n",
    "    for (int i = 1; i < n; i++) \n",
    "    { \n",
    "        curr_max = Math.max(a[i], curr_max+a[i]); \n",
    "        maxSum[i] = curr_max; \n",
    "    } \n",
    "\n",
    "    // Sum of first k elements \n",
    "    int sum = 0; \n",
    "    for (int i = 0; i < k; i++) \n",
    "        sum += a[i]; \n",
    "\n",
    "    // Use the concept of sliding window \n",
    "    int result = sum; \n",
    "    for (int i = k; i < n; i++) \n",
    "    { \n",
    "        // Compute sum of k elements ending \n",
    "        // with a[i]. \n",
    "        sum = sum + a[i] - a[i-k]; \n",
    "\n",
    "        // Update result if required \n",
    "        result = Math.max(result, sum); \n",
    "\n",
    "        // Include maximum sum till [i-k] also \n",
    "        // if it increases overall max. \n",
    "        result = Math.max(result, sum + maxSum[i-k]); \n",
    "    } \n",
    "    return result; \n",
    "} \n",
    "\n",
    "// Driver method \n",
    "public static void main(String[] args) \n",
    "{ \n",
    "    int arr[] = {1, 2, 3, -10, -3}; \n",
    "    int k = 4; \n",
    "    System.out.println(maxSumWithK(arr, arr.length, k));; \n",
    "} \n",
    "main(args);"
   ]
  },
  {
   "cell_type": "markdown",
   "metadata": {},
   "source": [
    "## **222. Program to find amount of water in a given glass**\n",
    "https://www.geeksforgeeks.org/find-water-in-a-glass/"
   ]
  },
  {
   "cell_type": "code",
   "execution_count": 280,
   "metadata": {},
   "outputs": [],
   "source": [
    "/*\n",
    "There are some glasses with equal capacity as 1 litre. \n",
    "The glasses are kept as follows:\n",
    "                   1\n",
    "                 2   3\n",
    "              4    5    6\n",
    "            7    8    9   10\n",
    "\n",
    "You can put water to only top glass. \n",
    "If you put more than 1 litre water to 1st glass, water overflows and fills equally in both 2nd and 3rd glasses. \n",
    "Glass 5 will get water from both 2nd glass and 3rd glass and so on.\n",
    "\n",
    "If you have X litre of water and you put that water in top glass, \n",
    "    how much water will be contained by jth glass in ith row?\n",
    "\n",
    "Example. If you will put 2 litre on top.\n",
    "1st – 1 litre\n",
    "2nd – 1/2 litre\n",
    "3rd – 1/2 litre\n",
    "\n",
    "Time Complexity: O(i*(i+1)/2) or O(i^2)\n",
    "Auxiliary Space: O(i*(i+1)/2) or O(i^2)\n",
    "*/"
   ]
  },
  {
   "cell_type": "code",
   "execution_count": 281,
   "metadata": {},
   "outputs": [],
   "source": [
    "/*\n",
    "The approach is similar to Method 2 of the Pascal’s Triangle.\n",
    "If we take a closer look at the problem, the problem boils down to Pascal’s Triangle.\n",
    "\n",
    "                   1   ---------------- 1\n",
    "                 2   3 ---------------- 2\n",
    "              4    5    6  ------------ 3\n",
    "            7    8    9   10  --------- 4\n",
    "\n",
    "Each glass contributes to the two glasses down the glass. \n",
    "Initially, \n",
    "    we put all water in first glass. \n",
    "    Then we keep 1 litre (or less than 1 litre) in it, \n",
    "    and move rest of the water to two glasses down to it. \n",
    "We follow the same process for the two glasses and all other glasses till ith row. \n",
    "There will be i*(i+1)/2 glasses till ith row.\n",
    "*/"
   ]
  },
  {
   "cell_type": "code",
   "execution_count": 282,
   "metadata": {},
   "outputs": [],
   "source": [
    "// Returns the amount of water \n",
    "// in jth glass of ith row \n",
    "static float findWater(int i, int j, float X) \n",
    "{ \n",
    "    // A row number i has maximum i  \n",
    "    // columns. So input column  \n",
    "    // number must be less than i \n",
    "    if (j > i) \n",
    "    { \n",
    "        System.out.println(\"Incorrect Input\"); \n",
    "        System.exit(0); \n",
    "    } \n",
    "\n",
    "    // There will be i*(i+1)/2 glasses  \n",
    "    // till ith row (including ith row) \n",
    "    int ll = Math.round((i * (i + 1) )); \n",
    "    float[] glass = new float[ll + 2]; \n",
    "\n",
    "    // Put all water in first glass \n",
    "    int index = 0; \n",
    "    glass[index] = X; \n",
    "\n",
    "    // Now let the water flow to the  \n",
    "    // downward glasses till the row  \n",
    "    // number is less than or/ equal  \n",
    "    // to i (given row)  \n",
    "    // correction : X can be zero for side  \n",
    "    // glasses as they have lower rate to fill \n",
    "    for (int row = 1; row <= i ; ++row) \n",
    "    { \n",
    "        // Fill glasses in a given row. Number of  \n",
    "        // columns in a row is equal to row number \n",
    "        for (int col = 1;  \n",
    "                 col <= row; ++col, ++index) \n",
    "        { \n",
    "            // Get the water from current glass \n",
    "            X = glass[index]; \n",
    "\n",
    "            // Keep the amount less than or  \n",
    "            // equal to capacity in current glass \n",
    "            glass[index] = (X >= 1.0f) ? 1.0f : X; \n",
    "\n",
    "            // Get the remaining amount \n",
    "            X = (X >= 1.0f) ? (X - 1) : 0.0f; \n",
    "\n",
    "            // Distribute the remaining amount   \n",
    "            // to the down two glasses \n",
    "            glass[index + row] += X / 2; \n",
    "            glass[index + row + 1] += X / 2; \n",
    "        } \n",
    "    } \n",
    "\n",
    "    // The index of jth glass in ith  \n",
    "    // row will be i*(i-1)/2 + j - 1 \n",
    "    return glass[(int)(i * (i - 1) /  \n",
    "                       2 + j - 1)]; \n",
    "} "
   ]
  },
  {
   "cell_type": "code",
   "execution_count": 283,
   "metadata": {},
   "outputs": [
    {
     "name": "stdout",
     "output_type": "stream",
     "text": [
      "Amount of water in jth glass of ith row is: 0.5\n"
     ]
    }
   ],
   "source": [
    "// Driver Code \n",
    "public static void main(String[] args) \n",
    "{ \n",
    "    int i = 2, j = 2; \n",
    "    float X = 2.0f; // Total amount of water \n",
    "    System.out.println(\"Amount of water in jth \" + \n",
    "                         \"glass of ith row is: \" +  \n",
    "                              findWater(i, j, X)); \n",
    "} \n",
    "main(args);"
   ]
  },
  {
   "cell_type": "markdown",
   "metadata": {},
   "source": [
    "## **223. Remove minimum elements from either side such that 2*min becomes more than max**\n",
    "https://www.geeksforgeeks.org/remove-minimum-elements-either-side-2min-max/"
   ]
  },
  {
   "cell_type": "code",
   "execution_count": 284,
   "metadata": {},
   "outputs": [],
   "source": [
    "/*\n",
    "Given an unsorted array, \n",
    "\n",
    "trim the array such that twice of minimum is greater than maximum in the trimmed array. \n",
    "Elements should be removed either end of the array.\n",
    "\n",
    "Number of removals should be minimum.\n",
    "*/"
   ]
  },
  {
   "cell_type": "code",
   "execution_count": 285,
   "metadata": {},
   "outputs": [],
   "source": [
    "/*\n",
    "Examples:\n",
    "\n",
    "arr[] = {4, 5, 100, 9, 10, 11, 12, 15, 200}\n",
    "Output: 4\n",
    "We need to remove 4 elements (4, 5, 100, 200)\n",
    "so that 2*min becomes more than max.\n",
    "\n",
    "\n",
    "arr[] = {4, 7, 5, 6}\n",
    "Output: 0\n",
    "We don't need to remove any element as \n",
    "4*2 > 7 (Note that min = 4, max = 8)\n",
    "\n",
    "arr[] = {20, 7, 5, 6}\n",
    "Output: 1\n",
    "We need to remove 20 so that 2*min becomes\n",
    "more than max\n",
    "\n",
    "arr[] = {20, 4, 1, 3}\n",
    "Output: 3\n",
    "We need to remove any three elements from ends\n",
    "like 20, 4, 1 or 4, 1, 3 or 20, 3, 1 or 20, 4, 1\n",
    "*/"
   ]
  },
  {
   "cell_type": "code",
   "execution_count": 286,
   "metadata": {},
   "outputs": [],
   "source": [
    "/*\n",
    "Naive Solution:\n",
    "A naive solution is to try every possible case using recurrence. \n",
    "Following is the naive recursive algorithm. \n",
    "Note that the algorithm only returns minimum numbers of removals to be made, \n",
    "    it doesn’t print the trimmed array. It can be easily modified to print the trimmed array as well.\n",
    "\n",
    "// Returns minimum number of removals to be made in\n",
    "// arr[l..h]\n",
    "minRemovals(int arr[], int l, int h)\n",
    "1) Find min and max in arr[l..h]\n",
    "2) If 2*min > max, then return 0.\n",
    "3) Else return minimum of \"minRemovals(arr, l+1, h) + 1\"\n",
    "   and \"minRemovals(arr, l, h-1) + 1\"\n",
    "   \n",
    "Time complexity: Time complexity of the above function can be written as following\n",
    "\n",
    "  T(n) = 2T(n-1) + O(n) \n",
    "An upper bound on solution of above recurrence would be O(n x 2n).\n",
    "*/"
   ]
  },
  {
   "cell_type": "code",
   "execution_count": 294,
   "metadata": {},
   "outputs": [],
   "source": [
    "// A utility function to find minimum in arr[l..h] \n",
    "int mina(int arr[], int l, int h) \n",
    "{ \n",
    "    int mn = arr[l]; \n",
    "    for (int i=l+1; i<=h; i++) \n",
    "    if (mn > arr[i]) \n",
    "        mn = arr[i]; \n",
    "    return mn; \n",
    "} \n",
    "  \n",
    "// A utility function to find maximum in arr[l..h] \n",
    "int maxa(int arr[], int l, int h) \n",
    "{ \n",
    "    int mx = arr[l]; \n",
    "    for (int i=l+1; i<=h; i++) \n",
    "    if (mx < arr[i]) \n",
    "        mx = arr[i]; \n",
    "    return mx; \n",
    "} "
   ]
  },
  {
   "cell_type": "code",
   "execution_count": 295,
   "metadata": {},
   "outputs": [],
   "source": [
    "// Returns the minimum number of removals from either end \n",
    "// in arr[l..h] so that 2*min becomes greater than max. \n",
    "static int minRemovals(int arr[], int l, int h) \n",
    "{ \n",
    "    // If there is 1 or less elements, return 0 \n",
    "    // For a single element, 2*min > max  \n",
    "    // (Assumption: All elements are positive in arr[]) \n",
    "    if (l >= h) return 0; \n",
    "  \n",
    "    // 1) Find minimum and maximum in arr[l..h] \n",
    "    int mn = mina(arr, l, h); \n",
    "    int mx = maxa(arr, l, h); \n",
    "  \n",
    "    //If the property is followed, no removals needed \n",
    "    if (2*mn > mx) \n",
    "    return 0; \n",
    "  \n",
    "    // Otherwise remove a character from left end and recur, \n",
    "    // then remove a character from right end and recur, take \n",
    "    // the minimum of two is returned \n",
    "    return Math.min(minRemovals(arr, l+1, h), \n",
    "            minRemovals(arr, l, h-1)) + 1; \n",
    "} "
   ]
  },
  {
   "cell_type": "code",
   "execution_count": 296,
   "metadata": {},
   "outputs": [
    {
     "name": "stdout",
     "output_type": "stream",
     "text": [
      "4"
     ]
    }
   ],
   "source": [
    "// Driver Code \n",
    "public static void main(String[] args) \n",
    "{ \n",
    "    int arr[] = {4, 5, 100, 9, 10, 11, 12, 15, 200}; \n",
    "    int n = arr.length; \n",
    "    System.out.print(minRemovals(arr, 0, n-1)); \n",
    "} \n",
    "main(args);"
   ]
  },
  {
   "cell_type": "code",
   "execution_count": 297,
   "metadata": {},
   "outputs": [],
   "source": [
    "/*\n",
    "Dynamic Programming:\n",
    "\n",
    "The above recursive code exhibits many overlapping subproblems. \n",
    "For example \n",
    "    minRemovals(arr, l+1, h-1) is evaluated twice. \n",
    "\n",
    "So Dynamic Programming is the choice to optimize the solution. \n",
    "Following is Dynamic Programming based solution.\n",
    "\n",
    "Time Complexity: O(n3) where n is the number of elements in arr[].\n",
    "*/"
   ]
  },
  {
   "cell_type": "code",
   "execution_count": 300,
   "metadata": {},
   "outputs": [],
   "source": [
    "// A utility function to find minimum in arr[l..h] \n",
    "int mina(int arr[], int l, int h) { \n",
    "    int mn = arr[l]; \n",
    "    for (int i = l + 1; i <= h; i++) { \n",
    "        if (mn > arr[i]) { \n",
    "            mn = arr[i]; \n",
    "        } \n",
    "    } \n",
    "    return mn; \n",
    "} \n",
    "\n",
    "// A utility function to find maximum in arr[l..h] \n",
    "int maxa(int arr[], int l, int h) { \n",
    "    int mx = arr[l]; \n",
    "    for (int i = l + 1; i <= h; i++) { \n",
    "        if (mx < arr[i]) { \n",
    "            mx = arr[i]; \n",
    "        } \n",
    "    } \n",
    "    return mx; \n",
    "} "
   ]
  },
  {
   "cell_type": "code",
   "execution_count": 301,
   "metadata": {},
   "outputs": [],
   "source": [
    "// Returns the minimum number of removals from either end \n",
    "// in arr[l..h] so that 2*min becomes greater than max. \n",
    "static int minRemovalsDP(int arr[], int n) { \n",
    "    // Create a table to store solutions of subproblems \n",
    "    int table[][] = new int[n][n], gap, i, j, mn, mx; \n",
    "\n",
    "    // Fill table using above recursive formula. Note that the table \n",
    "    // is filled in diagonal fashion (similar to http://goo.gl/PQqoS), \n",
    "    // from diagonal elements to table[0][n-1] which is the result. \n",
    "    for (gap = 0; gap < n; ++gap) { \n",
    "        for (i = 0, j = gap; j < n; ++i, ++j) { \n",
    "            mn = mina(arr, i, j); \n",
    "            mx = maxa(arr, i, j); \n",
    "            table[i][j] = (2 * mn > mx) ? 0 : Math.min(table[i][j - 1] + 1, \n",
    "                    table[i + 1][j] + 1); \n",
    "        } \n",
    "    } \n",
    "    return table[0][n - 1]; \n",
    "} "
   ]
  },
  {
   "cell_type": "code",
   "execution_count": 302,
   "metadata": {},
   "outputs": [
    {
     "name": "stdout",
     "output_type": "stream",
     "text": [
      "3\n"
     ]
    }
   ],
   "source": [
    "// Driver program to test above functions \n",
    "public static void main(String[] args) { \n",
    "    int arr[] = {20, 4, 1, 3}; \n",
    "    int n = arr.length; \n",
    "    System.out.println(minRemovalsDP(arr, n)); \n",
    "\n",
    "} \n",
    "main(args);"
   ]
  },
  {
   "cell_type": "code",
   "execution_count": 303,
   "metadata": {},
   "outputs": [],
   "source": [
    "/*\n",
    "Further Optimizations:\n",
    "\n",
    "The above code can be optimized in many ways.\n",
    "1) We can avoid calculation of min() and/or max() when min and/or max is/are not changed by removing corner elements.\n",
    "2) We can pre-process the array and build segment tree in O(n) time. \n",
    "   After the segment tree is built, we can query range minimum and maximum in O(Logn) time. \n",
    "   The overall time complexity is reduced to O(n2Logn) time.\n",
    "\n",
    "A O(n^2) Solution\n",
    "\n",
    "The idea is to find the maximum sized subarray such that 2*min > max. \n",
    "We run two nested loops,\n",
    "    the outer loop chooses a starting point and \n",
    "    the inner loop chooses ending point for the current starting point.\n",
    "We keep track of longest subarray with the given property.\n",
    "*/"
   ]
  },
  {
   "cell_type": "code",
   "execution_count": 304,
   "metadata": {},
   "outputs": [],
   "source": [
    "// Returns the minimum number of removals from either end  \n",
    "// in arr[l..h] so that 2*min becomes greater than max.  \n",
    "static int minRemovalsDP(int arr[], int n) { \n",
    "    // Initialize starting and ending indexes of the maximum  \n",
    "    // sized subarray with property 2*min > max  \n",
    "    int longest_start = -1, longest_end = 0; \n",
    "\n",
    "    // Choose different elements as starting point  \n",
    "    for (int start = 0; start < n; start++) { \n",
    "        // Initialize min and max for the current start  \n",
    "        int min = Integer.MAX_VALUE, max = Integer.MIN_VALUE; \n",
    "\n",
    "        // Choose different ending points for current start  \n",
    "        for (int end = start; end < n; end++) { \n",
    "            // Update min and max if necessary  \n",
    "            int val = arr[end]; \n",
    "            if (val < min) { \n",
    "                min = val; \n",
    "            } \n",
    "            if (val > max) { \n",
    "                max = val; \n",
    "            } \n",
    "\n",
    "            // If the property is violated, then no  \n",
    "            // point to continue for a bigger array  \n",
    "            if (2 * min <= max) { \n",
    "                break; \n",
    "            } \n",
    "\n",
    "            // Update longest_start and longest_end if needed  \n",
    "            if (end - start > longest_end - longest_start \n",
    "                    || longest_start == -1) { \n",
    "                longest_start = start; \n",
    "                longest_end = end; \n",
    "            } \n",
    "        } \n",
    "    } \n",
    "\n",
    "    // If not even a single element follow the property,  \n",
    "    // then return n  \n",
    "    if (longest_start == -1) { \n",
    "        return n; \n",
    "    } \n",
    "\n",
    "    // Return the number of elements to be removed  \n",
    "    return (n - (longest_end - longest_start + 1)); \n",
    "} "
   ]
  },
  {
   "cell_type": "code",
   "execution_count": 305,
   "metadata": {},
   "outputs": [
    {
     "name": "stdout",
     "output_type": "stream",
     "text": [
      "4\n"
     ]
    }
   ],
   "source": [
    "// Driver program to test above functions  \n",
    "public static void main(String[] args) { \n",
    "    int arr[] = {4, 5, 100, 9, 10, 11, 12, 15, 200}; \n",
    "    int n = arr.length; \n",
    "    System.out.println(minRemovalsDP(arr, n)); \n",
    "} \n",
    "main(args);"
   ]
  },
  {
   "cell_type": "markdown",
   "metadata": {},
   "source": [
    "## **224. Number of subsequences of the form a^i b^j c^k**\n",
    "https://www.geeksforgeeks.org/number-subsequences-form-ai-bj-ck/"
   ]
  },
  {
   "cell_type": "code",
   "execution_count": 306,
   "metadata": {},
   "outputs": [],
   "source": [
    "/*\n",
    "Discussed earlier in 18 March 2020 code (1st Problem)\n",
    "*/"
   ]
  },
  {
   "cell_type": "markdown",
   "metadata": {},
   "source": [
    "## **225. Unbounded Knapsack (Repetition of items allowed)**\n",
    "https://www.geeksforgeeks.org/unbounded-knapsack-repetition-items-allowed/"
   ]
  },
  {
   "cell_type": "code",
   "execution_count": 307,
   "metadata": {},
   "outputs": [],
   "source": [
    "/*\n",
    "Given a knapsack weight W and a set of n items with certain value vali and weight wti, \n",
    "we need to calculate minimum amount that could make up this quantity exactly. \n",
    "\n",
    "This is different from classical Knapsack problem, \n",
    "here we are allowed to use unlimited number of instances of an item.\n",
    "*/"
   ]
  },
  {
   "cell_type": "code",
   "execution_count": 308,
   "metadata": {},
   "outputs": [],
   "source": [
    "/*\n",
    "Examples:\n",
    "\n",
    "Input : W = 100\n",
    "       val[]  = {1, 30}\n",
    "       wt[] = {1, 50}\n",
    "Output : 100\n",
    "There are many ways to fill knapsack.\n",
    "1) 2 instances of 50 unit weight item.\n",
    "2) 100 instances of 1 unit weight item.\n",
    "3) 1 instance of 50 unit weight item and 50\n",
    "   instances of 1 unit weight items.\n",
    "We get maximum value with option 2.\n",
    "\n",
    "Input : W = 8\n",
    "       val[] = {10, 40, 50, 70}\n",
    "       wt[]  = {1, 3, 4, 5}       \n",
    "Output : 110 \n",
    "We get maximum value with one unit of\n",
    "weight 5 and one unit of weight 3.\n",
    "*/"
   ]
  },
  {
   "cell_type": "code",
   "execution_count": 309,
   "metadata": {},
   "outputs": [],
   "source": [
    "/*\n",
    "Its an unbounded knapsack problem \n",
    "as we can use 1 or more instances of any resource. \n",
    "\n",
    "A simple 1D array, \n",
    "    say dp[W+1] can be used \n",
    "    such that dp[i] stores the maximum value which can achieved using all items and i capacity of knapsack. \n",
    "\n",
    "Note that we use 1D array here which is different from classical knapsack where we used 2D array. \n",
    "\n",
    "Here number of items never changes. We always have all items available.\n",
    "*/"
   ]
  },
  {
   "cell_type": "code",
   "execution_count": 310,
   "metadata": {},
   "outputs": [],
   "source": [
    "/*\n",
    "We can recursively compute dp[] using below formula\n",
    "\n",
    "dp[i] = 0\n",
    "dp[i] = max(dp[i], dp[i-wt[j]] + val[j] \n",
    "                   where j varies from 0 \n",
    "                   to n-1 such that:\n",
    "                   wt[j] <= i\n",
    "result = d[W]\n",
    "\n",
    "Below is the implementation of above idea.\n",
    "*/"
   ]
  },
  {
   "cell_type": "code",
   "execution_count": 311,
   "metadata": {},
   "outputs": [],
   "source": [
    "// Returns the maximum value with knapsack \n",
    "// of W capacity \n",
    "private static int unboundedKnapsack(int W, int n,  \n",
    "                            int[] val, int[] wt) { \n",
    "\n",
    "    // dp[i] is going to store maximum value \n",
    "    // with knapsack capacity i. \n",
    "    int dp[] = new int[W + 1]; \n",
    "\n",
    "    // Fill dp[] using above recursive formula \n",
    "    for(int i = 0; i <= W; i++){ \n",
    "        for(int j = 0; j < n; j++){ \n",
    "            if(wt[j] <= i){ \n",
    "                dp[i] = Math.max(dp[i], dp[i - wt[j]] +  \n",
    "                            val[j]); \n",
    "            } \n",
    "        } \n",
    "    } \n",
    "    return dp[W]; \n",
    "} "
   ]
  },
  {
   "cell_type": "code",
   "execution_count": 312,
   "metadata": {},
   "outputs": [
    {
     "name": "stdout",
     "output_type": "stream",
     "text": [
      "300\n"
     ]
    }
   ],
   "source": [
    "// Driver program \n",
    "public static void main(String[] args) { \n",
    "    int W = 100; \n",
    "    int val[] = {10, 30, 20}; \n",
    "    int wt[] = {5, 10, 15}; \n",
    "    int n = val.length; \n",
    "    System.out.println(unboundedKnapsack(W, n, val, wt)); \n",
    "} \n",
    "main(args);"
   ]
  },
  {
   "cell_type": "code",
   "execution_count": null,
   "metadata": {},
   "outputs": [],
   "source": []
  },
  {
   "cell_type": "markdown",
   "metadata": {},
   "source": [
    "## **226. Length of the longest valid substring**\n",
    "https://www.geeksforgeeks.org/length-of-the-longest-valid-substring/"
   ]
  },
  {
   "cell_type": "code",
   "execution_count": 313,
   "metadata": {},
   "outputs": [],
   "source": [
    "/*\n",
    "Discussed in 19 March 2020\n",
    "*/"
   ]
  },
  {
   "cell_type": "markdown",
   "metadata": {},
   "source": [
    "## **227. Boolean Parenthesization Problem | DP-37**\n",
    "https://www.geeksforgeeks.org/boolean-parenthesization-problem-dp-37/"
   ]
  },
  {
   "cell_type": "code",
   "execution_count": 314,
   "metadata": {},
   "outputs": [],
   "source": [
    "/*\n",
    "Given a boolean expression with following symbols.\n",
    "\n",
    "Symbols\n",
    "    'T' ---> true \n",
    "    'F' ---> false \n",
    "And following operators filled between symbols\n",
    "\n",
    "Operators\n",
    "    &   ---> boolean AND\n",
    "    |   ---> boolean OR\n",
    "    ^   ---> boolean XOR \n",
    "Count the number of ways we can parenthesize the expression so that the value of expression evaluates to true.\n",
    "\n",
    "Let the input be in form of two arrays one contains the symbols (T and F) in order\n",
    "and other contains operators (&, | and ^}\n",
    "*/"
   ]
  },
  {
   "cell_type": "code",
   "execution_count": 315,
   "metadata": {},
   "outputs": [],
   "source": [
    "/*\n",
    "Examples:\n",
    "\n",
    "Input: symbol[]    = {T, F, T}\n",
    "       operator[]  = {^, &}\n",
    "Output: 2\n",
    "The given expression is \"T ^ F & T\", it evaluates true\n",
    "in two ways \"((T ^ F) & T)\" and \"(T ^ (F & T))\"\n",
    "\n",
    "Input: symbol[]    = {T, F, F}\n",
    "       operator[]  = {^, |}\n",
    "Output: 2\n",
    "The given expression is \"T ^ F | F\", it evaluates true\n",
    "in two ways \"( (T ^ F) | F )\" and \"( T ^ (F | F) )\". \n",
    "\n",
    "Input: symbol[]    = {T, T, F, T}\n",
    "       operator[]  = {|, &, ^}\n",
    "Output: 4\n",
    "The given expression is \"T | T & F ^ T\", it evaluates true\n",
    "in 4 ways ((T|T)&(F^T)), (T|(T&(F^T))), (((T|T)&F)^T) \n",
    "and (T|((T&F)^T)). \n",
    "*/"
   ]
  },
  {
   "cell_type": "code",
   "execution_count": 316,
   "metadata": {},
   "outputs": [],
   "source": [
    "/*\n",
    "Solution:\n",
    "Time Complexity: O(n^3)\n",
    "Auxiliary Space: O(n^2)\n",
    "\n",
    "Let T(i, j) represents the number of ways to parenthesize the symbols between i and j (both inclusive) \n",
    "such that the subexpression between i and j evaluates to true.\n",
    "*/"
   ]
  },
  {
   "cell_type": "markdown",
   "metadata": {},
   "source": [
    "<img src = \"https://www.geeksforgeeks.org/wp-content/ql-cache/quicklatex.com-b9d8df57d06423ebb6000181b7352163_l3.svg\"/>"
   ]
  },
  {
   "cell_type": "markdown",
   "metadata": {},
   "source": [
    "<img src = \"https://media.geeksforgeeks.org/wp-content/cdn-uploads/trueeq.png\"/>"
   ]
  },
  {
   "cell_type": "code",
   "execution_count": 317,
   "metadata": {},
   "outputs": [],
   "source": [
    "/*\n",
    "Let F(i, j) represents the number of ways to parenthesize the symbols between i and j (both inclusive) \n",
    "such that the subexpression between i and j evaluates to false.\n",
    "*/"
   ]
  },
  {
   "cell_type": "markdown",
   "metadata": {},
   "source": [
    "<img src = \"https://www.geeksforgeeks.org/wp-content/ql-cache/quicklatex.com-74b2160e6008c436711729ee74921d3a_l3.svg\"/>"
   ]
  },
  {
   "cell_type": "markdown",
   "metadata": {},
   "source": [
    "<img src=  \"https://media.geeksforgeeks.org/wp-content/cdn-uploads/falseeq.png\"/>"
   ]
  },
  {
   "cell_type": "code",
   "execution_count": 318,
   "metadata": {},
   "outputs": [],
   "source": [
    "/*\n",
    "Base Cases:\n",
    "\n",
    "T(i, i) = 1 if symbol[i] = 'T' \n",
    "T(i, i) = 0 if symbol[i] = 'F' \n",
    "\n",
    "F(i, i) = 1 if symbol[i] = 'F' \n",
    "F(i, i) = 0 if symbol[i] = 'T'\n",
    "*/"
   ]
  },
  {
   "cell_type": "code",
   "execution_count": 319,
   "metadata": {},
   "outputs": [],
   "source": [
    "// Returns count of all possible  \n",
    "// parenthesizations that lead to \n",
    "// result true for a boolean  \n",
    "// expression with symbols like true \n",
    "// and false and operators like &, |  \n",
    "// and ^ filled between symbols \n",
    "static int countParenth(char symb[],  \n",
    "                char oper[], int n)     \n",
    "{ \n",
    "    int F[][] = new int[n][n]; \n",
    "    int T[][] = new int[n][n]; \n",
    "\n",
    "    // Fill diaginal entries first \n",
    "    // All diagonal entries in T[i][i]  \n",
    "    // are 1 if symbol[i] is T (true).  \n",
    "    // Similarly, all F[i][i] entries  \n",
    "    // are 1 if symbol[i] is F (False) \n",
    "    for (int i = 0; i < n; i++)  \n",
    "    { \n",
    "        F[i][i] = (symb[i] == 'F') ? 1 : 0; \n",
    "        T[i][i] = (symb[i] == 'T') ? 1 : 0; \n",
    "    } \n",
    "\n",
    "    // Now fill T[i][i+1], T[i][i+2],  \n",
    "    // T[i][i+3]... in order And F[i][i+1], \n",
    "    // F[i][i+2], F[i][i+3]... in order \n",
    "    for (int gap = 1; gap < n; ++gap) \n",
    "    { \n",
    "        for (int i = 0, j = gap; j < n; ++i, ++j)  \n",
    "        { \n",
    "            T[i][j] = F[i][j] = 0; \n",
    "            for (int g = 0; g < gap; g++)  \n",
    "            { \n",
    "                // Find place of parenthesization  \n",
    "                // using current value of gap \n",
    "                int k = i + g; \n",
    "\n",
    "                // Store Total[i][k] and Total[k+1][j] \n",
    "                int tik = T[i][k] + F[i][k]; \n",
    "                int tkj = T[k + 1][j] + F[k + 1][j]; \n",
    "\n",
    "                // Follow the recursive formulas  \n",
    "                // according to the current operator \n",
    "                if (oper[k] == '&')  \n",
    "                { \n",
    "                    T[i][j] += T[i][k] * T[k + 1][j]; \n",
    "                    F[i][j] += (tik * tkj - T[i][k] * T[k + 1][j]); \n",
    "                } \n",
    "                if (oper[k] == '|')  \n",
    "                { \n",
    "                    F[i][j] += F[i][k] * F[k + 1][j]; \n",
    "                    T[i][j] += (tik * tkj - F[i][k] * F[k + 1][j]); \n",
    "                } \n",
    "                if (oper[k] == '^') \n",
    "                { \n",
    "                    T[i][j] += F[i][k] * T[k + 1][j] +  \n",
    "                                T[i][k] * F[k + 1][j]; \n",
    "                    F[i][j] += T[i][k] * T[k + 1][j] +  \n",
    "                                F[i][k] * F[k + 1][j]; \n",
    "                } \n",
    "            } \n",
    "        } \n",
    "    } \n",
    "    return T[0][n - 1]; \n",
    "} "
   ]
  },
  {
   "cell_type": "code",
   "execution_count": 320,
   "metadata": {},
   "outputs": [
    {
     "name": "stdout",
     "output_type": "stream",
     "text": [
      "4\n"
     ]
    }
   ],
   "source": [
    "// Driver code \n",
    "public static void main(String[] args)  \n",
    "{ \n",
    "    char symbols[] = \"TTFT\".toCharArray(); \n",
    "    char operators[] = \"|&^\".toCharArray(); \n",
    "    int n = symbols.length; \n",
    "\n",
    "    // There are 4 ways \n",
    "    // ((T|T)&(F^T)), (T|(T&(F^T))),  \n",
    "    // (((T|T)&F)^T) and (T|((T&F)^T)) \n",
    "    System.out.println(countParenth(symbols, operators, n)); \n",
    "} \n",
    "main(args);"
   ]
  },
  {
   "cell_type": "markdown",
   "metadata": {},
   "source": [
    "## **228. Count Possible Decodings of a given Digit Sequence**\n",
    "https://www.geeksforgeeks.org/count-possible-decodings-given-digit-sequence/"
   ]
  },
  {
   "cell_type": "code",
   "execution_count": 321,
   "metadata": {},
   "outputs": [],
   "source": [
    "/*\n",
    "Let 1 represent ‘A’, \n",
    "    2 represents ‘B’, etc. \n",
    "Given a digit sequence, \n",
    "    count the number of possible decodings of the given digit sequence.\n",
    "    \n",
    "An empty digit sequence is considered to have one decoding. \n",
    "It may be assumed that the input contains valid digits from 0 to 9 \n",
    "and there are no leading 0’s, no extra trailing 0’s and no two or more consecutive 0’s.\n",
    "*/"
   ]
  },
  {
   "cell_type": "code",
   "execution_count": 322,
   "metadata": {},
   "outputs": [],
   "source": [
    "/*\n",
    "Examples:\n",
    "\n",
    "Input:  digits[] = \"121\"\n",
    "Output: 3\n",
    "// The possible decodings are \"ABA\", \"AU\", \"LA\"\n",
    "\n",
    "Input: digits[] = \"1234\"\n",
    "Output: 3\n",
    "// The possible decodings are \"ABCD\", \"LCD\", \"AWD\"\n",
    "*/"
   ]
  },
  {
   "cell_type": "code",
   "execution_count": 323,
   "metadata": {},
   "outputs": [],
   "source": [
    "/*\n",
    "This problem is recursive and can be broken in sub-problems. \n",
    "We start from end of the given digit sequence. \n",
    "We initialize the total count of decodings as 0. \n",
    "\n",
    "We recur for two subproblems.\n",
    "1) If the last digit is non-zero, \n",
    "    recur for remaining (n-1) digits and add the result to total count.\n",
    "2) If the last two digits form a valid character (or smaller than 27), \n",
    "    recur for remaining (n-2) digits and add the result to total count.\n",
    "\n",
    "Following is the implementation of the above approach.\n",
    "*/"
   ]
  },
  {
   "cell_type": "code",
   "execution_count": 324,
   "metadata": {},
   "outputs": [
    {
     "name": "stdout",
     "output_type": "stream",
     "text": [
      "Count is 3"
     ]
    }
   ],
   "source": [
    "// Given a digit sequence of length n, \n",
    "// returns count of possible decodings by \n",
    "// replacing 1 with A, 2 woth B, ... 26 with Z \n",
    "static int countDecoding(char[] digits, int n)  \n",
    "{ \n",
    "    // base cases \n",
    "    if (n == 0 || n == 1) \n",
    "    return 1; \n",
    "    if(digits[0]=='0')   //for base condition \"01123\" should return 0  \n",
    "          return 0; \n",
    "  \n",
    "    // Initialize count \n",
    "    int count = 0;  \n",
    "  \n",
    "    // If the last digit is not 0, then  \n",
    "    // last digit must add to \n",
    "    // the number of words \n",
    "    if (digits[n - 1] > '0') \n",
    "    count = countDecoding(digits, n - 1); \n",
    "  \n",
    "    // If the last two digits form a number \n",
    "    // smaller than or equal to 26, \n",
    "    // then consider last two digits and recur \n",
    "    if (digits[n - 2] == '1' ||  \n",
    "       (digits[n - 2] == '2' && digits[n - 1] < '7')) \n",
    "    count += countDecoding(digits, n - 2); \n",
    "  \n",
    "    return count; \n",
    "} \n",
    "  \n",
    "// Driver program to test above function \n",
    "public static void main(String[] args)  \n",
    "{ \n",
    "    char digits[] = {'1', '2', '3', '4'}; \n",
    "    int n = digits.length; \n",
    "    System.out.printf(\"Count is %d\", countDecoding(digits, n)); \n",
    "} \n",
    "main(args);"
   ]
  },
  {
   "cell_type": "code",
   "execution_count": 325,
   "metadata": {},
   "outputs": [],
   "source": [
    "/*\n",
    "The time complexity of above the code is exponential. \n",
    "If we take a closer look at the above program, \n",
    "    we can observe that the recursive solution is similar to Fibonacci Numbers. \n",
    "\n",
    "Therefore, \n",
    "    we can optimize the above solution to work in O(n) time using Dynamic Programming.\n",
    "*/"
   ]
  },
  {
   "cell_type": "code",
   "execution_count": 326,
   "metadata": {},
   "outputs": [
    {
     "name": "stdout",
     "output_type": "stream",
     "text": [
      "Count is 3\n"
     ]
    }
   ],
   "source": [
    "// A Dynamic Programming based  \n",
    "// function to count decodings \n",
    "static int countDecodingDP(char digits[],  \n",
    "                           int n) \n",
    "{ \n",
    "    // A table to store results of subproblems \n",
    "    int count[] = new int[n + 1];  \n",
    "    count[0] = 1; \n",
    "    count[1] = 1; \n",
    "    if(digits[0]=='0')   //for base condition \"01123\" should return 0  \n",
    "          return 0; \n",
    "    for (int i = 2; i <= n; i++) \n",
    "    { \n",
    "        count[i] = 0; \n",
    "  \n",
    "        // If the last digit is not 0,  \n",
    "        // then last digit must add to \n",
    "        // the number of words \n",
    "        if (digits[i - 1] > '0') \n",
    "            count[i] = count[i - 1]; \n",
    "  \n",
    "        // If second last digit is smaller \n",
    "        // than 2 and last digit is smaller \n",
    "        // than 7, then last two digits  \n",
    "        // form a valid character \n",
    "        if (digits[i - 2] == '1' || \n",
    "           (digits[i - 2] == '2' &&  \n",
    "            digits[i - 1] < '7')) \n",
    "            count[i] += count[i - 2]; \n",
    "    } \n",
    "    return count[n]; \n",
    "} \n",
    "  \n",
    "// Driver Code \n",
    "public static void main (String[] args)  \n",
    "{ \n",
    "    char digits[] = {'1','2','3','4'}; \n",
    "    int n = digits.length; \n",
    "    System.out.println(\"Count is \" +  \n",
    "               countDecodingDP(digits, n)); \n",
    "} \n",
    "main(args);"
   ]
  },
  {
   "cell_type": "code",
   "execution_count": 327,
   "metadata": {},
   "outputs": [],
   "source": [
    "/*\n",
    "Time Complexity of the above solution is O(n) and it requires O(n) auxiliary space. \n",
    "We can reduce auxiliary space to O(1) by using space optimized version \n",
    "discussed in the Fibonacci Number Post (given below link).\n",
    "*/"
   ]
  },
  {
   "cell_type": "markdown",
   "metadata": {},
   "source": [
    "***https://www.geeksforgeeks.org/program-for-nth-fibonacci-number/***"
   ]
  },
  {
   "cell_type": "markdown",
   "metadata": {},
   "source": [
    "## **229. Perfect Sum Problem (Print all subsets with given sum)**\n",
    "https://www.geeksforgeeks.org/perfect-sum-problem-print-subsets-given-sum/"
   ]
  },
  {
   "cell_type": "code",
   "execution_count": 328,
   "metadata": {},
   "outputs": [],
   "source": [
    "/*\n",
    "Given an array of integers and a sum, \n",
    "the task is to print all subsets of given array with sum equal to given sum.\n",
    "\n",
    "Examples:\n",
    "\n",
    "Input : arr[] = {2, 3, 5, 6, 8, 10}\n",
    "        sum = 10\n",
    "Output : 5 2 3\n",
    "         2 8\n",
    "         10\n",
    "\n",
    "Input : arr[] = {1, 2, 3, 4, 5}\n",
    "        sum = 10\n",
    "Output : 4 3 2 1 \n",
    "         5 3 2 \n",
    "         5 4 1 \n",
    "*/"
   ]
  },
  {
   "cell_type": "code",
   "execution_count": 329,
   "metadata": {},
   "outputs": [],
   "source": [
    "/*\n",
    "This problem is mainly an extension of Subset Sum Problem.(Link given below) \n",
    "Here we not only need to find if there is a subset with given sum, \n",
    "    but also need to print all subsets with given sum.\n",
    "\n",
    "Like (In Link given below), we build a 2D array dp[][] \n",
    "such that dp[i][j] stores true if sum j is possible with array elements from 0 to i.\n",
    "After filling dp[][], we recursively traverse it from dp[n-1][sum]. \n",
    "\n",
    "For cell being traversed, we store path before reaching it and consider two possibilities for the element.\n",
    "1) Element is included in current path.\n",
    "2) Element is not included in current path.\n",
    "\n",
    "Whenever sum becomes 0, we stop the recursive calls and print current path.\n",
    "*/"
   ]
  },
  {
   "cell_type": "markdown",
   "metadata": {},
   "source": [
    "***https://www.geeksforgeeks.org/subset-sum-problem-dp-25/***"
   ]
  },
  {
   "cell_type": "code",
   "execution_count": 330,
   "metadata": {},
   "outputs": [],
   "source": [
    "// dp[i][j] is going to store true if sum j is \n",
    "// possible with array elements from 0 to i. \n",
    "static boolean[][] dp; \n",
    "\n",
    "static void display(ArrayList<Integer> v) \n",
    "{ \n",
    "   System.out.println(v); \n",
    "} "
   ]
  },
  {
   "cell_type": "code",
   "execution_count": 331,
   "metadata": {},
   "outputs": [],
   "source": [
    "// A recursive function to print all subsets with the \n",
    "// help of dp[][]. Vector p[] stores current subset. \n",
    "static void printSubsetsRec(int arr[], int i, int sum,  \n",
    "                                     ArrayList<Integer> p) \n",
    "{ \n",
    "    // If we reached end and sum is non-zero. We print \n",
    "    // p[] only if arr[0] is equal to sun OR dp[0][sum] \n",
    "    // is true. \n",
    "    if (i == 0 && sum != 0 && dp[0][sum]) \n",
    "    { \n",
    "        p.add(arr[i]); \n",
    "        display(p); \n",
    "        p.clear(); \n",
    "        return; \n",
    "    } \n",
    "\n",
    "    // If sum becomes 0 \n",
    "    if (i == 0 && sum == 0) \n",
    "    { \n",
    "        display(p); \n",
    "        p.clear(); \n",
    "        return; \n",
    "    } \n",
    "\n",
    "    // If given sum can be achieved after ignoring \n",
    "    // current element. \n",
    "    if (dp[i-1][sum]) \n",
    "    { \n",
    "        // Create a new vector to store path \n",
    "        ArrayList<Integer> b = new ArrayList<>(); \n",
    "        b.addAll(p); \n",
    "        printSubsetsRec(arr, i-1, sum, b); \n",
    "    } \n",
    "\n",
    "    // If given sum can be achieved after considering \n",
    "    // current element. \n",
    "    if (sum >= arr[i] && dp[i-1][sum-arr[i]]) \n",
    "    { \n",
    "        p.add(arr[i]); \n",
    "        printSubsetsRec(arr, i-1, sum-arr[i], p); \n",
    "    } \n",
    "} "
   ]
  },
  {
   "cell_type": "code",
   "execution_count": 332,
   "metadata": {},
   "outputs": [],
   "source": [
    "// Prints all subsets of arr[0..n-1] with sum 0. \n",
    "static void printAllSubsets(int arr[], int n, int sum) \n",
    "{ \n",
    "    if (n == 0 || sum < 0) \n",
    "       return; \n",
    "\n",
    "    // Sum 0 can always be achieved with 0 elements \n",
    "    dp = new boolean[n][sum + 1]; \n",
    "    for (int i=0; i<n; ++i) \n",
    "    { \n",
    "        dp[i][0] = true;   \n",
    "    } \n",
    "\n",
    "    // Sum arr[0] can be achieved with single element \n",
    "    if (arr[0] <= sum) \n",
    "       dp[0][arr[0]] = true; \n",
    "\n",
    "    // Fill rest of the entries in dp[][] \n",
    "    for (int i = 1; i < n; ++i) \n",
    "        for (int j = 0; j < sum + 1; ++j) \n",
    "            dp[i][j] = (arr[i] <= j) ? (dp[i-1][j] || \n",
    "                                       dp[i-1][j-arr[i]]) \n",
    "                                     : dp[i - 1][j]; \n",
    "    if (dp[n-1][sum] == false) \n",
    "    { \n",
    "        System.out.println(\"There are no subsets with\" +  \n",
    "                                              \" sum \"+ sum); \n",
    "        return; \n",
    "    } \n",
    "\n",
    "    // Now recursively traverse dp[][] to find all \n",
    "    // paths from dp[n-1][sum] \n",
    "    ArrayList<Integer> p = new ArrayList<>(); \n",
    "    printSubsetsRec(arr, n-1, sum, p); \n",
    "} "
   ]
  },
  {
   "cell_type": "code",
   "execution_count": 333,
   "metadata": {},
   "outputs": [
    {
     "name": "stdout",
     "output_type": "stream",
     "text": [
      "[4, 3, 2, 1]\n",
      "[5, 3, 2]\n",
      "[5, 4, 1]\n"
     ]
    }
   ],
   "source": [
    "//Driver Program to test above functions \n",
    "public static void main(String args[]) \n",
    "{ \n",
    "    int arr[] = {1, 2, 3, 4, 5}; \n",
    "    int n = arr.length; \n",
    "    int sum = 10; \n",
    "    printAllSubsets(arr, n, sum); \n",
    "} \n",
    "main(args);"
   ]
  },
  {
   "cell_type": "markdown",
   "metadata": {},
   "source": [
    "## **230. Vertex Cover Problem | Set 2 (Dynamic Programming Solution for Tree)**\n",
    "https://www.geeksforgeeks.org/vertex-cover-problem-set-2-dynamic-programming-solution-tree/"
   ]
  },
  {
   "cell_type": "code",
   "execution_count": 334,
   "metadata": {},
   "outputs": [],
   "source": [
    "/*\n",
    "A vertex cover of an undirected graph is a subset of its vertices \n",
    "    such that for every edge (u, v) of the graph, either ‘u’ or ‘v’ is in vertex cover. \n",
    "Although the name is Vertex Cover, the set covers all edges of the given graph.\n",
    "\n",
    "The problem to find minimum size vertex cover of a graph is NP complete. \n",
    "But it can be solved in polynomial time for trees. \n",
    "\n",
    "In this post a solution for Binary Tree is discussed. \n",
    "    The same solution can be extended for n-ary trees.\n",
    "\n",
    "For example, consider the following binary tree. \n",
    "\n",
    "The smallest vertex cover is {20, 50, 30} and size of the vertex cover is 3.\n",
    "*/"
   ]
  },
  {
   "cell_type": "markdown",
   "metadata": {},
   "source": [
    "<img src = \"https://media.geeksforgeeks.org/wp-content/cdn-uploads/LargestIndependentSet11.png\"/>"
   ]
  },
  {
   "cell_type": "code",
   "execution_count": 335,
   "metadata": {},
   "outputs": [],
   "source": [
    "/*\n",
    "The idea is to consider following two possibilities for root and recursively for all nodes down the root.\n",
    "\n",
    "1) Root is part of vertex cover: \n",
    "    In this case \n",
    "        root covers all children edges. \n",
    "    We recursively calculate size of vertex covers for left and right subtrees and add 1 to the result \n",
    "    (for root).\n",
    "\n",
    "2) Root is not part of vertex cover: \n",
    "    In this case, \n",
    "        both children of root must be included in vertex cover to cover all root to children edges. \n",
    "    We recursively calculate size of vertex covers of all grandchildren and number of children to the result \n",
    "    (for two children of root).\n",
    "\n",
    "Below are implementation of above idea.\n",
    "*/"
   ]
  },
  {
   "cell_type": "code",
   "execution_count": 336,
   "metadata": {},
   "outputs": [],
   "source": [
    "/* \n",
    "* A binary tree node has data, pointer \n",
    "to left child and a pointer to right \n",
    "* child \n",
    "*/\n",
    "static class node  \n",
    "{ \n",
    "    int data; \n",
    "    node left, right; \n",
    "}; "
   ]
  },
  {
   "cell_type": "code",
   "execution_count": 337,
   "metadata": {},
   "outputs": [],
   "source": [
    "// The function returns size  \n",
    "// of the minimum vertex cover \n",
    "static int vCover(node root)  \n",
    "{ \n",
    "    // The size of minimum vertex cover \n",
    "    // is zero if tree is empty or there \n",
    "    // is only one node \n",
    "    if (root == null) \n",
    "        return 0; \n",
    "    if (root.left == null && root.right == null) \n",
    "        return 0; \n",
    "\n",
    "    // Calculate size of vertex cover \n",
    "    // when root is part of it \n",
    "    int size_incl = 1 + vCover(root.left) +  \n",
    "                           vCover(root.right); \n",
    "\n",
    "    // Calculate size of vertex cover \n",
    "    // when root is not part of it \n",
    "    int size_excl = 0; \n",
    "    if (root.left != null) \n",
    "        size_excl += 1 + vCover(root.left.left) +  \n",
    "                          vCover(root.left.right); \n",
    "    if (root.right != null) \n",
    "        size_excl += 1 + vCover(root.right.left) +  \n",
    "                            vCover(root.right.right); \n",
    "\n",
    "    // Return the minimum of two sizes \n",
    "    return Math.min(size_incl, size_excl); \n",
    "} "
   ]
  },
  {
   "cell_type": "code",
   "execution_count": 338,
   "metadata": {},
   "outputs": [],
   "source": [
    "// A utility function to create a node \n",
    "static node newNode(int data)  \n",
    "{ \n",
    "    node temp = new node(); \n",
    "    temp.data = data; \n",
    "    temp.left = temp.right = null; \n",
    "    return temp; \n",
    "}"
   ]
  },
  {
   "cell_type": "code",
   "execution_count": 339,
   "metadata": {},
   "outputs": [
    {
     "name": "stdout",
     "output_type": "stream",
     "text": [
      "Size of the smallest vertexcover is 3 "
     ]
    }
   ],
   "source": [
    "// Driver code \n",
    "public static void main(String[] args)  \n",
    "{ \n",
    "    // Let us conthe tree given in the above diagram \n",
    "    node root = newNode(20); \n",
    "    root.left = newNode(8); \n",
    "    root.left.left = newNode(4); \n",
    "    root.left.right = newNode(12); \n",
    "    root.left.right.left = newNode(10); \n",
    "    root.left.right.right = newNode(14); \n",
    "    root.right = newNode(22); \n",
    "    root.right.right = newNode(25); \n",
    "\n",
    "    System.out.printf(\"Size of the smallest vertex\" +  \n",
    "                        \"cover is %d \", vCover(root)); \n",
    "\n",
    "} \n",
    "main(args);"
   ]
  },
  {
   "cell_type": "code",
   "execution_count": 340,
   "metadata": {},
   "outputs": [],
   "source": [
    "/*\n",
    "Time complexity of the above naive recursive approach is exponential. \n",
    "\n",
    "It should be noted that the above function computes the same subproblems again and again. \n",
    "For example, \n",
    "    vCover of node with value 50 is evaluated twice as 50 is grandchild of 10 and child of 20.\n",
    "\n",
    "Since same suproblems are called again, \n",
    "this problem has Overlapping Subprolems property. \n",
    "So Vertex Cover problem has both properties of a dynamic programming problem. \n",
    "Like other typical Dynamic Programming(DP) problems, \n",
    "    re-computations of same subproblems can be avoided by storing the solutions to subproblems \n",
    "    and solving problems in bottom up manner.\n",
    "\n",
    "Following is the implementation of Dynamic Programming based solution. \n",
    "In the following solution, \n",
    "    an additional field ‘vc’ is added to tree nodes. \n",
    "The initial value of ‘vc’ is set as 0 for all nodes. \n",
    "The recursive function vCover() calculates ‘vc’ for a node only if it is not already set.\n",
    "*/"
   ]
  },
  {
   "cell_type": "code",
   "execution_count": 341,
   "metadata": {},
   "outputs": [],
   "source": [
    "/* \n",
    "* A binary tree node has data, pointer  \n",
    "to left child and a pointer to right \n",
    "* child \n",
    "*/\n",
    "static class node  \n",
    "{ \n",
    "    int data; \n",
    "    int vc; \n",
    "    node left, right; \n",
    "};"
   ]
  },
  {
   "cell_type": "code",
   "execution_count": 342,
   "metadata": {},
   "outputs": [],
   "source": [
    "// A memoization based function that returns \n",
    "// size of the minimum vertex cover. \n",
    "static int vCover(node root) \n",
    "{ \n",
    "    // The size of minimum vertex cover is zero \n",
    "    //  if tree is empty or there is only one node \n",
    "    if (root == null) \n",
    "        return 0; \n",
    "    if (root.left == null && root.right == null) \n",
    "        return 0; \n",
    "\n",
    "    // If vertex cover for this node is  \n",
    "    // already evaluated, then return it \n",
    "    // to save recomputation of same subproblem again. \n",
    "    if (root.vc != 0) \n",
    "        return root.vc; \n",
    "\n",
    "    // Calculate size of vertex cover  \n",
    "    // when root is part of it \n",
    "    int size_incl = 1 + vCover(root.left) +  \n",
    "                        vCover(root.right); \n",
    "\n",
    "    // Calculate size of vertex cover \n",
    "    // when root is not part of it \n",
    "    int size_excl = 0; \n",
    "    if (root.left != null) \n",
    "        size_excl += 1 + vCover(root.left.left) +  \n",
    "                            vCover(root.left.right); \n",
    "    if (root.right != null) \n",
    "        size_excl += 1 + vCover(root.right.left) + \n",
    "                            vCover(root.right.right); \n",
    "\n",
    "    // Minimum of two values is vertex cover,  \n",
    "    // store it before returning \n",
    "    root.vc = Math.min(size_incl, size_excl); \n",
    "\n",
    "    return root.vc; \n",
    "} "
   ]
  },
  {
   "cell_type": "code",
   "execution_count": 343,
   "metadata": {},
   "outputs": [],
   "source": [
    "// A utility function to create a node \n",
    "static node newNode(int data) \n",
    "{ \n",
    "    node temp = new node(); \n",
    "    temp.data = data; \n",
    "    temp.left = temp.right = null; \n",
    "    temp.vc = 0; // Set the vertex cover as 0 \n",
    "    return temp; \n",
    "} "
   ]
  },
  {
   "cell_type": "code",
   "execution_count": 344,
   "metadata": {},
   "outputs": [
    {
     "name": "stdout",
     "output_type": "stream",
     "text": [
      "Size of the smallest vertexcover is 3 "
     ]
    }
   ],
   "source": [
    "// Driver code \n",
    "public static void main(String[] args) \n",
    "{ \n",
    "    // Let us conthe tree given in the above diagram \n",
    "    node root = newNode(20); \n",
    "    root.left = newNode(8); \n",
    "    root.left.left = newNode(4); \n",
    "    root.left.right = newNode(12); \n",
    "    root.left.right.left = newNode(10); \n",
    "    root.left.right.right = newNode(14); \n",
    "    root.right = newNode(22); \n",
    "    root.right.right = newNode(25); \n",
    "\n",
    "    System.out.printf(\"Size of the smallest vertex\" +  \n",
    "                        \"cover is %d \", vCover(root)); \n",
    "}\n",
    "main(args);"
   ]
  },
  {
   "cell_type": "markdown",
   "metadata": {},
   "source": [
    "**Reference :**  ***http://courses.csail.mit.edu/6.006/spring11/lectures/lec21.pdf***"
   ]
  },
  {
   "cell_type": "markdown",
   "metadata": {},
   "source": [
    "## **231. Longest Even Length Substring such that Sum of First and Second Half is same**\n",
    "https://www.geeksforgeeks.org/longest-even-length-substring-sum-first-second-half/"
   ]
  },
  {
   "cell_type": "code",
   "execution_count": 345,
   "metadata": {},
   "outputs": [],
   "source": [
    "/*\n",
    "Given a string ‘str’ of digits, \n",
    "find the length of the longest substring of ‘str’, \n",
    "    such that the length of the substring is 2k digits \n",
    "    and sum of left k digits is equal to the sum of right k digits.\n",
    "*/"
   ]
  },
  {
   "cell_type": "code",
   "execution_count": 346,
   "metadata": {},
   "outputs": [],
   "source": [
    "/*\n",
    "Examples :\n",
    "\n",
    "Input: str = \"123123\"\n",
    "Output: 6\n",
    "The complete string is of even length and sum of first and second\n",
    "half digits is same\n",
    "\n",
    "Input: str = \"1538023\"\n",
    "Output: 4\n",
    "The longest substring with same first and second half sum is \"5380\"\n",
    "*/"
   ]
  },
  {
   "cell_type": "code",
   "execution_count": 347,
   "metadata": {},
   "outputs": [],
   "source": [
    "/*\n",
    "Simple Solution [ O(n^3) ]\n",
    "\n",
    "A Simple Solution is to check every substring of even length. \n",
    "The following is the implementation of simple approach.\n",
    "*/"
   ]
  },
  {
   "cell_type": "code",
   "execution_count": 348,
   "metadata": {},
   "outputs": [
    {
     "name": "stdout",
     "output_type": "stream",
     "text": [
      "Length of the substring is 4\n"
     ]
    }
   ],
   "source": [
    "static int findLength(String str) \n",
    "{ \n",
    "    int n = str.length(); \n",
    "    int maxlen = 0; // Initialize result \n",
    "  \n",
    "    // Choose starting point of every  \n",
    "    // substring \n",
    "    for (int i = 0; i < n; i++) \n",
    "    { \n",
    "        // Choose ending point of even  \n",
    "        // length substring \n",
    "        for (int j = i + 1; j < n; j += 2) \n",
    "        {    \n",
    "            // Find length of current substr \n",
    "            int length = j - i + 1; \n",
    "  \n",
    "            // Calculate left & right sums \n",
    "            // for current substr \n",
    "            int leftsum = 0, rightsum = 0; \n",
    "            for (int k = 0; k < length/2; k++) \n",
    "            { \n",
    "                leftsum += (str.charAt(i + k) - '0'); \n",
    "                rightsum += (str.charAt(i + k + length/2) - '0'); \n",
    "            } \n",
    "  \n",
    "            // Update result if needed \n",
    "            if (leftsum == rightsum && maxlen < length) \n",
    "                    maxlen = length; \n",
    "        } \n",
    "    } \n",
    "    return maxlen; \n",
    "} \n",
    "  \n",
    "// Driver program to test above function \n",
    "public static void main(String[] args) \n",
    "{ \n",
    "    String str = \"1538023\"; \n",
    "    System.out.println(\"Length of the substring is \" \n",
    "                       + findLength(str)); \n",
    "} \n",
    "main(args);"
   ]
  },
  {
   "cell_type": "code",
   "execution_count": 349,
   "metadata": {},
   "outputs": [],
   "source": [
    "/*\n",
    "Dynamic Programming [ O(n2) and O(n2) extra space]\n",
    "\n",
    "The above solution can be optimized to work in O(n2) using Dynamic Programming. \n",
    "The idea is to build a 2D table that stores sums of substrings. \n",
    "The following is the implementation of Dynamic Programming approach.\n",
    "*/"
   ]
  },
  {
   "cell_type": "code",
   "execution_count": 350,
   "metadata": {},
   "outputs": [],
   "source": [
    "static int findLength(String str) \n",
    "{ \n",
    "    int n = str.length(); \n",
    "    int maxlen = 0; // Initialize result \n",
    "  \n",
    "    // A 2D table where sum[i][j] stores  \n",
    "    // sum of digits from str[i] to str[j].  \n",
    "    // Only filled entries are the entries \n",
    "    // where j >= i \n",
    "    int sum[][] = new int[n][n]; \n",
    "  \n",
    "    // Fill the diagonal values for  \n",
    "    // substrings of length 1 \n",
    "    for (int i = 0; i < n; i++) \n",
    "        sum[i][i] = str.charAt(i) - '0'; \n",
    "  \n",
    "    // Fill entries for substrings of \n",
    "    // length 2 to n \n",
    "    for (int len = 2; len <= n; len++) \n",
    "    { \n",
    "        // Pick i and j for current substring \n",
    "        for (int i = 0; i < n - len + 1; i++) \n",
    "        { \n",
    "            int j = i + len - 1; \n",
    "            int k = len/2; \n",
    "  \n",
    "            // Calculate value of sum[i][j] \n",
    "            sum[i][j] = sum[i][j-k] + \n",
    "                        sum[j-k+1][j]; \n",
    "  \n",
    "            // Update result if 'len' is even, \n",
    "            // left and right sums are same \n",
    "            // and len is more than maxlen \n",
    "            if (len % 2 == 0 && sum[i][j-k] ==  \n",
    "                sum[(j-k+1)][j] && len > maxlen) \n",
    "                maxlen = len; \n",
    "        } \n",
    "    } \n",
    "    return maxlen; \n",
    "} "
   ]
  },
  {
   "cell_type": "code",
   "execution_count": 351,
   "metadata": {},
   "outputs": [
    {
     "name": "stdout",
     "output_type": "stream",
     "text": [
      "Length of the substring is 4\n"
     ]
    }
   ],
   "source": [
    "// Driver program to test above function \n",
    "public static void main(String[] args) \n",
    "{ \n",
    "    String str = \"153803\"; \n",
    "    System.out.println(\"Length of the substring is \"\n",
    "                       + findLength(str)); \n",
    "} \n",
    "main(args);"
   ]
  },
  {
   "cell_type": "code",
   "execution_count": 352,
   "metadata": {},
   "outputs": [],
   "source": [
    "/*\n",
    "[A O(n^2) and O(n) extra space solution]\n",
    "\n",
    "The idea is to use a single dimensional array to store cumulative sum.\n",
    "*/"
   ]
  },
  {
   "cell_type": "code",
   "execution_count": 353,
   "metadata": {},
   "outputs": [
    {
     "name": "stdout",
     "output_type": "stream",
     "text": [
      "Length of the substring is 6\n"
     ]
    }
   ],
   "source": [
    "static int findLength(String str, int n) \n",
    "{    \n",
    "    // To store cumulative sum from \n",
    "    // first digit to nth digit \n",
    "    int sum[] = new int[ n + 1];  \n",
    "    sum[0] = 0; \n",
    "  \n",
    "    /* Store cumulative sum of digits  \n",
    "    from first to last digit */\n",
    "    for (int i = 1; i <= n; i++) \n",
    "          \n",
    "        /* convert chars to int */\n",
    "        sum[i] = (sum[i-1] + str.charAt(i-1)  \n",
    "                                    - '0');  \n",
    "  \n",
    "    int ans = 0; // initialize result \n",
    "  \n",
    "    /* consider all even length  \n",
    "    substrings one by one */\n",
    "    for (int len = 2; len <= n; len += 2) \n",
    "    { \n",
    "        for (int i = 0; i <= n-len; i++) \n",
    "        { \n",
    "            int j = i + len - 1; \n",
    "  \n",
    "            /* Sum of first and second half  \n",
    "            is same than update ans */\n",
    "            if (sum[i+len/2] - sum[i] == sum[i+len] \n",
    "                                   - sum[i+len/2]) \n",
    "                ans = Math.max(ans, len); \n",
    "        } \n",
    "    } \n",
    "    return ans; \n",
    "} \n",
    "  \n",
    "// Driver program to test above function \n",
    "public static void main(String[] args) \n",
    "{ \n",
    "    String str = \"123123\"; \n",
    "    System.out.println(\"Length of the substring is \" \n",
    "                    + findLength(str, str.length())); \n",
    "} \n",
    "main(args);"
   ]
  },
  {
   "cell_type": "code",
   "execution_count": 354,
   "metadata": {},
   "outputs": [],
   "source": [
    "/*\n",
    "[A O(n2) time and O(1) extra space solution]\n",
    "\n",
    "The idea is to consider all possible mid points (of even length substrings) \n",
    "and keep expanding on both sides to get and update optimal length as the sum of two sides become equal.\n",
    "\n",
    "Below is the implementation of the above idea.\n",
    "*/"
   ]
  },
  {
   "cell_type": "code",
   "execution_count": 355,
   "metadata": {},
   "outputs": [
    {
     "name": "stdout",
     "output_type": "stream",
     "text": [
      "Length of the substring is 6\n"
     ]
    }
   ],
   "source": [
    "static int findLength(String str, int n) { \n",
    "    int ans = 0; // Initialize result \n",
    "\n",
    "    // Consider all possible midpoints one by one \n",
    "    for (int i = 0; i <= n - 2; i++) { \n",
    "        /* For current midpoint 'i', keep expanding substring on \n",
    "       both sides, if sum of both sides becomes equal update \n",
    "       ans */\n",
    "        int l = i, r = i + 1; \n",
    "\n",
    "        /* initialize left and right sum */\n",
    "        int lsum = 0, rsum = 0; \n",
    "\n",
    "        /* move on both sides till indexes go out of bounds */\n",
    "        while (r < n && l >= 0) { \n",
    "            lsum += str.charAt(l) - '0'; \n",
    "            rsum += str.charAt(r) - '0'; \n",
    "            if (lsum == rsum) { \n",
    "                ans = Math.max(ans, r - l + 1); \n",
    "            } \n",
    "            l--; \n",
    "            r++; \n",
    "        } \n",
    "    } \n",
    "    return ans; \n",
    "} \n",
    "\n",
    "// Driver program to test above function \n",
    "static public void main(String[] args) { \n",
    "    String str = \"123123\"; \n",
    "    System.out.println(\"Length of the substring is \"\n",
    "            + findLength(str, str.length())); \n",
    "} \n",
    "main(args);"
   ]
  },
  {
   "cell_type": "markdown",
   "metadata": {},
   "source": [
    "## **232. Count possible ways to construct buildings**\n",
    "https://www.geeksforgeeks.org/count-possible-ways-to-construct-buildings/"
   ]
  },
  {
   "cell_type": "code",
   "execution_count": 356,
   "metadata": {},
   "outputs": [],
   "source": [
    "/*\n",
    "Given an input number of sections and each section has 2 plots on either sides of the road. \n",
    "Find all possible ways to construct buildings in the plots \n",
    "    such that there is a space between any 2 buildings.\n",
    "*/"
   ]
  },
  {
   "cell_type": "code",
   "execution_count": 357,
   "metadata": {},
   "outputs": [],
   "source": [
    "/*\n",
    "Example :\n",
    "\n",
    "N = 1\n",
    "Output = 4\n",
    "Place a building on one side.\n",
    "Place a building on other side\n",
    "Do not place any building.\n",
    "Place a building on both sides.\n",
    "\n",
    "N = 3 \n",
    "Output = 25\n",
    "3 sections, which means possible ways for one side are \n",
    "BSS, BSB, SSS, SBS, SSB where B represents a building \n",
    "and S represents an empty space\n",
    "Total possible ways are 25, because a way to place on \n",
    "one side can correspond to any of 5 ways on other side.\n",
    "\n",
    "N = 4 \n",
    "Output = 64\n",
    "*/"
   ]
  },
  {
   "cell_type": "code",
   "execution_count": 358,
   "metadata": {},
   "outputs": [],
   "source": [
    "/*\n",
    "We can simplify the problem to first calculate for one side only. \n",
    "If we know the result for one side, \n",
    "    we can always do square of the result and get result for two sides.\n",
    "\n",
    "A new building can be placed on a section \n",
    "    if section just before it has space. \n",
    "A space can be placed anywhere (it doesn’t matter whether the previous section has a building or not).\n",
    "*/"
   ]
  },
  {
   "cell_type": "code",
   "execution_count": 359,
   "metadata": {},
   "outputs": [],
   "source": [
    "/*\n",
    "Let countB(i) be count of possible ways with i sections\n",
    "              ending with a building.\n",
    "    countS(i) be count of possible ways with i sections\n",
    "              ending with a space.\n",
    "\n",
    "// A space can be added after a building or after a space.\n",
    "countS(N) = countB(N-1) + countS(N-1)\n",
    "\n",
    "// A building can only be added after a space.\n",
    "countB[N] = countS(N-1)\n",
    "\n",
    "// Result for one side is sum of the above two counts.\n",
    "result1(N) = countS(N) + countB(N)\n",
    "\n",
    "// Result for two sides is square of result1(N)\n",
    "result2(N) = result1(N) * result1(N)\n",
    "*/"
   ]
  },
  {
   "cell_type": "code",
   "execution_count": 360,
   "metadata": {},
   "outputs": [
    {
     "name": "stdout",
     "output_type": "stream",
     "text": [
      "Count of ways for 3 sections is 25\n"
     ]
    }
   ],
   "source": [
    "// Returns count of possible ways for N sections \n",
    "static int countWays(int N) \n",
    "{ \n",
    "    // Base case \n",
    "    if (N == 1) \n",
    "        return 4;  // 2 for one side and 4 for two sides \n",
    "\n",
    "    // countB is count of ways with a building at the end \n",
    "    // countS is count of ways with a space at the end \n",
    "    // prev_countB and prev_countS are previous values of \n",
    "    // countB and countS respectively. \n",
    "\n",
    "    // Initialize countB and countS for one side \n",
    "    int countB=1, countS=1, prev_countB, prev_countS; \n",
    "\n",
    "    // Use the above recursive formula for calculating \n",
    "    // countB and countS using previous values \n",
    "    for (int i=2; i<=N; i++) \n",
    "    { \n",
    "        prev_countB = countB; \n",
    "        prev_countS = countS; \n",
    "\n",
    "        countS = prev_countB + prev_countS; \n",
    "        countB = prev_countS; \n",
    "    } \n",
    "\n",
    "    // Result for one side is sum of ways ending with building \n",
    "    // and ending with space \n",
    "    int result = countS + countB; \n",
    "\n",
    "    // Result for 2 sides is square of result for one side \n",
    "    return (result*result); \n",
    "} \n",
    "\n",
    "\n",
    "public static void main(String args[]) \n",
    "{ \n",
    "    int N = 3; \n",
    "    System.out.println(\"Count of ways for \"+ N+\" sections is \"\n",
    "                                                    +countWays(N)); \n",
    "} \n",
    "main(args);"
   ]
  },
  {
   "cell_type": "code",
   "execution_count": 361,
   "metadata": {},
   "outputs": [],
   "source": [
    "/*\n",
    "Time complexity: O(N)\n",
    "Auxiliary Space: O(1)\n",
    "\n",
    "Optimized Solution:\n",
    "Note that the above solution can be further optimized. \n",
    "If we take closer look at the results, for different values, we can notice that the results for two sides are squares of Fibonacci Numbers.\n",
    "\n",
    "N = 1, result = 4 [result for one side = 2]\n",
    "N = 2, result = 9 [result for one side = 3]\n",
    "N = 3, result = 25 [result for one side = 5]\n",
    "N = 4, result = 64 [result for one side = 8]\n",
    "N = 5, result = 169 [result for one side = 13]\n",
    "…………………….\n",
    "…………………….\n",
    "\n",
    "In general, we can say\n",
    "\n",
    "  result(N) = fib(N+2)^2\n",
    "  \n",
    "  fib(N) is a function that returns N'th Fibonacci Number. \n",
    "   \n",
    "Therefore, we can use O(LogN) implementation of Fibonacci Numbers to find number of ways in O(logN) time.\n",
    "*/"
   ]
  },
  {
   "cell_type": "markdown",
   "metadata": {},
   "source": [
    "## **233. Bitmasking and Dynamic Programming | Set 1 (Count ways to assign unique cap to every person)**\n",
    "https://www.geeksforgeeks.org/bitmasking-and-dynamic-programming-set-1-count-ways-to-assign-unique-cap-to-every-person/"
   ]
  },
  {
   "cell_type": "code",
   "execution_count": 362,
   "metadata": {},
   "outputs": [],
   "source": [
    "/*\n",
    "There are 100 different types of caps each having a unique id from 1 to 100. \n",
    "Also, \n",
    "there are ‘n’ persons each having a collection of a variable number of caps. \n",
    "One day all of these persons decide to go in a party wearing a cap \n",
    "    but to look unique they decided that none of them will wear the same type of cap. \n",
    "So, \n",
    "    count the total number of arrangements or ways such that none of them is wearing the same type of cap.\n",
    "\n",
    "Constraints: 1 <= n <= 10\n",
    "*/"
   ]
  },
  {
   "cell_type": "code",
   "execution_count": 363,
   "metadata": {},
   "outputs": [],
   "source": [
    "/*\n",
    "Example:\n",
    "\n",
    "The first line contains the value of n, next n lines contain collections \n",
    "of all the n persons.\n",
    "Input: \n",
    "3\n",
    "5 100 1     // Collection of the first person.\n",
    "2           // Collection of the second person.\n",
    "5 100       // Collection of the third person.\n",
    "\n",
    "Output:\n",
    "4\n",
    "Explanation: All valid possible ways are (5, 2, 100),  (100, 2, 5),\n",
    "            (1, 2, 5) and  (1, 2, 100)\n",
    "            \n",
    "Since, number of ways could be large, so output modulo 1000000007\n",
    "*/"
   ]
  },
  {
   "cell_type": "code",
   "execution_count": 364,
   "metadata": {},
   "outputs": [],
   "source": [
    "/*\n",
    "A Simple Solution is to try all possible combinations. \n",
    "Start by picking the first element from the first set, \n",
    "    marking it as visited and recur for remaining sets. \n",
    "It is basically a Backtracking based solution.\n",
    "\n",
    "A better solution is to use Bitmasking and DP. \n",
    "Let us first introduce Bitmasking.\n",
    "*/"
   ]
  },
  {
   "cell_type": "code",
   "execution_count": 365,
   "metadata": {},
   "outputs": [],
   "source": [
    "/*\n",
    "What is Bitmasking?\n",
    "\n",
    "Suppose we have a collection of elements which are numbered from 1 to N. \n",
    "If we want to represent a subset of this set \n",
    "    then it can be encoded by a sequence of N bits (we usually call this sequence a “mask”). \n",
    "In our chosen subset the i-th element belongs to it \n",
    "    if and only if the i-th bit of the mask is set \n",
    "        i.e., it equals to 1. \n",
    "For example, \n",
    "    the mask 10000101 means that the subset of the set [1… 8] consists of elements 1, 3 and 8. \n",
    "We know that for a set of N elements there are total 2N subsets \n",
    "    thus 2N masks are possible, one representing each subset. \n",
    "Each mask is, in fact, an integer number written in binary notation.\n",
    "\n",
    "Our main methodology is to assign a value to each mask (and, therefore, to each subset) and \n",
    "thus calculate the values for new masks using values of the already computed masks. \n",
    "Usually our main target is to calculate value/solution for the complete set i.e., for mask 11111111. \n",
    "Normally, to find the value for a subset X we remove an element in every possible way \n",
    "and use values for obtained subsets X’1, X’2… ,X’k to compute the value/solution for X. \n",
    "\n",
    "This means that the values for X’i must have been computed already, \n",
    "    so we need to establish an ordering in which masks will be considered. \n",
    "It’s easy to see that the natural ordering will do: \n",
    "    go over masks in increasing order of corresponding numbers. \n",
    "Also, \n",
    "    We sometimes, start with the empty subset X and we add elements in every possible way \n",
    "    and use the values of obtained subsets X’1, X’2… ,X’k to compute the value/solution for X.\n",
    "*/"
   ]
  },
  {
   "cell_type": "code",
   "execution_count": 366,
   "metadata": {},
   "outputs": [],
   "source": [
    "/*\n",
    "We mostly use the following notations/operations on masks:\n",
    "bit(i, mask) – the i-th bit of mask\n",
    "count(mask) – the number of non-zero bits in the mask\n",
    "first(mask) – the number of the lowest non-zero bit in the mask\n",
    "set(i, mask) – set the ith bit in the mask\n",
    "check(i, mask) – check the ith bit in the mask\n",
    "*/"
   ]
  },
  {
   "cell_type": "code",
   "execution_count": 367,
   "metadata": {},
   "outputs": [],
   "source": [
    "/*\n",
    "How is this problem solved using Bitmasking + DP?\n",
    "\n",
    "The idea is to use the fact that there are upto 10 persons. \n",
    "So we can use an integer variable as a bitmask to store which person is wearing a cap and which is not.\n",
    "\n",
    "Let i be the current cap number (caps from 1 to i-1 are already processed). \n",
    "Let integer variable mask indicates that the persons wearing and not wearing caps.  \n",
    "If i'th bit is set in mask, \n",
    "    then i'th person is wearing a cap, \n",
    "else \n",
    "    not.\n",
    "\n",
    "// consider the case when ith cap is not included in the arrangement\n",
    "    \n",
    "countWays(mask, i) = countWays(mask, i+1) +             \n",
    "                    \n",
    "                    // when ith cap is included in the arrangement\n",
    "                    // so, assign this cap to all possible persons \n",
    "                    // one by one and recur for remaining persons.\n",
    "                    \n",
    "                    ∑ countWays(mask | (1 << j), i+1)\n",
    "                       for every person j that can wear cap i \n",
    " \n",
    "Note that the expression \"mask | (1 << j)\" sets j'th bit in mask.\n",
    "And a person can wear cap i if it is there in the person's cap list provided as input.\n",
    "\n",
    "If we draw the complete recursion tree, \n",
    "    we can observe that many subproblems are solved again and again. \n",
    "    \n",
    "So we use Dynamic Programming. \n",
    "\n",
    "A table dp[][] is used such that in every entry dp[i][j], i is mask and j is cap number.\n",
    "\n",
    "Since we want to access all persons that can wear a given cap, \n",
    "    we use an array of vectors, capList[101]. \n",
    "\n",
    "A value capList[i] indicates the list of persons that can wear cap i.\n",
    "\n",
    "Below is the implementation of above idea.\n",
    "*/"
   ]
  },
  {
   "cell_type": "code",
   "execution_count": 368,
   "metadata": {},
   "outputs": [],
   "source": [
    "static final int MOD = 1000000007; \n",
    "\n",
    "// capList[i]'th vector contains the list of persons having a cap with id i \n",
    "// id is between 1 to 100 so we declared an array of 101 vectors as indexing \n",
    "// starts from 0. \n",
    "static Vector<Integer> capList[] = new Vector[101]; \n",
    "\n",
    "\n",
    "// dp[2^10][101] .. in dp[i][j], i denotes the mask i.e., it tells that \n",
    "// how many and which persons are wearing cap. j denotes the first j caps \n",
    "// used. So, dp[i][j] tells the number ways we assign j caps to mask i \n",
    "// such that none of them wears the same cap \n",
    "static int dp[][] = new int[1025][101]; \n",
    "\n",
    "// This is used for base case, it has all the N bits set \n",
    "// so, it tells whether all N persons are wearing a cap. \n",
    "static int allmask; "
   ]
  },
  {
   "cell_type": "code",
   "execution_count": 369,
   "metadata": {},
   "outputs": [],
   "source": [
    "// Mask is the set of persons, i is cap-id (OR the  \n",
    "// number of caps processed starting from first cap). \n",
    "static long countWaysUtil(int mask, int i) \n",
    "{ \n",
    "    // If all persons are wearing a cap so we \n",
    "    // are done and this is one way so return 1 \n",
    "    if (mask == allmask) return 1; \n",
    "\n",
    "    // If not everyone is wearing a cap and also there are no more \n",
    "    // caps left to process, so there is no way, thus return 0; \n",
    "    if (i > 100) return 0; \n",
    "\n",
    "    // If we already have solved this subproblem, return the answer. \n",
    "    if (dp[mask][i] != -1) return dp[mask][i]; \n",
    "\n",
    "    // Ways, when we don't include this cap in our arrangement \n",
    "    // or solution set. \n",
    "    long ways = countWaysUtil(mask, i+1); \n",
    "\n",
    "    // size is the total number of persons having cap with id i. \n",
    "    int size = capList[i].size(); \n",
    "\n",
    "    // So, assign one by one ith cap to all the possible persons \n",
    "    // and recur for remaining caps. \n",
    "    for (int j = 0; j < size; j++) \n",
    "    { \n",
    "        // if person capList[i][j] is already wearing a cap so continue as \n",
    "        // we cannot assign him this cap \n",
    "        if ((mask & (1 << capList[i].get(j))) != 0) continue; \n",
    "\n",
    "        // Else assign him this cap and recur for remaining caps with \n",
    "        // new updated mask vector \n",
    "        else ways += countWaysUtil(mask | (1 << capList[i].get(j)), i+1); \n",
    "        ways %= MOD; \n",
    "    } \n",
    "\n",
    "    // Save the result and return it. \n",
    "    return dp[mask][i] = (int) ways; \n",
    "} "
   ]
  },
  {
   "cell_type": "code",
   "execution_count": 370,
   "metadata": {},
   "outputs": [],
   "source": [
    "// Reads n lines from standard input for current test case \n",
    "static void countWays(int n) throws Exception \n",
    "{ \n",
    "    //----------- READ INPUT -------------------------- \n",
    "    String str =\"\"; \n",
    "    String split[]; \n",
    "    int x; \n",
    "\n",
    "    for (int i=0; i<n; i++) \n",
    "    { \n",
    "        if(i ==0)\n",
    "            str = \"5 100 1\";\n",
    "        if(i == 1)\n",
    "            str = \"2\";\n",
    "        if(i == 2)\n",
    "            str = \"5 100\";\n",
    "        //str = br.readLine(); \n",
    "        split = str.split(\" \"); \n",
    "\n",
    "        // while there are words in the split[] \n",
    "        for (int j = 0; j < split.length; j++) { \n",
    "             // add the ith person in the list of cap if with id x \n",
    "            x = Integer.parseInt(split[j]); \n",
    "            capList[x].add(i); \n",
    "        } \n",
    "\n",
    "    } \n",
    "    //---------------------------------------------------- \n",
    "\n",
    "    // All mask is used to check of all persons \n",
    "    // are included or not, set all n bits as 1 \n",
    "    allmask = (1 << n) - 1; \n",
    "\n",
    "    // Initialize all entries in dp as -1 \n",
    "    for (int[] is : dp) { \n",
    "        for (int i = 0; i < is.length; i++) { \n",
    "            is[i] = -1; \n",
    "        } \n",
    "    } \n",
    "\n",
    "    // Call recursive function count ways \n",
    "    System.out.println(countWaysUtil(0, 1)); \n",
    "} "
   ]
  },
  {
   "cell_type": "code",
   "execution_count": 371,
   "metadata": {},
   "outputs": [
    {
     "name": "stdout",
     "output_type": "stream",
     "text": [
      "4\n"
     ]
    }
   ],
   "source": [
    "// Driver method \n",
    "public static void main(String args[]) throws Exception \n",
    "{ \n",
    "    int n = 3;   // number of persons in every test case \n",
    "\n",
    "    // initializing vector array \n",
    "    for (int i = 0; i < capList.length; i++) \n",
    "        capList[i] = new Vector<>(); \n",
    "\n",
    "    countWays(n); \n",
    "} \n",
    "main(args);"
   ]
  },
  {
   "cell_type": "markdown",
   "metadata": {},
   "source": [
    "## **234. Longest Repeating Subsequence**\n",
    "https://www.geeksforgeeks.org/longest-repeating-subsequence/"
   ]
  },
  {
   "cell_type": "code",
   "execution_count": 372,
   "metadata": {},
   "outputs": [],
   "source": [
    "/*\n",
    "Given a string, \n",
    "    find length of the longest repeating subseequence \n",
    "    such that the two subsequence don’t have same string character at same position, \n",
    "    i.e., any i’th character in the two subsequences shouldn’t have the same index in the original string.\n",
    "*/"
   ]
  },
  {
   "cell_type": "markdown",
   "metadata": {},
   "source": [
    "<img src = \"https://www.geeksforgeeks.org/wp-content/uploads/longest-repeating-subsequence.jpg\"/>"
   ]
  },
  {
   "cell_type": "code",
   "execution_count": 373,
   "metadata": {},
   "outputs": [],
   "source": [
    "/*\n",
    "Examples:\n",
    "\n",
    "Input: str = \"abc\"\n",
    "Output: 0\n",
    "There is no repeating subsequence\n",
    "\n",
    "Input: str = \"aab\"\n",
    "Output: 1\n",
    "The two subssequence are 'a'(first) and 'a'(second). \n",
    "Note that 'b' cannot be considered as part of subsequence \n",
    "as it would be at same index in both.\n",
    "\n",
    "Input: str = \"aabb\"\n",
    "Output: 2\n",
    "\n",
    "Input: str = \"axxxy\"\n",
    "Output: 2\n",
    "*/"
   ]
  },
  {
   "cell_type": "code",
   "execution_count": 374,
   "metadata": {},
   "outputs": [],
   "source": [
    "/*\n",
    "This problem is just the modification of Longest Common Subsequence problem. \n",
    "The idea is to \n",
    "    find the LCS(str, str) where str is the input string with the restriction that when both the characters are same, \n",
    "    they shouldn’t be on the same index in the two strings.\n",
    "*/"
   ]
  },
  {
   "cell_type": "code",
   "execution_count": 375,
   "metadata": {},
   "outputs": [
    {
     "name": "stdout",
     "output_type": "stream",
     "text": [
      "The length of the largest subsequence that repeats itself is : 2\n"
     ]
    }
   ],
   "source": [
    "// Function to find the longest repeating subsequence \n",
    "static int findLongestRepeatingSubSeq(String str) \n",
    "{ \n",
    "    int n = str.length(); \n",
    "\n",
    "    // Create and initialize DP table \n",
    "    int[][] dp = new int[n+1][n+1]; \n",
    "\n",
    "    // Fill dp table (similar to LCS loops) \n",
    "    for (int i=1; i<=n; i++) \n",
    "    { \n",
    "        for (int j=1; j<=n; j++) \n",
    "        { \n",
    "            // If characters match and indexes are not same \n",
    "            if (str.charAt(i-1) == str.charAt(j-1) && i!=j) \n",
    "                dp[i][j] =  1 + dp[i-1][j-1];           \n",
    "\n",
    "            // If characters do not match \n",
    "            else\n",
    "                dp[i][j] = Math.max(dp[i][j-1], dp[i-1][j]); \n",
    "        } \n",
    "    } \n",
    "    return dp[n][n]; \n",
    "} \n",
    "\n",
    "// driver program to check above function \n",
    "public static void main (String[] args)  \n",
    "{ \n",
    "    String str = \"aabb\"; \n",
    "    System.out.println(\"The length of the largest subsequence that\"\n",
    "        +\" repeats itself is : \"+findLongestRepeatingSubSeq(str)); \n",
    "} \n",
    "main(args);"
   ]
  },
  {
   "cell_type": "code",
   "execution_count": 376,
   "metadata": {},
   "outputs": [],
   "source": [
    "/*\n",
    "Another approach: (Using recursion)\n",
    "*/"
   ]
  },
  {
   "cell_type": "code",
   "execution_count": 377,
   "metadata": {},
   "outputs": [
    {
     "name": "stdout",
     "output_type": "stream",
     "text": [
      "The length of the largest subsequence that repeats itself is : 2\n"
     ]
    }
   ],
   "source": [
    "static int dp[][] = new int[1000][1000]; \n",
    "\n",
    "// This function mainly returns LCS(str, str)  \n",
    "// with a condition that same characters at  \n",
    "// same index are not considered.  \n",
    "static int findLongestRepeatingSubSeq(char X[], int m, int n) { \n",
    "\n",
    "    if (dp[m][n] != -1) { \n",
    "        return dp[m][n]; \n",
    "    } \n",
    "\n",
    "    // return if we have reached the end of either string \n",
    "    if (m == 0 || n == 0) { \n",
    "        return dp[m][n] = 0; \n",
    "    } \n",
    "\n",
    "    // if characters at index m and n matches  \n",
    "    // and index is different \n",
    "    if (X[m - 1] == X[n - 1] && m != n) { \n",
    "        return dp[m][n] = findLongestRepeatingSubSeq(X, \n",
    "                m - 1, n - 1) + 1; \n",
    "    } \n",
    "\n",
    "    // else if characters at index m and n don't match \n",
    "    return dp[m][n] = Math.max(findLongestRepeatingSubSeq(X, m, n - 1), \n",
    "            findLongestRepeatingSubSeq(X, m - 1, n)); \n",
    "} \n",
    "\n",
    "// Longest Repeated Subsequence Problem \n",
    "static public void main(String[] args) { \n",
    "    String str = \"aabb\"; \n",
    "    int m = str.length(); \n",
    "    for (int[] row : dp) { \n",
    "        Arrays.fill(row, -1); \n",
    "    } \n",
    "    System.out.println(\"The length of the largest subsequence that\"\n",
    "            + \" repeats itself is : \"\n",
    "            + findLongestRepeatingSubSeq(str.toCharArray(), m, m)); \n",
    "\n",
    "} \n",
    "main(args);"
   ]
  },
  {
   "cell_type": "markdown",
   "metadata": {},
   "source": [
    "## **235. Longest Common Increasing Subsequence (LCS + LIS)**\n",
    "https://www.geeksforgeeks.org/longest-common-increasing-subsequence-lcs-lis/"
   ]
  },
  {
   "cell_type": "code",
   "execution_count": 378,
   "metadata": {},
   "outputs": [],
   "source": [
    "/*\n",
    "Given two arrays, \n",
    "    find length of the longest common increasing subsequence [LCIS] \n",
    "    and print one of such sequences (multiple sequences may exist)\n",
    "\n",
    "Suppose we consider two arrays –\n",
    "arr1[] = {3, 4, 9, 1} and\n",
    "arr2[] = {5, 3, 8, 9, 10, 2, 1}\n",
    "\n",
    "Our answer would be {3, 9} as this is the longest common subsequence which is increasing also.\n",
    "*/"
   ]
  },
  {
   "cell_type": "code",
   "execution_count": 379,
   "metadata": {},
   "outputs": [],
   "source": [
    "/*\n",
    "The idea is to use dynamic programming here as well. \n",
    "We store the longest common increasing sub-sequence ending at each index of arr2[]. \n",
    "We create an auxiliary array table[] such that table[j] stores length of LCIS ending with arr2[j]. \n",
    "At the end, \n",
    "    we return maximum value from this table. \n",
    "For filling values in this table, \n",
    "    we traverse all elements of arr1[] \n",
    "    and for every element arr1[i], we traverse all elements of arr2[]. \n",
    "    If we find a match, \n",
    "        we update table[j] with length of current LCIS. \n",
    "    To maintain current LCIS, \n",
    "        we keep checking valid table[j] values.\n",
    "\n",
    "Below is the program to find length of LCIS.\n",
    "*/"
   ]
  },
  {
   "cell_type": "code",
   "execution_count": 380,
   "metadata": {},
   "outputs": [],
   "source": [
    "// Returns the length and the LCIS of two \n",
    "// arrays arr1[0..n-1] and arr2[0..m-1] \n",
    "static int LCIS(int arr1[], int n, int arr2[], \n",
    "                                     int m) \n",
    "{ \n",
    "    // table[j] is going to store length of  \n",
    "    // LCIS ending with arr2[j]. We initialize \n",
    "    // it as 0, \n",
    "    int table[] = new int[m]; \n",
    "    for (int j = 0; j < m; j++) \n",
    "        table[j] = 0; \n",
    "\n",
    "    // Traverse all elements of arr1[] \n",
    "    for (int i = 0; i < n; i++) \n",
    "    { \n",
    "        // Initialize current length of LCIS \n",
    "        int current = 0; \n",
    "\n",
    "        // For each element of arr1[], trvarse  \n",
    "        // all elements of arr2[]. \n",
    "        for (int j = 0; j < m; j++) \n",
    "        { \n",
    "            // If both the array have same  \n",
    "            // elements. Note that we don't \n",
    "            // break the loop here. \n",
    "            if (arr1[i] == arr2[j]) \n",
    "                if (current + 1 > table[j]) \n",
    "                    table[j] = current + 1; \n",
    "\n",
    "            /* Now seek for previous smaller \n",
    "            common element for current  \n",
    "            element of arr1 */\n",
    "            if (arr1[i] > arr2[j]) \n",
    "                if (table[j] > current) \n",
    "                    current = table[j]; \n",
    "        } \n",
    "    } \n",
    "\n",
    "    // The maximum value in table[] is out \n",
    "    // result \n",
    "    int result = 0; \n",
    "    for (int i=0; i<m; i++) \n",
    "        if (table[i] > result) \n",
    "        result = table[i]; \n",
    "\n",
    "    return result; \n",
    "}"
   ]
  },
  {
   "cell_type": "code",
   "execution_count": 381,
   "metadata": {},
   "outputs": [
    {
     "name": "stdout",
     "output_type": "stream",
     "text": [
      "Length of LCIS is 2\n"
     ]
    }
   ],
   "source": [
    "/* Driver program to test above function */\n",
    "public static void main(String[] args) \n",
    "{ \n",
    "    int arr1[] = {3, 4, 9, 1}; \n",
    "    int arr2[] = {5, 3, 8, 9, 10, 2, 1}; \n",
    "\n",
    "    int n = arr1.length; \n",
    "    int m = arr2.length; \n",
    "\n",
    "    System.out.println(\"Length of LCIS is \" + \n",
    "                   LCIS(arr1, n, arr2, m)); \n",
    "} \n",
    "main(args);"
   ]
  },
  {
   "cell_type": "markdown",
   "metadata": {},
   "source": [
    "## **236. Find if string is K-Palindrome or not | Set 1**\n",
    "https://www.geeksforgeeks.org/find-if-string-is-k-palindrome-or-not/"
   ]
  },
  {
   "cell_type": "code",
   "execution_count": 382,
   "metadata": {},
   "outputs": [],
   "source": [
    "/*\n",
    "Given a string, \n",
    "find out if the string is K-Palindrome or not. \n",
    "A k-palindrome string transforms into a palindrome on removing at most k characters from it.\n",
    "*/"
   ]
  },
  {
   "cell_type": "markdown",
   "metadata": {},
   "source": [
    "**Related Link :**  ***https://www.geeksforgeeks.org/find-if-string-is-k-palindrome-or-not-set-2/***"
   ]
  },
  {
   "cell_type": "code",
   "execution_count": 383,
   "metadata": {},
   "outputs": [],
   "source": [
    "/*\n",
    "Examples :\n",
    "\n",
    "Input : String - abcdecba, k = 1\n",
    "Output : Yes\n",
    "String can become palindrome by remo-\n",
    "-ving 1 character i.e. either d or e)\n",
    "\n",
    "\n",
    "Input  : String - abcdeca, K = 2\n",
    "Output : Yes\n",
    "Can become palindrome by removing\n",
    "2 characters b and e.\n",
    "\n",
    "Input : String - acdcb, K = 1\n",
    "Output : No\n",
    "String can not become palindrome by\n",
    "removing only one character.\n",
    "*/"
   ]
  },
  {
   "cell_type": "code",
   "execution_count": 384,
   "metadata": {},
   "outputs": [],
   "source": [
    "/*\n",
    "If we carefully analyze the problem, \n",
    "    the task is to transform the given string into its reverse by removing at most K characters from it. \n",
    "    The problem is basically a variation of Edit Distance. \n",
    "\n",
    "We can modify the Edit Distance problem to consider given string \n",
    "and its reverse as input \n",
    "and only operation allowed is deletion. \n",
    "\n",
    "Since given string is compared with its reverse, \n",
    "we will do at most N deletions from first string and N deletions from second string to make them equal. \n",
    "\n",
    "Therefore, \n",
    "    for a string to be k-palindrome, 2*N <= 2*K should hold true.\n",
    "\n",
    "Below are the detailed steps of algorithm –\n",
    "\n",
    "Process all characters one by one staring from either from left or right sides of both strings. \n",
    "Let us traverse from the right corner, \n",
    "\n",
    "there are two possibilities for every pair of character being traversed.\n",
    "\n",
    "1. If last characters of two strings are same, \n",
    "        we ignore last characters and get count for remaining strings. \n",
    "        So we recur for lengths m-1 and n-1 \n",
    "        where \n",
    "            m is length of str1 and n is length of str2.\n",
    "2. If last characters are not same, \n",
    "        we consider remove operation on last character of first string and last character of second string, \n",
    "        recursively compute minimum cost for the operations and take minimum of two values.\n",
    "        > Remove last char from str1: \n",
    "                Recur for m-1 and n.\n",
    "        > Remove last char from str2: \n",
    "                Recur for m and n-1.\n",
    "\n",
    "Below is Naive recursive implementation of above approach.\n",
    "*/"
   ]
  },
  {
   "cell_type": "code",
   "execution_count": 385,
   "metadata": {},
   "outputs": [
    {
     "name": "stdout",
     "output_type": "stream",
     "text": [
      "Yes\n"
     ]
    }
   ],
   "source": [
    "// find if given string is  \n",
    "// K-Palindrome or not  \n",
    "static int isKPalRec(String str1, String str2, int m, int n)  \n",
    "{ \n",
    "    // If first string is empty,  \n",
    "    // the only option is to remove  \n",
    "    // all characters of second string  \n",
    "    if (m == 0)  \n",
    "    { \n",
    "        return n; \n",
    "    } \n",
    "\n",
    "    // If second string is empty, \n",
    "    // the only option is to remove \n",
    "    // all characters of first string  \n",
    "    if (n == 0)  \n",
    "    { \n",
    "        return m; \n",
    "    } \n",
    "\n",
    "    // If last characters of two  \n",
    "    // strings are same, ignore  \n",
    "    // last characters and get  \n",
    "    // count for remaining strings.  \n",
    "    if (str1.charAt(m - 1) ==  str2.charAt(n - 1)) \n",
    "    { \n",
    "        return isKPalRec(str1, str2,  m - 1, n - 1); \n",
    "    } \n",
    "\n",
    "    // If last characters are not same,  \n",
    "    // 1. Remove last char from str1 and \n",
    "    // recur for m-1 and n  \n",
    "    // 2. Remove last char from str2 and \n",
    "    // recur for m and n-1  \n",
    "    // Take minimum of above two operations  \n",
    "    return 1 + Math.min(isKPalRec(str1, str2, m - 1, n), // Remove from str1  \n",
    "            isKPalRec(str1, str2, m, n - 1)); // Remove from str2  \n",
    "} \n",
    "\n",
    "// Returns true if str is k palindrome.  \n",
    "static boolean isKPal(String str, int k)  \n",
    "{ \n",
    "    String revStr = str; \n",
    "    revStr = reverse(revStr); \n",
    "    int len = str.length(); \n",
    "\n",
    "    return (isKPalRec(str, revStr, len, len) <= k * 2); \n",
    "} \n",
    "\n",
    "static String reverse(String input)  \n",
    "{ \n",
    "    char[] temparray = input.toCharArray(); \n",
    "    int left, right = 0; \n",
    "    right = temparray.length - 1; \n",
    "\n",
    "    for (left = 0; left < right; left++, right--) \n",
    "    { \n",
    "        // Swap values of left and right  \n",
    "        char temp = temparray[left]; \n",
    "        temparray[left] = temparray[right]; \n",
    "        temparray[right] = temp; \n",
    "    } \n",
    "    return String.valueOf(temparray); \n",
    "} \n",
    "\n",
    "// Driver code \n",
    "public static void main(String[] args) \n",
    "{ \n",
    "    String str = \"acdcb\"; \n",
    "    int k = 2; \n",
    "    if (isKPal(str, k))  \n",
    "    { \n",
    "        System.out.println(\"Yes\"); \n",
    "    } \n",
    "    else \n",
    "    { \n",
    "        System.out.println(\"No\"); \n",
    "    } \n",
    "} \n",
    "main(args);"
   ]
  },
  {
   "cell_type": "code",
   "execution_count": 386,
   "metadata": {},
   "outputs": [],
   "source": [
    "/*\n",
    "The time complexity of above solution is exponential. \n",
    "In worst case, we may end up doing O(2^n) operations. \n",
    "The worst case happens string contains all distinct characters.\n",
    "\n",
    "Below is Bottom-up (DP) implementation of above recursive approach :\n",
    "*/"
   ]
  },
  {
   "cell_type": "code",
   "execution_count": 387,
   "metadata": {},
   "outputs": [],
   "source": [
    "// find if given string is \n",
    "// K-Palindrome or not \n",
    "static int isKPalDP(String str1, String str2, int m, int n)  \n",
    "{ \n",
    "\n",
    "    // Create a table to store  \n",
    "    // results of subproblems \n",
    "    int dp[][] = new int[m + 1][n + 1]; \n",
    "\n",
    "    // Fill dp[][] in bottom up manner \n",
    "    for (int i = 0; i <= m; i++)  \n",
    "    { \n",
    "        for (int j = 0; j <= n; j++)  \n",
    "        { \n",
    "\n",
    "            // If first string is empty, \n",
    "            // only option is to remove all \n",
    "            // characters of second string \n",
    "            if (i == 0)  \n",
    "            { \n",
    "                // Min. operations = j \n",
    "                dp[i][j] = j;  \n",
    "            }  \n",
    "\n",
    "            // If second string is empty,  \n",
    "            // only option is to remove all \n",
    "            // characters of first string \n",
    "            else if (j == 0)  \n",
    "            { \n",
    "                // Min. operations = i \n",
    "                dp[i][j] = i;  \n",
    "            }  \n",
    "\n",
    "            // If last characters are same,  \n",
    "            // ignore last character and \n",
    "            // recur for remaining string \n",
    "            else if (str1.charAt(i - 1) == \n",
    "                    str2.charAt(j - 1))  \n",
    "            { \n",
    "                dp[i][j] = dp[i - 1][j - 1]; \n",
    "            }  \n",
    "\n",
    "            // If last character are different, \n",
    "            //  remove it and find minimum \n",
    "            else \n",
    "            { \n",
    "                // Remove from str1 \n",
    "                // Remove from str2 \n",
    "                dp[i][j] = 1 + Math.min(dp[i - 1][j],  \n",
    "                        dp[i][j - 1]);  \n",
    "            } \n",
    "        } \n",
    "    } \n",
    "    return dp[m][n]; \n",
    "} "
   ]
  },
  {
   "cell_type": "code",
   "execution_count": 388,
   "metadata": {},
   "outputs": [],
   "source": [
    "// Returns true if str is k palindrome. \n",
    "static boolean isKPal(String str, int k) \n",
    "{ \n",
    "    String revStr = str; \n",
    "    revStr = reverse(revStr); \n",
    "    int len = str.length(); \n",
    "\n",
    "    return (isKPalDP(str, revStr, len, len) <= k * 2); \n",
    "} \n",
    "\n",
    "static String reverse(String str) \n",
    "{ \n",
    "    StringBuilder sb = new StringBuilder(str); \n",
    "    sb.reverse(); \n",
    "    return sb.toString(); \n",
    "} "
   ]
  },
  {
   "cell_type": "code",
   "execution_count": 389,
   "metadata": {},
   "outputs": [
    {
     "name": "stdout",
     "output_type": "stream",
     "text": [
      "Yes\n"
     ]
    }
   ],
   "source": [
    "// Driver program \n",
    "public static void main(String[] args)  \n",
    "{ \n",
    "    String str = \"acdcb\"; \n",
    "    int k = 2; \n",
    "    if (isKPal(str, k))  \n",
    "    { \n",
    "        System.out.println(\"Yes\"); \n",
    "    }  \n",
    "    else \n",
    "    { \n",
    "        System.out.println(\"No\"); \n",
    "    } \n",
    "} \n",
    "main(args);"
   ]
  },
  {
   "cell_type": "code",
   "execution_count": 390,
   "metadata": {},
   "outputs": [],
   "source": [
    "/*\n",
    "Time complexity of above solution is O(m x n). \n",
    "We can improve time complexity by making use of the fact that only k deletions are allowed. \n",
    "Auxiliary space used is O(m x n).\n",
    "*/"
   ]
  },
  {
   "cell_type": "markdown",
   "metadata": {},
   "source": [
    "## **237. Minimum Sum Path In 3-D Array**\n",
    "https://www.geeksforgeeks.org/minimum-sum-path-3-d-array/"
   ]
  },
  {
   "cell_type": "code",
   "execution_count": 391,
   "metadata": {},
   "outputs": [],
   "source": [
    "/*\n",
    "Given a 3-D array arr[l][m][n], \n",
    "the task is to find the minimum path sum from the first cell of array to the last cell of array. \n",
    "We can only traverse to adjacent element, \n",
    "i.e., \n",
    "    from a given cell (i, j, k), cells (i+1, j, k), (i, j+1, k) and (i, j, k+1) can be traversed, \n",
    "    diagonal traversing is not allowed, \n",
    "We may assume that all costs are positive integers.\n",
    "*/"
   ]
  },
  {
   "cell_type": "code",
   "execution_count": 392,
   "metadata": {},
   "outputs": [],
   "source": [
    "/*\n",
    "Examples:\n",
    "\n",
    "Input : arr[][][]= { {{1, 2}, {3, 4}},\n",
    "                     {{4, 8}, {5, 2}} };\n",
    "Output : 9\n",
    "Explanation : arr[0][0][0] + arr[0][0][1] + \n",
    "              arr[0][1][1] + arr[1][1][1]\n",
    "\n",
    "Input : { { {1, 2}, {4, 3}},\n",
    "          { {3, 4}, {2, 1}} };\n",
    "Output : 7\n",
    "Explanation : arr[0][0][0] + arr[0][0][1] + \n",
    "              arr[0][1][1] + arr[1][1][1]\n",
    "*/"
   ]
  },
  {
   "cell_type": "code",
   "execution_count": 393,
   "metadata": {},
   "outputs": [],
   "source": [
    "/*\n",
    "Let us consider a 3-D array arr[2][2][2] represented by a cuboid having values as:\n",
    "\n",
    "arr[][][] = {{{1, 2}, {3, 4}},\n",
    "            { {4, 8}, {5, 2}}};\n",
    "Result = 9 is calculated as:\n",
    "*/"
   ]
  },
  {
   "cell_type": "markdown",
   "metadata": {},
   "source": [
    "<img src = \"https://media.geeksforgeeks.org/wp-content/uploads/SumPathIn3-D.png\"/>"
   ]
  },
  {
   "cell_type": "markdown",
   "metadata": {},
   "source": [
    "***https://www.geeksforgeeks.org/dynamic-programming-set-6-min-cost-path/***"
   ]
  },
  {
   "cell_type": "code",
   "execution_count": 394,
   "metadata": {},
   "outputs": [],
   "source": [
    "/*\n",
    "This problem is similar to Min cost path (above link). and can be solved using Dynamic Programming/\n",
    "\n",
    "\n",
    "// Array for storing result\n",
    "int tSum[l][m][n];\n",
    "\n",
    "tSum[0][0][0] = arr[0][0][0];\n",
    "\n",
    "// Initialize first row of tSum array\n",
    "for (i = 1; i < l; i++)\n",
    "  tSum[i][0][0] = tSum[i-1][0][0] + arr[i][0][0];\n",
    "\n",
    "// Initialize first column of tSum array\n",
    "for (j = 1; j < m; j++)\n",
    "  tSum[0][j][0] = tSum[0][j-1][0] + arr[0][j][0];\n",
    "\n",
    "// Initialize first width of tSum array\n",
    "for (k = 1; k < n; k++)\n",
    "  tSum[0][0][k] = tSum[0][0][k-1] + arr[0][0][k];\n",
    "\n",
    "// Initialize first row- First column of tSum array\n",
    "for (i = 1; i < l; i++)\n",
    "  for (j = 1; j < m; j++)\n",
    "     tSum[i][j][0] = min(tSum[i-1][j][0],\n",
    "                         tSum[i][j-1][0],\n",
    "                         INT_MAX)\n",
    "                        + arr[i][j][0];\n",
    "\n",
    "\n",
    "// Initialize first row- First width of tSum array\n",
    "for (i = 1; i < l; i++)\n",
    "  for (k = 1; k < n; k++)\n",
    "    tSum[i][0][k] = min(tSum[i-1][0][k],\n",
    "                        tSum[i][0][k-1],\n",
    "                        INT_MAX)\n",
    "                     + arr[i][0][k];\n",
    "\n",
    "\n",
    "// Initialize first width- First column of tSum array\n",
    "for (k = 1; k < n; k++)\n",
    "  for (j = 1; j < m; j++)\n",
    "     tSum[0][j][k] = min(tSum[0][j][k-1],\n",
    "                         tSum[0][j-1][k],\n",
    "                         INT_MAX)\n",
    "                      + arr[0][j][k];\n",
    "\n",
    "// Construct rest of the tSum array\n",
    "for (i = 1; i < l; i++)\n",
    "  for (j = 1; j < m; j++)\n",
    "    for (k = 1; k < n; k++)\n",
    "       tSum[i][j][k] = min(tSum[i-1][j][k],\n",
    "                           tSum[i][j-1][k],\n",
    "                           tSum[i][j][k-1])\n",
    "                      + arr[i][j][k];\n",
    "\n",
    "return tSum[l-1][m-1][n-1];\n",
    "\n",
    "*/"
   ]
  },
  {
   "cell_type": "code",
   "execution_count": 395,
   "metadata": {},
   "outputs": [],
   "source": [
    "static int l =3; \n",
    "static int m =3; \n",
    "static int n =3; \n",
    "\n",
    "// A utility function that returns minimum \n",
    "// of 3 integers \n",
    "static int min(int x, int y, int z) \n",
    "{ \n",
    "     return (x < y)? ((x < z)? x : z) : \n",
    "            ((y < z)? y : z); \n",
    "} "
   ]
  },
  {
   "cell_type": "code",
   "execution_count": 396,
   "metadata": {},
   "outputs": [],
   "source": [
    "// function to calculate MIN path sum of 3D array \n",
    "static int minPathSum(int arr[][][]) \n",
    "{ \n",
    "    int i, j, k; \n",
    "    int tSum[][][] =new int[l][m][n]; \n",
    "\n",
    "    tSum[0][0][0] = arr[0][0][0]; \n",
    "\n",
    "    /* Initialize first row of tSum array */\n",
    "    for (i = 1; i < l; i++) \n",
    "        tSum[i][0][0] = tSum[i-1][0][0] + arr[i][0][0]; \n",
    "\n",
    "    /* Initialize first column of tSum array */\n",
    "    for (j = 1; j < m; j++) \n",
    "        tSum[0][j][0] = tSum[0][j-1][0] + arr[0][j][0]; \n",
    "\n",
    "    /* Initialize first width of tSum array */\n",
    "    for (k = 1; k < n; k++) \n",
    "        tSum[0][0][k] = tSum[0][0][k-1] + arr[0][0][k]; \n",
    "\n",
    "    /* Initialize first row- First column of \n",
    "        tSum array */\n",
    "    for (i = 1; i < l; i++) \n",
    "        for (j = 1; j < m; j++) \n",
    "        tSum[i][j][0] = min(tSum[i-1][j][0], \n",
    "                            tSum[i][j-1][0], \n",
    "                            Integer.MAX_VALUE) \n",
    "                        + arr[i][j][0]; \n",
    "\n",
    "\n",
    "    /* Initialize first row- First width of \n",
    "        tSum array */\n",
    "    for (i = 1; i < l; i++) \n",
    "        for (k = 1; k < n; k++) \n",
    "        tSum[i][0][k] = min(tSum[i-1][0][k], \n",
    "                            tSum[i][0][k-1], \n",
    "                            Integer.MAX_VALUE) \n",
    "                        + arr[i][0][k]; \n",
    "\n",
    "\n",
    "    /* Initialize first width- First column of \n",
    "        tSum array */\n",
    "    for (k = 1; k < n; k++) \n",
    "        for (j = 1; j < m; j++) \n",
    "        tSum[0][j][k] = min(tSum[0][j][k-1], \n",
    "                            tSum[0][j-1][k], \n",
    "                            Integer.MAX_VALUE) \n",
    "                        + arr[0][j][k]; \n",
    "\n",
    "    /* Construct rest of the tSum array */\n",
    "    for (i = 1; i < l; i++) \n",
    "        for (j = 1; j < m; j++) \n",
    "        for (k = 1; k < n; k++) \n",
    "            tSum[i][j][k] = min(tSum[i-1][j][k], \n",
    "                                tSum[i][j-1][k], \n",
    "                                tSum[i][j][k-1]) \n",
    "                            + arr[i][j][k]; \n",
    "\n",
    "    return tSum[l-1][m-1][n-1]; \n",
    "\n",
    "} "
   ]
  },
  {
   "cell_type": "code",
   "execution_count": 397,
   "metadata": {},
   "outputs": [
    {
     "name": "stdout",
     "output_type": "stream",
     "text": [
      "20\n"
     ]
    }
   ],
   "source": [
    "// Driver program \n",
    "public static void main (String[] args) \n",
    "{ \n",
    "    int arr[][][] = { { {1, 2, 4}, {3, 4, 5}, {5, 2, 1}}, \n",
    "                      { {4, 8, 3}, {5, 2, 1}, {3, 4, 2}}, \n",
    "                      { {2, 4, 1}, {3, 1, 4}, {6, 3, 8}} \n",
    "                    }; \n",
    "    System.out.println ( minPathSum(arr)); \n",
    "\n",
    "} \n",
    "main(args);"
   ]
  },
  {
   "cell_type": "code",
   "execution_count": 398,
   "metadata": {},
   "outputs": [],
   "source": [
    "/*\n",
    "Time Complexity : O(l*m*n)\n",
    "Auxiliary Space : O(l*m*n)\n",
    "*/"
   ]
  },
  {
   "cell_type": "markdown",
   "metadata": {},
   "source": [
    "## **238. Count Distinct Subsequences**\n",
    "https://www.geeksforgeeks.org/count-distinct-subsequences/"
   ]
  },
  {
   "cell_type": "code",
   "execution_count": 399,
   "metadata": {},
   "outputs": [],
   "source": [
    "/*\n",
    "Discussed Previously in 18 March code\n",
    "*/"
   ]
  },
  {
   "cell_type": "markdown",
   "metadata": {},
   "source": [
    "## **239. Shortest Uncommon Subsequence**\n",
    "https://www.geeksforgeeks.org/shortest-uncommon-subsequence/"
   ]
  },
  {
   "cell_type": "code",
   "execution_count": 400,
   "metadata": {},
   "outputs": [],
   "source": [
    "/*\n",
    "Given two strings S and T, \n",
    "find length of the shortest subsequence in S which is not a subsequence in T. \n",
    "If no such subsequence is possible, \n",
    "    return -1. \n",
    "\n",
    "A subsequence is a sequence that appears in the same relative order, \n",
    "but not necessarily contiguous. \n",
    "\n",
    "A string of length n has 2^n different possible subsequences.\n",
    "\n",
    "String S of length m (1 <= m <= 1000)\n",
    "String T of length n (1 <= n <= 1000)\n",
    "*/"
   ]
  },
  {
   "cell_type": "code",
   "execution_count": 401,
   "metadata": {},
   "outputs": [],
   "source": [
    "/*\n",
    "Examples:\n",
    "\n",
    "Input : S = “babab” T = “babba”\n",
    "Output : 3\n",
    "The subsequence “aab” of length 3 is \n",
    "present in S but not in T.\n",
    "\n",
    "Input :  S = “abb” T = “abab”\n",
    "Output : -1\n",
    "There is no subsequence that is present \n",
    "in S but not in T.\n",
    "*/"
   ]
  },
  {
   "cell_type": "code",
   "execution_count": 402,
   "metadata": {},
   "outputs": [],
   "source": [
    "/*\n",
    "Brute Force Method\n",
    "\n",
    "A simple approach will be to generate all the subsequences of string S \n",
    "and for each subsequence \n",
    "    check if it is present in string T or not. \n",
    "    \n",
    "Consider example 2 in which S = “abb”,\n",
    "    its subsequences are “”, ”a”, ”b”, ”ab”, ”bb”, ”abb” each of which is present in “abab”. \n",
    "\n",
    "The time complexity of this solution will be exponential.\n",
    "*/"
   ]
  },
  {
   "cell_type": "code",
   "execution_count": 403,
   "metadata": {},
   "outputs": [],
   "source": [
    "/*\n",
    "Efficient (Dynamic Programming)\n",
    "\n",
    "1.Optimal substructure : \n",
    "    Consider two strings S and T of length m and n respectively \n",
    "    & let the function to find the shortest uncommon subsequence be shortestSeq (char *S, char *T). \n",
    "    For each character in S, \n",
    "        if it is not present in T \n",
    "            then that character is the answer itself.\n",
    "        Otherwise if it is found at index k \n",
    "            then we have the choice of either including it in the shortest uncommon subsequence or not.\n",
    "\n",
    "    If it is included \n",
    "        answer = 1 + ShortestSeq( S + 1, T + k + 1) \n",
    "    If not included \n",
    "        answer =  ShortestSeq( S + 1, T) \n",
    "\n",
    "    The minimum of the two is the answer.\n",
    "    \n",
    "    Thus we can see that this problem has optimal substructure property \n",
    "        as it can be solved by using solution to sub problems.\n",
    "*/"
   ]
  },
  {
   "cell_type": "code",
   "execution_count": 404,
   "metadata": {},
   "outputs": [],
   "source": [
    "/*\n",
    "2.Overlapping Sub problems\n",
    "\n",
    "Following is a simple recursive implementation of the above problem.\n",
    "*/"
   ]
  },
  {
   "cell_type": "code",
   "execution_count": 405,
   "metadata": {},
   "outputs": [
    {
     "name": "stdout",
     "output_type": "stream",
     "text": [
      "Length of shortest subsequence is: 3\n"
     ]
    }
   ],
   "source": [
    "static final int MAX = 1005; \n",
    "  \n",
    "/* A recursive function to find the length of \n",
    "shortest uncommon subsequence*/\n",
    "static int shortestSeq(char []S, char []T, int m, int n) \n",
    "{ \n",
    "    // S String is empty \n",
    "    if (m == 0) \n",
    "        return MAX; \n",
    "  \n",
    "    // T String is empty \n",
    "    if (n <= 0) \n",
    "        return 1; \n",
    "  \n",
    "    // Loop to search for current character \n",
    "    int k; \n",
    "    for (k = 0; k < n; k++) \n",
    "        if (T[k] == S[0]) \n",
    "            break; \n",
    "  \n",
    "    // char not found in T \n",
    "    if (k == n) \n",
    "        return 1; \n",
    "  \n",
    "    // Return minimum of following two \n",
    "    // Not including current char in answer \n",
    "    // Including current char \n",
    "    return Math.min(shortestSeq(Arrays.copyOfRange(S, 1, S.length), T, m - 1, n), \n",
    "                    1 + shortestSeq(Arrays.copyOfRange(S, 1, S.length),  \n",
    "                    Arrays.copyOfRange(T, k + 1, T.length), m - 1, n - k - 1)); \n",
    "} \n",
    "  \n",
    "// Driver code \n",
    "public static void main(String[] args) \n",
    "{ \n",
    "    char S[] = \"babab\".toCharArray(); \n",
    "    char T[] = \"babba\".toCharArray(); \n",
    "    int m = S.length, n = T.length; \n",
    "    int ans = shortestSeq(S, T, m, n); \n",
    "    if (ans >= MAX) \n",
    "    ans = -1; \n",
    "    System.out.print(\"Length of shortest subsequence is: \"\n",
    "        + ans +\"\\n\"); \n",
    "} \n",
    "main(args);"
   ]
  },
  {
   "cell_type": "code",
   "execution_count": 406,
   "metadata": {},
   "outputs": [],
   "source": [
    "/*\n",
    "If we draw the complete recursion tree, \n",
    "    then we can see that there are many sub problems which are solved again and again. \n",
    "\n",
    "So this problem has Overlapping Substructure property \n",
    "and recomputation of same sub problems can be avoided by either using Memoization or Tabulation. \n",
    "\n",
    "Following is a tabulated implementation for the problem.\n",
    "Time complexity : O(mn^2)\n",
    "Space Complexity : O(mn)\n",
    "*/"
   ]
  },
  {
   "cell_type": "code",
   "execution_count": 407,
   "metadata": {},
   "outputs": [
    {
     "name": "stdout",
     "output_type": "stream",
     "text": [
      "Length of shortestsubsequence is : 3\n"
     ]
    }
   ],
   "source": [
    "static final int MAX = 1005; \n",
    "\n",
    "// Returns length of shortest common subsequence  \n",
    "static int shortestSeq(char[] S, char[] T)  \n",
    "{ \n",
    "    int m = S.length, n = T.length; \n",
    "\n",
    "    // declaring 2D array of m + 1 rows and  \n",
    "    // n + 1 columns dynamically  \n",
    "    int dp[][] = new int[m + 1][n + 1]; \n",
    "\n",
    "    // T string is empty  \n",
    "    for (int i = 0; i <= m; i++)  \n",
    "    { \n",
    "        dp[i][0] = 1; \n",
    "    } \n",
    "\n",
    "    // S string is empty  \n",
    "    for (int i = 0; i <= n; i++) \n",
    "    { \n",
    "        dp[0][i] = MAX; \n",
    "    } \n",
    "\n",
    "    for (int i = 1; i <= m; i++)  \n",
    "    { \n",
    "        for (int j = 1; j <= n; j++)  \n",
    "        { \n",
    "            char ch = S[i - 1]; \n",
    "            int k; \n",
    "            for (k = j - 1; k >= 0; k--) \n",
    "            { \n",
    "                if (T[k] == ch) \n",
    "                { \n",
    "                    break; \n",
    "                } \n",
    "            } \n",
    "\n",
    "            // char not present in T  \n",
    "            if (k == -1)  \n",
    "            { \n",
    "                dp[i][j] = 1; \n",
    "            }  \n",
    "            else\n",
    "            { \n",
    "                dp[i][j] = Math.min(dp[i - 1][j], \n",
    "                                dp[i - 1][k] + 1); \n",
    "            } \n",
    "        } \n",
    "    } \n",
    "\n",
    "    int ans = dp[m][n]; \n",
    "    if (ans >= MAX)  \n",
    "    { \n",
    "        ans = -1; \n",
    "    } \n",
    "    return ans; \n",
    "} \n",
    "\n",
    "// Driver code  \n",
    "public static void main(String[] args)  \n",
    "{ \n",
    "    char S[] = \"babab\".toCharArray(); \n",
    "    char T[] = \"babba\".toCharArray(); \n",
    "    int m = S.length, n = T.length; \n",
    "    System.out.println(\"Length of shortest\" + \n",
    "                        \"subsequence is : \" +  \n",
    "                        shortestSeq(S, T)); \n",
    "} \n",
    "main(args);"
   ]
  },
  {
   "cell_type": "markdown",
   "metadata": {},
   "source": [
    "## **240. Temple Offerings**\n",
    "https://www.geeksforgeeks.org/temple-offerings/"
   ]
  },
  {
   "cell_type": "code",
   "execution_count": 408,
   "metadata": {},
   "outputs": [],
   "source": [
    "/*\n",
    "Consider a devotee wishing to give offerings to temples along a mountain range. \n",
    "The temples are located in a row at different heights. \n",
    "\n",
    "Each temple should receive at least one offering. \n",
    "If two adjacent temples are at different altitudes, \n",
    "    then the temple that is higher up should receive more offerings than the one that is lower down. \n",
    "If two adjacent temples are at the same height, \n",
    "    then their offerings relative to each other does not matter. \n",
    "\n",
    "Given the number of temples and the heights of the temples in order, \n",
    "    find the minimum number of offerings to bring.\n",
    "*/"
   ]
  },
  {
   "cell_type": "code",
   "execution_count": 409,
   "metadata": {},
   "outputs": [],
   "source": [
    "/*\n",
    "Examples:\n",
    "\n",
    "Input  : 3\n",
    "         1 2 2\n",
    "Output : 4\n",
    "All temples must receive at-least one offering.\n",
    "Now, the second temple is at a higher altitude\n",
    "compared to the first one. Thus it receives one\n",
    "extra offering. \n",
    "The second temple and third temple are at the \n",
    "same height, so we do not need to modify the \n",
    "offerings. Offerings given are therefore: 1, 2,\n",
    "1 giving a total of 4.\n",
    "\n",
    "Input  : 6\n",
    "         1 4 3 6 2 1\n",
    "Output : 10\n",
    "We can distribute the offerings in the following\n",
    "way, 1, 2, 1, 3, 2, 1. The second temple has to \n",
    "receive more offerings than the first due to its \n",
    "height being higher. The fourth must receive more\n",
    "than the fifth, which in turn must receive more \n",
    "than the sixth. Thus the total becomes 10.\n",
    "*/"
   ]
  },
  {
   "cell_type": "code",
   "execution_count": 410,
   "metadata": {},
   "outputs": [],
   "source": [
    "/*\n",
    "We notice that each temple can either be above, below, or at the same level as the temple next to it. \n",
    "The offerings required at each temple is equal to the maximum length of the chain of temples at lower height \n",
    "as shown in the image.\n",
    "*/"
   ]
  },
  {
   "cell_type": "markdown",
   "metadata": {},
   "source": [
    "<img src = \"https://media.geeksforgeeks.org/wp-content/uploads/Temples1.png\"/>"
   ]
  },
  {
   "cell_type": "code",
   "execution_count": 411,
   "metadata": {},
   "outputs": [],
   "source": [
    "/*\n",
    "Naive Approach\n",
    "\n",
    "To follow the given rule, a temple must be offered at least x+1 where x is maximum of following two.\n",
    "\n",
    "1. Number of temples on left in increasing order.\n",
    "2. Number of temples on right in increasing order.\n",
    "\n",
    "A naive method of solving this problem would be for each temple, \n",
    "go to the left until altitude increases, \n",
    "and do the same for the right.\n",
    "\n",
    "Time complexity: O(n^2)\n",
    "Space complexity: O(1)\n",
    "*/"
   ]
  },
  {
   "cell_type": "code",
   "execution_count": 412,
   "metadata": {},
   "outputs": [],
   "source": [
    "// Returns minimum \n",
    "// offerings required \n",
    "static int offeringNumber(int n,  \n",
    "                          int templeHeight[]) \n",
    "{ \n",
    "    int sum = 0; // Initialize result \n",
    "  \n",
    "    // Go through all \n",
    "    // temples one by one \n",
    "    for (int i = 0; i < n; ++i) \n",
    "    { \n",
    "        // Go to left while  \n",
    "        // height keeps increasing \n",
    "        int left = 0, right = 0; \n",
    "        for (int j = i - 1; j >= 0; --j) \n",
    "        { \n",
    "            if (templeHeight[j] <  \n",
    "                templeHeight[j + 1]) \n",
    "                ++left; \n",
    "            else\n",
    "                break; \n",
    "        } \n",
    "  \n",
    "        // Go to right while \n",
    "        // height keeps increasing \n",
    "        for (int j = i + 1; j < n; ++j) \n",
    "        { \n",
    "            if (templeHeight[j] <  \n",
    "                templeHeight[j - 1]) \n",
    "                ++right; \n",
    "            else\n",
    "                break; \n",
    "        } \n",
    "  \n",
    "        // This temple should offer \n",
    "        // maximum of two values \n",
    "        // to follow the rule. \n",
    "        sum += Math.max(right, left) + 1; \n",
    "    } \n",
    "  \n",
    "    return sum; \n",
    "} \n"
   ]
  },
  {
   "cell_type": "code",
   "execution_count": 413,
   "metadata": {},
   "outputs": [
    {
     "name": "stdout",
     "output_type": "stream",
     "text": [
      "4\n",
      "10\n"
     ]
    }
   ],
   "source": [
    "// Driver code \n",
    "public static void main (String[] args)  \n",
    "{ \n",
    "    int arr1[] = {1, 2, 2}; \n",
    "    System.out.println(offeringNumber(3, arr1)); \n",
    "    int arr2[] = {1, 4, 3, 6, 2, 1}; \n",
    "    System.out.println(offeringNumber(6, arr2)); \n",
    "} \n",
    "main(args);"
   ]
  },
  {
   "cell_type": "code",
   "execution_count": 414,
   "metadata": {},
   "outputs": [],
   "source": [
    "/*\n",
    "Dynamic Programming Approach\n",
    "Time complexity: O(n)\n",
    "Space complexity: O(n)\n",
    "\n",
    "By using Dynamic Programming, we can improve the time complexity. \n",
    "In this method, \n",
    "    we create a structure of length n which maintains \n",
    "    the maximum decreasing chain to the left of each temple \n",
    "    and \n",
    "    the maximum decreasing chain to the right of each temple. \n",
    "    \n",
    "    We go through once from 0 to N setting the value of left for each temple. \n",
    "    We then go from N to 0 setting the value of right for each temple. \n",
    "    We then compare the two and pick the maximum for each temple.\n",
    "*/"
   ]
  },
  {
   "cell_type": "markdown",
   "metadata": {},
   "source": [
    "***https://ideone.com/7eEz7V***"
   ]
  },
  {
   "cell_type": "markdown",
   "metadata": {},
   "source": [
    "## **241. Highway Billboard Problem**\n",
    "https://www.geeksforgeeks.org/highway-billboard-problem/"
   ]
  },
  {
   "cell_type": "code",
   "execution_count": 415,
   "metadata": {},
   "outputs": [],
   "source": [
    "/*\n",
    "Consider a highway of M miles. \n",
    "The task is to place billboards on the highway such that revenue is maximized. \n",
    "The possible sites for billboards are given by number x1 < x2 < ….. < xn-1 < xn, \n",
    "specifying positions in miles measured from one end of the road. \n",
    "If we place a billboard at position xi, \n",
    "    we receive a revenue of ri > 0. \n",
    "There is a restriction that no two billboards can be placed within t miles or less than it.\n",
    "\n",
    "Note : All possible sites from x1 to xn are in range from 0 to M as need to place billboards on a highway of M miles.\n",
    "*/"
   ]
  },
  {
   "cell_type": "code",
   "execution_count": 416,
   "metadata": {},
   "outputs": [],
   "source": [
    "/*\n",
    "Examples:\n",
    "\n",
    "Input : M = 20\n",
    "        x[]       = {6, 7, 12, 13, 14}\n",
    "        revenue[] = {5, 6, 5,  3,  1}\n",
    "        t = 5\n",
    "Output: 10\n",
    "By placing two billboards at 6 miles and 12\n",
    "miles will produce the maximum revenue of 10.\n",
    "\n",
    "Input : M = 15\n",
    "        x[] = {6, 9, 12, 14}\n",
    "        revenue[] = {5, 6, 3, 7}\n",
    "        t = 2\n",
    "Output : 18  \n",
    "*/"
   ]
  },
  {
   "cell_type": "code",
   "execution_count": 417,
   "metadata": {},
   "outputs": [],
   "source": [
    "/*\n",
    "Let maxRev[i], 1 <= i <= M, be the maximum revenue generated from beginning to i miles on the highway. \n",
    "\n",
    "Now for each mile on the highway, \n",
    "    we need to check whether this mile has the option for any billboard, \n",
    "    if not \n",
    "        then the maximum revenue generated till that mile would be same as maximum revenue generated till one mile before. \n",
    "    But if that mile has the option for billboard \n",
    "        then we have 2 options:\n",
    "            1. Either we will place the billboard, \n",
    "                ignore the billboard in previous t miles, and add the revenue of the billboard placed.\n",
    "            2. Ignore this billboard. \n",
    "                    So maxRev[i] = max(maxRev[i-t-1] + revenue[i], maxRev[i-1])\n",
    "\n",
    "Below is implementation of this approach:\n",
    "\n",
    "Time Complexity: O(M), where M is distance of total Highway.\n",
    "Auxiliary Space: O(M).\n",
    "*/"
   ]
  },
  {
   "cell_type": "code",
   "execution_count": 418,
   "metadata": {},
   "outputs": [],
   "source": [
    "static int maxRevenue(int m, int[] x, int[] revenue, int n, int t)  \n",
    "{  \n",
    "      \n",
    "    // Array to store maximum revenue  \n",
    "    // at each miles.  \n",
    "    int[] maxRev = new int[m + 1];  \n",
    "    for(int i = 0; i < m + 1; i++) \n",
    "        maxRev[i] = 0; \n",
    "  \n",
    "    // actual minimum distance between \n",
    "    // 2 billboards.  \n",
    "    int nxtbb = 0;  \n",
    "    for (int i = 1; i <= m; i++)  \n",
    "    {  \n",
    "        // check if all billboards are  \n",
    "        // already placed.  \n",
    "        if (nxtbb < n)  \n",
    "        {  \n",
    "            // check if we have billboard for  \n",
    "            // that particular mile. If not, \n",
    "            // copy the previous maximum revenue.  \n",
    "            if (x[nxtbb] != i)  \n",
    "                maxRev[i] = maxRev[i - 1];  \n",
    "  \n",
    "            // we do have billboard for this mile.  \n",
    "            else\n",
    "            {  \n",
    "                // We have 2 options, we either take  \n",
    "                // current or we ignore current billboard.  \n",
    "  \n",
    "                // If current position is less than or  \n",
    "                // equal to t, then we can have only  \n",
    "                // one billboard.  \n",
    "                if (i <= t)  \n",
    "                    maxRev[i] = Math.max(maxRev[i - 1],  \n",
    "                                        revenue[nxtbb]);  \n",
    "  \n",
    "                // Else we may have to remove  \n",
    "                // previously placed billboard  \n",
    "                else\n",
    "                    maxRev[i] = Math.max(maxRev[i - t - 1] +  \n",
    "                                        revenue[nxtbb],  \n",
    "                                        maxRev[i - 1]);  \n",
    "  \n",
    "                nxtbb++;  \n",
    "            }  \n",
    "        }  \n",
    "        else\n",
    "            maxRev[i] = maxRev[i - 1];  \n",
    "    }  \n",
    "  \n",
    "    return maxRev[m];  \n",
    "}  "
   ]
  },
  {
   "cell_type": "code",
   "execution_count": 419,
   "metadata": {},
   "outputs": [
    {
     "name": "stdout",
     "output_type": "stream",
     "text": [
      "10\n"
     ]
    }
   ],
   "source": [
    "// Driver Code \n",
    "public static void main(String []args)  \n",
    "{  \n",
    "    int m = 20;  \n",
    "    int[] x = new int[]{6, 7, 12, 13, 14};  \n",
    "    int[] revenue = new int[]{5, 6, 5, 3, 1};  \n",
    "    int n = x.length;  \n",
    "    int t = 5;  \n",
    "    System.out.println(maxRevenue(m, x, revenue, n, t));  \n",
    "} \n",
    "main(args);"
   ]
  },
  {
   "cell_type": "markdown",
   "metadata": {},
   "source": [
    "**Source :**  ***https://courses.cs.washington.edu/courses/cse421/06au/slides/Lecture18/Lecture18.pdf***"
   ]
  },
  {
   "cell_type": "markdown",
   "metadata": {},
   "source": [
    "## **242. Maximum sum alternating subsequence**\n",
    "https://www.geeksforgeeks.org/maximum-sum-alternating-subsequence-sum/"
   ]
  },
  {
   "cell_type": "code",
   "execution_count": 420,
   "metadata": {},
   "outputs": [],
   "source": [
    "/*\n",
    "Given an array, \n",
    "    the task is to find sum of maximum sum alternating subsequence starting with first element. \n",
    "    Here alternating sequence means first decreasing, then increasing, then decreasing,\n",
    "    \n",
    "For example 10, 5, 14, 3 is an alternating sequence.\n",
    "\n",
    "Note that the reverse type of sequence (increasing – decreasing – increasing -…) is not considered alternating here.\n",
    "*/"
   ]
  },
  {
   "cell_type": "code",
   "execution_count": 421,
   "metadata": {},
   "outputs": [],
   "source": [
    "/*\n",
    "Examples:\n",
    "\n",
    "Input :  arr[] = {4, 3, 8, 5, 3, 8}  \n",
    "Output :  28\n",
    "Explanation:\n",
    "The alternating subsequence (starting with first element) \n",
    "that has above maximum sum is {4, 3, 8, 5, 8}\n",
    "\n",
    "Input : arr[] = {4, 8, 2, 5, 6, 8} \n",
    "Output :  14\n",
    "The alternating subsequence (starting with first element) \n",
    "that has above maximum sum is {4, 2, 8}\n",
    "*/"
   ]
  },
  {
   "cell_type": "markdown",
   "metadata": {},
   "source": [
    "**LIS**  ***https://www.geeksforgeeks.org/dynamic-programming-set-3-longest-increasing-subsequence/***"
   ]
  },
  {
   "cell_type": "code",
   "execution_count": 422,
   "metadata": {},
   "outputs": [],
   "source": [
    "/*`\n",
    "This problem is similar to Longest Increasing Subsequence (LIS) problem. and can be solved using Dynamic Programming.\n",
    "\n",
    "Time Complexity : O(n2)\n",
    "Auxiliary Space : O(n)\n",
    "\n",
    "Create two empty array that store result of maximum\n",
    "sum  of alternate sub-sequence\n",
    "inc[] : inc[i] stores results of maximum sum alternating\n",
    "        subsequence ending with arr[i] such that arr[i]\n",
    "        is greater than previous element of the subsequence \n",
    "dec[] : dec[i] stores results of maximum sum alternating\n",
    "        subsequence ending with arr[i] such that arr[i]\n",
    "        is less than previous element of the subsequence \n",
    "\n",
    "Include first element of 'arr' in both inc[] and dec[] \n",
    "inc[0] = dec[0] = arr[0]\n",
    "\n",
    "// Maintain a flag i.e. it will makes the greater\n",
    "// elements count only if the first decreasing element\n",
    "// is counted.\n",
    "flag  = 0 \n",
    "\n",
    "Traversal two loops\n",
    "  i goes from 1 to  n-1 \n",
    "    j goes 0 to i-1\n",
    "      IF arr[j] > arr[i]\n",
    "        dec[i] = max(dec[i], inc[j] + arr[i])\n",
    "    \n",
    "        // Denotes first decreasing is found\n",
    "        flag = 1 \n",
    "  \n",
    "      ELSE IF arr[j] < arr[i] && flag == 1 \n",
    "        inc[i] = max(inc[i], dec[j]+arr[i]);\n",
    "     \n",
    "Final Last Find maximum value inc[] and dec[] .\n",
    "*/"
   ]
  },
  {
   "cell_type": "code",
   "execution_count": 423,
   "metadata": {},
   "outputs": [],
   "source": [
    "// Return sum of maximum sum alternating \n",
    "// sequence starting with arr[0] and is first \n",
    "// decreasing. \n",
    "static int maxAlternateSum(int arr[], int n) \n",
    "{ \n",
    "    if (n == 1) \n",
    "        return arr[0]; \n",
    "\n",
    "   // create two empty array that store result of \n",
    "   // maximum sum of alternate sub-sequence \n",
    "\n",
    "    // stores sum of decreasing and increasing \n",
    "    // sub-sequence \n",
    "    int dec[] = new int[n]; \n",
    "\n",
    "\n",
    "    // store sum of increasing and decreasing sun-sequence \n",
    "    int inc[] = new int[n]; \n",
    "\n",
    "    // As per question, first element must be part \n",
    "    // of solution. \n",
    "    dec[0] = inc[0] = arr[0]; \n",
    "\n",
    "    int flag = 0 ; \n",
    "\n",
    "    // Traverse remaining elements of array \n",
    "    for (int i=1; i<n; i++) \n",
    "    { \n",
    "        for (int j=0; j<i; j++) \n",
    "        { \n",
    "            // IF current sub-sequence is decreasing the \n",
    "            // update dec[j] if needed. dec[i] by current \n",
    "            // inc[j] + arr[i] \n",
    "            if (arr[j] > arr[i]) \n",
    "            { \n",
    "                dec[i] = Math.max(dec[i], inc[j]+arr[i]); \n",
    "\n",
    "                // Revert the flag , if first decreasing \n",
    "                // is found \n",
    "                flag = 1; \n",
    "            } \n",
    "\n",
    "            // If next element is greater but flag should be 1 \n",
    "            // i.e. this element should be counted after the \n",
    "            // first decreasing element gets counted \n",
    "            else if (arr[j] < arr[i] && flag == 1) \n",
    "\n",
    "                // If current sub-sequence is increasing \n",
    "                // then update inc[i] \n",
    "                inc[i] = Math.max(inc[i], dec[j]+arr[i]); \n",
    "        } \n",
    "    } \n",
    "\n",
    "    // find maximum sum in b/w inc[] and dec[] \n",
    "    int result = Integer.MIN_VALUE; \n",
    "    for (int i = 0 ; i < n; i++) \n",
    "    { \n",
    "        if (result < inc[i]) \n",
    "            result = inc[i]; \n",
    "        if (result < dec[i]) \n",
    "            result = dec[i]; \n",
    "    } \n",
    "\n",
    "    // return maximum sum alternate sun-sequence \n",
    "    return result; \n",
    "} "
   ]
  },
  {
   "cell_type": "code",
   "execution_count": 424,
   "metadata": {},
   "outputs": [
    {
     "name": "stdout",
     "output_type": "stream",
     "text": [
      "Maximum sum = 25\n"
     ]
    }
   ],
   "source": [
    "// Driver Method \n",
    "public static void main(String[] args) \n",
    "{ \n",
    "    int arr[]= {8, 2, 3, 5, 7, 9, 10}; \n",
    "    System.out.println(\"Maximum sum = \" + \n",
    "              maxAlternateSum(arr , arr.length)); \n",
    "} \n",
    "main(args);"
   ]
  },
  {
   "cell_type": "markdown",
   "metadata": {},
   "source": [
    "## **243. Minimum and Maximum values of an expression with * and +**\n",
    "https://www.geeksforgeeks.org/minimum-maximum-values-expression/"
   ]
  },
  {
   "cell_type": "code",
   "execution_count": 425,
   "metadata": {},
   "outputs": [],
   "source": [
    "/*\n",
    "Given an expression which contains \n",
    "numbers and two operators ‘+’ and ‘*’, \n",
    "\n",
    "we need to find maximum and minimum value which can be obtained by evaluating this expression by different parenthesization.\n",
    "*/"
   ]
  },
  {
   "cell_type": "code",
   "execution_count": 426,
   "metadata": {},
   "outputs": [],
   "source": [
    "/*\n",
    "Examples:\n",
    "\n",
    "Input  : expr = “1+2*3+4*5” \n",
    "Output : Minimum Value = 27, Maximum Value = 105 \n",
    "\n",
    "Explanation:\n",
    "Minimum evaluated value = 1 + (2*3) + (4*5) = 27\n",
    "Maximum evaluated value = (1 + 2)*(3 + 4)*5 = 105\n",
    "*/"
   ]
  },
  {
   "cell_type": "code",
   "execution_count": 427,
   "metadata": {},
   "outputs": [],
   "source": [
    "/*\n",
    "We can solve this problem by dynamic programming method, \n",
    "\n",
    "we can see that this problem is similar to matrix chain multiplication, \n",
    "\n",
    "here we are trying different parenthesization to maximize and minimize expression value \n",
    "    instead of number of matrix multiplication.\n",
    "\n",
    "In below code first we have separated \n",
    "    the operators and numbers from given expression \n",
    "    then two 2D arrays are taken for storing the intermediate result which are updated similar to matrix chain multiplication \n",
    "    and different parenthesization are tried among the numbers \n",
    "        but according to operators occurring in between them. \n",
    "    At the end last cell of first row will store the final result in both the 2D arrays.\n",
    "*/"
   ]
  },
  {
   "cell_type": "markdown",
   "metadata": {},
   "source": [
    "***https://ideone.com/IihaZj***"
   ]
  },
  {
   "cell_type": "code",
   "execution_count": null,
   "metadata": {},
   "outputs": [],
   "source": []
  },
  {
   "cell_type": "code",
   "execution_count": null,
   "metadata": {},
   "outputs": [],
   "source": []
  }
 ],
 "metadata": {
  "kernelspec": {
   "display_name": "Java",
   "language": "java",
   "name": "java"
  },
  "language_info": {
   "codemirror_mode": "java",
   "file_extension": ".jshell",
   "mimetype": "text/x-java-source",
   "name": "Java",
   "pygments_lexer": "java",
   "version": "11.0.6+8-LTS"
  },
  "toc": {
   "base_numbering": 1,
   "nav_menu": {},
   "number_sections": true,
   "sideBar": true,
   "skip_h1_title": true,
   "title_cell": "Table of Contents",
   "title_sidebar": "Contents",
   "toc_cell": false,
   "toc_position": {},
   "toc_section_display": true,
   "toc_window_display": true
  }
 },
 "nbformat": 4,
 "nbformat_minor": 2
}
