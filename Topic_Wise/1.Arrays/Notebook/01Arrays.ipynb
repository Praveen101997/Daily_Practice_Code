{
 "cells": [
  {
   "cell_type": "markdown",
   "metadata": {},
   "source": [
    "# ---------------------------ARRAYS TOPIC--------------------------------\n",
    "**==============================================================================**\n",
    "# Assembled By - Praveen Kumar Sharma\n",
    "# Source - GeeksForGeeks\n",
    "**==============================================================================**"
   ]
  },
  {
   "cell_type": "code",
   "execution_count": 1,
   "metadata": {},
   "outputs": [],
   "source": [
    "import java.util.*;\n",
    "import java.io.*;\n",
    "import java.util.Arrays;\n",
    "String[] args =new String[0];"
   ]
  },
  {
   "cell_type": "markdown",
   "metadata": {},
   "source": [
    "## **1. K-Concatenation**\n",
    "https://www.codechef.com/JAN18/problems/KCON/"
   ]
  },
  {
   "cell_type": "code",
   "execution_count": 2,
   "metadata": {},
   "outputs": [],
   "source": [
    "/*\n",
    "You are given an array A with size N (indexed from 0) and an integer K. \n",
    "Let's define another array B with size N · K as the array that's formed by concatenating K copies of array A.\n",
    "\n",
    "For example, \n",
    "if A = {1, 2} and K = 3, \n",
    "then B = {1, 2, 1, 2, 1, 2}.\n",
    "\n",
    "You have to find the maximum subarray sum of the array B. \n",
    "Fomally, you should compute the maximum value of Bi + Bi+1 + Bi+2 + ... + Bj, where 0 ≤ i ≤ j < N · K.\n",
    "*/"
   ]
  },
  {
   "cell_type": "code",
   "execution_count": 3,
   "metadata": {},
   "outputs": [],
   "source": [
    "/*\n",
    "The problem is to find the maximum sub array of concatenatedarr.\n",
    "Maximum SubArray of an array A is a continuous SubArray within the array A that has the largest Sum.\n",
    "The best method for finding Maximum SubArray is Kadanae's algorithm.\n",
    "\n",
    "Here you have to find the Maximum SubArray for an array concatenated_arr which is a k-times repetitive array of A. \n",
    "For e.g.. if A is {3, 2, -1} and K is 3 then B will be {3, 2, -1, 3, 2, -1, 3, 2, -1}. \n",
    "\n",
    "Method:\n",
    "The maximum SubArray of concatenated_arr can be the sum of all its elements.\n",
    "For e.g.. if A is {3, 2, -1} and K is 3, then B will be {3, 2, -1, 3, 2, -1, 3, 2, -1}.\n",
    "The sum of all the elements in concatenated_arr will give us 12. To find this one we don't need to create the array concatenated_arr.\n",
    "We can simply find the sum of all the elements in array A and we can mutilply it with K.\n",
    "But wait, we can omit the last term in it so that the sum will become 13.\n",
    "For this one we can use prefix and suffix calculations.\n",
    "Eg:\n",
    "A is repeated k times in concatenatedarr.\n",
    "Consider the first repetition of A is A1, second is A2 and so on. \n",
    "So now our B array(if K=8) will be {A1, A2, A3, A4, A5, A6, A7, A8}. \n",
    "If you omit the first two elements in A1 and the last two elements in A8, you might also get the maxsub array.\n",
    "So here we can check whether it is possible to omit some initial elements in A1 and some Final elements in A8. \n",
    "We use prefix and suffix variables for that to calculate the sum of A1 and A10 specifically and he adds the remaining elements \n",
    "i.e answer = {prefix + sum_of_elements(A2) + sum_of_elements(A3) + sum_of_elements(A4) + sum_of_elements(A5) + sum_of_elements(A6) + sum_of_elements(A7) + suffix} , \n",
    "which in simplified form becomes {prefix + sum_of_elements(A)*(k-2) + suffix}.\n",
    "*/"
   ]
  },
  {
   "cell_type": "code",
   "execution_count": 4,
   "metadata": {},
   "outputs": [],
   "source": [
    "int mod  = (int) Math.pow(10,9)+7;\n",
    "public int kConcatenationMaxSum(int[] ar, int k) {\n",
    "    long kadanes= kadanesAlgo(ar);\n",
    "    if(k==1){\n",
    "        return (int)kadanes;\n",
    "    }\n",
    "    long prefixSum= prefixSum(ar);\n",
    "    long suffixSum=suffixSum(ar);\n",
    "    long sum=0;\n",
    "    for (int i1 : ar) {\n",
    "        sum += i1;\n",
    "    }\n",
    "    if(sum>0){\n",
    "        return (int)(Math.max(((sum*(k-2))%mod+suffixSum%mod+prefixSum%mod)%mod,kadanes%mod));\n",
    "    }\n",
    "    else{\n",
    "        return (int)(Math.max((prefixSum%mod+suffixSum%mod)%mod,kadanes%mod));\n",
    "    }\n",
    "\n",
    "}\n",
    "public  long kadanesAlgo(int[] ar){\n",
    "\n",
    "    long currentSum=0;\n",
    "    long maxSum=Integer.MIN_VALUE;\n",
    "    for(int i=0;i<ar.length;i++){\n",
    "        currentSum=currentSum>0?(currentSum+ar[i])%mod:ar[i];\n",
    "        maxSum=Math.max(currentSum,maxSum);\n",
    "    }\n",
    "    return maxSum<0?0:maxSum%mod;\n",
    "\n",
    "}\n",
    "\n",
    "\n",
    "public  long prefixSum(int[] ar){\n",
    "\n",
    "    long currentSum=0;\n",
    "    long maxSum=Integer.MIN_VALUE;\n",
    "    for(int i=0;i<ar.length;i++){\n",
    "        currentSum= (currentSum+ar[i])%mod;\n",
    "        maxSum=Math.max(maxSum,currentSum);\n",
    "    }\n",
    "    return maxSum;\n",
    "\n",
    "\n",
    "}\n",
    "\n",
    "public  long suffixSum(int[] ar){\n",
    "\n",
    "\n",
    "    long currentSum=0;\n",
    "    long maxSum=Integer.MIN_VALUE;\n",
    "    for(int i=ar.length-1;i>=0;i--){\n",
    "        currentSum=(currentSum+ar[i])%mod;\n",
    "        maxSum=Math.max(currentSum,maxSum);\n",
    "    }\n",
    "    return maxSum;\n",
    "\n",
    "}"
   ]
  },
  {
   "cell_type": "code",
   "execution_count": 5,
   "metadata": {},
   "outputs": [
    {
     "name": "stdout",
     "output_type": "stream",
     "text": [
      "13\n"
     ]
    }
   ],
   "source": [
    "int[] arr = {3,2,-1};\n",
    "System.out.println(kConcatenationMaxSum(arr,3))"
   ]
  },
  {
   "cell_type": "code",
   "execution_count": 6,
   "metadata": {},
   "outputs": [
    {
     "name": "stdout",
     "output_type": "stream",
     "text": [
      "13\n"
     ]
    }
   ],
   "source": [
    "class Solution {\n",
    "    static final long M=(long)Math.pow(10,9)+7;\n",
    "    public static int kConcatenationMaxSum(int[] arr, int k) {\n",
    "        int n=arr.length;\n",
    "        long res=0;\n",
    "        long last=0;\n",
    "        long sum=0;\n",
    "        long sumMax=0;\n",
    "    \n",
    "        // ordinary maximum subarray sum problem to find maximum\n",
    "        for(int j=0;j<n;++j){\n",
    "            long r = Math.max((long)arr[j],arr[j]+last);\n",
    "            res=Math.max(res,r);\n",
    "            last=r;\n",
    "            sum+=arr[j];\n",
    "            if(sumMax<sum){\n",
    "                sumMax=sum;\n",
    "            }\n",
    "        }\n",
    "        \n",
    "        // if there were more repeatations, we recaucluate the res\n",
    "        if(k>1 && sumMax>0){\n",
    "            if(sum>0){\n",
    "                res = Math.max(res, last+(k-2)*sum+sumMax);\n",
    "            }else{\n",
    "                res =Math.max(res,last+sumMax);\n",
    "            }\n",
    "        }\n",
    "        return (int)(res%M);\n",
    "    }\n",
    "}\n",
    "int[] arr = {3,2,-1};\n",
    "System.out.println(Solution.kConcatenationMaxSum(arr,3))"
   ]
  },
  {
   "cell_type": "markdown",
   "metadata": {},
   "source": [
    "## **2. Find subarray with given sum | Set 1 (Nonnegative Numbers)**\n",
    "https://www.geeksforgeeks.org/find-subarray-with-given-sum/"
   ]
  },
  {
   "cell_type": "code",
   "execution_count": 7,
   "metadata": {},
   "outputs": [],
   "source": [
    "/*\n",
    "Given an unsorted array of nonnegative integers, find a continuous subarray which adds to a given number.\n",
    "Examples :\n",
    "\n",
    "Input: arr[] = {1, 4, 20, 3, 10, 5}, sum = 33\n",
    "Ouptut: Sum found between indexes 2 and 4\n",
    "\n",
    "\n",
    "\n",
    "Input: arr[] = {1, 4, 0, 0, 3, 10, 5}, sum = 7\n",
    "Ouptut: Sum found between indexes 1 and 4\n",
    "\n",
    "Input: arr[] = {1, 4}, sum = 0\n",
    "Output: No subarray found\n",
    "\n",
    "There may be more than one subarrays with sum as the given sum. The following solutions print first such subarray.\n",
    "*/"
   ]
  },
  {
   "cell_type": "code",
   "execution_count": 8,
   "metadata": {},
   "outputs": [],
   "source": [
    "/*\n",
    "Initialize a variable curr_sum as the first element. \n",
    "curr_sum indicates the sum of the current subarray. \n",
    "Start from the second element and add all elements one by one to the curr_sum. \n",
    "If curr_sum becomes equal to the sum, then print the solution. \n",
    "If curr_sum exceeds the sum, then remove trailing elements while curr_sum is greater than the sum.\n",
    "\n",
    "Following is the implementation of the above approach.\n",
    "*/"
   ]
  },
  {
   "cell_type": "code",
   "execution_count": 9,
   "metadata": {},
   "outputs": [],
   "source": [
    "int subArraySum(int arr[], int n, int sum)  \n",
    "    { \n",
    "        int curr_sum = arr[0], start = 0, i; \n",
    "  \n",
    "        // Pick a starting point \n",
    "        for (i = 1; i <= n; i++)  \n",
    "        { \n",
    "            // If curr_sum exceeds the sum, then remove the starting elements \n",
    "            while (curr_sum > sum && start < i-1) \n",
    "            { \n",
    "                curr_sum = curr_sum - arr[start]; \n",
    "                start++; \n",
    "            } \n",
    "              \n",
    "            // If curr_sum becomes equal to sum, then return true \n",
    "            if (curr_sum == sum)  \n",
    "            { \n",
    "                int p = i-1; \n",
    "                System.out.println(\"Sum found between indexes \" + start \n",
    "                        + \" and \" + p); \n",
    "                return 1; \n",
    "            } \n",
    "              \n",
    "            // Add this element to curr_sum \n",
    "            if (i < n) \n",
    "            curr_sum = curr_sum + arr[i]; \n",
    "              \n",
    "        } \n",
    "  \n",
    "        System.out.println(\"No subarray found\"); \n",
    "        return 0; \n",
    "    }"
   ]
  },
  {
   "cell_type": "code",
   "execution_count": 10,
   "metadata": {},
   "outputs": [
    {
     "name": "stdout",
     "output_type": "stream",
     "text": [
      "Sum found between indexes 1 and 4\n"
     ]
    },
    {
     "data": {
      "text/plain": [
       "1"
      ]
     },
     "execution_count": 10,
     "metadata": {},
     "output_type": "execute_result"
    }
   ],
   "source": [
    "int arr[] = {15, 2, 4, 8, 9, 5, 10, 23}; \n",
    "int n = arr.length; \n",
    "int sum = 23; \n",
    "subArraySum(arr, n, sum); "
   ]
  },
  {
   "cell_type": "markdown",
   "metadata": {},
   "source": [
    "## **3. Equilibrium index of an array**\n",
    "https://www.geeksforgeeks.org/equilibrium-index-of-an-array/"
   ]
  },
  {
   "cell_type": "code",
   "execution_count": 11,
   "metadata": {},
   "outputs": [],
   "source": [
    "/*\n",
    "Equilibrium index of an array is an index such that the sum of elements at lower indexes is equal to the sum of elements at higher indexes. For example, in an array A:\n",
    "\n",
    "Example :\n",
    "\n",
    "Input: A[] = {-7, 1, 5, 2, -4, 3, 0}\n",
    "Output: 3\n",
    "3 is an equilibrium index, because:\n",
    "A[0] + A[1] + A[2] = A[4] + A[5] + A[6]\n",
    "\n",
    "\n",
    "\n",
    "Input: A[] = {1, 2, 3}\n",
    "Output: -1\n",
    "\n",
    "Write a function int equilibrium(int[] arr, int n); that given a sequence arr[] of size n, returns an equilibrium index (if any) or -1 if no equilibrium indexes exist.\n",
    "*/"
   ]
  },
  {
   "cell_type": "code",
   "execution_count": 12,
   "metadata": {},
   "outputs": [],
   "source": [
    "/*\n",
    "The idea is to get the total sum of the array first. \n",
    "Then Iterate through the array and keep updating the left sum which is initialized as zero. \n",
    "In the loop, we can get the right sum by subtracting the elements one by one. \n",
    "\n",
    "1) Initialize leftsum  as 0\n",
    "2) Get the total sum of the array as sum\n",
    "3) Iterate through the array and for each index i, do following.\n",
    "    a)  Update sum to get the right sum.  \n",
    "           sum = sum - arr[i] \n",
    "       // sum is now right sum\n",
    "    b) If leftsum is equal to sum, then return current index. \n",
    "       // update leftsum for next iteration.\n",
    "    c) leftsum = leftsum + arr[i]\n",
    "4) return -1 \n",
    "// If we come out of loop without returning then\n",
    "// there is no equilibrium index\n",
    "The image below shows the dry run of the above approach:\n",
    "*/"
   ]
  },
  {
   "cell_type": "markdown",
   "metadata": {},
   "source": [
    "<img src=\"https://media.geeksforgeeks.org/wp-content/cdn-uploads/20190620123235/Equilibrium-index-of-an-array1.png\" alt=\"IMG 3 Preview\" title=\"IMG 3\" style=\"width:500px;height:600px\"/>"
   ]
  },
  {
   "cell_type": "code",
   "execution_count": 13,
   "metadata": {},
   "outputs": [],
   "source": [
    "int equilibrium(int arr[], int n) \n",
    "    { \n",
    "        int sum = 0; // initialize sum of whole array \n",
    "        int leftsum = 0; // initialize leftsum \n",
    "  \n",
    "        /* Find sum of the whole array */\n",
    "        for (int i = 0; i < n; ++i) \n",
    "            sum += arr[i]; \n",
    "  \n",
    "        for (int i = 0; i < n; ++i) { \n",
    "            sum -= arr[i]; // sum is now right sum for index i \n",
    "  \n",
    "            if (leftsum == sum) \n",
    "                return i; \n",
    "  \n",
    "            leftsum += arr[i]; \n",
    "        } \n",
    "  \n",
    "        /* If no equilibrium index found, then return 0 */\n",
    "        return -1; \n",
    "    } "
   ]
  },
  {
   "cell_type": "code",
   "execution_count": 14,
   "metadata": {},
   "outputs": [
    {
     "name": "stdout",
     "output_type": "stream",
     "text": [
      "First equilibrium index is 3\n"
     ]
    }
   ],
   "source": [
    "int arr[] = { -7, 1, 5, 2, -4, 3, 0 }; \n",
    "        int arr_size = arr.length; \n",
    "        System.out.println(\"First equilibrium index is \" +  \n",
    "                          equilibrium(arr, arr_size));"
   ]
  },
  {
   "cell_type": "markdown",
   "metadata": {},
   "source": [
    "## **4. Maximum Sum Increasing Subsequence | DP-14**\n",
    "https://www.geeksforgeeks.org/maximum-sum-increasing-subsequence-dp-14/"
   ]
  },
  {
   "cell_type": "code",
   "execution_count": 15,
   "metadata": {},
   "outputs": [],
   "source": [
    "/*\n",
    "Given an array of n positive integers. Write a program to find the sum of maximum sum subsequence of the given array such that the integers in the subsequence are sorted in increasing order. \n",
    "For example, \n",
    "if input is {1, 101, 2, 3, 100, 4, 5}, \n",
    "then output should be 106 (1 + 2 + 3 + 100), \n",
    "if the input array is {3, 4, 5, 10}, \n",
    "then output should be 22 (3 + 4 + 5 + 10) \n",
    "and if the input array is {10, 5, 4, 3}, \n",
    "then output should be 10\n",
    "*/"
   ]
  },
  {
   "cell_type": "code",
   "execution_count": 16,
   "metadata": {},
   "outputs": [],
   "source": [
    "/*\n",
    "This problem is a variation of standard Longest Increasing Subsequence (LIS) problem. \n",
    "We need a slight change in the Dynamic Programming solution of LIS problem. \n",
    "All we need to change is to use sum as a criteria instead of length of increasing subsequence.\n",
    "\n",
    "Following are the Dynamic Programming solution to the problem :\n",
    "*/"
   ]
  },
  {
   "cell_type": "code",
   "execution_count": 17,
   "metadata": {},
   "outputs": [],
   "source": [
    "static int maxSumIS(int arr[], int n) \n",
    "    { \n",
    "        int i, j, max = 0; \n",
    "        int msis[] = new int[n]; \n",
    "  \n",
    "        /* Initialize msis values  \n",
    "           for all indexes */\n",
    "        for (i = 0; i < n; i++) \n",
    "            msis[i] = arr[i]; \n",
    "  \n",
    "        /* Compute maximum sum values \n",
    "           in bottom up manner */\n",
    "        for (i = 1; i < n; i++) \n",
    "            for (j = 0; j < i; j++) \n",
    "                if (arr[i] > arr[j] && \n",
    "                    msis[i] < msis[j] + arr[i]) \n",
    "                    msis[i] = msis[j] + arr[i]; \n",
    "  \n",
    "        /* Pick maximum of all \n",
    "           msis values */\n",
    "        for (i = 0; i < n; i++) \n",
    "            if (max < msis[i]) \n",
    "                max = msis[i]; \n",
    "  \n",
    "        return max; \n",
    "    } "
   ]
  },
  {
   "cell_type": "code",
   "execution_count": 18,
   "metadata": {},
   "outputs": [
    {
     "name": "stdout",
     "output_type": "stream",
     "text": [
      "Sum of maximum sum increasing subsequence is 106\n"
     ]
    }
   ],
   "source": [
    "int arr[] = new int[]{1, 101, 2, 3, 100, 4, 5}; \n",
    "int n = arr.length; \n",
    "System.out.println(\"Sum of maximum sum \"+ \n",
    "                            \"increasing subsequence is \"+ \n",
    "                              maxSumIS(arr, n)); "
   ]
  },
  {
   "cell_type": "markdown",
   "metadata": {},
   "source": [
    "## **5. Convert array into Zig-Zag fashion**\n",
    "https://www.geeksforgeeks.org/convert-array-into-zig-zag-fashion/"
   ]
  },
  {
   "cell_type": "code",
   "execution_count": 19,
   "metadata": {},
   "outputs": [],
   "source": [
    "/*\n",
    "Given an array of DISTINCT elements, rearrange the elements of array in zig-zag fashion in O(n) time. \n",
    "The converted array should be in form a < b > c < d > e < f.\n",
    "Example:\n",
    "\n",
    "Input: arr[] = {4, 3, 7, 8, 6, 2, 1}\n",
    "Output: arr[] = {3, 7, 4, 8, 2, 6, 1}\n",
    "\n",
    "\n",
    "\n",
    "Input: arr[] = {1, 4, 3, 2}\n",
    "Output: arr[] = {1, 4, 2, 3}\n",
    "*/"
   ]
  },
  {
   "cell_type": "code",
   "execution_count": 20,
   "metadata": {},
   "outputs": [],
   "source": [
    "/*\n",
    "A Simple Solution is to first sort the array. \n",
    "After sorting, exclude the first element, swap the remaining elements in pairs. \n",
    "(i.e. keep arr[0] as it is, swap arr[1] and arr[2], swap arr[3] and arr[4], and so on).\n",
    "\n",
    "Time complexity: O(N log N) since we need to sort the array first.\n",
    "\n",
    "We can convert in O(n) time using an efficient approach. The idea is to use a modified one pass of bubble sort.\n",
    "\n",
    "Maintain a flag for representing which order(i.e. < or >) currently we need.\n",
    "If the current two elements are not in that order then swap those elements otherwise not.\n",
    "Let us see the main logic using three consecutive elements A, B, C.\n",
    "\n",
    "Suppose we are processing B and C currently and the current relation is ‘<', but we have B > C. \n",
    "Since current relation is ‘<' previous relation must be '>‘ i.e., A must be greater than B. \n",
    "So, the relation is A > B and B > C. We can deduce A > C. \n",
    "So if we swap B and C then the relation is A > C and C < B. \n",
    "Finally we get the desired order A C B\n",
    "\n",
    "Refer this for more explanation.\n",
    "\n",
    "Below image is a dry run of the above approach:\n",
    "*/"
   ]
  },
  {
   "cell_type": "markdown",
   "metadata": {},
   "source": [
    "<img src=\"https://media.geeksforgeeks.org/wp-content/cdn-uploads/20190620131651/Convert-array-into-Zig-Zag-fashion.png\" alt=\"IMG 4 Preview\" title=\"IMG 4\" style=\"width:700px;height:900px\"/>"
   ]
  },
  {
   "cell_type": "code",
   "execution_count": 21,
   "metadata": {},
   "outputs": [],
   "source": [
    "// Java program to sort an array in Zig-Zag form \n",
    "import java.util.Arrays; \n",
    "\n",
    "class Test \n",
    "{ \n",
    "\tstatic int arr[] = new int[]{4, 3, 7, 8, 6, 2, 1}; \n",
    "\t\n",
    "\t// Method for zig-zag conversion of array \n",
    "\tstatic void zigZag() \n",
    "\t{ \n",
    "\t\t// Flag true indicates relation \"<\" is expected, \n",
    "\t\t// else \">\" is expected. The first expected relation \n",
    "\t\t// is \"<\" \n",
    "\t\tboolean flag = true; \n",
    "\t\t\n",
    "\t\tint temp =0; \n",
    "\t\n",
    "\t\tfor (int i=0; i<=arr.length-2; i++) \n",
    "\t\t{ \n",
    "\t\t\tif (flag) /* \"<\" relation expected */\n",
    "\t\t\t{ \n",
    "\t\t\t\t/* If we have a situation like A > B > C, \n",
    "\t\t\t\twe get A > B < C by swapping B and C */\n",
    "\t\t\t\tif (arr[i] > arr[i+1]) \n",
    "\t\t\t\t{ \n",
    "\t\t\t\t\t// swap \n",
    "\t\t\t\t\ttemp = arr[i]; \n",
    "\t\t\t\t\tarr[i] = arr[i+1]; \n",
    "\t\t\t\t\tarr[i+1] = temp; \n",
    "\t\t\t\t} \n",
    "\t\t\t\t\n",
    "\t\t\t} \n",
    "\t\t\telse /* \">\" relation expected */\n",
    "\t\t\t{ \n",
    "\t\t\t\t/* If we have a situation like A < B < C, \n",
    "\t\t\t\twe get A < C > B by swapping B and C */\n",
    "\t\t\t\tif (arr[i] < arr[i+1]) \n",
    "\t\t\t\t{ \n",
    "\t\t\t\t\t// swap \n",
    "\t\t\t\t\ttemp = arr[i]; \n",
    "\t\t\t\t\tarr[i] = arr[i+1]; \n",
    "\t\t\t\t\tarr[i+1] = temp; \n",
    "\t\t\t\t} \n",
    "\t\t\t} \n",
    "\t\t\tflag = !flag; /* flip flag */\n",
    "\t\t} \n",
    "\t} \n",
    "\t\n",
    "\t// Driver method to test the above function \n",
    "\tpublic static void main() \n",
    "\t{ \n",
    "\t\tzigZag(); \n",
    "\t\tSystem.out.println(Arrays.toString(arr)); \n",
    "\t} \n",
    "} \n"
   ]
  },
  {
   "cell_type": "code",
   "execution_count": 22,
   "metadata": {},
   "outputs": [
    {
     "name": "stdout",
     "output_type": "stream",
     "text": [
      "[3, 7, 4, 8, 2, 6, 1]\n"
     ]
    }
   ],
   "source": [
    "Test.main()"
   ]
  },
  {
   "cell_type": "code",
   "execution_count": 23,
   "metadata": {},
   "outputs": [],
   "source": [
    "static int arr[] = new int[]{4, 3, 7, 8, 6, 2, 1}; "
   ]
  },
  {
   "cell_type": "code",
   "execution_count": 24,
   "metadata": {},
   "outputs": [],
   "source": [
    "// Method for zig-zag conversion of array \n",
    "static void zigZag() \n",
    "{ \n",
    "\t// Flag true indicates relation \"<\" is expected, \n",
    "\t// else \">\" is expected. The first expected relation \n",
    "\t// is \"<\" \n",
    "\tboolean flag = true; \n",
    "\t\n",
    "\tint temp =0; \n",
    "\n",
    "\tfor (int i=0; i<=arr.length-2; i++) \n",
    "\t{ \n",
    "\t\tif (flag) /* \"<\" relation expected */\n",
    "\t\t{ \n",
    "\t\t\t/* If we have a situation like A > B > C, \n",
    "\t\t\twe get A > B < C by swapping B and C */\n",
    "\t\t\tif (arr[i] > arr[i+1]) \n",
    "\t\t\t{ \n",
    "                // swap \n",
    "\t\t\t\ttemp = arr[i]; \n",
    "\t\t\t\tarr[i] = arr[i+1]; \n",
    "\t\t\t\tarr[i+1] = temp; \n",
    "\t\t\t} \n",
    "\t\t\t\n",
    "\t\t} \n",
    "\t\telse /* \">\" relation expected */\n",
    "\t\t{ \n",
    "\t\t\t/* If we have a situation like A < B < C, \n",
    "\t\t\twe get A < C > B by swapping B and C */\n",
    "\t\t\tif (arr[i] < arr[i+1]) \n",
    "\t\t\t{ \n",
    "\t\t\t\t// swap \n",
    "\t\t\t\ttemp = arr[i]; \n",
    "\t\t\t\tarr[i] = arr[i+1]; \n",
    "\t\t\t\tarr[i+1] = temp; \n",
    "\t\t\t} \n",
    "\t\t} \n",
    "\t\tflag = !flag; /* flip flag */\n",
    "\t} \n",
    "} "
   ]
  },
  {
   "cell_type": "code",
   "execution_count": 25,
   "metadata": {
    "scrolled": true
   },
   "outputs": [
    {
     "name": "stdout",
     "output_type": "stream",
     "text": [
      "[3, 7, 4, 8, 2, 6, 1]\n"
     ]
    }
   ],
   "source": [
    "zigZag(); \n",
    "System.out.println(Arrays.toString(arr)); "
   ]
  },
  {
   "cell_type": "markdown",
   "metadata": {},
   "source": [
    "## **6. Find a pair with the given difference**\n",
    "https://www.geeksforgeeks.org/find-a-pair-with-the-given-difference/"
   ]
  },
  {
   "cell_type": "code",
   "execution_count": 26,
   "metadata": {},
   "outputs": [],
   "source": [
    "/*\n",
    "Given an unsorted array and a number n, find if there exists a pair of elements in the array whose difference is n.\n",
    "Examples:\n",
    "\n",
    "Input: arr[] = {5, 20, 3, 2, 50, 80}, n = 78\n",
    "Output: Pair Found: (2, 80)\n",
    "\n",
    "Input: arr[] = {90, 70, 20, 80, 50}, n = 45\n",
    "Output: No Such Pair\n",
    "*/"
   ]
  },
  {
   "cell_type": "code",
   "execution_count": 27,
   "metadata": {},
   "outputs": [],
   "source": [
    "/*The simplest method is to run two loops, \n",
    "the outer loop picks the first element (smaller element) and the inner loop looks for the element picked by outer loop plus n. \n",
    "Time complexity of this method is O(n^2).\n",
    "\n",
    "We can use sorting and Binary Search to improve time complexity to O(nLogn). \n",
    "The first step is to sort the array in ascending order. \n",
    "Once the array is sorted, traverse the array from left to right, and for each element arr[i], binary search for arr[i] + n in arr[i+1..n-1]. \n",
    "If the element is found, return the pair.\n",
    "Both first and second steps take O(nLogn). So overall complexity is O(nLogn).\n",
    "\n",
    "The second step of the above algorithm can be improved to O(n). \n",
    "The first step remain same. The idea for second step is take two index variables i and j, initialize them as 0 and 1 respectively. \n",
    "Now run a linear loop. If arr[j] – arr[i] is smaller than n, we need to look for greater arr[j], so increment j. \n",
    "If arr[j] – arr[i] is greater than n, we need to look for greater arr[i], so increment i.\n",
    "The following code is only for the second step of the algorithm, it assumes that the array is already sorted.\n",
    "*/"
   ]
  },
  {
   "cell_type": "code",
   "execution_count": 28,
   "metadata": {},
   "outputs": [],
   "source": [
    "static boolean findPair(int arr[],int n) \n",
    "    { \n",
    "        int size = arr.length; \n",
    "  \n",
    "        // Initialize positions of two elements \n",
    "        int i = 0, j = 1; \n",
    "  \n",
    "        // Search for a pair \n",
    "        while (i < size && j < size) \n",
    "        { \n",
    "            if (i != j && arr[j]-arr[i] == n) \n",
    "            { \n",
    "                System.out.print(\"Pair Found: \"+ \n",
    "                                 \"( \"+arr[i]+\", \"+ arr[j]+\" )\"); \n",
    "                return true; \n",
    "            } \n",
    "            else if (arr[j] - arr[i] < n) \n",
    "                j++; \n",
    "            else\n",
    "                i++; \n",
    "        } \n",
    "  \n",
    "        System.out.print(\"No such pair\"); \n",
    "        return false; \n",
    "    } "
   ]
  },
  {
   "cell_type": "code",
   "execution_count": 29,
   "metadata": {},
   "outputs": [
    {
     "name": "stdout",
     "output_type": "stream",
     "text": [
      "Pair Found: ( 40, 100 )"
     ]
    },
    {
     "data": {
      "text/plain": [
       "true"
      ]
     },
     "execution_count": 29,
     "metadata": {},
     "output_type": "execute_result"
    }
   ],
   "source": [
    "int arr[] = {1, 8, 30, 40, 100}; \n",
    "int n = 60; \n",
    "findPair(arr,n);"
   ]
  },
  {
   "cell_type": "markdown",
   "metadata": {},
   "source": [
    "## **7. Chocolate Distribution Problem**\n",
    "https://www.geeksforgeeks.org/chocolate-distribution-problem/"
   ]
  },
  {
   "cell_type": "code",
   "execution_count": 30,
   "metadata": {},
   "outputs": [],
   "source": [
    "/*\n",
    "Given an array of n integers where each value represents number of chocolates in a packet. \n",
    "Each packet can have variable number of chocolates. \n",
    "There are m students, the task is to distribute chocolate packets such that:\n",
    "\n",
    "Each student gets one packet.\n",
    "The difference between the number of chocolates in packet with maximum chocolates and packet with minimum chocolates given to the students is minimum.\n",
    "Examples:\n",
    "\n",
    "Input : arr[] = {7, 3, 2, 4, 9, 12, 56}\n",
    "m = 3\n",
    "Output: Minimum Difference is 2\n",
    "We have seven packets of chocolates and\n",
    "we need to pick three packets for 3 students\n",
    "If we pick 2, 3 and 4, we get the minimum\n",
    "difference between maximum and minimum packet\n",
    "sizes.\n",
    "\n",
    "\n",
    "\n",
    "Input : arr[] = {3, 4, 1, 9, 56, 7, 9, 12}\n",
    "m = 5\n",
    "Output: Minimum Difference is 6\n",
    "The set goes like 3,4,7,9,9 and the output\n",
    "is 9-3 = 6\n",
    "\n",
    "Input : arr[] = {12, 4, 7, 9, 2, 23, 25, 41,\n",
    "30, 40, 28, 42, 30, 44, 48,\n",
    "43, 50}\n",
    "m = 7\n",
    "Output: Minimum Difference is 10\n",
    "We need to pick 7 packets. We pick 40, 41,\n",
    "42, 44, 48, 43 and 50 to minimize difference\n",
    "between maximum and minimum.\n",
    "*/"
   ]
  },
  {
   "cell_type": "code",
   "execution_count": 31,
   "metadata": {},
   "outputs": [],
   "source": [
    "/*\n",
    "A simple solution is to generate all subsets of size m of arr[0..n-1]. \n",
    "For every subset, find the difference between the maximum and minimum elements in it. Finally, return the minimum difference.\n",
    "\n",
    "An efficient solution is based on the observation that to minimize the difference, we must choose consecutive elements from a sorted packet. \n",
    "We first sort the array arr[0..n-1], then find the subarray of size m with the minimum difference between last and first elements.\n",
    "\n",
    "Below image is a dry run of the above approach:\n",
    "*/"
   ]
  },
  {
   "cell_type": "markdown",
   "metadata": {},
   "source": [
    "<img src=\"https://media.geeksforgeeks.org/wp-content/cdn-uploads/20190620132657/Chocolate-Distribution-Problem.png\" alt=\"IMG 7 Preview\" title=\"IMG 7\" style=\"width:750px;height:900px\"/>"
   ]
  },
  {
   "cell_type": "code",
   "execution_count": 32,
   "metadata": {},
   "outputs": [],
   "source": [
    "// arr[0..n-1] represents sizes of packets. m is number of students. \n",
    "// Returns minimum difference between maximum and minimum values of distribution. \n",
    "    static int findMinDiff(int arr[], int n, int m) \n",
    "    { \n",
    "        // if there are no chocolates or number of students is 0 \n",
    "        if (m == 0 || n == 0) \n",
    "            return 0; \n",
    "       \n",
    "        // Sort the given packets \n",
    "        Arrays.sort(arr); \n",
    "       \n",
    "        // Number of students cannot be more than number of packets \n",
    "        if (n < m) \n",
    "           return -1; \n",
    "       \n",
    "        // Largest number of chocolates \n",
    "        int min_diff = Integer.MAX_VALUE; \n",
    "       \n",
    "        // Find the subarray of size m such that difference between last \n",
    "        // (maximum in case of sorted) and first (minimum in case of sorted) \n",
    "        // elements of subarray is minimum. \n",
    "        int first = 0, last = 0; \n",
    "        for (int i = 0; i + m - 1 < n; i++) \n",
    "        { \n",
    "            int diff = arr[i+m-1] - arr[i]; \n",
    "            if (diff < min_diff) \n",
    "            { \n",
    "                min_diff = diff; \n",
    "                first = i; \n",
    "                last = i + m - 1; \n",
    "            } \n",
    "        } \n",
    "        return (arr[last] - arr[first]); \n",
    "    } "
   ]
  },
  {
   "cell_type": "code",
   "execution_count": 33,
   "metadata": {},
   "outputs": [
    {
     "name": "stdout",
     "output_type": "stream",
     "text": [
      "Minimum difference is 10\n"
     ]
    }
   ],
   "source": [
    "int arr[] = {12, 4, 7, 9, 2, 23, \n",
    "            25, 41, 30, 40, 28, \n",
    "            42, 30, 44, 48, 43, 50}; \n",
    "                     \n",
    "int m = 7;  // Number of students \n",
    "          \n",
    "int n = arr.length; \n",
    "System.out.println(\"Minimum difference is \"\n",
    "                + findMinDiff(arr, n, m));"
   ]
  },
  {
   "cell_type": "markdown",
   "metadata": {},
   "source": [
    "## **8. Minimum Number of Platforms Required for a Railway/Bus Station**\n",
    "https://www.geeksforgeeks.org/minimum-number-platforms-required-railwaybus-station/"
   ]
  },
  {
   "cell_type": "code",
   "execution_count": 34,
   "metadata": {},
   "outputs": [],
   "source": [
    "/*\n",
    "Given arrival and departure times of all trains that reach a railway station, the task is to find the minimum number of platforms required for the railway station so that no train waits.\n",
    "We are given two arrays which represent arrival and departure times of trains that stop\n",
    "\n",
    "Examples:\n",
    "\n",
    "Input: arr[] = {9:00, 9:40, 9:50, 11:00, 15:00, 18:00}\n",
    "dep[] = {9:10, 12:00, 11:20, 11:30, 19:00, 20:00}\n",
    "Output: 3\n",
    "There are at-most three trains at a time (time between 11:00 to 11:20)\n",
    "*/"
   ]
  },
  {
   "cell_type": "code",
   "execution_count": 35,
   "metadata": {},
   "outputs": [],
   "source": [
    "/*\n",
    "We need to find the maximum number of trains that are there on the given railway station at a time. \n",
    "A Simple Solution is to take every interval one by one and find the number of intervals that overlap with it. \n",
    "Keep track of maximum number of intervals that overlap with an interval. Finally return the maximum value. \n",
    "Time Complexity of this solution is O(n2).\n",
    "\n",
    "We can solve the above problem in O(N Log N) time. The idea is to consider all events in sorted order. \n",
    "Once we have all events in sorted order, we can trace the number of trains at any time keeping track of trains that have arrived, but not departed.\n",
    "\n",
    "For example consider the above example.\n",
    "\n",
    "    arr[]  = {9:00,  9:40, 9:50,  11:00, 15:00, 18:00}\n",
    "    dep[]  = {9:10, 12:00, 11:20, 11:30, 19:00, 20:00}\n",
    "\n",
    "All events sorted by time.\n",
    "Total platforms at any time can be obtained by subtracting total \n",
    "departures from total arrivals by that time.\n",
    " Time     Event Type     Total Platforms Needed at this Time                               \n",
    " 9:00       Arrival                  1\n",
    " 9:10       Departure                0\n",
    " 9:40       Arrival                  1\n",
    " 9:50       Arrival                  2\n",
    " 11:00      Arrival                  3 \n",
    " 11:20      Departure                2\n",
    " 11:30      Departure                1\n",
    " 12:00      Departure                0\n",
    " 15:00      Arrival                  1\n",
    " 18:00      Arrival                  2 \n",
    " 19:00      Departure                1\n",
    " 20:00      Departure                0\n",
    "\n",
    "Minimum Platforms needed on railway station = Maximum platforms needed at any time \n",
    "                                           = 3  \n",
    "Below is the implementation of the above approach. \n",
    "Note that the implementation doesn’t create a single sorted list of all events, \n",
    "rather it individually sorts arr[] and dep[] arrays, and then uses merge process of merge sort to process them together as a single sorted array.\n",
    "\n",
    "Note : This approach assumes that trains are arriving and departing on same date.\n",
    "*/"
   ]
  },
  {
   "cell_type": "code",
   "execution_count": 36,
   "metadata": {},
   "outputs": [],
   "source": [
    "// Returns minimum number of platforms reqquired \n",
    "static int findPlatform(int arr[], int dep[], int n) \n",
    "{ \n",
    "   // Sort arrival and departure arrays \n",
    "   Arrays.sort(arr); \n",
    "   Arrays.sort(dep); \n",
    "   \n",
    "   // plat_needed indicates number of platforms \n",
    "   // needed at a time \n",
    "   int plat_needed = 1, result = 1; \n",
    "   int i = 1, j = 0; \n",
    "   \n",
    "   // Similar to merge in merge sort to process  \n",
    "   // all events in sorted order \n",
    "   while (i < n && j < n) \n",
    "   { \n",
    "      // If next event in sorted order is arrival,  \n",
    "      // increment count of platforms needed \n",
    "      if (arr[i] <= dep[j]) \n",
    "      { \n",
    "          plat_needed++; \n",
    "          i++; \n",
    "   \n",
    "          // Update result if needed  \n",
    "          if (plat_needed > result)  \n",
    "              result = plat_needed; \n",
    "      } \n",
    "   \n",
    "      // Else decrement count of platforms needed \n",
    "      else\n",
    "      { \n",
    "          plat_needed--; \n",
    "          j++; \n",
    "      } \n",
    "   } \n",
    "   \n",
    "   return result; \n",
    "} "
   ]
  },
  {
   "cell_type": "code",
   "execution_count": 37,
   "metadata": {},
   "outputs": [
    {
     "name": "stdout",
     "output_type": "stream",
     "text": [
      "Minimum Number of Platforms Required = 3\n"
     ]
    }
   ],
   "source": [
    "public static void main() \n",
    "{ \n",
    "    int arr[] = {900, 940, 950, 1100, 1500, 1800}; \n",
    "    int dep[] = {910, 1200, 1120, 1130, 1900, 2000}; \n",
    "    int n = arr.length; \n",
    "    System.out.println(\"Minimum Number of Platforms Required = \"\n",
    "                        + findPlatform(arr, dep, n)); \n",
    "} \n",
    "main();"
   ]
  },
  {
   "cell_type": "markdown",
   "metadata": {},
   "source": [
    "## **9. Trapping Rain Water**\n",
    "https://www.geeksforgeeks.org/trapping-rain-water/"
   ]
  },
  {
   "cell_type": "code",
   "execution_count": 38,
   "metadata": {},
   "outputs": [],
   "source": [
    "/*\n",
    "Given n non-negative integers representing an elevation map where the width of each bar is 1, \n",
    "compute how much water it is able to trap after raining.\n",
    "Examples:\n",
    "\n",
    "Input: arr[]   = {2, 0, 2}\n",
    "Output: 2\n",
    "Structure is like below\n",
    "| |\n",
    "|_|\n",
    "We can trap 2 units of water in the middle gap.\n",
    "\n",
    "Input: arr[]   = {3, 0, 0, 2, 0, 4}\n",
    "Output: 10\n",
    "Structure is like below\n",
    "     |\n",
    "|    |\n",
    "|  | |\n",
    "|__|_| \n",
    "We can trap \"3*2 units\" of water between 3 an 2,\n",
    "\"1 unit\" on top of bar 2 and \"3 units\" between 2 \n",
    "and 4.  See below diagram also.\n",
    "\n",
    "Input: arr[] = [0, 1, 0, 2, 1, 0, 1, 3, 2, 1, 2, 1]\n",
    "Output: 6\n",
    "       | \n",
    "   |   || |\n",
    "_|_||_||||||\n",
    "Trap \"1 unit\" between first 1 and 2, \"4 units\" between\n",
    "first 2 and 3 and \"1 unit\" between second last 1 and last 2 \n",
    "*/\n"
   ]
  },
  {
   "cell_type": "markdown",
   "metadata": {},
   "source": [
    "<img src=\"https://www.geeksforgeeks.org/wp-content/uploads/watertrap.png\"/>\n"
   ]
  },
  {
   "cell_type": "code",
   "execution_count": 39,
   "metadata": {},
   "outputs": [],
   "source": [
    "/*\n",
    "An element of the array can store water if there are higher bars on left and right. \n",
    "We can find the amount of water to be stored in every element by finding the heights of bars on left and right sides. \n",
    "The idea is to compute the amount of water that can be stored in every element of array. \n",
    "For example, consider the array {3, 0, 0, 2, 0, 4}, \n",
    "we can store three units of water at indexes 1 and 2, \n",
    "and one unit of water at index 3, \n",
    "and three units of water at index 4.\n",
    "\n",
    "An Efficient Solution is to pre-compute highest bar on left and right of every bar in O(n) time. \n",
    "Then use these pre-computed values to find the amount of water in every array element.\n",
    "\n",
    "Below is the implementation of this solution.\n",
    "*/"
   ]
  },
  {
   "cell_type": "code",
   "execution_count": 40,
   "metadata": {},
   "outputs": [],
   "source": [
    "static int arr[] = new int[] { 0, 1, 0, 2, 1, 0, 1, 3, 2, 1, 2, 1 }; \n",
    "\n",
    "// Method for maximum amount of water \n",
    "static int findWater(int n) \n",
    "{ \n",
    "    // left[i] contains height of tallest bar to the \n",
    "    // left of i'th bar including itself \n",
    "    int left[] = new int[n]; \n",
    "\n",
    "    // Right [i] contains height of tallest bar to \n",
    "    // the right of ith bar including itself \n",
    "    int right[] = new int[n]; \n",
    "\n",
    "    // Initialize result \n",
    "    int water = 0; \n",
    "\n",
    "    // Fill left array \n",
    "    left[0] = arr[0]; \n",
    "    for (int i = 1; i < n; i++) \n",
    "        left[i] = Math.max(left[i - 1], arr[i]); \n",
    "\n",
    "    // Fill right array \n",
    "    right[n - 1] = arr[n - 1]; \n",
    "    for (int i = n - 2; i >= 0; i--) \n",
    "        right[i] = Math.max(right[i + 1], arr[i]); \n",
    "\n",
    "    // Calculate the accumulated water element by element \n",
    "    // consider the amount of water on i'th bar, the \n",
    "    // amount of water accumulated on this particular \n",
    "    // bar will be equal to min(left[i], right[i]) - arr[i] . \n",
    "    for (int i = 0; i < n; i++) \n",
    "        water += Math.min(left[i], right[i]) - arr[i]; \n",
    "\n",
    "    return water; \n",
    "} "
   ]
  },
  {
   "cell_type": "code",
   "execution_count": 41,
   "metadata": {},
   "outputs": [
    {
     "name": "stdout",
     "output_type": "stream",
     "text": [
      "Maximum water that can be accumulated is 6\n"
     ]
    }
   ],
   "source": [
    "System.out.println(\"Maximum water that can be accumulated is \" + findWater(arr.length)); "
   ]
  },
  {
   "cell_type": "markdown",
   "metadata": {},
   "source": [
    "## **10. Stock Buy Sell to Maximize Profit**\n",
    "https://www.geeksforgeeks.org/stock-buy-sell/"
   ]
  },
  {
   "cell_type": "code",
   "execution_count": 42,
   "metadata": {},
   "outputs": [],
   "source": [
    "/*\n",
    "The cost of a stock on each day is given in an array, \n",
    "find the max profit that you can make by buying and selling in those days. \n",
    "For example, if the given array is {100, 180, 260, 310, 40, 535, 695}, \n",
    "the maximum profit can earned by buying on day 0, selling on day 3. Again buy on day 4 and sell on day 6. \n",
    "If the given array of prices is sorted in decreasing order, then profit cannot be earned at all.\n",
    "*/"
   ]
  },
  {
   "cell_type": "code",
   "execution_count": 43,
   "metadata": {},
   "outputs": [],
   "source": [
    "/*\n",
    "Naive approach: \n",
    "A simple approach is to try buying the stocks and selling them on every single day \n",
    "when profitable and keep updating the maximum profit so far.\n",
    "*/"
   ]
  },
  {
   "cell_type": "code",
   "execution_count": 44,
   "metadata": {},
   "outputs": [],
   "source": [
    "static int maxProfit(int price[], int start, int end) \n",
    "{ \n",
    "  \n",
    "    // If the stocks can't be bought \n",
    "    if (end <= start) \n",
    "        return 0; \n",
    "  \n",
    "    // Initialise the profit \n",
    "    int profit = 0; \n",
    "  \n",
    "    // The day at which the stock \n",
    "    // must be bought \n",
    "    for (int i = start; i < end; i++)  \n",
    "    { \n",
    "  \n",
    "        // The day at which the \n",
    "        // stock must be sold \n",
    "        for (int j = i + 1; j <= end; j++) \n",
    "        { \n",
    "  \n",
    "            // If byuing the stock at ith day and \n",
    "            // selling it at jth day is profitable \n",
    "            if (price[j] > price[i])  \n",
    "            { \n",
    "  \n",
    "                // Update the current profit \n",
    "                int curr_profit = price[j] - price[i] \n",
    "                                + maxProfit(price, start, i - 1) \n",
    "                                + maxProfit(price, j + 1, end); \n",
    "  \n",
    "                // Update the maximum profit so far \n",
    "                profit = Math.max(profit, curr_profit); \n",
    "            } \n",
    "        } \n",
    "    } \n",
    "    return profit; \n",
    "} "
   ]
  },
  {
   "cell_type": "code",
   "execution_count": 45,
   "metadata": {},
   "outputs": [
    {
     "name": "stdout",
     "output_type": "stream",
     "text": [
      "865"
     ]
    }
   ],
   "source": [
    "int price[] = { 100, 180, 260, 310, \n",
    "                40, 535, 695 }; \n",
    "int n = price.length; \n",
    "\n",
    "System.out.print(maxProfit(price, 0, n - 1)); "
   ]
  },
  {
   "cell_type": "code",
   "execution_count": 46,
   "metadata": {},
   "outputs": [],
   "source": [
    "/*\n",
    "Efficient approach: If we are allowed to buy and sell only once, then we can use following algorithm. \n",
    "Maximum difference between two elements. Here we are allowed to buy and sell multiple times.\n",
    "Following is algorithm for this problem.\n",
    "\n",
    "Find the local minima and store it as starting index. If not exists, return.\n",
    "Find the local maxima. and store it as ending index. If we reach the end, set the end as ending index.\n",
    "Update the solution (Increment count of buy sell pairs)\n",
    "Repeat the above steps if end is not reached.\n",
    "*/"
   ]
  },
  {
   "cell_type": "code",
   "execution_count": 47,
   "metadata": {},
   "outputs": [],
   "source": [
    "class Interval { \n",
    "    int buy, sell; \n",
    "} \n",
    "  \n",
    "class StockBuySell { \n",
    "    // This function finds the buy sell schedule for maximum profit \n",
    "    void stockBuySell(int price[], int n) \n",
    "    { \n",
    "        // Prices must be given for at least two days \n",
    "        if (n == 1) \n",
    "            return; \n",
    "  \n",
    "        int count = 0; \n",
    "  \n",
    "        // solution array \n",
    "        ArrayList<Interval> sol = new ArrayList<Interval>(); \n",
    "  \n",
    "        // Traverse through given price array \n",
    "        int i = 0; \n",
    "        while (i < n - 1) { \n",
    "            // Find Local Minima. Note that the limit is (n-2) as we are \n",
    "            // comparing present element to the next element. \n",
    "            while ((i < n - 1) && (price[i + 1] <= price[i])) \n",
    "                i++; \n",
    "  \n",
    "            // If we reached the end, break as no further solution possible \n",
    "            if (i == n - 1) \n",
    "                break; \n",
    "  \n",
    "            Interval e = new Interval(); \n",
    "            e.buy = i++; \n",
    "            // Store the index of minima \n",
    "  \n",
    "            // Find Local Maxima.  Note that the limit is (n-1) as we are \n",
    "            // comparing to previous element \n",
    "            while ((i < n) && (price[i] >= price[i - 1])) \n",
    "                i++; \n",
    "  \n",
    "            // Store the index of maxima \n",
    "            e.sell = i - 1; \n",
    "            sol.add(e); \n",
    "  \n",
    "            // Increment number of buy/sell \n",
    "            count++; \n",
    "        } \n",
    "  \n",
    "        // print solution \n",
    "        if (count == 0) \n",
    "            System.out.println(\"There is no day when buying the stock \"\n",
    "                               + \"will make profit\"); \n",
    "        else\n",
    "            for (int j = 0; j < count; j++) \n",
    "                System.out.println(\"Buy on day: \" + sol.get(j).buy \n",
    "                                   + \"        \"\n",
    "                                   + \"Sell on day : \" + sol.get(j).sell); \n",
    "  \n",
    "        return; \n",
    "    } \n",
    "}"
   ]
  },
  {
   "cell_type": "code",
   "execution_count": 48,
   "metadata": {},
   "outputs": [
    {
     "name": "stdout",
     "output_type": "stream",
     "text": [
      "Buy on day: 0        Sell on day : 3\n",
      "Buy on day: 4        Sell on day : 6\n"
     ]
    }
   ],
   "source": [
    "StockBuySell stock = new StockBuySell(); \n",
    "  \n",
    "// stock prices on consecutive days \n",
    "int price[] = { 100, 180, 260, 310, 40, 535, 695 }; \n",
    "int n = price.length; \n",
    "\n",
    "// fucntion call \n",
    "stock.stockBuySell(price, n); "
   ]
  },
  {
   "cell_type": "markdown",
   "metadata": {},
   "source": [
    "## **11. Rotate a matrix by 90 degree without using any extra space | Set 2**\n",
    "https://www.geeksforgeeks.org/rotate-matrix-90-degree-without-using-extra-space-set-2/"
   ]
  },
  {
   "cell_type": "code",
   "execution_count": 49,
   "metadata": {},
   "outputs": [],
   "source": [
    "/*\n",
    "Given a square matrix, turn it by 90 degrees in anti-clockwise direction without using any extra space.\n",
    "\n",
    "Examples:\n",
    "\n",
    "Input\n",
    " 1  2  3\n",
    " 4  5  6\n",
    " 7  8  9\n",
    "Output:\n",
    " 3  6  9 \n",
    " 2  5  8 \n",
    " 1  4  7 \n",
    "\n",
    "Input:\n",
    " 1  2  3  4 \n",
    " 5  6  7  8 \n",
    " 9 10 11 12 \n",
    "13 14 15 16 \n",
    "Output:\n",
    " 4  8 12 16 \n",
    " 3  7 11 15 \n",
    " 2  6 10 14 \n",
    " 1  5  9 13\n",
    "*/"
   ]
  },
  {
   "cell_type": "code",
   "execution_count": 50,
   "metadata": {},
   "outputs": [],
   "source": [
    "/*\n",
    "There are two steps :\n",
    "\n",
    "- Find transpose of matrix.\n",
    "- Reverse columns of the transpose.\n",
    "\n",
    "Illustration of above steps :\n",
    "\n",
    "Let the given matrix be\n",
    "1  2  3  4\n",
    "5  6  7  8\n",
    "9  10 11 12\n",
    "13 14 15 16\n",
    "\n",
    "First we find transpose.\n",
    "1 5 9 13\n",
    "2 6 10 14\n",
    "3 7 11 15\n",
    "4 8 12 16\n",
    "\n",
    "Then we reverse elements of every column.\n",
    "4 8 12 16\n",
    "3 7 11 15\n",
    "2 6 10 14\n",
    "1 5  9 13\n",
    "*/"
   ]
  },
  {
   "cell_type": "code",
   "execution_count": 51,
   "metadata": {},
   "outputs": [],
   "source": [
    "class GFG { \n",
    "  \n",
    "    // After transpose we swap elements of \n",
    "    // column one by one for finding left \n",
    "    // rotation of matrix by 90 degree \n",
    "    static void reverseColumns(int arr[][]) \n",
    "    { \n",
    "        for (int i = 0; i < arr[0].length; i++) \n",
    "            for (int j = 0, k = arr[0].length - 1; j < k; j++, k--) { \n",
    "                int temp = arr[j][i]; \n",
    "                arr[j][i] = arr[k][i]; \n",
    "                arr[k][i] = temp; \n",
    "            } \n",
    "    } \n",
    "  \n",
    "    // Function for do transpose of matrix \n",
    "    static void transpose(int arr[][]) \n",
    "    { \n",
    "        for (int i = 0; i < arr.length; i++) \n",
    "            for (int j = i; j < arr[0].length; j++) { \n",
    "                int temp = arr[j][i]; \n",
    "                arr[j][i] = arr[i][j]; \n",
    "                arr[i][j] = temp; \n",
    "            } \n",
    "    } \n",
    "  \n",
    "    // Function for print matrix \n",
    "    static void printMatrix(int arr[][]) \n",
    "    { \n",
    "        for (int i = 0; i < arr.length; i++) { \n",
    "            for (int j = 0; j < arr[0].length; j++) \n",
    "                System.out.print(arr[i][j] + \" \"); \n",
    "            System.out.println(\"\"); \n",
    "        } \n",
    "    } \n",
    "  \n",
    "    // Function to anticlockwise rotate \n",
    "    // matrix by 90 degree \n",
    "    static void rotate90(int arr[][]) \n",
    "    { \n",
    "        transpose(arr); \n",
    "        reverseColumns(arr); \n",
    "    } \n",
    "}"
   ]
  },
  {
   "cell_type": "code",
   "execution_count": 52,
   "metadata": {},
   "outputs": [
    {
     "name": "stdout",
     "output_type": "stream",
     "text": [
      "4 8 12 16 \n",
      "3 7 11 15 \n",
      "2 6 10 14 \n",
      "1 5 9 13 \n"
     ]
    }
   ],
   "source": [
    "int arr[][] = { { 1, 2, 3, 4 }, \n",
    "                { 5, 6, 7, 8 }, \n",
    "                { 9, 10, 11, 12 }, \n",
    "                { 13, 14, 15, 16 } }; \n",
    "\n",
    "GFG.rotate90(arr); \n",
    "GFG.printMatrix(arr);"
   ]
  },
  {
   "cell_type": "markdown",
   "metadata": {},
   "source": [
    "## **12. Find k pairs with smallest sums in two arrays**\n",
    "https://www.geeksforgeeks.org/find-k-pairs-smallest-sums-two-arrays/"
   ]
  },
  {
   "cell_type": "code",
   "execution_count": 53,
   "metadata": {},
   "outputs": [],
   "source": [
    "/*\n",
    "Given two integer arrays arr1[] and arr2[] sorted in ascending order and an integer k.\n",
    "Find k pairs with smallest sums such that one element of a pair belongs to arr1[] and other element belongs to arr2[]\n",
    "\n",
    "Examples:\n",
    "\n",
    "Input :  arr1[] = {1, 7, 11}\n",
    "         arr2[] = {2, 4, 6}\n",
    "         k = 3\n",
    "Output : [1, 2],\n",
    "         [1, 4],\n",
    "         [1, 6]\n",
    "Explanation: The first 3 pairs are returned \n",
    "from the sequence [1, 2], [1, 4], [1, 6], \n",
    "[7, 2], [7, 4], [11, 2], [7, 6], [11, 4], \n",
    "[11, 6]\n",
    "*/"
   ]
  },
  {
   "cell_type": "code",
   "execution_count": 54,
   "metadata": {},
   "outputs": [],
   "source": [
    "/*\n",
    "We one by one find k smallest sum pairs, starting from least sum pair. \n",
    "The idea is to keep track of all elements of arr2[] which have been already considered for every element arr1[i1] so that in an iteration we only consider next element. \n",
    "For this purpose, we use an index array index2[] to track the indexes of next elements in the other array. \n",
    "It simply means that which element of second array to be added with the element of first array in each and every iteration. \n",
    "We increment value in index array for the element that forms next minimum value pair.\n",
    "*/"
   ]
  },
  {
   "cell_type": "code",
   "execution_count": 55,
   "metadata": {},
   "outputs": [],
   "source": [
    "class KSmallestPair \n",
    "{ \n",
    "    // Function to find k pairs with least sum such \n",
    "    // that one elemennt of a pair is from arr1[] and \n",
    "    // other element is from arr2[] \n",
    "    static void kSmallestPair(int arr1[], int n1, int arr2[], \n",
    "                                            int n2, int k) \n",
    "    { \n",
    "        if (k > n1*n2) \n",
    "        { \n",
    "            System.out.print(\"k pairs don't exist\"); \n",
    "            return ; \n",
    "        } \n",
    "       \n",
    "        // Stores current index in arr2[] for \n",
    "        // every element of arr1[]. Initially \n",
    "        // all values are considered 0. \n",
    "        // Here current index is the index before \n",
    "        // which all elements are considered as \n",
    "        // part of output. \n",
    "        int index2[] = new int[n1]; \n",
    "       \n",
    "        while (k > 0) \n",
    "        { \n",
    "            // Initialize current pair sum as infinite \n",
    "            int min_sum = Integer.MAX_VALUE; \n",
    "            int min_index = 0; \n",
    "       \n",
    "            // To pick next pair, traverse for all  \n",
    "            // elements of arr1[], for every element, find  \n",
    "            // corresponding current element in arr2[] and \n",
    "            // pick minimum of all formed pairs. \n",
    "            for (int i1 = 0; i1 < n1; i1++) \n",
    "            { \n",
    "                // Check if current element of arr1[] plus \n",
    "                // element of array2 to be used gives  \n",
    "                // minimum sum \n",
    "                if (index2[i1] < n2 &&  \n",
    "                    arr1[i1] + arr2[index2[i1]] < min_sum) \n",
    "                { \n",
    "                    // Update index that gives minimum \n",
    "                    min_index = i1; \n",
    "       \n",
    "                    // update minimum sum \n",
    "                    min_sum = arr1[i1] + arr2[index2[i1]]; \n",
    "                } \n",
    "            } \n",
    "       \n",
    "            System.out.print(\"(\" + arr1[min_index] + \", \" + \n",
    "                            arr2[index2[min_index]]+ \") \"); \n",
    "       \n",
    "            index2[min_index]++; \n",
    "            k--; \n",
    "        } \n",
    "    } \n",
    "}"
   ]
  },
  {
   "cell_type": "code",
   "execution_count": 56,
   "metadata": {},
   "outputs": [
    {
     "name": "stdout",
     "output_type": "stream",
     "text": [
      "(1, 2) (1, 4) (3, 2) (3, 4) "
     ]
    }
   ],
   "source": [
    "int arr1[] = {1, 3, 11}; \n",
    "int n1 = arr1.length; \n",
    "\n",
    "int arr2[] = {2, 4, 8}; \n",
    "int n2 = arr2.length; \n",
    "\n",
    "int k = 4; \n",
    "KSmallestPair kp = new KSmallestPair();\n",
    "kp.kSmallestPair( arr1, n1, arr2, n2, k); "
   ]
  },
  {
   "cell_type": "markdown",
   "metadata": {},
   "source": [
    "## **13. Search an element in a sorted and rotated array**\n",
    "https://www.geeksforgeeks.org/search-an-element-in-a-sorted-and-pivoted-array/"
   ]
  },
  {
   "cell_type": "code",
   "execution_count": 57,
   "metadata": {},
   "outputs": [],
   "source": [
    "/*\n",
    "An element in a sorted array can be found in O(log n) time via binary search. \n",
    "But suppose we rotate an ascending order sorted array at some pivot unknown to you beforehand. \n",
    "So for instance, 1 2 3 4 5 might become 3 4 5 1 2. \n",
    "Devise a way to find an element in the rotated array in O(log n) time.\n",
    "*/"
   ]
  },
  {
   "cell_type": "markdown",
   "metadata": {},
   "source": [
    "<img src=\"https://www.geeksforgeeks.org/wp-content/uploads/2009/08/sortedPivotedArray.gif\"/>"
   ]
  },
  {
   "cell_type": "code",
   "execution_count": 58,
   "metadata": {},
   "outputs": [],
   "source": [
    "/*\n",
    "Input  : arr[] = {5, 6, 7, 8, 9, 10, 1, 2, 3};\n",
    "         key = 3\n",
    "Output : Found at index 8\n",
    "\n",
    "Input  : arr[] = {5, 6, 7, 8, 9, 10, 1, 2, 3};\n",
    "         key = 30\n",
    "Output : Not found\n",
    "\n",
    "Input : arr[] = {30, 40, 50, 10, 20}\n",
    "        key = 10   \n",
    "Output : Found at index 3\n",
    "*/"
   ]
  },
  {
   "cell_type": "code",
   "execution_count": 59,
   "metadata": {},
   "outputs": [],
   "source": [
    "/*\n",
    "The idea is to find the pivot point, divide the array in two sub-arrays and call binary search.\n",
    "The main idea for finding pivot is – for a sorted (in increasing order) and pivoted array, pivot element is the only element for which next element to it is smaller than it.\n",
    "Using above criteria and binary search methodology we can get pivot element in O(logn) time\n",
    "\n",
    "Input arr[] = {3, 4, 5, 1, 2}\n",
    "Element to Search = 1\n",
    "  1) Find out pivot point and divide the array in two\n",
    "      sub-arrays. (pivot = 2) //Index of 5\n",
    "  2) Now call binary search for one of the two sub-arrays.\n",
    "      (a) If element is greater than 0th element then\n",
    "             search in left array\n",
    "      (b) Else Search in right array\n",
    "          (1 will go in else as 1 < 0th element(3))\n",
    "  3) If element is found in selected sub-array then return index\n",
    "     Else return -1.\n",
    "*/"
   ]
  },
  {
   "cell_type": "code",
   "execution_count": 60,
   "metadata": {},
   "outputs": [],
   "source": [
    "/*\n",
    "Improved Solution:\n",
    "We can search an element in one pass of Binary Search. The idea is to search\n",
    "\n",
    "1) Find middle point mid = (l + h)/2\n",
    "2) If key is present at middle point, return mid.\n",
    "3) Else If arr[l..mid] is sorted\n",
    "    a) If key to be searched lies in range from arr[l]\n",
    "       to arr[mid], recur for arr[l..mid].\n",
    "    b) Else recur for arr[mid+1..h]\n",
    "4) Else (arr[mid+1..h] must be sorted)\n",
    "    a) If key to be searched lies in range from arr[mid+1]\n",
    "       to arr[h], recur for arr[mid+1..h].\n",
    "    b) Else recur for arr[l..mid] \n",
    "Below is the implementation of above idea :\n",
    "*/"
   ]
  },
  {
   "cell_type": "code",
   "execution_count": 61,
   "metadata": {},
   "outputs": [],
   "source": [
    "// Returns index of key in arr[l..h]  \n",
    "// if key is present, otherwise returns -1 \n",
    "static int search(int arr[], int l, int h, int key) \n",
    "{ \n",
    "    if (l > h)  \n",
    "        return -1; \n",
    "\n",
    "    int mid = (l+h)/2; \n",
    "    if (arr[mid] == key) \n",
    "        return mid; \n",
    "\n",
    "    /* If arr[l...mid] first subarray is sorted */\n",
    "    if (arr[l] <= arr[mid]) \n",
    "    { \n",
    "        /* As this subarray is sorted, we  \n",
    "           can quickly check if key lies in  \n",
    "           half or other half */\n",
    "        if (key >= arr[l] && key <= arr[mid]) \n",
    "           return search(arr, l, mid-1, key); \n",
    "        /*If key not lies in first half subarray,  \n",
    "       Divide other half  into two subarrays, \n",
    "       such that we can quickly check if key lies  \n",
    "       in other half */\n",
    "        return search(arr, mid+1, h, key); \n",
    "    } \n",
    "\n",
    "    /* If arr[l..mid] first subarray is not sorted,  \n",
    "       then arr[mid... h] must be sorted subarry*/\n",
    "    if (key >= arr[mid] && key <= arr[h]) \n",
    "        return search(arr, mid+1, h, key); \n",
    "\n",
    "    return search(arr, l, mid-1, key); \n",
    "} "
   ]
  },
  {
   "cell_type": "code",
   "execution_count": 62,
   "metadata": {},
   "outputs": [
    {
     "name": "stdout",
     "output_type": "stream",
     "text": [
      "Index: 2\n"
     ]
    }
   ],
   "source": [
    "int arr[] = {4, 5, 6, 7, 8, 9, 1, 2, 3}; \n",
    "int n = arr.length; \n",
    "int key = 6; \n",
    "int i = search(arr, 0, n-1, key); \n",
    "if (i != -1)  \n",
    "    System.out.println(\"Index: \" + i); \n",
    "else\n",
    "    System.out.println(\"Key not found\"); "
   ]
  },
  {
   "cell_type": "markdown",
   "metadata": {},
   "source": [
    "## **14. Given a sorted and rotated array, find if there is a pair with a given sum**\n",
    "https://www.geeksforgeeks.org/given-a-sorted-and-rotated-array-find-if-there-is-a-pair-with-a-given-sum/"
   ]
  },
  {
   "cell_type": "code",
   "execution_count": 63,
   "metadata": {},
   "outputs": [],
   "source": [
    "/*\n",
    "Given an array that is sorted and then rotated around an unknown point. \n",
    "Find if the array has a pair with a given sum ‘x’. It may be assumed that all elements in the array are distinct.\n",
    "Examples :\n",
    "\n",
    "Input: arr[] = {11, 15, 6, 8, 9, 10}, x = 16\n",
    "Output: true\n",
    "There is a pair (6, 10) with sum 16\n",
    "\n",
    "Input: arr[] = {11, 15, 26, 38, 9, 10}, x = 35\n",
    "Output: true\n",
    "There is a pair (26, 9) with sum 35\n",
    "\n",
    "Input: arr[] = {11, 15, 26, 38, 9, 10}, x = 45\n",
    "Output: false\n",
    "There is no pair with sum 45.\n",
    "*/"
   ]
  },
  {
   "cell_type": "code",
   "execution_count": 64,
   "metadata": {},
   "outputs": [],
   "source": [
    "/*\n",
    "The idea is to first find the largest element in array which is the pivot point also and the element just after largest is the smallest element. \n",
    "Once we have indexes largest and smallest elements, we use similar meet in middle algorithm (as discussed here in method 1) to find if there is a pair. \n",
    "The only thing new here is indexes are incremented and decremented in rotational manner using modular arithmetic.\n",
    "*/"
   ]
  },
  {
   "cell_type": "code",
   "execution_count": 65,
   "metadata": {},
   "outputs": [],
   "source": [
    "/*\n",
    "METHOD 1 (Use Sorting)\n",
    "\n",
    "Algorithm :\n",
    "\n",
    "hasArrayTwoCandidates (A[], ar_size, sum)\n",
    "1) Sort the array in non-decreasing order.\n",
    "2) Initialize two index variables to find the candidate \n",
    "   elements in the sorted array.\n",
    "       (a) Initialize first to the leftmost index: l = 0\n",
    "       (b) Initialize second  the rightmost index:  r = ar_size-1\n",
    "3) Loop while l < r.\n",
    "       (a) If (A[l] + A[r] == sum)  then return 1\n",
    "       (b) Else if( A[l] + A[r] <  sum )  then l++\n",
    "       (c) Else r--    \n",
    "4) No candidates in whole array - return 0\n",
    "*/"
   ]
  },
  {
   "cell_type": "code",
   "execution_count": 66,
   "metadata": {},
   "outputs": [],
   "source": [
    "/*\n",
    "How to count all pairs having sum x?\n",
    "The stepwise algo is:\n",
    "\n",
    "1. Find the pivot element of the sorted and the rotated array. The pivot element is the largest element in the array. The smallest element will be adjacent to it.\n",
    "2. Use two pointers (say left and right) with the left pointer pointing to the smallest element and the right pointer pointing to largest element.\n",
    "3. Find the sum of the elements pointed by both the pointers.\n",
    "4. If the sum is equal to x, then increment the count. If the sum is less than x, then to increase sum move the left pointer to next position by incrementing it in a rotational manner. \n",
    "   If the sum is greater than x, then to decrease sum move the right pointer to next position by decrementing it in rotational manner.\n",
    "5. Repeat step 3 and 4 until the left pointer is not equal to the right pointer or until the left pointer is not equal to right pointer – 1.\n",
    "6. Print final count.\n",
    "*/"
   ]
  },
  {
   "cell_type": "code",
   "execution_count": 67,
   "metadata": {},
   "outputs": [],
   "source": [
    "static int pairsInSortedRotated(int arr[],  \n",
    "                                int n, int x) \n",
    "{ \n",
    "    // Find the pivot element.  \n",
    "    // Pivot element is largest  \n",
    "    // element of array. \n",
    "    int i; \n",
    "    for (i = 0; i < n - 1; i++) \n",
    "        if (arr[i] > arr[i + 1]) \n",
    "            break; \n",
    "      \n",
    "    // l is index of \n",
    "    // smallest element. \n",
    "    int l = (i + 1) % n;  \n",
    "      \n",
    "    // r is index of  \n",
    "    // largest element. \n",
    "    int r = i; \n",
    "      \n",
    "    // Variable to store \n",
    "    // count of number \n",
    "    // of pairs. \n",
    "    int cnt = 0; \n",
    "  \n",
    "    // Find sum of pair  \n",
    "    // formed by arr[l]  \n",
    "    // and arr[r] and  \n",
    "    // update l, r and  \n",
    "    // cnt accordingly. \n",
    "    while (l != r) \n",
    "    { \n",
    "        // If we find a pair with  \n",
    "        // sum x, then increment  \n",
    "        // cnt, move l and r to  \n",
    "        // next element. \n",
    "        if (arr[l] + arr[r] == x) \n",
    "        { \n",
    "            cnt++; \n",
    "              \n",
    "            // This condition is required  \n",
    "            // to be checked, otherwise  \n",
    "            // l and r will cross each  \n",
    "            // other and loop will never  \n",
    "            // terminate. \n",
    "            if(l == (r - 1 + n) % n) \n",
    "            { \n",
    "                return cnt; \n",
    "            } \n",
    "              \n",
    "            l = (l + 1) % n; \n",
    "            r = (r - 1 + n) % n; \n",
    "        } \n",
    "  \n",
    "        // If current pair sum  \n",
    "        // is less, move to  \n",
    "        // the higher sum side. \n",
    "        else if (arr[l] + arr[r] < x) \n",
    "            l = (l + 1) % n; \n",
    "          \n",
    "        // If current pair sum  \n",
    "        // is greater, move  \n",
    "        // to the lower sum side. \n",
    "        else\n",
    "            r = (n + r - 1) % n; \n",
    "    } \n",
    "      \n",
    "    return cnt; \n",
    "} "
   ]
  },
  {
   "cell_type": "code",
   "execution_count": 68,
   "metadata": {},
   "outputs": [
    {
     "name": "stdout",
     "output_type": "stream",
     "text": [
      "2\n"
     ]
    }
   ],
   "source": [
    "public static void main (String[] args)  \n",
    "{ \n",
    "    int arr[] = {11, 15, 6, 7, 9, 10}; \n",
    "    int sum = 16; \n",
    "    int n = arr.length; \n",
    "  \n",
    "    System.out.println( \n",
    "            pairsInSortedRotated(arr, n, sum)); \n",
    "} \n",
    "\n",
    "main(args)"
   ]
  },
  {
   "cell_type": "markdown",
   "metadata": {},
   "source": [
    "## **15. Maximum sum of i*arr[i] among all rotations of a given array**\n",
    "https://www.geeksforgeeks.org/maximum-sum-iarri-among-rotations-given-array/"
   ]
  },
  {
   "cell_type": "code",
   "execution_count": 69,
   "metadata": {},
   "outputs": [],
   "source": [
    "/*\n",
    "Given an array arr[] of n integers, find the maximum that maximizes the sum of the value of i*arr[i] where i varies from 0 to n-1.\n",
    "\n",
    "Examples :\n",
    "\n",
    "Input : arr[] = {8, 3, 1, 2}\n",
    "Output : 29\n",
    "Explanation : Let us see all rotations\n",
    "{8, 3, 1, 2} = 8*0 + 3*1 + 1*2 + 2*3 = 11\n",
    "{3, 1, 2, 8} = 3*0 + 1*1 + 2*2 + 8*3 = 29\n",
    "{1, 2, 8, 3} = 1*0 + 2*1 + 8*2 + 3*3 = 27\n",
    "{2, 8, 3, 1} = 2*0 + 8*1 + 3*2 + 1*1 = 17\n",
    "\n",
    "Input : arr[] = {3, 2, 1}\n",
    "Output : 7\n",
    "*/"
   ]
  },
  {
   "cell_type": "code",
   "execution_count": 70,
   "metadata": {},
   "outputs": [],
   "source": [
    "/*\n",
    "Method 1 (Naive Solution : O(n2) )\n",
    "A simple solution is to try all possible rotations. Compute sum of i*arr[i] for every rotation and return maximum sum. \n",
    "*/"
   ]
  },
  {
   "cell_type": "code",
   "execution_count": 71,
   "metadata": {},
   "outputs": [],
   "source": [
    "/*\n",
    "Method 2 (Efficient Solution : O(n) )\n",
    "The idea is to compute value of a rotation using value of previous rotation. \n",
    "When we rotate an array by one, following changes happen in sum of i*arr[i].\n",
    "1) Multiplier of arr[i-1] changes from 0 to n-1, i.e., arr[i-1] * (n-1) is added to current value.\n",
    "2) Multipliers of other terms is decremented by 1. i.e., (cum_sum – arr[i-1]) is subtracted from current value where cum_sum is sum of all numbers.\n",
    "\n",
    "next_val = curr_val - (cum_sum - arr[i-1]) + arr[i-1] * (n-1);\n",
    "\n",
    "next_val = Value of &Sum;i*arr[i] after one rotation.\n",
    "curr_val = Current value of &Sum;i*arr[i] \n",
    "cum_sum = Sum of all array elements, i.e., &Sum;arr[i].\n",
    "\n",
    "Lets take example {1, 2, 3}. Current value is 1*0+2*1+3*2\n",
    "= 8. Shifting it by one will make it {2, 3, 1} and next value\n",
    "will be 8 - (6 - 1) + 1*2 = 5 which is same as 2*0 + 3*1 + 1*2\n",
    "*/"
   ]
  },
  {
   "cell_type": "code",
   "execution_count": 72,
   "metadata": {},
   "outputs": [
    {
     "name": "stdout",
     "output_type": "stream",
     "text": [
      "29\n"
     ]
    }
   ],
   "source": [
    "static int maxSum(int arr[], int n) \n",
    "{ \n",
    "    // Compute sum of all array elements \n",
    "    int cum_sum = 0; \n",
    "    for (int i = 0; i < n; i++) \n",
    "        cum_sum += arr[i]; \n",
    "\n",
    "    // Compute sum of i*arr[i] for  \n",
    "    // initial configuration. \n",
    "    int curr_val = 0; \n",
    "    for (int i = 0; i < n; i++) \n",
    "        curr_val += i * arr[i]; \n",
    "\n",
    "    // Initialize result \n",
    "    int res = curr_val; \n",
    "\n",
    "    // Compute values for other iterations \n",
    "    for (int i = 1; i < n; i++) \n",
    "    { \n",
    "        // Compute next value using previous \n",
    "        // value in O(1) time \n",
    "        int next_val = curr_val - (cum_sum - \n",
    "                      arr[i-1]) + arr[i-1] * \n",
    "                      (n-1); \n",
    "\n",
    "        // Update current value \n",
    "        curr_val = next_val; \n",
    "\n",
    "        // Update result if required \n",
    "        res = Math.max(res, next_val); \n",
    "    } \n",
    "\n",
    "    return res; \n",
    "}\n",
    "public static void main(String[] args) \n",
    "{ \n",
    "    int arr[] = {8, 3, 1, 2}; \n",
    "    int n = arr.length; \n",
    "    System.out.println(maxSum(arr, n)); \n",
    "} \n",
    "main(args)\n",
    "    "
   ]
  },
  {
   "cell_type": "code",
   "execution_count": 73,
   "metadata": {},
   "outputs": [],
   "source": [
    "/*\n",
    "Method 3 (Using pivot: O(n) ):\n",
    "\n",
    "The pivot method can be used if the array is a sorted array or a rotated sorted array.\n",
    "For example: {1, 2, 3, 4} or {2, 3, 4, 1}, {3, 4, 1, 2} etc.\n",
    "\n",
    "Below is the implementation using pivot.\n",
    "*/"
   ]
  },
  {
   "cell_type": "code",
   "execution_count": 74,
   "metadata": {},
   "outputs": [
    {
     "name": "stdout",
     "output_type": "stream",
     "text": [
      "29\n"
     ]
    }
   ],
   "source": [
    "class Problem_15\n",
    "{ \n",
    "  \n",
    "    // function definition  \n",
    "    static int maxSum(int arr[], int n)  \n",
    "    { \n",
    "        int sum = 0; \n",
    "        int i; \n",
    "        int pivot = findPivot(arr, n); \n",
    "\n",
    "        // difference in pivot and index of \n",
    "        // last element of array \n",
    "        int diff = n - 1 - pivot;  \n",
    "        for(i = 0; i < n; i++) \n",
    "        {  \n",
    "            sum= sum + ((i + diff) % n) * arr[i]; \n",
    "        } \n",
    "        return sum; \n",
    "    } \n",
    "\n",
    "    // function to find pivot \n",
    "    static int findPivot(int arr[], int n) \n",
    "    { \n",
    "        int i; \n",
    "        for(i = 0; i < n; i++) \n",
    "        { \n",
    "            if(arr[i] > arr[(i + 1) % n]) \n",
    "                return i; \n",
    "        } \n",
    "        return 0; \n",
    "    } \n",
    "\n",
    "    // Driver code \n",
    "    public static void main(String args[]) \n",
    "    { \n",
    "        // rotated input array \n",
    "        int arr[] = {8, 3, 1, 2};  \n",
    "        int n = arr.length; \n",
    "        int max = maxSum(arr,n);  \n",
    "        System.out.println(max); \n",
    "\n",
    "    } \n",
    "} \n",
    "Problem_15.main(args)"
   ]
  },
  {
   "cell_type": "code",
   "execution_count": null,
   "metadata": {},
   "outputs": [],
   "source": []
  },
  {
   "cell_type": "markdown",
   "metadata": {},
   "source": [
    "## **16. Rearrange positive and negative numbers in O(n) time and O(1) extra space**\n",
    "https://www.geeksforgeeks.org/rearrange-positive-and-negative-numbers-publish/"
   ]
  },
  {
   "cell_type": "code",
   "execution_count": 75,
   "metadata": {},
   "outputs": [],
   "source": [
    "/*\n",
    "An array contains both positive and negative numbers in random order. \n",
    "Rearrange the array elements so that positive and negative numbers are placed alternatively. \n",
    "Number of positive and negative numbers need not be equal. \n",
    "If there are more positive numbers they appear at the end of the array. \n",
    "If there are more negative numbers, they too appear in the end of the array.\n",
    "\n",
    "For example, \n",
    "if the input array is [-1, 2, -3, 4, 5, 6, -7, 8, 9], \n",
    "then the output should be [9, -7, 8, -3, 5, -1, 2, 4, 6]\n",
    "*/"
   ]
  },
  {
   "cell_type": "code",
   "execution_count": 76,
   "metadata": {},
   "outputs": [],
   "source": [
    "//ORDER NOT MAINTAINED\n",
    "/*\n",
    "The solution is to first separate positive and negative numbers using partition process of QuickSort. \n",
    "In the partition process, consider 0 as value of pivot element so that all negative numbers are placed before positive numbers. \n",
    "Once negative and positive numbers are separated, we start from the first negative number and first positive number, \n",
    "and swap every alternate negative number with next positive number.\n",
    "*/"
   ]
  },
  {
   "cell_type": "code",
   "execution_count": 77,
   "metadata": {},
   "outputs": [
    {
     "name": "stdout",
     "output_type": "stream",
     "text": [
      "Array after rearranging: \n",
      "4   -3   5   -1   6   -7   2   8   9   "
     ]
    }
   ],
   "source": [
    "class Alternate { \n",
    "  \n",
    "    // The main function that rearranges elements of given \n",
    "    // array.  It puts positive elements at even indexes (0, \n",
    "    // 2, ..) and negative numbers at odd indexes (1, 3, ..). \n",
    "    static void rearrange(int arr[], int n) \n",
    "    { \n",
    "        // The following few lines are similar to partition \n",
    "        // process of QuickSort.  The idea is to consider 0 \n",
    "        // as pivot and divide the array around it. \n",
    "        int i = -1, temp = 0; \n",
    "        for (int j = 0; j < n; j++) \n",
    "        { \n",
    "            if (arr[j] < 0) \n",
    "            { \n",
    "                i++; \n",
    "                temp = arr[i]; \n",
    "                arr[i] = arr[j]; \n",
    "                arr[j] = temp; \n",
    "            } \n",
    "        } \n",
    "  \n",
    "        // Now all positive numbers are at end and negative numbers at \n",
    "        // the beginning of array. Initialize indexes for starting point \n",
    "        // of positive and negative numbers to be swapped \n",
    "        int pos = i+1, neg = 0; \n",
    "  \n",
    "        // Increment the negative index by 2 and positive index by 1, i.e., \n",
    "        // swap every alternate negative number with next positive number \n",
    "        while (pos < n && neg < pos && arr[neg] < 0) \n",
    "        { \n",
    "            temp = arr[neg]; \n",
    "            arr[neg] = arr[pos]; \n",
    "            arr[pos] = temp; \n",
    "            pos++; \n",
    "            neg += 2; \n",
    "        } \n",
    "    } \n",
    "  \n",
    "    // A utility function to print an array \n",
    "    static void printArray(int arr[], int n) \n",
    "    { \n",
    "        for (int i = 0; i < n; i++) \n",
    "            System.out.print(arr[i] + \"   \"); \n",
    "    } \n",
    "  \n",
    "    /*Driver function to check for above functions*/\n",
    "    public static void main (String[] args) \n",
    "    { \n",
    "        int arr[] = {-1, 2, -3, 4, 5, 6, -7, 8, 9}; \n",
    "        int n = arr.length; \n",
    "        rearrange(arr,n); \n",
    "        System.out.println(\"Array after rearranging: \"); \n",
    "        printArray(arr,n); \n",
    "    } \n",
    "} \n",
    "Alternate.main(args)"
   ]
  },
  {
   "cell_type": "code",
   "execution_count": 78,
   "metadata": {},
   "outputs": [],
   "source": [
    "//ORDER MAINTAINED\n",
    "/*\n",
    "The above problem can be easily solved if O(n) extra space is allowed. \n",
    "It becomes interesting due to the limitations that O(1) extra space and order of appearances.\n",
    "The idea is to process array from left to right. \n",
    "While processing, find the first out of place element in the remaining unprocessed array. \n",
    "An element is out of place if it is negative and at odd index, or it is positive and at even index. \n",
    "Once we find an out of place element, we find the first element after it with opposite sign. \n",
    "We right rotate the subarray between these two elements (including these two).\n",
    "*/"
   ]
  },
  {
   "cell_type": "code",
   "execution_count": 79,
   "metadata": {},
   "outputs": [],
   "source": [
    "class RearrangeArray  \n",
    "{ \n",
    "    // Utility function to right rotate all elements  \n",
    "    // between [outofplace, cur] \n",
    "    void rightrotate(int arr[], int n, int outofplace, int cur)  \n",
    "    { \n",
    "        int tmp = arr[cur]; \n",
    "        for (int i = cur; i > outofplace; i--) \n",
    "            arr[i] = arr[i - 1]; \n",
    "        arr[outofplace] = tmp; \n",
    "    } \n",
    "  \n",
    "    void rearrange(int arr[], int n)  \n",
    "    { \n",
    "        int outofplace = -1; \n",
    "  \n",
    "        for (int index = 0; index < n; index++)  \n",
    "        { \n",
    "            if (outofplace >= 0)  \n",
    "            { \n",
    "                // find the item which must be moved into the out-of-place \n",
    "                // entry if out-of-place entry is positive and current \n",
    "                // entry is negative OR if out-of-place entry is negative \n",
    "                // and current entry is negative then right rotate \n",
    "                // \n",
    "                // [...-3, -4, -5, 6...] -->   [...6, -3, -4, -5...] \n",
    "                //      ^                          ^ \n",
    "                //      |                          | \n",
    "                //     outofplace      -->      outofplace \n",
    "                // \n",
    "                if (((arr[index] >= 0) && (arr[outofplace] < 0)) \n",
    "                        || ((arr[index] < 0) && (arr[outofplace] >= 0)))  \n",
    "                { \n",
    "                    rightrotate(arr, n, outofplace, index); \n",
    "  \n",
    "                    // the new out-of-place entry is now 2 steps ahead \n",
    "                    if (index - outofplace > 2)  \n",
    "                        outofplace = outofplace + 2; \n",
    "                    else\n",
    "                        outofplace = -1; \n",
    "                } \n",
    "            } \n",
    "  \n",
    "            // if no entry has been flagged out-of-place \n",
    "            if (outofplace == -1)  \n",
    "            { \n",
    "                // check if current entry is out-of-place \n",
    "                if (((arr[index] >= 0) && ((index & 0x01)==0)) \n",
    "                        || ((arr[index] < 0) && (index & 0x01)==1)) \n",
    "                    outofplace = index; \n",
    "            } \n",
    "        } \n",
    "    } \n",
    "   \n",
    "    // A utility function to print an array 'arr[]' of size 'n' \n",
    "    void printArray(int arr[], int n)  \n",
    "    { \n",
    "        for (int i = 0; i < n; i++) \n",
    "            System.out.print(arr[i] + \" \"); \n",
    "        System.out.println(\"\"); \n",
    "    } \n",
    "  \n",
    "} "
   ]
  },
  {
   "cell_type": "code",
   "execution_count": 80,
   "metadata": {},
   "outputs": [
    {
     "name": "stdout",
     "output_type": "stream",
     "text": [
      "Given array is \n",
      "-5 -2 5 2 4 7 1 8 0 -8 \n",
      "RearrangeD array is \n",
      "-5 5 -2 2 -8 4 7 1 8 0 \n"
     ]
    }
   ],
   "source": [
    "public static void main(String[] args)  \n",
    "{ \n",
    "    RearrangeArray rearrange = new RearrangeArray(); \n",
    "    //int arr[n] = {-5, 3, 4, 5, -6, -2, 8, 9, -1, -4}; \n",
    "    //int arr[] = {-5, -3, -4, -5, -6, 2 , 8, 9, 1 , 4}; \n",
    "    //int arr[] = {5, 3, 4, 2, 1, -2 , -8, -9, -1 , -4}; \n",
    "    //int arr[] = {-5, 3, -4, -7, -1, -2 , -8, -9, 1 , -4}; \n",
    "    int arr[] = {-5, -2, 5, 2, 4, 7, 1, 8, 0, -8}; \n",
    "    int n = arr.length; \n",
    "\n",
    "    System.out.println(\"Given array is \"); \n",
    "    rearrange.printArray(arr, n); \n",
    "\n",
    "    rearrange.rearrange(arr, n); \n",
    "\n",
    "    System.out.println(\"RearrangeD array is \"); \n",
    "    rearrange.printArray(arr, n); \n",
    "} \n",
    "main(args)"
   ]
  },
  {
   "cell_type": "markdown",
   "metadata": {},
   "source": [
    "## **17. Three way partitioning of an array around a given range**\n",
    "https://www.geeksforgeeks.org/three-way-partitioning-of-an-array-around-a-given-range/"
   ]
  },
  {
   "cell_type": "code",
   "execution_count": 81,
   "metadata": {},
   "outputs": [],
   "source": [
    "/*\n",
    "Given an array and a range [lowVal, highVal], partition the array around the range such that array is divided in three parts.\n",
    "1) All elements smaller than lowVal come first.\n",
    "2) All elements in range lowVal to highVVal come next.\n",
    "3) All elements greater than highVVal appear in the end.\n",
    "The individual elements of three sets can appear in any order.\n",
    "\n",
    "Examples:\n",
    "\n",
    "Input: arr[] = {1, 14, 5, 20, 4, 2, 54, 20, 87, 98, 3, 1, 32}  \n",
    "        lowVal = 14, highVal = 20\n",
    "Output: arr[] = {1, 5, 4, 2, 1, 3, 14, 20, 20, 98, 87, 32, 54}\n",
    "\n",
    "Input: arr[] = {1, 14, 5, 20, 4, 2, 54, 20, 87, 98, 3, 1, 32}  \n",
    "       lowVal = 20, highVal = 20       \n",
    "Output: arr[] = {1, 14, 5, 4, 2, 1, 3, 20, 20, 98, 87, 32, 54} \n",
    "*/"
   ]
  },
  {
   "cell_type": "markdown",
   "metadata": {},
   "source": [
    "<img src = \"https://media.geeksforgeeks.org/wp-content/uploads/Threewaypartitioning.png\"/>"
   ]
  },
  {
   "cell_type": "code",
   "execution_count": 82,
   "metadata": {},
   "outputs": [],
   "source": [
    "/*\n",
    "A simple solution is to sort the array. This solution does a lot of extra rearrangements and requires O(n Log n) time.\n",
    "*/"
   ]
  },
  {
   "cell_type": "code",
   "execution_count": 83,
   "metadata": {},
   "outputs": [],
   "source": [
    "/*\n",
    "An efficient solution is based on Dutch National Flag based QuickSort (https://www.geeksforgeeks.org/3-way-quicksort-dutch-national-flag/). \n",
    "We traverse given array elements from left. \n",
    "We keep track of two pointers, first (called start in below code) to store next position of smaller element (smaller than range) from beginning; \n",
    "and second (called end in below code) to store next position of greater element from end.\n",
    "Time Complexity: O(n)\n",
    "Auxiliary Space: O(1)\n",
    "*/"
   ]
  },
  {
   "cell_type": "code",
   "execution_count": 84,
   "metadata": {},
   "outputs": [],
   "source": [
    "// Partitions arr[0..n-1] around [lowVal..highVal] \n",
    "public static void threeWayPartition(int[] arr, int lowVal, int highVal) \n",
    "{ \n",
    "\n",
    "    int  n = arr.length; \n",
    "\n",
    "    // Initialize ext available positions for \n",
    "    // smaller (than range) and greater lements \n",
    "    int start = 0, end = n-1; \n",
    "\n",
    "     // Traverse elements from left \n",
    "    for(int i = 0; i <= end;) \n",
    "    { \n",
    "\n",
    "        // If current element is smaller than \n",
    "        // range, put it on next available smaller \n",
    "        // position. \n",
    "\n",
    "        if(arr[i] < lowVal) \n",
    "        { \n",
    "\n",
    "            int temp = arr[start]; \n",
    "            arr[start] = arr[i]; \n",
    "            arr[i] = temp; \n",
    "            start++; \n",
    "            i++; \n",
    "\n",
    "        } \n",
    "\n",
    "        // If current element is greater than \n",
    "        // range, put it on next available greater \n",
    "        // position. \n",
    "        else if(arr[i] > highVal) \n",
    "        { \n",
    "\n",
    "            int temp = arr[end]; \n",
    "            arr[end] = arr[i]; \n",
    "            arr[i] = temp; \n",
    "            end--; \n",
    "\n",
    "        } \n",
    "\n",
    "        else\n",
    "           i++; \n",
    "    } \n",
    "\n",
    "}"
   ]
  },
  {
   "cell_type": "code",
   "execution_count": 85,
   "metadata": {},
   "outputs": [
    {
     "name": "stdout",
     "output_type": "stream",
     "text": [
      "Modified array \n",
      "1 5 4 2 1 3 14 20 20 98 87 32 54 "
     ]
    }
   ],
   "source": [
    "int arr[] = {1, 14, 5, 20, 4, 2, 54, 20, 87, 98, 3, 1, 32}; \n",
    "\n",
    "threeWayPartition(arr, 10, 20); \n",
    "\n",
    "System.out.println(\"Modified array \"); \n",
    "for (int i=0; i < arr.length; i++) \n",
    "{ \n",
    "    System.out.print(arr[i] + \" \"); \n",
    "\n",
    "}  "
   ]
  },
  {
   "cell_type": "markdown",
   "metadata": {},
   "source": [
    "## **18. Maximum Length Bitonic Subarray | Set 1 (O(n) time and O(n) space)**\n",
    "https://www.geeksforgeeks.org/maximum-length-bitonic-subarray/"
   ]
  },
  {
   "cell_type": "code",
   "execution_count": 86,
   "metadata": {},
   "outputs": [],
   "source": [
    "/*\n",
    "Given an array A[0 … n-1] containing n positive integers, \n",
    "a subarray A[i … j] is bitonic \n",
    "if there is a k with i <= k <= j \n",
    "such that A[i] <= A[i + 1] … = A[k + 1] >= .. A[j – 1] > = A[j]. \n",
    "Write a function that takes an array as argument and returns the length of the maximum length bitonic subarray.\n",
    "Expected time complexity of the solution is O(n).\n",
    "*/"
   ]
  },
  {
   "cell_type": "code",
   "execution_count": 87,
   "metadata": {},
   "outputs": [],
   "source": [
    "/*\n",
    "Simple Examples\n",
    "1) A[] = {12, 4, 78, 90, 45, 23}, the maximum length bitonic subarray is {4, 78, 90, 45, 23} which is of length 5.\n",
    "2) A[] = {20, 4, 1, 2, 3, 4, 2, 10}, the maximum length bitonic subarray is {1, 2, 3, 4, 2} which is of length 5.\n",
    "\n",
    "Extreme Examples\n",
    "1) A[] = {10}, the single element is bitnoic, so output is 1.\n",
    "2) A[] = {10, 20, 30, 40}, the complete array itself is bitonic, so output is 4.\n",
    "3) A[] = {40, 30, 20, 10}, the complete array itself is bitonic, so output is 4.\n",
    "*/"
   ]
  },
  {
   "cell_type": "code",
   "execution_count": 88,
   "metadata": {},
   "outputs": [],
   "source": [
    "/*\n",
    "Let us consider the array {12, 4, 78, 90, 45, 23} to understand the soultion.\n",
    "1) Construct an auxiliary array inc[] from left to right such that inc[i] contains length of the nondecreaing subarray ending at arr[i].\n",
    "For A[] = {12, 4, 78, 90, 45, 23}, inc[] is {1, 1, 2, 3, 1, 1}\n",
    "\n",
    "2) Construct another array dec[] from right to left such that dec[i] contains length of nonincreasing subarray starting at arr[i].\n",
    "For A[] = {12, 4, 78, 90, 45, 23}, dec[] is {2, 1, 1, 3, 2, 1}.\n",
    "\n",
    "3) Once we have the inc[] and dec[] arrays, all we need to do is find the maximum value of (inc[i] + dec[i] – 1).\n",
    "For {12, 4, 78, 90, 45, 23}, the max value of (inc[i] + dec[i] – 1) is 5 for i = 3.\n",
    "\n",
    "Time Complexity : O(n)\n",
    "Auxiliary Space : O(n)\n",
    "*/"
   ]
  },
  {
   "cell_type": "code",
   "execution_count": 89,
   "metadata": {},
   "outputs": [],
   "source": [
    "static int bitonic(int arr[], int n) \n",
    "{ \n",
    "    int[] inc = new int[n]; // Length of increasing subarray ending  \n",
    "                            // at all indexes \n",
    "    int[] dec = new int[n]; // Length of decreasing subarray starting \n",
    "                            // at all indexes \n",
    "    int max; \n",
    "\n",
    "    // Length of increasing sequence ending at first index is 1 \n",
    "    inc[0] = 1; \n",
    "\n",
    "    // Length of increasing sequence starting at first index is 1 \n",
    "    dec[n-1] = 1; \n",
    "\n",
    "    // Step 1) Construct increasing sequence array \n",
    "    for (int i = 1; i < n; i++) \n",
    "       inc[i] = (arr[i] >= arr[i-1])? inc[i-1] + 1: 1; \n",
    "\n",
    "    // Step 2) Construct decreasing sequence array \n",
    "    for (int i = n-2; i >= 0; i--) \n",
    "        dec[i] = (arr[i] >= arr[i+1])? dec[i+1] + 1: 1; \n",
    "\n",
    "    // Step 3) Find the length of maximum length bitonic sequence \n",
    "    max = inc[0] + dec[0] - 1; \n",
    "    for (int i = 1; i < n; i++) \n",
    "        if (inc[i] + dec[i] - 1 > max) \n",
    "            max = inc[i] + dec[i] - 1; \n",
    "\n",
    "    return max; \n",
    "} "
   ]
  },
  {
   "cell_type": "code",
   "execution_count": 90,
   "metadata": {},
   "outputs": [
    {
     "name": "stdout",
     "output_type": "stream",
     "text": [
      "Length of max length Bitnoic Subarray is 5\n"
     ]
    }
   ],
   "source": [
    "int arr[] = {12, 4, 78, 90, 45, 23}; \n",
    "int n = arr.length; \n",
    "System.out.println(\"Length of max length Bitnoic Subarray is \"\n",
    "                    + bitonic(arr, n)); "
   ]
  },
  {
   "cell_type": "code",
   "execution_count": 91,
   "metadata": {},
   "outputs": [],
   "source": [
    "/*\n",
    "The idea is to check longest bitonic subarray starting at A[i]. \n",
    "From A[i], first we will check for end of ascent and then end of descent.\n",
    "Overlapping of bitonic subarrays is taken into account by recording a nextStart position when it finds two equal values when going down the slope of the current subarray. \n",
    "If length of this subarray is greater than max_len, we will update max_len. \n",
    "We continue this process till end of array is reached.\n",
    "(O(n) time and O(1) Space)\n",
    "*/"
   ]
  },
  {
   "cell_type": "code",
   "execution_count": 92,
   "metadata": {},
   "outputs": [],
   "source": [
    "// Method to find length of longest bitonic  \n",
    "// subarray \n",
    "static int maxLenBitonic(int[] A,int n) \n",
    "{ \n",
    "    // if A is empty \n",
    "    if (n == 0) \n",
    "        return 0; \n",
    "\n",
    "    // initializing max_len \n",
    "    int maxLen=1; \n",
    "\n",
    "    int start=0; \n",
    "    int nextStart=0; \n",
    "\n",
    "    int j =0; \n",
    "    while (j < n-1) \n",
    "    {  \n",
    "        // look for end of ascent        \n",
    "        while (j<n-1 && A[j]<=A[j+1]) \n",
    "            j++; \n",
    "\n",
    "        // look for end of descent        \n",
    "        while (j<n-1 && A[j]>=A[j+1]){ \n",
    "\n",
    "            // adjusting nextStart; \n",
    "            // this will be necessarily executed at least once, \n",
    "            // when we detect the start of the descent \n",
    "            if (j<n-1 && A[j]>A[j+1]) \n",
    "                nextStart=j+1; \n",
    "\n",
    "            j++; \n",
    "        } \n",
    "\n",
    "        // updating maxLen, if required \n",
    "        maxLen = Math.max(maxLen,j-(start-1)); \n",
    "\n",
    "        start=nextStart; \n",
    "    } \n",
    "\n",
    "    return maxLen; \n",
    "} "
   ]
  },
  {
   "cell_type": "code",
   "execution_count": 93,
   "metadata": {},
   "outputs": [
    {
     "name": "stdout",
     "output_type": "stream",
     "text": [
      "Length of maximal length bitonic subarray is 5\n"
     ]
    }
   ],
   "source": [
    "int A[] = {12, 4, 78, 90, 45, 23}; \n",
    "System.out.println(\"Length of maximal length bitonic \" + \n",
    "                    \"subarray is \" + maxLenBitonic(A,A.length));"
   ]
  },
  {
   "cell_type": "markdown",
   "metadata": {},
   "source": [
    "## **19. Largest subarray with equal number of 0s and 1s**\n",
    "https://www.geeksforgeeks.org/largest-subarray-with-equal-number-of-0s-and-1s/"
   ]
  },
  {
   "cell_type": "code",
   "execution_count": 94,
   "metadata": {},
   "outputs": [],
   "source": [
    "/*\n",
    "Given an array containing only 0s and 1s, \n",
    "find the largest subarray which contain equal no of 0s and 1s. \n",
    "Expected time complexity is O(n).\n",
    "Examples:\n",
    "\n",
    "Input: arr[] = {1, 0, 1, 1, 1, 0, 0}\n",
    "Output: 1 to 6 (Starting and Ending indexes of output subarray)\n",
    "\n",
    "Input: arr[] = {1, 1, 1, 1}\n",
    "Output: No such subarray\n",
    "\n",
    "Input: arr[] = {0, 0, 1, 1, 0}\n",
    "Output: 0 to 3 Or 1 to 4\n",
    "*/"
   ]
  },
  {
   "cell_type": "code",
   "execution_count": 95,
   "metadata": {},
   "outputs": [],
   "source": [
    "/*\n",
    "Method 1 (Simple)\n",
    "A simple method is to use two nested loops. \n",
    "    The outer loop picks a starting point i. \n",
    "    The inner loop considers all subarrays starting from i. \n",
    "If size of a subarray is greater than maximum size so far, then update the maximum size.\n",
    "\n",
    "In the below code, 0s are considered as -1 and sum of all values from i to j is calculated. \n",
    "If sum becomes 0, then size of this subarray is compared with largest size so far.\n",
    "\n",
    "Time Complexity: O(n^2)\n",
    "Auxiliary Space: O(1)\n",
    "*/"
   ]
  },
  {
   "cell_type": "code",
   "execution_count": 96,
   "metadata": {},
   "outputs": [
    {
     "name": "stdout",
     "output_type": "stream",
     "text": [
      "0 to 5\n"
     ]
    }
   ],
   "source": [
    "class LargestSubArray \n",
    "{ \n",
    "\n",
    "\t// This function Prints the starting and ending \n",
    "\t// indexes of the largest subarray with equal \n",
    "\t// number of 0s and 1s. Also returns the size \n",
    "\t// of such subarray. \n",
    "\n",
    "\tint findSubArray(int arr[], int n) \n",
    "\t{ \n",
    "\t\tint sum = 0; \n",
    "\t\tint maxsize = -1, startindex = 0; \n",
    "\t\tint endindex = 0; \n",
    "\n",
    "\t\t// Pick a starting point as i \n",
    "\n",
    "\t\tfor (int i = 0; i < n - 1; i++) \n",
    "\t\t{ \n",
    "\t\t\tsum = (arr[i] == 0) ? -1 : 1; \n",
    "\n",
    "\t\t\t// Consider all subarrays starting from i \n",
    "\n",
    "\t\t\tfor (int j = i + 1; j < n; j++) \n",
    "\t\t\t{ \n",
    "\t\t\t\tif(arr[j] == 0) \n",
    "\t\t\t\t\tsum += -1; \n",
    "\t\t\t\telse\n",
    "\t\t\t\t\tsum += 1; \n",
    "\n",
    "\t\t\t\t// If this is a 0 sum subarray, then \n",
    "\t\t\t\t// compare it with maximum size subarray \n",
    "\t\t\t\t// calculated so far \n",
    "\n",
    "\t\t\t\tif (sum == 0 && maxsize < j - i + 1) \n",
    "\t\t\t\t{ \n",
    "\t\t\t\t\tmaxsize = j - i + 1; \n",
    "\t\t\t\t\tstartindex = i; \n",
    "\t\t\t\t} \n",
    "\t\t\t} \n",
    "\t\t} \n",
    "\t\tendindex = startindex+maxsize-1; \n",
    "\t\tif (maxsize == -1) \n",
    "\t\t\tSystem.out.println(\"No such subarray\"); \n",
    "\t\telse\n",
    "\t\t\tSystem.out.println(startindex+\" to \"+endindex); \n",
    "\n",
    "\t\treturn maxsize; \n",
    "\t} \n",
    "\n",
    "\t/* Driver program to test the above functions */\n",
    "\n",
    "\tpublic static void main(String[] args) \n",
    "\t{ \n",
    "\t\tLargestSubArray sub; \n",
    "\t\tsub = new LargestSubArray(); \n",
    "\t\tint arr[] = {1, 0, 0, 1, 0, 1, 1}; \n",
    "\t\tint size = arr.length; \n",
    "\n",
    "\t\tsub.findSubArray(arr, size); \n",
    "\t} \n",
    "} \n",
    "LargestSubArray.main(args)"
   ]
  },
  {
   "cell_type": "code",
   "execution_count": 97,
   "metadata": {},
   "outputs": [],
   "source": [
    "/*\n",
    "Method 2 (Tricky)\n",
    "Following is a solution that uses O(n) extra space and solves the problem in O(n) time complexity.\n",
    "Let input array be arr[] of size n and maxsize be the size of output subarray.\n",
    "1) Consider all 0 values as -1. The problem now reduces to find out the maximum length subarray with sum = 0.\n",
    "2) Create a temporary array sumleft[] of size n. \n",
    "   Store the sum of all elements from arr[0] to arr[i] in sumleft[i]. \n",
    "   This can be done in O(n) time.\n",
    "3) There are two cases, \n",
    "   the output subarray may start from 0th index or may start from some other index. \n",
    "   We will return the max of the values obtained by two cases.\n",
    "4) To find the maximum length subarray starting from 0th index, scan the sumleft[] and find the maximum i where sumleft[i] = 0.\n",
    "5) Now, we need to find the subarray where subarray sum is 0 and start index is not 0. \n",
    "   This problem is equivalent to finding two indexes i & j in sumleft[] such that sumleft[i] = sumleft[j] and j-i is maximum. \n",
    "   To solve this, we can create a hash table with size = max-min+1 \n",
    "      where min is the minimum value in the sumleft[] and max is the maximum value in the sumleft[]. \n",
    "   The idea is to hash the leftmost occurrences of all different values in sumleft[]. \n",
    "   The size of hash is chosen as max-min+1 because there can be these many different possible values in sumleft[]. \n",
    "   Initialize all values in hash as -1\n",
    "6) To fill and use hash[], traverse sumleft[] from 0 to n-1. \n",
    "   If a value is not present in hash[], then store its index in hash. \n",
    "   If the value is present, then calculate the difference of current index of sumleft[] and previously stored value in hash[]. \n",
    "   If this difference is more than maxsize, then update the maxsize.\n",
    "7) To handle corner cases (all 1s and all 0s), we initialize maxsize as -1. \n",
    "   If the maxsize remains -1, then print there is no such subarray.\n",
    "   \n",
    "Time Complexity: O(n)\n",
    "Auxiliary Space: O(n)\n",
    "*/"
   ]
  },
  {
   "cell_type": "code",
   "execution_count": 98,
   "metadata": {},
   "outputs": [],
   "source": [
    "// Returns largest subarray with equal number of 0s and 1s \n",
    "\n",
    "int maxLen(int arr[], int n)  \n",
    "{ \n",
    "    // Creates an empty hashMap hM \n",
    "\n",
    "    HashMap<Integer, Integer> hM = new HashMap<Integer, Integer>(); \n",
    "\n",
    "    int sum = 0;     // Initialize sum of elements \n",
    "    int max_len = 0; // Initialize result \n",
    "    int ending_index = -1; \n",
    "    int start_index = 0; \n",
    "\n",
    "    for (int i = 0; i < n; i++)  \n",
    "    { \n",
    "        arr[i] = (arr[i] == 0) ? -1 : 1; \n",
    "    } \n",
    "\n",
    "    // Traverse through the given array \n",
    "\n",
    "    for (int i = 0; i < n; i++)  \n",
    "    { \n",
    "        // Add current element to sum \n",
    "\n",
    "        sum += arr[i]; \n",
    "\n",
    "        // To handle sum=0 at last index \n",
    "\n",
    "        if (sum == 0)  \n",
    "        { \n",
    "            max_len = i + 1; \n",
    "            ending_index = i; \n",
    "        } \n",
    "\n",
    "        // If this sum is seen before, then update max_len \n",
    "        // if required \n",
    "\n",
    "        if (hM.containsKey(sum + n))  \n",
    "        { \n",
    "            if (max_len < i - hM.get(sum + n))  \n",
    "            { \n",
    "                max_len = i - hM.get(sum + n); \n",
    "                ending_index = i; \n",
    "            } \n",
    "        }  \n",
    "        else // Else put this sum in hash table \n",
    "            hM.put(sum + n, i); \n",
    "    } \n",
    "\n",
    "    for (int i = 0; i < n; i++)  \n",
    "    { \n",
    "        arr[i] = (arr[i] == -1) ? 0 : 1; \n",
    "    } \n",
    "\n",
    "    int end = ending_index - max_len + 1; \n",
    "    System.out.println(end + \" to \" + ending_index); \n",
    "\n",
    "    return max_len; \n",
    "} "
   ]
  },
  {
   "cell_type": "code",
   "execution_count": 99,
   "metadata": {},
   "outputs": [
    {
     "name": "stdout",
     "output_type": "stream",
     "text": [
      "0 to 5\n"
     ]
    },
    {
     "data": {
      "text/plain": [
       "6"
      ]
     },
     "execution_count": 99,
     "metadata": {},
     "output_type": "execute_result"
    }
   ],
   "source": [
    "int arr[] = {1, 0, 0, 1, 0, 1, 1}; \n",
    "int n = arr.length; \n",
    "\n",
    "maxLen(arr, n); "
   ]
  },
  {
   "cell_type": "markdown",
   "metadata": {},
   "source": [
    "## **20. Maximum Product Subarray**\n",
    "https://www.geeksforgeeks.org/maximum-product-subarray/"
   ]
  },
  {
   "cell_type": "code",
   "execution_count": 100,
   "metadata": {},
   "outputs": [],
   "source": [
    "/*\n",
    "Given an array that contains both positive and negative integers, \n",
    "find the product of the maximum product subarray. Expected Time complexity is O(n) and only O(1) extra space can be used.\n",
    "Examples:\n",
    "\n",
    "Input: arr[] = {6, -3, -10, 0, 2}\n",
    "Output:   180  // The subarray is {6, -3, -10}\n",
    "\n",
    "Input: arr[] = {-1, -3, -10, 0, 60}\n",
    "Output:   60  // The subarray is {60}\n",
    "\n",
    "Input: arr[] = {-2, -3, 0, -2, -40}\n",
    "Output:   80  // The subarray is {-2, -40}\n",
    "*/"
   ]
  },
  {
   "cell_type": "code",
   "execution_count": 101,
   "metadata": {},
   "outputs": [],
   "source": [
    "/*\n",
    "The following solution assumes that the given input array always has a positive output. \n",
    "The solution works for all cases mentioned above. \n",
    "It doesn’t work for arrays like {0, 0, -20, 0}, {0, 0, 0}.. etc. \n",
    "The solution can be easily modified to handle this case.\n",
    "\n",
    "It is similar to Largest Sum Contiguous Subarray problem. \n",
    "The only thing to note here is, \n",
    "   maximum product can also be obtained by minimum (negative) product ending with the previous element multiplied by this element. \n",
    "   For example, in array {12, 2, -3, -5, -6, -2}, \n",
    "      when we are at element -2, the maximum product is multiplication of, minimum product ending with -6 and -2.\n",
    "      \n",
    "Time Complexity: O(n)\n",
    "Auxiliary Space: O(1)\n",
    "*/"
   ]
  },
  {
   "cell_type": "code",
   "execution_count": 102,
   "metadata": {},
   "outputs": [],
   "source": [
    "static int maxSubarrayProduct(int arr[]) \n",
    "{ \n",
    "    int n = arr.length; \n",
    "    // max positive product ending at the current position \n",
    "    int max_ending_here = 1; \n",
    "\n",
    "    // min negative product ending at the current position \n",
    "    int min_ending_here = 1; \n",
    "\n",
    "    // Initialize overall max product \n",
    "    int max_so_far = 1; \n",
    "    int flag = 0; \n",
    "\n",
    "    /* Traverse through the array. Following \n",
    "    values are maintained after the ith iteration: \n",
    "    max_ending_here is always 1 or some positive product \n",
    "                    ending with arr[i] \n",
    "    min_ending_here is always 1 or some negative product \n",
    "                    ending with arr[i] */\n",
    "    for (int i = 0; i < n; i++) { \n",
    "        /* If this element is positive, update max_ending_here. \n",
    "            Update min_ending_here only if min_ending_here is \n",
    "            negative */\n",
    "        if (arr[i] > 0) { \n",
    "            max_ending_here = max_ending_here * arr[i]; \n",
    "            min_ending_here = Math.min(min_ending_here * arr[i], 1); \n",
    "            flag = 1; \n",
    "        } \n",
    "\n",
    "        /* If this element is 0, then the maximum product cannot \n",
    "        end here, make both max_ending_here and min_ending \n",
    "        _here 0 \n",
    "        Assumption: Output is alway greater than or equal to 1. */\n",
    "        else if (arr[i] == 0) { \n",
    "            max_ending_here = 1; \n",
    "            min_ending_here = 1; \n",
    "        } \n",
    "\n",
    "        /* If element is negative. This is tricky \n",
    "        max_ending_here can either be 1 or positive. \n",
    "        min_ending_here can either be 1 or negative. \n",
    "        next min_ending_here will always be prev. \n",
    "        max_ending_here * arr[i] \n",
    "        next max_ending_here will be 1 if prev \n",
    "        min_ending_here is 1, otherwise \n",
    "        next max_ending_here will be  \n",
    "                    prev min_ending_here * arr[i] */\n",
    "        else { \n",
    "            int temp = max_ending_here; \n",
    "            max_ending_here = Math.max(min_ending_here * arr[i], 1); \n",
    "            min_ending_here = temp * arr[i]; \n",
    "        } \n",
    "\n",
    "        // update max_so_far, if needed \n",
    "        if (max_so_far < max_ending_here) \n",
    "            max_so_far = max_ending_here; \n",
    "    } \n",
    "\n",
    "    if (flag == 0 && max_so_far == 1) \n",
    "        return 0; \n",
    "    return max_so_far; \n",
    "} "
   ]
  },
  {
   "cell_type": "code",
   "execution_count": 103,
   "metadata": {},
   "outputs": [
    {
     "name": "stdout",
     "output_type": "stream",
     "text": [
      "Maximum Sub array product is 112\n"
     ]
    }
   ],
   "source": [
    "int arr[] = { 1, -2, -3, 0, 7, -8, -2 }; \n",
    "System.out.println(\"Maximum Sub array product is \"\n",
    "                   + maxSubarrayProduct(arr));"
   ]
  },
  {
   "cell_type": "markdown",
   "metadata": {},
   "source": [
    "## **21. Count Inversions in an array | Set 1 (Using Merge Sort)**\n",
    "https://www.geeksforgeeks.org/counting-inversions/"
   ]
  },
  {
   "cell_type": "code",
   "execution_count": 104,
   "metadata": {},
   "outputs": [],
   "source": [
    "/*\n",
    "Inversion Count for an array indicates – how far (or close) the array is from being sorted. \n",
    "If array is already sorted then inversion count is 0. \n",
    "If array is sorted in reverse order that inversion count is the maximum.\n",
    "Formally speaking, two elements a[i] and a[j] form an inversion if a[i] > a[j] and i < j\n",
    "\n",
    "Example:\n",
    "The sequence 2, 4, 1, 3, 5 has three inversions (2, 1), (4, 1), (4, 3).\n",
    "\n",
    "Time Complexity: O(n^2)\n",
    "*/"
   ]
  },
  {
   "cell_type": "code",
   "execution_count": 105,
   "metadata": {},
   "outputs": [
    {
     "name": "stdout",
     "output_type": "stream",
     "text": [
      "Number of inversions are 5\n"
     ]
    }
   ],
   "source": [
    "// Java program to count \n",
    "// inversions in an array \n",
    "class Test { \n",
    "\tstatic int arr[] = new int[] { 1, 20, 6, 4, 5 }; \n",
    "\n",
    "\tstatic int getInvCount(int n) \n",
    "\t{ \n",
    "\t\tint inv_count = 0; \n",
    "\t\tfor (int i = 0; i < n - 1; i++) \n",
    "\t\t\tfor (int j = i + 1; j < n; j++) \n",
    "\t\t\t\tif (arr[i] > arr[j]) \n",
    "\t\t\t\t\tinv_count++; \n",
    "\n",
    "\t\treturn inv_count; \n",
    "\t} \n",
    "\n",
    "\t// Driver method to test the above function \n",
    "\tpublic static void main(String[] args) \n",
    "\t{ \n",
    "\t\tSystem.out.println(\"Number of inversions are \"\n",
    "\t\t\t\t\t\t+ getInvCount(arr.length)); \n",
    "\t} \n",
    "} \n",
    "Test.main(args)"
   ]
  },
  {
   "cell_type": "code",
   "execution_count": 106,
   "metadata": {},
   "outputs": [],
   "source": [
    "/*\n",
    "METHOD 2(Enhance Merge Sort)\n",
    "Suppose we know the number of inversions in the left half and right half of the array (let be inv1 and inv2), \n",
    "what kinds of inversions are not accounted for in Inv1 + Inv2? \n",
    "The answer is – the inversions we have to count during the merge step. \n",
    "Therefore, to get number of inversions, we need to add number of inversions in left subarray, right subarray and merge().\n",
    "*/"
   ]
  },
  {
   "cell_type": "markdown",
   "metadata": {},
   "source": [
    "<img src = \"https://media.geeksforgeeks.org/wp-content/uploads/count1.jpg\"/>"
   ]
  },
  {
   "cell_type": "code",
   "execution_count": 107,
   "metadata": {},
   "outputs": [],
   "source": [
    "/*\n",
    "How to get number of inversions in merge()?\n",
    "In merge process, \n",
    "    let i is used for indexing left sub-array and j for right sub-array. \n",
    "    At any step in merge(), \n",
    "        if a[i] is greater than a[j], \n",
    "        then there are (mid – i) inversions. \n",
    "        because left and right subarrays are sorted, \n",
    "        so all the remaining elements in left-subarray (a[i+1], a[i+2] … a[mid]) will be greater than a[j]\n",
    "*/"
   ]
  },
  {
   "cell_type": "markdown",
   "metadata": {},
   "source": [
    "<img src = \"https://media.geeksforgeeks.org/wp-content/uploads/count2.jpg\"/>"
   ]
  },
  {
   "cell_type": "markdown",
   "metadata": {},
   "source": [
    "**The complete picture:**"
   ]
  },
  {
   "cell_type": "markdown",
   "metadata": {},
   "source": [
    "<img src = \"https://media.geeksforgeeks.org/wp-content/uploads/count3.jpg\"/>"
   ]
  },
  {
   "cell_type": "code",
   "execution_count": 108,
   "metadata": {},
   "outputs": [],
   "source": [
    "/*\n",
    "Time Complexity: O(N log N)\n",
    "Algorithmic Paradigm: Divide and Conquer\n",
    "*/"
   ]
  },
  {
   "cell_type": "code",
   "execution_count": 109,
   "metadata": {},
   "outputs": [],
   "source": [
    "// Function to count the number of inversions \n",
    "// during the merge process \n",
    "private static int mergeAndCount(int[] arr, int l, int m, int r) \n",
    "{ \n",
    "\n",
    "    // Left subarray \n",
    "    int[] left = Arrays.copyOfRange(arr, l, m + 1); \n",
    "\n",
    "    // Right subarray \n",
    "    int[] right = Arrays.copyOfRange(arr, m + 1, r + 1); \n",
    "\n",
    "    int i = 0, j = 0, k = l, swaps = 0; \n",
    "\n",
    "    while (i < left.length && j < right.length) { \n",
    "        if (left[i] <= right[j]) \n",
    "            arr[k++] = left[i++]; \n",
    "        else { \n",
    "            arr[k++] = right[j++]; \n",
    "            swaps += (m + 1) - (l + i); \n",
    "        } \n",
    "    } \n",
    "\n",
    "    // Fill from the rest of the left subarray \n",
    "    while (i < left.length) \n",
    "        arr[k++] = left[i++]; \n",
    "\n",
    "    // Fill from the rest of the right subarray \n",
    "    while (j < right.length) \n",
    "        arr[k++] = right[j++]; \n",
    "\n",
    "    return swaps; \n",
    "} "
   ]
  },
  {
   "cell_type": "code",
   "execution_count": 110,
   "metadata": {},
   "outputs": [],
   "source": [
    "// Merge sort function \n",
    "private static int mergeSortAndCount(int[] arr, int l, int r) \n",
    "{ \n",
    "\n",
    "    // Keeps track of the inversion count at a \n",
    "    // particular node of the recursion tree \n",
    "    int count = 0; \n",
    "\n",
    "    if (l < r) { \n",
    "        int m = (l + r) / 2; \n",
    "\n",
    "        // Total inversion count = left subarray count \n",
    "        // + right subarray count + merge count \n",
    "\n",
    "        // Left subarray count \n",
    "        count += mergeSortAndCount(arr, l, m); \n",
    "\n",
    "        // Right subarray count \n",
    "        count += mergeSortAndCount(arr, m + 1, r); \n",
    "\n",
    "        // Merge count \n",
    "        count += mergeAndCount(arr, l, m, r); \n",
    "    } \n",
    "\n",
    "    return count; \n",
    "} "
   ]
  },
  {
   "cell_type": "code",
   "execution_count": 111,
   "metadata": {},
   "outputs": [
    {
     "ename": "CompilationException",
     "evalue": "",
     "output_type": "error",
     "traceback": [
      "\u001b[1m\u001b[30m|   \u001b[1m\u001b[30m\u001b[0m\u001b[1m\u001b[30m\u001b[41mmain\u001b[0m\u001b[1m\u001b[30m(args)\u001b[0m",
      "\u001b[1m\u001b[31mreference to main is ambiguous\u001b[0m",
      "\u001b[1m\u001b[31m  both method main(java.lang.String[]) in  and method main(java.lang.String[]) in  match\u001b[0m",
      ""
     ]
    }
   ],
   "source": [
    "public static void main(String[] args) \n",
    "{ \n",
    "    int[] arr = { 1, 20, 6, 4, 5 }; \n",
    "\n",
    "    System.out.println(mergeSortAndCount(arr, 0, arr.length - 1)); \n",
    "} \n",
    "main(args)"
   ]
  },
  {
   "cell_type": "markdown",
   "metadata": {},
   "source": [
    "## **22. Segregate 0s and 1s in an array**\n",
    "https://www.geeksforgeeks.org/segregate-0s-and-1s-in-an-array-by-traversing-array-once/"
   ]
  },
  {
   "cell_type": "code",
   "execution_count": 112,
   "metadata": {},
   "outputs": [],
   "source": [
    "/*\n",
    "You are given an array of 0s and 1s in random order. \n",
    "Segregate 0s on left side and 1s on right side of the array. \n",
    "Traverse array only once.\n",
    "Input array   =  [0, 1, 0, 1, 0, 0, 1, 1, 1, 0] \n",
    "Output array =  [0, 0, 0, 0, 0, 1, 1, 1, 1, 1]\n",
    "*/"
   ]
  },
  {
   "cell_type": "code",
   "execution_count": 113,
   "metadata": {},
   "outputs": [],
   "source": [
    "/*\n",
    "Method 1 (Count 0s or 1s)\n",
    "Thanks to Naveen for suggesting this method.\n",
    "1) Count the number of 0s. Let count be C.\n",
    "2) Once we have count, we can put C 0s at the beginning and 1s at the remaining n – C positions in array.\n",
    "\n",
    "Time Complexity : O(n)\n",
    "*/"
   ]
  },
  {
   "cell_type": "code",
   "execution_count": 114,
   "metadata": {},
   "outputs": [
    {
     "name": "stdout",
     "output_type": "stream",
     "text": [
      "Array after segregation is 0 0 1 1 1 1 "
     ]
    }
   ],
   "source": [
    "// Java code to Segregate 0s and 1s in an array \n",
    "class P22_i { \n",
    "      \n",
    "    // function to segregate 0s and 1s \n",
    "    static void segregate0and1(int arr[], int n) \n",
    "    { \n",
    "        int count = 0; // counts the no of zeros in arr \n",
    "      \n",
    "        for (int i = 0; i < n; i++) { \n",
    "            if (arr[i] == 0) \n",
    "                count++; \n",
    "        } \n",
    "  \n",
    "        // loop fills the arr with 0 until count \n",
    "        for (int i = 0; i < count; i++) \n",
    "            arr[i] = 0; \n",
    "  \n",
    "        // loop fills remaining arr space with 1 \n",
    "        for (int i = count; i < n; i++) \n",
    "            arr[i] = 1; \n",
    "    } \n",
    "      \n",
    "    // function to print segregated array \n",
    "    static void print(int arr[], int n) \n",
    "    { \n",
    "        System.out.print(\"Array after segregation is \"); \n",
    "        for (int i = 0; i < n; i++) \n",
    "            System.out.print(arr[i] + \" \");     \n",
    "    } \n",
    "      \n",
    "    // driver function \n",
    "    public static void main(String[] args) \n",
    "    { \n",
    "        int arr[] = new int[]{ 0, 1, 0, 1, 1, 1 }; \n",
    "        int n = arr.length; \n",
    "  \n",
    "        segregate0and1(arr, n); \n",
    "        print(arr, n); \n",
    "          \n",
    "    } \n",
    "} \n",
    "P22_i.main(args)"
   ]
  },
  {
   "cell_type": "code",
   "execution_count": 115,
   "metadata": {},
   "outputs": [],
   "source": [
    "/*\n",
    "The method 1 traverses the array two times. Method 2 does the same in a single pass.\n",
    "\n",
    "Method 2 (Use two indexes to traverse)\n",
    "Maintain two indexes. Initialize first index left as 0 and second index right as n-1.\n",
    "\n",
    "Do following while left < right\n",
    "a) Keep incrementing index left while there are 0s at it\n",
    "b) Keep decrementing index right while there are 1s at it\n",
    "c) If left < right then exchange arr[left] and arr[right]\n",
    "*/"
   ]
  },
  {
   "cell_type": "code",
   "execution_count": 116,
   "metadata": {},
   "outputs": [],
   "source": [
    "/*Function to put all 0s on left and all 1s on right*/\n",
    "void segregate0and1(int arr[], int size)  \n",
    "{ \n",
    "    /* Initialize left and right indexes */\n",
    "    int left = 0, right = size - 1; \n",
    "\n",
    "    while (left < right)  \n",
    "    { \n",
    "        /* Increment left index while we see 0 at left */\n",
    "        while (arr[left] == 0 && left < right) \n",
    "           left++; \n",
    "\n",
    "        /* Decrement right index while we see 1 at right */\n",
    "        while (arr[right] == 1 && left < right) \n",
    "            right--; \n",
    "\n",
    "        /* If left is smaller than right then there is a 1 at left \n",
    "           and a 0 at right.  Exchange arr[left] and arr[right]*/\n",
    "        if (left < right)  \n",
    "        { \n",
    "            arr[left] = 0; \n",
    "            arr[right] = 1; \n",
    "            left++; \n",
    "            right--; \n",
    "        } \n",
    "    } \n",
    "} "
   ]
  },
  {
   "cell_type": "code",
   "execution_count": 117,
   "metadata": {},
   "outputs": [
    {
     "name": "stdout",
     "output_type": "stream",
     "text": [
      "Array after segregation is 0 0 1 1 1 1 "
     ]
    }
   ],
   "source": [
    "int arr[] = new int[]{0, 1, 0, 1, 1, 1}; \n",
    "int i, arr_size = arr.length; \n",
    "\n",
    "segregate0and1(arr, arr_size); \n",
    "\n",
    "System.out.print(\"Array after segregation is \"); \n",
    "for (i = 0; i < 6; i++) \n",
    "    System.out.print(arr[i] + \" \"); "
   ]
  },
  {
   "cell_type": "markdown",
   "metadata": {},
   "source": [
    "## **23. Sort an array of 0s, 1s and 2s**\n",
    "https://www.geeksforgeeks.org/sort-an-array-of-0s-1s-and-2s/"
   ]
  },
  {
   "cell_type": "code",
   "execution_count": 118,
   "metadata": {},
   "outputs": [],
   "source": [
    "/*\n",
    "Given an array A[] consisting 0s, 1s and 2s. \n",
    "The task is to write a function that sorts the given array. \n",
    "The functions should put all 0s first, then all 1s and all 2s in last.\n",
    "\n",
    "Examples:\n",
    "Input: {0, 1, 2, 0, 1, 2}\n",
    "Output: {0, 0, 1, 1, 2, 2}\n",
    "\n",
    "Input: {0, 1, 1, 0, 1, 2, 1, 2, 0, 0, 0, 1}\n",
    "Output: {0, 0, 0, 0, 0, 1, 1, 1, 1, 1, 2, 2}\n",
    "*/"
   ]
  },
  {
   "cell_type": "code",
   "execution_count": 119,
   "metadata": {},
   "outputs": [],
   "source": [
    "/*\n",
    "The problem is similar to our old post Segregate 0s and 1s in an array, (22.)\n",
    "and both of these problems are variation of famous Dutch national flag problem.\n",
    "\n",
    "The problem was posed with three colours, here `0′, `1′ and `2′. The array is divided into four sections:\n",
    "\n",
    "1. a[1..Lo-1] zeroes (red)\n",
    "2. a[Lo..Mid-1] ones (white)\n",
    "3. a[Mid..Hi] unknown\n",
    "4. a[Hi+1..N] twos (blue)\n",
    "The unknown region is shrunk while maintaining these conditions\n",
    "\n",
    "1. Lo := 1; Mid := 1; Hi := N;\n",
    "2. while Mid <= Hi do\n",
    "    1. Invariant: a[1..Lo-1]=0 and a[Lo..Mid-1]=1 and a[Hi+1..N]=2; a[Mid..Hi] are unknown.\n",
    "    2. case a[Mid] in\n",
    "        - 0: swap a[Lo] and a[Mid]; Lo++; Mid++\n",
    "        - 1: Mid++\n",
    "        - 2: swap a[Mid] and a[Hi]; Hi–\n",
    "*/"
   ]
  },
  {
   "cell_type": "code",
   "execution_count": 120,
   "metadata": {},
   "outputs": [],
   "source": [
    "/*\n",
    "Part way through the process, \n",
    "some red, white and blue elements are known and are in the “right” place. \n",
    "The section of unknown elements, a[Mid..Hi], is shrunk by examining a[Mid]:\n",
    "\n",
    "Time Complexity: O(n)\n",
    "*/"
   ]
  },
  {
   "cell_type": "markdown",
   "metadata": {},
   "source": [
    "<img src = \"data:image/png;base64,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\"/>"
   ]
  },
  {
   "cell_type": "code",
   "execution_count": 121,
   "metadata": {},
   "outputs": [],
   "source": [
    "// Sort the input array, the array is assumed to \n",
    "// have values in {0, 1, 2} \n",
    "static void sort012(int a[], int arr_size) \n",
    "{ \n",
    "    int lo = 0; \n",
    "    int hi = arr_size - 1; \n",
    "    int mid = 0, temp = 0; \n",
    "    while (mid <= hi) { \n",
    "        switch (a[mid]) { \n",
    "        case 0: { \n",
    "            temp = a[lo]; \n",
    "            a[lo] = a[mid]; \n",
    "            a[mid] = temp; \n",
    "            lo++; \n",
    "            mid++; \n",
    "            break; \n",
    "        } \n",
    "        case 1: \n",
    "            mid++; \n",
    "            break; \n",
    "        case 2: { \n",
    "            temp = a[mid]; \n",
    "            a[mid] = a[hi]; \n",
    "            a[hi] = temp; \n",
    "            hi--; \n",
    "            break; \n",
    "        } \n",
    "        } \n",
    "    } \n",
    "} "
   ]
  },
  {
   "cell_type": "code",
   "execution_count": 122,
   "metadata": {},
   "outputs": [],
   "source": [
    "/* Utility function to print array arr[] */\n",
    "static void printArray(int arr[], int arr_size) \n",
    "{ \n",
    "    int i; \n",
    "    for (i = 0; i < arr_size; i++) \n",
    "        System.out.print(arr[i] + \" \"); \n",
    "    System.out.println(\"\"); \n",
    "} "
   ]
  },
  {
   "cell_type": "code",
   "execution_count": 123,
   "metadata": {},
   "outputs": [
    {
     "name": "stdout",
     "output_type": "stream",
     "text": [
      "Array after seggregation \n",
      "0 0 0 0 0 1 1 1 1 1 2 2 \n"
     ]
    }
   ],
   "source": [
    "int arr[] = { 0, 1, 1, 0, 1, 2, 1, 2, 0, 0, 0, 1 }; \n",
    "int arr_size = arr.length; \n",
    "sort012(arr, arr_size); \n",
    "System.out.println(\"Array after seggregation \"); \n",
    "printArray(arr, arr_size);"
   ]
  },
  {
   "cell_type": "markdown",
   "metadata": {},
   "source": [
    "## **24. Merge Overlapping Intervals**\n",
    "https://www.geeksforgeeks.org/merging-intervals/"
   ]
  },
  {
   "cell_type": "code",
   "execution_count": 124,
   "metadata": {},
   "outputs": [],
   "source": [
    "/*\n",
    "Given a set of time intervals in any order, \n",
    "merge all overlapping intervals into one and output the result which should have only mutually exclusive intervals. \n",
    "Let the intervals be represented as pairs of integers for simplicity.\n",
    "For example, \n",
    "let the given set of intervals be {{1,3}, {2,4}, {5,7}, {6,8} }. \n",
    "The intervals {1,3} and {2,4} overlap with each other, so they should be merged and become {1, 4}. \n",
    "Similarly {5, 7} and {6, 8} should be merged and become {5, 8}\n",
    "*/"
   ]
  },
  {
   "cell_type": "code",
   "execution_count": 125,
   "metadata": {},
   "outputs": [],
   "source": [
    "/*\n",
    "A simple approach is to start from the first interval and compare it with all other intervals for overlapping, \n",
    "if it overlaps with any other interval, then remove the other interval from list and merge the other into the first interval. \n",
    "Repeat the same steps for remaining intervals after first. \n",
    "This approach cannot be implemented in better than O(n^2) time.\n",
    "*/"
   ]
  },
  {
   "cell_type": "code",
   "execution_count": 126,
   "metadata": {},
   "outputs": [],
   "source": [
    "/*\n",
    "An efficient approach is to first sort the intervals according to starting time. \n",
    "Once we have the sorted intervals, we can combine all intervals in a linear traversal. \n",
    "The idea is, in sorted array of intervals, \n",
    "if interval[i] doesn’t overlap with interval[i-1], \n",
    "then interval[i+1] cannot overlap with interval[i-1] \n",
    "because starting time of interval[i+1] must be greater than or equal to interval[i]. \n",
    "Following is the detailed step by step algorithm.\n",
    "Time complexity of the method is O(nLogn) which is for sorting. \n",
    "Once the array of intervals is sorted, merging takes linear time.\n",
    "*/"
   ]
  },
  {
   "cell_type": "code",
   "execution_count": 127,
   "metadata": {},
   "outputs": [],
   "source": [
    "/*\n",
    "1. Sort the intervals based on increasing order of \n",
    "    starting time.\n",
    "2. Push the first interval on to a stack.\n",
    "3. For each interval do the following\n",
    "   a. If the current interval does not overlap with the stack \n",
    "       top, push it.\n",
    "   b. If the current interval overlaps with stack top and ending\n",
    "       time of current interval is more than that of stack top, \n",
    "       update stack top with the ending  time of current interval.\n",
    "4. At the end stack contains the merged intervals. \n",
    "*/"
   ]
  },
  {
   "cell_type": "code",
   "execution_count": 128,
   "metadata": {},
   "outputs": [],
   "source": [
    "class Interval \n",
    "{ \n",
    "    int start,end; \n",
    "    Interval(int start, int end) \n",
    "    { \n",
    "        this.start=start; \n",
    "        this.end=end; \n",
    "    } \n",
    "} "
   ]
  },
  {
   "cell_type": "code",
   "execution_count": 129,
   "metadata": {},
   "outputs": [],
   "source": [
    "public void mergeIntervals(Interval arr[])  \n",
    "{  \n",
    "    // Test if the given set has at least one interval  \n",
    "    if (arr.length <= 0)  \n",
    "        return;  \n",
    "\n",
    "    // Create an empty stack of intervals  \n",
    "    Stack<Interval> stack=new Stack<>(); \n",
    "\n",
    "    // sort the intervals in increasing order of start time  \n",
    "    Arrays.sort(arr,new Comparator<Interval>(){ \n",
    "        public int compare(Interval i1,Interval i2) \n",
    "        { \n",
    "            return i1.start-i2.start; \n",
    "        } \n",
    "    }); \n",
    "\n",
    "    // push the first interval to stack  \n",
    "    stack.push(arr[0]);  \n",
    "\n",
    "    // Start from the next interval and merge if necessary  \n",
    "    for (int i = 1 ; i < arr.length; i++)  \n",
    "    {  \n",
    "        // get interval from stack top  \n",
    "        Interval top = stack.peek();  \n",
    "\n",
    "        // if current interval is not overlapping with stack top,  \n",
    "        // push it to the stack  \n",
    "        if (top.end < arr[i].start)  \n",
    "            stack.push(arr[i]);  \n",
    "\n",
    "        // Otherwise update the ending time of top if ending of current  \n",
    "        // interval is more  \n",
    "        else if (top.end < arr[i].end)  \n",
    "        {  \n",
    "            top.end = arr[i].end;  \n",
    "            stack.pop();  \n",
    "            stack.push(top);  \n",
    "        }  \n",
    "    }  \n",
    "\n",
    "    // Print contents of stack  \n",
    "    System.out.print(\"The Merged Intervals are: \"); \n",
    "    while (!stack.isEmpty())  \n",
    "    {  \n",
    "        Interval t = stack.pop();  \n",
    "        System.out.print(\"[\"+t.start+\",\"+t.end+\"] \"); \n",
    "    }   \n",
    "}   "
   ]
  },
  {
   "cell_type": "code",
   "execution_count": 130,
   "metadata": {},
   "outputs": [
    {
     "name": "stdout",
     "output_type": "stream",
     "text": [
      "The Merged Intervals are: [1,9] "
     ]
    }
   ],
   "source": [
    "Interval arr[]=new Interval[4]; \n",
    "arr[0]=new Interval(6,8); \n",
    "arr[1]=new Interval(1,9); \n",
    "arr[2]=new Interval(2,4); \n",
    "arr[3]=new Interval(4,7); \n",
    "mergeIntervals(arr);"
   ]
  },
  {
   "cell_type": "code",
   "execution_count": 131,
   "metadata": {},
   "outputs": [],
   "source": [
    "/*\n",
    "A O(n Log n) and O(1) Extra Space Solution\n",
    "The above solution requires O(n) extra space for stack. \n",
    "We can avoid use of extra space by doing merge operations in-place. Below are detailed steps.\n",
    "\n",
    "1) Sort all intervals in decreasing order of start time.\n",
    "2) Traverse sorted intervals starting from first interval, \n",
    "   do following for every interval.\n",
    "      a) If current interval is not first interval and it \n",
    "         overlaps with previous interval, then merge it with\n",
    "         previous interval. Keep doing it while the interval\n",
    "         overlaps with the previous one.         \n",
    "      b) Else add current interval to output list of intervals.\n",
    "Note that if intervals are sorted by decreasing order of start times, \n",
    "we can quickly check if intervals overlap or not by comparing start time of previous interval with end time of current interval.\n",
    "*/"
   ]
  },
  {
   "cell_type": "markdown",
   "metadata": {},
   "source": [
    "https://youtu.be/WdgAKCnWnwA"
   ]
  },
  {
   "cell_type": "code",
   "execution_count": 132,
   "metadata": {},
   "outputs": [],
   "source": [
    "public static void mergeIntervals(Interval arr[])  \n",
    "{  \n",
    "    // Sort Intervals in decreasing order of  \n",
    "    // start time  \n",
    "    Arrays.sort(arr,new Comparator<Interval>(){ \n",
    "        public int compare(Interval i1,Interval i2) \n",
    "        { \n",
    "            return i2.start - i1.start; \n",
    "        } \n",
    "    }); \n",
    "\n",
    "    int index = 0; // Stores index of last element  \n",
    "    // in output array (modified arr[])  \n",
    "\n",
    "    // Traverse all input Intervals  \n",
    "    for (int i=1; i<arr.length; i++)  \n",
    "    {  \n",
    "        // If this is not first Interval and overlaps  \n",
    "        // with the previous one  \n",
    "        if (arr[index].end >=  arr[i].start)  \n",
    "        {  \n",
    "               // Merge previous and current Intervals  \n",
    "            arr[index].end = Math.max(arr[index].end, arr[i].end);  \n",
    "            arr[index].start = Math.min(arr[index].start, arr[i].start);  \n",
    "        }  \n",
    "        else { \n",
    "            arr[index] = arr[i];  \n",
    "            index++; \n",
    "        }     \n",
    "    } \n",
    "\n",
    "    // Now arr[0..index-1] stores the merged Intervals  \n",
    "    System.out.print(\"The Merged Intervals are: \"); \n",
    "    for (int i = 0; i <= index; i++)  \n",
    "    { \n",
    "        System.out.print(\"[\" + arr[i].start + \",\" \n",
    "                                    + arr[i].end + \"]\");  \n",
    "    } \n",
    "} "
   ]
  },
  {
   "cell_type": "code",
   "execution_count": 133,
   "metadata": {},
   "outputs": [
    {
     "name": "stdout",
     "output_type": "stream",
     "text": [
      "The Merged Intervals are: [1,9]"
     ]
    }
   ],
   "source": [
    "Interval arr[]=new Interval[4]; \n",
    "arr[0]=new Interval(6,8); \n",
    "arr[1]=new Interval(1,9); \n",
    "arr[2]=new Interval(2,4); \n",
    "arr[3]=new Interval(4,7); \n",
    "mergeIntervals(arr);"
   ]
  },
  {
   "cell_type": "markdown",
   "metadata": {},
   "source": [
    "## **25. Maximum profit by buying and selling a share at most twice**\n",
    "https://www.geeksforgeeks.org/maximum-profit-by-buying-and-selling-a-share-at-most-twice/"
   ]
  },
  {
   "cell_type": "code",
   "execution_count": 134,
   "metadata": {},
   "outputs": [],
   "source": [
    "/*\n",
    "In a daily share trading, a buyer buys shares in the morning and sells it on the same day. \n",
    "If the trader is allowed to make at most 2 transactions in a day, \n",
    "whereas the second transaction can only start after the first one is complete (Sell->buy->sell->buy). \n",
    "Given stock prices throughout the day, find out the maximum profit that a share trader could have made.\n",
    "*/"
   ]
  },
  {
   "cell_type": "code",
   "execution_count": 135,
   "metadata": {},
   "outputs": [],
   "source": [
    "/*\n",
    "Examples:\n",
    "\n",
    "Input:   price[] = {10, 22, 5, 75, 65, 80}\n",
    "Output:  87\n",
    "Trader earns 87 as sum of 12 and 75\n",
    "Buy at price 10, sell at 22, buy at 5 and sell at 80\n",
    "\n",
    "Input:   price[] = {2, 30, 15, 10, 8, 25, 80}\n",
    "Output:  100\n",
    "Trader earns 100 as sum of 28 and 72\n",
    "Buy at price 2, sell at 30, buy at 8 and sell at 80\n",
    "\n",
    "Input:   price[] = {100, 30, 15, 10, 8, 25, 80};\n",
    "Output:  72\n",
    "Buy at price 8 and sell at 80.\n",
    "\n",
    "Input:   price[] = {90, 80, 70, 60, 50}\n",
    "Output:  0\n",
    "Not possible to earn.\n",
    "*/"
   ]
  },
  {
   "cell_type": "code",
   "execution_count": 136,
   "metadata": {},
   "outputs": [],
   "source": [
    "/*\n",
    "A Simple Solution is to consider every index ‘i’ and do following\n",
    "Max profit with at most two transactions =\n",
    "       MAX {max profit with one transaction and subarray price[0..i] +\n",
    "            max profit with one transaction and aubarray price[i+1..n-1]  }\n",
    "i varies from 0 to n-1. \n",
    "Maximum possible using one transaction can be calculated using the following O(n) algorithm (P 27.)\n",
    "Time complexity of above simple solution is O(n2).\n",
    "*/"
   ]
  },
  {
   "cell_type": "code",
   "execution_count": 137,
   "metadata": {},
   "outputs": [],
   "source": [
    "/*\n",
    "We can do this O(n) using following Efficient Solution. \n",
    "The idea is to store the maximum possible profit of every subarray and solve the problem in the following two phases.\n",
    "\n",
    "1) Create a table profit[0..n-1] and initialize all values in it 0.\n",
    "2) Traverse price[] from right to left and update profit[i] such that profit[i] stores maximum profit achievable from one transaction in subarray price[i..n-1]\n",
    "3) Traverse price[] from left to right and update profit[i] such that profit[i] stores maximum profit such that profit[i] contains maximum achievable profit from two transactions in subarray price[0..i].\n",
    "4) Return profit[n-1]\n",
    "\n",
    "To do step 2, we need to keep track of the maximum price from right to left side \n",
    "and to do step 3, we need to keep track of the minimum price from left to right. \n",
    "Why we traverse in reverse directions? \n",
    "The idea is to save space, \n",
    "in the third step, we use the same array for both purposes, maximum with 1 transaction and maximum with 2 transactions. \n",
    "After iteration i, the array profit[0..i] contains the maximum profit with 2 transactions and profit[i+1..n-1] contains profit with two transactions.\n",
    "\n",
    "Below are implementations of the above idea.\n",
    "*/"
   ]
  },
  {
   "cell_type": "code",
   "execution_count": 138,
   "metadata": {},
   "outputs": [],
   "source": [
    "// Returns maximum profit with two transactions on a given \n",
    "// list of stock prices, price[0..n-1] \n",
    "static int maxProfit(int price[], int n) \n",
    "{ \n",
    "    // Create profit array and initialize it as 0 \n",
    "    int profit[] = new int[n]; \n",
    "    for (int i=0; i<n; i++) \n",
    "        profit[i] = 0; \n",
    "\n",
    "    /* Get the maximum profit with only one transaction \n",
    "       allowed. After this loop, profit[i] contains maximum \n",
    "       profit from price[i..n-1] using at most one trans. */\n",
    "    int max_price = price[n-1]; \n",
    "    for (int i=n-2;i>=0;i--) \n",
    "    { \n",
    "        // max_price has maximum of price[i..n-1] \n",
    "        if (price[i] > max_price) \n",
    "            max_price = price[i]; \n",
    "\n",
    "        // we can get profit[i] by taking maximum of: \n",
    "        // a) previous maximum, i.e., profit[i+1] \n",
    "        // b) profit by buying at price[i] and selling at \n",
    "        //    max_price \n",
    "        profit[i] = Math.max(profit[i+1], max_price-price[i]); \n",
    "    } \n",
    "\n",
    "    /* Get the maximum profit with two transactions allowed \n",
    "       After this loop, profit[n-1] contains the result */\n",
    "    int min_price = price[0]; \n",
    "    for (int i=1; i<n; i++) \n",
    "    { \n",
    "        // min_price is minimum price in price[0..i] \n",
    "        if (price[i] < min_price) \n",
    "            min_price = price[i]; \n",
    "\n",
    "        // Maximum profit is maximum of: \n",
    "        // a) previous maximum, i.e., profit[i-1] \n",
    "        // b) (Buy, Sell) at (min_price, price[i]) and add \n",
    "        //    profit of other trans. stored in profit[i] \n",
    "        profit[i] = Math.max(profit[i-1], profit[i] + \n",
    "                                    (price[i]-min_price) ); \n",
    "    } \n",
    "    int result = profit[n-1]; \n",
    "    return result; \n",
    "} "
   ]
  },
  {
   "cell_type": "code",
   "execution_count": 139,
   "metadata": {},
   "outputs": [
    {
     "name": "stdout",
     "output_type": "stream",
     "text": [
      "Maximum Profit = 100\n"
     ]
    }
   ],
   "source": [
    "int price[] = {2, 30, 15, 10, 8, 25, 80}; \n",
    "int n = price.length; \n",
    "System.out.println(\"Maximum Profit = \"+ maxProfit(price, n)); "
   ]
  },
  {
   "cell_type": "markdown",
   "metadata": {},
   "source": [
    "## **26. Maximum profit by buying and selling a share at most k times**\n",
    "https://www.geeksforgeeks.org/maximum-profit-by-buying-and-selling-a-share-at-most-k-times/"
   ]
  },
  {
   "cell_type": "code",
   "execution_count": 140,
   "metadata": {},
   "outputs": [],
   "source": [
    "/*\n",
    "In share trading, a buyer buys shares and sells on a future date. \n",
    "Given the stock price of n days, the trader is allowed to make at most k transactions, \n",
    "where a new transaction can only start after the previous transaction is complete, \n",
    "find out the maximum profit that a share trader could have made.\n",
    "*/"
   ]
  },
  {
   "cell_type": "code",
   "execution_count": 141,
   "metadata": {},
   "outputs": [],
   "source": [
    "/*\n",
    "Examples:\n",
    "\n",
    "Input:  \n",
    "Price = [10, 22, 5, 75, 65, 80]\n",
    "    K = 2\n",
    "Output:  87\n",
    "Trader earns 87 as sum of 12 and 75\n",
    "Buy at price 10, sell at 22, buy at \n",
    "5 and sell at 80\n",
    "\n",
    "Input:  \n",
    "Price = [12, 14, 17, 10, 14, 13, 12, 15]\n",
    "    K = 3\n",
    "Output:  12\n",
    "Trader earns 12 as the sum of 5, 4 and 3\n",
    "Buy at price 12, sell at 17, buy at 10 \n",
    "and sell at 14 and buy at 12 and sell\n",
    "at 15\n",
    " \n",
    "Input:  \n",
    "Price = [100, 30, 15, 10, 8, 25, 80]\n",
    "    K = 3\n",
    "Output:  72\n",
    "Only one transaction. Buy at price 8 \n",
    "and sell at 80.\n",
    "\n",
    "Input:  \n",
    "Price = [90, 80, 70, 60, 50]\n",
    "    K = 1\n",
    "Output:  0\n",
    "Not possible to earn. \n",
    "*/"
   ]
  },
  {
   "cell_type": "code",
   "execution_count": 142,
   "metadata": {},
   "outputs": [],
   "source": [
    "/*\n",
    "The problem can be solved by using dynamic programming.\n",
    "*/"
   ]
  },
  {
   "cell_type": "code",
   "execution_count": 143,
   "metadata": {},
   "outputs": [],
   "source": [
    "/*\n",
    "Let profit[t][i] represent maximum profit using at most t transactions up to day i (including day i). \n",
    "Then the relation is:\n",
    "    profit[t][i] = max(profit[t][i-1], max(price[i] – price[j] + profit[t-1][j]))\n",
    "          for all j in range [0, i-1]\n",
    "\n",
    "profit[t][i] will be maximum of –\n",
    "    1. profit[t][i-1] which represents not doing any transaction on the ith day.\n",
    "    2. Maximum profit gained by selling on ith day. \n",
    "       In order to sell shares on ith day, we need to purchase it on any one of [0, i – 1] days. \n",
    "       If we buy shares on jth day and sell it on ith day, max profit will be price[i] – price[j] + profit[t-1][j] where j varies from 0 to i-1. \n",
    "       Here profit[t-1][j] is best we could have done with one less transaction till jth day.\n",
    "Below is Dynamic Programming based implementation.\n",
    "time complexity of O(k.n2)\n",
    "*/"
   ]
  },
  {
   "cell_type": "code",
   "execution_count": 144,
   "metadata": {},
   "outputs": [
    {
     "ename": "CompilationException",
     "evalue": "",
     "output_type": "error",
     "traceback": [
      "\u001b[1m\u001b[30m|   \u001b[1m\u001b[30m                        \u001b[0m\u001b[1m\u001b[30m\u001b[41mmaxProfit\u001b[0m\u001b[1m\u001b[30m(price, n, k)); \u001b[0m",
      "\u001b[1m\u001b[31mreference to maxProfit is ambiguous\u001b[0m",
      "\u001b[1m\u001b[31m  both method maxProfit(int[],int,int) in  and method maxProfit(int[],int,int) in  match\u001b[0m",
      "",
      "\u001b[1m\u001b[30m|   \u001b[1m\u001b[30m\u001b[0m\u001b[1m\u001b[30m\u001b[41mpublic static\u001b[0m\u001b[1m\u001b[30m void main(String []args) \u001b[0m",
      "\u001b[1m\u001b[31mModifier 'static'  not permitted in top-level declarations, ignored\u001b[0m",
      ""
     ]
    }
   ],
   "source": [
    "// Function to find out  \n",
    "// maximum profit by  \n",
    "// buying & selling a  \n",
    "// share atmost k times \n",
    "// given stock price of n days \n",
    "static int maxProfit(int[] price,  \n",
    "                     int n,  \n",
    "                     int k) \n",
    "{ \n",
    "\n",
    "    // table to store results \n",
    "    // of subproblems \n",
    "    // profit[t][i] stores  \n",
    "    // maximum profit using  \n",
    "    // atmost t transactions up \n",
    "    // to day i (including day i) \n",
    "    int[][] profit = new int[k + 1][n + 1]; \n",
    "\n",
    "    // For day 0, you can't  \n",
    "    // earn money irrespective \n",
    "    // of how many times you trade \n",
    "    for (int i = 0; i <= k; i++) \n",
    "        profit[i][0] = 0; \n",
    "\n",
    "    // profit is 0 if we don't \n",
    "    // do any transation \n",
    "    // (i.e. k =0) \n",
    "    for (int j = 0; j <= n; j++) \n",
    "        profit[0][j] = 0; \n",
    "\n",
    "    // fill the table in  \n",
    "    // bottom-up fashion \n",
    "    for (int i = 1; i <= k; i++)  \n",
    "    { \n",
    "        for (int j = 1; j < n; j++) \n",
    "        { \n",
    "            int max_so_far = 0; \n",
    "\n",
    "            for (int m = 0; m < j; m++) \n",
    "            max_so_far = Math.max(max_so_far, price[j] - \n",
    "                         price[m] + profit[i - 1][m]); \n",
    "\n",
    "            profit[i][j] = Math.max(profit[i] [j - 1],  \n",
    "                                          max_so_far); \n",
    "        } \n",
    "    } \n",
    "\n",
    "    return profit[k][n - 1]; \n",
    "}\n",
    "\n",
    "public static void main(String []args) \n",
    "{ \n",
    "    int k = 2;\n",
    "    \n",
    "    int[] price = { 10, 22, 5, 75, 65, 80 }; \n",
    "    int n = price.length; \n",
    "    System.out.println(\"Maximum profit is: \" +  \n",
    "                        maxProfit(price, n, k)); \n",
    "} \n",
    "main(args)\n",
    "    "
   ]
  },
  {
   "cell_type": "code",
   "execution_count": 145,
   "metadata": {},
   "outputs": [],
   "source": [
    "/*\n",
    "The above solution has time complexity of O(k.n2). \n",
    "It can be reduced if we are able to calculate the maximum profit gained by selling shares on the ith day in constant time.\n",
    "\n",
    "profit[t][i] = max(profit [t][i-1], max(price[i] – price[j] + profit[t-1][j]))\n",
    "                            for all j in range [0, i-1]\n",
    "\n",
    "If we carefully notice,\n",
    "    max(price[i] – price[j] + profit[t-1][j])\n",
    "    for all j in range [0, i-1]\n",
    "can be rewritten as,\n",
    "    = price[i] + max(profit[t-1][j] – price[j])\n",
    "      for all j in range [0, i-1]\n",
    "    = price[i] + max(prevDiff, profit[t-1][i-1] – price[i-1])\n",
    "\n",
    "where prevDiff is max(profit[t-1][j] – price[j])\n",
    "                    for all j in range [0, i-2]\n",
    "                    \n",
    "                    \n",
    "So, if we have already calculated max(profit[t-1][j] – price[j]) for all j in range [0, i-2], \n",
    "we can calculate it for j = i – 1 in constant time. \n",
    "In other words, we don’t have to look back in the range [0, i-1] anymore to find out best day to buy. \n",
    "We can determine that in constant time using below revised relation.\n",
    "\n",
    "profit[t][i] = max(profit[t][i-1], price[i] + max(prevDiff, profit [t-1][i-1] – price[i-1])\n",
    "where prevDiff is max(profit[t-1][j] – price[j]) for all j in range [0, i-2]\n",
    "\n",
    "Below is its optimized implementation –\n",
    "*/"
   ]
  },
  {
   "cell_type": "code",
   "execution_count": 146,
   "metadata": {},
   "outputs": [
    {
     "ename": "CompilationException",
     "evalue": "",
     "output_type": "error",
     "traceback": [
      "\u001b[1m\u001b[30m|   \u001b[1m\u001b[30m                        \u001b[0m\u001b[1m\u001b[30m\u001b[41mmaxProfit\u001b[0m\u001b[1m\u001b[30m(price, n, k)); \u001b[0m",
      "\u001b[1m\u001b[31mreference to maxProfit is ambiguous\u001b[0m",
      "\u001b[1m\u001b[31m  both method maxProfit(int[],int,int) in  and method maxProfit(int[],int,int) in  match\u001b[0m",
      "",
      "\u001b[1m\u001b[30m|   \u001b[1m\u001b[30m\u001b[0m\u001b[1m\u001b[30m\u001b[41mpublic static\u001b[0m\u001b[1m\u001b[30m void main (String[] args)  \u001b[0m",
      "\u001b[1m\u001b[31mModifier 'static'  not permitted in top-level declarations, ignored\u001b[0m",
      ""
     ]
    }
   ],
   "source": [
    "// Function to find out maximum profit by \n",
    "// buying & selling/ a share atmost k times  \n",
    "// given stock price of n days \n",
    "static int maxProfit(int price[],  \n",
    "                     int n, int k) \n",
    "{ \n",
    "\n",
    "    // table to store results of subproblems \n",
    "    // profit[t][i] stores maximum profit \n",
    "    // using atmost t transactions up to day \n",
    "    // i (including day i) \n",
    "    int profit[][] = new int[k + 1][ n + 1]; \n",
    "\n",
    "    // For day 0, you can't earn money \n",
    "    // irrespective of how many times you trade \n",
    "    for (int i = 0; i <= k; i++) \n",
    "        profit[i][0] = 0; \n",
    "\n",
    "    // profit is 0 if we don't do any  \n",
    "    // transation (i.e. k =0) \n",
    "    for (int j = 0; j <= n; j++) \n",
    "        profit[0][j] = 0; \n",
    "\n",
    "    // fill the table in bottom-up fashion \n",
    "    for (int i = 1; i <= k; i++)  \n",
    "    { \n",
    "        int prevDiff = Integer.MIN_VALUE; \n",
    "        for (int j = 1; j < n; j++)  \n",
    "        { \n",
    "            prevDiff = Math.max(prevDiff,  \n",
    "                       profit[i - 1][j - 1] -  \n",
    "                       price[j - 1]); \n",
    "            profit[i][j] = Math.max(profit[i][j - 1],  \n",
    "                           price[j] + prevDiff); \n",
    "        } \n",
    "    } \n",
    "\n",
    "    return profit[k][n - 1]; \n",
    "} \n",
    "\n",
    "// Driver code \n",
    "public static void main (String[] args)  \n",
    "{ \n",
    "    int k = 3; \n",
    "    int price[] = {12, 14, 17, 10, 14, 13, 12, 15}; \n",
    "\n",
    "    int n = price.length; \n",
    "\n",
    "    System.out.println(\"Maximum profit is: \" +  \n",
    "                        maxProfit(price, n, k)); \n",
    "} \n",
    "main(args)"
   ]
  },
  {
   "cell_type": "code",
   "execution_count": 147,
   "metadata": {},
   "outputs": [],
   "source": [
    "/*\n",
    "The time complexity of the above solution is O(kn) and space complexity is O(nk). \n",
    "Space complexity can further be reduced to O(n) as we use the result from the last transaction.\n",
    "*/"
   ]
  },
  {
   "cell_type": "markdown",
   "metadata": {},
   "source": [
    "## **27. Maximum difference between two elements such that larger element appears after the smaller number**\n",
    "https://www.geeksforgeeks.org/maximum-difference-between-two-elements/"
   ]
  },
  {
   "cell_type": "markdown",
   "metadata": {},
   "source": [
    "https://youtu.be/SO0bwMziLlU"
   ]
  },
  {
   "cell_type": "code",
   "execution_count": 148,
   "metadata": {},
   "outputs": [],
   "source": [
    "/*\n",
    "Given an array arr[] of integers, \n",
    "find out the maximum difference between any two elements such that larger element appears after the smaller number.\n",
    "\n",
    "Examples :\n",
    "\n",
    "Input : arr = {2, 3, 10, 6, 4, 8, 1}\n",
    "Output : 8\n",
    "Explanation : The maximum difference is between 10 and 2.\n",
    "\n",
    "Input : arr = {7, 9, 5, 6, 3, 2}\n",
    "Output : 2\n",
    "Explanation : The maximum difference is between 9 and 7.\n",
    "*/"
   ]
  },
  {
   "cell_type": "code",
   "execution_count": 149,
   "metadata": {},
   "outputs": [],
   "source": [
    "/*\n",
    "Method 1 (Simple)\n",
    "Use two loops. \n",
    "In the outer loop, pick elements one by one \n",
    "and in the inner loop calculate the difference of the picked element with every other element in the array \n",
    "and compare the difference with the maximum difference calculated so far. \n",
    "Below is the implementation of the above approach :\n",
    "Time Complexity : O(n^2)\n",
    "Auxiliary Space : O(1)\n",
    "*/"
   ]
  },
  {
   "cell_type": "code",
   "execution_count": 150,
   "metadata": {},
   "outputs": [
    {
     "name": "stdout",
     "output_type": "stream",
     "text": [
      "Maximum differnce is 109\n"
     ]
    }
   ],
   "source": [
    "/* The function assumes that there are at least two \n",
    "   elements in array. \n",
    "   The function returns a negative value if the array is \n",
    "   sorted in decreasing order.  \n",
    "   Returns 0 if elements are equal */\n",
    "int maxDiff(int arr[], int arr_size)  \n",
    "{ \n",
    "    int max_diff = arr[1] - arr[0]; \n",
    "    int i, j; \n",
    "    for (i = 0; i < arr_size; i++)  \n",
    "    { \n",
    "        for (j = i + 1; j < arr_size; j++)  \n",
    "        { \n",
    "            if (arr[j] - arr[i] > max_diff) \n",
    "                max_diff = arr[j] - arr[i]; \n",
    "        } \n",
    "    } \n",
    "    return max_diff; \n",
    "} \n",
    "\n",
    "int arr[] = {1, 2, 90, 10, 110}; \n",
    "System.out.println(\"Maximum differnce is \" +  \n",
    "                        maxDiff(arr, 5)); "
   ]
  },
  {
   "cell_type": "code",
   "execution_count": 151,
   "metadata": {},
   "outputs": [],
   "source": [
    "/*\n",
    "Method 2 (Tricky and Efficient)\n",
    "In this method, instead of taking difference of the picked element with every other element, \n",
    "we take the difference with the minimum element found so far. So we need to keep track of 2 things:\n",
    "1) Maximum difference found so far (max_diff).\n",
    "2) Minimum number visited so far (min_element).\n",
    "\n",
    "Time Complexity : O(n)\n",
    "Auxiliary Space : O(1)\n",
    "*/"
   ]
  },
  {
   "cell_type": "code",
   "execution_count": 152,
   "metadata": {},
   "outputs": [
    {
     "name": "stdout",
     "output_type": "stream",
     "text": [
      "MaximumDifference is 109\n"
     ]
    }
   ],
   "source": [
    "int maxDiff(int arr[], int arr_size)  \n",
    "{ \n",
    "    int max_diff = arr[1] - arr[0]; \n",
    "    int min_element = arr[0]; \n",
    "    int i; \n",
    "    for (i = 1; i < arr_size; i++)  \n",
    "    { \n",
    "        if (arr[i] - min_element > max_diff) \n",
    "            max_diff = arr[i] - min_element; \n",
    "        if (arr[i] < min_element) \n",
    "            min_element = arr[i]; \n",
    "    } \n",
    "    return max_diff; \n",
    "} \n",
    "\n",
    "int arr[] = {1, 2, 90, 10, 110}; \n",
    "int size = arr.length; \n",
    "System.out.println(\"MaximumDifference is \" +  \n",
    "                        maxDiff(arr, size)); "
   ]
  },
  {
   "cell_type": "markdown",
   "metadata": {},
   "source": [
    "## **28. Minimize the maximum difference between the heights**\n",
    "https://www.geeksforgeeks.org/minimize-the-maximum-difference-between-the-heights/"
   ]
  },
  {
   "cell_type": "code",
   "execution_count": 153,
   "metadata": {},
   "outputs": [],
   "source": [
    "/*\n",
    "Given heights of n towers and a value k. \n",
    "We need to either increase or decrease height of every tower by k (only once) where k > 0. \n",
    "The task is to minimize the difference between the heights of the longest and the shortest tower after modifications, and output this difference.\n",
    "*/"
   ]
  },
  {
   "cell_type": "code",
   "execution_count": 154,
   "metadata": {},
   "outputs": [],
   "source": [
    "/*\n",
    "Examples:\n",
    "\n",
    "Input  : arr[] = {1, 15, 10}, k = 6\n",
    "Output :  Maximum difference is 5.\n",
    "Explanation : We change 1 to 6, 15 to \n",
    "9 and 10 to 4. Maximum difference is 5\n",
    "(between 4 and 9). We can't get a lower\n",
    "difference.\n",
    "\n",
    "Input : arr[] = {1, 5, 15, 10} \n",
    "        k = 3   \n",
    "Output : Maximum difference is 8\n",
    "arr[] = {4, 8, 12, 7}\n",
    "\n",
    "Input : arr[] = {4, 6} \n",
    "        k = 10\n",
    "Output : Maximum difference is 2\n",
    "arr[] = {14, 16} OR {-6, -4}\n",
    "\n",
    "Input : arr[] = {6, 10} \n",
    "        k = 3\n",
    "Output : Maximum difference is 2\n",
    "arr[] = {9, 7} \n",
    "\n",
    "Input : arr[] = {1, 10, 14, 14, 14, 15}\n",
    "        k = 6 \n",
    "Output: Maximum difference is 5\n",
    "arr[] = {7, 4, 8, 8, 8, 9} \n",
    "\n",
    "Input : arr[] = {1, 2, 3}\n",
    "        k = 2 \n",
    "Output: Maximum difference is 2\n",
    "arr[] = {3, 4, 5} \n",
    "*/"
   ]
  },
  {
   "cell_type": "code",
   "execution_count": 155,
   "metadata": {},
   "outputs": [],
   "source": [
    "/*\n",
    "The idea is to sort all elements increasing order. \n",
    "And for all elements check if subtract(element-k) and add(element+k) makes any changes or not.\n",
    "\n",
    "Time Complexity: O(n Log n)\n",
    "*/"
   ]
  },
  {
   "cell_type": "markdown",
   "metadata": {},
   "source": [
    "<img src = \"https://media.geeksforgeeks.org/wp-content/cdn-uploads/20190710125831/MinimizeTheMaximumDifference-1024x805.png\"/>"
   ]
  },
  {
   "cell_type": "code",
   "execution_count": 156,
   "metadata": {},
   "outputs": [
    {
     "name": "stdout",
     "output_type": "stream",
     "text": [
      "Maximum difference is 2\n"
     ]
    }
   ],
   "source": [
    "// Modifies the array by subtracting/adding \n",
    "// k to every element such that the difference \n",
    "// between maximum and minimum is minimized \n",
    "static int getMinDiff(int arr[], int n, int k) \n",
    "{ \n",
    "    if (n == 1) \n",
    "    return 0; \n",
    "\n",
    "    // Sort all elements \n",
    "    Arrays.sort(arr); \n",
    "\n",
    "    // Initialize result \n",
    "    int ans = arr[n-1] - arr[0]; \n",
    "\n",
    "    // Handle corner elements \n",
    "    int small = arr[0] + k; \n",
    "    int big = arr[n-1] - k; \n",
    "    int temp = 0; \n",
    "\n",
    "    if (small > big) \n",
    "    { \n",
    "        temp = small; \n",
    "        small = big; \n",
    "        big = temp; \n",
    "    } \n",
    "\n",
    "    // Traverse middle elements \n",
    "    for (int i = 1; i < n-1; i ++) \n",
    "    { \n",
    "        int subtract = arr[i] - k; \n",
    "        int add = arr[i] + k; \n",
    "\n",
    "        // If both subtraction and addition \n",
    "        // do not change diff \n",
    "        if (subtract >= small || add <= big) \n",
    "            continue; \n",
    "\n",
    "        // Either subtraction causes a smaller \n",
    "        // number or addition causes a greater \n",
    "        // number. Update small or big using \n",
    "        // greedy approach (If big - subtract \n",
    "        // causes smaller diff, update small \n",
    "        // Else update big) \n",
    "        if (big - subtract <= add - small) \n",
    "            small = subtract; \n",
    "        else\n",
    "            big = add; \n",
    "    } \n",
    "\n",
    "    return Math.min(ans, big - small); \n",
    "} \n",
    "\n",
    "// Driver function to test the above function \n",
    "public static void main(String[] args) \n",
    "{ \n",
    "    int arr[] = {4, 6}; \n",
    "    int n = arr.length; \n",
    "    int k = 10; \n",
    "    System.out.println(\"Maximum difference is \"+ \n",
    "                        getMinDiff(arr, n, k)); \n",
    "} \n",
    "main(args)"
   ]
  },
  {
   "cell_type": "markdown",
   "metadata": {},
   "source": [
    "## **29. Move all zeroes to end of array**\n",
    "https://www.geeksforgeeks.org/move-zeroes-end-array/"
   ]
  },
  {
   "cell_type": "markdown",
   "metadata": {},
   "source": [
    "https://youtu.be/0jXTju134Hw"
   ]
  },
  {
   "cell_type": "code",
   "execution_count": 157,
   "metadata": {},
   "outputs": [],
   "source": [
    "/*\n",
    "Given an array of random numbers, \n",
    "Push all the zero’s of a given array to the end of the array. \n",
    "For example, \n",
    "    if the given arrays is {1, 9, 8, 4, 0, 0, 2, 7, 0, 6, 0}, \n",
    "    it should be changed to {1, 9, 8, 4, 2, 7, 6, 0, 0, 0, 0}. \n",
    "The order of all other elements should be same. \n",
    "Expected time complexity is O(n) and extra space is O(1).\n",
    "*/"
   ]
  },
  {
   "cell_type": "code",
   "execution_count": 158,
   "metadata": {},
   "outputs": [],
   "source": [
    "/*\n",
    "Traverse the given array ‘arr’ from left to right. \n",
    "While traversing, maintain count of non-zero elements in array. \n",
    "Let the count be ‘count’. \n",
    "For every non-zero element arr[i], put the element at ‘arr[count]’ and increment ‘count’. \n",
    "After complete traversal, all non-zero elements have already been shifted to front end and ‘count’ is set as index of first 0. \n",
    "Now all we need to do is that run a loop which makes all elements zero from ‘count’ till end of the array.\n",
    "*/"
   ]
  },
  {
   "cell_type": "code",
   "execution_count": 159,
   "metadata": {},
   "outputs": [],
   "source": [
    "// Function which pushes all zeros to end of an array. \n",
    "static void pushZerosToEnd(int arr[], int n) \n",
    "{ \n",
    "    int count = 0;  // Count of non-zero elements \n",
    "\n",
    "    // Traverse the array. If element encountered is \n",
    "    // non-zero, then replace the element at index 'count' \n",
    "    // with this element \n",
    "    for (int i = 0; i < n; i++) \n",
    "        if (arr[i] != 0) \n",
    "            arr[count++] = arr[i]; // here count is \n",
    "                                   // incremented \n",
    "\n",
    "    // Now all non-zero elements have been shifted to \n",
    "    // front and 'count' is set as index of first 0. \n",
    "    // Make all elements 0 from count to end. \n",
    "    while (count < n) \n",
    "        arr[count++] = 0; \n",
    "} "
   ]
  },
  {
   "cell_type": "code",
   "execution_count": 160,
   "metadata": {},
   "outputs": [
    {
     "name": "stdout",
     "output_type": "stream",
     "text": [
      "Array after pushing zeros to the back: \n",
      "1 9 8 4 2 7 6 9 0 0 0 0 "
     ]
    }
   ],
   "source": [
    "int arr[] = {1, 9, 8, 4, 0, 0, 2, 7, 0, 6, 0, 9}; \n",
    "int n = arr.length; \n",
    "pushZerosToEnd(arr, n); \n",
    "System.out.println(\"Array after pushing zeros to the back: \"); \n",
    "for (int i=0; i<n; i++) \n",
    "    System.out.print(arr[i]+\" \");"
   ]
  },
  {
   "cell_type": "markdown",
   "metadata": {},
   "source": [
    "## **30. Minimum swaps required to bring all elements less than or equal to k together**\n",
    "https://www.geeksforgeeks.org/minimum-swaps-required-bring-elements-less-equal-k-together/"
   ]
  },
  {
   "cell_type": "code",
   "execution_count": 161,
   "metadata": {},
   "outputs": [],
   "source": [
    "/*\n",
    "Given an array of n positive integers and a number k. \n",
    "Find the minimum number of swaps required to bring all the numbers less than or equal to k together.\n",
    "*/"
   ]
  },
  {
   "cell_type": "code",
   "execution_count": 162,
   "metadata": {},
   "outputs": [],
   "source": [
    "/*\n",
    "Input:  arr[] = {2, 1, 5, 6, 3}, k = 3\n",
    "Output: 1\n",
    "\n",
    "Explanation: \n",
    "To bring elements 2, 1, 3 together, swap \n",
    "element '5' with '3' such that final array\n",
    "will be-\n",
    "arr[] = {2, 1, 3, 6, 5}\n",
    "\n",
    "Input:  arr[] = {2, 7, 9, 5, 8, 7, 4}, k = 5\n",
    "Output: 2\n",
    "*/"
   ]
  },
  {
   "cell_type": "code",
   "execution_count": 163,
   "metadata": {},
   "outputs": [],
   "source": [
    "/*\n",
    "A simple solution is to first count all elements less than or equals to k(say ‘good’). \n",
    "Now traverse for every sub-array and swap those elements whose value is greater than k. \n",
    "Time complexity of this approach is O(n2)\n",
    "*/"
   ]
  },
  {
   "cell_type": "code",
   "execution_count": 164,
   "metadata": {},
   "outputs": [],
   "source": [
    "/*\n",
    "A simple approach is to use two pointer technique and sliding window.\n",
    "\n",
    "Find count of all elements which are less than or equals to ‘k’. Let’s say the count is ‘cnt’\n",
    "Using two pointer technique for window of length ‘cnt’, each time keep track of how many elements in this range are greater than ‘k’. Let’s say the total count is ‘bad’.\n",
    "Repeat step 2, for every window of length ‘cnt’ and take minimum of count ‘bad’ among them. This will be the final answer.\n",
    "*/"
   ]
  },
  {
   "cell_type": "code",
   "execution_count": 165,
   "metadata": {},
   "outputs": [],
   "source": [
    "// Utility function to find minimum swaps \n",
    "// required to club all elements less than \n",
    "// or equals to k together \n",
    "static int minSwap(int arr[], int n, int k) { \n",
    "  \n",
    "    // Find count of elements which are \n",
    "    // less than equals to k \n",
    "    int count = 0; \n",
    "    for (int i = 0; i < n; ++i) \n",
    "    if (arr[i] <= k) \n",
    "        ++count; \n",
    "  \n",
    "    // Find unwanted elements in current \n",
    "    // window of size 'count' \n",
    "    int bad = 0; \n",
    "    for (int i = 0; i < count; ++i) \n",
    "    if (arr[i] > k) \n",
    "        ++bad; \n",
    "  \n",
    "    // Initialize answer with 'bad' value of \n",
    "    // current window \n",
    "    int ans = bad; \n",
    "    for (int i = 0, j = count; j < n; ++i, ++j) { \n",
    "  \n",
    "    // Decrement count of previous window \n",
    "    if (arr[i] > k) \n",
    "        --bad; \n",
    "  \n",
    "    // Increment count of current window \n",
    "    if (arr[j] > k) \n",
    "        ++bad; \n",
    "  \n",
    "    // Update ans if count of 'bad' \n",
    "    // is less in current window \n",
    "    ans = Math.min(ans, bad); \n",
    "    } \n",
    "    return ans; \n",
    "} "
   ]
  },
  {
   "cell_type": "code",
   "execution_count": 166,
   "metadata": {},
   "outputs": [
    {
     "name": "stdout",
     "output_type": "stream",
     "text": [
      "1\n",
      "2"
     ]
    }
   ],
   "source": [
    "int arr[] = {2, 1, 5, 6, 3}; \n",
    "int n = arr.length; \n",
    "int k = 3; \n",
    "System.out.print(minSwap(arr, n, k) + \"\\n\"); \n",
    "\n",
    "int arr1[] = {2, 7, 9, 5, 8, 7, 4}; \n",
    "n = arr1.length; \n",
    "k = 5; \n",
    "System.out.print(minSwap(arr1, n, k)); "
   ]
  },
  {
   "cell_type": "code",
   "execution_count": null,
   "metadata": {},
   "outputs": [],
   "source": []
  },
  {
   "cell_type": "code",
   "execution_count": null,
   "metadata": {},
   "outputs": [],
   "source": []
  },
  {
   "cell_type": "markdown",
   "metadata": {},
   "source": [
    "## **31. Largest sum subarray with at-least k numbers**\n",
    "https://www.geeksforgeeks.org/largest-sum-subarray-least-k-numbers/"
   ]
  },
  {
   "cell_type": "code",
   "execution_count": 167,
   "metadata": {
    "run_control": {
     "marked": false
    }
   },
   "outputs": [],
   "source": [
    "/*\n",
    "Given an array, find the subarray (containing at least k numbers) which has the largest sum.\n",
    "\n",
    "Examples:\n",
    "\n",
    "Input : arr[] = {-4, -2, 1, -3} \n",
    "            k = 2\n",
    "Output : -1\n",
    "The sub array is {-2, 1}\n",
    "\n",
    "Input : arr[] = {1, 1, 1, 1, 1, 1} \n",
    "            k = 2\n",
    "Output : 6 \n",
    "The sub array is {1, 1, 1, 1, 1, 1}\n",
    "*/"
   ]
  },
  {
   "cell_type": "code",
   "execution_count": 168,
   "metadata": {
    "run_control": {
     "marked": false
    }
   },
   "outputs": [],
   "source": [
    "/*\n",
    "This problem is an extension of Largest Sum Subarray Problem. (https://www.geeksforgeeks.org/largest-sum-contiguous-subarray/)\n",
    "1) We first compute maximum sum till every index and store it in an array maxSum[].\n",
    "2) After filling the array, we use the sliding window concept of size k. \n",
    "   Keep track of sum of current k elements. \n",
    "   To compute sum of current window, remove first element of previous window and add current element. \n",
    "   After getting the sum of current window, we add the maxSum of the previous window, \n",
    "   if it is greater than current max, then update it else not.\n",
    "\n",
    "Below is the implementation of above approach:\n",
    "Time Complexity: O(n)\n",
    "*/"
   ]
  },
  {
   "cell_type": "code",
   "execution_count": 169,
   "metadata": {
    "run_control": {
     "marked": false
    }
   },
   "outputs": [],
   "source": [
    "// Returns maximum sum of a subarray with at-least \n",
    "// k elements. \n",
    "static int maxSumWithK(int a[], int n, int k) \n",
    "{ \n",
    "    // maxSum[i] is going to store maximum sum \n",
    "    // till index i such that a[i] is part of the \n",
    "    // sum. \n",
    "    int maxSum[] = new int [n]; \n",
    "    maxSum[0] = a[0]; \n",
    "\n",
    "    // We use Kadane's algorithm to fill maxSum[] \n",
    "    // Below code is taken from method 3 of \n",
    "    // https://www.geeksforgeeks.org/largest-sum-contiguous-subarray/ \n",
    "    int curr_max = a[0]; \n",
    "    for (int i = 1; i < n; i++) \n",
    "    { \n",
    "        curr_max = Math.max(a[i], curr_max+a[i]); \n",
    "        maxSum[i] = curr_max; \n",
    "    } \n",
    "\n",
    "    // Sum of first k elements \n",
    "    int sum = 0; \n",
    "    for (int i = 0; i < k; i++) \n",
    "        sum += a[i]; \n",
    "\n",
    "    // Use the concept of sliding window \n",
    "    int result = sum; \n",
    "    for (int i = k; i < n; i++) \n",
    "    { \n",
    "        // Compute sum of k elements ending \n",
    "        // with a[i]. \n",
    "        sum = sum + a[i] - a[i-k]; \n",
    "\n",
    "        // Update result if required \n",
    "        result = Math.max(result, sum); \n",
    "\n",
    "        // Include maximum sum till [i-k] also \n",
    "        // if it increases overall max. \n",
    "        result = Math.max(result, sum + maxSum[i-k]); \n",
    "    } \n",
    "    return result; \n",
    "} "
   ]
  },
  {
   "cell_type": "code",
   "execution_count": 170,
   "metadata": {
    "run_control": {
     "marked": false
    }
   },
   "outputs": [
    {
     "name": "stdout",
     "output_type": "stream",
     "text": [
      "-4\n"
     ]
    }
   ],
   "source": [
    "int arr[] = {1, 2, 3, -10, -3}; \n",
    "int k = 4; \n",
    "System.out.println(maxSumWithK(arr, arr.length, k));"
   ]
  },
  {
   "cell_type": "markdown",
   "metadata": {},
   "source": [
    "## **32. Form minimum number from given sequence**\n",
    "https://www.geeksforgeeks.org/form-minimum-number-from-given-sequence/"
   ]
  },
  {
   "cell_type": "code",
   "execution_count": 171,
   "metadata": {
    "run_control": {
     "marked": false
    }
   },
   "outputs": [],
   "source": [
    "/*\n",
    "Given a pattern containing only I’s and D’s. \n",
    "I for increasing and D for decreasing. Devise an algorithm to print the minimum number following that pattern. \n",
    "Digits from 1-9 and digits can’t repeat.\n",
    "\n",
    "Examples:\n",
    "\n",
    "   Input: D        Output: 21\n",
    "   Input: I        Output: 12\n",
    "   Input: DD       Output: 321\n",
    "   Input: II       Output: 123\n",
    "   Input: DIDI     Output: 21435\n",
    "   Input: IIDDD    Output: 126543\n",
    "   Input: DDIDDIID Output: 321654798 \n",
    "*/"
   ]
  },
  {
   "cell_type": "code",
   "execution_count": 172,
   "metadata": {
    "run_control": {
     "marked": false
    }
   },
   "outputs": [],
   "source": [
    "/*\n",
    "Method 4 (Using two pointers)\n",
    "Observation\n",
    "\n",
    "1. Since we have to find minimum number without repeating digits, maximum length of output can be 9 (using each 1-9 digits once)\n",
    "2. Length of the output will be exactly one greater than input length.\n",
    "3. The idea is to iterate over the string and do the following if current character is ‘I’ or string is ended.\n",
    "        i.Assign count in increasing order to each element from current-1 to the next left index of ‘I’ (or starting index is reached).\n",
    "        ii.Increase the count by 1.\n",
    "\n",
    "Time Complexity : O(N)\n",
    "Auxiliary Space : O(1)\n",
    "*/"
   ]
  },
  {
   "cell_type": "code",
   "execution_count": 173,
   "metadata": {
    "run_control": {
     "marked": false
    }
   },
   "outputs": [],
   "source": [
    "/*\n",
    "Input  :  IDID\n",
    "Output : 13254\n",
    "\n",
    "Input  :  I\n",
    "Output : 12\n",
    "\n",
    "Input  :  DD\n",
    "Output : 321\n",
    "\n",
    "Input  :  II\n",
    "Output : 123\n",
    "\n",
    "Input  :  DIDI\n",
    "Output : 21435\n",
    "\n",
    "Input  :  IIDDD\n",
    "Output : 126543\n",
    "\n",
    "Input  :  DDIDDIID\n",
    "Output : 321654798\n",
    "*/"
   ]
  },
  {
   "cell_type": "code",
   "execution_count": 174,
   "metadata": {
    "run_control": {
     "marked": false
    }
   },
   "outputs": [],
   "source": [
    "// Returns minimum number made from given sequence without repeating digits \n",
    "static String getMinNumberForPattern(String seq) \n",
    "{ \n",
    "    int n = seq.length(); \n",
    "\n",
    "    if (n >= 9) \n",
    "        return \"-1\"; \n",
    "\n",
    "    char result[] = new char[n + 1]; \n",
    "\n",
    "    int count = 1; \n",
    "\n",
    "    // The loop runs for each input character as well as  \n",
    "    // one additional time for assigning rank to each remaining characters \n",
    "    for (int i = 0; i <= n; i++) \n",
    "    { \n",
    "        if (i == n || seq.charAt(i) == 'I') \n",
    "        { \n",
    "            for (int j = i - 1; j >= -1; j--) \n",
    "            { \n",
    "                result[j + 1] = (char) ((int) '0' + count++); \n",
    "                if (j >= 0 && seq.charAt(j) == 'I') \n",
    "                    break; \n",
    "            } \n",
    "        } \n",
    "    } \n",
    "    return new String(result); \n",
    "} "
   ]
  },
  {
   "cell_type": "code",
   "execution_count": 175,
   "metadata": {
    "run_control": {
     "marked": false
    }
   },
   "outputs": [
    {
     "name": "stdout",
     "output_type": "stream",
     "text": [
      "13254\n",
      "12\n",
      "321\n",
      "123\n",
      "21435\n",
      "126543\n",
      "321654798\n"
     ]
    }
   ],
   "source": [
    "String inputs[] = { \"IDID\", \"I\", \"DD\", \"II\", \"DIDI\", \"IIDDD\", \"DDIDDIID\" }; \n",
    "\n",
    "for(String input : inputs) \n",
    "{ \n",
    "    System.out.println(getMinNumberForPattern(input)); \n",
    "} "
   ]
  },
  {
   "cell_type": "markdown",
   "metadata": {},
   "source": [
    "## **33. Find the smallest positive integer value that cannot be represented as sum of any subset of a given array**\n",
    "https://www.geeksforgeeks.org/find-smallest-value-represented-sum-subset-given-array/"
   ]
  },
  {
   "cell_type": "code",
   "execution_count": 176,
   "metadata": {
    "run_control": {
     "marked": false
    }
   },
   "outputs": [],
   "source": [
    "/*\n",
    "Given a sorted array (sorted in non-decreasing order) of positive numbers, \n",
    "find the smallest positive integer value that cannot be represented as sum of elements of any subset of given set.\n",
    "Expected time complexity is O(n).\n",
    "*/"
   ]
  },
  {
   "cell_type": "code",
   "execution_count": 177,
   "metadata": {
    "run_control": {
     "marked": false
    }
   },
   "outputs": [],
   "source": [
    "/*\n",
    "Examples:\n",
    "\n",
    "Input:  arr[] = {1, 3, 6, 10, 11, 15};\n",
    "Output: 2\n",
    "\n",
    "Input:  arr[] = {1, 1, 1, 1};\n",
    "Output: 5\n",
    "\n",
    "Input:  arr[] = {1, 1, 3, 4};\n",
    "Output: 10\n",
    "\n",
    "Input:  arr[] = {1, 2, 5, 10, 20, 40};\n",
    "Output: 4\n",
    "\n",
    "Input:  arr[] = {1, 2, 3, 4, 5, 6};\n",
    "Output: 22\n",
    "*/"
   ]
  },
  {
   "cell_type": "code",
   "execution_count": 178,
   "metadata": {
    "run_control": {
     "marked": false
    }
   },
   "outputs": [],
   "source": [
    "/*\n",
    "A Simple Solution is to start from value 1 and check all values one by one if they can sum to values in the given array. \n",
    "This solution is very inefficient as it reduces to subset sum problem which is a well known NP Complete Problem.\n",
    "*/"
   ]
  },
  {
   "cell_type": "code",
   "execution_count": 179,
   "metadata": {
    "run_control": {
     "marked": false
    }
   },
   "outputs": [],
   "source": [
    "/*\n",
    "We can solve this problem in O(n) time using a simple loop. \n",
    "Let the input array be arr[0..n-1]. \n",
    "We initialize the result as 1 (smallest possible outcome) and traverse the given array. \n",
    "Let the smallest element that cannot be represented by elements at indexes from 0 to (i-1) be ‘res’, \n",
    "there are following two possibilities when we consider element at index i:\n",
    "\n",
    "1) We decide that ‘res’ is the final result: \n",
    "    If arr[i] is greater than ‘res’, \n",
    "    then we found the gap which is ‘res’ because the elements after arr[i] are also going to be greater than ‘res’.\n",
    "\n",
    "2) The value of ‘res’ is incremented after considering arr[i]: \n",
    "    The value of ‘res’ is incremented by arr[i] \n",
    "    (why? If elements from 0 to (i-1) can represent 1 to ‘res-1’, \n",
    "          then elements from 0 to i can represent from 1 to ‘res + arr[i] – 1’ be adding ‘arr[i]’ to all subsets that represent 1 to ‘res’)\n",
    "*/"
   ]
  },
  {
   "cell_type": "code",
   "execution_count": 180,
   "metadata": {
    "run_control": {
     "marked": false
    }
   },
   "outputs": [],
   "source": [
    "// Returns the smallest number that cannot be represented as sum \n",
    "// of subset of elements from set represented by sorted array arr[0..n-1] \n",
    "int findSmallest(int arr[], int n)  \n",
    "{ \n",
    "    int res = 1; // Initialize result \n",
    "\n",
    "    // Traverse the array and increment 'res' if arr[i] is \n",
    "    // smaller than or equal to 'res'. \n",
    "    for (int i = 0; i < n && arr[i] <= res; i++) \n",
    "        res = res + arr[i]; \n",
    "\n",
    "    return res; \n",
    "} "
   ]
  },
  {
   "cell_type": "code",
   "execution_count": 181,
   "metadata": {
    "run_control": {
     "marked": false
    }
   },
   "outputs": [
    {
     "name": "stdout",
     "output_type": "stream",
     "text": [
      "2\n",
      "4\n",
      "5\n",
      "10\n"
     ]
    }
   ],
   "source": [
    "int arr1[] = {1, 3, 4, 5}; \n",
    "int n1 = arr1.length; \n",
    "System.out.println(findSmallest(arr1, n1)); \n",
    "\n",
    "int arr2[] = {1, 2, 6, 10, 11, 15}; \n",
    "int n2 = arr2.length; \n",
    "System.out.println(findSmallest(arr2, n2)); \n",
    "\n",
    "int arr3[] = {1, 1, 1, 1}; \n",
    "int n3 = arr3.length; \n",
    "System.out.println(findSmallest(arr3, n3)); \n",
    "\n",
    "int arr4[] = {1, 1, 3, 4}; \n",
    "int n4 = arr4.length; \n",
    "System.out.println(findSmallest(arr4, n4)); "
   ]
  },
  {
   "cell_type": "markdown",
   "metadata": {},
   "source": [
    "## **34. Generate all possible sorted arrays from alternate elements of two given sorted arrays**\n",
    "https://www.geeksforgeeks.org/generate-all-possible-sorted-arrays-from-alternate-elements-of-two-given-arrays/"
   ]
  },
  {
   "cell_type": "code",
   "execution_count": 182,
   "metadata": {
    "run_control": {
     "marked": false
    }
   },
   "outputs": [],
   "source": [
    "/*\n",
    "Given two sorted arrays A and B, \n",
    "generate all possible arrays such that first element is taken from A then from B then from A and so on in increasing order till the arrays exhausted. \n",
    "The generated arrays should end with an element from B.\n",
    "*/"
   ]
  },
  {
   "cell_type": "code",
   "execution_count": 183,
   "metadata": {
    "run_control": {
     "marked": false
    }
   },
   "outputs": [],
   "source": [
    "/*\n",
    "For Example\n",
    " \n",
    "A = {10, 15, 25}\n",
    "B = {1, 5, 20, 30}\n",
    "\n",
    "The resulting arrays are:\n",
    "  10 20\n",
    "  10 20 25 30\n",
    "  10 30\n",
    "  15 20\n",
    "  15 20 25 30\n",
    "  15 30\n",
    "  25 30\n",
    "*/"
   ]
  },
  {
   "cell_type": "code",
   "execution_count": 184,
   "metadata": {
    "run_control": {
     "marked": false
    }
   },
   "outputs": [],
   "source": [
    "/*\n",
    "The idea is to use recursion. \n",
    "In the recursive function, a flag is passed to indicate whether current element in output should be taken from ‘A’ or ‘B’.\n",
    "*/"
   ]
  },
  {
   "cell_type": "code",
   "execution_count": 185,
   "metadata": {
    "run_control": {
     "marked": false
    }
   },
   "outputs": [],
   "source": [
    "/* Function to generates and prints all sorted arrays from alternate \n",
    "   elements of 'A[i..m-1]' and 'B[j..n-1]' \n",
    "   If 'flag' is true, then current element is to be included from A  \n",
    "   otherwise from B. \n",
    "   'len' is the index in output array C[]. We print output array   \n",
    "   each time before including a character from A only if length of  \n",
    "   output array is greater than 0. We try than all possible  \n",
    "   combinations */\n",
    "void generateUtil(int A[], int B[], int C[], int i, int j, int m, int n, \n",
    "        int len, boolean flag)  \n",
    "{ \n",
    "    if (flag) // Include valid element from A \n",
    "    { \n",
    "        // Print output if there is at least one 'B' in output array 'C' \n",
    "        if (len != 0)  \n",
    "            printArr(C, len + 1); \n",
    "\n",
    "        // Recur for all elements of A after current index \n",
    "        for (int k = i; k < m; k++)  \n",
    "        { \n",
    "            if (len == 0)  \n",
    "            { \n",
    "                /* this block works for the very first call to include \n",
    "                the first element in the output array */\n",
    "                C[len] = A[k]; \n",
    "\n",
    "                // don't increment lem as B is included yet \n",
    "                generateUtil(A, B, C, k + 1, j, m, n, len, !flag); \n",
    "            }  \n",
    "\n",
    "            /* include valid element from A and recur */\n",
    "            else if (A[k] > C[len])  \n",
    "            { \n",
    "                    C[len + 1] = A[k]; \n",
    "                    generateUtil(A, B, C, k + 1, j, m, n, len + 1, !flag); \n",
    "            } \n",
    "        } \n",
    "    }  \n",
    "\n",
    "    /* Include valid element from B and recur */\n",
    "    else\n",
    "    { \n",
    "        for (int l = j; l < n; l++)  \n",
    "        { \n",
    "            if (B[l] > C[len])  \n",
    "            { \n",
    "                C[len + 1] = B[l]; \n",
    "                generateUtil(A, B, C, i, l + 1, m, n, len + 1, !flag); \n",
    "            } \n",
    "        } \n",
    "    } \n",
    "} "
   ]
  },
  {
   "cell_type": "code",
   "execution_count": 186,
   "metadata": {
    "run_control": {
     "marked": false
    }
   },
   "outputs": [
    {
     "ename": "CompilationException",
     "evalue": "",
     "output_type": "error",
     "traceback": [
      "\u001b[1m\u001b[30m|   \u001b[1m\u001b[30m\u001b[0m\u001b[1m\u001b[30m\u001b[41mmain\u001b[0m\u001b[1m\u001b[30m(args)\u001b[0m",
      "\u001b[1m\u001b[31mreference to main is ambiguous\u001b[0m",
      "\u001b[1m\u001b[31m  both method main(java.lang.String[]) in  and method main(java.lang.String[]) in  match\u001b[0m",
      ""
     ]
    }
   ],
   "source": [
    "/* Wrapper function */\n",
    "void generate(int A[], int B[], int m, int n)  \n",
    "{ \n",
    "    int C[] = new int[m + n]; \n",
    "\n",
    "    /* output array */\n",
    "    generateUtil(A, B, C, 0, 0, m, n, 0, true); \n",
    "} \n",
    "\n",
    "// A utility function to print an array \n",
    "void printArr(int arr[], int n)  \n",
    "{ \n",
    "    for (int i = 0; i < n; i++) \n",
    "        System.out.print(arr[i] + \" \"); \n",
    "    System.out.println(\"\"); \n",
    "} \n",
    "\n",
    "public static void main(String[] args)  \n",
    "{  \n",
    "    int A[] = {10, 15, 25}; \n",
    "    int B[] = {5, 20, 30}; \n",
    "    int n = A.length; \n",
    "    int m = B.length; \n",
    "    generate(A, B, n, m); \n",
    "} \n",
    "main(args)"
   ]
  },
  {
   "cell_type": "markdown",
   "metadata": {},
   "source": [
    "## **35. Next Permutation**\n",
    "https://leetcode.com/problems/next-permutation/description/"
   ]
  },
  {
   "cell_type": "code",
   "execution_count": 187,
   "metadata": {
    "run_control": {
     "marked": false
    }
   },
   "outputs": [],
   "source": [
    "/*\n",
    "Implement next permutation, which rearranges numbers into the lexicographically next greater permutation of numbers.\n",
    "If such arrangement is not possible, it must rearrange it as the lowest possible order (ie, sorted in ascending order).\n",
    "The replacement must be in-place and use only constant extra memory.\n",
    "Here are some examples. Inputs are in the left-hand column and its corresponding outputs are in the right-hand column.\n",
    "\n",
    "1,2,3 → 1,3,2\n",
    "3,2,1 → 1,2,3\n",
    "1,1,5 → 1,5,1\n",
    "*/"
   ]
  },
  {
   "cell_type": "markdown",
   "metadata": {},
   "source": [
    "https://leetcode.com/problems/next-permutation/solution/"
   ]
  },
  {
   "cell_type": "markdown",
   "metadata": {},
   "source": [
    "<img src = \"https://leetcode.com/media/original_images/31_Next_Permutation.gif\"/>"
   ]
  },
  {
   "cell_type": "code",
   "execution_count": 188,
   "metadata": {
    "run_control": {
     "marked": false
    }
   },
   "outputs": [],
   "source": [
    "/*\n",
    "Algorithm\n",
    "\n",
    "First, we observe that for any given sequence that is in descending order, no next larger permutation is possible. \n",
    "For example, no next permutation is possible for the following array:\n",
    "[9, 5, 4, 3, 1]\n",
    "\n",
    "We need to find the first pair of two successive numbers a[i] and a[i−1], from the right, which satisfy a[i] > a[i-1]. \n",
    "Now, no rearrangements to the right of a[i-1]a[i−1] can create a larger permutation since that subarray consists of numbers in descending order. \n",
    "Thus, we need to rearrange the numbers to the right of a[i-1]a[i−1] including itself.\n",
    "\n",
    "Now, what kind of rearrangement will produce the next larger number? \n",
    "We want to create the permutation just larger than the current one. \n",
    "Therefore, we need to replace the number a[i-1]a[i−1] with the number which is just larger than itself among the numbers lying to its right section, say a[j]a[j].\n",
    "\n",
    "\n",
    "We swap the numbers a[i-1]a[i−1] and a[j]a[j]. \n",
    "We now have the correct number at index i-1i−1. \n",
    "But still the current permutation isn't the permutation that we are looking for.\n",
    "We need the smallest permutation that can be formed by using the numbers only to the right of a[i-1]a[i−1]. \n",
    "Therefore, we need to place those numbers in ascending order to get their smallest permutation.\n",
    "\n",
    "But, recall that while scanning the numbers from the right, we simply kept decrementing the index until we found the pair a[i]a[i] and a[i-1]a[i−1] where, a[i] > a[i-1]a[i]>a[i−1]. \n",
    "Thus, all numbers to the right of a[i-1]a[i−1] were already sorted in descending order. \n",
    "Furthermore, swapping a[i-1]a[i−1] and a[j]a[j] didn't change that order. \n",
    "Therefore, we simply need to reverse the numbers following a[i-1]a[i−1] to get the next smallest lexicographic permutation.\n",
    "*/"
   ]
  },
  {
   "cell_type": "markdown",
   "metadata": {},
   "source": [
    "<img src = \"https://leetcode.com/media/original_images/31_nums_graph.png\"/>"
   ]
  },
  {
   "cell_type": "code",
   "execution_count": 189,
   "metadata": {
    "run_control": {
     "marked": false
    }
   },
   "outputs": [],
   "source": [
    "public class Solution {\n",
    "    public static void nextPermutation(int[] nums) {\n",
    "        int i = nums.length - 2;\n",
    "        while (i >= 0 && nums[i + 1] <= nums[i]) {\n",
    "            i--;\n",
    "        }\n",
    "        if (i >= 0) {\n",
    "            int j = nums.length - 1;\n",
    "            while (j >= 0 && nums[j] <= nums[i]) {\n",
    "                j--;\n",
    "            }\n",
    "            swap(nums, i, j);\n",
    "        }\n",
    "        reverse(nums, i + 1);\n",
    "    }\n",
    "\n",
    "    private static void reverse(int[] nums, int start) {\n",
    "        int i = start, j = nums.length - 1;\n",
    "        while (i < j) {\n",
    "            swap(nums, i, j);\n",
    "            i++;\n",
    "            j--;\n",
    "        }\n",
    "    }\n",
    "\n",
    "    private static void swap(int[] nums, int i, int j) {\n",
    "        int temp = nums[i];\n",
    "        nums[i] = nums[j];\n",
    "        nums[j] = temp;\n",
    "    }\n",
    "}\n",
    "\n",
    "\n",
    "void printArr(int[] arr){\n",
    "    for(int val:arr){\n",
    "        System.out.print(val+\" \");\n",
    "    }\n",
    "    System.out.println();\n",
    "}"
   ]
  },
  {
   "cell_type": "code",
   "execution_count": 190,
   "metadata": {
    "run_control": {
     "marked": false
    }
   },
   "outputs": [
    {
     "name": "stdout",
     "output_type": "stream",
     "text": [
      "1 3 2 \n",
      "1 2 3 \n",
      "1 5 1 \n"
     ]
    }
   ],
   "source": [
    "int[] arr1 = {1,2,3};\n",
    "int[] arr2 = {3,2,1};\n",
    "int[] arr3 = {1,1,5};\n",
    "Solution.nextPermutation(arr1);\n",
    "Solution.nextPermutation(arr2);\n",
    "Solution.nextPermutation(arr3);\n",
    "printArr(arr1);\n",
    "printArr(arr2);\n",
    "printArr(arr3);"
   ]
  },
  {
   "cell_type": "markdown",
   "metadata": {},
   "source": [
    "## **36. Given an array arr[], find the maximum j – i such that arr[j] > arr[i]**\n",
    "https://www.geeksforgeeks.org/given-an-array-arr-find-the-maximum-j-i-such-that-arrj-arri/"
   ]
  },
  {
   "cell_type": "code",
   "execution_count": 191,
   "metadata": {
    "run_control": {
     "marked": false
    }
   },
   "outputs": [],
   "source": [
    "/*\n",
    "Given an array arr[], find the maximum j – i such that arr[j] > arr[i].\n",
    "Examples :\n",
    "\n",
    "  Input: {34, 8, 10, 3, 2, 80, 30, 33, 1}\n",
    "  Output: 6  (j = 7, i = 1)\n",
    "\n",
    "  Input: {9, 2, 3, 4, 5, 6, 7, 8, 18, 0}\n",
    "  Output: 8 ( j = 8, i = 0)\n",
    "\n",
    "  Input:  {1, 2, 3, 4, 5, 6}\n",
    "  Output: 5  (j = 5, i = 0)\n",
    "\n",
    "  Input:  {6, 5, 4, 3, 2, 1}\n",
    "  Output: -1 \n",
    "*/"
   ]
  },
  {
   "cell_type": "code",
   "execution_count": 192,
   "metadata": {
    "run_control": {
     "marked": false
    }
   },
   "outputs": [],
   "source": [
    "/*\n",
    "Method 1 (Simple but Inefficient)\n",
    "Run two loops. \n",
    "In the outer loop, pick elements one by one from left. \n",
    "In the inner loop, compare the picked element with the elements starting from right side. \n",
    "Stop the inner loop when you see an element greater than the picked element and keep updating the maximum j-i so far.\n",
    "\n",
    "Time Complexity : O(n^2)\n",
    "*/"
   ]
  },
  {
   "cell_type": "code",
   "execution_count": 193,
   "metadata": {
    "run_control": {
     "marked": false
    }
   },
   "outputs": [],
   "source": [
    "/* For a given array arr[], returns the maximum j-i such that \n",
    "   arr[j] > arr[i] */\n",
    "int maxIndexDiff(int arr[], int n)  \n",
    "{ \n",
    "    int maxDiff = -1; \n",
    "    int i, j; \n",
    "\n",
    "    for (i = 0; i < n; ++i)  \n",
    "    { \n",
    "        for (j = n - 1; j > i; --j)  \n",
    "        { \n",
    "            if (arr[j] > arr[i] && maxDiff < (j - i)) \n",
    "                maxDiff = j - i; \n",
    "        } \n",
    "    } \n",
    "\n",
    "    return maxDiff; \n",
    "}"
   ]
  },
  {
   "cell_type": "code",
   "execution_count": 194,
   "metadata": {
    "run_control": {
     "marked": false
    }
   },
   "outputs": [
    {
     "name": "stdout",
     "output_type": "stream",
     "text": [
      "8\n"
     ]
    }
   ],
   "source": [
    "int arr[] = {9, 2, 3, 4, 5, 6, 7, 8, 18, 0}; \n",
    "int n = arr.length; \n",
    "int maxDiff = maxIndexDiff(arr, n); \n",
    "System.out.println(maxDiff); "
   ]
  },
  {
   "cell_type": "code",
   "execution_count": 195,
   "metadata": {
    "run_control": {
     "marked": false
    }
   },
   "outputs": [],
   "source": [
    "/*\n",
    "Method 3 (Efficient)\n",
    "To solve this problem, \n",
    "we need to get two optimum indexes of arr[]: left index i and right index j. \n",
    "For an element arr[i], we do not need to consider arr[i] for left index if there is an element smaller than arr[i] on left side of arr[i]. \n",
    "Similarly, if there is a greater element on right side of arr[j] then we do not need to consider this j for right index. \n",
    "So we construct two auxiliary arrays LMin[] and RMax[] \n",
    "such that LMin[i] holds the smallest element on left side of arr[i] including arr[i], \n",
    "and RMax[j] holds the greatest element on right side of arr[j] including arr[j]. \n",
    "After constructing these two auxiliary arrays, we traverse both of these arrays from left to right. \n",
    "While traversing LMin[] and RMa[] if we see that LMin[i] is greater than RMax[j], \n",
    "then we must move ahead in LMin[] (or do i++) because all elements on left of LMin[i] are greater than or equal to LMin[i]. \n",
    "Otherwise we must move ahead in RMax[j] to look for a greater j – i value.\n",
    "*/"
   ]
  },
  {
   "cell_type": "code",
   "execution_count": 196,
   "metadata": {
    "run_control": {
     "marked": false
    }
   },
   "outputs": [],
   "source": [
    "/* For a given array arr[], returns the maximum j-i such that \n",
    "   arr[j] > arr[i] */\n",
    "int maxIndexDiff(int arr[], int n)  \n",
    "{ \n",
    "    int maxDiff; \n",
    "    int i, j; \n",
    "\n",
    "    int RMax[] = new int[n]; \n",
    "    int LMin[] = new int[n]; \n",
    "\n",
    "    /* Construct LMin[] such that LMin[i] stores the minimum value \n",
    "       from (arr[0], arr[1], ... arr[i]) */\n",
    "    LMin[0] = arr[0]; \n",
    "    for (i = 1; i < n; ++i) \n",
    "        LMin[i] = Math.min(arr[i], LMin[i - 1]); \n",
    "\n",
    "    /* Construct RMax[] such that RMax[j] stores the maximum value \n",
    "       from (arr[j], arr[j+1], ..arr[n-1]) */\n",
    "    RMax[n - 1] = arr[n - 1]; \n",
    "    for (j = n - 2; j >= 0; --j) \n",
    "        RMax[j] = Math.max(arr[j], RMax[j + 1]); \n",
    "\n",
    "    /* Traverse both arrays from left to right to find optimum j - i \n",
    "       This process is similar to merge() of MergeSort */\n",
    "    i = 0; j = 0; maxDiff = -1; \n",
    "    while (j < n && i < n)  \n",
    "    { \n",
    "        if (LMin[i] < RMax[j])  \n",
    "        { \n",
    "            maxDiff = Math.max(maxDiff, j - i); \n",
    "            j = j + 1; \n",
    "        }  \n",
    "        else \n",
    "            i = i + 1; \n",
    "    } \n",
    "\n",
    "    return maxDiff; \n",
    "} "
   ]
  },
  {
   "cell_type": "code",
   "execution_count": 197,
   "metadata": {
    "run_control": {
     "marked": false
    }
   },
   "outputs": [
    {
     "name": "stdout",
     "output_type": "stream",
     "text": [
      "8\n"
     ]
    }
   ],
   "source": [
    "int arr[] = {9, 2, 3, 4, 5, 6, 7, 8, 18, 0}; \n",
    "int n = arr.length; \n",
    "int maxDiff = maxIndexDiff(arr, n); \n",
    "System.out.println(maxDiff); "
   ]
  },
  {
   "cell_type": "markdown",
   "metadata": {},
   "source": [
    "## **37. Maximum Sum of 3 Non-Overlapping Subarrays**\n",
    "https://leetcode.com/problems/maximum-sum-of-3-non-overlapping-subarrays/description/"
   ]
  },
  {
   "cell_type": "code",
   "execution_count": 198,
   "metadata": {
    "run_control": {
     "marked": false
    }
   },
   "outputs": [],
   "source": [
    "/*\n",
    "In a given array nums of positive integers, find three non-overlapping subarrays with maximum sum.\n",
    "\n",
    "Each subarray will be of size k, and we want to maximize the sum of all 3*k entries.\n",
    "\n",
    "Return the result as a list of indices representing the starting position of each interval (0-indexed). \n",
    "If there are multiple answers, return the lexicographically smallest one.\n",
    "*/"
   ]
  },
  {
   "cell_type": "code",
   "execution_count": 199,
   "metadata": {
    "run_control": {
     "marked": false
    }
   },
   "outputs": [],
   "source": [
    "/*\n",
    "Example:\n",
    "\n",
    "Input: [1,2,1,2,6,7,5,1], 2\n",
    "Output: [0, 3, 5]\n",
    "Explanation: Subarrays [1, 2], [2, 6], [7, 5] correspond to the starting indices [0, 3, 5].\n",
    "We could have also taken [2, 1], but an answer of [1, 3, 5] would be lexicographically larger.\n",
    "*/"
   ]
  },
  {
   "cell_type": "code",
   "execution_count": 200,
   "metadata": {
    "run_control": {
     "marked": false
    }
   },
   "outputs": [],
   "source": [
    "/*\n",
    "Approach #1: Ad-Hoc [Accepted]\n",
    "\n",
    "Intuition\n",
    "It is natural to consider an array W of each interval's sum, \n",
    "where each interval is the given length K. \n",
    "To create W, we can either use prefix sums, or manage the sum of the interval as a window slides along the array.\n",
    "\n",
    "From there, we approach the reduced problem: \n",
    "    Given some array W and an integer K, what is the lexicographically smallest tuple of indices (i, j, k) with i + K <= j and j + K <= k that maximizes W[i] + W[j] + W[k]?\n",
    "*/"
   ]
  },
  {
   "cell_type": "code",
   "execution_count": 201,
   "metadata": {
    "run_control": {
     "marked": false
    }
   },
   "outputs": [],
   "source": [
    "/*\n",
    "Algorithm\n",
    "\n",
    "Suppose we fixed j. We would like to know on the intervals i∈[0,j−K] and k∈[j+K,len(W)−1], \n",
    "where the largest value of W[i]W[i] (and respectively W[k]W[k]) occurs first. (Here, first means the smaller index.)\n",
    "\n",
    "We can solve these problems with dynamic programming. \n",
    "For example, \n",
    "if we know that i is where the largest value of W[i]W[i] occurs first on [0,5], then on [0,6] the first occurrence of the largest W[i]W[i] must be either i or 6. \n",
    "If say, 6 is better, then we set best = 6.\n",
    "\n",
    "At the end, \n",
    "left[z] will be the first occurrence of the largest value of W[i] on the interval i∈[0,z], \n",
    "and right[z] will be the same but on the interval i∈[z,len(W)−1]. \n",
    "This means that for some choice j, the candidate answer must be (left[j-K], j, right[j+K]). \n",
    "We take the candidate that produces the maximum W[i] + W[j] + W[k].\n",
    "*/"
   ]
  },
  {
   "cell_type": "code",
   "execution_count": 202,
   "metadata": {
    "run_control": {
     "marked": false
    }
   },
   "outputs": [],
   "source": [
    "class Solution {\n",
    "    public static int[] maxSumOfThreeSubarrays(int[] nums, int K) {\n",
    "        //W is an array of sums of windows\n",
    "        int[] W = new int[nums.length - K + 1];\n",
    "        int sum = 0;\n",
    "        for (int i = 0; i < nums.length; i++) {\n",
    "            sum += nums[i];\n",
    "            if (i >= K) sum -= nums[i-K];\n",
    "            if (i >= K-1) W[i-K+1] = sum;\n",
    "        }\n",
    "\n",
    "        int[] left = new int[W.length];\n",
    "        int best = 0;\n",
    "        for (int i = 0; i < W.length; i++) {\n",
    "            if (W[i] > W[best]) best = i;\n",
    "            left[i] = best;\n",
    "        }\n",
    "\n",
    "        int[] right = new int[W.length];\n",
    "        best = W.length - 1;\n",
    "        for (int i = W.length - 1; i >= 0; i--) {\n",
    "            if (W[i] >= W[best]) best = i;\n",
    "            right[i] = best;\n",
    "        }\n",
    "\n",
    "        int[] ans = new int[]{-1, -1, -1};\n",
    "        for (int j = K; j < W.length - K; j++) {\n",
    "            int i = left[j - K], k = right[j + K];\n",
    "            if (ans[0] == -1 || W[i] + W[j] + W[k] >\n",
    "                    W[ans[0]] + W[ans[1]] + W[ans[2]]) {\n",
    "\n",
    "                ans[0] = i;\n",
    "                ans[1] = j;\n",
    "                ans[2] = k;\n",
    "            }\n",
    "        }\n",
    "        return ans;\n",
    "    }\n",
    "}"
   ]
  },
  {
   "cell_type": "code",
   "execution_count": 203,
   "metadata": {
    "run_control": {
     "marked": false
    }
   },
   "outputs": [
    {
     "name": "stdout",
     "output_type": "stream",
     "text": [
      "0 3 5 "
     ]
    }
   ],
   "source": [
    "int[] arr = {1,2,1,2,6,7,5,1};\n",
    "int[] res = Solution.maxSumOfThreeSubarrays(arr,2);\n",
    "for(int val:res){\n",
    "    System.out.print(val+\" \");\n",
    "}"
   ]
  },
  {
   "cell_type": "markdown",
   "metadata": {},
   "source": [
    "## **38. Number of subarrays with maximum values in given range**\n",
    "https://www.geeksforgeeks.org/number-subarrays-maximum-value-given-range/"
   ]
  },
  {
   "cell_type": "code",
   "execution_count": 204,
   "metadata": {
    "run_control": {
     "marked": false
    }
   },
   "outputs": [],
   "source": [
    "/*\n",
    "Given an array of N elements and L and R, \n",
    "print the number of sub-arrays such that the value of the maximum array element in that subarray is at least L and at most R.\n",
    "\n",
    "Examples:\n",
    "\n",
    "Input : arr[] = {2, 0, 11, 3, 0}\n",
    "          L = 1, R = 10\n",
    "Output : 4 \n",
    "Explanation: the sub-arrays {2}, {2, 0}, {3} \n",
    "and {3, 0} have maximum in range 1-10.\n",
    "\n",
    "Input : arr[] = {3, 4, 1}\n",
    "          L = 2, R = 4 \n",
    "Output : 5\n",
    "Explanation: the sub-arrays are {3}, {4}, \n",
    "{3, 4}, {4, 1} and {3, 4, 1} \n",
    "*/"
   ]
  },
  {
   "cell_type": "code",
   "execution_count": 205,
   "metadata": {
    "run_control": {
     "marked": false
    }
   },
   "outputs": [],
   "source": [
    "/*\n",
    "A naive approach will be to iterate for every sub-array \n",
    "and find the number of sub-arrays with maximum in range L-R. \n",
    "Time complexity of this solution is O(n*n)\n",
    "*/"
   ]
  },
  {
   "cell_type": "code",
   "execution_count": 206,
   "metadata": {
    "run_control": {
     "marked": false
    }
   },
   "outputs": [],
   "source": [
    "/*\n",
    "An efficient approach is based on below facts :\n",
    "\n",
    "Any element > R is never included in any subarray.\n",
    "Any number of elements smaller than L can be included in subarray as long as there is at least one single element between L and R inclusive.\n",
    "The number of all possible subarrays of an array of size N is N * (N + 1)/2. Let countSubarrays(N) = N * (N + 1)/2\n",
    "We keep track of two counts in current subarray.\n",
    "    1) Count of all elements smaller than or equal to R. We call it inc.\n",
    "    2) Count of all elements smaller than L. We call it exc.\n",
    "\n",
    "Our answer for current subarray is countSubarrays(inc) – countSubarrays(exc). \n",
    "We basically remove all those subarrays which are formed by only elements smaller than L.\n",
    "\n",
    "Time Complexity: O(n)\n",
    "*/"
   ]
  },
  {
   "cell_type": "code",
   "execution_count": 207,
   "metadata": {
    "run_control": {
     "marked": false
    }
   },
   "outputs": [],
   "source": [
    "// function to calculate N*(N+1)/2 \n",
    "static long countSubarrys(long n)  \n",
    "{ \n",
    "    return n * (n + 1) / 2; \n",
    "} \n",
    "  \n",
    "// function to count the number of  \n",
    "// sub-arrays with maximum greater \n",
    "// then L and less then R. \n",
    "static long countSubarrays(int a[], int n, \n",
    "                             int L, int R)  \n",
    "{ \n",
    "    long res = 0; \n",
    "  \n",
    "    // exc is going to store count of elements \n",
    "    // smaller than L in current valid subarray. \n",
    "    // inc is going to store count of elements \n",
    "    // smaller than or equal to R. \n",
    "    long exc = 0, inc = 0; \n",
    "  \n",
    "    // traverse through all elements of the array \n",
    "    for (int i = 0; i < n; i++) { \n",
    "  \n",
    "    // If the element is greater than R, \n",
    "    // add current value to result and reset \n",
    "    // values of exc and inc. \n",
    "    if (a[i] > R) { \n",
    "        res += (countSubarrys(inc) - countSubarrys(exc)); \n",
    "        inc = 0; \n",
    "        exc = 0; \n",
    "    } \n",
    "  \n",
    "    // if it is less than L, then it is included \n",
    "    // in the sub-arrays \n",
    "    else if (a[i] < L) { \n",
    "        exc++; \n",
    "        inc++; \n",
    "    } \n",
    "  \n",
    "    // if >= L and <= R, then count of \n",
    "    // subarrays formed by previous chunk \n",
    "    // of elements formed by only smaller \n",
    "    // elements is reduced from result. \n",
    "    else { \n",
    "        res -= countSubarrys(exc); \n",
    "        exc = 0; \n",
    "        inc++; \n",
    "    } \n",
    "    } \n",
    "  \n",
    "    // Update result. \n",
    "    res += (countSubarrys(inc) - countSubarrys(exc)); \n",
    "  \n",
    "    // returns the count of sub-arrays \n",
    "    return res; \n",
    "} "
   ]
  },
  {
   "cell_type": "code",
   "execution_count": 208,
   "metadata": {
    "run_control": {
     "marked": false
    }
   },
   "outputs": [
    {
     "ename": "CompilationException",
     "evalue": "",
     "output_type": "error",
     "traceback": [
      "\u001b[1m\u001b[30m|   \u001b[1m\u001b[30m\u001b[0m\u001b[1m\u001b[30m\u001b[41mmain\u001b[0m\u001b[1m\u001b[30m(args)\u001b[0m",
      "\u001b[1m\u001b[31mreference to main is ambiguous\u001b[0m",
      "\u001b[1m\u001b[31m  both method main(java.lang.String[]) in  and method main(java.lang.String[]) in  match\u001b[0m",
      ""
     ]
    }
   ],
   "source": [
    "// Driver code \n",
    "public static void main(String arg[])  \n",
    "{ \n",
    "    int a[] = {2, 0, 11, 3, 0}; \n",
    "    int n = a.length; \n",
    "    int l = 1, r = 10; \n",
    "    System.out.print(countSubarrays(a, n, l, r)); \n",
    "} \n",
    "main(args)"
   ]
  },
  {
   "cell_type": "markdown",
   "metadata": {},
   "source": [
    "## **39. Print all possible combinations of r elements in a given array of size n**\n",
    "https://www.geeksforgeeks.org/print-all-possible-combinations-of-r-elements-in-a-given-array-of-size-n/"
   ]
  },
  {
   "cell_type": "code",
   "execution_count": 209,
   "metadata": {
    "run_control": {
     "marked": false
    }
   },
   "outputs": [],
   "source": [
    "/*\n",
    "Given an array of size n, generate and print all possible combinations of r elements in array. \n",
    "For example, \n",
    "if input array is {1, 2, 3, 4} and r is 2, \n",
    "then output should be {1, 2}, {1, 3}, {1, 4}, {2, 3}, {2, 4} and {3, 4}.\n",
    "*/"
   ]
  },
  {
   "cell_type": "code",
   "execution_count": 210,
   "metadata": {
    "run_control": {
     "marked": false
    }
   },
   "outputs": [],
   "source": [
    "/*\n",
    "Method 1 (Fix Elements and Recur)\n",
    "We create a temporary array ‘data[]’ which stores all outputs one by one. \n",
    "The idea is to start from first index (index = 0) in data[], \n",
    "one by one fix elements at this index and recur for remaining indexes. \n",
    "Let the input array be {1, 2, 3, 4, 5} and r be 3. \n",
    "We first fix 1 at index 0 in data[], \n",
    "then recur for remaining indexes, \n",
    "then we fix 2 at index 0 and recur. \n",
    "Finally, we fix 3 and recur for remaining indexes. \n",
    "When number of elements in data[] becomes equal to r (size of a combination), we print data[].\n",
    "\n",
    "Following diagram shows recursion tree for same input.\n",
    "*/"
   ]
  },
  {
   "cell_type": "markdown",
   "metadata": {},
   "source": [
    "<img src = \"https://media.geeksforgeeks.org/wp-content/uploads/tree12345.png\"/>"
   ]
  },
  {
   "cell_type": "code",
   "execution_count": 211,
   "metadata": {
    "run_control": {
     "marked": false
    }
   },
   "outputs": [],
   "source": [
    "/* arr[]  ---> Input Array \n",
    "data[] ---> Temporary array to store current combination \n",
    "start & end ---> Staring and Ending indexes in arr[] \n",
    "index  ---> Current index in data[] \n",
    "r ---> Size of a combination to be printed */\n",
    "static void combinationUtil(int arr[], int data[], int start, \n",
    "                            int end, int index, int r) \n",
    "{ \n",
    "    // Current combination is ready to be printed, print it \n",
    "    if (index == r) \n",
    "    { \n",
    "        for (int j=0; j<r; j++) \n",
    "            System.out.print(data[j]+\" \"); \n",
    "        System.out.println(\"\"); \n",
    "        return; \n",
    "    } \n",
    "\n",
    "    // replace index with all possible elements. The condition \n",
    "    // \"end-i+1 >= r-index\" makes sure that including one element \n",
    "    // at index will make a combination with remaining elements \n",
    "    // at remaining positions \n",
    "    for (int i=start; i<=end && end-i+1 >= r-index; i++) \n",
    "    { \n",
    "        data[index] = arr[i]; \n",
    "        combinationUtil(arr, data, i+1, end, index+1, r); \n",
    "    } \n",
    "} \n",
    "\n",
    "// The main function that prints all combinations of size r \n",
    "// in arr[] of size n. This function mainly uses combinationUtil() \n",
    "static void printCombination(int arr[], int n, int r) \n",
    "{ \n",
    "    // A temporary array to store all combination one by one \n",
    "    int data[]=new int[r]; \n",
    "\n",
    "    // Print all combination using temprary array 'data[]' \n",
    "    combinationUtil(arr, data, 0, n-1, 0, r); \n",
    "} "
   ]
  },
  {
   "cell_type": "code",
   "execution_count": 212,
   "metadata": {
    "run_control": {
     "marked": false
    }
   },
   "outputs": [
    {
     "ename": "CompilationException",
     "evalue": "",
     "output_type": "error",
     "traceback": [
      "\u001b[1m\u001b[30m|   \u001b[1m\u001b[30m\u001b[0m\u001b[1m\u001b[30m\u001b[41mmain\u001b[0m\u001b[1m\u001b[30m(args)\u001b[0m",
      "\u001b[1m\u001b[31mreference to main is ambiguous\u001b[0m",
      "\u001b[1m\u001b[31m  both method main(java.lang.String[]) in  and method main(java.lang.String[]) in  match\u001b[0m",
      ""
     ]
    }
   ],
   "source": [
    "/*Driver function to check for above function*/\n",
    "public static void main (String[] args) { \n",
    "    int arr[] = {1, 2, 3, 4, 5}; \n",
    "    int r = 3; \n",
    "    int n = arr.length; \n",
    "    printCombination(arr, n, r); \n",
    "} \n",
    "main(args)"
   ]
  },
  {
   "cell_type": "code",
   "execution_count": 213,
   "metadata": {
    "run_control": {
     "marked": false
    }
   },
   "outputs": [],
   "source": [
    "/*\n",
    "Method 2 (Include and Exclude every element)\n",
    "Like the above method, We create a temporary array data[]. \n",
    "The idea here is similar to Subset Sum Problem. (https://www.geeksforgeeks.org/subset-sum-problem-dp-25/)\n",
    "We one by one consider every element of input array, and recur for two cases:\n",
    "\n",
    "1) The element is included in current combination (We put the element in data[] and increment next available index in data[])\n",
    "2) The element is excluded in current combination (We do not put the element and do not change index)\n",
    "\n",
    "When number of elements in data[] become equal to r (size of a combination), we print it.\n",
    "\n",
    "This method is mainly based on Pascal’s Identity, i.e. ncr = n-1cr + n-1cr-1\n",
    "\n",
    "Following is implementation of method 2.\n",
    "*/"
   ]
  },
  {
   "cell_type": "code",
   "execution_count": 214,
   "metadata": {
    "run_control": {
     "marked": false
    }
   },
   "outputs": [],
   "source": [
    "/*\n",
    "PASCAL RULE :\n",
    "\n",
    "In mathematics, Pascal's rule (or Pascal's formula) is a combinatorial identity about binomial coefficients. \n",
    "It states that for positive natural numbers n and k,\n",
    "where right side of = is a binomial coefficient; \n",
    "one interpretation of which is the coefficient of the x^k term in the expansion of (1 + x)^n. \n",
    "There is no restriction on the relative sizes of n and k, since, \n",
    "if n < k the value of the binomial coefficient is zero and the identity remains valid.\n",
    "*/\n"
   ]
  },
  {
   "cell_type": "markdown",
   "metadata": {},
   "source": [
    "<img src = \"https://wikimedia.org/api/rest_v1/media/math/render/svg/50fc81ac7a665ee200b71104e64d7c31d9abcbb0\"/>"
   ]
  },
  {
   "cell_type": "code",
   "execution_count": 215,
   "metadata": {
    "run_control": {
     "marked": false
    }
   },
   "outputs": [],
   "source": [
    "/* arr[]  ---> Input Array \n",
    "data[] ---> Temporary array to store current combination \n",
    "start & end ---> Staring and Ending indexes in arr[] \n",
    "index  ---> Current index in data[] \n",
    "r ---> Size of a combination to be printed */\n",
    "static void combinationUtil(int arr[], int n, int r, int index, \n",
    "                            int data[], int i) \n",
    "{ \n",
    "    // Current combination is ready to be printed, print it \n",
    "    if (index == r) \n",
    "    { \n",
    "        for (int j=0; j<r; j++) \n",
    "            System.out.print(data[j]+\" \"); \n",
    "        System.out.println(\"\"); \n",
    "    return; \n",
    "    } \n",
    "\n",
    "    // When no more elements are there to put in data[] \n",
    "    if (i >= n) \n",
    "    return; \n",
    "\n",
    "    // current is included, put next at next location \n",
    "    data[index] = arr[i]; \n",
    "    combinationUtil(arr, n, r, index+1, data, i+1); \n",
    "\n",
    "    // current is excluded, replace it with next (Note that \n",
    "    // i+1 is passed, but index is not changed) \n",
    "    combinationUtil(arr, n, r, index, data, i+1); \n",
    "} \n",
    "\n",
    "// The main function that prints all combinations of size r \n",
    "// in arr[] of size n. This function mainly uses combinationUtil() \n",
    "static void printCombination(int arr[], int n, int r) \n",
    "{ \n",
    "    // A temporary array to store all combination one by one \n",
    "    int data[]=new int[r]; \n",
    "\n",
    "    // Print all combination using temprary array 'data[]' \n",
    "    combinationUtil(arr, n, r, 0, data, 0); \n",
    "} "
   ]
  },
  {
   "cell_type": "code",
   "execution_count": 216,
   "metadata": {
    "run_control": {
     "marked": false
    }
   },
   "outputs": [
    {
     "ename": "CompilationException",
     "evalue": "",
     "output_type": "error",
     "traceback": [
      "\u001b[1m\u001b[30m|   \u001b[1m\u001b[30m\u001b[0m\u001b[1m\u001b[30m\u001b[41mmain\u001b[0m\u001b[1m\u001b[30m(args)\u001b[0m",
      "\u001b[1m\u001b[31mreference to main is ambiguous\u001b[0m",
      "\u001b[1m\u001b[31m  both method main(java.lang.String[]) in  and method main(java.lang.String[]) in  match\u001b[0m",
      ""
     ]
    }
   ],
   "source": [
    "/*Driver function to check for above function*/\n",
    "public static void main (String[] args) { \n",
    "    int arr[] = {1, 2, 3, 4, 5}; \n",
    "    int r = 3; \n",
    "    int n = arr.length; \n",
    "    printCombination(arr, n, r); \n",
    "}\n",
    "main(args)"
   ]
  },
  {
   "cell_type": "code",
   "execution_count": 217,
   "metadata": {
    "run_control": {
     "marked": false
    }
   },
   "outputs": [],
   "source": [
    "/*\n",
    "How to handle duplicates in method 2?\n",
    "Like method 1, we can following two things to handle duplicates.\n",
    "1) Add code to sort the array before calling combinationUtil() in printCombination()\n",
    "2) Add following lines between two recursive calls of combinationUtil() in combinationUtil()\n",
    "\n",
    "        // Since the elements are sorted, all occurrences of an element\n",
    "        // must be together\n",
    "        while (arr[i] == arr[i+1])\n",
    "             i++; \n",
    "*/"
   ]
  },
  {
   "cell_type": "markdown",
   "metadata": {},
   "source": [
    "## **40. Longest subarray with sum divisible by k**\n",
    "https://www.geeksforgeeks.org/longest-subarray-sum-divisible-k/"
   ]
  },
  {
   "cell_type": "code",
   "execution_count": 218,
   "metadata": {
    "run_control": {
     "marked": false
    }
   },
   "outputs": [],
   "source": [
    "/*\n",
    "Given an arr[] containing n integers and a positive integer k. \n",
    "The problem is to find the length of the longest subarray with sum of the elements divisible by the given value k.\n",
    "\n",
    "Examples:\n",
    "\n",
    "Input : arr[] = {2, 7, 6, 1, 4, 5}, k = 3\n",
    "Output : 4\n",
    "The subarray is {7, 6, 1, 4} with sum 18,\n",
    "which is divisible by 3.\n",
    "\n",
    "Input : arr[] = {-2, 2, -5, 12, -11, -1, 7}\n",
    "Output : 5\n",
    "\n",
    "*/"
   ]
  },
  {
   "cell_type": "code",
   "execution_count": 219,
   "metadata": {
    "run_control": {
     "marked": false
    }
   },
   "outputs": [],
   "source": [
    "/*\n",
    "Method 1 (Naive Approach): \n",
    "Consider all the subarrays and return the length of the subarray with sum divisible by k and has the longest length.\n",
    "Time Complexity: O(n^2).\n",
    "*/"
   ]
  },
  {
   "cell_type": "code",
   "execution_count": 220,
   "metadata": {
    "run_control": {
     "marked": false
    }
   },
   "outputs": [],
   "source": [
    "/*\n",
    "Method 2 (Efficient Approach): \n",
    "Create an array mod_arr[] where mod_arr[i] stores (sum(arr[0]+arr[1]..+arr[i]) % k). \n",
    "Create a hash table having tuple as (ele, idx), \n",
    "where ele represents an element of mod_arr[] and idx represents the element’s index of first occurrence in mod_arr[]. \n",
    "Now, traverse mod_arr[] from i = 0 to n \n",
    "and follow the steps given below.\n",
    "\n",
    "If mod_arr[i] == 0, then update maxLen = (i + 1).\n",
    "Else if mod_arr[i] is not present in the hash table, then create tuple (mod_arr[i], i) in the hash table.\n",
    "Else, get the value associated with mod_arr[i] in the hash table. Let this be idx.\n",
    "If maxLen < (i – idx), then update maxLen = (i – idx).\n",
    "Finally return maxLen.\n",
    "\n",
    "Time Complexity: O(n).\n",
    "Auxiliary Space: O(n^2).\n",
    "*/"
   ]
  },
  {
   "cell_type": "code",
   "execution_count": 221,
   "metadata": {
    "run_control": {
     "marked": false
    }
   },
   "outputs": [],
   "source": [
    "// function to find the longest subarray \n",
    "// with sum divisible by k \n",
    "static int longSubarrWthSumDivByK(int arr[],  \n",
    "                                  int n, int k) \n",
    "{ \n",
    "    // unodered map 'um' implemented as \n",
    "    // hash table \n",
    "    HashMap<Integer, Integer> um= new HashMap<Integer, Integer>(); \n",
    "\n",
    "    // 'mod_arr[i]' stores (sum[0..i] % k) \n",
    "    int mod_arr[]= new int[n]; \n",
    "    int max = 0; \n",
    "    int curr_sum = 0; \n",
    "\n",
    "    // traverse arr[] and build up the \n",
    "    // array 'mod_arr[]' \n",
    "    for (int i = 0; i < n; i++) \n",
    "    { \n",
    "        curr_sum += arr[i]; \n",
    "\n",
    "        // as the sum can be negative,  \n",
    "        // taking modulo twice \n",
    "        mod_arr[i] = ((curr_sum % k) + k) % k;      \n",
    "    }  \n",
    "\n",
    "    for (int i = 0; i < n; i++) \n",
    "    { \n",
    "        // if true then sum(0..i) is  \n",
    "        // divisible by k \n",
    "        if (mod_arr[i] == 0) \n",
    "            // update 'max' \n",
    "            max = i + 1; \n",
    "\n",
    "        // if value 'mod_arr[i]' not present in 'um' \n",
    "        // then store it in 'um' with index of its \n",
    "        // first occurrence      \n",
    "        else if (um.containsKey(mod_arr[i]) == false) \n",
    "            um.put(mod_arr[i] , i); \n",
    "\n",
    "        else\n",
    "            // if true, then update 'max' \n",
    "            if (max < (i - um.get(mod_arr[i]))) \n",
    "                max = i - um.get(mod_arr[i]);          \n",
    "    } \n",
    "\n",
    "    // required length of longest subarray with \n",
    "    // sum divisible by 'k' \n",
    "    return max; \n",
    "} "
   ]
  },
  {
   "cell_type": "code",
   "execution_count": 222,
   "metadata": {
    "run_control": {
     "marked": false
    }
   },
   "outputs": [
    {
     "ename": "CompilationException",
     "evalue": "",
     "output_type": "error",
     "traceback": [
      "\u001b[1m\u001b[30m|   \u001b[1m\u001b[30m\u001b[0m\u001b[1m\u001b[30m\u001b[41mmain\u001b[0m\u001b[1m\u001b[30m(args)\u001b[0m",
      "\u001b[1m\u001b[31mreference to main is ambiguous\u001b[0m",
      "\u001b[1m\u001b[31m  both method main(java.lang.String[]) in  and method main(java.lang.String[]) in  match\u001b[0m",
      ""
     ]
    }
   ],
   "source": [
    "public static void main (String[] args)  \n",
    "{ \n",
    "    int arr[] = {2, 7, 6, 1, 4, 5}; \n",
    "    int n = arr.length; \n",
    "    int k = 3; \n",
    "\n",
    "    System.out.println(\"Length = \"+  \n",
    "                        longSubarrWthSumDivByK(arr, n, k)); \n",
    "\n",
    "} \n",
    "main(args)"
   ]
  },
  {
   "cell_type": "markdown",
   "metadata": {},
   "source": [
    "## **41. Find minimum number of merge operations to make an array palindrome**\n",
    "https://www.geeksforgeeks.org/find-minimum-number-of-merge-operations-to-make-an-array-palindrome/"
   ]
  },
  {
   "cell_type": "markdown",
   "metadata": {},
   "source": [
    "https://youtu.be/wBGxPHXAPM4"
   ]
  },
  {
   "cell_type": "code",
   "execution_count": 223,
   "metadata": {
    "run_control": {
     "marked": false
    }
   },
   "outputs": [],
   "source": [
    "/*\n",
    "Given an array of positive integers. \n",
    "We need to make the given array a ‘Palindrome’. \n",
    "Only allowed operation on array is merge. \n",
    "Merging two adjacent elements means replacing them with their sum. \n",
    "The task is to find minimum number of merge operations required to make given array a ‘Palindrome’.\n",
    "\n",
    "To make an array a palindromic, \n",
    "we can simply apply merging operations n-1 times \n",
    "where n is the size of array (Note a single element array is alway palindrome similar to single character string). \n",
    "In that case, \n",
    "size of array will be reduced to 1. \n",
    "But in this problem we are asked to do it in minimum number of operations.\n",
    "\n",
    "Expected time complexity is O(n).\n",
    "*/"
   ]
  },
  {
   "cell_type": "code",
   "execution_count": 224,
   "metadata": {
    "run_control": {
     "marked": false
    }
   },
   "outputs": [],
   "source": [
    "/*\n",
    "Example :\n",
    "\n",
    "Input : arr[] = {15, 4, 15}\n",
    "Output : 0\n",
    "Array is already a palindrome. So we\n",
    "do not need any merge operation.\n",
    "\n",
    "Input : arr[] = {1, 4, 5, 1}\n",
    "Output : 1\n",
    "We can make given array palindrome with\n",
    "minimum one merging (merging 4 and 5 to\n",
    "make 9)\n",
    "\n",
    "Input : arr[] = {11, 14, 15, 99}\n",
    "Output : 3\n",
    "We need to merge all elements to make\n",
    "a palindrome.\n",
    "*/"
   ]
  },
  {
   "cell_type": "code",
   "execution_count": 225,
   "metadata": {
    "run_control": {
     "marked": false
    }
   },
   "outputs": [],
   "source": [
    "/*\n",
    "Let f(i, j) be minimum merging operations to make subarray arr[i..j] a palindrome. \n",
    "If i == j answer is 0. We start i from 0 and j from n-1.\n",
    "\n",
    "If arr[i] == arr[j], then there is no need to do any merging operations at index i or index j. \n",
    "    Our answer in this case will be f(i+1, j-1).\n",
    "Else, we need to do merging operations. Following cases arise.\n",
    "    If arr[i] > arr[j], then we should do merging operation at index j. \n",
    "    We merge index j-1 and j, and update arr[j-1] = arr[j-1] + arr[j]. Our answer in this case will be 1 + f(i, j-1).\n",
    "    \n",
    "    For the case when arr[i] < arr[j], update arr[i+1] = arr[i+1] + arr[i]. Our answer in this case will be 1 + f(i+1, j).\n",
    "    \n",
    "Our answer will be f(0, n-1), where n is size of array arr[].\n",
    "\n",
    "Therefore this problem can be solved iteratively using two pointers \n",
    "(first pointer pointing to start of the array and second pointer pointing to last element of the array) method and keeping count of total merging operations done till now.\n",
    "\n",
    "Below is implementation of above idea.\n",
    "\n",
    "Time complexity for the given program is : O(n)\n",
    "*/"
   ]
  },
  {
   "cell_type": "code",
   "execution_count": 226,
   "metadata": {
    "run_control": {
     "marked": false
    }
   },
   "outputs": [],
   "source": [
    "// Returns minimum number of count operations \n",
    "// required to make arr[] palindrome \n",
    "static int findMinOps(int[] arr, int n) \n",
    "{ \n",
    "    int ans = 0; // Initialize result \n",
    "    // Start from two corners \n",
    "    for (int i=0,j=n-1; i<=j;) \n",
    "    { \n",
    "        // If corner elements are same, \n",
    "        // problem reduces arr[i+1..j-1] \n",
    "        if (arr[i] == arr[j]) \n",
    "        { \n",
    "            i++; \n",
    "            j--; \n",
    "        } \n",
    "        // If left element is greater, then \n",
    "        // we merge right two elements \n",
    "        else if (arr[i] > arr[j]) \n",
    "        { \n",
    "            // need to merge from tail. \n",
    "            j--; \n",
    "            arr[j] += arr[j+1] ; \n",
    "            ans++; \n",
    "        } \n",
    "\n",
    "        // Else we merge left two elements \n",
    "        else\n",
    "        { \n",
    "            i++; \n",
    "            arr[i] += arr[i-1]; \n",
    "            ans++; \n",
    "        } \n",
    "    } \n",
    "    return ans; \n",
    "} "
   ]
  },
  {
   "cell_type": "code",
   "execution_count": 227,
   "metadata": {
    "run_control": {
     "marked": false
    }
   },
   "outputs": [
    {
     "name": "stdout",
     "output_type": "stream",
     "text": [
      "Count of minimum operations is 1\n"
     ]
    }
   ],
   "source": [
    "int arr[] = new int[]{1, 4, 5, 9, 1} ; \n",
    "System.out.println(\"Count of minimum operations is \"+ \n",
    "                        findMinOps(arr, arr.length)); "
   ]
  },
  {
   "cell_type": "markdown",
   "metadata": {},
   "source": [
    "## **42. Reorder an array according to given indexes**\n",
    "https://www.geeksforgeeks.org/reorder-a-array-according-to-given-indexes/"
   ]
  },
  {
   "cell_type": "code",
   "execution_count": 228,
   "metadata": {
    "run_control": {
     "marked": false
    }
   },
   "outputs": [],
   "source": [
    "/*\n",
    "Given two integer arrays of same size, “arr[]” and “index[]”, \n",
    "reorder elements in “arr[]” according to given index array. \n",
    "It is not allowed to given array arr’s length.\n",
    "\n",
    "Expected time complexity O(n) and auxiliary space O(1)\n",
    "*/"
   ]
  },
  {
   "cell_type": "code",
   "execution_count": 229,
   "metadata": {
    "run_control": {
     "marked": false
    }
   },
   "outputs": [],
   "source": [
    "/*\n",
    "Example:\n",
    "\n",
    "Input:  arr[]   = [10, 11, 12];\n",
    "        index[] = [1, 0, 2];\n",
    "Output: arr[]   = [11, 10, 12]\n",
    "        index[] = [0,  1,  2] \n",
    "\n",
    "Input:  arr[]   = [50, 40, 70, 60, 90]\n",
    "        index[] = [3,  0,  4,  1,  2]\n",
    "Output: arr[]   = [40, 60, 90, 50, 70]\n",
    "        index[] = [0,  1,  2,  3,   4] \n",
    "*/"
   ]
  },
  {
   "cell_type": "code",
   "execution_count": 230,
   "metadata": {
    "run_control": {
     "marked": false
    }
   },
   "outputs": [],
   "source": [
    "/*\n",
    "A Simple Solution is to use an auxiliary array temp[] of same size as given arrays. \n",
    "Traverse the given array and put all elements at their correct place in temp[] using index[]. \n",
    "Finally copy temp[] to arr[] and set all values of index[i] as i.\n",
    "*/"
   ]
  },
  {
   "cell_type": "code",
   "execution_count": 231,
   "metadata": {
    "run_control": {
     "marked": false
    }
   },
   "outputs": [
    {
     "ename": "CompilationException",
     "evalue": "",
     "output_type": "error",
     "traceback": [
      "\u001b[1m\u001b[30m|   \u001b[1m\u001b[30m\u001b[0m\u001b[1m\u001b[30m\u001b[41mmain\u001b[0m\u001b[1m\u001b[30m(args)\u001b[0m",
      "\u001b[1m\u001b[31mreference to main is ambiguous\u001b[0m",
      "\u001b[1m\u001b[31m  both method main(java.lang.String[]) in  and method main(java.lang.String[]) in  match\u001b[0m",
      ""
     ]
    }
   ],
   "source": [
    "static int arr[] = new int[]{50, 40, 70, 60, 90}; \n",
    "static int index[] = new int[]{3,  0,  4,  1,  2}; \n",
    "\n",
    "// Method to reorder elements of arr[] according \n",
    "// to index[] \n",
    "static void reorder() \n",
    "{ \n",
    "    int temp[] = new int[arr.length]; \n",
    "\n",
    "    // arr[i] should be present at index[i] index \n",
    "    for (int i=0; i<arr.length; i++) \n",
    "        temp[index[i]] = arr[i]; \n",
    "        \n",
    "    // Copy temp[] to arr[] \n",
    "    for (int i=0; i<arr.length; i++) \n",
    "    {  \n",
    "       arr[i]   = temp[i]; \n",
    "       index[i] = i; \n",
    "    } \n",
    "} \n",
    "\n",
    "// Driver method to test the above function \n",
    "public static void main(String[] args)  \n",
    "{ \n",
    "    reorder(); \n",
    "    System.out.println(\"Reordered array is: \"); \n",
    "    System.out.println(Arrays.toString(arr)); \n",
    "    System.out.println(\"Modified Index array is:\"); \n",
    "    System.out.println(Arrays.toString(index)); \n",
    "\n",
    "} \n",
    "main(args)"
   ]
  },
  {
   "cell_type": "code",
   "execution_count": 232,
   "metadata": {
    "run_control": {
     "marked": false
    }
   },
   "outputs": [],
   "source": [
    "/*\n",
    "We can solve it Without Auxiliary Array. Below is algorithm.\n",
    "\n",
    "1) Do following for every element arr[i]\n",
    "   a) While index[i] is not equal to i\n",
    "       (i)  Store array and index values of the target (or \n",
    "            correct) position where arr[i] should be placed.\n",
    "            The correct position for arr[i] is index[i]\n",
    "       (ii) Place arr[i] at its correct position. Also\n",
    "            update index value of correct position.\n",
    "       (iii) Copy old values of correct position (Stored in\n",
    "            step (i)) to arr[i] and index[i] as the while \n",
    "            loop continues for i.\n",
    "Below is implementation of above algorithm.\n",
    "*/"
   ]
  },
  {
   "cell_type": "code",
   "execution_count": 233,
   "metadata": {
    "run_control": {
     "marked": false
    }
   },
   "outputs": [],
   "source": [
    "static int arr[] = new int[]{50, 40, 70, 60, 90}; \n",
    "static int index[] = new int[]{3,  0,  4,  1,  2}; \n",
    "\n",
    "// Method to reorder elements of arr[] according \n",
    "// to index[] \n",
    "static void reorder() \n",
    "{ \n",
    "    // Fix all elements one by one \n",
    "    for (int i=0; i<arr.length; i++) \n",
    "    { \n",
    "        // While index[i] and arr[i] are not fixed \n",
    "        while (index[i] != i) \n",
    "        { \n",
    "            // Store values of the target (or correct)  \n",
    "            // position before placing arr[i] there \n",
    "            int  oldTargetI  = index[index[i]]; \n",
    "            char oldTargetE  = (char)arr[index[i]]; \n",
    "\n",
    "            // Place arr[i] at its target (or correct) \n",
    "            // position. Also copy corrected index for \n",
    "            // new position \n",
    "            arr[index[i]] = arr[i]; \n",
    "            index[index[i]] = index[i]; \n",
    "\n",
    "            // Copy old target values to arr[i] and \n",
    "            // index[i] \n",
    "            index[i] = oldTargetI; \n",
    "            arr[i]   = oldTargetE; \n",
    "        } \n",
    "    } \n",
    "}"
   ]
  },
  {
   "cell_type": "code",
   "execution_count": 234,
   "metadata": {
    "run_control": {
     "marked": false
    }
   },
   "outputs": [
    {
     "ename": "CompilationException",
     "evalue": "",
     "output_type": "error",
     "traceback": [
      "\u001b[1m\u001b[30m|   \u001b[1m\u001b[30m\u001b[0m\u001b[1m\u001b[30m\u001b[41mmain\u001b[0m\u001b[1m\u001b[30m(args)\u001b[0m",
      "\u001b[1m\u001b[31mreference to main is ambiguous\u001b[0m",
      "\u001b[1m\u001b[31m  both method main(java.lang.String[]) in  and method main(java.lang.String[]) in  match\u001b[0m",
      ""
     ]
    }
   ],
   "source": [
    "public static void main(String[] args)  \n",
    "{ \n",
    "    reorder(); \n",
    "    System.out.println(\"Reordered array is: \"); \n",
    "    System.out.println(Arrays.toString(arr)); \n",
    "    System.out.println(\"Modified Index array is:\"); \n",
    "    System.out.println(Arrays.toString(index)); \n",
    "} \n",
    "main(args)"
   ]
  },
  {
   "cell_type": "markdown",
   "metadata": {},
   "source": [
    "## **43. Maximum Score**\n",
    "https://www.codechef.com/JAN18/problems/MAXSC/"
   ]
  },
  {
   "cell_type": "code",
   "execution_count": 235,
   "metadata": {
    "run_control": {
     "marked": false
    }
   },
   "outputs": [],
   "source": [
    "/*\n",
    "You are given N integer sequences A1, A2, ..., AN. \n",
    "Each of these sequences contains N elements. \n",
    "You should pick N elements, one from each sequence; \n",
    "let's denote the element picked from sequence Ai by Ei. \n",
    "For each i (2 ≤ i ≤ N), Ei should be strictly greater than Ei-1.\n",
    "\n",
    "Compute the maximum possible value of E1 + E2 + ... + EN. \n",
    "If it's impossible to pick the elements E1, E2, ..., EN, print -1 instead.\n",
    "*/"
   ]
  },
  {
   "cell_type": "code",
   "execution_count": 236,
   "metadata": {
    "run_control": {
     "marked": false
    }
   },
   "outputs": [],
   "source": [
    "/*\n",
    "Example\n",
    "Input:\n",
    "\n",
    "1\n",
    "3\n",
    "1 2 3\n",
    "4 5 6\n",
    "7 8 9\n",
    "\n",
    "Output:\n",
    "\n",
    "18\n",
    "Explanation\n",
    "Example case 1: \n",
    "To maximise the score, \n",
    "pick 3 from the first row, 6 from the second row and 9 from the third row. \n",
    "The resulting sum is E1+E2+E3 = 3+6+9 = 18.\n",
    "*/"
   ]
  },
  {
   "cell_type": "code",
   "execution_count": 237,
   "metadata": {
    "run_control": {
     "marked": false
    }
   },
   "outputs": [],
   "source": [
    "public static void main(String[]args){\n",
    "    Scanner sc=new Scanner(System.in);\n",
    "    int t = sc.nextInt();\n",
    "    while(t-->0){\n",
    "        int n = sc.nextInt();\n",
    "        boolean flag2=false;\n",
    "        int[][] ar =new int[n][n];\n",
    "        for(int i=0;i<n;i++)\n",
    "            for(int j=0;j<n;j++)\n",
    "                ar[i][j]=sc.nextInt();\n",
    "        long sum=0;\n",
    "        int max1=Integer.MAX_VALUE;\n",
    "        for(int i=n-1;i>=0;i--) {\n",
    "            boolean flag=false;\n",
    "            int max=Integer.MIN_VALUE;\n",
    "            for(int j=0;j<n;j++) {\n",
    "                if(max<max1 ){\n",
    "                    if(max<ar[i][j] && ar[i][j]<max1){\n",
    "                        max=ar[i][j];\n",
    "                        flag=true;\n",
    "                    }\n",
    "                    //System.out.println(max+\"++\"+ar[i][j]+\" \"+max1);\n",
    "                }\n",
    "            }  \n",
    "            if(!flag){\n",
    "                flag2=true;\n",
    "                break;\n",
    "            }\n",
    "            //System.out.println(max+\"+++\"); \n",
    "            max1=max;\n",
    "            sum+=max;\n",
    "        } \n",
    "        if(!flag2)\n",
    "            System.out.println(sum);\n",
    "        else \n",
    "            System.out.println(-1);\n",
    "    }\n",
    "}"
   ]
  },
  {
   "cell_type": "code",
   "execution_count": 238,
   "metadata": {
    "run_control": {
     "marked": false
    }
   },
   "outputs": [
    {
     "ename": "CompilationException",
     "evalue": "",
     "output_type": "error",
     "traceback": [
      "\u001b[1m\u001b[30m|   \u001b[1m\u001b[30m\u001b[0m\u001b[1m\u001b[30m\u001b[41mmain\u001b[0m\u001b[1m\u001b[30m(args)\u001b[0m",
      "\u001b[1m\u001b[31mreference to main is ambiguous\u001b[0m",
      "\u001b[1m\u001b[31m  both method main(java.lang.String[]) in  and method main(java.lang.String[]) in  match\u001b[0m",
      ""
     ]
    }
   ],
   "source": [
    "main(args)"
   ]
  },
  {
   "cell_type": "markdown",
   "metadata": {},
   "source": [
    "## **44. Rearrange an array in maximum minimum form | Set 2 (O(1) extra space)**\n",
    "https://www.geeksforgeeks.org/rearrange-array-maximum-minimum-form-set-2-o1-extra-space/"
   ]
  },
  {
   "cell_type": "code",
   "execution_count": 239,
   "metadata": {
    "run_control": {
     "marked": false
    }
   },
   "outputs": [],
   "source": [
    "/*\n",
    "Given a sorted array of positive integers, \n",
    "rearrange the array alternately \n",
    "i.e first element should be the maximum value, second minimum value, third-second max, fourth-second min and so on.\n",
    "*/"
   ]
  },
  {
   "cell_type": "code",
   "execution_count": 240,
   "metadata": {
    "run_control": {
     "marked": false
    }
   },
   "outputs": [],
   "source": [
    "/*\n",
    "Examples:\n",
    "\n",
    "Input: arr[] = {1, 2, 3, 4, 5, 6, 7}\n",
    "Output: arr[] = {7, 1, 6, 2, 5, 3, 4}\n",
    "\n",
    "Input: arr[] = {1, 2, 3, 4, 5, 6}\n",
    "Output: arr[] = {6, 1, 5, 2, 4, 3}\n",
    "*/"
   ]
  },
  {
   "cell_type": "code",
   "execution_count": 241,
   "metadata": {
    "run_control": {
     "marked": false
    }
   },
   "outputs": [],
   "source": [
    "/*\n",
    "A solution that requires O(n) time and O(1) extra space is discussed. \n",
    "The idea is to use multiplication and modular trick to store two elements at an index.\n",
    "*/"
   ]
  },
  {
   "cell_type": "code",
   "execution_count": 242,
   "metadata": {
    "run_control": {
     "marked": false
    }
   },
   "outputs": [],
   "source": [
    "/*\n",
    "even index : remaining maximum element.\n",
    "odd index  : remaining minimum element.\n",
    " \n",
    "max_index : Index of remaining maximum element\n",
    "            (Moves from right to left)\n",
    "min_index : Index of remaining minimum element\n",
    "            (Moves from left to right)\n",
    "\n",
    "Initialize: max_index = 'n-1'\n",
    "            min_index = 0  \n",
    "            max_element = arr[max_index] + 1 //can be any element which is more than the maximum value in array\n",
    "\n",
    "For i = 0 to n-1            \n",
    "    If 'i' is even\n",
    "       arr[i] += arr[max_index] % max_element * max_element \n",
    "       max_index--     \n",
    "    ELSE // if 'i' is odd\n",
    "       arr[i] +=  arr[min_index] % max_element * max_element\n",
    "       min_index++\n",
    "*/"
   ]
  },
  {
   "cell_type": "code",
   "execution_count": 243,
   "metadata": {
    "code_folding": [
     2
    ],
    "run_control": {
     "marked": false
    }
   },
   "outputs": [],
   "source": [
    "/*\n",
    "How does expression “arr[i] += arr[max_index] % max_element * max_element” work ?\n",
    "The purpose of this expression is to store two elements at index arr[i]. \n",
    "arr[max_index] is stored as multiplier and “arr[i]” is stored as remainder. \n",
    "For example in {1 2 3 4 5 6 7 8 9},\n",
    "max_element is 10 and we store 91 at index 0. With 91, \n",
    "we can get original element as 91%10 and new element as 91/10.\n",
    "*/"
   ]
  },
  {
   "cell_type": "code",
   "execution_count": 244,
   "metadata": {
    "run_control": {
     "marked": false
    }
   },
   "outputs": [],
   "source": [
    "// Prints max at first position, min at second \n",
    "// position second max at third position, second \n",
    "// min at fourth position and so on. \n",
    "public static void rearrange(int arr[], int n) \n",
    "{ \n",
    "    // initialize index of first minimum and first \n",
    "    // maximum element \n",
    "    int max_idx = n - 1, min_idx = 0; \n",
    "\n",
    "    // store maximum element of array \n",
    "    int max_elem = arr[n - 1] + 1; \n",
    "\n",
    "    // traverse array elements \n",
    "    for (int i = 0; i < n; i++) { \n",
    "        // at even index : we have to put \n",
    "        // maximum element \n",
    "        if (i % 2 == 0) { \n",
    "            arr[i] += (arr[max_idx] % max_elem) * max_elem; \n",
    "            max_idx--; \n",
    "        } \n",
    "\n",
    "        // at odd index : we have to put minimum element \n",
    "        else { \n",
    "            arr[i] += (arr[min_idx] % max_elem) * max_elem; \n",
    "            min_idx++; \n",
    "        } \n",
    "    } \n",
    "\n",
    "    // array elements back to it's original form \n",
    "    for (int i = 0; i < n; i++) \n",
    "        arr[i] = arr[i] / max_elem; \n",
    "} "
   ]
  },
  {
   "cell_type": "code",
   "execution_count": 245,
   "metadata": {
    "code_folding": [],
    "run_control": {
     "marked": false
    }
   },
   "outputs": [
    {
     "ename": "CompilationException",
     "evalue": "",
     "output_type": "error",
     "traceback": [
      "\u001b[1m\u001b[30m|   \u001b[1m\u001b[30m\u001b[0m\u001b[1m\u001b[30m\u001b[41mmain\u001b[0m\u001b[1m\u001b[30m(args)\u001b[0m",
      "\u001b[1m\u001b[31mreference to main is ambiguous\u001b[0m",
      "\u001b[1m\u001b[31m  both method main(java.lang.String[]) in  and method main(java.lang.String[]) in  match\u001b[0m",
      ""
     ]
    }
   ],
   "source": [
    "// Driver code \n",
    "public static void main(String args[]) \n",
    "{ \n",
    "    int arr[] = { 1, 2, 3, 4, 5, 6, 7, 8, 9 }; \n",
    "    int n = arr.length; \n",
    "\n",
    "    System.out.println(\"Original Array\"); \n",
    "    for (int i = 0; i < n; i++) \n",
    "        System.out.print(arr[i] + \" \"); \n",
    "\n",
    "    rearrange(arr, n); \n",
    "\n",
    "    System.out.print(\"\\nModified Array\\n\"); \n",
    "    for (int i = 0; i < n; i++) \n",
    "        System.out.print(arr[i] + \" \"); \n",
    "} \n",
    "main(args)"
   ]
  },
  {
   "cell_type": "markdown",
   "metadata": {},
   "source": [
    "## **45. Arrange given numbers to form the biggest number | Set 1**\n",
    "https://www.geeksforgeeks.org/given-an-array-of-numbers-arrange-the-numbers-to-form-the-biggest-number/"
   ]
  },
  {
   "cell_type": "code",
   "execution_count": 246,
   "metadata": {
    "cell_style": "center",
    "run_control": {
     "marked": false
    }
   },
   "outputs": [],
   "source": [
    "/*\n",
    "Given an array of numbers, \n",
    "arrange them in a way that yields the largest value. \n",
    "For example, \n",
    "if the given numbers are {54, 546, 548, 60}, \n",
    "the arrangement 6054854654 gives the largest value. \n",
    "And if the given numbers are {1, 34, 3, 98, 9, 76, 45, 4}, \n",
    "then the arrangement 998764543431 gives the largest value.\n",
    "*/"
   ]
  },
  {
   "cell_type": "code",
   "execution_count": 247,
   "metadata": {
    "cell_style": "center",
    "run_control": {
     "marked": false
    }
   },
   "outputs": [],
   "source": [
    "/*\n",
    "A simple solution \n",
    "that comes to our mind is to sort all numbers in descending order, \n",
    "but simply sorting doesn’t work. \n",
    "For example, 548 is greater than 60, but in output 60 comes before 548. \n",
    "As a second example, 98 is greater than 9, but 9 comes before 98 in output.\n",
    "*/"
   ]
  },
  {
   "cell_type": "code",
   "execution_count": 248,
   "metadata": {
    "run_control": {
     "marked": false
    }
   },
   "outputs": [],
   "source": [
    "/*\n",
    "In the used sorting algorithm, \n",
    "instead of using the default comparison, write a comparison function myCompare() and use it to sort numbers.\n",
    "\n",
    "Given two numbers X and Y,\n",
    "how should myCompare() decide which number to put first – \n",
    "we compare two numbers XY (Y appended at the end of X) and YX (X appended at the end of Y). \n",
    "If XY is larger, then X should come before Y in output, \n",
    "else Y should come before. \n",
    "\n",
    "For example, \n",
    "let X and Y be 542 and 60. \n",
    "To compare X and Y, we compare 54260 and 60542. \n",
    "Since 60542 is greater than 54260,\n",
    "we put Y first.\n",
    "*/"
   ]
  },
  {
   "cell_type": "code",
   "execution_count": 249,
   "metadata": {
    "run_control": {
     "marked": false
    }
   },
   "outputs": [],
   "source": [
    "// The main function that prints the  \n",
    "// arrangement with the largest value. \n",
    "// The function accepts a vector of strings     \n",
    "static void printLargest(Vector<String> arr){ \n",
    "\n",
    "    Collections.sort(arr, new Comparator<String>(){ \n",
    "        // A comparison function which is used by  \n",
    "        // sort() in printLargest() \n",
    "        @Override\n",
    "        public int compare(String X, String Y) { \n",
    "\n",
    "            // first append Y at the end of X \n",
    "            String XY=X + Y; \n",
    "\n",
    "            // then append X at the end of Y \n",
    "            String YX=Y + X; \n",
    "\n",
    "            // Now see which of the two formed numbers is greater \n",
    "            return XY.compareTo(YX) > 0 ? -1:1; \n",
    "        } \n",
    "    }); \n",
    "\n",
    "    Iterator it = arr.iterator(); \n",
    "\n",
    "    while(it.hasNext()) \n",
    "        System.out.print(it.next()); \n",
    "\n",
    "} "
   ]
  },
  {
   "cell_type": "code",
   "execution_count": 250,
   "metadata": {
    "run_control": {
     "marked": false
    }
   },
   "outputs": [
    {
     "ename": "CompilationException",
     "evalue": "",
     "output_type": "error",
     "traceback": [
      "\u001b[1m\u001b[30m|   \u001b[1m\u001b[30m\u001b[0m\u001b[1m\u001b[30m\u001b[41mmain\u001b[0m\u001b[1m\u001b[30m(args)\u001b[0m",
      "\u001b[1m\u001b[31mreference to main is ambiguous\u001b[0m",
      "\u001b[1m\u001b[31m  both method main(java.lang.String[]) in  and method main(java.lang.String[]) in  match\u001b[0m",
      ""
     ]
    }
   ],
   "source": [
    "// driver program \n",
    "public static void main (String[] args) { \n",
    "\n",
    "    Vector<String> arr; \n",
    "    arr = new Vector<>(); \n",
    "\n",
    "    //output should be 6054854654 \n",
    "    arr.add(\"54\"); \n",
    "    arr.add(\"546\"); \n",
    "    arr.add(\"548\"); \n",
    "    arr.add(\"60\"); \n",
    "    printLargest(arr); \n",
    "} \n",
    "main(args)"
   ]
  },
  {
   "cell_type": "markdown",
   "metadata": {},
   "source": [
    "## **46. Space optimization using bit manipulations**\n",
    "https://www.geeksforgeeks.org/space-optimization-using-bit-manipulations/"
   ]
  },
  {
   "cell_type": "code",
   "execution_count": 251,
   "metadata": {},
   "outputs": [],
   "source": [
    "/*\n",
    "There are many situations where we use integer values as index in array to see presence or absence, \n",
    "we can use bit manipulations to optimize space in such problems.\n",
    "\n",
    "Let us consider below problem as an example.\n",
    "\n",
    "Given two numbers say a and b, \n",
    "mark the multiples of 2 and 5 between a and b using less than O(|b – a|) space and output each of the multiples.\n",
    "\n",
    "Note : \n",
    "    We have to mark the multiples \n",
    "    i.e save (key, value) pairs in memory such that each key either have value as 1 or 0 representing as multiple of 2 or 5 or not respectively.\n",
    "*/"
   ]
  },
  {
   "cell_type": "code",
   "execution_count": 252,
   "metadata": {},
   "outputs": [],
   "source": [
    "/*\n",
    "Examples :\n",
    "\n",
    "Input : 2 10\n",
    "Output : 2 4 5 6 8 10\n",
    "\n",
    "Input: 60 95\n",
    "Output: 60 62 64 65 66 68 70 72 74 75 76 78 \n",
    "        80 82 84 85 86 88 90 92 94 95\n",
    "*/"
   ]
  },
  {
   "cell_type": "code",
   "execution_count": 253,
   "metadata": {},
   "outputs": [],
   "source": [
    "/*\n",
    "Approach 1 (Simple):\n",
    "Hash the indices in an array from a to b and mark each of the indices as 1 or 0.\n",
    "Space complexity : O(max(a, b))\n",
    "*/"
   ]
  },
  {
   "cell_type": "markdown",
   "metadata": {},
   "source": [
    "<img src = \"https://media.geeksforgeeks.org/wp-content/uploads/Array1.png\"/>"
   ]
  },
  {
   "cell_type": "code",
   "execution_count": 254,
   "metadata": {},
   "outputs": [],
   "source": [
    "/*\n",
    "Approach 2 (Better than simple):\n",
    "Save memory, by translating a to 0th index and b to (b-a)th index.\n",
    "Space complexity : O(|b-a|).\n",
    "\n",
    "Simply hash |b – a| positions of an array as 0 and 1.\n",
    "*/"
   ]
  },
  {
   "cell_type": "markdown",
   "metadata": {},
   "source": [
    "<img src =\"https://media.geeksforgeeks.org/wp-content/uploads/Array_updated.png\"/>"
   ]
  },
  {
   "cell_type": "code",
   "execution_count": 255,
   "metadata": {},
   "outputs": [
    {
     "ename": "CompilationException",
     "evalue": "",
     "output_type": "error",
     "traceback": [
      "\u001b[1m\u001b[30m|   \u001b[1m\u001b[30m\u001b[0m\u001b[1m\u001b[30m\u001b[41mmain\u001b[0m\u001b[1m\u001b[30m(args)\u001b[0m",
      "\u001b[1m\u001b[31mreference to main is ambiguous\u001b[0m",
      "\u001b[1m\u001b[31m  both method main(java.lang.String[]) in  and method main(java.lang.String[]) in  match\u001b[0m",
      ""
     ]
    }
   ],
   "source": [
    "// Driver code \n",
    "public static void main(String[] args) \n",
    "{ \n",
    "    int a = 2, b = 10; \n",
    "    int size = Math.abs(b - a) + 1; \n",
    "    int array[] = new int[size]; \n",
    "\n",
    "    // Iterate through a to b, If  \n",
    "    // it is a multiple of 2 or 5  \n",
    "    // Mark index in array as 1 \n",
    "    for (int i = a; i <= b; i++) \n",
    "        if (i % 2 == 0 || i % 5 == 0) \n",
    "            array[i - a] = 1; \n",
    "\n",
    "    System.out.println(\"MULTIPLES of 2\"\n",
    "                          + \" and 5:\"); \n",
    "    for (int i = a; i <= b; i++) \n",
    "        if (array[i - a] == 1) \n",
    "            System.out.printf(i + \" \"); \n",
    "} \n",
    "main(args)"
   ]
  },
  {
   "cell_type": "code",
   "execution_count": 256,
   "metadata": {},
   "outputs": [],
   "source": [
    "/*\n",
    "Approach 3 (Using Bit Manipulations):\n",
    "\n",
    "Here is a space optimized which uses bit manipulation technique \n",
    "that can be applied to problems mapping binary values in arrays.\n",
    "Size of int variable in 64-bit compiler is 4 bytes. \n",
    "1 byte is represented by 8 bit positions in memory. \n",
    "So, an integer in memory is represented by 32 bit positions(4 Bytes) \n",
    "these 32 bit positions can be used instead of just one index to hash binary values.\n",
    "*/"
   ]
  },
  {
   "cell_type": "markdown",
   "metadata": {},
   "source": [
    "<img src = \"https://media.geeksforgeeks.org/wp-content/uploads/Array_32bit.png\"/>"
   ]
  },
  {
   "cell_type": "code",
   "execution_count": 257,
   "metadata": {},
   "outputs": [],
   "source": [
    "// index >> 5 corresponds to dividing index by 32  \n",
    "// index & 31 corresponds to modulo operation of  \n",
    "// index by 32  \n",
    "\n",
    "// Function to check value of bit position whether  \n",
    "// it is zero or one  \n",
    "static boolean checkbit(int array[], int index)  \n",
    "{  \n",
    "        int val = array[index >> 5] & (1 << (index & 31)); \n",
    "        if (val == 0) \n",
    "            return false; \n",
    "        return true;  \n",
    "}  \n",
    "\n",
    "// Sets value of bit for corresponding index  \n",
    "static void setbit(int array[], int index)  \n",
    "{  \n",
    "        array[index >> 5] |= (1 << (index & 31));  \n",
    "} "
   ]
  },
  {
   "cell_type": "code",
   "execution_count": 258,
   "metadata": {},
   "outputs": [
    {
     "ename": "CompilationException",
     "evalue": "",
     "output_type": "error",
     "traceback": [
      "\u001b[1m\u001b[30m|   \u001b[1m\u001b[30m\u001b[0m\u001b[1m\u001b[30m\u001b[41mmain\u001b[0m\u001b[1m\u001b[30m(args)\u001b[0m",
      "\u001b[1m\u001b[31mreference to main is ambiguous\u001b[0m",
      "\u001b[1m\u001b[31m  both method main(java.lang.String[]) in  and method main(java.lang.String[]) in  match\u001b[0m",
      ""
     ]
    }
   ],
   "source": [
    "// Driver code \n",
    "public static void main(String args[]) \n",
    "{ \n",
    "    int a = 2, b = 10;  \n",
    "    int size = Math.abs(b-a); \n",
    "\n",
    "    // Size that will be used is actual_size/32  \n",
    "    // ceil is used to initialize the array with  \n",
    "    // positive number \n",
    "    size = (int)Math.ceil((double)size / 32); \n",
    "\n",
    "    // Array is dynamically initialized as  \n",
    "    // we are calculating size at run time  \n",
    "    int[] array = new int[size]; \n",
    "\n",
    "    // Iterate through every index from a to b and  \n",
    "    // call setbit() if it is a multiple of 2 or 5  \n",
    "    for (int i = a; i <= b; i++)  \n",
    "        if (i % 2 == 0 || i % 5 == 0)  \n",
    "            setbit(array, i - a); \n",
    "\n",
    "    System.out.println(\"MULTIPLES of 2 and 5:\"); \n",
    "    for (int i = a; i <= b; i++)  \n",
    "        if (checkbit(array, i - a))  \n",
    "            System.out.print(i + \" \");  \n",
    "} \n",
    "main(args)"
   ]
  },
  {
   "cell_type": "markdown",
   "metadata": {},
   "source": [
    "## **47. MO’s Algorithm (Query Square Root Decomposition) | Set 1 (Introduction)**\n",
    "https://www.geeksforgeeks.org/mos-algorithm-query-square-root-decomposition-set-1-introduction/"
   ]
  },
  {
   "cell_type": "code",
   "execution_count": 259,
   "metadata": {},
   "outputs": [],
   "source": [
    "/*\n",
    "Let us consider the following problem to understand MO’s Algorithm.\n",
    "\n",
    "We are given an array and a set of query ranges, we are required to find the sum of every query range.\n",
    "*/"
   ]
  },
  {
   "cell_type": "code",
   "execution_count": 260,
   "metadata": {},
   "outputs": [],
   "source": [
    "/*\n",
    "Example:\n",
    "\n",
    "Input:  arr[]   = {1, 1, 2, 1, 3, 4, 5, 2, 8};\n",
    "        query[] = [0, 4], [1, 3] [2, 4]\n",
    "Output: Sum of arr[] elements in range [0, 4] is 8\n",
    "        Sum of arr[] elements in range [1, 3] is 4  \n",
    "        Sum of arr[] elements in range [2, 4] is 6\n",
    "*/"
   ]
  },
  {
   "cell_type": "code",
   "execution_count": 261,
   "metadata": {},
   "outputs": [],
   "source": [
    "/*\n",
    "A Naive Solution is to run a loop from L to R and calculate the sum of elements in given range for every query [L, R].\n",
    "The time complexity of above solution is O(mn).\n",
    "*/"
   ]
  },
  {
   "cell_type": "markdown",
   "metadata": {},
   "source": [
    "**https://ideone.com/xelssq**"
   ]
  },
  {
   "cell_type": "code",
   "execution_count": 262,
   "metadata": {},
   "outputs": [],
   "source": [
    "/*\n",
    "The idea of MO’s algorithm is to pre-process all queries so that result of one query can be used in next query. \n",
    "Below are steps.\n",
    "Let a[0…n-1] be input array and q[0..m-1] be array of queries.\n",
    "\n",
    "1. Sort all queries in a way that queries with L values from 0 to √n – 1 are put together, \n",
    "    then all queries from √n to 2*√n – 1, and so on. \n",
    "    All queries within a block are sorted in increasing order of R values.\n",
    "2. Process all queries one by one in a way that every query uses sum computed in the previous query.\n",
    "    i.   Let ‘sum’ be sum of previous query.\n",
    "    ii.  Remove extra elements of previous query. \n",
    "         For example if previous query is [0, 8] and current query is [3, 9], \n",
    "         then we subtract a[0],a[1] and a[2] from sum\n",
    "    iii. Add new elements of current query. In the same example as above, we add a[9] to sum.\n",
    "*/"
   ]
  },
  {
   "cell_type": "code",
   "execution_count": 263,
   "metadata": {},
   "outputs": [],
   "source": [
    "/*\n",
    "The great thing about this algorithm is, \n",
    "in step 2, \n",
    "index variable for R change at most O(n * √n) times throughout the run \n",
    "and same for L changes its value at most O(m * √n) times \n",
    "(See below, after the code, for details). \n",
    "All these bounds are possible only because the queries are sorted first in blocks of √n size.\n",
    "\n",
    "The preprocessing part takes O(m Log m) time.\n",
    "Processing all queries takes O(n * √n) + O(m * √n) = O((m+n) * √n) time.\n",
    "*/"
   ]
  },
  {
   "cell_type": "markdown",
   "metadata": {},
   "source": [
    "**https://ideone.com/vpW9Yr**"
   ]
  },
  {
   "cell_type": "code",
   "execution_count": 264,
   "metadata": {},
   "outputs": [],
   "source": [
    "/*\n",
    "Important Observations:\n",
    "\n",
    "1. All queries are known beforehead so that they can be preprocessed\n",
    "2. It cannot work for problems where we have update operations also mixed with sum queries.\n",
    "3. MO’s algorithm can only be used for query problems where a query can be computed from results of the previous query. \n",
    "   One more such example is maximum or minimum.\n",
    "*/"
   ]
  },
  {
   "cell_type": "code",
   "execution_count": 265,
   "metadata": {},
   "outputs": [],
   "source": [
    "/*\n",
    "How much currR is moved? \n",
    "    For each block, queries are sorted in increasing order of R. \n",
    "    So, for a block, currR moves in increasing order. \n",
    "    In worst case, before beginning of every block, currR at extreme right and current block moves it back the extreme left. \n",
    "    This means that for every block, currR moves at most O(n). \n",
    "    Since there are O(√n) blocks, total movement of currR is O(n * √n).\n",
    "    \n",
    "How much currL is moved? \n",
    "    Since all queries are sorted in a way that L values are grouped by blocks, \n",
    "    movement is O(√n) when we move from one query to another quert. \n",
    "    For m queries, total movement of currL is O(m * √n)\n",
    "*/"
   ]
  },
  {
   "cell_type": "markdown",
   "metadata": {},
   "source": [
    "***http://blog.anudeep2011.com/mos-algorithm/***"
   ]
  },
  {
   "cell_type": "code",
   "execution_count": null,
   "metadata": {},
   "outputs": [],
   "source": []
  }
 ],
 "metadata": {
  "kernelspec": {
   "display_name": "Java",
   "language": "java",
   "name": "java"
  },
  "language_info": {
   "codemirror_mode": "java",
   "file_extension": ".jshell",
   "mimetype": "text/x-java-source",
   "name": "Java",
   "pygments_lexer": "java",
   "version": "11.0.6+8-LTS"
  },
  "toc": {
   "base_numbering": 1,
   "nav_menu": {},
   "number_sections": true,
   "sideBar": true,
   "skip_h1_title": true,
   "title_cell": "Table of Contents",
   "title_sidebar": "Contents",
   "toc_cell": false,
   "toc_position": {},
   "toc_section_display": true,
   "toc_window_display": true
  }
 },
 "nbformat": 4,
 "nbformat_minor": 2
}
