{
 "cells": [
  {
   "cell_type": "markdown",
   "metadata": {},
   "source": [
    "# --------------------------------GREEDY TOPIC-------------------------------\n",
    "**==============================================================================**\n",
    "# Assembled By - Praveen Kumar Sharma\n",
    "# Source - GeeksForGeeks\n",
    "**==============================================================================**"
   ]
  },
  {
   "cell_type": "code",
   "execution_count": 1,
   "metadata": {},
   "outputs": [],
   "source": [
    "import java.util.*;\n",
    "import java.io.*;\n",
    "import java.util.Arrays;\n",
    "String[] args =new String[0];"
   ]
  },
  {
   "cell_type": "markdown",
   "metadata": {},
   "source": [
    "## **170. Activity Selection Problem | Greedy Algo-1**\n",
    "https://www.geeksforgeeks.org/activity-selection-problem-greedy-algo-1/"
   ]
  },
  {
   "cell_type": "code",
   "execution_count": 2,
   "metadata": {},
   "outputs": [],
   "source": [
    "/*\n",
    "Greedy is an algorithmic paradigm that builds up a solution piece by piece, \n",
    "always choosing the next piece that offers the most obvious and immediate benefit. \n",
    "Greedy algorithms are used for optimization problems. \n",
    "\n",
    "An optimization problem can be solved using Greedy if the problem has the following property: \n",
    "    At every step, we can make a choice that looks best at the moment, \n",
    "    and we get the optimal solution of the complete problem.\n",
    "\n",
    "If a Greedy Algorithm can solve a problem, \n",
    "    then it generally becomes the best method to solve that problem \n",
    "    as the Greedy algorithms are in general more efficient than other techniques like Dynamic Programming. \n",
    "    But Greedy algorithms cannot always be applied. \n",
    "    \n",
    "    For example, Fractional Knapsack problem can be solved using Greedy, \n",
    "    but 0-1 Knapsack cannot be solved using Greedy.\n",
    "*/"
   ]
  },
  {
   "cell_type": "code",
   "execution_count": 3,
   "metadata": {},
   "outputs": [],
   "source": [
    "/*\n",
    "Following are some standard algorithms that are Greedy algorithms.\n",
    "1) Kruskal’s Minimum Spanning Tree (MST): \n",
    "    In Kruskal’s algorithm, \n",
    "        we create a MST by picking edges one by one. \n",
    "        The Greedy Choice is to pick the smallest weight edge that doesn’t cause a cycle in the MST constructed so far.\n",
    "\n",
    "2) Prim’s Minimum Spanning Tree: \n",
    "    In Prim’s algorithm also, \n",
    "        we create a MST by picking edges one by one. \n",
    "        We maintain two sets: \n",
    "            a set of the vertices already included in MST \n",
    "            and the set of the vertices not yet included. \n",
    "        The Greedy Choice is to pick the smallest weight edge that connects the two sets.\n",
    "\n",
    "3) Dijkstra’s Shortest Path: \n",
    "    The Dijkstra’s algorithm \n",
    "        is very similar to Prim’s algorithm. \n",
    "        The shortest path tree is built up, edge by edge. \n",
    "        We maintain two sets: \n",
    "            a set of the vertices already included in the tree \n",
    "            and the set of the vertices not yet included. \n",
    "        The Greedy Choice is to pick the edge that connects the two sets \n",
    "        and is on the smallest weight path from source to the set that contains not yet included vertices.\n",
    "\n",
    "4) Huffman Coding: \n",
    "    Huffman Coding \n",
    "        is a loss-less compression technique. \n",
    "        It assigns variable-length bit codes to different characters. \n",
    "        The Greedy Choice is to assign least bit length code to the most frequent character.\n",
    "*/"
   ]
  },
  {
   "cell_type": "code",
   "execution_count": 4,
   "metadata": {},
   "outputs": [],
   "source": [
    "/*\n",
    "Let us consider the Activity Selection problem as our first example of Greedy algorithms. \n",
    "Following is the problem statement.\n",
    "    You are given n activities with their start and finish times. \n",
    "    Select the maximum number of activities that can be performed by a single person, \n",
    "    assuming that a person can only work on a single activity at a time.\n",
    "*/"
   ]
  },
  {
   "cell_type": "code",
   "execution_count": 5,
   "metadata": {},
   "outputs": [],
   "source": [
    "/*\n",
    "Example:\n",
    "\n",
    "Example 1 : Consider the following 3 activities sorted by\n",
    "by finish time.\n",
    "     start[]  =  {10, 12, 20};\n",
    "     finish[] =  {20, 25, 30};\n",
    "A person can perform at most two activities. The \n",
    "maximum set of activities that can be executed \n",
    "is {0, 2} [ These are indexes in start[] and \n",
    "finish[] ]\n",
    "\n",
    "Example 2 : Consider the following 6 activities \n",
    "sorted by by finish time.\n",
    "     start[]  =  {1, 3, 0, 5, 8, 5};\n",
    "     finish[] =  {2, 4, 6, 7, 9, 9};\n",
    "A person can perform at most four activities. The \n",
    "maximum set of activities that can be executed \n",
    "is {0, 1, 3, 4} [ These are indexes in start[] and \n",
    "finish[] ]\n",
    "*/"
   ]
  },
  {
   "cell_type": "code",
   "execution_count": 6,
   "metadata": {},
   "outputs": [],
   "source": [
    "/*\n",
    "The greedy choice is to always pick the next activity whose finish time is least among the remaining activities \n",
    "and the start time is more than or equal to the finish time of previously selected activity. \n",
    "We can sort the activities according to their finishing time so that we always consider the next activity as minimum finishing time activity.\n",
    "\n",
    "1) Sort the activities according to their finishing time\n",
    "2) Select the first activity from the sorted array and print it.\n",
    "3) Do following for remaining activities in the sorted array.\n",
    "    a) If the start time of this activity is greater than or equal to the finish time of previously selected activity \n",
    "            then select this activity and print it.\n",
    "*/"
   ]
  },
  {
   "cell_type": "code",
   "execution_count": 7,
   "metadata": {},
   "outputs": [],
   "source": [
    "// Prints a maximum set of activities that can be done by a single \n",
    "// person, one at a time. \n",
    "//  n   -->  Total number of activities \n",
    "//  s[] -->  An array that contains start time of all activities \n",
    "//  f[] -->  An array that contains finish time of all activities \n",
    "public static void printMaxActivities(int s[], int f[], int n) \n",
    "{ \n",
    "    int i, j; \n",
    "       \n",
    "    System.out.print(\"Following activities are selected : n \"); \n",
    "       \n",
    "    // The first activity always gets selected \n",
    "    i = 0; \n",
    "    System.out.print(i+\" \"); \n",
    "       \n",
    "    // Consider rest of the activities \n",
    "    for (j = 1; j < n; j++) \n",
    "    { \n",
    "         // If this activity has start time greater than or \n",
    "         // equal to the finish time of previously selected \n",
    "         // activity, then select it \n",
    "         if (s[j] >= f[i]) \n",
    "         { \n",
    "              System.out.print(j+\" \"); \n",
    "              i = j; \n",
    "          } \n",
    "     } \n",
    "} "
   ]
  },
  {
   "cell_type": "code",
   "execution_count": 8,
   "metadata": {},
   "outputs": [
    {
     "name": "stdout",
     "output_type": "stream",
     "text": [
      "Following activities are selected : n 0 1 3 4 "
     ]
    }
   ],
   "source": [
    "// driver program to test above function \n",
    "public static void main(String[] args) \n",
    "{ \n",
    "    int s[] =  {1, 3, 0, 5, 8, 5}; \n",
    "    int f[] =  {2, 4, 6, 7, 9, 9}; \n",
    "    int n = s.length; \n",
    "         \n",
    "    printMaxActivities(s, f, n); \n",
    "}\n",
    "main(args);"
   ]
  },
  {
   "cell_type": "markdown",
   "metadata": {},
   "source": [
    "<img src = \"https://media.geeksforgeeks.org/wp-content/cdn-uploads/20190710130947/ActivitySelectionProblem-1024x916.png\"/>"
   ]
  },
  {
   "cell_type": "markdown",
   "metadata": {},
   "source": [
    "**Introduction :** ***https://youtu.be/HzeK7g8cD0Y***"
   ]
  },
  {
   "cell_type": "markdown",
   "metadata": {},
   "source": [
    "**Algorithm :** ***https://youtu.be/poWB2UCuozA***"
   ]
  },
  {
   "cell_type": "markdown",
   "metadata": {},
   "source": [
    "## **171. Job Sequencing Problem**\n",
    "https://www.geeksforgeeks.org/job-sequencing-problem/"
   ]
  },
  {
   "cell_type": "code",
   "execution_count": 9,
   "metadata": {},
   "outputs": [],
   "source": [
    "/*\n",
    "Given an array of jobs where every job has a deadline and associated profit if the job is finished before the deadline. \n",
    "It is also given that every job takes single unit of time, \n",
    "so the minimum possible deadline for any job is 1. \n",
    "\n",
    "How to maximize total profit if only one job can be scheduled at a time.\n",
    "*/"
   ]
  },
  {
   "cell_type": "code",
   "execution_count": 10,
   "metadata": {},
   "outputs": [],
   "source": [
    "/*\n",
    "Examples:\n",
    "\n",
    "Input: Four Jobs with following \n",
    "deadlines and profits\n",
    "JobID  Deadline  Profit\n",
    "  a      4        20   \n",
    "  b      1        10\n",
    "  c      1        40  \n",
    "  d      1        30\n",
    "Output: Following is maximum \n",
    "profit sequence of jobs\n",
    "        c, a   \n",
    "\n",
    "\n",
    "Input:  Five Jobs with following\n",
    "deadlines and profits\n",
    "JobID   Deadline  Profit\n",
    "  a       2        100\n",
    "  b       1        19\n",
    "  c       2        27\n",
    "  d       1        25\n",
    "  e       3        15\n",
    "Output: Following is maximum \n",
    "profit sequence of jobs\n",
    "        c, a, e\n",
    "*/"
   ]
  },
  {
   "cell_type": "code",
   "execution_count": 11,
   "metadata": {},
   "outputs": [],
   "source": [
    "/*\n",
    "A Simple Solution \n",
    "    is to generate all subsets of given set of jobs and check individual subset for feasibility of jobs in that subset. \n",
    "    Keep track of maximum profit among all feasible subsets. \n",
    "    The time complexity of this solution is exponential.\n",
    "*/"
   ]
  },
  {
   "cell_type": "code",
   "execution_count": 12,
   "metadata": {},
   "outputs": [],
   "source": [
    "/*\n",
    "This is a standard Greedy Algorithm problem. Following is algorithm.\n",
    "\n",
    "1) Sort all jobs in decreasing order of profit.\n",
    "2) Initialize the result sequence as first job in sorted jobs.\n",
    "3) Do following for remaining n-1 jobs\n",
    "    a) If the current job can fit in the current result sequence without missing the deadline, \n",
    "           add current job to the result. \n",
    "       Else \n",
    "           ignore the current job.\n",
    "*/"
   ]
  },
  {
   "cell_type": "markdown",
   "metadata": {},
   "source": [
    "***https://ideone.com/pNSBqY***"
   ]
  },
  {
   "cell_type": "code",
   "execution_count": 13,
   "metadata": {},
   "outputs": [],
   "source": [
    "/*\n",
    "Time Complexity of the above solution is O(n2). \n",
    "It can be optimized using Disjoint Set Data Structure.\n",
    "*/"
   ]
  },
  {
   "cell_type": "markdown",
   "metadata": {},
   "source": [
    "***https://www.geeksforgeeks.org/job-sequencing-using-disjoint-set-union/***"
   ]
  },
  {
   "cell_type": "markdown",
   "metadata": {},
   "source": [
    "***https://youtu.be/R6Skj4bT1HE***"
   ]
  },
  {
   "cell_type": "markdown",
   "metadata": {},
   "source": [
    "## **172. Greedy Algorithm for Egyptian Fraction**\n",
    "https://www.geeksforgeeks.org/greedy-algorithm-egyptian-fraction/"
   ]
  },
  {
   "cell_type": "code",
   "execution_count": 14,
   "metadata": {},
   "outputs": [],
   "source": [
    "/*\n",
    "Every positive fraction can be represented as sum of unique unit fractions. \n",
    "A fraction is unit fraction if numerator is 1 and denominator is a positive integer, \n",
    "    for example 1/3 is a unit fraction. \n",
    "Such a representation is called Egyptian Fraction as it was used by ancient Egyptians.\n",
    "*/"
   ]
  },
  {
   "cell_type": "code",
   "execution_count": 15,
   "metadata": {},
   "outputs": [],
   "source": [
    "/*\n",
    "Following are few examples:\n",
    "\n",
    "Egyptian Fraction Representation of 2/3 is 1/2 + 1/6\n",
    "Egyptian Fraction Representation of 6/14 is 1/3 + 1/11 + 1/231\n",
    "Egyptian Fraction Representation of 12/13 is 1/2 + 1/3 + 1/12 + 1/156\n",
    "*/"
   ]
  },
  {
   "cell_type": "code",
   "execution_count": 16,
   "metadata": {},
   "outputs": [],
   "source": [
    "/*\n",
    "For a given number of the form ‘nr/dr’ where dr > nr, \n",
    "first find the greatest possible unit fraction, \n",
    "    then recur for the remaining part. \n",
    "For example, \n",
    "    consider 6/14, we first find ceiling of 14/6, \n",
    "        i.e., 3. \n",
    "    So the first unit fraction becomes 1/3, \n",
    "        then recur for (6/14 – 1/3) i.e., 4/42.\n",
    "*/"
   ]
  },
  {
   "cell_type": "code",
   "execution_count": 17,
   "metadata": {},
   "outputs": [],
   "source": [
    "static void printEgyptian(int nr, int dr) { \n",
    "    // If either numerator or  \n",
    "    // denominator is 0  \n",
    "    if (dr == 0 || nr == 0) { \n",
    "        return; \n",
    "    } \n",
    "\n",
    "    // If numerator divides denominator,  \n",
    "    // then simple division makes  \n",
    "    // the fraction in 1/n form  \n",
    "    if (dr % nr == 0) { \n",
    "        System.out.print(\"1/\" + dr / nr); \n",
    "        return; \n",
    "    } \n",
    "\n",
    "    // If denominator divides numerator,  \n",
    "    // then the given number is not fraction  \n",
    "    if (nr % dr == 0) { \n",
    "        System.out.print(nr / dr); \n",
    "        return; \n",
    "    } \n",
    "\n",
    "    // If numerator is more than denominator  \n",
    "    if (nr > dr) { \n",
    "        System.out.print(nr / dr + \" + \"); \n",
    "        printEgyptian(nr % dr, dr); \n",
    "        return; \n",
    "    } \n",
    "\n",
    "    // We reach here dr > nr and dr%nr  \n",
    "    // is non-zero. Find ceiling of  \n",
    "    // dr/nr and print it as first  \n",
    "    // fraction  \n",
    "    int n = dr / nr + 1; \n",
    "    System.out.print(\"1/\" + n + \" + \"); \n",
    "\n",
    "    // Recur for remaining part  \n",
    "    printEgyptian(nr * n - dr, dr * n); \n",
    "} "
   ]
  },
  {
   "cell_type": "code",
   "execution_count": 18,
   "metadata": {},
   "outputs": [
    {
     "name": "stdout",
     "output_type": "stream",
     "text": [
      "Egyptian Fraction Representation of 6/14 is\n",
      " 1/3 + 1/11 + 1/231"
     ]
    }
   ],
   "source": [
    "// Driver Code  \n",
    "public static void main(String[] args) { \n",
    "    int nr = 6, dr = 14; \n",
    "    System.out.print(\"Egyptian Fraction Representation of \"\n",
    "            + nr + \"/\" + dr + \" is\\n \"); \n",
    "    printEgyptian(nr, dr); \n",
    "} \n",
    "main(args);"
   ]
  },
  {
   "cell_type": "code",
   "execution_count": 19,
   "metadata": {},
   "outputs": [],
   "source": [
    "/*\n",
    "The Greedy algorithm works because a fraction is always reduced to a form \n",
    "where denominator is greater than numerator and numerator doesn’t divide denominator. \n",
    "For such reduced forms, \n",
    "    the highlighted recursive call is made for reduced numerator. \n",
    "So the recursive calls keep on reducing the numerator till it reaches 1.\n",
    "*/"
   ]
  },
  {
   "cell_type": "markdown",
   "metadata": {},
   "source": [
    "## **173. Fractional Knapsack Problem**\n",
    "https://www.geeksforgeeks.org/fractional-knapsack-problem/"
   ]
  },
  {
   "cell_type": "code",
   "execution_count": 20,
   "metadata": {},
   "outputs": [],
   "source": [
    "/*\n",
    "Given weights and values of n items, \n",
    "we need to put these items in a knapsack of capacity W to get the maximum total value in the knapsack.\n",
    "*/"
   ]
  },
  {
   "cell_type": "code",
   "execution_count": 21,
   "metadata": {},
   "outputs": [],
   "source": [
    "/*\n",
    "In the 0-1 Knapsack problem, we are not allowed to break items. We either take the whole item or don’t take it.\n",
    "\n",
    "Input:\n",
    "  Items as (value, weight) pairs\n",
    "  arr[] = {{60, 10}, {100, 20}, {120, 30}}\n",
    "  Knapsack Capacity, W = 50;\n",
    "Output:\n",
    "  Maximum possible value = 220\n",
    "  by taking items of weight 20 and 30 kg \n",
    "*/"
   ]
  },
  {
   "cell_type": "code",
   "execution_count": 22,
   "metadata": {},
   "outputs": [],
   "source": [
    "/*\n",
    "In Fractional Knapsack, \n",
    "    we can break items for maximizing the total value of knapsack. \n",
    "    This problem in which we can break an item is also called the fractional knapsack problem.\n",
    "\n",
    "Input : \n",
    "   Same as above\n",
    "Output :\n",
    "   Maximum possible value = 240\n",
    "   By taking full items of 10 kg, 20 kg and \n",
    "   2/3rd of last item of 30 kg\n",
    "*/"
   ]
  },
  {
   "cell_type": "code",
   "execution_count": 23,
   "metadata": {},
   "outputs": [],
   "source": [
    "/*\n",
    "A brute-force solution \n",
    "    would be to try all possible subset with all different fraction but that will be too much time taking.\n",
    "*/"
   ]
  },
  {
   "cell_type": "code",
   "execution_count": 24,
   "metadata": {},
   "outputs": [],
   "source": [
    "/*\n",
    "An efficient solution \n",
    "    is to use Greedy approach. \n",
    "    The basic idea of the greedy approach is to calculate the ratio value/weight for each item and sort the item on basis of this ratio.\n",
    "    Then take the item with the highest ratio and add them until we can’t add the next item as a whole \n",
    "    and at the end add the next item as much as we can. \n",
    "    Which will always be the optimal solution to this problem.\n",
    "    \n",
    "As main time taking step is sorting, the whole problem can be solved in O(n log n) only.\n",
    "*/"
   ]
  },
  {
   "cell_type": "code",
   "execution_count": 25,
   "metadata": {},
   "outputs": [],
   "source": [
    "// item value class \n",
    "static class ItemValue  \n",
    "{ \n",
    "    Double cost; \n",
    "    double wt, val, ind; \n",
    "\n",
    "    // item value function \n",
    "    public ItemValue(int wt, int val, int ind) \n",
    "    { \n",
    "        this.wt = wt; \n",
    "        this.val = val; \n",
    "        this.ind = ind; \n",
    "        cost = new Double(val/wt ); \n",
    "    } \n",
    "} "
   ]
  },
  {
   "cell_type": "code",
   "execution_count": 26,
   "metadata": {},
   "outputs": [],
   "source": [
    "// function to get maximum value \n",
    "private static double getMaxValue(int[] wt, \n",
    "                    int[] val, int capacity) \n",
    "{ \n",
    "    ItemValue[] iVal = new ItemValue[wt.length]; \n",
    "\n",
    "    for(int i = 0; i < wt.length; i++) \n",
    "    { \n",
    "        iVal[i] = new ItemValue(wt[i], val[i], i); \n",
    "    } \n",
    "\n",
    "    //sorting items by value; \n",
    "    Arrays.sort(iVal, new Comparator<ItemValue>()  \n",
    "    { \n",
    "        @Override\n",
    "        public int compare(ItemValue o1, ItemValue o2)  \n",
    "        { \n",
    "            return o2.cost.compareTo(o1.cost) ; \n",
    "        } \n",
    "    }); \n",
    "\n",
    "\n",
    "    double totalValue = 0d; \n",
    "\n",
    "    for(ItemValue i: iVal) \n",
    "    { \n",
    "\n",
    "        int curWt = (int) i.wt; \n",
    "        int curVal = (int) i.val; \n",
    "\n",
    "        if (capacity - curWt >= 0) \n",
    "        { \n",
    "            // this weight can be picked while \n",
    "            capacity = capacity-curWt; \n",
    "            totalValue += curVal; \n",
    "\n",
    "        } \n",
    "        else\n",
    "        { \n",
    "            // item cant be picked whole \n",
    "            double fraction = ((double)capacity/(double)curWt); \n",
    "            totalValue += (curVal*fraction); \n",
    "            capacity = (int)(capacity - (curWt*fraction)); \n",
    "            break; \n",
    "        } \n",
    "\n",
    "\n",
    "    } \n",
    "\n",
    "    return totalValue; \n",
    "} "
   ]
  },
  {
   "cell_type": "code",
   "execution_count": 27,
   "metadata": {},
   "outputs": [
    {
     "name": "stdout",
     "output_type": "stream",
     "text": [
      "Maximum value we can obtain = 240.0\n"
     ]
    }
   ],
   "source": [
    "// Time complexity O(n log n) \n",
    "public static void main(String[] args) \n",
    "{ \n",
    "    int[] wt = {10, 40, 20, 30}; \n",
    "    int[] val = {60, 40, 100, 120}; \n",
    "    int capacity = 50; \n",
    "\n",
    "    double maxValue = getMaxValue(wt, val, capacity); \n",
    "    System.out.println(\"Maximum value we can obtain = \" +  \n",
    "                        maxValue); \n",
    "\n",
    "} \n",
    "main(args);"
   ]
  },
  {
   "cell_type": "markdown",
   "metadata": {},
   "source": [
    "***https://youtu.be/m1p-eWxrt6g***"
   ]
  },
  {
   "cell_type": "markdown",
   "metadata": {},
   "source": [
    "## **174. Greedy Algorithm to find Minimum number of Coins**\n",
    "https://www.geeksforgeeks.org/greedy-algorithm-to-find-minimum-number-of-coins/"
   ]
  },
  {
   "cell_type": "code",
   "execution_count": 28,
   "metadata": {},
   "outputs": [],
   "source": [
    "/*\n",
    "Given a value V, if we want to make change for V Rs, \n",
    "and we have infinite supply of each of the denominations in Indian currency, \n",
    "    i.e., we have infinite supply of { 1, 2, 5, 10, 20, 50, 100, 500, 1000} valued coins/notes, \n",
    "what is the minimum number of coins and/or notes needed to make the change?\n",
    "*/"
   ]
  },
  {
   "cell_type": "code",
   "execution_count": 29,
   "metadata": {},
   "outputs": [],
   "source": [
    "/*\n",
    "Examples:\n",
    "\n",
    "Input: V = 70\n",
    "Output: 2\n",
    "We need a 50 Rs note and a 20 Rs note.\n",
    "\n",
    "Input: V = 121\n",
    "Output: 3\n",
    "We need a 100 Rs note, a 20 Rs note and a \n",
    "1 Rs coin. \n",
    "*/"
   ]
  },
  {
   "cell_type": "code",
   "execution_count": 30,
   "metadata": {},
   "outputs": [],
   "source": [
    "/*\n",
    "The idea is simple Greedy Algorithm. \n",
    "Start from largest possible denomination and keep adding denominations \n",
    "    while remaining value is greater than 0. Below is complete algorithm.\n",
    "\n",
    "1) Initialize result as empty.\n",
    "2) find the largest denomination that is \n",
    "   smaller than V.\n",
    "3) Add found denomination to result. Subtract \n",
    "   value of found denomination from V.\n",
    "4) If V becomes 0, then print result.  \n",
    "   Else repeat steps 2 and 3 for new value of V\n",
    "Below is the implementation of above algorithm.\n",
    "*/"
   ]
  },
  {
   "cell_type": "code",
   "execution_count": 31,
   "metadata": {},
   "outputs": [],
   "source": [
    "// All denominations of Indian Currency  \n",
    "static int deno[] = {1, 2, 5, 10, 20, 50, 100, 500, 1000}; \n",
    "static int n = deno.length; "
   ]
  },
  {
   "cell_type": "code",
   "execution_count": 32,
   "metadata": {},
   "outputs": [],
   "source": [
    "static void findMin(int V) \n",
    "{ \n",
    "    // Initialize result  \n",
    "    Vector<Integer> ans = new Vector<>(); \n",
    "\n",
    "    // Traverse through all denomination  \n",
    "    for (int i = n - 1; i >= 0; i--) \n",
    "    { \n",
    "        // Find denominations  \n",
    "        while (V >= deno[i])  \n",
    "        { \n",
    "            V -= deno[i]; \n",
    "            ans.add(deno[i]); \n",
    "        } \n",
    "    } \n",
    "\n",
    "    // Print result  \n",
    "    for (int i = 0; i < ans.size(); i++) \n",
    "    { \n",
    "        System.out.print(\" \" + ans.elementAt(i)); \n",
    "    } \n",
    "}"
   ]
  },
  {
   "cell_type": "code",
   "execution_count": 33,
   "metadata": {},
   "outputs": [
    {
     "name": "stdout",
     "output_type": "stream",
     "text": [
      "Following is minimal number of change for 93:  50 20 20 2 1"
     ]
    }
   ],
   "source": [
    "// Driver code  \n",
    "public static void main(String[] args)  \n",
    "{ \n",
    "    int n = 93; \n",
    "    System.out.print(\"Following is minimal number of change for \" + n + \": \"); \n",
    "    findMin(n); \n",
    "\n",
    "} \n",
    "main(args);"
   ]
  },
  {
   "cell_type": "markdown",
   "metadata": {},
   "source": [
    "**Related Link** ***https://www.geeksforgeeks.org/find-minimum-number-of-coins-that-make-a-change/***"
   ]
  },
  {
   "cell_type": "markdown",
   "metadata": {},
   "source": [
    "***https://youtu.be/KTaEeTWRwgg***"
   ]
  },
  {
   "cell_type": "markdown",
   "metadata": {},
   "source": [
    "## **175. Maximum Length Chain of Pairs | DP-20**\n",
    "https://www.geeksforgeeks.org/maximum-length-chain-of-pairs-dp-20/"
   ]
  },
  {
   "cell_type": "code",
   "execution_count": 34,
   "metadata": {},
   "outputs": [],
   "source": [
    "/*\n",
    "You are given n pairs of numbers. \n",
    "In every pair, \n",
    "    the first number is always smaller than the second number. \n",
    "A pair (c, d) can follow another pair (a, b) if b < c. Chain of pairs can be formed in this fashion. \n",
    "Find the longest chain which can be formed from a given set of pairs.\n",
    "*/"
   ]
  },
  {
   "cell_type": "code",
   "execution_count": 35,
   "metadata": {},
   "outputs": [],
   "source": [
    "/*\n",
    "For example, \n",
    "\n",
    "if the given pairs are {{5, 24}, {39, 60}, {15, 28}, {27, 40}, {50, 90} }, \n",
    "\n",
    "then the longest chain that can be formed is of length 3, \n",
    "and the chain is {{5, 24}, {27, 40}, {50, 90}}\n",
    "*/"
   ]
  },
  {
   "cell_type": "code",
   "execution_count": 36,
   "metadata": {},
   "outputs": [],
   "source": [
    "/*\n",
    "Time Complexity: O(n^2) where n is the number of pairs.\n",
    "\n",
    "This problem is a variation of standard Longest Increasing Subsequence problem (below link). \n",
    "Following is a simple two step process.\n",
    "    1) Sort given pairs in increasing order of first (or smaller) element. \n",
    "        Why do not need sorting? \n",
    "            Consider the example {{6, 8}, {3, 4}} to understand the need of sorting. \n",
    "            If we proceed to second step without sorting, we get output as 1. \n",
    "            But the correct output is 2.\n",
    "    2) Now run a modified LIS process \n",
    "        where we compare the second element of already finalized LIS with the first element of new LIS being constructed.\n",
    "*/"
   ]
  },
  {
   "cell_type": "markdown",
   "metadata": {},
   "source": [
    "***https://www.geeksforgeeks.org/longest-increasing-subsequence-dp-3/***"
   ]
  },
  {
   "cell_type": "code",
   "execution_count": 37,
   "metadata": {},
   "outputs": [],
   "source": [
    "class Pair{ \n",
    "    int a; \n",
    "    int b; \n",
    "      \n",
    "    public Pair(int a, int b) { \n",
    "        this.a = a; \n",
    "        this.b = b; \n",
    "    } \n",
    "}"
   ]
  },
  {
   "cell_type": "code",
   "execution_count": 38,
   "metadata": {},
   "outputs": [],
   "source": [
    "// This function assumes that arr[] is sorted in increasing order \n",
    "// according the first (or smaller) values in pairs. \n",
    "static int maxChainLength(Pair arr[], int n) \n",
    "{ \n",
    "   int i, j, max = 0; \n",
    "   int mcl[] = new int[n]; \n",
    "\n",
    "   /* Initialize MCL (max chain length) values for all indexes */\n",
    "   for ( i = 0; i < n; i++ ) \n",
    "      mcl[i] = 1; \n",
    "\n",
    "   /* Compute optimized chain length values in bottom up manner */\n",
    "   for ( i = 1; i < n; i++ ) \n",
    "      for ( j = 0; j < i; j++ ) \n",
    "         if ( arr[i].a > arr[j].b && mcl[i] < mcl[j] + 1) \n",
    "            mcl[i] = mcl[j] + 1; \n",
    "\n",
    "   // mcl[i] now stores the maximum chain length ending with pair i \n",
    "\n",
    "   /* Pick maximum of all MCL values */\n",
    "   for ( i = 0; i < n; i++ ) \n",
    "      if ( max < mcl[i] ) \n",
    "         max = mcl[i]; \n",
    "\n",
    "   return max; \n",
    "} "
   ]
  },
  {
   "cell_type": "code",
   "execution_count": 39,
   "metadata": {},
   "outputs": [
    {
     "name": "stdout",
     "output_type": "stream",
     "text": [
      "Length of maximum size chain is 3\n"
     ]
    }
   ],
   "source": [
    "/* Driver program to test above function */\n",
    "public static void main(String[] args)  \n",
    "{ \n",
    "    Pair arr[] = new Pair[] {new Pair(5,24), new Pair(15, 25), \n",
    "                              new Pair (27, 40), new Pair(50, 60)}; \n",
    "    System.out.println(\"Length of maximum size chain is \" +  \n",
    "                              maxChainLength(arr, arr.length)); \n",
    "} \n",
    "main(args);"
   ]
  },
  {
   "cell_type": "markdown",
   "metadata": {},
   "source": [
    "***https://youtu.be/v-HIXptqM3Q***"
   ]
  },
  {
   "cell_type": "markdown",
   "metadata": {},
   "source": [
    "## **176. Find minimum time to finish all jobs with given constraints**\n",
    "https://www.geeksforgeeks.org/find-minimum-time-to-finish-all-jobs-with-given-constraints/"
   ]
  },
  {
   "cell_type": "code",
   "execution_count": 40,
   "metadata": {},
   "outputs": [],
   "source": [
    "/*\n",
    "Given an array of jobs with different time requirements. \n",
    "There are K identical assignees available \n",
    "and we are also given how much time an assignee takes to do one unit of the job. \n",
    "Find the minimum time to finish all jobs with following constraints.\n",
    "\n",
    "    1. An assignee can be assigned only contiguous jobs. \n",
    "        For example, \n",
    "        an assignee cannot be assigned jobs 1 and 3, but not 2.\n",
    "    2. Two assignees cannot share (or co-assigned) a job, \n",
    "        i.e., a job cannot be partially assigned to one assignee and partially to other.\n",
    "*/"
   ]
  },
  {
   "cell_type": "code",
   "execution_count": 41,
   "metadata": {},
   "outputs": [],
   "source": [
    "/*\n",
    "Input :\n",
    "\n",
    "K:     Number of assignees available.\n",
    "T:     Time taken by an assignee to finish one unit \n",
    "       of job\n",
    "job[]: An array that represents time requirements of different jobs.\n",
    "*/"
   ]
  },
  {
   "cell_type": "code",
   "execution_count": 42,
   "metadata": {},
   "outputs": [],
   "source": [
    "/*\n",
    "Examples :\n",
    "\n",
    "Input:  k = 2, T = 5, job[] = {4, 5, 10}\n",
    "Output: 50\n",
    "The minimum time required to finish all the jobs is 50.\n",
    "There are 2 assignees available. We get this time by \n",
    "assigning {4, 5} to first assignee and {10} to second \n",
    "assignee.\n",
    "\n",
    "Input:  k = 4, T = 5, job[] = {10, 7, 8, 12, 6, 8}\n",
    "Output: 75\n",
    "We get this time by assigning {10} {7, 8} {12} and {6, 8}\n",
    "*/"
   ]
  },
  {
   "cell_type": "code",
   "execution_count": 43,
   "metadata": {},
   "outputs": [],
   "source": [
    "/*\n",
    "The idea is to use Binary Search. \n",
    "    Think if we have a function (say isPossible()) \n",
    "        that tells us if it’s possible to finish all jobs within a given time and number of available assignees. \n",
    "    We can solve this problem by doing a binary search for the answer. \n",
    "        If the middle point of binary search is not possible, \n",
    "            then search in second half, \n",
    "        else \n",
    "            search in first half. \n",
    "    Lower bound for Binary Search for minimum time can be set as 0. \n",
    "    The upper bound can be obtained by adding all given job times.\n",
    "\n",
    "Now how to implement isPossible()? \n",
    "    This function can be implemented using Greedy Approach. \n",
    "    Since we want to know if it is possible to finish all jobs within a given time, \n",
    "    we traverse through all jobs and keep assigning jobs to current assignee one by one \n",
    "    while a job can be assigned within the given time limit. \n",
    "    When time taken by current assignee exceeds the given time, \n",
    "        create a new assignee and start assigning jobs to it. \n",
    "    If the number of assignees becomes more than k, \n",
    "        then return false, \n",
    "    else \n",
    "        return true.\n",
    "*/"
   ]
  },
  {
   "cell_type": "code",
   "execution_count": 44,
   "metadata": {},
   "outputs": [],
   "source": [
    "// Utility function to get  \n",
    "// maximum element in job[0..n-1] \n",
    "static int getMax(int arr[], int n) \n",
    "{ \n",
    "    int result = arr[0]; \n",
    "    for (int i=1; i<n; i++) \n",
    "        if (arr[i] > result) \n",
    "            result = arr[i]; \n",
    "    return result; \n",
    "} "
   ]
  },
  {
   "cell_type": "code",
   "execution_count": 45,
   "metadata": {},
   "outputs": [],
   "source": [
    "// Returns true if it is possible to finish jobs[]  \n",
    "// within given time 'time' \n",
    "static boolean isPossible(int time, int K,  int job[], int n) \n",
    "{ \n",
    "    // cnt is count of current  \n",
    "    // assignees required for jobs \n",
    "    int cnt = 1; \n",
    "\n",
    "    // time assigned to current assignee \n",
    "    int curr_time = 0;  \n",
    "\n",
    "    for (int i = 0; i < n;) \n",
    "    { \n",
    "        // If time assigned to current assignee  \n",
    "        // exceeds max, increment count of assignees. \n",
    "        if (curr_time + job[i] > time) { \n",
    "            curr_time = 0; \n",
    "            cnt++; \n",
    "        } \n",
    "\n",
    "        // Else add time of job to current  \n",
    "        // time and move to next job. \n",
    "        else \n",
    "        { \n",
    "            curr_time += job[i]; \n",
    "            i++; \n",
    "        } \n",
    "    } \n",
    "\n",
    "    // Returns true if count \n",
    "    // is smaller than k \n",
    "    return (cnt <= K); \n",
    "} "
   ]
  },
  {
   "cell_type": "code",
   "execution_count": 46,
   "metadata": {},
   "outputs": [],
   "source": [
    "// Returns minimum time required to  \n",
    "// finish given array of jobs \n",
    "// k --> number of assignees \n",
    "// T --> Time required by every assignee to finish 1 unit \n",
    "// m --> Number of jobs \n",
    "static int findMinTime(int K, int T, int job[], int n) \n",
    "{ \n",
    "    // Set start and end for binary search \n",
    "    // end provides an upper limit on time \n",
    "    int end = 0, start = 0; \n",
    "    for (int i = 0; i < n; ++i) \n",
    "        end += job[i]; \n",
    "\n",
    "    // Initialize answer \n",
    "    int ans = end;  \n",
    "\n",
    "    // Find the job that takes maximum time \n",
    "    int job_max = getMax(job, n); \n",
    "\n",
    "    // Do binary search for  \n",
    "    // minimum feasible time \n",
    "    while (start <= end) \n",
    "    { \n",
    "        int mid = (start + end) / 2; \n",
    "\n",
    "        // If it is possible to finish jobs in mid time \n",
    "        if (mid >= job_max && isPossible(mid, K, job, n)) \n",
    "        { \n",
    "            // Update answer \n",
    "            ans = Math.min(ans, mid);  \n",
    "\n",
    "            end = mid - 1; \n",
    "        } \n",
    "\n",
    "        else\n",
    "            start = mid + 1; \n",
    "    } \n",
    "\n",
    "    return (ans * T); \n",
    "} "
   ]
  },
  {
   "cell_type": "code",
   "execution_count": 47,
   "metadata": {},
   "outputs": [
    {
     "name": "stdout",
     "output_type": "stream",
     "text": [
      "75\n"
     ]
    }
   ],
   "source": [
    "// Driver program \n",
    "public static void main(String arg[]) \n",
    "{ \n",
    "    int job[] = {10, 7, 8, 12, 6, 8}; \n",
    "    int n = job.length; \n",
    "    int k = 4, T = 5; \n",
    "    System.out.println(findMinTime(k, T, job, n)); \n",
    "} \n",
    "main(args);"
   ]
  },
  {
   "cell_type": "markdown",
   "metadata": {},
   "source": [
    "## **177. Job Sequencing Problem | Set 2 (Using Disjoint Set)**\n",
    "https://www.geeksforgeeks.org/job-sequencing-using-disjoint-set-union/"
   ]
  },
  {
   "cell_type": "code",
   "execution_count": 48,
   "metadata": {},
   "outputs": [],
   "source": [
    "/*\n",
    "Given a set of n jobs where each job i has a deadline di >=1 and profit pi>=0. \n",
    "Only one job can be scheduled at a time. \n",
    "Each job takes 1 unit of time to complete. \n",
    "We earn the profit if and only if the job is completed by its deadline. \n",
    "The task is to find the subset of jobs that maximizes profit.\n",
    "*/"
   ]
  },
  {
   "cell_type": "code",
   "execution_count": 49,
   "metadata": {},
   "outputs": [],
   "source": [
    "/*\n",
    "Examples:\n",
    "\n",
    "Input: Four Jobs with following deadlines and profits\n",
    "JobID Deadline Profit\n",
    "   a      4      20\n",
    "   b      1      10\n",
    "   c      1      40\n",
    "   d      1      30\n",
    "Output: Following is maximum profit sequence of jobs:\n",
    "       c, a\n",
    "Input: Five Jobs with following deadlines and profits\n",
    "JobID Deadline Profit\n",
    "   a     2       100\n",
    "   b     1       19\n",
    "   c     2       27\n",
    "   d     1       25\n",
    "   e     3       15\n",
    "Output: Following is maximum profit sequence of jobs:\n",
    "       c, a, e\n",
    "*/"
   ]
  },
  {
   "cell_type": "code",
   "execution_count": 50,
   "metadata": {},
   "outputs": [],
   "source": [
    "/*\n",
    "1. Sort all jobs in decreasing order of profit.\n",
    "2. Initialize the result sequence as first job in sorted jobs.\n",
    "3. Do following for remaining n-1 jobs\n",
    "    i. If the current job can fit in the current result sequence without missing the deadline, \n",
    "           add current job to the result. \n",
    "        Else \n",
    "            ignore the current job.\n",
    "*/"
   ]
  },
  {
   "cell_type": "code",
   "execution_count": 51,
   "metadata": {},
   "outputs": [],
   "source": [
    "/*\n",
    "The costly operation in the Greedy solution is to assign a free slot for a job. \n",
    "We were traversing each and every slot for a job and assigning the greatest possible time slot(<deadline) which was available.\n",
    "*/"
   ]
  },
  {
   "cell_type": "code",
   "execution_count": 52,
   "metadata": {},
   "outputs": [],
   "source": [
    "/*\n",
    "What does greatest time slot means?\n",
    "\n",
    "Suppose that a job J1 has a deadline of time t = 5. \n",
    "We assign the greatest time slot which is free and less than the deadline \n",
    "    i.e 4-5 for this job. \n",
    "Now another job J2 with deadline of 5 comes in, \n",
    "    so the time slot allotted will be 3-4 since 4-5 has already been allotted to job J1.\n",
    "*/"
   ]
  },
  {
   "cell_type": "code",
   "execution_count": 53,
   "metadata": {},
   "outputs": [],
   "source": [
    "/*\n",
    "Why to assign greatest time slot(free) to a job?\n",
    "\n",
    "Now we assign the greatest possible time slot since \n",
    "if we assign a time slot even lesser than the available one \n",
    "    than there might be some other job which will miss its deadline.\n",
    "Example:\n",
    "J1 with deadline d1 = 5, profit 40\n",
    "J2 with deadline d2 = 1, profit 20\n",
    "Suppose that for job J1 we assigned time slot of 0-1. \n",
    "Now job J2 cannot be performed since we will perform Job J1 during that time slot.\n",
    "*/"
   ]
  },
  {
   "cell_type": "code",
   "execution_count": 54,
   "metadata": {},
   "outputs": [],
   "source": [
    "/*\n",
    "Using Disjoint Set for Job Sequencing\n",
    "\n",
    "All time slots are individual sets initially. \n",
    "We first find the maximum deadline of all jobs. \n",
    "Let the max deadline be m. \n",
    "We create m+1 individual sets. \n",
    "If a job is assigned a time slot of t where t => 0, \n",
    "    then the job is scheduled during [t-1, t]. \n",
    "So a set with value X represents the time slot [X-1, X].\n",
    "We need to keep track of the greatest time slot available which can be allotted to a given job having deadline. \n",
    "We use the parent array of Disjoint Set Data structures for this purpose. \n",
    "The root of the tree is always the latest available slot. \n",
    "If for a deadline d, there is no slot available, \n",
    "    then root would be 0. \n",
    "    \n",
    "Below are detailed steps.\n",
    "*/"
   ]
  },
  {
   "cell_type": "code",
   "execution_count": 55,
   "metadata": {},
   "outputs": [],
   "source": [
    "/*\n",
    "Initialize Disjoint Set: Creates initial disjoint sets.\n",
    "\n",
    "// m is maximum deadline of a job\n",
    "parent = new int[m + 1];\n",
    "\n",
    "// Every node is a parent of itself\n",
    "for (int i = 0; i ≤ m; i++)\n",
    "    parent[i] = i;\n",
    "    \n",
    "=============================================================\n",
    "    \n",
    "Find : Finds the latest time slot available.\n",
    "\n",
    "// Returns the maximum available time slot\n",
    "find(s)\n",
    "{\n",
    "    // Base case\n",
    "    if (s == parent[s])\n",
    "       return s;\n",
    "\n",
    "    // Recursive call with path compression\n",
    "    return parent[s] = find(parent[s]);\n",
    "} \n",
    "\n",
    "=============================================================\n",
    "\n",
    "Union :\n",
    "\n",
    " Merges two sets.  \n",
    "// Makes u as parent of v.\n",
    "union(u, v)\n",
    "{\n",
    "   // update the greatest available\n",
    "   // free slot to u\n",
    "   parent[v] = u;\n",
    "} \n",
    "*/"
   ]
  },
  {
   "cell_type": "code",
   "execution_count": 56,
   "metadata": {},
   "outputs": [],
   "source": [
    "/*\n",
    "How come find returns the latest available time slot?\n",
    "\n",
    "Initially all time slots are individual slots. \n",
    "So the time slot returned is always maximum. \n",
    "\n",
    "When we assign a time slot ‘t’ to a job, we do union of ‘t’ with ‘t-1’ in a way that ‘t-1’ becomes parent of ‘t’. \n",
    "To do this we call union(t-1, t). \n",
    "    This means that all future queries for time slot t would now return the latest time slot available for set represented by t-1.\n",
    "*/"
   ]
  },
  {
   "cell_type": "code",
   "execution_count": 57,
   "metadata": {},
   "outputs": [],
   "source": [
    "// A Simple Disjoint Set Data Structure \n",
    "class DisjointSet \n",
    "{ \n",
    "    int parent[]; \n",
    "  \n",
    "    // Constructor \n",
    "    DisjointSet(int n) \n",
    "    { \n",
    "        parent = new int[n + 1]; \n",
    "  \n",
    "        // Every node is a parent of itself \n",
    "        for (int i = 0; i <= n; i++) \n",
    "            parent[i] = i; \n",
    "    } \n",
    "  \n",
    "    // Path Compression \n",
    "    int find(int s) \n",
    "    { \n",
    "        /* Make the parent of the nodes in the path \n",
    "           from u--> parent[u] point to parent[u] */\n",
    "        if (s == parent[s]) \n",
    "            return s; \n",
    "        return parent[s] = find(parent[s]); \n",
    "    } \n",
    "  \n",
    "    // Makes u as parent of v. \n",
    "    void merge(int u, int v) \n",
    "    { \n",
    "        //update the greatest available \n",
    "        //free slot to u \n",
    "        parent[v] = u; \n",
    "    } \n",
    "} "
   ]
  },
  {
   "cell_type": "code",
   "execution_count": 58,
   "metadata": {},
   "outputs": [],
   "source": [
    "class Job implements Comparator<Job> \n",
    "{ \n",
    "    // Each job has a unique-id, profit and deadline \n",
    "    char id; \n",
    "    int deadline, profit; \n",
    "  \n",
    "    // Constructors \n",
    "    public Job() { } \n",
    "    public Job(char id,int deadline,int profit) \n",
    "    { \n",
    "        this.id = id; \n",
    "        this.deadline = deadline; \n",
    "        this.profit = profit; \n",
    "    }\n",
    "    \n",
    "    // Used to sort in descending order on the basis \n",
    "    // of profit for each job \n",
    "    public int compare(Job j1, Job j2) \n",
    "    { \n",
    "        return j1.profit > j2.profit? -1: 1; \n",
    "    } \n",
    "} "
   ]
  },
  {
   "cell_type": "code",
   "execution_count": 59,
   "metadata": {},
   "outputs": [],
   "source": [
    "// Returns the maximum deadline from the set of jobs \n",
    "public static int findMaxDeadline(ArrayList<Job> arr) \n",
    "{ \n",
    "    int ans = Integer.MIN_VALUE; \n",
    "    for (Job temp : arr) \n",
    "        ans = Math.max(temp.deadline, ans); \n",
    "    return ans; \n",
    "} "
   ]
  },
  {
   "cell_type": "code",
   "execution_count": 60,
   "metadata": {},
   "outputs": [],
   "source": [
    "// Prints optimal job sequence \n",
    "public static void printJobScheduling(ArrayList<Job> arr) \n",
    "{ \n",
    "    // Sort Jobs in descending order on the basis \n",
    "    // of their profit \n",
    "    Collections.sort(arr, new Job()); \n",
    "\n",
    "    // Find the maximum deadline among all jobs and \n",
    "    // create a disjoint set data structure with \n",
    "    // maxDeadline disjoint sets initially. \n",
    "    int maxDeadline = findMaxDeadline(arr); \n",
    "    DisjointSet dsu = new DisjointSet(maxDeadline); \n",
    "\n",
    "    // Traverse through all the jobs \n",
    "    for (Job temp : arr) \n",
    "    { \n",
    "        // Find the maximum available free slot for \n",
    "        // this job (corresponding to its deadline) \n",
    "        int availableSlot = dsu.find(temp.deadline); \n",
    "\n",
    "\n",
    "        // If maximum available free slot is greater \n",
    "        // than 0, then free slot available \n",
    "        if (availableSlot > 0) \n",
    "        { \n",
    "            // This slot is taken by this job 'i' \n",
    "            // so we need to update the greatest free \n",
    "            // slot. Note that, in merge, we make \n",
    "            // first parameter as parent of second \n",
    "            // parameter.  So future queries for \n",
    "            // availableSlot will return maximum slot \n",
    "            // from set of \"availableSlot - 1\" \n",
    "            dsu.merge(dsu.find(availableSlot - 1), \n",
    "                               availableSlot); \n",
    "            System.out.print(temp.id + \" \"); \n",
    "        } \n",
    "    } \n",
    "    System.out.println(); \n",
    "} "
   ]
  },
  {
   "cell_type": "code",
   "execution_count": 61,
   "metadata": {},
   "outputs": [
    {
     "name": "stdout",
     "output_type": "stream",
     "text": [
      "Following jobs need to be executed for maximum profit\n",
      "a c e \n"
     ]
    }
   ],
   "source": [
    "public static void main(String args[]) \n",
    "{ \n",
    "    ArrayList<Job> arr=new ArrayList<Job>(); \n",
    "    arr.add(new Job('a',2,100)); \n",
    "    arr.add(new Job('b',1,19)); \n",
    "    arr.add(new Job('c',2,27)); \n",
    "    arr.add(new Job('d',1,25)); \n",
    "    arr.add(new Job('e',3,15)); \n",
    "    System.out.println(\"Following jobs need to be \"+ \n",
    "                       \"executed for maximum profit\"); \n",
    "    printJobScheduling(arr); \n",
    "} \n",
    "main(args);"
   ]
  },
  {
   "cell_type": "markdown",
   "metadata": {},
   "source": [
    "## **178. Minimum sum of two numbers formed from digits of an array**\n",
    "https://www.geeksforgeeks.org/minimum-sum-two-numbers-formed-digits-array-2/"
   ]
  },
  {
   "cell_type": "code",
   "execution_count": 62,
   "metadata": {},
   "outputs": [],
   "source": [
    "/*\n",
    "Given an array of digits (values are from 0 to 9), \n",
    "find the minimum possible sum of two numbers formed from digits of the array. \n",
    "All digits of given array must be used to form the two numbers.\n",
    "*/"
   ]
  },
  {
   "cell_type": "code",
   "execution_count": 63,
   "metadata": {},
   "outputs": [],
   "source": [
    "/*\n",
    "Examples:\n",
    "\n",
    "Input: [6, 8, 4, 5, 2, 3]\n",
    "Output: 604\n",
    "The minimum sum is formed by numbers \n",
    "358 and 246\n",
    "\n",
    "Input: [5, 3, 0, 7, 4]\n",
    "Output: 82\n",
    "The minimum sum is formed by numbers \n",
    "35 and 047 \n",
    "*/"
   ]
  },
  {
   "cell_type": "code",
   "execution_count": 64,
   "metadata": {},
   "outputs": [],
   "source": [
    "/*\n",
    "Since we want to minimize the sum of two numbers to be formed, \n",
    "we must divide all digits in two halves and assign half-half digits to them. \n",
    "We also need to make sure that the leading digits are smaller.\n",
    "\n",
    "We build a Min Heap with the elements of the given array, which takes O(n) worst time. \n",
    "Now we retrieve min values (2 at a time) of array, \n",
    "    by polling from the Priority Queue and append these two min values to our numbers, till the heap becomes empty, \n",
    "    i.e., all the elements of array get exhausted. \n",
    "We return the sum of two formed numbers, which is our required answer. \n",
    "Overall complexity is O(nlogn) as push() operation takes O(logn) and it’s repeated n times.\n",
    "*/"
   ]
  },
  {
   "cell_type": "code",
   "execution_count": 65,
   "metadata": {},
   "outputs": [],
   "source": [
    "// Returns sum of two numbers formed \n",
    "// from all digits in a[] \n",
    "public static long solve(int[] a) \n",
    "{ \n",
    "    // min Heap \n",
    "    PriorityQueue<Integer> pq = new PriorityQueue<Integer>(); \n",
    "\n",
    "    // to store the 2 numbers formed by array elements to \n",
    "    // minimize the required sum \n",
    "    StringBuilder num1 = new StringBuilder(); \n",
    "    StringBuilder num2 = new StringBuilder(); \n",
    "\n",
    "    // Adding elements in Priority Queue \n",
    "    for (int x : a) \n",
    "        pq.add(x); \n",
    "\n",
    "    // checking if the priority queue is non empty \n",
    "    while (!pq.isEmpty()) \n",
    "    { \n",
    "        num1.append(pq.poll()+ \"\"); \n",
    "        if (!pq.isEmpty()) \n",
    "            num2.append(pq.poll()+ \"\"); \n",
    "    } \n",
    "\n",
    "    // the required sum calculated \n",
    "    long sum = Long.parseLong(num1.toString()) + \n",
    "               Long.parseLong(num2.toString()); \n",
    "\n",
    "    return sum; \n",
    "} "
   ]
  },
  {
   "cell_type": "code",
   "execution_count": 66,
   "metadata": {},
   "outputs": [
    {
     "name": "stdout",
     "output_type": "stream",
     "text": [
      "The required sum is 604\n"
     ]
    }
   ],
   "source": [
    "int arr[] = {6, 8, 4, 5, 2, 3}; \n",
    "System.out.println(\"The required sum is \"+ solve(arr)); "
   ]
  },
  {
   "cell_type": "code",
   "execution_count": 67,
   "metadata": {},
   "outputs": [],
   "source": [
    "/*\n",
    "Anothor method:\n",
    "Time Complexity : O(nLogN)\n",
    "\n",
    "We can follow another approach also like this, \n",
    "as we need two numbers such that their sum is minimum, \n",
    "then we would also need two minimum numbers. \n",
    "\n",
    "If we arrange our array in ascending order \n",
    "    then we can two digits that will form the smallest numbers,\n",
    "e.g, 2 3 4 5 6 8, now we can get two numbers starting from 2 and 3. Now first part is done. \n",
    "\n",
    "Now we have to form such that they would contain small digits, \n",
    "    i.e pick digits alternatively from array extend your two numbers.\n",
    "i.e 246, 358. \n",
    "Now if we see analyze this, \n",
    "    then we can pick even indexed numbers for num1 and odd number for num2.\n",
    "*/"
   ]
  },
  {
   "cell_type": "code",
   "execution_count": 68,
   "metadata": {},
   "outputs": [],
   "source": [
    "//Returns sum of two numbers formed \n",
    "//from all digits in a[] \n",
    "static int minSum(int a[], int n){ \n",
    "\n",
    " // sort the elements \n",
    " Arrays.sort(a); \n",
    "\n",
    " int num1 = 0; \n",
    " int num2 = 0; \n",
    " for(int i = 0;i<n;i++){ \n",
    "     if(i%2==0) \n",
    "         num1 = num1*10+a[i]; \n",
    "     else num2 = num2*10+a[i]; \n",
    " } \n",
    " return num2+num1; \n",
    "} "
   ]
  },
  {
   "cell_type": "code",
   "execution_count": 69,
   "metadata": {},
   "outputs": [
    {
     "name": "stdout",
     "output_type": "stream",
     "text": [
      "The required sum is  82\n"
     ]
    }
   ],
   "source": [
    "int arr[] = {5, 3, 0, 7, 4};  \n",
    "int n = arr.length; \n",
    "System.out.println(\"The required sum is  \" + minSum(arr, n)); "
   ]
  },
  {
   "cell_type": "markdown",
   "metadata": {},
   "source": [
    "## **179. Find smallest number with given number of digits and sum of digits**\n",
    "https://www.geeksforgeeks.org/find-smallest-number-with-given-number-of-digits-and-digit-sum/"
   ]
  },
  {
   "cell_type": "code",
   "execution_count": 70,
   "metadata": {},
   "outputs": [],
   "source": [
    "/*\n",
    "How to find the smallest number with given digit sum s and number of digits d?\n",
    "*/"
   ]
  },
  {
   "cell_type": "code",
   "execution_count": 71,
   "metadata": {},
   "outputs": [],
   "source": [
    "/*\n",
    "Examples :\n",
    "\n",
    "Input  : s = 9, d = 2\n",
    "Output : 18\n",
    "There are many other possible numbers \n",
    "like 45, 54, 90, etc with sum of digits\n",
    "as 9 and number of digits as 2. The \n",
    "smallest of them is 18.\n",
    "\n",
    "Input  : s = 20, d = 3\n",
    "Output : 299\n",
    "*/"
   ]
  },
  {
   "cell_type": "code",
   "execution_count": 72,
   "metadata": {},
   "outputs": [],
   "source": [
    "/*\n",
    "A Simple Solution is to consider all m digit numbers and keep track of minimum number with digit sum as s. \n",
    "A close upper bound on time complexity of this solution is O(10^m).\n",
    "*/"
   ]
  },
  {
   "cell_type": "code",
   "execution_count": 73,
   "metadata": {},
   "outputs": [],
   "source": [
    "/*\n",
    "There is a Greedy approach to solve the problem. \n",
    "TIme Complexity : O(m)\n",
    "\n",
    "The idea is to one by one fill all digits from rightmost to leftmost (or from least significant digit to most significant).\n",
    "We initially deduct 1 from sum s so that we have smallest digit at the end. \n",
    "After deducting 1, \n",
    "    we apply greedy approach. \n",
    "We compare remaining sum with 9, \n",
    "if remaining sum is more than 9, \n",
    "    we put 9 at the current position, \n",
    "else \n",
    "    we put the remaining sum. \n",
    "    \n",
    "Since we fill digits from right to left, we put the highest digits on the right side. \n",
    "\n",
    "Below is implementation of the idea.\n",
    "*/"
   ]
  },
  {
   "cell_type": "code",
   "execution_count": 74,
   "metadata": {},
   "outputs": [],
   "source": [
    "// Function to print the smallest possible number with digit sum 's' \n",
    "// and 'm' number of digits \n",
    "static void findSmallest(int m, int s) \n",
    "{ \n",
    "    // If sum of digits is 0, then a number is possible \n",
    "    // only if number of digits is 1 \n",
    "    if (s == 0) \n",
    "    { \n",
    "        System.out.print(m == 1 ? \"Smallest number is 0\" : \"Not possible\"); \n",
    "\n",
    "        return ; \n",
    "    } \n",
    "\n",
    "    // Sum greater than the maximum possible sum \n",
    "    if (s > 9*m) \n",
    "    { \n",
    "        System.out.println(\"Not possible\"); \n",
    "        return ; \n",
    "    } \n",
    "\n",
    "    // Create an array to store digits of result \n",
    "    int[] res = new int[m]; \n",
    "\n",
    "    // deduct sum by one to account for cases later \n",
    "    // (There must be 1 left for the most significant \n",
    "    //  digit) \n",
    "    s -= 1; \n",
    "\n",
    "    // Fill last m-1 digits (from right to left) \n",
    "    for (int i=m-1; i>0; i--) \n",
    "    { \n",
    "        // If sum is still greater than 9, \n",
    "        // digit must be 9 \n",
    "        if (s > 9) \n",
    "        { \n",
    "            res[i] = 9; \n",
    "            s -= 9; \n",
    "        } \n",
    "        else\n",
    "        { \n",
    "            res[i] = s; \n",
    "            s = 0; \n",
    "        } \n",
    "    } \n",
    "\n",
    "    // Whatever is left should be the most significant \n",
    "    // digit \n",
    "    res[0] = s + 1;  // The initially subtracted 1 is \n",
    "                    // incorporated here \n",
    "\n",
    "    System.out.print(\"Smallest number is \"); \n",
    "    for (int i=0; i<m; i++) \n",
    "        System.out.print(res[i]); \n",
    "} "
   ]
  },
  {
   "cell_type": "code",
   "execution_count": 75,
   "metadata": {},
   "outputs": [
    {
     "name": "stdout",
     "output_type": "stream",
     "text": [
      "Smallest number is 18"
     ]
    }
   ],
   "source": [
    "int s = 9, m = 2; \n",
    "findSmallest(m, s); "
   ]
  },
  {
   "cell_type": "markdown",
   "metadata": {},
   "source": [
    "## **180. Minimum sum of absolute difference of pairs of two arrays**\n",
    "https://www.geeksforgeeks.org/minimum-sum-absolute-difference-pairs-two-arrays/"
   ]
  },
  {
   "cell_type": "code",
   "execution_count": 76,
   "metadata": {},
   "outputs": [],
   "source": [
    "/*\n",
    "Given two arrays a[] and b[] of equal length n. \n",
    "The task is to pair each element of array a to an element in array b, \n",
    "    such that sum S of absolute differences of all the pairs is minimum.\n",
    "\n",
    "Suppose, two elements a[i] and a[j] (i != j) of a are paired with elements b[p] and b[q] of b respectively,\n",
    "then p should not be equal to q.\n",
    "*/"
   ]
  },
  {
   "cell_type": "code",
   "execution_count": 77,
   "metadata": {},
   "outputs": [],
   "source": [
    "/*\n",
    "Examples:\n",
    "\n",
    "Input :  a[] = {3, 2, 1}\n",
    "         b[] = {2, 1, 3}\n",
    "Output : 0\n",
    "\n",
    "Input :  n = 4\n",
    "         a[] = {4, 1, 8, 7}\n",
    "         b[] = {2, 3, 6, 5}\n",
    "Output : 6\n",
    "*/"
   ]
  },
  {
   "cell_type": "code",
   "execution_count": 78,
   "metadata": {},
   "outputs": [],
   "source": [
    "/*\n",
    "The solution to the problem is a simple greedy approach. It consists of two steps.\n",
    "\n",
    "Step 1 : Sort both the arrays in O (n log n) time.\n",
    "Step 2 : Find absolute difference of each pair of corresponding elements (elements at same index) of both arrays \n",
    "         and add the result to the sum S. The time complexity of this step is O(n).\n",
    "\n",
    "Hence, the overall time complexity of the program is O(n log n).\n",
    "*/"
   ]
  },
  {
   "cell_type": "code",
   "execution_count": 79,
   "metadata": {},
   "outputs": [],
   "source": [
    "// Returns minimum possible pairwise  \n",
    "// absolute difference of two arrays. \n",
    "static long findMinSum(long a[], long b[], long n) \n",
    "{ \n",
    "    // Sort both arrays \n",
    "    Arrays.sort(a); \n",
    "    Arrays.sort(b); \n",
    "\n",
    "    // Find sum of absolute differences \n",
    "    long sum = 0 ; \n",
    "    for (int i = 0; i < n; i++) \n",
    "        sum = sum + Math.abs(a[i] - b[i]); \n",
    "\n",
    "    return sum; \n",
    "} "
   ]
  },
  {
   "cell_type": "code",
   "execution_count": 80,
   "metadata": {},
   "outputs": [
    {
     "name": "stdout",
     "output_type": "stream",
     "text": [
      "6\n"
     ]
    }
   ],
   "source": [
    "// Driver code \n",
    "public static void main(String[] args)  \n",
    "{ \n",
    "    // Both a[] and b[] must be of same size. \n",
    "    long a[] = {4, 1, 8, 7}; \n",
    "    long b[] = {2, 3, 6, 5}; \n",
    "    int n = a.length; \n",
    "    System.out.println(findMinSum(a, b, n)); \n",
    "} \n",
    "main(args);"
   ]
  },
  {
   "cell_type": "markdown",
   "metadata": {},
   "source": [
    "## **181. Maximize sum of consecutive differences in a circular array**\n",
    "https://www.geeksforgeeks.org/maximize-sum-consecutive-differences-circular-array/"
   ]
  },
  {
   "cell_type": "code",
   "execution_count": 81,
   "metadata": {},
   "outputs": [],
   "source": [
    "/*\n",
    "Given an array of n elements. \n",
    "Consider array as circular array i.e element after an is a1. \n",
    "The task is to find maximum sum of the difference between consecutive elements with rearrangement of array element allowed \n",
    "i.e after rearrangement of element find |a1 – a2| + |a2 – a3| + …… + |an – 1 – an| + |an – a1|.\n",
    "*/"
   ]
  },
  {
   "cell_type": "code",
   "execution_count": 82,
   "metadata": {},
   "outputs": [],
   "source": [
    "/*\n",
    "Examples:\n",
    "\n",
    "Input : arr[] = { 4, 2, 1, 8 }\n",
    "Output : 18\n",
    "Rearrange given array as : { 1, 8, 2, 4 }\n",
    "Sum of difference between consecutive element\n",
    "= |1 - 8| + |8 - 2| + |2 - 4| + |4 - 1|\n",
    "= 7 + 6 + 2 + 3\n",
    "= 18.\n",
    "\n",
    "Input : arr[] = { 10, 12, 15 }\n",
    "Output : 10\n",
    "*/"
   ]
  },
  {
   "cell_type": "code",
   "execution_count": 83,
   "metadata": {},
   "outputs": [],
   "source": [
    "/*\n",
    "The idea is to use Greedy Approach and try to bring elements having greater difference closer.\n",
    "\n",
    "Consider the sorted permutation of the given array a1, a1, a2,…., an – 1, an such that a1 < a2 < a3…. < an – 1 < an.\n",
    "\n",
    "Now, to obtain the answer having maximum sum of difference between consecutive element, \n",
    "arrange element in following manner:\n",
    "    a1, an, a2, an-1,…., an/2, a(n/2) + 1\n",
    "We can observe that the arrangement produces the optimal answer, \n",
    "    as all a1, a2, a3,….., a(n/2)-1, an/2 are subtracted twice \n",
    "    while a(n/2)+1, a(n/2)+2, a(n/2)+3,….., an – 1, an are added twice.\n",
    "*/"
   ]
  },
  {
   "cell_type": "code",
   "execution_count": 84,
   "metadata": {},
   "outputs": [],
   "source": [
    "// Return the maximum Sum of difference between \n",
    "// consecutive elements. \n",
    "static int maxSum(int arr[], int n) \n",
    "{ \n",
    "    int sum = 0; \n",
    "\n",
    "    // Sorting the array. \n",
    "    Arrays.sort(arr); \n",
    "\n",
    "    // Subtracting a1, a2, a3,....., a(n/2)-1,  \n",
    "    // an/2 twice and adding a(n/2)+1, a(n/2)+2,  \n",
    "    // a(n/2)+3,....., an - 1, an twice. \n",
    "    for (int i = 0; i < n/2; i++) \n",
    "    { \n",
    "        sum -= (2 * arr[i]); \n",
    "        sum += (2 * arr[n - i - 1]); \n",
    "    } \n",
    "\n",
    "    return sum; \n",
    "} "
   ]
  },
  {
   "cell_type": "code",
   "execution_count": 85,
   "metadata": {},
   "outputs": [
    {
     "name": "stdout",
     "output_type": "stream",
     "text": [
      "18\n"
     ]
    }
   ],
   "source": [
    "// Driver Program \n",
    "public static void main (String[] args) \n",
    "{ \n",
    "    int arr[] = { 4, 2, 1, 8 }; \n",
    "    int n = arr.length; \n",
    "    System.out.println(maxSum(arr, n)); \n",
    "} \n",
    "main(args);"
   ]
  },
  {
   "cell_type": "code",
   "execution_count": 86,
   "metadata": {},
   "outputs": [],
   "source": [
    "/*\n",
    "Time Complexity: O(nlogn).\n",
    "Auxiliary Space : O(1)\n",
    "*/"
   ]
  },
  {
   "cell_type": "code",
   "execution_count": null,
   "metadata": {},
   "outputs": [],
   "source": []
  },
  {
   "cell_type": "markdown",
   "metadata": {},
   "source": [
    "**------------------------Questions Covered-----------------------------**"
   ]
  },
  {
   "cell_type": "markdown",
   "metadata": {},
   "source": [
    "***6\tGreedy\thttps://www.geeksforgeeks.org/paper-cut-minimum-number-squares/\t\t\t\t\t\t\t\t\t\t\t\t\t\t\t\t\t\t\t\t\t\t\t\t\t\n",
    "6\tGreedy\thttps://www.geeksforgeeks.org/lexicographically-smallest-array-k-consecutive-swaps/\t\t\t\t\t\t\t\t\t\t\t\t\t\t\t\t\t\t\t\t\t\t\t\t\t\n",
    "6\tGreedy\thttps://www.geeksforgeeks.org/rearrange-characters-string-no-two-adjacent/\t\t\t\t\t\t\t\t\t\t\t\t\t\t\t\t\t\t\t\t\t\t\t\t\t\n",
    "6\tGreedy\thttps://www.geeksforgeeks.org/find-maximum-height-pyramid-from-the-given-array-of-objects/\t\t\t\t\t\t\t\t\t\t\t\t\t\t\t\t\t\t\t\t\t\t\t\t\t\n",
    "6\tGreedy\thttps://www.geeksforgeeks.org/minimum-cost-for-acquiring-all-coins-with-k-extra-coins-allowed-with-every-coin/\t\t\t\t\t\t\t\t\t\t\t\t\t\t\t\t\t\t\t\t\t\t\t\t\t\n",
    "6\tGreedy\thttps://www.geeksforgeeks.org/find-maximum-sum-possible-equal-sum-three-stacks/\t\t\t\t\t\t\t\t\t\t\t\t\t\t\t\t\t\t\t\t\t\t\t\t\t\n",
    "6\tGreedy\thttps://www.geeksforgeeks.org/maximize-array-sun-after-k-negation-operations/\t\t\t\t\t\t\t\t\t\t\t\t\t\t\t\t\t\t\t\t\t\t\t\t\t\n",
    "6\tGreedy\thttps://www.geeksforgeeks.org/minimum-cost-cut-board-squares/\t\t\t\t\t\t\t\t\t\t\t\t\t\t\t\t\t\t\t\t\t\t\t\t\t\n",
    "6\tGreedy\thttps://www.geeksforgeeks.org/minimize-cash-flow-among-given-set-friends-borrowed-money/\t\t\t\t\t\t\t\t\t\t\t\t\t\t\t\t\t\t\t\t\t\t\t\t\t\n",
    "6\tGreedy\thttps://www.geeksforgeeks.org/minimum-edges-reverse-make-path-source-destination/\tgreedy + dp\t\t\t\t\t\t\t\t\t\t\t\t\t\t\t\t\t\t\t\t\t\t\t\t\n",
    "7\tDynamic Programming\thttps://www.geeksforgeeks.org/ugly-numbers/\ttbd\t\t\t\t\t\t\t\t\t\t\t\t\t\t\t\t\t\t\t\t\t\t\t\t\n",
    "7\tDynamic Programming\thttps://www.geeksforgeeks.org/super-ugly-number-number-whose-prime-factors-given-set/\ttbd\t\t\t\t\t\t\t\t\t\t\t\t\t\t\t\t\t\t\t\t\t\t\t\t\n",
    "7\tDynamic Programming\thttps://www.geeksforgeeks.org/maximum-size-sub-matrix-with-all-1s-in-a-binary-matrix/\tfinished\t\t\t\t\t\t\t\t\t\t\t\t\t\t\t\t\t\t\t\t\t\t\t\t\n",
    "7\tDynamic Programming\thttps://www.geeksforgeeks.org/dynamic-programming-subset-sum-problem/\tfinished\t\t\t\t\t\t\t\t\t\t\t\t\t\t\t\t\t\t\t\t\t\t\t\t\n",
    "7\tDynamic Programming\thttps://www.geeksforgeeks.org/minimum-number-of-jumps-to-reach-end-of-a-given-array/\tfinished***"
   ]
  },
  {
   "cell_type": "code",
   "execution_count": 87,
   "metadata": {},
   "outputs": [],
   "source": [
    "import java.util.*;\n",
    "import java.io.*;\n",
    "import java.util.Arrays;\n",
    "String[] args =new String[0];"
   ]
  },
  {
   "cell_type": "markdown",
   "metadata": {},
   "source": [
    "## **181. Paper Cut into Minimum Number of Squares**\n",
    "https://www.geeksforgeeks.org/paper-cut-minimum-number-squares/"
   ]
  },
  {
   "cell_type": "code",
   "execution_count": 88,
   "metadata": {},
   "outputs": [],
   "source": [
    "/*\n",
    "Given a paper of size A x B. \n",
    "Task is to cut the paper into squares of any size. \n",
    "Find the minimum number of squares that can be cut from the paper.\n",
    "*/"
   ]
  },
  {
   "cell_type": "code",
   "execution_count": 89,
   "metadata": {},
   "outputs": [],
   "source": [
    "/*\n",
    "Examples:\n",
    "\n",
    "Input  : 13 x 29\n",
    "Output : 9\n",
    "Explanation : \n",
    "2 (squares of size 13x13) + \n",
    "4 (squares of size 3x3) + \n",
    "3 (squares of size 1x1)=9\n",
    "\n",
    "Input  : 4 x 5\n",
    "Output : 5\n",
    "Explanation : \n",
    "1 (squares of size 4x4) + \n",
    "4 (squares of size 1x1)\n",
    "*/"
   ]
  },
  {
   "cell_type": "code",
   "execution_count": 90,
   "metadata": {},
   "outputs": [],
   "source": [
    "/*\n",
    "We know that \n",
    "if we want to cut minimum number of squares from the paper \n",
    "    then we would have to cut largest square possible from the paper first \n",
    "         and largest square will have same side as smaller side of the paper. \n",
    "         \n",
    "For example \n",
    "    if paper have the size 13 x 29, \n",
    "        then maximum square will be of side 13. \n",
    "        so we can cut 2 square of size 13 x 13 (29/13 = 2). \n",
    "    Now remaining paper will have size 3 x 13. \n",
    "\n",
    "    Similarly we can cut remaining paper by using 4 squares of size 3 x 3 and 3 squares of 1 x 1. \n",
    "    So minimum 9 squares can be cut from the Paper of size 13 x 29.\n",
    "*/"
   ]
  },
  {
   "cell_type": "markdown",
   "metadata": {},
   "source": [
    "<img src = \"https://media.geeksforgeeks.org/wp-content/uploads/PaperCut.png\"/>"
   ]
  },
  {
   "cell_type": "code",
   "execution_count": 91,
   "metadata": {},
   "outputs": [],
   "source": [
    "// To swap two numbers \n",
    "static void swap(int a,int b) \n",
    "{ \n",
    "    int temp = a; \n",
    "    a = b; \n",
    "    b = temp; \n",
    "} "
   ]
  },
  {
   "cell_type": "code",
   "execution_count": 92,
   "metadata": {},
   "outputs": [],
   "source": [
    "// Returns min number of squares needed \n",
    "static int minimumSquare(int a, int b) \n",
    "{ \n",
    "    int result = 0, rem = 0; \n",
    "  \n",
    "    // swap if a is small size side . \n",
    "    if (a < b) \n",
    "        swap(a, b); \n",
    "  \n",
    "    // Iterate until small size side is \n",
    "    // greater then 0 \n",
    "    while (b > 0) \n",
    "    { \n",
    "        // Update result \n",
    "        result += a/b; \n",
    "        rem = a % b; \n",
    "        a = b; \n",
    "        b = rem; \n",
    "    } \n",
    "  \n",
    "    return result; \n",
    "} "
   ]
  },
  {
   "cell_type": "code",
   "execution_count": 93,
   "metadata": {},
   "outputs": [
    {
     "name": "stdout",
     "output_type": "stream",
     "text": [
      "9\n"
     ]
    }
   ],
   "source": [
    "// Driver code \n",
    "public static void main(String[] args) \n",
    "{ \n",
    "    int n = 13, m = 29; \n",
    "    System.out.println(minimumSquare(n, m)); \n",
    "} \n",
    "main(args);"
   ]
  },
  {
   "cell_type": "code",
   "execution_count": 94,
   "metadata": {},
   "outputs": [],
   "source": [
    "/*\n",
    "Note that the above Greedy solution doesn’t always produce optimal result. \n",
    "For example \n",
    "    if input is 36 x 30, \n",
    "        the above algorithm would produce output 6, \n",
    "        but we can cut the paper in 5 squares\n",
    "        1) Three squares of size 12 x 12\n",
    "        2) Two squares of size 18 x 18.\n",
    "*/"
   ]
  },
  {
   "cell_type": "markdown",
   "metadata": {},
   "source": [
    "## **182. Lexicographically smallest array after at-most K consecutive swaps**\n",
    "https://www.geeksforgeeks.org/lexicographically-smallest-array-k-consecutive-swaps/"
   ]
  },
  {
   "cell_type": "code",
   "execution_count": 95,
   "metadata": {},
   "outputs": [],
   "source": [
    "/*\n",
    "Given an array arr[], \n",
    "    find the lexicographically smallest array that can be obtained after performing at maximum of k consecutive swaps.\n",
    "*/"
   ]
  },
  {
   "cell_type": "code",
   "execution_count": 96,
   "metadata": {},
   "outputs": [],
   "source": [
    "/*\n",
    "Examples :\n",
    "\n",
    "Input: arr[] = {7, 6, 9, 2, 1}\n",
    "        k = 3\n",
    "Output: arr[] = {2, 7, 6, 9, 1}\n",
    "Explanation: Array is: 7, 6, 9, 2, 1\n",
    "Swap 1:   7, 6, 2, 9, 1\n",
    "Swap 2:   7, 2, 6, 9, 1\n",
    "Swap 3:   2, 7, 6, 9, 1\n",
    "So Our final array after k = 3 swaps : \n",
    "2, 7, 6, 9, 1\n",
    "\n",
    "Input: arr[] = {7, 6, 9, 2, 1}\n",
    "        k = 1\n",
    "Output: arr[] = {6, 7, 9, 2, 1}\n",
    "*/"
   ]
  },
  {
   "cell_type": "code",
   "execution_count": 97,
   "metadata": {},
   "outputs": [],
   "source": [
    "/*\n",
    "Naive approach \n",
    "    is to generate all the permutation of array and pick the smallest one which satisfy the condition of at-most k swaps. \n",
    "    Time complexity of this approach is Ω(n!), which will definitely time out for large value of n.\n",
    "*/"
   ]
  },
  {
   "cell_type": "code",
   "execution_count": 98,
   "metadata": {},
   "outputs": [],
   "source": [
    "/*\n",
    "An Efficient approach\n",
    "Time complexity: O(N^2)\n",
    "Auxiliary space: O(1)\n",
    "\n",
    "    is to think greedily. \n",
    "    We first pick the smallest element from array a1, a2, a3…(ak or an) [We consider ak when k is smaller, else n]. \n",
    "    We place the smallest element to the a0 position after shifting all these elements by 1 position right. \n",
    "    We subtract number of swaps (number of swaps is number of shifts minus 1) from k. \n",
    "    If still we are left with k > 0 \n",
    "        then we apply the same procedure from the very next starting position \n",
    "        i.e., a2, a3,…(ak or an) \n",
    "        and then place it to the a1 position. \n",
    "So we keep applying the same process until k becomes 0.\n",
    "*/"
   ]
  },
  {
   "cell_type": "code",
   "execution_count": 99,
   "metadata": {},
   "outputs": [],
   "source": [
    "// Modifies arr[0..n-1] to lexicographically \n",
    "// smallest with k swaps. \n",
    "static void minimizeWithKSwaps(int arr[], int n, int k) \n",
    "{ \n",
    "    for (int i = 0; i < n-1 && k > 0; ++i) \n",
    "    { \n",
    "\n",
    "        // Set the position where we want \n",
    "        // to put the smallest integer \n",
    "        int pos = i; \n",
    "        for (int j = i+1; j < n ; ++j) \n",
    "        { \n",
    "\n",
    "            // If we exceed the Max swaps \n",
    "            // then terminate the loop \n",
    "            if (j - i > k) \n",
    "                break; \n",
    "\n",
    "            // Find the minimum value from i+1 to \n",
    "            // max k or n \n",
    "            if (arr[j] < arr[pos]) \n",
    "                pos = j; \n",
    "        } \n",
    "\n",
    "        // Swap the elements from Minimum position \n",
    "        // we found till now to the i index \n",
    "        int temp; \n",
    "\n",
    "        for (int j = pos; j>i; --j) \n",
    "        { \n",
    "            temp=arr[j]; \n",
    "            arr[j]=arr[j-1]; \n",
    "            arr[j-1]=temp; \n",
    "        } \n",
    "\n",
    "        // Set the final value after swapping pos-i \n",
    "        // elements \n",
    "        k -= pos-i; \n",
    "    } \n",
    "} "
   ]
  },
  {
   "cell_type": "code",
   "execution_count": 100,
   "metadata": {},
   "outputs": [
    {
     "name": "stdout",
     "output_type": "stream",
     "text": [
      "2 7 6 9 1 "
     ]
    }
   ],
   "source": [
    "// Driver method \n",
    "public static void main(String[] args) \n",
    "{ \n",
    "\n",
    "    int arr[] = {7, 6, 9, 2, 1}; \n",
    "    int n = arr.length; \n",
    "    int k = 3; \n",
    "\n",
    "    minimizeWithKSwaps(arr, n, k); \n",
    "\n",
    "    //Print the final Array \n",
    "    for (int i=0; i<n; ++i) \n",
    "        System.out.print(arr[i] +\" \"); \n",
    "}\n",
    "main(args);"
   ]
  },
  {
   "cell_type": "markdown",
   "metadata": {},
   "source": [
    "## **183. Rearrange characters in a string such that no two adjacent are same**\n",
    "https://www.geeksforgeeks.org/rearrange-characters-string-no-two-adjacent/"
   ]
  },
  {
   "cell_type": "code",
   "execution_count": 101,
   "metadata": {},
   "outputs": [],
   "source": [
    "/*\n",
    "Given a string with repeated characters, \n",
    "the task is to rearrange characters in a string so that no two adjacent characters are same.\n",
    "\n",
    "Note : It may be assumed that the string has only lowercase English alphabets.\n",
    "*/"
   ]
  },
  {
   "cell_type": "code",
   "execution_count": 102,
   "metadata": {},
   "outputs": [],
   "source": [
    "/*\n",
    "Examples:\n",
    "\n",
    "Input: aaabc \n",
    "Output: abaca \n",
    "\n",
    "Input: aaabb\n",
    "Output: ababa \n",
    "\n",
    "Input: aa \n",
    "Output: Not Possible\n",
    "\n",
    "Input: aaaabc \n",
    "Output: Not Possible\n",
    "*/"
   ]
  },
  {
   "cell_type": "code",
   "execution_count": 103,
   "metadata": {},
   "outputs": [],
   "source": [
    "/*\n",
    "Time complexity : O(nlog(n))\n",
    "\n",
    "The idea is to put the highest frequency character first (a greedy approach). \n",
    "We use a priority queue (Or Binary Max Heap) and put all characters and ordered by their frequencies (highest frequency character at root). \n",
    "We one by one take the highest frequency character from the heap and add it to result.\n",
    "After we add, we decrease the frequency of the character and we temporarily move this character out of priority queue \n",
    "so that it is not picked next time.\n",
    "\n",
    "We have to follow the step to solve this problem, they are:\n",
    "\n",
    "1. Build a Priority_queue or max_heap, pq that stores characters and their frequencies.\n",
    "        Priority_queue or max_heap is built on the bases of the frequency of character.\n",
    "2. Create a temporary Key that will be used as the previously visited element \n",
    "        (the previous element in the resultant string. Initialize it { char = ‘#’ , freq = ‘-1’ }\n",
    "3. While pq is not empty.\n",
    "    Pop an element and add it to the result.\n",
    "    Decrease frequency of the popped element by ‘1’\n",
    "    Push the previous element back into the priority_queue if it’s frequency > ‘0’\n",
    "    Make the current element as the previous element for the next iteration.\n",
    "4. If the length of the resultant string and original string is not equal, \n",
    "        print “not possible”. \n",
    "    Else \n",
    "        print result.\n",
    "\n",
    "Below is the implementation of above idea\n",
    "*/"
   ]
  },
  {
   "cell_type": "code",
   "execution_count": 104,
   "metadata": {},
   "outputs": [],
   "source": [
    "class Key { \n",
    "      int freq; // store frequency of character \n",
    "      char ch; \n",
    "      Key(int val, char c)  \n",
    "      { \n",
    "          freq = val;  \n",
    "          ch = c; \n",
    "      } \n",
    "}"
   ]
  },
  {
   "cell_type": "code",
   "execution_count": 105,
   "metadata": {},
   "outputs": [],
   "source": [
    "class KeyComparator implements Comparator<Key> { \n",
    "  \n",
    "      // Overriding compare()method of Comparator \n",
    "      public int compare(Key k1, Key k2) \n",
    "      { \n",
    "             if (k1.freq < k2.freq) \n",
    "                 return 1; \n",
    "             else if (k1.freq > k2.freq) \n",
    "                 return -1; \n",
    "             return 0; \n",
    "      } \n",
    "} "
   ]
  },
  {
   "cell_type": "code",
   "execution_count": 106,
   "metadata": {},
   "outputs": [],
   "source": [
    "static int MAX_CHAR = 26;"
   ]
  },
  {
   "cell_type": "code",
   "execution_count": 107,
   "metadata": {},
   "outputs": [],
   "source": [
    "// Function to rearrange character of a string \n",
    "// so that no char repeat twice \n",
    "static void rearrangeString(String str) \n",
    "{ \n",
    "     int n = str.length(); \n",
    "\n",
    "     // Store frequencies of all characters in string \n",
    "     int[] count = new int[MAX_CHAR]; \n",
    "\n",
    "     for (int i = 0; i < n; i++) \n",
    "          count[str.charAt(i) - 'a']++; \n",
    "\n",
    "      // Insert all characters with their frequencies \n",
    "      // into a priority_queue  \n",
    "      PriorityQueue<Key> pq = new PriorityQueue<>(new \n",
    "                                                  KeyComparator()); \n",
    "      for (char c = 'a'; c <= 'z'; c++) { \n",
    "           int val = c - 'a'; \n",
    "           if (count[val] > 0) \n",
    "               pq.add(new Key(count[val], c)); \n",
    "      } \n",
    "\n",
    "      // 'str' that will store resultant value \n",
    "      str = \"\" ; \n",
    "\n",
    "      // work as the previous visited element \n",
    "      // initial previous element be. ( '#' and \n",
    "      // it's frequency '-1' ) \n",
    "      Key prev = new Key(-1, '#'); \n",
    "\n",
    "      // traverse queue \n",
    "      while (pq.size() != 0) { \n",
    "\n",
    "             // pop top element from queue and add it \n",
    "             // to string. \n",
    "             Key k = pq.peek(); \n",
    "             pq.poll(); \n",
    "             str = str + k.ch; \n",
    "\n",
    "             // If frequency of previous character is less \n",
    "             // than zero that means it is useless, we \n",
    "             // need not to push it  \n",
    "             if (prev.freq > 0) \n",
    "                 pq.add(prev); \n",
    "\n",
    "             // make current character as the previous 'char' \n",
    "             // decrease frequency by 'one' \n",
    "             (k.freq)--; \n",
    "              prev = k; \n",
    "      } \n",
    "\n",
    "      // If length of the resultant string and original \n",
    "      // string is not same then string is not valid \n",
    "      if (n != str.length()) \n",
    "          System.out.println(\" Not valid String \"); \n",
    "      else\n",
    "          System.out.println(str); \n",
    "} "
   ]
  },
  {
   "cell_type": "code",
   "execution_count": 108,
   "metadata": {},
   "outputs": [
    {
     "name": "stdout",
     "output_type": "stream",
     "text": [
      "babab\n"
     ]
    }
   ],
   "source": [
    "// Driver program to test above function  \n",
    "public static void main(String args[]) \n",
    "{ \n",
    "     String str = \"bbbaa\" ; \n",
    "     rearrangeString(str); \n",
    "} \n",
    "main(args)"
   ]
  },
  {
   "cell_type": "markdown",
   "metadata": {},
   "source": [
    "## **184. Find maximum height pyramid from the given array of objects**\n",
    "https://www.geeksforgeeks.org/find-maximum-height-pyramid-from-the-given-array-of-objects/"
   ]
  },
  {
   "cell_type": "code",
   "execution_count": 109,
   "metadata": {},
   "outputs": [],
   "source": [
    "/*\n",
    "Given n objects, with each object has width wi. We need to arrange them in a pyramidal way such that :\n",
    "\n",
    "    Total width of ith is less than (i + 1)th.\n",
    "    Total number of objects in the ith is less than (i + 1)th.\n",
    "\n",
    "The task is to find the maximum height that can be achieved from given objects.\n",
    "*/"
   ]
  },
  {
   "cell_type": "markdown",
   "metadata": {},
   "source": [
    "<img src= \"https://media.geeksforgeeks.org/wp-content/uploads/maximumHeightPyramid-1.jpg\"/>"
   ]
  },
  {
   "cell_type": "code",
   "execution_count": 110,
   "metadata": {},
   "outputs": [],
   "source": [
    "/*\n",
    "Examples :\n",
    "\n",
    "Input : arr[] = {40, 100, 20, 30}\n",
    "Output : 2\n",
    "Top level : 30.\n",
    "Lower (or bottom) level : 20, 40 and 100\n",
    "Other possibility can be placing\n",
    "20 on the top, and at second level any\n",
    "other 4 objects. Another possibility is\n",
    "to place 40 at top and other three at the\n",
    "bottom.\n",
    "\n",
    "Input : arr[] = {10, 20, 30, 50, 60, 70}\n",
    "Output : 3\n",
    "*/"
   ]
  },
  {
   "cell_type": "code",
   "execution_count": 111,
   "metadata": {},
   "outputs": [],
   "source": [
    "/*\n",
    "Time Complexity : O(n log n)\n",
    "\n",
    "The idea is to use greedy approach by placing the object with the lowest width at the top, \n",
    "the next object at the level right below and so on.\n",
    "\n",
    "To find the maximum number of levels, --->\n",
    "\n",
    "sort the given array and try to form pyramid from top to bottom. \n",
    "Find the smallest element of array \n",
    "    i.e first element of array after sorting, place it on the top. \n",
    "Then try to build levels below it with greater number of objects and greater width.\n",
    "*/"
   ]
  },
  {
   "cell_type": "code",
   "execution_count": 112,
   "metadata": {},
   "outputs": [],
   "source": [
    "// Returns maximum number of pyramidcal \n",
    "// levels n boxes of given widths. \n",
    "static int maxLevel(int []boxes, int n) \n",
    "{ \n",
    "\n",
    "    // Sort objects in increasing order \n",
    "    // of widths \n",
    "    Arrays.sort(boxes); \n",
    "\n",
    "    int ans = 1; // Initialize result \n",
    "\n",
    "    // Total width of previous level  \n",
    "    // and total number of objects in \n",
    "    // previous level \n",
    "    int prev_width = boxes[0]; \n",
    "    int prev_count = 1; \n",
    "\n",
    "    // Number of object in current \n",
    "    // level. \n",
    "    int curr_count = 0; \n",
    "\n",
    "    // Width of current level. \n",
    "    int curr_width = 0; \n",
    "    for (int i = 1; i < n; i++) \n",
    "    { \n",
    "        // Picking the object. So \n",
    "        // increase current width \n",
    "        // and number of object. \n",
    "        curr_width += boxes[i]; \n",
    "        curr_count += 1; \n",
    "\n",
    "        // If current width and  \n",
    "        // number of object \n",
    "        // are greater than previous. \n",
    "        if (curr_width > prev_width && \n",
    "            curr_count > prev_count) \n",
    "        { \n",
    "\n",
    "            // Update previous width, \n",
    "            // number of object on  \n",
    "            // previous level. \n",
    "            prev_width = curr_width; \n",
    "            prev_count = curr_count; \n",
    "\n",
    "            // Reset width of current \n",
    "            // level, number of object  \n",
    "            // on current level. \n",
    "            curr_count = 0; \n",
    "            curr_width = 0; \n",
    "\n",
    "            // Increment number of \n",
    "            // level. \n",
    "            ans++; \n",
    "        } \n",
    "    } \n",
    "\n",
    "    return ans; \n",
    "} "
   ]
  },
  {
   "cell_type": "code",
   "execution_count": 113,
   "metadata": {},
   "outputs": [
    {
     "name": "stdout",
     "output_type": "stream",
     "text": [
      "3\n"
     ]
    }
   ],
   "source": [
    "// Driver Program \n",
    "static public void main (String[] args) \n",
    "{ \n",
    "    int []boxes = {10, 20, 30, 50, 60, 70}; \n",
    "    int n = boxes.length; \n",
    "    System.out.println(maxLevel(boxes, n)); \n",
    "} \n",
    "main(args);"
   ]
  },
  {
   "cell_type": "markdown",
   "metadata": {},
   "source": [
    "**Related Link** ***https://www.geeksforgeeks.org/maximum-height-of-triangular-arrangement-of-array-values/***"
   ]
  },
  {
   "cell_type": "markdown",
   "metadata": {},
   "source": [
    "## **185. Minimum cost for acquiring all coins with k extra coins allowed with every coin**\n",
    "https://www.geeksforgeeks.org/minimum-cost-for-acquiring-all-coins-with-k-extra-coins-allowed-with-every-coin/"
   ]
  },
  {
   "cell_type": "code",
   "execution_count": 114,
   "metadata": {},
   "outputs": [],
   "source": [
    "/*\n",
    "You are given a list of N coins of different denominations. \n",
    "you can pay an amount equivalent to any 1 coin and can acquire that coin. \n",
    "In addition, \n",
    "    once you have paid for a coin, \n",
    "    we can choose at most K more coins and can acquire those for free.\n",
    "    \n",
    "The task is to find the minimum amount required to acquire all the N coins for a given value of K.\n",
    "*/"
   ]
  },
  {
   "cell_type": "code",
   "execution_count": 115,
   "metadata": {},
   "outputs": [],
   "source": [
    "/*\n",
    "Examples :\n",
    "\n",
    "Input : coin[] = {100, 20, 50, 10, 2, 5}, \n",
    "        k = 3\n",
    "Output : 7\n",
    "\n",
    "Input : coin[] = {1, 2, 5, 10, 20, 50}, \n",
    "        k = 3\n",
    "Output : 3\n",
    "*/"
   ]
  },
  {
   "cell_type": "code",
   "execution_count": 116,
   "metadata": {},
   "outputs": [],
   "source": [
    "/*\n",
    "As per question, we can see that at a cost of 1 coin, we can acquire at most K+1 coins. \n",
    "Therefore, in order to acquire all the n coins, we will be choosing ceil(n/(k+1)) coins and \n",
    "the cost of choosing coins will be minimum if we choose smallest ceil(n/(k+1)) ( Greedy approach).\n",
    "\n",
    "Smallest ceil(n/(k+1)) coins can be found by simply sorting all the N values in increasing order.\n",
    "If we should check for time complexity (n log n) is for sorting element and (k) is for adding the total amount. \n",
    "So, finally Time Complexity : O(n log n).\n",
    "*/"
   ]
  },
  {
   "cell_type": "code",
   "execution_count": 117,
   "metadata": {},
   "outputs": [],
   "source": [
    "// function to calculate min cost \n",
    "static int minCost(int coin[],  \n",
    "                   int n, int k) \n",
    "{ \n",
    "\n",
    "    // sort the coins value \n",
    "    Arrays.sort(coin); \n",
    "\n",
    "    // calculate no. of  \n",
    "    // coins needed \n",
    "    int coins_needed = (int)Math.ceil(1.0 * \n",
    "                              n / (k + 1)); \n",
    "\n",
    "    // calculate sum of  \n",
    "    // all selected coins \n",
    "    int ans = 0; \n",
    "\n",
    "    for (int i = 0; i <= coins_needed - 1;  \n",
    "                                      i++) \n",
    "        ans += coin[i]; \n",
    "\n",
    "    return ans; \n",
    "} "
   ]
  },
  {
   "cell_type": "code",
   "execution_count": 118,
   "metadata": {},
   "outputs": [
    {
     "name": "stdout",
     "output_type": "stream",
     "text": [
      "3"
     ]
    }
   ],
   "source": [
    "// Driver code \n",
    "public static void main(String arg[]) \n",
    "{ \n",
    "    int coin[] = { 8, 5, 3, 10,  \n",
    "                   2, 1, 15, 25 }; \n",
    "    int n = coin.length; \n",
    "    int k = 3; \n",
    "\n",
    "    System.out.print(minCost(coin, n, k)); \n",
    "} \n",
    "main(args);"
   ]
  },
  {
   "cell_type": "code",
   "execution_count": 119,
   "metadata": {},
   "outputs": [],
   "source": [
    "/*\n",
    "How to handle multiple queries for a single predefined array?\n",
    "\n",
    "In the case, \n",
    "    if you are asked to find the above answer for many different values of K, \n",
    "    you have to compute it fast and our time complexity got increased as per number of queries for k. \n",
    "For the purpose to serve, \n",
    "    we can maintain a prefix sum array after sorting all the N values and can answer queries easily and quickly.\n",
    "    \n",
    "After preprocessing, every query for a k takes O(1) time.\n",
    "*/"
   ]
  },
  {
   "cell_type": "code",
   "execution_count": 120,
   "metadata": {},
   "outputs": [],
   "source": [
    "// Converts coin[] to prefix sum array \n",
    "static void preprocess(int []coin, int n) \n",
    "{ \n",
    "\n",
    "    // sort the coins value \n",
    "    Arrays.sort(coin); \n",
    "\n",
    "    // Maintain prefix sum array \n",
    "    for (int i = 1; i <= n - 1; i++) \n",
    "        coin[i] += coin[i - 1]; \n",
    "} "
   ]
  },
  {
   "cell_type": "code",
   "execution_count": 121,
   "metadata": {},
   "outputs": [],
   "source": [
    "// Function to calculate min cost when we \n",
    "// can get k extra coins after paying  \n",
    "// cost of one. \n",
    "static int minCost(int []coin, int n, int k) \n",
    "{ \n",
    "\n",
    "    // calculate no. of coins needed \n",
    "    int coins_needed =(int) Math.ceil(1.0 \n",
    "                            * n / (k + 1)); \n",
    "\n",
    "    // return sum of from prefix array \n",
    "    return coin[coins_needed - 1]; \n",
    "} "
   ]
  },
  {
   "cell_type": "code",
   "execution_count": 122,
   "metadata": {},
   "outputs": [
    {
     "name": "stdout",
     "output_type": "stream",
     "text": [
      "3\n",
      "1\n"
     ]
    }
   ],
   "source": [
    "// Driver Code \n",
    "static public void main (String[] args) \n",
    "{ \n",
    "    int []coin = {8, 5, 3, 10, 2, 1, 15, 25}; \n",
    "    int n = coin.length; \n",
    "\n",
    "    preprocess(coin, n); \n",
    "\n",
    "    int k = 3; \n",
    "    System.out.println(minCost(coin, n, k)); \n",
    "\n",
    "    k = 7; \n",
    "    System.out.println( minCost(coin, n, k)); \n",
    "} \n",
    "main(args);"
   ]
  },
  {
   "cell_type": "markdown",
   "metadata": {},
   "source": [
    "## **186. Find maximum sum possible equal sum of three stacks**\n",
    "https://www.geeksforgeeks.org/find-maximum-sum-possible-equal-sum-three-stacks/"
   ]
  },
  {
   "cell_type": "code",
   "execution_count": 123,
   "metadata": {},
   "outputs": [],
   "source": [
    "/*\n",
    "Given three stack of the positive numbers, \n",
    "    the task is to find the possible equal maximum sum of the stacks with removal of top elements allowed. \n",
    "    Stacks are represented as array, and the first index of the array represent the top element of the stack.\n",
    "*/"
   ]
  },
  {
   "cell_type": "code",
   "execution_count": 124,
   "metadata": {},
   "outputs": [],
   "source": [
    "/*\n",
    "Examples:\n",
    "\n",
    "Input : \n",
    "  stack1[] = { 3, 10}\n",
    "  stack2[] = { 4, 5 }\n",
    "  stack3[] = { 2, 1 }\n",
    "Output : 0\n",
    "Sum can only be equal after removing all elements \n",
    "from all stacks.\n",
    "*/"
   ]
  },
  {
   "cell_type": "markdown",
   "metadata": {},
   "source": [
    "<img src = \"https://media.geeksforgeeks.org/wp-content/cdn-uploads/Find-maximum-sum-possible-equal-sum-of-three-stacks-2.png\"/>"
   ]
  },
  {
   "cell_type": "code",
   "execution_count": 125,
   "metadata": {},
   "outputs": [],
   "source": [
    "/*\n",
    "The idea is to compare the sum of each stack, \n",
    "if they are not same, \n",
    "    remove the top element of the stack having the maximum sum.\n",
    "*/"
   ]
  },
  {
   "cell_type": "code",
   "execution_count": 126,
   "metadata": {},
   "outputs": [],
   "source": [
    "/*\n",
    "Algorithm for solving this problem:\n",
    "\n",
    "1. Find sum of all elements of in individual stacks.\n",
    "2. If the sum of all three stacks is same, then this is the maximum sum.\n",
    "3. Else remove the top element of the stack having the maximum sum among three of stacks. Repeat step 1 and step 2.\n",
    "*/"
   ]
  },
  {
   "cell_type": "code",
   "execution_count": 127,
   "metadata": {},
   "outputs": [],
   "source": [
    "/*\n",
    "The approach works because elements are positive. \n",
    "To make sum equal, \n",
    "    we must remove some element from stack having more sum and we can only remove from top.\n",
    "*/"
   ]
  },
  {
   "cell_type": "code",
   "execution_count": 128,
   "metadata": {},
   "outputs": [],
   "source": [
    "// Returns maximum possible equal sum of three  \n",
    "// stacks with removal of top elements allowed \n",
    "public static int maxSum(int stack1[], int stack2[], \n",
    "                        int stack3[], int n1, int n2, \n",
    "                                           int n3) \n",
    "{ \n",
    "  int sum1 = 0, sum2 = 0, sum3 = 0; \n",
    "\n",
    "  // Finding the initial sum of stack1. \n",
    "  for (int i=0; i < n1; i++) \n",
    "      sum1 += stack1[i]; \n",
    "\n",
    "  // Finding the initial sum of stack2. \n",
    "  for (int i=0; i < n2; i++) \n",
    "      sum2 += stack2[i]; \n",
    "\n",
    "  // Finding the initial sum of stack3. \n",
    "  for (int i=0; i < n3; i++) \n",
    "      sum3 += stack3[i]; \n",
    "\n",
    "  // As given in question, first element is top \n",
    "  // of stack.. \n",
    "  int top1 =0, top2 = 0, top3 = 0; \n",
    "  int ans = 0; \n",
    "  while (true) \n",
    "  { \n",
    "      // If any stack is empty \n",
    "      if (top1 == n1 || top2 == n2 || top3 == n3) \n",
    "         return 0; \n",
    "\n",
    "      // If sum of all three stack are equal. \n",
    "      if (sum1 == sum2 && sum2 == sum3) \n",
    "         return sum1; \n",
    "\n",
    "      // Finding the stack with maximum sum and  \n",
    "      // removing its top element. \n",
    "      if (sum1 >= sum2 && sum1 >= sum3) \n",
    "         sum1 -= stack1[top1++]; \n",
    "      else if (sum2 >= sum3 && sum2 >= sum3) \n",
    "         sum2 -= stack2[top2++]; \n",
    "      else if (sum3 >= sum2 && sum3 >= sum1) \n",
    "         sum3 -= stack3[top3++]; \n",
    "   } \n",
    "} "
   ]
  },
  {
   "cell_type": "code",
   "execution_count": 129,
   "metadata": {},
   "outputs": [
    {
     "name": "stdout",
     "output_type": "stream",
     "text": [
      "5\n"
     ]
    }
   ],
   "source": [
    "/* Driver program to test above function */\n",
    "public static void main(String[] args)  \n",
    "{ \n",
    "      int stack1[] = { 3, 2, 1, 1, 1 }; \n",
    "      int stack2[] = { 4, 3, 2 }; \n",
    "      int stack3[] = { 1, 1, 4, 1 }; \n",
    "\n",
    "      int n1 = stack1.length; \n",
    "      int n2 = stack2.length; \n",
    "      int n3 = stack3.length; \n",
    "\n",
    "      System.out.println(maxSum(stack1, stack2,  \n",
    "                           stack3, n1, n2, n3)); \n",
    "} \n",
    "main(args);"
   ]
  },
  {
   "cell_type": "markdown",
   "metadata": {},
   "source": [
    "***https://youtu.be/PZ-TNgKVX-0***"
   ]
  },
  {
   "cell_type": "markdown",
   "metadata": {},
   "source": [
    "## **187. Maximize array sum after K negations | Set 1**\n",
    "https://www.geeksforgeeks.org/maximize-array-sun-after-k-negation-operations/"
   ]
  },
  {
   "cell_type": "code",
   "execution_count": 130,
   "metadata": {},
   "outputs": [],
   "source": [
    "/*\n",
    "Given an array of size n and a number k. \n",
    "We must modify array K number of times. \n",
    "Here modify array means in each operation we can replace any array element arr[i] by -arr[i]. \n",
    "We need to perform this operation in such a way that after K operations, sum of array must be maximum?\n",
    "*/"
   ]
  },
  {
   "cell_type": "markdown",
   "metadata": {},
   "source": [
    "**Related Link** ***https://www.geeksforgeeks.org/maximize-array-sum-k-negations-set-2/***"
   ]
  },
  {
   "cell_type": "code",
   "execution_count": 131,
   "metadata": {},
   "outputs": [],
   "source": [
    "/*\n",
    "Examples :\n",
    "\n",
    "Input : arr[] = {-2, 0, 5, -1, 2} \n",
    "        K = 4\n",
    "Output: 10\n",
    "// Replace (-2) by -(-2), array becomes {2, 0, 5, -1, 2}\n",
    "// Replace (-1) by -(-1), array becomes {2, 0, 5, 1, 2}\n",
    "// Replace (0) by -(0), array becomes {2, 0, 5, 1, 2}\n",
    "// Replace (0) by -(0), array becomes {2, 0, 5, 1, 2}\n",
    "\n",
    "Input : arr[] = {9, 8, 8, 5} \n",
    "        K = 3\n",
    "Output: 20\n",
    "*/"
   ]
  },
  {
   "cell_type": "code",
   "execution_count": 132,
   "metadata": {},
   "outputs": [],
   "source": [
    "/*\n",
    "Time Complexity : O(k*n)\n",
    "Auxiliary Space : O(1)\n",
    "\n",
    "This problem has very simple solution, \n",
    "we just have to replace the minimum element arr[i] in array by -arr[i] for current operation. \n",
    "In this way we can make sum of array maximum after K operations. \n",
    "Once interesting case is, once minimum element becomes 0, we don’t need to make any more changes.\n",
    "*/"
   ]
  },
  {
   "cell_type": "code",
   "execution_count": 133,
   "metadata": {},
   "outputs": [],
   "source": [
    "// This function does k operations  \n",
    "// on array in a way that maximize  \n",
    "// the array sum. index --> stores  \n",
    "// the index of current minimum \n",
    "// element for j'th operation \n",
    "static int maximumSum(int arr[], int n, int k) \n",
    "{ \n",
    "    // Modify array K number of times \n",
    "    for (int i = 1; i <= k; i++) \n",
    "    { \n",
    "        int min = +2147483647; \n",
    "        int index = -1; \n",
    "\n",
    "        // Find minimum element in array for \n",
    "        // current operation and modify it \n",
    "        // i.e; arr[j] --> -arr[j] \n",
    "        for (int j=0; j<n; j++) \n",
    "        { \n",
    "            if (arr[j] < min) \n",
    "            { \n",
    "                min = arr[j]; \n",
    "                index = j; \n",
    "            } \n",
    "        } \n",
    "\n",
    "        // this the condition if we find 0 as \n",
    "        // minimum element, so it will useless to \n",
    "        // replace 0 by -(0) for remaining operations \n",
    "        if (min == 0) \n",
    "            break; \n",
    "\n",
    "        // Modify element of array \n",
    "        arr[index] = -arr[index]; \n",
    "    } \n",
    "\n",
    "    // Calculate sum of array \n",
    "    int sum = 0; \n",
    "    for (int i = 0; i < n; i++) \n",
    "        sum += arr[i]; \n",
    "    return sum; \n",
    "} "
   ]
  },
  {
   "cell_type": "code",
   "execution_count": 134,
   "metadata": {},
   "outputs": [
    {
     "name": "stdout",
     "output_type": "stream",
     "text": [
      "10"
     ]
    }
   ],
   "source": [
    "// Driver program \n",
    "public static void main(String arg[]) \n",
    "{ \n",
    "    int arr[] = {-2, 0, 5, -1, 2}; \n",
    "    int k = 4; \n",
    "    int n = arr.length; \n",
    "    System.out.print(maximumSum(arr, n, k)); \n",
    "} \n",
    "main(args)"
   ]
  },
  {
   "cell_type": "markdown",
   "metadata": {},
   "source": [
    "## **188. Minimum Cost to cut a board into squares**\n",
    "https://www.geeksforgeeks.org/minimum-cost-cut-board-squares/"
   ]
  },
  {
   "cell_type": "code",
   "execution_count": 135,
   "metadata": {},
   "outputs": [],
   "source": [
    "/*\n",
    "A board of length m and width n is given, \n",
    "we need to break this board into m*n squares such that cost of breaking is minimum. \n",
    "cutting cost for each edge will be given for the board. \n",
    "In short we need to choose such a sequence of cutting such that cost is minimized.\n",
    "*/"
   ]
  },
  {
   "cell_type": "markdown",
   "metadata": {},
   "source": [
    "<img src = \"https://media.geeksforgeeks.org/wp-content/cdn-uploads/board.png\"/>"
   ]
  },
  {
   "cell_type": "code",
   "execution_count": 136,
   "metadata": {},
   "outputs": [],
   "source": [
    "/*\n",
    "For above board optimal way to cut into square is:\n",
    "Total minimum cost in above case is 42. It is \n",
    "evaluated using following steps.\n",
    "\n",
    "Initial Value : Total_cost = 0\n",
    "Total_cost = Total_cost + edge_cost * total_pieces\n",
    "\n",
    "Cost 4 Horizontal cut         Cost = 0 + 4*1 = 4\n",
    "Cost 4 Vertical cut        Cost = 4 + 4*2 = 12\n",
    "Cost 3 Vertical cut        Cost = 12 + 3*2 = 18\n",
    "Cost 2 Horizontal cut        Cost = 18 + 2*3 = 24\n",
    "Cost 2 Vertical cut        Cost = 24 + 2*3 = 30\n",
    "Cost 1 Horizontal cut        Cost = 30 + 1*4 = 34\n",
    "Cost 1 Vertical cut        Cost = 34 + 1*4 = 38\n",
    "Cost 1 Vertical cut        Cost = 38 + 1*4 = 42\n",
    "*/"
   ]
  },
  {
   "cell_type": "code",
   "execution_count": 137,
   "metadata": {},
   "outputs": [],
   "source": [
    "/*\n",
    "This problem can be solved using greedy approach, \n",
    "\n",
    "If total cost is denoted by S, \n",
    "    then S = a1w1 + a2w2 … + akwk, where wi is a cost of certain edge cutting and ai is corresponding coefficient, \n",
    "    The coefficient ai is determined by the total number of cuts we have competed using edge wi at the end of the cutting process. \n",
    "    \n",
    "Notice that sum of the coefficients are always constant, \n",
    "    hence we want to find a distribution of ai obtainable such that S is minimum. \n",
    "    \n",
    "To do so we perform cuts on highest cost edge as early as possible, which will reach to optimal S. \n",
    "If we encounter several edges having the same cost, \n",
    "    we can cut any one of them first.\n",
    "\n",
    "Below is the solution using above approach, \n",
    "first we sorted the edge cutting costs in reverse order, \n",
    "then we loop in them from higher cost to lower cost building our solution. \n",
    "Each time we choose an edge, counter part count is incremented by 1, \n",
    "    which is to be multiplied each time with corresponding edge cutting cost.\n",
    "    \n",
    "Notice below used sort method, \n",
    "    sending greater() as 3rd argument to sort method sorts number in non-increasing order, \n",
    "    it is predefined function of the library.\n",
    "*/"
   ]
  },
  {
   "cell_type": "code",
   "execution_count": 138,
   "metadata": {},
   "outputs": [],
   "source": [
    "// method returns minimum cost to break board into \n",
    "// m*n squares \n",
    "static int minimumCostOfBreaking(Integer X[], Integer Y[],  \n",
    "                                             int m, int n) \n",
    "{ \n",
    "    int res = 0; \n",
    "\n",
    "    // sort the horizontal cost in reverse order \n",
    "    Arrays.sort(X, Collections.reverseOrder()); \n",
    "\n",
    "    // sort the vertical cost in reverse order \n",
    "    Arrays.sort(Y, Collections.reverseOrder()); \n",
    "\n",
    "    // initialize current width as 1 \n",
    "    int hzntl = 1, vert = 1; \n",
    "\n",
    "    // loop untill one or both \n",
    "    // cost array are processed \n",
    "    int i = 0, j = 0; \n",
    "    while (i < m && j < n) \n",
    "    { \n",
    "        if (X[i] > Y[j]) \n",
    "        { \n",
    "            res += X[i] * vert; \n",
    "\n",
    "            // increase current horizontal \n",
    "            // part count by 1 \n",
    "            hzntl++; \n",
    "            i++; \n",
    "        } \n",
    "        else\n",
    "        { \n",
    "            res += Y[j] * hzntl; \n",
    "\n",
    "            // increase current vertical  \n",
    "            // part count by 1 \n",
    "            vert++; \n",
    "            j++; \n",
    "        } \n",
    "    } \n",
    "\n",
    "    // loop for horizontal array,  \n",
    "    // if remains \n",
    "    int total = 0; \n",
    "    while (i < m) \n",
    "        total += X[i++]; \n",
    "    res += total * vert; \n",
    "\n",
    "    // loop for vertical array,  \n",
    "    // if remains \n",
    "    total = 0; \n",
    "    while (j < n) \n",
    "        total += Y[j++]; \n",
    "    res += total * hzntl; \n",
    "\n",
    "    return res; \n",
    "} "
   ]
  },
  {
   "cell_type": "code",
   "execution_count": 139,
   "metadata": {},
   "outputs": [
    {
     "name": "stdout",
     "output_type": "stream",
     "text": [
      "42"
     ]
    }
   ],
   "source": [
    "// Driver program \n",
    "public static void main(String arg[]) \n",
    "{ \n",
    "    int m = 6, n = 4; \n",
    "    Integer X[] = {2, 1, 3, 1, 4}; \n",
    "    Integer Y[] = {4, 1, 2}; \n",
    "    System.out.print(minimumCostOfBreaking(X, Y, m-1, n-1)); \n",
    "}\n",
    "main(args);"
   ]
  },
  {
   "cell_type": "markdown",
   "metadata": {},
   "source": [
    "## **189. Minimize Cash Flow among a given set of friends who have borrowed money from each other**\n",
    "https://www.geeksforgeeks.org/minimize-cash-flow-among-given-set-friends-borrowed-money/"
   ]
  },
  {
   "cell_type": "code",
   "execution_count": 140,
   "metadata": {},
   "outputs": [],
   "source": [
    "/*\n",
    "Given a number of friends who have to give or take some amount of money from one another. \n",
    "Design an algorithm by which the total cash flow among all the friends is minimized.\n",
    "*/"
   ]
  },
  {
   "cell_type": "code",
   "execution_count": 141,
   "metadata": {},
   "outputs": [],
   "source": [
    "/*\n",
    "Example:\n",
    "Following 1st diagram shows input debts to be settled.\n",
    "Above debts can be settled in following optimized way (2nd diagram)\n",
    "*/"
   ]
  },
  {
   "cell_type": "markdown",
   "metadata": {},
   "source": [
    "<img src = \"https://media.geeksforgeeks.org/wp-content/cdn-uploads/cashFlow.png\"/>"
   ]
  },
  {
   "cell_type": "markdown",
   "metadata": {},
   "source": [
    "<img src = \"https://media.geeksforgeeks.org/wp-content/cdn-uploads/cashFlow1.png\"/>"
   ]
  },
  {
   "cell_type": "code",
   "execution_count": 142,
   "metadata": {},
   "outputs": [],
   "source": [
    "/*\n",
    "Algorithmic Paradigm: Greedy\n",
    "Time Complexity: O(N^2) where N is the number of persons.\n",
    "\n",
    "The idea is to use Greedy algorithm where at every step, \n",
    "    settle all amounts of one person and recur for remaining n-1 persons.\n",
    "\n",
    "How to pick the first person? \n",
    "\n",
    "To pick the first person, \n",
    "    calculate the net amount for every person \n",
    "    where net amount is obtained by subtracting all debts (amounts to pay) from all credits (amounts to be paid). \n",
    "    Once net amount for every person is evaluated, find two persons with maximum and minimum net amounts. \n",
    "    These two persons are the most creditors and debtors. \n",
    "    The person with minimum of two is our first person to be settled and removed from list. \n",
    "    Let the minimum of two amounts be x. \n",
    "    We pay ‘x’ amount from the maximum debtor to maximum creditor and settle one person. \n",
    "    If x is equal to the maximum debit, \n",
    "        then maximum debtor is settled, \n",
    "    else \n",
    "        maximum creditor is settled.\n",
    "\n",
    "The following is detailed algorithm.\n",
    "\n",
    "Do following for every person Pi where i is from 0 to n-1.\n",
    "\n",
    "1) Compute the net amount for every person. \n",
    "   The net amount for person ‘i’ can be computed be subtracting sum of all debts from sum of all credits.\n",
    "\n",
    "2) Find the two persons that are maximum creditor and maximum debtor. \n",
    "   Let the maximum amount to be credited maximum creditor be maxCredit and \n",
    "           maximum amount to be debited from maximum debtor be maxDebit. \n",
    "   Let the maximum debtor be Pd and maximum creditor be Pc.\n",
    "\n",
    "3) Find the minimum of maxDebit and maxCredit. \n",
    "    Let minimum of two be x. \n",
    "    Debit ‘x’ from Pd and credit this amount to Pc\n",
    "\n",
    "4) If x is equal to maxCredit, \n",
    "        then remove Pc from set of persons and recur for remaining (n-1) persons.\n",
    "\n",
    "5) If x is equal to maxDebit, \n",
    "        then remove Pd from set of persons and recur for remaining (n-1) persons.\n",
    "*/"
   ]
  },
  {
   "cell_type": "code",
   "execution_count": 143,
   "metadata": {},
   "outputs": [],
   "source": [
    "// Number of persons (or vertices in the graph) \n",
    "static final int N = 3; \n",
    "\n",
    "// A utility function that returns  \n",
    "// index of minimum value in arr[] \n",
    "static int getMin(int arr[]) \n",
    "{ \n",
    "    int minInd = 0; \n",
    "    for (int i = 1; i < N; i++) \n",
    "        if (arr[i] < arr[minInd]) \n",
    "            minInd = i; \n",
    "    return minInd; \n",
    "} \n",
    "\n",
    "// A utility function that returns  \n",
    "// index of maximum value in arr[] \n",
    "static int getMax(int arr[]) \n",
    "{ \n",
    "    int maxInd = 0; \n",
    "    for (int i = 1; i < N; i++) \n",
    "        if (arr[i] > arr[maxInd]) \n",
    "            maxInd = i; \n",
    "    return maxInd; \n",
    "} \n",
    "\n",
    "// A utility function to return minimum of 2 values \n",
    "static int minOf2(int x, int y) \n",
    "{ \n",
    "    return (x < y) ? x: y; \n",
    "}"
   ]
  },
  {
   "cell_type": "code",
   "execution_count": 144,
   "metadata": {},
   "outputs": [],
   "source": [
    "// amount[p] indicates the net amount  \n",
    "// to be credited/debited to/from person 'p' \n",
    "// If amount[p] is positive, then  \n",
    "// i'th person will amount[i] \n",
    "// If amount[p] is negative, then  \n",
    "// i'th person will give -amount[i] \n",
    "static void minCashFlowRec(int amount[]) \n",
    "{ \n",
    "    // Find the indexes of minimum and \n",
    "    // maximum values in amount[] \n",
    "    // amount[mxCredit] indicates the maximum amount  \n",
    "    // to be given (or credited) to any person . \n",
    "    // And amount[mxDebit] indicates the maximum amount  \n",
    "    // to be taken(or debited) from any person. \n",
    "    // So if there is a positive value in amount[],  \n",
    "    // then there must be a negative value \n",
    "    int mxCredit = getMax(amount), mxDebit = getMin(amount); \n",
    "\n",
    "    // If both amounts are 0, then  \n",
    "    // all amounts are settled \n",
    "    if (amount[mxCredit] == 0 && amount[mxDebit] == 0) \n",
    "        return; \n",
    "\n",
    "    // Find the minimum of two amounts \n",
    "    int min = minOf2(-amount[mxDebit], amount[mxCredit]); \n",
    "    amount[mxCredit] -= min; \n",
    "    amount[mxDebit] += min; \n",
    "\n",
    "    // If minimum is the maximum amount to be \n",
    "    System.out.println(\"Person \" + mxDebit + \" pays \" + min \n",
    "                            + \" to \" + \"Person \" + mxCredit); \n",
    "\n",
    "    // Recur for the amount array.  \n",
    "    // Note that it is guaranteed that \n",
    "    // the recursion would terminate  \n",
    "    // as either amount[mxCredit]  or  \n",
    "    // amount[mxDebit] becomes 0 \n",
    "    minCashFlowRec(amount); \n",
    "} "
   ]
  },
  {
   "cell_type": "code",
   "execution_count": 145,
   "metadata": {},
   "outputs": [],
   "source": [
    "// Given a set of persons as graph[]  \n",
    "// where graph[i][j] indicates \n",
    "// the amount that person i needs to  \n",
    "// pay person j, this function \n",
    "// finds and prints the minimum  \n",
    "// cash flow to settle all debts. \n",
    "static void minCashFlow(int graph[][]) \n",
    "{ \n",
    "    // Create an array amount[],  \n",
    "    // initialize all value in it as 0. \n",
    "    int amount[]=new int[N]; \n",
    "\n",
    "    // Calculate the net amount to  \n",
    "    // be paid to person 'p', and \n",
    "    // stores it in amount[p]. The  \n",
    "    // value of amount[p] can be \n",
    "    // calculated by subtracting  \n",
    "    // debts of 'p' from credits of 'p' \n",
    "    for (int p = 0; p < N; p++) \n",
    "    for (int i = 0; i < N; i++) \n",
    "        amount[p] += (graph[i][p] - graph[p][i]); \n",
    "\n",
    "    minCashFlowRec(amount); \n",
    "} "
   ]
  },
  {
   "cell_type": "code",
   "execution_count": 146,
   "metadata": {},
   "outputs": [
    {
     "name": "stdout",
     "output_type": "stream",
     "text": [
      "Person 1 pays 4000 to Person 2\n",
      "Person 0 pays 3000 to Person 2\n"
     ]
    }
   ],
   "source": [
    "// Driver code \n",
    "public static void main (String[] args) \n",
    "{ \n",
    "    // graph[i][j] indicates the amount  \n",
    "    // that person i needs to pay person j \n",
    "    int graph[][] = { {0, 1000, 2000}, \n",
    "                        {0, 0, 5000}, \n",
    "                        {0, 0, 0},}; \n",
    "\n",
    "    // Print the solution \n",
    "    minCashFlow(graph); \n",
    "}\n",
    "main(args);"
   ]
  },
  {
   "cell_type": "markdown",
   "metadata": {},
   "source": [
    "## **190. Minimum edges to reverse to make path from a source to a destination**\n",
    "https://www.geeksforgeeks.org/minimum-edges-reverse-make-path-source-destination/"
   ]
  },
  {
   "cell_type": "code",
   "execution_count": 147,
   "metadata": {},
   "outputs": [],
   "source": [
    "/*\n",
    "Given a directed graph and a source node and destination node, \n",
    "\n",
    "we need to find how many edges we need to reverse in order to make at least 1 path from source node to destination node.\n",
    "*/"
   ]
  },
  {
   "cell_type": "markdown",
   "metadata": {},
   "source": [
    "<img src = \"https://media.geeksforgeeks.org/wp-content/uploads/reverseEdge.png\"/>"
   ]
  },
  {
   "cell_type": "code",
   "execution_count": 148,
   "metadata": {},
   "outputs": [],
   "source": [
    "/*\n",
    "In above graph there were two paths from node 0 to node 6,\n",
    "0 -> 1 -> 2 -> 3 -> 6\n",
    "0 -> 1 -> 5 -> 4 -> 6\n",
    "But for first path only two edges need to be reversed, so answer will be 2 only.\n",
    "*/"
   ]
  },
  {
   "cell_type": "code",
   "execution_count": 149,
   "metadata": {},
   "outputs": [],
   "source": [
    "/*\n",
    "This problem can be solved assuming a different version of the given graph. \n",
    "In this version we make a reverse edge corresponding to every edge \n",
    "and we assign that a weight 1 \n",
    "and assign a weight 0 to original edge. \n",
    "After this modification above graph looks something like below,\n",
    "*/"
   ]
  },
  {
   "cell_type": "markdown",
   "metadata": {},
   "source": [
    "<img src = \"https://media.geeksforgeeks.org/wp-content/uploads/modifiedGraph.png\"/>"
   ]
  },
  {
   "cell_type": "code",
   "execution_count": 150,
   "metadata": {},
   "outputs": [],
   "source": [
    "/*\n",
    "Now we can see that we have modified the graph in such a way that, \n",
    "if we move towards original edge, \n",
    "    no cost is incurred, \n",
    "but if we move toward reverse edge \n",
    "    1 cost is added. \n",
    "\n",
    "So if we apply Dijkstra’s shortest path on this modified graph from given source, \n",
    "    then that will give us minimum cost to reach from source to destination \n",
    "    i.e. minimum edge reversal from source to destination.\n",
    "*/"
   ]
  },
  {
   "cell_type": "markdown",
   "metadata": {},
   "source": [
    "***https://ideone.com/zhNTS2***"
   ]
  }
 ],
 "metadata": {
  "kernelspec": {
   "display_name": "Java",
   "language": "java",
   "name": "java"
  },
  "language_info": {
   "codemirror_mode": "java",
   "file_extension": ".jshell",
   "mimetype": "text/x-java-source",
   "name": "Java",
   "pygments_lexer": "java",
   "version": "11.0.6+8-LTS"
  },
  "toc": {
   "base_numbering": 1,
   "nav_menu": {},
   "number_sections": true,
   "sideBar": true,
   "skip_h1_title": true,
   "title_cell": "Table of Contents",
   "title_sidebar": "Contents",
   "toc_cell": false,
   "toc_position": {
    "height": "calc(100% - 180px)",
    "left": "10px",
    "top": "150px",
    "width": "341.484px"
   },
   "toc_section_display": true,
   "toc_window_display": true
  }
 },
 "nbformat": 4,
 "nbformat_minor": 2
}
