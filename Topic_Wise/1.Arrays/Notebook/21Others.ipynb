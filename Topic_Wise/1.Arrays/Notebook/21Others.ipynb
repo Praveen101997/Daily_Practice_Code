{
 "cells": [
  {
   "cell_type": "markdown",
   "metadata": {},
   "source": [
    "# --------------------------------OTHERS TOPIC--------------------------------\n",
    "**==============================================================================**\n",
    "# Assembled By - Praveen Kumar Sharma\n",
    "# Source - GeeksForGeeks\n",
    "**==============================================================================**"
   ]
  },
  {
   "cell_type": "code",
   "execution_count": 1,
   "metadata": {},
   "outputs": [],
   "source": [
    "import java.util.*;\n",
    "import java.io.*;\n",
    "String[] args =new String[0];"
   ]
  },
  {
   "cell_type": "markdown",
   "metadata": {},
   "source": [
    "## **498. Median of two sorted arrays of different sizes**\n",
    "https://www.geeksforgeeks.org/median-of-two-sorted-arrays-of-different-sizes/"
   ]
  },
  {
   "cell_type": "code",
   "execution_count": 2,
   "metadata": {},
   "outputs": [],
   "source": [
    "/*\n",
    "Already Discussed In 14 March 2020 Code\n",
    "*/"
   ]
  },
  {
   "cell_type": "markdown",
   "metadata": {},
   "source": [
    "## **499. How to efficiently implement k stacks in a single array?**\n",
    "https://www.geeksforgeeks.org/efficiently-implement-k-stacks-single-array/"
   ]
  },
  {
   "cell_type": "code",
   "execution_count": 3,
   "metadata": {},
   "outputs": [],
   "source": [
    "/*\n",
    "Already Discussed In 27 March 2020 Code\n",
    "*/"
   ]
  },
  {
   "cell_type": "markdown",
   "metadata": {},
   "source": [
    "## **500. How to efficiently implement k Queues in a single array?**\n",
    "https://www.geeksforgeeks.org/efficiently-implement-k-queues-single-array/"
   ]
  },
  {
   "cell_type": "code",
   "execution_count": 4,
   "metadata": {},
   "outputs": [],
   "source": [
    "/*\n",
    "Already Discussed In 27 March 2020 Code\n",
    "*/"
   ]
  },
  {
   "cell_type": "markdown",
   "metadata": {},
   "source": [
    "## **501. Find the first non-repeating character from a stream of characters**\n",
    "https://www.geeksforgeeks.org/find-first-non-repeating-character-stream-characters/"
   ]
  },
  {
   "cell_type": "code",
   "execution_count": 5,
   "metadata": {},
   "outputs": [],
   "source": [
    "/*\n",
    "Already Discussed in 28 March 2020\n",
    "*/"
   ]
  },
  {
   "cell_type": "markdown",
   "metadata": {},
   "source": [
    "## **502. Merge two sorted lists (in-place)**\n",
    "https://www.geeksforgeeks.org/merge-two-sorted-lists-place/"
   ]
  },
  {
   "cell_type": "code",
   "execution_count": 6,
   "metadata": {},
   "outputs": [],
   "source": [
    "/*\n",
    "Already Discussed in 30 March 2020\n",
    "*/"
   ]
  },
  {
   "cell_type": "markdown",
   "metadata": {},
   "source": [
    "## **503. Rotate Linked List block wise**\n",
    "https://www.geeksforgeeks.org/rotate-linked-list-block-wise/"
   ]
  },
  {
   "cell_type": "code",
   "execution_count": 7,
   "metadata": {},
   "outputs": [],
   "source": [
    "/*\n",
    "Already Discussed in 30 March 2020\n",
    "*/"
   ]
  },
  {
   "cell_type": "markdown",
   "metadata": {},
   "source": [
    "## **504. Merge two sorted arrays with O(1) extra space**\n",
    "https://www.geeksforgeeks.org/merge-two-sorted-arrays-o1-extra-space/"
   ]
  },
  {
   "cell_type": "code",
   "execution_count": 8,
   "metadata": {},
   "outputs": [],
   "source": [
    "/*\n",
    "Already Discussed in 14 March 2020\n",
    "*/"
   ]
  },
  {
   "cell_type": "markdown",
   "metadata": {},
   "source": [
    "## **505. MO’s Algorithm (Query Square Root Decomposition) | Set 1 (Introduction)**\n",
    "https://www.geeksforgeeks.org/mos-algorithm-query-square-root-decomposition-set-1-introduction/"
   ]
  },
  {
   "cell_type": "code",
   "execution_count": 9,
   "metadata": {},
   "outputs": [],
   "source": [
    "/*\n",
    "Already Discussed in 14 March 2020\n",
    "*/"
   ]
  },
  {
   "cell_type": "markdown",
   "metadata": {},
   "source": [
    "## **506. Amazon Interview Question for Software Engineer / Developers**\n",
    "https://careercup.com/question?id=5339357867147264"
   ]
  },
  {
   "cell_type": "code",
   "execution_count": 10,
   "metadata": {},
   "outputs": [],
   "source": [
    "/*\n",
    "You are given an array A with elements 0 to n-1,\n",
    "    numbers can be repeated in the array. \n",
    "\n",
    "Create n sets where\n",
    "    S[i]={a[i],a[a[i]],a[a[a[i]]]…}. \n",
    "Set has all elements unique. \n",
    "Find the size of the largest set.\n",
    "*/"
   ]
  },
  {
   "cell_type": "code",
   "execution_count": 11,
   "metadata": {},
   "outputs": [],
   "source": [
    "/*\n",
    "Method 1\n",
    "*/"
   ]
  },
  {
   "cell_type": "code",
   "execution_count": 12,
   "metadata": {},
   "outputs": [
    {
     "name": "stdout",
     "output_type": "stream",
     "text": [
      "[5, 7, 9, 11, 2, 3, 1, 6, 8]\n",
      "[6, 8, 2, 3, 1]\n",
      "[3, 1, 6, 8, 2]\n",
      "[1, 6, 8, 2, 3]\n",
      "[4]\n",
      "[7, 9, 11, 2, 3, 1, 6, 8]\n",
      "[8, 2, 3, 1, 6]\n",
      "[9, 11, 2, 3, 1, 6, 8]\n",
      "[2, 3, 1, 6, 8]\n",
      "[11, 2, 3, 1, 6, 8]\n",
      "[12, 4]\n",
      "[2, 3, 1, 6, 8]\n",
      "[4]\n",
      "[6, 8, 2, 3, 1]\n",
      "[9, 11, 2, 3, 1, 6, 8]\n",
      "[4]\n",
      "[1, 6, 8, 2, 3]\n"
     ]
    }
   ],
   "source": [
    "import java.util.LinkedHashSet;\n",
    "import java.util.Set;\n",
    "\n",
    "\n",
    "public class IterativeSubset {\n",
    "\n",
    "    public static void main(String[] args) {\n",
    "\n",
    "        int array[]=new int[]{5,6,3,1,4,7,8,9,2,11,12,2,4,6,9,4,1};\n",
    "\n",
    "        int arrayLngth=array.length;\n",
    "        int i=0;\n",
    "        Set<Integer> sets=new LinkedHashSet<Integer>();\n",
    "\n",
    "        for(int j=0;j<arrayLngth;j++)\n",
    "        {\n",
    "            i=j;\n",
    "            while(!sets.contains(array[i]))\n",
    "            {\n",
    "                i=array[i];\n",
    "                sets.add(i);\n",
    "            }\n",
    "            System.out.println(sets.toString());\n",
    "            sets.clear();\n",
    "        }\n",
    "\n",
    "    }\n",
    "\n",
    "}\n",
    "IterativeSubset.main(args);"
   ]
  },
  {
   "cell_type": "code",
   "execution_count": 13,
   "metadata": {},
   "outputs": [],
   "source": [
    "/*\n",
    "Method 2\n",
    "*/"
   ]
  },
  {
   "cell_type": "code",
   "execution_count": 14,
   "metadata": {},
   "outputs": [
    {
     "name": "stdout",
     "output_type": "stream",
     "text": [
      "Size of Largest set is 4\n",
      "Printing elements in all sets\n",
      "Set# 1 =>  1 2 3 4 \n",
      "Set# 2 =>  2 3 4 \n",
      "Set# 3 =>  3 4 \n",
      "Set# 4 =>  4 \n",
      "Set# 5 =>  4 \n",
      "Set# 6 =>  5 \n"
     ]
    }
   ],
   "source": [
    "public static Set<Integer>[] createSetOfElements(int a[]) {\n",
    "    Set<Integer>[] allSets = new Set[a.length];\n",
    "    int largestSetSize = 0;\n",
    "    for (int i = 0; i < a.length; i++) {\n",
    "        allSets[i] = new HashSet<Integer>();\n",
    "        int element = a[i];\n",
    "        while (!allSets[i].contains(element)) {\n",
    "            allSets[i].add(element);\n",
    "            if (element < a.length) {\n",
    "                element = a[element];\n",
    "            }\n",
    "        }\n",
    "        if (allSets[i].size() > largestSetSize) {\n",
    "            largestSetSize = allSets[i].size();\n",
    "\n",
    "        }\n",
    "    }\n",
    "    System.out.println(\"Size of Largest set is \" + largestSetSize);\n",
    "    System.out.println(\"Printing elements in all sets\");\n",
    "    int i = 1;\n",
    "    for (Set<Integer> set : allSets) {\n",
    "        System.out.print(\"Set# \" + i++ + \" =>  \");\n",
    "        for (Integer integer : set) {\n",
    "            System.out.print(integer + \" \");\n",
    "        }\n",
    "        System.out.println();\n",
    "    }\n",
    "    return allSets;\n",
    "}\n",
    "\n",
    "public static void main(String[] args) {\n",
    "    int a[] = { 1, 2, 3, 4, 4, 5 };\n",
    "    createSetOfElements(a);\n",
    "}\n",
    "main(args);"
   ]
  },
  {
   "cell_type": "markdown",
   "metadata": {},
   "source": [
    "## **507. Find maximum of minimum for every window size in a given array**\n",
    "https://www.geeksforgeeks.org/find-the-maximum-of-minimums-for-every-window-size-in-a-given-array/"
   ]
  },
  {
   "cell_type": "code",
   "execution_count": 15,
   "metadata": {},
   "outputs": [],
   "source": [
    "/*\n",
    "Already Discussed in 27 March 2020\n",
    "*/"
   ]
  },
  {
   "cell_type": "markdown",
   "metadata": {},
   "source": [
    "## **508. Online algorithm for checking palindrome in a stream**\n",
    "https://www.geeksforgeeks.org/online-algorithm-for-checking-palindrome-in-a-stream/"
   ]
  },
  {
   "cell_type": "code",
   "execution_count": 16,
   "metadata": {},
   "outputs": [],
   "source": [
    "/*\n",
    "Already Discussed in 6 April 2020\n",
    "*/"
   ]
  },
  {
   "cell_type": "markdown",
   "metadata": {},
   "source": [
    "## **509. Tournament Tree (Winner Tree) and Binary Heap**\n",
    "https://www.geeksforgeeks.org/tournament-tree-and-binary-heap/"
   ]
  },
  {
   "cell_type": "code",
   "execution_count": 17,
   "metadata": {},
   "outputs": [],
   "source": [
    "/*\n",
    "Already Discussed in 6 April 2020\n",
    "*/"
   ]
  },
  {
   "cell_type": "markdown",
   "metadata": {},
   "source": [
    "## **510. Print all longest common sub-sequences in lexicographical order**\n",
    "https://www.geeksforgeeks.org/print-longest-common-sub-sequences-lexicographical-order/"
   ]
  },
  {
   "cell_type": "code",
   "execution_count": 18,
   "metadata": {},
   "outputs": [],
   "source": [
    "/*\n",
    "Already Discussed in 17 March 2020\n",
    "*/"
   ]
  },
  {
   "cell_type": "markdown",
   "metadata": {},
   "source": [
    "## **511. Number of subsequences in a string divisible by n**\n",
    "https://www.geeksforgeeks.org/number-subsequences-string-divisible-n/"
   ]
  },
  {
   "cell_type": "code",
   "execution_count": 19,
   "metadata": {},
   "outputs": [],
   "source": [
    "/*\n",
    "Already Discussed in 18 March 2020\n",
    "*/"
   ]
  },
  {
   "cell_type": "markdown",
   "metadata": {},
   "source": [
    "## **512. Minimum no. of iterations to pass information to all nodes in the tree**\n",
    "https://www.geeksforgeeks.org/minimum-iterations-pass-information-nodes-tree/"
   ]
  },
  {
   "cell_type": "code",
   "execution_count": 20,
   "metadata": {},
   "outputs": [],
   "source": [
    "/*\n",
    "View Question Link For Better Understanding\n",
    "*/"
   ]
  },
  {
   "cell_type": "markdown",
   "metadata": {},
   "source": [
    "## **513. Largest Rectangular Area in a Histogram | Set 2**\n",
    "https://www.geeksforgeeks.org/largest-rectangle-under-histogram/"
   ]
  },
  {
   "cell_type": "code",
   "execution_count": 21,
   "metadata": {},
   "outputs": [],
   "source": [
    "/*\n",
    "Find the largest rectangular area possible in a given histogram \n",
    "    where the largest rectangle can be made of a number of contiguous bars. \n",
    "    \n",
    "For simplicity, assume that all bars have same width and the width is 1 unit.\n",
    "*/"
   ]
  },
  {
   "cell_type": "code",
   "execution_count": 22,
   "metadata": {},
   "outputs": [],
   "source": [
    "/*\n",
    "For example, \n",
    "    consider the following histogram with 7 bars of heights {6, 2, 5, 4, 5, 1, 6}. \n",
    "    The largest possible rectangle possible is 12 \n",
    "    (see the below figure, the max area rectangle is highlighted in red)\n",
    "*/"
   ]
  },
  {
   "cell_type": "markdown",
   "metadata": {},
   "source": [
    "<img src = \"https://media.geeksforgeeks.org/wp-content/cdn-uploads/histogram1.png\"/>"
   ]
  },
  {
   "cell_type": "markdown",
   "metadata": {},
   "source": [
    "**Related Link :**   ***https://www.geeksforgeeks.org/largest-rectangular-area-in-a-histogram-set-1/***\n",
    "<br>\n",
    "**Divide and Conquer based O(nLogn) solution**"
   ]
  },
  {
   "cell_type": "code",
   "execution_count": 23,
   "metadata": {},
   "outputs": [],
   "source": [
    "/*\n",
    "In this post, O(n) time solution is discussed. \n",
    "Like the previous post, \n",
    "    width of all bars is assumed to be 1 for simplicity. \n",
    "\n",
    "For every bar ‘x’, \n",
    "    we calculate the area with ‘x’ as the smallest bar in the rectangle. \n",
    "\n",
    "If we calculate such area for every bar ‘x’ \n",
    "    and find the maximum of all areas, \n",
    "    our task is done. \n",
    "    \n",
    "How to calculate area with ‘x’ as smallest bar? \n",
    "\n",
    "We need to know index of the first smaller (smaller than ‘x’) bar on left of ‘x’ \n",
    "and index of first smaller bar on right of ‘x’. \n",
    "\n",
    "Let us call these indexes as ‘left index’ and ‘right index’ respectively.\n",
    "\n",
    "We traverse all bars from left to right,\n",
    "    maintain a stack of bars.\n",
    "Every bar is pushed to stack once. \n",
    "\n",
    "A bar is popped from stack when a bar of smaller height is seen. \n",
    "When a bar is popped, \n",
    "    we calculate the area with the popped bar as smallest bar. \n",
    "\n",
    "How do we get left and right indexes of the popped bar – \n",
    "    the current index tells us the ‘right index’ \n",
    "    and index of previous item in stack is the ‘left index’. \n",
    "*/"
   ]
  },
  {
   "cell_type": "code",
   "execution_count": 24,
   "metadata": {},
   "outputs": [],
   "source": [
    "/*\n",
    "Following is the complete algorithm.\n",
    "\n",
    "1) Create an empty stack.\n",
    "2) Start from first bar, and do following for every bar ‘hist[i]’ where ‘i’ varies from 0 to n-1.\n",
    "    a) If stack is empty or hist[i] is higher than the bar at top of stack, \n",
    "            then push ‘i’ to stack.\n",
    "    b) If this bar is smaller than the top of stack, \n",
    "            then keep removing the top of stack while top of the stack is greater. \n",
    "        Let the removed bar be hist[tp]. \n",
    "        Calculate area of rectangle with hist[tp] as smallest bar. \n",
    "        For hist[tp], \n",
    "            the ‘left index’ is previous (previous to tp) item in stack and \n",
    "                ‘right index’ is ‘i’ (current index).\n",
    "\n",
    "3) If the stack is not empty, \n",
    "        then one by one remove all bars from stack and do step 2.b for every removed bar.\n",
    "*/"
   ]
  },
  {
   "cell_type": "code",
   "execution_count": 25,
   "metadata": {},
   "outputs": [],
   "source": [
    "// The main function to find the maximum rectangular area under given \n",
    "// histogram with n bars \n",
    "static int getMaxArea(int hist[], int n)  \n",
    "{ \n",
    "    // Create an empty stack. The stack holds indexes of hist[] array \n",
    "    // The bars stored in stack are always in increasing order of their \n",
    "    // heights. \n",
    "    Stack<Integer> s = new Stack<>(); \n",
    "\n",
    "    int max_area = 0; // Initialize max area \n",
    "    int tp;  // To store top of stack \n",
    "    int area_with_top; // To store area with top bar as the smallest bar \n",
    "\n",
    "    // Run through all bars of given histogram \n",
    "    int i = 0; \n",
    "    while (i < n) \n",
    "    { \n",
    "        // If this bar is higher than the bar on top stack, push it to stack \n",
    "        if (s.empty() || hist[s.peek()] <= hist[i]) \n",
    "            s.push(i++); \n",
    "\n",
    "        // If this bar is lower than top of stack, then calculate area of rectangle  \n",
    "        // with stack top as the smallest (or minimum height) bar. 'i' is  \n",
    "        // 'right index' for the top and element before top in stack is 'left index' \n",
    "        else\n",
    "        { \n",
    "            tp = s.peek();  // store the top index \n",
    "            s.pop();  // pop the top \n",
    "\n",
    "            // Calculate the area with hist[tp] stack as smallest bar \n",
    "            area_with_top = hist[tp] * (s.empty() ? i : i - s.peek() - 1); \n",
    "\n",
    "            // update max area, if needed \n",
    "            if (max_area < area_with_top) \n",
    "                max_area = area_with_top; \n",
    "        } \n",
    "    } \n",
    "\n",
    "    // Now pop the remaining bars from stack and calculate area with every \n",
    "    // popped bar as the smallest bar \n",
    "    while (s.empty() == false) \n",
    "    { \n",
    "        tp = s.peek(); \n",
    "        s.pop(); \n",
    "        area_with_top = hist[tp] * (s.empty() ? i : i - s.peek() - 1); \n",
    "\n",
    "        if (max_area < area_with_top) \n",
    "            max_area = area_with_top; \n",
    "    } \n",
    "\n",
    "    return max_area; \n",
    "\n",
    "} "
   ]
  },
  {
   "cell_type": "code",
   "execution_count": 26,
   "metadata": {},
   "outputs": [
    {
     "name": "stdout",
     "output_type": "stream",
     "text": [
      "Maximum area is 12\n"
     ]
    }
   ],
   "source": [
    "// Driver program to test above function \n",
    "public static void main(String[] args)  \n",
    "{ \n",
    "    int hist[] = { 6, 2, 5, 4, 5, 1, 6 }; \n",
    "    System.out.println(\"Maximum area is \" + getMaxArea(hist, hist.length)); \n",
    "} \n",
    "main(args);"
   ]
  },
  {
   "cell_type": "code",
   "execution_count": 27,
   "metadata": {},
   "outputs": [],
   "source": [
    "/*\n",
    "Time Complexity: Since every bar is pushed and popped only once, the time complexity of this method is O(n).\n",
    "*/"
   ]
  },
  {
   "cell_type": "markdown",
   "metadata": {},
   "source": [
    "## **514. Remove K Digits**\n",
    "https://leetcode.com/problems/remove-k-digits/description/"
   ]
  },
  {
   "cell_type": "code",
   "execution_count": 28,
   "metadata": {},
   "outputs": [],
   "source": [
    "/*\n",
    "Given a non-negative integer num represented as a string, \n",
    "remove k digits from the number so that the new number is the smallest possible.\n",
    "\n",
    "Note:\n",
    "1. The length of num is less than 10002 and will be ≥ k.\n",
    "2. The given num does not contain any leading zero.\n",
    "*/"
   ]
  },
  {
   "cell_type": "code",
   "execution_count": 29,
   "metadata": {},
   "outputs": [],
   "source": [
    "/*\n",
    "Example 1:\n",
    "\n",
    "Input: num = \"1432219\", k = 3\n",
    "Output: \"1219\"\n",
    "Explanation: Remove the three digits 4, 3, and 2 to form the new number 1219 which is the smallest.\n",
    "\n",
    "Example 2:\n",
    "\n",
    "Input: num = \"10200\", k = 1\n",
    "Output: \"200\"\n",
    "Explanation: Remove the leading 1 and the number is 200. Note that the output must not contain leading zeroes.\n",
    "\n",
    "Example 3:\n",
    "\n",
    "Input: num = \"10\", k = 2\n",
    "Output: \"0\"\n",
    "Explanation: Remove all the digits from the number and it is left with nothing which is 0.\n",
    "*/"
   ]
  },
  {
   "cell_type": "code",
   "execution_count": 30,
   "metadata": {},
   "outputs": [],
   "source": [
    "/*\n",
    "The idea comes from the solution.\n",
    "A greedy algorithm is utilized but there are some corner cases:\n",
    "\n",
    "1. The left digits to be deleted;\n",
    "2. Reverse the digit order in stack;\n",
    "3. Leading zeroes\n",
    "*/"
   ]
  },
  {
   "cell_type": "code",
   "execution_count": 31,
   "metadata": {},
   "outputs": [],
   "source": [
    "class Solution {\n",
    "    public String removeKdigits(String num, int k) {\n",
    "        if (num == null || num.length() <= k)\n",
    "            return \"0\";\n",
    "\n",
    "        Stack<Integer> stack = new Stack<>();\n",
    "        for (int i = 0; i < num.length(); i++) {\n",
    "            int digit = num.charAt(i) - '0';\n",
    "            if (stack.isEmpty() || digit > stack.peek()) {\n",
    "                stack.push(digit);\n",
    "            } else {\n",
    "                while (k > 0 && (!stack.isEmpty()) && stack.peek() > digit) {\n",
    "                    stack.pop();\n",
    "                    k--;\n",
    "                }\n",
    "                stack.push(digit);\n",
    "            }\n",
    "        }\n",
    "\n",
    "        // remaining numbers to be poped\n",
    "        while (k > 0) {\n",
    "            stack.pop();\n",
    "            k--;\n",
    "        }\n",
    "\n",
    "        StringBuilder resultBuilder = new StringBuilder();\n",
    "\n",
    "        while (!stack.isEmpty()) {\n",
    "            resultBuilder.append(stack.pop());\n",
    "        }\n",
    "\n",
    "        resultBuilder = resultBuilder.reverse();\n",
    "\n",
    "        // remove leading zeroes\n",
    "        int index = 0;\n",
    "        while (index < resultBuilder.length() && resultBuilder.charAt(index) == '0') {\n",
    "            index++;\n",
    "        }\n",
    "\n",
    "        return index >= resultBuilder.length()? \"0\": resultBuilder.substring(index);\n",
    "    }\n",
    "}"
   ]
  },
  {
   "cell_type": "code",
   "execution_count": 32,
   "metadata": {},
   "outputs": [
    {
     "name": "stdout",
     "output_type": "stream",
     "text": [
      "200\n"
     ]
    }
   ],
   "source": [
    "public static void main(String[] args){\n",
    "    Solution s = new Solution();\n",
    "    String ans = s.removeKdigits(\"10200\",1);\n",
    "    System.out.println(ans);\n",
    "}\n",
    "main(args);"
   ]
  },
  {
   "cell_type": "code",
   "execution_count": 33,
   "metadata": {},
   "outputs": [],
   "source": [
    "/*\n",
    "Method 2\n",
    "*/"
   ]
  },
  {
   "cell_type": "code",
   "execution_count": 34,
   "metadata": {},
   "outputs": [],
   "source": [
    "public class Solution {\n",
    "    public String removeKdigits(String num, int k) {\n",
    "        int len = num.length();\n",
    "        //corner case\n",
    "        if(k==len)        \n",
    "            return \"0\";\n",
    "            \n",
    "        Stack<Character> stack = new Stack<>();\n",
    "        int i =0;\n",
    "        while(i<num.length()){\n",
    "            //whenever meet a digit which is less than the previous digit, discard the previous one\n",
    "            while(k>0 && !stack.isEmpty() && stack.peek()>num.charAt(i)){\n",
    "                stack.pop();\n",
    "                k--;\n",
    "            }\n",
    "            stack.push(num.charAt(i));\n",
    "            i++;\n",
    "        }\n",
    "        \n",
    "        // corner case like \"1111\"\n",
    "        while(k>0){\n",
    "            stack.pop();\n",
    "            k--;            \n",
    "        }\n",
    "        \n",
    "        //construct the number from the stack\n",
    "        StringBuilder sb = new StringBuilder();\n",
    "        while(!stack.isEmpty())\n",
    "            sb.append(stack.pop());\n",
    "        sb.reverse();\n",
    "        \n",
    "        //remove all the 0 at the head\n",
    "        while(sb.length()>1 && sb.charAt(0)=='0')\n",
    "            sb.deleteCharAt(0);\n",
    "        return sb.toString();\n",
    "    }\n",
    "}"
   ]
  },
  {
   "cell_type": "code",
   "execution_count": 35,
   "metadata": {},
   "outputs": [
    {
     "name": "stdout",
     "output_type": "stream",
     "text": [
      "200\n"
     ]
    }
   ],
   "source": [
    "public static void main(String[] args){\n",
    "    Solution s = new Solution();\n",
    "    String ans = s.removeKdigits(\"10200\",1);\n",
    "    System.out.println(ans);\n",
    "}\n",
    "main(args);"
   ]
  },
  {
   "cell_type": "code",
   "execution_count": 36,
   "metadata": {},
   "outputs": [],
   "source": [
    "/*\n",
    "Method 3\n",
    "*/"
   ]
  },
  {
   "cell_type": "code",
   "execution_count": 37,
   "metadata": {},
   "outputs": [],
   "source": [
    "/*\n",
    "1. This problem can be paraphrased as \n",
    "        Delete k local maximas in the input number\n",
    "2. The stack is used to track the ascent of the digits as they are fed from left to right. \n",
    "        As soon as a descent is encountered, \n",
    "            it indicates that the previous digit (top of the stack) was a local maxima. \n",
    "        In that case, \n",
    "            the stack is popped so that it is not included as part of the result.\n",
    "3. The result is crafted by continuously appending the stack tops to the left.\n",
    "4. If no element was popped in the journey, \n",
    "        it means that the k maximas are all crowded at the right extreme of the input number. \n",
    "        In that case, \n",
    "            we just clip those k digits and return.\n",
    "5. Discard the least significant 0's and return the result.\n",
    "*/"
   ]
  },
  {
   "cell_type": "code",
   "execution_count": 38,
   "metadata": {},
   "outputs": [],
   "source": [
    "class Solution {\n",
    "    public String removeKdigits(String num, int k) {\n",
    "        if(k==0) \n",
    "            return num;\n",
    "        if(k>=num.length()) \n",
    "            return \"0\";\n",
    "        int count=0; \n",
    "        StringBuilder sb=new StringBuilder(); \n",
    "        Stack<Integer> stack=new Stack();\n",
    "        stack.push(Character.getNumericValue(num.charAt(0)));\n",
    "        for(int i=1;i<num.length();i++){\n",
    "            if(stack.isEmpty()||stack.peek()<=Character.getNumericValue(num.charAt(i))||count==k)\n",
    "                stack.push(Character.getNumericValue(num.charAt(i)));\n",
    "            else{\n",
    "                stack.pop();\n",
    "                count++;\n",
    "                i--;\n",
    "            }\n",
    "        }\n",
    "        while(!stack.isEmpty()) \n",
    "            sb.insert(0,stack.pop());\n",
    "        sb=new StringBuilder(sb.toString().substring(0,num.length()-k));\n",
    "        while(sb.length()!=0&&sb.charAt(0)=='0') \n",
    "            sb.deleteCharAt(0);\n",
    "        if(sb.length()==0) \n",
    "            return \"0\";\n",
    "        return sb.toString();\n",
    "    }\n",
    "}"
   ]
  },
  {
   "cell_type": "code",
   "execution_count": 39,
   "metadata": {},
   "outputs": [
    {
     "name": "stdout",
     "output_type": "stream",
     "text": [
      "200\n"
     ]
    }
   ],
   "source": [
    "public static void main(String[] args){\n",
    "    Solution s = new Solution();\n",
    "    String ans = s.removeKdigits(\"10200\",1);\n",
    "    System.out.println(ans);\n",
    "}\n",
    "main(args);"
   ]
  },
  {
   "cell_type": "code",
   "execution_count": 40,
   "metadata": {},
   "outputs": [],
   "source": [
    "/*\n",
    "Why is this greedy?\n",
    "\n",
    "Its greedy \n",
    "    because the algorithm assumes that discarding each local maxima would yield a globally optimal solution.\n",
    "*/"
   ]
  },
  {
   "cell_type": "markdown",
   "metadata": {},
   "source": [
    "## **515. Minimum Height Trees**\n",
    "https://leetcode.com/problems/minimum-height-trees/description/"
   ]
  },
  {
   "cell_type": "code",
   "execution_count": 41,
   "metadata": {},
   "outputs": [],
   "source": [
    "/*\n",
    "For an undirected graph with tree characteristics, \n",
    "    we can choose any node as the root. \n",
    "The result graph is then a rooted tree. \n",
    "Among all possible rooted trees, \n",
    "    those with minimum height are called minimum height trees (MHTs). \n",
    "Given such a graph, \n",
    "    write a function to find all the MHTs and return a list of their root labels.\n",
    "\n",
    "Format\n",
    "\n",
    "The graph contains n nodes which are labeled from 0 to n - 1. \n",
    "You will be given the number n and a list of undirected edges (each edge is a pair of labels).\n",
    "\n",
    "You can assume that no duplicate edges will appear in edges. \n",
    "Since all edges are undirected, [0, 1] is the same as [1, 0] and thus will not appear together in edges.\n",
    "*/"
   ]
  },
  {
   "cell_type": "code",
   "execution_count": 42,
   "metadata": {},
   "outputs": [],
   "source": [
    "/*\n",
    "Example 1 :\n",
    "\n",
    "Input: n = 4, edges = [[1, 0], [1, 2], [1, 3]]\n",
    "\n",
    "        0\n",
    "        |\n",
    "        1\n",
    "       / \\\n",
    "      2   3 \n",
    "\n",
    "Output: [1]\n",
    "\n",
    "Example 2 :\n",
    "\n",
    "Input: n = 6, edges = [[0, 3], [1, 3], [2, 3], [4, 3], [5, 4]]\n",
    "\n",
    "     0  1  2\n",
    "      \\ | /\n",
    "        3\n",
    "        |\n",
    "        4\n",
    "        |\n",
    "        5 \n",
    "\n",
    "Output: [3, 4]\n",
    "*/"
   ]
  },
  {
   "cell_type": "code",
   "execution_count": 43,
   "metadata": {},
   "outputs": [],
   "source": [
    "/*\n",
    "Note:\n",
    "\n",
    "1. According to the definition of tree on Wikipedia: \n",
    "        “a tree is an undirected graph in which any two vertices are connected by exactly one path. \n",
    "         In other words, \n",
    "             any connected graph without simple cycles is a tree.”\n",
    "2. The height of a rooted tree is the number of edges on the longest downward path between the root and a leaf.\n",
    "*/"
   ]
  },
  {
   "cell_type": "code",
   "execution_count": 44,
   "metadata": {},
   "outputs": [],
   "source": [
    "/*\n",
    "Method 1\n",
    "\n",
    "1. N It's easy to know there are most two nodes to return,\n",
    "    which are the medium nodes in the longest path in the tree.\n",
    "2. level travels, remove the leafs level by level\n",
    "*/"
   ]
  },
  {
   "cell_type": "code",
   "execution_count": 45,
   "metadata": {},
   "outputs": [],
   "source": [
    "public List<Integer> findMinHeightTrees(int n, int[][] edges) {\n",
    "    List<Integer> res = new ArrayList<>();\n",
    "    if (n == 1) {\n",
    "        res.add(0);\n",
    "        return res;\n",
    "    }\n",
    "    HashSet<Integer>[] neighbors = new HashSet[n];\n",
    "    HashSet<Integer> visited = new HashSet<>();\n",
    "    ArrayList<Integer> leafs = new ArrayList<>();\n",
    "    int[] degrees = new int[n];\n",
    "    for (int i = 0; i < edges.length; i++) {\n",
    "        int a = edges[i][0];\n",
    "        int b = edges[i][1];\n",
    "        if (neighbors[a] == null) {\n",
    "            neighbors[a] = new HashSet<>();\n",
    "        }\n",
    "        if (neighbors[b] == null) {\n",
    "            neighbors[b] = new HashSet<>();\n",
    "        }\n",
    "        neighbors[a].add(b);\n",
    "        neighbors[b].add(a);\n",
    "        degrees[a]++;\n",
    "        degrees[b]++;\n",
    "    }\n",
    "    for (int i = 0; i < degrees.length; i++) {\n",
    "        if (degrees[i] == 1) {\n",
    "            leafs.add(i);\n",
    "        }\n",
    "    }\n",
    "\n",
    "    while ( visited.size() < n - 2) {\n",
    "        ArrayList<Integer> nextLevel = new ArrayList<>();\n",
    "        for (int i = 0; i < leafs.size(); i++) { \n",
    "            int leaf = leafs.get(i);\n",
    "            visited.add(leaf);\n",
    "            HashSet<Integer> connectedToLeaf = neighbors[leaf];\n",
    "            for (int connect : connectedToLeaf) {\n",
    "                if (!visited.contains(connect)) {\n",
    "                    degrees[connect]--;\n",
    "                    if (degrees[connect] == 1) {\n",
    "                        nextLevel.add(connect);\n",
    "                    }\n",
    "                }\n",
    "            }\n",
    "        }\n",
    "        leafs = nextLevel;\n",
    "    }\n",
    "    return leafs;\n",
    "}"
   ]
  },
  {
   "cell_type": "code",
   "execution_count": 46,
   "metadata": {},
   "outputs": [
    {
     "name": "stdout",
     "output_type": "stream",
     "text": [
      "3\n",
      "4\n"
     ]
    }
   ],
   "source": [
    "int n = 6;\n",
    "int[][] edges ={{0, 3}, {1, 3}, {2, 3}, {4, 3}, {5, 4}};\n",
    "List<Integer> ans  = findMinHeightTrees(n,edges);\n",
    "for(int val:ans){\n",
    "    System.out.println(val);\n",
    "}"
   ]
  },
  {
   "cell_type": "code",
   "execution_count": 47,
   "metadata": {},
   "outputs": [],
   "source": [
    "/*\n",
    "Method 2\n",
    "*/"
   ]
  },
  {
   "cell_type": "code",
   "execution_count": 48,
   "metadata": {},
   "outputs": [],
   "source": [
    "/*\n",
    "First let's review some statement for tree in graph theory:\n",
    "\n",
    "(1) A tree is an undirected graph in which any two vertices are\n",
    "connected by exactly one path.\n",
    "\n",
    "(2) Any connected graph who has n nodes with n-1 edges is a tree.\n",
    "\n",
    "(3) The degree of a vertex of a graph is the number of\n",
    "edges incident to the vertex.\n",
    "\n",
    "(4) A leaf is a vertex of degree 1. An internal vertex is a vertex of\n",
    "degree at least 2.\n",
    "\n",
    "(5) A path graph is a tree with two or more vertices that is not\n",
    "branched at all.\n",
    "\n",
    "(6) A tree is called a rooted tree if one vertex has been designated\n",
    "the root.\n",
    "\n",
    "(7) The height of a rooted tree is the number of edges on the longest\n",
    "downward path between root and a leaf.\n",
    "*/"
   ]
  },
  {
   "cell_type": "code",
   "execution_count": 49,
   "metadata": {},
   "outputs": [],
   "source": [
    "/*\n",
    "Our problem want us to find the minimum height trees and return their root labels. \n",
    "First we can think about a simple case -- a path graph.\n",
    "\n",
    "For a path graph of n nodes, \n",
    "    find the minimum height trees is trivial. \n",
    "    Just designate the middle point(s) as roots.\n",
    "\n",
    "Despite its triviality, \n",
    "    let design a algorithm to find them.\n",
    "\n",
    "Suppose we don't know n, nor do we have random access of the nodes. \n",
    "    We have to traversal. \n",
    "        It is very easy to get the idea of two pointers. \n",
    "    One from each end and move at the same speed. When they meet or they are one step away, \n",
    "    (depends on the parity of n), we have the roots we want.\n",
    "\n",
    "This gives us a lot of useful ideas to crack our real problem.\n",
    "\n",
    "For a tree we can do some thing similar. \n",
    "    We start from every end, by end we mean vertex of degree 1 (aka leaves). \n",
    "    We let the pointers move the same speed. When two pointers meet, \n",
    "    we keep only one of them, until the last two pointers meet or one step away we then find the roots.\n",
    "\n",
    "It is easy to see that the last two pointers are from the two ends of the longest path in the graph.\n",
    "\n",
    "The actual implementation is similar to the BFS topological sort. \n",
    "Remove the leaves, update the degrees of inner vertexes. \n",
    "Then remove the new leaves. Doing so level by level until there are 2 or 1 nodes left. What's left is our answer!\n",
    "\n",
    "The time complexity and space complexity are both O(n).\n",
    "\n",
    "Note that for a tree we always have V = n, E = n-1.\n",
    "*/"
   ]
  },
  {
   "cell_type": "code",
   "execution_count": 50,
   "metadata": {},
   "outputs": [],
   "source": [
    "public List<Integer> findMinHeightTrees(int n, int[][] edges) {\n",
    "    if (n == 1) return Collections.singletonList(0);\n",
    "\n",
    "    List<Set<Integer>> adj = new ArrayList<>(n);\n",
    "    for (int i = 0; i < n; ++i) adj.add(new HashSet<>());\n",
    "    for (int[] edge : edges) {\n",
    "        adj.get(edge[0]).add(edge[1]);\n",
    "        adj.get(edge[1]).add(edge[0]);\n",
    "    }\n",
    "\n",
    "    List<Integer> leaves = new ArrayList<>();\n",
    "    for (int i = 0; i < n; ++i)\n",
    "        if (adj.get(i).size() == 1) leaves.add(i);\n",
    "\n",
    "    while (n > 2) {\n",
    "        n -= leaves.size();\n",
    "        List<Integer> newLeaves = new ArrayList<>();\n",
    "        for (int i : leaves) {\n",
    "            int j = adj.get(i).iterator().next();\n",
    "            adj.get(j).remove(i);\n",
    "            if (adj.get(j).size() == 1) newLeaves.add(j);\n",
    "        }\n",
    "        leaves = newLeaves;\n",
    "    }\n",
    "    return leaves;\n",
    "}"
   ]
  },
  {
   "cell_type": "code",
   "execution_count": 51,
   "metadata": {},
   "outputs": [
    {
     "name": "stdout",
     "output_type": "stream",
     "text": [
      "3\n",
      "4\n"
     ]
    }
   ],
   "source": [
    "int n = 6;\n",
    "int[][] edges ={{0, 3}, {1, 3}, {2, 3}, {4, 3}, {5, 4}};\n",
    "List<Integer> ans  = findMinHeightTrees(n,edges);\n",
    "for(int val:ans){\n",
    "    System.out.println(val);\n",
    "}"
   ]
  },
  {
   "cell_type": "code",
   "execution_count": null,
   "metadata": {},
   "outputs": [],
   "source": []
  }
 ],
 "metadata": {
  "kernelspec": {
   "display_name": "Java",
   "language": "java",
   "name": "java"
  },
  "language_info": {
   "codemirror_mode": "java",
   "file_extension": ".jshell",
   "mimetype": "text/x-java-source",
   "name": "Java",
   "pygments_lexer": "java",
   "version": "11.0.6+8-LTS"
  },
  "toc": {
   "base_numbering": 1,
   "nav_menu": {},
   "number_sections": true,
   "sideBar": true,
   "skip_h1_title": true,
   "title_cell": "Table of Contents",
   "title_sidebar": "Contents",
   "toc_cell": false,
   "toc_position": {},
   "toc_section_display": true,
   "toc_window_display": true
  }
 },
 "nbformat": 4,
 "nbformat_minor": 2
}
