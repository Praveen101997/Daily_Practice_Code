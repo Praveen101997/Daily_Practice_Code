{
 "cells": [
  {
   "cell_type": "markdown",
   "metadata": {},
   "source": [
    "# -------------------------------------MATRIX TOPIC-------------------------------------\n",
    "**==============================================================================**\n",
    "# Assembled By - Praveen Kumar Sharma\n",
    "# Source - GeeksForGeeks\n",
    "**==============================================================================**"
   ]
  },
  {
   "cell_type": "code",
   "execution_count": 1,
   "metadata": {},
   "outputs": [],
   "source": [
    "import java.util.*;\n",
    "import java.io.*;\n",
    "import java.util.Arrays;\n",
    "String[] args =new String[0];"
   ]
  },
  {
   "cell_type": "markdown",
   "metadata": {},
   "source": [
    "## **132. Zigzag (or diagonal) traversal of Matrix**\n",
    "https://www.geeksforgeeks.org/zigzag-or-diagonal-traversal-of-matrix/"
   ]
  },
  {
   "cell_type": "code",
   "execution_count": 2,
   "metadata": {},
   "outputs": [],
   "source": [
    "/*\n",
    "Given a 2D matrix, print all elements of the given matrix in diagonal order. \n",
    "For example, consider the following 5 X 4 input matrix.\n",
    "    1     2     3     4\n",
    "    5     6     7     8\n",
    "    9    10    11    12\n",
    "   13    14    15    16\n",
    "   17    18    19    20\n",
    "   \n",
    "Diagonal printing of the above matrix is\n",
    "\n",
    "    1\n",
    "    5     2\n",
    "    9     6     3\n",
    "   13    10     7     4\n",
    "   17    14    11     8\n",
    "   18    15    12\n",
    "   19    16\n",
    "   20\n",
    "*/"
   ]
  },
  {
   "cell_type": "markdown",
   "metadata": {},
   "source": [
    "<img src = \"https://media.geeksforgeeks.org/wp-content/uploads/zigzag-1.png\"/>"
   ]
  },
  {
   "cell_type": "code",
   "execution_count": 3,
   "metadata": {},
   "outputs": [],
   "source": [
    "/*\n",
    "Following is the code for diagonal printing.\n",
    "\n",
    "The diagonal printing of a given matrix “matrix[ROW][COL]” always has “ROW + COL – 1” lines in output.\n",
    "*/"
   ]
  },
  {
   "cell_type": "code",
   "execution_count": 4,
   "metadata": {},
   "outputs": [],
   "source": [
    "static final int ROW = 5; \n",
    "static final int COL = 4; \n",
    "\n",
    "// A utility function to find min  \n",
    "// of two integers \n",
    "static int min(int a, int b) { \n",
    "    return (a < b) ? a : b; \n",
    "} \n",
    "\n",
    "// A utility function to find min \n",
    "// of three integers \n",
    "static int min(int a, int b, int c) { \n",
    "    return min(min(a, b), c); \n",
    "} \n",
    "\n",
    "// A utility function to find max  \n",
    "// of two integers \n",
    "static int max(int a, int b) {  \n",
    "    return (a > b) ? a : b; \n",
    "} "
   ]
  },
  {
   "cell_type": "code",
   "execution_count": 5,
   "metadata": {},
   "outputs": [],
   "source": [
    "// The main function that prints given \n",
    "// matrix in diagonal order \n",
    "static void diagonalOrder(int matrix[][]) { \n",
    "  \n",
    "    // There will be ROW+COL-1 lines in the output \n",
    "    for (int line = 1; line <= (ROW + COL - 1); line++) { \n",
    "  \n",
    "    // Get column index of the first element in this \n",
    "    // line of output.The index is 0 for first ROW \n",
    "    // lines and line - ROW for remaining lines \n",
    "    int start_col = max(0, line - ROW); \n",
    "  \n",
    "    // Get count of elements in this line. The count \n",
    "    // of elements is equal to minimum of line number, \n",
    "    // COL-start_col and ROW  \n",
    "    int count = min(line, (COL - start_col), ROW); \n",
    "  \n",
    "    // Print elements of this line  \n",
    "    for (int j = 0; j < count; j++) \n",
    "        System.out.print(matrix[min(ROW, line) - j - 1] \n",
    "                            [start_col + j] + \" \"); \n",
    "  \n",
    "    // Print elements of next diagonal on next line \n",
    "    System.out.println(); \n",
    "    } \n",
    "} "
   ]
  },
  {
   "cell_type": "code",
   "execution_count": 6,
   "metadata": {},
   "outputs": [],
   "source": [
    "// Utility function to print a matrix \n",
    "static void printMatrix(int matrix[][]) { \n",
    "    for (int i = 0; i < ROW; i++) { \n",
    "    for (int j = 0; j < COL; j++) \n",
    "        System.out.print(matrix[i][j] + \" \"); \n",
    "    System.out.print(\"\\n\"); \n",
    "    } \n",
    "} "
   ]
  },
  {
   "cell_type": "code",
   "execution_count": 7,
   "metadata": {},
   "outputs": [
    {
     "name": "stdout",
     "output_type": "stream",
     "text": [
      "Given matrix is \n",
      "1 2 3 4 \n",
      "5 6 7 8 \n",
      "9 10 11 12 \n",
      "13 14 15 16 \n",
      "17 18 19 20 \n",
      "\n",
      "Diagonal printing of matrix is \n"
     ]
    },
    {
     "ename": "UnresolvedReferenceException",
     "evalue": "Attempt to use definition snippet with unresolved references in MethodSnippet:min/(int,int,int)int- \n\n// A utility function to find min \n// of three integers \nstatic int min(int a, int b, int c) { \n    return min(min(a, b), c); \n}",
     "output_type": "error",
     "traceback": []
    }
   ],
   "source": [
    "// Driver code \n",
    "public static void main(String[] args) { \n",
    "    int M[][] = { \n",
    "        {1, 2, 3, 4},     {5, 6, 7, 8},     {9, 10, 11, 12}, \n",
    "        {13, 14, 15, 16}, {17, 18, 19, 20}, \n",
    "    }; \n",
    "    System.out.print(\"Given matrix is \\n\"); \n",
    "    printMatrix(M); \n",
    "  \n",
    "    System.out.print(\"\\nDiagonal printing of matrix is \\n\"); \n",
    "    diagonalOrder(M); \n",
    "} \n",
    "main(args);"
   ]
  },
  {
   "cell_type": "code",
   "execution_count": 8,
   "metadata": {},
   "outputs": [
    {
     "name": "stdout",
     "output_type": "stream",
     "text": [
      "Given matrix is \n",
      "1 2 3 4 \n",
      "5 6 7 8 \n",
      "9 10 11 12 \n",
      "13 14 15 16 \n",
      "17 18 19 20 \n",
      "\n",
      "Diagonal printing of matrix is \n",
      "1 \n",
      "5 2 \n",
      "9 6 3 \n",
      "13 10 7 4 \n",
      "17 14 11 8 \n",
      "18 15 12 \n",
      "19 16 \n",
      "20 \n"
     ]
    }
   ],
   "source": [
    "class GFG { \n",
    "    static final int ROW = 5; \n",
    "    static final int COL = 4; \n",
    "\n",
    "    // A utility function to find min \n",
    "    // of two integers \n",
    "    static int min(int a, int b) { \n",
    "        return (a < b) ? a : b; \n",
    "    } \n",
    "\n",
    "    // A utility function to find min \n",
    "    // of three integers \n",
    "    static int min(int a, int b, int c) { \n",
    "        return min(min(a, b), c); \n",
    "    } \n",
    "\n",
    "    // A utility function to find max \n",
    "    // of two integers \n",
    "    static int max(int a, int b) { \n",
    "        return (a > b) ? a : b; \n",
    "    } \n",
    "\n",
    "    // The main function that prints given \n",
    "    // matrix in diagonal order \n",
    "    static void diagonalOrder(int matrix[][]) { \n",
    "    // There will be ROW+COL-1 lines in the output \n",
    "        for (int line = 1; line <= (ROW + COL - 1); line++) { \n",
    "            // Get column index of the first element in this \n",
    "            // line of output.The index is 0 for first ROW \n",
    "            // lines and line - ROW for remaining lines \n",
    "            int start_col = max(0, line - ROW); \n",
    "\n",
    "            // Get count of elements in this line. The count \n",
    "            // of elements is equal to minimum of line number, \n",
    "            // COL-start_col and ROW \n",
    "            int count = min(line, (COL - start_col), ROW); \n",
    "\n",
    "            // Print elements of this line \n",
    "            for (int j = 0; j < count; j++) \n",
    "                System.out.print(matrix[min(ROW, line) - j - 1][start_col + j] + \" \"); \n",
    "                // Print elements of next diagonal on next line \n",
    "            System.out.println(); \n",
    "        } \n",
    "    } \n",
    "\n",
    "    // Utility function to print a matrix \n",
    "    static void printMatrix(int matrix[][]) { \n",
    "        for (int i = 0; i < ROW; i++) { \n",
    "            for (int j = 0; j < COL; j++) \n",
    "                System.out.print(matrix[i][j] + \" \"); \n",
    "            System.out.print(\"\\n\"); \n",
    "        } \n",
    "    } \n",
    "\n",
    "    // Driver code \n",
    "    public static void main(String[] args) { \n",
    "        int M[][] = { {1, 2, 3, 4},\n",
    "                      {5, 6, 7, 8},\n",
    "                      {9, 10, 11, 12}, \n",
    "                      {13, 14, 15, 16}, \n",
    "                      {17, 18, 19, 20}}; \n",
    "        System.out.print(\"Given matrix is \\n\"); \n",
    "        printMatrix(M); \n",
    "\n",
    "        System.out.print(\"\\nDiagonal printing of matrix is \\n\"); \n",
    "        diagonalOrder(M); \n",
    "    } \n",
    "} \n",
    " \n",
    "GFG.main(args);"
   ]
  },
  {
   "cell_type": "code",
   "execution_count": 9,
   "metadata": {},
   "outputs": [],
   "source": [
    "/*\n",
    "Below is an Alternate Method to solve the above problem.\n",
    "\n",
    "Matrix =>       1     2     3     4\n",
    "                5     6     7     8\n",
    "                9     10    11   12\n",
    "                13    14    15   16\n",
    "                17    18    19   20 \n",
    "   \n",
    "Observe the sequence\n",
    "          1 /  2 /  3 /  4\n",
    "           / 5  /  6 /  7 /  8\n",
    "               /  9 / 10 / 11 / 12\n",
    "                   / 13 / 14 / 15 / 16\n",
    "                       / 17 / 18 / 19 / 20\n",
    "*/"
   ]
  },
  {
   "cell_type": "code",
   "execution_count": 10,
   "metadata": {},
   "outputs": [],
   "source": [
    "public static  boolean isValid(int i, int j) \n",
    " { \n",
    "     if (i < 0 || i >= R || j >= C || j < 0) return false; \n",
    "     return true; \n",
    " } "
   ]
  },
  {
   "cell_type": "code",
   "execution_count": 11,
   "metadata": {},
   "outputs": [],
   "source": [
    "public static int R,C; \n",
    "       \n",
    "private void diagonalOrder(int[][] arr) {  \n",
    "     /* through this for loop we choose each element \n",
    "     of first column as starting point and print  \n",
    "     diagonal starting at it. arr[0][0], arr[1][0] \n",
    "     ....arr[R-1][0] are all starting points */\n",
    "     for (int k = 0; k < R; k++) \n",
    "     { \n",
    "         System.out.print(arr[k][0] + \" \"); \n",
    "\n",
    "         int i = k - 1;    // set row index for next \n",
    "                           // point in diagonal \n",
    "         int j = 1;       //  set column index for  \n",
    "                          // next point in diagonal \n",
    "\n",
    "         /* Print Diagonally upward */\n",
    "         while (isValid(i, j)) \n",
    "         { \n",
    "             System.out.print(arr[i][j] + \" \"); \n",
    "\n",
    "             i--; \n",
    "             j++;    // move in upright direction \n",
    "         } \n",
    "\n",
    "         System.out.println(\"\"); \n",
    "     } \n",
    "\n",
    "     /* through this for loop we choose each element \n",
    "        of last row as starting point (except the  \n",
    "        [0][c-1] it has already been processed in  \n",
    "        previous for loop) and print diagonal  \n",
    "        starting at it. arr[R-1][0], arr[R-1][1].... \n",
    "        arr[R-1][c-1] are all starting points */\n",
    "\n",
    "     // Note : we start from k = 1 to C-1; \n",
    "     for (int k = 1; k < C; k++) \n",
    "     { \n",
    "         System.out.print(arr[R-1][k] + \" \"); \n",
    "\n",
    "         int i = R - 2; // set row index for next  \n",
    "                        // point in diagonal \n",
    "         int j = k + 1; // set column index for   \n",
    "                        // next point in diagonal \n",
    "\n",
    "         /* Print Diagonally upward */\n",
    "         while (isValid(i, j)) \n",
    "         { \n",
    "             System.out.print(arr[i][j] + \" \"); \n",
    "\n",
    "             i--; \n",
    "             j++; // move in upright direction \n",
    "         } \n",
    "\n",
    "         System.out.println(\"\"); \n",
    "     } \n",
    " } "
   ]
  },
  {
   "cell_type": "code",
   "execution_count": 12,
   "metadata": {},
   "outputs": [
    {
     "name": "stdout",
     "output_type": "stream",
     "text": [
      "1 \n",
      "5 2 \n",
      "9 6 3 \n",
      "13 10 7 4 \n",
      "17 14 11 8 \n",
      "18 15 12 \n",
      "19 16 \n",
      "20 \n"
     ]
    }
   ],
   "source": [
    "// driver program to test above function \n",
    "public static void main(String[] args) { \n",
    "  int arr[][] = { {1, 2, 3, 4}, \n",
    "                  {5, 6, 7, 8}, \n",
    "                  {9, 10, 11, 12}, \n",
    "                  {13, 14, 15, 16}, \n",
    "                  {17, 18, 19, 20}, }; \n",
    "\n",
    "  R=arr.length; \n",
    "  C=arr[0].length; \n",
    "\n",
    "  diagonalOrder(arr); \n",
    "} \n",
    "main(args);"
   ]
  },
  {
   "cell_type": "markdown",
   "metadata": {},
   "source": [
    "**Related Link**\n",
    "\n",
    "***https://www.geeksforgeeks.org/print-matrix-antispiral-form/***\n",
    "\n",
    "***https://www.geeksforgeeks.org/print-a-given-matrix-in-spiral-form/***\n",
    "\n",
    "***https://www.geeksforgeeks.org/print-given-matrix-zigzag-form/***"
   ]
  },
  {
   "cell_type": "markdown",
   "metadata": {},
   "source": [
    "## **133. Create a matrix with alternating rectangles of O and X**\n",
    "https://www.geeksforgeeks.org/create-a-matrix-with-alternating-rectangles-of-0-and-x/"
   ]
  },
  {
   "cell_type": "code",
   "execution_count": 13,
   "metadata": {},
   "outputs": [],
   "source": [
    "/*\n",
    "Write a code which inputs two numbers m and n \n",
    "and creates a matrix of size m x n (m rows and n columns) in which every elements is either X or 0. \n",
    "\n",
    "The Xs and 0s must be filled alternatively, \n",
    "    the matrix should have outermost rectangle of Xs, then a rectangle of 0s, then a rectangle of Xs, and so on.\n",
    "*/"
   ]
  },
  {
   "cell_type": "code",
   "execution_count": 14,
   "metadata": {},
   "outputs": [],
   "source": [
    "/*\n",
    "Examples:\n",
    "\n",
    "Input: m = 3, n = 3\n",
    "Output: Following matrix \n",
    "X X X\n",
    "X 0 X\n",
    "X X X\n",
    "\n",
    "Input: m = 4, n = 5\n",
    "Output: Following matrix\n",
    "X X X X X\n",
    "X 0 0 0 X\n",
    "X 0 0 0 X\n",
    "X X X X X\n",
    "\n",
    "Input:  m = 5, n = 5\n",
    "Output: Following matrix\n",
    "X X X X X\n",
    "X 0 0 0 X\n",
    "X 0 X 0 X\n",
    "X 0 0 0 X\n",
    "X X X X X\n",
    "\n",
    "Input:  m = 6, n = 7\n",
    "Output: Following matrix\n",
    "X X X X X X X\n",
    "X 0 0 0 0 0 X\n",
    "X 0 X X X 0 X\n",
    "X 0 X X X 0 X\n",
    "X 0 0 0 0 0 X\n",
    "X X X X X X X \n",
    "*/"
   ]
  },
  {
   "cell_type": "code",
   "execution_count": 15,
   "metadata": {},
   "outputs": [],
   "source": [
    "/*\n",
    "Time Complexity: O(mn)\n",
    "Auxiliary Space: O(mn)\n",
    "\n",
    "\n",
    "1) Use the code for Printing Matrix in Spiral form.\n",
    "2) Instead of printing the array, inserted the element ‘X’ or ‘0’ alternatively in the array.\n",
    "\n",
    "Following is implementation of the above approach.\n",
    "*/"
   ]
  },
  {
   "cell_type": "markdown",
   "metadata": {},
   "source": [
    "***https://www.geeksforgeeks.org/print-a-given-matrix-in-spiral-form/***"
   ]
  },
  {
   "cell_type": "code",
   "execution_count": 16,
   "metadata": {},
   "outputs": [],
   "source": [
    "// Function to print alternating \n",
    "// rectangles of 0 and X \n",
    " static void fill0X(int m, int n) \n",
    "{ \n",
    "    /* k - starting row index \n",
    "        m - ending row index \n",
    "        l - starting column index \n",
    "        n - ending column index \n",
    "        i - iterator */\n",
    "    int i, k = 0, l = 0; \n",
    "  \n",
    "    // Store given number of rows \n",
    "        // and columns for later use \n",
    "    int r = m, c = n; \n",
    "  \n",
    "    // A 2D array to store \n",
    "        // the output to be printed \n",
    "    char a[][] = new char[m][n]; \n",
    "  \n",
    "        // Iniitialize the character \n",
    "        // to be stoed in a[][] \n",
    "    char x = 'X';  \n",
    "  \n",
    "    // Fill characters in a[][] in spiral \n",
    "        // form. Every iteration fills \n",
    "    // one rectangle of either Xs or Os \n",
    "    while (k < m && l < n) \n",
    "    { \n",
    "        /* Fill the first row from the remaining rows */\n",
    "        for (i = l; i < n; ++i) \n",
    "            a[k][i] = x; \n",
    "        k++; \n",
    "  \n",
    "        /* Fill the last column from the remaining columns */\n",
    "        for (i = k; i < m; ++i) \n",
    "            a[i][n-1] = x; \n",
    "        n--; \n",
    "  \n",
    "        /* Fill the last row from the remaining rows */\n",
    "        if (k < m) \n",
    "        { \n",
    "            for (i = n-1; i >= l; --i) \n",
    "                a[m-1][i] = x; \n",
    "            m--; \n",
    "        } \n",
    "  \n",
    "        /* Print the first column \n",
    "                // from the remaining columns */\n",
    "        if (l < n) \n",
    "        { \n",
    "            for (i = m-1; i >= k; --i) \n",
    "                a[i][l] = x; \n",
    "            l++; \n",
    "        } \n",
    "  \n",
    "        // Flip character for next iteration \n",
    "        x = (x == '0')? 'X': '0'; \n",
    "    } \n",
    "  \n",
    "    // Print the filled matrix \n",
    "    for (i = 0; i < r; i++) \n",
    "    { \n",
    "        for (int j = 0; j < c; j++) \n",
    "            System.out.print(a[i][j] + \" \"); \n",
    "        System.out.println(); \n",
    "    } \n",
    "} "
   ]
  },
  {
   "cell_type": "code",
   "execution_count": 17,
   "metadata": {},
   "outputs": [
    {
     "name": "stdout",
     "output_type": "stream",
     "text": [
      "Output for m = 5, n = 6\n",
      "X X X X X X \n",
      "X 0 0 0 0 X \n",
      "X 0 X X 0 X \n",
      "X 0 0 0 0 X \n",
      "X X X X X X \n",
      "Output for m = 4, n = 4\n",
      "X X X X \n",
      "X 0 0 X \n",
      "X 0 0 X \n",
      "X X X X \n",
      "Output for m = 3, n = 4\n",
      "X X X X \n",
      "X 0 0 X \n",
      "X X X X \n"
     ]
    }
   ],
   "source": [
    "/* Driver program to test above functions */\n",
    "public static void main (String[] args) { \n",
    "  \n",
    "    System.out.println(\"Output for m = 5, n = 6\"); \n",
    "    fill0X(5, 6); \n",
    "  \n",
    "    System.out.println(\"Output for m = 4, n = 4\"); \n",
    "    fill0X(4, 4); \n",
    "  \n",
    "    System.out.println(\"Output for m = 3, n = 4\"); \n",
    "    fill0X(3, 4); \n",
    "          \n",
    "}\n",
    "main(args);"
   ]
  },
  {
   "cell_type": "markdown",
   "metadata": {},
   "source": [
    "## **134. Print all elements in sorted order from row and column wise sorted matrix**\n",
    "https://www.geeksforgeeks.org/print-elements-sorted-order-row-column-wise-sorted-matrix/"
   ]
  },
  {
   "cell_type": "code",
   "execution_count": 18,
   "metadata": {},
   "outputs": [],
   "source": [
    "/*\n",
    "Given an n x n matrix, where every row and column is sorted in non-decreasing order. \n",
    "Print all elements of matrix in sorted order.\n",
    "*/"
   ]
  },
  {
   "cell_type": "code",
   "execution_count": 19,
   "metadata": {},
   "outputs": [],
   "source": [
    "/*\n",
    "Example:\n",
    "\n",
    "Input: mat[][]  =  { {10, 20, 30, 40},\n",
    "                     {15, 25, 35, 45},\n",
    "                     {27, 29, 37, 48},\n",
    "                     {32, 33, 39, 50},\n",
    "                   };\n",
    "\n",
    "Output:\n",
    "Elements of matrix in sorted order\n",
    "10 15 20 25 27 29 30 32 33 35 37 39 40 45 48 50\n",
    "*/"
   ]
  },
  {
   "cell_type": "code",
   "execution_count": 20,
   "metadata": {},
   "outputs": [],
   "source": [
    "/*\n",
    "We can use Young Tableau to solve the above problem. \n",
    "The idea is to consider given 2D array as Young Tableau and call extract minimum O(N)\n",
    "*/"
   ]
  },
  {
   "cell_type": "markdown",
   "metadata": {},
   "source": [
    "***http://en.wikipedia.org/wiki/Young_tableau***"
   ]
  },
  {
   "cell_type": "code",
   "execution_count": 21,
   "metadata": {},
   "outputs": [
    {
     "name": "stdout",
     "output_type": "stream",
     "text": [
      "Elements of matrix in sorted order n\n",
      "10 15 20 25 27 29 30 32 33 35 37 39 40 45 48 50 "
     ]
    }
   ],
   "source": [
    "static final int INF = Integer.MAX_VALUE; \n",
    "static final int N = 4; \n",
    "\n",
    "// A utility function to youngify a Young Tableau.  \n",
    "// This is different from standard youngify.  \n",
    "// It assumes that the value at mat[0][0] is infinite.  \n",
    "static void youngify(int mat[][], int i, int j) \n",
    "{ \n",
    "    // Find the values at down and right sides of mat[i][j]  \n",
    "    int downVal = (i + 1 < N) ?  \n",
    "                mat[i + 1][j] : INF; \n",
    "    int rightVal = (j + 1 < N) ?  \n",
    "                 mat[i][j + 1] : INF; \n",
    "\n",
    "    // If mat[i][j] is the down right corner element,  \n",
    "    // return  \n",
    "    if (downVal == INF && rightVal == INF)  \n",
    "    { \n",
    "        return; \n",
    "    } \n",
    "\n",
    "    // Move the smaller of two values  \n",
    "    // (downVal and rightVal) to mat[i][j]  \n",
    "    // and recur for smaller value  \n",
    "    if (downVal < rightVal) \n",
    "    { \n",
    "        mat[i][j] = downVal; \n",
    "        mat[i + 1][j] = INF; \n",
    "        youngify(mat, i + 1, j); \n",
    "    }  \n",
    "    else \n",
    "    { \n",
    "        mat[i][j] = rightVal; \n",
    "        mat[i][j + 1] = INF; \n",
    "        youngify(mat, i, j + 1); \n",
    "    } \n",
    "} \n",
    "\n",
    "// A utility function to extract  \n",
    "// minimum element from Young tableau  \n",
    "static int extractMin(int mat[][])  \n",
    "{ \n",
    "    int ret = mat[0][0]; \n",
    "    mat[0][0] = INF; \n",
    "    youngify(mat, 0, 0); \n",
    "    return ret; \n",
    "} \n",
    "\n",
    "// This function uses extractMin()  \n",
    "// to print elements in sorted order  \n",
    "static void printSorted(int mat[][])  \n",
    "{ \n",
    "    System.out.println(\"Elements of matrix in sorted order n\"); \n",
    "    for (int i = 0; i < N * N; i++)  \n",
    "    { \n",
    "        System.out.print(extractMin(mat) + \" \"); \n",
    "    } \n",
    "} \n",
    "\n",
    "// Driver Code \n",
    "public static void main(String args[])  \n",
    "{ \n",
    "    int mat[][] = {{10, 20, 30, 40}, \n",
    "                   {15, 25, 35, 45}, \n",
    "                   {27, 29, 37, 48}, \n",
    "                   {32, 33, 39, 50}}; \n",
    "    printSorted(mat); \n",
    "} \n",
    "main(args);"
   ]
  },
  {
   "cell_type": "code",
   "execution_count": 22,
   "metadata": {},
   "outputs": [],
   "source": [
    "/*\n",
    "Time complexity of extract minimum is O(N) and it is called O(N^2) times.\n",
    "Therefore the overall time complexity is O(N^3).\n",
    "*/"
   ]
  },
  {
   "cell_type": "code",
   "execution_count": 23,
   "metadata": {},
   "outputs": [],
   "source": [
    "/*\n",
    "A better solution is to use the approach used for merging k sorted arrays. \n",
    "The idea is to use a Min Heap of size N which stores elements of first column. \n",
    "The do extract minimum.\n",
    "In extract minimum, replace the minimum element with the next element of the row from which the element is extracted. \n",
    "Time complexity of this solution is O(N^2LogN).\n",
    "*/"
   ]
  },
  {
   "cell_type": "markdown",
   "metadata": {},
   "source": [
    "***https://ideone.com/Bp5hL9***"
   ]
  },
  {
   "cell_type": "markdown",
   "metadata": {},
   "source": [
    "## **135. Inplace rotate square matrix by 90 degrees | Set 1**\n",
    "https://www.geeksforgeeks.org/inplace-rotate-square-matrix-by-90-degrees/"
   ]
  },
  {
   "cell_type": "code",
   "execution_count": 24,
   "metadata": {},
   "outputs": [],
   "source": [
    "/*\n",
    "Given an square matrix, turn it by 90 degrees in anti-clockwise direction without using any extra space.\n",
    "*/"
   ]
  },
  {
   "cell_type": "code",
   "execution_count": 25,
   "metadata": {},
   "outputs": [],
   "source": [
    "/*\n",
    "Examples :\n",
    "\n",
    "Input\n",
    " 1  2  3\n",
    " 4  5  6\n",
    " 7  8  9\n",
    "\n",
    "Output:\n",
    " 3  6  9 \n",
    " 2  5  8 \n",
    " 1  4  7 \n",
    "\n",
    "Input:\n",
    " 1  2  3  4 \n",
    " 5  6  7  8 \n",
    " 9 10 11 12 \n",
    "13 14 15 16 \n",
    "\n",
    "Output:\n",
    " 4  8 12 16 \n",
    " 3  7 11 15 \n",
    " 2  6 10 14 \n",
    " 1  5  9 13\n",
    " */"
   ]
  },
  {
   "cell_type": "code",
   "execution_count": 26,
   "metadata": {},
   "outputs": [],
   "source": [
    "/*\n",
    "How to do without extra space?\n",
    "\n",
    "Below are some important observations.\n",
    "\n",
    "First row of source –> First column of destination, elements filled in opposite order\n",
    "Second row of source –> Second column of destination, elements filled in opposite order\n",
    "so … on\n",
    "\n",
    "Last row of source –> Last column of destination, elements filled in opposite order.\n",
    "An N x N matrix will have floor(N/2) square cycles. \n",
    "    For example, a 4 X 4 matrix will have 2 cycles. \n",
    "        The first cycle is formed by its 1st row, last column, last row and 1st column. \n",
    "        The second cycle is formed by 2nd row, second-last column, second-last row and 2nd column.\n",
    "The idea is for each square cycle, \n",
    "    we swap the elements involved with the corresponding cell in the matrix in anti-clockwise direction \n",
    "    i.e. from top to left, left to bottom, bottom to right and from right to top one at a time.\n",
    "We use nothing but a temporary variable to achieve this.\n",
    "*/"
   ]
  },
  {
   "cell_type": "markdown",
   "metadata": {},
   "source": [
    "<img src = \"data:image/png;base64,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\"/>"
   ]
  },
  {
   "cell_type": "code",
   "execution_count": 27,
   "metadata": {},
   "outputs": [],
   "source": [
    "// An Inplace function to rotate a N x N matrix \n",
    "// by 90 degrees in anti-clockwise direction \n",
    "static void rotateMatrix(int N, int mat[][]) \n",
    "{ \n",
    "    // Consider all squares one by one \n",
    "    for (int x = 0; x < N / 2; x++) \n",
    "    { \n",
    "        // Consider elements in group of 4 in  \n",
    "        // current square \n",
    "        for (int y = x; y < N-x-1; y++) \n",
    "        { \n",
    "            // store current cell in temp variable \n",
    "            int temp = mat[x][y]; \n",
    "\n",
    "            // move values from right to top \n",
    "            mat[x][y] = mat[y][N-1-x]; \n",
    "\n",
    "            // move values from bottom to right \n",
    "            mat[y][N-1-x] = mat[N-1-x][N-1-y]; \n",
    "\n",
    "            // move values from left to bottom \n",
    "            mat[N-1-x][N-1-y] = mat[N-1-y][x]; \n",
    "\n",
    "            // assign temp to left \n",
    "            mat[N-1-y][x] = temp; \n",
    "        } \n",
    "    } \n",
    "} "
   ]
  },
  {
   "cell_type": "code",
   "execution_count": 28,
   "metadata": {},
   "outputs": [],
   "source": [
    "// Function to print the matrix \n",
    "static void displayMatrix(int N, int mat[][]) \n",
    "{ \n",
    "    for (int i = 0; i < N; i++) \n",
    "    { \n",
    "        for (int j = 0; j < N; j++) \n",
    "            System.out.print(\" \" + mat[i][j]); \n",
    "\n",
    "        System.out.print(\"\\n\"); \n",
    "    } \n",
    "    System.out.print(\"\\n\"); \n",
    "} "
   ]
  },
  {
   "cell_type": "code",
   "execution_count": 29,
   "metadata": {},
   "outputs": [
    {
     "name": "stdout",
     "output_type": "stream",
     "text": [
      " 4 8 12 16\n",
      " 3 7 11 15\n",
      " 2 6 10 14\n",
      " 1 5 9 13\n",
      "\n"
     ]
    }
   ],
   "source": [
    "/* Driver program to test above functions */\n",
    "public static void main (String[] args)  \n",
    "{ \n",
    "    int N = 4; \n",
    "\n",
    "    // Test Case 1 \n",
    "    int mat[][] = \n",
    "    { \n",
    "        {1, 2, 3, 4}, \n",
    "        {5, 6, 7, 8}, \n",
    "        {9, 10, 11, 12}, \n",
    "        {13, 14, 15, 16} \n",
    "    }; \n",
    "\n",
    "\n",
    "    // Tese Case 2 \n",
    "    /* int mat[][] = { \n",
    "                        {1, 2, 3}, \n",
    "                        {4, 5, 6}, \n",
    "                        {7, 8, 9} \n",
    "                    }; \n",
    "     */\n",
    "\n",
    "    // Tese Case 3 \n",
    "    /*int mat[][] = { \n",
    "                    {1, 2}, \n",
    "                    {4, 5} \n",
    "                };*/\n",
    "\n",
    "    // displayMatrix(mat); \n",
    "\n",
    "    rotateMatrix(N,mat); \n",
    "\n",
    "    // Print rotated matrix \n",
    "    displayMatrix(N,mat); \n",
    "} \n",
    "main(args);"
   ]
  },
  {
   "cell_type": "code",
   "execution_count": 30,
   "metadata": {},
   "outputs": [],
   "source": [
    "/*\n",
    "Another approach is discussed which is much simpler than the above approach.\n",
    "\n",
    "There are two steps :\n",
    "\n",
    "1. Find transpose of matrix.\n",
    "2. Reverse columns of the transpose.\n",
    "\n",
    "Time complexity :O(R*C)\n",
    "Space complexity :O(1)\n",
    "*/"
   ]
  },
  {
   "cell_type": "code",
   "execution_count": 31,
   "metadata": {},
   "outputs": [],
   "source": [
    "/*\n",
    "Illustration of above steps :\n",
    "\n",
    "Let the given matrix be\n",
    "1  2  3  4\n",
    "5  6  7  8\n",
    "9  10 11 12\n",
    "13 14 15 16\n",
    "\n",
    "First we find transpose.\n",
    "1 5 9 13\n",
    "2 6 10 14\n",
    "3 7 11 15\n",
    "4 8 12 16\n",
    "\n",
    "Then we reverse elements of every column.\n",
    "4 8 12 16\n",
    "3 7 11 15\n",
    "2 6 10 14\n",
    "1 5  9 13\n",
    "*/"
   ]
  },
  {
   "cell_type": "code",
   "execution_count": 32,
   "metadata": {},
   "outputs": [
    {
     "name": "stdout",
     "output_type": "stream",
     "text": [
      "4 8 12 16 \n",
      "3 7 11 15 \n",
      "2 6 10 14 \n",
      "1 5 9 13 \n"
     ]
    }
   ],
   "source": [
    "// After transpose we swap elements of \n",
    "// column one by one for finding left \n",
    "// rotation of matrix by 90 degree \n",
    "static void reverseColumns(int arr[][]) \n",
    "{ \n",
    "    for (int i = 0; i < arr[0].length; i++) \n",
    "        for (int j = 0, k = arr[0].length - 1; \n",
    "             j < k; j++, k--) { \n",
    "            int temp = arr[j][i]; \n",
    "            arr[j][i] = arr[k][i]; \n",
    "            arr[k][i] = temp; \n",
    "        } \n",
    "} \n",
    "\n",
    "// Function for do transpose of matrix \n",
    "static void transpose(int arr[][]) \n",
    "{ \n",
    "    for (int i = 0; i < arr.length; i++) \n",
    "        for (int j = i; j < arr[0].length; j++) { \n",
    "            int temp = arr[j][i]; \n",
    "            arr[j][i] = arr[i][j]; \n",
    "            arr[i][j] = temp; \n",
    "        } \n",
    "} \n",
    "\n",
    "// Function for print matrix \n",
    "static void printMatrix(int arr[][]) \n",
    "{ \n",
    "    for (int i = 0; i < arr.length; i++) { \n",
    "        for (int j = 0; j < arr[0].length; j++) \n",
    "            System.out.print(arr[i][j] + \" \"); \n",
    "        System.out.println(\"\"); \n",
    "    } \n",
    "} \n",
    "\n",
    "// Function to anticlockwise rotate \n",
    "// matrix by 90 degree \n",
    "static void rotate90(int arr[][]) \n",
    "{ \n",
    "    transpose(arr); \n",
    "    reverseColumns(arr); \n",
    "} \n",
    "\n",
    "/* Driver program to test above function */\n",
    "public static void main(String[] args) \n",
    "{ \n",
    "    int arr[][] = { { 1, 2, 3, 4 }, \n",
    "                    { 5, 6, 7, 8 }, \n",
    "                    { 9, 10, 11, 12 }, \n",
    "                    { 13, 14, 15, 16 } }; \n",
    "\n",
    "    rotate90(arr); \n",
    "    printMatrix(arr); \n",
    "} \n",
    "main(args);"
   ]
  },
  {
   "cell_type": "markdown",
   "metadata": {},
   "source": [
    "## **136. Find the number of islands | Set 1 (Using DFS)**\n",
    "https://www.geeksforgeeks.org/find-number-of-islands/"
   ]
  },
  {
   "cell_type": "code",
   "execution_count": 33,
   "metadata": {},
   "outputs": [],
   "source": [
    "/*\n",
    "Given a boolean 2D matrix, find the number of islands. \n",
    "A group of connected 1s forms an island. \n",
    "\n",
    "For example, the below matrix contains 5 islands\n",
    "*/"
   ]
  },
  {
   "cell_type": "code",
   "execution_count": 34,
   "metadata": {},
   "outputs": [],
   "source": [
    "/*\n",
    "Example:\n",
    "\n",
    "Input : mat[][] = {{1, 1, 0, 0, 0},\n",
    "                   {0, 1, 0, 0, 1},\n",
    "                   {1, 0, 0, 1, 1},\n",
    "                   {0, 0, 0, 0, 0},\n",
    "                   {1, 0, 1, 0, 1} \n",
    "Output : 5\n",
    "*/"
   ]
  },
  {
   "cell_type": "code",
   "execution_count": 35,
   "metadata": {},
   "outputs": [],
   "source": [
    "/*\n",
    "This is a variation of the standard problem: “Counting the number of connected components in an undirected graph”.\n",
    "*/"
   ]
  },
  {
   "cell_type": "markdown",
   "metadata": {},
   "source": [
    "***https://www.geeksforgeeks.org/connected-components-in-an-undirected-graph/***"
   ]
  },
  {
   "cell_type": "code",
   "execution_count": 36,
   "metadata": {},
   "outputs": [],
   "source": [
    "/*\n",
    "Before we go to the problem, let us understand what is a connected component. \n",
    "A connected component of an undirected graph is a subgraph in which every two vertices are connected to each other by a path(s), \n",
    "and which is connected to no other vertices outside the subgraph.\n",
    "\n",
    "For example, the graph shown below has three connected components.\n",
    "*/"
   ]
  },
  {
   "cell_type": "markdown",
   "metadata": {},
   "source": [
    "<img src = \"https://media.geeksforgeeks.org/wp-content/uploads/connectedcomponents.png\"/>"
   ]
  },
  {
   "cell_type": "code",
   "execution_count": 37,
   "metadata": {},
   "outputs": [],
   "source": [
    "/*\n",
    "A graph where all vertices are connected with each other has exactly one connected component, consisting of the whole graph. \n",
    "Such a graph with only one connected component is called a Strongly Connected Graph.\n",
    "\n",
    "The problem can be easily solved by applying DFS() on each component. \n",
    "In each DFS() call, \n",
    "    a component or a sub-graph is visited. \n",
    "We will call DFS on the next un-visited component. \n",
    "The number of calls to DFS() gives the number of connected components. \n",
    "\n",
    "BFS can also be used.\n",
    "*/"
   ]
  },
  {
   "cell_type": "code",
   "execution_count": 38,
   "metadata": {},
   "outputs": [],
   "source": [
    "/*\n",
    "What is an island?\n",
    "A group of connected 1s forms an island. \n",
    "For example, the below matrix contains 4 islands\n",
    "*/"
   ]
  },
  {
   "cell_type": "markdown",
   "metadata": {},
   "source": [
    "<img src = \"https://media.geeksforgeeks.org/wp-content/cdn-uploads/20190704154734/FindNumberOfIslands-1024x342.png\"/>"
   ]
  },
  {
   "cell_type": "code",
   "execution_count": 39,
   "metadata": {},
   "outputs": [],
   "source": [
    "/*\n",
    "A cell in 2D matrix can be connected to 8 neighbours. \n",
    "So, unlike standard DFS(), where we recursively call for all adjacent vertices, \n",
    "    here we can recursively call for 8 neighbours only. \n",
    "We keep track of the visited 1s so that they are not visited again.\n",
    "*/"
   ]
  },
  {
   "cell_type": "code",
   "execution_count": 40,
   "metadata": {},
   "outputs": [],
   "source": [
    "// No of rows and columns \n",
    "static final int ROW = 5, COL = 5;"
   ]
  },
  {
   "cell_type": "code",
   "execution_count": 41,
   "metadata": {},
   "outputs": [],
   "source": [
    "// A function to check if a given cell (row, col) can \n",
    "// be included in DFS \n",
    "boolean isSafe(int M[][], int row, int col, \n",
    "               boolean visited[][]) \n",
    "{ \n",
    "    // row number is in range, column number is in range \n",
    "    // and value is 1 and not yet visited \n",
    "    return (row >= 0) && (row < ROW) && (col >= 0) && (col < COL) && (M[row][col] == 1 && !visited[row][col]); \n",
    "} "
   ]
  },
  {
   "cell_type": "code",
   "execution_count": 42,
   "metadata": {},
   "outputs": [],
   "source": [
    "// A utility function to do DFS for a 2D boolean matrix. \n",
    "// It only considers the 8 neighbors as adjacent vertices \n",
    "void DFS(int M[][], int row, int col, boolean visited[][]) \n",
    "{ \n",
    "    // These arrays are used to get row and column numbers \n",
    "    // of 8 neighbors of a given cell \n",
    "    int rowNbr[] = new int[] { -1, -1, -1, 0, 0, 1, 1, 1 }; \n",
    "    int colNbr[] = new int[] { -1, 0, 1, -1, 1, -1, 0, 1 }; \n",
    "\n",
    "    // Mark this cell as visited \n",
    "    visited[row][col] = true; \n",
    "\n",
    "    // Recur for all connected neighbours \n",
    "    for (int k = 0; k < 8; ++k) \n",
    "        if (isSafe(M, row + rowNbr[k], col + colNbr[k], visited)) \n",
    "            DFS(M, row + rowNbr[k], col + colNbr[k], visited); \n",
    "} "
   ]
  },
  {
   "cell_type": "code",
   "execution_count": 43,
   "metadata": {},
   "outputs": [],
   "source": [
    "// The main function that returns count of islands in a given \n",
    "// boolean 2D matrix \n",
    "int countIslands(int M[][]) \n",
    "{ \n",
    "    // Make a bool array to mark visited cells. \n",
    "    // Initially all cells are unvisited \n",
    "    boolean visited[][] = new boolean[ROW][COL]; \n",
    "\n",
    "    // Initialize count as 0 and travese through the all cells \n",
    "    // of given matrix \n",
    "    int count = 0; \n",
    "    for (int i = 0; i < ROW; ++i) \n",
    "        for (int j = 0; j < COL; ++j) \n",
    "            if (M[i][j] == 1 && !visited[i][j]) // If a cell with \n",
    "            { // value 1 is not \n",
    "                // visited yet, then new island found, Visit all \n",
    "                // cells in this island and increment island count \n",
    "                DFS(M, i, j, visited); \n",
    "                ++count; \n",
    "            } \n",
    "\n",
    "    return count; \n",
    "} "
   ]
  },
  {
   "cell_type": "code",
   "execution_count": 44,
   "metadata": {},
   "outputs": [
    {
     "name": "stdout",
     "output_type": "stream",
     "text": [
      "Number of islands is: 5\n"
     ]
    }
   ],
   "source": [
    "// Driver method \n",
    "public static void main(String[] args) throws java.lang.Exception \n",
    "{ \n",
    "    int M[][] = new int[][] { { 1, 1, 0, 0, 0 }, \n",
    "                              { 0, 1, 0, 0, 1 }, \n",
    "                              { 1, 0, 0, 1, 1 }, \n",
    "                              { 0, 0, 0, 0, 0 }, \n",
    "                              { 1, 0, 1, 0, 1 } }; \n",
    "    System.out.println(\"Number of islands is: \" + countIslands(M)); \n",
    "} \n",
    "main(args);"
   ]
  },
  {
   "cell_type": "code",
   "execution_count": 45,
   "metadata": {},
   "outputs": [],
   "source": [
    "/*\n",
    "Time complexity: O(ROW x COL)\n",
    "*/"
   ]
  },
  {
   "cell_type": "markdown",
   "metadata": {},
   "source": [
    "**Related Link** \n",
    ">***https://www.geeksforgeeks.org/find-the-number-of-islands-set-2-using-disjoint-set/***\n",
    "\n",
    ">***https://www.geeksforgeeks.org/disjoint-set-data-structures/***"
   ]
  },
  {
   "cell_type": "markdown",
   "metadata": {},
   "source": [
    "## **137. Given a matrix of ‘O’ and ‘X’, replace ‘O’ with ‘X’ if surrounded by ‘X’**\n",
    "https://www.geeksforgeeks.org/given-matrix-o-x-replace-o-x-surrounded-x/"
   ]
  },
  {
   "cell_type": "code",
   "execution_count": 46,
   "metadata": {},
   "outputs": [],
   "source": [
    "/*\n",
    "Given a matrix where every element is either ‘O’ or ‘X’, \n",
    "    replace ‘O’ with ‘X’ if surrounded by ‘X’. \n",
    "A ‘O’ (or a set of ‘O’) is considered to be by surrounded by ‘X’ \n",
    "    if there are ‘X’ at locations just below, just above, just left and just right of it.\n",
    "*/"
   ]
  },
  {
   "cell_type": "code",
   "execution_count": 47,
   "metadata": {},
   "outputs": [],
   "source": [
    "/*\n",
    "Examples:\n",
    "\n",
    "Input: mat[M][N] =  {{'X', 'O', 'X', 'X', 'X', 'X'},\n",
    "                     {'X', 'O', 'X', 'X', 'O', 'X'},\n",
    "                     {'X', 'X', 'X', 'O', 'O', 'X'},\n",
    "                     {'O', 'X', 'X', 'X', 'X', 'X'},\n",
    "                     {'X', 'X', 'X', 'O', 'X', 'O'},\n",
    "                     {'O', 'O', 'X', 'O', 'O', 'O'},\n",
    "                    };\n",
    "Output: mat[M][N] =  {{'X', 'O', 'X', 'X', 'X', 'X'},\n",
    "                      {'X', 'O', 'X', 'X', 'X', 'X'},\n",
    "                      {'X', 'X', 'X', 'X', 'X', 'X'},\n",
    "                      {'O', 'X', 'X', 'X', 'X', 'X'},\n",
    "                      {'X', 'X', 'X', 'O', 'X', 'O'},\n",
    "                      {'O', 'O', 'X', 'O', 'O', 'O'},\n",
    "                    };\n",
    "\n",
    "Input: mat[M][N] =  {{'X', 'X', 'X', 'X'}\n",
    "                     {'X', 'O', 'X', 'X'}\n",
    "                     {'X', 'O', 'O', 'X'}\n",
    "                     {'X', 'O', 'X', 'X'}\n",
    "                     {'X', 'X', 'O', 'O'}\n",
    "                    };\n",
    "Input: mat[M][N] =  {{'X', 'X', 'X', 'X'}\n",
    "                     {'X', 'X', 'X', 'X'}\n",
    "                     {'X', 'X', 'X', 'X'}\n",
    "                     {'X', 'X', 'X', 'X'}\n",
    "                     {'X', 'X', 'O', 'O'}\n",
    "                    };\n",
    "*/"
   ]
  },
  {
   "cell_type": "code",
   "execution_count": 48,
   "metadata": {},
   "outputs": [],
   "source": [
    "/*\n",
    "This is mainly an application of Flood-Fill algorithm. \n",
    "The main difference here is that a ‘O’ is not replaced by ‘X’ if it lies in region that ends on a boundary. \n",
    "\n",
    "Following are simple steps to do this special flood fill.\n",
    "\n",
    "1) Traverse the given matrix and replace all ‘O’ with a special character ‘-‘.\n",
    "\n",
    "2) Traverse four edges of given matrix and call floodFill(‘-‘, ‘O’) for every ‘-‘ on edges. \n",
    "   The remaining ‘-‘ are the characters that indicate ‘O’s (in the original matrix) to be replaced by ‘X’.\n",
    "\n",
    "3) Traverse the matrix and replace all ‘-‘s with ‘X’s.\n",
    "*/"
   ]
  },
  {
   "cell_type": "code",
   "execution_count": 49,
   "metadata": {},
   "outputs": [],
   "source": [
    "/*\n",
    "Let us see steps of above algorithm with an example. Let following be the input matrix.\n",
    "\n",
    "       mat[M][N] =  {{'X', 'O', 'X', 'X', 'X', 'X'},\n",
    "                     {'X', 'O', 'X', 'X', 'O', 'X'},\n",
    "                     {'X', 'X', 'X', 'O', 'O', 'X'},\n",
    "                     {'O', 'X', 'X', 'X', 'X', 'X'},\n",
    "                     {'X', 'X', 'X', 'O', 'X', 'O'},\n",
    "                     {'O', 'O', 'X', 'O', 'O', 'O'},\n",
    "                    };\n",
    "Step 1: Replace all ‘O’ with ‘-‘.\n",
    "\n",
    "       mat[M][N] =  {{'X', '-', 'X', 'X', 'X', 'X'},\n",
    "                     {'X', '-', 'X', 'X', '-', 'X'},\n",
    "                     {'X', 'X', 'X', '-', '-', 'X'},\n",
    "                     {'-', 'X', 'X', 'X', 'X', 'X'},\n",
    "                     {'X', 'X', 'X', '-', 'X', '-'},\n",
    "                     {'-', '-', 'X', '-', '-', '-'},\n",
    "                    };\n",
    "Step 2: Call floodFill(‘-‘, ‘O’) for all edge elements with value equals to ‘-‘\n",
    "\n",
    "       mat[M][N] =  {{'X', 'O', 'X', 'X', 'X', 'X'},\n",
    "                     {'X', 'O', 'X', 'X', '-', 'X'},\n",
    "                     {'X', 'X', 'X', '-', '-', 'X'},\n",
    "                     {'O', 'X', 'X', 'X', 'X', 'X'},\n",
    "                     {'X', 'X', 'X', 'O', 'X', 'O'},\n",
    "                     {'O', 'O', 'X', 'O', 'O', 'O'},\n",
    "                    };\n",
    "Step 3: Replace all ‘-‘ with ‘X’.\n",
    "\n",
    "       mat[M][N] =  {{'X', 'O', 'X', 'X', 'X', 'X'},\n",
    "                     {'X', 'O', 'X', 'X', 'X', 'X'},\n",
    "                     {'X', 'X', 'X', 'X', 'X', 'X'},\n",
    "                     {'O', 'X', 'X', 'X', 'X', 'X'},\n",
    "                     {'X', 'X', 'X', 'O', 'X', 'O'},\n",
    "                     {'O', 'O', 'X', 'O', 'O', 'O'},\n",
    "                    };\n",
    "*/"
   ]
  },
  {
   "cell_type": "code",
   "execution_count": 50,
   "metadata": {},
   "outputs": [],
   "source": [
    "static int M = 6; \n",
    "static int N = 6; \n",
    "static void floodFillUtil(char mat[][], int x,  \n",
    "                          int y, char prevV,  \n",
    "                          char newV) \n",
    "{ \n",
    "    // Base cases \n",
    "    if (x < 0 || x >= M || \n",
    "        y < 0 || y >= N) \n",
    "        return; \n",
    "\n",
    "    if (mat[x][y] != prevV) \n",
    "        return; \n",
    "\n",
    "    // Replace the color at (x, y) \n",
    "    mat[x][y] = newV; \n",
    "\n",
    "    // Recur for north, \n",
    "    // east, south and west \n",
    "    floodFillUtil(mat, x + 1, y,  \n",
    "                  prevV, newV); \n",
    "    floodFillUtil(mat, x - 1, y,  \n",
    "                  prevV, newV); \n",
    "    floodFillUtil(mat, x, y + 1,  \n",
    "                  prevV, newV); \n",
    "    floodFillUtil(mat, x, y - 1,  \n",
    "                  prevV, newV); \n",
    "}"
   ]
  },
  {
   "cell_type": "code",
   "execution_count": 51,
   "metadata": {},
   "outputs": [],
   "source": [
    "// Returns size of maximum  \n",
    "// size subsquare matrix \n",
    "// surrounded by 'X' \n",
    "static void replaceSurrounded(char mat[][]) \n",
    "{ \n",
    "\n",
    "// Step 1: Replace  \n",
    "// all 'O' with '-' \n",
    "for (int i = 0; i < M; i++) \n",
    "    for (int j = 0; j < N; j++) \n",
    "        if (mat[i][j] == 'O') \n",
    "            mat[i][j] = '-'; \n",
    "\n",
    "// Call floodFill for  \n",
    "// all '-' lying on edges \n",
    "for (int i = 0; i < M; i++) // Left side \n",
    "    if (mat[i][0] == '-') \n",
    "        floodFillUtil(mat, i, 0,  \n",
    "                      '-', 'O'); \n",
    "for (int i = 0; i < M; i++) // Right side \n",
    "    if (mat[i][N - 1] == '-') \n",
    "        floodFillUtil(mat, i, N - 1, \n",
    "                      '-', 'O'); \n",
    "for (int i = 0; i < N; i++) // Top side \n",
    "    if (mat[0][i] == '-') \n",
    "        floodFillUtil(mat, 0, i, \n",
    "                      '-', 'O'); \n",
    "for (int i = 0; i < N; i++) // Bottom side \n",
    "    if (mat[M - 1][i] == '-') \n",
    "        floodFillUtil(mat, M - 1,  \n",
    "                      i, '-', 'O'); \n",
    "\n",
    "// Step 3: Replace  \n",
    "// all '-' with 'X' \n",
    "for (int i = 0; i < M; i++) \n",
    "    for (int j = 0; j < N; j++) \n",
    "        if (mat[i][j] == '-') \n",
    "            mat[i][j] = 'X'; \n",
    "} "
   ]
  },
  {
   "cell_type": "code",
   "execution_count": 52,
   "metadata": {},
   "outputs": [
    {
     "name": "stdout",
     "output_type": "stream",
     "text": [
      "X O X O X X \n",
      "X O X X X X \n",
      "X X X X X X \n",
      "O X X X X X \n",
      "X X X O X O \n",
      "O O X O O O \n"
     ]
    }
   ],
   "source": [
    "public static void main (String[] args) \n",
    "{ \n",
    "    char[][] mat = {{'X', 'O', 'X', 'O', 'X', 'X'}, \n",
    "                    {'X', 'O', 'X', 'X', 'O', 'X'}, \n",
    "                    {'X', 'X', 'X', 'O', 'X', 'X'}, \n",
    "                    {'O', 'X', 'X', 'X', 'X', 'X'}, \n",
    "                    {'X', 'X', 'X', 'O', 'X', 'O'}, \n",
    "                    {'O', 'O', 'X', 'O', 'O', 'O'}}; \n",
    "\n",
    "    replaceSurrounded(mat); \n",
    "\n",
    "    for (int i = 0; i < M; i++) \n",
    "    { \n",
    "        for (int j = 0; j < N; j++) \n",
    "            System.out.print(mat[i][j] + \" \");  \n",
    "\n",
    "        System.out.println(\"\"); \n",
    "    } \n",
    "} \n",
    "main(args);"
   ]
  },
  {
   "cell_type": "code",
   "execution_count": 53,
   "metadata": {},
   "outputs": [],
   "source": [
    "/*\n",
    "Time Complexity of the above solution is O(MN). \n",
    "\n",
    "Note that every element of matrix is processed at most three times.\n",
    "*/"
   ]
  },
  {
   "cell_type": "markdown",
   "metadata": {},
   "source": [
    "## **138. Validity of a given Tic-Tac-Toe board configuration**\n",
    "https://www.geeksforgeeks.org/validity-of-a-given-tic-tac-toe-board-configuration/"
   ]
  },
  {
   "cell_type": "code",
   "execution_count": 54,
   "metadata": {},
   "outputs": [],
   "source": [
    "/*\n",
    "A Tic-Tac-Toe board is given after some moves are played. \n",
    "Find out if the given board is valid, i.e., is it possible to reach this board position after some moves or not.\n",
    "\n",
    "Note that every arbitrary filled grid of 9 spaces isn’t valid \n",
    "e.g. a grid filled with 3 X and 6 O isn’t valid situation because each player needs to take alternate turns.\n",
    "*/"
   ]
  },
  {
   "cell_type": "markdown",
   "metadata": {},
   "source": [
    "<img src = \"https://media.geeksforgeeks.org/wp-content/cdn-uploads/tictactoe.png\"/>"
   ]
  },
  {
   "cell_type": "code",
   "execution_count": 55,
   "metadata": {},
   "outputs": [],
   "source": [
    "/*\n",
    "Input is given as a 1D array of size 9.\n",
    "Examples:\n",
    "\n",
    "Input: board[] =  {'X', 'X', 'O', \n",
    "                   'O', 'O', 'X',\n",
    "                   'X', 'O', 'X'};\n",
    "Output: Valid\n",
    "\n",
    "Input: board[] =  {'O', 'X', 'X', \n",
    "                   'O', 'X', 'X',\n",
    "                   'O', 'O', 'X'};\n",
    "Output: Invalid\n",
    "(Both X and O cannot win)\n",
    "\n",
    "Input: board[] =  {'O', 'X', ' ', \n",
    "                   ' ', ' ', ' ',\n",
    "                   ' ', ' ', ' '};\n",
    "Output: Valid\n",
    "(Valid board with only two moves played)\n",
    "*/"
   ]
  },
  {
   "cell_type": "code",
   "execution_count": 56,
   "metadata": {},
   "outputs": [],
   "source": [
    "/*\n",
    "Basically, to find the validity of an input grid, \n",
    "    we can think of the conditions when an input grid is invalid. \n",
    "Let no. of “X”s be countX and no. of “O”s be countO. \n",
    "\n",
    "Since we know that the game starts with X, a given grid of Tic-Tac-Toe game would be definitely invalid \n",
    "if following two conditions meet\n",
    "a) countX != countO AND\n",
    "b) countX != countO + 1\n",
    "\n",
    "Since “X” is always the first move, second condition is also required.\n",
    "\n",
    "Now does it mean that all the remaining board positions are valid one? \n",
    "    The answer is NO. \n",
    "Think of the cases when input grid is such that both X and O are making straight lines. \n",
    "This is also not valid position because the game ends when one player wins. \n",
    "\n",
    "So we need to check the following condition as well\n",
    "    c) If input grid shows that both the players are in winning situation, it’s an invalid position.\n",
    "    d) If input grid shows that the player with O has put a straight-line (i.e. is in win condition) and countX != countO, \n",
    "       it’s an invalid position. The reason is that O plays his move only after X plays his move. \n",
    "       Since X has started the game, O would win when both X and O has played equal no. of moves.\n",
    "    e) If input grid shows that X is in winning condition than xCount must be one greater that oCount.\n",
    "\n",
    "Armed with above conditions i.e. a), b), c) and d), \n",
    "we can now easily formulate an algorithm/program to check the validity of a given Tic-Tac-Toe board position.\n",
    "*/"
   ]
  },
  {
   "cell_type": "code",
   "execution_count": 57,
   "metadata": {},
   "outputs": [],
   "source": [
    "/*\n",
    "1)  countX == countO or countX == countO + 1\n",
    "2)  If O is in win condition then check \n",
    "     a)     If X also wins, not valid\n",
    "     b)     If xbox != obox , not valid\n",
    "3)  If X is in win condition then check if xCount is\n",
    "     one more than oCount or not \n",
    "*/"
   ]
  },
  {
   "cell_type": "code",
   "execution_count": 58,
   "metadata": {},
   "outputs": [],
   "source": [
    "/*\n",
    "Another way to find the validity of a given board is using ‘inverse method’ \n",
    "i.e. rule out all the possibilities when a given board is invalid.\n",
    "*/"
   ]
  },
  {
   "cell_type": "code",
   "execution_count": 59,
   "metadata": {},
   "outputs": [],
   "source": [
    "// This matrix is used to find indexes to check all  \n",
    "// possible wining triplets in board[0..8]  \n",
    "static int win[][] = {{0, 1, 2}, // Check first row.  \n",
    "{3, 4, 5}, // Check second Row  \n",
    "{6, 7, 8}, // Check third Row  \n",
    "{0, 3, 6}, // Check first column  \n",
    "{1, 4, 7}, // Check second Column  \n",
    "{2, 5, 8}, // Check third Column  \n",
    "{0, 4, 8}, // Check first Diagonal  \n",
    "{2, 4, 6}}; // Check second Diagonal  "
   ]
  },
  {
   "cell_type": "code",
   "execution_count": 60,
   "metadata": {},
   "outputs": [],
   "source": [
    "// Returns true if character 'c' wins. c can be either  \n",
    "// 'X' or 'O'  \n",
    "static boolean isCWin(char[] board, char c) { \n",
    "    // Check all possible winning combinations  \n",
    "    for (int i = 0; i < 8; i++) { \n",
    "        if (board[win[i][0]] == c \n",
    "                && board[win[i][1]] == c \n",
    "                && board[win[i][2]] == c) { \n",
    "            return true; \n",
    "        } \n",
    "    } \n",
    "    return false; \n",
    "} "
   ]
  },
  {
   "cell_type": "code",
   "execution_count": 61,
   "metadata": {},
   "outputs": [],
   "source": [
    "// Returns true if given board is valid, else returns false  \n",
    "static boolean isValid(char board[]) { \n",
    "    // Count number of 'X' and 'O' in the given board  \n",
    "    int xCount = 0, oCount = 0; \n",
    "    for (int i = 0; i < 9; i++) { \n",
    "        if (board[i] == 'X') { \n",
    "            xCount++; \n",
    "        } \n",
    "        if (board[i] == 'O') { \n",
    "            oCount++; \n",
    "        } \n",
    "    } \n",
    "\n",
    "    // Board can be valid only if either xCount and oCount  \n",
    "    // is same or xount is one more than oCount  \n",
    "    if (xCount == oCount || xCount == oCount + 1) { \n",
    "        // Check if 'O' is winner  \n",
    "        if (isCWin(board, 'O')) { \n",
    "            // Check if 'X' is also winner, then  \n",
    "            // return false  \n",
    "            if (isCWin(board, 'X')) { \n",
    "                return false; \n",
    "            } \n",
    "\n",
    "            // Else return true xCount and yCount are same  \n",
    "            return (xCount == oCount); \n",
    "        } \n",
    "\n",
    "        // If 'X' wins, then count of X must be greater  \n",
    "        if (isCWin(board, 'X') && xCount != oCount + 1) { \n",
    "            return false; \n",
    "        } \n",
    "\n",
    "        // If 'O' is not winner, then return true  \n",
    "        return true; \n",
    "    } \n",
    "    return false; \n",
    "} "
   ]
  },
  {
   "cell_type": "code",
   "execution_count": 62,
   "metadata": {},
   "outputs": [
    {
     "name": "stdout",
     "output_type": "stream",
     "text": [
      "Given board is valid\n"
     ]
    }
   ],
   "source": [
    "// Driver program  \n",
    "public static void main(String[] args) { \n",
    "    char board[] = {'X', 'X', 'O', 'O', 'O', 'X', 'X', 'O', 'X'}; \n",
    "\n",
    "    if ((isValid(board))) { \n",
    "        System.out.println(\"Given board is valid\"); \n",
    "    } else { \n",
    "        System.out.println(\"Given board is not valid\"); \n",
    "    } \n",
    "}\n",
    "main(args);"
   ]
  },
  {
   "cell_type": "markdown",
   "metadata": {},
   "source": [
    "## **139. Given a matrix of ‘O’ and ‘X’, find the largest subsquare surrounded by ‘X’**\n",
    "https://www.geeksforgeeks.org/given-matrix-o-x-find-largest-subsquare-surrounded-x/"
   ]
  },
  {
   "cell_type": "code",
   "execution_count": 63,
   "metadata": {},
   "outputs": [],
   "source": [
    "/*\n",
    "Given a matrix where every element is either ‘O’ or ‘X’, find the largest subsquare surrounded by ‘X’.\n",
    "In the below article, \n",
    "it is assumed that the given matrix is also square matrix. \n",
    "The code given below can be easily extended for rectangular matrices.\n",
    "*/"
   ]
  },
  {
   "cell_type": "code",
   "execution_count": 64,
   "metadata": {},
   "outputs": [],
   "source": [
    "/*\n",
    "Examples:\n",
    "\n",
    "Input: mat[N][N] = { {'X', 'O', 'X', 'X', 'X'},\n",
    "                     {'X', 'X', 'X', 'X', 'X'},\n",
    "                     {'X', 'X', 'O', 'X', 'O'},\n",
    "                     {'X', 'X', 'X', 'X', 'X'},\n",
    "                     {'X', 'X', 'X', 'O', 'O'},\n",
    "                    };\n",
    "Output: 3\n",
    "The square submatrix starting at (1, 1) is the largest\n",
    "submatrix surrounded by 'X'\n",
    "\n",
    "Input: mat[M][N] = { {'X', 'O', 'X', 'X', 'X', 'X'},\n",
    "                     {'X', 'O', 'X', 'X', 'O', 'X'},\n",
    "                     {'X', 'X', 'X', 'O', 'O', 'X'},\n",
    "                     {'X', 'X', 'X', 'X', 'X', 'X'},\n",
    "                     {'X', 'X', 'X', 'O', 'X', 'O'},\n",
    "                    };\n",
    "Output: 4\n",
    "The square submatrix starting at (0, 2) is the largest\n",
    "submatrix surrounded by 'X'\n",
    "*/"
   ]
  },
  {
   "cell_type": "code",
   "execution_count": 65,
   "metadata": {},
   "outputs": [],
   "source": [
    "/*\n",
    "A Simple Solution is to consider every square submatrix \n",
    "and check whether is has all corner edges filled with ‘X’. \n",
    "\n",
    "The time complexity of this solution is O(N^4).\n",
    "*/"
   ]
  },
  {
   "cell_type": "code",
   "execution_count": 66,
   "metadata": {},
   "outputs": [],
   "source": [
    "/*\n",
    "We can solve this problem in O(N^3) time using extra space. \n",
    "The idea is to create two auxiliary arrays hor[N][N] and ver[N][N]. \n",
    "\n",
    "The value stored in hor[i][j] is the number of horizontal continuous ‘X’ characters till mat[i][j] in mat[][]. \n",
    "\n",
    "Similarly, \n",
    "the value stored in ver[i][j] is the number of vertical continuous ‘X’ characters till mat[i][j] in mat[][]. \n",
    "\n",
    "Following is an example.\n",
    "\n",
    "mat[6][6] =  X  O  X  X  X  X\n",
    "             X  O  X  X  O  X\n",
    "             X  X  X  O  O  X\n",
    "             O  X  X  X  X  X\n",
    "             X  X  X  O  X  O\n",
    "             O  O  X  O  O  O\n",
    "\n",
    "hor[6][6] = 1  0  1  2  3  4\n",
    "            1  0  1  2  0  1\n",
    "            1  2  3  0  0  1\n",
    "            0  1  2  3  4  5\n",
    "            1  2  3  0  1  0\n",
    "            0  0  1  0  0  0\n",
    "\n",
    "ver[6][6] = 1  0  1  1  1  1\n",
    "            2  0  2  2  0  2\n",
    "            3  1  3  0  0  3\n",
    "            0  2  4  1  1  4\n",
    "            1  3  5  0  2  0\n",
    "            0  0  6  0  0  0\n",
    "            \n",
    "Once we have filled values in hor[][] and ver[][], \n",
    "    we start from the bottommost-rightmost corner of matrix and move toward the leftmost-topmost in row by row manner. \n",
    "    For every visited entry mat[i][j], \n",
    "        we compare the values of hor[i][j] and ver[i][j], and pick the smaller of two as we need a square. \n",
    "        Let the smaller of two be ‘small’. \n",
    "        After picking smaller of two, we check if both ver[][] and hor[][] for left and up edges respectively. \n",
    "        If they have entries for the same, then we found a subsquare. Otherwise we try for small-1.\n",
    "*/"
   ]
  },
  {
   "cell_type": "code",
   "execution_count": 67,
   "metadata": {},
   "outputs": [],
   "source": [
    "// Size of given  \n",
    "// matrix is N X N \n",
    "static int N = 6; \n",
    "\n",
    "// A utility function to  \n",
    "// find minimum of two numbers \n",
    "static int getMin(int x, int y) \n",
    "{ \n",
    "    return (x < y) ? x : y; \n",
    "}"
   ]
  },
  {
   "cell_type": "code",
   "execution_count": 68,
   "metadata": {},
   "outputs": [],
   "source": [
    "// Returns size of maximum \n",
    "// size subsquare matrix \n",
    "// surrounded by 'X' \n",
    "static int findSubSquare(int mat[][]) \n",
    "{ \n",
    "    int max = 0; // Initialize result \n",
    "  \n",
    "    // Initialize the left-top  \n",
    "    // value in hor[][] and ver[][] \n",
    "    int hor[][] = new int[N][N]; \n",
    "    int ver[][] = new int[N][N]; \n",
    "    hor[0][0] = ver[0][0] = 'X'; \n",
    "  \n",
    "    // Fill values in  \n",
    "    // hor[][] and ver[][] \n",
    "    for (int i = 0; i < N; i++) \n",
    "    { \n",
    "        for (int j = 0; j < N; j++) \n",
    "        { \n",
    "            if (mat[i][j] == 'O') \n",
    "                ver[i][j] = hor[i][j] = 0; \n",
    "            else\n",
    "            { \n",
    "                hor[i][j] = (j == 0) ? 1 :  \n",
    "                hor[i][j - 1] + 1; \n",
    "                ver[i][j] = (i == 0) ? 1 :  \n",
    "                ver[i - 1][j] + 1; \n",
    "            } \n",
    "        } \n",
    "    } \n",
    "  \n",
    "    // Start from the rightmost- \n",
    "    // bottommost corner element  \n",
    "    // and find the largest  \n",
    "    // subsquare with the help  \n",
    "    // of hor[][] and ver[][] \n",
    "    for (int i = N - 1; i >= 1; i--) \n",
    "    { \n",
    "        for (int j = N - 1; j >= 1; j--) \n",
    "        { \n",
    "            // Find smaller of values in  \n",
    "            // hor[][] and ver[][] A Square  \n",
    "            // can only be made by taking  \n",
    "            // smaller value \n",
    "            int small = getMin(hor[i][j],  \n",
    "                               ver[i][j]); \n",
    "  \n",
    "            // At this point, we are sure  \n",
    "            // that there is a right vertical \n",
    "            // line and bottom horizontal  \n",
    "            // line of length at least 'small'. \n",
    "  \n",
    "            // We found a bigger square  \n",
    "            // if following conditions \n",
    "            // are met: \n",
    "            // 1)If side of square \n",
    "            //   is greater than max. \n",
    "            // 2)There is a left vertical \n",
    "            //   line of length >= 'small' \n",
    "            // 3)There is a top horizontal \n",
    "            //   line of length >= 'small' \n",
    "            while (small > max) \n",
    "            { \n",
    "                if (ver[i][j - small + 1] >= small && \n",
    "                    hor[i - small + 1][j] >= small) \n",
    "                { \n",
    "                    max = small; \n",
    "                } \n",
    "                small--; \n",
    "            } \n",
    "        } \n",
    "    } \n",
    "    return max; \n",
    "} "
   ]
  },
  {
   "cell_type": "code",
   "execution_count": 69,
   "metadata": {},
   "outputs": [
    {
     "name": "stdout",
     "output_type": "stream",
     "text": [
      "4\n"
     ]
    }
   ],
   "source": [
    "// Driver Code \n",
    "public static void main(String[] args)  \n",
    "{ \n",
    "    // TODO Auto-generated method stub \n",
    "\n",
    "    int mat[][] = {{'X', 'O', 'X', 'X', 'X', 'X'}, \n",
    "                   {'X', 'O', 'X', 'X', 'O', 'X'}, \n",
    "                   {'X', 'X', 'X', 'O', 'O', 'X'}, \n",
    "                   {'O', 'X', 'X', 'X', 'X', 'X'}, \n",
    "                     {'X', 'X', 'X', 'O', 'X', 'O'}, \n",
    "                   {'O', 'O', 'X', 'O', 'O', 'O'}}; \n",
    "        System.out.println(findSubSquare(mat)); \n",
    "} \n",
    "main(args);"
   ]
  },
  {
   "cell_type": "markdown",
   "metadata": {},
   "source": [
    "## **140.Rotate Matrix Elements**\n",
    "https://www.geeksforgeeks.org/rotate-matrix-elements/"
   ]
  },
  {
   "cell_type": "code",
   "execution_count": 70,
   "metadata": {},
   "outputs": [],
   "source": [
    "/*\n",
    "Given a matrix, clockwise rotate elements in it.\n",
    "*/"
   ]
  },
  {
   "cell_type": "code",
   "execution_count": 71,
   "metadata": {},
   "outputs": [],
   "source": [
    "/*\n",
    "Examples:\n",
    "\n",
    "Input\n",
    "1    2    3\n",
    "4    5    6\n",
    "7    8    9\n",
    "\n",
    "Output:\n",
    "4    1    2\n",
    "7    5    3\n",
    "8    9    6\n",
    "\n",
    "For 4*4 matrix\n",
    "Input:\n",
    "1    2    3    4    \n",
    "5    6    7    8\n",
    "9    10   11   12\n",
    "13   14   15   16\n",
    "\n",
    "Output:\n",
    "5    1    2    3\n",
    "9    10   6    4\n",
    "13   11   7    8\n",
    "14   15   16   12\n",
    "*/"
   ]
  },
  {
   "cell_type": "markdown",
   "metadata": {},
   "source": [
    "**Related Link** ***https://www.geeksforgeeks.org/print-a-given-matrix-in-spiral-form/***"
   ]
  },
  {
   "cell_type": "code",
   "execution_count": 72,
   "metadata": {},
   "outputs": [],
   "source": [
    "/*\n",
    "The idea is to use loops similar to the program for printing a matrix in spiral form (Above Related Link). \n",
    "One by one rotate all rings of elements, starting from the outermost. To rotate a ring, we need to do following.\n",
    "    1) Move elements of top row.\n",
    "    2) Move elements of last column.\n",
    "    3) Move elements of bottom row.\n",
    "    4) Move elements of first column.\n",
    "Repeat above steps for inner ring while there is an inner ring.\n",
    "*/"
   ]
  },
  {
   "cell_type": "code",
   "execution_count": 73,
   "metadata": {},
   "outputs": [],
   "source": [
    "static int R = 4; \n",
    "static int C = 4;"
   ]
  },
  {
   "cell_type": "code",
   "execution_count": 74,
   "metadata": {},
   "outputs": [],
   "source": [
    "// A function to rotate a matrix  \n",
    "// mat[][] of size R x C. \n",
    "// Initially, m = R and n = C \n",
    "static void rotatematrix(int m, \n",
    "                int n, int mat[][]) \n",
    "{ \n",
    "    int row = 0, col = 0; \n",
    "    int prev, curr; \n",
    "\n",
    "    /* \n",
    "    row - Staring row index \n",
    "    m - ending row index \n",
    "    col - starting column index \n",
    "    n - ending column index \n",
    "    i - iterator \n",
    "    */\n",
    "    while (row < m && col < n) \n",
    "    { \n",
    "\n",
    "        if (row + 1 == m || col + 1 == n) \n",
    "            break; \n",
    "\n",
    "        // Store the first element of next \n",
    "        // row, this element will replace  \n",
    "        // first element of current row \n",
    "        prev = mat[row + 1][col]; \n",
    "\n",
    "        // Move elements of first row  \n",
    "        // from the remaining rows  \n",
    "        for (int i = col; i < n; i++) \n",
    "        { \n",
    "            curr = mat[row][i]; \n",
    "            mat[row][i] = prev; \n",
    "            prev = curr; \n",
    "        } \n",
    "        row++; \n",
    "\n",
    "        // Move elements of last column \n",
    "        // from the remaining columns  \n",
    "        for (int i = row; i < m; i++) \n",
    "        { \n",
    "            curr = mat[i][n-1]; \n",
    "            mat[i][n-1] = prev; \n",
    "            prev = curr; \n",
    "        } \n",
    "        n--; \n",
    "\n",
    "        // Move elements of last row  \n",
    "        // from the remaining rows  \n",
    "        if (row < m) \n",
    "        { \n",
    "            for (int i = n-1; i >= col; i--) \n",
    "            { \n",
    "                curr = mat[m-1][i]; \n",
    "                mat[m-1][i] = prev; \n",
    "                prev = curr; \n",
    "            } \n",
    "        } \n",
    "        m--; \n",
    "\n",
    "        // Move elements of first column \n",
    "        // from the remaining rows  \n",
    "        if (col < n) \n",
    "        { \n",
    "            for (int i = m-1; i >= row; i--) \n",
    "            { \n",
    "                curr = mat[i][col]; \n",
    "                mat[i][col] = prev; \n",
    "                prev = curr; \n",
    "            } \n",
    "        } \n",
    "        col++; \n",
    "    } \n",
    "\n",
    "    // Print rotated matrix \n",
    "    for (int i = 0; i < R; i++) \n",
    "    { \n",
    "        for (int j = 0; j < C; j++) \n",
    "        System.out.print( mat[i][j] + \" \"); \n",
    "        System.out.print(\"\\n\"); \n",
    "    } \n",
    "}"
   ]
  },
  {
   "cell_type": "code",
   "execution_count": 75,
   "metadata": {},
   "outputs": [
    {
     "name": "stdout",
     "output_type": "stream",
     "text": [
      "5 1 2 3 \n",
      "9 10 6 4 \n",
      "13 11 7 8 \n",
      "14 15 16 12 \n"
     ]
    }
   ],
   "source": [
    "/* Driver program to test above functions */\n",
    "public static void main(String[] args)  \n",
    "{ \n",
    "    // Test Case 1 \n",
    "    int a[][] = { {1, 2, 3, 4}, \n",
    "                  {5, 6, 7, 8}, \n",
    "                {9, 10, 11, 12}, \n",
    "                {13, 14, 15, 16} }; \n",
    "\n",
    "    // Tese Case 2 \n",
    "    /* int a[][] = new int {{1, 2, 3}, \n",
    "                            {4, 5, 6}, \n",
    "                            {7, 8, 9}};*/\n",
    "    rotatematrix(R, C, a); \n",
    "\n",
    "} \n",
    "main(args);"
   ]
  },
  {
   "cell_type": "markdown",
   "metadata": {},
   "source": [
    "## **141.Find a common element in all rows of a given row-wise sorted matrix**\n",
    "https://www.geeksforgeeks.org/find-common-element-rows-row-wise-sorted-matrix/"
   ]
  },
  {
   "cell_type": "code",
   "execution_count": 76,
   "metadata": {},
   "outputs": [],
   "source": [
    "/*\n",
    "Given a matrix where every row is sorted in increasing order. \n",
    "Write a function that finds and returns a common element in all rows. \n",
    "If there is no common element, then returns -1.\n",
    "*/"
   ]
  },
  {
   "cell_type": "code",
   "execution_count": 77,
   "metadata": {},
   "outputs": [],
   "source": [
    "/*\n",
    "Example:\n",
    "\n",
    "Input: mat[4][5] = { {1, 2, 3, 4, 5},\n",
    "                    {2, 4, 5, 8, 10},\n",
    "                    {3, 5, 7, 9, 11},\n",
    "                    {1, 3, 5, 7, 9},\n",
    "                  };\n",
    "Output: 5\n",
    "*/"
   ]
  },
  {
   "cell_type": "code",
   "execution_count": 78,
   "metadata": {},
   "outputs": [],
   "source": [
    "/*\n",
    "A O(m*n*n) simple solution is to take every element of first row and search it in all other rows, till we find a common element. \n",
    "Time complexity of this solution is O(m*n*n) \n",
    "    where m is number of rows and \n",
    "          n is number of columns in given matrix. \n",
    "          \n",
    "This can be improved to O(m*n*Logn) if we use Binary Search instead of linear search.\n",
    "*/"
   ]
  },
  {
   "cell_type": "code",
   "execution_count": 79,
   "metadata": {},
   "outputs": [],
   "source": [
    "/*\n",
    "We can solve this problem in O(mn) time using the approach similar to merge of Merge Sort. \n",
    "The idea is to start from the last column of every row. \n",
    "If elements at all last columns are same, \n",
    "    then we found the common element. \n",
    "Otherwise \n",
    "    we find the minimum of all last columns. \n",
    "\n",
    "Once we find a minimum element, \n",
    "    we know that all other elements in last columns cannot be a common element, \n",
    "    so we reduce last column index for all rows except for the row which has minimum value. \n",
    "\n",
    "We keep repeating these steps till either all elements at current last column don’t become same, \n",
    "or a last column index reaches 0.\n",
    "*/"
   ]
  },
  {
   "cell_type": "code",
   "execution_count": 80,
   "metadata": {},
   "outputs": [],
   "source": [
    "// Specify number of rows and columns \n",
    "static final int M = 4; \n",
    "static final int N = 5; "
   ]
  },
  {
   "cell_type": "code",
   "execution_count": 81,
   "metadata": {},
   "outputs": [],
   "source": [
    "// Returns common element in all rows \n",
    "// of mat[M][N]. If there is no \n",
    "// common element, then -1 is \n",
    "// returned \n",
    "static int findCommon(int mat[][]) \n",
    "{ \n",
    "    // An array to store indexes \n",
    "    // of current last column \n",
    "    int column[] = new int[M]; \n",
    "\n",
    "    // To store index of row whose current \n",
    "    // last element is minimum \n",
    "    int min_row; \n",
    "\n",
    "    // Initialize current last element of all rows \n",
    "    int i; \n",
    "    for (i = 0; i < M; i++) \n",
    "        column[i] = N - 1; \n",
    "\n",
    "    // Initialize min_row as first row \n",
    "    min_row = 0; \n",
    "\n",
    "    // Keep finding min_row in current last column, till either \n",
    "    // all elements of last column become same or we hit first column. \n",
    "    while (column[min_row] >= 0) { \n",
    "        // Find minimum in current last column \n",
    "        for (i = 0; i < M; i++) { \n",
    "            if (mat[i][column[i]] < mat[min_row][column[min_row]]) \n",
    "                min_row = i; \n",
    "        } \n",
    "\n",
    "        // eq_count is count of elements equal to minimum in current last \n",
    "        // column. \n",
    "        int eq_count = 0; \n",
    "\n",
    "        // Traverse current last column elements again to update it \n",
    "        for (i = 0; i < M; i++) { \n",
    "            // Decrease last column index of a row whose value is more \n",
    "            // than minimum. \n",
    "            if (mat[i][column[i]] > mat[min_row][column[min_row]]) { \n",
    "                if (column[i] == 0) \n",
    "                    return -1; \n",
    "\n",
    "                // Reduce last column index by 1 \n",
    "                column[i] -= 1; \n",
    "            } \n",
    "            else\n",
    "                eq_count++; \n",
    "        } \n",
    "\n",
    "        // If equal count becomes M, \n",
    "        // return the value \n",
    "        if (eq_count == M) \n",
    "            return mat[min_row][column[min_row]]; \n",
    "    } \n",
    "    return -1; \n",
    "} "
   ]
  },
  {
   "cell_type": "code",
   "execution_count": 82,
   "metadata": {},
   "outputs": [
    {
     "name": "stdout",
     "output_type": "stream",
     "text": [
      "Common element is 5"
     ]
    }
   ],
   "source": [
    "// Driver code \n",
    "public static void main(String[] args) \n",
    "{ \n",
    "    int mat[][] = { { 1, 2, 3, 4, 5 }, \n",
    "                    { 2, 4, 5, 8, 10 }, \n",
    "                    { 3, 5, 7, 9, 11 }, \n",
    "                    { 1, 3, 5, 7, 9 } }; \n",
    "    int result = findCommon(mat); \n",
    "    if (result == -1) \n",
    "        System.out.print(\"No common element\"); \n",
    "    else\n",
    "        System.out.print(\"Common element is \" + result); \n",
    "} \n",
    "main(args);"
   ]
  },
  {
   "cell_type": "code",
   "execution_count": 83,
   "metadata": {},
   "outputs": [],
   "source": [
    "/*\n",
    "Explanation for working of above code\n",
    "Let us understand working of above code for following example.\n",
    "\n",
    "Initially entries in last column array are N-1, i.e., {4, 4, 4, 4}\n",
    "    {1, 2, 3, 4, 5},\n",
    "    {2, 4, 5, 8, 10},\n",
    "    {3, 5, 7, 9, 11},\n",
    "    {1, 3, 5, 7, 9},\n",
    "\n",
    "The value of min_row is 0, so values of last column index for rows with value greater than 5 is reduced by one. \n",
    "So column[] becomes {4, 3, 3, 3}.\n",
    "    {1, 2, 3, 4, 5},\n",
    "    {2, 4, 5, 8, 10},\n",
    "    {3, 5, 7, 9, 11},\n",
    "    {1, 3, 5, 7, 9},\n",
    "\n",
    "The value of min_row remains 0 and and value of last column index for rows with value greater than 5 is reduced by one.\n",
    "So column[] becomes {4, 2, 2, 2}.\n",
    "    {1, 2, 3, 4, 5},\n",
    "    {2, 4, 5, 8, 10},\n",
    "    {3, 5, 7, 9, 11},\n",
    "    {1, 3, 5, 7, 9},\n",
    "\n",
    "The value of min_row remains 0 and value of last column index for rows with value greater than 5 is reduced by one. \n",
    "So colomun[] becomes {4, 2, 1, 2}.\n",
    "    {1, 2, 3, 4, 5},\n",
    "    {2, 4, 5, 8, 10},\n",
    "    {3, 5, 7, 9, 11},\n",
    "    {1, 3, 5, 7, 9},\n",
    "\n",
    "Now all values in current last columns of all rows is same, so 5 is returned.\n",
    "*/"
   ]
  },
  {
   "cell_type": "code",
   "execution_count": 84,
   "metadata": {},
   "outputs": [],
   "source": [
    "/*\n",
    "A Hashing Based Solution\n",
    "\n",
    "We can also use hashing. This solution works even if the rows are not sorted. \n",
    "It can be used to print all common elements.\n",
    "\n",
    "Step1:  Create a Hash Table with all key as distinct elements \n",
    "        of row1. Value for all these will be 0.\n",
    "\n",
    "Step2:  \n",
    "For i = 1 to M-1\n",
    " For j = 0 to N-1\n",
    "  If (mat[i][j] is already present in Hash Table)\n",
    "   If (And this is not a repetition in current row.\n",
    "      This can be checked by comparing HashTable value with\n",
    "      row number)\n",
    "         Update the value of this key in HashTable with current \n",
    "         row number\n",
    "\n",
    "Step3: Iterate over HashTable and print all those keys for \n",
    "       which value = M \n",
    "*/"
   ]
  },
  {
   "cell_type": "code",
   "execution_count": 85,
   "metadata": {},
   "outputs": [],
   "source": [
    "// Specify number of rows and columns \n",
    "static int M = 4; \n",
    "static int N = 5;"
   ]
  },
  {
   "cell_type": "code",
   "execution_count": 86,
   "metadata": {},
   "outputs": [],
   "source": [
    "// Returns common element in all rows of mat[M][N]. \n",
    "// If there is no common element, then -1 is returned \n",
    "static int findCommon(int mat[][]) \n",
    "{ \n",
    "    // A hash map to store count of elements \n",
    "    HashMap<Integer,  \n",
    "            Integer> cnt = new HashMap<Integer,  \n",
    "                                       Integer>(); \n",
    "  \n",
    "    int i, j; \n",
    "  \n",
    "    for (i = 0; i < M; i++)  \n",
    "    { \n",
    "  \n",
    "        // Increment the count of first \n",
    "        // element of the row \n",
    "        if(cnt.containsKey(mat[i][0])) \n",
    "        { \n",
    "            cnt.put(mat[i][0],  \n",
    "            cnt.get(mat[i][0]) + 1); \n",
    "        } \n",
    "        else\n",
    "        { \n",
    "            cnt.put(mat[i][0], 1); \n",
    "        } \n",
    "  \n",
    "        // Starting from the second element \n",
    "        // of the current row \n",
    "        for (j = 1; j < N; j++)  \n",
    "        { \n",
    "  \n",
    "            // If current element is different from \n",
    "            // the previous element i.e. it is appearing \n",
    "            // for the first time in the current row \n",
    "            if (mat[i][j] != mat[i][j - 1]) \n",
    "                if(cnt.containsKey(mat[i][j])) \n",
    "                { \n",
    "                    cnt.put(mat[i][j],  \n",
    "                    cnt.get(mat[i][j]) + 1); \n",
    "                } \n",
    "                else\n",
    "                { \n",
    "                    cnt.put(mat[i][j], 1); \n",
    "                } \n",
    "        } \n",
    "    } \n",
    "  \n",
    "    // Find element having count  \n",
    "    // equal to number of rows \n",
    "    for (Map.Entry<Integer,  \n",
    "                   Integer> ele : cnt.entrySet()) \n",
    "    { \n",
    "        if (ele.getValue() == M) \n",
    "            return ele.getKey(); \n",
    "    } \n",
    "  \n",
    "    // No such element found \n",
    "    return -1; \n",
    "} "
   ]
  },
  {
   "cell_type": "code",
   "execution_count": 87,
   "metadata": {},
   "outputs": [
    {
     "name": "stdout",
     "output_type": "stream",
     "text": [
      "Common element is 5\n"
     ]
    }
   ],
   "source": [
    "// Driver Code \n",
    "public static void main(String[] args)  \n",
    "{ \n",
    "    int mat[][] = {{ 1, 2, 3, 4, 5 }, \n",
    "                   { 2, 4, 5, 8, 10 }, \n",
    "                   { 3, 5, 7, 9, 11 }, \n",
    "                   { 1, 3, 5, 7, 9 }}; \n",
    "    int result = findCommon(mat); \n",
    "    if (result == -1) \n",
    "        System.out.println(\"No common element\"); \n",
    "    else\n",
    "        System.out.println(\"Common element is \" + result); \n",
    "} \n",
    "main(args);"
   ]
  },
  {
   "cell_type": "code",
   "execution_count": 88,
   "metadata": {},
   "outputs": [],
   "source": [
    "/*\n",
    "Time complexity of the above hashing based solution is O(MN) \n",
    "under the assumption that search and insert in HashTable take O(1) time.\n",
    "*/"
   ]
  },
  {
   "cell_type": "markdown",
   "metadata": {},
   "source": [
    "## **142. Maximum size rectangle binary sub-matrix with all 1s**\n",
    "https://www.geeksforgeeks.org/maximum-size-rectangle-binary-sub-matrix-1s/"
   ]
  },
  {
   "cell_type": "code",
   "execution_count": 89,
   "metadata": {},
   "outputs": [],
   "source": [
    "/*\n",
    "Given a binary matrix, find the maximum size rectangle binary-sub-matrix with all 1’s.\n",
    "Example:\n",
    "\n",
    "Input :   0 1 1 0\n",
    "          1 1 1 1\n",
    "          1 1 1 1\n",
    "          1 1 0 0\n",
    "\n",
    "Output :  1 1 1 1\n",
    "          1 1 1 1\n",
    "*/"
   ]
  },
  {
   "cell_type": "markdown",
   "metadata": {},
   "source": [
    "**Related Link :** ***https://www.geeksforgeeks.org/maximum-size-sub-matrix-with-all-1s-in-a-binary-matrix/***"
   ]
  },
  {
   "cell_type": "code",
   "execution_count": 90,
   "metadata": {},
   "outputs": [],
   "source": [
    "/*\n",
    "In this post an interesting method is discussed that uses largest rectangle under histogram (Below Link) as a subroutine. \n",
    "\n",
    "\n",
    "Below are steps. \n",
    "\n",
    "The idea is to update each column of a given row with corresponding column of previous row \n",
    "and find largest histogram area for that row.\n",
    "\n",
    "Step 1: Find maximum area for row[0]\n",
    "Step 2:\n",
    "    for each row in 1 to N - 1\n",
    "        for each column in that row\n",
    "            if A[row][column] == 1\n",
    "              update A[row][column] with\n",
    "                A[row][column] += A[row - 1][column]\n",
    "    find area for that row\n",
    "    and update maximum area so far\n",
    "    \n",
    "Time Complexity: O(R x X)\n",
    "*/"
   ]
  },
  {
   "cell_type": "markdown",
   "metadata": {},
   "source": [
    "***https://www.geeksforgeeks.org/largest-rectangle-under-histogram/***"
   ]
  },
  {
   "cell_type": "code",
   "execution_count": 91,
   "metadata": {},
   "outputs": [],
   "source": [
    "/*\n",
    "step 1:    0 1 1 0  maximum area  = 2\n",
    "step 2:\n",
    "    row 1  1 2 2 1  area = 4, maximum area becomes 4\n",
    "    row 2  2 3 3 2  area = 8, maximum area becomes 8\n",
    "    row 3  3 4 0 0  area = 6, maximum area remains 8\n",
    "*/"
   ]
  },
  {
   "cell_type": "code",
   "execution_count": 92,
   "metadata": {},
   "outputs": [],
   "source": [
    "// Finds the maximum area under the histogram represented \n",
    "// by histogram.  See below article for details. \n",
    "// https://www.geeksforgeeks.org/largest-rectangle-under-histogram/ \n",
    "static int maxHist(int R,int C,int row[]) \n",
    "{ \n",
    "    // Create an empty stack. The stack holds indexes of \n",
    "    // hist[] array/ The bars stored in stack are always \n",
    "    // in increasing order of their heights. \n",
    "    Stack<Integer> result = new Stack<Integer>(); \n",
    "\n",
    "    int top_val;     // Top of stack \n",
    "\n",
    "    int max_area = 0; // Initialize max area in current \n",
    "                      // row (or histogram) \n",
    "\n",
    "    int area = 0;    // Initialize area with current top \n",
    "\n",
    "    // Run through all bars of given histogram (or row) \n",
    "    int i = 0; \n",
    "    while (i < C) \n",
    "    { \n",
    "        // If this bar is higher than the bar on top stack, \n",
    "        // push it to stack \n",
    "        if (result.empty() || row[result.peek()] <= row[i]) \n",
    "            result.push(i++); \n",
    "\n",
    "        else\n",
    "        { \n",
    "            // If this bar is lower than top of stack, then \n",
    "            // calculate area of rectangle with stack top as \n",
    "            // the smallest (or minimum height) bar. 'i' is \n",
    "            // 'right index' for the top and element before \n",
    "            // top in stack is 'left index' \n",
    "            top_val = row[result.peek()]; \n",
    "            result.pop(); \n",
    "            area = top_val * i; \n",
    "\n",
    "            if (!result.empty()) \n",
    "                area = top_val * (i - result.peek() - 1 ); \n",
    "            max_area = Math.max(area, max_area); \n",
    "        } \n",
    "    } \n",
    "\n",
    "    // Now pop the remaining bars from stack and calculate  \n",
    "    // area with every popped bar as the smallest bar \n",
    "    while (!result.empty()) \n",
    "    { \n",
    "        top_val = row[result.peek()]; \n",
    "        result.pop(); \n",
    "        area = top_val * i; \n",
    "        if (!result.empty()) \n",
    "            area = top_val * (i - result.peek() - 1 ); \n",
    "\n",
    "        max_area = Math.max(area, max_area); \n",
    "    } \n",
    "    return max_area; \n",
    "} "
   ]
  },
  {
   "cell_type": "code",
   "execution_count": 93,
   "metadata": {},
   "outputs": [],
   "source": [
    "// Returns area of the largest rectangle with all 1s in  \n",
    "// A[][] \n",
    "static int maxRectangle(int R,int C,int A[][]) \n",
    "{ \n",
    "    // Calculate area for first row and initialize it as \n",
    "    // result \n",
    "    int result = maxHist(R,C,A[0]); \n",
    "\n",
    "    // iterate over row to find maximum rectangular area \n",
    "    // considering each row as histogram \n",
    "    for (int i = 1; i < R; i++) \n",
    "    { \n",
    "\n",
    "        for (int j = 0; j < C; j++) \n",
    "\n",
    "            // if A[i][j] is 1 then add A[i -1][j] \n",
    "            if (A[i][j] == 1) A[i][j] += A[i - 1][j]; \n",
    "\n",
    "\n",
    "        // Update result if area with current row (as last \n",
    "        // row of rectangle) is more \n",
    "        result = Math.max(result, maxHist(R,C,A[i])); \n",
    "    } \n",
    "\n",
    "    return result; \n",
    "} "
   ]
  },
  {
   "cell_type": "code",
   "execution_count": 94,
   "metadata": {},
   "outputs": [
    {
     "name": "stdout",
     "output_type": "stream",
     "text": [
      "Area of maximum rectangle is 8"
     ]
    }
   ],
   "source": [
    "// Driver code \n",
    "public static void main (String[] args)  \n",
    "{ \n",
    "    int R = 4; \n",
    "    int C = 4; \n",
    "\n",
    "    int A[][] = { {0, 1, 1, 0}, \n",
    "                  {1, 1, 1, 1}, \n",
    "                  {1, 1, 1, 1}, \n",
    "                  {1, 1, 0, 0}, \n",
    "                }; \n",
    "    System.out.print(\"Area of maximum rectangle is \" +  \n",
    "                              maxRectangle(R,C,A)); \n",
    "} \n",
    "main(args);"
   ]
  },
  {
   "cell_type": "markdown",
   "metadata": {},
   "source": [
    "## **143. Common elements in all rows of a given matrix**\n",
    "https://www.geeksforgeeks.org/common-elements-in-all-rows-of-a-given-matrix/"
   ]
  },
  {
   "cell_type": "code",
   "execution_count": 95,
   "metadata": {},
   "outputs": [],
   "source": [
    "/*\n",
    "Given an m x n matrix, find all common elements present in all rows in O(mn) time and one traversal of matrix.\n",
    "*/"
   ]
  },
  {
   "cell_type": "code",
   "execution_count": 96,
   "metadata": {},
   "outputs": [],
   "source": [
    "/*\n",
    "Example:\n",
    "\n",
    "Input:\n",
    "mat[4][5] = {{1, 2, 1, 4, 8},\n",
    "             {3, 7, 8, 5, 1},\n",
    "             {8, 7, 7, 3, 1},\n",
    "             {8, 1, 2, 7, 9},\n",
    "            };\n",
    "\n",
    "Output: \n",
    "1 8 or 8 1\n",
    "8 and 1 are present in all rows.\n",
    "*/"
   ]
  },
  {
   "cell_type": "code",
   "execution_count": 97,
   "metadata": {},
   "outputs": [],
   "source": [
    "/*\n",
    "A simple solution is to consider every element and \n",
    "check if it is present in all rows. \n",
    "If present, \n",
    "    then print it.\n",
    "*/"
   ]
  },
  {
   "cell_type": "code",
   "execution_count": 98,
   "metadata": {},
   "outputs": [],
   "source": [
    "/*\n",
    "A better solution is to sort all rows in the matrix and use similar approach as discussed in below Link. \n",
    "Sorting will take O(mnlogn) time \n",
    "and finding common elements will take O(mn) time. \n",
    "So overall time complexity of this solution is O(mnlogn)\n",
    "*/"
   ]
  },
  {
   "cell_type": "markdown",
   "metadata": {},
   "source": [
    "***https://www.geeksforgeeks.org/find-common-element-rows-row-wise-sorted-matrix/***"
   ]
  },
  {
   "cell_type": "code",
   "execution_count": 99,
   "metadata": {},
   "outputs": [],
   "source": [
    "/*\n",
    "Can we do better than O(mnlogn)?\n",
    "The idea is to use maps. \n",
    "We initially insert all elements of the first row in an map. \n",
    "\n",
    "For every other element in remaining rows, \n",
    "we check if it is present in the map. \n",
    "If it is present in the map and is not duplicated in current row, \n",
    "    we increment count of the element in map by 1, \n",
    "else \n",
    "    we ignore the element. \n",
    "\n",
    "If the currently traversed row is the last row, \n",
    "    we print the element if it has appeared m-1 times before.\n",
    "*/"
   ]
  },
  {
   "cell_type": "code",
   "execution_count": 100,
   "metadata": {},
   "outputs": [],
   "source": [
    "// Specify number of rows and columns \n",
    "static int M = 4; \n",
    "static int N =5; "
   ]
  },
  {
   "cell_type": "code",
   "execution_count": 101,
   "metadata": {},
   "outputs": [],
   "source": [
    "// prints common element in all rows of matrix \n",
    "static void printCommonElements(int mat[][]) \n",
    "{ \n",
    "  \n",
    "    Map<Integer,Integer> mp = new HashMap<>(); \n",
    "      \n",
    "    // initalize 1st row elements with value 1 \n",
    "    for (int j = 0; j < N; j++) \n",
    "        mp.put(mat[0][j],1); \n",
    "          \n",
    "    // traverse the matrix \n",
    "    for (int i = 1; i < M; i++) \n",
    "    { \n",
    "        for (int j = 0; j < N; j++) \n",
    "        { \n",
    "            // If element is present in the map and \n",
    "            // is not duplicated in current row. \n",
    "            if (mp.get(mat[i][j]) != null && mp.get(mat[i][j]) == i) \n",
    "            { \n",
    "                // we increment count of the element \n",
    "                // in map by 1 \n",
    "                mp.put(mat[i][j], i + 1); \n",
    "  \n",
    "                // If this is last row \n",
    "                if (i == M - 1) \n",
    "                    System.out.print(mat[i][j] + \" \"); \n",
    "            } \n",
    "        } \n",
    "    } \n",
    "} "
   ]
  },
  {
   "cell_type": "code",
   "execution_count": 102,
   "metadata": {},
   "outputs": [
    {
     "name": "stdout",
     "output_type": "stream",
     "text": [
      "8 1 "
     ]
    }
   ],
   "source": [
    "// Driver code \n",
    "public static void main(String[] args)  \n",
    "{ \n",
    "    int mat[][] = \n",
    "    { \n",
    "        {1, 2, 1, 4, 8}, \n",
    "        {3, 7, 8, 5, 1}, \n",
    "        {8, 7, 7, 3, 1}, \n",
    "        {8, 1, 2, 7, 9}, \n",
    "    }; \n",
    "  \n",
    "    printCommonElements(mat); \n",
    "} \n",
    "main(args);"
   ]
  },
  {
   "cell_type": "code",
   "execution_count": 103,
   "metadata": {},
   "outputs": [],
   "source": [
    "/*\n",
    "The time complexity of this solution is O(m * n) \n",
    "and we are doing only one traversal of the matrix.\n",
    "*/"
   ]
  },
  {
   "cell_type": "markdown",
   "metadata": {},
   "source": [
    "## **144. Find a specific pair in Matrix**\n",
    "https://www.geeksforgeeks.org/find-a-specific-pair-in-matrix/"
   ]
  },
  {
   "cell_type": "code",
   "execution_count": 104,
   "metadata": {},
   "outputs": [],
   "source": [
    "/*\n",
    "Given an n x n matrix mat[n][n] of integers, \n",
    "find the maximum value of mat(c, d) – mat(a, b) over all choices of indexes \n",
    "such that both c > a and d > b.\n",
    "\n",
    "The program should do only ONE traversal of the matrix. \n",
    "i.e. expected time complexity is O(n^2)\n",
    "*/"
   ]
  },
  {
   "cell_type": "code",
   "execution_count": 105,
   "metadata": {},
   "outputs": [],
   "source": [
    "/*\n",
    "Example:\n",
    "\n",
    "Input:\n",
    "mat[N][N] = {{ 1, 2, -1, -4, -20 },\n",
    "             { -8, -3, 4, 2, 1 }, \n",
    "             { 3, 8, 6, 1, 3 },\n",
    "             { -4, -1, 1, 7, -6 },\n",
    "             { 0, -4, 10, -5, 1 }};\n",
    "Output: 18\n",
    "The maximum value is 18 as mat[4][2] - mat[1][0] = 18 has maximum difference. \n",
    "*/"
   ]
  },
  {
   "cell_type": "code",
   "execution_count": 106,
   "metadata": {},
   "outputs": [],
   "source": [
    "/*\n",
    "A simple solution would be to apply Brute-Force. \n",
    "For all values mat(a, b) in the matrix, \n",
    "we find mat(c, d) that has maximum value \n",
    "such that c > a and d > b \n",
    "and keeps on updating maximum value found so far. \n",
    "We finally return the maximum value.\n",
    "*/"
   ]
  },
  {
   "cell_type": "code",
   "execution_count": 107,
   "metadata": {},
   "outputs": [
    {
     "name": "stdout",
     "output_type": "stream",
     "text": [
      "Maximum Value is 18"
     ]
    }
   ],
   "source": [
    "// The function returns maximum value A(d,e) - A(a,b) \n",
    "// over all choices of indexes such that both d > a \n",
    "// and e > b. \n",
    "static int findMaxValue(int N,int mat[][]) \n",
    "{ \n",
    "    // stores maximum value \n",
    "    int maxValue = Integer.MIN_VALUE; \n",
    "\n",
    "    // Consider all possible pairs mat[a][b] and \n",
    "    // mat1[d][e] \n",
    "    for (int a = 0; a < N - 1; a++) \n",
    "      for (int b = 0; b < N - 1; b++) \n",
    "         for (int d = a + 1; d < N; d++) \n",
    "           for (int e = b + 1; e < N; e++) \n",
    "              if (maxValue < (mat[d][e] - mat[a][b])) \n",
    "                  maxValue = mat[d][e] - mat[a][b]; \n",
    "\n",
    "    return maxValue; \n",
    "} \n",
    "\n",
    "// Driver code \n",
    "public static void main (String[] args)  \n",
    "{ \n",
    "    int N = 5; \n",
    "\n",
    "    int mat[][] = { \n",
    "                  { 1, 2, -1, -4, -20 }, \n",
    "                  { -8, -3, 4, 2, 1 }, \n",
    "                  { 3, 8, 6, 1, 3 }, \n",
    "                  { -4, -1, 1, 7, -6 }, \n",
    "                  { 0, -4, 10, -5, 1 } \n",
    "               }; \n",
    "\n",
    "    System.out.print(\"Maximum Value is \" +  \n",
    "                     findMaxValue(N,mat)); \n",
    "} \n",
    "main(args);"
   ]
  },
  {
   "cell_type": "code",
   "execution_count": 108,
   "metadata": {},
   "outputs": [],
   "source": [
    "/*\n",
    "The above program runs in O(n^4) time which is nowhere close to expected time complexity of O(n^2)\n",
    "\n",
    "An efficient solution uses extra space. \n",
    "We pre-process the matrix such that index(i, j) stores max of elements in matrix from (i, j) to (N-1, N-1) \n",
    "and in the process keeps on updating maximum value found so far. \n",
    "We finally return the maximum value.\n",
    "*/"
   ]
  },
  {
   "cell_type": "code",
   "execution_count": 109,
   "metadata": {},
   "outputs": [],
   "source": [
    "// The function returns maximum value A(c,d) - A(a,b) \n",
    "// over all choices of indexes such that both c > a \n",
    "// and d > b. \n",
    "static int findMaxValue(int N,int mat[][]) \n",
    "{ \n",
    "    //stores maximum value \n",
    "    int maxValue = Integer.MIN_VALUE; \n",
    "\n",
    "    // maxArr[i][j] stores max of elements in matrix \n",
    "    // from (i, j) to (N-1, N-1) \n",
    "    int maxArr[][] = new int[N][N]; \n",
    "\n",
    "    // last element of maxArr will be same's as of \n",
    "    // the input matrix \n",
    "    maxArr[N-1][N-1] = mat[N-1][N-1]; \n",
    "\n",
    "    // preprocess last row \n",
    "    int maxv = mat[N-1][N-1];  // Initialize max \n",
    "    for (int j = N - 2; j >= 0; j--) \n",
    "    { \n",
    "        if (mat[N-1][j] > maxv) \n",
    "            maxv = mat[N - 1][j]; \n",
    "        maxArr[N-1][j] = maxv; \n",
    "    } \n",
    "\n",
    "    // preprocess last column \n",
    "    maxv = mat[N - 1][N - 1];  // Initialize max \n",
    "    for (int i = N - 2; i >= 0; i--) \n",
    "    { \n",
    "        if (mat[i][N - 1] > maxv) \n",
    "            maxv = mat[i][N - 1]; \n",
    "        maxArr[i][N - 1] = maxv; \n",
    "    } \n",
    "\n",
    "    // preprocess rest of the matrix from bottom \n",
    "    for (int i = N-2; i >= 0; i--) \n",
    "    { \n",
    "        for (int j = N-2; j >= 0; j--) \n",
    "        { \n",
    "            // Update maxValue \n",
    "            if (maxArr[i+1][j+1] - mat[i][j] > maxValue) \n",
    "                maxValue = maxArr[i + 1][j + 1] - mat[i][j]; \n",
    "\n",
    "            // set maxArr (i, j) \n",
    "            maxArr[i][j] = Math.max(mat[i][j], \n",
    "                               Math.max(maxArr[i][j + 1], \n",
    "                                   maxArr[i + 1][j]) ); \n",
    "        } \n",
    "    } \n",
    "\n",
    "    return maxValue; \n",
    "} "
   ]
  },
  {
   "cell_type": "code",
   "execution_count": 110,
   "metadata": {},
   "outputs": [
    {
     "name": "stdout",
     "output_type": "stream",
     "text": [
      "Maximum Value is 18"
     ]
    }
   ],
   "source": [
    "// Driver code \n",
    "public static void main (String[] args)  \n",
    "{ \n",
    "    int N = 5; \n",
    "\n",
    "    int mat[][] = { \n",
    "                  { 1, 2, -1, -4, -20 }, \n",
    "                  { -8, -3, 4, 2, 1 }, \n",
    "                  { 3, 8, 6, 1, 3 }, \n",
    "                  { -4, -1, 1, 7, -6 }, \n",
    "                  { 0, -4, 10, -5, 1 } \n",
    "               }; \n",
    "\n",
    "    System.out.print(\"Maximum Value is \" +  \n",
    "                       findMaxValue(N,mat)); \n",
    "} \n",
    "main(args);"
   ]
  },
  {
   "cell_type": "markdown",
   "metadata": {},
   "source": [
    "## **145. Find orientation of a pattern in a matrix**\n",
    "https://www.geeksforgeeks.org/find-orientation-of-a-pattern-in-a-matrix/"
   ]
  },
  {
   "cell_type": "code",
   "execution_count": 111,
   "metadata": {},
   "outputs": [],
   "source": [
    "/*\n",
    "Given a matrix of characters and a pattern, \n",
    "find the orientation of pattern in the matrix. \n",
    "In other words, \n",
    "    find if pattern appears in matrix in horizontal or vertical direction. \n",
    "Achieve this in minimum time possible.\n",
    "*/"
   ]
  },
  {
   "cell_type": "code",
   "execution_count": 112,
   "metadata": {},
   "outputs": [],
   "source": [
    "/*\n",
    "Input:\n",
    "mat[N][N] = { {'a', 'b', 'c', 'd', 'e'},\n",
    "              {'f', 'g', 'h', 'i', 'j'},\n",
    "              {'k', 'l', 'm', 'n', 'o'},\n",
    "              {'p', 'q', 'r', 's', 't'},\n",
    "              {'u', 'v', 'w', 'x', 'y'}};\n",
    "pattern = \"pqrs\";\n",
    "\n",
    "Output: Horizontal\n",
    "*/"
   ]
  },
  {
   "cell_type": "markdown",
   "metadata": {},
   "source": [
    "***https://www.geeksforgeeks.org/searching-for-patterns-set-1-naive-pattern-searching/***"
   ]
  },
  {
   "cell_type": "code",
   "execution_count": 113,
   "metadata": {},
   "outputs": [],
   "source": [
    "/*\n",
    "A simple solution is for each row and column, \n",
    "use Naive pattern searching algorithm (Link Given above) to find the orientation of pattern in the matrix. \n",
    "The time complexity of Naive pattern searching algorithm for every row is O(NM) \n",
    "where N is size of the matrix and M is length of the pattern. \n",
    "\n",
    "So, the time complexity of this solution will be O(N*(NM)) as each of N rows and N columns takes O(NM) time.\n",
    "*/"
   ]
  },
  {
   "cell_type": "markdown",
   "metadata": {},
   "source": [
    "***https://www.geeksforgeeks.org/searching-for-patterns-set-2-kmp-algorithm/***"
   ]
  },
  {
   "cell_type": "code",
   "execution_count": 114,
   "metadata": {},
   "outputs": [],
   "source": [
    "/*\n",
    "Can we do better?\n",
    "The idea is to use KMP pattern matching algorithm for each row and column. \n",
    "The KMP matching algorithm improves the worst case to O(N + M). \n",
    "The total cost of a KMP search is linear in the number of characters of string and pattern. \n",
    "For a N x N matrix and pattern of length M, complexity of this solution will be O(N*(N+M)) as each of N rows and N columns will take O(N + M) time.\n",
    "*/"
   ]
  },
  {
   "cell_type": "markdown",
   "metadata": {},
   "source": [
    "***https://ideone.com/uMJIJm***"
   ]
  },
  {
   "cell_type": "markdown",
   "metadata": {},
   "source": [
    "## **146. Shortest path in a Binary Maze**\n",
    "https://www.geeksforgeeks.org/shortest-path-in-a-binary-maze/"
   ]
  },
  {
   "cell_type": "code",
   "execution_count": 115,
   "metadata": {},
   "outputs": [],
   "source": [
    "/*\n",
    "Given a MxN matrix where each element can either be 0 or 1. \n",
    "We need to find the shortest path between a given source cell to a destination cell. \n",
    "The path can only be created out of a cell if its value is 1.\n",
    "\n",
    "Expected time complexity is O(MN).\n",
    "*/"
   ]
  },
  {
   "cell_type": "code",
   "execution_count": 116,
   "metadata": {},
   "outputs": [],
   "source": [
    "/*\n",
    "For example –\n",
    "\n",
    "Input:\n",
    "mat[ROW][COL]  = {{1, 0, 1, 1, 1, 1, 0, 1, 1, 1 },\n",
    "                  {1, 0, 1, 0, 1, 1, 1, 0, 1, 1 },\n",
    "                  {1, 1, 1, 0, 1, 1, 0, 1, 0, 1 },\n",
    "                  {0, 0, 0, 0, 1, 0, 0, 0, 0, 1 },\n",
    "                  {1, 1, 1, 0, 1, 1, 1, 0, 1, 0 },\n",
    "                  {1, 0, 1, 1, 1, 1, 0, 1, 0, 0 },\n",
    "                  {1, 0, 0, 0, 0, 0, 0, 0, 0, 1 },\n",
    "                  {1, 0, 1, 1, 1, 1, 0, 1, 1, 1 },\n",
    "                  {1, 1, 0, 0, 0, 0, 1, 0, 0, 1 }};\n",
    "Source = {0, 0};\n",
    "Destination = {3, 4};\n",
    "\n",
    "Output:\n",
    "Shortest Path is 11 \n",
    "*/"
   ]
  },
  {
   "cell_type": "code",
   "execution_count": 117,
   "metadata": {},
   "outputs": [],
   "source": [
    "/*\n",
    "The idea is inspired from Lee algorithm and uses BFS.\n",
    "\n",
    "1. We start from the source cell and calls BFS procedure.\n",
    "2. We maintain a queue to store the coordinates of the matrix and initialize it with the source cell.\n",
    "3. We also maintain a Boolean array visited of same size as our input matrix and initialize all its elements to false.\n",
    "    i.   We LOOP till queue is not empty\n",
    "    ii.  Dequeue front cell from the queue\n",
    "    iii. Return if the destination coordinates have reached.\n",
    "    iv.  For each of its four adjacent cells, if the value is 1 \n",
    "         and they are not visited yet, we enqueue it in the queue and also mark them as visited.\n",
    "         \n",
    "Note that BFS works here because it doesn’t consider a single path at once. \n",
    "It considers all the paths starting from the source and moves ahead one unit in all those paths at the same time \n",
    "which makes sure that the first time when the destination is visited, it is the shortest path.\n",
    "\n",
    "Below is the implementation of the idea –\n",
    "*/"
   ]
  },
  {
   "cell_type": "code",
   "execution_count": 118,
   "metadata": {},
   "outputs": [],
   "source": [
    "static int ROW = 9; \n",
    "static int COL = 10; \n",
    "  \n",
    "// To store matrix cell cordinates \n",
    "static class Point \n",
    "{ \n",
    "    int x; \n",
    "    int y; \n",
    "  \n",
    "    public Point(int x, int y) \n",
    "    { \n",
    "        this.x = x; \n",
    "        this.y = y; \n",
    "    } \n",
    "}; "
   ]
  },
  {
   "cell_type": "code",
   "execution_count": 119,
   "metadata": {},
   "outputs": [],
   "source": [
    "// A Data Structure for queue used in BFS \n",
    "static class queueNode \n",
    "{ \n",
    "    Point pt; // The cordinates of a cell \n",
    "    int dist; // cell's distance of from the source \n",
    "  \n",
    "    public queueNode(Point pt, int dist) \n",
    "    { \n",
    "        this.pt = pt; \n",
    "        this.dist = dist; \n",
    "    } \n",
    "}; \n"
   ]
  },
  {
   "cell_type": "code",
   "execution_count": 120,
   "metadata": {},
   "outputs": [],
   "source": [
    "// check whether given cell (row, col)  \n",
    "// is a valid cell or not. \n",
    "static boolean isValid(int row, int col) \n",
    "{ \n",
    "    // return true if row number and  \n",
    "    // column number is in range \n",
    "    return (row >= 0) && (row < ROW) && \n",
    "           (col >= 0) && (col < COL); \n",
    "} "
   ]
  },
  {
   "cell_type": "code",
   "execution_count": 121,
   "metadata": {},
   "outputs": [],
   "source": [
    "// These arrays are used to get row and column \n",
    "// numbers of 4 neighbours of a given cell \n",
    "static int rowNum[] = {-1, 0, 0, 1}; \n",
    "static int colNum[] = {0, -1, 1, 0}; "
   ]
  },
  {
   "cell_type": "code",
   "execution_count": 122,
   "metadata": {},
   "outputs": [],
   "source": [
    "// function to find the shortest path between \n",
    "// a given source cell to a destination cell. \n",
    "static int BFS(int mat[][], Point src, \n",
    "                            Point dest) \n",
    "{ \n",
    "    // check source and destination cell \n",
    "    // of the matrix have value 1 \n",
    "    if (mat[src.x][src.y] != 1 ||  \n",
    "        mat[dest.x][dest.y] != 1) \n",
    "        return -1; \n",
    "  \n",
    "    boolean [][]visited = new boolean[ROW][COL]; \n",
    "      \n",
    "    // Mark the source cell as visited \n",
    "    visited[src.x][src.y] = true; \n",
    "  \n",
    "    // Create a queue for BFS \n",
    "    Queue<queueNode> q = new LinkedList<>(); \n",
    "      \n",
    "    // Distance of source cell is 0 \n",
    "    queueNode s = new queueNode(src, 0); \n",
    "    q.add(s); // Enqueue source cell \n",
    "  \n",
    "    // Do a BFS starting from source cell \n",
    "    while (!q.isEmpty()) \n",
    "    { \n",
    "        queueNode curr = q.peek(); \n",
    "        Point pt = curr.pt; \n",
    "  \n",
    "        // If we have reached the destination cell, \n",
    "        // we are done \n",
    "        if (pt.x == dest.x && pt.y == dest.y) \n",
    "            return curr.dist; \n",
    "  \n",
    "        // Otherwise dequeue the front cell  \n",
    "        // in the queue and enqueue \n",
    "        // its adjacent cells \n",
    "        q.remove(); \n",
    "  \n",
    "        for (int i = 0; i < 4; i++) \n",
    "        { \n",
    "            int row = pt.x + rowNum[i]; \n",
    "            int col = pt.y + colNum[i]; \n",
    "              \n",
    "            // if adjacent cell is valid, has path  \n",
    "            // and not visited yet, enqueue it. \n",
    "            if (isValid(row, col) &&  \n",
    "                    mat[row][col] == 1 &&  \n",
    "                    !visited[row][col]) \n",
    "            { \n",
    "                // mark cell as visited and enqueue it \n",
    "                visited[row][col] = true; \n",
    "                queueNode Adjcell = new queueNode(new Point(row, col), \n",
    "                                                      curr.dist + 1 ); \n",
    "                q.add(Adjcell); \n",
    "            } \n",
    "        } \n",
    "    } \n",
    "  \n",
    "    // Return -1 if destination cannot be reached \n",
    "    return -1; \n",
    "} "
   ]
  },
  {
   "cell_type": "code",
   "execution_count": 123,
   "metadata": {},
   "outputs": [
    {
     "name": "stdout",
     "output_type": "stream",
     "text": [
      "Shortest Path is 11\n"
     ]
    }
   ],
   "source": [
    "// Driver Code \n",
    "public static void main(String[] args)  \n",
    "{ \n",
    "    int mat[][] = {{ 1, 0, 1, 1, 1, 1, 0, 1, 1, 1 }, \n",
    "                   { 1, 0, 1, 0, 1, 1, 1, 0, 1, 1 }, \n",
    "                   { 1, 1, 1, 0, 1, 1, 0, 1, 0, 1 }, \n",
    "                   { 0, 0, 0, 0, 1, 0, 0, 0, 0, 1 }, \n",
    "                   { 1, 1, 1, 0, 1, 1, 1, 0, 1, 0 }, \n",
    "                   { 1, 0, 1, 1, 1, 1, 0, 1, 0, 0 }, \n",
    "                   { 1, 0, 0, 0, 0, 0, 0, 0, 0, 1 }, \n",
    "                   { 1, 0, 1, 1, 1, 1, 0, 1, 1, 1 }, \n",
    "                   { 1, 1, 0, 0, 0, 0, 1, 0, 0, 1 }}; \n",
    "  \n",
    "    Point source = new Point(0, 0); \n",
    "    Point dest = new Point(3, 4); \n",
    "  \n",
    "    int dist = BFS(mat, source, dest); \n",
    "  \n",
    "    if (dist != Integer.MAX_VALUE) \n",
    "        System.out.println(\"Shortest Path is \" + dist); \n",
    "    else\n",
    "        System.out.println(\"Shortest Path doesn't exist\"); \n",
    "}\n",
    "main(args);"
   ]
  },
  {
   "cell_type": "markdown",
   "metadata": {},
   "source": [
    "## **147. Inplace rotate square matrix by 90 degrees | Set 1**\n",
    "https://www.geeksforgeeks.org/inplace-rotate-square-matrix-by-90-degrees/"
   ]
  },
  {
   "cell_type": "code",
   "execution_count": 124,
   "metadata": {},
   "outputs": [],
   "source": [
    "/*\n",
    "Previously Discussed\n",
    "*/"
   ]
  },
  {
   "cell_type": "markdown",
   "metadata": {},
   "source": [
    "## **148. Kth smallest element in a row-wise and column-wise sorted 2D array | Set 1**\n",
    "https://www.geeksforgeeks.org/kth-smallest-element-in-a-row-wise-and-column-wise-sorted-2d-array-set-1/"
   ]
  },
  {
   "cell_type": "code",
   "execution_count": 125,
   "metadata": {},
   "outputs": [],
   "source": [
    "/*\n",
    "Given an n x n matrix, \n",
    "where every row and column is sorted in non-decreasing order. \n",
    "\n",
    "Find the kth smallest element in the given 2D array.\n",
    "*/"
   ]
  },
  {
   "cell_type": "code",
   "execution_count": 126,
   "metadata": {},
   "outputs": [],
   "source": [
    "/*\n",
    "For example, consider the following 2D array.\n",
    "\n",
    "        10, 20, 30, 40\n",
    "        15, 25, 35, 45\n",
    "        24, 29, 37, 48\n",
    "        32, 33, 39, 50\n",
    "The 3rd smallest element is 20 and 7th smallest element is 30\n",
    "*/"
   ]
  },
  {
   "cell_type": "code",
   "execution_count": 127,
   "metadata": {},
   "outputs": [],
   "source": [
    "/*\n",
    "The idea is to use min heap. Following are detailed step.\n",
    "1) Build a min heap of elements from first row. A heap entry also stores row number and column number.\n",
    "2) Do following k times.\n",
    "    a) Get minimum element (or root) from min heap.\n",
    "    b) Find row number and column number of the minimum element.\n",
    "    c) Replace root with the next element from same column and min-heapify the root.\n",
    "3) Return the last extracted root.\n",
    "*/"
   ]
  },
  {
   "cell_type": "code",
   "execution_count": 128,
   "metadata": {},
   "outputs": [],
   "source": [
    "/*\n",
    "Time Complexity: The above solution involves following steps.\n",
    "1) Build a min heap which takes O(n) time\n",
    "2) Heapify k times which takes O(kLogn) time.\n",
    "Therefore, overall time complexity is O(n + kLogn) time.\n",
    "\n",
    "The above code can be optimized to build a heap of size k when k is smaller than n. \n",
    "In that case, the kth smallest element must be in first k rows and k columns.\n",
    "*/"
   ]
  },
  {
   "cell_type": "markdown",
   "metadata": {},
   "source": [
    "***https://ideone.com/mZJ5FY***"
   ]
  },
  {
   "cell_type": "markdown",
   "metadata": {},
   "source": [
    "## **149. A Boolean Matrix Question**\n",
    "https://www.geeksforgeeks.org/a-boolean-matrix-question/"
   ]
  },
  {
   "cell_type": "code",
   "execution_count": 129,
   "metadata": {},
   "outputs": [],
   "source": [
    "/*\n",
    "Given a boolean matrix mat[M][N] of size M X N, \n",
    "modify it such that if a matrix cell mat[i][j] is 1 (or true) then make all the cells of ith row and jth column as 1\n",
    "*/"
   ]
  },
  {
   "cell_type": "code",
   "execution_count": 130,
   "metadata": {},
   "outputs": [],
   "source": [
    "/*\n",
    "Example 1\n",
    "The matrix\n",
    "1 0\n",
    "0 0\n",
    "should be changed to following\n",
    "1 1\n",
    "1 0\n",
    "\n",
    "Example 2\n",
    "The matrix\n",
    "0 0 0\n",
    "0 0 1\n",
    "should be changed to following\n",
    "0 0 1\n",
    "1 1 1\n",
    "\n",
    "Example 3\n",
    "The matrix\n",
    "1 0 0 1\n",
    "0 0 1 0\n",
    "0 0 0 0\n",
    "should be changed to following\n",
    "1 1 1 1\n",
    "1 1 1 1\n",
    "1 0 1 1\n",
    "*/"
   ]
  },
  {
   "cell_type": "code",
   "execution_count": 131,
   "metadata": {},
   "outputs": [],
   "source": [
    "/*\n",
    "Method 1 (Use two temporary arrays)\n",
    "1) Create two temporary arrays row[M] and col[N]. \n",
    "   Initialize all values of row[] and col[] as 0.\n",
    "2) Traverse the input matrix mat[M][N]. \n",
    "   If you see an entry mat[i][j] as true, then mark row[i] and col[j] as true.\n",
    "3) Traverse the input matrix mat[M][N] again. \n",
    "   For each entry mat[i][j], check the values of row[i] and col[j]. \n",
    "   If any of the two values (row[i] or col[j]) is true, then mark mat[i][j] as true.\n",
    "*/"
   ]
  },
  {
   "cell_type": "code",
   "execution_count": 132,
   "metadata": {},
   "outputs": [],
   "source": [
    "public static void modifyMatrix(int mat[ ][ ], int R, int C) \n",
    "{ \n",
    "    int row[ ]= new int [R]; \n",
    "    int col[ ]= new int [C]; \n",
    "    int i, j; \n",
    "\n",
    "    /* Initialize all values of row[] as 0 */\n",
    "    for (i = 0; i < R; i++) \n",
    "    { \n",
    "    row[i] = 0; \n",
    "    } \n",
    "\n",
    "\n",
    "    /* Initialize all values of col[] as 0 */\n",
    "    for (i = 0; i < C; i++) \n",
    "    { \n",
    "    col[i] = 0; \n",
    "    } \n",
    "\n",
    "\n",
    "    /* Store the rows and columns to be marked as \n",
    "    1 in row[] and col[] arrays respectively */\n",
    "    for (i = 0; i < R; i++) \n",
    "    { \n",
    "        for (j = 0; j < C; j++) \n",
    "        { \n",
    "            if (mat[i][j] == 1) \n",
    "            { \n",
    "                row[i] = 1; \n",
    "                col[j] = 1; \n",
    "            } \n",
    "        } \n",
    "    } \n",
    "\n",
    "    /* Modify the input matrix mat[] using the \n",
    "    above constructed row[] and col[] arrays */\n",
    "    for (i = 0; i < R; i++) \n",
    "    { \n",
    "        for (j = 0; j < C; j++) \n",
    "        { \n",
    "            if ( row[i] == 1 || col[j] == 1 ) \n",
    "            { \n",
    "                mat[i][j] = 1; \n",
    "            } \n",
    "        } \n",
    "    } \n",
    "} "
   ]
  },
  {
   "cell_type": "code",
   "execution_count": 133,
   "metadata": {},
   "outputs": [],
   "source": [
    "/* A utility function to print a 2D matrix */\n",
    "public static void printMatrix(int mat[ ][ ], int R, int C) \n",
    "{ \n",
    "    int i, j; \n",
    "    for (i = 0; i < R; i++) \n",
    "    { \n",
    "        for (j = 0; j < C; j++) \n",
    "        { \n",
    "            System.out.print(mat[i][j]+ \" \"); \n",
    "        } \n",
    "        System.out.println(); \n",
    "    } \n",
    "} "
   ]
  },
  {
   "cell_type": "code",
   "execution_count": 134,
   "metadata": {},
   "outputs": [
    {
     "name": "stdout",
     "output_type": "stream",
     "text": [
      "Matrix Intially\n",
      "1 0 0 1 \n",
      "0 0 1 0 \n",
      "0 0 0 0 \n",
      "Matrix after modification n\n",
      "1 1 1 1 \n",
      "1 1 1 1 \n",
      "1 0 1 1 \n"
     ]
    }
   ],
   "source": [
    "/* Driver program to test above functions */\n",
    "public static void main(String[] args)  \n",
    "{ \n",
    "    int mat[ ][ ] = { {1, 0, 0, 1}, \n",
    "                      {0, 0, 1, 0}, \n",
    "                      {0, 0, 0, 0},}; \n",
    "\n",
    "            System.out.println(\"Matrix Intially\"); \n",
    "\n",
    "            printMatrix(mat, 3, 4); \n",
    "\n",
    "            modifyMatrix(mat, 3, 4); \n",
    "            System.out.println(\"Matrix after modification n\"); \n",
    "            printMatrix(mat, 3, 4); \n",
    "\n",
    "} \n",
    "main(args);"
   ]
  },
  {
   "cell_type": "code",
   "execution_count": 135,
   "metadata": {},
   "outputs": [],
   "source": [
    "/*\n",
    "Time Complexity: O(M*N)\n",
    "Auxiliary Space: O(M + N)\n",
    "*/"
   ]
  },
  {
   "cell_type": "code",
   "execution_count": 136,
   "metadata": {},
   "outputs": [],
   "source": [
    "/*\n",
    "Method 2 (A Space Optimized Version of Method 1)\n",
    "This method is a space optimized version of above method 1. \n",
    "This method uses the first row and first column of the input matrix in place of the auxiliary arrays row[] and col[] of method 1. \n",
    "So what we do is: \n",
    "    first take care of first row and column and store the info about these two in two flag variables rowFlag and colFlag. \n",
    "Once we have this info, \n",
    "    we can use first row and first column as auxiliary arrays and apply method 1 for submatrix (matrix excluding first row and first column) of size (M-1)*(N-1).\n",
    "\n",
    "1) Scan the first row and set a variable rowFlag to indicate whether we need to set all 1s in first row or not.\n",
    "2) Scan the first column and set a variable colFlag to indicate whether we need to set all 1s in first column or not.\n",
    "3) Use first row and first column as the auxiliary arrays row[] and col[] respectively, \n",
    "   consider the matrix as submatrix starting from second row and second column and apply method 1.\n",
    "4) Finally, using rowFlag and colFlag, update first row and first column if needed.\n",
    "\n",
    "Time Complexity: O(M*N)\n",
    "Auxiliary Space: O(1)\n",
    "*/"
   ]
  },
  {
   "cell_type": "code",
   "execution_count": 137,
   "metadata": {},
   "outputs": [],
   "source": [
    "public static void modifyMatrix(int mat[][]){ \n",
    "\n",
    "    // variables to check if there are any 1  \n",
    "    // in first row and column \n",
    "    boolean row_flag = false; \n",
    "    boolean col_flag = false; \n",
    "\n",
    "    // updating the first row and col if 1 \n",
    "    // is encountered \n",
    "    for (int i = 0; i < mat.length; i++ ){ \n",
    "            for (int j = 0; j < mat[0].length; j++){ \n",
    "                    if (i == 0 && mat[i][j] == 1) \n",
    "                        row_flag = true; \n",
    "\n",
    "                    if (j == 0 && mat[i][j] == 1) \n",
    "                        col_flag = true; \n",
    "\n",
    "                    if (mat[i][j] == 1){ \n",
    "\n",
    "                        mat[0][j] = 1; \n",
    "                        mat[i][0] = 1; \n",
    "                    } \n",
    "\n",
    "                } \n",
    "            } \n",
    "\n",
    "    // Modify the input matrix mat[] using the  \n",
    "    // first row and first column of Matrix mat \n",
    "    for (int i = 1; i < mat.length; i ++){ \n",
    "            for (int j = 1; j < mat[0].length; j ++){ \n",
    "\n",
    "                if (mat[0][j] == 1 || mat[i][0] == 1){ \n",
    "                        mat[i][j] = 1; \n",
    "                    } \n",
    "                } \n",
    "            } \n",
    "\n",
    "    // modify first row if there was any 1 \n",
    "    if (row_flag == true){ \n",
    "        for (int i = 0; i < mat[0].length; i++){ \n",
    "                    mat[0][i] = 1; \n",
    "                } \n",
    "            } \n",
    "\n",
    "    // modify first col if there was any 1 \n",
    "    if (col_flag == true){ \n",
    "        for (int i = 0; i < mat.length; i ++){ \n",
    "                    mat[i][0] = 1; \n",
    "        } \n",
    "    } \n",
    "} "
   ]
  },
  {
   "cell_type": "code",
   "execution_count": 138,
   "metadata": {},
   "outputs": [],
   "source": [
    "/* A utility function to print a 2D matrix */\n",
    "public static void printMatrix(int mat[][]){ \n",
    "    for (int i = 0; i < mat.length; i ++){ \n",
    "        for (int j = 0; j < mat[0].length; j ++){ \n",
    "            System.out.print( mat[i][j] ); \n",
    "        } \n",
    "            System.out.println(\"\"); \n",
    "    } \n",
    "}"
   ]
  },
  {
   "cell_type": "code",
   "execution_count": 139,
   "metadata": {},
   "outputs": [
    {
     "name": "stdout",
     "output_type": "stream",
     "text": [
      "Input Matrix :\n",
      "1001\n",
      "0010\n",
      "0000\n",
      "Matrix After Modification :\n",
      "1111\n",
      "1111\n",
      "1011\n"
     ]
    }
   ],
   "source": [
    "// Driver function to test the above function \n",
    "public static void main(String args[] ){ \n",
    "\n",
    "    int mat[][] = {{1, 0, 0, 1}, \n",
    "            {0, 0, 1, 0}, \n",
    "            {0, 0, 0, 0}}; \n",
    "\n",
    "    System.out.println(\"Input Matrix :\"); \n",
    "    printMatrix(mat); \n",
    "\n",
    "    modifyMatrix(mat); \n",
    "\n",
    "    System.out.println(\"Matrix After Modification :\"); \n",
    "    printMatrix(mat); \n",
    "\n",
    "} \n",
    "main(args);"
   ]
  },
  {
   "cell_type": "markdown",
   "metadata": {},
   "source": [
    "## **150. Search a Word in a 2D Grid of characters**\n",
    "https://www.geeksforgeeks.org/search-a-word-in-a-2d-grid-of-characters/"
   ]
  },
  {
   "cell_type": "code",
   "execution_count": 140,
   "metadata": {},
   "outputs": [],
   "source": [
    "/*\n",
    "Given a 2D grid of characters and a word, \n",
    "find all occurrences of given word in grid. \n",
    "\n",
    "A word can be matched in all 8 directions at any point. \n",
    "Word is said be found in a direction if all characters match in this direction (not in zig-zag form).\n",
    "\n",
    "The 8 directions are, Horizontally Left, Horizontally Right, Vertically Up and 4 Diagonal directions.\n",
    "*/"
   ]
  },
  {
   "cell_type": "code",
   "execution_count": 141,
   "metadata": {},
   "outputs": [],
   "source": [
    "/*\n",
    "Example:\n",
    "\n",
    "Input:  grid[][] = {\"GEEKSFORGEEKS\",\n",
    "                    \"GEEKSQUIZGEEK\",\n",
    "                    \"IDEQAPRACTICE\"};\n",
    "        word = \"GEEKS\"\n",
    "\n",
    "Output: pattern found at 0, 0\n",
    "        pattern found at 0, 8\n",
    "        pattern found at 1, 0\n",
    "\n",
    "Input:  grid[][] = {\"GEEKSFORGEEKS\",\n",
    "                    \"GEEKSQUIZGEEK\",\n",
    "                    \"IDEQAPRACTICE\"};\n",
    "        word = \"EEE\"\n",
    "\n",
    "Output: pattern found at 0, 2\n",
    "        pattern found at 0, 10\n",
    "        pattern found at 2, 2\n",
    "        pattern found at 2, 12\n",
    "*/"
   ]
  },
  {
   "cell_type": "code",
   "execution_count": 142,
   "metadata": {},
   "outputs": [],
   "source": [
    "/*\n",
    "Below diagram shows a bigger grid and presence of different words in it.\n",
    "*/"
   ]
  },
  {
   "cell_type": "markdown",
   "metadata": {},
   "source": [
    "<img src =\"https://media.geeksforgeeks.org/wp-content/cdn-uploads/Search_a_Word.png\"/>"
   ]
  },
  {
   "cell_type": "code",
   "execution_count": 143,
   "metadata": {},
   "outputs": [],
   "source": [
    "/*\n",
    "The idea used here is simple, we check every cell. \n",
    "If cell has first character, \n",
    "    then we one by one try all 8 directions from that cell for a match. \n",
    "    \n",
    "Implementation is interesting though. We use two arrays x[] and y[] to find next move in all 8 directions.\n",
    "Below are implementation of the same.\n",
    "*/"
   ]
  },
  {
   "cell_type": "code",
   "execution_count": 144,
   "metadata": {},
   "outputs": [],
   "source": [
    "// Rows and columns in given grid \n",
    "static int R, C; \n",
    "\n",
    "// For searching in all 8 direction  \n",
    "static int[] x = { -1, -1, -1, 0, 0, 1, 1, 1 };  \n",
    "static int[] y = { -1, 0, 1, -1, 1, -1, 0, 1 };  "
   ]
  },
  {
   "cell_type": "code",
   "execution_count": 145,
   "metadata": {},
   "outputs": [],
   "source": [
    "// This function searches in all 8-direction from point  \n",
    "// (row, col) in grid[][]  \n",
    "static boolean search2D(char[][] grid, int row, \n",
    "                        int col, String word) \n",
    "{ \n",
    "        // If first character of word doesn't match with  \n",
    "        // given starting point in grid.  \n",
    "        if (grid[row][col] != word.charAt(0)) \n",
    "            return false; \n",
    "\n",
    "        int len = word.length(); \n",
    "\n",
    "        // Search word in all 8 directions \n",
    "        // starting from (row,col) \n",
    "        for (int dir = 0; dir < 8; dir++) \n",
    "        { \n",
    "            // Initialize starting point \n",
    "            // for current direction  \n",
    "            int k, rd = row + x[dir], cd = col + y[dir]; \n",
    "\n",
    "            // First character is already checked,  \n",
    "            //  match remaining characters \n",
    "            for (k = 1; k < len; k++) \n",
    "            { \n",
    "                // If out of bound break  \n",
    "                if (rd >= R || rd < 0 || cd >= C || cd < 0) \n",
    "                    break; \n",
    "\n",
    "                // If not matched, break  \n",
    "                if (grid[rd][cd] != word.charAt(k)) \n",
    "                    break; \n",
    "\n",
    "                // Moving in particular direction  \n",
    "                rd += x[dir]; \n",
    "                cd += y[dir]; \n",
    "            }  \n",
    "\n",
    "            // If all character matched, then value of must  \n",
    "            // be equal to length of word \n",
    "            if (k == len) \n",
    "                return true;  \n",
    "        } \n",
    "    return false; \n",
    "} "
   ]
  },
  {
   "cell_type": "code",
   "execution_count": 146,
   "metadata": {},
   "outputs": [],
   "source": [
    "// Searches given word in a given \n",
    "// matrix in all 8 directions \n",
    "static void patternSearch(char[][] grid, String word) \n",
    "{ \n",
    "        // Consider every point as starting  \n",
    "        // point and search given word  \n",
    "        for (int row = 0; row < R; row++)  \n",
    "        { \n",
    "            for (int col = 0; col < C; col++)  \n",
    "            { \n",
    "                if (search2D(grid, row, col, word)) \n",
    "                    System.out.println(\"pattern found at \" + row +  \n",
    "                                                        \", \" + col); \n",
    "            } \n",
    "        } \n",
    "} "
   ]
  },
  {
   "cell_type": "code",
   "execution_count": 147,
   "metadata": {},
   "outputs": [
    {
     "name": "stdout",
     "output_type": "stream",
     "text": [
      "pattern found at 0, 0\n",
      "pattern found at 0, 8\n",
      "pattern found at 1, 0\n",
      "\n",
      "pattern found at 0, 2\n",
      "pattern found at 0, 10\n",
      "pattern found at 2, 2\n",
      "pattern found at 2, 12\n"
     ]
    }
   ],
   "source": [
    "// Driver code \n",
    "public static void main(String args[]) \n",
    "{ \n",
    "        R = 3; \n",
    "        C = 13; \n",
    "        char[][] grid = {{'G','E','E','K','S','F','O','R','G','E','E','K','S'}, \n",
    "                            {'G','E','E','K','S','Q','U','I','Z','G','E','E','K'}, \n",
    "                            {'I','D','E','Q','A','P','R','A','C','T','I','C','E'}}; \n",
    "        patternSearch(grid, \"GEEKS\"); \n",
    "        System.out.println(); \n",
    "        patternSearch(grid, \"EEE\"); \n",
    "} \n",
    "main(args);"
   ]
  },
  {
   "cell_type": "code",
   "execution_count": null,
   "metadata": {},
   "outputs": [],
   "source": []
  }
 ],
 "metadata": {
  "kernelspec": {
   "display_name": "Java",
   "language": "java",
   "name": "java"
  },
  "language_info": {
   "codemirror_mode": "java",
   "file_extension": ".jshell",
   "mimetype": "text/x-java-source",
   "name": "Java",
   "pygments_lexer": "java",
   "version": "11.0.6+8-LTS"
  },
  "toc": {
   "base_numbering": 1,
   "nav_menu": {},
   "number_sections": true,
   "sideBar": true,
   "skip_h1_title": true,
   "title_cell": "Table of Contents",
   "title_sidebar": "Contents",
   "toc_cell": false,
   "toc_position": {
    "height": "calc(100% - 180px)",
    "left": "10px",
    "top": "150px",
    "width": "211.319px"
   },
   "toc_section_display": true,
   "toc_window_display": true
  }
 },
 "nbformat": 4,
 "nbformat_minor": 2
}
