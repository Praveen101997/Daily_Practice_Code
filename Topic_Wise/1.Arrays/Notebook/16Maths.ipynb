{
 "cells": [
  {
   "cell_type": "markdown",
   "metadata": {},
   "source": [
    "# --------------------------------MATHS TOPIC--------------------------------\n",
    "**==============================================================================**\n",
    "# Assembled By - Praveen Kumar Sharma\n",
    "# Source - GeeksForGeeks\n",
    "**==============================================================================**"
   ]
  },
  {
   "cell_type": "code",
   "execution_count": 1,
   "metadata": {},
   "outputs": [],
   "source": [
    "import java.util.*;\n",
    "import java.io.*;\n",
    "String[] args =new String[0];"
   ]
  },
  {
   "cell_type": "markdown",
   "metadata": {},
   "source": [
    "## **473. Euclidean algorithms (Basic and Extended)**\n",
    "https://www.geeksforgeeks.org/euclidean-algorithms-basic-and-extended/"
   ]
  },
  {
   "cell_type": "code",
   "execution_count": 2,
   "metadata": {},
   "outputs": [],
   "source": [
    "/*\n",
    "GCD of two numbers is the largest number that divides both of them. \n",
    "A simple way to find GCD is to factorize both numbers and multiply common factors.\n",
    "*/"
   ]
  },
  {
   "cell_type": "markdown",
   "metadata": {},
   "source": [
    "<img src = \"https://www.geeksforgeeks.org/wp-content/uploads/GCD-1.jpg\"/>"
   ]
  },
  {
   "cell_type": "code",
   "execution_count": 3,
   "metadata": {},
   "outputs": [],
   "source": [
    "/*\n",
    "Basic Euclidean Algorithm for GCD\n",
    "Time Complexity: O(Log min(a, b))\n",
    "\n",
    "The algorithm is based on below facts.\n",
    "\n",
    "1. If we subtract smaller number from larger (we reduce larger number), \n",
    "        GCD doesn’t change. \n",
    "    So if we keep subtracting repeatedly the larger of two, \n",
    "        we end up with GCD.\n",
    "2. Now instead of subtraction, \n",
    "        if we divide smaller number, \n",
    "            the algorithm stops when we find remainder 0.\n",
    "\n",
    "Below is a recursive function to evaluate gcd using Euclid’s algorithm.\n",
    "*/"
   ]
  },
  {
   "cell_type": "code",
   "execution_count": 4,
   "metadata": {},
   "outputs": [
    {
     "name": "stdout",
     "output_type": "stream",
     "text": [
      "GCD(10 , 15) = 5\n",
      "GCD(35 , 10) = 5\n",
      "GCD(31 , 2) = 1\n"
     ]
    }
   ],
   "source": [
    "// extended Euclidean Algorithm \n",
    "public static int gcd(int a, int b) \n",
    "{ \n",
    "    if (a == 0) \n",
    "        return b; \n",
    "\n",
    "    return gcd(b%a, a); \n",
    "} \n",
    "\n",
    "// Driver Program \n",
    "public static void main(String[] args) \n",
    "{ \n",
    "    int a = 10, b = 15, g; \n",
    "    g = gcd(a, b); \n",
    "    System.out.println(\"GCD(\" + a +  \" , \" + b+ \") = \" + g); \n",
    "\n",
    "    a = 35; b = 10; \n",
    "    g = gcd(a, b); \n",
    "    System.out.println(\"GCD(\" + a +  \" , \" + b+ \") = \" + g); \n",
    "\n",
    "    a = 31; b = 2; \n",
    "    g = gcd(a, b); \n",
    "    System.out.println(\"GCD(\" + a +  \" , \" + b+ \") = \" + g); \n",
    "\n",
    "}\n",
    "main(args);"
   ]
  },
  {
   "cell_type": "code",
   "execution_count": 5,
   "metadata": {},
   "outputs": [],
   "source": [
    "/*\n",
    "Extended Euclidean Algorithm:\n",
    "Extended Euclidean algorithm also finds integer coefficients x and y such that:\n",
    "\n",
    "  ax + by = gcd(a, b) \n",
    "*/"
   ]
  },
  {
   "cell_type": "code",
   "execution_count": 6,
   "metadata": {},
   "outputs": [],
   "source": [
    "/*\n",
    "Examples:\n",
    "\n",
    "Input: a = 30, b = 20\n",
    "Output: gcd = 10\n",
    "        x = 1, y = -1\n",
    "(Note that 30*1 + 20*(-1) = 10)\n",
    "\n",
    "Input: a = 35, b = 15\n",
    "Output: gcd = 5\n",
    "        x = 1, y = -2\n",
    "(Note that 35*1 + 15*(-2) = 5)\n",
    "*/"
   ]
  },
  {
   "cell_type": "code",
   "execution_count": 7,
   "metadata": {},
   "outputs": [],
   "source": [
    "/*\n",
    "The extended Euclidean algorithm updates results of gcd(a, b) \n",
    "    using the results calculated by recursive call gcd(b%a, a). \n",
    "Let values of x and y calculated by the recursive call be x1 and y1.\n",
    "    x and y are updated using the below expressions.\n",
    "\n",
    "    x = y1 - ⌊b/a⌋ * x1\n",
    "    y = x1\n",
    "*/"
   ]
  },
  {
   "cell_type": "code",
   "execution_count": 8,
   "metadata": {},
   "outputs": [
    {
     "name": "stdout",
     "output_type": "stream",
     "text": [
      "gcd(35 , 15) = 5"
     ]
    }
   ],
   "source": [
    "// extended Euclidean Algorithm \n",
    "public static int gcdExtended(int a, int b, int x, int y) \n",
    "{ \n",
    "    // Base Case \n",
    "    if (a == 0) \n",
    "    { \n",
    "        x = 0; \n",
    "        y = 1; \n",
    "        return b; \n",
    "    } \n",
    "\n",
    "    int x1=1, y1=1; // To store results of recursive call \n",
    "    int gcd = gcdExtended(b%a, a, x1, y1); \n",
    "\n",
    "    // Update x and y using results of recursive \n",
    "    // call \n",
    "    x = y1 - (b/a) * x1; \n",
    "    y = x1; \n",
    "\n",
    "    return gcd; \n",
    "} \n",
    "\n",
    "// Driver Program \n",
    "public static void main(String[] args) \n",
    "{ \n",
    "    int x=1, y=1; \n",
    "    int a = 35, b = 15; \n",
    "    int g = gcdExtended(a, b, x, y); \n",
    "    System.out.print(\"gcd(\" + a +  \" , \" + b+ \") = \" + g); \n",
    "\n",
    "} \n",
    "main(args);"
   ]
  },
  {
   "cell_type": "code",
   "execution_count": 9,
   "metadata": {},
   "outputs": [],
   "source": [
    "/*\n",
    "How does Extended Algorithm Work?\n",
    "\n",
    "As seen above, x and y are results for inputs a and b,\n",
    "   a.x + b.y = gcd                      ----(1)  \n",
    "\n",
    "And x1 and y1 are results for inputs b%a and a\n",
    "   (b%a).x1 + a.y1 = gcd   \n",
    "                    \n",
    "When we put b%a = (b - (⌊b/a⌋).a) in above, we get following. \n",
    "Note that ⌊b/a⌋ is floor(a/b)\n",
    "\n",
    "   (b - (⌊b/a⌋).a).x1 + a.y1  = gcd\n",
    "\n",
    "Above equation can also be written as below\n",
    "   b.x1 + a.(y1 - (⌊b/a⌋).x1) = gcd      ---(2)\n",
    "\n",
    "After comparing coefficients of 'a' and 'b' in (1) and (2), we get following\n",
    "   x = y1 - ⌊b/a⌋ * x1\n",
    "   y = x1\n",
    "*/"
   ]
  },
  {
   "cell_type": "code",
   "execution_count": 10,
   "metadata": {},
   "outputs": [],
   "source": [
    "/*\n",
    "How is Extended Algorithm Useful?\n",
    "\n",
    "The extended Euclidean algorithm is particularly useful \n",
    "    when a and b are coprime (or gcd is 1). \n",
    "\n",
    "Since x is the modular multiplicative inverse of “a modulo b”, \n",
    "    and y is the modular multiplicative inverse of “b modulo a”.\n",
    "    \n",
    "In particular,\n",
    "    the computation of the modular multiplicative inverse is an essential step in RSA public-key encryption method.\n",
    "*/"
   ]
  },
  {
   "cell_type": "markdown",
   "metadata": {},
   "source": [
    "## **474. Prime Factorization using Sieve O(log n) for multiple queries**\n",
    "https://www.geeksforgeeks.org/prime-factorization-using-sieve-olog-n-multiple-queries/"
   ]
  },
  {
   "cell_type": "code",
   "execution_count": 11,
   "metadata": {},
   "outputs": [],
   "source": [
    "/*\n",
    "We can calculate the prime factorization of a number “n” in O(sqrt(n)) as discussedin below link. \n",
    "But O(sqrt n) method times out \n",
    "    when we need to answer multiple queries regarding prime factorization.\n",
    "\n",
    "In this article we study \n",
    "    an efficient method to calculate the prime factorization using O(n) space and O(log n) time complexity \n",
    "        with per-computation allowed.\n",
    "*/"
   ]
  },
  {
   "cell_type": "markdown",
   "metadata": {},
   "source": [
    "**Related Link :**   ***https://www.geeksforgeeks.org/print-all-prime-factors-of-a-given-number/***"
   ]
  },
  {
   "cell_type": "code",
   "execution_count": 12,
   "metadata": {},
   "outputs": [],
   "source": [
    "/*\n",
    "An efficient method \n",
    "    to calculate the prime factorization using O(n) space and O(log n) time complexity with per-computation allowed.\n",
    "*/"
   ]
  },
  {
   "cell_type": "code",
   "execution_count": 13,
   "metadata": {},
   "outputs": [],
   "source": [
    "/*\n",
    "Key Concept: \n",
    "    Our idea is to store the Smallest Prime Factor(SPF) for every number. \n",
    "    Then to calculate the prime factorization of the given number \n",
    "        by dividing the given number recursively with its smallest prime factor till it becomes 1.\n",
    "*/"
   ]
  },
  {
   "cell_type": "code",
   "execution_count": 14,
   "metadata": {},
   "outputs": [],
   "source": [
    "/*\n",
    "To calculate to smallest prime factor for every number we will use the sieve of eratosthenes. \n",
    "In original Sieve, \n",
    "    every time we mark a number as not-prime, \n",
    "        we store the corresponding smallest prime factor for that number (Refer (below link) article for better understanding).\n",
    "\n",
    "Now, after we are done with precalculating the smallest prime factor for every number \n",
    "    we will divide our number n (whose prime factorziation is to be calculated) \n",
    "    by its corresponding smallest prime factor till n becomes 1.\n",
    "*/"
   ]
  },
  {
   "cell_type": "markdown",
   "metadata": {},
   "source": [
    "**sieve of eratosthenes :**   ***https://www.geeksforgeeks.org/sieve-of-eratosthenes/***"
   ]
  },
  {
   "cell_type": "markdown",
   "metadata": {},
   "source": [
    "***https://www.geeksforgeeks.org/least-prime-factor-of-numbers-till-n/***"
   ]
  },
  {
   "cell_type": "code",
   "execution_count": 15,
   "metadata": {},
   "outputs": [],
   "source": [
    "/*\n",
    "Pseudo Code for prime factorization assuming\n",
    "SPFs are computed :\n",
    "\n",
    "PrimeFactors[] // To store result\n",
    "\n",
    "i = 0  // Index in PrimeFactors\n",
    "\n",
    "while n != 1 :\n",
    "\n",
    "    // SPF : smallest prime factor\n",
    "    PrimeFactors[i] = SPF[n]    \n",
    "    i++ \n",
    "    n = n / SPF[n]\n",
    "*/"
   ]
  },
  {
   "cell_type": "code",
   "execution_count": 16,
   "metadata": {},
   "outputs": [
    {
     "name": "stdout",
     "output_type": "stream",
     "text": [
      "prime factorization for 12246 : 2 3 13 157 \n"
     ]
    }
   ],
   "source": [
    "static final int MAXN = 100001; \n",
    "\n",
    "// stores smallest prime factor for every number \n",
    "static int spf[] = new int[MAXN]; \n",
    "\n",
    "// Calculating SPF (Smallest Prime Factor) for every \n",
    "// number till MAXN. \n",
    "// Time Complexity : O(nloglogn) \n",
    "static void sieve() \n",
    "{ \n",
    "    spf[1] = 1; \n",
    "    for (int i=2; i<MAXN; i++) \n",
    "\n",
    "        // marking smallest prime factor for every \n",
    "        // number to be itself. \n",
    "        spf[i] = i; \n",
    "\n",
    "    // separately marking spf for every even \n",
    "    // number as 2 \n",
    "    for (int i=4; i<MAXN; i+=2) \n",
    "        spf[i] = 2; \n",
    "\n",
    "    for (int i=3; i*i<MAXN; i++) \n",
    "    { \n",
    "        // checking if i is prime \n",
    "        if (spf[i] == i) \n",
    "        { \n",
    "            // marking SPF for all numbers divisible by i \n",
    "            for (int j=i*i; j<MAXN; j+=i) \n",
    "\n",
    "                // marking spf[j] if it is not  \n",
    "                // previously marked \n",
    "                if (spf[j]==j) \n",
    "                    spf[j] = i; \n",
    "        } \n",
    "    } \n",
    "} \n",
    "\n",
    "// A O(log n) function returning primefactorization \n",
    "// by dividing by smallest prime factor at every step \n",
    "static Vector<Integer> getFactorization(int x) \n",
    "{ \n",
    "    Vector<Integer> ret = new Vector<>(); \n",
    "    while (x != 1) \n",
    "    { \n",
    "        ret.add(spf[x]); \n",
    "        x = x / spf[x]; \n",
    "    } \n",
    "    return ret; \n",
    "} \n",
    "\n",
    "// Driver method \n",
    "public static void main(String args[]) \n",
    "{ \n",
    "    // precalculating Smallest Prime Factor \n",
    "    sieve(); \n",
    "    int x = 12246; \n",
    "    System.out.print(\"prime factorization for \" + x + \" : \"); \n",
    "\n",
    "    // calling getFactorization function \n",
    "    Vector <Integer> p = getFactorization(x); \n",
    "\n",
    "    for (int i=0; i<p.size(); i++) \n",
    "        System.out.print(p.get(i) + \" \"); \n",
    "    System.out.println(); \n",
    "} \n",
    "main(args);"
   ]
  },
  {
   "cell_type": "code",
   "execution_count": 17,
   "metadata": {},
   "outputs": [],
   "source": [
    "/*\n",
    "Note : The above code works well for n upto the order of 10^7.\n",
    "        Beyond this we will face memory issues.\n",
    "\n",
    "Time Complexity: The precomputation for smallest prime factor is done in O(n log log n) using sieve. \n",
    "        Where as in the calculation step we are dividing the number every time \n",
    "            by the smallest prime number till it becomes 1. \n",
    "        So, let’s consider a worst case in which every time the SPF is 2 . \n",
    "        Therefore will have log n division steps.\n",
    "        Hence, We can say that our Time Complexity will be O(log n) in worst case.\n",
    "*/"
   ]
  },
  {
   "cell_type": "markdown",
   "metadata": {},
   "source": [
    "## **475. Fermat’s Last Theorem**\n",
    "https://www.geeksforgeeks.org/fermats-last-theorem/"
   ]
  },
  {
   "cell_type": "code",
   "execution_count": 18,
   "metadata": {},
   "outputs": [],
   "source": [
    "/*\n",
    "According to Fermat’s Last Theorem, \n",
    "    no three positive integers a, b, c satisfy the equation, a^n + b^n = c^n for any integer value of n greater than 2. \n",
    "    For n = 1 and n = 2, the equation have infinitely many solutions.\n",
    "*/"
   ]
  },
  {
   "cell_type": "code",
   "execution_count": 19,
   "metadata": {},
   "outputs": [],
   "source": [
    "/*\n",
    "Some solutions for n = 1 are,\n",
    "    2 + 3 = 5\n",
    "    7 + 13 = 20\n",
    "    5 + 6 = 11\n",
    "    10 + 9 = 19\n",
    "\n",
    "Some solutions for n = 2 are,\n",
    "    5^2 + 12^2 = 13^2     \n",
    "    3^2 + 4^2  = 5^2    \n",
    "    8^2 + 15^2 = 17^2    \n",
    "    9^2 + 40^2 = 41^2 \n",
    "*/"
   ]
  },
  {
   "cell_type": "code",
   "execution_count": 20,
   "metadata": {},
   "outputs": [
    {
     "name": "stdout",
     "output_type": "stream",
     "text": [
      "No counter example within given range and data\n"
     ]
    }
   ],
   "source": [
    "static void testSomeNumbers(int limit, int n) \n",
    "{ \n",
    "    if (n < 3) \n",
    "        return; \n",
    "\n",
    "    for (int a = 1; a <= limit; a++) \n",
    "        for (int b = a; b <= limit; b++) \n",
    "        { \n",
    "            // Check if there exists a triplet \n",
    "            // such that a^n + b^n = c^n \n",
    "            int pow_sum = (int)(Math.pow(a, n)  \n",
    "                           + Math.pow(b, n)); \n",
    "            double c = Math.pow(pow_sum, 1.0 / n); \n",
    "            int c_pow = (int)Math.pow((int)c, n); \n",
    "            if (c_pow == pow_sum) \n",
    "            { \n",
    "                System.out.println(\"Count example found\"); \n",
    "                return; \n",
    "            } \n",
    "        } \n",
    "\n",
    "        System.out.println(\"No counter example within given\"+ \n",
    "                           \" range and data\"); \n",
    "} \n",
    "\n",
    "// Driver code \n",
    "public static void main (String[] args)  \n",
    "{ \n",
    "    testSomeNumbers(12, 5); \n",
    "\n",
    "} \n",
    "main(args);"
   ]
  },
  {
   "cell_type": "markdown",
   "metadata": {},
   "source": [
    "## **476. Matrix Exponentiation**\n",
    "https://www.geeksforgeeks.org/matrix-exponentiation/"
   ]
  },
  {
   "cell_type": "code",
   "execution_count": 21,
   "metadata": {},
   "outputs": [],
   "source": [
    "/*\n",
    "This is one of the most used techniques in competitive programming. \n",
    "\n",
    "Time Complexity of this solution : O(log n)\n",
    "*/"
   ]
  },
  {
   "cell_type": "markdown",
   "metadata": {},
   "source": [
    "**Related Link :**   ***https://www.geeksforgeeks.org/program-for-nth-fibonacci-number/***"
   ]
  },
  {
   "cell_type": "code",
   "execution_count": 22,
   "metadata": {},
   "outputs": [],
   "source": [
    "/*\n",
    "For solving the matrix exponentiation we are assuming a\n",
    "linear recurrence equation like below:\n",
    "\n",
    "F(n) = a*F(n-1) + b*F(n-2) + c*F(n-3)   for n >= 3 \n",
    "                                 . . . . . Equation (1)\n",
    "where a, b and c are constants. \n",
    "\n",
    "For this recurrence relation, it depends on three previous values. \n",
    "Now we will try to represent Equation (1) in terms of the matrix. \n",
    "\n",
    "[First Matrix] = [Second matrix] * [Third Matrix]\n",
    "| F(n)   |     =   Matrix 'C'    *  | F(n-1) |\n",
    "| F(n-1) |                          | F(n-2) |\n",
    "| F(n-2) |                          | F(n-3) |\n",
    " \n",
    "Dimension of the first matrix is 3 x 1 . \n",
    "Dimension of the third matrix is also 3 x 1. \n",
    "\n",
    "So the dimension of the second matrix must be 3 x 3 \n",
    "[For multiplication rule to be satisfied.]\n",
    "\n",
    "Now we need to fill the Matrix 'C'. \n",
    "\n",
    "So according to our equation. \n",
    "F(n) = a*F(n-1) + b*F(n-2) + c*F(n-3)\n",
    "F(n-1) = F(n-1)\n",
    "F(n-2) = F(n-2)\n",
    "\n",
    "C = [a b c\n",
    "     1 0 0\n",
    "     0 1 0]\n",
    "\n",
    "Now the relation between matrix becomes : \n",
    "[First Matrix]  [Second matrix]       [Third Matrix]\n",
    "| F(n)   |  =  | a b c |  *           | F(n-1) |\n",
    "| F(n-1) |     | 1 0 0 |              | F(n-2) |\n",
    "| F(n-2) |     | 0 1 0 |              | F(n-3) |\n",
    "\n",
    "Lets assume the initial values for this case :- \n",
    "F(0) = 0\n",
    "F(1) = 1\n",
    "F(2) = 1\n",
    "\n",
    "So, we need to get F(n) in terms of these values.\n",
    "\n",
    "So, for n = 3 Equation (1) changes to \n",
    "| F(3) |  =  | a b c |  *           | F(2) |\n",
    "| F(2) |     | 1 0 0 |              | F(1) |\n",
    "| F(1) |     | 0 1 0 |              | F(0) |\n",
    "\n",
    "Now similarly for n = 4 \n",
    "| F(4) |  =  | a b c |  *           | F(3) |\n",
    "| F(3) |     | 1 0 0 |              | F(2) |\n",
    "| F(2) |     | 0 1 0 |              | F(1) |\n",
    "\n",
    "             - - - -  2 times - - -\n",
    "| F(4) |  =  | a b c |  * | a b c | *       | F(2) |\n",
    "| F(3) |     | 1 0 0 |    | 1 0 0 |         | F(1) |\n",
    "| F(2) |     | 0 1 0 |    | 0 1 0 |         | F(0) |\n",
    "\n",
    "\n",
    "So for n, the Equation (1) changes to \n",
    "\n",
    "                - - - - - - - - n -2 times - - - -  -       \n",
    "| F(n)   |  =  | a b c | * | a b c | * ... * | a b c | * | F(2) |\n",
    "| F(n-1) |     | 1 0 0 |   | 1 0 0 |         | 1 0 0 |   | F(1) |\n",
    "| F(n-2) |     | 0 1 0 |   | 0 1 0 |         | 0 1 0 |   | F(0) |\n",
    "\n",
    "\n",
    "| F(n)   |  =  [ | a b c | ] ^ (n-2)   *  | F(2) |\n",
    "| F(n-1) |     [ | 1 0 0 | ]              | F(1) |\n",
    "| F(n-2) |     [ | 0 1 0 | ]              | F(0) |\n",
    "\n",
    "So we can simply multiply our Second matrix n-2 times and \n",
    "then multiply it with the third matrix to get the result. \n",
    "\n",
    "Multiplication can be done in (log n) time using Divide and Conquer algorithm for power (See below link)\n",
    "*/"
   ]
  },
  {
   "cell_type": "markdown",
   "metadata": {},
   "source": [
    "**Related Link :**\n",
    "<br>\n",
    "***https://www.geeksforgeeks.org/write-a-c-program-to-calculate-powxn/***\n",
    "<br>\n",
    "***https://www.geeksforgeeks.org/write-an-iterative-olog-y-function-for-powx-y/***"
   ]
  },
  {
   "cell_type": "code",
   "execution_count": 23,
   "metadata": {},
   "outputs": [],
   "source": [
    "/*\n",
    "Let us consider the problem of finding n’th term of a series defined using below recurrence.\n",
    "\n",
    "n'th term,\n",
    "    F(n) = F(n-1) + F(n-2) + F(n-3), n >= 3\n",
    "Base Cases :\n",
    "    F(0) = 0, F(1) = 1, F(2) = 1\n",
    "We can find n’th term using following :\n",
    "\n",
    "Putting a = 1, b = 1 and c = 1 in above formula\n",
    "\n",
    "| F(n)   |  =  [ | 1 1 1 | ] ^ (n-2)   *  | F(2) |\n",
    "| F(n-1) |     [ | 1 0 0 | ]              | F(1) |\n",
    "| F(n-2) |     [ | 0 1 0 | ]              | F(0) |\n",
    "*/"
   ]
  },
  {
   "cell_type": "code",
   "execution_count": 24,
   "metadata": {},
   "outputs": [
    {
     "name": "stdout",
     "output_type": "stream",
     "text": [
      "F(5) is 7\n"
     ]
    }
   ],
   "source": [
    "// A utility function to multiply two  \n",
    "// matrices a[][] and b[][].  \n",
    "// Multiplication result is \n",
    "// stored back in b[][] \n",
    "static void multiply(int a[][], int b[][]) \n",
    "{ \n",
    "    // Creating an auxiliary matrix to  \n",
    "    // store elements of the  \n",
    "    // multiplication matrix \n",
    "    int mul[][] = new int[3][3]; \n",
    "    for (int i = 0; i < 3; i++) \n",
    "    { \n",
    "        for (int j = 0; j < 3; j++) \n",
    "        { \n",
    "            mul[i][j] = 0; \n",
    "            for (int k = 0; k < 3; k++) \n",
    "                mul[i][j] += a[i][k] \n",
    "                            * b[k][j]; \n",
    "        } \n",
    "    } \n",
    "\n",
    "    // storing the multiplication  \n",
    "    // result in a[][] \n",
    "    for (int i=0; i<3; i++) \n",
    "        for (int j=0; j<3; j++) \n",
    "\n",
    "            // Updating our matrix \n",
    "            a[i][j] = mul[i][j];  \n",
    "} \n",
    "\n",
    "// Function to compute F raise to \n",
    "// power n-2. \n",
    "static int power(int F[][], int n) \n",
    "{ \n",
    "    int M[][] = {{1, 1, 1}, {1, 0, 0}, \n",
    "                           {0, 1, 0}}; \n",
    "\n",
    "    // Multiply it with initial values \n",
    "    // i.e with F(0) = 0, F(1) = 1,  \n",
    "    // F(2) = 1 \n",
    "    if (n == 1) \n",
    "        return F[0][0] + F[0][1]; \n",
    "\n",
    "    power(F, n / 2); \n",
    "\n",
    "    multiply(F, F); \n",
    "\n",
    "    if (n%2 != 0) \n",
    "        multiply(F, M); \n",
    "\n",
    "    // Multiply it with initial values  \n",
    "    // i.e with F(0) = 0, F(1) = 1,  \n",
    "    // F(2) = 1 \n",
    "    return F[0][0] + F[0][1] ; \n",
    "} \n",
    "\n",
    "// Return n'th term of a series defined  \n",
    "// using below recurrence relation. \n",
    "// f(n) is defined as \n",
    "// f(n) = f(n-1) + f(n-2) + f(n-3), n>=3 \n",
    "// Base Cases : \n",
    "// f(0) = 0, f(1) = 1, f(2) = 1 \n",
    "static int findNthTerm(int n) \n",
    "{ \n",
    "    int F[][] = {{1, 1, 1}, {1, 0, 0}, \n",
    "                              {0, 1, 0}} ; \n",
    "\n",
    "    return power(F, n-2); \n",
    "} \n",
    "\n",
    "// Driver code \n",
    "public static void main (String[] args) { \n",
    "\n",
    "    int n = 5; \n",
    "\n",
    "    System.out.println(\"F(5) is \"\n",
    "                       + findNthTerm(n)); \n",
    "} \n",
    "main(args);"
   ]
  },
  {
   "cell_type": "markdown",
   "metadata": {},
   "source": [
    "## **477. Chinese Remainder Theorem | Set 1 (Introduction)**\n",
    "https://www.geeksforgeeks.org/chinese-remainder-theorem-set-1-introduction/"
   ]
  },
  {
   "cell_type": "code",
   "execution_count": 25,
   "metadata": {},
   "outputs": [],
   "source": [
    "/*\n",
    "We are given two arrays num[0..k-1] and rem[0..k-1].\n",
    "    In num[0..k-1], every pair is coprime (gcd for every pair is 1).\n",
    "    We need to find minimum positive number x such that:\n",
    "\n",
    "         x % num[0]    =  rem[0], \n",
    "         x % num[1]    =  rem[1], \n",
    "         .......................\n",
    "         x % num[k-1]  =  rem[k-1] \n",
    "\n",
    "Basically, \n",
    "    we are given k numbers which are pairwise coprime, \n",
    "    and given remainders of these numbers when an unknown number x is divided by them. \n",
    "\n",
    "We need to find the minimum possible value of x that produces given remainders.\n",
    "*/"
   ]
  },
  {
   "cell_type": "markdown",
   "metadata": {},
   "source": [
    "**Chinese Remainder Theorem | Set 2 (Inverse Modulo based Implementation) :** \n",
    "<br>\n",
    "***https://www.geeksforgeeks.org/chinese-remainder-theorem-set-2-implementation/***"
   ]
  },
  {
   "cell_type": "code",
   "execution_count": 26,
   "metadata": {},
   "outputs": [],
   "source": [
    "/*\n",
    "Examples :\n",
    "\n",
    "Input:  num[] = {5, 7}, rem[] = {1, 3}\n",
    "Output: 31\n",
    "Explanation: \n",
    "31 is the smallest number such that:\n",
    "  (1) When we divide it by 5, we get remainder 1. \n",
    "  (2) When we divide it by 7, we get remainder 3.\n",
    "\n",
    "Input:  num[] = {3, 4, 5}, rem[] = {2, 3, 1}\n",
    "Output: 11\n",
    "Explanation: \n",
    "11 is the smallest number such that:\n",
    "  (1) When we divide it by 3, we get remainder 2. \n",
    "  (2) When we divide it by 4, we get remainder 3.\n",
    "  (3) When we divide it by 5, we get remainder 1.\n",
    "*/"
   ]
  },
  {
   "cell_type": "code",
   "execution_count": 27,
   "metadata": {},
   "outputs": [],
   "source": [
    "/*\n",
    "Chinese Remainder Theorem states that there always exists an x that satisfies given congruences.\n",
    "\n",
    "Let \n",
    "    num[0], num[1], …num[k-1] be positive integers that are pairwise coprime. \n",
    "Then, \n",
    "    for any given sequence of integers rem[0], rem[1], … rem[k-1], \n",
    "        there exists an integer x solving the following system of simultaneous congruences.\n",
    "*/"
   ]
  },
  {
   "cell_type": "markdown",
   "metadata": {},
   "source": [
    "<img src = \"https://media.geeksforgeeks.org/wp-content/cdn-uploads/chineseremainder.png\"/>"
   ]
  },
  {
   "cell_type": "code",
   "execution_count": 28,
   "metadata": {},
   "outputs": [],
   "source": [
    "/*\n",
    "The first part is clear that there exists an x. \n",
    "The second part basically states that all solutions (including the minimum one) \n",
    "    produce the same remainder when divided by-product of n[0], num[1], .. num[k-1]. \n",
    "    \n",
    "In the above example, \n",
    "    the product is 3*4*5 = 60. \n",
    "        And 11 is one solution,\n",
    "        other solutions are 71, 131, .. etc. \n",
    "    All these solutions produce the same remainder when divided by 60, \n",
    "        i.e., they are of form 11 + m*60 where m >= 0.\n",
    "*/"
   ]
  },
  {
   "cell_type": "code",
   "execution_count": 29,
   "metadata": {},
   "outputs": [],
   "source": [
    "/*\n",
    "A Naive Approach to find x is to start with 1 and one by one increment it \n",
    "    and check if dividing it with given elements in num[] produces corresponding remainders in rem[]. \n",
    "Once we find such an x, \n",
    "    we return it.\n",
    "*/"
   ]
  },
  {
   "cell_type": "code",
   "execution_count": 30,
   "metadata": {},
   "outputs": [
    {
     "name": "stdout",
     "output_type": "stream",
     "text": [
      "x is 11\n"
     ]
    }
   ],
   "source": [
    "// k is size of num[] and rem[].  Returns the smallest \n",
    "// number x such that: \n",
    "//  x % num[0] = rem[0],  \n",
    "//  x % num[1] = rem[1],  \n",
    "//  .................. \n",
    "//  x % num[k-2] = rem[k-1] \n",
    "// Assumption: Numbers in num[] are pairwise coprime  \n",
    "// (gcd for every pair is 1) \n",
    "static int findMinX(int num[], int rem[], int k) \n",
    "{ \n",
    "    int x = 1; // Initialize result \n",
    "\n",
    "    // As per the Chinese remainder theorem, \n",
    "    // this loop will always break. \n",
    "    while (true) \n",
    "    { \n",
    "        // Check if remainder of x % num[j] is  \n",
    "        // rem[j] or not (for all j from 0 to k-1) \n",
    "        int j; \n",
    "        for (j=0; j<k; j++ ) \n",
    "            if (x%num[j] != rem[j]) \n",
    "               break; \n",
    "\n",
    "        // If all remainders matched, we found x \n",
    "        if (j == k) \n",
    "            return x; \n",
    "\n",
    "        // Else try next numner \n",
    "        x++; \n",
    "    } \n",
    "\n",
    "} \n",
    "\n",
    "// Driver method \n",
    "public static void main(String args[]) \n",
    "{ \n",
    "    int num[] = {3, 4, 5}; \n",
    "    int rem[] = {2, 3, 1}; \n",
    "    int k = num.length; \n",
    "    System.out.println(\"x is \" + findMinX(num, rem, k)); \n",
    "} \n",
    "main(args);"
   ]
  },
  {
   "cell_type": "markdown",
   "metadata": {},
   "source": [
    "## **478. Birthday Paradox**\n",
    "https://www.geeksforgeeks.org/birthday-paradox/"
   ]
  },
  {
   "cell_type": "code",
   "execution_count": 31,
   "metadata": {},
   "outputs": [],
   "source": [
    "/*\n",
    "How many people must be there in a room to make the probability 100% \n",
    "    that at-least two people in the room have same birthday?\n",
    "\n",
    "Answer: 367 (since there are 366 possible birthdays, including February 29).\n",
    "*/"
   ]
  },
  {
   "cell_type": "code",
   "execution_count": 32,
   "metadata": {},
   "outputs": [],
   "source": [
    "/*\n",
    "How many people must be there in a room to make the probability 50% \n",
    "    that at-least two people in the room have same birthday?\n",
    "\n",
    "Answer: 23\n",
    "\n",
    "The number is surprisingly very low. \n",
    "In fact, we need only 70 people to make the probability 99.9 %.\n",
    "*/"
   ]
  },
  {
   "cell_type": "code",
   "execution_count": 33,
   "metadata": {},
   "outputs": [],
   "source": [
    "/*\n",
    "What is the probability that two persons among n have same birthday?\n",
    "\n",
    "Let \n",
    "    the probability that two people in a room with n have same birthday be P(same). \n",
    "    P(Same) can be easily evaluated in terms of P(different) \n",
    "        where P(different) is the probability that all of them have different birthday.\n",
    "\n",
    "P(same) = 1 – P(different)\n",
    "\n",
    "P(different) can be written as 1 x (364/365) x (363/365) x (362/365) x …. x (1 – (n-1)/365)\n",
    "*/"
   ]
  },
  {
   "cell_type": "code",
   "execution_count": 34,
   "metadata": {},
   "outputs": [],
   "source": [
    "/*\n",
    "How did we get the above expression?\n",
    "\n",
    "Persons from first to last can get birthdays in following order for all birthdays to be distinct:\n",
    "\n",
    "    The first person can have any birthday among 365\n",
    "    The second person should have a birthday which is not same as first person\n",
    "    The third person should have a birthday which is not same as first two persons.\n",
    "    ……………\n",
    "    ……………\n",
    "    The n’th person should have a birthday which is not same as any of the earlier considered (n-1) persons.\n",
    "*/"
   ]
  },
  {
   "cell_type": "markdown",
   "metadata": {},
   "source": [
    "<img src = \"data:image/png;base64,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\"/>"
   ]
  },
  {
   "cell_type": "markdown",
   "metadata": {},
   "source": [
    "<img src = \"data:image/png;base64,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\"/>"
   ]
  },
  {
   "cell_type": "code",
   "execution_count": 35,
   "metadata": {},
   "outputs": [],
   "source": [
    "/*\n",
    "Implementation of approximate formula.\n",
    "\n",
    "The following is program to approximate number of people for a given probability.\n",
    "*/"
   ]
  },
  {
   "cell_type": "code",
   "execution_count": 36,
   "metadata": {},
   "outputs": [
    {
     "name": "stdout",
     "output_type": "stream",
     "text": [
      "30.0\n"
     ]
    }
   ],
   "source": [
    "// Returns approximate number of people  \n",
    "// for a given probability \n",
    "static double find(double p) { \n",
    "\n",
    "    return Math.ceil(Math.sqrt(2 *  \n",
    "        365 * Math.log(1 / (1 - p)))); \n",
    "} \n",
    "\n",
    "// Driver code \n",
    "public static void main(String[] args)  \n",
    "{ \n",
    "\n",
    "    System.out.println(find(0.70));  \n",
    "} \n",
    "main(args);"
   ]
  },
  {
   "cell_type": "code",
   "execution_count": 37,
   "metadata": {},
   "outputs": [],
   "source": [
    "/*\n",
    "Applications:\n",
    "1) Birthday Paradox \n",
    "    is generally discussed with hashing to show importance of collision handling even for a small set of keys.\n",
    "2) Birthday Attack\n",
    "*/"
   ]
  },
  {
   "cell_type": "markdown",
   "metadata": {},
   "source": [
    "## **479. Program for nth Catalan Number**\n",
    "https://www.geeksforgeeks.org/program-nth-catalan-number/"
   ]
  },
  {
   "cell_type": "code",
   "execution_count": 38,
   "metadata": {},
   "outputs": [],
   "source": [
    "/*\n",
    "Catalan numbers are a sequence of natural numbers that occurs in many interesting counting problems like following.\n",
    "\n",
    "1) Count the number of expressions containing n pairs of parentheses which are correctly matched. \n",
    "    For n = 3, \n",
    "        possible expressions are ((())), ()(()), ()()(), (())(), (()()).\n",
    "\n",
    "2) Count the number of possible Binary Search Trees with n keys\n",
    "\n",
    "3) Count the number of full binary trees \n",
    "    (A rooted binary tree is full if every vertex has either two children or no children) with n+1 leaves.\n",
    "    \n",
    "The first few Catalan numbers for n = 0, 1, 2, 3, … are 1, 1, 2, 5, 14, 42, 132, 429, 1430, 4862, …\n",
    "*/"
   ]
  },
  {
   "cell_type": "code",
   "execution_count": 39,
   "metadata": {},
   "outputs": [],
   "source": [
    "/*\n",
    "Dynamic Programming Solution\n",
    "Time Complexity: Time complexity of above implementation is O(n^2)\n",
    "\n",
    "We can observe that the above recursive implementation does a lot of repeated work \n",
    "    (we can the same by drawing recursion tree). \n",
    "    \n",
    "Since there are overlapping subproblems, we can use dynamic programming for this. \n",
    "Following is a Dynamic programming based implementation .\n",
    "*/"
   ]
  },
  {
   "cell_type": "code",
   "execution_count": 40,
   "metadata": {},
   "outputs": [
    {
     "name": "stdout",
     "output_type": "stream",
     "text": [
      "1 1 2 5 14 42 132 429 1430 4862 "
     ]
    }
   ],
   "source": [
    "// A dynamic programming based function to find nth  \n",
    "// Catalan number  \n",
    "static int catalanDP(int n) { \n",
    "    // Table to store results of subproblems  \n",
    "    int catalan[] = new int[n + 2]; \n",
    "\n",
    "    // Initialize first two values in table  \n",
    "    catalan[0] = 1; \n",
    "    catalan[1] = 1; \n",
    "\n",
    "    // Fill entries in catalan[] using recursive formula  \n",
    "    for (int i = 2; i <= n; i++) { \n",
    "        catalan[i] = 0; \n",
    "        for (int j = 0; j < i; j++) { \n",
    "            catalan[i] += catalan[j] * catalan[i - j - 1]; \n",
    "        } \n",
    "    } \n",
    "\n",
    "    // Return last entry  \n",
    "    return catalan[n]; \n",
    "} \n",
    "\n",
    "// Driver code  \n",
    "public static void main(String[] args) { \n",
    "    for (int i = 0; i < 10; i++) { \n",
    "        System.out.print(catalanDP(i) + \" \"); \n",
    "    } \n",
    "} \n",
    "main(args);"
   ]
  },
  {
   "cell_type": "code",
   "execution_count": 41,
   "metadata": {},
   "outputs": [],
   "source": [
    "/*\n",
    "Using Binomial Coefficient\n",
    "Time Complexity: Time complexity of above implementation is O(n).\n",
    "\n",
    "We can also use the below formula to find nth catalan number in O(n) time.\n",
    "\n",
    "We have discussed a O(n) approach to find binomial coefficient nCr.\n",
    "\n",
    "Time Complexity: Time complexity of above implementation is O(n).\n",
    "*/"
   ]
  },
  {
   "cell_type": "markdown",
   "metadata": {},
   "source": [
    "<img src = \"data:image/png;base64,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\"/>"
   ]
  },
  {
   "cell_type": "code",
   "execution_count": 42,
   "metadata": {},
   "outputs": [
    {
     "name": "stdout",
     "output_type": "stream",
     "text": [
      "1 1 2 5 14 42 132 429 1430 4862 "
     ]
    }
   ],
   "source": [
    "// Returns value of Binomial Coefficient C(n, k)  \n",
    "static long binomialCoeff(int n, int k) { \n",
    "    long res = 1; \n",
    "\n",
    "    // Since C(n, k) = C(n, n-k)  \n",
    "    if (k > n - k) { \n",
    "        k = n - k; \n",
    "    } \n",
    "\n",
    "    // Calculate value of [n*(n-1)*---*(n-k+1)] / [k*(k-1)*---*1]  \n",
    "    for (int i = 0; i < k; ++i) { \n",
    "        res *= (n - i); \n",
    "        res /= (i + 1); \n",
    "    } \n",
    "\n",
    "    return res; \n",
    "} \n",
    "\n",
    "// A Binomial coefficient based function to find nth catalan  \n",
    "// number in O(n) time  \n",
    "static long catalan(int n) { \n",
    "    // Calculate value of 2nCn  \n",
    "    long c = binomialCoeff(2 * n, n); \n",
    "\n",
    "    // return 2nCn/(n+1)  \n",
    "    return c / (n + 1); \n",
    "} \n",
    "\n",
    "// Driver program to test above function  \n",
    "public static void main(String[] args) { \n",
    "    for (int i = 0; i < 10; i++) { \n",
    "        System.out.print(catalan(i) + \" \"); \n",
    "    } \n",
    "\n",
    "} \n",
    "main(args);"
   ]
  },
  {
   "cell_type": "markdown",
   "metadata": {},
   "source": [
    "***https://youtu.be/2NZF2UKyh0g***\n",
    "<br>\n",
    "***https://youtu.be/MHbHYCJxKmA***"
   ]
  },
  {
   "cell_type": "code",
   "execution_count": 43,
   "metadata": {},
   "outputs": [],
   "source": [
    "/*\n",
    "For Other Methods View Question Link\n",
    "*/"
   ]
  },
  {
   "cell_type": "markdown",
   "metadata": {},
   "source": [
    "## **480. Pollard’s Rho Algorithm for Prime Factorization**\n",
    "https://www.geeksforgeeks.org/pollards-rho-algorithm-prime-factorization/"
   ]
  },
  {
   "cell_type": "code",
   "execution_count": 44,
   "metadata": {},
   "outputs": [],
   "source": [
    "/*\n",
    "Given a positive integer n, and that it is composite, find a divisor of it.\n",
    "*/"
   ]
  },
  {
   "cell_type": "code",
   "execution_count": 45,
   "metadata": {},
   "outputs": [],
   "source": [
    "/*\n",
    "Example:\n",
    "\n",
    "Input: n = 12;\n",
    "Output: 2 [OR 3 OR 4]\n",
    "\n",
    "Input: n = 187;\n",
    "Output: 11 [OR 17]\n",
    "*/"
   ]
  },
  {
   "cell_type": "code",
   "execution_count": 46,
   "metadata": {},
   "outputs": [],
   "source": [
    "/*\n",
    "Brute approach: Test all integers less than n until a divisor is found.\n",
    "Improvisation: Test all integers less than √n\n",
    "*/"
   ]
  },
  {
   "cell_type": "code",
   "execution_count": 47,
   "metadata": {},
   "outputs": [],
   "source": [
    "/*\n",
    "A large enough number will still mean a great deal of work. \n",
    "Pollard’s Rho is a prime factorization algorithm, \n",
    "    particularly fast for a large composite number with small prime factors. \n",
    "\n",
    "The Rho algorithm’s most remarkable success was the factorization of eighth Fermat number:\n",
    "    1238926361552897 * 93461639715357977769163558199606896584051237541638188580280321.\n",
    "\n",
    "The Rho algorithm was a good choice \n",
    "    because the first prime factor is much smaller than the other one.\n",
    "*/"
   ]
  },
  {
   "cell_type": "code",
   "execution_count": 48,
   "metadata": {},
   "outputs": [],
   "source": [
    "/*\n",
    "Concepts used in Pollard’s Rho Algorithm:\n",
    "\n",
    "1. Two numbers x and y are said to be congruent modulo n (x = y modulo n) if\n",
    "    i.  their absolute difference is an integer multiple of n, OR,\n",
    "    ii. each of them leaves the same remainder when divided by n.\n",
    "2. The Greatest Common Divisor \n",
    "        is the largest number which divides evenly into each of the original numbers.\n",
    "3. Birthday Paradox:\n",
    "        The probability of two persons having same birthday is unexpectedly high even for small set of people.\n",
    "4. Floyd’s cycle-finding algorithm: \n",
    "        If tortoise and hare start at same point \n",
    "        and move in a cycle such that speed of hare is twice the speed of tortoise, \n",
    "            then they must meet at some point.\n",
    "*/"
   ]
  },
  {
   "cell_type": "code",
   "execution_count": 49,
   "metadata": {},
   "outputs": [],
   "source": [
    "/*\n",
    "Algorithm:\n",
    "\n",
    "1. Start with random x and c. Take y equal to x and f(x) = x2 + c.\n",
    "2. While a divisor isn’t obtained\n",
    "    1. Update x to f(x) (modulo n) [Tortoise Move]\n",
    "    2. Update y to f(f(y)) (modulo n) [Hare Move]\n",
    "    3. Calculate GCD of |x-y| and n\n",
    "    4. If GCD is not unity\n",
    "        1. If GCD is n, \n",
    "                repeat from step 2 with another set of x, y and c\n",
    "        2. Else \n",
    "                GCD is our answer\n",
    "*/"
   ]
  },
  {
   "cell_type": "markdown",
   "metadata": {},
   "source": [
    "<img src = \"data:image/png;base64,iVBORw0KGgoAAAANSUhEUgAAAsIAAAJUCAYAAAAfLUCHAAAgAElEQVR4Xuy9eZgb13Wn/ZLdbII7uAqiRBKkJBKiRAnaIZuWIVmSYXlD7PG4JnE8iOMkyF52lq8ST5yKY8flxE4qqzGPkxiZOEnNOLbhHdEKSZYEWVtxkQhJpAhKXEBRJMG1wWYv31MFdDeWBhpNdpNN9sF/ZBdu3fveU1W/Ovd3D6YNDAwMIB8hIASEgBAQAkJACAgBIXAREjhy5EjTUU0TIXwRzrgMSQgIASEgBISAEBACQsAlIEJYAkEICAEhIASEgBAQAkJgShIQITwlp10GLQSEgBAQAkJACAgBISBCWGJACAgBISAEhIAQEAJCYEoSECE8JaddBi0EhIAQEAJCQAgIASEwOYRwLklQMQkbGcxQFjWskVEt7FhgksxQkYyhkiSGqYXxTpJeSTeEgBAQAkJACAgBISAEzpzAeRLCOZJBBTNskDEjeCdACOeSQRQzjJExiYxVuRbTdWK8SEaLohdUEskok0Wen/m0yzeFgBAQAkJACAgBISAERAiPFAMNQlgCRQgIASEgBISAEBACQuBiIzDJhbCPtBpGy6hYdszNxNZkej05LF0jkc5T9PoJRTR0LUTRzQYPT5VqZfAlnHYUVC2PZfjRsxq+jIGRSJPNF/H6I8QNHcWXKWeDB7/uZq1DZGv6USJnGRjJFHbBRzAaQ9MUAh4oplXCmo2iximmEqTzHkKKjqGF8JIjGVOwAglSWgjPxRZNMh4hIASEgBAQAkJACFxABC5gIWzgTYSIpyPohoKvYKHpafx6ikSwSDoZQ08FiZkq0ZCfnOYIYcAXJOiLomlF4oqJTzHQIpAxNZK2QiIbx5tNYqhJ7KhOUgkTDFAjyLFiKEaeYFQlGsyRNi2yfg0rqeBzhXAGbzCKqoTIpwySWXDEeCyQw4qpWAEdS4TwBXSZSFeFgBAQAkJACAiBi5HABSyEdTxGGDUbQU+oRPwVI7DH42Zaaz3CxYqQVUjYGqERZrKQihHR82XB6mv0CA9npkNkwwqmXyedjOIDqr8bzZeFsGrZuHv9ciZBJVneCDhms/LFGHIyJiEgBISAEBACQkAITA4CF7AQNomUshi6jpUtuDR9YQ3TKFsURhbCwxYLqLY3DE+GK2BHE8LVG/2cr1Zt9tPR64RwVUUMEcKTI+qlF0JACAgBISAEhIAQOH8/sdxu1YjWHuGwpwRuBrhIPpNEV5PkVYtMLDCqEC5lDUJxi6iRRo/4Kt7eSiZ3NCE8poywCGG50oSAEBACQkAICAEhMBkJTPKMsCNow+7Gt1BMI+rPYpkp7KJTFi1OUVUwiGFoEfz5NIaWpKRZWEqgYlewCSkakWgYTyJSs+mumNEIq2lCqkk8UCSd0LFsx8vrWBpsjGAMKxAhFo2iKAHsqs1y1R5hJZQnZSQbPMLD1ohqIVwQj/BkvAqkT0JACAgBISAEhMCUJDDphTCFQftDCX9ERfHqGFalPnBD1QgVXQu7vl2KWQxVc8Vt1PwXQqkP1ghhKJA1dHQrS8kfIRYqYVoZlKSNFoRcSkXVMxR8GlY6Qr5p1Qgv/kgcQ6+uGlHtEa4VwlI1YkpeZzJoISAEhIAQEAJCYBISOE9CeBKSkC4JASEgBISAEBACQkAITCkCIoSn1HTLYIWAEBACQkAICAEhIAQGCYgQllgQAkJACAgBISAEhIAQmJIERAhPyWmXQQsBISAEhIAQEAJCQAiIEJYYEAJCQAgIASEgBISAEJiSBEQIT8lpl0ELASEgBISAEBACQkAIiBCWGBACQkAICAEhIASEgBCYkgRECE/JaZdBCwEhIASEgBAQAkJACIgQlhgQAkJACAgBISAEhIAQmJIERAhPyWmXQQsBISAEhIAQEAJCQAiIEJYYEAJCQAgIASEgBISAEJiSBEQIT8lpnyqDzpEMJvBlTCLe8znmEoV8CZ9/pE4USathCnGbWGAc+5hLEkz4yJgRvKUC+ZKP4dPnSGkaZjpPzCqft5A10HWLbMAof2ccu3LRNJVLoWkm6XwMy44xftNVG6fFfAGP34fHBVcga+joVpaAkcF0AnnC+jGZZmqCrouzHuJkuaec9UCkASEgBCoEzpMQdm4mClQewm3PRjGNGi4QH9eHUNtnlwMHCRRyZG2bTDpNKWKiV6nMUi6FYSRI2QW8/ggxXSUW9IEjzBRzBIZhjAkTqpPkoZVPEYvliGc0Qg0EJuiBXyWEi6kYsVycjFY+e85S0AsaSTVYFlulLEbIIpA2ifrOUZhXC/VzdMqzO00OS9EpaEnUYFmijt+nOk6zGOEEgWSSqN+ZGoOQFSBtRilPzUT2o8mIzst9d4Kui7OetElyTznrcUgDQkAIDBIQISyxMCYCxbRKWMsMfSc8mKVyBVUGPaSSCkbRlSA5y8Sy/eipJFFfHjtXrDpXiVwyjmHHSGZUgmPqRbsHXwgPrQl64LcQmrlkkISvkl10UJ4PoXMBCuGJW11oHqfu9VaIYw8tF5yHmD4f8cEEXRft3jqaHnce+J91n6UBISAEWhGYnEI4n8YwTKxsAV9IQdc1AnatAFPrs8kNN+vaG2kpZ6FrCdL54lCboRGyX/m0gWFaZAte/BEVw4gSGOGmXP2AcoVFUcOXS1b6rGKYMZzEUau/uRNTPdZglLimEQ2UM04t+zwCo/rxlEWrjaLGKaacsXsIKTqGFjrzpe9injx+/IVyhrdGCFeyvmEjjRlxssAmQSVZe8xgNLrzpVHS0yRGSEM2HbsroLyY4SymmSbvCaHoOlpl8CU7iaqZZEt+IvEoHsMmNFLGuZDF0A3S2Tz4I6iGPsS96Zy4fc4RSZRIOTYC5xyqgRGtLJKXcli6RiKdp+ir6ld9bOZT6KpJyp0PBX/OxKdVrBFVbZT7ZeA277ZhE9ILJHVQG8ZUwk6qaGaWkj9CPOrBsEOuzYEhMeVzbRjD7zEqlgVKVaZ+cD6HrwOfGzO6FsJXuQ7skE6h3Al3qb7VsblIglJKx8qWhq4nkkGGT9lkRSCXQq+sLDj3AE3XCLvXa560YWBaWQreNvmXL6ahuanh6l6CI13zVbfNSqwOvf6pVlmY1rQZIqLqaG4ny/eeek7VN+LmcTostPypOk7fjZD+oEZDP5rcC4buPXYCK5wo97nVsV6TcNZ0LTOeMd136+KyOHz/dlaFamO4xfXT6rqgRM7S0RJp9/4TiqjoWtjNkrvj9BiE7IR77bl91xSKVjlOnOthqA9Vk+CsjBgek+Tg/SdnoZgezEQUXxWnmjFQJYSpX6GsF++1fa6+V7T7PBL5IgSEwMQTmHxC2FmmjSTwJRLEAh6KGYOoFcBybk6tMhOthLC/dum3kNZQUqFym9WMnRuhXkBLqgQ95YxlvKiSUf0NPs56IazYOikjir/yPSUfI6uHyTsP/SZ/8wyO1UwQC3ooOQ+CWIZwyiTiadHnVoxqnt/llwdvMIqqhMinDJJZUK1MrR+1/kFfaaNG5NbH4pDorcosFlLEIzrFmIWlBsin4kT1IpplodQZKp2HkGIEMLM64fqVZqcdJUvUMnD0dCGlEslEyt5V97wZYgkTNeSlZJvEVC96JkbAHUeacMog6vfgiI14zEZpEI05kjGDYrzcBoU0mpIlktYJU4m/kebEffAZePQketSPp5BCjWSIuO2XyBohrEAa03mwum2mCFkJop7qB2aOpLPEribQhs6tEUg4QjiHFYtjKxZGxOe+CKnxAnEnY+6OzTl3Ai3ix+uphebGYzo8FIN2Mk7MVuqEcHkSRssIO8vxkYSPRCJGwFMkY0SxAhaJqMe9DgyPTkKL4Pd6oI1jk7pzXRRIqREykUGfa5WHuT62ihk0JU0ooQ/Po+FBsxRKZhjTmyARC+Ap2ZgxFa/uxHML/r4WXJte8/VrFPWZwNo2KWYxVROvZhELlAVRNaea2WoZp3V+4dEywi3uBUXn3pOJkTDiBH0ehu43I9xbh441VULeErYZQ/XqZBzxPOp9tzouc5hhE2/lHI3XZ7Prp9V14dh5YsRtBcuIuC9kWVPF9GpYsYAbz9X3WKfvsaQPvWL1KcdzACs5wv3e8GBW/t+5J5kek0S00HwMYxDCNX12XprUOIV4BjXQ5vNo4p//cgYhIASASSeEixmNcFbB1gYfRK3ewOuzNtX+4eq3c9u9saHrxMN+1xdZKkGdlnAUlyvAIgmVaKAskcvHNS7TNWSEq5easTGCacJZDa9Vtwxd9bdAtn6sZf9mOUtRvhmP1OeWjKp2OQ3aGIay580ytKUcqZRNqe6S8ASjw1nSdoSws7UnrRHXnKxN+RPSLBL1KrhiocjEkmTUkU0RNfNTSKNGKnPbsKQ+HB8hu0XsVO/+yiUJJ3xYpvNQLX+KOZuiP4i31ZyE7TqPem1c2I5IQ0ePh/FXB1m1kHDObXirHspVbdDib75yNjpuqyNs0iqS0cJkFZvhy2ZYaA5nhNsRwq3aCpFVw+TiNqrb1OjHVm8CrFnmb2GNcOPbjmGXT+JcheTtPN5gAG/dhZszgyQCZXHdlH8r5t5m13xDwNduvGxo03EG6YSyUWyt/OI8zKm2rdbX79iEcKu2nIxywldZnXFmq8W9tXxs1Utt9fyMKoRr47J2inKYwQQB52WxVQa1VewHciTDBl7LsVgNhoRjw8oStTU89VYf5z6XCAxv+mza/wKpmAaG067jvTbxmAn3HE3H4G03I9zY5+H4L7X3PBKJIgSEwDkhMPmEcJ0HtUzBW85iumKgyWa5UawRFG1SiSSpTIaCX0HVNCL+RsalfAYr6RyXh1AcQ1fcrFj9zv7WQrh2ebPmAVOVUQhl6/1/TvKl6v+a9Lnep1vDqCrz2iiER7AznGmYjZQRdjJ5UZVsQEGNBimmTUzbh5ZI1mSEnUyJYnjQ0+WHzkgfd7k6kSabH/QVq+Wd+q2EcAPPkf18rmBJlW0D9dURGj2ZVXMSzbcUwo4wtFMJkqkMmYIfRdXc7G1NRq2h/7VCeKQNhREzgxHMttgoOoKfsuo8YxXCtfaJyux4VaxMlHxNhYvyeass45VQHOnYuthu5WG2Iigls8oXWxUhTmbNMEimbAqV/x5euWjCv8lGTZdr2MvI1/zoQnioKsfgoUNjKr8wNKsE0tr3O0Yh3OJ+GcrWittW9436Y93NrYNVR0YVwrX3ZGclwzCS7obZ8qdifxlFCNfyrI7pka7jFvfY+thq0f9CKu68upIIZYk52eHKPaHpGMYihIMKDduDIyYZI4y3zefRmd6e5XtCQAi0T2DyCeGGbFDVYMZ0Q67zCFdlgGuW62pYlSjhqZQtqizJZ6NkjGDDg20iM8LOjdlSAjVZieo++1oxqsFVtkYMZ4SbCOFxskY0CO/Bdgc9lW7fbIxwDCtsutaREfff26absU2YzktI3WauCcoID8JuzJpVqiw4cxIZRQhXp5Gql+2rX+BGywjXZaqHprPlhqXxzwjbscGsb/UFUi+4y+dt79j2hXBjRnhwaaZIKq6QU1Jo4fIrTI3Noxl/J9vYjCvNrvlw3UtSnRhrmhGOkNUCZFoJ4VarXtVCy1vHrDzimsz0iKwqU1ZvgRnLsWcshN1VtRxKSqM8RW1mUM8wIxwZadVtDELYXQXUIRZJkfYm0B2fVqsxjEUIhxP4LNO1d9V/akO1yt7V/rNbjhQCQmCcCEw6IYzrD7QImiaKo4KcZXsrTygWqXiEbRR7pDJUzlKUTjFhucu2ThkvTdEJOpvq3OXP4ZtzUyFcJ8Bcb6orhMMUkmH0YsL1vrp90hT0YHnTjPPAied0yl7Iire4ECethVyPcLO/1XuEa3yltOhzK0ZnIoTHyxrh8IslIVTOCJeyFkbK2UgzvCHOycBE9ByxZIYmroi6klElcimduB4gMUpGuLz02r5HGLXszXa5xzJELIOw4812POoVj3Bzr68DuloYFmpFWjMh7AiDFh5hx7tciBmVTVcFMskMPkUhUGpdOnA8PcKOYFKsIGblRcS5lqx8iFik7BGusTuM5djq1Q5HrBheUskoDQszFY9wOFn2iJdySeIGaMkQdnUJM9eXGyevOEv6peb8naX1ZlxztS9d1dd87WrBKB7hkk0yrlJUnbgepeLBeHqEW9wLHN9vbXWQ5vfWhmMbMsJN7rv1L2g1nmsoZk3UeL7s02+5uWwsHmFnY2gc1d2/EWz0vI9FCLvXcBTDDqM7ewScF+9WY6h5UWnxzAk4L2kxjEIMo7Kpr5BJkvEpKN508+dRKU+u6CPgG+8SfeOkGKQZIXAREjivQrhh2Wgwc1i3Yzdu6GVR7HgS9Rh6qkisfsOXkzQarBhQcHa6xwgUDLyVHyoo2ElMPTlUNSKuOtUZGmc0lzIwE4NVI2LoagynDC7Og07VMCuVLGKBAoa3XNaooTJEWMM0ytnMVn9zz96iakTLPjdlNDymc26NGNyBP2hp8AWJxjQ0JVDJ/FaywQGddP1GxZqpGP4RgYIvhBoPY+t5YrZGsEVG2Cln7CxpaqpBxokBNU7YzuDVR/hBjaqqEY4XOq45VSMqnWg2J6PZbwo2SVMnOVg1Iq6iOY02VI1IuxUrLBv8UZWYR6cYbawa4VaeGMleMeKNyNmhrqEaGYaYZbzoNVUj2vEIlxuvraTQ3CI0lmNrLQE5rLiKkQ1iZoxK9rBqYENVI0r4QxG3aoRbGGToxyQG2ZmkAlZ5538z/k6z9RU9Brm6TTa55ms4j7A8P0rViFY/ktI8Tsdmjai/hzgVDgbvlw2bIuvuNy2PrbnOWtx3R1ipyKU0NKeiC36iagyPmSLg+HtrNo3Wv0hW7oXNrovRqkY08ze7p2n9Eln2djuZ/NDQClXTMfhq56fVM8fxtg9Vuig6zyQVzdlk6uylaPI8cl5Co5kIKb1+ReIiVB8yJCEwSQicJyE8SUY/Tt0Y8YFTabvV38bp9NKMEBACQkAICAEhIASEwBkQECF8BtDqvyJCeBwgShNCQAgIASEgBISAEDjHBEQIjwNwEcLjAFGaEAJCQAgIASEgBITAOSYgQvgcA5fTCQEhIASEgBAQAkJACEwOAiKEJ8c8SC+EgBAQAkJACAgBISAEzjEBEcLnGLicTggIASEgBISAEBACQmByEBAhPDnmQXohBISAEBACQkAICAEhcI4JiBA+x8DldEJACAgBISAEhIAQEAKTg4AI4ckxD9ILISAEhIAQEAJCQAgIgXNMQITwOQYupxMCQkAICAEhIASEgBCYHARECE+OeZBeCAEhIASEgBAQAkJACJxjAiKEzzFwOZ0QEAJCQAgIASEgBITA5CAgQnhyzIP0QggIASEgBISAEBACQuAcExAhfI6By+mEgBAQAkJACAgBISAEJgcBEcKTYx6kF0JACAgBISAEhIAQEALnmIAI4XMMXE4nBISAEBACQkAICAEhMDkIiBCeHPMgvRACQkAICAEhIASEgBA4xwRECJ9j4HI6ISAEhIAQEAJCQAgIgclBQITw5JiHcetFLhkk4ctgRrzj1ia5FJpmks7HsOwYgfFruWlLxbRKuBDHjp2Ls7U/oAnh2/7pz+rIM+57Lkkw4SNjRhjHqGoxlhzJYAJfxmQ8w9g5YTFfwOP34Wk4e5G0GqYQtxn/kMuR0g0SKZsCPoLhOJoZHft15MyDYhI2xvn6PquocqCmUcMaGdWadNfr2Q5Nvi8EhMDFT+ACFcJF8naWbDqF5VNJjfHJlbMUlFycrB4e4YE4+qQ7gkIx648LY0zAg3v03tQeccZip+mJcliKTkFLogYb5cNY+9fu8SKE2yXV/nFtx4YrbArEB196zlgIn6m4nCghnMUIJwgkk0T9QM24zrSvo/EvkTUixC0IRqNEApDPB4hpEXyjfbX+7xeIEC7fHyfH/XCsiOV4ISAEph6BC1AI50hGTQpKlGDBQvNqY8xC2JhhE9vvIWokiI75aeQ8P4MoTM7sR9tip+1YnyhR0roDIoTbnqC2D2w7Ni5aIVyH6pwIYef6UTDDBmnzDMRvdZdFCLcd63KgEBACQqBdAhegEB4e2pmIpVJGJ5SNYgVM9JKGpVSW3t2Hf45IokRKt8iW/ERUAyPauDTfXAgXSKsKmWgKI+wsItsYYRN/Iol7mnwawzCxsgW8/giqYeA27z6QPRghm0QiTd4TQtE1lKKFYdb1xe2nTUgvYplp8viJqia6m+Iqi/Rha0SJnKWjOW3SfDxQe1wooqJrYXyDS56DyBuWPstZNDukU0jqoDpLtkXShoFpZSl4q89ZPjYXSVBK6VjZEv6IimEMLhHnSekqZiqPJ6Sg+HOYvuGXnHzaKLMo+AhG42halICToB4LuxpRYaEYHsxktJKZczLfJh7TeTnKNxlDLd8GYVmXOa3uc0jR0bVQ+VylHJaukUjnKfqcudbRQo1vZKWcha4lSOeL+EIKuq7hHtaQoa17Wcml0I0EKbvgfk/TNcK+St+9JuGsiZkucx5qs8LGvaa0zBAp1bKJ4cSnFzOcxXRizo3P4T6P2E9PZbm8aew4f2jGuf7lyzlOx7BscK4bxYueDQ5ZNVrHRhHNZ5OwwiTsENmK5cKfql7VcbKXOujN4rMS52ED0s71W4ldNYBtludxJJZQEcFDNIfPo2VULDtKXg2j2QpqvEhq6No30EJlE0oupaG5zMPoMR+6YQ1ZI4bHDb5glLiml+8nVZ/B+VRUjbxl4NezaKEi2aSJkSzfF0IRbTg2q+5R+IJE4xp6NMBgO248DN6zBm0aoeyQNcJCqVktc4/3pIjFcsTTGqFzt6jU7jNQjhMCQmCKE5hiQrhERo9gRzOovhRxpYiaqXheXdFn4NGTrqj0FFKokQyREewOLTPChTSqYhPLaHiSCgY6SffJUc5EexMJYgEPJdskpnrRnfO7mR4bPWUQ9Vf+Fkvi09OYTsq6lMWIJAhYSaKuwEjiSyTKD8tCGk1xhIrliu1qcZazYsRtBcuI4HPElxqnEM+gBmujvuY4imRNFdOrYZWfeC38mmWBYHh0EloEv9dDzgxjehMkYgE8JRszpuLVM8QCw8cm9Sh+T4GUGiETKfsdc0kFvaCS0EJ4KZDWFLRAws32l7IGkYQPMxEj6CmRT+nEMmFSjmd1LOxqtKYjfA08ZrK8KpCzUEwPZiJKoekY2hfCnkqfE4kYAU+RjOG8fFkkol6yRggrUJlbd/5ShKy61QlnzkMWgbTp9q+Q1lBSIaxEFF8rIUwGTUkTSuiVWEoSNzxolgLOSkYmRsJUCXlL2GYM1auTqbcWjZQRVjLEEiZqyFsbuwXnOsoStQwiTj9TKpFMpCJSW9sN7Kaca2POsTLF83FSWng4Nkqae45Bzs1jw+m3QTzow+Opf2Go9j63ik/cOE/6EkPx6cSuXoiRTKo4jqF8Kk40F8fWqi+uEnk7TTKmkwrGMNUIwaCPrCN+q4VwxkswqqKE8qSMJFlULOe+YJuEY0kIxdCifrKWTsqmLIT9aRQnfmMGahgypkYyr5CoE5vDLzY+99xRLUkg64jVAqGYSsRnkzJSoFkkFbAUBcMTwyg3ipbMoyTSxIua+4I0mhDOhkukkzH0VJCYqRINBfE712yuiD9wBstvU/wBLcMXAkJg4glMLSHsPrTzxDMqQQqk4gr5QWFY//Cn+UN8RI9wVba0kIqjpsFTCqElhzeXlUrgGcqI5DCDCQKO0C7Ub0aq+pubGKrqi6/Ov4kjPmKolez2sBAukAwbeB3xXHn+jJxBzzUcRymDHsoStTWCbQjhXNxGHcxE1Q6SnBkkEXDEbllMVG9GGu4PLfrqI6OFySo2wxqjSsQWx8CuLlvmcNMwSEZ9OGLL9Jgk3BePmomqGoMj2Icz7s0zwiHs+j5Xide8IwDR0eNh/E481J2vfNmXX5zQdeJhv+tlHzqshRAO2RphO4Y9PCHk7TzeYIBC/UbKZt7fUa0RtYKypvvOi2Bk0F88iu+2KedC1cuXE586nsqLnns1OFnrtCO2R+BMY2wMWxJGF8Ijx6evIXYLaZVI9WbOpj7qYWtEebNhmUmtEHayw+X7hHO9KMmyv9afCqOYfvT04MuaSVBJVoRwirBi4o+Z6LEQvsp9xTN8g3GjaCgjnLDRQk4QOS9YcayoWdkj4axiRdAKGpYVJBtWMP0xTD1GaLhRSpWVgtGEsPPiKh7hiX9wyxmEgBAYPwJTSgi7maWCs7u5nLVxHxLZaPmBMFYh3NIjbGMGYxTNLHp4eC3QWUI2jKS7ZF3+VDaUjCCEa3fNtxbC1QK3Rgg73sT6WImYZAwnszb4GSnjW/1/o2eEa3baO5lnwyDp7pCvjNLd5T6KEK6rEjA8pkYRUvNi4C7bV1c0qO9vCzHmvBg5K+KJENmYkx2uVCloOob2hXA561cH31vJ9FHETiVIpjJkCn6cZWstUra21HyKNqlEklQmQ8GvoGoa7mEthLA/HUEpmSP65kezcgyde4xC2F2iT6TJ5ouVJgaF3WhCuFms1AnhkWKjIoQdzrWVHqrOOVpsjOIRbhWDDS+V4yWEqzaale0bVZvO6jzCQ7YJB7s3iKLpDXHUYGmotzsNTXplzoYqxLiNElQc20QErwjh8XvqSktCQAhMKgJTSAg7mSUFc/BZPTQNIfR0omI5qNopP1pGuIUQdqwGRs6PJ+dFtdRymSQ3G51DSWm49uHqTOtZCuHmGeEEPst0l6ybf5pnhCNZx9M3FiFczrLnlBRaeZBVGdTxzgg7CtZxJJ6FEHZXBXSIRUilvSTcKiKtxtC+EHYywnasKlNePQHVmdAa+0jtLNUeVmelaSL+GzPCw6nkCRHCeZNwwkfCVMqe7RoR3UoIt+JcK4RrLCxtZYTbjI1JL4RbZIQjnsoKgYdSIUfajKOnQ5gZo3J/KcdSgxAeyggbpF2ryeDH465WlSpB5ykVyKVN4nqakJlBK+ltWSMkIzypnu/SGSEgBNogcPEJ4UKOnCdAoL7gqeO3M3wkLKWqfme5tFHS8W6G7dqSUf94PZUAACAASURBVGcqhHMWMb2AZqngCOKSVvYIOx5U5/8rnsJi1kSN51GaWCNaZ4Qt/BW/ZtkjbBGsbMirXbqPYRRiGM7GN0eLZ5JkfAqKq1iGP7Ue4RJ2Mo5aVCuZ87EI4bpSa8Usphonr4yWEXaWU9v1CI/BL1tvKxmhJLEjFKKGTVhPV7L3rcZQK4QHl+jLS+9FskaceCHmelfJaChWELMiEEu5FFY+5Gju2peFZkK47sWpxlPuis00kXT5JaeYNYjHC8ScWKp4hMPJsme3lHM8wrgWHccjXFNjuqU1wkaxNZzV9FYZ6HDOIGQFSJvOpsMSuZROXA+QcJf6K5vMHFuL21BN1NWW5auJlWoh7Fw6MeL5WBse4THGhjN+w0sqGcU/wvV+vjPCEeclo4lH2PAmiMTThHTD3XOQS6ro6QgJ9+V1mHODEHZMN0aYmAUhxfElg51JUwzp6OE8RiROOqRjOB7/XBJVTxNJZNG8lmvFGPYrm6TsYtmmUbVZzhHCzot5RLcJKRqRaNTdwCce4TaexnKIEBAC54XARSeEc8kwqidBerAahIvV2SQXIhUaoRC9K1Cd5XEvieraqaMJ4QbPAahWGq+pkIul0dynUY6kYoCedHdaDy1lupUeYnjMVHkD3Ag+19ZCuLpqRO2SaNOqEUWf++DTnE1tDaHWpGqEe9xYhLC7zb3y4xvgj6rEPCapgEUy6mnhEXZLalRVBoiixjzoxejQEn/rygBnaI1wQ6Pshy5nvytgmo7BV1eVo0Baj2Ok8qNUM/Dij8Qx9ErWtGCTNHWSg1Uj4iraCNVJCnYSU08OVY2Iq9pQVYBCWidupCrVQBS8epbg4MbOoaoRJfyhiFs1wqk20XZGmCIZ3dnwVCRmZSpVI5oxLpA1dHSnSogvhBoPY+t5Yq6/HIoZnZieohizGjflNeVcrNugWSDjVo3IUvJHiIQKWAWlzaoRrWIjhxVXMbJBzIxGSW/mYW+055wLa4TzYyLOxlDVTJUrdYS9pK00wcoPajRWjXDio/YldyQhXK4SY2AkU9gFrxsj8UHbzQhVI5zYdFZKBufZmQO3csdgBYs6IUwxi6FqOEU+omYK3Z+RqhHn5fEuJxUCQqAdAhe0EG5ngBfdMQ1e5otuhDIgIdCSgCvunAoNQxsCBZgQEAJCQAgIgTMjIEL4zLidv2+JED5/7OXM54WAU5osgVPP1o+nlCMZd8oADq66nJcuyUmFgBAQAkLgIiEgQvhCm0gRwhfajEl/z5pA1Q9vVP3Iw1k3Kw0IASEgBITAlCcgQnjKh4AAEAJCQAgIASEgBITA1CQgQnhqzruMWggIASEgBISAEBACU56ACOEpHwICQAgIASEgBISAEBACU5OACOGpOe8yaiEgBISAEBACQkAITHkCIoSnfAgIACEgBISAEBACQkAITE0CIoSn5rzLqIXAGRLIkdI0zHQeggqGUf6xDvkIASEgBISAELgQCYgQvhBnTfosBM4TAefnjlP+hPvLie7PPmfCWKrzG3LyEQJCQAgIASFw4REQIXzhzdm49LjhJ2LHpVVpZNwIDP38cAzLjuH8CDXuz9ymQYsRGvFERdJGCr8ao+6XdsetW87P80LlZ3zzKTQ7iBFt/NHucTyhNCUEhIAQEAJCYMIIiBCeMLRja7iUs9C1BOl8EV8wSlzTiZbVz4R8zqkQLhXIZbOkMilKIRM94m05Jrdv6QgZM0L1kee0zxNCvd1Gc1iKTkFLogYrohPIJWMkfQZGpIUXoZBG04rEkkpFPLd7zjEeV7IxNZuIOSjSx/j9wcPHGBtneBb5mhAQAkJACAiBEQmIEJ4MgZGziOl54gmNkBdKdpK4WiCe1ggN66Bx7ek5E5XFNLqaxRMNE7BVMqEMpgjhUeYyRzKYwJcxGULlxEjCi1n3cjBSQ4VUHB2dRHSCzLvOzxxrWUKjiOBi1kDNhDG1UM0LzVCfzyA2xvUikMaEgBAQAkJgyhOYIkK4SFoNYytZ19vofAqpGEpRIxOrTrs6AkTBrAsL1bKpPcxEMbzoyXI2zBEeSk4hpYVrH/juzyFrZGraC2NUCxzAFQyFKMmhFPAIQmiojaqfm/X6iagGhvu98hhzkQSllI6VLeGPqBhGtJIZzJPSVcxUHk9IQfHnMH0ads3AyifJpXSMRAq74COkaOhamHpJ5QpprXZkhI2GLG710HPJIAnfOArhfBrDMLGyBXwhBV0vb9xyz+M1CWdNd1OXM97Bv7UeX4mcpaMl0uSpZtviPlHdBzeTrxF1fAkNP4Vdnp9C3Cbmc+LCJqQXSOqgVsdDfcyoljtHuWSYVCBdid8cpmLg1ZPluCykiCs5lJRG2EmhO/9WS6hWY1bYYaM0BnhdHBRIqwqZaArDbdDGCJv4E0mUQI6kOroIdog1y+yPRLPd2Jjyd2wBIASEgBAQAuNKYIoIYShldELZCFkthIcCqbhCUc3UCtwxoM2ZCqbfJBG2UaMZoimjLELG4+MIGa2EOsLytm2GMb0JErEAHmd5Oqbi1Z1xlIWW4dFJ6lH8ngIpNUImUhaeuaSCXlBJuNm5AmlNQQskGoRwMaOhpEMk3DZK2Mk4hkfDUs7ep9Gu2GnLGlHKYkQS+BIJYgEPxYxB1ApgJaIUHbGXiZEwVULeErYZQ/Xq7ktPq/E5G8HitoJlRPCVclhqnEI8Q9O9YIN9MBPEgh5K+RR6LEM4ZRLBEbsF4kP+3nohbODRE2gRP15Pfdq//kXIsUok8JomQ66InIli+jETYWw1WiVaXamPpRh4zCRnnBQupFEVm1hGw5NUMNBJOvwaXoAaX+wGLwERwuNxM5A2hIAQEAJCYCIJTBkhTCmDHsoStTWCTtYtWiCeORt/o5MlS5AP5PEqViVzNh5TlSMZM0CrZPvqmyyVoEo45cwgiYAjdhnOOFY067D9AZJhA681LIxGtkYUyWhh7JiNOqh7S3nsvJdg4OxV/piEcH22eZBDJUPqCNpwVsHWBisWDItHf6ou85xLEkz4yJgh7KbjK7TJaHhCGvsAOUvB8JgknReklkI4R9xWm/h464RwMYMWtonVHW8bYRL5AHmvI96rVyOqRPdZvL84Kx1qGjylEFpl9WP0CB95VcX5XsPKSlVj7cbG6OeXI4SAEBACQkAItE9g6ghhSmT0ENmojVoyiOSidbaIciatLWtEha8jFCLJMFaqycakNq0Rw9OVw4pr5JQEeriJv9PJVBoGyZRNofLFsNGGEK7znI4shHNYEYWSWWcFGSGezrc1YsTz40W1MoSyzYSwn3TT8TURcBGTTI3IrBLCTna0EK/Jqg9xjeZHEcLV2eJ6wPVCuD67PBSAxCNJwlaK+oT98AtS7QtMe9aIwf7YmMEYRTOLHh6DWb1UcmtLFNIa0UyYlJNhd2pNNGS+qyK/TdtM+7c2OVIICAEhIASEwOgEppAQhlLWIJQJYmBQiJ65LcLF6iyLR1OUglmKYQuz1U7+0efBLY2V1mJkwskWVQHKlo6ckkKr+DCGM2kTlBF2hlqbhG5rNCMd1G7Wrx1rhJuNtWPYQ6nrFqKqVUZ4aHw5kuEEPqvKfjDKSJtlhJ2NalZkPIXwSBnhElkjSqoUJFsMY5llsVn+jE9G2LGKGDk/npzzgtEse90cklgjzvhSkS8KASEgBITAOSIwpYRwedOPSpoYibOyRTgiJIIVtDDDeVcQB5PGsH9zzJPXjgh2Gq0rq1XMYqpx8spoGWFns9VYPMJhkm4Wr0TO8Qijuf7Qs/00COEmtot2hDCOXUCxCJomirM5rZQjZeUJxSKuR7hmU96QEI6A64EeeXxOeTKjEMOobA4sZJJkfApKoETOLuIP+gcr6JZR1HmEcUqXKSlCVoKozxHWOsWE5dpMSk5dYEUn6Gy8dDfLjSEj7M57rUfYeamLWEEsM0zeEcTB6heocfAIu5VMCmiWCo4gLo09Bs5WCBdyOTyBwMgVJ842GOX7QkAICAEhIASAKSaEwTaCqD5rBFvEGOLBNgibfhKVzWzOAz+aiZQ3WY2hmaFDHaHWsJXfNVU2VnUY+qEF8EdVYh6TVMAiGfW08Ag7ItapNqFjWLbzRdSYB70YbV01ouQnFHGqRoTObFx1LBqEcJVAbagX3E4d4aqKDV5/hLihu6J4tPMMVcVoGF9V1YiiUzFDRdMi+BsqQFQNrFnVCEcn20lUzSTrVt+IESgYeIeqRoxFCDuVMKqrRlRXcXDLM7gbNiNW5WXM+Xe8SHyEqhHthWdl5SE2XKUiqRgwWKWivUbGdFTjaoHzIqHiSaQbbB9jalgOFgJCQAgIASHQgsAUFMJh7LO1RUhIjQsB5wUiXoyPS0WKcelQs0ZyScKpAGm34sh5+jiVRAwPxmSoI3yeEMhphYAQEAJCQAiMN4GpJYQLKVS1dBaZsvHGP5XbK5ExDIjr41d2boJw5iyNbNA441J749Utx7qR8ptD/vAR23XsGUYJ1YyOSxZ/vPou7QgBISAEhIAQmIwEpowQdpaWFSuIbpoT+tPFk3GSpU8XC4ECWSMNWozQiEMqkjZS+NUYjm1aPkJACAgBISAEhEBrAlNGCEsgCAEhIASEgBAQAkJACAiBagIihCUehIAQEAJCQAgIASEgBKYkARHCU3LaZdBCQAgIASEgBISAEBACIoQlBoSAEBACQkAICAEhIASmJAERwlNy2mXQQkAICAEhIASEgBAQAiKEJQaEgBAQAkJACAgBISAEpiQBEcJTctpl0EJACAgBISAEhIAQEAIihCUGhIAQEAJCQAgIASEgBKYkARHCU3LaZdBCQAgIASEgBISAEBACIoQlBoSAEBACQkAICAEhIASmJAERwlNy2mXQrQgMDAwIICEgBISAEJggAtOmTZuglqVZITB2AiKEx85MvnGREhgUwP39/YgYvkgnWYYlBITAeSXgiODp06e7fRBBfF6nQk5eISBCWEJBCFQIOOLXEcEdHR3CRAgIASEgBCaIQF9fnyuGRQhPEGBpdkwERAiPCZccfLESGBTBzg26q6vrYh2mjEsICAEhcN4J9PT0uAkHEcPnfSqkA4AIYQkDIQCuFcIRwb29vXg8HmEiBISAEBACE0SgVCrR2dnpimHJCk8QZGm2bQIihNtGJQdezAQGhfDp06eZNWvWxTxUGZsQEAJC4LwS6O7uZsaMGSKEz+ssyMkHCYgQllgQAlUZ4Xoh7PxbPkJACAgBITB2As7901lhG9wcN9iCCOGxs5RvTBwBEcITx1ZavoAIDGaEHe/a7Nmzh3r+yCOPcP/9919AI5l8XXWWP1euXMnOnTsnX+emSI/WrVvHyy+/PKGjXbp0Kc710+qhMqEdkMYnFYFFixa51/xnP/tZfD5fTd9Onjzp7sUQa8SkmrIp2xkRwlN26mXg1QRaCeG7I/cQ+MTtAuwMCczsmEGoP8B/PvNDlt688gxbka+dDYEPLQnzD9/9Z3xvX3M2zbT8bnBpgBe/9wynbpzF9JmdE3YeafjCILB+0RoW7J/B5z//eRHCF8aUTdleihCeslMvA29XCN/7/giRb/+SADtDAp3907n0e708dOxZ1v78rWfYinztbAgEH1/Iv239Htf86jvOppmW3119dAmPfT6F77O3MGPuzAk7jzR8YRC4/PhCTv9onwjhC2O6pnQvRQhP6emXwQ8SaJURFiF8dnEiQvjs+I3Ht0UIjwdFaWMsBEQIj4WWHHs+CYgQPp/05dyThoAI4YmbChHCE8e23ZZFCLdLSo4bLwIihMeLpLQz0QRECE80YWn/giAgQnjipkmE8MSxbbdlEcLtkpLjxouACOHxIintTDQBEcITTVjavyAIiBCeuGkSITxxbNttWYRwu6TkuPEiIEJ4vEhKOxNNQITwRBOW9i8IAiKEJ26aRAhPHNt2WxYh3C4pOW68CIgQHi+S0s5EExAhPNGEpf0LgoAI4YmbJhHCE8e23ZZFCLdLSo4bLwIihMeLpLQz0QRECE80YWn/giAgQnjipkmE8MSxbbdlEcLtkpLjxouACOHxIintTDQBEcITTVjavyAIiBCeuGkSITxxbNttWYRwu6TkuPEiIEJ4vEhKOxNNQITwRBOW9i8IAiKEJ26aRAhPHNt2WxYh3C4pOW68CIgQHi+S0s5EExAhPNGEpf0LgoAI4YmbJhHCE8e23ZYnsxAeOHaQQ6+VykOZNY+FV8xjese0doc26Y7r7z5J6VgHs5bNZNrAaY6//BanuxawYM1spk9Qb/tPneTo9hPMvNyLZ8EMxpVeTzcnD8PMpbPoGMMARAhP0GRLs+NOQITwuCOVBi9EAiKEJ27WRAhPHNt2W57MQrh/3yu8+C+b2P3Im/RdcTN3f+UWPLPGoLiAgb5euvMFDr10gJNHTsPANKbN9jB7+SK86y9hzoLOGlQ9hTc5aBc4fqjEQB9MnzWLOf6leNctwTO3k1M7X+aNJ44wUA94xgw8vkUsCl7GXG9tm/T30b39DV5/YDu9q4ME7ltCR+9hNv1SigPL38Y7v7COGe1O2BiPO7X7VZ7+9CYu/9S7WH37wvEVwkd3s+2rL9N54zpWbFze9tyIEB7jJMrh542ACOHzhl5OPJkInI0Q7jtWYNvnn+JYf3lE02bOY9ndyyn+6GVODcCiX/oA69Z2TKbhntO+tCWE+3s4+OAWXnvwdXpd9dHBvFtX0VU4yMHXj9Bx6RJWf/ztLF0yNoF0Tgc6iU82mYWwg+3Y04/x1Ge30HNGQvg0B77zOLkf7KZn7jJWRdYy39dJzxt7eOOh1+kZuIQb/jLMfFe39nL8sZ+y+T920t3nwXf3epauncOp7bvZk9nJaf+N3Pab65h+8iD7vruZHakcx7s78P32faxc2M3Bx15kt32MmSuW4f+Fd3D51XMrWd5+Sq/sIPfVJ3nLdwO3/sp65nk7mXYxCOH+0xz5yQts+eqrzPvIRta/fyUzZoyecxYhPIlvCNK1GgIihCUghICTURoYoK+vj56eHmbPnj3E5JFHHuHe90eIfPuXWnAaoPulHJu/+AgH3hxg/sc+yts+MMD2r29h3vtu5bIr505pxm0JYZdQDwf+8Yc8/c29TF+6lMCn38uK+Tke+9wxbv2nMPMmKp02BWbnYhbCpYd/zENfeo2BhZez4Q/vYuV18yoZ0X66f/IYj37pELd++0MsmgE9W58h84fP0MMcVsTezbUf8uG+ovb1cCCVZctPZvO2L96IxzPA0YeeZ/M//JTi8Rn4//4TXHtlJ/QeZfvvfYvcSyfxXH8Vwd+9kyXLZtDffYKdX/022x7sZMPff5BVqyv3kItBCAP9J46z82+/ybYn5nL937yPFatnjXrViBAeFZEcMEkIiBCeJBMh3Ti/BM5OCAOnu9n3/37CFutVTjOHS969Bs8ll3LVB69gZhecenUnW7/0KCffdhcbP7GqraXLgVMnOfLiLl7/xuO8/mInKz8Z5uoPr2FGm0nR/kP72ZF4jB3PnWbR9UuYud7PuvddxUxOcvCpVzl4bB6r3rUaz5w2G6xMUc+253g1OwPfPVeycPkspk9vnR1qXwgDJw6w9Xe/S/6108y9YSVzBjpZ+Gt3c+UqR670UrQe4omvv8GqP/4fXPO2OW1x7D9+mP0PbWXHt16kuH8xt37/Iyzraj/e+nbleMF4muMdXmbP7WDOJyJcc+U0evYfYN9D2+leewPrrpvG/u8+yUvf2cecGy+jc/oMVvzC21m24DTHt+1k7/PHWXT3dSy5bAwndgTInlfY8h9vsfS+9Sy9aoGbievb/jy5R6az7N6rWHT5bDra8NO2K4T7jxbZ/+AmXv3uDno9C5i9pAv6prPwntu58l2LyqKxyWf10SU89vkUvs/ewoy5M1u+OJ58cRsv//Oz7H+9j1mrLmfhipPs+dHuIWvEzJn9nNp/mJMHT4/czvQO16Iwy3MI+1dS7Hmzjzkbr+eG37od74KqeD5VZFdqL0s/vJ5Z/UfY8RcP8PJj++lY7uPaL0S5fPnwiHrf2M2uF06zIrKKrq4mQhgoPfpDHvyzPMxcyFWfehdXhi/h9M6tPKM+ypFlG9j457fjdVS3m4Cuskb86SoOfvNZXv3OVo4c7mOaZw6XxW7B8+wWdr50isWRa1ir3FjbfzcGtvL0F57j0I7jDHR6WPiBdxP6n4vZ940fse2Rbmbd8HZuVHp5dozWiN59u3nlnx5l55NFBjpnsiS8gVmH8ux74SAz1q7jmt/cyCVrZpavsd5T7PvOI2z6xx103Hcfd/326pax4HxFhHD79xg58vwSECF8fvnL2ScJgbMWwk5S6dBeXvqT+9mVO0GnfyXX/N49XH6lh2kM0LN7H7v+80W6r7iOa99/Sc2mmd7dr/DGS51ccsdqZnuGRWXfW/t44+lDDOR+yov3D4xRCA/Q/USW7F+/wKk193LnZy+j99hpPAu7OPR/H+Hl5/pZ/et3sfzKWUwbfZWzZpYGekvsST5M/tU5BNTbWHKpp+UsjkkIO8/c/Gayn3qc4slpzHn/u7jjN9ZVHrq9HHvYJvfIQZZ8+A78wVlDQnig5yQHn91Jz9IVLL9qfk1/erdvJf/0cQ4/tZn9ry4coxDup/jVr/OT+2ex5pffzZU39HFy1hLmnHyTHf/wOMXLr+WmT17NtMIeXvrzH/D6ySD3fO02Bna/CYu99Dz5Avbfb2XJpz/Murd5x7TZqDyIPk5kHufZfymy8lfewcpbF9MxvZd9//ogO+wu1v5WiGWrhlcwmk1EW0K47xT7/++jPP+NV+m4ZBUb/uQefJf2c+hbP+KlHdcT+syVLT2ubQvh7rfYon6bXbums+wjIdbeuYQD/3Y/L//kGFSsETM5Tj6ZJvfDQ40+XWeQnrms/Pl7WRfcS+a3nuJUaRqL33Mr1//ajcxu8q7R/9YuXvjiI+zbegLPqiu48a8iLJrTjFjfyBlhR5juepoHfvlZTjODS3/xLq770BV0P/xdfvKVPUy/+Vbu0G5k9ryKwG7ICPdy/KEnePrLWzk1fxGrfzHE/N05Cp5r2KCspKvJO2lPfhvPfuphDvUv4Zovv4/VV87i+HMvsevlTq788Fp4a8eYPcIDvb2cyj3PE597nu7j01l0z+1c/YEF7PnyA+TzfSx7/zsJ/so6upyh9Pdy4L9+yqa/eYHS3PW807qTwSE2IyhCeJI83KQboxIQITwqIjlgKhAYDyHcf2g3mz77CHtePcq0+Yu48lfvcrNF0/tO8eb/e4ztjx2k78qbefvvXVmTTSllf8BT3/Jw3WfuYrF3+Ek40NtH/7TpHP/mv/H413tqhPBAXx+nj5+iv69hOw/TZ81m+pED5BOP8OrTb9E/9zJWfnANK953LXMPvMBjv/NTPBvfyY3qag7/Z5b8C0Xo7GLhRj+du3ZzYF8ny//H21i5flho1irhAU7aL7HpS0/Q/4H38vafvWxchXDfrud5/Ld+yvFSH51rrub2v7yLBbMGOL1zF9u/8QKFnSUWvf/dbPiZRUMvFAPHD/JK4iGOX/M2bnrP5bXd7emht3iYV/76B+x8dn6NEO4/dYqeE72N/Z/ewYw5XfQ8t5nNf/kEB451Me+qy/H97K2sCy3m4Hd/xLP/5yRrP3s3q6+fx/5/vp8XU69xctpilr99Gb6feye+zt3Yf/YIe/dfwR1fv5lTj9rszBTo64NF997ByksPs+PbL1Favp4Nn7ySpjnUvmO8+EvfYL//Rm7+jZuZv6iDUu5VNn/uYXruuZeNv7B61Eu0HSE8cGQPm/7sYXbbR5lzw0ZCX7yeWdNg4GSR4r6ZLLhiVsuqB+0K4b5XnuDB37Q5PWsp6//X3ay+aRHHMv/FE8b24YxwVz+lfQc5eXCEuXFGO72DmZcsYtaRTTzwu8/QW+pg6Xtv47pfCzKrE07vL7Aj8RSHj5fRLI7dx5WL9/CskeHNbd3M8q/lpr+5B29z6E2FMHuf54FfeIpTdLDk5+/kxo+u5ei/fYPsfxylK3w77/itILMGV1lGskb0drPna9/lhdQhZiyZQ9dVG7jp/7uB+Q7svh5O7jtB3+B13dHFLN9spp86zmvmd8g9doJZH3gf4V9exps/foHuBVew6o5l9O45s81y/a9vIvP7WU52d7Hy136Ga989hwN//O88kz3JonfexPW/cytzHEYDfRx66Dls8xlO9i4j9O2PsGSU9y8RwqNelnLAJCEgQniSTIR04/wSOGsh3H+Kff/xFHvmr2HFKw/yzP3ddKzdQOiPQixcNoOel3ew+Uv3U5i9kff83XVM7zlNT7Gbvn7o/umDvPDgbK7+9RALF0xn+tz5TsJr6HPE+kadEB6g56UdbP7i/RTebBTCc/77R7njFxdReuAJnv7qZnqueT/3/OlKOuijmPgWP/nuYZZ99IPcFHP8kd3kP51k6/Y5rP5kiLmvvEbpw3ezbnXdjvhaacnpHTvZ8ucPsPf09dz9zyFa5YTHlBE+XeTF+Hfo/+930Pf9h9j96mlm3hPlzt+9jE76OfKN7/P4v+5mUfTDhH7Vx8DRE5w62Ydjf3jtG0/SvfZmNtx1CXR00LVgjqPvy3nVA/vJmfVCuJ8j//h9Hv/m7obgm7ZkKevU93LFLR4O/dnXeOpZL1fGI6y718s0enntU1/jpYNruOWP7+CSK2ZxetcbvPiF77O7I8R7vnojHQxwMvMMz/79Mxz1v4fIX6yh88henvujh9j3ci9X//PHuWLRIV766j78n76O1pqil11/nGTLyz5u+tydXLp2Dr27d/OS8SNeP76eu5MbW/J3BteOEO4vbOdZ41He3FZi7u3v5m36lYzFyNG2EH7+B/z4D3bB3MvY8Jm7WHnjfI6f4Wa5vn0v8divPsqJ7mksuvdmrv/1m5lTCcbeXS/z3Jce48COHi79zCe44bpDbPrCw+zZfJSZK1dzw1fuY0nt4kFVHDTPCPdtf5T7f30rfcxkRfxdyZviHwAAIABJREFUXPOB1Rz5t3/lqX87Stedb+Mdv3l9ayHsOKne2suW3/gOew93sOR3PkLo3sXlcx/J89SvPcjBt06V/73wKm7/uzCLF03nrR9nsf92E6WOy7n1axs59t1NzH3fRi5Z0cWZVo0YFMLdp2bi/9RHuPqOLg7+yb/z9JMn8d5xI8HfvQ3X5eII4YefY5P5DCd6lnDbtz/K0qbZ9HLXRQif32eanL19AiKE22clR17EBM5GCA+cPsnBR7bx2qNvsexnb+eS0qs8+7ksR0qdLProRgJ3XsGcnt1sGRLCG+jf8QavfO0JDhwcYOD4MU6emI5nyRzX7zn7vgg3/8zCoexboxCG/pPdHM+/xalK+dXqqZmxfDle3zRONAjhU+z9wrd4/onj+D7+YW5UFrvn6Nu/k+c+nebNEzPwfuAebv/EKlfI9R0qcuBRm62Jbcy8+Tpu+KONzB0UGbtfZ+tX0ux+YwXv+Pf3sKCFYmpLCA/0U9p/mIPf+wlbty3n5t9fy4lvPca2H73O6b6ZrPr993LFDYs5/aMfVwnhZZz8VoZn0wWcNOupwyfo98xm1txOpi1czOr/eQcrrilntUcWwtBbOMDhvY0Qp3V1MWfVUmbNG+BggxA+zouxfyHfEeDWP9rIUv/MEYRwH8UfPMULX9tE9w1R3q1fRgenOfSvaZ78xussfN97uPb2k+w9upCr77qM/lKJIz99kW3/aHNo/1xu++ZHWVol0nab/4z9yFw2fO5eVl3vpe/NAtv+8vvkX13Oxv94L95RFGs7QrhZRrj/6EGOHexirn8erezIbQvhwYzwbB/XfuYuVt20kGOPP8yTX9hGb5U1Ytf/uZ/cjw6ObI2YOY+VH7uHq+/zsFP7Ftu2nGBm8GqCn3oHS3zlOrr1QvimjdPY+08PYX87D4sWse4zUdYMrnoM9HF806vkX+hjzc9dzexmHuEBx6ee4ifJ/UxffCnrf9cR8l5OpL/DY3+1l44bb+OOP7iB2fObWSMcm8Fp3vreQ7z4g8OU3jzE6c7lBL/8Xi5b08W04wVeNJ/j6JGe8iU973Ku+e0g8xd0cnr7DjZ/5RH2vdbD/PuuZ8GM+az95HXMcvYg1JVPo7+fngMHOV7oZ45TEs4zsru7fSHcy1v3P4391zaluWt557/fw7xW78oihC/ip+XFNzQRwhffnMqIzoDA2Qjh/u5DvP6f23EeXZ3XXsXSt7azrzCcqZ1+2TpWXHagSghfx/RTPZTeOs7p0wP0PPcomzIzueqXb8M7bzodi+Yzp1zrqZwkGiEj3Fs4yL4Hcxw91pgR7rrxJq64zUN3gxDu4c0vf5ufPnyES372w9z0sSWuEO4/cZhXvvA9dm4uMS9yJ7f+xlq6GOD0629x9MQhtqkPMVAjhJ2/7WLrX9zPnrfW8s5vhFv6BdsTwr0c2bSLA1sO4lShm339Gjpe28mxwfF1zWbRzWuY8dQDNRlhisc4Xuxh4MQRdllZTq67gfUblzGtcwYzl8yly1O2mowshAfofmorr9nFhoiZNncey965nsUrO0bICJ/g5V/5F149tZZbP7uRZWs8Iwrho//1NM8nXuDE1R8g8mcrXDtMf+EVnvjkA5SW+Vh8yyqWv2stvrXz6Tt6guP5Pbz2v59lz/aOOiHcz+tf+jqbn17EdX/6LlZeM5/ewl62/cUP2LV7DXf8+90M6q5mod+OEKbaI3zpKjZ87h58S3rZ//UfsnPgFm76ldVNPazOedsVwgx6hF+fwWWffCfXRC6h8I/fYfOPjsDqm7jry7cwa+ZpDj/3Cm+9OsKbnnOyji7mX38ly66ZS//Ol7D/PMv+QhfL/9ttrP3AambPHuDk81ux/+GnHN7bx+Wf+wTB2zz07XuD3FcfY+dzJ1kYvpGrf3Y9C5d3cer1vWz/l+foXnEtwZ+/ghmd/Q3WiPUrejnx4qts++unOHBoGks//Dau+UiAOXM6OLVjMz/91OMcvWQDG790OwtG2izn1hHu59Rmm83f6malsoqD//ooO58v4rnhZm76w1vc67/pp+co+b9/iG3/tZf+WXNY/akPEbhjvnsNNwjhnm52/8cP2fzNfm5IvI/ll4+85tCuEB7oO8W+b2fY/I/b6bj3Xu78nasYRQdLRvgMnkPylfNDQITw+eEuZ51kBM5GCI8+lIEGa0R1fqaZR7iVEO47WOTNJ1/j+GDx4qpOzNywgRUbujjZIIQHOPlQmoe/vIulH4hw06/66XTsEt95mL1cTv8Lm3n9hRKX/d6H2XBHpT7q6b088b4U/XVC+NS27Wz+4gMcuuIu7v7jQMsd5G0J4dEhOjKywRoxKBtaeYRbCeFTW17l9S1HGoXw7DksDl2F1zd9BCHcz+6/+wb24wu58XN3snzd3BGtET3btvDTLz1Fcebt3PO/ryt7gPtPc+DL/8rTmR7m3XUTN3zyRuZ7K9HQV+TF30+zc+u0OiF8iu2//U+8ejrALX+wkSUruujZuYsX//SHvLn8Hdz9+Q2j7uBvSwg73atUjdjxw530dM1l1kIPM5ZfzuqPXsuipZ0tq3S0LYQd24hbNeI5Drw5jdkrlzF74TH2P1Cgb+ZcFtx0A7f88XWj2j2GJ62f0mt72fPgNvbabzHQNZPOzmkM9A0wfYGXZRuv4JLQCubOdV/76D1wiEJmG288voee/k5meKYzbaaHeevXsPI9a5i3sIsTzz/Bpq/u4NjeY/T2TcNzlY/ZM8q+fOYvZvl913LZLZcya36ZSf+Jo7z2t9/n5Z90cu3fvJ9Va0Yon/anK3nz/z5HPr2NY51LWfOhACe+/wR7dpagcwZzgutZ//M3sSzQxJtPPyefzPLElzfRP3c1N//tvSyuVMioF8IDx4/w2l9+i1f2XMHbv/i2YWFeFel9+/ey/f88xo7MIfr7pzH7pmtZvWY6+x7YwqFDfXQumM+yj7+DDe9eRUfPMV776++Qe2YW1xj3sXrd6CUhxRrR1k1NDpoEBEQIT4JJkC6cfwITKYQHerp5w/wOLz50mD48LP7YB7n155cMiZdmQrj/8B62fjnLmy8VKJ2EjgWzmHX1LYT+ZMMoImHA9ZC+/JWHyL90goHpc1n+M7dwzS+uZ2b/W9g/9/84etV1BP/gOgrm/bzy5EF8kZvo2reNN54/ykBHF8t/9l42fGwVM0YSwgP9FB97nhe+8jKX/8n7uOqGBS0ncHyE8AA9W1/C/osnebPQQ+fSFQQ+/S5W3VguodZKCPe9sYmnP2Nz9NBxek/j/gztkjvvZMPHlo+S1eqn++Gf8OSXttDNdGYsWc41/+udXH61l+ObtvDCZ59l0e+9l2s2LmKv+Z9s/vFBepnJnMA6bvnyO5g7/Tg7/vSHbHsKbv7mR/ENWh0KW3n4F59lycfvZP1HVtE5qOabCeHje3jqYz9mxvvfwYaPr2PmDDj2zCae//wWLvn9CIG3Lxn1AmpXCI/aUIsD2hfCZ3OWyfrdAU7lXmHTVx6juHIjd/7R1eUKG+NdR7j0Ji/86g84cvN93PHrviH7VL0QPvnC0zytbcH7C+9iw39bzYzR0rejYC1tfZ6nNJuFH7+Taz/kd180RvuIEB6NkPx9shAQITxZZkL6cV4JTKQQPq8DG+HkPfmX2PR3O1jw/hBrNi6hs5XxcwQh3Fc8wI6/fZwTV1zH+g+tYWbFftBsnOMjhCcXRadcW+G7T7N902yu/f2bWdjEm9B/6A22/Mmj9Fz3dq5VLmU6Hcyc08uOzz/IjP9+LyvXVpUtGEEID5w6zr7Ej9l55DKu/rXbWLSkg4HuIjv+6iGOXLqe9R9dx6zZo9eBFiF8LuKnn9LL23kp8TzT7ngX1/3M0nH7ieXeQwWOHZ7L/MtOs+OPHmHab3yQq9za2uVPrRCez1v/9D1eK64g8AtBFiw6SxVcfANbf4ppG29m7fv8zBrleh/skwjhcxFzco7xICBCeDwoShsXPIGpJIQZcOoa7+etwgBLNlwy5KOtn8T+I0UOvrSDLXoWrljFFZ+8ncuuWQj7t1PYu4BlNy6jq2v0zNDFKIRdVj2nOGLv4sj8lawMtKibceIobz63nxmLplGwi8y7tJOT+7q4/CPrmV3RwQOnTnHslR1s+5tnOPA6rP3Mu7hsg49ZffvIP93LJeFVzKmU5HJ+ZGPPznksu+USZs4cXQQ7XRUhfA5vUd3HObp/GnP9c5g+Thnhk88/zuZvlfBe0cmx7kvZEA9Qvf+twRpxukRvbxdds9qLj5Z0uo9y9NAM5l7WunxefRsihM9hzMmpzoqACOGzwidfvlgITCkh3OakOT+remz3UboPlpjW2cmMpV4WXD6Pjhmji9/qU1y0QrhNjoOHDZROcGT7YXp7oWvFJcxbXK5u4HwGTp+me6+zy7/k1oaesXgecy5biGduq99ya78DIoTbZzWuR/b3cMTexynPIpasn9eyDnOr8/YdO8zhbUV6BzqZc5WPeYOb8Spf6us+zuGtR5h1xVJmL+pq6xcXx3WcIzQmQniiCUv740VAhPB4kZR2LmgCIoQnbvpECE8c23ZbFiHcLik5brwIiBAeL5LSzkQTECE80YSl/QuCgAjhiZsmEcITx7bdlv9/9s47vq3qbPxfjzjKdrbIdAaJIQSUsFTKEKMgyqjpy1B5KdWvpdSQQtVCWxVoq1Ja1LJEx1uxRQutoAwBDYgCRSEFRBZKQkBZoGxlK9OKh/T7XEne69rWjS378T98iI+ec873HEnf+9znHosIqyUl7bJFQEQ4WyQljtYERIS1Jizxc4KAiLB2yyQirB1btZFFhNWSknbZIiAinC2SEkdrAiLCWhOW+DlBQERYu2USEdaOrdrIIsJqSUm7bBEQEc4WSYmjNQERYa0JS/ycICAirN0yiQhrx1ZtZBFhtaSkXbYIiAhni6TE0ZqAiLDWhCV+ThAQEdZumUSEtWOrNrKIsFpS0i5bBESEs0VS4mhNQERYa8ISPycIiAhrt0wiwtqxVRtZRFgtKWmXLQIiwtkiKXG0JiAirDVhiZ8TBESEtVsmEWHt2KqNLCKslpS0yxYBEeFskZQ4WhMQEdaasMTPCQIiwtotk4iwdmzVRhYRVktK2mWLgIhwtkhKHK0JiAhrTVji5wSBtkT42+U3cMYDV+TEPHriIBURHrWgho8OfcrkS2f1xCH2+jHNXDaU19cvYNpVczSb6/iDxSx7PMDIG2dROLCfZv1I4NwgMPbwUPb/eyP33HMPer2+0aAPHz5MUVERBQUF5OV17C9V5sbsZZS5REBEOJdWS8aqGYG2RHj+/Pma9dsXAitfdhMnTiQSifSF6fbIOc6YMYM1a9ZoOrbRo0dTWVlJW18qmg5AgvcoAiNGjGDjxo04HA4R4R61MjKYpgREhGVPCAGgLRF+4IEHuOWWW4RTFwisWrUqJUhnnHFGF6LISztLQBGS9evXc+6553Y2RLuvq66u5pVXXuHSSy+lf//+7baXBr2bQE1NDW+88QZ33nmniHDvXuqcn52IcM4voUwgGwTaEuGHH34Yn8+XjW76ZIyqqir++Mc/MmrUKK6//vo+yaC7J/3YY4+hrMPNN9+s2VAU0f7d737Hgw8+yODBgzXrRwLnBgHl4uu+++4TEc6N5erToxQR7tPLL5OvJSAirN1eEBHWjq3ayCLCaklJu2wREBHOFkmJozUBEWGtCUv8nCAgIqzdMokIa8dWbWQRYbWkpF22CIgIZ4ukxNGagIiw1oQlfk4QEBHWbplEhLVjqzayiLBaUtIuWwREhLNFUuJoTUBEWGvCEj8nCIgIa7dMIsLasVUbWURYLSlply0CIsLZIilxtCYgIqw1YYmfEwREhLVbJhFh7diqjSwirJaUtMsWARHhbJGUOFoTEBHWmrDEzwkCIsLaLZOIsHZs1UYWEVZLStpli4CIcLZIShytCYgIa01Y4ucEARFh7ZZJRFg7tmojiwirJSXtskVARDhbJCWO1gREhLUmLPFzgoCIsHbLJCKsHVu1kUWE1ZKSdtkiICKcLZISR2sCIsJaE5b4OUEg50Q4UUVszy72HTxCso5wAcPH6hk2oF+PYp4rIpysqeLQvr3sO3SEBJBX0J+hI0YwVFfYgGeSqkN72BWroDqRVBoxcPgYRg5q2KZH4U8NRr0IJ6k6uJvF//oTtjte4huuv3LrZQYK8tqfk/xBjSTV8QNsWTmf2755I5UX/AnPw99iREH77HpjCxHh3riqvXNOIsK9c11lVh0kkHMifHgNztt/wguLouhqRS1/DOUPubju5EkdnL22zXNDhKvZ8OFrPPzoK8QHDUNXWMn2LbsZYvg6jh9b0BcpjBLEVi/kiaf+wZbqwSSPHGLTyuUcvuwJXrvtOHqy76gW4SNbeP73v+aVZXsJBz/jukdEhFW/O6r38eFLT/DEG2vZ6X+G5P+ICMtfllO9e6RhNxIQEe5G+NJ1zyGQiyJ83+99TDvrfE6cPCwNMq8fI8cdw/ABKWvrMT+5IcKHefsPd/N4bA6P3HkNw/IqiQRclN30OKanQ7iMA+HAJ9xbfivvn+bgqfKzGd2vki3vPctftp7Hr66d3EtEeDvvvbeRMaMPcd+1t3KCU0RY9Rup+gCfrvyc/hPH8o75WP5lFBEWEVa9e6RhNxIQEe5G+NJ1zyGQkyLsCnDu1VdxyvThPQdkCyPJDRFOULF/P/GCAQwf1D81i6pNL3HZ125m002LWPXdCex8y8XlP1rAfR/4OHNIplagppKKmkIGFOX36DVQnRHOzGLfmoX8qGyeiHCnVnU/j54yXkR440ZEhDu1geRFR5mAiPBRBi7d9UwCOSnCv/g9waVrWLNrL3lFo7jw2z/mtuu/wjFDpEa467ssyb7Qo5ive4Cz/7GC352QZNGffsZ17kPce2s/Hn3iQ7YeKWL2Vbfxhx9fyaj+IsJSI1y760SEFRJSI9z1TyGJcHQIiAgfHc7SSw8nkHMifGQ7rz73GpUzL+DK0yax+7PX+cn3fskes5N/3PkVdD2Id25khBsDqz4cxXf/z3lyxxk8+6f/x/DEAV5x3k6542nG3vAsrz1wBSN2LODH3/wObx//Rxb/3yUM68EuLBnho/mGEBEWET6a+0366ioBEeGuEpTX9woCOSfCTanX7OO1X83jhmd1LAg/TmkPSgrnoggvff4eHn0/wXU/uIWzpg6HxAFedd5G+S/f5e4ta7lhjLIAcZb96nJO/u1+3tgSxDyq574VRISP5tqICIsIH839Jn11lYCIcFcJyut7BYGcE+GqKqqTSfKLikgnIuN8dN+tXHXfBl7c+Can9qCUcK6J8Fb/D5n3tI5b7v4pZ00rpp8COBln2SN3cO2P/4Nrcwhz6vnEJBH3NUy5aRHPbohwbc86rKPR+1JE+Gh+TIkIiwgfzf0mfXWVgIhwVwnK63sFgdwS4STbP/Dxu9dW893bbuO4UYUkKrfz5E9v4mcfnMqqj+4glbDsIT+5IsLJmkq+eOMuLvjhVh79z5OcPRYqP/0zVzxrYv59c6j8+HEuvdbJnGdX8cCc/uQlD/CfWy/iomdm8PEOD7N71mEdIsLdtv9FhEWEu23zScedICAi3Alo8pLeRyDXRHjPyne4+64HGXDB9ZhmFLM3spgXX/2IE79/Pz+/uLRHLVBOiHCyinVv/4Xrv3MPFad8nbMmpK22etN7PJd0sc1noqhmF/OdP+XOwChu+4GJ4n0rePrZBZTc5OH+y3rSpUfz5VefEa4muuhdFoSW8tiv/0KJ9TYuP/sczj3vJIa0c1CyPCyXILZuBYvXrublW6wsLf0etnnXcN7ZJzN2UA++StLo00IeltMIrITNOgER4awjlYC5SCC3RBhqjhxg46dLWPTJBg5W1pBIFjJp9pmcNWcKA3vYUV65IcJHWL/oPd75aBWHlT8r1+CnYNqV3HzZhPQ5wfGdLH7r34Sih8grHID+uDMwG6fRs/+uXEf+slwVX/zrWV7fsJ+qqgT5hYUUDj4eyzfPa/cvpIkI17BjaYD5Sz9j3+Fq8vLzKRw0mUuuvIiSYT2oVukofUCLCB8l0NJNlwmICHcZoQToDQRyTYRziXlOiHAuAe3EWNVnhDsRPPMSEeHOs+uNrxQR7o2r2jvnJCLcO9dVZtVBAiLCHQTWgeYiwh2ApVFTEWGNwErYVgmICMvmyBUCIsK5slIyTk0JiAhrh1dEWDu2aiOLCKslJe2yRUBEOFskJY7WBESEtSYs8XOCgIiwdsskIqwdW7WRRYTVkpJ22SIgIpwtkhJHawIiwloTlvg5QUBEWLtlEhHWjq3ayCLCaklJu2wREBHOFkmJozUBEWGtCUv8nCAgIqzdMokIa8dWbWQRYbWkpF22CIgIZ4ukxNGagIiw1oQlfk4QEBHWbplEhLVjqzayiLBaUtIuWwREhLNFUuJoTUBEWGvCEj8nCIgIa7dMIsLasVUbWURYLSlply0CIsLZIilxtCYgIqw1YYmfEwREhLVbJhFh7diqjSwirJaUtMsWARHhbJGUOFoTEBHWmrDEzwkCIsLaLZOIsHZs1UYWEVZLStpli4CIcLZIShytCYgIa01Y4ucEgbZE+LnnnuOee+7JiXn0xEFWV1fz0ksvMWzYMC666KKeOMReP6Z//etf1NTU8LWvfU2zuW7ZsoV//OMfzJs3jwEDBmjWjwTODQLbt2/H7XZz5513otfrGw368OHDFBUVUVBQQF5eXm5MSEbZawmICPfapZWJdYRAWyL81ltvdSSUtG1CQPmymzp1KmvXrhU23URg1qxZrFq1StPex44dS2VlJXv37tW0HwmeGwRGjRrFF198ISKcG8vVp0cpItynl18mX0ugLRF+8MEHJSPcha2SSCR49913UxnJCy+8sAuR5KWdJbBo0SK2bdumaUZY+TJ55pln+Pa3vy0Z4c4uVC963YEDB1DupklGuBctai+diohwL11YmVbHCEiNcMd4daS11Ah3hJY2baVGWBuuErV1AlIjLLsjVwiICOfKSsk4NSUgIqwdXhFh7diqjSwirJaUtMsWARHhbJGUOFoTEBHWmrDEzwkCIsLaLZOIsHZs1UYWEVZLStpli4CIcLZIShytCYgIa01Y4ucEARFh7ZZJRFg7tmojiwirJSXtskVARDhbJCWO1gREhLUmLPFzgoCIsHbLJCKsHVu1kUWE1ZKSdtkiICKcLZISR2sCIsJaE5b4OUFARFi7ZRIR1o6t2sgiwmpJSbtsERARzhZJiaM1ARFhrQlL/JwgICKs3TKJCGvHVm1kEWG1pKRdtgiICGeLpMTRmoCIsNaEJX5OEBAR1m6ZRIS1Y6s2soiwWlLSLlsERISzRVLiaE1ARFhrwhI/JwiICGu3TCLC2rFVG1lEWC0paZctAiLC2SIpcbQmICKsNWGJnxMEeroIJ2uqOLB7O9Fd+6hKJiG/PyP04xlTPJCCvFrESY7s387mrXuI1yRJUsDgMRMoGT24W9eg54pwksr92/nswxe5fd5vmHbDo9z/k0sZnF+Pq7piL5s2buFgFeTlFTBo1Dgmjx1GXZOaODs3bWD7wSryCnWMGjeesUMHdCvvljpXL8IJ4ns3s/Clv/Cze+bzvw//lVsvMzTYY61Pbf369fzud79D+UuMgwd37547OguQpOrgLtYsfo07v/cDEhf+Cc/D32JEQf37se3fH51RdlcvIsLdRV767SgBEeGOEpP2vZJAzxbhBDvC7/PnB59i7+AxjBxWwO6NEXYPOIkf2ss5ZcJQIMH+zxfx9NPPszWvmP6JOFtWLmVj6a3Mv/cSCrtx1XqsCFfuYP5jf+alT+Ns8/2NSbc0FuHEoY28+Bcnrrcr+PKp42D3BlYeGMF3Hffx9Wn9IVFB+PVHuOuRpUyYPYm83ZvZO/w0fv7zeUwb1I3AW+hatQjHN/LX39zLgi/irPrPUq5xiwi3upLVe1nw3JM89+E2dvseoaKsiQi39/uetUWyPhoR4awjlYAaERAR1gishM0tAj1bhGtY9ZaHh+bv4oe/sDFreD/2rH6Nm2/6CdXfepYXrKdAxUaeuvvHvDb4f3DfdjVj+lez99N38a7Wc+PXZ1OXpOqGZemxIly9n09XbWH4sWN44ozZbLY0FuF9Hz3B1677LbP//BEPXTiS5J6P+eEV1/Hi9Ef5/IkzKdj0Bt+79sccnPcaT189GTYv4OZrfsy26/7Jv+ZNoV83sG6tS9UiXLmbJUu3UTxoN/dabuEEp4hwq8tYc4j1azZTpB/OG1+Zxr+MTUS4vd/3oP2hxVBEhLWgKjG1ICAirAVViZlzBHq2CCepqaqisgb69y8iPw9q9izlpzddh+/YB1l3j5l9K+bz/XkuLnrwSa47dVKafzJBdQIKCxrc6++GlemxIlzHIsY9huObifCuhS6++q3/49r/rMFWAlRHuNtcxi+rHRwIXMrWv/2CK+9Ywp9X/5uzBiq89/Paty/ia2+fxdr1v2daUTfAbqVL1SKcef2+NQv5Udk8EWFVS7ifR08Z31yE617b3u9VdZJzjUSEc27J+uyARYT77NLLxBsS6Nki3HStkhxY/xbfn/dThs77G3+89DjWvfUY3/n+85z1P7PZuDrCjv2HGDjzHObdchPnl47q1sXOVRHm8Dr+eOtNPLzzqzxyl4m8T1/i7v8LcPafX+fuuTD/d7dz4xP9+WDdH5icIlzN8l9ejOHuGG/GFnPhsG7F3qhzEWEt16I90W3v91qOrftiiwh3H3vpuWMERIQ7xkta91ICuSTCiepDBB7/Be5lY/nlb29h1sh+LHvFxTe/cRf9v/lHfA/fgP7Ieh6338gfN5/P2747Gd+NRcK5KsJKjfCbf/8DD/kiTJ8xlfzYBrYWlTLvZ3dw/qQjvPDbH3HzM6NYEXaiz4jwpw9ezqzbPuef28Jcmf7HHvEjIqzlMrQnuu39XsuxdV9sEeHuYy89d4yAiHDHeEm/dD8bAAAgAElEQVTrXkogl0Q48rqDX/zzENf+5CdcUDqaQqoJvfow11se5hr/29x5zgygivXP2jH/0M8dS1fx/yZ238LlpghXsvaVB7n+x2/wredf5NuGkST3rcNz4zdx7r6K9+bfyPIHbufGpwYQXOsiXYxSzfJfXYzBsYc39i7FXNx9zJv2LCKs5Vq0J7rt/V7LsXVfbBHh7mMvPXeMgIhwx3hJ615KIFdEeNvbP+MrP4ny0Mt/4bxJuvSxVskEmxZ4+K7lt1z2Tz/zzpqu/CPbX7sb0w1PcuPCDfxQceNu+slJEU7s55V7b6P8r8UsDd/HuNQRdVV88tvLmX3nRl6Lhpg6/y6u+sVKnlz3OqfrlN8f5M3vXoT5lTms3vQnZvTvJuAtdCsirOVatCe67f1ey7F1X2wR4e5jLz13jICIcMd4SeteSqCni3Ci8hDht/7ALfd/xvf+5OKCY6Aq8go/fnkcj/76IvK2fMgdN93Ehkv+zDPf/TL9EwdYeP88vvNEguc/eYY53ShlOSnCVLDk8V/yv44VPLjoZS4eN4DkkZ28cvMlXPPyVIKbvZyw5SWuufYuRv72Pf5y/kjYvYgfXFHO4q96+fCOmbl5akTm/S0Py3Xkg6490W3v9x3pK3faigjnzlr19ZGKCPf1HSDzTxHo0SKcTLB52cvc8q3vs2LQiZw+bWRqzDV71vBB4fdZ+y8rusRhVrz2GHc/tYo5F57C6JqdfLT4U8ZdaufXV8/u1lXuuSJczZaFr/PqJ2Feu+c37D/1G/zPZZdz3be+yuhCqNgS5MG7f8VbnMZVJ48jsWsNbyxcz3HfvJ/fXjud/jUHWfqMk588t4cLLzuRvA0hluwcz88f+jmzlaOde9CP+oxwFV/861leWhLin+7nGX+FlfNOv4BvfPO8Bn8oouWJ9b0/qFHDjqUB5i/9GP+v7+LTqVdx/XVXctXVF1EyTLlF0N7ve9AG0WAoIsIaQJWQmhAQEdYEqwTNNQI9XYRj29azdMkqDiQak80fZeCSM0vS5wRXHWTDpyv5dGuM/IJCBo+dhuG4yQwq6s5ThKHninANuz9ZTHDDDqqqEuTl51OgO4azzj+VYSlkCQ5vX8+ylevYX5Ukj0KGjJvOKSdNJVUJofxU72f9x0tZsytOXtEQphx/IjOP6WEWDKgX4Wqii95lyY4KqqsT5BUUUDBgEuecexJD2tlGfU+EE8TWrWDx2k0cOlKT3j/9R3PqmSczdpBydl57v8+1T8mOjVdEuGO8pHX3ERAR7j720nMPItCjRbgHcerMUHquCHdmNrn5GvUi3Pn59T0R7jyrvvBKEeG+sMq9Y44iwr1jHWUWXSQgItxFgG28XERYO7ZqI4sIqyUl7bJFQEQ4WyQljtYERIS1Jizxc4KAiLB2yyQirB1btZFFhNWSknbZIiAinC2SEkdrAiLCWhOW+DlBQERYu2USEdaOrdrIIsJqSUm7bBEQEc4WSYmjNQERYa0JS/ycICAirN0yiQhrx1ZtZBFhtaSkXbYIiAhni6TE0ZqAiLDWhCV+ThAQEdZumUSEtWOrNrKIsFpS0i5bBESEs0VS4mhNQERYa8ISPycIiAhrt0wiwtqxVRtZRFgtKWmXLQIiwtkiKXG0JiAirDVhiZ8TBESEtVsmEWHt2KqNLCKslpS0yxYBEeFskZQ4WhMQEdaasMTPCQIiwtotk4iwdmzVRhYRVktK2mWLgIhwtkhKHK0JiAhrTVji5wQBEWHtlklEWDu2aiOLCKslJe2yRUBEOFskJY7WBESEtSYs8XOCQFsiPH/+fG699dacmEdPHGR1dTXvvPMOgwcP5stf/nJPHGKvH9OCBQuoqanhvPPO02yuO3bs4PXXX8disaDT1f0Ras36k8A9m8Du3bt58sknufPOO9Hr9Y0Ge/jwYYqKiigoKCAvL69nT0RG1+sJiAj3+iWWCaoh0JoIO51OtmzZoiaEtBECQkAICIEGBLZt28af/vQnEWHZFT2agIhwj14eGdzRItCaCCtZDeXWvvwIASEgBIRAxwmMHj06lflt+CMZ4Y5zlFdoR0BEWDu2EjmHCLQmwjk0BRmqEBACQiAnCIgI58Qy9ZlBigj3maWWibZFoFaElezvgAEDBJYQEAJCQAhoRKCiooJ+/fpJjbBGfCVsxwiICHeMl7TupQREhHvpwsq0hIAQ6HEERIR73JL06QGJCPfp5ZfJ1xKoFWHlhAN54l32hRAQAkJAOwLxeJzCwkLJCGuHWCJ3gICIcAdgSdPeS0AR4UQikTpiSpFh5b/K/yv/Lj9CQAgIASHQNQLKMWn5+fkp+a2VYOX/5fi0rnGVV3edgIhw1xlKhF5CoKEMN5RgkeFessAyDSEgBLqFQK3sNpRhkeBuWQrptAUCIsKyLYRAhkCt8EomWLaEEBACQkAbArUyrESXbLA2jCVqxwiICHeMl7TuAwQkA9wHFlmmKASEQLcREAHuNvTSsWSEZQ8IASEgBISAEBACQkAICIE0AckIy04QAkJACAgBISAEhIAQ6JMERIT75LLLpIWAEBACQkAICAEhIAREhGUPCAEhIASEgBAQAkJACPRJAiLCfXLZZdJCQAgIASEgBISAEBACIsKyB4SAEBACQkAICAEhIAT6JAER4T657DJpISAEhIAQEAJCQAgIARFh2QNCQAgIASEgBISAEBACfZKAiHCfXHaZtBAQAkJACAgBISAEhICIcC/bA2GPAbc+gMtcnL2ZhX3Y7S78ESvekJXS7EVuNVLMb8MULSdkPRq9qZ+QJnzVd9+llp0ee9iDwa0n4DKTxV3VxlzCeAxu9AEX2dzGSoexSBRdiR5ds95j+G0mouUhsr/lwvgcTty+EFH0GEzl2F1lHX8fKetgcWFyZvn93aVdpUD1YzPZCdi86t6v0SBOhwNvMIrZFcBpOjq7qqvTlNcLASHQOwnkpghH/DidrtQHaXGJEbPdgd2oV71CYa8FS7icoMPUwhdi+2EUobC4mrYz4dTgi7v90TRu0WnZabWjMF6Lg6jdg83QXB86Oj617UWE1ZJS30713kiJTZTy2oueTotwZ+VSKxEO4jS5KfV4KCsBGs2rs2Ntj3+coNNMuRcMZWWYSyESKcVqN6P+EyvTR46IcPrzsbXPQ4WHkXKvgTKHhbJSE4bSTnyudFS+21sm+b0QEAJ9lkDuiXA8iNPspdTjpKxEB1E/dosXY+2XW7tLGcJlchEq0VHmdFPW4W8j5fvTgAWV2Y92x5PdBqplR3W3WklJ2wMQEVa9QKobqt4bvVaEm6A6KiKsvH8suExO/K5OyG/DIfcKEc4SDxFh1e97aSgEhEDbBHJPhMM+rD49Lrsxc5u2Y5mceMCBMViGt9SFI27Ha8ncek99sIYxu+P4HF6C8RLMNifOsua35lsX4Sh+m4VAmS9zuy+E0+SixO0h1U2jTLYZm9NJKnzqC1mH0xjC7fYT0RmxOOxYYl6criZjSY0zhNERw+vyE6GEMpsLRyrFlZb0+tKIOGGvA7sSk9bnA43bGc02HHYT+tovm9o91OzWZ5p9yOgg6nGATbllG8PvdOLyBokWN+wz3TZsdhP3KbdF45SYbTidtbeII/gcNly+CDqjBUtJGJfeXnerNeJ3pllE9RjKyrHby0glkjrCrpFUeLE4dbg8ZZnMnJL5dqFzKRdHkVbm0JhvM7FskjltOGajxYHDbkz3FQ/jddhx+yPE9Mpat3xHIx724rC78Udi6I0WHA47qRsfzTK0TS5Wwj4cTje+UDT1OrvDjkmfGXuxC1PQhcuf5lwXM8MmdQFiD9SRsnlDWFH2ZzEuUxCXsudS+7N+zC2OU5e5Xd7q3lF+0RrnphdfSjsHTm8ISszYLMU4goa6Uo2290YMuz6E22vCHTISzJRclPga3tVRspcOcLS2PzP73OQEv3InKrN3baWEXOl1bIklZKSvjmZ9P/aADW+ojIjNhD1kwVYew1f33ndiN6bLBcI+O/YUcxMOqx6H01tXGlE/b9Abyii3O9KfJw1+atfTYrMT8TopcQSxG2MEPS6cnvTngtFsr9+bDT6j0BsoK7fjKCulNk5qP9R+ZtWWaRiDdaURXiyN7pbVtU/PJn1R0GB8qd+XhPE6nXgypSNGiw273UzqE62l8Zgi6f5q45icmb0QbXletRcQVhvFAQ9hixuvMYzVGqbcb8fYiYS0iIUQEAK9h0DuiXAz9iGcZj8mn5oPtDgBh5lQWQCb3ke5JYYtkKl5TUmfE53Dk5JKXdSHzRzA3EK5Q5sZ4agfmyWENWBH57HgxIEn9c2RzkQXu91YS3XEQy6stmIcSv+pD+oQDl86y536ndWD3uHHpaSsU1lwN6VeD2UpwfCgd7vTX5apjLgiKt6UbDeUs7DXSnnIgtdpRq/Il62caHkAm6ExxEbtiBF02XAV2/Gmv/HaqNdMC4JT58CtfHEV6wi7TLiK3bitpejiIVzKl48jgLW0vq3HUUaJLorPZiZgTtc7hj0WHFEb7tQFThS/3YK91J0S4XjQidmtx+W2YtDFifgcWAMmfErNakfYNcr+K+LrROfypO8KhL1YXDpc7jKirc5BvQjrMmN2u62U6mIEnMrFlxd3WXHq1rC3NLO2qfXzYfQ2uTuhrLnRS6nflRpf1G/H4jPidZehb0uECWC3+DG6HZm95KHcqcPutYByJyNgxe2yYSyOE3JZsRU7CDQtim0pI2wJYHW7sBmLG+/dqPI+ClLmdWJWxumzYQ6YM2LS9kVqqFXOjfecUspUHinHZzfV7424PdVHLefW94YybiflBj06XdMLhoa1z23tT1L73KN31+1PZe86olY8HhtKxVDEV05ZuJyQveGbK04k5MdjdeAzWHHZzBgMeoKK/DYU4UAxhjIbFmMEn9NDEBte5XMh5MJk9YDRir2shKDXgS9EWoRL/FiU/Wt1YjNBwGXHE7HgbiJ29Rc2+lTfZXYPpUFFVqMYrTbM+hA+pw/sXjwW8FosOHVWnOmg2D0RLG4/5TF76gKpPREOmuL4PVYcPgNWl40yowHlxl36pykPEyWlJYTtCg8TdreVkqgXu8OP3u5F2bItj8dLWdyL0+YhVObAY1HKK9KfIS3OyxBM1VZDMSWGEozlLuxGHZFwjJLSTtwS7D3f/zITISAEgBwXYUWYrARMHpzKt3B7P6kv7QjlARsGovjKLURqxbDplz+tf4m3WCPcIFsa9ZVj84MubsTuqX+4LB4HXd2XQhiXwU2pItrRpg8jNfhdKjHUYCz6JvWbKPJhxZbJbteLcBSPyUmxIs8ZNC2XG4SbtSMewGEMUhayY1AhwuHyELbaTFTjSRJ2GXCXKrKblomGDyPVj4c2xqonYDcRtISod4wGEhvrALsm2TKFmx0nnjI9imy5dC7cqQuPRgvVYA7Kl219xr31jLCRUNMxN5DXiCKAOHCUm9KS0KS/9DZOXzjhcFBuKknVstc1a0OEjSE7ppCVUP2CEAlFKDaUEm36IGVrtb/tlkY0FspGw1cuBM219cXt3K1plXO0wcWXsj8d6DIXeql3g5K19iuy3QJnmu+N+pKE9kW45f2pb7Z3o34b5oYPc7ZaR11fCpB+2DDNpLEIK9nh9OeE8n6xeNL1tSU+ExZXCQ5/7cWaC4PFkxFhHyaLixKrC4fViD7zuaKr/4BJ7aK6jLA7hN2obCLlAqscb5kr84yEchfLjD1qx+s1EDRZcJVYcTmsGOuDEs/cKWhPhJUL17ZrhJvyaPqhHcJpsOI1uwg49fhaGY+uaWlEW/NyxLFYXBgcPjyZO2ftfVXI74WAEOg7BHJYhKMEnXbcensm49r+oqUyS1Hl6eZ01ib1JREsS38hdFSE26wRDuEyWIm5gjhM9ffdlFvITqcndcs6/ZN5oKQFEW781HzbItxQcBuJcJPbkKkuU18wSmat9qeljG/Df2s/I9zoSXsl81x3mzMzy9RT7u2IcJNTAurn1FxCGl0YpG7bNzzRoOl425Ax5cJIuSPuNhK0KtnhzCkFrc5BvQins35N9mRxJtNHjJDPjccXIBAtQbltbTenS1sa/cRC+NwefIEA0RILNrudVLM2RLjEb8YSd7X49H57pRx1fXdQhFO36N1+gpFYJkSt2LUnwq3tlSYi3NLeyIiwwrnxSQ8N+mxvb7RTI9zWHmx2UZktEW7woFm6fKPBQ2dNaoTryiYU7MUGLMpDw032UbOShqblTnWLnlmzuhNiUkExWJSyCTPFWopwqvzBjT8YoXYHUVvu0Mp4SpqKcFvz8pIS4R532kb7X1nSQggIgaNAIEdFOE7YU44T9RKcusWvZBfqPmlr6Rpx+N2ZkoMGT8q3lxFuQ4SVUgNnuARduBib15Y+JimVjQ5j8dlJnxbUQNi6KMKtZ4Td6L2u1C3r1n9azwibg0q5SUdEOJ1lD1t82DNHItXLV7YzworBKhWJXRDh1F0BB1jN+PzFuFOniLQ1B/UirGSEQ9YGmfKGC9AwE9qofKTxKjVu1qSUphX5b54Rrk8layLCERcmtx63y5Ku2W4k0W2JcFucG4twoxIWVRlhlXujx4twGxlhsy5zh0BHPBrG7yrH4TfiCjgzny/pvdRMhOsyp078qVKT2h9d6m5VPLPpdPEoYb+LcocfoyuAPe5QVRrR8YywksFXyjHseN3KHmqcMda1Mh6nob4uOXXEYlvzivTQY+eOwhe8dCEEhED7BHJShMMea+sSHA0T1pVS2vRoSqXezqnH7bU0OL8zfbSRR6ndNIUaHxnVWREOe7E6oti9NlCEOJ6RdaUGVfn3TE1hLOjCVh7B0kppRNsZYS8lmXrN2lMzDJkH8hrfurfijFpxKg++KS4e8BDQW7A0Oa6ocY1wnJCnHFvMlsmcd0SEmxy1FgvispUTsbSXEVZup6qtEe5AvWzTspIWjiRWRKHMGcLk8Gey923NobEI196iT996jxF0llMetaZqVwnYsXgNuDKCGA/78EaMinM3vlhoTYSbXDg1qilPyaYfsz99kRMLOikvj2JV9lKmRtjkSdfsxsNKjTCpEh2lRrjRGdNtlkaEsITsKHfT28pAm8JOjN5S/C7locM4YZ+Dckcp7tSt/sxDZkpZSypQw5+2ODcUYaV820p5xKqiRriDe0OZv7MYn6eMkhbe792dETYrFxmt1Ag7i92Yy/0YHc7UMwdhjw2H34w7dfFaz7mZCCtFN04TVi8oD6VZjBAK+IkZHThMEZzmcvxGB06lxj/swebwY3YHsRd7U6UY9fXKLnyhWDrL2uBhOUVKlQtzsyOE0WLHXFZGWaPPm6alEZkEhd6Cw6bU/LtxuILElIywsxh3a+MxhtMlFKVmrGVlWCxGoq3Nq8TfwvnLcakRbt8PpIUQ6BMEck+EW7sFlrmVFvWYsOnc+GtPg0gto/KQnBGfsYWD6FOCqtweL8bd8OzU9kS42TnCYPP6KXZZCFv9qYcxUllfixMcntST1nW3MlMnPVjRuXzpB+BaqHNtW4QbnhrR+JZoq6dGxPSpL766p7Ebbe9WTo1ItemICKcec8/88Q0oKbNh1bnwlXrxlOnaqBFOHanR4GSAMmxWHY5YmcpTIzpZGpHaGul66HT2OwOl1Tnom5zKEcXvKMfpi7RzmkExJeZynI5M1jQawuNy4Kk9NaLchr2F00miIQ8uh6fu1Ihym73uVICo30G505c5DcRCsSOIofbBzrpTI+KUGM2pUyOU0yZUZ4SJEXAoDzzFsHoDmVMjWmOslCg5cCinhOiN2MpNhBwRrKn6cogFHFgdPmJWb/OH8lrlHGvygGaUQOrUiCDxEjNmYxRv1KLy1Ii29kYYb7kNZ9CAK2An7mithr15ec7RKI1Q/piI8mCozeVLn9RhKsbv9WPI/EGN5qdGKPuj8REILYlw+pQYJ06Pj1C0OLVHymvLblo4pUHZm8qdktp1VtYgdXJH7QkWTUSYWBCnzY5yyEeZy4ej0R/MaKFGuG4f6DBazJSEPHh1DvzKiS6tjkf5qLFhcwSI6u14/UqCo5V5xVvICEd8cmpEn1AcmaQQaJ9A7olw+3Pq3S2a1TL37unK7IRAUwIpuVNOaKh7IFAYCQEhIASEgBDoHAER4c5x675XiQh3H3vpuVsIKEeTuVHOsy1BFw/jKVeOAay969ItQ5JOhYAQEAJCoJcQEBHOtYUUEc61FZPxdplAgz+80eCPPHQ5rAQQAkJACAiBPk9ARLjPbwEBIASEgBAQAkJACAiBvklARLhvrrvMWggIASEgBISAEBACfZ6AiHCf3wICQAgIASEgBISAEBACfZOAiHDfXHeZtRAQAkJACAgBISAE+jwBEeE+vwUEgBAQAkJACAgBISAE+iYBEeG+ue4yayEgBISAEBACQkAI9HkCIsJ9fgsIACGQmwSiQScOh5dgVI/J4cLVwl/ny82ZyaiFgBAQAkLgaBEQET5apHtLP2EPBnfDP1tbO7E4QaeTmNWBWd/KZOUM5BzcBWF8djsufwSrN5T6U+HKjyKhfuxYjS1PSfkTvhGTvfW90FUSceXP+EaxuMsoIYrP5gC7m7LW9l5X+5PXCwEhIASEQK8kICLcU5Y1HiUcDOIL+IgbXTjMxQ1GFiMSChL0+/DqbfhqbSStJASdDhzeINHiEoxmOw67Ec18oDURDnuxOHW4PGWt9x32YPKV4rcb0XWWe1ucokGcDif+YARKzJQ7HVhKMz1F/DidLrzBKMVNf9faWFLi7scccNF4OZR/j1IespLxws7Opse/Luy14Ija8dgM9WsW9mD16HE6zW3sszAeq49Stx1jpxe7bTxxqBuTchGGrSt9tf8ec/qDRCjBXO7EYSnN9B0n7HVgd/uJxPQYLTbsdjMlPX5lZYBCQAgIASGgEBAR7gn7IObHYQuiKzNRGrIRMAZw1ZlXGE+Zi6ilDEPUi73YTqiBCEd95ViCZXhTUhLFb7fgM3pxa5Uaa1WEW8sU1wMOe8oJGt11WcUOo2+TUxRfuYVgmRenkpKO+rFbfBi9bsqKgzjNXko9TspKdBD1YTOHKAs6MLUlaSLChD0G3PrG+9FrdVPsanJx0NJihpyYA2b8NkOHl7ojL4j4HHiKbThMDS8eG15HKtnjACaXHWOLTTr/Hov4rNjD5bjtRoqJE3JZceodeC29/RKpIyskbYWAEBACPZdAHxHhGH6biZAliD2Tnor6rFhidgKNsqthPAYLribrZWtwSzj1q7ALi7MYhyedEUzJaNiCz26i0fdsSqTsBBrFM+FsmmFs8Pvm4lH/y5jfhila3kCE0/MKl4ew1X7vhl0YPAYCziZjoWnmylGXOU71WezCFHSlboHrjBYcDjvGVFo5Tshjw+4KElcyqWU6nCEjAZe58VwbzTGdpa7LoNmcOMpqM2jN3wypedkbU8LkbLOPlgTNY3Cjr2ObZhMtD2EtDuINFlNWN4YGv2vLV9SKcDyM12HH7U9nom1OJ6ly1dRFQzEuUxCXy09EZ8TicGBPg4WwD4fTjS8URW+0YHfYMWV+FfE7cbrS9a9GS/1atfpR0mgMRsw2B/ZUsOZzrd9H+vT7wugg6nGAraHwpl9Xvyw2vEoGvFFWP4rfZiFQ5sOZktAQTpOLEreHtAeGcJn8GP3NM7Vq1zzqt2EJlOHL7OeQ04SrxI0nI5pRvwM35TharcdRELSS2W8BZvP3mLKMjS8G6tuUEPb5iBktmfdK7Zq3VDrUc78EZGRCQAgIgb5MoI+IMMQDDoxBM8HUbfl09jBmC3Q6Oxl2WXCVuHCbQtjKApT5nLSWkOrIBuuYCIfxmNzova76WsxWMrZNM8c+m5mAOS0+Sp+WgBW3y4axOJ3VshU7UhcJqS99vwmfs4wSnSLF5VhDlnYk1YozVo7LpmTJ0lnqoNmPo830a0coNZcTRfgCdgt+k6c+I2wNUeZrLmHxsA+7M0Z55kKm1Z5ViXAYr7WckCWdiY6HvdjKo5QHbBiUtbAEsLpd2IzFxEMurLZiHAErpbEAdosfo9uRylLHQx7KnTrsXgslQSdmtx6320qpLkbAWYa3tK0sf+MxEAvisrkotnuxlrYvwk6dA7dyO79Y16xkpel+VEollIsmV614Rv3YLCGsATs6jwUnDjx1F5dK3biRgDmEvdNJ4bRsh6wB7DoPFif1F6BqJFhZ3C6KcCxgx+I34am762IlVOaru6hucKlK0GnDZ3RlLgw6tqeltRAQAkJACBx9An1GhIkHcBiDlIXsGJQvxjJFVrpS46lkv9xESiMUKxKUDQtOJZSa3opuKyOsZLAbZkHbykjFiVMvOkqmzZzJLjfrs06mjYTsJoKWBiLT6sNyteNsQc5jYUKxEgxKWUKWflrkFAvgsNrwRZRODFi9bmy1NcIpH6rNPBuxe1319cOtjanFjH5t4wYZUmcx3rra6AbiSdNykfr1MobsmEJWQnWp/DiRUIRig77jzJUsbaMx1F74lRGyl9RnxjPZ76YZ4UZ3FJqwaMxZudgwEbI2uAORuSNi84MubsTe5OKirf2seitEfZSnO8Bo92QuXlu4e2PzNiobSl3gNb29o3TapF3DcbSUEU5dZDms2NIbC4PVi9vW8A5H/VhKylx4HE3vxqieqTQUAkJACAiBo0yg74gwcQIOI8GyELa4E3O4rElZhEJeZWlEZpGULKvZY8Lrs7T80JTmpRHqM8IQwe904lYe+IllJpARgrZEOFhbXlBXetFOLXDqgsOHsY3yj6Z7XO1t8oava7E0wqo8MOXGatBBPISn3IXOXnubvsGrG9YPt/VUoZqMcCrr29y2zK4ATr2vyQkb9SJc4jdjibsaiVt6hE1LEjLjLrbhbe3CraWLkwYXM03XsKkIp8pHWikRaSrCdeUmjdqHcBmsxFzBZln/hhdczYSzA+UwIZcBa8xF0GHqwIOWceLKE3XKepcFMPmc6TsnuuaZ79qxtVwaYcWJDbdVeZUZSagAACAASURBVGAwfVfEpbPXlWfUzyv9O1vMRkDjuuij/D0h3QkBISAEei2BPiTCEA86MQYMOHESLet8WURqNyjHN5X5iBuCxEze+lvFXdwqHcsIt5ChCzkxeI3NaoRDLhNuvRtX5mn3hl/4mmeEaZyN7iKi1MtbGrPJVYzXXX9qRdhbhlPnwmOMNqkRBkWsPKUNa2JbGJVKETa59XhdLZyg0ExQ28oIK3sqnsp6tpR1bZNZqxlhpRSolECTi5muiHBLYwt7rTjDJejCxdi8tkYXhVnJCIe9WJ1hSnRhim3e+np4tRupS6URysWmi2Llocvai6awl7LUCSlm4k1rhJXstTmGrQ+cKKIWv7QTAkJACPRkAn1KhNMP89jwY8XdpbIIpfbRjNfgxWWKpITY4Mlkm7q42h0T4cyDek1OjfCbfA1OnUhZe6pW01vqx6V8m8fD+BzlOErdqYxk6yJshs7WCNdl0JQaYSsBc/bKR1oUYeXCxOyhxJ0peUhlhG1Ey/3YS/yUW4KYPel6XKWG1lnuptTpoUw55yoaJqwrpbTpiQJqRFi5i2B1ErU6Mw+nRQl4AugtFkojrZdGmEnXCJsy+yYeVmqESZUW6JWaVK8Bl8uCUtmh1DR7I0asZj2xcIhYiYHGVSZNaoQzc1dq4JXEZNhjwhFz41XKMJS1t1twGJQygvTDcuozwtCsRliRVEcUu9cGihDH7VmuEVbm5iBq92JDEeJ4s/KLdt9yXRLh9HvdU1J7EZnJ+kbLU8cAhl0mXDgz9fBxIj471rAlc0RgnEg4hr5U34EsdruzkQZCQAgIASGQRQJ9TIQh5DRg03tbKIvoANWQE5OrBLcnXRKhZNjKAubMEWYdiNNC046KcO05wrUnNBitDlypW7hNflJn7DpS5+jqjTbKTSEcESshu6FNEVaOhAp77dicAaJ6I7ZyE6FAMQ61p0boDJSV21OnRmTzp0VOYR9Olzs1R/RGLDY7dnP6RFdFJp2ZExqaniOsiKJN58bf9MgrVSKcCl53akSsYb9tZIRTp+PVnRoRp8RoTp0aUXugRP2pEcWUmMtxOhQpbuO0i1ZPjVDGF8Jjs+NKrb0Fa2kUZ7Fy+kjHRVg5CaP+LOj0Q6dhqz/z4FgYT/pptvo6XpOP0hZOjVC7F9Insljrzp4ON3sgT20kde1arhEO43O6cCtnddP0rOAoAacDV6rkqMnvlAciywKYfY6sPEirbgbSSggIASEgBDpCoA+KsIlQV8siOkJY2gqBrBFQbtN3TSy7PhRFfp3onGrOEXZhDpg0P0e463OSCEJACAgBIdBXCfQtEVb+kIItTrm3lYfb+uoukHnnBoGwF3vQgLO1J9uO1iyUvyznK8HV9NzsRv2n/7KcwWOn0yenHa35SD9CQAgIASHQZwn0GRFWbn8rdZcOlyv9xw7kRwgIgU4TiAad+LFjNbYcIux1EjHZ68+37nRP8kIhIASEgBAQAtoR6DMirB1CiSwEhIAQEAJCQAgIASGQiwREhHNx1WTMQkAICAEhIASEgBAQAl0mICLcZYQSQAgIASEgBISAEBACQiAXCYgI5+KqyZiFgBAQAkJACAgBISAEukxARLjLCCWAEBACQkAICAEhIASEQC4SEBHOxVWTMQsBISAEhIAQEAJCQAh0mYCIcJcRSgAhIASEgBAQAkJACAiBXCQgIpyLqyZjFgJCQAgIASEgBISAEOgyARHhLiOUAEJACAgBISAEhIAQEAK5SEBEOBdXTcYsBISAEBACQkAICAEh0GUCIsJdRigBhIAQEAJCQAgIASEgBHKRgIhwLq6ajFlTAslkUtP4ElwICAEh0JcJ5OXl9eXpy9x7GAER4R62IDKc7iNQK8CJRAKR4e5bB+lZCAiB3ktAkeD8/PzUBEWIe+8659LMRIRzabVkrJoSUORXkeCCggJN+5HgQkAICIG+TKCmpiYlwyLCfXkX9Jy5iwj3nLWQkXQjgVoJVj6gi4qKunEk0rUQEAJCoHcTqKysTCUcRIZ79zrnyuxEhHNlpWScmhJQRFiR4OrqanQ6naZ9SXAhIASEQF8mEI/HKSwsTMmwZIX78k7oGXMXEe4Z6yCj6GYCtSJcVVXFgAEDunk00r0QEAJCoPcSqKiooF+/fiLCvXeJc2pmIsI5tVwyWK0IiAhrRVbiCgEhIAQaExARlh3RkwiICPek1ZCxdBuBWhFWatcGDhzYbeOQjoWAEBACvZ3A4cOHU89iSGlEb1/p3JifiHBurJOMUmMCrYmwz+fTuGcJLwSEgBDofQQee+wx5s+f3+LERIR733rn8oxEhHN59WTsWSPQmgg/++yz3PDDcoZNH521vnp7IP2IMUzMG82HGz+mcJCcwKH1ev/sWhs//eXPKJ45VuuuOhxf9kKHkfWKF1xx5iVs+GQ9r7/+uohwr1jR3j0JEeHevb4yO5UE2hJh+9P3YLj9fJWRpNnQSh37H1nNvq8OZNg0uYDQekeYN87i10/ex6mOr2rdVYfjy17oMLJe8QLDrgksfeY9EeFesZq9fxIiwr1/jWWGKgiICKuApLKJyI9KUFlqJiKcJZASJmsERISzhlICHQUCIsJHAbJ00fMJiAhnb41EhLPHUk0kEWE1lKTN0SQgInw0aUtfXSUgItxVgvL6XkFARDh7yyginD2WaiKJCKuhJG2OJgER4aNJW/rqKgER4a4SlNf3CgIiwtlbRhHh7LFUE0lEWA0laXM0CYgIH03a0ldXCYgId5WgvL5XEBARzt4yighnj6WaSCLCaihJm6NJQET4aNKWvrpKQES4qwTl9b2CgIhw9pZRRDh7LNVEEhFWQ0naHE0CIsJHk7b01VUCIsJdJSiv7xUERISzt4wiwtljqSaSiLAaStLmaBIQET6atKWvrhIQEe4qQXl9ryAgIpy9ZRQRzh5LNZFEhNVQkjZHk4CI8NGkLX11lYCIcFcJyut7BQER4ewto4hw9liqiSQirIaStDmaBESEjyZt6aurBESEu0pQXt8rCIgIZ28ZRYSzx1JNpN4mwslDe1n/t4VsXV4BukFMtJxDyelDyFMDowe1qdwYIbpuEOPPG01B9R5W3L4A3VfPZPqFo8nP9jgTFWx87AMiuybzpTun0y9b8asq2PXxdgqnTaB4ZKHqqCLCqlFJwx5AQES4ByyCDKH7CXRahJMJKncforo6mZlEHoXF/Unsi5NIQsHwIfTvn2tf4V1bD1UinKwmvuNwipHyk9evkIJCqK6ohoICioYPpLCwb3HrLPXeJsIpDvs38eFNb7L7UH+m33IZM88vVi3CyZpq4hu3sem5pWxetZdEMp+8giKKxg1j1KmllFw4iQGDFalLkogf4eBn61j/7Ep2R4+Ql5dHwaDBDDNMYeIlxzNyTDWRZ95h3StbOXIkQV7/IoqGFpFXU0P+sGL0X53D1PMn0X9QQd34kpVxdr0e5OPnokz+8eUcO3cg+VU7CF75KgOuu4TZVx2TfRGuOcTa37zJ6m0zuPAvJ1DU2c3U9HWJKva88SHLntzKpJ9ezLS5QylQ8b4UEc7WAkico0FARPhoUJY+ejyBTotwooJt3mV8/tpy9u5JUjBpOif99ASif3iPyjGjGWc9l0kTCnr8/LM5QFUiXB1j7X3vsSG4iXgcii8wMnnGEVb/fQOjL53J5MsNFA/Let4sm9PsMbFEhBsvxf7gEpb/5WP2VYxk5g/OYtLckfQjTmzJp3z2eJixt17E9JNHkzi0j83ehXzy/AZ0htmccONcRk4dwJF1m1j7yPts7XcaF957LAVUsvU3L7LsvT0MOsfAKT8w0v/ALiJ/e5/P343S75STmGM7nREj0hnT2Hv/JfTH1Qy54XLmXJTJ/uaqCCsTqq5g84Mvs3JxPjNuu5App48gv51rVBHhHvPxIANRQUBEWAUkadL7CXRahFNoatjrX8gS1yqqio+h9HYDhz+MMuHaU1O3E6s2bmXN3z+hwHw2pYYBqmAm4wfZPn8JXwT3MWzu8Uy/5liKVHph9a7tfP70UvbF+1GQ358J3z2TMaPyoeoA2xZsYqBhBsNGqb/NmYztZMP7MUaddyyDVQxflQgr1PbtZs39b7F+0W4GnzKLCTMK2D9sCidePoHC/ASHAktYFTjE5O+eydjx6m72JmLK3Bexc7OOklvO4JhJg1TxpqaafR99yrp/fUFy6BAGHDeZ6RdPpX+/JPH1G9m2YyBTvjSaw5+tZ90Ln1GpG0TR6FFMueoEhgzOp2pHlOhnR9AbJ9Kvv8qFAhLbN7J2YTUTL5vKwP7poR5euYK9NRPRnzicAhWhsiPCSaq2beOLF1ayZ2MF9C9CN2Esx1xwPKOnD+h0BlPtXlDeQxWfrWfN859xOF7IcMNwdry4iv2Vuo5lhKv2snzeP9m0oZoh3/oaZ147ntrL0GT1EaKvLyc5cwbjZgxlf3A5yx4IcvAATLnneo4/dVA6q5tMcPC9JYSWjuZLP5rSggifwZCBcGTNGpY632XP1hr011+O4X8nUpjq/3k27Z+I8Q8XMGpMJjfbUISvGMDau95lT03t1hzI2Esmsvf11VQmYcIPLmdik4vnxJZPWOxaSyLzkgFnnMus0/YT/luIg3vzGHneXPjoI9Z0ICNcvWUjnymv311D/pgxHDNjADuDG6jqN5BjLjuViSePID+z/2rWfsDb3w/R7+yTOf0HpzJocNsbU0RY3ceOtOoZBESEe8Y6yCi6mUDXRBgSB/ez5g+vsW5BjLwBA5l6+9eZeeYw8klyaNEKPn4wSMUZZZx/69g6qUgmEySOVENhv0a3G5OVFWx67j12LI8SXXmIUed/iTm3z0GdXyXZ+aiHj94ezpx7vkLxrjDxUgPDk1FCP3iFmku+xpyrx1PYoSR1DbEX3+LDFyqZc5+ZseOLyGsjI6RefqBqzQoW/OR94hUJCk+YzZd/eQZDhiqSfoTofa/w8eIjTPl+GTPPrq8RVW59V1fUUDCwiPwGqamarWtZ8lCY/MptbA8PZNbDlzGldJiqnVW9PcrKe19ly6G5nPfQcRyO7GHojPHUrFnJUvdGptnORz+pgHXOv7F63XTO+6uJymVr6DdzGrp9n7P4l4sZab2YaWcMbzdb1nhAVex65EVWrB7LnDvOSl041ezazif3vkvhxedy/AVj242XDRGu2rKZ5c5/E10TZ9Jt32DWOYVsuf8lvuDLfPnO6ai/bGo8O7V74ci6zwnd+xY7N9cw2mJi+N71rH97IzVFQ+tE+PD7fj64fyPVLaxo/tDRHG+7gGOGreDtm0JUM4BjH7iamScMbnH9lT205R/zWfG3zSQo5pTn/hd9cWtbpWlG+AyGDMojEdvGx/f8m20rDzL05BOZ+4sz0W1ZyNs3ryQx80TO/vUZDB6WeaM1yQgTj/Hp7c8RWVvNwLIr+PJVBax96jP0N57JqGEt0z64+L988PPlVI6axbl/PYdBeQkOvPwWy498iTOvLuxwaUQiXsGB4PssvHc1FOoYfflcps46yIp7VlAxZiZnu89l6MDM+A9tYeHXfewbMolTH7iAsZPbviIWEVb1sSONeggBEeEeshAyjO4l0FURTtZUst27gOXPrqFaN5hjf3w5008fTl6ymoPL1rJ50S4KTprDsWcOrq8lPLibTx96m+qLLuKk0+q/hZOJBDUVlVQuXch/frO2kQgrv0tU1qCMt/FPHvlFhdRs3spa5yt8vmM0x37jRMacfyzF/Q+w/sE3CS8eyBnPXoxue5Q9nx8gmZfPwCnDIbqHOAMZPnscA4bW1zo2il+5l5XWf7B35snM/dGpDB7SekZIrfykkm+Hd7HqlpeJbK5EN2c2p9nPYGhxATV797Hrg7VsX1+D/tI5jJ7av45bzRdLebN8BSd4rmfSMfVGn6iIU11QxN6nn2HxC/mNRDhZXU1NVW0+rcHM8gspKIIDgY9Z+UiQvboTOPn70ymeNY7+ByMs+f6bJM85C8ONx5EMr+OT+94mWjWVOfNmMuzEyQys2c6KH75KbMyJnPLzkziycjOHD9SQP3gYo+aMIbFmA3v2KxnOcQwc0kpWO76TpdaXqT7/bOZ+ayb9CqvZ8c//EvpHlOn3X8nU6W1nw7Mhwrve+A9LH/6MqoEzOfufFzC0QMlWr2V9cChTvza2Lqva0Xep2r2w89W3Wfrn1VQPnsk5z1/AoGiY925bwMH4wDoRPvLJUsL+WMtD6D+E8RefwPD9C/D/7HNgMMf/5UqmTlXuCNRwKLSBPTuOpF5bWDIe/dQBbHziBVa+tAcYy5d8VzKyVbdrWYQ5tIPld/+bTaF9DDxxJnN+fh66D17mnYei9DOezNk/OY0BgzLvk6alEckE+z74mI8fXszBff0YdcE0hp04nZlfGU9+XpLqw5XUVNUW0OfTb0gRiZ3b+eSXr7D5izwm/PJ/OXHOEVY/EKJ43nkcM7RzNcI164L45y0lOWYic++8gHGl8Mm3niISHcqJnmuYdEwmo125k0XXPM+OiqGc8NDllBzX9gWmiHBH3ynSvjsJiAh3J33pu8cQ6KoIH9m8kTUvR+h/YCtrFuxBN+t4Tv7pGRSPLuBAYCmhvyxmf8mlXHzfZPIqjlBZUU3y4F5WP/IeNaZzmXXyUPIK+9FvsJLlTGOJL3yLt+9pLMJVX2xmjecj9sYai3De4CFMvu5s9KMO8cVvnmf11mOYdeMpjDGOp9/GtalbuLuHn8tFrmNJbN9JxPkqa9cXMbX8dPq9t4Lqy89l6tyRFA3Ib+WhpGp2/tbDopUjOemurzBhVsuZNmXcauWHRBU7fUHWV4xm8JL3iIRh+BVmTr9xIvmHDhL9y2ssC8SZ/N0yTvjaCBL7D1FVDTWR5bz7s9Uc99CVjNfnk6cbSP+B9Snq7Y/9tYkIJzj46n8JvbOj2X4rnHk8c28opWr5p6xwLWD3wFM4w34sgycWc+SFV1nw991M+vZlnPD10VRHNvPpPa+xuXImX7pjNoMmjyKx8L+89/BKhpgvx3jTGA4vXsIHjuX0N83l1FtPJbliCV+sHMr0b85gwIDW0vBVRH72FKt2TOXM+89h2PBCKt5fQvDBxXDaVznrpyVtZmSzIcJb/+Zl2TO74ZgvcYFnLroMqWQC8lSUZ7T2Rla7F7b+1cuyZ3fDuC9xwVNz0e3byAc3vcmewx0rjahZs5B/37KCGgYw46GrmXG8sk8THInsZNurb/LJ/AMM/LqZc2+YxOZn/sWKv28lyXBOff5axrbqdi2LcHLfVj7+9VtsXXmQIXNnM/cXZ1Hw1j/5z593UnTGKZx1+6mti7ByEVh5kI2uN1n5TpR+00sw3HkhY8b1I+/IAb7464dsDu0l9S4fPJ6TfnY6QwdVs+mJd1j18gb6lZ7Cyd8azOfLCzD8v1IKOvmwXK0I50+ewpw7LkBfkuSzbz/O+i2DOf7xbzB1Yq0I72bJtV6iBwZx/P1lTJ3davo8tRVEhHvMV5sMRAUBEWEVkKRJ7yfQaRFOJqg+HGfbE34OHnc2x55yhNB3fUQPFDL6uxcy95JJ1KxdnRLRveMVEZ5Ihe89Pnh6NTXVSRLVNalTEpRb/AUzj+N0+xkMyxxT1JIIJw4dZt/aHRyJNxHhfv0Ycuw4Bg5NsOUXj/Hx+smcdvd5jJnWn4MfLmfZ79/n4EllXOTI1EzGvuC/17/OviIdQy7+Kl/+zjEUkCR5aB9fPPIWq988yPR7yzh27vC6xY/99Wn++89CjrvjIqZ9aVSrm0KV/CQTVIQ/59OXtzPtltMp+GQ5S38b5KBSE/rgtRw7o4gDT7/If30HMyI8jJ0/f4qly2tIZcWrEuQVFabKBorMl2G6eVxd1rK5CEP11u3s2ni42ZgLho9g5LFDqdm0meW/eo3okHO5+OHjMnWhL7DsoyNMufkKjjcXk4wfYvVPnmZ9/GQufvR0Cqhm19Nvs8i7nuHXXM3pVuXBqMOsnedhzeFpnP6bc8j/8B0OzP4Kk2f0o2bPTlY/9DaRRdWc9I/rGT+ifjibXU8SCgzj1D9fwtjxOio/Wc4Hv/mAqpFzONNlZEAbtQnZEOFt/3yZZY9vJTnqZM57xohyXZGsrqKmKo8CXWGbpTBtfTqo2gvAtn+8zDLPVpLHnM4FT51C/9hG3p/3JrEGInwoUxpRV1rboOO8wenSiImzK1h67QtED8DwW6/ijEtG113Y7f3n33n/8b0MvMLMed+bwt7AEj5+aDGHj+RzrOvbzDguc9chmeDQ8rV8ES7kWMs0+jd7WC5dI1wVWc/S377Dro3VjL7iYuaWT4UPXuXNX22i8KS5nPPz0xgwpOXSiPxkkpo9UVY+sJBty3dSwyCm3HwBx108nvzK/az+43+IfLgrLcLDSjjt/nMYMbIf8eAyPrz/IyqSRRSfOpOx55Yy7fTR0III15YQKXeK8vsVtLiGdSJcMoW5dyglD62J8DaCV73ErsQIDA9eyoRjh7T5pSAi3Pu/M3vTDEWEe9Nqylw6TaDTIlxziMgTy4jtr6Rg6gTG9YuxafXBunEUTDUwffp2ltWJ8GTy9u5n3/bDJA/t54u/L6LmjDM4dtYg8gYOZMi4wXX1wi2JcM2uGNuDX1BR0WSq/fsz8rQZDNPD1iYifOijFSz7/X/ZX3o55t9MTAtjTQVr7n6edYsrGa083f71sRSS4PAHa9ixbz/rXKuY3EiEE+x5/K988Gp/jr/rIqae1sDimgxFlfxU7yLsWk4cKDKdwsjwUrZFM3LfbwBjzz+RAcHXG4jwCGq27ODAgQSJjWE+fGAd039xCWNHFlAwqpiho+oPjGouwkmOrFjH5gbrUjvkfP0xTDpjLInNzUV4++9fZPHCCkrKr2DWJcNbFOE9z77DR8+so/h/ruL0G8ak6r/3/ecdgvdFGPP/TqJwfZJpt5/KwH4JDr67ii2f7yTy/GZOaCTCCTbd9xTLPxzFqf93EWP1/TmyPMQH9wap1p/OmQ/MpdVkMpANET647BOW/e6/7N9fzEmPXcEEPex9STmOq5STb5mh+kHNpm9AVXtBOS3tw49Zdt+HHKzSc/KjX2VYdBUf3LOIeM1gps27lNILhnNkVfulEaOmDyT25rt8/PhqKgZNY86dRsZMGUR+1RGiTz3PslcOMvjqizF9ZyqJvbtY98QC1rwVZeg5Rk66YRZDRxdRuWUbax5dRMUsI6dcoxx11vzUiAHKg6cvBfnsxfVQMoXZd32FY47pB3vDLLz+HfaPPZ6z7juLocMzVzBNSiPyaqrY/upi9gycyKSaT/nwz+uoGjOFufd+Bb2+jVKYwztZaX+dDasPUjBlOqfcZWL0hP4tinDNmgD/vnU9E248j+OvmEJBC3X9akU4uTvMu9e+w5FpMzjdcQ4jah8CbOUTV0S4019F8sJuICAi3A3QpcueR6DTItzuVJLEV3zWICM8uf4p9lZqhGtDtijCO/ew9d01HDzYJCOsG8CYc2YxfHxeMxGu+mI9S+79D7vzv8SF7tkUkeDQv99jw94RHFm0ki3r8yj99RVMmz0glT07FF5B8AdLmdRIhKvYdtfjfLx5AnPv/Ar6Y2tvnjcHoFZ+2kaXIPb4C41EuPZ7vLUa4dp4LYlwfFmYL0LN60sLJ0xkynnjSSoPizXKCCuM/Lz78FYmfuurnHD1OPKaZYSTxBd9yLu/DjHkXDPGH01NlTAopy+s/OWrRPcWMd52NSd+uf40gh1vfMDHD3/eRIQrWf/DJ1hTPYuz7lEesMrn0LuL+egPSyg0X8mZ36t/wLIlZtkQ4WS8gt3/Xcna51dxuGg4Q/U68gePYOLVcxit3K5vd5+33EDtXkgcOsD2+Yv41LuWvMnjGT65kD0LNlARz2Pgcccxx34aw8e0vuca9q48BBZbso4N8z9j3/4CBozUkZdIUhOvRDd9MuMuKmXsFKV2OEn17j1sXxBm44JNVBcMQDe0kGR+IYNmlFBy2XQG9jvCNv9iPveuJra7ioKRwyieNpy8isMcOZhg6MkzmHTxcQyfoMs8BFvFRtcLrHw7j9l//BqTpmQKj5ucGrH67oVsj+xGd/FZlB5ZyaLnt1BZk4fu+IlMvuxspp83rBXmNex/xc97/7eRkRd9CcO8kxignFPeLCOc4NBLLxJ4toqZtouZdubwZhnh6m1KmdVCPg/sSV2Ej7jky8xgDSte28CheAFDDJOYZruICcfkcfjfb/D/2Tvv+LbKs2Ff3oqzlEWU7SzihJAoCSEKYYhAQVDgNV0IKKDC21YttJ/a0lZdb0ULRVAoaoEiKAUVChWriC3CEiNgVqJsZTtb2Xac2PKSv9+R5ETesi3ZsnPrH37E5zzjep4jXec+9/Oc9+7bxSnfOpfZ355Gbk7bM0JEuJMXjJzWIwREhHsEu1SabgRSJcLKDhAld/+XdR+WEiafibd+jelfUXaTgPrWFsvVVrPnxQ/Z8NwmjpbVkpmfS78Zc1h4xxnHczdb5hem4s33WPqXAFVkoxo/kfkPXsTgrEpK7n2D1e/UcOaz/0PVfz9g5bMbGXnJArJK1rBrzVEyBw5l2k++wsRFw6lsSYQr9/PFNc9RvWAhc346h35t7NifqPy0PgfqqV69li/v+IiDh+rImzqDeb85i6GxhTutLpY7vIsVty/lwKb9VIUg55SBDNbpmXfz+HbetFXLbsfzrHjjIHWoGL54Dtpb56IKH2DZNc9RtUjHnJtnEfqPh0+fClJDLv0LCznznnPon1HG6u89w/5BU5hnX8wgxdVqKtn26DuseSeXs5++iEENrOrDtCjCR3fzybdfR3XVYk7/liLT1ex5+kNWPFuK9smvt7GbQZRgMkQ4Vddj1+dCqlqWunKVHThW3uHl4KhFnP+76dG5l8x9hCt28vF1b6E2X8n0r8ReNNJEhLMPbufTm16ncvypzLtjMYPbzmRoG8aRIMt+9BqH+hVwxl3nJ7S/t4hw6uaXlJx8AiLCyWcqFw7wSQAAIABJREFUJfZCAqkS4XRBET6ylw2OpVQWzKbwmxPp16/1FVBNI8L1VcfY+99itgRymXbLQoaNaHszrb4kP1Vb1rP23zsZcsU8CrQtLxAKH9zGmgfXknvWHCafkUtVxkDqiv1sOjaKuV8be2IKtCDC9RVl7HzsA4LhMRTeMJuBg7Oo2rKZ9U9tIP+ShUw5o+1FSSLC6XKFxbejnurtO9n05HLq5y1iumFYUt4sV7VrO0crhjB4RBlr/7ACze8u4ZQhDRv9xu8acRrh5atY8cJ+xn/vHEaN78J75mpC7Hn5S3btyWfK9bNQK9uJJPAREU4AkhySNgREhNNmKKQhPUmgr4twhG1VJWVbj5A3fgSq/JZFWFkAtOnV9Wx7ZQfqS09n3Fe0jJ5Uz+EtR+k3cUSbAt0wfn1JhJWXK1TvPUx5KI9hBa3vlFF7uIzyQ2H6V6zD/2oN/UfkM/KSmQwfc2JPrqrAWgLPBti19CAjrz2D8edMZ/iIEPs3VTN4+nDyYhtFVwf3UFE9kEFj+zfaJ7m160Miwj35zdFG3dUhKo9koBqeR0YSIsLlxR+x6vlD5A7KRDVvAYWXjCC74TJumhoRrqW6KjOyC0yXPuE6qsuryRqgIqulJONWChcR7hJ1ObmbCYgIdzNwqS49CZwUIpwA+sh+u9Vh6sP1KFsyZObkkNVOPmDTYvuUCCfArFEsUHnZRyhMRlYmWXnKSv0TuZSRXRiq66NsszLJzMlu9CKVDlZ1/HAR4c6S68bzlN1ljtWQkZtDZm5rWxS23R7l2qytUvbMUHbyyCEzXkyVXSiqagiHs8jOb2Uv8G7srohwN8KWqrpMQES4ywilgL5AQEQ4eaN4Motw8igmXpKIcOKs5MjuISAi3D2cpZbkEBARTg5HKaWXExARTt4Aiggnj2UiJYkIJ0JJjulOAiLC3Ulb6uoqARHhrhKU8/sEARHh5A2jiHDyWCZSkohwIpTkmO4kICLcnbSlrq4SEBHuKkE5v08QEBFO3jCKCCePZSIliQgnQkmO6U4CIsLdSVvq6ioBEeGuEpTz+wQBEeHkDaOIcPJYJlKSiHAilOSY7iQgItydtKWurhIQEe4qQTm/TxAQEU7eMIoIJ49lIiWJCCdCSY7pTgIiwt1JW+rqKgER4a4SlPP7BAER4eQNo4hw8lgmUpKIcCKU5JjuJCAi3J20pa6uEhAR7ipBOb9PEBARTt4wiggnj2UiJYkIJ0JJjulOAiLC3Ulb6uoqARHhrhKU8/sEARHh5A2jiHDyWCZSkohwIpTkmO4kICLcnbSlrq4SEBHuKkE5v08QaE2EX3jhBbZv394n+thdncjMzCQnJ4eqqqruqvKkrmfAgAEcPXo0LRnIXEjLYUl5o1QqFa+88gqvv/56i3VVVFSQm5tLVlbjty+mvGFSgRBogYCIsEwLIQC0JsLPPPMMS5YsYd68ecIpQQKKBG/dupWBAwcyePDgBM+SwzpLQKPR4PF40Ol0nS0iZefJXEgZ2rQuWK1W89RTT/Haa6+JCKf1SEnjFAIiwjIPhEA7IqxEhH/+858LpwQJKF8qd911FzfeeCNTpkxJ8Cw5rLMEFNn47LPPuO222zpbRMrOk7mQMrRpXfCyZcv43e9+JyKc1qMkjWsgICIsc0EIiAgndQ6I/CQVZ7uFiQi3i0gO6GYCIsLdDFyq6xIBEeEu4ZOT+wqBtlIjJCLcsVEWEe4Yr64eLSLcVYJyfrIJiAgnm6iUl0oCIsKppCtl9xoCIsLJGyoR4eSxTKQkEeFEKMkx3UlARLg7aUtdXSUgItxVgnJ+nyAgIpy8YRQRTh7LREoSEU6EkhzTnQREhLuTttTVVQIiwl0lKOf3CQIiwskbRhHh5LFMpCQR4UQoyTHdSUBEuDtpS11dJSAi3FWCcn6fICAinLxhFBFOHstEShIRToSSHNOdBESEu5O21NVVAiLCXSUo5/cJAiLCyRtGEeHksUykJBHhRCjJMd1JQES4O2lLXV0lICLcVYJyfp8gkG4iXF9byc6Nqyk5MoT586egyuw9mNNVhGuO7WXN6hKGTT6NccMHNAJaH65h37YAG/ZkMU83g/wmvMPVZWxY4adGPY3pUzRkZ6TPeHREhLt7XqXrXEjF6IVrytmyajlluRM5/bRx5KbRHElFf9sqU0S4u4lLfV0hICLcFXpybp8hkE4iXFdVynv/eYCH7n2AJVVXs2bNfYzPiaKuqyxjzYdv8MbStVRST456Moarr2Kept/xsdiz4lWefvVTjoTqqOs3gcuuNXLmhMF0l0unn/yEObxuCY6//IvnXlnGdx95hp9coY2buzUsf/lBHH9+hGc3zsG/7Smm5TX8uZ6K4BqefuQfPPmQk8Fff4Qn/3oDg7PSZ+onKsJtzSulN5V71/Dcf55n/cEaMrIGUHjhtzCePYlsoLZsI0teXcKKzfuorKolc/g0iq76JtrRJ+ZdS0TSby6kZtxCh7fy0uNOHnPcx8G5dt54/qeMUMBRz/7P3sD5whIONnrjeCaT517MdddejDqN5lKy6IgIJ4uklNMdBESEu4Oy1JH2BNJJhA+sewbHs4eYvPaf/Hj5OY1EeIPvcb7/h/f5heN3zBwUYsnff8/tbw3jpQ8fZtYAqN78OGdf+CfOtj7Gjy8dzYanvo/185n886E/M+eUmE2neDTSTn4qNmP/3b8YecmFfHTLd5l5dxMRPvA6lv9bzmzVWn7+DCzdEifCdRUscf+TNZmTyb3rSt48u/eKcFvzqu7IBm7/0f/ydN1NvHSnnpoVT3PVTx7H+MQy/m/hAIIvXM9Zf8zkoX//nhmDqnj31//Dw1nX8Nj9v6VwUOsml3ZzIUVzf9mbj/Lm1kFonryJB0fcFifCYTa57sD81n4Mc8Yfr33HS3ex4+zH+NefLmdgH4wciwinaKJJsSkhICKcEqxSaG8jkE4iHGVXxUc/vIBL3p7fSIQ3f/oyr5YMwPyNxeRlQeX6fzDjvP/HeU/uxvUVNVvvv5R5d1Xx4sp3OG8oHNu7hMU6Oz9+8imuPXtUtwxLuspPTfk2frbwIib+qWlEWMFSy6r7fsQF9x7hw83xEeEGZEd56sxhPHNm7xXhtuZV+dolXG+8mTP//SW/mjUIarbyI+1Z+BY+zeePnk/o87/j3P91rJeOjBRzxP8H5pn8PPifJ7hoeuM0k/hJlq5zITUXQgWvXTiK3w/4fSMR3v2eh5dUs/nBwsmRasOhlXx/VhFznlvBD2cPTE1TerhUEeEeHgCpvkMERIQ7hEsO7qsEeosIN+VfsfZhZp3/Wy7/70buW6Sm7DM7+qInuPE/b2M+ZxhbXryVb9n3c+9Tj3DhqYO6ZfjSVX5EhFu/warev4Lf3Hgja865H/dPFxDe5OFri3+E5vYPeOLGKZH0iIZP7ZFdvHbHN7gneDmP/u0XTBsc/9fGUyxd50JqLoSWRLhpTbVsffKHfOUZHUtfvJGR3fOQJjXdbaNUEeFuRy4VdoGAiHAX4MmpfYdA7xThKj65///xtZcn8cnrP6cgJ0NJIsb/+p/4wa1PUhrOpCJzAr95/HFuWDCBvKzueQabrvIjIty6CFNfy8GNb3DLdTdTvG8AmRlZnHPrX7jvpgsYkhfLLq85wivOW/nVfa9TM+F/+Me/7mbRuP60Na3SdS6k5psrARGu2MAvrryFAX96ld/Ny6V7rsjU9LatUkWEu5+51Nh5AiLCnWcnZ/YhAr1RhIPLPfz2zy/z9T/+hUsmq5WldOzz3cb5177A959+gx+cN4r1/7mFmx+t4/Z//IVzJklEWFIjWk65qdzzGb+88ftsOvc+/vOrc6ld/TzXXmljxp9ewf6NyY13QKjYw3/vuJ7bi0/loSfuYsEYSY2IfhW2I8L1YYJLH+XqB4/w/H9uZVgf+v5s2hUR4T48uH2wayLCfXBQpUsdJ9DbRLhs7Qvc/rd3mHn1T7j6nKnkKkG78D4e+Oq53FlxM8ve/REjs6Dm6Das555D7k//w53fXtRxMJ04I12jgBIRbj0ivPaNv3H1zT7+8cXTnDlUpewhwfs3zsK0YjFvfPgwhbm1kH0iBaLq0Eq+M/ebzL7/GX55efwOHI0nTLrOhU5M6wROaVuE62uO4P7zr1g+4TruvlaXQHm99xAR4d47didjy0WET8ZRlz43I9CbRPjwqqe54ccvc9XdDr4+V0Pmxof587KL+eXV+TxqOJc/ln2HLz76JaOyFRHezi90Z5Lzy2e5+7pzu2Xk01V+RIRbF+GA928Y/3cJDy1/joUjlC3RKnnnuhnc5D+P1z69n22//xmbzQ/wo8m5kTlUdWQ13z39Cqbf9yy/+toZrc6rdJ0LqbkQ2hbhiv0r+O3PHFz+6/s4v1B5gtN3PyLCfXds+2LPRIT74qhKnzpMIJ1EOFxXzeHgdt6zXo3po1m89c4fOU0znEH5uZRtfp8fXnsj22ZcQ9GMwZF+Vq/5N0vUj/L2fWdw8K1fcLb5Za6/90munzeSbW/8GvOjddzz2INcOnNoh7l05oT0k596Qof2sSu4iT8WXcf4Xz7I/xoWMGr0UJS0aghTtmcbxQ/9jmsfKee5jx5k9inDUA/sR2ZGPTXHyjlwaBfPXDab17R3ct8fruPU8aekzQsTEt1HuK15Vbnrc35mvpHV82/j8e+cQfWmN7jpu3bG/vAlnvzpBF694RJ+c7gI173XMEZVxeePm/nVh+N55JG/cd7E/ie9CNeGjnHwwE5eM87Hkf9j/vXILRSOGUG/nIat5erZtsTG/708nLvu/RGa4/tUd+YKS/9zRITTf4ykhScIiAjLbBACyrb39fXU1dVRXV1Nfn7+cSbPPPMM27dv5+c//3m3caou38NLD/2NT4IhwvWQO3Aslxuv5pwZo9mx8h3+9a9XOFDXuDnjzvsplivHk0UtW9538+z766msqaM2ewSLv3EV5542mu5aoJ5+IlzLlpcf55GP1xMK1ZKVm0uueiG3/uJKhkWe9lfytuN2vDsrqa0Nk9N/GGdd9A2+eu50cjPCHFj5IU/+9zW2lVaTmZVFzuDT+PGvbmRMdwFtZ+YlKsJtzavIzcCWz3A/72V7eS0Z5DF2waVcd9k8+lPHse0refWNd1m/+xi19VVkDpjExd/4GmdOGkJb74NIv7mQmsu4bOsKnnnqadYpb83IyCR30FRMt1zP9OENNwm1bHjxPlYMv5orzxnbaBeO1LSoZ0sVEe5Z/lJ7xwiICHeMlxzdRwmkkwj3dsQni/ykyzglKsI90V6ZCz1BvefrFBHu+TGQFiROQEQ4cVZyZB8mICKcvMEV+Ukey0RKEhFOhJIc050ERIS7k7bU1VUCIsJdJSjn9wkCIsLJG0YR4eSxTKQkEeFEKMkx3UlARLg7aUtdXSUgItxVgnJ+nyAgIpy8YRQRTh7LREoSEU6EkhzTnQREhLuTttTVVQIiwl0lKOf3CQIiwskbRhHh5LFMpCQR4UQoyTHdSUBEuDtpS11dJSAi3FWCcn6fICAinLxhFBFOHstEShIRToSSHNOdBESEu5O21NVVAiLCXSUo5/cJAiLCyRtGEeHksUykJBHhRCjJMd1JQES4O2lLXV0lICLcVYJyfp8gICKcvGEUEU4ey0RKEhFOhJIc050ERIS7k7bU1VUCIsJdJSjn9wkCIsLJG0YR4eSxTKQkEeFEKMkx3UlARLg7aUtdXSUgItxVgnJ+nyAgIpy8YRQRTh7LREoSEU6EkhzTnQREhLuTttTVVQIiwl0lKOf3CQKtifCLL75IOBxGpVL1iX52RycUlqFQiNzcXLKy2noBb3e0pu/XUVNTQ21tLf369Uu7zspcSLsh6ZYGKfPxkUceQblJa+lTUVFx/PshIyOjW9oklQiB1giICMvcEAJAayL8s5/9TPgIASEgBIRAJwjce++9IsKd4CandC8BEeHu5S21pSmB1kQ4TZsrzRICQkAI9FoCEhHutUPXJxsuItwnh1U61VECIsIdJSbHCwEhIAQ6R0BEuHPc5KzUEBARTg1XKbWXEWgQYSXfMh1zLXsZTmmuEBACQqBVApWVleTk5ETWEEiOsEyUniYgItzTIyD1pwUBEeG0GAZphBAQAicBARHhk2CQe1EXRYR70WBJU1NHoEGEldXOskNE6jhLyUJACAgBZVeZ7OxsiQjLVEgLAiLCaTEM0oieJqCIsLJNWl1dXWQrKuW/yv8r/y4fISAEhIAQ6BoBJQUiMzMzIr8NEqz8v6RGdI2rnN11AiLCXWcoJfQRAvEyHC/BIsN9ZIClG0JACPQIgQbZjZdhkeAeGQqptAUCIsIyLYRAjECD8EokWKaEEBACQiA1BBpkWCldosGpYSyldoyAiHDHeMnRJwEBiQCfBIMsXRQCQqDHCIgA9xh6qVgiwjIHhIAQEAJCQAgIASEgBIRAlIBEhGUmCAEhIASEgBAQAkJACJyUBESET8phl04LASEgBISAEBACQkAIiAjLHBACQkAICAEhIASEgBA4KQmICJ+Uwy6dFgJCQAgIASEgBISAEBARljkgBISAEBACQkAICAEhcFISEBE+KYddOi0EhIAQEAJCQAgIASEgIixzQAgIASEgBISAEBACQuCkJCAifFIOu3RaCAgBISAEhIAQEAJCQERY5oAQEAJCQAgIASEgBITASUlARLiPDXvApcWp8eEwqJPXs4AHq9WBt8SE22+iMHklt1pSqdeCPmjGb+qO2hLvUEr4Jl59l47sdNsDLrRODT6HgSTOqjb6EsCldaLxOUjmNFYqLC0JoirQoGpWeylei56g2U9Kp5zC0uhAb0/yNZrAzFDG34g7sWsq4MFmd+LxB0GjRW+24ijq+LUYqdOhx56CsWy/y9Extfos3fa91X6b5AghIATSjUDvFOESL3a7A3dxEHWBAbPdhrGw+U9ba7ADbiPGgJlim76FH8T2hyj65d70uJ76sm/cjk7LTqvdDuA22ghaXVi0iTNun2LbR4gId5Vg8/MTnhulXiz6IOaGm55Oi3Bn5TJVIlyMXe+k0OWiqABo1K/OtrWD49RjIhztn0vnxm0El9aIQ29v+eYmVIzdYMaNlqIiA4WUUFJowmrQdLCzCuL0EWGNcnNt9WFxp/hmp8OU5AQhIAR6kkDvE+HIl7SbQpedogIVBD1YDH6Kim3oE/I0Pw69A3+BiiK7k6KOf7dHv9wTjax08+gmLDsJtytVUiIinPAQJOnAhOdGnxXhJiBPJhFWvjctAYqcyhMd5ZpuQ4SPy7oXRyfkN56yiHCSLl4pRggIgZQR6H0iHCzGXaymqKgwFs3tWCQn5LOhKy7CXejAFrLiNsYe90V+/AMYnCE8NjfFoQIMFjv2Fh4Hti7CQbwWI74iD3a98hDZj13voMDpIlJNk0i2xW4nUnzkB1mFXefH6fRSotJhtFkxlrqxO5q0JdJOPzpbKW6HlxIKKLI4sEVCXNEIzInUiBABtw2rUiat9wcaH6czWLBZ9WgidVnxNUw/S9PHqlH2fp2NoMsGFuVxbyleux2Hu5igOr7O6LEBg5OQx4a7OESBwYLdXhRLtSjBY7Pg8JSg0hkxFgRwaKzHH+OWeO1RFkEN2iIzVmsRkYcAHWHX6BfajdGuwuEqInovpES+Hagcys1RSSt9aMy3mVg2iZzGt1lntGGz6qJ1hQK4bVac3hJKNcpY27Dqmt+RhQJubFYn3pJSNDojNpuVyGHNIrRNblbiHmsr51ltVvSaWNvVDvTFDhzeKOfjZcbYRCLx1uMjHo2eocxPNQ59MQ5lzkXm54k2t9hOVXtzR6mwNc5Nb76U42zY3X4oMGAxqrEVa49HM9ueG6VYNX6cbj1Ov47iWMpFgSf+qY7yNMcGttbmZ2ye6+3gVZ5ExeaupRC/IzqOLbFsmG4BjxVrhJsem0mDze4+kRoR+U5w4i0ugQIdBrMVqyF6LUOQYpcDuyt6/eoM1hNzKO67REldKDJbsRUVEh0/P0aLmVKPMndUKHPPbtXF0lpiEnz8WmiSNhCT4ON/VqLGETRWfJHrPxZN1pmwFgRwuYsJKWPS8F1GAI/VGp1fehsmjTJuLTwta5BtkwW1z0XA6MRtLCDgceBwxl3nttj3Q/w1o45j0TTC3vCdFWmr5nhqxCN2P9+Lm9eR1BR9ALsh7glByn5mpWAhIATSmUDvE+EmNENK/qq9FLMrkdzVED6bAX+RD4vGg9lYisUXOy/yBWpHZXNFpFIViTT7MLSQ29ZmRDjoxWL0Y/JZUbmM2LHhiiQdRiPRaqcTU6GKkN+ByaLGptQf+TL3Y/NEo9yRv5lcaGxeHErIOhIFd1LodlEUEQwXGqcTq04NQS9WoyIq7ohsx8tZwG3C7DfithvQKD8kFjNBsw+LtjHERsdRSrHDgkNtxR1pd1sR4agg2FU2nFYDBWoVAYceh9qJ01SIKuTHofzQ2XyYCk8c67IVUaAK4rEY8BmiuZIBlxFb0IIz8oMdxGs1Yi10RkQ4VGzH4NTgcJrQqkKUeGyYfHo8Ss5qR9g1ck1FfO2oHK7oU4GAG6NDhcNZRLDVPiQuwqpYm51KBE5Vis+u3Hy5cRapKbbrcBfGxjYyfh507iZPJ5Qx17kp9Doi7Qt6rRg9OtzOIjRtiTA+rEYvOqctNpdcmO0qrNHn4Rh9JpwOCzp1CL/DhEVtw9c0KbaliLDRh8npwKJTN567QeU6KqbIbUcJHgY9Fgw+Q0xS275J9bfKufGcU1KZzCVmPFb9ibkRskbqaODc+txQ2m3HrNWgUjW9YYjPfW5rfhJNK9A4j89PZe7agiZcLgtKxlCJx0xRwIzf2uTi8jvQm1ygiGNRAcVuGx4/URGOiJgZt0qPxaxH5fdg95RgdHqx6lSRa8LoCKIzWTBo/HjsHrC6cRnBbTRiV5mwW/Tgc2B1Rc8zl1ojNzJqbREWo44Sjx1XMVjcyjUYuQujxO/FZbLh0ZpwWIrQaQtOpIiFSvB7XZhsHrQmBxaDFq2mOHpDHC/CaNBbLBjUxbhtHvwGBz67nhKHnmh3rRQVxP5G6yIMagq0BejMDsyltkjbtUU2irQBvA535MbZa9Xit+swew3Y7EY0QTdWm5cCmwdXoa9xznUrIuz26Qi67FhcfopsLox6LYXK12egBHVhXP/T+dda2iYEhEBKCPRaET4RudJhdTsSyxGO/GiXYPZZ0BLEYzZS0iCGTX/8af1HvMUc4bhoadBjxuIFVUiHNU7QQyFQHU/fCODQOilURDvYdDFS3N8iq5Pi2qJpkr+pxI08Jiyx6PYJEQ7i0ttRK/IcE8CW824DzY4j5MOmK6bIb0WbgAgHzH4sDetoGneSgEOLs1CR3ahMxC9GOtEe2mirBp9VT7HRzwnHiJPY0g6wa7LWR+FmxY6rSIMiWw6VA2fkxqPRQMX1QRH2ExH31iPCOvxN2xwnr4osOLBhM+tRsnua1he90qM3TthsmPXRH+rjzWpDhHV+K3q/Cf+JAaHEX4JaW0iw6ULK1nJ/202NaCyUjXApN4KGhvzidp7WtMo5GLdYTpmfNlSxG73I1aBEPb2KbLfAORLZj93gxOaG12E4HvVvtAivndSIE/MzGlmMn7tBrwVD/GLOVlgGXHqMjgJs3oYbLgdaoysiwjaVHb3Fi9HVMLf92LUm3IpU2lQ4dWbcRY7YWgblaZMBa9CK262lWG/EUWDCYTOh08S+VFQqQk3zYAMn6juxgDbR1IjYgr5Gctk0vzjWrsiCNF2sXTa8sSctyvVvdLUuwlpFZqMJ21G5R+mfMfKUKHquEWexmZBNj6XYgM1pwVAQW7KpUqFKMCKsLPKVHOGUOIQUKgR6PYFeK8LHybcWUWthaCKRpaAS2YhGbSI/dMVF0R+ajopwmznCfhxaE6WOYmxxicvKI2S73RVdiR35xH4gWhDhxqvm2xbheMFtJMJKHmBTDrHIzYnV/y1FfOP/rf2IcKOV9krk2W7H5fFzvJeRFfLtiHCTXQLakpBGNwaRx/bxOxo0bW8bMqbcGCmPfZ06ik2KPMV2KWi1D4mLcHFktXoT+GoL7sgTiFL8Hicujw9fsACjJf5xeNw5pX48Thcen49ggRGL1UrkqXkbIlzgNWAMOVrcGaC9VI7jNXdQhCOpCU4vxSWlsSIaHre3J8KtzZUmItzS3IiJsMK58U4PcXW2Nze6IMLNbipbFeEmi8XixM1GNAJ6YvFW3C4HPg3O+LSk44MTY3t8JxeFuRqtUUmbMKBuJsIt7VKRTBGO35lBST1pnHvcao5ws0WDTVM2Gjoc+45UnpDYlJSq6LeKRm/FYTdSWNKkf61FhEWEe72sSAeEQKoI9D4RbpYjDH6HNvKIrO0tw5TIkhFHw2/1caI6bF5nLOUgbqV8exHhNkRYSTWwBwpQBdRY3JZoDmwkGh3A6LESSR+Oj7R2UYRbjwg70bgdkUfWrX9ajwgbiq3omj5OblRQU9GJRtkDRg/WaCfjIqjJjggrBuvG2J7stDGOSg6mRzFhkwGPV40zsotIW31IXISViLDfFBcpj+cWHwltlD7SeJQaH9YklaYV+W8eET4RSk6JCJc40Ds1OB3GaM52I4luS4Tb4txYhBulsCQUEU5wbnSLCHc1ImzHG0kJafioIk+VQrHJoQoFCXgdmG1edA4f1lATuW5xl4oUinAkUp14RPjENnKxiLDKGkn/aciSVnqtUiLdDf2llBKfC5vFRYnFjU9XnFhqhIhwqhxCyhUCvZ5ALxThaE6iwRXNgaS0GLvZSaE9tiVSMEBAVRjJ/2r0UXL17Bqcscdu0b+FKLYbcCm5m3p/4y2jOivCATcmWxCr2wKKEIes0RxhJQdV+fdYTmFpsQOLuQRjK6kRbUeE3RTE8jWjOcJutLEFeY0f3ZuwB03YlYVviov7XPg0xmZpJI1zhEP4XWYspZZY5LwjEeEmW62VFuOwmCkxthcRLuxAjnAH8mWbppX5uSx3AAAgAElEQVS0sA2qEtkrsvvR27yx6H1bfWgswg2P6KOP3ksptpsxB02R3FV8VoxuLY6YICq57O4SneLcjW8WWhPhJjdOjXLKI7LpxeCN3uSUFtsxm4OYlLkUyxHWu6I5u6GAkiNMJEVHyRFutMd0m6kRfox+K7ro3UyrUXd9wI7OXYjXoSw6DBHw2DDbCnFGtl6LLTJT0loiBcV/2uIcL8LKpWPCXGJKIEe4g3ND6ZddjceliFdzaW/rqUSiEWESzRG2GFAXu7HF5Qj77XpMbtAZLRh14Pd5KdXZsOlLIrnFXp0Nu5KLH3BhsXkxOIuP5wgfjzK3KMJBPCYDNr8Oo9VAUVFs4WnD8LSZbtA0NaLxXr2hDuYIx++nrKSUGWzFaIusGPVqQsVevBozTpPyVaqkTSjfZQYKlIWCVhchqxu3oSSav6wtwmbUUep14PAFlaToRovlIvuf++1oTW4KDSaKiowYdRrJEe71CiMdEAJdJ9D7RDiy6N4TWWmtpBg03UdYycmzqJx4G3aDiAmvz6bDo2shahwRVOXxuBpn/N6p7Ylws5wD5bvXi9phJGCKLnaJRH2NdrC5IgtVjq8ej+z0YELl8EQXwLWQ59q2CMfvGqHFaLUdX2ne6q4RpZrID6pV+SFpNm9a2TUiGtNt4+UGLUT8jj+yhYIiCyaVA0+hG1eRqo0c4ciWGnE7AxRhMamwlRYluGtEJ1MjIvdC0XzoaPQ7BqbVPmia7MoRxGszRxY4tb2bgZoCgxm7LRY1DfpxOWy4GnaNMFuwtrA7SdDvwmFzHd81wmyxRncZUW5qvDbMdk9sNxAjakUgGhZ2Ht81IkSBzhDZNULZbSLhiDCl+GwmbJ5STMoiqzaj7kGK7TZsyi4hGl1k0ZffVoIpkl8OpT5bZOFVqcndfFFeq5xLm8y5IL7IrhHRHQoMuiDuoDHBXSPamhsB3GYL9mItDp81kofacg578xzhhEVYmdkeGxaHJ7rbhl6N1+1F2/BCjbhdIyI7iDRKk1GuSzt2lwd/UB0ZS3NDekwLu0Yoc6h5jnDLL/BQbp4sVjd+inB4bLGnVA3zv610g7ZFWNlzOH73F73ai9urbf5CjVb2U45Ps9FoizBZrdEb92a7RsR2tlG+oY7vyqHDaCokaHfFFvad2DUi+iKgAB6LBZsviMbqxltUKrtGdN0hpAQh0OsJ9EoR7vXUu9KBZrnMXSlMzhUCvY9AREKVHRqOLwjsfX2QFgsBISAEhEB6EBARTo9xSLwVIsKJs5Ij+wQBZWsyJ8o+uQWoQgFcZmUbwIanLn2ii9IJISAEhIAQ6CECIsI9BL7T1YoIdxqdnNhbCcS9eCPu5RG9tTfSbiEgBISAEEgfAiLC6TMW0hIhIASEgBAQAkJACAiBbiQgItyNsKUqISAEhIAQEAJCQAgIgfQhICKcPmMhLRECQkAICAEhIASEgBDoRgIiwt0IW6oSAkJACAgBISAEhIAQSB8CIsLpMxbSEiEgBISAEBACQkAICIFuJCAi3I2wpSohIARaJxAstmOzuSkOatDbHDhaeMmI8BMCQkAICAEhkEwCIsLJpCllCQEh0DkCoWLsliBGp/K64yAeiw2sToqUd4PLRwgIASEgBIRAigiICKcIbJ8tVnk1qjP+tbV9tqd9tGMnXolc2PCaX6WnymvLA1qsRc1fwB35s9tOid6KIYViGgIa3nJdbLeDJe611310NKRbQkAICAEh0LMERIR7lv+J2kNBAsXFeHweQjoHNoO6hZYF8VoMWLVu/KZCiLxcw4qv2ZEW3H4ThanoW3eLcKkft8OB2+enyOlH6Xbn+x3ApTWCO1bOcT7KvzvR+By0iD0VHHuozFCxHZ27EK+jiONOW+rDainB5GprzgRwmTwUOlMvpyUeGy61BZu+pWugI+BK8bsdONw+/EXO6DVDdA44mhWjx34SjH9H6MmxQkAICIGTgYCIcDqMcqkXm6UYVZGeQr8Fn86HowUjC3otGO1+Sk0NP+rNG6+ITlGxAa9Fm5qedacIB71YFfmy2zBp2w5FJtZvEeFSrwV90ByTQmWKhCi2mwkUuaI3GW19/HYMvhTOLSDoteHEjK2t0HOpkkbhQ++womvVlYN4rSY8hXZsJu0J6W+pfwE3JocKuzPu5iA1V4+UKgSEgBAQAmlG4KQR4YhE+orw2PUov51+ux5HgROXsfGvf8Clxdg0XGSJRWAbBi8SifVjLG6IjgXxmIyUWn2NZaLFiG3bkSelfqemBRFWpNAaxFDkx1IaLzLxMyqIx2wDW0u5lSECbhtWp5eSUg06ow2bVRcRhEidagf6YgcObwkqnRGbzYou4p4h/C4LVkcxoQID5iIVdr8On8MQ4djoEyzGbrPjLS6BAgMWu42iwoaH3bEjO8DE7zDg1Xuxtuv0bfU7voUJinAogNtmxelt6IedyLqtyE2AGoe+GIfDS4lKh9FmwxoFBW30v8Rrx+6ILgSLZ9/q90GjNugwWGxY9dF6ms2RuJuToDKWpVY0fidufeMbpsZzOzYP8WIxl2J2GyNPENq+Tvw49F503haiwomOa8CB0a7GFos+Bz1mjAEjHqueUCISrACI1OXF0FYE1+/A4NXjbX/y4Lcb8BoSmWdp9u0tzRECQkAICIEuEzhpRBiUtAIjfpMPq8qF0c7xH+OOUwzhs+koNhRj1akg6MFsLMXi63o6QssirES3rARNLopKmkb04lrvd6D3aPHa9MdzLRv+GhGO4iLcdgOayGIkAz5DVLgjguQz4XRY0KlD+B0mLGobPlMhkQiiV4/HXkSBSpFiMya/sQURVh6d2yk1O7AoYTpF3I3FGLw29E1cODHeARxaN1hC+FxeSijAYLFjb2kngTb63biuREQ4gNtkxm90YzdoCAXcWMxBzD4LWkU4jT5MzmgfQ34HJosaW2TcW++/TomkOjU4nSYKVaX47EW4C904W10J1rgNlBbjsDhQW92RG632RDgylnYzWo2q2TxoGhGOpEoUF+G3NNwQtnWdKNFjHT6DP4Gbk9ZHOeAw4ihw4NT7sRT5KPLY0atbSFloegPa6Ea0bREOOLS4sRDyuYjez1iw24uapwsp164lhCV2I5DY3JSjhIAQEAJCoK8QOIlEWAl3KT96XlCF0FkTeBTcxiiHfLaoQFi1EVksCpoj4tjVT0siXOqzYikx4WoQ00aPto+rLh6zhZDFTZMgd+yAECFOiJES+TPEymldrHT4rXqKjXHi01pqRMCF3qnB7VBEO/opDfgpLdBS0BkRjkT97KhsLmxFBahCAVxmM6UWH42zPpRocFv9jh+R1vJDlWNiEdKgC71djdvV8Ji8FK9FT9Dsx0TThYJxucXKeS32v4ASW4IMG5qqsGzUBoifb+2JsFPjxdFKakFTEQ649Dg17sbHt3GdtPrEokMT349d76SksAS1csORYC5wi09rlHqbCXN0zOwqGy5b9AYu4DJjLrXga5Iy5Hfo8Wi92Dp3t9ahXsvBQkAICAEhkH4ETi4RVlIiHFpMpQ6KW4iaKsOTUGqEcmDIh01XTJHfQshuIFDUJC0iYoItLWbrYGpEk4VMzXM8Y5Mq4MLoUONoNc+xBK/djtNbTElp7JyYQLQlwsUNEtjg+K2IcETUPK2kTMTP+0SZRI4LYo5b9Bd5bN/0hqPdfjcX4TYXywWVqG/zpVQGhw+7xtNkx4wTIqz3t9b/qJRZm65oVFtwt/YEoSXGTdMf4tNn2vpbk++c5iLccipOa9dJ/A1Uo6ITHdfYScoTCoNLj9sTTclI7BMipGwtoTxtKPKh99iju1iomka+425ejge6vViMSmQ/7qmN0uaiACYl2p9YA+QoISAEhIAQ6GMETi4RVhbF2AMUqAKoLW6OPw3u1KDGHhNr7WAPUpSEtIgGEY/PEVYidkZHg7nGNzR+ZwglVcOAv6hptPTE8Urky6lx4jAWRh6XxwtRqiLCEWtRdSYcrLTbj13rQVd8IrWiuQi33+/GQ5tAakQLkd3jZTQT1LYjwtH+h/BZ9fhN/sTnW6sRYQPFVh0lTfPIuyTCLUSE27hOkhIRVvYMLvIQ0hZTqm8SjU7kWkwgR9hv1+LRFZ+I9Aabi3DAbcShcrSRopJIY+QYISAEhIAQ6M0ETiIRVvIubQStSuagIsQhrG1uF5XAsPrt6JVUC5MzKWkRLYlw01a0GBEOuGM5z61F16LS7i704lDyUkMBPDYztsLoYqq2HrXTwRxhLE5MWiVvWtnxwYfBreR/JsCyhUMCLiN2rDhN2pZTI1rrd6iEQKmGQk1TCU9AhJVcVZOdoMkeW5wWxOfyoTEaKSxpIzUidl5L/df6rRjdWhwOI8rawVDAg7tEh0nJQS7xU6LWUtiIUZMc4ZAfl9lyPC0kmrdtwBtJQymN7PpgDpoieduRxXItLbaM8W0/R7it6yQZOcJKGQbcWjcOfUlEiLWuWGQ30WmSgAgrCxuVdQBWpwltS6kRyhMdg5LD3mThX6tzJ9HGyXFCQAgIASHQmwicNCIcXZ1uwmvVRSKiUcmyRfJuO/9RopYWNO4W0iI6WWh7EbeWt78y4NW1k+cY2dHAhrs4iEZnwaz3YysxRXKc2xJhNcpuE1Ysdh9BjQ6LWY/fp8bWzq4RKm0RZquya0QnQUROC+Kz27C7iyN1Gy1WrIaGFz5Ehaqlfis51UU+Ax5bdIeQE59ERFhJezmxa0RpfL1tRYSViuJ2jWja/xO7RqgpMJix26JS3Op4t7FrRGThp82M3RPb1cKoxlas7ZQIR9J34neNaPM6CeDSeyhsadeIRIdZuXl0FOB0RW/aIvn1PkNsEWeihSR2XNBnx2Zv2KnDgtVqoGH2BNwmbFhxN0mob33uJFanHCUEhIAQEAK9i8BJI8KpGRZl0Y8/aWkRqWmjlJq+BJRcVjOl5tYWOHZPy/12E/6E9hF2YPDpU7dHdfd0V2oRAkJACAgBIXCcgIhwFyZD0GPBEjI3iyp1oUg59WQiEPKhvEnY3Cxy3c0QIgsyg5hiUdqWa4++WU7rssrCsm4eHqlOCAgBISAEUkdARLhTbJVHxEbcWhsORwt7k3aqTDlJCPQggYAHe0CLtagheaBxWwJuOyV6a3SXBvkIASEgBISAEOgjBESE+8hASjeEgBAQAkJACAgBISAEOkZARLhjvORoISAEhIAQEAJCQAgIgT5CQES4jwykdEMICAEhIASEgBAQAkKgYwREhDvGS44WAkJACAgBISAEhIAQ6CMERIT7yEBKN4SAEBACQkAICAEhIAQ6RkBEuGO85GghIASEgBAQAkJACAiBPkJARLiPDKR0QwgIASEgBISAEBACQqBjBESEO8ZLjhYCQkAICAEhIASEgBDoIwREhPvIQEo3hIAQEAJCQAgIASEgBDpGQES4Y7zkaCEgBISAEBACQkAICIE+QkBEuI8MpHQjuQTq6+uTW6CUJgSEgBAQAhECGRkZQkIIpA0BEeG0GQppSDoQaBDgcDiMyHA6jIi0QQgIgb5EQJHgzMxMEeK+NKi9vC8iwr18AKX5ySWgyK8iwVlZWcktWEoTAkJACAiBCIG6urqIDEtkWCZEOhAQEU6HUZA2pAWBBglWvqRzc3PTok3SCCEgBIRAXyNQXV0dCTaIDPe1ke2d/RER7p3jJq1OAQFFhBUJrq2tRaVSpaAGKVIICAEhIARCoRDZ2dkRGZaosMyHniYgItzTIyD1pw2BBhGuqamhX79+adMuaYgQEAJCoC8RqKysJCcnR0S4Lw1qL+6LiHAvHjxpenIJtCXCBw4cSG5lUpoQEAJCoA8TCAaDzJw5s8Ueigj34YHvhV0TEe6FgyZNTg2BBhFW8tfy8/MbVfLQQw/x+uuvp6biPl7q+eefz3vvvdfHe5le3etp5lqtlo0bN3Ls2LH0AiOt6RYCF110Ee+88w4ej6fF+ioqKiLrMCQ1oluGQypph4CIsEwRIRAj0JYI33777Ty+4gXGLD5VeHWQwPxNY/Fsf1fYdZBbVw7vaeZnZJzKE799iBl/vKAr3ZBzeymBSzPPpPiND0WEe+n4nWzNFhE+2UZc+tsqgfZE+D+73mTSlbOFYAcJnPpmHt6Kz4RdB7l15fCeZn7aoVE8est9LHza2JVuyLm9lMC5u6ey1POeiHAvHb+TrdkiwifbiEt/RYS7eQ70tJR1c3fTorqeZi4inBbToMcaISLcY+il4k4QEBHuBDQ5pW8SkIhwasa1p6UsNb1K71J7mrmIcHrPj1S3TkQ41YSl/GQSEBFOJk0pq1cTEBFOzfD1tJSlplfpXWpPMxcRTu/5kerWiQinmrCUn0wCIsLJpCll9WoCIsKpGb6elrLU9Cq9S+1p5iLC6T0/Ut06EeFUE5byk0lARDiZNKWsXk1ARDg1w9fTUpaaXqV3qT3NXEQ4vedHqlsnIpxqwlJ+MgmICCeTppTVqwmICKdm+HpaylLTq/QutaeZiwin9/xIdetEhFNNWMpPJgER4WTSlLJ6NQER4dQMX09LWWp6ld6l9jRzEeH0nh+pbp2IcKoJS/nJJCAinEyaUlavJiAinJrh62kpS02v0rvUnmYuIpze8yPVrRMRTjVhKT+ZBESEk0lTyurVBESEUzN8PS1lqelVepfa08xFhNN7fqS6dSLCqSYs5SeTgIhwMmlKWb2agIhwaoavp6UsNb1K71J7mnlnRDh8YBsr7nmHXcsrYeAwpvzAwLQL1GSkN+oWW1f2xVoqM0dzylw14cMlfPz9Lxj7kwuYuHBI8vtTH+bwR8v48h+lzLvvXIYMy00esUPbWPNiNQXXTKV/v8SLFRFOnJUc2fMERIR7fgykBWlCoEsiXF/DsfUHCFWFY73JRDVJTc3WQ9TVQ/YEDYPVWWnS0+5tRrtSVl/LsfX7G7ObMoSazQej7MadwuChOd3b6F5eW7vMU9y/zohwpEllJXxo8lKWpe6ECIep2LiD3W+uZeeKUrLy88jKySQjL5Ns9SmMNRRyykw1WRlQX1PN0cA2dnhWE9wWIndgHplZmWRm5TB44TTG6SeSX7mOz+5aS/mm/VTVZJA7RcMAVZiaIyEYNIzRl85k7JmjUA3MjsltmJrgPrY95qPk4Ehm/XQRI8bkUtebRbj2KLseeINNGwcx6QcLGTNjIJmZ7d+aiAin+AKT4pNKQEQ4qTilsN5MoEsiHA5x4O0AW/79Mfv21pM9pZB5v5vDvgff5djAkYy9RsfosSenzLUrZeEqDry9jpKnPya4J8rujD/OZ//9SyjvN5IxV81nzARVb55a3d72dpmnuEU9IcI1gRV8fs/nHDo8kMk/OIdJC0eSkxematceSh5+h4PZ05n3ex39sqC8uJjlD6zkSN0oTrv1LMYoglwboqx4BSsf3cG4//dVJukGUHdwL6v/3/Ps3J/NaMdNzJka5tj6rQTu+YDg/npGfvNsTv9WIap+mYTLD7PZ+RYb369m2n3fZNLUvIgg1/ZmEVbmSfVR1ljd7A5NYK7tPIad0n7EWUQ4xReYFJ9UAiLCScUphfVmAl0S4UjHw5S+s5Qv7llJVf5wpv1mAaH3tjPyGh3DNbnU7d/PVtdnVMw+g9kXj0wYVfnyVWx8LsDRw8OYff9iBmcneGptFYfeW8n6l7aQMVRN/umTOPWKKahy6wlt3c6ubTlMPn9MgoVFDwsf3stW32FOubiQgfmJnZqYlIU5+vGnfPrHZYQUdrctIvTqBkbecHaEXbislC2PLOXYdC3ayxNv87E1a1n/1BqOHh7CrL9diDrRe5Haag69t4KNr26lfvDgCLspl00hXwWhrdvYU5LJ+HPHUbt9GxufWE55bR7Zqv6M+/7ZaEZkQc0R9izZQt7c0xg6KtFKob6ulrLP11AxaCKjpg8iIwPCB3az2VeO5tJpSWbedPzqqT18mN2vrmB78T7CGdnkjRrKCP0sJiwaRkeeZyQuwjUc/WwNa93rCYXzGaEbQvDpVRzLHdKxiHDtEdb/2M3GzTX0089noeUM8vtlxjpYT/XWNWz9MIOCa08jL3yQlT94nu076hh43Vc559sTaDiSuhq2Pfw2GbpzGTe3fzMRnjs9Wxkkjjzv4YNHg2QMH8ucP1zI6Mn9Kf9yJcvu/Ihy9XwueGQ+DdU3EuEzaln9k3c5XBdtWqZqICMvGMXB1zdQXQ9jf/ENJk1sTDq8dwOf2JYTO4Ws0xex4LpB7Hz6Xbb7q8gqXMS0uUH8HUyNKHvlVVa8fizSjrzzz0FTtpKd/jIyx4xnmnkhQ4eemB97n3uZZf/czcDvXsnZX2//u0tEOLHvRjkqPQiICKfHOEgr0oBA10UYwsfK2fTAq2x89xD1OTkU/OxbzDhfHfmhrdqyhbV2H4dPPZfzbp3SSCzqjlVQE84md0AOmYr9xD41qz5g2b8OENq3j/K9Iznr1StJLEugnprNm/Df+y57wzoW3z2J0K4jDJisoWalH79rBxNuvpCx0wd0kHwdZS+/yydPH2PmHy9m9JR+tPekNDERhvqqSrY4XyHw+n7qgbE/vYZZFw+JsKvevYM1trc4NHEh+l9Nb86uLovcgbmN2a39mGWP7SW0by/le0ege+XrDG8/mAXUU7NjO/47veytPYPF900ntP0w/SdpqN+4mi+dWxlz02ImaAey8y+PseJzDWf++QLygxupmTKDgaGd+G99nfClVzDXOIbsjhgk9VRt3cbKez+j/1VfYdqiIWRl1lL6/BKKn69m1p8MjJqoighyW59EmceXofDfePfzbPjoKEOuvYIF3x7J0SUf88WreZz9wAI6EpNPSITrwxz7eBlf3P855UdzGXfDIvK3r2fD2zup738iR7jiozf4+J4d1LbQ4YxcFRNMlzJVG+Td77xPNTlorj2X2dcWktMK97rNH/HWD1dQi4pJt3+NGfOHtIqytklEOCLCQN3mj3nrh8sjZUz8zWWcdu5I9jznYfmju8g87xK+8utJx+do04hw7d7drP79q+zaWsPAK6/gzMvqWf/kNsb/cCFDW7vL3b+Sd6//kIr+YznzgYs5ZWQulcvXsHZlPvNumNipHOGa4C42P/Eem94pg8GjmfbDmVS/v5ySj/eTN38x5/5xOrmxeXbo3U9ZdtcXhEbMY/GTOvLbmX8iwh38WpXDe5SAiHCP4pfK04lAMkS4vq6ave73WfX0BqoyVEz6RRHTzh5GVmaYYys3sfvTfdSNn8apF484EYUC9v/Xw6aDk9FeP5N+eSd+ZcJlR6guLyPgeJOdq4Y1EuFwTQ3hWkUZm3yyssnKCnP4tWJWP7mCIwO0nPHjSQwu1JB3tIQvbnmT2vk65vxoBlX+EsrL6iA7l0EzhlGzIUh1/hCGzRxBnup4nKxxBdWHWWX6DwcmzGLuL89isLqV42JnJSpl9eFaDng+wv/PNVTVZjHh519nxuIREXaVa7aw8+MgtWMmM+3SUc3Ybdg5jrnfn9uEXTnVlRUE7nmFnauGNBLh9tiVvfUFK//5JUf6z2TeLVNQnzaavGM7WHbzq1TPPwvtj2eTvWM76+58jR1lGgqvO53h505mcG45m//yJoHP89E9eTGq3Xso3XGM+sxsBk0fR7+qQ+zfWEbe5LEMnTywUT+OQ66rYtfDb7HCW8Fpf72SCRNzoOoQq77j5vC0ecz96XwGDEwO8/iBrdm6jA9+8AmVuaM588nLOGVwDvXl+9n0ZgUF35hA4nFtSESE66srKPnHWwRe3gma0zn3sXPpt2s17/zoQ6pyTkSEq1Z/ScBb2vJXRVYOwxbNZtSQDXhv+UyJbTLmO+dx+remkp1ZT/XuAxxcd4DaOsgcNIChs8aQG3iTN361BejPtHuKmHq6usMizO5lvPWdT6giG43lq5xxyVi2/fVfrHr9KKqr/ocLbxx7vMxmqRF1NRx881OWPbKK6loVw84pYMiC6Uw9dySZGfXUVtZQVx1ba5CRSXZ+Dlk5NWy49Qk2rKpjmPlKFlw+mL2v+qkcPZVJ84d0SoQV/juefIWVzx4g86zLuej3Yzj6/Ad8+vhaMoZMYsE/LmFwbIFc6cfL8P/pE47WjWKR52sMyWv7m1tEOJ1+2aQt7REQEW6PkPz9pCGQDBGu3r2TDS9sIrN0H1s+2o9qeiGnW87mlIIcjhWvZM0DH7NffTaXPDCLzJpaao5VU18P+195nZLSSZx+1TRUeZlk9e9Hdsw8anfvYPVfmopwHYcfe4P1GxsW550YpuyZs5lz9VjK3/yMVa5llA2cx4KfTWbgxGHUvvQKvicOMOrqS9FeM5yK1ZtZf8+7BI8OZ9YdOo49/hlZV55Hwdxh5GaG2PXfLwiuq2Xsd89i5JiGmGAt+25/nM9XqZn5SwPj5w5scyV8oiJcezAYSWPIKDsYYZc3eQqzfqGPsKtcvo5V977P/oE6LnlobpRdRTX14Si7rcFxzLphJqq8DLLy8xWvj0bu9u9l1V1NRTjMEdcbrF3f8LC5ObtjvmWsePgzyvprWfCzKQycPII675u89/B2Rl17Bdpvawhv303gjpfYdng0p31Xy3DdePJ2beLLO9/l4CA9F/11CrVr1vHZHz6mImMgp935NUaHN1N8514Kb1vAsNE5lH+8mi3v7Kf/vKlMvGQSOZGAY5ijr73Ph39fy8BLr2DhzePIooZ9t7v4fN0ItL/9CqOn908K8/iLO/Sxh7dv2wXqUznn8cUMzo+GVBXGGW17d7PviIREuKKM9fe/zKZ3j5A99TzOf2AmeaVb+MC0hCPZHVssV7dzJW/d9CG1SkT42+ehvWYa2Vn11Ow7zIElH/LlkzvJnjQe7W8MjDj2CUt+vIo6+jH5jiuZfkbHI8LhrUtZYvZTSx4TfnUZp+s1lNzrYvWSY/S79kouuH506yKsjHDFYTb+/hU2riwnd8ZU5lrPZ9jIHDJqKtj538/Z8fnByFMR+g1n0nVz0Zw6gAOvvMuyB9dRM3wGi/48k6SxSawAACAASURBVANvrGfoJfMZqsnpsgirvmHk/O8O4dh/P6D4sTXUDx7P/EcuZ2j/aDfKPvHjv3Mp5VXD0b14FcPbSYsSET5pfjb7REdFhPvEMEonkkGg6yJcy+6HXqF8up6pC2pZecOz7CzLYug157Pg26cS3rmTNXe8ws5cRYRPp2bZOr686z0ONw125ecz+WffpPDsAdHFNi2KMFRtLOHw/uYinDXiFEZM7U9o5TpW3ONj//CLuOQvSipGNbvveIFln4YYe2MRs4uiWzkdWfopn9/+BaGh/Rl+xeXMv2oYmdRx+KG32V6fw76XtjP5b99k0rTYryJQ+sS/+OjZDE79yUVMXaxp81F9YiJcy76HPeyfoGf6efWs/s6zbD8cZXfG1aeSeXgfq3/3AjuzFBGeE2EX6dvBJhHxnBwm/NTIzMWDIn1rWYShZvM2Du5tLsIN7KrXb2b5HUvYP+R8LvmrkopRTfAvr/DF2wcZ+71vMqtISdmoZcsv/sHa4BQW3XkeQ8Zkc/STVSy7+yOOzi7iYtsYsqhi921uln1ZR8EPi5jcfxX+yjNYeFE/Kj4KsLMsxJ6/fYbqkgVob55DXuzmJ/TpUny3+8mbvoCFd56BKivG/Llspv/6YibphieBeeOrJrTsdd791VbCgyZztutC1P0TTUZvfvUlJMKVR9jw4GtsfOsQ2VPP5fwHTifvYAnv3+SlPE6EKz72RlIjmo8WkKNiwvWXMO2iLFZf9TTbj0H/SxdylnkOebEnK9Wfv8uS366LivCvDWhGHuKLa54nWJ7BkJuLWHTFCWmFWva+tIxwYSEjpw0i3EpqROWbHt75yy4YoEF7x0WMLRzIzkf+jf+FMvK+egVf+fG4tkV4/zY+/8377N9WDrmDmfaLi5l89ggya8rZeP8SNi4JErmyB4zm9N8sZsLcwVRv3Myqu5ewZ3uYYdcuZGBlJlNu1KLK7tz2afER4X7fugb9TYNbFeHSpV+w/E+fcixnAuc+dxmD2nk8ICKcjF8kKaO7CIgIdxdpqSftCXRJhOvK2HDXUg4eriJ7+iTGqsooWX7wRJ8LzmTuZWHWHRfhWWQcreDItkPU1EDZOx+xKzSWKRcVkKfKIb9gOPkDoxG5lkW4nkr/Jg4dbp4akXmKBs1pA6lqJsJVBO3/5YullYz9ThGzvjY08mi+ZvcuVt/9BrvWZTH59m8xbX7/44/sD33wKcvuWMekRiJcz+HH/sXSF7OZ+tOvcKp+ZNekrO4IG+76KMIua8p4xg081pjd+LnM+5aKtcdFeG6EXfn2w1RX10fY7SwbydTLp5Kbm0X+xBH0HxTL5WwxIlxP1YpNHDjUOruaZiJcxb6/vcpn3gOM/d9vxtg1F+Fjn67ky7uXUj7jfzD8cWwkT7Q2UMx7P1lO/sJCBvfLQ3PLWQxv2JO1eicfXv4quY1EuJ7Qx0t5708rUM1cxMI7tKiyYsw9eUz/zUVMOnNY15i3cDXWHdzB5z96nQOH+zP9/iuZOLkf1atX8+Uz5cz+/SIGdCA3IhERpq6a4DMfsurpALUDJrPAuZj87St5/7efUZMzhMk/uITCC9RUfvEhK5490PL3R1YupxgWMlE/lNrP32fp3euoyBnNrF+dy6jpg8mijmPvv4vv7o1kTx7PnN9cwsgx2Rx+422+fHQTIfVUzrxtIcM0KjLqaqhY4+fLv+9lyi8uYvSpqua7RpyaQc3eIOv/4GXb9hqGGOajvUlL//5ZHHzzXb50rKN21oVcdNc0Gm4jmqZGUF3J7ue/5PDoKYze+TGfPbWH+okzOPP2cxg2tI2bj6oytjz8LoHXdlM/YDATf/hVCi8YQmYL+wiHD27hi/97n4P7R3H20wYGtlBsR0T4wJsfsOwvq6g7Q8+Fd5zWbpqMiHDa/9xJA+MIiAjLdBACMQJdEuEEKNZs2xEXEZ7VaMFXaznCrYtwmCMvfsDWrS2kRpxayPTLRlHdTITDHH3ldXzOvYy6yoD2eiViWceBNz7j0P5a9ry0lsqhE9D+fjEjx+ZGIqoti3ANQdtjfLl+OKdbDYybnfzH9E1x1u7dGxcRntuMXUs5wkoZraVGHH35QzZvaiE1IsautpkIhzn25lu85yhh1NWXxdg1FeEcqjfFUiPyzuaiv59GJEOjroIt1qdYtykD9eXno7tx8on2tyjCYcpffo+PnAEGFX0d3fc0kdSICPPNo5jz2wsZNS0/6akR9XV1lH60nE0vrqeUoWgKB1AfqqffmTOZfFb0pinRT0IiTD21e4Nse/YzNr8dJP/MU1GrK9n9egnVGbkMmjuL2ZbZDB7aTkLqidgrhz9Yw7Z3NlN6OIvBk4eQkxmmas9BKhnEKedMZux5BeTnZxIOVXDgg7Vse3MTR+sGMGTiQLIy66jaX8vQi7SMW3gKWaVbWffEBva/v4mjlRn0P28mIwbVUrltP0eP5TJs4RTGXzyNwadEr5Xqkq34//QO+w6NZdGTBobEbnYaifB82Hz/5+xed4jBVy9mwr4v+eKJLYRqsxiwaBoTLphHwaLo04zmnzDHPvyMj+9dBiMmobVfxIhhmZHclcYv1MihJrCaz+76hGOjzkF/+3RyWxi8Y8WfsOrf6ziwsZKsqdOY9vVC6t77iI2fH4S8gYz77tlMvXAiqrww2x98hlVv1jH5tisonDO43WkgItwuIjkgjQiICKfRYEhTepZAakW4ln2Pv8GqF7ZTmTmUcd+7hNMvi+4moXxaE+G64HpW3reKg5v2ETqaxZBzpjLmwrmM16mhqpq6FhbLZWRnk5VZw66HXmftm3uozh5OwVVzmHrVqeQc28Hn33mNugXzmfPjqey49112bali7MUF7H3eT2l5mPzphcz6qY7hY/u1LMKhQ/hvcFM6Scu8X+sYmIKFW41nQh0Hn/bif7qEygw1477/1WbsWhLhur2bWOVYyYENwSi7sycx5ivzGadTk1lVTW0b7IKPeVn18i6qs4Yx/srZTLt+OjkVu/jiOy9Re+YCZlu0ZHz4EZ//bTXltf0ZesY0Zv92IfnhI2y+500Cn2Sz4JkrGRHLJjn2yYcs/dN2Jv/fJUyeH7cvVUsiXBtix0Nvs9JbyaxHvsa4MVkQOoj/hmcoP20+c392Bv37t71sP7F0lKbXWz31tbVUH66g6khNJEdVyVVXDc8nO7v9lyjEl5aYCCtnhKkrr6TiQAXh+kyy++cQPlZNWEmcz8whf8xAcnIT33ZDkfna8kqqyqqoq1VuEjPIzM0mu7+K3EF5ZMX1I9LX0gqqj1YTrqsnIzMr1t9+ZCl+WXWM8p0V0Vzd+E9mJln98sgbmk9OnGHW11Zz+LWP+OKxTQz7zpVoi0ZEnwjE7yO8oD/HtpZF0jwy1YNQVZVTUXmihuzBavKH57R6k1Nfvocvb36NyvkXsfDm8WQrXyBNRFg9KMzuf7/Hmuf2MeHuazh1Zsvl1R46xLGGfdyA7IEDoOJoZGFhhFt/Ffkj+pN1eAsf/9BH5tnz0X5vJqrWFtHGMRIR7tnfMqm9YwREhDvGS47uwwRSK8LpA65y7XL8D+9i9E3nMmHWoFYbVh8KsffdL1j1141MuP1yJp4+lOycWko97/Pla1XMuO1iRo9r/3l556QsfXjFt6R6yyq+/Os2Rl67iInz1WS0sI9Z+NAO/L98m9qFi5l9jbLDRRYZyuIo11pGXX8W6uHR59T1NTVUl26n+Ntvkbt4DjO/P48Bg7Oo2riZ1X9fwYAbDBTO6Y+yE8mhZ95h+dt1zLzdgGZ0+7m7Pc08cRFOz3HufKvqOLr0C1Y8uZOx5osZrx2QlDfL1R/bT9n+/gwaU8uWXy+BH13JlPGxG4QmIjyII6x3vEfVvIXMKTqxe0Wn+nRkD/5b36RGp2OG8VT65yf2XEBEuFO05aQeIiAi3EPgpdr0I3CyiDDhMKEtu9h3KI/xZ57S6kDUbAywZelBQgeqyBk1mCFnzEAzuoKdnxxk0ILJDB6cWKSup6UsqTOtvp7Q5p3sP5DN6PkaspT39bb0OVrGnk92oxqZwY4VNQwfW09VxUDGXDyR3JjHKmkbOz/aTunmI2QO6MeAWadSoBtC+aqNVOSOYmSh8kKNDOrL9rN9aSnqRZN6DfOTV4Sjk6H2cBnVdSr6Dc9LigiHNy/l00dDjJidx6HgUGbdMgNVw/1Q09SIodnUVNaSmZvTKALeqeugspzDezIZNKl/h16oIiLcKdpyUg8REBHuIfBSbfoROGlEuJvR9ykR7iC7+sqjHF5/mHBWNv3GjyB/cHabub0dLL7Vw3ua+ckuwvEDE66u4NCKw/SbPIL8odF84g5/Qkc4sOogteFs+k/VMDD+rTr19VQfKqW0pAb16cP/f3vnHV/j2cbxX/YyghoxUqutUUWpvV+rihKj9h6l9oi9NzFiS4kZq0pQVS1Fqd3ae9RsjBgR2Scn7yeEGpGc8Nznvp9zfvnn/bz6nN99Xd/ryvHNkycBx8QeCE7xge/3Aorw+/Hjq81LgCJsXt48TWECFGExw5EtZWK6UjtVNnOKsNr7Ibo6irBowszXkgBFWEuazNI1AYqwmPHJljIxXamdKps5RVjt/RBdHUVYNGHma0mAIqwlTWbpmgBFWMz4ZEuZmK7UTpXNnCKs9n6Iro4iLJow87UkQBHWkiazdE2AIixmfLKlTExXaqfKZk4RVns/RFdHERZNmPlaEqAIa0mTWbomQBEWMz7ZUiamK7VTZTOnCKu9H6KrowiLJsx8LQlQhLWkySxdE6AIixmfbCkT05XaqbKZU4TV3g/R1VGERRNmvpYEKMJa0mSWrglQhMWMT7aUielK7VTZzCnCau+H6OoowqIJM19LAhRhLWkyS9cEKMJixidbysR0pXaqbOYUYbX3Q3R1FGHRhJmvJQGKsJY0maVrAkmJ8NSpU/Hr7f3wKJ9H1z3KKD7HYUccijxLdmaEL5t5zscZsMX3BxQcVsWMXfMoVQgUDs6O3Zt2IDAwMNGSwsPD4ejoCDs7u0T/mXJV+mAd1kGAImwdc2aXJhBISoT9/f1x5MgRE1J4yesEChUqhJMnTxKMGQnIZp47d27cunULUVFRZuyaR6lCoGjRotiyZQtFWJWBsI4kCVCEuSAkkEAgKRGeM2cOHBwcUKUK73CldGG2bdtGdimF9p7Xy2YeFBSE6dOnY/Lkye/ZCV+uRwKXLl3C/PnzKcJ6HJ4V1kwRtsKhs+XECSQnwh4eHvDy8iK+FBKI/yKC7FII7T0vl808/jsAI0aMwPr169+zE75cjwR27twJX19firAeh2eFNVOErXDobJkibM4dkC1l5uxVlbNkM6cIq7IJcuqgCMvhzlPfjQBF+N248VUWSIB3hMUMVbaUielK7VTZzCnCau+H6OoowqIJM19LAhRhLWkyS9cEKMJixidbysR0pXaqbOYUYbX3Q3R1FGHRhJmvJQGKsJY0maVrAhRhMeOTLWViulI7VTZzirDa+yG6OoqwaMLM15IARVhLmszSNQGKsJjxyZYyMV2pnSqbOUVY7f0QXR1FWDRh5mtJgCKsJU1m6ZoARVjM+GRLmZiu1E6VzZwirPZ+iK6OIiyaMPO1JEAR1pIms3RNgCIsZnyypUxMV2qnymZOEVZ7P0RXRxEWTZj5WhKgCGtJk1m6JkARFjM+2VL2tq6C//kLf/51B8WqV0H2NM5impeUKpu5tYvw46DT2L3vCj4pWwEfZ0kraQvkHUsRlseeJ6ecAEU45cz4CgsloLoIxwQfxapl63DoXBDCImJg51EEzTt3RuU8qZ5OJOjoNgSs2oSLD8IQHe2AYg06o2nN4sjgJHdgsqXsze4NuPn7DHiPXINd5xywcN9m1Mqb4cVl4VdXoXuvNbj/4k8cUaZeO3RqXhPuDvF/GIsHF3ZiwcIfcfl+NAxwRqF6XdG3TkG5oF863XTmRjy+dhirV6zB4auhiDHYInflphjQrAJi713CghHe2H339bbyYvQqH3zm8vZ2rVeEDQja549BI1bg9+PhGL52JTpU+liZvTBXIRRhc5HmOVoQoAhrQZEZFkFAdRG+tawWKs3LjcWrR6GQexS2dS+PUcFfYlmAL4qlu46uRarDvstCDP6mCGz+3YbWXmNQcqgfhjUvDXsbeSMyXcrMVOOjfWjSeDW+bp4fy8YsR/dfXhXhx6fGoUm/IFSvWwCO8SXZ2CNPsfKoUCw/XOziEHxsM/oMD8CXY2ailqcNTq6ehJ77i2PfsqaQ/DXHC4CmMg+/fRrDew1D5qbD0KlSLlz57XsM+TEaSxYNgPO/xzBy4Gi4l66OD1xsn2Y/2r8co49/icvHhyNbEjtltSIccgTdu6xFmebl8GPv0ajpRxFO7LM6PDwcjo6OsLOzg42NxDcnM73l8Bi1CVCE1Z4PqzMjAdVF+NHheVgT1gidK33wlMrjY6NQrOleTFz1IxoUCYWf9zwUGzIWxdICcTFP4De4PKaGtcNfM75DasdnIiPjw1QpM3dtQbsD0KnjHHT5+VURDj0zGYNWlsa0seWfifBLH/Fclw1rgh3p28CvbwM429kAEfdw6rYdPs2V3twtvPU805gbccivCcafKY+Z47+Dp6stEPUIV+5EwjNbZsQEX8NvB0+jdI0vkdHJFnHR/2Jmh074y2s2ltXLmWSvVivCCVRCLuxB57q9UXU+RZgirMzbAgt5CwGKMFeDBBIIqC7CLw/K8PgWtoxriHGXq2Ch3yh8lt7+lTka40V4QEUssumEXRM7ws2BIvz6or9VhE+NR6tBoShTNhVCw2ORo1BF1P6yHDxS2SHmySX0rdoMbl4dkNv+AYIeG5Dp0/JoVKsMMrg+fW5CiQ/TRPg+plcohhOl+qFKnhj8c+sR3D8uidpfVkauDC549T5dHB4e34D24w5j2LyRKJrM8zYUYYqwr68vAgMDE/184B1hJd4mWMTzL1xDQt7KwiYu3gz4QQJWQkAXIhx1H78sG4vRc35BqHs5TJg3CTXzpX/j0YfoJ+fQrV4nfNhjPgbWyQ87id9+NE3KzL9kbxfhGWg14ha6eLdEVscgrBkxCNeL9cfE/t/APWw/6uWvjrOe9TDJdwDy4TKWzJmB68XHYEO/CuZv4i0nmsQ8+hxa5PgM2zPUxIBR/VDtI3usnzcce1M1x4YJreH28ncRjNH4fdFIrA0pg6m9voJbMs/aUIQpwhRhZd4OWEgyBHhHmCtCAjq8I4ywW1g9rDHGHMiHBWtmomwOtxd38GIj7uKXEV9jlXNfTB/aEBlf//6+mSdukpSZuab4494mwq+XcnW/H+q02ILha+ejVvbTqJrbC5mHL8bqfvGPRkTjzOKh+GrgESy58jsqukloJJEjTWIedRS1MpZCeJspWDKpB3K6GHF16xy07bIU3f7cjQbZ/msmNiIYPv26Ikfz6WhSJhuS+/4CRZgiTBFW472AVSRPgCKcPCNeYSUElL8jHBsL2Nm9mEbk/b/RsVgj5J6wCoOblICTDRD98B9sWjgNa24VwcTx7ZHHVf7wTJIyCWW+TYTjoqNhjP9BnoSa7p/fjrY1eqGm/1q0KxyG5vnrIOeYJZjYqSYcbIy4s20qKracjZ77r6FLHgmNvKsIx1xGt9yF8ajVbMwc3Qbp7eLw8PBqtGkzAEUWn8KoEmleJD888z26j7uCQbPHoGC6Vx/DSaxjijBFmCKsxnsBq0ieAEU4eUa8wkoIqC3Codg+chQedpyARtmePYsa9fgMehepDvdhARjepiLswu5g9axxOOZYCX27eCFzzAVs3BeMqv8riTSO/wm0ucepLxGOwcGRHXCh8QK0LPDsdwvfPLYSDbwWo+eqRfjmMxdMaFQaJytNwdLe9eFsF4srq0ejerftmH3pT9R0NzfdxM8zjXkU1rXPD7/UfbFownfI4RKHf3/3R9sOs9Bix160zPXs1/IBj/FT51L4uUgAZnxbFI4m/JA/RZgiTBFW472AVSRPgCKcPCNeYSUE1BbhB/D/XxHM+nA8Ns5pAU+XaOyb7YUGc8PgG/AjGhZJj10z6mDABic0bFoHOdI6IPbeCaw5nA7+C/oik1vyd/FEjdk0KRN1+ttzE78jHI111dNgpuccrJ7VHlldguHXrhL8ohtiue9g5Etvg/3Lh6HrvGAs+mkOCtvfgG/fFghwG4BDM+pL/TV1L3dqKvPrh75Hsy5b8N2CeWhSxB2rRn6NyRcqY+cyb6RzTvjiKWgDyhedgmFH96K6R3IPRTyrgiJMEaYIm/89jSe+GwGK8Ltx46sskIDaImzAozM7Md//Bxy7+hgxcRGwdS+EJt99h7qfe8Ah+iIGf90R+yJeHYz9R82wdmZ7pHfhHeH/yERgr3dzjD3xGJGRBji4uiJ30VYYO6oJMtoDD89sw5LlG3D4n0eIDAtDxiJfo+d3rVAgS8LD1lEPsP9Hf8xYvx9xDo7I+nk99O9cH9nSSH4Y+6XRmyrCMETg5LblmL1qOx4ZYpHukxro0qkZPsuWKuGZ81gE/TgIXY7UxooJFfD8HnFyn/7WK8KRODyhB4b/8Q8iImJg7+KCdJ71MXtOJ2SW97VocuPS/L/zH9TQHCkDBRKgCAuEy2h9EVBbhPXF8l3uTuq3Q/UqN1mEBZVuvSIsCKjOYinCOhuYlZdLEbbyBWD7/xGgCIvZBtlSJqYrtVNlM6cIq70foqujCIsmzHwtCVCEtaTJLF0ToAiLGZ9sKRPTldqpsplThNXeD9HVUYRFE2a+lgQowlrSZJauCVCExYxPtpSJ6UrtVNnMKcJq74fo6ijCogkzX0sCFGEtaTJL1wQowmLGJ1vKxHSldqps5hRhtfdDdHUUYdGEma8lAYqwljSZpWsCFGEx45MtZWK6UjtVNnOKsNr7Ibo6irBowszXkgBFWEuazNI1AYqwmPHJljIxXamdKps5RVjt/RBdHUVYNGHma0mAIqwlTWbpmgBFWMz4ZEuZmK7UTpXNnCKs9n6Iro4iLJow87UkQBHWkiazdE2AIixmfLKlTExXaqfKZk4RVns/RFdHERZNmPlaEqAIa0mTWbomQBEWMz7ZUiamK7VTZTOnCKu9H6KrowiLJsx8LQlQhLWkySxdE0hKhBcvXoy0adOiePHiuu5RRvE7duwgOzODl838xo0bCAwMRPfu3c3cOY9TgcDZs2cxb968pzuQ2Ed4eDgcHR1hZ2cHGxsbFUpmDVZMgCJsxcNn668SSEqEFy1ahIMHDxLZOxAoWbIk2b0Dt/d5iWzm+fPnx9WrVxEREfE+bfC1OiVQrlw5rF+/niKs0/lZW9kUYWubOPt9K4HkHo1Inz496tSpQ4IpJLB06VKQXQqhveflspmfP38e48aNw7Jly96zE75cjwQOHDiA2bNnU4T1ODwrrJkibIVDZ8uJE0hOhD08PODl5UV8KSQg+3nVFJZrEZfLZs5nhC1ijd65CT4j/M7o+EIJBCjCEqDzSDUJUITFzEW2lInpSu1U2cwpwmrvh+jqKMKiCTNfSwIUYS1pMkvXBCjCYsYnW8rEdKV2qmzmFGG190N0dRRh0YSZryUBirCWNJmlawIUYTHjky1lYrpSO1U2c4qw2vshujqKsGjCzNeSAEVYS5rM0jUBirCY8cmWMjFdqZ0qmzlFWO39EF0dRVg0YeZrSYAirCVNZumaAEVYzPhkS5mYrtROlc2cIqz2foiujiIsmjDztSRAEdaSJrN0TYAiLGZ8sqVMTFdqp8pmThFWez9EV0cRFk2Y+VoSoAhrSZNZuiZAERYzPtlSJqYrtVNlM6cIq70foqujCIsmzHwtCVCEtaTJLF0TUFWErx/9Cat+uow633ZAgYxuumMsW8reBiwprsboEBz6eQU2HE2DvsNaIpN9Yimh2DptLC5+WAut61ZEWgd1RiObubWLcPDFXVi65i+UadISpfNmUmcxzFQJRdhMoHmMJgQowppgZIglEFBPhGPwz6ah6DxwI47fTY/FBzajVt4ML1CHXZiH+o0X4O6LP3FC1Vb9MLh7I6R/KmWxuHdyM8ZPXoSzd6IQA1d80XoYJjYvZtZxyZayN5tNmmtsTAi2zOgLn1mbcDCyGk7cCMAnTm+mRB0dhXxlJyJbuwlY69MLWZ3NijXJw0xnbsTDS7sxf9YC/HEhBNExtshfpyt8un6J2KDTGP9tS2z59/WjCsBv30qUcH17CdYrwjG48ZsPOvVbg+M37TH6x5XoUOljdRbDTJVQhM0EmsdoQoAirAlGhlgCAeVEOOQwOnXeinqNPTFvoB+6/PyqCIeeGo9WIyLQqGlhOMYPwMYO2fMXRdF8OeFkY8SNP5ej96TtaDfLD7U8bXFmnQ967MqHLXMbIBGvEzZC06VMWAmvBifDNfzaBkxeFopiYT+j/Qo77Ln8pggbn1zE2CqNscH2HtyK99OtCIf8sxfe/aajSLcp6FIpJ67uXIyha0IwY3oPOP57HOPHzoDn/+ogk4stACNubZ2NEZca4uLuHsiYxLisVoQfH8WggdtQsekXWNJxAKrOpwgntibh4eFwdHSEnZ0dbGxszPSJz2NIIHECFGFuBgkkEFBOhBPqCtodgE4d57wpwmcmY9DK0pg2tvwzEX7pwxj9GP7ejXHAswvm9KwLJzsbIPIBLgbb4aPsac06c+VEOBmuz/5zDP4e0xo1F9i8KcKxYTi6Ygx6Hy2L5raDsDS6g05FOBZ/Tq+P6bdqwXdMJ2SLl93ox7hxPxpZM2dAzMN/sf/EJRQpWwHpHG1gjLyGye2740bLuZhTM3uSO2S1IpxAJeTCHnSu25siHBiY6J5QhM36FszDkiFAEeaKkIBeRfjUODTpeROfFLTBw1AD8pSsg5bNauHDNHaIDj2PXpVbIk29ZkgdcgXXHkYjW4mv0LlZDWRJ9bo2i10ByxLhOIRe3IGhk3/F16NG4pFPCUzTrQjfxaRSX+BsmR4omu4OTl8JxgefVUXLZl8jX2Y36o5VdQAAH9ZJREFUvHqfLg7BR9aiw9RzmDBvEPK7J71DFGGKsK+vLwIpwmLfXJmuCQGKsCYYGWIJBHR3R/jUTLQddw+DJ/ZEHtdbmNXKCwc/GYC5YzsgQ/g+1PmkEv7K3AABG2fjC/sLmDKwO/Z9MhF/jq1u1nFZlAgbo/CL3yjsjCqDUd2+ws/9C+lXhKPO4Jvsn+LnVNUwacEMNPvcBQuHNsfK6G/wx7xuSOUU/zhEwocxGr/MH4KfYqtiStfqcIn/DkMSHxRhijBF2KxvszzsPQhQhN8DHl9qWQT0JsKv079+cDG+bvYDBqz+HnU8z6F6bi9kHbUEy/vUh7NtDM4vH44v++3Fgot7UC2N+WZnSSIccftPjBq0EpUHTED1fGmwoc+nOhbhY6idsRQi2/nAf2I3eDobcf3X+Wjb2Q/td+1Fsw9TvVgSQ9i/mNCnD/K1n4EGJbLgJUVOdJEowhRhirD53mN50vsRoAi/Hz++2oII6E2E4yIiEOvigue/2ev++e1oW6MXavqvRbuiUWhX8Et4DF+CiZ1rwsEmDnd/nYoKLWah5/5r6JLHfIOzJBE+t6gaGs+2Q6VqReFmB5zZ5ocjKIL6VUqjfIeh+CafGr86wiTmhmvo93FB3G4yGzNHt0F6+zg8PLwGbdt6o7D/KYwq8d9XS/eOTEDP2QaMmTUYeVLbJbs8FGGKMEU42U8TXqAIAYqwIoNgGfIJ6EuEY7CzWy2carcJ3T93eQrvxt/LUK/RKniv/h4NC7nCp0UpHCwxESv7esHZzoCLASNRs8defH91F6qkNh9vk6TMfOW8OOltP4T47ILEf1guPOgsLt2NgY3ts0cDfptcD8sNDeDTtxU+/jg/cqRJXhLN0appzA3Y1L0AZth0x+JJ3fGhSxxu/vY92nacj457/kDjHM/vCD/CD02KYk+NrZjWJh/sTfghf4owRZgibI7PdJ6hBQGKsBYUmWERBNQTYSPC79zC6d3rMXDAMrRc6o/qn+REpkxpYW8TjZ8a5YSPU2/4jGyKzI73sHJAG+zI3B7zR3dF7tTAsU3T0HPqGXjPHoaC9v9i8eShOJh3BH4ZWsWs8zJNysxZUlJcgTijAY9uX8e+qb3ROgD4Ye8cFM6UAe6pXZDgv4iLCUXQ7YfYPKoqFsY0xdxhXVAodxY4J/fMgJnaNJX57dPr0PHbAHw5cCjqFEyDjbO648eIevhpeie4PX1GOA4xF5egZOV1mHViC8qmN60B6xVhIyLu3cbl039iUPsxKDd+JpqVLwwPj3QmfQFhGl31r+LvEVZ/RqzwPwIUYW4DCSQQUE+Eo/D3VG8suPAEUVGxsHd2Rvb8ddGzWy2kswNCLu/Fxk07cPJWKKIjIpD+k8po0exr5Pkg4Z84iw7B8d/WY9n2Y4izd0Sm/FXQrnFVZEpl3n8CzVQpM98iJs3VEHkfmyYPx8/XI2AwGOGQKiMq120Fr6qFXoiu4e5ujJuwDtcfhiLW1gHObh+h12Rv5Ht2c176h8nMYyNxYe9mrPx5P0JjjUiTqyyaNPwKH2d2TfitEbG49+sMjD5dEZN6F0cS/4bGKz1brwhH4dT34zH7r1uIjDTAzskJabJWxdAhjZAh0X+dUPqqCCmAIiwEK0MFEaAICwLLWP0RUE+E9ccwsYpNljLLaFeJLmQzt14RVmL80ougCEsfAQtIAQGKcApg8VLLJkARFjNf2VImpiu1U2UzpwirvR+iq6MIiybMfC0JUIS1pMksXROgCIsZn2wpE9OV2qmymVOE1d4P0dVRhEUTZr6WBCjCWtJklq4JUITFjE+2lInpSu1U2cwpwmrvh+jqKMKiCTNfSwIUYS1pMkvXBCjCYsYnW8rEdKV2qmzmFGG190N0dRRh0YSZryUBirCWNJmlawIUYTHjky1lYrpSO1U2c4qw2vshujqKsGjCzNeSAEVYS5rM0jUBirCY8cmWMjFdqZ0qmzlFWO39EF0dRVg0YeZrSYAirCVNZumaAEVYzPhkS5mYrtROlc2cIqz2foiujiIsmjDztSRAEdaSJrN0TYAiLGZ8sqVMTFdqp8pmThFWez9EV0cRFk2Y+VoSoAhrSZNZuiZAERYzPtlSJqYrtVNlM6cIq70foqujCIsmzHwtCVCEtaTJLF0TSEqEV6xYATc3N+TNm1fXPcoo/vjx42RnZvCymQcHB+PAgQOoXbu2mTvncSoQuHHjBvz8/BAYGJhoOeHh4XB0dISdnR1sbGxUKJk1WDEBirAVD5+tv0ogKRGOf1OPv8vBj5QTqFy5MtmlHNt7vUI28yJFiuDChQuIFx5+WB+B6tWrY+PGjRRh6xu9LjumCOtybCxaBAE+GiGCKiD72/RiulI7VTZzPhqh9n6Iro6PRogmzHwtCVCEtaTJLF0ToAiLGZ9sKRPTldqpsplThNXeD9HVUYRFE2a+lgQowlrSZJauCVCExYxPtpSJ6UrtVNnMKcJq74fo6ijCogkzX0sCFGEtaTJL1wQowmLGJ1vKxHSldqps5hRhtfdDdHUUYdGEma8lAYqwljSZpWsCFGEx45MtZWK6UjtVNnOKsNr7Ibo6irBowszXkgBFWEuazNI1AYqwmPHJljIxXamdKps5RVjt/RBdHUVYNGHma0mAIqwlTWbpmgBFWMz4ZEuZmK7UTpXNnCKs9n6Iro4iLJow87UkQBHWkiazdE2AIixmfLKlTExXaqfKZk4RVns/RFdHERZNmPlaEqAIa0mTWbomQBEWMz7ZUiamK7VTZTOnCKu9H6KrowiLJsx8LQlQhLWkySxdE6AIixmfbCkzvatInFg6FmN+CUXX2b6onMH0V6p2pWzm1i7CQSc3YeqcP1CjW29U+zSbaushvB6KsHDEPEBDAhRhDWEySt8E9CDCfwUMQc+RAbgUGg33ot9g7veTUCW741PwNw4uxKAhs3Hg0gM8eRyOvPX7w3d0DxTL5iJ1MLKlzNTmDTd/Rd3arfD7lUzwO3MCrbI/e2XMkztYOrYzxq48gLjoGKQv2wm+PgNRPlda2JgabubrTGduRPCpTRg5eDQ2H7+PqGg7fN56NNaNbgbD9cPoWrUUAq69Xnwx7Ag9giqp3t6U9YpwDC6v642v2q1HsG1WTAxciQ6VPjbz9OUfRxGWPwNWYDoBirDprHilhRNQW4RjcGX1t/jfsBsYu3YNmhZ1xr4JX6HnrwXgt2oaPs/iiO1jK2ODizfGda+BNMa7mNSiOrbm7I1fJrSBm4M8ZTNdyuQtmDE6BDvmT8Hibauxfo/rKyK8f159tF+XHQv9J6BUVgMWDWyAOfe+wq7ve8HdyVZe0UmcbCrz++e2wnv4ClToPRGtS2XDrf1rMXHjY4wa2R72/x7HlCnzkbdGPWR2ie/TgEvrfDDmTguc3dwB6ZM432pF+MkZ+EzZg+I1P8L8tt6oOp8inNiahIeHw9HREXZ2drCxkffepOQnL4syOwGKsNmR80BVCSgtwrE3MKpUSazNPg17f2yCdLZA+N1f0bh4b1SauRo9vy6EB5f24nGaL/BRZicgNhI/+jTFoGPlcGRxb6RxlidspkqZzL0IPvcLJs3+HRXyX0OjQWdfEeENXXJhgVNfLJzYDdmdDNi9ZDjaTH2CXQem4sNUDjLLfuvZpjE3YPvw6vA3tML0Ea2R2ckGMIQj+LEB6d1Tw/DkAc5dDULuAgWRyt4GxifnMaztQNj3nI9R5TIn2bfVinAClZALe9C5bm+KcGBgontCEVbybcNqi6IIW+3o2fjrBJQW4ZhL6FSwHPaXXIpDy2sg/mGHyMeH0DF/LbgPW46Jnb6E20uuG3p5N/p17g/n5lMwpXUFONrKu+timpTJ3MdobB3dFL990A99PBYib+vDr4jwmcD+aDv9AUbN90G13FGY1cULa5yaY5tvF6RxlPcFRlLETGMehLGfl8CFcl2QK+4sDp+9jSwl66NH15YonC31a499xOHOvgB0mHsTvnP7IneapL8AoAhThH19fRFIEZb5xsazTSRAETYRFC+zfAJKizCeYH3T4hhwuRY2bJ+Egqltce/EIlQu3hdfTFyGWT3rI7U9gAeHMbT3QATsvoyiXt4Y0b81CmVxha3Ebz+aJmWy9suIyFPz0aDfJYxbPQ2ef3RA1haHXhHhqEeXsGSKN2auPQMbmyik/qw+xowbjCofZ5DK9b1FOOo0Gnh8iu0f1MasZfPRopgbFg3wwoyrFbErYAgyusQv1LOPuNgobJzpjT9Te2Fs24pwskt6XhRhijBFWNZ7Gs9NKQGKcEqJ8XqLJaC2CAMRl1ejc69FcP7cC5ULpMLVP9cjYO0+VBy+GJM714LbS3JiePQPfL27YVNYBaxa1BdZnf+TGnMPUGURNoZdwowWnfCwYwBG1vJAyKbXRTgMGwd/jZnXysJn+gAUTh+LDRO7YcFxT/gtHo6cen40Iuo4vs5UClHtp2LhhK7I7mTEze1+aNt5Dpr/uh9t8vz303AxodcwutcgfN7NF/WKZkz2hwQpwhRhirC532l53rsSoAi/Kzm+zuIIqC7C8cAf3TyDE+dvIcJoj9QZ0+LHrm2Qqe8K9PH6DA6GGMAh4VvWcUZcCJyJtl3XYPCJ7fgqo5u0eakswg8PzkKZ+r7IVa4k0jkA4f/sx6bD91HsyzqoVL8tBjfKjG75aiDDgHWY2K00XGziELRzEdq090GjrYfR4ZPU0ri+9x3h2JsYnC8frjecjZlj2iC9fRweHVmLNm28Udj/JEaVSPPiiNt/DkYvf3dMntUPnq7JPw5CEaYIU4SVfGtgUYkQoAhzLUjg+bd/4+IQGxuL6OhouLq6vsJFCZm7dxRHHuRF8QT5enItAA2brkHfgDWolus+JtbtgE/9fkLtLPF3f404s2Ea2nQNxLhjv6Ja5lf7MefQlWBnYsMP3rgjfBk9PEshuuty+HjXRCrbOFz/ZR7atJmJ9gePoPmHSfwOMRPPFHGZqcy3DymEkSHtsWxyL+R2Teit41L0OfI7amd+/sVTMBb/Lz9Of3sCPo08TCqXIkwRpgib9KnCixQgQBFWYAgsQQ0Cqt8RDv2tA8qPdcPgkd/A0/4Bdi6chUeVJmBk28/hgjuY+lVtnCzaBS1rFoBj7AOs/34yzmZri9VjWsJd4g91mSplMrcgLjYSt6+exdE1w1Bv3Bn0X74K7Ut/jA+zpMMh/9YYsMUWbdq2QL60wLYAH+yOqYU1c7sis3MyD8tKaspU5vcubEXf3ktQoHFLVMzrhl1rZ+CIW2MsH9kUrk93Jg4Rx2ahZIP9WPT3KnyR1rSGrFeEY/Hg7FEcOnYAkwfMQvH+I1C/TCkULZobEn9xi2lD0/Aq/h5hDWEySjgBirBwxDxALwRUF2HD/dPYuOUA7kfGwd7eCVmKVESlwp5wfepiBty78Df2HjmPhxExMMRGI3W2QihbthhyuDsn+0ynyBmZKmUia0guOy7mMU4f/AV7/r6NKKMRtg5p8XmlqihVIAcQ9QjH92zH0WsPYGOMhX36vChbqTTyfJBKKtekejKZuTEat84cwu4j5xFhNMI1c36UL/sFsrk7JfRmRMjRjVh9/VO0+fojOCUHMuG/W68Ix+Dath/w06VgxMTE75EDXNMXRuPG5ZBGza+ZTJxoyi6jCKeMF6+WS4AiLJc/T1eIgOoirBCqFJVispSlKJUXayLCgjBarwgLAqqzWIqwzgZm5eVShK18Adj+fwQowmK2gSIshitF2PxceaJpBCjCpnHiVWoQoAirMQdWoQABirCYIVCExXClCJufK080jQBF2DROvEoNAhRhNebAKhQgQBEWMwSKsBiuFGHzc+WJphGgCJvGiVepQYAirMYcWIUCBCjCYoZAERbDlSJsfq480TQCFGHTOPEqNQhQhNWYA6tQgABFWMwQKMJiuFKEzc+VJ5pGgCJsGidepQYBirAac2AVChCgCIsZAkVYDFeKsPm58kTTCFCETePEq9QgQBFWYw6sQgECFGExQ6AIi+FKETY/V55oGgGKsGmceJUaBCjCasyBVShAgCIsZggUYTFcKcLm58oTTSNAETaNE69SgwBFWI05sAoFCFCExQyBIiyGK0XY/Fx5omkEKMKmceJVahCgCKsxB1ahAIGkRHjVqlVwdnZG1qxZFahUXyVcuXKF7Mw8MtnM4/9iOXfuHEqWLGnmznmcCgTu3buHhQsXIjAwMNFywsPD4ejoCDs7O9jY2KhQMmuwYgIUYSsePlt/lUByd4Tf9qZOjkkTqFev3lv/QiQ7MQRkMy9XrhyOHz+O0NBQMQ0yVWkCjRs3xpYtWyjCSk+JxT0nQBHmLpBAAoHkRNjDwwNeXl7klUICfDQihcA0uFw285MnT2LEiBFYv369Bt0wQm8E+GiE3iZm3fVShK17/uz+JQIUYTHrIFvKxHSldqps5hRhtfdDdHUUYdGEma8lAYqwljSZpWsCFGEx45MtZWK6UjtVNnOKsNr7Ibo6irBowszXkgBFWEuazNI1AYqwmPHJljIxXamdKps5RVjt/RBdHUVYNGHma0mAIqwlTWbpmgBFWMz4ZEuZmK7UTpXNnCKs9n6Iro4iLJow87UkQBHWkiazdE2AIixmfLKlTExXaqfKZk4RVns/RFdHERZNmPlaEqAIa0mTWbomQBEWMz7ZUiamK7VTZTOnCKu9H6KrowiLJsx8LQlQhLWkySxdE6AIixmfbCkT05XaqbKZU4TV3g/R1VGERRNmvpYEKMJa0mSWrglQhMWMT7aUielK7VTZzCnCau+H6OoowqIJM19LAhRhLWkyS9cEVBXhU9tmYtSsv9Bjri/Ke7q/wjg24h42zxmCKds+QMCW8cjpmNgI7mNui7o4/GlXTO7dHBmdzDsm2VL2tm71zjWpKcpmThE27+eYaqdRhFWbCOtJigBFmPtBAgkElBPh2FDsn/ct+kw9gquPM2DRwc2olTfDi3kZwm/Cf2g3LF65D0eN1XD8RgA+eV1y4wy4t7kj8jZcg0KdxmOtTy9kdTbvyGVL2RvdWghXLUTYaIjClf1rMXv+Chy+GoqwkHBkrdETa8e3gvHGX+j+VWVsDnaBrc2z04xRT/AougR2P/gD5d3eXoFlirAB9/85hYBJfTDYfydi3HNg4o7z6F3I5SmIOEM4Lu5cgiFjpuP3k2FwdTYgyi07GvSYiOEdq8DDJQwry3ui+d7Hb4LLWB8HLwWgRJpnWXr/oAjrfYLWVT9F2LrmzW6TIKCcCIddwMxZR/B5wRhM6rsAXX5+VYSj7u7DDzvCkPnUIjRfaoc9l98U4eh/96C712TcSncSj/L0ogjHz99CuGohwneOr0H/idtQp/84NCqaGXeObsGcbaHo0/sb2P17AtNmLkHBrxogi4stgGicWDIGk8I74sTKZkibRAEWKcLRxzH224k4c+kMNu8/geh0r4rwo1M/o02Tpth4+gnq+5/HwhL70ahxL+y8FIXv5u/F1La5sK68J3o9LIj8GRwS6BkRfOMcLqAu/j4+F4VSm/nbNYL+RqAICwLLWCEEKMJCsDJUjwSUE+EEiEG7A9Cp45w3RPjZf47B32Nao+YCmzdFOOY+Nk8ejhUZO6DOuZaYH92BIvzSYuqd6/uLcAy29quIVa7dMG1oU3zgaAPERiEkPBapU7nAGBGKG3ceIIvnh3Cxs0FsyCl4tx0OjyF+6FfsgyQ/xS1ShGPu4OzlaBh2+6Ba75l4mOpVEb6xazGaN2yHPfcd0evwY0zPuQdNarXDmiN3Ua/PcizxqY4tVfIhsOvvmFYq9VN+xugw+A9sgL25huHHMY2Q1jH+Cw79f1CE9T9Da+qAImxN02avSRKwLBGOw4O/fkDPeecwzncQjgwrimkU4Vfm/24irA7X9xfhmxiSvySuVWwL55vbsf2vG/Cs2h4TRvdFmVxpkfA0RMIxcbj1+yJ0XBaJJXO7IJOrnfWJ8DN1xaVFfVGu+4w3RDgm+CQGtvgGM7edRdkxB7Gi6iF4tRiIv2/ZYsTGKxhW/c0vHsKurUOlinPRZ2UAmpTxeI25ft+wKcL6nZ01Vk4Rtsaps+dECViSCBtjQrHWZxguZ28E7+ZlsbnfpxTh16b+LiKsEtf3FuGoU6jv8Rn2ejbC3MUz0eBTF6wa1RyTjhbAlrVjkcPt+bfvgbjYSKyb2hfHMjfDiJZlkdyNS4u8I5yMCBsiHuLvbfPQq9sE/JO2IPK4heLM+RBU6D8X076rgVzpnF4VXUMoNvUohAmPOyNg/gDkTmUZd4PjMVGE+ZesnghQhPU0LdYqlIAliXDI+aUYMuUS2owegmJZnbGhD0X49eV5FxFWiev7i/AJeGUuBUPH6VgwrjM8HOMQtGsh2nacirqbD6Nrvmffvo//iH50DkN6jEPlgbPwZQH3ZO9cWqMIX9g1D82b98ORfzNjzomjaO9xAX3qN8e8A8FoMWIhfLy9kOml3+oScmgySlafgZZrD2NA9WywF/ruZt5wirB5efO09yNAEX4/fny1BRGwJBE+5lMMtaY+hmfuLHCwBW6fP4Ig2yzInzsX6kzdhOGlU5ltcsr91oiEzt9FhFXi+t4ibAzCyAIf4VL92Zg5pg3S28fh0ZEf0LZtf3y26CRGlUjz4ohbO7uhz6qPMGNWD3g4vfrQRGJ1WKMIb5/fDA26rMJj+yo4ELoDJe2D4OtVB702/42PanXCksVzUCZTwiMlhjvwbVgdw+62xqldveEZ/3y2BX1QhC1omFbQCkXYCobMFk0jYEki/HrH63lH+I0leBcRVonre4swgN3jy2LIldrw8+mP/GltcHHjNHTqtxVD9v+Eahldnx1huImZlUvgnvcxjKmTyaRPJmsU4X0B3mjcxge3DEWw6c5BfJXmOkbV9cLo307h82+GwN9vNArHf20RZ0TwgXko32w2Gm88hlGfWcZvinh5MSjCJn2a8CJFCFCEFRkEy5BPQD0RjsH139Zj0x+7sPD77ajq3Q8VC5dFlcqfws0WMMY8wfFtgfhpyVxM2RGHYTP7omKx0iiaPxscnv/e18cXsOWXv7B9UT9sNVZBz1Yt0OCbGsiS6D+8IWYG6t0RtgyuWojww6u7MXLg93ArXhFFc7jg7z824f6HLTCzd204x38rAUaE7puIku2vYdWhBSj839MSSS6LZYpwCPatWY8921ZjfMCvCHdKj0beE1CrdAU0/V8+hF89iKkjB2Dp1uP4sOEQNPa8Br/FmxHhXghdhkzFt3U+Rvyv8DZG3oP/0HaYdqs29qzqjP9+M7iYzz8ZqRRhGdR55rsSoAi/Kzm+zuIIqCfCBgTt+w1H7kcjNjYOtvb2SPPBJyhZ4iPE/1pXoyEc5//ciYshBhiNcbB1dEWuTwojf+7MsH8uwmFX8ceeMwiJjEacjS3sHTKgVLWy+OC/n4MSPkf1RNgyuGohwjAacP/6eZy8eBNRcXFwcs+BTwt8jAypHBKeAzYi7PIB7L6bE9VKZ4Wpa2OZIhyKo1t34FrUq+TtsnyGWqVyww5GhN2/jjNnLiDofjiMsIGdSxrkyFMQ+XNnglPCz8IZo5/gzLEDeJKpGErlTCf880/GARRhGdR55rsSoAi/Kzm+zuIIqCfCloFYPRG2DK6aiLAgFJYpwoJgWWAsRdgCh2rBLVGELXi4bC1lBCjCKeNl6tUUYVNJaXedbOYUYe1mqcckirAep2a9NVOErXf27Pw1AhRhMSshW8rEdKV2qmzmFGG190N0dRRh0YSZryUBirCWNJmlawIUYTHjky1lYrpSO1U2c4qw2vshujqKsGjCzNeSAEVYS5rM0jUBirCY8cmWMjFdqZ0qmzlFWO39EF0dRVg0YeZrSYAirCVNZumaAEVYzPhkS5mYrtROlc2cIqz2foiujiIsmjDztSRAEdaSJrN0TYAiLGZ8sqVMTFdqp8pmThFWez9EV0cRFk2Y+VoSoAhrSZNZuiZAERYzPtlSJqYrtVNlM6cIq70foqujCIsmzHwtCVCEtaTJLF0ToAiLGZ9sKRPTldqpsplThNXeD9HVUYRFE2a+lgQowlrSZJauCVCExYxPtpSJ6UrtVNnMKcJq74fo6ijCogkzX0sCFGEtaTJL1wSSEuG1a9fCwcEB7u7uuu5RRvH37t0jOzODl808IiICt2/fRq5cuczcOY9TgUBoaCj8/f0RGBiYaDnh4eFwdHSEnZ0dbGwS/j14FQpnDVZJgCJslWNn04kRSEqEW7RoQWgkQAIkQAImEnB1dYWfnx9F2ERevEweAYqwPPY8WTECSYmwYqWyHBIgARLQLQHeEdbt6CyycIqwRY6VTb0LAYrwu1Dja0iABEggZQQowinjxavFEqAIi+XLdB0RoAjraFgslQRIQLcEKMK6HZ1FFk4Rtsixsql3IfBchGNiYuDi4vIuEXwNCZAACZBAMgTif5gy/oeP+cNyXBUVCFCEVZgCa1CCAEVYiTGwCBIgAQsnQBG28AHrrD2KsM4GxnLFEXguwgaDAc7OzuIOYjIJkAAJWDGByMhI2Nvb846wFe+ASq1ThFWaBmuRSiBehI1GI2JjYxEvw/H/G///4/+cHyRAAiRAAu9OIP73Bdva2j6V3+cSHP//+XuE350pX6kNAYqwNhyZYiEEXpbhlyWYMmwhA2YbJEACZifwXHZflmFKsNnHwAPfQoAizNUggZcIPBde3gnmWpAACZCA9gSey3B8Mu8Ga8+XiSknQBFOOTO+wgoI8A6wFQyZLZIACUghQAGWgp2H8o4wd4AESIAESIAESIAESIAE/iPAO8LcBhIgARIgARIgARIgAaskQBG2yrGzaRIgARIgARIgARIgAYowd4AESIAESIAESIAESMAqCVCErXLsbJoESIAESIAESIAESIAizB0gARIgARIgARIgARKwSgJJifD/AcNwnK6dPLkyAAAAAElFTkSuQmCC\"/>"
   ]
  },
  {
   "cell_type": "markdown",
   "metadata": {},
   "source": [
    "***https://ideone.com/cod6Ma***"
   ]
  },
  {
   "cell_type": "code",
   "execution_count": 50,
   "metadata": {},
   "outputs": [],
   "source": [
    "/*\n",
    "For Other Details View Question Link\n",
    "*/"
   ]
  },
  {
   "cell_type": "markdown",
   "metadata": {},
   "source": [
    "## **481. Euler’s Totient Function**\n",
    "https://www.geeksforgeeks.org/eulers-totient-function/"
   ]
  },
  {
   "cell_type": "code",
   "execution_count": 51,
   "metadata": {},
   "outputs": [],
   "source": [
    "/*\n",
    "Euler’s Totient function ?\n",
    "\n",
    "(n) for an input n is count of numbers in {1, 2, 3, …, n} \n",
    "    that are relatively prime to n, \n",
    "    i.e., the numbers whose GCD (Greatest Common Divisor) with n is 1.\n",
    "*/"
   ]
  },
  {
   "cell_type": "code",
   "execution_count": 52,
   "metadata": {},
   "outputs": [],
   "source": [
    "/*\n",
    "Examples :\n",
    "\n",
    "?(1) = 1  \n",
    "gcd(1, 1) is 1\n",
    "\n",
    "?(2) = 1\n",
    "gcd(1, 2) is 1, but gcd(2, 2) is 2.\n",
    "\n",
    "?(3) = 2\n",
    "gcd(1, 3) is 1 and gcd(2, 3) is 1\n",
    "\n",
    "?(4) = 2\n",
    "gcd(1, 4) is 1 and gcd(3, 4) is 1\n",
    "\n",
    "?(5) = 4\n",
    "gcd(1, 5) is 1, gcd(2, 5) is 1, \n",
    "gcd(3, 5) is 1 and gcd(4, 5) is 1\n",
    "\n",
    "?(6) = 2\n",
    "gcd(1, 6) is 1 and gcd(5, 6) is 1,\n",
    "*/"
   ]
  },
  {
   "cell_type": "code",
   "execution_count": 53,
   "metadata": {},
   "outputs": [],
   "source": [
    "/*\n",
    "How to compute ?(n) for an input n?\n",
    "\n",
    "A simple solution is to iterate through all numbers from 1 to n-1 \n",
    "and count numbers with gcd with n as 1. \n",
    "\n",
    "Below is the implementation of the simple method \n",
    "    to compute Euler’s Totient function for an input integer n.\n",
    "*/"
   ]
  },
  {
   "cell_type": "code",
   "execution_count": 54,
   "metadata": {},
   "outputs": [
    {
     "name": "stdout",
     "output_type": "stream",
     "text": [
      "phi(1) = 1\n",
      "phi(2) = 1\n",
      "phi(3) = 2\n",
      "phi(4) = 2\n",
      "phi(5) = 4\n",
      "phi(6) = 2\n",
      "phi(7) = 6\n",
      "phi(8) = 4\n",
      "phi(9) = 6\n",
      "phi(10) = 4\n"
     ]
    }
   ],
   "source": [
    "// Function to return GCD of a and b \n",
    "static int gcd(int a, int b) \n",
    "{ \n",
    "    if (a == 0) \n",
    "        return b; \n",
    "    return gcd(b % a, a); \n",
    "} \n",
    "\n",
    "// A simple method to evaluate \n",
    "// Euler Totient Function \n",
    "static int phi(int n) \n",
    "{ \n",
    "    int result = 1; \n",
    "    for (int i = 2; i < n; i++) \n",
    "        if (gcd(i, n) == 1) \n",
    "            result++; \n",
    "    return result; \n",
    "} \n",
    "\n",
    "// Driver code \n",
    "public static void main(String[] args) \n",
    "{ \n",
    "    int n; \n",
    "\n",
    "    for (n = 1; n <= 10; n++) \n",
    "        System.out.println(\"phi(\" + n + \") = \" + phi(n)); \n",
    "} \n",
    "main(args);"
   ]
  },
  {
   "cell_type": "code",
   "execution_count": 55,
   "metadata": {},
   "outputs": [],
   "source": [
    "/*\n",
    "The above code calls gcd function O(n) times. \n",
    "Time complexity of the gcd function is O(h) \n",
    "    where h is number of digits in smaller number of given two numbers. \n",
    "    \n",
    "Therefore, \n",
    "    an upper bound on time complexity of above solution is O(nLogn) \n",
    "    \n",
    "    [How? there can be at most Log10n digits in all numbers from 1 to n]\n",
    "*/"
   ]
  },
  {
   "cell_type": "code",
   "execution_count": 56,
   "metadata": {},
   "outputs": [],
   "source": [
    "/*\n",
    "Below is a Better Solution. \n",
    "\n",
    "The idea is based on Euler’s product formula \n",
    "    which states that value of totient functions is below product over all prime factors p of n.\n",
    "*/"
   ]
  },
  {
   "cell_type": "markdown",
   "metadata": {},
   "source": [
    "<img src = \"https://media.geeksforgeeks.org/wp-content/cdn-uploads/Eulers_Totient_function.png\"/>"
   ]
  },
  {
   "cell_type": "code",
   "execution_count": 57,
   "metadata": {},
   "outputs": [],
   "source": [
    "/*\n",
    "The formula basically says that the value of ?\n",
    "\n",
    "(n) is equal to n multiplied by product of (1 – 1/p) for all prime factors p of n. \n",
    "\n",
    "For example \n",
    "    value of ?(6) \n",
    "        = 6 * (1-1/2) * (1 – 1/3) \n",
    "        = 2.\n",
    "*/"
   ]
  },
  {
   "cell_type": "code",
   "execution_count": 58,
   "metadata": {},
   "outputs": [],
   "source": [
    "/*\n",
    "We can find all prime factors using the idea used in this post.\n",
    "\n",
    "1) Initialize : result = n\n",
    "2) Run a loop from 'p' = 2 to sqrt(n), do following for every 'p'.\n",
    "     a) If p divides n, then \n",
    "           Set: result = result  * (1.0 - (1.0 / (float) p));\n",
    "           Divide all occurrences of p in n.\n",
    "3) Return result  \n",
    "*/"
   ]
  },
  {
   "cell_type": "code",
   "execution_count": 59,
   "metadata": {},
   "outputs": [
    {
     "name": "stdout",
     "output_type": "stream",
     "text": [
      "phi(1) = 1\n",
      "phi(2) = 1\n",
      "phi(3) = 2\n",
      "phi(4) = 2\n",
      "phi(5) = 4\n",
      "phi(6) = 2\n",
      "phi(7) = 6\n",
      "phi(8) = 4\n",
      "phi(9) = 6\n",
      "phi(10) = 4\n"
     ]
    }
   ],
   "source": [
    "static int phi(int n) \n",
    "{ \n",
    "    // Initialize result as n \n",
    "    float result = n; \n",
    "\n",
    "    // Consider all prime factors of n and for \n",
    "    // every prime factor p, multiply result \n",
    "    // with (1 - 1/p) \n",
    "    for (int p = 2; p * p <= n; ++p) { \n",
    "        // Check if p is a prime factor. \n",
    "        if (n % p == 0) { \n",
    "            // If yes, then update n and result \n",
    "            while (n % p == 0) \n",
    "                n /= p; \n",
    "            result *= (1.0 - (1.0 / (float)p)); \n",
    "        } \n",
    "    } \n",
    "\n",
    "    // If n has a prime factor greater than sqrt(n) \n",
    "    // (There can be at-most one such prime factor) \n",
    "    if (n > 1) \n",
    "        result *= (1.0 - (1.0 / (float)n)); \n",
    "\n",
    "    return (int)result; \n",
    "} \n",
    "\n",
    "// Driver program to test above function \n",
    "public static void main(String args[]) \n",
    "{ \n",
    "    int n; \n",
    "    for (n = 1; n <= 10; n++) \n",
    "        System.out.println(\"phi(\" + n + \") = \" + phi(n)); \n",
    "} \n",
    "main(args);"
   ]
  },
  {
   "cell_type": "code",
   "execution_count": 60,
   "metadata": {},
   "outputs": [],
   "source": [
    "/*\n",
    "For Other Details View Question Link\n",
    "*/"
   ]
  },
  {
   "cell_type": "markdown",
   "metadata": {},
   "source": [
    "## **482. Sieve of Eratosthenes in 0(n) time complexity**\n",
    "https://www.geeksforgeeks.org/sieve-eratosthenes-0n-time-complexity/"
   ]
  },
  {
   "cell_type": "code",
   "execution_count": 61,
   "metadata": {},
   "outputs": [],
   "source": [
    "/*\n",
    "The classical Sieve of Eratosthenes algorithm takes O(N log (log N)) time \n",
    "    to find all prime numbers less than N.\n",
    "    \n",
    "In this article,\n",
    "    a modified Sieve is discussed that works in O(N) time.\n",
    "*/"
   ]
  },
  {
   "cell_type": "code",
   "execution_count": 62,
   "metadata": {},
   "outputs": [],
   "source": [
    "/*\n",
    "Example :\n",
    "\n",
    "Given a number N, print all prime \n",
    "numbers smaller than N\n",
    "\n",
    "Input :  int N = 15\n",
    "Output : 2 3 5 7 11 13\n",
    "\n",
    "Input : int N = 20\n",
    "Output : 2 3 5 7 11 13 17 19\n",
    "*/"
   ]
  },
  {
   "cell_type": "code",
   "execution_count": 63,
   "metadata": {},
   "outputs": [],
   "source": [
    "/*\n",
    "Manipulated Sieve of Eratosthenes algorithm works as following:\n",
    "\n",
    "For every number i where i varies from 2 to N-1:\n",
    "    Check if the number is prime. If the number\n",
    "    is prime, store it in prime array.\n",
    "\n",
    "For every prime numbers j less than or equal to the smallest  \n",
    "prime factor p of i:\n",
    "    Mark all numbers j*p as non_prime.\n",
    "    Mark smallest prime factor of j*p as j\n",
    "*/"
   ]
  },
  {
   "cell_type": "markdown",
   "metadata": {},
   "source": [
    "**Related Link :**   ***https://www.geeksforgeeks.org/sieve-of-eratosthenes/***"
   ]
  },
  {
   "cell_type": "code",
   "execution_count": 64,
   "metadata": {},
   "outputs": [],
   "source": [
    "static final int MAX_SIZE = 1000001; \n",
    "// isPrime[] : isPrime[i] is true if number is prime  \n",
    "// prime[] : stores all prime number less than N \n",
    "// SPF[] that store smallest prime factor of number \n",
    "// [for Exp : smallest prime factor of '8' and '16' \n",
    "// is '2' so we put SPF[8] = 2 , SPF[16] = 2 ] \n",
    "static Vector<Boolean>isprime = new Vector<>(MAX_SIZE); \n",
    "static Vector<Integer>prime = new Vector<>(); \n",
    "static Vector<Integer>SPF = new Vector<>(MAX_SIZE); "
   ]
  },
  {
   "cell_type": "code",
   "execution_count": 65,
   "metadata": {},
   "outputs": [
    {
     "name": "stdout",
     "output_type": "stream",
     "text": [
      "2 3 5 7 11 "
     ]
    }
   ],
   "source": [
    "// method generate all prime number less then N in O(n) \n",
    "static void manipulated_seive(int N) \n",
    "{ \n",
    "    // 0 and 1 are not prime \n",
    "    isprime.set(0, false); \n",
    "    isprime.set(1, false); \n",
    "\n",
    "    // Fill rest of the entries \n",
    "    for (int i=2; i<N ; i++) \n",
    "    { \n",
    "        // If isPrime[i] == True then i is \n",
    "        // prime number \n",
    "        if (isprime.get(i)) \n",
    "        { \n",
    "            // put i into prime[] vector \n",
    "            prime.add(i); \n",
    "\n",
    "            // A prime number is its own smallest \n",
    "            // prime factor \n",
    "            SPF.set(i,i); \n",
    "        } \n",
    "\n",
    "        // Remove all multiples of  i*prime[j] which are \n",
    "        // not prime by making isPrime[i*prime[j]] = false \n",
    "        // and put smallest prime factor of i*Prime[j] as prime[j] \n",
    "        // [for exp :let  i = 5, j = 0, prime[j] = 2 [ i*prime[j] = 10] \n",
    "        // so smallest prime factor of '10' is '2' that is prime[j] ] \n",
    "        // this loop run only one time for number which are not prime \n",
    "        for (int j=0; \n",
    "             j < prime.size() && \n",
    "             i*prime.get(j) < N && prime.get(j) <= SPF.get(i); \n",
    "             j++) \n",
    "        { \n",
    "            isprime.set(i*prime.get(j),false); \n",
    "\n",
    "            // put smallest prime factor of i*prime[j] \n",
    "            SPF.set(i*prime.get(j),prime.get(j)) ; \n",
    "        } \n",
    "    } \n",
    "} \n",
    "\n",
    "// Driver method \n",
    "public static void main(String args[])  \n",
    "{ \n",
    "    int N = 13 ; // Must be less than MAX_SIZE \n",
    "\n",
    "    // initializing isprime and spf \n",
    "    for (int i = 0; i < MAX_SIZE; i++){ \n",
    "        isprime.add(true); \n",
    "        SPF.add(2); \n",
    "    } \n",
    "\n",
    "\n",
    "    manipulated_seive(N); \n",
    "\n",
    "    // pint all prime number less then N \n",
    "    for (int i=0; i<prime.size() && prime.get(i) <= N ; i++) \n",
    "        System.out.print(prime.get(i) + \" \"); \n",
    "}\n",
    "main(args);"
   ]
  },
  {
   "cell_type": "code",
   "execution_count": 66,
   "metadata": {},
   "outputs": [],
   "source": [
    "/*\n",
    "Illustration:\n",
    "\n",
    "isPrime[0] = isPrime[1] = 0\n",
    "\n",
    "After i = 2 iteration :\n",
    "isPrime[]   [F, F, T, T, F, T, T, T] \n",
    "SPF[]       [0, 0, 2, 0, 2, 0, 0, 0]\n",
    "     index   0  1  2  3  4  5  6  7\n",
    "\n",
    "After i = 3 iteration :\n",
    "isPrime[]  [F, F, T, T, F, T, F, T, T, F ]\n",
    "SPF[]      [0, 0, 2, 3, 2, 0, 2, 0, 0, 3 ]\n",
    "  index     0  1  2  3  4  5  6  7  8  9\n",
    "\n",
    "After i = 4 iteration :\n",
    "isPrime[]  [F, F, T, T, F, T, F, T, F, F]\n",
    "SPF[]      [0, 0, 2, 3, 2, 0, 2, 0, 2, 3]\n",
    "  index     0  1  2  3  4  5  6  7  8  9\n",
    "*/"
   ]
  },
  {
   "cell_type": "code",
   "execution_count": null,
   "metadata": {},
   "outputs": [],
   "source": []
  }
 ],
 "metadata": {
  "kernelspec": {
   "display_name": "Java",
   "language": "java",
   "name": "java"
  },
  "language_info": {
   "codemirror_mode": "java",
   "file_extension": ".jshell",
   "mimetype": "text/x-java-source",
   "name": "Java",
   "pygments_lexer": "java",
   "version": "11.0.6+8-LTS"
  },
  "toc": {
   "base_numbering": 1,
   "nav_menu": {},
   "number_sections": true,
   "sideBar": true,
   "skip_h1_title": true,
   "title_cell": "Table of Contents",
   "title_sidebar": "Contents",
   "toc_cell": false,
   "toc_position": {
    "height": "calc(100% - 180px)",
    "left": "10px",
    "top": "150px",
    "width": "299.774px"
   },
   "toc_section_display": true,
   "toc_window_display": true
  }
 },
 "nbformat": 4,
 "nbformat_minor": 2
}
