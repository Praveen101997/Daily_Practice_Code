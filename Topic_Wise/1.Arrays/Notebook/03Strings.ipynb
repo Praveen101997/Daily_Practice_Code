{
 "cells": [
  {
   "cell_type": "markdown",
   "metadata": {},
   "source": [
    "# ----------------------------------------STRINGS TOPIC----------------------------------------\n",
    "**==============================================================================**\n",
    "# Assembled By - Praveen Kumar Sharma\n",
    "# Source - GeeksForGeeks\n",
    "**==============================================================================**"
   ]
  },
  {
   "cell_type": "code",
   "execution_count": 1,
   "metadata": {},
   "outputs": [],
   "source": [
    "import java.util.*;\n",
    "import java.io.*;\n",
    "import java.util.Arrays;\n",
    "String[] args =new String[0];"
   ]
  },
  {
   "cell_type": "markdown",
   "metadata": {},
   "source": [
    "## **78. Minimum number of swaps required to sort an array**\n",
    "https://www.geeksforgeeks.org/print-words-together-set-characters/"
   ]
  },
  {
   "cell_type": "code",
   "execution_count": 2,
   "metadata": {},
   "outputs": [],
   "source": [
    "/*\n",
    "Given a list of words with lower cases. \n",
    "Implement a function to find all Words that have the same unique character set .\n",
    "*/"
   ]
  },
  {
   "cell_type": "code",
   "execution_count": 3,
   "metadata": {},
   "outputs": [],
   "source": [
    "/*\n",
    "Example:\n",
    "\n",
    "Input: words[] = { \"may\", \"student\", \"students\", \"dog\",\n",
    "                 \"studentssess\", \"god\", \"cat\", \"act\",\n",
    "                 \"tab\", \"bat\", \"flow\", \"wolf\", \"lambs\",\n",
    "                 \"amy\", \"yam\", \"balms\", \"looped\", \n",
    "                 \"poodle\"};\n",
    "Output : \n",
    "looped, poodle, \n",
    "lambs, balms, \n",
    "flow, wolf, \n",
    "tab, bat, \n",
    "may, amy, yam, \n",
    "student, students, studentssess, \n",
    "dog, god, \n",
    "cat, act, \n",
    "\n",
    "All words with same set of characters are printed \n",
    "together in a line.\n",
    "*/"
   ]
  },
  {
   "cell_type": "code",
   "execution_count": 4,
   "metadata": {},
   "outputs": [],
   "source": [
    "/*\n",
    "The idea is to use hashing. \n",
    "We generate a key for all words. \n",
    "The key contains all unique character (Size of key is at most 26 for lower case alphabets). \n",
    "We store indexes of words as values for a key. \n",
    "Once we have filled all keys and values in hash table, we can print the result by traversing the table.\n",
    "\n",
    "Time complexity : O(n*k) where n is number of words in dictionary and k is maximum length of a word.\n",
    "*/"
   ]
  },
  {
   "cell_type": "code",
   "execution_count": 5,
   "metadata": {},
   "outputs": [],
   "source": [
    "import java.util.Map.*;\n",
    "\n",
    "static final int MAX_CHAR = 26; \n",
    "\n",
    "// Generates a key from given string. The key \n",
    "// contains all unique characters of given string \n",
    "// in sorted order consisting of only distinct elements. \n",
    "static String getKey(String str) \n",
    "{ \n",
    "    boolean[] visited = new boolean[MAX_CHAR]; \n",
    "    Arrays.fill(visited, false); \n",
    "\n",
    "    // store all unique characters of current \n",
    "    // word in key \n",
    "    for (int j = 0; j < str.length(); j++) \n",
    "        visited[str.charAt(j) - 'a'] = true ; \n",
    "    String key = \"\"; \n",
    "    for (int j=0; j < MAX_CHAR; j++) \n",
    "        if (visited[j]) \n",
    "            key = key + (char)('a'+j); \n",
    "    return key; \n",
    "} \n",
    "\n",
    "// Print all words together with same character sets. \n",
    "static void wordsWithSameCharSet(String words[], int n) \n",
    "{ \n",
    "    // Stores indexes of all words that have same \n",
    "    // set of unique characters. \n",
    "    //unordered_map <string, vector <int> > Hash; \n",
    "    HashMap<String, ArrayList<Integer>> Hash = new HashMap<>(); \n",
    "\n",
    "    // Traverse all words \n",
    "    for (int i=0; i<n; i++) \n",
    "    { \n",
    "        String key = getKey(words[i]); \n",
    "\n",
    "        // if the key is already in the map \n",
    "        // then get its corresponding value \n",
    "        // and update the list and put it in the map \n",
    "        if(Hash.containsKey(key)) \n",
    "        { \n",
    "            ArrayList<Integer> get_al = Hash.get(key); \n",
    "            get_al.add(i); \n",
    "            Hash.put(key, get_al); \n",
    "        } \n",
    "\n",
    "        // if key is not present in the map \n",
    "        // then create a new list and add \n",
    "        // both key and the list \n",
    "        else\n",
    "        { \n",
    "            ArrayList<Integer> new_al = new ArrayList<>(); \n",
    "            new_al.add(i); \n",
    "            Hash.put(key, new_al); \n",
    "        } \n",
    "    } \n",
    "\n",
    "    // print all words that have the same unique character set \n",
    "    for (Entry<String, ArrayList<Integer>> it : Hash.entrySet()) \n",
    "    { \n",
    "        ArrayList<Integer> get =it.getValue(); \n",
    "        for (Integer v:get) \n",
    "            System.out.print( words[v] + \", \"); \n",
    "        System.out.println(); \n",
    "    } \n",
    "} "
   ]
  },
  {
   "cell_type": "code",
   "execution_count": 6,
   "metadata": {},
   "outputs": [
    {
     "name": "stdout",
     "output_type": "stream",
     "text": [
      "student, students, studentssess, \n",
      "tab, bat, \n",
      "cat, act, \n",
      "lambs, balms, \n",
      "may, amy, yam, \n",
      "looped, poodle, \n",
      "dog, god, \n",
      "flow, wolf, \n"
     ]
    }
   ],
   "source": [
    "// Driver program to test above function \n",
    "public static void main(String args[]) \n",
    "{ \n",
    "    String words[] = { \"may\", \"student\", \"students\", \"dog\", \n",
    "                 \"studentssess\", \"god\", \"cat\", \"act\", \"tab\", \n",
    "                 \"bat\", \"flow\", \"wolf\", \"lambs\", \"amy\", \"yam\", \n",
    "                 \"balms\", \"looped\", \"poodle\"}; \n",
    "    int n = words.length; \n",
    "    wordsWithSameCharSet(words, n); \n",
    "} \n",
    "main(args);"
   ]
  },
  {
   "cell_type": "markdown",
   "metadata": {},
   "source": [
    "## **79. Generate all binary strings from given pattern**\n",
    "https://www.geeksforgeeks.org/generate-all-binary-strings-from-given-pattern/"
   ]
  },
  {
   "cell_type": "code",
   "execution_count": 7,
   "metadata": {},
   "outputs": [],
   "source": [
    "/*\n",
    "Given a string containing of ‘0’, ‘1’ and ‘?’ wildcard characters, \n",
    "generate all binary strings that can be formed by replacing each wildcard character by ‘0’ or ‘1’.\n",
    "*/"
   ]
  },
  {
   "cell_type": "code",
   "execution_count": 8,
   "metadata": {},
   "outputs": [],
   "source": [
    "/*\n",
    "Example :\n",
    "\n",
    "Input str = \"1??0?101\"\n",
    "Output: \n",
    "        10000101\n",
    "        10001101\n",
    "        10100101\n",
    "        10101101\n",
    "        11000101\n",
    "        11001101\n",
    "        11100101\n",
    "        11101101\n",
    "*/"
   ]
  },
  {
   "cell_type": "code",
   "execution_count": 9,
   "metadata": {},
   "outputs": [],
   "source": [
    "/*\n",
    "Method 1 (Using Recursion)\n",
    "We pass index of next character to the recursive function. \n",
    "If the current character is a wildcard character ‘?’, \n",
    "we replace it by ‘0’ or ‘1’ and recurse for remaining characters. \n",
    "We print the string if we reaches its end.\n",
    "\n",
    "Below is recursive the implementation.\n",
    "*/"
   ]
  },
  {
   "cell_type": "code",
   "execution_count": 10,
   "metadata": {},
   "outputs": [],
   "source": [
    "// Recursive function to generate all binary \n",
    "// strings formed by replacing each wildcard \n",
    "// character by 0 or 1  \n",
    "public static void print(char str[], int index) \n",
    "{ \n",
    "    if (index == str.length) \n",
    "    { \n",
    "        System.out.println(str); \n",
    "        return; \n",
    "    } \n",
    "\n",
    "    if (str[index] == '?') \n",
    "    { \n",
    "        // replace '?' by '0' and recurse \n",
    "        str[index] = '0'; \n",
    "        print(str, index + 1); \n",
    "\n",
    "        // replace '?' by '1' and recurse \n",
    "        str[index] = '1'; \n",
    "        print(str, index + 1); \n",
    "\n",
    "        // NOTE: Need to backtrack as string \n",
    "        // is passed by reference to the \n",
    "        // function \n",
    "        str[index] = '?'; \n",
    "    } \n",
    "    else\n",
    "        print(str, index + 1); \n",
    "} "
   ]
  },
  {
   "cell_type": "code",
   "execution_count": 11,
   "metadata": {},
   "outputs": [
    {
     "name": "stdout",
     "output_type": "stream",
     "text": [
      "10000101\n",
      "10001101\n",
      "10100101\n",
      "10101101\n",
      "11000101\n",
      "11001101\n",
      "11100101\n",
      "11101101\n"
     ]
    }
   ],
   "source": [
    "// driver code \n",
    "public static void main (String[] args) \n",
    "{ \n",
    "    String input = \"1??0?101\"; \n",
    "    char[] str = input.toCharArray(); \n",
    "    print(str, 0); \n",
    "} \n",
    "main(args);"
   ]
  },
  {
   "cell_type": "code",
   "execution_count": 12,
   "metadata": {},
   "outputs": [],
   "source": [
    "/*\n",
    "Method 2 (Using Queue)\n",
    "We can also achieve this by using iteration. \n",
    "The idea is to use queue. \n",
    "We find position of first occurrence of wildcard character in the input string and replace it by ‘0’ , then ‘1’ and push both strings into the queue. \n",
    "Then we pop next string from the queue, and repeat the process till queue is empty. \n",
    "If no wildcard characters are left, we simply print the string.\n",
    "*/"
   ]
  },
  {
   "cell_type": "markdown",
   "metadata": {},
   "source": [
    "***https://ideone.com/EsIyEH***"
   ]
  },
  {
   "cell_type": "markdown",
   "metadata": {},
   "source": [
    "## **80. Smallest window that contains all characters of string itself**\n",
    "https://www.geeksforgeeks.org/smallest-window-contains-characters-string/"
   ]
  },
  {
   "cell_type": "code",
   "execution_count": 13,
   "metadata": {},
   "outputs": [],
   "source": [
    "/*\n",
    "Given a string, find the smallest window length with all distinct characters of the given string. \n",
    "For eg. str = “aabcbcdbca”, then the result would be 4 as of the smallest window will be “dbca” \n",
    "*/"
   ]
  },
  {
   "cell_type": "code",
   "execution_count": 14,
   "metadata": {},
   "outputs": [],
   "source": [
    "/*\n",
    "Examples:\n",
    "\n",
    "Input  : aabcbcdbca\n",
    "Output : dbca\n",
    "Explanation : \n",
    "dbca of length 4 is the smallest \n",
    "window with highest number of distinct\n",
    "characters.         \n",
    "\n",
    "Input : aaab\n",
    "Output : ab\n",
    "Explanation : \n",
    "ab of length 2 is the smallest window \n",
    "with highest number of distinct characters.  \n",
    "*/"
   ]
  },
  {
   "cell_type": "code",
   "execution_count": 15,
   "metadata": {},
   "outputs": [],
   "source": [
    "/*\n",
    "Above problem states that we have to find the smallest window that contains all the distinct characters of the given string \n",
    "even if the smallest string contains repeating elements.\n",
    "*/"
   ]
  },
  {
   "cell_type": "code",
   "execution_count": 16,
   "metadata": {},
   "outputs": [],
   "source": [
    "/*\n",
    "For example, in “aabcbcdb”, the smallest string that contains all the characters is “abcbcd”.\n",
    "\n",
    "This problem reduces to Find the smallest window in a string containing all characters of another string.\n",
    "\n",
    "In that problem we find the smallest window that contains all the characters of given pattern.\n",
    "\n",
    "1- Count all distinct characters in given string.\n",
    "\n",
    "2- Now follow the algorithm discussed in below post.\n",
    "\n",
    "https://www.geeksforgeeks.org/find-the-smallest-window-in-a-string-containing-all-characters-of-another-string/\n",
    "\n",
    "We basically maintain a window of characters. \n",
    "Whenever the window contains all characters of given string, \n",
    "we shrink the window from left side to remove extra characters and then compare its length with smallest window fount so far.\n",
    "*/"
   ]
  },
  {
   "cell_type": "code",
   "execution_count": 17,
   "metadata": {},
   "outputs": [],
   "source": [
    "static final int MAX_CHARS = 256; \n",
    "\n",
    "// Function to find smallest window containing \n",
    "// all distinct characters \n",
    "static String findSubString(String str) \n",
    "{ \n",
    "    int n = str.length(); \n",
    "\n",
    "    // Count all distinct characters. \n",
    "    int dist_count = 0; \n",
    "\n",
    "    boolean[] visited = new boolean[MAX_CHARS]; \n",
    "    Arrays.fill(visited, false); \n",
    "    for (int i=0; i<n; i++) \n",
    "    { \n",
    "        if (visited[str.charAt(i)] == false) \n",
    "        { \n",
    "            visited[str.charAt(i)] = true; \n",
    "            dist_count++; \n",
    "        } \n",
    "    } \n",
    "\n",
    "    // Now follow the algorithm discussed in below \n",
    "    // post. We basically maintain a window of characters \n",
    "    // that contains all characters of given string. \n",
    "    // https://www.geeksforgeeks.org/find-the-smallest-window-in-a-string-containing-all-characters-of-another-string/  \n",
    "    int start = 0, start_index = -1; \n",
    "    int min_len = Integer.MAX_VALUE; \n",
    "\n",
    "    int count = 0; \n",
    "    int[] curr_count =  new int[MAX_CHARS]; \n",
    "    for (int j=0; j<n; j++) \n",
    "    { \n",
    "        // Count occurrence of characters of string \n",
    "        curr_count[str.charAt(j)]++; \n",
    "\n",
    "        // If any distinct character matched, \n",
    "        // then increment count \n",
    "        if (curr_count[str.charAt(j)] == 1 ) \n",
    "            count++; \n",
    "\n",
    "        // if all the characters are matched \n",
    "        if (count == dist_count) \n",
    "        { \n",
    "            // Try to minimize the window i.e., check if \n",
    "            // any character is occurring more no. of times \n",
    "            // than its occurrence in pattern, if yes \n",
    "            // then remove it from starting and also remove \n",
    "            // the useless characters. \n",
    "            while (curr_count[str.charAt(start)] > 1) \n",
    "            { \n",
    "                if (curr_count[str.charAt(start)] > 1) \n",
    "                    curr_count[str.charAt(start)]--; \n",
    "                start++; \n",
    "            } \n",
    "\n",
    "            // Update window size \n",
    "            int len_window = j - start + 1; \n",
    "            if (min_len > len_window) \n",
    "            { \n",
    "                min_len = len_window; \n",
    "                start_index = start; \n",
    "            } \n",
    "        } \n",
    "    } \n",
    "    // Return substring starting from start_index \n",
    "    // and length min_len \n",
    "    return str.substring(start_index, start_index+min_len); \n",
    "} "
   ]
  },
  {
   "cell_type": "code",
   "execution_count": 18,
   "metadata": {},
   "outputs": [
    {
     "name": "stdout",
     "output_type": "stream",
     "text": [
      "Smallest window containing all distinct characters is dbca\n"
     ]
    }
   ],
   "source": [
    "// Driver code \n",
    "public static void main(String args[]) \n",
    "{ \n",
    "    String str = \"aabcbcdbca\"; \n",
    "    System.out.println(\"Smallest window containing all distinct\"\n",
    "           + \" characters is \" + findSubString(str)); \n",
    "} \n",
    "main(args);"
   ]
  },
  {
   "cell_type": "markdown",
   "metadata": {},
   "source": [
    "## **81. Count ways to increase LCS length of two strings by one**\n",
    "https://www.geeksforgeeks.org/count-ways-increase-lcs-length-two-strings-one/"
   ]
  },
  {
   "cell_type": "code",
   "execution_count": 19,
   "metadata": {},
   "outputs": [],
   "source": [
    "/*\n",
    "Given two strings of lower alphabet characters, \n",
    "we need to find the number of ways to insert a character in the first string \n",
    "such that length of LCS of both strings increases by one.\n",
    "*/"
   ]
  },
  {
   "cell_type": "code",
   "execution_count": 20,
   "metadata": {},
   "outputs": [],
   "source": [
    "/*\n",
    "Examples:\n",
    "\n",
    "Input : str1 = “abab”, str2 = “abc”\n",
    "Output : 3\n",
    "LCS length of given two strings is 2.\n",
    "There are 3 ways of insertion in str1, \n",
    "to increase the LCS length by one which \n",
    "are enumerated below, \n",
    "str1 = “abcab”    str2 = “abc”  LCS length = 3\n",
    "str1 = “abacb”    str2 = “abc”  LCS length = 3\n",
    "str1 = “ababc”    str2 = “abc”  LCS length = 3\n",
    "\n",
    "Input : str1 = “abcabc”, str2 = “abcd”\n",
    "Output : 4\n",
    "*/"
   ]
  },
  {
   "cell_type": "code",
   "execution_count": 21,
   "metadata": {},
   "outputs": [],
   "source": [
    "/*\n",
    "The idea is try all 26 possible characters at each position of first string, \n",
    "if length of str1 is m then a new character can be inserted in (m + 1) positions, \n",
    "now suppose at any time character c is inserted at ith position in str1 \n",
    "then we will match it with all positions having character c in str2. \n",
    "Suppose one such position is j, then for total LCS length to be one more than previous, \n",
    "below condition should satisfy,\n",
    "\n",
    "Time Complexity : O(mn)\n",
    "Auxiliary Space : O(mn)\n",
    "*/"
   ]
  },
  {
   "cell_type": "code",
   "execution_count": 22,
   "metadata": {},
   "outputs": [],
   "source": [
    "/*\n",
    "LCS(str1[1, m], str2[1, n]) = LCS(str1[1, i],  str2[1, j-1]) + \n",
    "                              LCS(str1[i+1, m], str2[j+1, n])  \n",
    "*/"
   ]
  },
  {
   "cell_type": "code",
   "execution_count": 23,
   "metadata": {},
   "outputs": [],
   "source": [
    "/*\n",
    "Above equation states that sum of LCS of the suffix and prefix substrings at inserted character must be same as total LCS of strings, \n",
    "so that when the same character is inserted in first string it will increase the length of LCS by one.\n",
    "\n",
    "In below code two 2D arrays, lcsl and lcsr are used for storing LCS of prefix and suffix of strings respectively. \n",
    "Method for filling these 2D arrays can be found here.\n",
    "*/"
   ]
  },
  {
   "cell_type": "code",
   "execution_count": 24,
   "metadata": {},
   "outputs": [],
   "source": [
    "static int M = 26; \n",
    "\n",
    "// Method returns total ways to increase  \n",
    "// LCS length by 1 \n",
    "static int waysToIncreaseLCSBy1(String str1, \n",
    "                                String str2)  \n",
    "{ \n",
    "    int m = str1.length(), n = str2.length(); \n",
    "\n",
    "    // Fill positions of each character in vector \n",
    "    Vector<Integer>[] position = new Vector[M]; \n",
    "    for (int i = 0; i < M; i++) \n",
    "        position[i] = new Vector<>(); \n",
    "\n",
    "    for (int i = 1; i <= n; i++) \n",
    "        position[str2.charAt(i - 1) - 'a'].add(i); \n",
    "\n",
    "    int[][] lcsl = new int[m + 2][n + 2]; \n",
    "    int[][] lcsr = new int[m + 2][n + 2]; \n",
    "\n",
    "    // Initializing 2D array by 0 values \n",
    "    for (int i = 0; i <= m + 1; i++) \n",
    "        for (int j = 0; j <= n + 1; j++) \n",
    "            lcsl[i][j] = lcsr[i][j] = 0; \n",
    "\n",
    "    // Filling LCS array for prefix substrings \n",
    "    for (int i = 1; i <= m; i++)  \n",
    "    { \n",
    "        for (int j = 1; j <= n; j++) \n",
    "        { \n",
    "            if (str1.charAt(i - 1) == str2.charAt(j - 1)) \n",
    "                lcsl[i][j] = 1 + lcsl[i - 1][j - 1]; \n",
    "            else\n",
    "                lcsl[i][j] = Math.max(lcsl[i - 1][j],  \n",
    "                                      lcsl[i][j - 1]); \n",
    "        } \n",
    "    } \n",
    "\n",
    "    // Filling LCS array for suffix substrings \n",
    "    for (int i = m; i >= 1; i--)  \n",
    "    { \n",
    "        for (int j = n; j >= 1; j--)  \n",
    "        { \n",
    "            if (str1.charAt(i - 1) == str2.charAt(j - 1)) \n",
    "                lcsr[i][j] = 1 + lcsr[i + 1][j + 1]; \n",
    "            else\n",
    "                lcsr[i][j] = Math.max(lcsr[i + 1][j], \n",
    "                                      lcsr[i][j + 1]); \n",
    "        } \n",
    "    } \n",
    "\n",
    "    // Looping for all possible insertion positions \n",
    "    // in first string \n",
    "    int ways = 0; \n",
    "    for (int i = 0; i <= m; i++)  \n",
    "    { \n",
    "\n",
    "        // Trying all possible lower case characters \n",
    "        for (char d = 0; d < 26; d++)  \n",
    "        { \n",
    "\n",
    "            // Now for each character, loop over same \n",
    "            // character positions in second string \n",
    "            for (int j = 0; j < position[d].size(); j++) \n",
    "            { \n",
    "                int p = position[d].elementAt(j); \n",
    "\n",
    "                // If both, left and right substrings make \n",
    "                // total LCS then increase result by 1 \n",
    "                if (lcsl[i][p - 1] + \n",
    "                    lcsr[i + 1][p + 1] == lcsl[m][n]) \n",
    "                    ways++; \n",
    "            } \n",
    "        } \n",
    "    } \n",
    "    return ways; \n",
    "} "
   ]
  },
  {
   "cell_type": "code",
   "execution_count": 25,
   "metadata": {},
   "outputs": [
    {
     "name": "stdout",
     "output_type": "stream",
     "text": [
      "4\n"
     ]
    }
   ],
   "source": [
    "// Driver Code \n",
    "public static void main(String[] args)  \n",
    "{ \n",
    "    String str1 = \"abcabc\"; \n",
    "    String str2 = \"abcd\"; \n",
    "    System.out.println(waysToIncreaseLCSBy1(str1, str2)); \n",
    "} \n",
    "main(args);"
   ]
  },
  {
   "cell_type": "markdown",
   "metadata": {},
   "source": [
    "## **82. Given a sequence of words, print all anagrams together | Set 1**\n",
    "https://www.geeksforgeeks.org/given-a-sequence-of-words-print-all-anagrams-together/"
   ]
  },
  {
   "cell_type": "markdown",
   "metadata": {},
   "source": [
    "**Related Link:** \n",
    "\n",
    "***Given a sequence of words, print all anagrams together | Set 2 https://www.geeksforgeeks.org/given-a-sequence-of-words-print-all-anagrams-together-set-2/***"
   ]
  },
  {
   "cell_type": "code",
   "execution_count": 26,
   "metadata": {},
   "outputs": [],
   "source": [
    "/*\n",
    "A simple method is to create a Hash Table. \n",
    "Calculate the hash value of each word in such a way that all anagrams have the same hash value. \n",
    "Populate the Hash Table with these hash values. \n",
    "Finally, print those words together with same hash values. \n",
    "A simple hashing mechanism can be modulo sum of all characters. \n",
    "With modulo sum, two non-anagram words may have same hash value. \n",
    "This can be handled by matching individual characters.\n",
    "*/"
   ]
  },
  {
   "cell_type": "code",
   "execution_count": 27,
   "metadata": {},
   "outputs": [],
   "source": [
    "/*\n",
    "Following is another method to print all anagrams together. \n",
    "Take two auxiliary arrays, \n",
    "    index array and word array. \n",
    "Populate the word array with the given sequence of words. \n",
    "Sort each individual word of the word array. \n",
    "\n",
    "Finally, sort the word array and keep track of the corresponding indices. \n",
    "After sorting, all the anagrams cluster together. \n",
    "\n",
    "Use the index array to print the strings from the original array of strings.\n",
    "*/"
   ]
  },
  {
   "cell_type": "code",
   "execution_count": 28,
   "metadata": {},
   "outputs": [],
   "source": [
    "/*\n",
    "Let us understand the steps with following input Sequence of Words:\n",
    "\n",
    "\"cat\", \"dog\", \"tac\", \"god\", \"act\"\n",
    "1) Create two auxiliary arrays index[] and words[]. \n",
    "   Copy all given words to words[] and store the original indexes in index[]\n",
    "\n",
    "index[]:  0   1   2   3   4\n",
    "words[]: cat dog tac god act\n",
    "2) Sort individual words in words[]. Index array doesn’t change.\n",
    "\n",
    "index[]:   0    1    2    3    4\n",
    "words[]:  act  dgo  act  dgo  act\n",
    "3) Sort the words array. Compare individual words using strcmp() to sort\n",
    "\n",
    "index:     0    2    4    1    3\n",
    "words[]:  act  act  act  dgo  dgo\n",
    "4) All anagrams come together. But words are changed in words array. \n",
    "   To print the original words, take index from the index array and use it in the original array. We get\n",
    "\n",
    "\"cat tac act dog god\"\n",
    "\n",
    "Following are the implementations of the above algorithm. \n",
    "In the following program, an array of structure “Word” is used to store both index and word arrays. \n",
    "DupArray is another structure that stores array of structure “Word”.\n",
    "*/"
   ]
  },
  {
   "cell_type": "code",
   "execution_count": 29,
   "metadata": {},
   "outputs": [
    {
     "name": "stdout",
     "output_type": "stream",
     "text": [
      "cat tac act dog god "
     ]
    }
   ],
   "source": [
    "// class for each word of duplicate array \n",
    "static class Word { \n",
    "    String str; // to store word itself \n",
    "    int index; // index of the word in the \n",
    "    // original array \n",
    "\n",
    "    // constructor \n",
    "    Word(String str, int index) \n",
    "    { \n",
    "        this.str = str; \n",
    "        this.index = index; \n",
    "    } \n",
    "} \n",
    "\n",
    "// class to represent duplicate array. \n",
    "static class DupArray { \n",
    "    Word[] array; // Array of words \n",
    "    int size; // Size of array \n",
    "\n",
    "    // constructor \n",
    "    public DupArray(String str[], int size) \n",
    "    { \n",
    "        this.size = size; \n",
    "        array = new Word[size]; \n",
    "\n",
    "        // One by one copy words from the \n",
    "        // given wordArray to dupArray \n",
    "        int i; \n",
    "        for (i = 0; i < size; ++i) { \n",
    "            // create a word Object with the \n",
    "            // str[i] as str and index as i \n",
    "            array[i] = new Word(str[i], i); \n",
    "        } \n",
    "    } \n",
    "} \n",
    "\n",
    "// Compare two words. Used in Arrays.sort() for \n",
    "// sorting an array of words \n",
    "static class compStr implements Comparator<Word> { \n",
    "    public int compare(Word a, Word b) \n",
    "    { \n",
    "        return a.str.compareTo(b.str); \n",
    "    } \n",
    "} \n",
    "\n",
    "// Given a list of words in wordArr[], \n",
    "static void printAnagramsTogether(String wordArr[], \n",
    "                                  int size) \n",
    "{ \n",
    "    // Step 1: Create a copy of all words present \n",
    "    // in given wordArr. The copy will also have \n",
    "    // original indexes of words \n",
    "    DupArray dupArray = new DupArray(wordArr, size); \n",
    "\n",
    "    // Step 2: Iterate through all words in \n",
    "    // dupArray and sort individual words. \n",
    "    int i; \n",
    "    for (i = 0; i < size; ++i) { \n",
    "        char[] char_arr = dupArray.array[i].str.toCharArray(); \n",
    "        Arrays.sort(char_arr); \n",
    "        dupArray.array[i].str = new String(char_arr); \n",
    "    } \n",
    "\n",
    "    // Step 3: Now sort the array of words in \n",
    "    // dupArray \n",
    "    Arrays.sort(dupArray.array, new compStr()); \n",
    "\n",
    "    // Step 4: Now all words in dupArray are together, \n",
    "    // but these words are changed. Use the index \n",
    "    // member of word struct to get the corresponding \n",
    "    // original word \n",
    "    for (i = 0; i < size; ++i) \n",
    "        System.out.print(wordArr[dupArray.array[i].index] + \" \"); \n",
    "} \n",
    "\n",
    "// Driver program to test above functions \n",
    "public static void main(String args[]) \n",
    "{ \n",
    "    String wordArr[] = { \"cat\", \"dog\", \"tac\", \"god\", \"act\" }; \n",
    "    int size = wordArr.length; \n",
    "    printAnagramsTogether(wordArr, size); \n",
    "} \n",
    "main(args);"
   ]
  },
  {
   "cell_type": "code",
   "execution_count": 30,
   "metadata": {},
   "outputs": [],
   "source": [
    "/*\n",
    "Time Complexity: Let there be N words and each word has maximum M characters. \n",
    "The upper bound is O(NMLogM + MNLogN).\n",
    "\n",
    "Step 2 takes O(NMLogM) time. \n",
    "\n",
    "Sorting a word takes maximum O(MLogM) time. So sorting N words takes O(NMLogM) time. \n",
    "step 3 takes O(MNLogN) Sorting array of words takes NLogN comparisons. \n",
    "\n",
    "A comparison may take maximum O(M) time. \n",
    "\n",
    "So time to sort array of words will be O(MNLogN).\n",
    "*/"
   ]
  },
  {
   "cell_type": "code",
   "execution_count": 31,
   "metadata": {},
   "outputs": [],
   "source": [
    "/*\n",
    "Using hashmap\n",
    "\n",
    "Here, \n",
    "we first sort each word, use sorted word as key and then put original word in a map. \n",
    "The value of the map will be a list containing all the words which have same word after sorting.\n",
    "Lastly, \n",
    "we will print all values from the hashmap where size of values will be greater than 1.\n",
    "*/"
   ]
  },
  {
   "cell_type": "code",
   "execution_count": 32,
   "metadata": {},
   "outputs": [
    {
     "name": "stdout",
     "output_type": "stream",
     "text": [
      "[cat, tac, act][dog, god]"
     ]
    }
   ],
   "source": [
    "private static void printAnagrams(String arr[]) \n",
    "{ \n",
    "    HashMap<String, List<String> > map = new HashMap<>(); \n",
    "\n",
    "    // loop over all words \n",
    "    for (int i = 0; i < arr.length; i++) { \n",
    "\n",
    "        // convert to char array, sort and \n",
    "        // then re-convert to string \n",
    "        String word = arr[i]; \n",
    "        char[] letters = word.toCharArray(); \n",
    "        Arrays.sort(letters); \n",
    "        String newWord = new String(letters); \n",
    "\n",
    "        // calculate hashcode of string \n",
    "        // after sorting \n",
    "        if (map.containsKey(newWord)) { \n",
    "\n",
    "            map.get(newWord).add(word); \n",
    "        } \n",
    "        else { \n",
    "\n",
    "            // This is the first time we are \n",
    "            // adding a word for a specific \n",
    "            // hashcode \n",
    "            List<String> words = new ArrayList<>(); \n",
    "            words.add(word); \n",
    "            map.put(newWord, words); \n",
    "        } \n",
    "    } \n",
    "\n",
    "    // print all the values where size is > 1 \n",
    "    // If you want to print non-anagrams, \n",
    "    // just print the values having size = 1 \n",
    "    for (String s : map.keySet()) { \n",
    "        List<String> values = map.get(s); \n",
    "        if (values.size() > 1) { \n",
    "            System.out.print(values); \n",
    "        } \n",
    "    } \n",
    "} \n",
    "\n",
    "public static void main(String[] args) \n",
    "{ \n",
    "\n",
    "    // Driver program \n",
    "    String arr[] = { \"cat\", \"dog\", \"tac\", \"god\", \"act\" }; \n",
    "    printAnagrams(arr); \n",
    "} \n",
    "main(args);"
   ]
  },
  {
   "cell_type": "code",
   "execution_count": 33,
   "metadata": {},
   "outputs": [],
   "source": [
    "/*\n",
    "HashMap with O(NM) Solution\n",
    "\n",
    "In the previous approach, \n",
    "    we were sorting every string in order to maintain a similar key, \n",
    "    but that cost extra time in this approach will take the advantage of another hashmap to maintain the frequency of the characters\n",
    "    which will generate the same hash function for different string having same frequency of characters.\n",
    "\n",
    "Here, we will take HashMap<HashMap, ArrayList>, the inner hashmap will count the frequency of the characters of each string \n",
    "    and the outer HashMap will check whether that hashmap is present or not \n",
    "    if present then it will add that string to the corresponding list.\n",
    "    \n",
    "Time Complexity: Let there be N words and each word has maximum M characters. The upper bound is O(NM).\n",
    "Space Complexity: Let there be N words and each word has maximum M characters. The upper bound is O(N+M).\n",
    "*/"
   ]
  },
  {
   "cell_type": "code",
   "execution_count": 34,
   "metadata": {},
   "outputs": [
    {
     "name": "stdout",
     "output_type": "stream",
     "text": [
      "[[cat, atc], [dog, ogd, god]]\n"
     ]
    }
   ],
   "source": [
    "private static ArrayList<ArrayList<String> > \n",
    "solver( \n",
    "    ArrayList<String> list) \n",
    "{ \n",
    "\n",
    "    // Inner hashmap counts frequency \n",
    "    // of characters in a string. \n",
    "    // Outer hashmap for if same \n",
    "    // frequency characters are present in \n",
    "    // in a string then it will add it to \n",
    "    // the arraylist. \n",
    "    HashMap<HashMap<Character, Integer>, \n",
    "            ArrayList<String> > \n",
    "        map = new HashMap<HashMap<Character, Integer>, \n",
    "                          ArrayList<String> >(); \n",
    "    for (String str : list) { \n",
    "        HashMap<Character, Integer> \n",
    "            tempMap = new HashMap<Character, Integer>(); \n",
    "\n",
    "        // Counting the frequency of the \n",
    "        // characters present in a string \n",
    "        for (int i = 0; i < str.length(); i++) { \n",
    "            if (tempMap.containsKey(str.charAt(i))) { \n",
    "                int x = tempMap.get(str.charAt(i)); \n",
    "                tempMap.put(str.charAt(i), ++x); \n",
    "            } \n",
    "            else { \n",
    "                tempMap.put(str.charAt(i), 1); \n",
    "            } \n",
    "        } \n",
    "\n",
    "        // If the same frequency of chanracters \n",
    "        // are alraedy present then add that \n",
    "        // string into that arraylist otherwise \n",
    "        // created a new arraylist and add that string \n",
    "        if (map.containsKey(tempMap)) \n",
    "            map.get(tempMap).add(str); \n",
    "        else { \n",
    "            ArrayList<String> \n",
    "                tempList = new ArrayList<String>(); \n",
    "            tempList.add(str); \n",
    "            map.put(tempMap, tempList); \n",
    "        } \n",
    "    } \n",
    "\n",
    "    // Stores the result in a arraylist \n",
    "    ArrayList<ArrayList<String> > \n",
    "        result = new ArrayList<>(); \n",
    "    for (HashMap<Character, Integer> \n",
    "             temp : map.keySet()) \n",
    "        result.add(map.get(temp)); \n",
    "    return result; \n",
    "} \n",
    "\n",
    "// Drivers Method \n",
    "public static void main(String[] args) \n",
    "{ \n",
    "    ArrayList<String> list = new ArrayList<>(); \n",
    "    list.add(\"cat\"); \n",
    "    list.add(\"dog\"); \n",
    "    list.add(\"ogd\"); \n",
    "    list.add(\"god\"); \n",
    "    list.add(\"atc\"); \n",
    "\n",
    "    System.out.println(solver(list)); \n",
    "} \n",
    "main(args);"
   ]
  },
  {
   "cell_type": "markdown",
   "metadata": {},
   "source": [
    "## **83. Anagram Substring Search (Or Search for all permutations)**\n",
    "https://www.geeksforgeeks.org/anagram-substring-search-search-permutations/"
   ]
  },
  {
   "cell_type": "code",
   "execution_count": 35,
   "metadata": {},
   "outputs": [],
   "source": [
    "/*\n",
    "Given a text txt[0..n-1] and a pattern pat[0..m-1], \n",
    "write a function search(char pat[], char txt[]) that prints all occurrences of pat[] and its permutations (or anagrams) in txt[]. \n",
    "You may assume that n > m.\n",
    "Expected time complexity is O(n)\n",
    "*/"
   ]
  },
  {
   "cell_type": "code",
   "execution_count": 36,
   "metadata": {},
   "outputs": [],
   "source": [
    "/*\n",
    "Examples:\n",
    "\n",
    "1) Input:  txt[] = \"BACDGABCDA\"  pat[] = \"ABCD\"\n",
    "   Output:   Found at Index 0\n",
    "             Found at Index 5\n",
    "             Found at Index 6\n",
    "2) Input: txt[] =  \"AAABABAA\" pat[] = \"AABA\"\n",
    "   Output:   Found at Index 0\n",
    "             Found at Index 1\n",
    "             Found at Index 4\n",
    "*/"
   ]
  },
  {
   "cell_type": "code",
   "execution_count": 37,
   "metadata": {},
   "outputs": [],
   "source": [
    "/*\n",
    "This problem is slightly different from standard pattern searching problem, here we need to search for anagrams as well. \n",
    "Therefore, we cannot directly apply standard pattern searching algorithms like KMP, Rabin Karp, Boyer Moore, etc.\n",
    "\n",
    "A simple idea is to modify Rabin Karp Algorithm. \n",
    "For example we can keep the hash value as sum of ASCII values of all characters under modulo of a big prime number. \n",
    "For every character of text, we can add the current character to hash value and subtract the first character of previous window. \n",
    "This solution looks good, but like standard Rabin Karp, the worst case time complexity of this solution is O(mn). \n",
    "The worst case occurs when all hash values match and we one by one match all characters.\n",
    "\n",
    "We can achieve O(n) time complexity under the assumption that alphabet size is fixed which is typically true as we have maximum 256 possible characters in ASCII. \n",
    "\n",
    "The idea is to use two count arrays:\n",
    "\n",
    "1) The first count array store frequencies of characters in pattern.\n",
    "2) The second count array stores frequencies of characters in current window of text.\n",
    "\n",
    "The important thing to note is, time complexity to compare two count arrays is O(1) \n",
    "as the number of elements in them are fixed (independent of pattern and text sizes). \n",
    "\n",
    "Following are steps of this algorithm.\n",
    "    1) Store counts of frequencies of pattern in first count array countP[]. \n",
    "       Also store counts of frequencies of characters in first window of text in array countTW[].\n",
    "\n",
    "    2) Now run a loop from i = M to N-1. Do following in loop.\n",
    "        …..a) If the two count arrays are identical, we found an occurrence.\n",
    "        …..b) Increment count of current character of text in countTW[]\n",
    "        …..c) Decrement count of first character in previous window in countWT[]\n",
    "\n",
    "    3) The last window is not checked by above loop, so explicitly check it.\n",
    "\n",
    "Following is the implementation of above algorithm.\n",
    "*/"
   ]
  },
  {
   "cell_type": "code",
   "execution_count": 38,
   "metadata": {},
   "outputs": [],
   "source": [
    "static final int MAX = 256; \n",
    "\n",
    "// This function returns true if contents \n",
    "// of arr1[] and arr2[] are same, otherwise \n",
    "// false. \n",
    "static boolean compare(char arr1[], char arr2[]) \n",
    "{ \n",
    "    for (int i = 0; i < MAX; i++) \n",
    "        if (arr1[i] != arr2[i]) \n",
    "            return false; \n",
    "    return true; \n",
    "} \n",
    "\n",
    "// This function search for all permutations \n",
    "// of pat[] in txt[] \n",
    "static void search(String pat, String txt) \n",
    "{ \n",
    "    int M = pat.length(); \n",
    "    int N = txt.length(); \n",
    "\n",
    "    // countP[]:  Store count of all  \n",
    "    // characters of pattern \n",
    "    // countTW[]: Store count of current \n",
    "    // window of text \n",
    "    char[] countP = new char[MAX]; \n",
    "    char[] countTW = new char[MAX]; \n",
    "    for (int i = 0; i < M; i++) \n",
    "    { \n",
    "        (countP[pat.charAt(i)])++; \n",
    "        (countTW[txt.charAt(i)])++; \n",
    "    } \n",
    "\n",
    "    // Traverse through remaining characters \n",
    "    // of pattern \n",
    "    for (int i = M; i < N; i++) \n",
    "    { \n",
    "        // Compare counts of current window \n",
    "        // of text with counts of pattern[] \n",
    "        if (compare(countP, countTW)) \n",
    "            System.out.println(\"Found at Index \" + \n",
    "                                      (i - M)); \n",
    "\n",
    "        // Add current character to current  \n",
    "        // window \n",
    "        (countTW[txt.charAt(i)])++; \n",
    "\n",
    "        // Remove the first character of previous \n",
    "        // window \n",
    "        countTW[txt.charAt(i-M)]--; \n",
    "    } \n",
    "\n",
    "    // Check for the last window in text \n",
    "    if (compare(countP, countTW)) \n",
    "        System.out.println(\"Found at Index \" +  \n",
    "                                   (N - M)); \n",
    "} "
   ]
  },
  {
   "cell_type": "code",
   "execution_count": 39,
   "metadata": {},
   "outputs": [
    {
     "name": "stdout",
     "output_type": "stream",
     "text": [
      "Found at Index 0\n",
      "Found at Index 5\n",
      "Found at Index 6\n"
     ]
    }
   ],
   "source": [
    "/* Driver program to test above function */\n",
    "public static void main(String args[]) \n",
    "{ \n",
    "    String txt = \"BACDGABCDA\"; \n",
    "    String pat = \"ABCD\"; \n",
    "    search(pat, txt); \n",
    "} \n",
    "main(args);"
   ]
  },
  {
   "cell_type": "markdown",
   "metadata": {},
   "source": [
    "***https://youtu.be/-rcfE1Tj2E0***"
   ]
  },
  {
   "cell_type": "markdown",
   "metadata": {},
   "source": [
    "## **84. Check if two strings are k-anagrams or not**\n",
    "https://www.geeksforgeeks.org/check-two-strings-k-anagrams-not/"
   ]
  },
  {
   "cell_type": "code",
   "execution_count": 40,
   "metadata": {},
   "outputs": [],
   "source": [
    "/*\n",
    "Given two strings of lowercase alphabets and a value k, \n",
    "the task is to find if two strings are K-anagrams of each other or not.\n",
    "\n",
    "Two strings are called k-anagrams if following two conditions are true.\n",
    "\n",
    "1. Both have same number of characters.\n",
    "2. Two strings can become anagram by changing at most k characters in a string.\n",
    "*/"
   ]
  },
  {
   "cell_type": "code",
   "execution_count": 41,
   "metadata": {},
   "outputs": [],
   "source": [
    "/*\n",
    "Examples :\n",
    "\n",
    "Input:  str1 = \"anagram\" , str2 = \"grammar\" , k = 3\n",
    "Output:  Yes\n",
    "Explanation: We can update maximum 3 values and \n",
    "it can be done in changing only 'r' to 'n' \n",
    "and 'm' to 'a' in str2.\n",
    "\n",
    "Input:  str1 = \"geeks\", str2 = \"eggkf\", k = 1\n",
    "Output:  No\n",
    "Explanation: We can update or modify only 1 \n",
    "value but there is a need of modifying 2 characters. \n",
    "i.e. g and f in str 2.\n",
    "*/"
   ]
  },
  {
   "cell_type": "code",
   "execution_count": 42,
   "metadata": {},
   "outputs": [],
   "source": [
    "/*\n",
    "Below is a solution to check if two strings are k-anagrams of each other or not.\n",
    "\n",
    "1. Stores occurrence of all characters of both strings in separate count arrays.\n",
    "2. Count number of different characters in both strings (in this if a strings has 4 a and second has 3 ‘a’ then it will be also count.\n",
    "3. If count of different characters is less than or equal to k, then return true else false.\n",
    "*/"
   ]
  },
  {
   "cell_type": "code",
   "execution_count": 43,
   "metadata": {},
   "outputs": [],
   "source": [
    "static final int MAX_CHAR = 26; \n",
    "\n",
    "// Function to check that string is k-anagram or not \n",
    "static boolean arekAnagrams(String str1, String str2,  \n",
    "                                             int k) \n",
    "{ \n",
    "    // If both strings are not of equal \n",
    "    // length then return false \n",
    "    int n = str1.length(); \n",
    "    if (str2.length() != n) \n",
    "        return false; \n",
    "\n",
    "    int[] count1 = new int[MAX_CHAR]; \n",
    "    int[] count2 = new int[MAX_CHAR]; \n",
    "    int count = 0; \n",
    "\n",
    "    // Store the occurrence of all characters \n",
    "    // in a hash_array \n",
    "    for (int i = 0; i < n; i++) \n",
    "        count1[str1.charAt(i) - 'a']++; \n",
    "    for (int i = 0; i < n; i++) \n",
    "        count2[str2.charAt(i) - 'a']++; \n",
    "\n",
    "    // Count number of characters that are \n",
    "    // different in both strings \n",
    "    for (int i = 0; i < MAX_CHAR; i++) \n",
    "        if (count1[i] > count2[i]) \n",
    "            count = count + Math.abs(count1[i] -  \n",
    "                                      count2[i]); \n",
    "\n",
    "    // Return true if count is less than or \n",
    "    // equal to k \n",
    "    return (count <= k); \n",
    "} "
   ]
  },
  {
   "cell_type": "code",
   "execution_count": 44,
   "metadata": {},
   "outputs": [
    {
     "name": "stdout",
     "output_type": "stream",
     "text": [
      "Yes\n"
     ]
    }
   ],
   "source": [
    "// Driver code \n",
    "public static void main(String args[]) \n",
    "{ \n",
    "    String str1 = \"anagram\"; \n",
    "    String str2 = \"grammar\"; \n",
    "    int k = 2; \n",
    "    if (arekAnagrams(str1, str2, k)) \n",
    "        System.out.println(\"Yes\"); \n",
    "    else\n",
    "        System.out.println(\"No\"); \n",
    "} \n",
    "main(args);"
   ]
  },
  {
   "cell_type": "code",
   "execution_count": 45,
   "metadata": {},
   "outputs": [],
   "source": [
    "/*\n",
    "We can optimize above solution. \n",
    "\n",
    "Here we use only one count array to store counts of characters in str1. \n",
    "We traverse str2 and decrement occurrence of every character in count array that is present in str2. \n",
    "If we find a character that is not there in str1, \n",
    "    we increment count of different characters. \n",
    "If count of different character become more than k, \n",
    "    we return false.\n",
    "*/"
   ]
  },
  {
   "cell_type": "code",
   "execution_count": 46,
   "metadata": {},
   "outputs": [],
   "source": [
    "static final int MAX_CHAR = 26; \n",
    "\n",
    "// Function to check if str1 and str2 are k-anagram \n",
    "// or not \n",
    "static boolean areKAnagrams(String str1, String str2,  \n",
    "                                              int k) \n",
    "{ \n",
    "    // If both strings are not of equal \n",
    "    // length then return false \n",
    "    int n = str1.length(); \n",
    "    if (str2.length() != n) \n",
    "        return false; \n",
    "\n",
    "    int[] hash_str1 = new int[MAX_CHAR]; \n",
    "\n",
    "    // Store the occurrence of all characters \n",
    "    // in a hash_array \n",
    "    for (int i = 0; i < n ; i++) \n",
    "        hash_str1[str1.charAt(i)-'a']++; \n",
    "\n",
    "    // Store the occurrence of all characters \n",
    "    // in a hash_array \n",
    "    int count = 0; \n",
    "    for (int i = 0; i < n ; i++) \n",
    "    { \n",
    "        if (hash_str1[str2.charAt(i)-'a'] > 0) \n",
    "            hash_str1[str2.charAt(i)-'a']--; \n",
    "        else\n",
    "            count++; \n",
    "\n",
    "        if (count > k) \n",
    "            return false; \n",
    "    } \n",
    "\n",
    "    // Return true if count is less than or \n",
    "    // equal to k \n",
    "    return true; \n",
    "} "
   ]
  },
  {
   "cell_type": "code",
   "execution_count": 47,
   "metadata": {},
   "outputs": [
    {
     "name": "stdout",
     "output_type": "stream",
     "text": [
      "Yes\n"
     ]
    }
   ],
   "source": [
    "// Driver code \n",
    "public static void main(String args[]) \n",
    "{ \n",
    "    String str1 = \"fodr\"; \n",
    "    String str2 = \"gork\"; \n",
    "    int k = 2; \n",
    "    if (areKAnagrams(str1, str2, k) == true) \n",
    "        System.out.println(\"Yes\"); \n",
    "    else\n",
    "        System.out.println(\"No\"); \n",
    "} \n",
    "main(args);"
   ]
  },
  {
   "cell_type": "markdown",
   "metadata": {},
   "source": [
    "## **85. Check if binary representations of two numbers are anagram**\n",
    "https://www.geeksforgeeks.org/check-binary-representations-two-numbers-anagram/"
   ]
  },
  {
   "cell_type": "code",
   "execution_count": 48,
   "metadata": {},
   "outputs": [],
   "source": [
    "/*\n",
    "Given two numbers you are required to check whether they are anagrams of each other or not in binary representation.\n",
    "*/"
   ]
  },
  {
   "cell_type": "code",
   "execution_count": 49,
   "metadata": {},
   "outputs": [],
   "source": [
    "/*\n",
    "Examples:\n",
    "\n",
    "Input : a = 8, b = 4 \n",
    "Output : Yes\n",
    "Binary representations of both\n",
    "numbers have same 0s and 1s.\n",
    "\n",
    "Input : a = 4, b = 5\n",
    "Output : No\n",
    "*/"
   ]
  },
  {
   "cell_type": "code",
   "execution_count": 50,
   "metadata": {},
   "outputs": [],
   "source": [
    "/*\n",
    "Simple Approach:\n",
    "\n",
    "Find Binary Representation of ‘a’ and ‘b’ using simple decimal to binary representation technique.\n",
    "Check if two binary representations are anagram\n",
    "\n",
    "Time Complexity : O (n log n)\n",
    "Auxiliary Space : O (1) Although Auxiliary Space is O(1) still SIZE array spaces are getting used to store binary representation of each number.\n",
    "*/"
   ]
  },
  {
   "cell_type": "code",
   "execution_count": 51,
   "metadata": {},
   "outputs": [
    {
     "name": "stdout",
     "output_type": "stream",
     "text": [
      "1\n"
     ]
    }
   ],
   "source": [
    "public static int SIZE = 8; \n",
    "\n",
    "// Function to check if binary representation \n",
    "// of two numbers are anagram \n",
    "static int bit_anagram_check(long a, long b) \n",
    "{ \n",
    "    // Find reverse binary representation of a \n",
    "    // and store it in binary_a[] \n",
    "    int i = 0; \n",
    "    long[] binary_a = new long[SIZE]; \n",
    "    Arrays.fill(binary_a, 0); \n",
    "    while (a > 0)  \n",
    "    { \n",
    "        binary_a[i] = a%2; \n",
    "        a /= 2; \n",
    "        i++; \n",
    "    } \n",
    "\n",
    "    // Find reverse binary representation of b \n",
    "    // and store it in binary_a[] \n",
    "    int j = 0; \n",
    "    long[] binary_b = new long[SIZE]; \n",
    "    Arrays.fill(binary_b, 0); \n",
    "    while (b > 0)  \n",
    "    { \n",
    "        binary_b[j] = b%2; \n",
    "        b /= 2; \n",
    "        j++; \n",
    "    } \n",
    "\n",
    "    // Sort two binary representations \n",
    "    Arrays.sort(binary_a); \n",
    "    Arrays.sort(binary_b); \n",
    "\n",
    "    // Compare two sorted binary representations \n",
    "    for (i = 0; i < SIZE; i++) \n",
    "        if (binary_a[i] != binary_b[i])  \n",
    "            return 0; \n",
    "\n",
    "    return 1; \n",
    "} \n",
    "\n",
    "// driver program \n",
    "public static void main (String[] args)  \n",
    "{ \n",
    "    long a = 8, b = 4; \n",
    "    System.out.println(bit_anagram_check(a, b)); \n",
    "} \n",
    "main(args);"
   ]
  },
  {
   "cell_type": "code",
   "execution_count": 52,
   "metadata": {},
   "outputs": [],
   "source": [
    "/*\n",
    "Efficient Approach:\n",
    "Just measure the number of 1’s present in the bit representation of both the numbers, \n",
    "if number of 1’s present in their bit representation are same then they are anagrams in their bit representation \n",
    "else they are not.\n",
    "\n",
    "Time Complexity : O (1)\n",
    "Auxiliary Space : O (1) No extra space is getting used.\n",
    "*/"
   ]
  },
  {
   "cell_type": "code",
   "execution_count": 53,
   "metadata": {},
   "outputs": [
    {
     "name": "stdout",
     "output_type": "stream",
     "text": [
      "1\n"
     ]
    }
   ],
   "source": [
    "// Function returns true if binary representations of \n",
    "// a and b are anagram \n",
    "static boolean bit_anagram_check(long a, long b) \n",
    "{ \n",
    "    // Long.bitCount(a) gives number of 1's present \n",
    "    // in binary representation of a \n",
    "    return (Long.bitCount(a) == Long.bitCount(b)); \n",
    "} \n",
    "\n",
    "// driver program \n",
    "public static void main (String[] args)  \n",
    "{ \n",
    "    long a = 8, b = 4; \n",
    "    if(bit_anagram_check(a, b)) \n",
    "        System.out.println(\"1\"); \n",
    "    else\n",
    "        System.out.println(\"0\"); \n",
    "} \n",
    "main(args);"
   ]
  },
  {
   "cell_type": "markdown",
   "metadata": {},
   "source": [
    "**Related Link** ***https://www.geeksforgeeks.org/count-set-bits-in-an-integer/***"
   ]
  },
  {
   "cell_type": "markdown",
   "metadata": {},
   "source": [
    "## **86. Longest Palindromic Substring | Set 2**\n",
    "https://www.geeksforgeeks.org/longest-palindromic-substring-set-2/"
   ]
  },
  {
   "cell_type": "code",
   "execution_count": 54,
   "metadata": {},
   "outputs": [],
   "source": [
    "/*\n",
    "Given a string, find the longest substring which is palindrome. \n",
    "For example, \n",
    "    if the given string is “forgeeksskeegfor”, \n",
    "    the output should be “geeksskeeg”.\n",
    "*/"
   ]
  },
  {
   "cell_type": "markdown",
   "metadata": {},
   "source": [
    "***https://www.geeksforgeeks.org/longest-palindrome-substring-set-1/***"
   ]
  },
  {
   "cell_type": "code",
   "execution_count": 55,
   "metadata": {},
   "outputs": [],
   "source": [
    "/*\n",
    "Dynamic programming solution in the Above Link. \n",
    "The time complexity of the Dynamic Programming based solution is O(n^2) and it requires O(n^2) extra space. \n",
    "\n",
    "We can find the longest palindrome substring in (n^2) time with O(1) extra space. \n",
    "The idea is to generate all even length and odd length palindromes and keep track of the longest palindrome seen so far.\n",
    "\n",
    "Time complexity: O ( n^2 ) where n is the length of input string.\n",
    "Auxiliary Space: O ( 1 )\n",
    "*/"
   ]
  },
  {
   "cell_type": "code",
   "execution_count": 56,
   "metadata": {},
   "outputs": [],
   "source": [
    "/*\n",
    "Step to generate odd length palindrome:\n",
    "    Fix a centre and expand in both directions for longer palindromes.\n",
    "\n",
    "Step to generate even length palindrome\n",
    "    Fix two centre ( low and high ) and expand in both directions for longer palindromes.\n",
    "*/"
   ]
  },
  {
   "cell_type": "code",
   "execution_count": 57,
   "metadata": {},
   "outputs": [
    {
     "name": "stdout",
     "output_type": "stream",
     "text": [
      "Longest palindrome substring is: geeksskeeg\n",
      "Length is: 10\n"
     ]
    }
   ],
   "source": [
    "// A utility function to print a substring str[low..high] \n",
    "static void printSubStr(String str, int low, int high) { \n",
    "    System.out.println(str.substring(low, high + 1)); \n",
    "} \n",
    "\n",
    "// This function prints the longest palindrome substring  \n",
    "// (LPS) of str[]. It also returns the length of the   \n",
    "// longest palindrome  \n",
    "static int longestPalSubstr(String str) { \n",
    "    int maxLength = 1; // The result (length of LPS) \n",
    "\n",
    "    int start = 0; \n",
    "    int len = str.length(); \n",
    "\n",
    "    int low, high; \n",
    "\n",
    "    // One by one consider every character as center \n",
    "    // point of even and length palindromes \n",
    "    for (int i = 1; i < len; ++i)  \n",
    "    { \n",
    "        // Find the longest even length palindrome with  \n",
    "        // center points as i-1 and i. \n",
    "        low = i - 1; \n",
    "        high = i; \n",
    "        while (low >= 0 && high < len \n",
    "                && str.charAt(low) == str.charAt(high)) { \n",
    "            if (high - low + 1 > maxLength) { \n",
    "                start = low; \n",
    "                maxLength = high - low + 1; \n",
    "            } \n",
    "            --low; \n",
    "            ++high; \n",
    "        } \n",
    "\n",
    "        // Find the longest odd length palindrome with  \n",
    "        // center point as i \n",
    "        low = i - 1; \n",
    "        high = i + 1; \n",
    "        while (low >= 0 && high < len \n",
    "                && str.charAt(low) == str.charAt(high)) { \n",
    "            if (high - low + 1 > maxLength) { \n",
    "                start = low; \n",
    "                maxLength = high - low + 1; \n",
    "            } \n",
    "            --low; \n",
    "            ++high; \n",
    "        } \n",
    "    } \n",
    "\n",
    "    System.out.print(\"Longest palindrome substring is: \"); \n",
    "    printSubStr(str, start, start + maxLength - 1); \n",
    "\n",
    "    return maxLength; \n",
    "} \n",
    "\n",
    "// Driver program to test above function \n",
    "public static void main(String[] args) { \n",
    "\n",
    "    String str = \"forgeeksskeegfor\"; \n",
    "    System.out.println(\"Length is: \" +  \n",
    "                       longestPalSubstr(str)); \n",
    "}\n",
    "main(args);"
   ]
  },
  {
   "cell_type": "markdown",
   "metadata": {},
   "source": [
    "## **87. Find the smallest window in a string containing all characters of another string**\n",
    "https://www.geeksforgeeks.org/find-the-smallest-window-in-a-string-containing-all-characters-of-another-string/"
   ]
  },
  {
   "cell_type": "code",
   "execution_count": 58,
   "metadata": {},
   "outputs": [],
   "source": [
    "/*\n",
    "Given two strings string1 and string2, \n",
    "the task is to find the smallest substring in string1 containing all characters of string2 efficiently.\n",
    "*/"
   ]
  },
  {
   "cell_type": "code",
   "execution_count": 59,
   "metadata": {},
   "outputs": [],
   "source": [
    "/*\n",
    "Examples:\n",
    "\n",
    "Input: string = “this is a test string”, pattern = “tist”\n",
    "Output: Minimum window is “t stri”\n",
    "Explanation: “t stri” contains all the characters of pattern.\n",
    "\n",
    "Input: string = “geeksforgeeks”, pattern = “ork”\n",
    "Output: Minimum window is “ksfor”\n",
    "*/"
   ]
  },
  {
   "cell_type": "code",
   "execution_count": 60,
   "metadata": {},
   "outputs": [],
   "source": [
    "/*\n",
    "Method 1 ( Brute force solution )\n",
    "    1- Generate all substrings of string1 (“this is a test string”)\n",
    "    2- For each substring, check whether the substring contains all characters of string2 (“tist”)\n",
    "    3- Finally, print the smallest substring containing all characters of string2.\n",
    "*/"
   ]
  },
  {
   "cell_type": "code",
   "execution_count": 61,
   "metadata": {},
   "outputs": [],
   "source": [
    "/*\n",
    "Method 2 ( Efficient Solution )\n",
    "\n",
    "    1. First check if the length of string is less than the length of the given pattern, \n",
    "       if yes then “no such window can exist “.\n",
    "    2. Store the occurrence of characters of the given pattern in a hash_pat[].\n",
    "    3. Start matching the characters of pattern with the characters of string \n",
    "       i.e. increment count if a character matches.\n",
    "    4. Check if (count == length of pattern ) this means a window is found.\n",
    "    5. If such window found, \n",
    "       try to minimize it by removing extra characters from the beginning of the current window.\n",
    "    6. Update min_length.\n",
    "    7. Print the minimum length window.\n",
    "*/"
   ]
  },
  {
   "cell_type": "markdown",
   "metadata": {},
   "source": [
    "**Diagram to explain the above algorithm:**"
   ]
  },
  {
   "cell_type": "markdown",
   "metadata": {},
   "source": [
    "<img src = \"https://media.geeksforgeeks.org/wp-content/cdn-uploads/smallest-window.png\"/>"
   ]
  },
  {
   "cell_type": "code",
   "execution_count": 62,
   "metadata": {},
   "outputs": [],
   "source": [
    "static final int no_of_chars = 256; \n",
    "\n",
    "// Function to find smallest window containing \n",
    "// all characters of 'pat' \n",
    "static String findSubString(String str, String pat) \n",
    "{ \n",
    "    int len1 = str.length(); \n",
    "    int len2 = pat.length(); \n",
    "\n",
    "    // check if string's length is less than pattern's \n",
    "    // length. If yes then no such window can exist \n",
    "    if (len1 < len2) \n",
    "    { \n",
    "        System.out.println(\"No such window exists\"); \n",
    "        return \"\"; \n",
    "    } \n",
    "\n",
    "    int hash_pat[] = new int[no_of_chars]; \n",
    "    int hash_str[] = new int[no_of_chars]; \n",
    "\n",
    "    // store occurrence ofs characters of pattern \n",
    "    for (int i = 0; i < len2; i++) \n",
    "        hash_pat[pat.charAt(i)]++; \n",
    "\n",
    "    int start = 0, start_index = -1, min_len = Integer.MAX_VALUE; \n",
    "\n",
    "    // start traversing the string \n",
    "    int count = 0; // count of characters \n",
    "    for (int j = 0; j < len1 ; j++) \n",
    "    { \n",
    "        // count occurrence of characters of string \n",
    "        hash_str[str.charAt(j)]++; \n",
    "\n",
    "        // If string's char matches with pattern's char \n",
    "        // then increment count \n",
    "        if (hash_pat[str.charAt(j)] != 0 && \n",
    "            hash_str[str.charAt(j)] <= hash_pat[str.charAt(j)] ) \n",
    "            count++; \n",
    "\n",
    "        // if all the characters are matched \n",
    "        if (count == len2) \n",
    "        { \n",
    "            // Try to minimize the window i.e., check if \n",
    "            // any character is occurring more no. of times \n",
    "            // than its occurrence in pattern, if yes \n",
    "            // then remove it from starting and also remove \n",
    "            // the useless characters. \n",
    "            while ( hash_str[str.charAt(start)] > hash_pat[str.charAt(start)] \n",
    "                || hash_pat[str.charAt(start)] == 0) \n",
    "            { \n",
    "\n",
    "                if (hash_str[str.charAt(start)] > hash_pat[str.charAt(start)]) \n",
    "                    hash_str[str.charAt(start)]--; \n",
    "                start++; \n",
    "            } \n",
    "\n",
    "            // update window size \n",
    "            int len_window = j - start + 1; \n",
    "            if (min_len > len_window) \n",
    "            { \n",
    "                min_len = len_window; \n",
    "                start_index = start; \n",
    "            } \n",
    "        } \n",
    "    } \n",
    "\n",
    "    // If no window found \n",
    "    if (start_index == -1) \n",
    "    { \n",
    "    System.out.println(\"No such window exists\"); \n",
    "    return \"\"; \n",
    "    } \n",
    "\n",
    "    // Return substring starting from start_index \n",
    "    // and length min_len \n",
    "    return str.substring(start_index, start_index + min_len); \n",
    "} "
   ]
  },
  {
   "cell_type": "code",
   "execution_count": 63,
   "metadata": {},
   "outputs": [
    {
     "name": "stdout",
     "output_type": "stream",
     "text": [
      "Smallest window is :\n",
      " t stri"
     ]
    }
   ],
   "source": [
    "// Driver Method \n",
    "public static void main(String[] args) \n",
    "{ \n",
    "    String str = \"this is a test string\"; \n",
    "    String pat = \"tist\"; \n",
    "\n",
    "    System.out.print(\"Smallest window is :\\n \" + \n",
    "                    findSubString(str, pat)); \n",
    "}\n",
    "main(args);"
   ]
  },
  {
   "cell_type": "markdown",
   "metadata": {},
   "source": [
    "## **88. Permutation and Palindrome**\n",
    "https://www.codechef.com/FEB18/problems/PERMPAL"
   ]
  },
  {
   "cell_type": "code",
   "execution_count": 64,
   "metadata": {},
   "outputs": [],
   "source": [
    "/*\n",
    "You are given a string s with length n. \n",
    "You should find a permutation P of numbers 1 through n such that if you apply this permutation on the string s, \n",
    "you will get a palindromic string.\n",
    "\n",
    "The result of applying a permutation P on the string s is a string t with length n \n",
    "such that for each i (1 ≤ i ≤ n), the i-th character of t is given as as t[i] = s[Pi].\n",
    "*/"
   ]
  },
  {
   "cell_type": "code",
   "execution_count": 65,
   "metadata": {},
   "outputs": [],
   "source": [
    "/*\n",
    "Example\n",
    "Input\n",
    "\n",
    "4\n",
    "aa\n",
    "baa\n",
    "abc\n",
    "abab\n",
    "\n",
    "Output\n",
    "\n",
    "1 2\n",
    "2 1 3\n",
    "-1\n",
    "1 2 4 3\n",
    "*/"
   ]
  },
  {
   "cell_type": "code",
   "execution_count": 66,
   "metadata": {},
   "outputs": [],
   "source": [
    "/*\n",
    "Explanation\n",
    "Example case 1: The string t obtained using the identity permutation will have t[1] = s[1] and t[2] = s[2]. \n",
    "                That means t = \"aa\", which is a palindrome.\n",
    "\n",
    "Example case 2: The characters of the string t obtained by applying the permutation 2, 1, 3 are t[1] = s[2], t[2] = s[1] and t[3] = s[3]. \n",
    "                Therefore, t = \"aba\", which is a palindrome.\n",
    "\n",
    "Example case 3: There is no way to find a permutation P such that we can obtain a palindrome from s using it.\n",
    "\n",
    "Example case 4: Applying the permutation 1, 2, 4, 3 on s results in t = \"abba\", which is a palindrome. \n",
    "                Another permutation that you may apply is 2, 1, 3, 4; this results in t = \"baab\", which is also a palindrome.\n",
    "*/"
   ]
  },
  {
   "cell_type": "code",
   "execution_count": 67,
   "metadata": {},
   "outputs": [
    {
     "name": "stdout",
     "output_type": "stream",
     "text": [
      "1 2 \n",
      "2 1 3 \n",
      "-1\n",
      "1 2 4 3 \n"
     ]
    }
   ],
   "source": [
    "public static void main (String[] args) throws java.lang.Exception\n",
    "{\n",
    "    int t = 4;\n",
    "    String[] str = new String[t];\n",
    "    str[0] = \"aa\";\n",
    "    str[1] = \"baa\";\n",
    "    str[2] = \"abc\";\n",
    "    str[3] = \"abab\";\n",
    "    int xx = 0;\n",
    "    while(t>0)\n",
    "    {\n",
    "        char c[] = str[xx++].toCharArray();\n",
    "        int i=0;\n",
    "        int a[] = new int[26];\n",
    "        Map<Character,ArrayList<Integer>> map = new HashMap<>();\n",
    "        for(i=0;i<c.length;i++)\n",
    "        {\n",
    "            a[c[i]-'a']++;\n",
    "            if(map.get(c[i])==null)\n",
    "            {\n",
    "                ArrayList<Integer> al = new ArrayList<>();\n",
    "                al.add(i+1);\n",
    "                map.put(c[i], al);\n",
    "            }\n",
    "            else\n",
    "            {\n",
    "                ArrayList<Integer> al = map.get(c[i]);\n",
    "                al.add(i+1);\n",
    "                map.put(c[i], al);\n",
    "            }\n",
    "\n",
    "        }\n",
    "//\t\t\tSystem.out.println(Arrays.toString(a));\n",
    "        int oddcount = 0;\n",
    "        char oddchar = 0;\n",
    "        for(i=0;i<26;i++)\n",
    "        {\n",
    "            if(a[i]%2==1)\n",
    "            {\n",
    "                oddcount++;\n",
    "                oddchar = (char)(i+'a');\n",
    "            }\n",
    "        }\n",
    "        if (oddcount > 1 || oddcount == 1 &&  c.length % 2 == 0)\n",
    "        {\n",
    "            System.out.println(\"-1\");\n",
    "        }\n",
    "        else\n",
    "        {\n",
    "            StringBuilder first = new StringBuilder();\n",
    "            StringBuilder second = new StringBuilder();\n",
    "            for(i=0;i<26;i++)\n",
    "            {\n",
    "                if(a[i]>0)\n",
    "                {\n",
    "                    char[] array = new char[a[i]/2];\n",
    "                    Arrays.fill(array, (char)(i+'a'));\n",
    "                    StringBuilder sb = new StringBuilder(new String(array));\n",
    "                    first = first.append(sb);\n",
    "                    second = sb.append(second);\n",
    "                }\n",
    "\n",
    "            }\n",
    "            String pal = \"\";\n",
    "            if(oddcount==1)\n",
    "            {\n",
    "                 pal = first.toString()+oddchar+second.toString();\n",
    "            }\n",
    "            else\n",
    "            {\n",
    "                 pal = first.toString()+second.toString();\n",
    "            }\n",
    "            int[] counter = new int[26];\n",
    "            for(char cc: pal.toCharArray())\n",
    "            {\n",
    "                System.out.print(map.get(cc).get(counter[cc-'a'])+\" \");\n",
    "                counter[cc-'a']++;\n",
    "            }\n",
    "//\t\t\t\tSystem.out.println(Arrays.toString(counter));\n",
    "                System.out.println();\n",
    "        }\n",
    "        t--;\n",
    "    }\n",
    "}\n",
    "main(args);"
   ]
  },
  {
   "cell_type": "markdown",
   "metadata": {},
   "source": [
    "## **89. Make largest palindrome by changing at most K-digits**\n",
    "https://www.geeksforgeeks.org/make-largest-palindrome-changing-k-digits/"
   ]
  },
  {
   "cell_type": "code",
   "execution_count": 68,
   "metadata": {},
   "outputs": [],
   "source": [
    "/*\n",
    "Given a string containing all digits, \n",
    "we need to convert this string to a palindrome by changing at most K digits. \n",
    "If many solutions are possible then print lexicographically largest one.\n",
    "*/"
   ]
  },
  {
   "cell_type": "code",
   "execution_count": 69,
   "metadata": {},
   "outputs": [],
   "source": [
    "/*\n",
    "Examples:\n",
    "\n",
    "Input   : str = “43435”    \n",
    "          k = 3\n",
    "Output  : \"93939\" \n",
    "Lexicographically largest palindrome \n",
    "after 3 changes is \"93939\" \n",
    "\n",
    "Input :  str = “43435”    \n",
    "         k = 1\n",
    "Output : “53435”\n",
    "Lexicographically largest palindrome \n",
    "after 3 changes is “53435”\n",
    "\n",
    "Input  : str = “12345”    \n",
    "         k = 1\n",
    "Output : \"Not Possible\"\n",
    "It is not possible to make str palindrome\n",
    "after 1 change.\n",
    "*/"
   ]
  },
  {
   "cell_type": "code",
   "execution_count": 70,
   "metadata": {},
   "outputs": [],
   "source": [
    "/*\n",
    "We can solve this problem using two pointers method. \n",
    "We start from left and right and if both digits are not equal then we replace the smaller value with larger value and decrease k by 1. \n",
    "We stop when the left and right pointers cross each other, \n",
    "    after they stop if value of k is negative, \n",
    "    then it is not possible to make string palindrome using k changes. \n",
    "If k is positive, then we can further maximize the string by looping once again in the same manner from left and right \n",
    "and converting both the digits to 9 and decreasing k by 2. \n",
    "If k value remains to 1 and string length is odd then we make the middle character as 9 to maximize whole value.\n",
    "*/"
   ]
  },
  {
   "cell_type": "code",
   "execution_count": 71,
   "metadata": {},
   "outputs": [],
   "source": [
    "// Returns maximum possible palindrome using k changes  \n",
    "static String maximumPalinUsingKChanges(String str, int k) { \n",
    "    char palin[] = str.toCharArray(); \n",
    "    String ans = \"\"; \n",
    "    // Iinitialize l and r by leftmost and  \n",
    "    // rightmost ends  \n",
    "    int l = 0; \n",
    "    int r = str.length() - 1; \n",
    "\n",
    "    // first try to make String palindrome  \n",
    "    while (l < r) { \n",
    "        // Replace left and right character by  \n",
    "        // maximum of both  \n",
    "        if (str.charAt(l) != str.charAt(r)) { \n",
    "            palin[l] = palin[r] = (char) Math.max(str.charAt(l), \n",
    "                                      str.charAt(r)); \n",
    "            k--; \n",
    "        } \n",
    "        l++; \n",
    "        r--; \n",
    "    } \n",
    "\n",
    "    // If k is negative then we can't make  \n",
    "    // String palindrome  \n",
    "    if (k < 0) { \n",
    "        return \"Not possible\"; \n",
    "    } \n",
    "\n",
    "    l = 0; \n",
    "    r = str.length() - 1; \n",
    "\n",
    "    while (l <= r) { \n",
    "        // At mid character, if K>0 then change  \n",
    "        // it to 9  \n",
    "        if (l == r) { \n",
    "            if (k > 0) { \n",
    "                palin[l] = '9'; \n",
    "            } \n",
    "        } \n",
    "\n",
    "        // If character at lth (same as rth) is  \n",
    "        // less than 9  \n",
    "        if (palin[l] < '9') { \n",
    "            /* If none of them is changed in the  \n",
    "        previous loop then subtract 2 from K  \n",
    "        and convert both to 9 */\n",
    "            if (k >= 2 && palin[l] == str.charAt(l) \n",
    "                    && palin[r] == str.charAt(r)) { \n",
    "                k -= 2; \n",
    "                palin[l] = palin[r] = '9'; \n",
    "            } /* If one of them is changed in the previous  \n",
    "            loop then subtract 1 from K (1 more is  \n",
    "            subtracted already) and make them 9 */ \n",
    "           else if (k >= 1 && (palin[l] != str.charAt(l) \n",
    "                    || palin[r] != str.charAt(r))) { \n",
    "                k--; \n",
    "                palin[l] = palin[r] = '9'; \n",
    "            } \n",
    "        } \n",
    "        l++; \n",
    "        r--; \n",
    "    } \n",
    "    for(int i = 0;i<palin.length;i++) \n",
    "        ans+=palin[i]; \n",
    "    return ans; \n",
    "} "
   ]
  },
  {
   "cell_type": "code",
   "execution_count": 72,
   "metadata": {},
   "outputs": [
    {
     "name": "stdout",
     "output_type": "stream",
     "text": [
      "93939\n"
     ]
    }
   ],
   "source": [
    "// Driver code to test above methods  \n",
    "public void main(String[] args) { \n",
    "    String str = \"43435\"; \n",
    "    int k = 3; \n",
    "    System.out.println(maximumPalinUsingKChanges(str, k)); \n",
    "\n",
    "} \n",
    "main(args);"
   ]
  },
  {
   "cell_type": "markdown",
   "metadata": {},
   "source": [
    "## **90. Lexicographically first palindromic string**\n",
    "https://www.geeksforgeeks.org/lexicographically-first-palindromic-string/"
   ]
  },
  {
   "cell_type": "code",
   "execution_count": 73,
   "metadata": {},
   "outputs": [],
   "source": [
    "/*\n",
    "Rearrange the characters of the given string to form a lexicographically first palindromic string. \n",
    "If no such string exists display message “no palindromic string”.\n",
    "*/"
   ]
  },
  {
   "cell_type": "code",
   "execution_count": 74,
   "metadata": {},
   "outputs": [],
   "source": [
    "/*\n",
    "Examples:\n",
    "\n",
    "Input : malayalam\n",
    "Output : aalmymlaa\n",
    "\n",
    "Input : apple\n",
    "Output : no palindromic string\n",
    "*/"
   ]
  },
  {
   "cell_type": "code",
   "execution_count": 75,
   "metadata": {},
   "outputs": [],
   "source": [
    "/*\n",
    "Simple Approach:\n",
    "    1. Sort the string characters in alphabetical(ascending) order.\n",
    "    2. One be one find lexicographically next permutation of the given string.\n",
    "    3. The first permutation which is palindrome is the answer.\n",
    "*/"
   ]
  },
  {
   "cell_type": "code",
   "execution_count": 76,
   "metadata": {},
   "outputs": [],
   "source": [
    "/*\n",
    "Efficient Approach: Properties for palindromic string:\n",
    "    1. If length of string is even, then the frequency of each character in the string must be even.\n",
    "    2. If the length is odd then there should be one character whose frequency is odd \n",
    "       and all other chars must have even frequency and at-least one occurrence of the odd character must be present in the middle of the string.\n",
    "*/"
   ]
  },
  {
   "cell_type": "code",
   "execution_count": 77,
   "metadata": {},
   "outputs": [],
   "source": [
    "/*\n",
    "Algorithm\n",
    "1. Store frequency of each character in the given string\n",
    "2. Check whether a palindromic string can be formed or not using the properties of palindromic string mentioned above.\n",
    "3. If palindromic string cannot be formed, return “No Palindromic String”.\n",
    "4. Else we create three strings and then return front_str + odd_str + rear_str.\n",
    "    --odd_str : It is empty if there is no character with odd frequency. Else it contains all occurrences of odd character.\n",
    "    --front_str : Contains half occurrences of all even occurring characters of string in increasing order.\n",
    "    --rear_str Contains half occurrences of all even occurring characters of string in reverse order of front_str.\n",
    "    \n",
    "Time Complexity : O(n) where n is length of input string. Assuming that size of string alphabet is constant.\n",
    "*/"
   ]
  },
  {
   "cell_type": "code",
   "execution_count": 78,
   "metadata": {},
   "outputs": [
    {
     "name": "stdout",
     "output_type": "stream",
     "text": [
      "aalmymlaa \n"
     ]
    }
   ],
   "source": [
    "static char MAX_CHAR = 26; \n",
    "\n",
    "// Function to count frequency of each char in the \n",
    "// string. freq[0] for 'a',...., freq[25] for 'z' \n",
    "static void countFreq(String str, int freq[], int len) \n",
    "{ \n",
    "    for (int i = 0; i < len; i++) \n",
    "    { \n",
    "        freq[str.charAt(i) - 'a']++; \n",
    "    } \n",
    "} \n",
    "\n",
    "// Cases to check whether a palindr0mic \n",
    "// string can be formed or not \n",
    "static boolean canMakePalindrome(int freq[], int len)  \n",
    "{ \n",
    "    // count_odd to count no of \n",
    "    // chars with odd frequency \n",
    "    int count_odd = 0; \n",
    "    for (int i = 0; i < MAX_CHAR; i++) \n",
    "    { \n",
    "        if (freq[i] % 2 != 0) \n",
    "        { \n",
    "            count_odd++; \n",
    "        } \n",
    "    } \n",
    "\n",
    "    // For even length string \n",
    "    // no odd freq character \n",
    "    if (len % 2 == 0) \n",
    "    { \n",
    "        if (count_odd > 0)  \n",
    "        { \n",
    "            return false; \n",
    "        }  \n",
    "        else\n",
    "        { \n",
    "            return true; \n",
    "        } \n",
    "    } \n",
    "\n",
    "    // For odd length string \n",
    "    // one odd freq character \n",
    "    if (count_odd != 1)  \n",
    "    { \n",
    "        return false; \n",
    "    } \n",
    "\n",
    "    return true; \n",
    "} \n",
    "\n",
    "// Function to find odd freq char and \n",
    "// reducing its freq by 1returns \"\" if odd freq \n",
    "// char is not present \n",
    "static String findOddAndRemoveItsFreq(int freq[])  \n",
    "{ \n",
    "    String odd_str = \"\"; \n",
    "    for (int i = 0; i < MAX_CHAR; i++) \n",
    "    { \n",
    "        if (freq[i] % 2 != 0) \n",
    "        { \n",
    "            freq[i]--; \n",
    "            odd_str = odd_str + (char) (i + 'a'); \n",
    "            return odd_str; \n",
    "        } \n",
    "    } \n",
    "    return odd_str; \n",
    "} \n",
    "\n",
    "// To find lexicographically first palindromic \n",
    "// string. \n",
    "static String findPalindromicString(String str)  \n",
    "{ \n",
    "    int len = str.length(); \n",
    "    int freq[] = new int[MAX_CHAR]; \n",
    "    countFreq(str, freq, len); \n",
    "\n",
    "    if (!canMakePalindrome(freq, len)) \n",
    "    { \n",
    "        return \"No Palindromic String\"; \n",
    "    } \n",
    "\n",
    "    // Assigning odd freq character if present \n",
    "    // else empty string. \n",
    "    String odd_str = findOddAndRemoveItsFreq(freq); \n",
    "\n",
    "    String front_str = \"\", rear_str = \" \"; \n",
    "\n",
    "    // Traverse characters in increasing order \n",
    "    for (int i = 0; i < MAX_CHAR; i++) \n",
    "    { \n",
    "        String temp = \"\"; \n",
    "        if (freq[i] != 0) \n",
    "        { \n",
    "            char ch = (char) (i + 'a'); \n",
    "\n",
    "            // Divide all occurrences into two \n",
    "            // halves. Note that odd character \n",
    "            // is removed by findOddAndRemoveItsFreq() \n",
    "            for (int j = 1; j <= freq[i] / 2; j++)  \n",
    "            { \n",
    "                temp = temp + ch; \n",
    "            } \n",
    "\n",
    "            // creating front string \n",
    "            front_str = front_str + temp; \n",
    "\n",
    "            // creating rear string \n",
    "            rear_str = temp + rear_str; \n",
    "        } \n",
    "    } \n",
    "\n",
    "    // Final palindromic string which is \n",
    "    // lexicographically first \n",
    "    return (front_str + odd_str + rear_str); \n",
    "} \n",
    "\n",
    "// Driver program \n",
    "public static void main(String[] args)  \n",
    "{ \n",
    "    String str = \"malayalam\"; \n",
    "    System.out.println(findPalindromicString(str)); \n",
    "} \n",
    "main(args);"
   ]
  },
  {
   "cell_type": "code",
   "execution_count": null,
   "metadata": {},
   "outputs": [],
   "source": []
  },
  {
   "cell_type": "markdown",
   "metadata": {},
   "source": [
    "## **91. Longest Non-palindromic substring**\n",
    "https://www.geeksforgeeks.org/longest-non-palindromic-substring/"
   ]
  },
  {
   "cell_type": "code",
   "execution_count": 79,
   "metadata": {},
   "outputs": [],
   "source": [
    "/*\n",
    "Given a string of size n. \n",
    "The task is to find the length of the largest substring which is not palindrome.\n",
    "*/"
   ]
  },
  {
   "cell_type": "code",
   "execution_count": 80,
   "metadata": {},
   "outputs": [],
   "source": [
    "/*\n",
    "Examples:\n",
    "\n",
    "Input : abba \n",
    "Output : 3\n",
    "Here maximum length non-palindromic substring is\n",
    "'abb' which is of length '3'. There could be other\n",
    "non-palindromic sub-strings also of length three \n",
    "like 'bba' in this case.\n",
    "\n",
    "Input : a\n",
    "Output : 0\n",
    "*/"
   ]
  },
  {
   "cell_type": "code",
   "execution_count": 81,
   "metadata": {},
   "outputs": [],
   "source": [
    "/*\n",
    "A simple solution is to consider every substring and check if it is palindrome or not. \n",
    "Finally return length of the longest non-palindromic substring.\n",
    "*/"
   ]
  },
  {
   "cell_type": "code",
   "execution_count": 82,
   "metadata": {},
   "outputs": [],
   "source": [
    "/*\n",
    "An efficient solution is based on below approach.\n",
    "Time Complexity: O(n)\n",
    "\n",
    "--Check for the case where all characters of\n",
    "  the string are same or not.\n",
    "    -If yes, \n",
    "        -then answer will be '0'.\n",
    "    -Else \n",
    "        -check whether the given string of size \n",
    "         'n' is palindrome or not. \n",
    "            -If yes, \n",
    "                -then answer will be 'n-1'\n",
    "            -Else \n",
    "                -answer will be 'n' \n",
    "*/"
   ]
  },
  {
   "cell_type": "code",
   "execution_count": 83,
   "metadata": {},
   "outputs": [],
   "source": [
    "// utility function to check whether \n",
    "// a string is palindrome or not \n",
    "static Boolean isPalindrome(String str) \n",
    "{ \n",
    "    int n = str.length(); \n",
    "\n",
    "    // Check for palindrome. \n",
    "    for (int i = 0; i < n/2; i++) \n",
    "        if (str.charAt(i) != str.charAt(n-i-1)) \n",
    "            return false; \n",
    "\n",
    "    // palindrome string \n",
    "    return true; \n",
    "} \n",
    "\n",
    "// function to find maximum length \n",
    "// substring which is not palindrome \n",
    "static int maxLengthNonPalinSubstring(String str) \n",
    "{ \n",
    "    int n = str.length(); \n",
    "    char ch = str.charAt(0); \n",
    "\n",
    "    // to check whether all characters \n",
    "    // of the string are same or not \n",
    "    int i = 1; \n",
    "    for (i = 1; i < n; i++) \n",
    "        if(str.charAt(i) != ch) \n",
    "            break; \n",
    "\n",
    "    // All characters are same, we can't \n",
    "    // make a non-palindromic string. \n",
    "    if (i == n) \n",
    "        return 0; \n",
    "\n",
    "    // If string is palindrome, we can make \n",
    "    // it non-palindrome by removing any \n",
    "    // corner character \n",
    "    if (isPalindrome(str)) \n",
    "        return n-1; \n",
    "\n",
    "    // Complete string is not a palindrome. \n",
    "    return n; \n",
    "} "
   ]
  },
  {
   "cell_type": "code",
   "execution_count": 84,
   "metadata": {},
   "outputs": [
    {
     "name": "stdout",
     "output_type": "stream",
     "text": [
      "Maximum Length = 3\n"
     ]
    }
   ],
   "source": [
    "// Driver Program to test above function \n",
    "public static void main(String args[]) \n",
    "{ \n",
    "    String str = \"abba\"; \n",
    "    System.out.println(\"Maximum Length = \"\n",
    "         + maxLengthNonPalinSubstring(str)); \n",
    "} \n",
    "main(args);"
   ]
  },
  {
   "cell_type": "markdown",
   "metadata": {},
   "source": [
    "## **92. String Merging**\n",
    "https://www.codechef.com/JAN18/problems/STRMRG"
   ]
  },
  {
   "cell_type": "code",
   "execution_count": 85,
   "metadata": {},
   "outputs": [],
   "source": [
    "/*\n",
    "For a string S, \n",
    "let's define a function F(S) as the minimum number of blocks consisting of consecutive identical characters in S. \n",
    "In other words, F(S) is equal to 1 plus the number of valid indices i such that Si ≠ Si+1.\n",
    "\n",
    "You are given two strings A and B with lengths N and M respectively. \n",
    "You should merge these two strings into one string C with length N+M. \n",
    "Specifically, each character of C should come either from A or B; \n",
    "all characters from A should be in the same relative order in C as in A \n",
    "and all characters from B should be in the same relative order in C as in B.\n",
    "\n",
    "Compute the minimum possible value of F(C).\n",
    "*/"
   ]
  },
  {
   "cell_type": "code",
   "execution_count": 86,
   "metadata": {},
   "outputs": [],
   "source": [
    "/*\n",
    "Example\n",
    "Input:\n",
    "1\n",
    "4 4\n",
    "abab\n",
    "baba\n",
    "\n",
    "Output:\n",
    "5\n",
    "\n",
    "Explanation\n",
    "Example case 1: One possible way to choose the string C to get the desired answer is \"abbaabba\".\n",
    "*/"
   ]
  },
  {
   "cell_type": "code",
   "execution_count": 87,
   "metadata": {},
   "outputs": [],
   "source": [
    "public static String compressString(String s) {\n",
    "    StringBuilder sb = new StringBuilder();\n",
    "    sb.append(s.charAt(0));\n",
    "    int i = 1;\n",
    "    while (i < s.length()) {\n",
    "        if (s.charAt(i - 1) != s.charAt(i)) {\n",
    "            sb.append(s.charAt(i));\n",
    "        }\n",
    "        i++;\n",
    "    }\n",
    "    return sb.toString();\n",
    "}"
   ]
  },
  {
   "cell_type": "code",
   "execution_count": 88,
   "metadata": {},
   "outputs": [],
   "source": [
    "public static int lcsmer(String a, String b) {\n",
    "    int[][] m = new int[a.length() + 1][b.length() + 1];\n",
    "\n",
    "    for (int row = 0; row < m.length; row++) {\n",
    "        m[row][0] = row;\n",
    "    }\n",
    "\n",
    "    for (int col = 0; col < m[0].length; col++) {\n",
    "        m[0][col] = col;\n",
    "    }\n",
    "\n",
    "    for (int row = 1; row < m.length; row++) {\n",
    "        for (int col = 1; col < m[0].length; col++) {\n",
    "            if (a.charAt(row - 1) == b.charAt(col - 1)) {\n",
    "                m[row][col] = 1 + m[row - 1][col - 1];\n",
    "            } else {\n",
    "                m[row][col] = 1 + ((m[row - 1][col] < m[row][col - 1]) ? (m[row - 1][col]) : (m[row][col - 1]));\n",
    "            }\n",
    "        }\n",
    "    }\n",
    "\n",
    "    return (m[(m.length - 1)][(m[0].length - 1)]);\n",
    "}"
   ]
  },
  {
   "cell_type": "code",
   "execution_count": 89,
   "metadata": {},
   "outputs": [
    {
     "name": "stdout",
     "output_type": "stream",
     "text": [
      "5\n"
     ]
    }
   ],
   "source": [
    "public static void main(String[] args){\n",
    "    int t = 1;\n",
    "    for (int i = 0; i < t; i++) {\n",
    "        int n = 4;\n",
    "        int m = 4;\n",
    "        String s = \"abab\";\n",
    "        String st = \"baba\";\n",
    "        s = compressString(s);\n",
    "        st = compressString(st);\n",
    "        String temps = (s.length() <= st.length()) ? s : st;\n",
    "        String templ = (s.length() > st.length()) ? s : st;\n",
    "        // int min = strMerge(temps, templ);\n",
    "        // int min = mer(temps, templ, 0, 0, 0);\n",
    "        int min = lcsmer(temps, templ);\n",
    "        System.out.println(\"\"+min);\n",
    "    }\n",
    "\n",
    "}\n",
    "main(args);"
   ]
  },
  {
   "cell_type": "markdown",
   "metadata": {},
   "source": [
    "## **93. Find k’th character of decrypted string | Set 1**\n",
    "https://www.geeksforgeeks.org/find-kth-character-of-decrypted-string/"
   ]
  },
  {
   "cell_type": "code",
   "execution_count": 90,
   "metadata": {},
   "outputs": [],
   "source": [
    "/*\n",
    "Given an encoded string where repetitions of substrings are represented as substring followed by count of substrings. \n",
    "For example, \n",
    "    if encrypted string is “ab2cd2” and k=4 , \n",
    "    so output will be ‘b’ because decrypted string is “ababcdcd” and 4th character is ‘b’.\n",
    "*/"
   ]
  },
  {
   "cell_type": "markdown",
   "metadata": {},
   "source": [
    "**Related Link** ***https://www.geeksforgeeks.org/find-k-th-character-of-decrypted-string-set-2/***"
   ]
  },
  {
   "cell_type": "code",
   "execution_count": 91,
   "metadata": {},
   "outputs": [],
   "source": [
    "/*\n",
    "Note: \n",
    "    Frequency of encrypted substring can be of more than one digit. \n",
    "    For example, in “ab12c3”, ab is repeated 12 times. No leading 0 is present in frequency of substring.\n",
    "*/"
   ]
  },
  {
   "cell_type": "code",
   "execution_count": 92,
   "metadata": {},
   "outputs": [],
   "source": [
    "/*\n",
    "Examples:\n",
    "\n",
    "Input: \"a2b2c3\", k = 5\n",
    "Output: c\n",
    "Decrypted string is \"aabbccc\"\n",
    "\n",
    "Input : \"ab4c2ed3\", k = 9\n",
    "Output : c\n",
    "Decrypted string is \"ababababccededed\"\n",
    "\n",
    "Input: \"ab4c12ed3\", k = 21\n",
    "Output: e\n",
    "Decrypted string is \"ababababccccccccccccededed\"\n",
    "*/"
   ]
  },
  {
   "cell_type": "code",
   "execution_count": 93,
   "metadata": {},
   "outputs": [],
   "source": [
    "/*\n",
    "The idea is simple. \n",
    "Initially take empty decrypted string then decompress the string by reading substring and it’s frequency one by one \n",
    "and append current substring in decrypted string by it’s frequency. \n",
    "Repeat the process till the end of string and print the K’th character from decrypted string.\n",
    "*/"
   ]
  },
  {
   "cell_type": "code",
   "execution_count": 94,
   "metadata": {},
   "outputs": [],
   "source": [
    "// Function to find K'th character in  \n",
    "// Encoded String \n",
    "static char encodedChar(String str,int k) \n",
    "{ \n",
    "    // expand string variable is used to \n",
    "    // store final string after decompressing  \n",
    "    // string str \n",
    "    String expand = \"\"; \n",
    "\n",
    "    String temp = \"\";  // Current substring \n",
    "    int freq = 0; // Count of current substring \n",
    "\n",
    "    for (int i=0; i < str.length() ; ) \n",
    "    { \n",
    "        temp = \"\"; // Current substring \n",
    "        freq = 0; // count frequency of current \n",
    "                  // substring \n",
    "\n",
    "        // read characters until you find a number \n",
    "        // or end of string \n",
    "        while (i < str.length() && str.charAt(i)>='a'\n",
    "                            && str.charAt(i)<='z') \n",
    "        { \n",
    "            // push character in temp \n",
    "            temp += str.charAt(i); \n",
    "            i++; \n",
    "        } \n",
    "\n",
    "        // read number for how many times string temp \n",
    "        // will be repeated in decompressed string \n",
    "        while (i < str.length() && str.charAt(i)>='1'\n",
    "                            && str.charAt(i)<='9') \n",
    "        { \n",
    "            // generating frequency of temp \n",
    "            freq = freq*10 + str.charAt(i) - '0'; \n",
    "            i++; \n",
    "        } \n",
    "\n",
    "        // now append string temp into expand \n",
    "        // equal to its frequency \n",
    "        for (int j=1; j<=freq; j++) \n",
    "             expand += temp; \n",
    "    } \n",
    "\n",
    "    // this condition is to handle the case \n",
    "    // when string str is ended with alphabets \n",
    "    // not with numeric value \n",
    "    if (freq==0) \n",
    "        expand += temp; \n",
    "\n",
    "    return expand.charAt(k-1); \n",
    "} "
   ]
  },
  {
   "cell_type": "code",
   "execution_count": 95,
   "metadata": {},
   "outputs": [
    {
     "name": "stdout",
     "output_type": "stream",
     "text": [
      "e\n"
     ]
    }
   ],
   "source": [
    "// Driver program to test the string \n",
    "public static void main(String args[]) \n",
    "{ \n",
    "    String str = \"ab4c12ed3\"; \n",
    "    int k = 21; \n",
    "    System.out.println(encodedChar(str, k)); \n",
    "} \n",
    "main(args);"
   ]
  },
  {
   "cell_type": "markdown",
   "metadata": {},
   "source": [
    "***https://youtu.be/OrU84a6cdGI***"
   ]
  },
  {
   "cell_type": "markdown",
   "metadata": {},
   "source": [
    "## **94. Count of words whose i-th letter is either (i-1)-th, i-th, or (i+1)-th letter of given word**\n",
    "https://www.geeksforgeeks.org/count-words-whose-th-letter-either-1-th-th-i1-th-letter-given-word/"
   ]
  },
  {
   "cell_type": "code",
   "execution_count": 96,
   "metadata": {},
   "outputs": [],
   "source": [
    "/*\n",
    "Given a string str. \n",
    "The task is to count the words having the same length as str \n",
    "and each letter at the i-th position is either (i-1)-th, i-th, or (i+1)-th position letter of str.\n",
    "\n",
    "Note: \n",
    "    For the first letter consider i-th and (i+1)-th position letter of W. \n",
    "    And for last letter consider (i-1)-th and i-th position letter of str.\n",
    "*/"
   ]
  },
  {
   "cell_type": "code",
   "execution_count": 97,
   "metadata": {},
   "outputs": [],
   "source": [
    "/*\n",
    "Examples:\n",
    "\n",
    "Input : str[] = \"ab\"\n",
    "Output : 4\n",
    "Words that can be formed: aa, ab, ba, bb.\n",
    "\n",
    "Input : str[] = \"x\"\n",
    "Output : 1\n",
    "*/"
   ]
  },
  {
   "cell_type": "code",
   "execution_count": 98,
   "metadata": {},
   "outputs": [],
   "source": [
    "/*\n",
    "Time complexity : O(length of string).\n",
    "\n",
    "For any letter at index i, except first and last letter, \n",
    "    there are three possible letter i.e (i-1)th, ith or (i+1)th letter of given words. \n",
    "        So, if three of them are distinct, we have 3 possibilities. \n",
    "        If two of them are same, we have 2 possibilities. \n",
    "        And if all are same we have only 1 possibility.\n",
    "So, traverse the given words and find the possibility of each letter and multiply them.\n",
    "\n",
    "Similarly, \n",
    "for first letter check the distinct letter at first and second position. \n",
    "And for last position check the distinct letter at last and second last position.\n",
    "*/"
   ]
  },
  {
   "cell_type": "code",
   "execution_count": 99,
   "metadata": {},
   "outputs": [],
   "source": [
    "// Return the count of words. \n",
    "static int countWords(String str, int len) \n",
    "{ \n",
    "    int count = 1; \n",
    "\n",
    "    // If word contain single letter, return 1. \n",
    "    if (len == 1) \n",
    "        return count; \n",
    "\n",
    "    // Checking for first letter. \n",
    "    if (str.charAt(0) == str.charAt(1)) \n",
    "        count *= 1; \n",
    "    else\n",
    "        count *= 2; \n",
    "\n",
    "    // Traversing the string and multiplying \n",
    "    // for combinations. \n",
    "    for (int j = 1; j < len - 1; j++) \n",
    "    { \n",
    "        // If all three letters are same. \n",
    "        if (str.charAt(j) == str.charAt(j - 1) &&  \n",
    "                str.charAt(j) == str.charAt(j + 1)) \n",
    "            count *= 1; \n",
    "\n",
    "        // If two letter are distinct. \n",
    "        else if (str.charAt(j) == str.charAt(j - 1)|| \n",
    "                str.charAt(j) == str.charAt(j + 1) || \n",
    "               str.charAt(j - 1) == str.charAt(j + 1)) \n",
    "            count *= 2; \n",
    "\n",
    "        // If all three letter are distinct. \n",
    "        else\n",
    "            count *= 3; \n",
    "    } \n",
    "\n",
    "    // Checking for last letter. \n",
    "    if (str.charAt(len - 1) == str.charAt(len - 2)) \n",
    "        count *= 1; \n",
    "    else\n",
    "        count *= 2; \n",
    "\n",
    "    return count; \n",
    "} "
   ]
  },
  {
   "cell_type": "code",
   "execution_count": 100,
   "metadata": {},
   "outputs": [
    {
     "name": "stdout",
     "output_type": "stream",
     "text": [
      "12\n"
     ]
    }
   ],
   "source": [
    "// Driven Program \n",
    "public static void main(String args[]) \n",
    "{ \n",
    "    String str = \"abc\"; \n",
    "    int len = str.length(); \n",
    "\n",
    "    System.out.println(countWords(str, len)); \n",
    "} \n",
    "main(args);"
   ]
  },
  {
   "cell_type": "markdown",
   "metadata": {},
   "source": [
    "## **95. Find all distinct palindromic sub-strings of a given string**\n",
    "https://www.geeksforgeeks.org/find-number-distinct-palindromic-sub-strings-given-string/"
   ]
  },
  {
   "cell_type": "code",
   "execution_count": 101,
   "metadata": {},
   "outputs": [],
   "source": [
    "/*\n",
    "Given a string of lowercase ASCII characters, find all distinct continuous palindromic sub-strings of it.\n",
    "*/"
   ]
  },
  {
   "cell_type": "code",
   "execution_count": 102,
   "metadata": {},
   "outputs": [],
   "source": [
    "/*\n",
    "Examples:\n",
    "\n",
    "Input: str = \"abaaa\"\n",
    "Output:  Below are 5 palindrome sub-strings\n",
    "a\n",
    "aa\n",
    "aaa\n",
    "aba\n",
    "b\n",
    "\n",
    "\n",
    "Input: str = \"geek\"\n",
    "Output:  Below are 4 palindrome sub-strings\n",
    "e\n",
    "ee\n",
    "g\n",
    "k\n",
    "*/"
   ]
  },
  {
   "cell_type": "code",
   "execution_count": 103,
   "metadata": {},
   "outputs": [],
   "source": [
    "/*\n",
    "Step 1: \n",
    "Finding all palindromes using modified Manacher’s algorithm:\n",
    "-Considering each character as a pivot, \n",
    "    expand on both sides to find the length of both even and odd length palindromes centered at the pivot character under consideration \n",
    "    and store the length in the 2 arrays (odd & even).\n",
    "-Time complexity for this step is O(n^2)\n",
    "*/"
   ]
  },
  {
   "cell_type": "code",
   "execution_count": 104,
   "metadata": {},
   "outputs": [],
   "source": [
    "/*\n",
    "Step 2: \n",
    "-Inserting all the found palindromes in a HashMap:\n",
    "-Insert all the palindromes found from the previous step into a HashMap. \n",
    "-Also insert all the individual characters from the string into the HashMap (to generate distinct single letter palindromic sub-strings).\n",
    "-Time complexity of this step is O(n^3) assuming that the hash insert search takes O(1) time. \n",
    "-Note that there can be at most O(n^2) palindrome sub-strings of a string. \n",
    "\n",
    "In C++ code ordered hashmap is used where the time complexity of insert and search is O(Logn). \n",
    "In C++, ordered hashmap is implemented using Red Black Tree.\n",
    "*/"
   ]
  },
  {
   "cell_type": "code",
   "execution_count": 105,
   "metadata": {},
   "outputs": [],
   "source": [
    "/*\n",
    "Step 3: Printing the distinct palindromes and number of such distinct palindromes:\n",
    "-The last step is to print all values stored in the HashMap (only distinct elements will be hashed due to the property of HashMap). \n",
    "-The size of the map gives the number of distinct palindromic continuous sub-strings.\n",
    "*/"
   ]
  },
  {
   "cell_type": "code",
   "execution_count": 106,
   "metadata": {},
   "outputs": [],
   "source": [
    "\n",
    "// Function to print all distinct palindrome \n",
    "// sub-strings of s \n",
    "static void palindromeSubStrs(String s) \n",
    "{ \n",
    "    //map<string, int> m; \n",
    "    TreeMap<String , Integer> m = new TreeMap<>(); \n",
    "    int n = s.length(); \n",
    "\n",
    "    // table for storing results (2 rows for odd- \n",
    "    // and even-length palindromes \n",
    "    int[][] R = new int[2][n+1]; \n",
    "\n",
    "    // Find all sub-string palindromes from the \n",
    "    // given input string insert 'guards' to \n",
    "    // iterate easily over s \n",
    "    s = \"@\" + s + \"#\"; \n",
    "\n",
    "    for (int j = 0; j <= 1; j++) \n",
    "    { \n",
    "        int rp = 0; // length of 'palindrome radius' \n",
    "        R[j][0] = 0; \n",
    "\n",
    "        int i = 1; \n",
    "        while (i <= n) \n",
    "        { \n",
    "            // Attempt to expand palindrome centered \n",
    "            // at i \n",
    "            while (s.charAt(i - rp - 1) == s.charAt(i + \n",
    "                                            j + rp)) \n",
    "                rp++; // Incrementing the length of \n",
    "                    // palindromic radius as and \n",
    "                    // when we find vaid palindrome \n",
    "\n",
    "            // Assigning the found palindromic length \n",
    "            // to odd/even length array \n",
    "            R[j][i] = rp; \n",
    "            int k = 1; \n",
    "            while ((R[j][i - k] != rp - k) && (k < rp)) \n",
    "            { \n",
    "                R[j][i + k] = Math.min(R[j][i - k], \n",
    "                                        rp - k); \n",
    "                k++; \n",
    "            } \n",
    "            rp = Math.max(rp - k,0); \n",
    "            i += k; \n",
    "        } \n",
    "    } \n",
    "\n",
    "    // remove 'guards' \n",
    "    s = s.substring(1, s.length()-1); \n",
    "\n",
    "    // Put all obtained palindromes in a hash map to \n",
    "    // find only distinct palindromess \n",
    "    m.put(s.substring(0,1), 1); \n",
    "    for (int i = 1; i < n; i++) \n",
    "    { \n",
    "        for (int j = 0; j <= 1; j++) \n",
    "            for (int rp = R[j][i]; rp > 0; rp--) \n",
    "                m.put(s.substring(i - rp - 1, i - rp - 1\n",
    "                                + 2 * rp + j), 1); \n",
    "        m.put(s.substring(i, i + 1), 1); \n",
    "    } \n",
    "\n",
    "    // printing all distinct palindromes from \n",
    "    // hash map \n",
    "    System.out.println(\"Below are \" + (m.size()) \n",
    "                    + \" palindrome sub-strings\"); \n",
    "\n",
    "    for (Map.Entry<String, Integer> ii:m.entrySet()) \n",
    "        System.out.println(ii.getKey()); \n",
    "} \n"
   ]
  },
  {
   "cell_type": "code",
   "execution_count": 107,
   "metadata": {},
   "outputs": [
    {
     "name": "stdout",
     "output_type": "stream",
     "text": [
      "Below are 5 palindrome sub-strings\n",
      "a\n",
      "aa\n",
      "aaa\n",
      "aba\n",
      "b\n"
     ]
    }
   ],
   "source": [
    "// Driver program \n",
    "public static void main(String args[]) \n",
    "{ \n",
    "    palindromeSubStrs(\"abaaa\"); \n",
    "} \n",
    "main(args);"
   ]
  },
  {
   "cell_type": "markdown",
   "metadata": {},
   "source": [
    "## **96. Print all distinct characters of a string in order (3 Methods)**\n",
    "https://www.geeksforgeeks.org/print-all-distinct-characters-of-a-string-in-order-3-methods/"
   ]
  },
  {
   "cell_type": "code",
   "execution_count": 108,
   "metadata": {},
   "outputs": [],
   "source": [
    "/*\n",
    "Given a string, \n",
    "find the all distinct (or non-repeating characters) in it. \n",
    "\n",
    "For example, \n",
    "    if the input string is “Geeks for Geeks”, \n",
    "    then output should be ‘for’ \n",
    "and if input string is “Geeks Quiz”, \n",
    "    then output should be ‘GksQuiz’.\n",
    "\n",
    "The distinct characters should be printed in same order as they appear in input string.\n",
    "*/"
   ]
  },
  {
   "cell_type": "code",
   "execution_count": 109,
   "metadata": {},
   "outputs": [],
   "source": [
    "/*\n",
    "Examples:\n",
    "\n",
    "Input  : Geeks for Geeks\n",
    "Output : for\n",
    "\n",
    "Input  : Hello Geeks\n",
    "Output : HoGks\n",
    "*/"
   ]
  },
  {
   "cell_type": "code",
   "execution_count": 110,
   "metadata": {},
   "outputs": [],
   "source": [
    "/*\n",
    "Method 1 (Simple : O(n2))\n",
    "\n",
    "A Simple Solution is to run two loops. \n",
    "Start traversing from left side. \n",
    "For every character, check if it repeats or not. \n",
    "If the character doesn’t repeat, increment count of non-repeating characters. \n",
    "When the count becomes 1, return each character.\n",
    "*/"
   ]
  },
  {
   "cell_type": "code",
   "execution_count": 111,
   "metadata": {},
   "outputs": [],
   "source": [
    "/*\n",
    "Method 2 (Efficient but requires two traversals: O(n))\n",
    "\n",
    "1. Create an array count[] to store counts of characters.\n",
    "2. Traverse the input string str and do following for every character x = str[i].\n",
    "   Increment count[x].\n",
    "3. Traverse the input string again and do following for every character str[i]\n",
    "    -If count[x] is 1, then print the unique character\n",
    "    -If count[x] is greater than 1, then ignore the repeated character.\n",
    "*/"
   ]
  },
  {
   "cell_type": "code",
   "execution_count": 112,
   "metadata": {},
   "outputs": [
    {
     "name": "stdout",
     "output_type": "stream",
     "text": [
      "for"
     ]
    }
   ],
   "source": [
    "static final int NO_OF_CHARS = 256; \n",
    "\n",
    "/* Print duplicates present in the passed string */\n",
    "static void printDistinct(String str) \n",
    "{ \n",
    "    // Create an array of size 256 and count of \n",
    "    // every character in it \n",
    "    int[] count = new int[NO_OF_CHARS]; \n",
    "\n",
    "    /* Count array with frequency of characters */\n",
    "    int i; \n",
    "    for (i = 0; i < str.length(); i++) \n",
    "        if(str.charAt(i)!=' ') \n",
    "            count[(int)str.charAt(i)]++; \n",
    "    int n = i; \n",
    "\n",
    "    // Print characters having count more than 0 \n",
    "    for (i = 0; i < n; i++) \n",
    "        if (count[(int)str.charAt(i)] == 1) \n",
    "            System.out.print(str.charAt(i)); \n",
    "} \n",
    "\n",
    "/* Driver program*/\n",
    "public static void main(String args[]) \n",
    "{ \n",
    "    String str = \"GeeksforGeeks\"; \n",
    "    printDistinct(str); \n",
    "} \n",
    "\n",
    "main(args);"
   ]
  },
  {
   "cell_type": "code",
   "execution_count": 113,
   "metadata": {},
   "outputs": [],
   "source": [
    "/*\n",
    "Method 3 (O(n) and requires one traversal)\n",
    "\n",
    "The idea is to use two auxiliary arrays of size 256 (Assuming that characters are stored using 8 bits).\n",
    "\n",
    "1. Initialize all values in count[] as 0 and all values in index[] as n where n is length of string.\n",
    "2. Traverse the input string str and do following for every character c = str[i].\n",
    "    -Increment count[x].\n",
    "    -If count[x] is 1, then store index of x in index[x], i.e., index[x] = i\n",
    "    -If count[x] is 2, then remove x from index[], i.e., index[x] = n\n",
    "3. Now index[] has indexes of all distinct characters. \n",
    "\n",
    "Sort indexes and print characters using it. \n",
    "\n",
    "Note that this step takes O(1) time assuming number of characters are fixed (typically 256)\n",
    "*/"
   ]
  },
  {
   "cell_type": "code",
   "execution_count": 114,
   "metadata": {},
   "outputs": [],
   "source": [
    "static final int MAX_CHAR = 256; \n",
    "\n",
    "// Function to print distinct characters in \n",
    "// given string str[] \n",
    "static void printDistinct(String str) \n",
    "{ \n",
    "    int n = str.length(); \n",
    "\n",
    "    // count[x] is going to store count of \n",
    "    // character 'x' in str. If x is not present, \n",
    "    // then it is going to store 0. \n",
    "    int[] count = new int[MAX_CHAR]; \n",
    "\n",
    "    // index[x] is going to store index of character \n",
    "    // 'x' in str. If x is not present or x is \n",
    "    // more than once, then it is going to store a  \n",
    "    // value (for example, length of string) that  \n",
    "    // cannot be a valid index in str[] \n",
    "    int[] index = new int[MAX_CHAR]; \n",
    "\n",
    "    // Initialize counts of all characters and  \n",
    "    // indexes of distinct characters. \n",
    "    for (int i = 0; i < MAX_CHAR; i++) \n",
    "    { \n",
    "        count[i] = 0; \n",
    "        index[i] = n; // A value more than any  \n",
    "                      // index in str[] \n",
    "    } \n",
    "\n",
    "    // Traverse the input string \n",
    "    for (int i = 0; i < n; i++) \n",
    "    { \n",
    "        // Find current character and increment  \n",
    "        // its count \n",
    "        char x = str.charAt(i); \n",
    "        ++count[x]; \n",
    "\n",
    "        // If this is first occurrence, then set  \n",
    "        // value in index as index of it. \n",
    "        if (count[x] == 1 && x !=' ') \n",
    "            index[x] = i; \n",
    "\n",
    "        // If character repeats, then remove it  \n",
    "        // from index[] \n",
    "        if (count[x] == 2) \n",
    "            index[x] = n; \n",
    "    } \n",
    "\n",
    "    // Since size of index is constant, below  \n",
    "    // operations take constant time. \n",
    "    Arrays.sort(index); \n",
    "\n",
    "    for (int i = 0; i < MAX_CHAR && index[i] != n; \n",
    "                                              i++) \n",
    "       System.out.print(str.charAt(index[i])); \n",
    "} "
   ]
  },
  {
   "cell_type": "code",
   "execution_count": 115,
   "metadata": {},
   "outputs": [
    {
     "name": "stdout",
     "output_type": "stream",
     "text": [
      "for"
     ]
    }
   ],
   "source": [
    "// Driver code \n",
    "public static void main(String args[]) \n",
    "{ \n",
    "    String str = \"GeeksforGeeks\"; \n",
    "    printDistinct(str); \n",
    "} \n",
    "main(args);"
   ]
  },
  {
   "cell_type": "markdown",
   "metadata": {},
   "source": [
    "## **97. Count of total anagram substrings**\n",
    "https://www.geeksforgeeks.org/count-total-anagram-substrings/"
   ]
  },
  {
   "cell_type": "code",
   "execution_count": 116,
   "metadata": {},
   "outputs": [],
   "source": [
    "/*\n",
    "Given a string of lower alphabet characters, \n",
    "count total substring of this string which are anagram to each other.\n",
    "*/"
   ]
  },
  {
   "cell_type": "code",
   "execution_count": 117,
   "metadata": {},
   "outputs": [],
   "source": [
    "/*\n",
    "Examples:\n",
    "\n",
    "Input  : str = “xyyx”\n",
    "Output : 4\n",
    "Total substrings of this string which\n",
    "are anagram to each other are 4 which \n",
    "can be enumerated as,\n",
    "{“x”, “x”}, {\"y\", \"y\"}, {“xy”, “yx”}, \n",
    "{“xyy”, “yyx”}\n",
    "\n",
    "Input  : str = \"geeg\"\n",
    "Output : 4\n",
    "*/"
   ]
  },
  {
   "cell_type": "code",
   "execution_count": 118,
   "metadata": {},
   "outputs": [],
   "source": [
    "/*\n",
    "The idea is to create a map. \n",
    "We use character frequencies as keys and corresponding counts as values. \n",
    "We can solve this problem by iterating over all substrings and counting frequencies of characters in every substring. \n",
    "We can update frequencies of characters while looping over substrings \n",
    "    i.e. there won’t be an extra loop for counting frequency of characters.\n",
    "In below code, \n",
    "    a map of key ‘vector type’ and value ‘int type’ is taken for storing occurrence of ‘frequency array of length 26’ of substring characters. \n",
    "Once occurrence ‘o’ of each frequency array is stored, \n",
    "    total anagrams will be the sum of o*(o-1)/2 for all different frequency arrays \n",
    "    because if a particular substring has ‘o’ anagrams in string total o*(o-1)/2 anagram pairs can be formed.\n",
    "*/"
   ]
  },
  {
   "cell_type": "markdown",
   "metadata": {},
   "source": [
    "***https://ideone.com/cjBbEX***"
   ]
  },
  {
   "cell_type": "markdown",
   "metadata": {},
   "source": [
    "## **98. Min flips of continuous characters to make all characters same in a string**\n",
    "https://www.geeksforgeeks.org/min-flips-of-continuous-characters-to-make-all-characters-same-in-a-string/"
   ]
  },
  {
   "cell_type": "code",
   "execution_count": 119,
   "metadata": {},
   "outputs": [],
   "source": [
    "/*\n",
    "Given a string consisting only of 1’s and 0’s. \n",
    "In one flip we can change any continuous sequence of this string. \n",
    "Find this minimum number of flips so the string consist of same characters only.\n",
    "*/"
   ]
  },
  {
   "cell_type": "code",
   "execution_count": 120,
   "metadata": {},
   "outputs": [],
   "source": [
    "/*\n",
    "Examples:\n",
    "\n",
    "Input : 00011110001110\n",
    "Output : 2\n",
    "We need to convert 1's sequence\n",
    "so string consist of all 0's.\n",
    "\n",
    "Input : 010101100011\n",
    "Output : 4\n",
    "*/"
   ]
  },
  {
   "cell_type": "code",
   "execution_count": 121,
   "metadata": {},
   "outputs": [],
   "source": [
    "/*\n",
    "Time Complexity: O(n)\n",
    "\n",
    "We need to find the min flips in string so all characters are equal. \n",
    "All we have to find numbers of sequence which consisting of 0’s or 1’s only. \n",
    "Then number of flips required will be half of this number as we can change all 0’s or all 1’s.\n",
    "*/"
   ]
  },
  {
   "cell_type": "code",
   "execution_count": 122,
   "metadata": {},
   "outputs": [],
   "source": [
    "// To find min number of flips in binary string \n",
    "static int findFlips(String str, int n) \n",
    "{ \n",
    "    char last = ' '; int res = 0; \n",
    "\n",
    "    for (int i = 0; i < n; i++) { \n",
    "\n",
    "        // If last character is not equal \n",
    "        // to str[i] increase res \n",
    "        if (last != str.charAt(i)) \n",
    "            res++; \n",
    "        last = str.charAt(i); \n",
    "    } \n",
    "\n",
    "    // To return min flips \n",
    "    return res / 2; \n",
    "}"
   ]
  },
  {
   "cell_type": "code",
   "execution_count": 123,
   "metadata": {},
   "outputs": [
    {
     "name": "stdout",
     "output_type": "stream",
     "text": [
      "2\n"
     ]
    }
   ],
   "source": [
    "// Driver program to check findFlips() \n",
    "public static void main(String[] args) \n",
    "{ \n",
    "    String str = \"00011110001110\"; \n",
    "    int n = str.length(); \n",
    "\n",
    "    System.out.println(findFlips(str, n)); \n",
    "} \n",
    "main(args);"
   ]
  },
  {
   "cell_type": "markdown",
   "metadata": {},
   "source": [
    "***https://youtu.be/ZYqT5pDnQt8***"
   ]
  },
  {
   "cell_type": "markdown",
   "metadata": {},
   "source": [
    "## **99. Count binary strings with k times appearing adjacent two set bits**\n",
    "https://www.geeksforgeeks.org/count-binary-strings-k-times-appearing-adjacent-two-set-bits/"
   ]
  },
  {
   "cell_type": "code",
   "execution_count": 124,
   "metadata": {},
   "outputs": [],
   "source": [
    "/*\n",
    "Given two integers n and k, \n",
    "count the number of binary strings of length n with k as number of times adjacent 1’s appear.\n",
    "*/"
   ]
  },
  {
   "cell_type": "code",
   "execution_count": 125,
   "metadata": {},
   "outputs": [],
   "source": [
    "/*\n",
    "Examples:\n",
    "\n",
    "Input  : n = 5, k = 2\n",
    "Output : 6\n",
    "Explanation:\n",
    "Binary strings of length 5 in which k number of times\n",
    "two adjacent set bits appear.\n",
    "00111  \n",
    "01110\n",
    "11100\n",
    "11011\n",
    "10111\n",
    "11101\n",
    "\n",
    "Input  : n = 4, k = 1\n",
    "Output : 3\n",
    "Explanation:\n",
    "Binary strings of length 3 in which k number of times\n",
    "two adjacent set bits appear.\n",
    "0011  \n",
    "1100\n",
    "0110\n",
    "*/"
   ]
  },
  {
   "cell_type": "code",
   "execution_count": 126,
   "metadata": {},
   "outputs": [],
   "source": [
    "/*\n",
    "Lets try writing the recursive function for the above problem statement:\n",
    "\n",
    "1) n = 1, only two binary strings exist with length 1, not having any adjacent 1’s\n",
    "      String 1 : “0”\n",
    "      String 2 : “1”\n",
    "\n",
    "2) For all n > 1 and all k, two cases arise\n",
    "      a) Strings ending with 0 : \n",
    "            String of length n can be created by appending 0 to all strings of length n-1 having k times two adjacent 1’s ending with both 0 and 1 (Having 0 at n’th position will not change the count of adjacent 1’s).\n",
    "      b) Strings ending with 1 : \n",
    "            String of length n can be created by appending 1 to all strings of length n-1 having k times adjacent 1’s and ending with 0 and to all strings of length n-1 having k-1 adjacent 1’s and ending with 1.\n",
    "*/"
   ]
  },
  {
   "cell_type": "code",
   "execution_count": 127,
   "metadata": {},
   "outputs": [],
   "source": [
    "/*\n",
    "Example: \n",
    "    let s = 011 \n",
    "    i.e. a string ending with 1 having adjacent count as 1. \n",
    "    Adding 1 to it, s = 0111 increase the count of adjacent 1.\n",
    "*/"
   ]
  },
  {
   "cell_type": "code",
   "execution_count": 128,
   "metadata": {},
   "outputs": [],
   "source": [
    "/*\n",
    "Time Complexity : O(n2)\n",
    "\n",
    "Let there be an array dp[i][j][2] where dp[i][j][0]\n",
    "denotes number of binary strings with length i having\n",
    "j number of two adjacent 1's and ending with 0.\n",
    "Similarly dp[i][j][1] denotes the same binary strings\n",
    "with length i and j adjacent 1's but ending with 1.\n",
    "Then: \n",
    "    dp[1][0][0] = 1 and dp[1][0][1] = 1\n",
    "    For all other i and j,\n",
    "        dp[i][j][0] = dp[i-1][j][0] + dp[i-1][j][1]\n",
    "        dp[i][j][1] = dp[i-1][j][0] + dp[i-1][j-1][1]\n",
    "\n",
    "Then, output dp[n][k][0] + dp[n][k][1]\n",
    "*/"
   ]
  },
  {
   "cell_type": "code",
   "execution_count": 129,
   "metadata": {},
   "outputs": [],
   "source": [
    "static int countStrings(int n, int k) \n",
    "{ \n",
    "    // dp[i][j][0] stores count of binary \n",
    "    // strings of length i with j consecutive \n",
    "    // 1's and ending at 0. \n",
    "    // dp[i][j][1] stores count of binary \n",
    "    // strings of length i with j consecutive \n",
    "    // 1's and ending at 1. \n",
    "    int dp[][][] = new int[n + 1][k + 1][2]; \n",
    "\n",
    "    // If n = 1 and k = 0. \n",
    "    dp[1][0][0] = 1; \n",
    "    dp[1][0][1] = 1; \n",
    "\n",
    "    for (int i = 2; i <= n; i++) { \n",
    "        // number of adjacent 1's can not exceed i-1 \n",
    "        for (int j = 0; j < i && j < k + 1; j++) { \n",
    "            dp[i][j][0] = dp[i - 1][j][0] + dp[i - 1][j][1]; \n",
    "            dp[i][j][1] = dp[i - 1][j][0]; \n",
    "\n",
    "            if (j - 1 >= 0) { \n",
    "                dp[i][j][1] += dp[i - 1][j - 1][1]; \n",
    "            } \n",
    "        } \n",
    "    } \n",
    "\n",
    "    return dp[n][k][0] + dp[n][k][1]; \n",
    "} "
   ]
  },
  {
   "cell_type": "code",
   "execution_count": 130,
   "metadata": {},
   "outputs": [
    {
     "name": "stdout",
     "output_type": "stream",
     "text": [
      "6\n"
     ]
    }
   ],
   "source": [
    "// Driver code \n",
    "public static void main(String[] args) \n",
    "{ \n",
    "    int n = 5, k = 2; \n",
    "    System.out.println(countStrings(n, k)); \n",
    "} \n",
    "main(args);"
   ]
  },
  {
   "cell_type": "markdown",
   "metadata": {},
   "source": [
    "## **100. Binary representation of next greater number with same number of 1’s and 0’s**\n",
    "https://www.geeksforgeeks.org/binary-representation-next-greater-number-number-1s-0s/"
   ]
  },
  {
   "cell_type": "code",
   "execution_count": 131,
   "metadata": {},
   "outputs": [],
   "source": [
    "/*\n",
    "Given a binary input that represents binary representation of positive number n, \n",
    "find binary representation of smallest number greater than n with same number of 1’s and 0’s as in binary representation of n. \n",
    "If no such number can be formed, print “no greater number”.\n",
    "\n",
    "The binary input may be and may not fit even in unsigned long long int.\n",
    "*/"
   ]
  },
  {
   "cell_type": "code",
   "execution_count": 132,
   "metadata": {},
   "outputs": [],
   "source": [
    "/*\n",
    "Examples:\n",
    "\n",
    "Input : 10010\n",
    "Output : 10100\n",
    "Here n = (18)10 = (10010)2\n",
    "next greater = (20)10 = (10100)2\n",
    "Binary representation of 20 contains same number of\n",
    "1's and 0's as in 18.\n",
    "\n",
    "Input : 111000011100111110\n",
    "Output :  111000011101001111\n",
    "*/"
   ]
  },
  {
   "cell_type": "markdown",
   "metadata": {},
   "source": [
    "**Related Link** ***https://www.geeksforgeeks.org/find-the-next-lexicographically-greater-word-than-a-given-word/***"
   ]
  },
  {
   "cell_type": "code",
   "execution_count": 133,
   "metadata": {},
   "outputs": [],
   "source": [
    "/*\n",
    "Time Complexity : O(n) where n is number of bits in input.\n",
    "\n",
    "This problem simply boils down to finding next permutation of a given string. \n",
    "We can find the next_permutation() of the input binary number.\n",
    "\n",
    "Below is an algorithm to find next permutation in binary string.\n",
    "\n",
    "-Traverse the binary string bstr from the right.\n",
    "-While traversing find the first index i such that bstr[i] = ‘0’ and bstr[i+1] = ‘1’.\n",
    "-Exchange character of at index ‘i’ and ‘i+1’.\n",
    "-Since we need smallest next value, \n",
    "    consider substring from index i+2 to end and move all 1’s in the substring in the end.\n",
    "*/"
   ]
  },
  {
   "cell_type": "code",
   "execution_count": 134,
   "metadata": {},
   "outputs": [],
   "source": [
    "// Function to find the next greater number \n",
    "// with same number of 1's and 0's \n",
    "static String nextGreaterWithSameDigits(char[] bnum) \n",
    "{ \n",
    "    int l = bnum.length; \n",
    "    int i; \n",
    "    for (i = l - 2; i >= 1; i--) \n",
    "    { \n",
    "        // locate first 'i' from end such that \n",
    "        // bnum[i]=='0' and bnum[i+1]=='1' \n",
    "        // swap these value and break; \n",
    "        if (bnum[i] == '0' && \n",
    "        bnum[i+1] == '1') \n",
    "        { \n",
    "            char ch = bnum[i]; \n",
    "            bnum[i] = bnum[i+1]; \n",
    "            bnum[i+1] = ch; \n",
    "            break; \n",
    "        } \n",
    "    } \n",
    "  \n",
    "    // if no swapping performed \n",
    "    if (i == 0) \n",
    "        System.out.println(\"no greater number\"); \n",
    "  \n",
    "    // Since we want the smallest next value, \n",
    "    // shift all 1's at the end in the binary \n",
    "    // substring starting from index 'i+2' \n",
    "    int j = i + 2, k = l - 1; \n",
    "    while (j < k) \n",
    "    { \n",
    "        if (bnum[j] == '1' && bnum[k] == '0') \n",
    "        { \n",
    "            char ch = bnum[j]; \n",
    "            bnum[j] = bnum[k]; \n",
    "            bnum[k] = ch; \n",
    "            j++; \n",
    "            k--; \n",
    "        } \n",
    "  \n",
    "        // special case while swapping if '0' \n",
    "        // occurs then break \n",
    "        else if (bnum[i] == '0') \n",
    "            break; \n",
    "  \n",
    "        else\n",
    "            j++; \n",
    "  \n",
    "    } \n",
    "  \n",
    "    // required next greater number \n",
    "    return String.valueOf(bnum); \n",
    "} "
   ]
  },
  {
   "cell_type": "code",
   "execution_count": 135,
   "metadata": {},
   "outputs": [
    {
     "name": "stdout",
     "output_type": "stream",
     "text": [
      "Binary representation of next greater number = 10100\n"
     ]
    }
   ],
   "source": [
    "// Driver program to test above \n",
    "public static void main(String[] args) \n",
    "{ \n",
    "    char[] bnum = \"10010\".toCharArray(); \n",
    "    System.out.println(\"Binary representation of next greater number = \"\n",
    "        + nextGreaterWithSameDigits(bnum)); \n",
    "}\n",
    "main(args);"
   ]
  },
  {
   "cell_type": "markdown",
   "metadata": {},
   "source": [
    "## **101. Print all longest common sub-sequences in lexicographical order**\n",
    "https://www.geeksforgeeks.org/print-longest-common-sub-sequences-lexicographical-order/"
   ]
  },
  {
   "cell_type": "code",
   "execution_count": 136,
   "metadata": {},
   "outputs": [],
   "source": [
    "/*\n",
    "You are given two strings.\n",
    "Now you have to print all longest common sub-sequences in lexicographical order.\n",
    "*/"
   ]
  },
  {
   "cell_type": "code",
   "execution_count": 137,
   "metadata": {},
   "outputs": [],
   "source": [
    "/*\n",
    "Examples:\n",
    "\n",
    "Input : str1 = \"abcabcaa\", str2 = \"acbacba\"\n",
    "Output: ababa\n",
    "        abaca\n",
    "        abcba\n",
    "        acaba\n",
    "        acaca\n",
    "        acbaa\n",
    "        acbca\n",
    "*/"
   ]
  },
  {
   "cell_type": "code",
   "execution_count": 138,
   "metadata": {},
   "outputs": [],
   "source": [
    "/*\n",
    "This problem is an extension of longest common subsequence. \n",
    "We first find length of LCS and store all LCS in 2D table using Memoization (or Dynamic Programming). \n",
    "Then we search all characters from ‘a’ to ‘z’ (to output sorted order) in both strings. \n",
    "If a character is found in both strings and current positions of character lead to LCS, we recursively search all occurrences with current LCS length plus 1.\n",
    "*/"
   ]
  },
  {
   "cell_type": "markdown",
   "metadata": {},
   "source": [
    "***https://ideone.com/8fAHOW***"
   ]
  },
  {
   "cell_type": "markdown",
   "metadata": {},
   "source": [
    "## **102. Printing Shortest Common Supersequence**\n",
    "https://www.geeksforgeeks.org/print-shortest-common-supersequence/"
   ]
  },
  {
   "cell_type": "code",
   "execution_count": 139,
   "metadata": {},
   "outputs": [],
   "source": [
    "/*\n",
    "Given two strings X and Y, \n",
    "print the shortest string that has both X and Y as subsequences. \n",
    "If multiple shortest supersequence exists, print any one of them.\n",
    "*/"
   ]
  },
  {
   "cell_type": "code",
   "execution_count": 140,
   "metadata": {},
   "outputs": [],
   "source": [
    "/*\n",
    "Examples:\n",
    "\n",
    "Input: X = \"AGGTAB\",  Y = \"GXTXAYB\"\n",
    "Output: \"AGXGTXAYB\" OR \"AGGXTXAYB\" \n",
    "OR Any string that represents shortest\n",
    "supersequence of X and Y\n",
    "\n",
    "Input: X = \"HELLO\",  Y = \"GEEK\"\n",
    "Output: \"GEHEKLLO\" OR \"GHEEKLLO\"\n",
    "OR Any string that represents shortest \n",
    "supersequence of X and Y\n",
    "*/"
   ]
  },
  {
   "cell_type": "markdown",
   "metadata": {},
   "source": [
    "***https://www.geeksforgeeks.org/shortest-common-supersequence/***"
   ]
  },
  {
   "cell_type": "code",
   "execution_count": 141,
   "metadata": {},
   "outputs": [],
   "source": [
    "/*\n",
    "We have discussed how to print length of shortest possible supersequence for two given strings in above link. \n",
    "In this post, we print the shortest supersequence.\n",
    "*/"
   ]
  },
  {
   "cell_type": "code",
   "execution_count": 142,
   "metadata": {},
   "outputs": [],
   "source": [
    "/*\n",
    "We have already discussed below algorithm to find length of shortest supersequence in previous post-\n",
    "\n",
    "Let X[0..m-1] and Y[0..n-1] be two strings and m and be respective \n",
    "lengths.\n",
    "\n",
    "if (m == 0) return n;\n",
    "if (n == 0) return m;\n",
    "\n",
    "// If last characters are same, then add 1 to result and\n",
    "// recur for X[]\n",
    "if (X[m-1] == Y[n-1]) \n",
    "    return 1 + SCS(X, Y, m-1, n-1);\n",
    "\n",
    "// Else find shortest of following two\n",
    "//  a) Remove last character from X and recur\n",
    "//  b) Remove last character from Y and recur\n",
    "else return 1 + min( SCS(X, Y, m-1, n), SCS(X, Y, m, n-1) );\n",
    "*/"
   ]
  },
  {
   "cell_type": "code",
   "execution_count": 143,
   "metadata": {},
   "outputs": [],
   "source": [
    "/*\n",
    "The following table shows steps followed by the above algorithm \n",
    "if we solve it in bottom-up manner using Dynamic Programming for strings X = “AGGTAB” and Y = “GXTXAYB”,\n",
    "*/"
   ]
  },
  {
   "cell_type": "markdown",
   "metadata": {},
   "source": [
    "<img src = \"https://media.geeksforgeeks.org/wp-content/uploads/Shortest-Supersequence.jpg\"/>"
   ]
  },
  {
   "cell_type": "code",
   "execution_count": 144,
   "metadata": {},
   "outputs": [],
   "source": [
    "/*\n",
    "Using the DP solution matrix, we can easily print shortest supersequence of two strings by following below steps –\n",
    "*/"
   ]
  },
  {
   "cell_type": "code",
   "execution_count": 145,
   "metadata": {},
   "outputs": [],
   "source": [
    "/*\n",
    "We start from the bottom-right most cell of the matrix and \n",
    "push characters in output string based on below rules-\n",
    "\n",
    " 1. If the characters corresponding to current cell (i, j) \n",
    "    in X and Y are same, then the character is part of shortest \n",
    "    supersequence. We append it in output string and move \n",
    "    diagonally to next cell (i.e. (i - 1, j - 1)).\n",
    "\n",
    " 2. If the characters corresponding to current cell (i, j)\n",
    "    in X and Y are different, we have two choices -\n",
    "\n",
    "    If matrix[i - 1][j] > matrix[i][j - 1],\n",
    "    we add character corresponding to current \n",
    "    cell (i, j) in string Y in output string \n",
    "    and move to the left cell i.e. (i, j - 1)\n",
    "    else\n",
    "    we add character corresponding to current \n",
    "    cell (i, j) in string X in output string \n",
    "    and move to the top cell i.e. (i - 1, j)\n",
    "\n",
    " 3. If string Y reaches its end i.e. j = 0, we add remaining\n",
    "    characters of string X in the output string\n",
    "    else if string X reaches its end i.e. i = 0, we add \n",
    "    remaining characters of string Y in the output string.\n",
    "*/"
   ]
  },
  {
   "cell_type": "code",
   "execution_count": 146,
   "metadata": {},
   "outputs": [],
   "source": [
    "// returns shortest supersequence of X and Y  \n",
    "static String printShortestSuperSeq(String X, String Y) \n",
    "{ \n",
    "    int m = X.length(); \n",
    "    int n = Y.length(); \n",
    "\n",
    "    // dp[i][j] contains length of  \n",
    "    // shortest supersequence  \n",
    "    // for X[0..i-1] and Y[0..j-1]  \n",
    "    int dp[][] = new int[m + 1][n + 1]; \n",
    "\n",
    "    // Fill table in bottom up manner  \n",
    "    for (int i = 0; i <= m; i++)  \n",
    "    { \n",
    "        for (int j = 0; j <= n; j++)  \n",
    "        { \n",
    "\n",
    "            // Below steps follow recurrence relation  \n",
    "            if (i == 0)  \n",
    "            { \n",
    "                dp[i][j] = j; \n",
    "            }  \n",
    "            else if (j == 0)  \n",
    "            { \n",
    "                dp[i][j] = i; \n",
    "            }  \n",
    "            else if (X.charAt(i - 1) == Y.charAt(j - 1))  \n",
    "            { \n",
    "                dp[i][j] = 1 + dp[i - 1][j - 1]; \n",
    "            } \n",
    "            else \n",
    "            { \n",
    "                dp[i][j] = 1 + Math.min(dp[i - 1][j], dp[i][j - 1]); \n",
    "            } \n",
    "        } \n",
    "    } \n",
    "\n",
    "    // Following code is used to print  \n",
    "    // shortest supersequence dp[m][n] s \n",
    "    // tores the length of the shortest \n",
    "    // supersequence of X and Y  \n",
    "    int index = dp[m][n]; \n",
    "\n",
    "    // string to store the shortest supersequence  \n",
    "    String str = \"\"; \n",
    "\n",
    "    // Start from the bottom right corner and one by one  \n",
    "    // push characters in output string  \n",
    "    int i = m, j = n; \n",
    "    while (i > 0 && j > 0) \n",
    "\n",
    "    { \n",
    "        // If current character in X and Y are same, then  \n",
    "        // current character is part of shortest supersequence  \n",
    "        if (X.charAt(i - 1) == Y.charAt(j - 1))  \n",
    "\n",
    "        { \n",
    "            // Put current character in result  \n",
    "            str += (X.charAt(i - 1)); \n",
    "\n",
    "            // reduce values of i, j and index  \n",
    "            i--; \n",
    "            j--; \n",
    "            index--; \n",
    "        }  \n",
    "\n",
    "        // If current character in X and Y are different  \n",
    "        else if (dp[i - 1][j] > dp[i][j - 1]) \n",
    "        { \n",
    "\n",
    "            // Put current character of Y in result  \n",
    "            str += (Y.charAt(j - 1)); \n",
    "\n",
    "            // reduce values of j and index  \n",
    "            j--; \n",
    "            index--; \n",
    "        }  \n",
    "        else \n",
    "        { \n",
    "\n",
    "            // Put current character of X in result  \n",
    "            str += (X.charAt(i - 1)); \n",
    "\n",
    "            // reduce values of i and index  \n",
    "            i--; \n",
    "            index--; \n",
    "        } \n",
    "    } \n",
    "\n",
    "    // If Y reaches its end, put remaining characters  \n",
    "    // of X in the result string  \n",
    "    while (i > 0)  \n",
    "    { \n",
    "        str += (X.charAt(i - 1)); \n",
    "        i--; \n",
    "        index--; \n",
    "    } \n",
    "\n",
    "    // If X reaches its end, put remaining characters  \n",
    "    // of Y in the result string  \n",
    "    while (j > 0) \n",
    "    { \n",
    "        str += (Y.charAt(j - 1)); \n",
    "        j--; \n",
    "        index--; \n",
    "    } \n",
    "\n",
    "    // reverse the string and return it  \n",
    "    str = reverse(str); \n",
    "    return str; \n",
    "} "
   ]
  },
  {
   "cell_type": "code",
   "execution_count": 147,
   "metadata": {},
   "outputs": [],
   "source": [
    "static String reverse(String input)  \n",
    "{ \n",
    "    char[] temparray = input.toCharArray(); \n",
    "    int left, right = 0; \n",
    "    right = temparray.length - 1; \n",
    "\n",
    "    for (left = 0; left < right; left++, right--) \n",
    "    { \n",
    "        // Swap values of left and right  \n",
    "        char temp = temparray[left]; \n",
    "        temparray[left] = temparray[right]; \n",
    "        temparray[right] = temp; \n",
    "    } \n",
    "    return String.valueOf(temparray); \n",
    "} "
   ]
  },
  {
   "cell_type": "code",
   "execution_count": 148,
   "metadata": {},
   "outputs": [
    {
     "name": "stdout",
     "output_type": "stream",
     "text": [
      "AGXGTXAYB\n"
     ]
    }
   ],
   "source": [
    "// Driver code \n",
    "public static void main(String[] args)  \n",
    "{ \n",
    "    String X = \"AGGTAB\"; \n",
    "    String Y = \"GXTXAYB\"; \n",
    "    System.out.println(printShortestSuperSeq(X, Y)); \n",
    "} \n",
    "main(args);"
   ]
  },
  {
   "cell_type": "code",
   "execution_count": 149,
   "metadata": {},
   "outputs": [],
   "source": [
    "/*\n",
    "Time complexity of above solution is O(n^2).\n",
    "Auxiliary space used by the program is O(n^2).\n",
    "*/"
   ]
  },
  {
   "cell_type": "markdown",
   "metadata": {},
   "source": [
    "## **103. Given two strings, find if first string is a subsequence of second**\n",
    "https://www.geeksforgeeks.org/given-two-strings-find-first-string-subsequence-second/"
   ]
  },
  {
   "cell_type": "code",
   "execution_count": 150,
   "metadata": {},
   "outputs": [],
   "source": [
    "/*\n",
    "Given two strings str1 and str2, \n",
    "find if str1 is a subsequence of str2. \n",
    "\n",
    "A subsequence is a sequence that can be derived from another sequence by deleting some elements without changing the order of the remaining elements (source: wiki). \n",
    "Expected time complexity is linear.\n",
    "*/"
   ]
  },
  {
   "cell_type": "code",
   "execution_count": 151,
   "metadata": {},
   "outputs": [],
   "source": [
    "/*\n",
    "Examples :\n",
    "\n",
    "Input: str1 = \"AXY\", str2 = \"ADXCPY\"\n",
    "Output: True (str1 is a subsequence of str2)\n",
    "\n",
    "Input: str1 = \"AXY\", str2 = \"YADXCP\"\n",
    "Output: False (str1 is not a subsequence of str2)\n",
    "\n",
    "Input: str1 = \"gksrek\", str2 = \"geeksforgeeks\"\n",
    "Output: True (str1 is a subsequence of str2)\n",
    "*/"
   ]
  },
  {
   "cell_type": "code",
   "execution_count": 152,
   "metadata": {},
   "outputs": [],
   "source": [
    "/*\n",
    "The idea is simple, \n",
    "    we traverse both strings from one side to other side (say from rightmost character to leftmost). \n",
    "    If we find a matching character, we move ahead in both strings. \n",
    "    Otherwise we move ahead only in str2.\n",
    "*/"
   ]
  },
  {
   "cell_type": "markdown",
   "metadata": {},
   "source": [
    "**Recursive Approach**"
   ]
  },
  {
   "cell_type": "code",
   "execution_count": 153,
   "metadata": {},
   "outputs": [],
   "source": [
    "// Returns true if str1[] is a subsequence of str2[] \n",
    "// m is length of str1 and n is length of str2 \n",
    "static boolean isSubSequence(String str1, String str2, int m, int n) \n",
    "{ \n",
    "    // Base Cases \n",
    "    if (m == 0)  \n",
    "        return true; \n",
    "    if (n == 0)  \n",
    "        return false; \n",
    "\n",
    "    // If last characters of two strings are matching \n",
    "    if (str1.charAt(m-1) == str2.charAt(n-1)) \n",
    "        return isSubSequence(str1, str2, m-1, n-1); \n",
    "\n",
    "    // If last characters are not matching \n",
    "    return isSubSequence(str1, str2, m, n-1); \n",
    "} "
   ]
  },
  {
   "cell_type": "code",
   "execution_count": 154,
   "metadata": {},
   "outputs": [
    {
     "name": "stdout",
     "output_type": "stream",
     "text": [
      "Yes\n"
     ]
    }
   ],
   "source": [
    "// Driver program \n",
    "public static void main (String[] args)  \n",
    "{ \n",
    "    String str1 = \"gksrek\"; \n",
    "    String str2 = \"geeksforgeeks\"; \n",
    "    int m = str1.length(); \n",
    "    int n = str2.length(); \n",
    "    boolean res = isSubSequence(str1, str2, m, n); \n",
    "    if(res) \n",
    "        System.out.println(\"Yes\"); \n",
    "    else\n",
    "        System.out.println(\"No\"); \n",
    "} \n",
    "main(args);"
   ]
  },
  {
   "cell_type": "markdown",
   "metadata": {},
   "source": [
    "**Iterative Approach**"
   ]
  },
  {
   "cell_type": "code",
   "execution_count": 155,
   "metadata": {},
   "outputs": [],
   "source": [
    "// Returns true if str1[] is a subsequence  \n",
    "// of str2[] m is length of str1 and n is \n",
    "// length of str2 \n",
    "static boolean isSubSequence(String str1,  \n",
    "                String str2, int m, int n) \n",
    "{ \n",
    "    int j = 0; \n",
    "\n",
    "    // Traverse str2 and str1, and compare  \n",
    "    // current character of str2 with first \n",
    "    // unmatched char of str1, if matched  \n",
    "    // then move ahead in str1 \n",
    "    for (int i = 0; i < n && j < m; i++) \n",
    "        if (str1.charAt(j) == str2.charAt(i)) \n",
    "            j++; \n",
    "\n",
    "    // If all characters of str1 were found \n",
    "    // in str2 \n",
    "    return (j == m);  \n",
    "} "
   ]
  },
  {
   "cell_type": "code",
   "execution_count": 156,
   "metadata": {},
   "outputs": [
    {
     "name": "stdout",
     "output_type": "stream",
     "text": [
      "Yes\n"
     ]
    }
   ],
   "source": [
    "// Driver program to test methods of \n",
    "// graph class \n",
    "public static void main (String[] args)  \n",
    "{ \n",
    "    String str1 = \"gksrek\"; \n",
    "    String str2 = \"geeksforgeeks\"; \n",
    "    int m = str1.length(); \n",
    "    int n = str2.length(); \n",
    "    boolean res = isSubSequence(str1, str2, m, n); \n",
    "\n",
    "    if(res) \n",
    "        System.out.println(\"Yes\"); \n",
    "    else\n",
    "        System.out.println(\"No\"); \n",
    "}\n",
    "main(args);"
   ]
  },
  {
   "cell_type": "code",
   "execution_count": 157,
   "metadata": {},
   "outputs": [],
   "source": [
    "/*\n",
    "Time Complexity of both implementations above is O(n) where n is the length of str2.\n",
    "*/"
   ]
  },
  {
   "cell_type": "markdown",
   "metadata": {},
   "source": [
    "## **104. Find largest word in dictionary by deleting some characters of given string**\n",
    "https://www.geeksforgeeks.org/find-largest-word-dictionary-deleting-characters-given-string/"
   ]
  },
  {
   "cell_type": "code",
   "execution_count": 158,
   "metadata": {},
   "outputs": [],
   "source": [
    "/*\n",
    "Giving a dictionary and a string ‘str’, \n",
    "find the longest string in dictionary which can be formed by deleting some characters of the given ‘str’.\n",
    "*/"
   ]
  },
  {
   "cell_type": "code",
   "execution_count": 159,
   "metadata": {},
   "outputs": [],
   "source": [
    "/*\n",
    "Examples:\n",
    "\n",
    "Input : dict = {\"ale\", \"apple\", \"monkey\", \"plea\"}   \n",
    "        str = \"abpcplea\"  \n",
    "Output : apple \n",
    "\n",
    "Input  : dict = {\"pintu\", \"geeksfor\", \"geeksgeeks\", \n",
    "                                        \" forgeek\"} \n",
    "         str = \"geeksforgeeks\"\n",
    "Output : geeksgeeks\n",
    "*/"
   ]
  },
  {
   "cell_type": "code",
   "execution_count": 160,
   "metadata": {},
   "outputs": [],
   "source": [
    "/*\n",
    "This problem reduces to finding \n",
    "if a string is subsequence of another string or not.\n",
    "(https://www.geeksforgeeks.org/dynamic-programming-set-4-longest-common-subsequence/) \n",
    "\n",
    "We traverse all dictionary words and for every word, \n",
    "    we check if it is subsequence of given string and is largest of all such words. \n",
    "    We finally return the longest word with given string as subsequence.\n",
    "\n",
    "Below is the implementation of above idea\n",
    "*/"
   ]
  },
  {
   "cell_type": "code",
   "execution_count": 161,
   "metadata": {},
   "outputs": [],
   "source": [
    "// Returns true if str1[] is a  \n",
    "// subsequence of str2[]. m is  \n",
    "// length of str1 and n is length of str2  \n",
    "static boolean isSubSequence(String str1, \n",
    "                            String str2)  \n",
    "{ \n",
    "    int m = str1.length(), n = str2.length(); \n",
    "\n",
    "    int j = 0; // For index of str1 (or subsequence)  \n",
    "\n",
    "    // Traverse str2 and str1, and compare current  \n",
    "    // character of str2 with first unmatched char  \n",
    "    // of str1, if matched then move ahead in str1  \n",
    "    for (int i = 0; i < n && j < m; i++) \n",
    "    { \n",
    "        if (str1.charAt(j) == str2.charAt(i))  \n",
    "        { \n",
    "            j++; \n",
    "        } \n",
    "    } \n",
    "\n",
    "    // If all characters of str1  \n",
    "    // were found in str2  \n",
    "    return (j == m); \n",
    "} "
   ]
  },
  {
   "cell_type": "code",
   "execution_count": 162,
   "metadata": {},
   "outputs": [],
   "source": [
    "// Returns the longest String  \n",
    "// in dictionary which is a  \n",
    "// subsequence of str.  \n",
    "static String findLongestString(Vector<String> dict,  \n",
    "                                        String str) \n",
    "{ \n",
    "    String result = \"\"; \n",
    "    int length = 0; \n",
    "\n",
    "    // Traverse through all words of dictionary  \n",
    "    for (String word : dict) \n",
    "    { \n",
    "\n",
    "        // If current word is subsequence of str  \n",
    "        // and is largest such word so far.  \n",
    "        if (length < word.length() && \n",
    "            isSubSequence(word, str)) \n",
    "        { \n",
    "            result = word; \n",
    "            length = word.length(); \n",
    "        } \n",
    "    } \n",
    "\n",
    "    // Return longest String  \n",
    "    return result; \n",
    "} "
   ]
  },
  {
   "cell_type": "code",
   "execution_count": 163,
   "metadata": {},
   "outputs": [
    {
     "name": "stdout",
     "output_type": "stream",
     "text": [
      "apple\n"
     ]
    }
   ],
   "source": [
    "// Driver code \n",
    "public static void main(String[] args)  \n",
    "{ \n",
    "    String[] arr = {\"ale\", \"apple\", \"monkey\", \"plea\"}; \n",
    "    Vector dict = new Vector(Arrays.asList(arr)); \n",
    "    String str = \"abpcplea\"; \n",
    "    System.out.println(findLongestString(dict, str)); \n",
    "} \n",
    "main(args);"
   ]
  },
  {
   "cell_type": "code",
   "execution_count": 164,
   "metadata": {},
   "outputs": [],
   "source": [
    "/*\n",
    "Time Complexity : O(N*K*n) \n",
    "    Here N is the length of dictionary \n",
    "    and n is the length of given string ‘str’ \n",
    "    and K – maximum length of words in the dictionary.\n",
    "\n",
    "Auxiliary Space : O(1)\n",
    "*/"
   ]
  },
  {
   "cell_type": "markdown",
   "metadata": {},
   "source": [
    "## **105. Search a Word in a 2D Grid of characters**\n",
    "https://www.geeksforgeeks.org/search-a-word-in-a-2d-grid-of-characters/"
   ]
  },
  {
   "cell_type": "code",
   "execution_count": 165,
   "metadata": {},
   "outputs": [],
   "source": [
    "/*\n",
    "Given a 2D grid of characters and a word, \n",
    "find all occurrences of given word in grid. \n",
    "\n",
    "A word can be matched in all 8 directions at any point. \n",
    "Word is said be found in a direction if all characters match in this direction (not in zig-zag form).\n",
    "\n",
    "The 8 directions are, Horizontally Left, Horizontally Right, Vertically Up and 4 Diagonal directions.\n",
    "*/"
   ]
  },
  {
   "cell_type": "code",
   "execution_count": 166,
   "metadata": {},
   "outputs": [],
   "source": [
    "/*\n",
    "Example:\n",
    "\n",
    "Input:  grid[][] = {\"GEEKSFORGEEKS\",\n",
    "                    \"GEEKSQUIZGEEK\",\n",
    "                    \"IDEQAPRACTICE\"};\n",
    "        word = \"GEEKS\"\n",
    "\n",
    "Output: pattern found at 0, 0\n",
    "        pattern found at 0, 8\n",
    "        pattern found at 1, 0\n",
    "\n",
    "Input:  grid[][] = {\"GEEKSFORGEEKS\",\n",
    "                    \"GEEKSQUIZGEEK\",\n",
    "                    \"IDEQAPRACTICE\"};\n",
    "        word = \"EEE\"\n",
    "\n",
    "Output: pattern found at 0, 2\n",
    "        pattern found at 0, 10\n",
    "        pattern found at 2, 2\n",
    "        pattern found at 2, 12\n",
    "*/"
   ]
  },
  {
   "cell_type": "markdown",
   "metadata": {},
   "source": [
    "<img src = \"https://media.geeksforgeeks.org/wp-content/cdn-uploads/Search_a_Word.png\"/>"
   ]
  },
  {
   "cell_type": "code",
   "execution_count": 167,
   "metadata": {},
   "outputs": [],
   "source": [
    "/*\n",
    "The idea used here is simple, \n",
    "    we check every cell. \n",
    "    If cell has first character, then we one by one try all 8 directions from that cell for a match. \n",
    "    Implementation is interesting though. \n",
    "    We use two arrays x[] and y[] to find next move in all 8 directions.\n",
    "*/"
   ]
  },
  {
   "cell_type": "code",
   "execution_count": 168,
   "metadata": {},
   "outputs": [],
   "source": [
    "// Rows and columns in given grid \n",
    "static int R, C; \n",
    "\n",
    "// For searching in all 8 direction  \n",
    "static int[] x = { -1, -1, -1, 0, 0, 1, 1, 1 };  \n",
    "static int[] y = { -1, 0, 1, -1, 1, -1, 0, 1 };  \n",
    "\n",
    "// This function searches in all 8-direction from point  \n",
    "// (row, col) in grid[][]  \n",
    "static boolean search2D(char[][] grid, int row, \n",
    "                        int col, String word) \n",
    "{ \n",
    "        // If first character of word doesn't match with  \n",
    "        // given starting point in grid.  \n",
    "        if (grid[row][col] != word.charAt(0)) \n",
    "            return false; \n",
    "\n",
    "        int len = word.length(); \n",
    "\n",
    "        // Search word in all 8 directions \n",
    "        // starting from (row,col) \n",
    "        for (int dir = 0; dir < 8; dir++) \n",
    "        { \n",
    "            // Initialize starting point \n",
    "            // for current direction  \n",
    "            int k, rd = row + x[dir], cd = col + y[dir]; \n",
    "\n",
    "            // First character is already checked,  \n",
    "            //  match remaining characters \n",
    "            for (k = 1; k < len; k++) \n",
    "            { \n",
    "                // If out of bound break  \n",
    "                if (rd >= R || rd < 0 || cd >= C || cd < 0) \n",
    "                    break; \n",
    "\n",
    "                // If not matched, break  \n",
    "                if (grid[rd][cd] != word.charAt(k)) \n",
    "                    break; \n",
    "\n",
    "                // Moving in particular direction  \n",
    "                rd += x[dir]; \n",
    "                cd += y[dir]; \n",
    "            }  \n",
    "\n",
    "            // If all character matched, then value of must  \n",
    "            // be equal to length of word \n",
    "            if (k == len) \n",
    "                return true;  \n",
    "        } \n",
    "    return false; \n",
    "} "
   ]
  },
  {
   "cell_type": "code",
   "execution_count": 169,
   "metadata": {},
   "outputs": [],
   "source": [
    "// Searches given word in a given \n",
    "// matrix in all 8 directions \n",
    "static void patternSearch(char[][] grid, String word) \n",
    "{ \n",
    "        // Consider every point as starting  \n",
    "        // point and search given word  \n",
    "        for (int row = 0; row < R; row++)  \n",
    "        { \n",
    "            for (int col = 0; col < C; col++)  \n",
    "            { \n",
    "                if (search2D(grid, row, col, word)) \n",
    "                    System.out.println(\"pattern found at \" + row +  \n",
    "                                                        \", \" + col); \n",
    "            } \n",
    "        } \n",
    "} "
   ]
  },
  {
   "cell_type": "code",
   "execution_count": 170,
   "metadata": {},
   "outputs": [
    {
     "name": "stdout",
     "output_type": "stream",
     "text": [
      "pattern found at 0, 0\n",
      "pattern found at 0, 8\n",
      "pattern found at 1, 0\n",
      "\n",
      "pattern found at 0, 2\n",
      "pattern found at 0, 10\n",
      "pattern found at 2, 2\n",
      "pattern found at 2, 12\n"
     ]
    }
   ],
   "source": [
    "// Driver code \n",
    "public static void main(String args[]) \n",
    "{ \n",
    "        R = 3; \n",
    "        C = 13; \n",
    "        char[][] grid = {{'G','E','E','K','S','F','O','R','G','E','E','K','S'}, \n",
    "                            {'G','E','E','K','S','Q','U','I','Z','G','E','E','K'}, \n",
    "                            {'I','D','E','Q','A','P','R','A','C','T','I','C','E'}}; \n",
    "        patternSearch(grid, \"GEEKS\"); \n",
    "        System.out.println(); \n",
    "        patternSearch(grid, \"EEE\"); \n",
    "} \n",
    "main(args);"
   ]
  },
  {
   "cell_type": "code",
   "execution_count": null,
   "metadata": {},
   "outputs": [],
   "source": []
  },
  {
   "cell_type": "markdown",
   "metadata": {},
   "source": [
    "## **106. Number of subsequences of the form a^i b^j c^k**\n",
    "https://www.geeksforgeeks.org/number-subsequences-form-ai-bj-ck/"
   ]
  },
  {
   "cell_type": "code",
   "execution_count": 171,
   "metadata": {},
   "outputs": [],
   "source": [
    "/*\n",
    "Given a string, \n",
    "    count number of subsequences of the form aibjck, \n",
    "    i.e., it consists of i ’a’ characters, \n",
    "             followed by j ’b’ characters, \n",
    "             followed by k ’c’ characters where i >= 1, j >=1 and k >= 1.\n",
    "\n",
    "Note: Two subsequences are considered different if the set of array indexes picked for the 2 subsequences are different.\n",
    "\n",
    "Expected Time Complexity : O(n)\n",
    "*/"
   ]
  },
  {
   "cell_type": "code",
   "execution_count": 172,
   "metadata": {},
   "outputs": [],
   "source": [
    "/*\n",
    "Examples:\n",
    "\n",
    "Input  : abbc\n",
    "Output : 3\n",
    "Subsequences are abc, abc and abbc\n",
    "\n",
    "Input  : abcabc\n",
    "Output : 7\n",
    "Subsequences are abc, abc, abbc, aabc\n",
    "abcc, abc and abc\n",
    "*/"
   ]
  },
  {
   "cell_type": "code",
   "execution_count": 173,
   "metadata": {},
   "outputs": [],
   "source": [
    "/*\n",
    "Time Complexity : O(n)\n",
    "\n",
    "Approach:\n",
    "We traverse given string. For every character encounter, we do the following:\n",
    "\n",
    "1) Initialize counts of different subsequences caused by different combination of ‘a’. Let this count be aCount.\n",
    "\n",
    "2) Initialize counts of different subsequences caused by different combination of ‘b’. Let this count be bCount.\n",
    "\n",
    "3) Initialize counts of different subsequences caused by different combination of ‘c’. Let this count be cCount.\n",
    "\n",
    "4) Traverse all characters of given string. Do following for current character s[i]\n",
    "    If current character is ‘a’, then there are following possibilities :\n",
    "    a) Current character begins a new subsequence.\n",
    "    b) Current character is part of aCount subsequences.\n",
    "    c) Current character is not part of aCount subsequences.\n",
    "    Therefore we do aCount = (1 + 2 * aCount);\n",
    "\n",
    "    If current character is ‘b’, then there are following possibilities :\n",
    "    a) Current character begins a new subsequence of b’s with aCount subsequences.\n",
    "    b) Current character is part of bCount subsequences.\n",
    "    c) Current character is not part of bCount subsequences.\n",
    "    Therefore we do bCount = (aCount + 2 * bCount);\n",
    "\n",
    "    If current character is ‘c’, then there are following possibilities :\n",
    "    a) Current character begins a new subsequence of c’s with bCount subsequences.\n",
    "    b) Current character is part of cCount subsequences.\n",
    "    c) Current character is not part of cCount subsequences.\n",
    "    Therefore we do cCount = (bCount + 2 * cCount);\n",
    "\n",
    "5) Finally we return cCount;\n",
    "*/"
   ]
  },
  {
   "cell_type": "code",
   "execution_count": 174,
   "metadata": {},
   "outputs": [],
   "source": [
    "/*\n",
    "Explanation of approach with help of example:\n",
    "\n",
    "- aCount is the number of subsequences of the letter ‘a’.\n",
    "- Consider this example: aa.\n",
    "- We can see that aCount for this is 3, \n",
    "        because we can choose these possibilities: (xa,ax,aa) (x means we did not use that character). \n",
    "    Note also that this is independent of characters in between, \n",
    "        i.e. the aCount of aa and ccbabbbcac are the same because both have exactly 2 a’s.\n",
    "- Now, adding 1 a, we now have the following new subsequences: \n",
    "        each of the old subsequences, each of the old subsequences + the new a, and the new letter a, alone. \n",
    "        So a total of aCount + aCount + 1 subsequences.\n",
    "- Now, let’s consider bCount, the number of subsequences with some a’s and then some b’s. in ‘aab’, \n",
    "        we see that bCount should be 3 (axb,xab,aab) \n",
    "            because it is just the number of ways we can choose subsequences of the first two a’s, and then b. \n",
    "            So every time we add a b, the number of ways increases by aCount.\n",
    "- Let’s find bCount for ‘aabb’. \n",
    "        We have already determined that aab has 3 subsequences, so certainly we still have those. \n",
    "        Additionally, we can add the new b onto any of these subsequences, to get 3 more. \n",
    "        Finally, we have to count the subsequences that are made without using any other b’s, \n",
    "            and by the logic in the last paragraph, that is just aCount. \n",
    "        So, bCount after this is just the old bCount*2 + aCount;\n",
    "- cCount is similar.\n",
    "*/"
   ]
  },
  {
   "cell_type": "code",
   "execution_count": 175,
   "metadata": {},
   "outputs": [],
   "source": [
    "// Returns count of subsequences of the form \n",
    "// a^i b^j c^k \n",
    "static int countSubsequences(String s) \n",
    "{ \n",
    "    // Initialize counts of different subsequences \n",
    "    // caused by different combination of 'a' \n",
    "    int aCount = 0; \n",
    "\n",
    "    // Initialize counts of different subsequences \n",
    "    // caused by different combination of 'a' and \n",
    "    // different combination of 'b' \n",
    "    int bCount = 0; \n",
    "\n",
    "    // Initialize counts of different subsequences \n",
    "    // caused by different combination of 'a', 'b' \n",
    "    // and 'c'. \n",
    "    int cCount = 0; \n",
    "\n",
    "    // Traverse all characters of given string \n",
    "    for (int i=0; i< s.length(); i++) \n",
    "    { \n",
    "        /* If current character is 'a', then \n",
    "           there are following possibilities : \n",
    "             a) Current character begins a new \n",
    "                subsequence. \n",
    "             b) Current character is part of aCount \n",
    "                subsequences. \n",
    "             c) Current character is not part of \n",
    "                aCount subsequences. */\n",
    "        if (s.charAt(i) == 'a') \n",
    "            aCount = (1 + 2 * aCount); \n",
    "\n",
    "        /* If current character is 'b', then \n",
    "           there are following possibilities : \n",
    "             a) Current character begins a new \n",
    "                subsequence of b's with aCount \n",
    "                subsequences. \n",
    "             b) Current character is part of bCount \n",
    "                subsequences. \n",
    "             c) Current character is not part of \n",
    "                bCount subsequences. */\n",
    "        else if (s.charAt(i) == 'b') \n",
    "            bCount = (aCount + 2 * bCount); \n",
    "\n",
    "        /* If current character is 'c', then \n",
    "           there are following possibilities : \n",
    "             a) Current character begins a new \n",
    "                subsequence of c's with bCount \n",
    "                subsequences. \n",
    "             b) Current character is part of cCount \n",
    "                subsequences. \n",
    "             c) Current character is not part of \n",
    "                cCount subsequences. */\n",
    "        else if (s.charAt(i) == 'c') \n",
    "            cCount = (bCount + 2 * cCount); \n",
    "    } \n",
    "\n",
    "    return cCount; \n",
    "} "
   ]
  },
  {
   "cell_type": "code",
   "execution_count": 176,
   "metadata": {},
   "outputs": [
    {
     "name": "stdout",
     "output_type": "stream",
     "text": [
      "3\n"
     ]
    }
   ],
   "source": [
    "// Driver code \n",
    "public static void main(String args[]) \n",
    "{ \n",
    "    String s = \"abbc\"; \n",
    "    System.out.println(countSubsequences(s)); \n",
    "} \n",
    "main(args);"
   ]
  },
  {
   "cell_type": "markdown",
   "metadata": {},
   "source": [
    "## **107. Number of subsequences in a string divisible by n**\n",
    "https://www.geeksforgeeks.org/number-subsequences-string-divisible-n/"
   ]
  },
  {
   "cell_type": "code",
   "execution_count": 177,
   "metadata": {},
   "outputs": [],
   "source": [
    "/*\n",
    "Given a string consisting of digits 0-9, \n",
    "count the number of subsequences in it divisible by m.\n",
    "*/"
   ]
  },
  {
   "cell_type": "code",
   "execution_count": 178,
   "metadata": {},
   "outputs": [],
   "source": [
    "/*\n",
    "Examples:\n",
    "\n",
    "Input  : str = \"1234\", n = 4\n",
    "Output : 4\n",
    "The subsequences 4, 12, 24 and 124 are \n",
    "divisible by 4.\n",
    " \n",
    "Input  : str = \"330\", n = 6\n",
    "Output : 4\n",
    "The subsequences 30, 30, 330 and 0 are \n",
    "divisible by n.\n",
    "\n",
    "Input  : str = \"676\", n = 6\n",
    "Output : 3\n",
    "The subsequences 6, 6 and 66\n",
    "*/"
   ]
  },
  {
   "cell_type": "code",
   "execution_count": 179,
   "metadata": {},
   "outputs": [],
   "source": [
    "/*\n",
    "This problem can be recursively defined. \n",
    "Let remainder of a string with value x be ‘r’ when divided with n. \n",
    "Adding one more character to this string changes its remainder to (r*10 + newdigit) % n. \n",
    "For every new character, \n",
    "    -we have two choices, either add it in all current subsequences or ignore it. \n",
    "Thus, we have an optimal substructure. \n",
    "Following shows the brute force version of this:\n",
    "*/"
   ]
  },
  {
   "cell_type": "code",
   "execution_count": 180,
   "metadata": {},
   "outputs": [],
   "source": [
    "/*\n",
    "string str = \"330\";\n",
    "int n = 6;\n",
    "\n",
    "// idx is value of current index in str\n",
    "// rem is current remainder\n",
    "int count(int idx, int rem)\n",
    "{\n",
    "    // If last character reached\n",
    "    if (idx == n)\n",
    "        return (rem == 0)? 1 : 0;\n",
    "\n",
    "    int ans = 0;\n",
    "\n",
    "    // we exclude it, thus remainder\n",
    "    // remains the same\n",
    "    ans += count(idx+1, rem);\n",
    "\n",
    "    // we include it and thus new remainder\n",
    "    ans += count(idx+1, (rem*10 + str[idx]-'0')%n);\n",
    "\n",
    "    return ans;\n",
    "}\n",
    "*/"
   ]
  },
  {
   "cell_type": "code",
   "execution_count": 181,
   "metadata": {},
   "outputs": [],
   "source": [
    "/*\n",
    "The above recursive solution has overlapping subproblems as shown in below recursion tree.\n",
    "*/"
   ]
  },
  {
   "cell_type": "code",
   "execution_count": 182,
   "metadata": {},
   "outputs": [],
   "source": [
    "/*\n",
    "input string = \"330\"\n",
    "             (0,0) ===> at 0th index with 0 remainder\n",
    "(exclude 0th /      (include 0th character)\n",
    " character) /      \n",
    "       (1,0)      (1,3) ======> at index 1 with 3 as \n",
    "      (E)/  (I)     /(E)       the current remainder\n",
    "     (2,0)  (2,3)   (2,3)\n",
    "             |-------|\n",
    "     These two subproblems overlap \n",
    "     \n",
    "Thus, we can apply Dynamic Programming\n",
    "\n",
    "Time Complexity : O(len * n)\n",
    "Auxiliary Space : O(len * n)\n",
    "*/"
   ]
  },
  {
   "cell_type": "code",
   "execution_count": 183,
   "metadata": {},
   "outputs": [],
   "source": [
    "// Returns count of subsequences of str \n",
    "// divisible by n. \n",
    "static int countDivisibleSubseq(String str, int n) { \n",
    "    int len = str.length(); \n",
    "\n",
    "    // division by n can leave only n remainder \n",
    "    // [0..n-1]. dp[i][j] indicates number of \n",
    "    // subsequences in string [0..i] which leaves \n",
    "    // remainder j after division by n. \n",
    "    int dp[][] = new int[len][n]; \n",
    "\n",
    "    // Filling value for first digit in str \n",
    "    dp[0][(str.charAt(0) - '0') % n]++; \n",
    "\n",
    "    for (int i = 1; i < len; i++) { \n",
    "        // start a new subsequence with index i \n",
    "        dp[i][(str.charAt(i) - '0') % n]++; \n",
    "\n",
    "        for (int j = 0; j < n; j++) { \n",
    "            // exclude i'th character from all the \n",
    "            // current subsequences of string [0...i-1] \n",
    "            dp[i][j] += dp[i - 1][j]; \n",
    "\n",
    "            // include i'th character in all the current \n",
    "            // subsequences of string [0...i-1] \n",
    "            dp[i][(j * 10 + (str.charAt(i) - '0')) % n] += dp[i - 1][j]; \n",
    "        } \n",
    "    } \n",
    "\n",
    "    return dp[len - 1][0]; \n",
    "} "
   ]
  },
  {
   "cell_type": "code",
   "execution_count": 184,
   "metadata": {},
   "outputs": [
    {
     "name": "stdout",
     "output_type": "stream",
     "text": [
      "4"
     ]
    }
   ],
   "source": [
    "// Driver code \n",
    "public static void main(String[] args) { \n",
    "    String str = \"1234\"; \n",
    "    int n = 4; \n",
    "    System.out.print(countDivisibleSubseq(str, n)); \n",
    "} \n",
    "main(args);"
   ]
  },
  {
   "cell_type": "markdown",
   "metadata": {},
   "source": [
    "## **108. Find number of times a string occurs as a subsequence in given string**\n",
    "https://www.geeksforgeeks.org/find-number-times-string-occurs-given-string/"
   ]
  },
  {
   "cell_type": "code",
   "execution_count": 185,
   "metadata": {},
   "outputs": [],
   "source": [
    "/*\n",
    "Given two strings, \n",
    "    find the number of times the second string occurs in the first string, whether continuous or discontinuous.\n",
    "*/"
   ]
  },
  {
   "cell_type": "code",
   "execution_count": 186,
   "metadata": {},
   "outputs": [],
   "source": [
    "/*\n",
    "Examples:\n",
    "\n",
    "Input:  \n",
    "string a = \"GeeksforGeeks\"\n",
    "string b = \"Gks\"\n",
    "\n",
    "Output: 4\n",
    "\n",
    "Explanation:  \n",
    "The four strings are - (Check characters marked in bold)\n",
    "GeeksforGeeks\n",
    "GeeksforGeeks\n",
    "GeeksforGeeks\n",
    "GeeksforGeeks\n",
    "*/"
   ]
  },
  {
   "cell_type": "code",
   "execution_count": 187,
   "metadata": {},
   "outputs": [],
   "source": [
    "/*\n",
    "If we carefully analyze the given problem, we can see that it can be easily divided into sub-problems. \n",
    "The idea is to process all characters of both strings one by one staring from either from left or right side. \n",
    "Let us traverse from right corner, \n",
    "    there are two possibilities for every pair of character being traversed.\n",
    "*/"
   ]
  },
  {
   "cell_type": "code",
   "execution_count": 188,
   "metadata": {},
   "outputs": [],
   "source": [
    "/*\n",
    "m: Length of str1 (first string)\n",
    "n: Length of str2 (second string)\n",
    "\n",
    "If last characters of two strings are same, \n",
    "   1. We consider last characters and get count for remaining \n",
    "      strings. So we recur for lengths m-1 and n-1. \n",
    "   2. We can ignore last character of first string and \n",
    "      recurse for lengths m-1 and n.\n",
    "else \n",
    "If last characters are not same, \n",
    "   We ignore last character of first string and \n",
    "   recurse for lengths m-1 and n.\n",
    "*/"
   ]
  },
  {
   "cell_type": "code",
   "execution_count": 189,
   "metadata": {},
   "outputs": [],
   "source": [
    "// Recursive function to find the number of times \n",
    "// the second string occurs in the first string, \n",
    "// whether continuous or discontinuous \n",
    "static int count(String a, String b, int m, int n) \n",
    "{ \n",
    "    // If both first and second string is empty, \n",
    "    // or if second string is empty, return 1 \n",
    "    if ((m == 0 && n == 0) || n == 0) \n",
    "        return 1; \n",
    "\n",
    "    // If only first string is empty and  \n",
    "    // second string is not empty, return 0 \n",
    "    if (m == 0) \n",
    "        return 0; \n",
    "\n",
    "    // If last characters are same \n",
    "    // Recur for remaining strings by \n",
    "    // 1. considering last characters of  \n",
    "    // both strings \n",
    "    // 2. ignoring last character of  \n",
    "    // first string \n",
    "    if (a.charAt(m - 1) == b.charAt(n - 1)) \n",
    "        return count(a, b, m - 1, n - 1) + \n",
    "               count(a, b, m - 1, n); \n",
    "    else\n",
    "        // If last characters are different,   \n",
    "        // ignore last char of first string  \n",
    "        // and recur for  remaining string \n",
    "        return count(a, b, m - 1, n); \n",
    "} "
   ]
  },
  {
   "cell_type": "code",
   "execution_count": 190,
   "metadata": {},
   "outputs": [
    {
     "name": "stdout",
     "output_type": "stream",
     "text": [
      "4\n"
     ]
    }
   ],
   "source": [
    "// Driver code \n",
    "public static void main (String[] args)  \n",
    "{ \n",
    "    String a = \"GeeksforGeeks\"; \n",
    "    String b = \"Gks\"; \n",
    "    System.out.println( count(a, b, a.length(), b.length())) ; \n",
    "\n",
    "} \n",
    "main(args);"
   ]
  },
  {
   "cell_type": "code",
   "execution_count": 191,
   "metadata": {},
   "outputs": [],
   "source": [
    "/*\n",
    "The time complexity of above solution is exponential. \n",
    "If we carefully analyze, we can see that many sub-problems are solved again and again. \n",
    "Since same sub-problems are called again, this problem has Overlapping sub-problems property. \n",
    "\n",
    "Like other typical Dynamic Programming problems, \n",
    "    re-computations of same sub-problems can be avoided by constructing a temporary array that stores results of sub-problems.\n",
    "*/"
   ]
  },
  {
   "cell_type": "code",
   "execution_count": 192,
   "metadata": {},
   "outputs": [],
   "source": [
    "// Iterative DP function to  \n",
    "// find the number of times  \n",
    "// the second string occurs \n",
    "// in the first string, whether \n",
    "// continuous or discontinuous \n",
    "static int count(String a, String b) \n",
    "{ \n",
    "    int m = a.length(); \n",
    "    int n = b.length(); \n",
    "  \n",
    "    // Create a table to store \n",
    "    // results of sub-problems \n",
    "    int lookup[][] = new int[m + 1][n + 1]; \n",
    "  \n",
    "    // If first string is empty \n",
    "    for (int i = 0; i <= n; ++i) \n",
    "        lookup[0][i] = 0; \n",
    "  \n",
    "    // If second string is empty \n",
    "    for (int i = 0; i <= m; ++i) \n",
    "        lookup[i][0] = 1; \n",
    "  \n",
    "    // Fill lookup[][] in  \n",
    "    // bottom up manner \n",
    "    for (int i = 1; i <= m; i++) \n",
    "    { \n",
    "        for (int j = 1; j <= n; j++) \n",
    "        { \n",
    "            // If last characters are  \n",
    "            // same, we have two options - \n",
    "            // 1. consider last characters  \n",
    "            //    of both strings in solution \n",
    "            // 2. ignore last character \n",
    "            //    of first string \n",
    "            if (a.charAt(i - 1) == b.charAt(j - 1)) \n",
    "                lookup[i][j] = lookup[i - 1][j - 1] +  \n",
    "                               lookup[i - 1][j]; \n",
    "                  \n",
    "            else\n",
    "                // If last character are  \n",
    "                // different, ignore last \n",
    "                // character of first string \n",
    "                lookup[i][j] = lookup[i - 1][j]; \n",
    "        } \n",
    "    } \n",
    "  \n",
    "    return lookup[m][n]; \n",
    "} "
   ]
  },
  {
   "cell_type": "code",
   "execution_count": 193,
   "metadata": {},
   "outputs": [
    {
     "name": "stdout",
     "output_type": "stream",
     "text": [
      "4\n"
     ]
    }
   ],
   "source": [
    "// Driver Code \n",
    "public static void main (String[] args) \n",
    "{ \n",
    "    String a = \"GeeksforGeeks\"; \n",
    "    String b = \"Gks\"; \n",
    "      \n",
    "    System.out.println(count(a, b)); \n",
    "} \n",
    "main(args);"
   ]
  },
  {
   "cell_type": "code",
   "execution_count": 194,
   "metadata": {},
   "outputs": [],
   "source": [
    "/*\n",
    "Time complexity of above solutions is O(MN).\n",
    "Auxiliary space used by the program is O(MN).\n",
    "*/"
   ]
  },
  {
   "cell_type": "markdown",
   "metadata": {},
   "source": [
    "## **109. Count Distinct Subsequences**\n",
    "https://www.geeksforgeeks.org/count-distinct-subsequences/"
   ]
  },
  {
   "cell_type": "code",
   "execution_count": 195,
   "metadata": {},
   "outputs": [],
   "source": [
    "/*\n",
    "Given a string, find the count of distinct subsequences of it.\n",
    "*/"
   ]
  },
  {
   "cell_type": "code",
   "execution_count": 196,
   "metadata": {},
   "outputs": [],
   "source": [
    "/*\n",
    "Examples:\n",
    "\n",
    "Input  : str = \"gfg\"\n",
    "Output : 7\n",
    "The seven distinct subsequences are \"\", \"g\", \"f\",\n",
    "\"gf\", \"fg\", \"gg\" and \"gfg\" \n",
    "\n",
    "Input  : str = \"ggg\"\n",
    "Output : 4\n",
    "The four distinct subsequences are \"\", \"g\", \"gg\"\n",
    "and \"ggg\" \n",
    "*/"
   ]
  },
  {
   "cell_type": "code",
   "execution_count": 197,
   "metadata": {},
   "outputs": [],
   "source": [
    "/*\n",
    "The problem of counting distinct subsequences is easy if all characters of input string are distinct. \n",
    "The count is equal to nC0 + nC1 + nC2 + … nCn = 2n.\n",
    "\n",
    "How to count distinct subsequences when there can be repetition in input string?\n",
    "    -A Simple Solution to count distinct subsequences in a string with duplicates is to generate all subsequences. \n",
    "     For every subsequence, store it in a hash table if it doesn’t exist already. \n",
    "     Time complexity of this solution is exponential and it requires exponential extra space.\n",
    "*/"
   ]
  },
  {
   "cell_type": "code",
   "execution_count": 198,
   "metadata": {},
   "outputs": [],
   "source": [
    "/*\n",
    "Method 1(Naive Approach): Using a set (without Dynamic Programming)\n",
    "Time Complexity : O(2^n)\n",
    "Auxillary Space : O(n)\n",
    "where n is the length of the string.\n",
    "\n",
    "Approach : Generate all the possible subsequences of a given string. \n",
    "    The subsequences of a string can be generated in the following manner:\n",
    "        a) Include a particular element(say ith) in the output array and recursively call the function for the rest of the input string. \n",
    "           This results in the subsequences of a string having ith character.\n",
    "        b) Exclude a particular element(say ith) and recursively call the function for the rest of the input string. \n",
    "           This contains all the subsequences which don’t have the ith character.\n",
    "           \n",
    "    Once we have generated a subsequence, \n",
    "        in the base case of the function we insert that generated subsequence in an unordered set. \n",
    "        Unordered Set is a Data structure, that stores distinct elements in an unordered manner. \n",
    "        This way we insert all the generated subsequences in the set and print the size of the set as our answer \n",
    "            -because at last, the set will contain only distinct subsequences.\n",
    "*/"
   ]
  },
  {
   "cell_type": "markdown",
   "metadata": {},
   "source": [
    "***https://ideone.com/IrvPGh***"
   ]
  },
  {
   "cell_type": "code",
   "execution_count": 199,
   "metadata": {},
   "outputs": [],
   "source": [
    "/*\n",
    "Method 2(Efficient Approach): Using Dynamic Programming\n",
    "Time Complexity : O(n)\n",
    "Auxiliary Space : O(n)\n",
    "\n",
    "An Efficient Solution doesn’t require the generation of subsequences.\n",
    "\n",
    "Let countSub(n) be count of subsequences of \n",
    "first n characters in input string. We can\n",
    "recursively write it as below. \n",
    "\n",
    "countSub(n) = 2*Count(n-1) - Repetition\n",
    "\n",
    "If current character, i.e., str[n-1] of str has\n",
    "not appeared before, then \n",
    "   Repetition = 0\n",
    "\n",
    "Else:\n",
    "   Repetition  =  Count(m)\n",
    "   Here m is index of previous occurrence of\n",
    "   current character. We basically remove all\n",
    "   counts ending with previous occurrence of\n",
    "   current character.\n",
    "   \n",
    "How does this work?\n",
    "If there are no repetitions, \n",
    "    -then count becomes double of count for n-1 \n",
    "        -because we get count(n-1) more subsequences by adding current character at the end of all subsequences possible with n-1 length.\n",
    "        -If there repetitions, \n",
    "                -then we find count of all distinct subsequences ending with previous occurrence. \n",
    "                     This count can be obtained be recursively calling for index of previous occurrence.\n",
    "\n",
    "Since above recurrence has overlapping subproblems, we can solve it using Dynamic Programming.\n",
    "*/"
   ]
  },
  {
   "cell_type": "code",
   "execution_count": 200,
   "metadata": {},
   "outputs": [],
   "source": [
    "static final int MAX_CHAR = 256; \n",
    "\n",
    "// Returns count of distinct sunsequences of str. \n",
    "static int countSub(String str) \n",
    "{ \n",
    "    // Create an array to store index \n",
    "    // of last \n",
    "    int[] last = new int[MAX_CHAR]; \n",
    "    Arrays.fill(last, -1); \n",
    "\n",
    "    // Length of input string \n",
    "    int n = str.length(); \n",
    "\n",
    "    // dp[i] is going to store count of distinct \n",
    "    // subsequences of length i. \n",
    "    int[] dp = new int[n + 1]; \n",
    "\n",
    "    // Empty substring has only one subsequence \n",
    "    dp[0] = 1; \n",
    "\n",
    "    // Traverse through all lengths from 1 to n. \n",
    "    for (int i = 1; i <= n; i++) { \n",
    "        // Number of subsequences with substring \n",
    "        // str[0..i-1] \n",
    "        dp[i] = 2 * dp[i - 1]; \n",
    "\n",
    "        // If current character has appeared \n",
    "        // before, then remove all subsequences \n",
    "        // ending with previous occurrence. \n",
    "        if (last[(int)str.charAt(i - 1)] != -1) \n",
    "            dp[i] = dp[i] - dp[last[(int)str.charAt(i - 1)]]; \n",
    "\n",
    "        // Mark occurrence of current character \n",
    "        last[(int)str.charAt(i - 1)] = (i - 1); \n",
    "    } \n",
    "\n",
    "    return dp[n]; \n",
    "}"
   ]
  },
  {
   "cell_type": "code",
   "execution_count": 201,
   "metadata": {},
   "outputs": [
    {
     "name": "stdout",
     "output_type": "stream",
     "text": [
      "7\n"
     ]
    }
   ],
   "source": [
    "System.out.println(countSub(\"gfg\"));"
   ]
  },
  {
   "cell_type": "markdown",
   "metadata": {},
   "source": [
    "## **110. Find all the patterns of “1(0+)1” in a given string | SET 1(General Approach)**\n",
    "https://www.geeksforgeeks.org/find-patterns-101-given-string/"
   ]
  },
  {
   "cell_type": "markdown",
   "metadata": {},
   "source": [
    "**Related Link** ***https://www.geeksforgeeks.org/find-patterns-101-given-string-set-2regular-expression-approach/*** "
   ]
  },
  {
   "cell_type": "code",
   "execution_count": 202,
   "metadata": {},
   "outputs": [],
   "source": [
    "/*\n",
    "A string contains patterns of the form 1(0+)1 where (0+) represents any non-empty consecutive sequence of 0’s. \n",
    "Count all such patterns. \n",
    "The patterns are allowed to overlap.\n",
    "*/"
   ]
  },
  {
   "cell_type": "code",
   "execution_count": 203,
   "metadata": {},
   "outputs": [],
   "source": [
    "/*\n",
    "Note : It contains digits and lowercase characters only. \n",
    "       The string is not necessarily a binary. 100201 is not a valid pattern.\n",
    "        One approach to solve the problem is discussed here, other using Regular expressions is given in above Related Link\n",
    "*/"
   ]
  },
  {
   "cell_type": "code",
   "execution_count": 204,
   "metadata": {},
   "outputs": [],
   "source": [
    "/*\n",
    "Examples:\n",
    "\n",
    "Input : 1101001\n",
    "Output : 2\n",
    "\n",
    "Input : 100001abc101\n",
    "Output : 2\n",
    "*/"
   ]
  },
  {
   "cell_type": "code",
   "execution_count": 205,
   "metadata": {},
   "outputs": [],
   "source": [
    "/*\n",
    "Let size of input string be n.\n",
    "1. Iterate through index ‘0’ to ‘n-1’.\n",
    "2. If we encounter a ‘1’, we iterate till the elements are ‘0’.\n",
    "3. After the stream of zeros ends, we check whether we encounter a ‘1’ or not.\n",
    "4. Keep on doing this till we reach the end of string.\n",
    "*/"
   ]
  },
  {
   "cell_type": "code",
   "execution_count": 206,
   "metadata": {},
   "outputs": [],
   "source": [
    "// Function to count patterns  \n",
    "static int patternCount(String str) \n",
    "{ \n",
    "    /* Variable to store the last character*/\n",
    "    char last = str.charAt(0); \n",
    "\n",
    "    int i = 1, counter = 0; \n",
    "    while (i < str.length()) \n",
    "    { \n",
    "        /* We found 0 and last character was '1', \n",
    "        state change*/\n",
    "        if (str.charAt(i) == '0' && last == '1') \n",
    "        { \n",
    "            while (str.charAt(i) == '0') \n",
    "                i++; \n",
    "\n",
    "            // After the stream of 0's, we  \n",
    "            // got a '1',counter incremented \n",
    "            if (str.charAt(i) == '1') \n",
    "                counter++; \n",
    "        } \n",
    "\n",
    "        /* Last character stored */\n",
    "        last = str.charAt(i); \n",
    "        i++; \n",
    "    } \n",
    "\n",
    "    return counter; \n",
    "} "
   ]
  },
  {
   "cell_type": "code",
   "execution_count": 207,
   "metadata": {},
   "outputs": [
    {
     "name": "stdout",
     "output_type": "stream",
     "text": [
      "2\n"
     ]
    }
   ],
   "source": [
    "// Driver Code  \n",
    "public static void main (String[] args) \n",
    "{ \n",
    "    String str = \"1001ab010abc01001\"; \n",
    "    System.out.println(patternCount(str)); \n",
    "\n",
    "}\n",
    "main(args);"
   ]
  },
  {
   "cell_type": "markdown",
   "metadata": {},
   "source": [
    "## **111. Given a string, find its first non-repeating character**\n",
    "https://www.geeksforgeeks.org/given-a-string-find-its-first-non-repeating-character/"
   ]
  },
  {
   "cell_type": "code",
   "execution_count": 208,
   "metadata": {},
   "outputs": [],
   "source": [
    "/*\n",
    "Given a string, find the first non-repeating character in it. \n",
    "For example, \n",
    "    if the input string is “GeeksforGeeks”, \n",
    "        then output should be ‘f’ and \n",
    "    if input string is “GeeksQuiz”, \n",
    "        then output should be ‘G’.\n",
    "*/"
   ]
  },
  {
   "cell_type": "markdown",
   "metadata": {},
   "source": [
    "<img src = \"https://media.geeksforgeeks.org/wp-content/cdn-uploads/find-first-non-repeated-character-in-a-string.png\"/>"
   ]
  },
  {
   "cell_type": "code",
   "execution_count": 209,
   "metadata": {},
   "outputs": [],
   "source": [
    "/*\n",
    "We can use string characters as index and build a count array. Following is the algorithm.\n",
    "\n",
    "1) Scan the string from left to right and construct the count array.\n",
    "2) Again, scan the string from left to right and check for count of eachcharacter, \n",
    "        if you find an element who's count is 1, return it.\n",
    "*/"
   ]
  },
  {
   "cell_type": "code",
   "execution_count": 210,
   "metadata": {},
   "outputs": [],
   "source": [
    "/*\n",
    "Example:\n",
    "\n",
    "Input string: str = geeksforgeeks\n",
    "1: Construct character count array from the input string.\n",
    "   ....\n",
    "  count['e'] = 4\n",
    "  count['f'] = 1\n",
    "  count['g'] = 2\n",
    "  count['k'] = 2\n",
    "  ……\n",
    "2: Get the first character who's count is 1 ('f').\n",
    "*/"
   ]
  },
  {
   "cell_type": "code",
   "execution_count": 211,
   "metadata": {},
   "outputs": [],
   "source": [
    "static final int NO_OF_CHARS = 256; \n",
    "static char count[] = new char[NO_OF_CHARS]; \n",
    "\n",
    "/* calculate count of characters  \n",
    "   in the passed string */\n",
    " static void getCharCountArray(String str)  \n",
    " { \n",
    "     for (int i = 0; i < str.length();  i++) \n",
    "          count[str.charAt(i)]++; \n",
    " } \n",
    "\n",
    "/* The method returns index of first non-repeating \n",
    "   character in a string. If all characters are repeating  \n",
    "   then returns -1 */\n",
    "static int firstNonRepeating(String str) \n",
    "{ \n",
    "    getCharCountArray(str); \n",
    "    int index = -1, i; \n",
    "\n",
    "    for (i = 0; i < str.length();  i++) \n",
    "    { \n",
    "        if (count[str.charAt(i)] == 1) \n",
    "        { \n",
    "            index = i; \n",
    "            break; \n",
    "        }    \n",
    "    }   \n",
    "\n",
    "  return index; \n",
    "} "
   ]
  },
  {
   "cell_type": "code",
   "execution_count": 212,
   "metadata": {},
   "outputs": [
    {
     "name": "stdout",
     "output_type": "stream",
     "text": [
      "First non-repeating character is f\n"
     ]
    }
   ],
   "source": [
    "// Driver method \n",
    "public static void main (String[] args) \n",
    "{ \n",
    "    String str = \"geeksforgeeks\"; \n",
    "    int index =  firstNonRepeating(str); \n",
    "\n",
    "    System.out.println(index == -1 ? \"Either all characters are repeating or string \" + \n",
    "               \"is empty\" : \"First non-repeating character is \" +  str.charAt(index)); \n",
    "} \n",
    "main(args);"
   ]
  },
  {
   "cell_type": "code",
   "execution_count": 213,
   "metadata": {},
   "outputs": [],
   "source": [
    "/*\n",
    "Can we do it by traversing the string only once?\n",
    "\n",
    "The above approach takes O(n) time, but in practice it can be improved. \n",
    "The first part of the algorithm runs through the string to construct the count array (in O(n) time). \n",
    "\n",
    "This is reasonable. \n",
    "    But the second part about running through the string again just to find the first non-repeater is not good in practice. \n",
    "    In real situations, your string is expected to be much larger than your alphabet. \n",
    "    \n",
    "Take DNA sequences for example: \n",
    "    they could be millions of letters long with an alphabet of just 4 letters. \n",
    "    \n",
    "    What happens if the non-repeater is at the end of the string? \n",
    "        Then we would have to scan for a long time (again).\n",
    "\n",
    "We can augment the count array by storing not just counts but also the index of the first time you encountered the character \n",
    "    e.g. (3, 26) for ‘a’ meaning that ‘a’ got counted 3 times and the first time it was seen is at position 26. \n",
    "       So when it comes to finding the first non-repeater, we just have to scan the count array, instead of the string. \n",
    "*/"
   ]
  },
  {
   "cell_type": "code",
   "execution_count": 214,
   "metadata": {},
   "outputs": [],
   "source": [
    "class CountIndex \n",
    "{ \n",
    "    int count,index; \n",
    "      \n",
    "    // constructor for first occurrence \n",
    "    public CountIndex(int index) { \n",
    "        this.count = 1; \n",
    "        this.index = index; \n",
    "    } \n",
    "      \n",
    "    // method for updating count \n",
    "    public void incCount() { \n",
    "        this.count++; \n",
    "    } \n",
    "} "
   ]
  },
  {
   "cell_type": "code",
   "execution_count": 215,
   "metadata": {},
   "outputs": [],
   "source": [
    "static final int NO_OF_CHARS = 256; \n",
    "\n",
    "static HashMap<Character, CountIndex> hm = new HashMap<Character, CountIndex>(NO_OF_CHARS); \n",
    "\n",
    "/* calculate count of characters  \n",
    "   in the passed string */\n",
    "static void getCharCountArray(String str)  \n",
    "{ \n",
    "     for (int i = 0; i < str.length();  i++) \n",
    "     { \n",
    "        // If character already occurred,  \n",
    "         if(hm.containsKey(str.charAt(i))) \n",
    "         { \n",
    "             // updating count \n",
    "             hm.get(str.charAt(i)).incCount(); \n",
    "         } \n",
    "\n",
    "        // If it's first occurrence, then store the index and count = 1 \n",
    "         else\n",
    "         { \n",
    "             hm.put(str.charAt(i), new CountIndex(i)); \n",
    "         } \n",
    "\n",
    "     }     \n",
    "} "
   ]
  },
  {
   "cell_type": "code",
   "execution_count": 216,
   "metadata": {},
   "outputs": [],
   "source": [
    "/* The method returns index of first non-repeating \n",
    "   character in a string. If all characters are repeating  \n",
    "   then returns -1 */\n",
    "static int firstNonRepeating(String str) \n",
    "{ \n",
    "    getCharCountArray(str); \n",
    "    int result = Integer.MAX_VALUE, i; \n",
    "\n",
    "    for (i = 0; i < str.length();  i++) \n",
    "    { \n",
    "         // If this character occurs only once and appears \n",
    "        // before the current result, then update the result \n",
    "        if (hm.get(str.charAt(i)).count == 1 && result > hm.get(str.charAt(i)).index){ \n",
    "             result = hm.get(str.charAt(i)).index; \n",
    "        } \n",
    "\n",
    "    }   \n",
    "\n",
    "  return result; \n",
    "} "
   ]
  },
  {
   "cell_type": "code",
   "execution_count": 217,
   "metadata": {},
   "outputs": [
    {
     "name": "stdout",
     "output_type": "stream",
     "text": [
      "First non-repeating character is f\n"
     ]
    }
   ],
   "source": [
    "// Driver method \n",
    "public static void main (String[] args) \n",
    "{ \n",
    "    String str = \"geeksforgeeks\"; \n",
    "    int index =  firstNonRepeating(str); \n",
    "\n",
    "    System.out.println(index == Integer.MAX_VALUE ? \"Either all characters are repeating \" + \n",
    "          \" or string is empty\" : \"First non-repeating character is \" +  str.charAt(index)); \n",
    "} \n",
    "main(args);"
   ]
  },
  {
   "cell_type": "markdown",
   "metadata": {},
   "source": [
    "**Related Link :** ***https://www.geeksforgeeks.org/kth-non-repeating-character/***"
   ]
  },
  {
   "cell_type": "markdown",
   "metadata": {},
   "source": [
    "## **112. Rearrange a string so that all same characters become d distance away**\n",
    "https://www.geeksforgeeks.org/rearrange-a-string-so-that-all-same-characters-become-at-least-d-distance-away/"
   ]
  },
  {
   "cell_type": "code",
   "execution_count": 218,
   "metadata": {},
   "outputs": [],
   "source": [
    "/*\n",
    "Given a string and a positive integer d. \n",
    "Some characters may be repeated in the given string. \n",
    "\n",
    "Rearrange characters of the given string such that the same characters become d distance away from each other. \n",
    "Note that there can be many possible rearrangements, the output should be one of the possible rearrangements. \n",
    "\n",
    "If no such arrangement is possible, that should also be reported.\n",
    "\n",
    "Expected time complexity is O(n) where n is length of input string.\n",
    "*/"
   ]
  },
  {
   "cell_type": "code",
   "execution_count": 219,
   "metadata": {},
   "outputs": [],
   "source": [
    "/*\n",
    "Examples:\n",
    "Input:  \"abb\", d = 2\n",
    "Output: \"bab\"\n",
    "\n",
    "Input:  \"aacbbc\", d = 3\n",
    "Output: \"abcabc\"\n",
    "\n",
    "Input: \"geeksforgeeks\", d = 3\n",
    "Output: egkegkesfesor\n",
    "\n",
    "Input:  \"aaa\",  d = 2\n",
    "Output: Cannot be rearranged\n",
    "*/"
   ]
  },
  {
   "cell_type": "code",
   "execution_count": 220,
   "metadata": {},
   "outputs": [],
   "source": [
    "/*\n",
    "Hint: Alphabet size may be assumed as constant (256) and extra space may be used.\n",
    "*/"
   ]
  },
  {
   "cell_type": "code",
   "execution_count": 221,
   "metadata": {},
   "outputs": [],
   "source": [
    "/*\n",
    "Solution: \n",
    "\n",
    "The idea is to count frequencies of all characters \n",
    "and consider the most frequent character first and place all occurrences of it as close as possible. \n",
    "After the most frequent character is placed, repeat the same process for remaining characters.\n",
    "\n",
    "1) Let the given string be str and size of string be n\n",
    "\n",
    "2) Traverse str, store all characters and their frequencies in a Max Heap MH. \n",
    "        The value of frequency decides the order in MH, i.e., the most frequent character is at the root of MH.\n",
    "\n",
    "3) Make all characters of str as ‘\\0’.\n",
    "\n",
    "4) Do following while MH is not empty.\n",
    "\n",
    "    …a) Extract the Most frequent character. Let the extracted character be x and its frequency be f.\n",
    "    …b) Find the first available position in str, i.e., find the first ‘\\0’ in str.\n",
    "    …c) Let the first position be p. Fill x at p, p+d,.. p+(f-1)d\n",
    "*/"
   ]
  },
  {
   "cell_type": "code",
   "execution_count": 222,
   "metadata": {},
   "outputs": [],
   "source": [
    "/*\n",
    "Time Complexity: \n",
    "    Time complexity of above implementation is O(n + mLog(MAX)). \n",
    "    Here n is the length of str, \n",
    "         m is count of distinct characters in str[] \n",
    "     and MAX is maximum possible different characters. \n",
    "    MAX is typically 256 (a constant) and m is smaller than MAX. \n",
    "So the time complexity can be considered as O(n).\n",
    "*/"
   ]
  },
  {
   "cell_type": "markdown",
   "metadata": {},
   "source": [
    "***https://ideone.com/fxfKfq***"
   ]
  },
  {
   "cell_type": "markdown",
   "metadata": {},
   "source": [
    "## **113. Recursively remove all adjacent duplicates**\n",
    "https://www.geeksforgeeks.org/recursively-remove-adjacent-duplicates-given-string/"
   ]
  },
  {
   "cell_type": "code",
   "execution_count": 223,
   "metadata": {},
   "outputs": [],
   "source": [
    "/*\n",
    "Given a string, recursively remove adjacent duplicate characters from the string. \n",
    "The output string should not have any adjacent duplicates. See following examples.\n",
    "*/"
   ]
  },
  {
   "cell_type": "code",
   "execution_count": 224,
   "metadata": {},
   "outputs": [],
   "source": [
    "/*\n",
    "Examples:\n",
    "\n",
    "Input: azxxzy\n",
    "Output: ay\n",
    "First “azxxzy” is reduced to “azzy”.\n",
    "The string “azzy” contains duplicates,\n",
    "so it is further reduced to “ay”.\n",
    "\n",
    "\n",
    "\n",
    "Input: geeksforgeeg\n",
    "Output: gksfor\n",
    "First “geeksforgeeg” is reduced to\n",
    "“gksforgg”. The string “gksforgg”\n",
    "contains duplicates, so it is further\n",
    "reduced to “gksfor”.\n",
    "\n",
    "Input: caaabbbaacdddd\n",
    "Output: Empty String\n",
    "\n",
    "Input: acaaabbbacdddd\n",
    "Output: acac\n",
    "*/"
   ]
  },
  {
   "cell_type": "code",
   "execution_count": 225,
   "metadata": {},
   "outputs": [],
   "source": [
    "/*\n",
    "The following approach can be followed to remove duplicates in O(N) time:\n",
    "\n",
    "1. Start from the leftmost character and remove duplicates at left corner if there are any.\n",
    "2. The first character must be different from its adjacent now. \n",
    "   Recur for string of length n-1 (string without first character).\n",
    "3. Let the string obtained after reducing right substring of length n-1 be rem_str. \n",
    "   There are three possible cases\n",
    "    i.   If first character of rem_str matches with the first character of original string, remove the first character from rem_str.\n",
    "    ii.  If remaining string becomes empty and last removed character is same as first character of original string. Return empty string.\n",
    "    iii. Else, append the first character of the original string at the beginning of rem_str.\n",
    "4. Return rem_str.\n",
    "*/"
   ]
  },
  {
   "cell_type": "markdown",
   "metadata": {},
   "source": [
    "<img src = \"https://media.geeksforgeeks.org/wp-content/cdn-uploads/20190620140514/Recursively-remove-all-adjacent-duplicates--768x260.png\"/>"
   ]
  },
  {
   "cell_type": "code",
   "execution_count": 226,
   "metadata": {},
   "outputs": [],
   "source": [
    "// Recursively removes adjacent duplicates from str and returns  \n",
    "// new string. las_removed is a pointer to last_removed character \n",
    "static String removeUtil(String str, char last_removed) \n",
    "{ \n",
    "     // If length of string is 1 or 0  \n",
    "     if (str.length() == 0 || str.length() == 1) \n",
    "         return str; \n",
    "\n",
    "     // Remove leftmost same characters and recur for remaining   \n",
    "     // string  \n",
    "     if (str.charAt(0) == str.charAt(1)) \n",
    "     { \n",
    "         last_removed = str.charAt(0); \n",
    "         while (str.length() > 1 && str.charAt(0) == str.charAt(1)) \n",
    "               str = str.substring(1, str.length()); \n",
    "         str = str.substring(1, str.length()); \n",
    "         return removeUtil(str, last_removed);  \n",
    "     } \n",
    "\n",
    "     // At this point, the first character is definiotely different   \n",
    "     // from its adjacent. Ignore first character and recursively   \n",
    "     // remove characters from remaining string  \n",
    "     String rem_str = removeUtil(str.substring(1,str.length()), last_removed); \n",
    "\n",
    "     // Check if the first character of the rem_string matches with   \n",
    "     // the first character of the original string \n",
    "     if (rem_str.length() != 0 && rem_str.charAt(0) == str.charAt(0)) \n",
    "     { \n",
    "        last_removed = str.charAt(0); \n",
    "        return rem_str.substring(1,rem_str.length()); // Remove first character \n",
    "     }  \n",
    "\n",
    "\n",
    "     // If remaining string becomes empty and last removed character  \n",
    "     // is same as first character of original string. This is needed  \n",
    "     // for a string like \"acbbcddc\"  \n",
    "     if (rem_str.length() == 0 && last_removed == str.charAt(0)) \n",
    "         return rem_str; \n",
    "\n",
    "     // If the two first characters of str and rem_str don't match,   \n",
    "     // append first character of str before the first character of  \n",
    "     // rem_str \n",
    "     return (str.charAt(0) + rem_str); \n",
    "}"
   ]
  },
  {
   "cell_type": "code",
   "execution_count": 227,
   "metadata": {},
   "outputs": [],
   "source": [
    "static String remove(String str)   \n",
    "{ \n",
    "     char last_removed = '\\0'; \n",
    "     return removeUtil(str, last_removed);        \n",
    "} "
   ]
  },
  {
   "cell_type": "code",
   "execution_count": 228,
   "metadata": {},
   "outputs": [
    {
     "name": "stdout",
     "output_type": "stream",
     "text": [
      "gksfor\n",
      "ay\n",
      "\n",
      "g\n",
      "a\n",
      "\n",
      "qrq\n",
      "acac\n"
     ]
    }
   ],
   "source": [
    "// Driver code \n",
    "public static void main(String args[]) \n",
    "{ \n",
    "     String str1 = \"geeksforgeeg\"; \n",
    "     System.out.println(remove(str1)); \n",
    "\n",
    "     String str2 = \"azxxxzy\"; \n",
    "     System.out.println(remove(str2)); \n",
    "\n",
    "     String str3 = \"caaabbbaac\"; \n",
    "     System.out.println(remove(str3)); \n",
    "\n",
    "     String str4 = \"gghhg\"; \n",
    "     System.out.println(remove(str4)); \n",
    "\n",
    "     String str5 = \"aaaacddddcappp\"; \n",
    "     System.out.println(remove(str5)); \n",
    "\n",
    "     String str6 = \"aaaaaaaaaa\"; \n",
    "     System.out.println(remove(str6)); \n",
    "\n",
    "     String str7 = \"qpaaaaadaaaaadprq\"; \n",
    "     System.out.println(remove(str7)); \n",
    "\n",
    "     String str8 = \"acaaabbbacdddd\"; \n",
    "     System.out.println(remove(str8)); \n",
    "\n",
    "} \n",
    "main(args);"
   ]
  },
  {
   "cell_type": "code",
   "execution_count": 229,
   "metadata": {},
   "outputs": [],
   "source": [
    "/*\n",
    "Time Complexity: \n",
    "    The time complexity of the solution can be written as T(n) = T(n-k) + O(k) \n",
    "    where n is length of the input string \n",
    "    and   k is the number of first characters which are same. \n",
    "Solution of the recurrence is O(n)\n",
    "*/"
   ]
  },
  {
   "cell_type": "markdown",
   "metadata": {},
   "source": [
    "## **114. String matching where one string contains wildcard characters**\n",
    "https://www.geeksforgeeks.org/wildcard-character-matching/"
   ]
  },
  {
   "cell_type": "code",
   "execution_count": 230,
   "metadata": {},
   "outputs": [],
   "source": [
    "/*\n",
    "Given two strings where first string may contain wild card characters and second string is a normal string. \n",
    "Write a function that returns true if the two strings match. \n",
    "\n",
    "The following are allowed wild card characters in first string.\n",
    "\n",
    "* --> Matches with 0 or more instances of any character or set of characters.\n",
    "? --> Matches with any one character.\n",
    "*/"
   ]
  },
  {
   "cell_type": "code",
   "execution_count": 231,
   "metadata": {},
   "outputs": [],
   "source": [
    "/*\n",
    "For example, \n",
    "\n",
    "“g*ks” matches with “geeks” match. \n",
    "And string “ge?ks*” matches with “geeksforgeeks” (note ‘*’ at the end of first string). \n",
    "But “g*k” doesn’t match with “gee” as character ‘k’ is not present in second string.\n",
    "*/"
   ]
  },
  {
   "cell_type": "code",
   "execution_count": 232,
   "metadata": {},
   "outputs": [],
   "source": [
    "// The main function that checks if  \n",
    "// two given strings match. The first string  \n",
    "// may contain wildcard characters \n",
    "static boolean match(String first, String second)  \n",
    "{ \n",
    "  \n",
    "    // If we reach at the end of both strings,  \n",
    "    // we are done \n",
    "    if (first.length() == 0 && second.length() == 0) \n",
    "        return true; \n",
    "  \n",
    "    // Make sure that the characters after '*'  \n",
    "    // are present in second string.  \n",
    "    // This function assumes that the first \n",
    "    // string will not contain two consecutive '*' \n",
    "    if (first.length() > 1 && first.charAt(0) == '*' &&  \n",
    "                              second.length() == 0) \n",
    "        return false; \n",
    "  \n",
    "    // If the first string contains '?',  \n",
    "    // or current characters of both strings match \n",
    "    if ((first.length() > 1 && first.charAt(0) == '?') ||  \n",
    "        (first.length() != 0 && second.length() != 0 &&  \n",
    "         first.charAt(0) == second.charAt(0))) \n",
    "        return match(first.substring(1),  \n",
    "                     second.substring(1)); \n",
    "  \n",
    "    // If there is *, then there are two possibilities \n",
    "    // a) We consider current character of second string \n",
    "    // b) We ignore current character of second string. \n",
    "    if (first.length() > 0 && first.charAt(0) == '*') \n",
    "        return match(first.substring(1), second) ||  \n",
    "               match(first, second.substring(1)); \n",
    "    return false; \n",
    "} "
   ]
  },
  {
   "cell_type": "code",
   "execution_count": 233,
   "metadata": {},
   "outputs": [],
   "source": [
    "// A function to run test cases \n",
    "static void test(String first, String second) \n",
    "{ \n",
    "    if (match(first, second)) \n",
    "        System.out.println(\"Yes\"); \n",
    "    else\n",
    "        System.out.println(\"No\"); \n",
    "} "
   ]
  },
  {
   "cell_type": "code",
   "execution_count": 234,
   "metadata": {
    "scrolled": true
   },
   "outputs": [
    {
     "name": "stdout",
     "output_type": "stream",
     "text": [
      "Yes\n",
      "Yes\n",
      "No\n",
      "No\n",
      "Yes\n",
      "No\n",
      "Yes\n",
      "Yes\n"
     ]
    }
   ],
   "source": [
    "// Driver Code \n",
    "public static void main(String[] args)  \n",
    "{ \n",
    "    test(\"g*ks\", \"geeks\"); // Yes \n",
    "    test(\"ge?ks*\", \"geeksforgeeks\"); // Yes \n",
    "    test(\"g*k\", \"gee\"); // No because 'k' is not in second \n",
    "    test(\"*pqrs\", \"pqrst\"); // No because 't' is not in first \n",
    "    test(\"abc*bcd\", \"abcdhghgbcd\"); // Yes \n",
    "    test(\"abc*c?d\", \"abcd\"); // No because second must have 2 \n",
    "                            // instances of 'c' \n",
    "    test(\"*c*d\", \"abcd\"); // Yes \n",
    "    test(\"*?c*d\", \"abcd\"); // Yes \n",
    "} \n",
    "main(args);"
   ]
  },
  {
   "cell_type": "markdown",
   "metadata": {},
   "source": [
    "***https://youtu.be/Q6ZX95GadA8***"
   ]
  },
  {
   "cell_type": "markdown",
   "metadata": {},
   "source": [
    "## **115. Lexicographic rank of a string**\n",
    "https://www.geeksforgeeks.org/lexicographic-rank-of-a-string/"
   ]
  },
  {
   "cell_type": "code",
   "execution_count": 235,
   "metadata": {},
   "outputs": [],
   "source": [
    "/*\n",
    "Given a string, \n",
    "find its rank among all its permutations sorted lexicographically. \n",
    "\n",
    "For example, \n",
    "    rank of “abc” is 1, \n",
    "    rank of “acb” is 2, \n",
    "    and rank of “cba” is 6.\n",
    "    \n",
    "For simplicity, let us assume that the string does not contain any duplicated characters.\n",
    "*/"
   ]
  },
  {
   "cell_type": "code",
   "execution_count": 236,
   "metadata": {},
   "outputs": [],
   "source": [
    "/*\n",
    "Examples:\n",
    "\n",
    "Input : str[] = \"acb\"\n",
    "Output : Rank = 2\n",
    "\n",
    "Input : str[] = \"string\"\n",
    "Output : Rank = 598\n",
    "\n",
    "Input : str[] = \"cba\"\n",
    "Output : Rank = 6\n",
    "*/"
   ]
  },
  {
   "cell_type": "code",
   "execution_count": 237,
   "metadata": {},
   "outputs": [],
   "source": [
    "/*\n",
    "One simple solution is to initialize rank as 1, \n",
    "generate all permutations in lexicographic order. \n",
    "\n",
    "After generating a permutation, \n",
    "check if the generated permutation is same as given string, \n",
    "        if same, \n",
    "            then return rank, \n",
    "        if not, \n",
    "            then increment the rank by 1. \n",
    "            \n",
    "The time complexity of this solution will be exponential in worst case.\n",
    "*/"
   ]
  },
  {
   "cell_type": "code",
   "execution_count": 238,
   "metadata": {},
   "outputs": [],
   "source": [
    "/*\n",
    "Let the given string be “STRING”. \n",
    "In the input string, ‘S’ is the first character. \n",
    "There are total 6 characters and 4 of them are smaller than ‘S’. \n",
    "So there can be 4 * 5! smaller strings where first character is smaller than ‘S’, like following\n",
    "\n",
    "R X X X X X\n",
    "I X X X X X\n",
    "N X X X X X\n",
    "G X X X X X\n",
    "\n",
    "Now let us Fix S’ and find the smaller strings starting with ‘S’.\n",
    "\n",
    "Repeat the same process for T, rank is 4*5! + 4*4! +…\n",
    "\n",
    "Now fix T and repeat the same process for R, rank is 4*5! + 4*4! + 3*3! +…\n",
    "\n",
    "Now fix R and repeat the same process for I, rank is 4*5! + 4*4! + 3*3! + 1*2! +…\n",
    "\n",
    "Now fix I and repeat the same process for N, rank is 4*5! + 4*4! + 3*3! + 1*2! + 1*1! +…\n",
    "\n",
    "Now fix N and repeat the same process for G, rank is 4*5! + 4*4! + 3*3! + 1*2! + 1*1! + 0*0!\n",
    "\n",
    "Rank = 4*5! + 4*4! + 3*3! + 1*2! + 1*1! + 0*0! = 597\n",
    "\n",
    "\n",
    "Note that the above computations find count of smaller strings. \n",
    "Therefore rank of given string is count of smaller strings plus 1. \n",
    "The final rank = 1 + 597 = 598\n",
    "*/"
   ]
  },
  {
   "cell_type": "code",
   "execution_count": 239,
   "metadata": {},
   "outputs": [],
   "source": [
    "// A utility function to find factorial of n \n",
    "static int fact(int n) \n",
    "{ \n",
    "    return (n <= 1) ? 1 : n * fact(n - 1); \n",
    "} "
   ]
  },
  {
   "cell_type": "code",
   "execution_count": 240,
   "metadata": {},
   "outputs": [],
   "source": [
    "// A utility function to count smaller \n",
    "// characters on right of arr[low] \n",
    "static int findSmallerInRight(String str, int low, \n",
    "                              int high) \n",
    "{ \n",
    "    int countRight = 0, i; \n",
    "\n",
    "    for (i = low + 1; i <= high; ++i) \n",
    "        if (str.charAt(i) < str.charAt(low)) \n",
    "            ++countRight; \n",
    "\n",
    "    return countRight; \n",
    "}"
   ]
  },
  {
   "cell_type": "code",
   "execution_count": 241,
   "metadata": {},
   "outputs": [],
   "source": [
    "// A function to find rank of a string in \n",
    "// all permutations of characters \n",
    "static int findRank(String str) \n",
    "{ \n",
    "    int len = str.length(); \n",
    "    int mul = fact(len); \n",
    "    int rank = 1; \n",
    "    int countRight; \n",
    "\n",
    "    for (int i = 0; i < len; ++i) { \n",
    "        mul /= len - i; \n",
    "\n",
    "        // count number of chars smaller \n",
    "        // than str[i] from str[i+1] to \n",
    "        // str[len-1] \n",
    "        countRight = findSmallerInRight(str, i, len - 1); \n",
    "\n",
    "        rank += countRight * mul; \n",
    "    } \n",
    "\n",
    "    return rank; \n",
    "} "
   ]
  },
  {
   "cell_type": "code",
   "execution_count": 242,
   "metadata": {},
   "outputs": [
    {
     "name": "stdout",
     "output_type": "stream",
     "text": [
      "598\n"
     ]
    }
   ],
   "source": [
    "// Driver program to test above function \n",
    "public static void main(String[] args) \n",
    "{ \n",
    "    String str = \"string\"; \n",
    "    System.out.println(findRank(str)); \n",
    "} \n",
    "main(args);"
   ]
  },
  {
   "cell_type": "code",
   "execution_count": 243,
   "metadata": {},
   "outputs": [],
   "source": [
    "/*\n",
    "The time complexity of the above solution is O(n^2). \n",
    "We can reduce the time complexity to O(n) by creating an auxiliary array of size 256. \n",
    "*/"
   ]
  },
  {
   "cell_type": "code",
   "execution_count": 244,
   "metadata": {},
   "outputs": [],
   "source": [
    "static int MAX_CHAR = 256; \n",
    "\n",
    "// A utility function to find factorial of n \n",
    "static int fact(int n) \n",
    "{ \n",
    "    return (n <= 1) ? 1 : n * fact(n - 1); \n",
    "} "
   ]
  },
  {
   "cell_type": "code",
   "execution_count": 245,
   "metadata": {},
   "outputs": [],
   "source": [
    "// Construct a count array where value at every index \n",
    "// contains count of smaller characters in whole string \n",
    "static void populateAndIncreaseCount(int[] count, char[] str) \n",
    "{ \n",
    "    int i; \n",
    "\n",
    "    for (i = 0; i < str.length; ++i) \n",
    "        ++count[str[i]]; \n",
    "\n",
    "    for (i = 1; i < MAX_CHAR; ++i) \n",
    "        count[i] += count[i - 1]; \n",
    "}"
   ]
  },
  {
   "cell_type": "code",
   "execution_count": 246,
   "metadata": {},
   "outputs": [],
   "source": [
    "// Removes a character ch from count[] array \n",
    "// constructed by populateAndIncreaseCount() \n",
    "static void updatecount(int[] count, char ch) \n",
    "{ \n",
    "    int i; \n",
    "    for (i = ch; i < MAX_CHAR; ++i) \n",
    "        --count[i]; \n",
    "} "
   ]
  },
  {
   "cell_type": "code",
   "execution_count": 247,
   "metadata": {},
   "outputs": [],
   "source": [
    "// A function to find rank of a string in all permutations \n",
    "// of characters \n",
    "static int findRank(char[] str) \n",
    "{ \n",
    "    int len = str.length; \n",
    "    int mul = fact(len); \n",
    "    int rank = 1, i; \n",
    "\n",
    "    // all elements of count[] are initialized with 0 \n",
    "    int count[] = new int[MAX_CHAR]; \n",
    "\n",
    "    // Populate the count array such that count[i] \n",
    "    // contains count of characters which are present \n",
    "    // in str and are smaller than i \n",
    "    populateAndIncreaseCount(count, str); \n",
    "\n",
    "    for (i = 0; i < len; ++i) { \n",
    "        mul /= len - i; \n",
    "\n",
    "        // count number of chars smaller than str[i] \n",
    "        // fron str[i+1] to str[len-1] \n",
    "        rank += count[str[i] - 1] * mul; \n",
    "\n",
    "        // Reduce count of characters greater than str[i] \n",
    "        updatecount(count, str[i]); \n",
    "    } \n",
    "\n",
    "    return rank; \n",
    "} "
   ]
  },
  {
   "cell_type": "code",
   "execution_count": 248,
   "metadata": {},
   "outputs": [
    {
     "name": "stdout",
     "output_type": "stream",
     "text": [
      "598\n"
     ]
    }
   ],
   "source": [
    "// Driver code \n",
    "public static void main(String args[]) \n",
    "{ \n",
    "    char str[] = \"string\".toCharArray(); \n",
    "    System.out.println(findRank(str)); \n",
    "} \n",
    "main(args);"
   ]
  },
  {
   "cell_type": "markdown",
   "metadata": {},
   "source": [
    "## **116. Print number in ascending order which contains 1, 2 and 3 in their digits.**\n",
    "https://www.geeksforgeeks.org/print-number-ascending-order-contains-1-2-3-digits/"
   ]
  },
  {
   "cell_type": "code",
   "execution_count": 249,
   "metadata": {},
   "outputs": [],
   "source": [
    "/*\n",
    "Given an array of numbers, \n",
    "    the task is to print those numbers in ascending order separated by commas which have 1, 2 and 3 in their digits. \n",
    "    If no number containing digits 1, 2, and 3 present then print -1.\n",
    "    \n",
    "Time Complexity: Time complexity of the above approach is O(nlg(n)).\n",
    "*/"
   ]
  },
  {
   "cell_type": "code",
   "execution_count": 250,
   "metadata": {},
   "outputs": [],
   "source": [
    "/*\n",
    "Examples:\n",
    "\n",
    "Input : numbers[] = {123, 1232, 456, 234, 32145}\n",
    "Output : 123, 1232, 32145\n",
    "\n",
    "Input : numbers[] = {9821, 627183, 12, 1234}\n",
    "Output : 1234, 627183\n",
    "\n",
    "Input : numbers[] = {12, 232, 456, 234}\n",
    "Output : -1\n",
    "*/"
   ]
  },
  {
   "cell_type": "code",
   "execution_count": 251,
   "metadata": {},
   "outputs": [],
   "source": [
    "/*\n",
    "Approach: \n",
    "\n",
    "First finding all the number in from of array which contains 1, 2 & 3 \n",
    "then sort the number according to 1, 2 and 3 \n",
    "and then print it.\n",
    "*/"
   ]
  },
  {
   "cell_type": "code",
   "execution_count": 252,
   "metadata": {},
   "outputs": [],
   "source": [
    "// convert the number to string and find  \n",
    "// if it contains 1, 2 & 3. \n",
    "private static boolean findContainsOneTwoThree( \n",
    "                                     int number) \n",
    "{ \n",
    "\n",
    "    String str = Integer.toString(number);         \n",
    "    return (str.contains(\"1\") && str.contains(\"2\") &&  \n",
    "                                str.contains(\"3\")); \n",
    "} "
   ]
  },
  {
   "cell_type": "code",
   "execution_count": 253,
   "metadata": {},
   "outputs": [],
   "source": [
    "// prints all the number containing 1, 2, 3  \n",
    "// in any order \n",
    "private String printNumbers(int[] numbers) \n",
    "{ \n",
    "\n",
    "    ArrayList<Integer> array = new ArrayList<>(); \n",
    "    for (int number : numbers) { \n",
    "\n",
    "        // check if the number contains 1,  \n",
    "        // 2 & 3 in any order \n",
    "        if (findContainsOneTwoThree(number)) \n",
    "            array.add(number); \n",
    "    } \n",
    "\n",
    "    // sort all the numbers \n",
    "    Collections.sort(array); \n",
    "\n",
    "    StringBuffer strbuf = new StringBuffer(); \n",
    "    Iterator it = array.iterator();         \n",
    "    while (it.hasNext()) { \n",
    "\n",
    "        int value = (int)it.next(); \n",
    "        if (strbuf.length() > 0) \n",
    "            strbuf.append(\", \"); \n",
    "\n",
    "        strbuf.append(Integer.toString(value)); \n",
    "    } \n",
    "\n",
    "    return (strbuf.length() > 0) ?  \n",
    "                 strbuf.toString() : \"-1\"; \n",
    "} "
   ]
  },
  {
   "cell_type": "code",
   "execution_count": 254,
   "metadata": {},
   "outputs": [
    {
     "name": "stdout",
     "output_type": "stream",
     "text": [
      "123, 1232, 32145\n"
     ]
    }
   ],
   "source": [
    "public static void main(String[] args)  \n",
    "{         \n",
    "    int[] numbers = { 123, 1232, 456, 234, 32145 };         \n",
    "    System.out.println(printNumbers(numbers)); \n",
    "} \n",
    "main(args);"
   ]
  },
  {
   "cell_type": "markdown",
   "metadata": {},
   "source": [
    "## **117. Given a sorted dictionary of an alien language, find order of characters**\n",
    "https://www.geeksforgeeks.org/given-sorted-dictionary-find-precedence-characters/"
   ]
  },
  {
   "cell_type": "code",
   "execution_count": 255,
   "metadata": {},
   "outputs": [],
   "source": [
    "/*\n",
    "Given a sorted dictionary (array of words) of an alien language, find order of characters in the language.\n",
    "*/"
   ]
  },
  {
   "cell_type": "code",
   "execution_count": 256,
   "metadata": {},
   "outputs": [],
   "source": [
    "/*\n",
    "Examples:\n",
    "\n",
    "Input:  words[] = {\"baa\", \"abcd\", \"abca\", \"cab\", \"cad\"}\n",
    "Output: Order of characters is 'b', 'd', 'a', 'c'\n",
    "Note that words are sorted and in the given language \"baa\" \n",
    "comes before \"abcd\", therefore 'b' is before 'a' in output.\n",
    "Similarly we can find other orders.\n",
    "\n",
    "Input:  words[] = {\"caa\", \"aaa\", \"aab\"}\n",
    "Output: Order of characters is 'c', 'a', 'b'\n",
    "*/"
   ]
  },
  {
   "cell_type": "code",
   "execution_count": 257,
   "metadata": {},
   "outputs": [],
   "source": [
    "/*\n",
    "The idea is to create a graph of characters and then find topological sorting of the created graph. \n",
    "\n",
    "Following are the detailed steps.\n",
    "1) Create a graph g with number of vertices equal to the size of alphabet in the given alien language. \n",
    "    For example, \n",
    "        if the alphabet size is 5, \n",
    "        then there can be 5 characters in words. \n",
    "        \n",
    "        Initially there are no edges in graph.\n",
    "\n",
    "2) Do following for every pair of adjacent words in given sorted array.\n",
    "\n",
    "…..a) Let the current pair of words be word1 and word2. \n",
    "      One by one compare characters of both words and find the first mismatching characters.\n",
    "…..b) Create an edge in g from mismatching character of word1 to that of word2.\n",
    "\n",
    "3) Print topological sorting of the above created graph.\n",
    "\n",
    "Following is the implementation of the above algorithm.\n",
    "*/"
   ]
  },
  {
   "cell_type": "markdown",
   "metadata": {},
   "source": [
    "**Topological Sorting** ***https://www.geeksforgeeks.org/topological-sorting/***"
   ]
  },
  {
   "cell_type": "code",
   "execution_count": 258,
   "metadata": {},
   "outputs": [],
   "source": [
    "// Class to represent a graph \n",
    "class Graph \n",
    "{ \n",
    "  \n",
    "    // An array representing the graph as an adjacency list \n",
    "    private final LinkedList<Integer>[] adjacencyList; \n",
    "  \n",
    "    Graph(int nVertices) \n",
    "    { \n",
    "        adjacencyList = new LinkedList[nVertices]; \n",
    "        for (int vertexIndex = 0; vertexIndex < nVertices; vertexIndex++) \n",
    "        { \n",
    "            adjacencyList[vertexIndex] = new LinkedList<>(); \n",
    "        } \n",
    "    } \n",
    "  \n",
    "    // function to add an edge to graph \n",
    "    void addEdge(int startVertex, int endVertex) \n",
    "    { \n",
    "        adjacencyList[startVertex].add(endVertex); \n",
    "    } \n",
    "  \n",
    "    private int getNoOfVertices() \n",
    "    { \n",
    "        return adjacencyList.length; \n",
    "    } \n",
    "  \n",
    "    // A recursive function used by topologicalSort \n",
    "    private void topologicalSortUtil(int currentVertex, boolean[] visited, \n",
    "                                     Stack<Integer> stack) \n",
    "    { \n",
    "        // Mark the current node as visited. \n",
    "        visited[currentVertex] = true; \n",
    "  \n",
    "        // Recur for all the vertices adjacent to this vertex \n",
    "        for (int adjacentVertex : adjacencyList[currentVertex]) \n",
    "        { \n",
    "            if (!visited[adjacentVertex]) \n",
    "            { \n",
    "                topologicalSortUtil(adjacentVertex, visited, stack); \n",
    "            } \n",
    "        } \n",
    "  \n",
    "        // Push current vertex to stack which stores result \n",
    "        stack.push(currentVertex); \n",
    "    } \n",
    "  \n",
    "    // prints a Topological Sort of the complete graph \n",
    "    void topologicalSort() \n",
    "    { \n",
    "        Stack<Integer> stack = new Stack<>(); \n",
    "  \n",
    "        // Mark all the vertices as not visited \n",
    "        boolean[] visited = new boolean[getNoOfVertices()]; \n",
    "        for (int i = 0; i < getNoOfVertices(); i++) \n",
    "        { \n",
    "            visited[i] = false; \n",
    "        } \n",
    "  \n",
    "        // Call the recursive helper function to store Topological  \n",
    "        // Sort starting from all vertices one by one \n",
    "        for (int i = 0; i < getNoOfVertices(); i++) \n",
    "        { \n",
    "            if (!visited[i]) \n",
    "            { \n",
    "                topologicalSortUtil(i, visited, stack); \n",
    "            } \n",
    "        } \n",
    "  \n",
    "        // Print contents of stack \n",
    "        while (!stack.isEmpty()) \n",
    "        { \n",
    "            System.out.print((char)('a' + stack.pop()) + \" \"); \n",
    "        } \n",
    "    } \n",
    "} "
   ]
  },
  {
   "cell_type": "code",
   "execution_count": 259,
   "metadata": {},
   "outputs": [],
   "source": [
    "// This function fidns and prints order \n",
    "// of characer from a sorted array of words. \n",
    "// alpha is number of possible alphabets  \n",
    "// starting from 'a'. For simplicity, this \n",
    "// function is written in a way that only \n",
    "// first 'alpha' characters can be there  \n",
    "// in words array. For example if alpha \n",
    "//  is 7, then words[] should contain words \n",
    "// having only 'a', 'b','c' 'd', 'e', 'f', 'g' \n",
    "private static void printOrder(String[] words, int alpha) \n",
    "{ \n",
    "    // Create a graph with 'aplha' edges \n",
    "    Graph graph = new Graph(alpha); \n",
    "\n",
    "    for (int i = 0; i < words.length - 1; i++) \n",
    "    { \n",
    "        // Take the current two words and find the first mismatching \n",
    "        // character \n",
    "        String word1 = words[i]; \n",
    "        String word2 = words[i+1]; \n",
    "        for (int j = 0; j < Math.min(word1.length(), word2.length()); j++) \n",
    "        { \n",
    "            // If we find a mismatching character, then add an edge \n",
    "            // from character of word1 to that of word2 \n",
    "            if (word1.charAt(j) != word2.charAt(j)) \n",
    "            { \n",
    "                graph.addEdge(word1.charAt(j) - 'a', word2.charAt(j)- 'a'); \n",
    "                break; \n",
    "            } \n",
    "        } \n",
    "    } \n",
    "\n",
    "    // Print topological sort of the above created graph \n",
    "    graph.topologicalSort(); \n",
    "} "
   ]
  },
  {
   "cell_type": "code",
   "execution_count": 260,
   "metadata": {},
   "outputs": [
    {
     "name": "stdout",
     "output_type": "stream",
     "text": [
      "c a b "
     ]
    }
   ],
   "source": [
    "// Driver program to test above functions \n",
    "public static void main(String[] args) \n",
    "{ \n",
    "    String[] words = {\"caa\", \"aaa\", \"aab\"}; \n",
    "    printOrder(words, 3); \n",
    "} \n",
    "main(args);"
   ]
  },
  {
   "cell_type": "code",
   "execution_count": 261,
   "metadata": {},
   "outputs": [],
   "source": [
    "/*\n",
    "Time Complexity: \n",
    "    The first step to create a graph takes O(n + alhpa) time \n",
    "        where n is number of given words \n",
    "        and alpha is number of characters in given alphabet. \n",
    "    \n",
    "    The second step is also topological sorting. \n",
    "    \n",
    "    Note that there would be alpha vertices and at-most (n-1) edges in the graph. \n",
    "    \n",
    "    The time complexity of topological sorting is O(V+E) which is O(n + aplha) here. \n",
    "    \n",
    "So overall time complexity is O(n + aplha) + O(n + aplha) which is O(n + aplha).\n",
    "*/"
   ]
  },
  {
   "cell_type": "markdown",
   "metadata": {},
   "source": [
    "## **118. Find Excel column name from a given column number**\n",
    "https://www.geeksforgeeks.org/find-excel-column-name-given-number/"
   ]
  },
  {
   "cell_type": "code",
   "execution_count": 262,
   "metadata": {},
   "outputs": [],
   "source": [
    "/*\n",
    "MS Excel columns has a pattern like A, B, C, … ,Z, AA, AB, AC,…. ,AZ, BA, BB, … ZZ, AAA, AAB ….. etc. \n",
    "In other words, column 1 is named as “A”, column 2 as “B”, column 27 as “AA”.\n",
    "Given a column number, find its corresponding Excel column name.\n",
    "*/"
   ]
  },
  {
   "cell_type": "code",
   "execution_count": 263,
   "metadata": {},
   "outputs": [],
   "source": [
    "/*\n",
    "Following are more examples.\n",
    "\n",
    "Input          Output\n",
    " 26             Z\n",
    " 51             AY\n",
    " 52             AZ\n",
    " 80             CB\n",
    " 676            YZ\n",
    " 702            ZZ\n",
    " 705            AAC\n",
    " */"
   ]
  },
  {
   "cell_type": "code",
   "execution_count": 264,
   "metadata": {},
   "outputs": [],
   "source": [
    "/*\n",
    "Suppose we have a number n, let’s say 28. \n",
    "    so corresponding to it we need to print the column name. We need to take remainder with 26.\n",
    "\n",
    "If remainder with 26 comes out to be 0 (meaning 26, 52 and so on) \n",
    "    then we put ‘Z’ in the output string \n",
    "    and new n becomes n/26 -1 because here we are considering 26 to be ‘Z’ while in actual it’s 25th with respect to ‘A’.\n",
    "\n",
    "Similarly,\n",
    "if the remainder comes out to be non zero. (like 1, 2, 3 and so on) \n",
    "    then we need to just insert the char accordingly in the string and do n = n/26.\n",
    "\n",
    "Finally we reverse the string and print.\n",
    "*/"
   ]
  },
  {
   "cell_type": "code",
   "execution_count": 265,
   "metadata": {},
   "outputs": [],
   "source": [
    "/*\n",
    "Example:\n",
    "n = 700\n",
    "\n",
    "Remainder (n%26) is 24. \n",
    "    So we put ‘X’ in output string and n becomes n/26 which is 26.\n",
    "\n",
    "Remainder (26%26) is 0. \n",
    "    So we put ‘Z’ in output string and n becomes n/26 -1 which is 0.\n",
    "*/"
   ]
  },
  {
   "cell_type": "code",
   "execution_count": 266,
   "metadata": {},
   "outputs": [],
   "source": [
    "// Function to print Excel column \n",
    "// name for a given column number \n",
    "private static void printString(int columnNumber) \n",
    "{ \n",
    "    // To store result (Excel column name) \n",
    "    StringBuilder columnName = new StringBuilder(); \n",
    "\n",
    "    while (columnNumber > 0) \n",
    "    { \n",
    "        // Find remainder \n",
    "        int rem = columnNumber % 26; \n",
    "\n",
    "        // If remainder is 0, then a  \n",
    "        // 'Z' must be there in output \n",
    "        if (rem == 0) \n",
    "        { \n",
    "            columnName.append(\"Z\"); \n",
    "            columnNumber = (columnNumber / 26) - 1; \n",
    "        } \n",
    "        else // If remainder is non-zero \n",
    "        { \n",
    "            columnName.append((char)((rem - 1) + 'A')); \n",
    "            columnNumber = columnNumber / 26; \n",
    "        } \n",
    "    } \n",
    "\n",
    "    // Reverse the string and print result \n",
    "    System.out.println(columnName.reverse()); \n",
    "} "
   ]
  },
  {
   "cell_type": "code",
   "execution_count": 267,
   "metadata": {},
   "outputs": [
    {
     "name": "stdout",
     "output_type": "stream",
     "text": [
      "Z\n",
      "AY\n",
      "AZ\n",
      "CB\n",
      "YZ\n",
      "ZZ\n",
      "AAC\n"
     ]
    }
   ],
   "source": [
    "// Driver program to test above function \n",
    "public static void main(String[] args) \n",
    "{ \n",
    "    printString(26); \n",
    "    printString(51); \n",
    "    printString(52); \n",
    "    printString(80); \n",
    "    printString(676); \n",
    "    printString(702); \n",
    "    printString(705); \n",
    "} \n",
    "main(args);"
   ]
  },
  {
   "cell_type": "markdown",
   "metadata": {},
   "source": [
    "**Related Link :** ***https://www.geeksforgeeks.org/find-excel-column-number-column-title/***"
   ]
  },
  {
   "cell_type": "markdown",
   "metadata": {},
   "source": [
    "## **119. Find the longest substring with k unique characters in a given string**\n",
    "https://www.geeksforgeeks.org/find-the-longest-substring-with-k-unique-characters-in-a-given-string/"
   ]
  },
  {
   "cell_type": "code",
   "execution_count": 268,
   "metadata": {},
   "outputs": [],
   "source": [
    "/*\n",
    "Given a string you need to print longest possible substring that has exactly M unique characters. \n",
    "If there are more than one substring of longest possible length, then print any one of them.\n",
    "*/"
   ]
  },
  {
   "cell_type": "code",
   "execution_count": 269,
   "metadata": {},
   "outputs": [],
   "source": [
    "/*\n",
    "Examples:\n",
    "\n",
    "\"aabbcc\", k = 1\n",
    "Max substring can be any one from {\"aa\" , \"bb\" , \"cc\"}.\n",
    "\n",
    "\"aabbcc\", k = 2\n",
    "Max substring can be any one from {\"aabb\" , \"bbcc\"}.\n",
    "\n",
    "\"aabbcc\", k = 3\n",
    "There are substrings with exactly 3 unique characters\n",
    "{\"aabbcc\" , \"abbcc\" , \"aabbc\" , \"abbc\" }\n",
    "Max is \"aabbcc\" with length 6.\n",
    "\n",
    "\"aaabbb\", k = 3\n",
    "There are only two unique characters, thus show error message. \n",
    "*/"
   ]
  },
  {
   "cell_type": "code",
   "execution_count": 270,
   "metadata": {},
   "outputs": [],
   "source": [
    "/*\n",
    "Method 1 (Brute Force)\n",
    "\n",
    "If the length of string is n, \n",
    "    then there can be n*(n+1)/2 possible substrings. \n",
    "\n",
    "A simple way is to generate all the substring and check each one whether it has exactly k unique characters or not. \n",
    "If we apply this brute force, it would take O(n^2) to generate all substrings and O(n) to do a check on each one. \n",
    "Thus overall it would go O(n^3).\n",
    "\n",
    "\n",
    "We can further improve this solution by creating a hash table and while generating the substrings, \n",
    "check the number of unique characters using that hash table. \n",
    "Thus it would improve up to O(n^2).\n",
    "*/"
   ]
  },
  {
   "cell_type": "code",
   "execution_count": 271,
   "metadata": {},
   "outputs": [],
   "source": [
    "/*\n",
    "Method 2 (Linear Time)\n",
    "Time Complexity: Considering function “isValid()” takes constant time, time complexity of above solution is O(n).\n",
    "\n",
    "The problem can be solved in O(n). \n",
    "\n",
    "Idea is to maintain a window and add elements to the window till it contains less or equal k, \n",
    "update our result if required while doing so. \n",
    "If unique elements exceeds than required in window, start removing the elements from left side.\n",
    "\n",
    "Below are the implementations of above. \n",
    "The implementations assume that the input string alphabet contains only 26 characters (from ‘a’ to ‘z’). \n",
    "The code can be easily extended to 256 characters.\n",
    "*/"
   ]
  },
  {
   "cell_type": "code",
   "execution_count": 272,
   "metadata": {},
   "outputs": [],
   "source": [
    "final static int MAX_CHARS = 26; \n",
    "\n",
    "// This function calculates number of unique characters \n",
    "// using a associative array count[]. Returns true if \n",
    "// no. of characters are less than required else returns \n",
    "// false. \n",
    "static boolean isValid(int count[], int k) { \n",
    "    int val = 0; \n",
    "    for (int i = 0; i < MAX_CHARS; i++) { \n",
    "        if (count[i] > 0) { \n",
    "            val++; \n",
    "        } \n",
    "    } \n",
    "\n",
    "    // Return true if k is greater than or equal to val \n",
    "    return (k >= val); \n",
    "} "
   ]
  },
  {
   "cell_type": "code",
   "execution_count": 273,
   "metadata": {},
   "outputs": [],
   "source": [
    "// Finds the maximum substring with exactly k unique chars \n",
    "static void kUniques(String s, int k) { \n",
    "    int u = 0; // number of unique characters \n",
    "    int n = s.length(); \n",
    "\n",
    "    // Associative array to store the count of characters \n",
    "    int count[] = new int[MAX_CHARS]; \n",
    "    Arrays.fill(count, 0); \n",
    "    // Traverse the string, Fills the associative array \n",
    "    // count[] and count number of unique characters \n",
    "    for (int i = 0; i < n; i++) { \n",
    "        if (count[s.charAt(i) - 'a'] == 0) { \n",
    "            u++; \n",
    "        } \n",
    "        count[s.charAt(i) - 'a']++; \n",
    "    } \n",
    "\n",
    "    // If there are not enough unique characters, show \n",
    "    // an error message. \n",
    "    if (u < k) { \n",
    "        System.out.print(\"Not enough unique characters\"); \n",
    "        return; \n",
    "    } \n",
    "\n",
    "    // Otherwise take a window with first element in it. \n",
    "    // start and end variables. \n",
    "    int curr_start = 0, curr_end = 0; \n",
    "\n",
    "    // Also initialize values for result longest window \n",
    "    int max_window_size = 1, max_window_start = 0; \n",
    "\n",
    "    // Initialize associative array count[] with zero \n",
    "    Arrays.fill(count, 0); \n",
    "\n",
    "    count[s.charAt(0) - 'a']++;  // put the first character \n",
    "\n",
    "    // Start from the second character and add \n",
    "    // characters in window according to above \n",
    "    // explanation \n",
    "    for (int i = 1; i < n; i++) { \n",
    "        // Add the character 's[i]' to current window \n",
    "        count[s.charAt(i) - 'a']++; \n",
    "        curr_end++; \n",
    "\n",
    "        // If there are more than k unique characters in \n",
    "        // current window, remove from left side \n",
    "        while (!isValid(count, k)) { \n",
    "            count[s.charAt(curr_start) - 'a']--; \n",
    "            curr_start++; \n",
    "        } \n",
    "\n",
    "        // Update the max window size if required \n",
    "        if (curr_end - curr_start + 1 > max_window_size) { \n",
    "            max_window_size = curr_end - curr_start + 1; \n",
    "            max_window_start = curr_start; \n",
    "        } \n",
    "    } \n",
    "\n",
    "    System.out.println(\"Max sustring is : \"\n",
    "            + s.substring(max_window_start, max_window_size) \n",
    "            + \" with length \" + max_window_size); \n",
    "} "
   ]
  },
  {
   "cell_type": "code",
   "execution_count": 274,
   "metadata": {},
   "outputs": [
    {
     "name": "stdout",
     "output_type": "stream",
     "text": [
      "Max sustring is : cbe with length 7\n"
     ]
    }
   ],
   "source": [
    "// Driver function \n",
    "static public void main(String[] args) { \n",
    "    String s = \"aabacbebebe\"; \n",
    "    int k = 3; \n",
    "    kUniques(s, k); \n",
    "} \n",
    "main(args);"
   ]
  },
  {
   "cell_type": "markdown",
   "metadata": {},
   "source": [
    "## **120. Function to find Number of customers who could not get a computer**\n",
    "https://www.geeksforgeeks.org/function-to-find-number-of-customers-who-could-not-get-a-computer/"
   ]
  },
  {
   "cell_type": "code",
   "execution_count": 275,
   "metadata": {},
   "outputs": [],
   "source": [
    "/*\n",
    "Write a function “runCustomerSimulation” that takes following two inputs\n",
    "a) An integer ‘n’: total number of computers in a cafe and\n",
    "b) a string A sequence of uppercase letters ‘seq’.\n",
    "    Letters in the sequence occur in pairs. \n",
    "        The first occurrence indicates the arrival of a customer; \n",
    "        The second indicates the departure of that same customer.\n",
    "        \n",
    "A customer will be serviced if there is an unoccupied computer. No letter will occur more than two times.\n",
    "Customers who leave without using a computer always depart before customers who are currently using the computers. \n",
    "There are at most 20 computers per cafe.\n",
    "\n",
    "For each set of input the function should output a number telling how many customers, if any walked away without using a computer. \n",
    "Return 0 if all the customers were able to use a computer.\n",
    "*/\n"
   ]
  },
  {
   "cell_type": "code",
   "execution_count": 276,
   "metadata": {},
   "outputs": [],
   "source": [
    "/*\n",
    "runCustomerSimulation (2, “ABBAJJKZKZ”) should return 0\n",
    "\n",
    "runCustomerSimulation (3, “GACCBDDBAGEE”) should return 1 as ‘D’ was not able to get any computer\n",
    "\n",
    "runCustomerSimulation (3, “GACCBGDDBAEE”) should return 0\n",
    "\n",
    "runCustomerSimulation (1, “ABCBCA”) should return 2 as ‘B’ and ‘C’ were not able to get any computer.\n",
    "\n",
    "runCustomerSimulation(1, “ABCBCADEED”) should return 3 as ‘B’, ‘C’ and ‘E’ were not able to get any computer.\n",
    "*/"
   ]
  },
  {
   "cell_type": "code",
   "execution_count": 277,
   "metadata": {},
   "outputs": [],
   "source": [
    "/*\n",
    "Below are simple steps to find number of customers who could not get any computer.\n",
    "\n",
    "1) Initialize result as 0.\n",
    "\n",
    "2) Traverse the given sequence. \n",
    "    While traversing, keep track of occupied computers (this can be done by keeping track of characters which have appeared only once and a computer was available when they appeared). \n",
    "    At any point, if count of occupied computers is equal to ‘n’, and there is a new customer, increment result by 1.\n",
    "*/"
   ]
  },
  {
   "cell_type": "code",
   "execution_count": 278,
   "metadata": {},
   "outputs": [],
   "source": [
    "/*\n",
    "The important thing is to keep track of existing customers in cafe in a way that can indicate whether the customer has got a computer or not. \n",
    "\n",
    "Note that in sequence “ABCBCADEED”, customer ‘B’ did not get a seat, but still in cafe as a new customer ‘C’ is next in sequence.\n",
    "*/"
   ]
  },
  {
   "cell_type": "code",
   "execution_count": 279,
   "metadata": {},
   "outputs": [],
   "source": [
    "static int MAX_CHAR = 26;  \n",
    "  \n",
    "// n is number of computers in cafe.  \n",
    "// 'seq' is given sequence of customer entry, exit events  \n",
    "static int runCustomerSimulation(int n, char []seq)  \n",
    "{  \n",
    "    // seen[i] = 0, indicates that customer 'i' is not in cafe  \n",
    "    // seen[1] = 1, indicates that customer 'i' is in cafe but  \n",
    "    //         computer is not assigned yet.  \n",
    "    // seen[2] = 2, indicates that customer 'i' is in cafe and  \n",
    "    //         has occupied a computer.  \n",
    "    char []seen = new char[MAX_CHAR];  \n",
    "  \n",
    "    // Initialize result which is number of customers who could  \n",
    "    // not get any computer.  \n",
    "    int res = 0;  \n",
    "  \n",
    "    int occupied = 0; // To keep track of occupied computers  \n",
    "  \n",
    "    // Traverse the input sequence  \n",
    "    for (int i=0; i< seq.length; i++)  \n",
    "    {  \n",
    "        // Find index of current character in seen[0...25]  \n",
    "        int ind = seq[i] - 'A';  \n",
    "  \n",
    "        // If First occurrence of 'seq[i]'  \n",
    "        if (seen[ind] == 0)  \n",
    "        {  \n",
    "            // set the current character as seen  \n",
    "            seen[ind] = 1;  \n",
    "  \n",
    "            // If number of occupied computers is less than  \n",
    "            // n, then assign a computer to new customer  \n",
    "            if (occupied < n)  \n",
    "            {  \n",
    "                occupied++;  \n",
    "  \n",
    "                // Set the current character as occupying a computer  \n",
    "                seen[ind] = 2;  \n",
    "            }  \n",
    "  \n",
    "            // Else this customer cannot get a computer,  \n",
    "            // increment result  \n",
    "            else\n",
    "                res++;  \n",
    "        }  \n",
    "  \n",
    "        // If this is second occurrence of 'seq[i]'  \n",
    "        else\n",
    "        {  \n",
    "              \n",
    "        // Decrement occupied only if this customer  \n",
    "        // was using a computer  \n",
    "        if (seen[ind] == 2)  \n",
    "            occupied--;  \n",
    "        seen[ind] = 0;  \n",
    "        }  \n",
    "    }  \n",
    "    return res;  \n",
    "}  "
   ]
  },
  {
   "cell_type": "code",
   "execution_count": 280,
   "metadata": {},
   "outputs": [
    {
     "name": "stdout",
     "output_type": "stream",
     "text": [
      "0\n",
      "1\n",
      "0\n",
      "2\n",
      "3\n"
     ]
    }
   ],
   "source": [
    "// Driver program  \n",
    "public static void main(String[] args) \n",
    "{ \n",
    "    System.out.println(runCustomerSimulation(2, \"ABBAJJKZKZ\".toCharArray()));  \n",
    "    System.out.println(runCustomerSimulation(3, \"GACCBDDBAGEE\".toCharArray()));  \n",
    "    System.out.println(runCustomerSimulation(3, \"GACCBGDDBAEE\".toCharArray()));  \n",
    "    System.out.println(runCustomerSimulation(1, \"ABCBCA\".toCharArray()));  \n",
    "    System.out.println(runCustomerSimulation(1, \"ABCBCADEED\".toCharArray()));  \n",
    "} \n",
    "main(args);"
   ]
  },
  {
   "cell_type": "code",
   "execution_count": 281,
   "metadata": {},
   "outputs": [],
   "source": [
    "/*\n",
    "Time complexity of above solution is O(n) and \n",
    "extra space required is O(CHAR_MAX) \n",
    "    where CHAR_MAX is total number of possible characters in given sequence.\n",
    "*/"
   ]
  },
  {
   "cell_type": "code",
   "execution_count": null,
   "metadata": {},
   "outputs": [],
   "source": []
  },
  {
   "cell_type": "markdown",
   "metadata": {},
   "source": [
    "## **121. Check a given sentence for a given set of simple grammer rules**\n",
    "https://www.geeksforgeeks.org/check-given-sentence-given-set-simple-grammer-rules/"
   ]
  },
  {
   "cell_type": "code",
   "execution_count": 282,
   "metadata": {},
   "outputs": [],
   "source": [
    "/*\n",
    "A simple sentence if syntactically correct if it fulfills given rules. The following are given rules.\n",
    "\n",
    "1. Sentence must start with a Uppercase character (e.g. Noun/ I/ We/ He etc.)\n",
    "2. Then lowercase character follows.\n",
    "3. There must be spaces between words.\n",
    "4. Then the sentence must end with a full stop(.) after a word.\n",
    "5. Two continuous spaces are not allowed.\n",
    "6. Two continuous upper case characters are not allowed.\n",
    "7. However, the sentence can end after an upper case character.\n",
    "\n",
    "Question: Given a sentence, validate the given sentence for above given rules.\n",
    "*/"
   ]
  },
  {
   "cell_type": "code",
   "execution_count": 283,
   "metadata": {},
   "outputs": [],
   "source": [
    "/*\n",
    "Examples:\n",
    "\n",
    "Correct sentences -\n",
    "   \"My name is Ram.\"\n",
    "   \"The vertex is S.\"\n",
    "   \"I am single.\"\n",
    "   \"I love Geeksquiz and Geeksforgeeks.\"\n",
    "\n",
    "Incorrect sentence - \n",
    "   \"My name is KG.\"\n",
    "   \"I lovE cinema.\"\n",
    "   \"GeeksQuiz. is a quiz site.\"\n",
    "   \"  You are my friend.\"\n",
    "   \"I love cinema\"\n",
    "*/"
   ]
  },
  {
   "cell_type": "code",
   "execution_count": 284,
   "metadata": {},
   "outputs": [],
   "source": [
    "/*\n",
    "Time complexity – O(n), worst case as we have to traverse the full sentence where n is the length of the sentence.\n",
    "Auxiliary space – O(1)\n",
    "\n",
    "The idea is to use an automata for the given set of rules.\n",
    "\n",
    "Algorithm :\n",
    "\n",
    "1. Check for the corner cases\n",
    "    1.a) Check if the first character is uppercase or not in the sentence.\n",
    "    1.b) Check if the last character is a full stop or not.\n",
    "\n",
    "2. For rest of the string, \n",
    "    this problem could be solved by following a state diagram. \n",
    "\n",
    "    Please refer to the below state diagram for that.\n",
    "\n",
    "3. We need to maintain previous and current state of different characters in the string. \n",
    "\n",
    "Based on that we can always validate the sentence of every character traversed.\n",
    "*/"
   ]
  },
  {
   "cell_type": "markdown",
   "metadata": {},
   "source": [
    "<img src = \"https://media.geeksforgeeks.org/wp-content/uploads/statediagram.png\"/>"
   ]
  },
  {
   "cell_type": "code",
   "execution_count": 285,
   "metadata": {},
   "outputs": [],
   "source": [
    "// Method to check a given sentence for given rules \n",
    "static boolean checkSentence(char[] str) \n",
    "{ \n",
    "\n",
    "    // Calculate the length of the string. \n",
    "    int len = str.length; \n",
    "\n",
    "    // Check that the first character lies in [A-Z]. \n",
    "    // Otherwise return false. \n",
    "    if (str[0] < 'A' || str[0] > 'Z') \n",
    "        return false; \n",
    "\n",
    "    // If the last character is not a full stop(.)  \n",
    "    // no need to check further. \n",
    "    if (str[len - 1] != '.') \n",
    "        return false; \n",
    "\n",
    "    // Maintain 2 states. Previous and current state  \n",
    "    // based on which vertex state you are.  \n",
    "    // Initialise both with 0 = start state. \n",
    "    int prev_state = 0, curr_state = 0; \n",
    "\n",
    "    // Keep the index to the next character in the string. \n",
    "    int index = 1; \n",
    "\n",
    "    // Loop to go over the string. \n",
    "    while (index <= str.length)  \n",
    "    { \n",
    "\n",
    "        // Set states according to the input characters  \n",
    "        // in the string and the rule defined in the description. \n",
    "        // If current character is [A-Z]. Set current state as 0. \n",
    "        if (str[index] >= 'A' && str[index] <= 'Z') \n",
    "            curr_state = 0; \n",
    "\n",
    "        // If current character is a space.  \n",
    "        // Set current state as 1. \n",
    "        else if (str[index] == ' ') \n",
    "            curr_state = 1; \n",
    "\n",
    "        // If current character is [a-z].  \n",
    "        // Set current state as 2. \n",
    "        else if (str[index] >= 'a' && str[index] <= 'z') \n",
    "            curr_state = 2; \n",
    "\n",
    "        // If current state is a dot(.). \n",
    "        // Set current state as 3. \n",
    "        else if (str[index] == '.') \n",
    "            curr_state = 3; \n",
    "\n",
    "        // Validates all current state with previous state  \n",
    "        // for the rules in the description of the problem. \n",
    "        if (prev_state == curr_state && curr_state != 2) \n",
    "            return false; \n",
    "\n",
    "        if (prev_state == 2 && curr_state == 0) \n",
    "            return false; \n",
    "\n",
    "        // If we have reached last state and previous state  \n",
    "        // is not 1, then check next character. If next character  \n",
    "        // is '\\0', then return true, else false \n",
    "        if (curr_state == 3 && prev_state != 1) \n",
    "            return (index + 1 == str.length); \n",
    "\n",
    "        index++; \n",
    "\n",
    "        // Set previous state as current state  \n",
    "        // before going over to the next character. \n",
    "        prev_state = curr_state; \n",
    "    } \n",
    "    return false; \n",
    "} "
   ]
  },
  {
   "cell_type": "code",
   "execution_count": 286,
   "metadata": {},
   "outputs": [
    {
     "name": "stdout",
     "output_type": "stream",
     "text": [
      "\"I love cinema.\" is correct\n",
      "\"The vertex is S.\" is correct\n",
      "\"I am single.\" is correct\n",
      "\"My name is KG.\" is incorrect\n",
      "\"I lovE cinema.\" is incorrect\n",
      "\"GeeksQuiz. is a quiz site.\" is incorrect\n",
      "\"I love Geeksquiz and Geeksforgeeks.\" is correct\n",
      "\" You are my friend.\" is incorrect\n",
      "\"I love cinema\" is incorrect\n"
     ]
    }
   ],
   "source": [
    "// Driver Code \n",
    "public static void main(String[] args) \n",
    "{ \n",
    "    String[] str = { \"I love cinema.\", \"The vertex is S.\",  \n",
    "                     \"I am single.\", \"My name is KG.\",  \n",
    "                     \"I lovE cinema.\", \"GeeksQuiz. is a quiz site.\",  \n",
    "                     \"I love Geeksquiz and Geeksforgeeks.\",  \n",
    "                     \" You are my friend.\", \"I love cinema\" }; \n",
    "    int str_size = str.length; \n",
    "\n",
    "    int i = 0; \n",
    "    for (i = 0; i < str_size; i++) \n",
    "    { \n",
    "        if (checkSentence(str[i].toCharArray())) \n",
    "            System.out.println(\"\\\"\" + str[i] +  \n",
    "                               \"\\\"\" + \" is correct\"); \n",
    "        else\n",
    "            System.out.println(\"\\\"\" + str[i] +  \n",
    "                               \"\\\"\" + \" is incorrect\"); \n",
    "    } \n",
    "} \n",
    "main(args);"
   ]
  },
  {
   "cell_type": "markdown",
   "metadata": {},
   "source": [
    "## **122. Length of the longest valid substring**\n",
    "https://www.geeksforgeeks.org/length-of-the-longest-valid-substring/"
   ]
  },
  {
   "cell_type": "code",
   "execution_count": 287,
   "metadata": {},
   "outputs": [],
   "source": [
    "/*\n",
    "Given a string consisting of opening and closing parenthesis, \n",
    "    find length of the longest valid parenthesis substring.\n",
    "*/"
   ]
  },
  {
   "cell_type": "code",
   "execution_count": 288,
   "metadata": {},
   "outputs": [],
   "source": [
    "/*\n",
    "Examples:\n",
    "\n",
    "Input : ((()\n",
    "Output : 2\n",
    "Explanation : ()\n",
    "\n",
    "Input: )()())\n",
    "Output : 4\n",
    "Explanation: ()() \n",
    "\n",
    "Input:  ()(()))))\n",
    "Output: 6\n",
    "Explanation:  ()(())\n",
    "*/"
   ]
  },
  {
   "cell_type": "code",
   "execution_count": 289,
   "metadata": {},
   "outputs": [],
   "source": [
    "/*\n",
    "A Simple Approach \n",
    "    is to find all the substrings of given string. \n",
    "    For every string, check if it is a valid string or not. \n",
    "    If valid and length is more than maximum length so far, then update maximum length. \n",
    "    We can check whether a substring is valid or not in linear time using a stack (See below link for details). \n",
    "    \n",
    "Time complexity of this solution is O(n^2).\n",
    "*/"
   ]
  },
  {
   "cell_type": "markdown",
   "metadata": {},
   "source": [
    "***https://www.geeksforgeeks.org/check-for-balanced-parentheses-in-an-expression/***"
   ]
  },
  {
   "cell_type": "code",
   "execution_count": 290,
   "metadata": {},
   "outputs": [],
   "source": [
    "/*\n",
    "An Efficient Solution \n",
    "    can solve this problem in O(n) time. \n",
    "    The idea is to store indexes of previous starting brackets in a stack. \n",
    "    The first element of stack is a special element that provides index before beginning of valid substring (base for next valid string).\n",
    "\n",
    "1) Create an empty stack and push -1 to it. The first element\n",
    "   of stack is used to provide base for next valid string. \n",
    "\n",
    "2) Initialize result as 0.\n",
    "\n",
    "3) If the character is '(' i.e. str[i] == '('), push index \n",
    "   'i' to the stack. \n",
    "   \n",
    "2) Else (if the character is ')')\n",
    "   a) Pop an item from stack (Most of the time an opening bracket)\n",
    "   b) If stack is not empty, then find length of current valid\n",
    "      substring by taking difference between current index and\n",
    "      top of the stack. If current length is more than result,\n",
    "      then update the result.\n",
    "   c) If stack is empty, push current index as base for next\n",
    "      valid substring.\n",
    "\n",
    "3) Return result.\n",
    "*/"
   ]
  },
  {
   "cell_type": "code",
   "execution_count": 291,
   "metadata": {},
   "outputs": [],
   "source": [
    "/*\n",
    "Explanation with example:\n",
    "\n",
    "Input: str = \"(()()\"\n",
    "\n",
    "Initialize result as 0 and stack with one item -1.\n",
    "\n",
    "For i = 0, str[0] = '(', we push 0 in stack\n",
    "\n",
    "For i = 1, str[1] = '(', we push 1 in stack\n",
    "\n",
    "For i = 2, str[2] = ')', currently stack has [-1, 0, 1], we pop\n",
    "from the stack and the stack now is [-1, 0] and length of current\n",
    "valid substring becomes 2 (we get this 2 by subtracting stack top \n",
    "from current index).\n",
    "Since current length is more than current result, we update result.\n",
    "\n",
    "For i = 3, str[3] = '(', we push again, stack is [-1, 0, 3].\n",
    "\n",
    "For i = 4, str[4] = ')', we pop from the stack, stack becomes \n",
    "[-1, 0] and length of current valid substring becomes 4 (we get \n",
    "this 4 by subtracting stack top from current index). \n",
    "Since current length is more than current result, we update result.\n",
    "*/"
   ]
  },
  {
   "cell_type": "code",
   "execution_count": 292,
   "metadata": {},
   "outputs": [],
   "source": [
    "// method to get length of the longest valid \n",
    "static int findMaxLen(String str) \n",
    "{ \n",
    "    int n = str.length(); \n",
    "\n",
    "    // Create a stack and push -1 as initial index to it. \n",
    "    Stack<Integer> stk = new Stack<>(); \n",
    "    stk.push(-1); \n",
    "\n",
    "    // Initialize result \n",
    "    int result = 0; \n",
    "\n",
    "    // Traverse all characters of given string \n",
    "    for (int i=0; i<n; i++) \n",
    "    { \n",
    "        // If opening bracket, push index of it \n",
    "        if (str.charAt(i) == '(') \n",
    "          stk.push(i); \n",
    "\n",
    "        else // If closing bracket, i.e.,str[i] = ')' \n",
    "        { \n",
    "            // Pop the previous opening bracket's index \n",
    "            stk.pop(); \n",
    "\n",
    "            // Check if this length formed with base of \n",
    "            // current valid substring is more than max  \n",
    "            // so far \n",
    "            if (!stk.empty()) \n",
    "                result = Math.max(result, i - stk.peek()); \n",
    "\n",
    "            // If stack is empty. push current index as  \n",
    "            // base for next valid substring (if any) \n",
    "            else stk.push(i); \n",
    "        } \n",
    "    } \n",
    "\n",
    "    return result; \n",
    "} "
   ]
  },
  {
   "cell_type": "code",
   "execution_count": 293,
   "metadata": {},
   "outputs": [
    {
     "name": "stdout",
     "output_type": "stream",
     "text": [
      "4\n",
      "6\n"
     ]
    }
   ],
   "source": [
    "// Driver method \n",
    "public static void main(String[] args)  \n",
    "{ \n",
    "    String str = \"((()()\"; \n",
    "    System.out.println(findMaxLen(str)); \n",
    "\n",
    "    str = \"()(()))))\"; \n",
    "    System.out.println(findMaxLen(str));   \n",
    "} \n",
    "main(args);"
   ]
  },
  {
   "cell_type": "code",
   "execution_count": 294,
   "metadata": {},
   "outputs": [],
   "source": [
    "/*\n",
    "Another Efficient Approach can solve the problem in O(n) time. \n",
    "The idea is to maintain an array which stores the length of longest valid substring ending at that index. \n",
    "We iterate through the array and return the maximum value.\n",
    "\n",
    "1) Create an array longest of length n (size of the input string) initialized to zero.\n",
    "   The array will store\n",
    "   the length of the longest valid substring ending at that index.\n",
    "\n",
    "2) Initialize result as 0.\n",
    "\n",
    "3) Iterate through the string from second character\n",
    "   a) If the character is '(' set longest[i]=0 as no valid sub-string will end with '('.\n",
    "   b) Else\n",
    "      i) if s[i-1] = '('\n",
    "            set longest[i] = longest[i-2] + 2\n",
    "      ii) else\n",
    "            set longest[i] = longest[i-1] + 2 + longest[i-longest[i-1]-2]\n",
    "\n",
    "4) In each iteration update result as the maximum of result and longest[i]\n",
    "\n",
    "5) Return result.\n",
    "*/"
   ]
  },
  {
   "cell_type": "markdown",
   "metadata": {},
   "source": [
    "***https://ideone.com/qcvtCd***"
   ]
  },
  {
   "cell_type": "markdown",
   "metadata": {},
   "source": [
    "***https://youtu.be/AIhyd8lMpIo***"
   ]
  },
  {
   "cell_type": "code",
   "execution_count": 295,
   "metadata": {},
   "outputs": [],
   "source": [
    "// Function to return the length of \n",
    "// the longest valid substring \n",
    "int solve(String s, int n) \n",
    "{ \n",
    "  \n",
    "    // Variables for left and right counter. \n",
    "    // maxlength to store the maximum length found so far \n",
    "    int left = 0, right = 0, maxlength = 0; \n",
    "  \n",
    "    // Iterating the string from left to right \n",
    "    for (int i = 0; i < n; i++) { \n",
    "        // If \"(\" is encountered, \n",
    "        // then left counter is incremented \n",
    "        // else right counter is incremented \n",
    "        if (s.charAt(i) == '(') \n",
    "            left++; \n",
    "        else\n",
    "            right++; \n",
    "  \n",
    "        // Whenever left is equal to right, it signifies \n",
    "        // that the subsequence is valid and \n",
    "        if (left == right) \n",
    "            maxlength = Math.max(maxlength, 2 * right); \n",
    "  \n",
    "        // Reseting the counters when the subsequence \n",
    "        // becomes invalid \n",
    "        else if (right > left) \n",
    "            left = right = 0; \n",
    "    } \n",
    "  \n",
    "    left = right = 0; \n",
    "  \n",
    "    // Iterating the string from right to left \n",
    "    for (int i = n - 1; i >= 0; i--) { \n",
    "  \n",
    "        // If \"(\" is encountered, \n",
    "        // then left counter is incremented \n",
    "        // else right counter is incremented \n",
    "        if (s.charAt(i) == '(') \n",
    "            left++; \n",
    "        else\n",
    "            right++; \n",
    "  \n",
    "        // Whenever left is equal to right, it signifies \n",
    "        // that the subsequence is valid and \n",
    "        if (left == right) \n",
    "            maxlength = Math.max(maxlength, 2 * left); \n",
    "  \n",
    "        // Reseting the counters when the subsequence \n",
    "        // becomes invalid \n",
    "        else if (left > right) \n",
    "            left = right = 0; \n",
    "    } \n",
    "    return maxlength; \n",
    "} "
   ]
  },
  {
   "cell_type": "code",
   "execution_count": 296,
   "metadata": {},
   "outputs": [
    {
     "name": "stdout",
     "output_type": "stream",
     "text": [
      "8\n"
     ]
    }
   ],
   "source": [
    "System.out.println(solve(\"((()()()()(((())\", 16));"
   ]
  },
  {
   "cell_type": "markdown",
   "metadata": {},
   "source": [
    "## **123. Print all ways to break a string in bracket form**\n",
    "https://www.geeksforgeeks.org/print-ways-break-string-bracket-form/"
   ]
  },
  {
   "cell_type": "code",
   "execution_count": 297,
   "metadata": {},
   "outputs": [],
   "source": [
    "/*\n",
    "Given a string, \n",
    "    find all ways to break the given string in bracket form. Enclose each substring within a parenthesis.\n",
    "*/"
   ]
  },
  {
   "cell_type": "code",
   "execution_count": 298,
   "metadata": {},
   "outputs": [],
   "source": [
    "/*\n",
    "Examples:\n",
    "\n",
    "Input : abc\n",
    "Output: (a)(b)(c)\n",
    "        (a)(bc)\n",
    "        (ab)(c)\n",
    "        (abc)\n",
    "\n",
    "\n",
    "Input : abcd\n",
    "Output : (a)(b)(c)(d)\n",
    "         (a)(b)(cd)\n",
    "         (a)(bc)(d)\n",
    "         (a)(bcd)\n",
    "         (ab)(c)(d)\n",
    "         (ab)(cd)\n",
    "         (abc)(d)\n",
    "         (abcd)\n",
    "*/"
   ]
  },
  {
   "cell_type": "code",
   "execution_count": 299,
   "metadata": {},
   "outputs": [],
   "source": [
    "/*\n",
    "The idea is to use recursion. \n",
    "We maintain two parameters – \n",
    "        index of the next character to be processed and \n",
    "        the output string so far. \n",
    "\n",
    "We start from index of next character to be processed, \n",
    "    append substring formed by unprocessed string to the output string and \n",
    "    recurse on remaining string until we process the whole string. \n",
    "    \n",
    "We use std::substr to form the output string. \n",
    "    substr(pos, n) returns a substring of length n that starts at position pos of current string.\n",
    "\n",
    "Below diagram shows recursion tree for input string “abc”. \n",
    "    Each node on the diagram shows processed string (marked by green) and unprocessed string (marked by red).\n",
    "*/"
   ]
  },
  {
   "cell_type": "markdown",
   "metadata": {},
   "source": [
    "<img src = \"https://www.geeksforgeeks.org/wp-content/uploads/image12.png\"/>"
   ]
  },
  {
   "cell_type": "code",
   "execution_count": 300,
   "metadata": {},
   "outputs": [],
   "source": [
    "// find all combinations of non-overlapping \n",
    "// substrings formed by input string str \n",
    "static void findCombinations(String str, int index, \n",
    "                             String out) \n",
    "{ \n",
    "    if (index == str.length()) \n",
    "        System.out.println(out); \n",
    "\n",
    "    for (int i = index; i < str.length(); i++) \n",
    "\n",
    "        // append substring formed by str[index, \n",
    "        // i] to output string \n",
    "        findCombinations(str, i + 1, out + \"(\" + str.substring(index, i+1) + \")\" ); \n",
    "}"
   ]
  },
  {
   "cell_type": "code",
   "execution_count": 301,
   "metadata": {},
   "outputs": [
    {
     "name": "stdout",
     "output_type": "stream",
     "text": [
      "(a)(b)(c)(d)\n",
      "(a)(b)(cd)\n",
      "(a)(bc)(d)\n",
      "(a)(bcd)\n",
      "(ab)(c)(d)\n",
      "(ab)(cd)\n",
      "(abc)(d)\n",
      "(abcd)\n"
     ]
    }
   ],
   "source": [
    "// driver program \n",
    "public static void main (String[] args)  \n",
    "{ \n",
    "    // input string \n",
    "    String str = \"abcd\"; \n",
    "    findCombinations(str, 0, \"\"); \n",
    "} \n",
    "main(args);"
   ]
  },
  {
   "cell_type": "markdown",
   "metadata": {
    "cell_style": "center"
   },
   "source": [
    "## **124. Print Concatenation of Zig-Zag String in ‘n’ Rows**\n",
    "https://www.geeksforgeeks.org/print-concatenation-of-zig-zag-string-form-in-n-rows/"
   ]
  },
  {
   "cell_type": "code",
   "execution_count": 302,
   "metadata": {},
   "outputs": [],
   "source": [
    "/*\n",
    "Given a string and number of rows ‘n’. \n",
    "Print the string formed by concatenating n rows when input string is written in row-wise Zig-Zag fashion.\n",
    "*/"
   ]
  },
  {
   "cell_type": "code",
   "execution_count": 303,
   "metadata": {},
   "outputs": [],
   "source": [
    "/*\n",
    "Examples:\n",
    "\n",
    "Input: str = \"ABCDEFGH\"\n",
    "       n = 2\n",
    "Output: \"ACEGBDFH\"\n",
    "Explanation: Let us write input string in Zig-Zag fashion\n",
    "             in 2 rows.\n",
    "A   C   E   G   \n",
    "  B   D   F   H\n",
    "Now concatenate the two rows and ignore spaces \n",
    "in every row. We get \"ACEGBDFH\"\n",
    "\n",
    "Input: str = \"GEEKSFORGEEKS\"\n",
    "       n = 3\n",
    "Output: GSGSEKFREKEOE\n",
    "Explanation: Let us write input string in Zig-Zag fashion\n",
    "             in 3 rows.\n",
    "G       S       G       S\n",
    "  E   K   F   R   E   K\n",
    "    E       O       E\n",
    "Now concatenate the two rows and ignore spaces \n",
    "in every row. We get \"GSGSEKFREKEOE\"\n",
    "*/"
   ]
  },
  {
   "cell_type": "code",
   "execution_count": 304,
   "metadata": {},
   "outputs": [],
   "source": [
    "/*\n",
    "Time Complexity: O(len) where len is length of input string.\n",
    "Auxiliary Space: O(len)\n",
    "\n",
    "The idea is to traverse the input string. \n",
    "Every character has to go to one of the rows. \n",
    "One by one add all characters to different rows. \n",
    "\n",
    "Below is algorithm:\n",
    "\n",
    "1) Create an array of n strings, arr[n]\n",
    "2) Initialize direction as \"down\" and row as 0. The \n",
    "   direction indicates whether we need to move up or \n",
    "   down in rows. \n",
    "3) Traverse the input string, do following for every\n",
    "   character.\n",
    "   a) Append current character to string of current row.\n",
    "   b) If row number is n-1, then change direction to 'up'\n",
    "   c) If row number is 0, then change direction to 'down'\n",
    "   d) If direction is 'down', do row++.  Else do row--.\n",
    "4) One by one print all strings of arr[]. \n",
    "*/"
   ]
  },
  {
   "cell_type": "code",
   "execution_count": 305,
   "metadata": {},
   "outputs": [],
   "source": [
    "// Prints concatenation  \n",
    "// of all rows of str's  \n",
    "// Zig-Zag fasion \n",
    "static void printZigZagConcat(String str, \n",
    "        int n)  \n",
    "{ \n",
    "\n",
    "    // Corner Case (Only one row) \n",
    "    if (n == 1)  \n",
    "    { \n",
    "        System.out.print(str); \n",
    "        return; \n",
    "    } \n",
    "    char[] str1 = str.toCharArray(); \n",
    "\n",
    "    // Find length of string \n",
    "    int len = str.length(); \n",
    "\n",
    "    // Create an array of \n",
    "    // strings for all n rows \n",
    "    String[] arr = new String[n]; \n",
    "    Arrays.fill(arr, \"\"); \n",
    "\n",
    "    // Initialize index for \n",
    "    // array of strings arr[] \n",
    "    int row = 0; \n",
    "    boolean down = true; // True if we are moving  \n",
    "    // down in rows, else false \n",
    "\n",
    "    // Travers through \n",
    "    // given string \n",
    "    for (int i = 0; i < len; ++i)  \n",
    "    { \n",
    "        // append current character \n",
    "        // to current row \n",
    "        arr[row] += (str1[i]); \n",
    "\n",
    "        // If last row is reached, \n",
    "        // change direction to 'up' \n",
    "        if (row == n - 1)  \n",
    "        { \n",
    "            down = false; \n",
    "        }  \n",
    "\n",
    "        // If 1st row is reached,  \n",
    "        // change direction to 'down' \n",
    "        else if (row == 0)  \n",
    "        { \n",
    "            down = true; \n",
    "        } \n",
    "\n",
    "        // If direction is down,  \n",
    "        // increment, else decrement \n",
    "        if (down) \n",
    "        { \n",
    "            row++; \n",
    "        }  \n",
    "        else \n",
    "        { \n",
    "            row--; \n",
    "        } \n",
    "    } \n",
    "\n",
    "    // Print concatenation \n",
    "    // of all rows \n",
    "    for (int i = 0; i < n; ++i)  \n",
    "    { \n",
    "        System.out.print(arr[i]); \n",
    "    } \n",
    "} "
   ]
  },
  {
   "cell_type": "code",
   "execution_count": 306,
   "metadata": {},
   "outputs": [
    {
     "name": "stdout",
     "output_type": "stream",
     "text": [
      "GSGSEKFREKEOE"
     ]
    }
   ],
   "source": [
    "// Driver Code \n",
    "public static void main(String[] args) \n",
    "{ \n",
    "    String str = \"GEEKSFORGEEKS\"; \n",
    "    int n = 3; \n",
    "    printZigZagConcat(str, n); \n",
    "} \n",
    "main(args);"
   ]
  },
  {
   "cell_type": "markdown",
   "metadata": {},
   "source": [
    "## **125. KMP Algorithm for Pattern Searching**\n",
    "https://www.geeksforgeeks.org/kmp-algorithm-for-pattern-searching/"
   ]
  },
  {
   "cell_type": "code",
   "execution_count": 307,
   "metadata": {},
   "outputs": [],
   "source": [
    "/*\n",
    "PLEASE CHECK QUESTION LINK FOR BETTER UNDERSTANDING\n",
    "*/"
   ]
  },
  {
   "cell_type": "markdown",
   "metadata": {},
   "source": [
    "## **126. Transform One String to Another using Minimum Number of Given Operation**\n",
    "https://www.geeksforgeeks.org/transform-one-string-to-another-using-minimum-number-of-given-operation/"
   ]
  },
  {
   "cell_type": "code",
   "execution_count": 308,
   "metadata": {},
   "outputs": [],
   "source": [
    "/*\n",
    "Given two strings A and B, the task is to convert A to B if possible. \n",
    "The only operation allowed is to put any character from A and insert it at front. \n",
    "\n",
    "Find if it’s possible to convert the string. If yes, then output minimum no. of operations required for transformation.\n",
    "*/"
   ]
  },
  {
   "cell_type": "code",
   "execution_count": 309,
   "metadata": {},
   "outputs": [],
   "source": [
    "/*\n",
    "Examples:\n",
    "\n",
    "Input:  A = \"ABD\", B = \"BAD\"\n",
    "Output: 1\n",
    "Explanation: Pick B and insert it at front.\n",
    "\n",
    "Input:  A = \"EACBD\", B = \"EABCD\"\n",
    "Output: 3\n",
    "Explanation: Pick B and insert at front, EACBD => BEACD\n",
    "             Pick A and insert at front, BEACD => ABECD\n",
    "             Pick E and insert at front, ABECD => EABCD\n",
    "*/"
   ]
  },
  {
   "cell_type": "code",
   "execution_count": 310,
   "metadata": {},
   "outputs": [],
   "source": [
    "/*\n",
    "Checking whether a string can be transformed to another is simple. \n",
    "We need to check whether both strings have same number of characters and same set of characters. \n",
    "This can be easily done by creating a count array for first string \n",
    "    and checking if second string has same count of every character.\n",
    "\n",
    "How to find minimum number of operations when we are sure that we can transform A to B? \n",
    "    The idea is to start matching from last characters of both strings. \n",
    "    If last characters match, \n",
    "        then our task reduces to n-1 characters. \n",
    "    If last characters don’t match, \n",
    "        then find the position of B’s mismatching character in A. \n",
    "    \n",
    "    The difference between two positions indicates that \n",
    "        these many characters of A must be moved before current character of A.\n",
    "*/"
   ]
  },
  {
   "cell_type": "code",
   "execution_count": 311,
   "metadata": {},
   "outputs": [],
   "source": [
    "/*\n",
    "Below is complete algorithm.\n",
    "\n",
    "1) Find if A can be transformed to B or not by first creating a count array for all characters of A, then checking with B if B has same count for every character.\n",
    "2) Initialize result as 0.\n",
    "2) Start traversing from end of both strings.\n",
    "    a) If current characters of A and B match, i.e., A[i] == B[j]\n",
    "            then do i = i-1 and j = j-1\n",
    "    b) If current characters don’t match, \n",
    "            then search B[j] in remaining A. \n",
    "\n",
    "While searching, keep incrementing result as these characters must be moved ahead for A to B transformation.\n",
    "*/"
   ]
  },
  {
   "cell_type": "code",
   "execution_count": 312,
   "metadata": {},
   "outputs": [],
   "source": [
    "// Function to find minimum number of \n",
    "// operations required to transform \n",
    "// A to B. \n",
    "public static int minOps(String A, String B) \n",
    "{ \n",
    "\n",
    "    // This parts checks whether conversion is \n",
    "    // possible or not \n",
    "    if(A.length() != B.length()) \n",
    "        return -1; \n",
    "\n",
    "    int i, j, res = 0; \n",
    "    int count [] = new int [256]; \n",
    "\n",
    "    // count characters in A \n",
    "\n",
    "    // subtract count for every character in B \n",
    "    for(i = 0; i < A.length(); i++) \n",
    "    { \n",
    "        count[A.charAt(i)]++; \n",
    "        count[B.charAt(i)]--; \n",
    "    } \n",
    "\n",
    "    // Check if all counts become 0 \n",
    "    for(i = 0; i < 256; i++) \n",
    "        if(count[i] != 0) \n",
    "            return -1; \n",
    "\n",
    "    i = A.length() - 1; \n",
    "    j = B.length() - 1; \n",
    "\n",
    "    while(i >= 0) \n",
    "    { \n",
    "        // If there is a mismatch, then  \n",
    "        // keep incrementing result 'res' \n",
    "        // until B[j] is not found in A[0..i] \n",
    "        if(A.charAt(i) != B.charAt(j)) \n",
    "            res++; \n",
    "        else\n",
    "            j--; \n",
    "        i--;          \n",
    "    } \n",
    "    return res;      \n",
    "} "
   ]
  },
  {
   "cell_type": "code",
   "execution_count": 313,
   "metadata": {},
   "outputs": [
    {
     "name": "stdout",
     "output_type": "stream",
     "text": [
      "Minimum number of operations required is 3\n"
     ]
    }
   ],
   "source": [
    "// Driver code \n",
    "public static void main(String[] args)  \n",
    "{ \n",
    "    String A = \"EACBD\"; \n",
    "    String B = \"EABCD\";  \n",
    "\n",
    "    System.out.println(\"Minimum number of \"\n",
    "                + \"operations required is \" \n",
    "                             + minOps(A, B)); \n",
    "} \n",
    "main(args);"
   ]
  },
  {
   "cell_type": "code",
   "execution_count": 314,
   "metadata": {},
   "outputs": [],
   "source": [
    "/*\n",
    "Time Complexity: O(n), \n",
    "please note that i is always decremented (in while loop and in if), and the for loop starts from n-1 and runs while i >= 0.\n",
    "*/"
   ]
  },
  {
   "cell_type": "markdown",
   "metadata": {},
   "source": [
    "## **127. Repeated subsequence of length 2 or more**\n",
    "https://www.geeksforgeeks.org/repeated-subsequence-length-2/"
   ]
  },
  {
   "cell_type": "code",
   "execution_count": 315,
   "metadata": {},
   "outputs": [],
   "source": [
    "/*\n",
    "Given a string, \n",
    "\n",
    "find if there is any subsequence of length 2 or more that repeats itself \n",
    "    such that the two subsequences doesn’t have the same character at the same position, \n",
    "    i.e., any 0’th or 1st character in the two subsequences shouldn’t have the same index in the original string.\n",
    "*/"
   ]
  },
  {
   "cell_type": "code",
   "execution_count": 316,
   "metadata": {},
   "outputs": [],
   "source": [
    "/*\n",
    "Example:\n",
    "\n",
    "Input: ABCABD\n",
    "Output: Repeated Subsequence Exists (A B is repeated) \n",
    "\n",
    "Input: ABBB\n",
    "Output: Repeated Subsequence Exists (B B is repeated)\n",
    "\n",
    "Input: AAB\n",
    "Output: Repeated Subsequence Doesn't Exist (Note that \n",
    "A B cannot be considered as repeating because B is at\n",
    "same position in two subsequences).\n",
    "\n",
    "Input: AABBC\n",
    "Output: Repeated Subsequence Exists (A B is repeated)\n",
    "\n",
    "Input: ABCDACB\n",
    "Output: Repeated Subsequence Exists (A B is repeated)\n",
    "\n",
    "Input: ABCD\n",
    "Output: Repeated Subsequence Doesn't Exist\n",
    "*/"
   ]
  },
  {
   "cell_type": "code",
   "execution_count": 317,
   "metadata": {},
   "outputs": [],
   "source": [
    "/*\n",
    "The problem is classic variation of longest common subsequence problem. \n",
    "Dynamic programming solution takes O(n^2) time and space.\n",
    "*/"
   ]
  },
  {
   "cell_type": "markdown",
   "metadata": {},
   "source": [
    "***https://www.geeksforgeeks.org/longest-repeating-subsequence/***"
   ]
  },
  {
   "cell_type": "code",
   "execution_count": 318,
   "metadata": {},
   "outputs": [],
   "source": [
    "/*\n",
    "In this post, O(n) time and space approach is discussed.\n",
    "\n",
    "The idea is to remove all the non-repeated characters from the string and check if the resultant string is palindrome or not. \n",
    "If the remaining string is palindrome \n",
    "    then it is not repeated, \n",
    "else \n",
    "    there is a repetition. \n",
    "\n",
    "One special case we need to handle for inputs like “AAA”, which are palindrome but their repeated subsequence exists. \n",
    "Repeated subsequence exists for a palindrome string \n",
    "    if it is of odd length and its middle letter is same as left(or right) character.\n",
    "*/"
   ]
  },
  {
   "cell_type": "code",
   "execution_count": 319,
   "metadata": {},
   "outputs": [],
   "source": [
    "static int MAX_CHAR = 256; \n",
    "\n",
    "// A function to check  \n",
    "// if a string str is palindrome \n",
    "public static boolean isPalindrome(String str,  \n",
    "                                   int l, int h)  \n",
    "{ \n",
    "\n",
    "    // l and h are leftmost and rightmost corners of str \n",
    "    // Keep comparing characters while they are same \n",
    "    while(h > l) \n",
    "        if (str.charAt(l++) != str.charAt(h--)) \n",
    "            return false; \n",
    "\n",
    "    return true; \n",
    "} "
   ]
  },
  {
   "cell_type": "code",
   "execution_count": 320,
   "metadata": {},
   "outputs": [],
   "source": [
    "// The main function that checks if repeated \n",
    "// subsequence exists in the string \n",
    "public static boolean check(String str) \n",
    "{  \n",
    "\n",
    "    // Find length of input string  \n",
    "    int n = str.length();  \n",
    "\n",
    "    // Create an array to store all characters  \n",
    "    // and their frequencies in str[]  \n",
    "    int[] freq = new int[MAX_CHAR];  \n",
    "\n",
    "    // Traverse the input string and store frequencies  \n",
    "    // of all characters in freq[] array.  \n",
    "    for (int i = 0; i < n; i++)  \n",
    "    {  \n",
    "        freq[str.charAt(i)]++;  \n",
    "\n",
    "        // If the character count is more than 2  \n",
    "        // we found a repetition  \n",
    "        if (freq[str.charAt(i)] > 2)  \n",
    "            return true;  \n",
    "    }  \n",
    "\n",
    "    // In-place remove non-repeating characters  \n",
    "    // from the string  \n",
    "    int k = 0;  \n",
    "    for (int i = 0; i < n; i++)  \n",
    "        if (freq[str.charAt(i)] > 1)  \n",
    "            str.replace(str.charAt(k++),  \n",
    "                        str.charAt(i));  \n",
    "    str.replace(str.charAt(k), '\\0'); \n",
    "\n",
    "    // check if the resultant string is palindrome  \n",
    "    if (isPalindrome(str, 0, k - 1))  \n",
    "    {  \n",
    "\n",
    "        // special case - if length is odd  \n",
    "        // return true if the middle characer is  \n",
    "        // same as previous one  \n",
    "        if ((k & 1) == 1)  \n",
    "        { \n",
    "\n",
    "            // It is checked so that  \n",
    "            // StringIndexOutOfBounds can be avoided \n",
    "            if (k / 2 >= 1) \n",
    "                return (str.charAt(k / 2) ==  \n",
    "                        str.charAt(k / 2 - 1)); \n",
    "        } \n",
    "\n",
    "        // return false if string is a palindrome  \n",
    "        return false;  \n",
    "    }  \n",
    "\n",
    "    // return true if string is not a palindrome  \n",
    "    return true;  \n",
    "} "
   ]
  },
  {
   "cell_type": "code",
   "execution_count": 321,
   "metadata": {},
   "outputs": [
    {
     "name": "stdout",
     "output_type": "stream",
     "text": [
      "Repeated Subsequence Exists\n"
     ]
    }
   ],
   "source": [
    "// Driver Code \n",
    "public static void main(String[] args) \n",
    "{ \n",
    "    String str = \"ABCABD\"; \n",
    "\n",
    "    if (check(str)) \n",
    "        System.out.println(\"Repeated Subsequence Exists\"); \n",
    "    else\n",
    "        System.out.println(\"Repeated Subsequence\" +  \n",
    "                           \" Doesn't Exists\");  \n",
    "} \n",
    "main(args);"
   ]
  },
  {
   "cell_type": "markdown",
   "metadata": {},
   "source": [
    "## **128. Check if two given strings are isomorphic to each other**\n",
    "https://www.geeksforgeeks.org/check-if-two-given-strings-are-isomorphic-to-each-other/"
   ]
  },
  {
   "cell_type": "code",
   "execution_count": 322,
   "metadata": {},
   "outputs": [],
   "source": [
    "/*\n",
    "Two strings str1 and str2 are called isomorphic if there is a one to one mapping possible for every character of str1 to every character of str2. \n",
    "And all occurrences of every character in ‘str1’ map to same character in ‘str2’\n",
    "*/"
   ]
  },
  {
   "cell_type": "code",
   "execution_count": 323,
   "metadata": {},
   "outputs": [],
   "source": [
    "/*\n",
    "Examples:\n",
    "\n",
    "Input:  str1 = \"aab\", str2 = \"xxy\"\n",
    "Output: True\n",
    "'a' is mapped to 'x' and 'b' is mapped to 'y'.\n",
    "\n",
    "Input:  str1 = \"aab\", str2 = \"xyz\"\n",
    "Output: False\n",
    "One occurrence of 'a' in str1 has 'x' in str2 and \n",
    "other occurrence of 'a' has 'y'.\n",
    "*/"
   ]
  },
  {
   "cell_type": "code",
   "execution_count": 324,
   "metadata": {},
   "outputs": [],
   "source": [
    "/*\n",
    "A Simple Solution \n",
    "    is to consider every character of ‘str1’ and check if all occurrences of it map to same character in ‘str2’. \n",
    "    \n",
    "    Time complexity of this solution is O(n*n).\n",
    "*/"
   ]
  },
  {
   "cell_type": "code",
   "execution_count": 325,
   "metadata": {},
   "outputs": [],
   "source": [
    "/*\n",
    "An Efficient Solution \n",
    "    can solve this problem in O(n) time. \n",
    "The idea is to create an array to store mappings of processed characters.\n",
    "\n",
    "1) If lengths of str1 and str2 are not same, return false.\n",
    "2) Do following for every character in str1 and str2\n",
    "   a) If this character is seen first time in str1, \n",
    "      then current of str2 must have not appeared before.\n",
    "      (i) If current character of str2 is seen, return false.\n",
    "          Mark current character of str2 as visited.\n",
    "      (ii) Store mapping of current characters.\n",
    "   b) Else check if previous occurrence of str1[i] mapped\n",
    "      to same character.\n",
    "*/"
   ]
  },
  {
   "cell_type": "code",
   "execution_count": 326,
   "metadata": {},
   "outputs": [],
   "source": [
    "static int size = 256; \n",
    "\n",
    "// Function returns true if str1 and str2 are ismorphic \n",
    "static boolean areIsomorphic(String str1, String str2) \n",
    "{ \n",
    "    int m = str1.length(); \n",
    "    int n = str2.length(); \n",
    "\n",
    "    // Length of both strings must be same for one to one \n",
    "    // corresponance \n",
    "    if(m != n) \n",
    "        return false; \n",
    "\n",
    "    // To mark visited characters in str2 \n",
    "    Boolean[] marked = new Boolean[size]; \n",
    "    Arrays.fill(marked, Boolean.FALSE); \n",
    "\n",
    "    // To store mapping of every character from str1 to \n",
    "    // that of str2. Initialize all entries of map as -1. \n",
    "    int[] map = new int[size]; \n",
    "    Arrays.fill(map, -1); \n",
    "\n",
    "    // Process all characters one by on \n",
    "    for (int i = 0; i < n; i++) \n",
    "    { \n",
    "        // If current character of str1 is seen first \n",
    "        // time in it. \n",
    "        if (map[str1.charAt(i)] == -1) \n",
    "        { \n",
    "            // If current character of str2 is already \n",
    "            // seen, one to one mapping not possible \n",
    "            if (marked[str2.charAt(i)] == true) \n",
    "                return false; \n",
    "\n",
    "            // Mark current character of str2 as visited \n",
    "            marked[str2.charAt(i)] = true; \n",
    "\n",
    "            // Store mapping of current characters \n",
    "            map[str1.charAt(i)] = str2.charAt(i); \n",
    "        } \n",
    "\n",
    "        // If this is not first appearance of current \n",
    "        // character in str1, then check if previous \n",
    "        // appearance mapped to same character of str2 \n",
    "        else if (map[str1.charAt(i)] != str2.charAt(i)) \n",
    "        return false; \n",
    "    } \n",
    "\n",
    "    return true; \n",
    "} "
   ]
  },
  {
   "cell_type": "code",
   "execution_count": 327,
   "metadata": {},
   "outputs": [
    {
     "name": "stdout",
     "output_type": "stream",
     "text": [
      "true\n",
      "false\n"
     ]
    }
   ],
   "source": [
    "// driver program \n",
    "public static void main (String[] args)  \n",
    "{ \n",
    "    boolean res = areIsomorphic(\"aab\", \"xxy\"); \n",
    "    System.out.println(res); \n",
    "\n",
    "    res = areIsomorphic(\"aab\", \"xyz\"); \n",
    "    System.out.println(res); \n",
    "} \n",
    "main(args);"
   ]
  },
  {
   "cell_type": "markdown",
   "metadata": {},
   "source": [
    "## **129. Find if a given string can be represented from a substring by iterating the substring “n” times**\n",
    "https://www.geeksforgeeks.org/find-given-string-can-represented-substring-iterating-substring-n-times/"
   ]
  },
  {
   "cell_type": "code",
   "execution_count": 328,
   "metadata": {},
   "outputs": [],
   "source": [
    "/*\n",
    "Given a string ‘str’, \n",
    "    check if it can be constructed by taking a substring of it and appending multiple copies of the substring together.\n",
    "*/"
   ]
  },
  {
   "cell_type": "code",
   "execution_count": 329,
   "metadata": {},
   "outputs": [],
   "source": [
    "/*\n",
    "Examples:\n",
    "\n",
    "Input: str = \"abcabcabc\"\n",
    "Output: true\n",
    "The given string is 3 times repetition of \"abc\"\n",
    "\n",
    "Input: str = \"abadabad\"\n",
    "Output: true\n",
    "The given string is 2 times repetition of \"abad\"\n",
    "\n",
    "Input: str = \"aabaabaabaab\"\n",
    "Output: true\n",
    "The given string is 4 times repetition of \"aab\"\n",
    "\n",
    "Input: str = \"abcdabc\"\n",
    "Output: false\n",
    "*/"
   ]
  },
  {
   "cell_type": "code",
   "execution_count": 330,
   "metadata": {},
   "outputs": [],
   "source": [
    "/*\n",
    "There can be many solutions to this problem. \n",
    "The challenging part is to solve the problem in O(n) time. \n",
    "\n",
    "Below is a O(n) algorithm.\n",
    "Let the given string be ‘str’ and length of given string be ‘n’.\n",
    "\n",
    "1) Find length of the longest proper prefix of ‘str’ which is also a suffix. \n",
    "    Let the length of the longest proper prefix suffix be ‘len’. \n",
    "        This can be computed in O(n) time using pre-processing step of KMP string matching algorithm.\n",
    "\n",
    "2) If value of ‘n – len’ divides n (or ‘n % (n-len)’ is 0), \n",
    "        then return true, \n",
    "    else \n",
    "        return false.\n",
    "\n",
    "    In case of ‘true’ , \n",
    "        the substring ‘str[0..n-len-1]’ is the substring that repeats n%(n-len) times.\n",
    "*/"
   ]
  },
  {
   "cell_type": "code",
   "execution_count": 331,
   "metadata": {},
   "outputs": [],
   "source": [
    "/*\n",
    "Let us take few examples.\n",
    "\n",
    "Input: str = “ABCDABCD”, n = 8 (Number of characters in ‘str’)\n",
    "The value of len is 4 (“ABCD” is the longest substring which is both prefix and suffix)\n",
    "Since (n-len) divides n, the answer is true.\n",
    "\n",
    "Input: str = “ABCDABC”, n = 7 (Number of characters in ‘str’)\n",
    "The value of len is 3 (“ABC” is the longest substring which is both prefix and suffix)\n",
    "Since (n-len) doesn’t divides n, the answer is false.\n",
    "\n",
    "Input: str = “ABCABCABCABCABC”, n = 15 (Number of characters in ‘str’)\n",
    "The value of len is 12 (“ABCABCABCABC” is the longest substring which is both prefix and suffix)\n",
    "Since (n-len) divides n, the answer is true.\n",
    "*/"
   ]
  },
  {
   "cell_type": "code",
   "execution_count": 332,
   "metadata": {},
   "outputs": [],
   "source": [
    "/*\n",
    "How does this work?\n",
    "\n",
    "    length of longest proper prefix-suffix (or len) is always between 0 to n-1. \n",
    "    If len is n-1, \n",
    "        then all characters in string are same. \n",
    "    \n",
    "For example len is 3 for “AAAA”. \n",
    "    If len is n-2 and n is even, \n",
    "        then two characters in string repeat n/2 times. \n",
    "\n",
    "For example “ABABABAB”, length of lps is 6. \n",
    "    The reason is if the first n-2 characters are same as last n-2 character, \n",
    "        the starting from the first pair, every pair of characters is identical to the next pair. \n",
    "\n",
    "The following diagram demonstrates same for substring of length 4.\n",
    "*/"
   ]
  },
  {
   "cell_type": "markdown",
   "metadata": {},
   "source": [
    "<img src = \"https://www.geeksforgeeks.org/wp-content/uploads/isRepeat.png\"/>"
   ]
  },
  {
   "cell_type": "code",
   "execution_count": 333,
   "metadata": {},
   "outputs": [],
   "source": [
    "// A utility function to fill lps[] or compute  \n",
    "// prefix funcrion used in KMP string matching  \n",
    "// algorithm. Refer \n",
    "// https://www.geeksforgeeks.org/archives/11902  \n",
    "// for details \n",
    "static void computeLPSArray(String str, int M,  \n",
    "                                     int lps[]) \n",
    "{    \n",
    "    // lenght of the previous  \n",
    "    // longest prefix suffix \n",
    "    int len = 0;  \n",
    "      \n",
    "    int i; \n",
    "  \n",
    "    lps[0] = 0; // lps[0] is always 0 \n",
    "    i = 1; \n",
    "  \n",
    "    // the loop calculates lps[i]  \n",
    "    // for i = 1 to M-1 \n",
    "    while (i < M) \n",
    "    {\n",
    "        if (str.charAt(i) == str.charAt(len)) \n",
    "        { \n",
    "            len++; \n",
    "            lps[i] = len; \n",
    "            i++; \n",
    "        } \n",
    "        else // (pat[i] != pat[len]) \n",
    "        { \n",
    "            if (len != 0) \n",
    "            { \n",
    "                // This is tricky. Consider the  \n",
    "                // example AAACAAAA and i = 7. \n",
    "                len = lps[len-1]; \n",
    "  \n",
    "                // Also, note that we do  \n",
    "                // not increment i here \n",
    "            } \n",
    "            else // if (len == 0) \n",
    "            { \n",
    "                lps[i] = 0; \n",
    "                i++; \n",
    "            } \n",
    "        } \n",
    "    } \n",
    "} "
   ]
  },
  {
   "cell_type": "code",
   "execution_count": 334,
   "metadata": {},
   "outputs": [],
   "source": [
    "// Returns true if str is repetition of  \n",
    "// one of its substrings else return false. \n",
    "static boolean isRepeat(String str) \n",
    "{ \n",
    "    // Find length of string and create  \n",
    "    // an array to store lps values used in KMP \n",
    "    int n = str.length(); \n",
    "    int lps[] = new int[n]; \n",
    "  \n",
    "    // Preprocess the pattern (calculate lps[] array) \n",
    "    computeLPSArray(str, n, lps); \n",
    "  \n",
    "    // Find length of longest suffix  \n",
    "    // which is also prefix of str. \n",
    "    int len = lps[n-1]; \n",
    "  \n",
    "    // If there exist a suffix which is also  \n",
    "    // prefix AND Length of the remaining substring \n",
    "    // divides total length, then str[0..n-len-1]  \n",
    "    // is the substring that repeats n/(n-len)   \n",
    "    // times (Readers can print substring and  \n",
    "    // value of n/(n-len) for more clarity. \n",
    "    return (len > 0 && n%(n-len) == 0)? true: false; \n",
    "} "
   ]
  },
  {
   "cell_type": "code",
   "execution_count": 335,
   "metadata": {},
   "outputs": [
    {
     "name": "stdout",
     "output_type": "stream",
     "text": [
      "True\n",
      "True\n",
      "True\n",
      "False\n",
      "True\n",
      "True\n",
      "False\n"
     ]
    }
   ],
   "source": [
    "public static void main(String[] args) \n",
    "{ \n",
    "    String txt[] = {\"ABCABC\", \"ABABAB\", \"ABCDABCD\",  \n",
    "                    \"GEEKSFORGEEKS\", \"GEEKGEEK\",  \n",
    "                    \"AAAACAAAAC\", \"ABCDABC\"}; \n",
    "    int n = txt.length; \n",
    "    for (int i = 0; i < n; i++) { \n",
    "        if(isRepeat(txt[i]) == true) \n",
    "            System.out.println(\"True\"); \n",
    "        else\n",
    "            System.out.println(\"False\"); \n",
    "    } \n",
    "}\n",
    "main(args);"
   ]
  },
  {
   "cell_type": "code",
   "execution_count": 336,
   "metadata": {},
   "outputs": [],
   "source": [
    "/*\n",
    "Time Complexity: \n",
    "Time complexity of the above solution is O(n) \n",
    "    as it uses KMP preprocessing algorithm which is linear time algorithm.\n",
    "*/"
   ]
  },
  {
   "cell_type": "markdown",
   "metadata": {},
   "source": [
    "## **130. Recursively print all sentences that can be formed from list of word lists**\n",
    "https://www.geeksforgeeks.org/recursively-print-all-sentences-that-can-be-formed-from-list-of-word-lists/"
   ]
  },
  {
   "cell_type": "code",
   "execution_count": 337,
   "metadata": {},
   "outputs": [],
   "source": [
    "/*\n",
    "Given a list of word lists How to print all sentences possible taking one word from a list at a time via recursion?\n",
    "*/"
   ]
  },
  {
   "cell_type": "code",
   "execution_count": 338,
   "metadata": {},
   "outputs": [],
   "source": [
    "/*\n",
    "Example:\n",
    "\n",
    "Input: {{\"you\", \"we\"},\n",
    "        {\"have\", \"are\"},\n",
    "        {\"sleep\", \"eat\", \"drink\"}}\n",
    "\n",
    "Output:\n",
    "  you have sleep\n",
    "  you have eat\n",
    "  you have drink\n",
    "  you are sleep\n",
    "  you are eat\n",
    "  you are drink\n",
    "  we have sleep\n",
    "  we have eat\n",
    "  we have drink\n",
    "  we are sleep\n",
    "  we are eat\n",
    "  we are drink \n",
    "*/"
   ]
  },
  {
   "cell_type": "code",
   "execution_count": 339,
   "metadata": {},
   "outputs": [],
   "source": [
    "/*\n",
    "The idea is based on simple depth first traversal. \n",
    "We start from every word of first list as first word of an output sentence, \n",
    "then recur for the remaining lists.\n",
    "*/"
   ]
  },
  {
   "cell_type": "markdown",
   "metadata": {},
   "source": [
    "***https://ideone.com/T8syoO***"
   ]
  },
  {
   "cell_type": "markdown",
   "metadata": {},
   "source": [
    "## **131. Rabin-Karp Algorithm for Pattern Searching**\n",
    "https://www.geeksforgeeks.org/rabin-karp-algorithm-for-pattern-searching/"
   ]
  },
  {
   "cell_type": "code",
   "execution_count": 340,
   "metadata": {},
   "outputs": [],
   "source": [
    "/*\n",
    "PLEASE CHECK QUESTION LINK FOR BETTER UNDERSTANDING\n",
    "*/"
   ]
  }
 ],
 "metadata": {
  "kernelspec": {
   "display_name": "Java",
   "language": "java",
   "name": "java"
  },
  "language_info": {
   "codemirror_mode": "java",
   "file_extension": ".jshell",
   "mimetype": "text/x-java-source",
   "name": "Java",
   "pygments_lexer": "java",
   "version": "11.0.6+8-LTS"
  },
  "toc": {
   "base_numbering": 1,
   "nav_menu": {},
   "number_sections": true,
   "sideBar": true,
   "skip_h1_title": false,
   "title_cell": "Table of Contents",
   "title_sidebar": "Contents",
   "toc_cell": false,
   "toc_position": {},
   "toc_section_display": true,
   "toc_window_display": true
  }
 },
 "nbformat": 4,
 "nbformat_minor": 2
}
