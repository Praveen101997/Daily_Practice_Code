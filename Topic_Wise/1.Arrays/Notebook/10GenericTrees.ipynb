{
 "cells": [
  {
   "cell_type": "markdown",
   "metadata": {},
   "source": [
    "# --------------------------------GENERIC TREE ------------------------------\n",
    "**==============================================================================**\n",
    "# Assembled By - Praveen Kumar Sharma\n",
    "# Source - GeeksForGeeks\n",
    "**==============================================================================**"
   ]
  },
  {
   "cell_type": "code",
   "execution_count": 1,
   "metadata": {},
   "outputs": [],
   "source": [
    "import java.util.*;\n",
    "import java.io.*;\n",
    "import java.util.Arrays;\n",
    "String[] args =new String[0];"
   ]
  },
  {
   "cell_type": "markdown",
   "metadata": {},
   "source": [
    "## **295. Check mirror in n-ary tree**\n",
    "https://www.geeksforgeeks.org/check-mirror-n-ary-tree/"
   ]
  },
  {
   "cell_type": "code",
   "execution_count": 2,
   "metadata": {},
   "outputs": [],
   "source": [
    "/*\n",
    "Given two n-ary trees, \n",
    "the task is to check if they are mirror of each other or not. \n",
    "\n",
    "Print “Yes” \n",
    "    if they are mirror of each other \n",
    "else \n",
    "    “No”.\n",
    "*/"
   ]
  },
  {
   "cell_type": "code",
   "execution_count": 3,
   "metadata": {},
   "outputs": [],
   "source": [
    "/*\n",
    "Examples:\n",
    "\n",
    "Input : Node = 3, Edges = 2\n",
    "Edge 1 of first N-ary: 1 2\n",
    "Edge 2 of first N-ary: 1 3\n",
    "Edge 1 of second N-ary: 1 2\n",
    "Edge 2 of second N-ary: 1 3\n",
    "Output : Yes\n",
    "\n",
    "\n",
    "Input : Node = 3, Edges = 2\n",
    "Edge 1 of first N-ary: 1 2 \n",
    "Edge 2 of first N-ary: 1 3\n",
    "Edge 1 of second N-ary: 1 2\n",
    "Edge 2 of second N-ary: 1 3\n",
    "Output : No\n",
    "*/"
   ]
  },
  {
   "cell_type": "markdown",
   "metadata": {},
   "source": [
    "<img src = \"https://media.geeksforgeeks.org/wp-content/uploads/mirrorimage-1.png\"/>"
   ]
  },
  {
   "cell_type": "markdown",
   "metadata": {},
   "source": [
    "**Reference :**  ***https://practice.geeksforgeeks.org/problems/check-mirror-in-n-ary-tree/0***"
   ]
  },
  {
   "cell_type": "code",
   "execution_count": 4,
   "metadata": {},
   "outputs": [],
   "source": [
    "/*\n",
    "The idea is to use Queue and Stack to check if given N-ary tree are mirror of each other or not.\n",
    "\n",
    "Let first n-ary tree be t1 and second n-ary tree is t2. \n",
    "For each node in t1, \n",
    "    make stack and push its connected node in it. \n",
    "Now, for each node in t2, \n",
    "    make queue and push its connected node in it.\n",
    "Now, for each corresponding node do following:\n",
    "\n",
    "  While stack and Queue is not empty.\n",
    "  a = top element of stack;\n",
    "  b = front of stack;\n",
    "  if (a != b)\n",
    "    return false;\n",
    "  pop element from stack and queue.\n",
    "*/"
   ]
  },
  {
   "cell_type": "markdown",
   "metadata": {},
   "source": [
    "***https://ideone.com/eDpUrl***"
   ]
  },
  {
   "cell_type": "markdown",
   "metadata": {},
   "source": [
    "## **296. Serialize and Deserialize an N-ary Tree**\n",
    "https://www.geeksforgeeks.org/serialize-deserialize-n-ary-tree/"
   ]
  },
  {
   "cell_type": "code",
   "execution_count": 5,
   "metadata": {},
   "outputs": [],
   "source": [
    "/*\n",
    "Given an N-ary tree where every node has at-most N children. \n",
    "\n",
    "How to serialize and deserialze it? \n",
    "    Serialization is to store tree in a file so that it can be later restored. \n",
    "        The structure of tree must be maintained. \n",
    "    Deserialization is reading tree back from file.\n",
    "*/"
   ]
  },
  {
   "cell_type": "markdown",
   "metadata": {},
   "source": [
    "**Related Link :** ***https://www.geeksforgeeks.org/serialize-deserialize-binary-tree/***"
   ]
  },
  {
   "cell_type": "code",
   "execution_count": 6,
   "metadata": {},
   "outputs": [],
   "source": [
    "/*\n",
    "In an N-ary tree, \n",
    "    there are no designated left and right children. \n",
    "    An N-ary tree is represented by storing an array or list of child pointers with every node.\n",
    "\n",
    "The idea is to store an ‘end of children’ marker with every node. \n",
    "    The following diagram shows serialization where ‘)’ is used as end of children marker.\n",
    "*/"
   ]
  },
  {
   "cell_type": "markdown",
   "metadata": {},
   "source": [
    "<img src=  \"https://www.geeksforgeeks.org/wp-content/uploads/serialize-and-deserialize.png\"/>"
   ]
  },
  {
   "cell_type": "markdown",
   "metadata": {},
   "source": [
    "***https://ideone.com/SV7Gnh***"
   ]
  },
  {
   "cell_type": "markdown",
   "metadata": {},
   "source": [
    "## **297. Immediate Smaller element in an N-ary Tree**\n",
    "https://www.geeksforgeeks.org/immediate-smaller-element-n-ary-tree/"
   ]
  },
  {
   "cell_type": "code",
   "execution_count": 7,
   "metadata": {},
   "outputs": [],
   "source": [
    "/*\n",
    "Given an element x, task is to find the value of its immediate smaller element.\n",
    "*/"
   ]
  },
  {
   "cell_type": "markdown",
   "metadata": {},
   "source": [
    "<img src = \"https://media.geeksforgeeks.org/wp-content/uploads/sumGenericTrees-1.png\"/>"
   ]
  },
  {
   "cell_type": "code",
   "execution_count": 8,
   "metadata": {},
   "outputs": [],
   "source": [
    "/*\n",
    "Example :\n",
    "\n",
    "Input : \n",
    "    x = 30 (for above tree)\n",
    "Output : \n",
    "    Immediate smaller element is 25\n",
    "Explanation : \n",
    "    Elements 2, 15, 20 and 25 are smaller than x i.e, 30, \n",
    "    but 25 is the immediate smaller element and hence the answer.\n",
    "*/"
   ]
  },
  {
   "cell_type": "code",
   "execution_count": 9,
   "metadata": {},
   "outputs": [],
   "source": [
    "/*\n",
    "Time Complexity : O(N), \n",
    "    where N is the number of nodes in N-ary Tree.\n",
    "Auxiliary Space : O(N), \n",
    "    for recursive call(worst case when a node has N number of childs)\n",
    "*/"
   ]
  },
  {
   "cell_type": "code",
   "execution_count": 10,
   "metadata": {},
   "outputs": [],
   "source": [
    "/*\n",
    "Approach :\n",
    "\n",
    "1. Let res be the resultant node.\n",
    "2. Initialize the resultant Node as NULL.\n",
    "3. For every Node, \n",
    "        check if data of root is greater than res, but less than x. \n",
    "            if yes, \n",
    "                update res.\n",
    "4. Recursively do the same for all nodes of the given Generic Tree.\n",
    "5. Return res, and res->key would be the immediate smaller element.\n",
    "*/"
   ]
  },
  {
   "cell_type": "markdown",
   "metadata": {},
   "source": [
    "***https://ideone.com/dLBK7m***"
   ]
  },
  {
   "cell_type": "markdown",
   "metadata": {},
   "source": [
    "***https://youtu.be/sr06_O9uYQc***"
   ]
  },
  {
   "cell_type": "markdown",
   "metadata": {},
   "source": [
    "## **301. Second Largest element in n-ary tree**\n",
    "https://www.geeksforgeeks.org/second-largest-element-n-ary-tree/"
   ]
  },
  {
   "cell_type": "code",
   "execution_count": 11,
   "metadata": {},
   "outputs": [],
   "source": [
    "/*\n",
    "Given an N-ary tree, \n",
    "find and return the node with second largest value in the given tree. \n",
    "Return NULL if no node with required value is present.\n",
    "\n",
    "For example, in the given tree\n",
    "        Second largest node is 20.\n",
    "*/"
   ]
  },
  {
   "cell_type": "markdown",
   "metadata": {},
   "source": [
    "<img src = \"https://media.geeksforgeeks.org/wp-content/uploads/BST_LCA.gif\"/>"
   ]
  },
  {
   "cell_type": "code",
   "execution_count": 12,
   "metadata": {},
   "outputs": [],
   "source": [
    "/*\n",
    "A simple solution \n",
    "\n",
    "    is to traverse the array twice.\n",
    "In the first traversal \n",
    "    find the maximum value node. \n",
    "In the second traversal \n",
    "    find the greatest element node less than the element obtained in first traversal. \n",
    "    \n",
    "The time complexity of this solution is O(n).\n",
    "*/"
   ]
  },
  {
   "cell_type": "code",
   "execution_count": 13,
   "metadata": {},
   "outputs": [],
   "source": [
    "/*\n",
    "An Efficient Solution \n",
    "    can be to find the second largest element in a single traversal.\n",
    "\n",
    "Below is the complete algorithm for doing this:\n",
    "\n",
    "1) Initialize two nodes first and second to NULL as,\n",
    "   first = second = NULL\n",
    "2) Start traversing the tree,\n",
    "   a) If the current node data say root->key is greater\n",
    "      than first->key then update first and second as,\n",
    "      second = first\n",
    "      first = root\n",
    "   b) If the current node data is in between first and \n",
    "      second, then update second to store the value\n",
    "      of current node as\n",
    "        second = root\n",
    "3) Return the node stored in second.\n",
    "*/"
   ]
  },
  {
   "cell_type": "markdown",
   "metadata": {},
   "source": [
    "***https://ideone.com/CHgTEp***"
   ]
  },
  {
   "cell_type": "markdown",
   "metadata": {},
   "source": [
    "## **302. Node having maximum sum of immediate children and itself in n-ary tree**\n",
    "https://www.geeksforgeeks.org/node-maximum-sum-immediate-children-n-ary-tree/"
   ]
  },
  {
   "cell_type": "code",
   "execution_count": 14,
   "metadata": {},
   "outputs": [],
   "source": [
    "/*\n",
    "Given an N-Ary tree, \n",
    "find and return the node for which sum of data of all children and the node itself is maximum. \n",
    "In the sum, data of node itself and data of its immediate children is to be taken.\n",
    "*/"
   ]
  },
  {
   "cell_type": "code",
   "execution_count": 15,
   "metadata": {},
   "outputs": [],
   "source": [
    "/*\n",
    "For example in the given tree,\n",
    "    maxSum Node = 4 with maximum sum of 28\n",
    "*/"
   ]
  },
  {
   "cell_type": "markdown",
   "metadata": {},
   "source": [
    "<img src = \"https://media.geeksforgeeks.org/wp-content/uploads/maxsum-1.png\"/>"
   ]
  },
  {
   "cell_type": "code",
   "execution_count": 16,
   "metadata": {},
   "outputs": [],
   "source": [
    "/*\n",
    "The idea is we will maintain \n",
    "    a integer variable maxsum which contains the maximum sum yet, \n",
    "    and a resnode node pointer which points to the node with maximum sum.\n",
    "Traverse the tree and maintain the sum of root and data of all its immediate children in currsum integer variable \n",
    "and update the maxsum variable accordingly.\n",
    "*/"
   ]
  },
  {
   "cell_type": "code",
   "execution_count": 17,
   "metadata": {},
   "outputs": [],
   "source": [
    "// Structure of a node of an n-ary tree  \n",
    "static class Node  \n",
    "{  \n",
    "    int key;  \n",
    "    Vector<Node> child; \n",
    "    Node() \n",
    "    { \n",
    "        child = new Vector<Node>(); \n",
    "    } \n",
    "};  \n",
    "  \n",
    "// Utility function to create a new tree node  \n",
    "static Node newNode(int key)  \n",
    "{  \n",
    "    Node temp = new Node();  \n",
    "    temp.key = key;  \n",
    "    return temp;  \n",
    "}  \n",
    "  \n",
    "static int maxsum; \n",
    "  \n",
    "// resultant node with max sum of children  \n",
    "// and node  \n",
    "static Node resNode; \n",
    "  \n",
    "// Helper function to find the node  \n",
    "static void maxSumUtil(Node root)  \n",
    "{  \n",
    "    // Base Case  \n",
    "    if (root == null)  \n",
    "        return;  \n",
    "  \n",
    "    // curr contains the sum of the root and  \n",
    "    // its children  \n",
    "    int currsum = root.key;  \n",
    "  \n",
    "    // total no of children  \n",
    "    int count = root.child.size();  \n",
    "  \n",
    "    // for every child call recursively  \n",
    "    for (int i = 0; i < count; i++) \n",
    "    {  \n",
    "        currsum += root.child.get(i).key;  \n",
    "        maxSumUtil(root.child.get(i));  \n",
    "    }  \n",
    "  \n",
    "    // if curr is greater than sum, update it  \n",
    "    if (currsum > maxsum) \n",
    "    {  \n",
    "  \n",
    "        // resultant node  \n",
    "        resNode = root;  \n",
    "        maxsum = currsum;  \n",
    "    }  \n",
    "    return;  \n",
    "}  \n",
    "  \n",
    "// Function to find the node having max sum of  \n",
    "// children and node  \n",
    "static int maxSum(Node root)  \n",
    "{  \n",
    "      \n",
    "    // sum of node and its children  \n",
    "    int maxsum = 0;  \n",
    "  \n",
    "    maxSumUtil(root);  \n",
    "  \n",
    "    // return the key of resultant node  \n",
    "    return resNode.key;  \n",
    "}  "
   ]
  },
  {
   "cell_type": "code",
   "execution_count": 18,
   "metadata": {},
   "outputs": [
    {
     "name": "stdout",
     "output_type": "stream",
     "text": [
      "4"
     ]
    }
   ],
   "source": [
    "// Driver code  \n",
    "public static void main(String args[]) \n",
    "{  \n",
    "    /* Let us create below tree  \n",
    "                1  \n",
    "            / | \\  \n",
    "            2 3 4  \n",
    "        / \\ / | \\ \\  \n",
    "        5 6 7 8 9 10  \n",
    "    */\n",
    "  \n",
    "    Node root = newNode(1);  \n",
    "    (root.child).add(newNode(2));  \n",
    "    (root.child).add(newNode(3));  \n",
    "    (root.child).add(newNode(4));  \n",
    "    (root.child.get(0).child).add(newNode(5));  \n",
    "    (root.child.get(0).child).add(newNode(6));  \n",
    "    (root.child.get(2).child).add(newNode(5));  \n",
    "    (root.child.get(2).child).add(newNode(6));  \n",
    "    (root.child.get(2).child).add(newNode(6));  \n",
    "  \n",
    "    System.out.print( maxSum(root) );  \n",
    "} \n",
    "main(args);"
   ]
  },
  {
   "cell_type": "markdown",
   "metadata": {},
   "source": [
    "***https://youtu.be/bo3IUFopia8***"
   ]
  },
  {
   "cell_type": "markdown",
   "metadata": {},
   "source": [
    "## **303. Given a n-ary tree, count number of nodes which have more number of children than parents**\n",
    "https://www.geeksforgeeks.org/given-n-ary-tree-count-number-nodes-number-children-parent/"
   ]
  },
  {
   "cell_type": "code",
   "execution_count": 19,
   "metadata": {},
   "outputs": [],
   "source": [
    "/*\n",
    "Given a N-ary tree represented as adjacency list,\n",
    "we need to write a program to count all such nodes in this tree which has more number of children than its parent.\n",
    "*/"
   ]
  },
  {
   "cell_type": "markdown",
   "metadata": {},
   "source": [
    "<img src = \"https://media.geeksforgeeks.org/wp-content/uploads/n-ary-tree.png\"/>"
   ]
  },
  {
   "cell_type": "code",
   "execution_count": 20,
   "metadata": {},
   "outputs": [],
   "source": [
    "/*\n",
    "In the above tree, \n",
    "the count will be 1 as there is\n",
    "only one such node which is ‘2’ which has more number of children than its parent. \n",
    "2 has three children (4, 5 and 6) whereas its parent, 1 has only two children (2 and 3).\n",
    "*/"
   ]
  },
  {
   "cell_type": "code",
   "execution_count": 21,
   "metadata": {},
   "outputs": [],
   "source": [
    "/*\n",
    "Time Complexity: O( n ) , where n is the number of nodes in the tree.\n",
    "\n",
    "--We can solve this problem using both BFS and DFS algorithms. \n",
    "     We will explain here in details about how to solve this problem using BFS algorithm.\n",
    "--As the tree is represented using adjacency list representation.\n",
    "     So, for any node say ‘u’ the number of children of this node can be given as adj[u].size().\n",
    "--Now the idea is to apply BFS on the given tree and \n",
    "     while traversing the children of a node ‘u’ say ‘v’ we will simply check is adj[v].size() > adj[u].size().\n",
    "\n",
    "Below is the implementation of above idea:\n",
    "*/"
   ]
  },
  {
   "cell_type": "code",
   "execution_count": 22,
   "metadata": {},
   "outputs": [
    {
     "name": "stdout",
     "output_type": "stream",
     "text": [
      "1"
     ]
    }
   ],
   "source": [
    "// function to count number of nodes \n",
    "// which has more children than its parent \n",
    "static int countNodes(Vector<Integer> adj[], int root) \n",
    "{  \n",
    "    int count = 0; \n",
    "  \n",
    "    // queue for applying BFS \n",
    "    Queue<Integer> q = new LinkedList<>(); \n",
    "  \n",
    "    // BFS algorithm \n",
    "    q.add(root); \n",
    "      \n",
    "    while (!q.isEmpty()) \n",
    "    { \n",
    "        int node = q.peek(); \n",
    "        q.remove(); \n",
    "  \n",
    "        // traverse children of node \n",
    "        for( int i=0;i<adj[node].size();i++) \n",
    "        {  \n",
    "            // children of node \n",
    "            int children = adj[node].get(i); \n",
    "  \n",
    "            // if number of childs of children \n",
    "            // is greater than number of childs \n",
    "            // of node, then increment count \n",
    "            if (adj[children].size() > adj[node].size()) \n",
    "                count++; \n",
    "            q.add(children); \n",
    "        } \n",
    "    } \n",
    "    return count; \n",
    "} \n",
    "  \n",
    "// Driver code \n",
    "public static void main(String[] args) \n",
    "{  \n",
    "    // adjacency list for n-array tree \n",
    "    Vector<Integer> []adj = new Vector[10]; \n",
    "    for(int i= 0; i < 10 ; i++) { \n",
    "        adj[i] = new Vector<>(); \n",
    "    } \n",
    "      \n",
    "    // conn array tree as shown \n",
    "    // in above diagram \n",
    "    adj[1].add(2); \n",
    "    adj[1].add(3); \n",
    "    adj[2].add(4); \n",
    "    adj[2].add(5); \n",
    "    adj[2].add(6); \n",
    "    adj[3].add(9); \n",
    "    adj[5].add(7); \n",
    "    adj[5].add(8); \n",
    "  \n",
    "    int root = 1; \n",
    "  \n",
    "    System.out.print(countNodes(adj, root)); \n",
    "} \n",
    "main(args);"
   ]
  },
  {
   "cell_type": "markdown",
   "metadata": {},
   "source": [
    "***https://youtu.be/7lB1zyIbCN0**"
   ]
  },
  {
   "cell_type": "markdown",
   "metadata": {},
   "source": [
    "## **304. Construct the full k-ary tree from its preorder traversal**\n",
    "https://www.geeksforgeeks.org/construct-full-k-ary-tree-preorder-traversal/"
   ]
  },
  {
   "cell_type": "code",
   "execution_count": 23,
   "metadata": {},
   "outputs": [],
   "source": [
    "/*\n",
    "Given an array which contains the preorder traversal of full k-ary tree, \n",
    "construct the full k-ary tree and print its postorder traversal. \n",
    "A full k-ary tree is a tree where each node has either 0 or k children.\n",
    "*/"
   ]
  },
  {
   "cell_type": "code",
   "execution_count": 24,
   "metadata": {},
   "outputs": [],
   "source": [
    "/*\n",
    "Examples:\n",
    "\n",
    "Input : preorder[] = {1, 2, 5, 6, 7, \n",
    "                     3, 8, 9, 10, 4}\n",
    "        k = 3\n",
    "Output : Postorder traversal of constructed \n",
    "         full k-ary tree is: 5 6 7 2 8 9 10 \n",
    "         3 4 1 \n",
    "         Tree formed is:         1\n",
    "                             /   |   \\\n",
    "                           2     3    4\n",
    "                          /|\\   /|\\\n",
    "                         5 6 7 8 9 10\n",
    "\n",
    "Input : preorder[] = {1, 2, 5, 6, 7, 3, 4}\n",
    "        k = 3 \n",
    "Output : Postorder traversal of constructed \n",
    "         full k-ary tree is: 5 6 7 2 3 4 1\n",
    "         Tree formed is:        1\n",
    "                             /  |  \\\n",
    "                           2    3   4\n",
    "                          /|\\   \n",
    "                         5 6 7 \n",
    "*/"
   ]
  },
  {
   "cell_type": "markdown",
   "metadata": {},
   "source": [
    "**Related Link :**  ***https://www.geeksforgeeks.org/construct-a-special-tree-from-given-preorder-traversal/***"
   ]
  },
  {
   "cell_type": "code",
   "execution_count": 25,
   "metadata": {},
   "outputs": [],
   "source": [
    "/*\n",
    "In Preorder traversal, \n",
    "    first root node is processed then followed by the left subtree and right subtree. \n",
    "Because of this, \n",
    "    to construct a full k-ary tree, \n",
    "        we just need to keep on creating the nodes without bothering about the previous constructed nodes. \n",
    "        We can use this to build the tree recursively.\n",
    "Following are the steps to solve the problem:\n",
    "1. Find the height of the tree.\n",
    "2. Traverse the preorder array and recursively add each node\n",
    "*/"
   ]
  },
  {
   "cell_type": "code",
   "execution_count": 26,
   "metadata": {},
   "outputs": [
    {
     "name": "stdout",
     "output_type": "stream",
     "text": [
      "Postorder traversal of constructed full k-ary tree is: \n",
      "5 6 7 2 8 9 10 3 4 1 \n"
     ]
    }
   ],
   "source": [
    "// Structure of a node of an n-ary tree \n",
    "static class Node  \n",
    "{ \n",
    "    int key; \n",
    "    Vector<Node> child; \n",
    "}; \n",
    "  \n",
    "// Utility function to create a new tree  \n",
    "// node with k children \n",
    "static Node newNode(int value) \n",
    "{ \n",
    "    Node nNode = new Node(); \n",
    "    nNode.key = value; \n",
    "    nNode.child= new Vector<Node>(); \n",
    "    return nNode; \n",
    "} \n",
    "  \n",
    "static int ind; \n",
    "  \n",
    "// Function to build full k-ary tree \n",
    "static Node BuildKaryTree(int A[], int n,  \n",
    "                          int k, int h) \n",
    "{ \n",
    "    // For null tree \n",
    "    if (n <= 0) \n",
    "        return null; \n",
    "  \n",
    "    Node nNode = newNode(A[ind]); \n",
    "    if (nNode == null) \n",
    "    { \n",
    "        System.out.println(\"Memory error\" ); \n",
    "        return null; \n",
    "    } \n",
    "  \n",
    "    // For adding k children to a node \n",
    "    for (int i = 0; i < k; i++) \n",
    "    { \n",
    "  \n",
    "        // Check if ind is in range of array \n",
    "        // Check if height of the tree is greater than 1 \n",
    "        if (ind < n - 1 && h > 1)  \n",
    "        { \n",
    "            ind++; \n",
    "  \n",
    "            // Recursively add each child \n",
    "            nNode.child.add(BuildKaryTree(A, n, k, h - 1)); \n",
    "        }  \n",
    "        else\n",
    "        { \n",
    "            nNode.child.add(null); \n",
    "        } \n",
    "    } \n",
    "    return nNode; \n",
    "} \n",
    "  \n",
    "// Function to find the height of the tree \n",
    "static Node BuildKaryTree_1(int[] A, int n, int k, int in) \n",
    "{ \n",
    "    int height = (int)Math.ceil(Math.log((double)n * (k - 1) + 1) /  \n",
    "                                Math.log((double)k)); \n",
    "    ind = in; \n",
    "    return BuildKaryTree(A, n, k, height); \n",
    "} \n",
    "  \n",
    "// Function to print postorder traversal of the tree \n",
    "static void postord(Node root, int k) \n",
    "{ \n",
    "    if (root == null) \n",
    "        return; \n",
    "    for (int i = 0; i < k; i++) \n",
    "        postord(root.child.get(i), k); \n",
    "    System.out.print(root.key + \" \"); \n",
    "} \n",
    "  \n",
    "// Driver Code \n",
    "public static void main(String args[]) \n",
    "{ \n",
    "    int ind = 0; \n",
    "    int k = 3, n = 10; \n",
    "    int preorder[] = { 1, 2, 5, 6, 7, 3, 8, 9, 10, 4 }; \n",
    "    Node root = BuildKaryTree_1(preorder, n, k, ind); \n",
    "    System.out.println(\"Postorder traversal of \" +  \n",
    "                       \"constructed full k-ary tree is: \"); \n",
    "    postord(root, k); \n",
    "    System.out.println(); \n",
    "} \n",
    "main(args);"
   ]
  },
  {
   "cell_type": "markdown",
   "metadata": {},
   "source": [
    "## **305. Creating a tree with Left-Child Right-Sibling Representation**\n",
    "https://www.geeksforgeeks.org/creating-tree-left-child-right-sibling-representation/"
   ]
  },
  {
   "cell_type": "code",
   "execution_count": 27,
   "metadata": {},
   "outputs": [],
   "source": [
    "/*\n",
    "Left-Child Right-Sibling Representation \n",
    "    is a different representation of an n-ary tree\n",
    "    where instead of holding a reference to each and every child node,\n",
    "        a node holds just two references,\n",
    "            --first a reference to it’s first child, \n",
    "            --and the other to it’s immediate next sibling. \n",
    "        This new transformation not only removes the need of advance knowledge of the number of children a node has, \n",
    "        but also limits the number of references to a maximum of two, thereby making it so much easier to code.\n",
    "\n",
    "At each node, link children of same parent from left to right.\n",
    "Parent should be linked with only first child.\n",
    "*/"
   ]
  },
  {
   "cell_type": "code",
   "execution_count": 28,
   "metadata": {},
   "outputs": [],
   "source": [
    "/*\n",
    "Examples:\n",
    "\n",
    "Left Child Right Sibling tree representation\n",
    "      10\n",
    "      |  \n",
    "      2 -> 3 -> 4 -> 5\n",
    "      |    |  \n",
    "      6    7 -> 8 -> 9\n",
    "*/"
   ]
  },
  {
   "cell_type": "markdown",
   "metadata": {},
   "source": [
    "**Prerequisite :** ***Left-Child Right-Sibling Representation of Tree***\n",
    "\n",
    "***https://www.geeksforgeeks.org/left-child-right-sibling-representation-tree/***"
   ]
  },
  {
   "cell_type": "code",
   "execution_count": 29,
   "metadata": {},
   "outputs": [
    {
     "name": "stdout",
     "output_type": "stream",
     "text": [
      "10 2 3 4 6 5 7 8 9 "
     ]
    }
   ],
   "source": [
    "static class NodeTemp \n",
    "{ \n",
    "    int data; \n",
    "    NodeTemp next, child; \n",
    "    public NodeTemp(int data) \n",
    "    { \n",
    "        this.data = data; \n",
    "        next = child = null; \n",
    "    } \n",
    "} \n",
    "\n",
    "// Adds a sibling to a list with starting with n \n",
    "static public NodeTemp addSibling(NodeTemp node, int data) \n",
    "{ \n",
    "    if(node == null) \n",
    "        return null; \n",
    "    while(node.next != null) \n",
    "        node = node.next; \n",
    "    return(node.next = new NodeTemp(data)); \n",
    "} \n",
    "\n",
    "// Add child Node to a Node \n",
    "static public NodeTemp addChild(NodeTemp node,int data) \n",
    "{ \n",
    "    if(node == null) \n",
    "        return null; \n",
    "\n",
    "    // Check if child is not empty. \n",
    "    if(node.child != null) \n",
    "        return(addSibling(node.child,data)); \n",
    "    else\n",
    "        return(node.child = new NodeTemp(data)); \n",
    "} \n",
    "\n",
    "// Traverses tree in level order \n",
    "static public void traverseTree(NodeTemp root) \n",
    "{ \n",
    "    if(root == null) \n",
    "        return; \n",
    "    while(root != null) \n",
    "    { \n",
    "        System.out.print(root.data + \" \"); \n",
    "        if(root.child != null) \n",
    "            traverseTree(root.child); \n",
    "        root = root.next; \n",
    "    } \n",
    "} \n",
    "\n",
    "// Driver code \n",
    "public static void main(String args[]) \n",
    "{ \n",
    "\n",
    "    /*   Let us create below tree \n",
    "    *           10 \n",
    "    *     /   /    \\   \\ \n",
    "    *    2  3      4   5 \n",
    "    *              |   /  | \\ \n",
    "    *              6   7  8  9   */\n",
    "\n",
    "    // Left child right sibling \n",
    "    /*  10 \n",
    "    *    | \n",
    "    *    2 -> 3 -> 4 -> 5 \n",
    "    *              |    | \n",
    "    *              6    7 -> 8 -> 9  */\n",
    "\n",
    "    NodeTemp root = new NodeTemp(10); \n",
    "    NodeTemp n1 = addChild(root,2); \n",
    "    NodeTemp n2 = addChild(root,3); \n",
    "    NodeTemp n3 = addChild(root,4); \n",
    "    NodeTemp n4 = addChild(n3,6); \n",
    "    NodeTemp n5 = addChild(root,5); \n",
    "    NodeTemp n6 = addChild(n5,7); \n",
    "    NodeTemp n7 = addChild(n5,8); \n",
    "    NodeTemp n8 = addChild(n5,9); \n",
    "\n",
    "    traverseTree(root); \n",
    "} \n",
    "main(args);"
   ]
  },
  {
   "cell_type": "markdown",
   "metadata": {},
   "source": [
    "## **306. Left-Child Right-Sibling Representation of Tree**\n",
    "https://www.geeksforgeeks.org/left-child-right-sibling-representation-tree/"
   ]
  },
  {
   "cell_type": "code",
   "execution_count": 30,
   "metadata": {},
   "outputs": [],
   "source": [
    "/*\n",
    "An n-ary tree in computer science is a collection of nodes normally represented hierarchically in the following fashion.\n",
    "\n",
    "1. The tree starts at the root node.\n",
    "2. Each node of the tree holds a list of references to its child nodes.\n",
    "3. The number of children a node has is less than or equal to n.\n",
    "\n",
    "A typical representation of n-ary tree uses an array of n references (or pointers) to store children\n",
    "(Note that n is an upper bound on number of children). \n",
    "\n",
    "Can we do better? \n",
    "    the idea of Left-Child Right- Sibling representation is to store only two pointers in every node.\n",
    "*/"
   ]
  },
  {
   "cell_type": "code",
   "execution_count": 31,
   "metadata": {},
   "outputs": [],
   "source": [
    "/*\n",
    "Advantages :\n",
    "1. This representation saves up memory by limiting the maximum number of references required per node to two.\n",
    "2. It is easier to code.\n",
    "\n",
    "Disadvantages :\n",
    "1. Basic operations like searching/insertion/deletion tend to take a longer time \n",
    "    because in order to find the appropriate position we would have to traverse through all the siblings of the node to be searched/inserted/deleted (in the worst case).\n",
    "*/"
   ]
  },
  {
   "cell_type": "markdown",
   "metadata": {},
   "source": [
    "<img src = \"https://media.geeksforgeeks.org/wp-content/uploads/500px-N-ary_to_binary.svg_-300x180.png\"/>"
   ]
  },
  {
   "cell_type": "code",
   "execution_count": 32,
   "metadata": {},
   "outputs": [],
   "source": [
    "/*\n",
    "An Example Problem :\n",
    "\n",
    "Now let’s see a problem and try to solve it using both the discussed representations for clarity.\n",
    "\n",
    "Given a family tree. Find the kth child of some member X in the tree.\n",
    "The user inputs two things.\n",
    "    1. A character P (representing the parent whose child is to be found)\n",
    "    2. An integer k (representing the child number)\n",
    "\n",
    "The problem in itself looks pretty easy. \n",
    "The only issue here is that the maximum number of children a node can have is unspecified which makes it rather tricky to construct the tree.\n",
    "\n",
    "Example:\n",
    "Consider the following family tree.\n",
    "*/"
   ]
  },
  {
   "cell_type": "markdown",
   "metadata": {},
   "source": [
    "<img src = \"https://media.geeksforgeeks.org/wp-content/uploads/Untitled-Diagram.jpg\"/>"
   ]
  },
  {
   "cell_type": "code",
   "execution_count": 33,
   "metadata": {},
   "outputs": [],
   "source": [
    "/*\n",
    "Input : A 2\n",
    "Output : C\n",
    "In this case, the user wishes to know A's\n",
    "second child which according to the figure\n",
    "is C.\n",
    "\n",
    "Input : F 3\n",
    "Output : K\n",
    "Similar to the first case, the user wishes \n",
    "to know F's third child which is K.\n",
    "*/"
   ]
  },
  {
   "cell_type": "code",
   "execution_count": 34,
   "metadata": {},
   "outputs": [],
   "source": [
    "/*\n",
    "Method 2 : (Left-Child Right-Sibling Representation)\n",
    "\n",
    "In this method, \n",
    "    we change the structure of the family tree. \n",
    "In the standard tree, \n",
    "    each parent node is connected to all of its children. \n",
    "Here as discussed above, \n",
    "    instead of having each node store pointers to all of its children, \n",
    "    a node will store pointer to just one of its child.\n",
    "Apart from this the node will also store a pointer to its immediate right sibling.\n",
    "\n",
    "The image below is the Left-Child Right-Sibling equivalent of the example used above.\n",
    "*/"
   ]
  },
  {
   "cell_type": "markdown",
   "metadata": {},
   "source": [
    "<img src = \"https://media.geeksforgeeks.org/wp-content/uploads/new.jpeg\"/>"
   ]
  },
  {
   "cell_type": "code",
   "execution_count": 35,
   "metadata": {},
   "outputs": [
    {
     "name": "stdout",
     "output_type": "stream",
     "text": [
      "F's second child is : J \n",
      "A's seventh child is : Error : Does not exist\n"
     ]
    }
   ],
   "source": [
    "// A Node to represent left child  \n",
    "// right sibling representation. \n",
    "static class Node  \n",
    "{ \n",
    "    char val; \n",
    "    Node child; \n",
    "    Node next; \n",
    "    Node(char P)  \n",
    "    { \n",
    "        val = P; \n",
    "        child = null; \n",
    "        next = null; \n",
    "    } \n",
    "}; \n",
    "\n",
    "// Traverses given n-ary tree to find K-th \n",
    "// child of P. \n",
    "static void printKthChild(Node root, char P, int k)  \n",
    "{ \n",
    "    if (root == null) \n",
    "        return; \n",
    "\n",
    "    // If P is present at root itself \n",
    "    if (root.val == P)  \n",
    "    { \n",
    "        // Traverse children of root starting \n",
    "        // from left child \n",
    "        Node t = root.child; \n",
    "        int i = 1; \n",
    "        while (t != null && i < k)  \n",
    "        { \n",
    "            t = t.next; \n",
    "            i++; \n",
    "        } \n",
    "        if (t == null) \n",
    "            System.out.print(\"Error : Does not exist\\n\"); \n",
    "        else\n",
    "            System.out.print(t.val + \" \" + \"\\n\"); \n",
    "        return; \n",
    "    } \n",
    "    printKthChild(root.child, P, k); \n",
    "    printKthChild(root.next, P, k); \n",
    "} \n",
    "\n",
    "// Driver code \n",
    "public static void main(String[] args) \n",
    "{ \n",
    "    Node root = new Node('A'); \n",
    "    root.child = new Node('B'); \n",
    "    root.child.next = new Node('C'); \n",
    "    root.child.next.next = new Node('D'); \n",
    "    root.child.next.next.next = new Node('E'); \n",
    "    root.child.child = new Node('F'); \n",
    "    root.child.child.next = new Node('G'); \n",
    "    root.child.next.next.child = new Node('H'); \n",
    "    root.child.next.next.child.child = new Node('L'); \n",
    "    root.child.next.next.child.child.next = new Node('M'); \n",
    "    root.child.child.child = new Node('I'); \n",
    "    root.child.child.child.next = new Node('J'); \n",
    "    root.child.child.child.next.next = new Node('K'); \n",
    "\n",
    "    // Print F's 2nd child \n",
    "    char P = 'F'; \n",
    "    System.out.print(\"F's second child is : \"); \n",
    "    printKthChild(root, P, 2); \n",
    "\n",
    "    P = 'A'; \n",
    "    System.out.print(\"A's seventh child is : \"); \n",
    "    printKthChild(root, P, 7); \n",
    "} \n",
    "main(args);"
   ]
  },
  {
   "cell_type": "markdown",
   "metadata": {},
   "source": [
    "## **307. Longest path in an undirected tree**\n",
    "https://www.geeksforgeeks.org/longest-path-undirected-tree/"
   ]
  },
  {
   "cell_type": "code",
   "execution_count": 36,
   "metadata": {},
   "outputs": [],
   "source": [
    "/*\n",
    "Given an undirected tree, we need to find the longest path of this tree where a path is defined as a sequence of nodes.\n",
    "*/"
   ]
  },
  {
   "cell_type": "code",
   "execution_count": 37,
   "metadata": {},
   "outputs": [],
   "source": [
    "/*\n",
    "Example:\n",
    "\n",
    "Input : Below shown Tree using adjacency list \n",
    "        representation:\n",
    "Output : 5\n",
    "In below tree longest path is of length 5\n",
    "from node 5 to node 7\n",
    "*/"
   ]
  },
  {
   "cell_type": "markdown",
   "metadata": {},
   "source": [
    "<img src = \"http://media.geeksforgeeks.org/wp-content/uploads/longestPathInTree.png\"/>"
   ]
  },
  {
   "cell_type": "markdown",
   "metadata": {},
   "source": [
    "**Related Link :**  ***https://www.geeksforgeeks.org/diameter-n-ary-tree/***"
   ]
  },
  {
   "cell_type": "code",
   "execution_count": 38,
   "metadata": {},
   "outputs": [],
   "source": [
    "/*\n",
    "In this post, an efficient solution is discussed. \n",
    "We can find longest path using two BFSs. \n",
    "The idea is based on the following fact: \n",
    "    If we start BFS from any node x and find a node with the longest distance from x, \n",
    "        it must be an end point of the longest path. \n",
    "        It can be proved using contradiction. \n",
    "    So our algorithm reduces to simple two BFSs. \n",
    "        First BFS to find an end point of the longest path \n",
    "        and second BFS from this end point to find the actual longest path. \n",
    "    For the proof of why does this algorithm works, \n",
    "        there is nice explanation here Proof of correctness: \n",
    "            Algorithm for diameter of a tree in graph theory(Link below)\n",
    "As we can see in above diagram, \n",
    "    if we start our BFS from node-0, \n",
    "        the node at the farthest distance from it will be node-5, \n",
    "        now if we start our BFS from node-5 the node at the farthest distance will be node-7, \n",
    "        finally, path from node-5 to node-7 will constitute our longest path.\n",
    "*/"
   ]
  },
  {
   "cell_type": "markdown",
   "metadata": {},
   "source": [
    "***https://stackoverflow.com/questions/20010472/proof-of-correctness-algorithm-for-diameter-of-a-tree-in-graph-theory***"
   ]
  },
  {
   "cell_type": "code",
   "execution_count": 39,
   "metadata": {},
   "outputs": [
    {
     "name": "stdout",
     "output_type": "stream",
     "text": [
      "Longest path is from 5 to 7 of length 5\n"
     ]
    }
   ],
   "source": [
    "// Utility Pair class for storing maximum distance  \n",
    "// Node with its distance \n",
    "static class Pair<T,V> { \n",
    "    T first; // maximum distance Node \n",
    "    V second; // distance of maximum distance node \n",
    "\n",
    "    //Constructor \n",
    "    Pair(T first, V second) { \n",
    "        this.first = first; \n",
    "        this.second = second; \n",
    "    } \n",
    "} \n",
    "\n",
    "// This class represents a undirected graph using adjacency list  \n",
    "static class Graph { \n",
    "    int V; // No. of vertices  \n",
    "    LinkedList<Integer>[] adj; //Adjacency List  \n",
    "\n",
    "    // Constructor  \n",
    "    Graph(int V) { \n",
    "        this.V = V; \n",
    "        // Initializing Adjacency List \n",
    "        adj = new LinkedList[V]; \n",
    "        for(int i = 0; i < V; ++i) { \n",
    "            adj[i] = new LinkedList<Integer>(); \n",
    "        } \n",
    "    } \n",
    "\n",
    "    // function to add an edge to graph  \n",
    "    void addEdge(int s, int d) { \n",
    "        adj[s].add(d); // Add d to s's list.  \n",
    "        adj[d].add(s); // Since the graph is undirected  \n",
    "    } \n",
    "\n",
    "\n",
    "    // method returns farthest node and its distance from node u  \n",
    "    Pair<Integer, Integer> bfs(int u) { \n",
    "        int[] dis = new int[V]; \n",
    "\n",
    "        // mark all distance with -1  \n",
    "        Arrays.fill(dis, -1); \n",
    "\n",
    "        Queue<Integer> q = new LinkedList<>(); \n",
    "\n",
    "        q.add(u); \n",
    "\n",
    "        // distance of u from u will be 0  \n",
    "        dis[u] = 0; \n",
    "        while (!q.isEmpty()) { \n",
    "            int t = q.poll(); \n",
    "\n",
    "            // loop for all adjacent nodes of node-t  \n",
    "            for(int i = 0; i < adj[t].size(); ++i) { \n",
    "                int v = adj[t].get(i); \n",
    "\n",
    "                // push node into queue only if  \n",
    "                // it is not visited already  \n",
    "                if(dis[v] == -1) { \n",
    "                    q.add(v); \n",
    "                    // make distance of v, one more  \n",
    "                    // than distance of t  \n",
    "                    dis[v] = dis[t] + 1; \n",
    "                } \n",
    "            } \n",
    "        } \n",
    "\n",
    "        int maxDis = 0; \n",
    "        int nodeIdx = 0; \n",
    "\n",
    "        // get farthest node distance and its index  \n",
    "        for(int i = 0; i < V; ++i) { \n",
    "            if(dis[i] > maxDis) { \n",
    "                maxDis = dis[i]; \n",
    "                nodeIdx = i; \n",
    "            } \n",
    "        } \n",
    "\n",
    "        return new Pair<Integer, Integer>(nodeIdx, maxDis); \n",
    "    } \n",
    "\n",
    "    // method prints longest path of given tree  \n",
    "    void longestPathLength() { \n",
    "        Pair<Integer, Integer> t1, t2; \n",
    "\n",
    "        // first bfs to find one end point of  \n",
    "        // longest path  \n",
    "        t1 = bfs(0); \n",
    "\n",
    "        // second bfs to find actual longest path  \n",
    "        t2 = bfs(t1.first); \n",
    "\n",
    "        System.out.println(\"Longest path is from \"+ t1.first  \n",
    "        + \" to \"+ t2.first +\" of length \"+t2.second); \n",
    "    } \n",
    "} \n",
    "\n",
    "// Driver code to test above methods  \n",
    "public static void main(String[] args){ \n",
    "    // Create a graph given in the example  \n",
    "\n",
    "    Graph graph = new Graph(10); \n",
    "    graph.addEdge(0, 1);  \n",
    "    graph.addEdge(1, 2);  \n",
    "    graph.addEdge(2, 3);  \n",
    "    graph.addEdge(2, 9);  \n",
    "    graph.addEdge(2, 4);  \n",
    "    graph.addEdge(4, 5);  \n",
    "    graph.addEdge(1, 6);  \n",
    "    graph.addEdge(6, 7);  \n",
    "    graph.addEdge(6, 8);  \n",
    "\n",
    "    graph.longestPathLength(); \n",
    "} \n",
    "main(args);"
   ]
  },
  {
   "cell_type": "markdown",
   "metadata": {},
   "source": [
    "## **308. Amazon Interview QUestion**\n",
    "https://www.careercup.com/question?id=10508082"
   ]
  },
  {
   "cell_type": "code",
   "execution_count": 40,
   "metadata": {},
   "outputs": [],
   "source": [
    "/*\n",
    "View Question Link for Solution\n",
    "*/"
   ]
  },
  {
   "cell_type": "markdown",
   "metadata": {},
   "source": [
    "## **309. Diameter of an N-ary tree**\n",
    "https://www.geeksforgeeks.org/diameter-n-ary-tree/"
   ]
  },
  {
   "cell_type": "code",
   "execution_count": 41,
   "metadata": {},
   "outputs": [],
   "source": [
    "/*\n",
    "The diameter of an N-ary tree is the longest path present between any two nodes of the tree. \n",
    "These two nodes must be two leaf nodes. \n",
    "\n",
    "The following examples have the longest path[diameter] shaded.\n",
    "*/"
   ]
  },
  {
   "cell_type": "markdown",
   "metadata": {},
   "source": [
    "**Example 1**"
   ]
  },
  {
   "cell_type": "markdown",
   "metadata": {},
   "source": [
    "<img src = \"https://media.geeksforgeeks.org/wp-content/cdn-uploads/diameterNary.png\"/>"
   ]
  },
  {
   "cell_type": "markdown",
   "metadata": {},
   "source": [
    "**Example 2 :**\n",
    "<img src = \"https://media.geeksforgeeks.org/wp-content/cdn-uploads/diameterN2.png\"/>"
   ]
  },
  {
   "cell_type": "markdown",
   "metadata": {},
   "source": [
    "**PreRequisite :**  ***https://www.geeksforgeeks.org/diameter-of-a-binary-tree/***"
   ]
  },
  {
   "cell_type": "code",
   "execution_count": 42,
   "metadata": {},
   "outputs": [],
   "source": [
    "/*\n",
    "The path can either start from one of the node and goes up to one of the LCAs of these nodes \n",
    "and again come down to the deepest node of some other subtree or can exist as a diameter of one of the child of the current node.\n",
    "The solution will exist in any one of these:\n",
    "I] Diameter of one of the children of the current node\n",
    "II] Sum of Height of highest two subtree + 1\n",
    "*/"
   ]
  },
  {
   "cell_type": "code",
   "execution_count": 43,
   "metadata": {},
   "outputs": [
    {
     "name": "stdout",
     "output_type": "stream",
     "text": [
      "7\n"
     ]
    }
   ],
   "source": [
    "// Structure of a node of an n-ary tree \n",
    "static class Node \n",
    "{ \n",
    "    char key; \n",
    "    Vector<Node> child; \n",
    "}; \n",
    "  \n",
    "// Utility function to create a new tree node \n",
    "static Node newNode(int key) \n",
    "{ \n",
    "    Node temp = new Node(); \n",
    "    temp.key = (char) key; \n",
    "    temp.child = new Vector<Node>(); \n",
    "    return temp; \n",
    "} \n",
    "  \n",
    "// Utility function that will return the depth \n",
    "// of the tree \n",
    "static int depthOfTree(Node ptr) \n",
    "{ \n",
    "    // Base case \n",
    "    if (ptr == null) \n",
    "        return 0; \n",
    "  \n",
    "    int maxdepth = 0; \n",
    "  \n",
    "    // Check for all children and find \n",
    "    // the maximum depth \n",
    "    for (Node it : ptr.child) \n",
    "  \n",
    "        maxdepth = Math.max(maxdepth, \n",
    "                            depthOfTree(it)); \n",
    "  \n",
    "    return maxdepth + 1; \n",
    "} \n",
    "  \n",
    "// Function to calculate the diameter \n",
    "// of the tree \n",
    "static int diameter(Node ptr) \n",
    "{ \n",
    "    // Base case \n",
    "    if (ptr == null) \n",
    "        return 0; \n",
    "  \n",
    "    // Find top two highest children \n",
    "    int max1 = 0, max2 = 0; \n",
    "    for (Node it : ptr.child) \n",
    "    { \n",
    "        int h = depthOfTree(it); \n",
    "        if (h > max1) \n",
    "        { \n",
    "            max2 = max1; \n",
    "            max1 = h; \n",
    "        } \n",
    "        else if (h > max2) \n",
    "        max2 = h; \n",
    "    } \n",
    "  \n",
    "    // Iterate over each child for diameter \n",
    "    int maxChildDia = 0; \n",
    "    for (Node it : ptr.child) \n",
    "        maxChildDia = Math.max(maxChildDia,  \n",
    "                               diameter(it)); \n",
    "  \n",
    "    return Math.max(maxChildDia, max1 + max2 + 1); \n",
    "} \n",
    "  \n",
    "// Driver Code \n",
    "public static void main(String[] args) \n",
    "{ \n",
    "    /* Let us create below tree \n",
    "    *         A \n",
    "    *         / / \\ \\ \n",
    "    *     B F D E \n",
    "    *     / \\     | /|\\ \n",
    "    *     K J G C H I \n",
    "    *     /\\         \\ \n",
    "    * N M         L \n",
    "    */\n",
    "    Node root = newNode('A'); \n",
    "    (root.child).add(newNode('B')); \n",
    "    (root.child).add(newNode('F')); \n",
    "    (root.child).add(newNode('D')); \n",
    "    (root.child).add(newNode('E')); \n",
    "    (root.child.get(0).child).add(newNode('K')); \n",
    "    (root.child.get(0).child).add(newNode('J')); \n",
    "    (root.child.get(2).child).add(newNode('G')); \n",
    "    (root.child.get(3).child).add(newNode('C')); \n",
    "    (root.child.get(3).child).add(newNode('H')); \n",
    "    (root.child.get(3).child).add(newNode('I')); \n",
    "    (root.child.get(0).child.get(0).child).add(newNode('N')); \n",
    "    (root.child.get(0).child.get(0).child).add(newNode('M')); \n",
    "    (root.child.get(3).child.get(2).child).add(newNode('L')); \n",
    "  \n",
    "    System.out.print(diameter(root) + \"\\n\"); \n",
    "} \n",
    "main(args);"
   ]
  }
 ],
 "metadata": {
  "kernelspec": {
   "display_name": "Java",
   "language": "java",
   "name": "java"
  },
  "language_info": {
   "codemirror_mode": "java",
   "file_extension": ".jshell",
   "mimetype": "text/x-java-source",
   "name": "Java",
   "pygments_lexer": "java",
   "version": "11.0.6+8-LTS"
  },
  "toc": {
   "base_numbering": 1,
   "nav_menu": {},
   "number_sections": true,
   "sideBar": true,
   "skip_h1_title": true,
   "title_cell": "Table of Contents",
   "title_sidebar": "Contents",
   "toc_cell": false,
   "toc_position": {},
   "toc_section_display": true,
   "toc_window_display": true
  }
 },
 "nbformat": 4,
 "nbformat_minor": 2
}
