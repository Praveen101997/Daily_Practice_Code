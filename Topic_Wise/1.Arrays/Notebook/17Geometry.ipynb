{
 "cells": [
  {
   "cell_type": "markdown",
   "metadata": {},
   "source": [
    "# --------------------------------GEOMETRY TOPIC-----------------------------\n",
    "**==============================================================================**\n",
    "# Assembled By - Praveen Kumar Sharma\n",
    "# Source - GeeksForGeeks\n",
    "**==============================================================================**"
   ]
  },
  {
   "cell_type": "code",
   "execution_count": 1,
   "metadata": {},
   "outputs": [],
   "source": [
    "import java.util.*;\n",
    "import java.io.*;\n",
    "String[] args =new String[0];"
   ]
  },
  {
   "cell_type": "markdown",
   "metadata": {},
   "source": [
    "## **473. Orientation of 3 ordered points**\n",
    "https://www.geeksforgeeks.org/orientation-3-ordered-points/"
   ]
  },
  {
   "cell_type": "code",
   "execution_count": 2,
   "metadata": {},
   "outputs": [],
   "source": [
    "/*\n",
    "Orientation of an ordered triplet of points in the plane can be\n",
    "\n",
    "1. counterclockwise\n",
    "2. clockwise\n",
    "3. colinear\n",
    "\n",
    "The following diagram shows different possible orientations of (a,b,c)\n",
    "*/"
   ]
  },
  {
   "cell_type": "markdown",
   "metadata": {},
   "source": [
    "<img src = \"https://media.geeksforgeeks.org/wp-content/uploads/orientation-of-3-order-points-1.png\"/>"
   ]
  },
  {
   "cell_type": "code",
   "execution_count": 3,
   "metadata": {},
   "outputs": [],
   "source": [
    "/*\n",
    "If orientation of (p1, p2, p3) is collinear, \n",
    "    then orientation of (p3, p2, p1) is also collinear.\n",
    "If orientation of (p1, p2, p3) is clockwise, \n",
    "    then orientation of (p3, p2, p1) is counterclockwise and vice versa is also true.\n",
    "    \n",
    "Given three points p1, p2 and p3, find orientation of (p1, p2, p3).\n",
    "*/"
   ]
  },
  {
   "cell_type": "code",
   "execution_count": 4,
   "metadata": {},
   "outputs": [],
   "source": [
    "/*\n",
    "Example:\n",
    "\n",
    "Input:   p1 = {0, 0}, p2 = {4, 4}, p3 = {1, 2}\n",
    "Output:  CounterClockWise\n",
    "\n",
    "Input:   p1 = {0, 0}, p2 = {4, 4}, p3 = {1, 1}\n",
    "Output:  Colinear\n",
    "*/"
   ]
  },
  {
   "cell_type": "code",
   "execution_count": 5,
   "metadata": {},
   "outputs": [],
   "source": [
    "/*\n",
    "How to compute Orientation?\n",
    "\n",
    "The idea is to use slope.  \n",
    "\n",
    "Slope of line segment (p1, p2):\n",
    "    σ = (y2 - y1)/(x2 - x1)\n",
    "Slope of line segment (p2, p3): \n",
    "    τ = (y3 - y2)/(x3 - x2)\n",
    "\n",
    "If  σ > τ, \n",
    "    the orientation is clockwise (right turn)\n",
    "\n",
    "Using above values of σ and τ, we can conclude that, \n",
    "    the orientation depends on sign of  below expression: \n",
    "\n",
    "    (y2 - y1)*(x3 - x2) - (y3 - y2)*(x2 - x1)\n",
    "\n",
    "Above expression is negative when σ < τ,\n",
    "    i.e.,  counterclockwise\n",
    "*/"
   ]
  },
  {
   "cell_type": "code",
   "execution_count": 6,
   "metadata": {},
   "outputs": [],
   "source": [
    "// JAVA Code to find Orientation of 3 \n",
    "// ordered points \n",
    "class Point \n",
    "{ \n",
    "    int x, y; \n",
    "    Point(int x,int y){ \n",
    "        this.x=x; \n",
    "        this.y=y; \n",
    "    } \n",
    "} "
   ]
  },
  {
   "cell_type": "code",
   "execution_count": 7,
   "metadata": {},
   "outputs": [],
   "source": [
    "// To find orientation of ordered triplet  \n",
    "// (p1, p2, p3). The function returns  \n",
    "// following values  \n",
    "// 0 --> p, q and r are colinear \n",
    "// 1 --> Clockwise \n",
    "// 2 --> Counterclockwise \n",
    "public static int orientation(Point p1, Point p2, \n",
    "                                     Point p3) \n",
    "{ \n",
    "    // See 10th slides from following link  \n",
    "    // for derivation of the formula \n",
    "    int val = (p2.y - p1.y) * (p3.x - p2.x) - \n",
    "              (p2.x - p1.x) * (p3.y - p2.y); \n",
    "\n",
    "    if (val == 0) return 0;  // colinear \n",
    "\n",
    "    // clock or counterclock wise \n",
    "    return (val > 0)? 1: 2;  \n",
    "} "
   ]
  },
  {
   "cell_type": "code",
   "execution_count": 8,
   "metadata": {},
   "outputs": [
    {
     "name": "stdout",
     "output_type": "stream",
     "text": [
      "CounterClockwise"
     ]
    }
   ],
   "source": [
    "/* Driver program to test above function */\n",
    "public static void main(String[] args)  \n",
    "{ \n",
    "        Point p1 = new Point(0, 0); \n",
    "        Point p2 = new Point(4, 4); \n",
    "        Point p3 = new Point(1, 2); \n",
    "\n",
    "        int o = orientation(p1, p2, p3); \n",
    "\n",
    "        if (o==0)      \n",
    "        System.out.print(\"Linear\"); \n",
    "        else if (o == 1)   \n",
    "        System.out.print(\"Clockwise\"); \n",
    "        else              \n",
    "        System.out.print(\"CounterClockwise\"); \n",
    "\n",
    "} \n",
    "main(args);"
   ]
  },
  {
   "cell_type": "markdown",
   "metadata": {},
   "source": [
    "**Related Link :**\n",
    "<br>\n",
    "https://www.geeksforgeeks.org/find-simple-closed-path-for-a-given-set-of-points/\n",
    "<br>\n",
    "https://www.geeksforgeeks.org/check-if-two-given-line-segments-intersect/\n",
    "<br>\n",
    "https://www.geeksforgeeks.org/convex-hull-set-1-jarviss-algorithm-or-wrapping/\n",
    "<br>\n",
    "https://www.geeksforgeeks.org/convex-hull-set-2-graham-scan/"
   ]
  },
  {
   "cell_type": "markdown",
   "metadata": {},
   "source": [
    "## **474. How to check if two given line segments intersect?**\n",
    "https://www.geeksforgeeks.org/check-if-two-given-line-segments-intersect/"
   ]
  },
  {
   "cell_type": "code",
   "execution_count": 9,
   "metadata": {},
   "outputs": [],
   "source": [
    "/*\n",
    "Given two line segments (p1, q1) and (p2, q2), \n",
    "    find if the given line segments intersect with each other.\n",
    "Before we discuss solution, \n",
    "    let us define notion of orientation. \n",
    "    Orientation of an ordered triplet of points in the plane can be\n",
    "        –counterclockwise\n",
    "        –clockwise\n",
    "        –colinear\n",
    "The following diagram shows different possible orientations of (a, b, c)\n",
    "*/"
   ]
  },
  {
   "cell_type": "markdown",
   "metadata": {},
   "source": [
    "<img src = \"https://media.geeksforgeeks.org/wp-content/uploads/linesegments.png\"/>"
   ]
  },
  {
   "cell_type": "code",
   "execution_count": 10,
   "metadata": {},
   "outputs": [],
   "source": [
    "/*\n",
    "How is Orientation useful here?\n",
    "\n",
    "Two segments (p1,q1) and (p2,q2) intersect if and only if one of the following two conditions is verified.\n",
    "\n",
    "1. General Case:\n",
    "– (p1, q1, p2) and (p1, q1, q2) have different orientations and\n",
    "– (p2, q2, p1) and (p2, q2, q1) have different orientations.\n",
    "\n",
    "Examples:\n",
    "*/"
   ]
  },
  {
   "cell_type": "markdown",
   "metadata": {},
   "source": [
    "<img src = \"https://media.geeksforgeeks.org/wp-content/uploads/linesegments1.png\"/>"
   ]
  },
  {
   "cell_type": "code",
   "execution_count": 11,
   "metadata": {},
   "outputs": [],
   "source": [
    "/*\n",
    "2. Special Case\n",
    "– (p1, q1, p2), (p1, q1, q2), (p2, q2, p1), and (p2, q2, q1) are all collinear and\n",
    "– the x-projections of (p1, q1) and (p2, q2) intersect\n",
    "– the y-projections of (p1, q1) and (p2, q2) intersect\n",
    "\n",
    "Examples:\n",
    "*/"
   ]
  },
  {
   "cell_type": "markdown",
   "metadata": {},
   "source": [
    "<img src = \"https://media.geeksforgeeks.org/wp-content/uploads/linesegments2.png\"/>"
   ]
  },
  {
   "cell_type": "code",
   "execution_count": 12,
   "metadata": {},
   "outputs": [],
   "source": [
    "static class Point \n",
    "{ \n",
    "    int x; \n",
    "    int y; \n",
    "  \n",
    "        public Point(int x, int y)  \n",
    "        { \n",
    "            this.x = x; \n",
    "            this.y = y; \n",
    "        } \n",
    "      \n",
    "}; "
   ]
  },
  {
   "cell_type": "code",
   "execution_count": 13,
   "metadata": {},
   "outputs": [],
   "source": [
    "// Given three colinear points p, q, r, the function checks if \n",
    "// point q lies on line segment 'pr' \n",
    "static boolean onSegment(Point p, Point q, Point r) \n",
    "{ \n",
    "    if (q.x <= Math.max(p.x, r.x) && q.x >= Math.min(p.x, r.x) && \n",
    "        q.y <= Math.max(p.y, r.y) && q.y >= Math.min(p.y, r.y)) \n",
    "    return true; \n",
    "  \n",
    "    return false; \n",
    "} "
   ]
  },
  {
   "cell_type": "code",
   "execution_count": 14,
   "metadata": {},
   "outputs": [],
   "source": [
    "// To find orientation of ordered triplet (p, q, r). \n",
    "// The function returns following values \n",
    "// 0 --> p, q and r are colinear \n",
    "// 1 --> Clockwise \n",
    "// 2 --> Counterclockwise \n",
    "static int orientation(Point p, Point q, Point r) \n",
    "{ \n",
    "    // See https://www.geeksforgeeks.org/orientation-3-ordered-points/ \n",
    "    // for details of below formula. \n",
    "    int val = (q.y - p.y) * (r.x - q.x) - \n",
    "            (q.x - p.x) * (r.y - q.y); \n",
    "  \n",
    "    if (val == 0) return 0; // colinear \n",
    "  \n",
    "    return (val > 0)? 1: 2; // clock or counterclock wise \n",
    "} "
   ]
  },
  {
   "cell_type": "code",
   "execution_count": 15,
   "metadata": {},
   "outputs": [],
   "source": [
    "// The main function that returns true if line segment 'p1q1' \n",
    "// and 'p2q2' intersect. \n",
    "static boolean doIntersect(Point p1, Point q1, Point p2, Point q2) \n",
    "{ \n",
    "    // Find the four orientations needed for general and \n",
    "    // special cases \n",
    "    int o1 = orientation(p1, q1, p2); \n",
    "    int o2 = orientation(p1, q1, q2); \n",
    "    int o3 = orientation(p2, q2, p1); \n",
    "    int o4 = orientation(p2, q2, q1); \n",
    "  \n",
    "    // General case \n",
    "    if (o1 != o2 && o3 != o4) \n",
    "        return true; \n",
    "  \n",
    "    // Special Cases \n",
    "    // p1, q1 and p2 are colinear and p2 lies on segment p1q1 \n",
    "    if (o1 == 0 && onSegment(p1, p2, q1)) return true; \n",
    "  \n",
    "    // p1, q1 and q2 are colinear and q2 lies on segment p1q1 \n",
    "    if (o2 == 0 && onSegment(p1, q2, q1)) return true; \n",
    "  \n",
    "    // p2, q2 and p1 are colinear and p1 lies on segment p2q2 \n",
    "    if (o3 == 0 && onSegment(p2, p1, q2)) return true; \n",
    "  \n",
    "    // p2, q2 and q1 are colinear and q1 lies on segment p2q2 \n",
    "    if (o4 == 0 && onSegment(p2, q1, q2)) return true; \n",
    "  \n",
    "    return false; // Doesn't fall in any of the above cases \n",
    "} "
   ]
  },
  {
   "cell_type": "code",
   "execution_count": 16,
   "metadata": {},
   "outputs": [
    {
     "name": "stdout",
     "output_type": "stream",
     "text": [
      "No\n",
      "Yes\n",
      "No\n"
     ]
    }
   ],
   "source": [
    "// Driver code \n",
    "public static void main(String[] args)  \n",
    "{ \n",
    "    Point p1 = new Point(1, 1); \n",
    "    Point q1 = new Point(10, 1); \n",
    "    Point p2 = new Point(1, 2); \n",
    "    Point q2 = new Point(10, 2); \n",
    "  \n",
    "    if(doIntersect(p1, q1, p2, q2)) \n",
    "        System.out.println(\"Yes\"); \n",
    "    else\n",
    "        System.out.println(\"No\"); \n",
    "  \n",
    "    p1 = new Point(10, 1); q1 = new Point(0, 10); \n",
    "    p2 = new Point(0, 0); q2 = new Point(10, 10); \n",
    "    if(doIntersect(p1, q1, p2, q2)) \n",
    "            System.out.println(\"Yes\"); \n",
    "    else\n",
    "        System.out.println(\"No\"); \n",
    "  \n",
    "    p1 = new Point(-5, -5); q1 = new Point(0, 0); \n",
    "    p2 = new Point(1, 1); q2 = new Point(10, 10);; \n",
    "    if(doIntersect(p1, q1, p2, q2)) \n",
    "        System.out.println(\"Yes\"); \n",
    "    else\n",
    "        System.out.println(\"No\"); \n",
    "} \n",
    "main(args);"
   ]
  },
  {
   "cell_type": "markdown",
   "metadata": {},
   "source": [
    "***https://youtu.be/wCR48FqkI4w***"
   ]
  },
  {
   "cell_type": "markdown",
   "metadata": {},
   "source": [
    "## **475. Convex Hull | Set 1 (Jarvis’s Algorithm or Wrapping)**\n",
    "https://www.geeksforgeeks.org/convex-hull-set-1-jarviss-algorithm-or-wrapping/"
   ]
  },
  {
   "cell_type": "code",
   "execution_count": 17,
   "metadata": {},
   "outputs": [],
   "source": [
    "/*\n",
    "Given a set of points in the plane. \n",
    "the convex hull of the set is the smallest convex polygon that contains all the points of it.\n",
    "*/"
   ]
  },
  {
   "cell_type": "markdown",
   "metadata": {},
   "source": [
    "<img src = \"https://media.geeksforgeeks.org/wp-content/uploads/ConvexHull.png\"/>"
   ]
  },
  {
   "cell_type": "markdown",
   "metadata": {},
   "source": [
    "**Related Link :**   ***https://www.geeksforgeeks.org/check-if-two-given-line-segments-intersect/***"
   ]
  },
  {
   "cell_type": "code",
   "execution_count": 18,
   "metadata": {},
   "outputs": [],
   "source": [
    "/*\n",
    "The idea of Jarvis’s Algorithm is simple,\n",
    "    we start from the leftmost point (or point with minimum x coordinate value) \n",
    "    and we keep wrapping points in counterclockwise direction. \n",
    "    \n",
    "The big question is,\n",
    "    given a point p as current point, \n",
    "    \n",
    "how to find the next point in output? \n",
    "\n",
    "The idea is to use orientation() here.(See below link)\n",
    "\n",
    "Next point is selected as the point that beats all other points at counterclockwise orientation, \n",
    "i.e., next point is q if for any other point r, \n",
    "    we have “orientation(p, q, r) = counterclockwise”. \n",
    "    \n",
    "Following is the detailed algorithm.\n",
    "\n",
    "1) Initialize p as leftmost point.\n",
    "2) Do following while we don’t come back to the first (or leftmost) point.\n",
    "    a) The next point q is the point such that the triplet (p, q, r) is counterclockwise for any other point r.\n",
    "    b) next[p] = q (Store q as next of p in the output convex hull).\n",
    "    c) p = q (Set p as q for next iteration).\n",
    "*/"
   ]
  },
  {
   "cell_type": "markdown",
   "metadata": {},
   "source": [
    "***https://www.geeksforgeeks.org/orientation-3-ordered-points/***"
   ]
  },
  {
   "cell_type": "markdown",
   "metadata": {},
   "source": [
    "<img src = \"https://media.geeksforgeeks.org/wp-content/uploads/JarvisAlgorithm.png\"/>"
   ]
  },
  {
   "cell_type": "code",
   "execution_count": 19,
   "metadata": {},
   "outputs": [],
   "source": [
    "class Point \n",
    "{ \n",
    "    int x, y; \n",
    "    Point(int x, int y){ \n",
    "        this.x=x; \n",
    "        this.y=y; \n",
    "    } \n",
    "} "
   ]
  },
  {
   "cell_type": "code",
   "execution_count": 20,
   "metadata": {},
   "outputs": [],
   "source": [
    "// To find orientation of ordered triplet (p, q, r). \n",
    "// The function returns following values \n",
    "// 0 --> p, q and r are colinear \n",
    "// 1 --> Clockwise \n",
    "// 2 --> Counterclockwise \n",
    "public static int orientation(Point p, Point q, Point r) \n",
    "{ \n",
    "    int val = (q.y - p.y) * (r.x - q.x) - \n",
    "              (q.x - p.x) * (r.y - q.y); \n",
    "\n",
    "    if (val == 0) return 0;  // collinear \n",
    "    return (val > 0)? 1: 2; // clock or counterclock wise \n",
    "} "
   ]
  },
  {
   "cell_type": "code",
   "execution_count": 21,
   "metadata": {},
   "outputs": [],
   "source": [
    "// Prints convex hull of a set of n points. \n",
    "public static void convexHull(Point points[], int n) \n",
    "{ \n",
    "    // There must be at least 3 points \n",
    "    if (n < 3) return; \n",
    "\n",
    "    // Initialize Result \n",
    "    Vector<Point> hull = new Vector<Point>(); \n",
    "\n",
    "    // Find the leftmost point \n",
    "    int l = 0; \n",
    "    for (int i = 1; i < n; i++) \n",
    "        if (points[i].x < points[l].x) \n",
    "            l = i; \n",
    "\n",
    "    // Start from leftmost point, keep moving  \n",
    "    // counterclockwise until reach the start point \n",
    "    // again. This loop runs O(h) times where h is \n",
    "    // number of points in result or output. \n",
    "    int p = l, q; \n",
    "    do\n",
    "    { \n",
    "        // Add current point to result \n",
    "        hull.add(points[p]); \n",
    "\n",
    "        // Search for a point 'q' such that  \n",
    "        // orientation(p, x, q) is counterclockwise  \n",
    "        // for all points 'x'. The idea is to keep  \n",
    "        // track of last visited most counterclock- \n",
    "        // wise point in q. If any point 'i' is more  \n",
    "        // counterclock-wise than q, then update q. \n",
    "        q = (p + 1) % n; \n",
    "\n",
    "        for (int i = 0; i < n; i++) \n",
    "        { \n",
    "           // If i is more counterclockwise than  \n",
    "           // current q, then update q \n",
    "           if (orientation(points[p], points[i], points[q]) \n",
    "                                               == 2) \n",
    "               q = i; \n",
    "        } \n",
    "\n",
    "        // Now q is the most counterclockwise with \n",
    "        // respect to p. Set p as q for next iteration,  \n",
    "        // so that q is added to result 'hull' \n",
    "        p = q; \n",
    "\n",
    "    } while (p != l);  // While we don't come to first  \n",
    "                       // point \n",
    "\n",
    "    // Print Result \n",
    "    for (Point temp : hull) \n",
    "        System.out.println(\"(\" + temp.x + \", \" + \n",
    "                            temp.y + \")\"); \n",
    "} "
   ]
  },
  {
   "cell_type": "code",
   "execution_count": 22,
   "metadata": {},
   "outputs": [
    {
     "name": "stdout",
     "output_type": "stream",
     "text": [
      "(0, 3)\n",
      "(0, 0)\n",
      "(3, 0)\n",
      "(3, 3)\n"
     ]
    }
   ],
   "source": [
    "/* Driver program to test above function */\n",
    "public static void main(String[] args)  \n",
    "{ \n",
    "\n",
    "    Point points[] = new Point[7]; \n",
    "    points[0]=new Point(0, 3); \n",
    "    points[1]=new Point(2, 3); \n",
    "    points[2]=new Point(1, 1); \n",
    "    points[3]=new Point(2, 1); \n",
    "    points[4]=new Point(3, 0); \n",
    "    points[5]=new Point(0, 0); \n",
    "    points[6]=new Point(3, 3); \n",
    "\n",
    "    int n = points.length; \n",
    "    convexHull(points, n); \n",
    "\n",
    "} \n",
    "main(args);"
   ]
  },
  {
   "cell_type": "code",
   "execution_count": 23,
   "metadata": {},
   "outputs": [],
   "source": [
    "/*\n",
    "Time Complexity: \n",
    "    For every point on the hull we examine all the other points to determine the next point. \n",
    "    Time complexity is ?\n",
    "        (m * n) \n",
    "            where n is number of input points \n",
    "            and m is number of output or hull points (m <= n). \n",
    "\n",
    "In worst case,\n",
    "    time complexity is O(n^2).\n",
    "    \n",
    "The worst case occurs when all the points are on the hull (m = n)\n",
    "*/"
   ]
  },
  {
   "cell_type": "markdown",
   "metadata": {},
   "source": [
    "**Related Link :**   ***https://www.geeksforgeeks.org/convex-hull-set-2-graham-scan/***"
   ]
  },
  {
   "cell_type": "markdown",
   "metadata": {},
   "source": [
    "## **476. Find Simple Closed Path for a given set of points**\n",
    "https://www.geeksforgeeks.org/find-simple-closed-path-for-a-given-set-of-points/"
   ]
  },
  {
   "cell_type": "code",
   "execution_count": 24,
   "metadata": {},
   "outputs": [],
   "source": [
    "/*\n",
    "Given a set of points, connect the dots without crossing.\n",
    "*/"
   ]
  },
  {
   "cell_type": "markdown",
   "metadata": {
    "cell_style": "split"
   },
   "source": [
    "<img src = \"https://media.geeksforgeeks.org/wp-content/uploads/Simple_closed_path_1.jpg\"/>"
   ]
  },
  {
   "cell_type": "markdown",
   "metadata": {},
   "source": [
    "<img src = \"https://media.geeksforgeeks.org/wp-content/uploads/Simple_closed_path_2.jpg\"/>"
   ]
  },
  {
   "cell_type": "code",
   "execution_count": 25,
   "metadata": {},
   "outputs": [],
   "source": [
    "/*\n",
    "Example:\n",
    "\n",
    "Input: points[] = {(0, 3), (1, 1), (2, 2), (4, 4),\n",
    "                   (0, 0), (1, 2), (3, 1}, {3, 3}};\n",
    "\n",
    "Output: Connecting points in following order would\n",
    "        not cause any crossing\n",
    "       {(0, 0), (3, 1), (1, 1), (2, 2), (3, 3),\n",
    "        (4, 4), (1, 2), (0, 3)}\n",
    "*/"
   ]
  },
  {
   "cell_type": "code",
   "execution_count": 26,
   "metadata": {},
   "outputs": [],
   "source": [
    "/*\n",
    "The idea is to use sorting.\n",
    "\n",
    "1. Find the bottom-most point by comparing y coordinate of all points. \n",
    "        If there are two points with same y value,\n",
    "            then the point with smaller x coordinate value is considered. \n",
    "    Put the bottom-most point at first position.\n",
    "*/"
   ]
  },
  {
   "cell_type": "markdown",
   "metadata": {},
   "source": [
    "<img src = \"https://media.geeksforgeeks.org/wp-content/uploads/Simple_closed_path_3.jpg\"/>"
   ]
  },
  {
   "cell_type": "code",
   "execution_count": 27,
   "metadata": {},
   "outputs": [],
   "source": [
    "/*\n",
    "1. Consider the remaining n-1 points and sort them by polor angle in counterclockwise order around points[0]. \n",
    "    If polor angle of two points is same, \n",
    "        then put the nearest point first.\n",
    "2. Traversing the sorted array (sorted in increasing order of angle) yields simple closed path.\n",
    "*/"
   ]
  },
  {
   "cell_type": "markdown",
   "metadata": {},
   "source": [
    "<img src = \"https://media.geeksforgeeks.org/wp-content/uploads/Simple_closed_path_4.jpg\"/>"
   ]
  },
  {
   "cell_type": "code",
   "execution_count": 28,
   "metadata": {},
   "outputs": [],
   "source": [
    "/*\n",
    "How to compute angles?\n",
    "\n",
    "    One solution is to use trigonometric functions.\n",
    "    Observation: \n",
    "        We don’t care about the actual values of the angles. We just want to sort by angle.\n",
    "    Idea:\n",
    "        Use the orientation (See Below Link) to compare angles without actually computing them!\n",
    "*/"
   ]
  },
  {
   "cell_type": "markdown",
   "metadata": {},
   "source": [
    "***https://www.geeksforgeeks.org/orientation-3-ordered-points/***"
   ]
  },
  {
   "cell_type": "code",
   "execution_count": 29,
   "metadata": {},
   "outputs": [],
   "source": [
    "/*\n",
    "Time complexity of above solution is O(n Log n) \n",
    "    if we use a O(nLogn) sorting algorithm for sorting points.\n",
    "*/"
   ]
  },
  {
   "cell_type": "markdown",
   "metadata": {},
   "source": [
    "***https://ideone.com/rAusML***"
   ]
  },
  {
   "cell_type": "markdown",
   "metadata": {},
   "source": [
    "## **477. Convex Hull | Set 2 (Graham Scan)**\n",
    "https://www.geeksforgeeks.org/convex-hull-set-2-graham-scan/"
   ]
  },
  {
   "cell_type": "code",
   "execution_count": 30,
   "metadata": {},
   "outputs": [],
   "source": [
    "/*\n",
    "Given a set of points in the plane. \n",
    "the convex hull of the set is the smallest convex polygon that contains all the points of it.\n",
    "*/"
   ]
  },
  {
   "cell_type": "markdown",
   "metadata": {},
   "source": [
    "<img src = \"https://media.geeksforgeeks.org/wp-content/uploads/ConvexHull.png\"/>"
   ]
  },
  {
   "cell_type": "markdown",
   "metadata": {},
   "source": [
    "**Related Link :**   ***https://www.geeksforgeeks.org/check-if-two-given-line-segments-intersect/***"
   ]
  },
  {
   "cell_type": "code",
   "execution_count": 31,
   "metadata": {},
   "outputs": [],
   "source": [
    "/*\n",
    "For Complete Description and Solution \n",
    "View Question Link\n",
    "*/"
   ]
  },
  {
   "cell_type": "markdown",
   "metadata": {},
   "source": [
    "## **478. Quickhull Algorithm for Convex Hull**\n",
    "https://www.geeksforgeeks.org/quickhull-algorithm-convex-hull/"
   ]
  },
  {
   "cell_type": "code",
   "execution_count": 32,
   "metadata": {},
   "outputs": [],
   "source": [
    "/*\n",
    "Given a set of points, a Convex hull is the smallest convex polygon containing all the given points.\n",
    "\n",
    "Input is an array of points specified by their x and y coordinates. \n",
    "Output is a convex hull of this set of points in ascending order of x coordinates.\n",
    "*/"
   ]
  },
  {
   "cell_type": "markdown",
   "metadata": {},
   "source": [
    "<img src =  \"https://media.geeksforgeeks.org/wp-content/uploads/convexHull.jpg\"/>"
   ]
  },
  {
   "cell_type": "code",
   "execution_count": 33,
   "metadata": {},
   "outputs": [],
   "source": [
    "/*\n",
    "Example :\n",
    "\n",
    "Input : points[] = {{0, 3}, {1, 1}, {2, 2}, {4, 4},\n",
    "                    {0, 0}, {1, 2}, {3, 1}, {3, 3}};\n",
    "Output :  The points in convex hull are:\n",
    "          (0, 0) (0, 3) (3, 1) (4, 4)\n",
    "\n",
    "Input : points[] = {{0, 3}, {1, 1}\n",
    "Output : Not Possible\n",
    "There must be at least three points to form a hull.\n",
    "\n",
    "Input  : points[] = {(0, 0), (0, 4), (-4, 0), (5, 0), \n",
    "                     (0, -6), (1, 0)};\n",
    "Output : (-4, 0), (5, 0), (0, -6), (0, 4)\n",
    "*/"
   ]
  },
  {
   "cell_type": "code",
   "execution_count": 34,
   "metadata": {},
   "outputs": [],
   "source": [
    "/*\n",
    "The QuickHull algorithm is a Divide and Conquer algorithm similar to QuickSort. \n",
    "Let a[0…n-1] be the input array of points. \n",
    "\n",
    "Following are the steps for finding the convex hull of these points.\n",
    "\n",
    "1. Find the point with minimum x-coordinate lets say, min_x and similarly the point with maximum x-coordinate, max_x.\n",
    "2. Make a line joining these two points, say L. This line will divide the whole set into two parts. \n",
    "    Take both the parts one by one and proceed further.\n",
    "3. For a part, find the point P with maximum distance from the line L.\n",
    "    P forms a triangle with the points min_x, max_x. \n",
    "    It is clear that the points residing inside this triangle can never be the part of convex hull.\n",
    "4. The above step divides the problem into two sub-problems (solved recursively). \n",
    "    Now the line joining the points P and min_x and the line joining the points P \n",
    "    and max_x are new lines and the points residing outside the triangle is the set of points. \n",
    "    Repeat point no. 3 till there no point left with the line.\n",
    "    Add the end points of this point to the convex hull.\n",
    "*/"
   ]
  },
  {
   "cell_type": "markdown",
   "metadata": {},
   "source": [
    "***https://ideone.com/CU2WTY***"
   ]
  },
  {
   "cell_type": "code",
   "execution_count": 35,
   "metadata": {},
   "outputs": [],
   "source": [
    "/*\n",
    "Time Complexity:\n",
    "    The analysis is similar to Quick Sort. \n",
    "    \n",
    "On average, we get time complexity as O(n Log n), \n",
    "but in worst case, it can become O(n2)\n",
    "*/"
   ]
  },
  {
   "cell_type": "markdown",
   "metadata": {},
   "source": [
    "## **479. Closest Pair of Points | O(nlogn) Implementation**\n",
    "https://www.geeksforgeeks.org/closest-pair-of-points-onlogn-implementation/"
   ]
  },
  {
   "cell_type": "code",
   "execution_count": 36,
   "metadata": {},
   "outputs": [],
   "source": [
    "/*\n",
    "We are given an array of n points in the plane, \n",
    "and the problem is to find out the closest pair of points in the array. \n",
    "\n",
    "This problem arises in a number of applications. \n",
    "For example, \n",
    "    in air-traffic control, \n",
    "        you may want to monitor planes that come too close together, \n",
    "            since this may indicate a possible collision.\n",
    "            \n",
    "Recall the following formula for distance between two points p and q.\n",
    "*/"
   ]
  },
  {
   "cell_type": "markdown",
   "metadata": {},
   "source": [
    "<img src =\"https://www.geeksforgeeks.org/wp-content/ql-cache/quicklatex.com-7beb1b6fc66cf17e39144e26a5d5e882_l3.svg\"/>"
   ]
  },
  {
   "cell_type": "markdown",
   "metadata": {},
   "source": [
    "***https://www.geeksforgeeks.org/closest-pair-of-points/***"
   ]
  },
  {
   "cell_type": "code",
   "execution_count": 37,
   "metadata": {},
   "outputs": [],
   "source": [
    "/*\n",
    "Following is a recap of the algorithm discussed in the previous post.(in above link)\n",
    "(Time Complexity = is O(n (Logn)^2))\n",
    "\n",
    "1) We sort all points according to x coordinates.\n",
    "\n",
    "2) Divide all points in two halves.\n",
    "\n",
    "3) Recursively find the smallest distances in both subarrays.\n",
    "\n",
    "4) Take the minimum of two smallest distances. Let the minimum be d.\n",
    "\n",
    "5) Create an array strip[] that stores all points which are at most d distance away from the middle line dividing the two sets.\n",
    "\n",
    "6) Find the smallest distance in strip[].\n",
    "\n",
    "7) Return the minimum of d and the smallest distance calculated in above step 6.\n",
    "*/"
   ]
  },
  {
   "cell_type": "code",
   "execution_count": 38,
   "metadata": {},
   "outputs": [],
   "source": [
    "/*\n",
    "The great thing about the above approach is, \n",
    "    if the array strip[] is sorted according to y coordinate, \n",
    "        then we can find the smallest distance in strip[] in O(n) time.\n",
    "        \n",
    "In the implementation discussed in the previous post, \n",
    "    strip[] was explicitly sorted in every recursive call that made the time complexity O(n (Logn)^2), \n",
    "        assuming that the sorting step takes O(nLogn) time.\n",
    "\n",
    "In this post, \n",
    "    we discuss an implementation where the time complexity is O(nLogn).\n",
    "        The idea is to presort all points according to y coordinates. \n",
    "        Let the sorted array be Py[]. \n",
    "            When we make recursive calls, \n",
    "                we need to divide points of Py[] also according to the vertical line.\n",
    "        We can do that by simply processing every point and comparing its x coordinate with x coordinate of the middle line.\n",
    "*/"
   ]
  },
  {
   "cell_type": "markdown",
   "metadata": {},
   "source": [
    "***https://ideone.com/Xa6BuX***"
   ]
  },
  {
   "cell_type": "code",
   "execution_count": 39,
   "metadata": {},
   "outputs": [],
   "source": [
    "/*\n",
    "Time Complexity:\n",
    "    1. Let Time complexity of above algorithm be T(n). \n",
    "    2. Let us assume that we use a O(nLogn) sorting algorithm. \n",
    "    3. The above algorithm divides all points in two sets and recursively calls for two sets. \n",
    "    4. After dividing,\n",
    "        it finds the strip in O(n) time.\n",
    "    5. Also, \n",
    "        it takes O(n) time to divide the Py array around the mid vertical line.\n",
    "    6. Finally \n",
    "        finds the closest points in strip in O(n) time. \n",
    "    7. So T(n) can be expressed as follows\n",
    "\n",
    "T(n) = 2T(n/2) + O(n) + O(n) + O(n)\n",
    "T(n) = 2T(n/2) + O(n)\n",
    "T(n) = T(nLogn)\n",
    "*/"
   ]
  },
  {
   "cell_type": "markdown",
   "metadata": {},
   "source": [
    "## **480. The Skyline Problem using Divide and Conquer algorithm**\n",
    "https://www.geeksforgeeks.org/the-skyline-problem-using-divide-and-conquer-algorithm/"
   ]
  },
  {
   "cell_type": "code",
   "execution_count": 40,
   "metadata": {},
   "outputs": [],
   "source": [
    "/*\n",
    "Given n rectangular buildings in a 2-dimensional city,\n",
    "    computes the skyline of these buildings, eliminating hidden lines.\n",
    "The main task is to view buildings from a side and remove all sections that are not visible.\n",
    "\n",
    "All buildings share common bottom and every building is represented by triplet (left, ht, right)\n",
    "\n",
    "‘left’: is x coordinated of left side (or wall).\n",
    "‘right’: is x coordinate of right side\n",
    "‘ht’: is height of building.\n",
    "*/"
   ]
  },
  {
   "cell_type": "code",
   "execution_count": 41,
   "metadata": {},
   "outputs": [],
   "source": [
    "/*\n",
    "A skyline is a collection of rectangular strips. \n",
    "A rectangular strip is represented as a pair (left, ht) \n",
    "    where left is x coordinate of left side of strip and ht is height of strip.\n",
    "*/"
   ]
  },
  {
   "cell_type": "code",
   "execution_count": 42,
   "metadata": {},
   "outputs": [],
   "source": [
    "/*\n",
    "Examples:\n",
    "\n",
    "Input: Array of buildings\n",
    "       { (1, 11, 5), (2, 6, 7), (3, 13, 9), (12, 7, 16), (14, 3, 25),\n",
    "         (19, 18, 22), (23, 13, 29), (24, 4, 28) }\n",
    "\n",
    "Output: Skyline (an array of rectangular strips)\n",
    "        A strip has x coordinate of left side and height \n",
    "        (1, 11), (3, 13), (9, 0), (12, 7), (16, 3), (19, 18),  \n",
    "        (22, 3), (25, 0)\n",
    "\n",
    "Below image is for input 1 :\n",
    "\n",
    "Consider following as another example when there is only one\n",
    "building\n",
    "Input:  {(1, 11, 5)}\n",
    "Output: (1, 11), (5, 0)\n",
    "*/"
   ]
  },
  {
   "cell_type": "markdown",
   "metadata": {},
   "source": [
    "<img src =\"https://media.geeksforgeeks.org/wp-content/uploads/SkyLineProblem.png\"/>"
   ]
  },
  {
   "cell_type": "code",
   "execution_count": 43,
   "metadata": {},
   "outputs": [],
   "source": [
    "/*\n",
    "A Simple Solution is to initialize skyline or result as empty, \n",
    "    then one by one add buildings to skyline.\n",
    "    \n",
    "A building is added by first finding the overlapping strip(s). \n",
    "\n",
    "If there are no overlapping strips, \n",
    "    the new building adds new strip(s). \n",
    "    \n",
    "If overlapping strip is found,\n",
    "    then height of the existing strip may increase.\n",
    "    \n",
    "Time complexity of this solution is O(n^2)\n",
    "\n",
    "We can find Skyline in Θ(nLogn) time using Divide and Conquer. (See Below Link)\n",
    "\n",
    "The idea is similar to Merge Sort, \n",
    "    divide the given set of buildings in two subsets. \n",
    "    \n",
    "Recursively construct skyline for two halves and finally merge the two skylines.\n",
    "*/"
   ]
  },
  {
   "cell_type": "markdown",
   "metadata": {},
   "source": [
    "***https://www.geeksforgeeks.org/divide-and-conquer-set-1-find-closest-pair-of-points/***"
   ]
  },
  {
   "cell_type": "code",
   "execution_count": 44,
   "metadata": {},
   "outputs": [],
   "source": [
    "/*\n",
    "How to Merge two Skylines?\n",
    "\n",
    "The idea is similar to merge of merge sort, \n",
    "    start from first strips of two skylines, compare x coordinates. \n",
    "    \n",
    "Pick the strip with smaller x coordinate and add it to result. \n",
    "\n",
    "The height of added strip is considered as maximum of current heights from skyline1 and skyline2.\n",
    "*/"
   ]
  },
  {
   "cell_type": "code",
   "execution_count": 45,
   "metadata": {},
   "outputs": [],
   "source": [
    "/*\n",
    "Example to show working of merge:\n",
    "\n",
    "  Height of new Strip is always obtained by takin maximum of following\n",
    "     (a) Current height from skyline1, say 'h1'.  \n",
    "     (b) Current height from skyline2, say 'h2'\n",
    "  h1 and h2 are initialized as 0. h1 is updated when a strip from\n",
    "  SkyLine1 is added to result and h2 is updated when a strip from \n",
    "  SkyLine2 is added.\n",
    " \n",
    "  Skyline1 = {(1, 11),  (3, 13),  (9, 0),  (12, 7),  (16, 0)}\n",
    "  Skyline2 = {(14, 3),  (19, 18), (22, 3), (23, 13),  (29, 0)}\n",
    "  Result = {}\n",
    "  h1 = 0, h2 = 0\n",
    " \n",
    "  Compare (1, 11) and (14, 3).  Since first strip has smaller left x,\n",
    "  add it to result and increment index for Skyline1. \n",
    "  h1 = 11, New Height  = max(11, 0)   \n",
    "  Result =   {(1, 11)}\n",
    "\n",
    "  Compare (3, 13) and (14, 3). Since first strip has smaller left x,\n",
    "  add it to result and increment index for Skyline1\n",
    "  h1 = 13, New Height =  max(13, 0)\n",
    "  Result =  {(1, 11), (3, 13)}   \n",
    "  \n",
    "  Similarly (9, 0) and (12, 7) are added.\n",
    "  h1 = 7, New Height =  max(7, 0) = 7\n",
    "  Result =   {(1, 11), (3, 13), (9, 0), (12, 7)}\n",
    "\n",
    "  Compare (16, 0) and (14, 3). Since second strip has smaller left x, \n",
    "  it is added to result.\n",
    "  h2 = 3, New Height =  max(7, 3) = 7\n",
    "  Result =   {(1, 11), (3, 13), (9, 0), (12, 7), (14, 7)}\n",
    "\n",
    "  Compare (16, 0) and (19, 18). Since first strip has smaller left x, \n",
    "  it is added to result.\n",
    "  h1 = 0, New Height =  max(0, 3) = 3\n",
    "  Result =   {(1, 11), (3, 13), (9, 0), (12, 7), (14, 7), (16, 3)}\n",
    "\n",
    "Since Skyline1 has no more items, all remaining items of Skyline2 \n",
    "are added \n",
    "  Result =   {(1, 11), (3, 13), (9, 0), (12, 7), (14, 7), (16, 3), \n",
    "              (19, 18), (22, 3), (23, 13), (29, 0)}\n",
    "\n",
    "One observation about above output is, the strip (14, 7) is redundant\n",
    "(There is already an strip of same height). We remove all redundant \n",
    "strips. \n",
    "  Result =   {(1, 11), (3, 13), (9, 0), (12, 7), (16, 3), (19, 18), \n",
    "              (22, 3), (23, 13), (29, 0)}\n",
    "\n",
    "In below code, redundancy is handled by not appending a strip if the \n",
    "previous strip in result has same height.\n",
    "*/"
   ]
  },
  {
   "cell_type": "markdown",
   "metadata": {},
   "source": [
    "***https://ideone.com/7nVzPe***"
   ]
  },
  {
   "cell_type": "code",
   "execution_count": 46,
   "metadata": {},
   "outputs": [],
   "source": [
    "/*\n",
    "Time complexity of above recursive implementation is same as Merge Sort.\n",
    "\n",
    "T(n) = T(n/2) + Θ(n)\n",
    "\n",
    "Solution of above recurrence is Θ(nLogn)\n",
    "*/"
   ]
  },
  {
   "cell_type": "markdown",
   "metadata": {},
   "source": [
    "## **481. Given n line segments, find if any two segments intersect**\n",
    "https://www.geeksforgeeks.org/given-a-set-of-line-segments-find-if-any-two-segments-intersect/"
   ]
  },
  {
   "cell_type": "code",
   "execution_count": 47,
   "metadata": {},
   "outputs": [],
   "source": [
    "/*\n",
    "View Question Link For Better Understanding\n",
    "*/"
   ]
  },
  {
   "cell_type": "markdown",
   "metadata": {},
   "source": [
    "## **482. Line Sweep Technique**\n",
    "https://www.hackerearth.com/practice/math/geometry/line-sweep-technique/tutorial/"
   ]
  },
  {
   "cell_type": "code",
   "execution_count": 48,
   "metadata": {},
   "outputs": [],
   "source": [
    "/*\n",
    "View Question Link For Better Understanding\n",
    "*/"
   ]
  },
  {
   "cell_type": "markdown",
   "metadata": {},
   "source": [
    "## **483. Line Intersection using Bentley Ottmann Algorithm**\n",
    "https://www.hackerearth.com/practice/math/geometry/line-intersection-using-bentley-ottmann-algorithm/tutorial/"
   ]
  },
  {
   "cell_type": "code",
   "execution_count": 49,
   "metadata": {},
   "outputs": [],
   "source": [
    "/*\n",
    "View Question Link For Better Understanding\n",
    "*/"
   ]
  },
  {
   "cell_type": "markdown",
   "metadata": {},
   "source": [
    "## **484. Points Inside A Polygon**\n",
    "https://www.codechef.com/FEB18/problems/POINPOLY"
   ]
  },
  {
   "cell_type": "code",
   "execution_count": 50,
   "metadata": {},
   "outputs": [],
   "source": [
    "/*\n",
    "You are given a convex polygon with N vertices.\n",
    "\n",
    "You have to find any ⌊N/10⌋ distinct points with integer coordinates that lie strictly inside the polygon, \n",
    "or determine that such a set of points doesn't exist.\n",
    "\n",
    "Note: ⌊⌋ denotes the floor function, typically used in integer division.\n",
    "*/"
   ]
  },
  {
   "cell_type": "code",
   "execution_count": 51,
   "metadata": {},
   "outputs": [],
   "source": [
    "/*\n",
    "Input\n",
    "\n",
    "1. The first line of the input contains a single integer T denoting the number of test cases. \n",
    "2. The description of T test cases follows.\n",
    "3. The first line of each test case contains a single integer N denoting the number of vertices of the polygon.\n",
    "4. The following N lines describe the vertices of the polygon in anticlockwise order. \n",
    "    Each of these lines contains two space-separated integers x and y denoting the coordinates of one vertex.\n",
    "\n",
    "Output\n",
    "\n",
    "1. For each test case, \n",
    "    if a valid set of points doesn't exist, \n",
    "        print a single line containing the integer -1. \n",
    "    Otherwise, \n",
    "        print ⌊N/10⌋ lines. \n",
    "2. Each of these lines should contain two space-separated integers denoting the coordinates of one point.\n",
    "\n",
    "3. The coordinates of all points should be integers with absolute value not exceeding 109. \n",
    "4. If there are multiple solutions, \n",
    "    you may print any one.\n",
    "*/"
   ]
  },
  {
   "cell_type": "code",
   "execution_count": 52,
   "metadata": {},
   "outputs": [],
   "source": [
    "/*\n",
    "Constraints\n",
    "\n",
    "1 ≤ T ≤ 105\n",
    "10 ≤ N ≤ 105\n",
    "sum of N over all test cases ≤ 5 · 105\n",
    "|x|, |y| ≤ 109\n",
    "no three vertices of the polygon will be collinear\n",
    "*/"
   ]
  },
  {
   "cell_type": "code",
   "execution_count": 53,
   "metadata": {},
   "outputs": [],
   "source": [
    "/*\n",
    "Example\n",
    "Input\n",
    "\n",
    "1\n",
    "11\n",
    "0 0\n",
    "1 1\n",
    "2 3\n",
    "2 5\n",
    "0 10\n",
    "-2 10\n",
    "-5 9\n",
    "-8 7\n",
    "-8 4\n",
    "-6 1\n",
    "-2 0\n",
    "\n",
    "Output\n",
    "\n",
    "0 1\n",
    "Explanation\n",
    "\n",
    "Example case 1: The polygon is shown in the picture:\n",
    "\n",
    "You are required to output exactly ⌊N/10⌋ = ⌊11/10⌋ = 1 point.\n",
    "One possible point that you can output is (0, 1). \n",
    "You can also output (0, 2), (-1, 3) or (1, 3).\n",
    "However, (0, 0) is a wrong answer, \n",
    "    because this point lies on the border of the convex polygon.\n",
    "If you output (-1, -1), \n",
    "    that's also a wrong answer, \n",
    "    because this point lies outside the convex polygon. \n",
    "You can't output (1.1, 1.5) either, \n",
    "    because it doesn't have integer coordinates,\n",
    "    though it lies strictly inside the polygon.\n",
    "*/"
   ]
  },
  {
   "cell_type": "markdown",
   "metadata": {},
   "source": [
    "<img src = \"https://discuss.codechef.com/upfiles/poinpoly_axUFPiA.png\"/>"
   ]
  },
  {
   "cell_type": "markdown",
   "metadata": {},
   "source": [
    "***https://www.codechef.com/viewsolution/17425146***"
   ]
  },
  {
   "cell_type": "markdown",
   "metadata": {},
   "source": [
    "***https://www.codechef.com/viewsolution/17416287***"
   ]
  },
  {
   "cell_type": "code",
   "execution_count": null,
   "metadata": {},
   "outputs": [],
   "source": []
  }
 ],
 "metadata": {
  "kernelspec": {
   "display_name": "Java",
   "language": "java",
   "name": "java"
  },
  "language_info": {
   "codemirror_mode": "java",
   "file_extension": ".jshell",
   "mimetype": "text/x-java-source",
   "name": "Java",
   "pygments_lexer": "java",
   "version": "11.0.6+8-LTS"
  },
  "toc": {
   "base_numbering": 1,
   "nav_menu": {},
   "number_sections": true,
   "sideBar": true,
   "skip_h1_title": true,
   "title_cell": "Table of Contents",
   "title_sidebar": "Contents",
   "toc_cell": false,
   "toc_position": {},
   "toc_section_display": true,
   "toc_window_display": true
  }
 },
 "nbformat": 4,
 "nbformat_minor": 2
}
