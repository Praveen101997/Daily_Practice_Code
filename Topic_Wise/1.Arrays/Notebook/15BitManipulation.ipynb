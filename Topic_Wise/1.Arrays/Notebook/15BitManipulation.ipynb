{
 "cells": [
  {
   "cell_type": "markdown",
   "metadata": {},
   "source": [
    "# ------------------------------BIT MANIPULATION---------------------------------\n",
    "**==============================================================================**\n",
    "# Assembled By - Praveen Kumar Sharma\n",
    "# Source - GeeksForGeeks\n",
    "**==============================================================================**"
   ]
  },
  {
   "cell_type": "code",
   "execution_count": 1,
   "metadata": {},
   "outputs": [],
   "source": [
    "import java.util.*;\n",
    "import java.io.*;\n",
    "String[] args =new String[0];"
   ]
  },
  {
   "cell_type": "markdown",
   "metadata": {},
   "source": [
    "## **453. Find the two non-repeating elements in an array of repeating elements**\n",
    "https://www.geeksforgeeks.org/find-two-non-repeating-elements-in-an-array-of-repeating-elements/"
   ]
  },
  {
   "cell_type": "code",
   "execution_count": 2,
   "metadata": {},
   "outputs": [],
   "source": [
    "/*\n",
    "Given an array in which all numbers except two are repeated once. \n",
    "    (i.e. we have 2n+2 numbers and n numbers are occurring twice and remaining two have occurred once). \n",
    "Find those two numbers in the most efficient way.\n",
    "*/"
   ]
  },
  {
   "cell_type": "code",
   "execution_count": 3,
   "metadata": {},
   "outputs": [],
   "source": [
    "/*\n",
    "Method 1(Use Sorting)\n",
    "\n",
    "First, \n",
    "    sort all the elements.\n",
    "In the sorted array, \n",
    "    by comparing adjacent elements we can easily get the non-repeating elements.\n",
    "    \n",
    "Time complexity of this method is O(nLogn)\n",
    "*/"
   ]
  },
  {
   "cell_type": "code",
   "execution_count": 4,
   "metadata": {},
   "outputs": [],
   "source": [
    "/*\n",
    "Method 2(Use XOR)\n",
    "\n",
    "Let x and y be the non-repeating elements we are looking for and arr[] be the input array. \n",
    "First, \n",
    "    calculate the XOR of all the array elements.\n",
    "    \n",
    "    xor = arr[0]^arr[1]^arr[2].....arr[n-1]\n",
    "    \n",
    "All the bits that are set in xor will be set in one non-repeating element (x or y) and not in others. \n",
    "So if we take any set bit of xor \n",
    "    and divide the elements of the array in two sets \n",
    "\n",
    "– one set of elements with same bit set and \n",
    "another set with same bit not set. \n",
    "\n",
    "By doing so, \n",
    "    we will get x in one set and y in another set. \n",
    "    \n",
    "Now if we do XOR of all the elements in the first set,\n",
    "    we will get the first non-repeating element,\n",
    "    \n",
    "    and \n",
    "    \n",
    "by doing same in other sets \n",
    "    we will get the second non-repeating element.\n",
    "*/"
   ]
  },
  {
   "cell_type": "code",
   "execution_count": 5,
   "metadata": {},
   "outputs": [],
   "source": [
    "/*\n",
    "Let us see an example.\n",
    "   arr[] = {2, 4, 7, 9, 2, 4}\n",
    "1) Get the XOR of all the elements.\n",
    "     xor = 2^4^7^9^2^4 = 14 (1110)\n",
    "2) Get a number which has only one set bit of the xor.   \n",
    "   Since we can easily get the rightmost set bit, let us use it.\n",
    "     set_bit_no = xor & ~(xor-1) = (1110) & ~(1101) = 0010\n",
    "   Now set_bit_no will have only set as rightmost set bit of xor.\n",
    "3) Now divide the elements in two sets and do xor of         \n",
    "   elements in each set and we get the non-repeating \n",
    "   elements 7 and 9. Please see the implementation for this step.\n",
    "*/"
   ]
  },
  {
   "cell_type": "code",
   "execution_count": 6,
   "metadata": {},
   "outputs": [],
   "source": [
    "/*\n",
    "Time Complexity: O(n)\n",
    "Auxiliary Space: O(1)\n",
    "*/"
   ]
  },
  {
   "cell_type": "markdown",
   "metadata": {},
   "source": [
    "**Related Link :**   ***https://www.geeksforgeeks.org/find-the-two-numbers-with-odd-occurences-in-an-unsorted-array/***"
   ]
  },
  {
   "cell_type": "code",
   "execution_count": 7,
   "metadata": {},
   "outputs": [],
   "source": [
    "class Pair{\n",
    "    int a;\n",
    "    int b;\n",
    "};"
   ]
  },
  {
   "cell_type": "code",
   "execution_count": 8,
   "metadata": {},
   "outputs": [],
   "source": [
    "/* This finction sets the values of  \n",
    "*x and *y to nonr-epeating elements \n",
    "in an array arr[] of size n*/\n",
    "Pair get2NonRepeatingNos(int arr[], int n)  \n",
    "{  \n",
    "    int Xor = arr[0]; /* Will hold Xor of all elements */\n",
    "    int set_bit_no; /* Will have only single set bit of Xor */\n",
    "    int i;  \n",
    "    int x = 0;  \n",
    "    int y = 0;  \n",
    "      \n",
    "    /* Get the Xor of all elements */\n",
    "    for(i = 1; i < n; i++)  \n",
    "    Xor ^= arr[i];  \n",
    "      \n",
    "    /* Get the rightmost set bit in set_bit_no */\n",
    "    set_bit_no = Xor & ~(Xor-1);  \n",
    "      \n",
    "    /* Now divide elements in two sets by comparing rightmost set  \n",
    "    bit of Xor with bit at same position in each element. */\n",
    "    for(i = 0; i < n; i++)  \n",
    "    {  \n",
    "        if((arr[i] & set_bit_no)!=0)  \n",
    "        x = x ^ arr[i]; /*Xor of first set */\n",
    "        else\n",
    "        y = y ^ arr[i]; /*Xor of second set*/\n",
    "    }  \n",
    "    Pair p = new Pair();\n",
    "    p.a = x;\n",
    "    p.b = y;\n",
    "    return p;\n",
    "}  "
   ]
  },
  {
   "cell_type": "code",
   "execution_count": 9,
   "metadata": {},
   "outputs": [
    {
     "name": "stdout",
     "output_type": "stream",
     "text": [
      "The non-repeating elements are 7 and 9\n"
     ]
    }
   ],
   "source": [
    "public static void main(String[] args){\n",
    "    int arr[] = {2, 3, 7, 9, 11, 2, 3, 11};  \n",
    "    Pair p = get2NonRepeatingNos(arr, 8);  \n",
    "    System.out.println(\"The non-repeating elements are \"+p.a+\" and \"+p.b);  \n",
    "}\n",
    "main(args);"
   ]
  },
  {
   "cell_type": "markdown",
   "metadata": {},
   "source": [
    "## **454. Count set bits in an integer**\n",
    "https://www.geeksforgeeks.org/count-set-bits-in-an-integer/"
   ]
  },
  {
   "cell_type": "code",
   "execution_count": 10,
   "metadata": {},
   "outputs": [],
   "source": [
    "/*\n",
    "Write an efficient program to count number of 1s in binary representation of an integer.\n",
    "*/"
   ]
  },
  {
   "cell_type": "code",
   "execution_count": 11,
   "metadata": {},
   "outputs": [],
   "source": [
    "/*\n",
    "Examples :\n",
    "\n",
    "Input : n = 6\n",
    "Output : 2\n",
    "Binary representation of 6 is 110 and has 2 set bits\n",
    "\n",
    "Input : n = 13\n",
    "Output : 3\n",
    "Binary representation of 13 is 1101 and has 3 set bits\n",
    "*/"
   ]
  },
  {
   "cell_type": "markdown",
   "metadata": {},
   "source": [
    "<img src = \"https://www.geeksforgeeks.org/wp-content/uploads/setbit-300x279.png\"/>"
   ]
  },
  {
   "cell_type": "code",
   "execution_count": 12,
   "metadata": {},
   "outputs": [],
   "source": [
    "/*\n",
    "1. Simple Method \n",
    "\n",
    "Time Complexity: (-)(logn) (Theta of logn)\n",
    "\n",
    "Loop through all bits in an integer,\n",
    "    check if a bit is set and if it is then increment the set bit count.\n",
    "    \n",
    "See below program.\n",
    "*/"
   ]
  },
  {
   "cell_type": "code",
   "execution_count": 13,
   "metadata": {},
   "outputs": [
    {
     "name": "stdout",
     "output_type": "stream",
     "text": [
      "2\n"
     ]
    }
   ],
   "source": [
    "/* Function to get no of set  \n",
    "bits in binary representation  \n",
    "of positive integer n */\n",
    "static int countSetBits(int n) \n",
    "{ \n",
    "    int count = 0; \n",
    "    while (n > 0) { \n",
    "        count += n & 1; \n",
    "        n >>= 1; \n",
    "    } \n",
    "    return count; \n",
    "} \n",
    "\n",
    "// driver program \n",
    "public static void main(String args[]) \n",
    "{ \n",
    "    int i = 9; \n",
    "    System.out.println(countSetBits(i)); \n",
    "} \n",
    "main(args);"
   ]
  },
  {
   "cell_type": "code",
   "execution_count": 14,
   "metadata": {},
   "outputs": [],
   "source": [
    "/*\n",
    "Recursive Approach :\n",
    "*/"
   ]
  },
  {
   "cell_type": "code",
   "execution_count": 15,
   "metadata": {},
   "outputs": [
    {
     "name": "stdout",
     "output_type": "stream",
     "text": [
      "2\n"
     ]
    }
   ],
   "source": [
    "// recursive function to count set bits \n",
    "public static int countSetBits(int n) \n",
    "{ \n",
    "\n",
    "    // base case \n",
    "    if (n == 0) \n",
    "        return 0; \n",
    "\n",
    "    else\n",
    "\n",
    "        // if last bit set add 1 else add 0 \n",
    "        return (n & 1) + countSetBits(n >> 1); \n",
    "} \n",
    "\n",
    "// Driver code \n",
    "public static void main(String[] args) \n",
    "{ \n",
    "\n",
    "    // get value from user \n",
    "    int n = 9; \n",
    "\n",
    "    // function calling \n",
    "    System.out.println(countSetBits(n)); \n",
    "} \n",
    "main(args);"
   ]
  },
  {
   "cell_type": "code",
   "execution_count": 16,
   "metadata": {},
   "outputs": [],
   "source": [
    "/*\n",
    "4. Mapping numbers with the bit.\n",
    "\n",
    "Time Complexity: O(1)\n",
    "Storage Complexity: O(1) \n",
    "    Whether given number is short, int, long or long long we require array of 16 size only which is constant.\n",
    "\n",
    "It simply maintains a Map(or array) of numbers to bits for a nibble.\n",
    "A Nibble contains 4bits. \n",
    "So we need an array up to 15.\n",
    "\n",
    "int num_to_bits[16] = {0, 1, 1, 2, 1, 2, 2, 3, 1, 2, 2, 3, 2, 3, 3, 4};\n",
    "\n",
    "Now we just need to get nibbles of given long/int/word etc recuresively.\n",
    "*/"
   ]
  },
  {
   "cell_type": "code",
   "execution_count": 17,
   "metadata": {},
   "outputs": [
    {
     "name": "stdout",
     "output_type": "stream",
     "text": [
      "5\n"
     ]
    }
   ],
   "source": [
    "static int[] num_to_bits = new int[] { 0, 1, 1, 2, 1, 2, 2, \n",
    "                                       3, 1, 2, 2, 3, 2, 3, 3, 4 }; \n",
    "\n",
    "/* Recursively get nibble of a given number  \n",
    "and map them in the array */\n",
    "static int countSetBitsRec(int num) \n",
    "{ \n",
    "    int nibble = 0; \n",
    "    if (0 == num) \n",
    "        return num_to_bits[0]; \n",
    "\n",
    "    // Find last nibble \n",
    "    nibble = num & 0xf; \n",
    "\n",
    "    // Use pre-stored values to find count \n",
    "    // in last nibble plus recursively add \n",
    "    // remaining nibbles. \n",
    "    return num_to_bits[nibble] + countSetBitsRec(num >> 4); \n",
    "} \n",
    "\n",
    "// Driver code \n",
    "public static void main(String[] args) \n",
    "{ \n",
    "    int num = 31; \n",
    "    System.out.println(countSetBitsRec(num)); \n",
    "} \n",
    "main(args);"
   ]
  },
  {
   "cell_type": "markdown",
   "metadata": {},
   "source": [
    "***https://youtu.be/KJnhAUkxAho***"
   ]
  },
  {
   "cell_type": "code",
   "execution_count": 18,
   "metadata": {},
   "outputs": [],
   "source": [
    "/*\n",
    "For Other Methods VIew Question Link\n",
    "*/"
   ]
  },
  {
   "cell_type": "markdown",
   "metadata": {},
   "source": [
    "**Related Link :**   ***https://www.geeksforgeeks.org/count-set-bits-integer-using-lookup-table/***"
   ]
  },
  {
   "cell_type": "markdown",
   "metadata": {},
   "source": [
    "## **455. Find the Number Occurring Odd Number of Times**\n",
    "https://www.geeksforgeeks.org/find-the-number-occurring-odd-number-of-times/"
   ]
  },
  {
   "cell_type": "code",
   "execution_count": 19,
   "metadata": {},
   "outputs": [],
   "source": [
    "/*\n",
    "Given an array of positive integers.\n",
    "All numbers occur even number of times except one number which occurs odd number of times. \n",
    "\n",
    "Find the number in O(n) time & constant space.\n",
    "*/"
   ]
  },
  {
   "cell_type": "code",
   "execution_count": 20,
   "metadata": {},
   "outputs": [],
   "source": [
    "/*\n",
    "Examples :\n",
    "\n",
    "Input : arr = {1, 2, 3, 2, 3, 1, 3}\n",
    "Output : 3\n",
    "\n",
    "Input : arr = {5, 7, 2, 7, 5, 2, 5}\n",
    "Output : 5\n",
    "*/"
   ]
  },
  {
   "cell_type": "code",
   "execution_count": 21,
   "metadata": {},
   "outputs": [],
   "source": [
    "/*\n",
    "Time Complexity: O(n)\n",
    "\n",
    "The Best Solution is to do bitwise XOR of all the elements.\n",
    "XOR of all elements gives us odd occurring element. \n",
    "\n",
    "Please note that XOR of two elements is 0 \n",
    "    if both elements are same and XOR of a number x with 0 is x.\n",
    "\n",
    "Below is the implementation of the above approach.\n",
    "*/"
   ]
  },
  {
   "cell_type": "code",
   "execution_count": 22,
   "metadata": {},
   "outputs": [
    {
     "name": "stdout",
     "output_type": "stream",
     "text": [
      "5\n"
     ]
    }
   ],
   "source": [
    "int getOddOccurrence(int ar[], int ar_size)  \n",
    "{ \n",
    "    int i; \n",
    "    int res = 0; \n",
    "    for (i = 0; i < ar_size; i++)  \n",
    "    { \n",
    "        res = res ^ ar[i]; \n",
    "    } \n",
    "    return res; \n",
    "} \n",
    "\n",
    "public static void main(String[] args)  \n",
    "{ \n",
    "    int ar[] = new int[]{2, 3, 5, 4, 5, 2, 4, 3, 5, 2, 4, 4, 2}; \n",
    "    int n = ar.length; \n",
    "    System.out.println(getOddOccurrence(ar, n)); \n",
    "} \n",
    "main(args);"
   ]
  },
  {
   "cell_type": "code",
   "execution_count": 23,
   "metadata": {},
   "outputs": [],
   "source": [
    "/*\n",
    "For other Methods View Question Link\n",
    "*/"
   ]
  },
  {
   "cell_type": "markdown",
   "metadata": {},
   "source": [
    "***https://youtu.be/hySR1exD5PE***"
   ]
  },
  {
   "cell_type": "markdown",
   "metadata": {},
   "source": [
    "## **456. Check if a number is Bleak**\n",
    "https://www.geeksforgeeks.org/check-if-a-number-is-bleak/"
   ]
  },
  {
   "cell_type": "code",
   "execution_count": 24,
   "metadata": {},
   "outputs": [],
   "source": [
    "/*\n",
    "A number ‘n’ is called Bleak \n",
    "    if it cannot be represented as sum of a positive number x \n",
    "    and set bit count in x, i.e., x + countSetBits(x) is not equal to n for any non-negative number x.\n",
    "*/"
   ]
  },
  {
   "cell_type": "markdown",
   "metadata": {},
   "source": [
    "**CountSetBits(x) :**   ***https://www.geeksforgeeks.org/count-set-bits-in-an-integer/***"
   ]
  },
  {
   "cell_type": "code",
   "execution_count": 25,
   "metadata": {},
   "outputs": [],
   "source": [
    "/*\n",
    "Examples :\n",
    "\n",
    "Input : n = 3\n",
    "Output : false\n",
    "3 is not Bleak as it can be represented\n",
    "as 2 + countSetBits(2).\n",
    "\n",
    "Input : n = 4\n",
    "Output : true\n",
    "4 is t Bleak as it cannot be represented \n",
    "as sum of a number x and countSetBits(x)\n",
    "for any number x.\n",
    "*/"
   ]
  },
  {
   "cell_type": "code",
   "execution_count": 26,
   "metadata": {},
   "outputs": [],
   "source": [
    "/*\n",
    "Method 1 (Simple)\n",
    "Time complexity of above solution is O(n Log n).\n",
    "\n",
    "bool isBleak(n)\n",
    "1) Consider all numbers smaller than n\n",
    "    a) If x + countSetBits(x) == n\n",
    "           return false\n",
    "\n",
    "2) Return true\n",
    "*/"
   ]
  },
  {
   "cell_type": "code",
   "execution_count": 27,
   "metadata": {},
   "outputs": [
    {
     "name": "stdout",
     "output_type": "stream",
     "text": [
      "No\n",
      "Yes\n"
     ]
    }
   ],
   "source": [
    "/* Function to get no of set bits in binary \n",
    "   representation of passed binary no. */\n",
    "static int countSetBits(int x) \n",
    "{ \n",
    "    int count = 0; \n",
    "    while (x != 0) { \n",
    "        x &= (x - 1); \n",
    "        count++; \n",
    "    } \n",
    "    return count; \n",
    "} \n",
    "\n",
    "// Returns true if n is Bleak \n",
    "static boolean isBleak(int n) \n",
    "{ \n",
    "    // Check for all numbers 'x' smaller \n",
    "    // than n.  If x + countSetBits(x) \n",
    "    // becomes n, then n can't be Bleak \n",
    "    for (int x = 1; x < n; x++) \n",
    "        if (x + countSetBits(x) == n) \n",
    "            return false; \n",
    "\n",
    "    return true; \n",
    "} \n",
    "\n",
    "// Driver code \n",
    "public static void main(String args[]) \n",
    "{ \n",
    "    if (isBleak(3)) \n",
    "        System.out.println(\"Yes\"); \n",
    "    else\n",
    "        System.out.println(\"No\"); \n",
    "    if (isBleak(4)) \n",
    "        System.out.println(\"Yes\"); \n",
    "    else\n",
    "        System.out.println(\"No\"); \n",
    "} \n",
    "main(args);"
   ]
  },
  {
   "cell_type": "code",
   "execution_count": 28,
   "metadata": {},
   "outputs": [],
   "source": [
    "/*\n",
    "Method 2 (Efficient)\n",
    "Time Complexity: O(Log n * Log n)\n",
    "\n",
    "The idea is based on the fact that \n",
    "    the largest count of set bits in any number smaller than n cannot exceed ceiling of Log2n. \n",
    "    So we need to check only numbers from range n – ceilingLog2(n) to n.\n",
    "\n",
    "bool isBleak(n)\n",
    "1) Consider all numbers n - ceiling(Log2n) to n-1\n",
    "    a) If x + countSetBits(x) == n\n",
    "           return false\n",
    "\n",
    "2) Return true\n",
    "*/"
   ]
  },
  {
   "cell_type": "code",
   "execution_count": 29,
   "metadata": {},
   "outputs": [
    {
     "name": "stdout",
     "output_type": "stream",
     "text": [
      "No\n",
      "Yes\n"
     ]
    }
   ],
   "source": [
    "/* Function to get no of set bits in \n",
    "binary representation of passed binary \n",
    "no. */\n",
    "static int countSetBits(int x) \n",
    "{ \n",
    "    int count = 0; \n",
    "    while (x != 0) { \n",
    "        x &= (x - 1); \n",
    "        count++; \n",
    "    } \n",
    "    return count; \n",
    "} \n",
    "\n",
    "// A function to return ceiling of log x \n",
    "// in base 2. For example, it returns 3 \n",
    "// for 8 and 4 for 9. \n",
    "static int ceilLog2(int x) \n",
    "{ \n",
    "    int count = 0; \n",
    "    x--; \n",
    "    while (x > 0) { \n",
    "        x = x >> 1; \n",
    "        count++; \n",
    "    } \n",
    "    return count; \n",
    "} \n",
    "\n",
    "// Returns true if n is Bleak \n",
    "static boolean isBleak(int n) \n",
    "{ \n",
    "    // Check for all numbers 'x' smaller \n",
    "    // than n. If x + countSetBits(x) \n",
    "    // becomes n, then n can't be Bleak \n",
    "    for (int x = n - ceilLog2(n); x < n; x++) \n",
    "        if (x + countSetBits(x) == n) \n",
    "            return false; \n",
    "\n",
    "    return true; \n",
    "} \n",
    "\n",
    "// Driver code \n",
    "public static void main(String[] args) \n",
    "{ \n",
    "    if (isBleak(3)) \n",
    "        System.out.println(\"Yes\"); \n",
    "    else\n",
    "        System.out.println(\"No\"); \n",
    "\n",
    "    if (isBleak(4)) \n",
    "        System.out.println(\"Yes\"); \n",
    "    else\n",
    "        System.out.println(\"No\"); \n",
    "} \n",
    "main(args);"
   ]
  },
  {
   "cell_type": "markdown",
   "metadata": {},
   "source": [
    "## **457. Copy set bits in a range**\n",
    "https://www.geeksforgeeks.org/copy-set-bits-in-a-range/"
   ]
  },
  {
   "cell_type": "code",
   "execution_count": 30,
   "metadata": {},
   "outputs": [],
   "source": [
    "/*\n",
    "Given two numbers x and y, and a range [l, r] where 1 <= l, r <= 32. \n",
    "\n",
    "The task is consider set bits of y in range [l, r] \n",
    "    and set these bits in x also.\n",
    "*/"
   ]
  },
  {
   "cell_type": "code",
   "execution_count": 31,
   "metadata": {},
   "outputs": [],
   "source": [
    "/*\n",
    "Examples :\n",
    "\n",
    "Input  : x = 10, y = 13, l = 2, r = 3\n",
    "Output : x = 14\n",
    "Binary representation of 10 is 1010 and \n",
    "that of y is 1101. There is one set bit\n",
    "in y at 3’rd position (in given range). \n",
    "After we copy this bit to x, x becomes 1110\n",
    "which is binary representation of 14.\n",
    "\n",
    "Input  : x = 8, y = 7, l = 1, r = 2\n",
    "Output : x = 11\n",
    "*/"
   ]
  },
  {
   "cell_type": "code",
   "execution_count": 32,
   "metadata": {},
   "outputs": [],
   "source": [
    "/*\n",
    "Method 1 (One by one copy bits)\n",
    "\n",
    "We can one by one find set bits of y by traversing given range. \n",
    "For every set bit,\n",
    "    we OR it to existing bit of x,\n",
    "    so that the becomes set in x,\n",
    "        if it was not set. \n",
    "        \n",
    "Below is C++ implementation.\n",
    "*/"
   ]
  },
  {
   "cell_type": "markdown",
   "metadata": {},
   "source": [
    "***https://ideone.com/ECADpf***"
   ]
  },
  {
   "cell_type": "code",
   "execution_count": 33,
   "metadata": {},
   "outputs": [],
   "source": [
    "/*\n",
    "Method 2 (Copy all bits using one bit mask)\n",
    "*/"
   ]
  },
  {
   "cell_type": "markdown",
   "metadata": {},
   "source": [
    "***https://ideone.com/e0gbex***"
   ]
  },
  {
   "cell_type": "markdown",
   "metadata": {},
   "source": [
    "## **458. Write an Efficient Method to Check if a Number is Multiple of 3**\n",
    "https://www.geeksforgeeks.org/write-an-efficient-method-to-check-if-a-number-is-multiple-of-3/"
   ]
  },
  {
   "cell_type": "code",
   "execution_count": 34,
   "metadata": {},
   "outputs": [],
   "source": [
    "/*\n",
    "The very first solution that comes to our mind is the one that we learned in school. \n",
    "If sum of digits in a number is multiple of 3 \n",
    "    then number is multiple of 3 \n",
    "    \n",
    "e.g., for 612 sum of digits is 9 so it’s a multiple of 3. \n",
    "            But this solution is not efficient. \n",
    "            \n",
    "You have to get all decimal digits one by one,\n",
    "    add them and then check if sum is multiple of 3.\n",
    "*/"
   ]
  },
  {
   "cell_type": "code",
   "execution_count": 35,
   "metadata": {},
   "outputs": [],
   "source": [
    "/*\n",
    "There is a pattern in binary representation of the number that can be used to find \n",
    "    if number is a multiple of 3. \n",
    "If difference between count of odd set bits (Bits set at odd positions) and even set bits is multiple of 3 \n",
    "    then is the number.\n",
    "*/"
   ]
  },
  {
   "cell_type": "code",
   "execution_count": 36,
   "metadata": {},
   "outputs": [],
   "source": [
    "/*\n",
    "Example : 23 (00..10111)\n",
    "1) Get count of all set bits at odd positions (For 23 it’s 3).\n",
    "2) Get count of all set bits at even positions (For 23 it’s 1).\n",
    "3) If difference of above two counts is a multiple of 3 then number is also a multiple of 3.\n",
    "\n",
    "(For 23 it’s 2 so 23 is not a multiple of 3)\n",
    "*/"
   ]
  },
  {
   "cell_type": "code",
   "execution_count": 37,
   "metadata": {},
   "outputs": [],
   "source": [
    "/*\n",
    "Time Complexity: O(logn)\n",
    "\n",
    "Algorithm: isMutlipleOf3(n)\n",
    "1) Make n positive if n is negative.\n",
    "2) If number is 0 then return 1\n",
    "3) If number is 1 then return 0\n",
    "4) Initialize: odd_count = 0, even_count = 0\n",
    "5) Loop while n != 0\n",
    "    a) If rightmost bit is set then increment odd count.\n",
    "    b) Right-shift n by 1 bit\n",
    "    c) If rightmost bit is set then increment even count.\n",
    "    d) Right-shift n by 1 bit\n",
    "6) return isMutlipleOf3(odd_count - even_count)\n",
    "*/"
   ]
  },
  {
   "cell_type": "code",
   "execution_count": 38,
   "metadata": {},
   "outputs": [],
   "source": [
    "/*\n",
    "Proof:\n",
    "\n",
    "Above can be proved by taking the example of 11 in decimal numbers. \n",
    "(In this context 11 in decimal numbers is same as 3 in binary numbers)\n",
    "\n",
    "If difference between sum of odd digits and even digits is multiple of 11 \n",
    "    then decimal number is multiple of 11. \n",
    "    \n",
    "Let’s see how.\n",
    "\n",
    "1. Let’s take the example of 2 digit numbers in decimal\n",
    "  \n",
    "        AB = 11A -A + B \n",
    "           = 11A + (B – A)\n",
    "        So if (B – A) is a multiple of 11 \n",
    "            then is AB.\n",
    "\n",
    "2. Let us take 3 digit numbers.\n",
    "\n",
    "        ABC = 99A + A + 11B – B + C \n",
    "            = (99A + 11B) + (A + C – B)\n",
    "        So if (A + C – B) is a multiple of 11 \n",
    "            then is (ABC)\n",
    "\n",
    "3. Let us take 4 digit numbers now.\n",
    "\n",
    "        ABCD = 1001A + D + 11C – C + 999B + B – A\n",
    "             = (1001A – 999B + 11C) + (D + B – A -C )\n",
    "        So, if (B + D – A – C) is a multiple of 11 \n",
    "            then is ABCD.\n",
    "\n",
    "This can be continued for all decimal numbers.\n",
    "\n",
    "Above concept can be proved for 3 in binary numbers in the same way.\n",
    "*/"
   ]
  },
  {
   "cell_type": "code",
   "execution_count": 39,
   "metadata": {},
   "outputs": [
    {
     "name": "stdout",
     "output_type": "stream",
     "text": [
      "24 is multiple of 3\n"
     ]
    }
   ],
   "source": [
    "// Function to check if n \n",
    "// is a multiple of 3 \n",
    "static int isMultipleOf3(int n) \n",
    "{ \n",
    "    int odd_count = 0; \n",
    "    int even_count = 0; \n",
    "\n",
    "    /* Make no positive if +n is multiple  \n",
    "of 3 then is -n. We are doing this to  \n",
    "avoid stack overflow in recursion*/\n",
    "    if (n < 0) \n",
    "        n = -n; \n",
    "    if (n == 0) \n",
    "        return 1; \n",
    "    if (n == 1) \n",
    "        return 0; \n",
    "\n",
    "    while (n != 0) { \n",
    "        /* If odd bit is set then \n",
    "    increment odd counter */\n",
    "        if ((n & 1) != 0) \n",
    "            odd_count++; \n",
    "\n",
    "        /* If even bit is set then \n",
    "    increment even counter */\n",
    "        if ((n & 2) != 0) \n",
    "            even_count++; \n",
    "\n",
    "        n = n >> 2; \n",
    "    } \n",
    "\n",
    "    return isMultipleOf3(Math.abs(odd_count - even_count)); \n",
    "} \n",
    "\n",
    "/* Program to test function isMultipleOf3 */\n",
    "public static void main(String[] args) \n",
    "{ \n",
    "    int num = 24; \n",
    "\n",
    "    if (isMultipleOf3(num) != 0) \n",
    "        System.out.println(num + \" is multiple of 3\"); \n",
    "    else\n",
    "        System.out.println(num + \" is not a multiple of 3\"); \n",
    "} \n",
    "main(args);"
   ]
  },
  {
   "cell_type": "markdown",
   "metadata": {},
   "source": [
    "**Related Link :**   ***https://www.geeksforgeeks.org/check-divisibility-binary-stream/***"
   ]
  },
  {
   "cell_type": "markdown",
   "metadata": {},
   "source": [
    "## **459. Find position of the only set bit**\n",
    "https://www.geeksforgeeks.org/find-position-of-the-only-set-bit/"
   ]
  },
  {
   "cell_type": "code",
   "execution_count": 40,
   "metadata": {},
   "outputs": [],
   "source": [
    "/*\n",
    "Given a number having only one ‘1’ and all other ’0’s in its binary representation, \n",
    "    find position of the only set bit.\n",
    "*/"
   ]
  },
  {
   "cell_type": "code",
   "execution_count": 41,
   "metadata": {},
   "outputs": [],
   "source": [
    "/*\n",
    "The idea is to start from the rightmost bit and one by one check value of every bit. \n",
    "\n",
    "Following is a detailed algorithm.\n",
    "\n",
    "1) i.  If number is power of two \n",
    "        then and then only its binary representation contains only one ‘1’. \n",
    "        That’s why check whether the given number is a power of 2 or not. \n",
    "        \n",
    "   ii. If given number is not a power of 2, \n",
    "        then print error message and exit.\n",
    "\n",
    "2) Initialize two variables; \n",
    "        i = 1 (for looping) and pos = 1 (to find position of set bit)\n",
    "\n",
    "3) Inside loop, \n",
    "        do bitwise AND of i and number ‘N’. \n",
    "        If value of this operation is true, \n",
    "            then “pos” bit is set, \n",
    "                so break the loop and return position. \n",
    "        Otherwise,\n",
    "            increment “pos” by 1 and left shift i by 1 \n",
    "            and repeat the procedure.\n",
    "*/"
   ]
  },
  {
   "cell_type": "code",
   "execution_count": 42,
   "metadata": {},
   "outputs": [
    {
     "name": "stdout",
     "output_type": "stream",
     "text": [
      "n = 16, Position 5\n",
      "n = 12, Invalid number\n",
      "n = 128, Position 8\n"
     ]
    }
   ],
   "source": [
    "// A utility function to check whether n is a power of 2 or not. \n",
    "// See http://goo.gl/17Arj \n",
    "static boolean isPowerOfTwo(int n) \n",
    "{ \n",
    "    return (n > 0 && ((n & (n - 1)) == 0)) ? true : false; \n",
    "} \n",
    "\n",
    "// Returns position of the only set bit in 'n' \n",
    "static int findPosition(int n) \n",
    "{ \n",
    "    if (!isPowerOfTwo(n)) \n",
    "        return -1; \n",
    "\n",
    "    int i = 1, pos = 1; \n",
    "\n",
    "    // Iterate through bits of n till we find a set bit \n",
    "    // i&n will be non-zero only when 'i' and 'n' have a set bit \n",
    "    // at same position \n",
    "    while ((i & n) == 0) { \n",
    "        // Unset current bit and set the next bit in 'i' \n",
    "        i = i << 1; \n",
    "\n",
    "        // increment position \n",
    "        ++pos; \n",
    "    } \n",
    "\n",
    "    return pos; \n",
    "} \n",
    "\n",
    "// Driver code \n",
    "public static void main(String[] args) \n",
    "{ \n",
    "    int n = 16; \n",
    "    int pos = findPosition(n); \n",
    "    if (pos == -1) \n",
    "        System.out.println(\"n = \" + n + \", Invalid number\"); \n",
    "    else\n",
    "        System.out.println(\"n = \" + n + \", Position \" + pos); \n",
    "\n",
    "    n = 12; \n",
    "    pos = findPosition(n); \n",
    "    if (pos == -1) \n",
    "        System.out.println(\"n = \" + n + \", Invalid number\"); \n",
    "    else\n",
    "        System.out.println(\"n = \" + n + \", Position \" + pos); \n",
    "\n",
    "    n = 128; \n",
    "    pos = findPosition(n); \n",
    "    if (pos == -1) \n",
    "        System.out.println(\"n = \" + n + \", Invalid number\"); \n",
    "    else\n",
    "        System.out.println(\"n = \" + n + \", Position \" + pos); \n",
    "}\n",
    "main(args);"
   ]
  },
  {
   "cell_type": "code",
   "execution_count": 43,
   "metadata": {},
   "outputs": [],
   "source": [
    "/*\n",
    "We can also use log base 2 to find the position.\n",
    "*/"
   ]
  },
  {
   "cell_type": "code",
   "execution_count": 44,
   "metadata": {},
   "outputs": [
    {
     "name": "stdout",
     "output_type": "stream",
     "text": [
      "n = 0, Invalid number \n",
      "n = 12, Invalid number \n",
      "n = 128, Position 8\n"
     ]
    }
   ],
   "source": [
    "static int Log2n(int n) \n",
    "{ \n",
    "    return (n > 1) ? 1 + Log2n(n / 2) : 0; \n",
    "} \n",
    "\n",
    "static boolean isPowerOfTwo(int n) \n",
    "{ \n",
    "    return n > 0 && ((n & (n - 1)) == 0); \n",
    "} \n",
    "\n",
    "static int findPosition(int n) \n",
    "{ \n",
    "    if (!isPowerOfTwo(n)) \n",
    "        return -1; \n",
    "    return Log2n(n) + 1; \n",
    "} \n",
    "\n",
    "// Driver code \n",
    "public static void main(String[] args) \n",
    "{ \n",
    "    int n = 0; \n",
    "    int pos = findPosition(n); \n",
    "    if (pos == -1) \n",
    "        System.out.println(\"n = \" + n + \", Invalid number \"); \n",
    "    else\n",
    "        System.out.println(\"n = \" + n + \", Position \" + pos); \n",
    "\n",
    "    n = 12; \n",
    "    pos = findPosition(n); \n",
    "    if (pos == -1) \n",
    "        System.out.println(\"n = \" + n + \", Invalid number \"); \n",
    "    else\n",
    "        System.out.println(\"n = \" + n + \", Position \" + pos); \n",
    "\n",
    "    n = 128; \n",
    "    pos = findPosition(n); \n",
    "    if (pos == -1) \n",
    "        System.out.println(\"n = \" + n + \", Invalid number \"); \n",
    "    else\n",
    "        System.out.println(\"n = \" + n + \", Position \" + pos); \n",
    "}\n",
    "main(args);"
   ]
  },
  {
   "cell_type": "markdown",
   "metadata": {},
   "source": [
    "## **460. Binary representation of a given number**\n",
    "https://www.geeksforgeeks.org/binary-representation-of-a-given-number/"
   ]
  },
  {
   "cell_type": "code",
   "execution_count": 45,
   "metadata": {},
   "outputs": [],
   "source": [
    "/*\n",
    "Write a program to print Binary representation of a given number.\n",
    "*/"
   ]
  },
  {
   "cell_type": "code",
   "execution_count": 46,
   "metadata": {},
   "outputs": [],
   "source": [
    "/*\n",
    "Method 1: Iterative\n",
    "\n",
    "For any number, we can check whether its ‘i’th bit is 0(OFF) or 1(ON) by bitwise ANDing it with “2^i” (2 raise to i).\n",
    "\n",
    "1) Let us take number 'NUM' and we want to check whether it's 0th bit is ON or OFF    \n",
    "    bit = 2 ^ 0 (0th bit)\n",
    "    if  NUM & bit == 1 means 0th bit is ON else 0th bit is OFF\n",
    "\n",
    "2) Similarly if we want to check whether 5th bit is ON or OFF    \n",
    "    bit = 2 ^ 5 (5th bit)\n",
    "    if NUM & bit == 1 means its 5th bit is ON else 5th bit is OFF.\n",
    "    \n",
    "Let us take unsigned integer (32 bit), which consist of 0-31 bits. \n",
    "\n",
    "To print binary representation of unsigned integer, \n",
    "\n",
    "    start from 31th bit, \n",
    "\n",
    "check whether 31th bit is ON or OFF,\n",
    "    if it is ON \n",
    "        print “1” \n",
    "    else \n",
    "        print “0”. \n",
    "\n",
    "Now check whether 30th bit is ON or OFF, \n",
    "    if it is ON \n",
    "        print “1” \n",
    "    else \n",
    "        print “0”, \n",
    "        \n",
    "do this for all bits from 31 to 0, \n",
    "\n",
    "finally we will get binary representation of number.\n",
    "*/"
   ]
  },
  {
   "cell_type": "markdown",
   "metadata": {},
   "source": [
    "***https://ideone.com/iFZa71***"
   ]
  },
  {
   "cell_type": "code",
   "execution_count": 47,
   "metadata": {},
   "outputs": [],
   "source": [
    "/*\n",
    "Method 3: Recursive using bitwise operator\n",
    "\n",
    "Steps to convert decimal number to its binary representation are given below:\n",
    "\n",
    "step 1: Check n > 0\n",
    "step 2: Right shift the number by 1 bit and recursive function call\n",
    "step 3: Print the bits of number\n",
    "*/"
   ]
  },
  {
   "cell_type": "code",
   "execution_count": 48,
   "metadata": {},
   "outputs": [
    {
     "name": "stdout",
     "output_type": "stream",
     "text": [
      "10000011\n",
      "11"
     ]
    }
   ],
   "source": [
    "// Function to convert decimal  \n",
    "// to binary number  \n",
    "static void bin(Integer n)  \n",
    "{  \n",
    "    if (n > 1)  \n",
    "        bin(n>>1);  \n",
    "    System.out.printf(\"%d\", n & 1);  \n",
    "}  \n",
    "\n",
    "// Driver code  \n",
    "public static void main(String[] args) { \n",
    "    bin(131);  \n",
    "    System.out.printf(\"\\n\");  \n",
    "    bin(3); \n",
    "} \n",
    "main(args);"
   ]
  },
  {
   "cell_type": "markdown",
   "metadata": {},
   "source": [
    "***https://youtu.be/p0Vyq2_Q_uI***"
   ]
  },
  {
   "cell_type": "markdown",
   "metadata": {},
   "source": [
    "## **461. Write an Efficient C Program to Reverse Bits of a Number**\n",
    "https://www.geeksforgeeks.org/write-an-efficient-c-program-to-reverse-bits-of-a-number/"
   ]
  },
  {
   "cell_type": "code",
   "execution_count": 49,
   "metadata": {},
   "outputs": [],
   "source": [
    "/*\n",
    "Given an unsigned integer, reverse all bits of it and return the number with reversed bits.\n",
    "\n",
    "Input : n = 1\n",
    "Output : 2147483648  \n",
    "On a machine with size of unsigned\n",
    "bit as 32. Reverse of 0....001 is\n",
    "100....0.\n",
    "\n",
    "Input : n = 2147483648\n",
    "Output : 1    \n",
    "*/"
   ]
  },
  {
   "cell_type": "code",
   "execution_count": 50,
   "metadata": {},
   "outputs": [],
   "source": [
    "/*\n",
    "Method1 – Simple\n",
    "\n",
    "Loop through all the bits of an integer. \n",
    "If a bit at ith position is set in the i/p no. \n",
    "    then set the bit at (NO_OF_BITS – 1) – i in o/p. \n",
    "    \n",
    "Where NO_OF_BITS is number of bits present in the given number.\n",
    "*/"
   ]
  },
  {
   "cell_type": "code",
   "execution_count": 51,
   "metadata": {},
   "outputs": [],
   "source": [
    "/*\n",
    "// Function to reverse bits of num\n",
    "unsigned int reverseBits(unsigned int num) \n",
    "{ \n",
    "    unsigned int  NO_OF_BITS = sizeof(num) * 8; \n",
    "    unsigned int reverse_num = 0, i, temp; \n",
    "  \n",
    "    for (i = 0; i < NO_OF_BITS; i++) \n",
    "    { \n",
    "        temp = (num & (1 << i)); \n",
    "        if(temp) \n",
    "            reverse_num |= (1 << ((NO_OF_BITS - 1) - i)); \n",
    "    } \n",
    "   \n",
    "    return reverse_num; \n",
    "} \n",
    "  \n",
    "// Driver function to test above function\n",
    "int main() \n",
    "{ \n",
    "    unsigned int x = 2;  \n",
    "    printf(\"%u\", reverseBits(x)); \n",
    "    getchar(); \n",
    "} \n",
    "*/"
   ]
  },
  {
   "cell_type": "code",
   "execution_count": 52,
   "metadata": {},
   "outputs": [],
   "source": [
    "/*\n",
    "Method 2 – Standard\n",
    "\n",
    "Time Complexity: O(log n)\n",
    "Space Complexity: O(1)\n",
    "\n",
    "The idea is to keep putting set bits of the num in reverse_num until num becomes zero. \n",
    "After num becomes zero, \n",
    "    shift the remaining bits of reverse_num.\n",
    "\n",
    "Let num is stored using 8 bits and num be 00000110. \n",
    "After the loop \n",
    "    you will get reverse_num as 00000011.\n",
    "    \n",
    "Now you need to left shift reverse_num 5 more times \n",
    "    and you get the exact reverse 01100000.\n",
    "*/"
   ]
  },
  {
   "cell_type": "code",
   "execution_count": 53,
   "metadata": {},
   "outputs": [],
   "source": [
    "/*\n",
    "unsigned int reverseBits(unsigned int num) \n",
    "{ \n",
    "\tunsigned int count = sizeof(num) * 8 - 1; \n",
    "\tunsigned int reverse_num = num; \n",
    "\t\n",
    "\tnum >>= 1; \n",
    "\twhile(num) \n",
    "\t{ \n",
    "\treverse_num <<= 1;\t \n",
    "\treverse_num |= num & 1; \n",
    "\tnum >>= 1; \n",
    "\tcount--; \n",
    "\t} \n",
    "\treverse_num <<= count; \n",
    "\treturn reverse_num; \n",
    "} \n",
    "\n",
    "int main() \n",
    "{ \n",
    "\tunsigned int x = 1; \n",
    "\tprintf(\"%u\", reverseBits(x)); \n",
    "\tgetchar(); \n",
    "} \n",
    "\n",
    "*/"
   ]
  },
  {
   "cell_type": "markdown",
   "metadata": {},
   "source": [
    "***https://ideone.com/ruEHZ8***"
   ]
  },
  {
   "cell_type": "code",
   "execution_count": 54,
   "metadata": {},
   "outputs": [],
   "source": [
    "/*\n",
    "View Question Link For Other Methods\n",
    "*/"
   ]
  },
  {
   "cell_type": "markdown",
   "metadata": {},
   "source": [
    "## **462. Count number of bits to be flipped to convert A to B**\n",
    "https://www.geeksforgeeks.org/count-number-of-bits-to-be-flipped-to-convert-a-to-b/"
   ]
  },
  {
   "cell_type": "code",
   "execution_count": 55,
   "metadata": {},
   "outputs": [],
   "source": [
    "/*\n",
    "Given two numbers ‘a’ and b’. \n",
    "Write a program to count number of bits needed to be flipped to convert ‘a’ to ‘b’.\n",
    "*/"
   ]
  },
  {
   "cell_type": "code",
   "execution_count": 56,
   "metadata": {},
   "outputs": [],
   "source": [
    "/*\n",
    "Example :\n",
    "\n",
    "Input : a = 10, b = 20\n",
    "Output : 4\n",
    "Binary representation of a is 00001010\n",
    "Binary representation of b is 00010100\n",
    "We need to flip highlighted four bits in a\n",
    "to make it b.\n",
    "\n",
    "Input : a = 7, b = 10\n",
    "Output : 3\n",
    "Binary representation of a is 00000111\n",
    "Binary representation of b is 00001010\n",
    "We need to flip highlighted three bits in a\n",
    "to make it b.\n",
    "*/"
   ]
  },
  {
   "cell_type": "code",
   "execution_count": 57,
   "metadata": {},
   "outputs": [],
   "source": [
    "/*\n",
    "1. Calculate XOR of A and B.      \n",
    "        a_xor_b = A ^ B\n",
    "2. Count the set bits in the above \n",
    "     calculated XOR result.\n",
    "        countSetBits(a_xor_b)\n",
    "        \n",
    "XOR of two number will have set bits only at those places where A differs from B.\n",
    "*/"
   ]
  },
  {
   "cell_type": "code",
   "execution_count": 58,
   "metadata": {},
   "outputs": [
    {
     "name": "stdout",
     "output_type": "stream",
     "text": [
      "4"
     ]
    }
   ],
   "source": [
    "// Function that count set bits \n",
    "public static int countSetBits(int n) \n",
    "{ \n",
    "    int count = 0; \n",
    "    while (n != 0) { \n",
    "        count += n & 1; \n",
    "        n >>= 1; \n",
    "    } \n",
    "    return count; \n",
    "} \n",
    "\n",
    "// Function that return count of \n",
    "// flipped number \n",
    "public static int FlippedCount(int a, int b) \n",
    "{ \n",
    "    // Return count of set bits in \n",
    "    // a XOR b \n",
    "    return countSetBits(a ^ b); \n",
    "} \n",
    "\n",
    "// Driver code \n",
    "public static void main(String[] args) \n",
    "{ \n",
    "    int a = 10; \n",
    "    int b = 20; \n",
    "    System.out.print(FlippedCount(a, b)); \n",
    "} \n",
    "main(args);"
   ]
  },
  {
   "cell_type": "markdown",
   "metadata": {},
   "source": [
    "***https://youtu.be/WVgYaucD1S4***"
   ]
  },
  {
   "cell_type": "markdown",
   "metadata": {},
   "source": [
    "**Related Link :**   ***https://www.geeksforgeeks.org/count-set-bits-in-an-integer/***"
   ]
  },
  {
   "cell_type": "markdown",
   "metadata": {},
   "source": [
    "## **463. Count total set bits in all numbers from 1 to n**\n",
    "https://www.geeksforgeeks.org/count-total-set-bits-in-all-numbers-from-1-to-n/"
   ]
  },
  {
   "cell_type": "code",
   "execution_count": 59,
   "metadata": {},
   "outputs": [],
   "source": [
    "/*\n",
    "Given a positive integer n, \n",
    "count the total number of set bits in binary representation of all numbers from 1 to n.\n",
    "*/"
   ]
  },
  {
   "cell_type": "code",
   "execution_count": 60,
   "metadata": {},
   "outputs": [],
   "source": [
    "/*\n",
    "Examples:\n",
    "\n",
    "Input: n = 3\n",
    "Output:  4\n",
    "\n",
    "Input: n = 6\n",
    "Output: 9\n",
    "\n",
    "Input: n = 7\n",
    "Output: 12\n",
    "\n",
    "Input: n = 8\n",
    "Output: 13\n",
    "*/"
   ]
  },
  {
   "cell_type": "code",
   "execution_count": 61,
   "metadata": {},
   "outputs": [],
   "source": [
    "/*\n",
    "Method 1 (Simple)\n",
    "Time Complexity: O(nLogn)\n",
    "\n",
    "A simple solution is to run a loop from 1 to n \n",
    "and sum the count of set bits in all numbers from 1 to n.\n",
    "*/"
   ]
  },
  {
   "cell_type": "code",
   "execution_count": 62,
   "metadata": {},
   "outputs": [
    {
     "name": "stdout",
     "output_type": "stream",
     "text": [
      "Total set bit count is 5"
     ]
    }
   ],
   "source": [
    "// Returns count of set bits present \n",
    "//  in all numbers from 1 to n \n",
    "static int countSetBits( int n) \n",
    "{ \n",
    "    // initialize the result \n",
    "    int bitCount = 0; \n",
    "\n",
    "    for (int i = 1; i <= n; i++) \n",
    "        bitCount += countSetBitsUtil(i); \n",
    "\n",
    "    return bitCount; \n",
    "} \n",
    "\n",
    "// A utility function to count set bits  \n",
    "// in a number x \n",
    "static int countSetBitsUtil( int x) \n",
    "{ \n",
    "    if (x <= 0) \n",
    "        return 0; \n",
    "    return (x % 2 == 0 ? 0 : 1) +  \n",
    "           countSetBitsUtil(x / 2); \n",
    "} \n",
    "\n",
    "// Driver program  \n",
    "public static void main(String[] args) \n",
    "{ \n",
    "    int n = 4; \n",
    "    System.out.print(\"Total set bit count is \"); \n",
    "    System.out.print(countSetBits(n)); \n",
    "} \n",
    "main(args);"
   ]
  },
  {
   "cell_type": "code",
   "execution_count": 63,
   "metadata": {},
   "outputs": [],
   "source": [
    "/*\n",
    "Method 2 (Simple and efficient than Method 1)\n",
    "Time Complexity: O(k*n)\n",
    "where k = number of bits to represent number n\n",
    "k <= 64\n",
    "\n",
    "\n",
    "If we observe bits from rightmost side at distance i \n",
    "    than bits get inverted after 2^i position in vertical sequence.\n",
    "    \n",
    "for example n = 5;\n",
    "0 = 0000\n",
    "1 = 0001\n",
    "2 = 0010\n",
    "3 = 0011\n",
    "4 = 0100\n",
    "5 = 0101\n",
    "\n",
    "Observe the right most bit (i = 0) \n",
    "    the bits get flipped after (2^0 = 1)\n",
    "Observe the 3rd rightmost bit (i = 2) \n",
    "    the bits get flipped after (2^2 = 4)\n",
    "\n",
    "So, We can count bits in vertical fashion \n",
    "    such that at i’th right most position bits will be get flipped after 2^i iteration;\n",
    "*/"
   ]
  },
  {
   "cell_type": "code",
   "execution_count": 64,
   "metadata": {},
   "outputs": [
    {
     "name": "stdout",
     "output_type": "stream",
     "text": [
      "35\n"
     ]
    }
   ],
   "source": [
    "// Function which counts set bits from 0 to n \n",
    "static int countSetBits(int n) \n",
    "{ \n",
    "    int i = 0; \n",
    "\n",
    "    // ans store sum of set bits from 0 to n \n",
    "    int ans = 0; \n",
    "\n",
    "    // while n greater than equal to 2^i \n",
    "    while ((1 << i) <= n) { \n",
    "\n",
    "        // This k will get flipped after \n",
    "        // 2^i iterations \n",
    "        boolean k = false; \n",
    "\n",
    "        // change is iterator from 2^i to 1 \n",
    "        int change = 1 << i; \n",
    "\n",
    "        // This will loop from 0 to n for \n",
    "        // every bit position \n",
    "        for (int j = 0; j <= n; j++) { \n",
    "\n",
    "            if (k == true) \n",
    "                ans += 1; \n",
    "            else\n",
    "                ans += 0; \n",
    "\n",
    "            if (change == 1) { \n",
    "\n",
    "                // When change = 1 flip the bit \n",
    "                k = !k;  \n",
    "\n",
    "                // again set change to 2^i \n",
    "                change = 1 << i;  \n",
    "            } \n",
    "            else { \n",
    "                change--; \n",
    "            } \n",
    "        } \n",
    "\n",
    "        // increment the position \n",
    "        i++; \n",
    "    } \n",
    "\n",
    "    return ans; \n",
    "} \n",
    "\n",
    "// Driver program \n",
    "public static void main(String[] args) \n",
    "{ \n",
    "    int n = 17; \n",
    "\n",
    "    System.out.println(countSetBits(n)); \n",
    "} \n",
    "main(args);"
   ]
  },
  {
   "cell_type": "code",
   "execution_count": 65,
   "metadata": {},
   "outputs": [],
   "source": [
    "/*\n",
    "For Method 3 (Tricky)\n",
    "\n",
    "View Question Link\n",
    "*/"
   ]
  },
  {
   "cell_type": "markdown",
   "metadata": {},
   "source": [
    "## **464. Swap two nibbles in a byte**\n",
    "https://www.geeksforgeeks.org/swap-two-nibbles-byte/"
   ]
  },
  {
   "cell_type": "code",
   "execution_count": 66,
   "metadata": {},
   "outputs": [],
   "source": [
    "/*\n",
    "A nibble is a four-bit aggregation, or half an octet. \n",
    "There are two nibbles in a byte.\n",
    "\n",
    "Given a byte, \n",
    "    swap the two nibbles in it. \n",
    "*/"
   ]
  },
  {
   "cell_type": "code",
   "execution_count": 67,
   "metadata": {},
   "outputs": [],
   "source": [
    "/*\n",
    "For example \n",
    "    100 is be represented as 01100100 in a byte (or 8 bits). \n",
    "    The two nibbles are (0110) and (0100). \n",
    "    If we swap the two nibbles, \n",
    "        we get 01000110 which is 70 in decimal.\n",
    "*/"
   ]
  },
  {
   "cell_type": "code",
   "execution_count": 68,
   "metadata": {},
   "outputs": [],
   "source": [
    "/*\n",
    "To swap the nibbles, \n",
    "    we can use bitwise &, bitwise ” operators. \n",
    "A byte can be represented using a unsigned char in C as size of char is 1 byte in a typical C compiler.\n",
    "*/"
   ]
  },
  {
   "cell_type": "code",
   "execution_count": 69,
   "metadata": {},
   "outputs": [
    {
     "name": "stdout",
     "output_type": "stream",
     "text": [
      "70"
     ]
    }
   ],
   "source": [
    "static int swapNibbles(int x) \n",
    "{ \n",
    "    return ((x & 0x0F) << 4 | (x & 0xF0) >> 4); \n",
    "} \n",
    "  \n",
    "// Driver code \n",
    "public static void main(String arg[]) \n",
    "{ \n",
    "    int x = 100; \n",
    "    System.out.print(swapNibbles(x)); \n",
    "} \n",
    "main(args);"
   ]
  },
  {
   "cell_type": "code",
   "execution_count": 70,
   "metadata": {},
   "outputs": [],
   "source": [
    "/*\n",
    "Explanation:\n",
    "\n",
    "100 is 01100100 in binary. \n",
    "The operation can be split mainly in two parts\n",
    "\n",
    "1) The expression “x & 0x0F” gives us last 4 bits of x. \n",
    "    For x = 100, \n",
    "        the result is 00000100. \n",
    "        \n",
    "        Using bitwise ‘<<' operator, \n",
    "            we shift the last four bits to the left 4 times \n",
    "            and make the new last four bits as 0. \n",
    "            The result after shift is 01000000.\n",
    "\n",
    "2) The expression “x & 0xF0” gives us first four bits of x. \n",
    "    For x = 100,\n",
    "        the result is 01100000. \n",
    "        \n",
    "        Using bitwise ‘>>’ operator,\n",
    "            we shift the digit to the right 4 times\n",
    "            and make the first four bits as 0. \n",
    "            The result after shift is 00000110.\n",
    "\n",
    "At the end we use the bitwise OR ‘|’ operation of the two expressions explained above. \n",
    "\n",
    "The OR operator places first nibble to the end and last nibble to first. \n",
    "\n",
    "For x = 100,\n",
    "    the value of (01000000) OR (00000110) gives the result 01000110\n",
    "        which is equal to 70 in decimal.\n",
    "*/"
   ]
  },
  {
   "cell_type": "markdown",
   "metadata": {},
   "source": [
    "## **465. Find the element that appears once**\n",
    "https://www.geeksforgeeks.org/find-the-element-that-appears-once/"
   ]
  },
  {
   "cell_type": "code",
   "execution_count": 71,
   "metadata": {},
   "outputs": [],
   "source": [
    "/*\n",
    "Given an array where every element occurs three times, \n",
    "    except one element which occurs only once. \n",
    "    \n",
    "Find the element that occurs once. \n",
    "\n",
    "Expected time complexity is O(n) and O(1) extra space.\n",
    "*/"
   ]
  },
  {
   "cell_type": "code",
   "execution_count": 72,
   "metadata": {},
   "outputs": [],
   "source": [
    "/*\n",
    "Examples :\n",
    "\n",
    "Input: arr[] = {12, 1, 12, 3, 12, 1, 1, 2, 3, 3}\n",
    "Output: 2\n",
    "In the given array all element appear three times except 2 which appears once.\n",
    "\n",
    "Input: arr[] = {10, 20, 10, 30, 10, 30, 30}\n",
    "Output: 20\n",
    "In the given array all element appear three times except 20 which appears once.\n",
    "*/"
   ]
  },
  {
   "cell_type": "code",
   "execution_count": 73,
   "metadata": {},
   "outputs": [],
   "source": [
    "/*\n",
    "Time Complexity: O(Nlog(N))\n",
    "Auxiliary Space: O(N)\n",
    "\n",
    "\n",
    "1. Add each number once and multiply the sum by 3, \n",
    "        we will get thrice the sum of each element of the array. \n",
    "2. Store it as thrice_sum. \n",
    "3. Subtract the sum of the whole array from the thrice_sum \n",
    "        and divide the result by 2.\n",
    "4. The number we get is the required number (which appears once in the array).\n",
    "*/"
   ]
  },
  {
   "cell_type": "code",
   "execution_count": 74,
   "metadata": {},
   "outputs": [],
   "source": [
    "/*\n",
    "Array [] : [a, a, a, b, b, b, c, c, c, d]\n",
    "\n",
    "Mathematical Equation = ( 3*(a+b+c+d) – (a + a + a + b + b + b + c + c + c + d) ) / 2\n",
    "\n",
    "In more simple words: ( 3*(sum_of_array_without_duplicates) – (sum_of_array) ) / 2\n",
    "*/"
   ]
  },
  {
   "cell_type": "code",
   "execution_count": 75,
   "metadata": {},
   "outputs": [],
   "source": [
    "/*\n",
    "let arr[] = {12, 1, 12, 3, 12, 1, 1, 2, 3, 3}\n",
    "Required no = ( 3*(sum_of_array_without_duplicates) - (sum_of_array) ) / 2\n",
    "            = ( 3*(12 + 1 + 3 + 2) - (12 + 1 + 12 + 3 + 12 + 1 + 1 + 2 + 3 + 3))/2 \n",
    "            = ( 3*     18          -      50) / 2\n",
    "            = (54 - 50) / 2\n",
    "            = 2 (required answer)\n",
    "*/"
   ]
  },
  {
   "cell_type": "code",
   "execution_count": 76,
   "metadata": {},
   "outputs": [],
   "source": [
    "/*\n",
    "As we know that set does not contain any duplicate element,\n",
    "\n",
    "But,\n",
    "    std::set is commonly implemented as a red-black binary search tree. \n",
    "    Insertion on this data structure has a worst-case of O(log(n)) complexity,\n",
    "        as the tree is kept balanced. \n",
    "    we will be using set here.\n",
    "*/"
   ]
  },
  {
   "cell_type": "code",
   "execution_count": 77,
   "metadata": {},
   "outputs": [
    {
     "name": "stdout",
     "output_type": "stream",
     "text": [
      "The element with single occurrence is 7\n"
     ]
    }
   ],
   "source": [
    "//function which find number  \n",
    "static int singleNumber(int a[], int n) \n",
    "{ \n",
    "    HashSet<Integer> s = new HashSet<Integer>(); \n",
    "    for (int i : a) \n",
    "    { \n",
    "        s.add(i); \n",
    "    } \n",
    "\n",
    "    int arr_sum = 0;//sum of array \n",
    "    for (int i : a)  \n",
    "    { \n",
    "        arr_sum += i; \n",
    "    } \n",
    "\n",
    "    int set_sum = 0;//sum of set \n",
    "    for (int i : s)  \n",
    "    { \n",
    "        set_sum += i; \n",
    "    } \n",
    "\n",
    "    //applying the formula. \n",
    "    return (3 * set_sum - arr_sum) / 2; \n",
    "\n",
    "} \n",
    "\n",
    "//Driver code \n",
    "public static void main(String[] args) \n",
    "{ \n",
    "    int a[] = {12, 1, 12, 3, 12, 1, 1, 2, 3, 2, 2, 3, 7}; \n",
    "    int n = a.length; \n",
    "    System.out.println(\"The element with single \" +  \n",
    "                    \"occurrence is \" + singleNumber(a, n)); \n",
    "} \n",
    "main(args);"
   ]
  },
  {
   "cell_type": "code",
   "execution_count": 78,
   "metadata": {},
   "outputs": [],
   "source": [
    "/*\n",
    "Time Complexity : O(n)\n",
    "Auxiliary Space : O(1)\n",
    "\n",
    "We can use sorting to do it in O(nLogn) time.\n",
    "    We can also use hashing,\n",
    "        it has the worst case time complexity of O(n), but requires extra space.\n",
    "\n",
    "The idea is to use bitwise operators for a solution that is O(n) time and uses O(1) extra space. \n",
    "The solution is not easy like other XOR based solutions, \n",
    "    because all elements appear odd number of times here.\n",
    "    \n",
    "The idea is taken from (below link).\n",
    "\n",
    "Run a loop for all elements in array. \n",
    "    At the end of every iteration, \n",
    "\n",
    "maintain following two values.\n",
    "\n",
    "ones: The bits that have appeared 1st time or 4th time or 7th time .. etc.\n",
    "twos: The bits that have appeared 2nd time or 5th time or 8th time .. etc.\n",
    "\n",
    "Finally, we return the value of ‘ones’\n",
    "*/"
   ]
  },
  {
   "cell_type": "markdown",
   "metadata": {},
   "source": [
    "***http://www.careercup.com/question?id=7902674***"
   ]
  },
  {
   "cell_type": "code",
   "execution_count": 79,
   "metadata": {},
   "outputs": [],
   "source": [
    "/*\n",
    "How to maintain the values of ‘ones’ and ‘twos’?\n",
    "\n",
    "‘ones’ and ‘twos’ are initialized as 0.\n",
    "For every new element in array, \n",
    "    find out the common set bits in the new element and previous value of ‘ones’. \n",
    "    These common set bits are actually the bits that should be added to ‘twos’. \n",
    "    So do bitwise OR of the common set bits with ‘twos’. \n",
    "    ‘twos’ also gets some extra bits that appear third time. \n",
    "    These extra bits are removed later.\n",
    "\n",
    "Update ‘ones’ by doing XOR of new element with previous value of ‘ones’. \n",
    "There may be some bits which appear 3rd time. \n",
    "These extra bits are also removed later.\n",
    "\n",
    "Both ‘ones’ and ‘twos’ contain those extra bits which appear 3rd time. \n",
    "Remove these extra bits by finding out common set bits in ‘ones’ and ‘twos’.\n",
    "*/"
   ]
  },
  {
   "cell_type": "code",
   "execution_count": 80,
   "metadata": {},
   "outputs": [
    {
     "name": "stdout",
     "output_type": "stream",
     "text": [
      "The element with single occurrence is 2\n"
     ]
    }
   ],
   "source": [
    "// Method to find the element that occur only once \n",
    "static int getSingle(int arr[], int n) \n",
    "{ \n",
    "    int ones = 0, twos = 0; \n",
    "    int common_bit_mask; \n",
    "\n",
    "    for(int i=0; i<n; i++ ) \n",
    "    { \n",
    "        /*\"one & arr[i]\" gives the bits that are there in \n",
    "        both 'ones' and new element from arr[]. We \n",
    "        add these bits to 'twos' using bitwise OR*/\n",
    "        twos = twos | (ones & arr[i]); \n",
    "\n",
    "        /*\"one & arr[i]\" gives the bits that are \n",
    "        there in both 'ones' and new element from arr[]. \n",
    "        We add these bits to 'twos' using bitwise OR*/\n",
    "        ones = ones ^ arr[i]; \n",
    "\n",
    "        /* The common bits are those bits which appear third time \n",
    "        So these bits should not be there in both 'ones' and 'twos'. \n",
    "        common_bit_mask contains all these bits as 0, so that the bits can  \n",
    "        be removed from 'ones' and 'twos'*/\n",
    "        common_bit_mask = ~(ones & twos); \n",
    "\n",
    "        /*Remove common bits (the bits that appear third time) from 'ones'*/\n",
    "        ones &= common_bit_mask; \n",
    "\n",
    "        /*Remove common bits (the bits that appear third time) from 'twos'*/\n",
    "        twos &= common_bit_mask; \n",
    "    } \n",
    "    return ones; \n",
    "} \n",
    "\n",
    "//  Driver method \n",
    "public static void main(String args[]) \n",
    "{ \n",
    "    int arr[] = {3, 3, 2, 3}; \n",
    "    int n = arr.length; \n",
    "    System.out.println(\"The element with single occurrence is \" + getSingle(arr, n)); \n",
    "} \n",
    "main(args);"
   ]
  },
  {
   "cell_type": "code",
   "execution_count": 81,
   "metadata": {},
   "outputs": [],
   "source": [
    "/*\n",
    "For further details view question link\n",
    "*/"
   ]
  },
  {
   "cell_type": "markdown",
   "metadata": {},
   "source": [
    "## **466. Program to find whether a no is power of two**\n",
    "https://www.geeksforgeeks.org/program-to-find-whether-a-no-is-power-of-two/"
   ]
  },
  {
   "cell_type": "code",
   "execution_count": 82,
   "metadata": {},
   "outputs": [],
   "source": [
    "/*\n",
    "Given a positive integer, write a function to find if it is a power of two or not.\n",
    "*/"
   ]
  },
  {
   "cell_type": "code",
   "execution_count": 83,
   "metadata": {},
   "outputs": [],
   "source": [
    "/*\n",
    "Examples :\n",
    "\n",
    "Input : n = 4\n",
    "Output : Yes\n",
    "2^2 = 4\n",
    "\n",
    "Input : n = 7\n",
    "Output : No\n",
    "\n",
    "Input : n = 32\n",
    "Output : Yes\n",
    "2^5 = 32\n",
    "*/"
   ]
  },
  {
   "cell_type": "code",
   "execution_count": 84,
   "metadata": {},
   "outputs": [],
   "source": [
    "/*\n",
    "1. A simple method for this is to simply take the log of the number on base 2 \n",
    "        and if you get an integer then number is power of 2\n",
    "*/"
   ]
  },
  {
   "cell_type": "code",
   "execution_count": 85,
   "metadata": {},
   "outputs": [
    {
     "name": "stdout",
     "output_type": "stream",
     "text": [
      "No\n",
      "Yes\n"
     ]
    }
   ],
   "source": [
    "/* Function to check if x is power of 2*/\n",
    "static boolean isPowerOfTwo(int n) \n",
    "{ \n",
    "    if(n==0) \n",
    "    return false; \n",
    "  \n",
    "return (int)(Math.ceil((Math.log(n) / Math.log(2)))) ==  \n",
    "       (int)(Math.floor(((Math.log(n) / Math.log(2))))); \n",
    "} \n",
    "  \n",
    "// Driver Code \n",
    "public static void main(String[] args) \n",
    "{ \n",
    "    if(isPowerOfTwo(31)) \n",
    "    System.out.println(\"Yes\"); \n",
    "    else\n",
    "    System.out.println(\"No\"); \n",
    "      \n",
    "    if(isPowerOfTwo(64)) \n",
    "    System.out.println(\"Yes\"); \n",
    "    else\n",
    "    System.out.println(\"No\"); \n",
    "} \n",
    "main(args);"
   ]
  },
  {
   "cell_type": "code",
   "execution_count": 86,
   "metadata": {},
   "outputs": [],
   "source": [
    "/*\n",
    "If we subtract a power of 2 numbers by 1 \n",
    "    then all unset bits after the only set bit become set; \n",
    "    and the set bit become unset.\n",
    "\n",
    "For example\n",
    "\n",
    "for 4 ( 100) and 16(10000), \n",
    "\n",
    "we get following after subtracting 1\n",
    "3 –> 011\n",
    "15 –> 01111\n",
    "\n",
    "So, if a number n is a power of 2 \n",
    "    then bitwise & of n and n-1 will be zero.\n",
    "    \n",
    "We can say n is a power of 2 or not based on value of n&(n-1). \n",
    "The expression n&(n-1) will not work when n is 0. \n",
    "To handle this case also, \n",
    "    our expression will become n& (!n&(n-1)) \n",
    "*/"
   ]
  },
  {
   "cell_type": "code",
   "execution_count": 87,
   "metadata": {},
   "outputs": [
    {
     "name": "stdout",
     "output_type": "stream",
     "text": [
      "No\n",
      "Yes\n"
     ]
    }
   ],
   "source": [
    "/* Method to check if x is power of 2*/\n",
    "static boolean isPowerOfTwo (int x) \n",
    "{ \n",
    "  /* First x in the below expression is  \n",
    "    for the case when x is 0 */\n",
    "    return x!=0 && ((x&(x-1)) == 0); \n",
    "\n",
    "} \n",
    "\n",
    "// Driver method \n",
    "public static void main(String[] args)  \n",
    "{ \n",
    "     System.out.println(isPowerOfTwo(31) ? \"Yes\" : \"No\"); \n",
    "     System.out.println(isPowerOfTwo(64) ? \"Yes\" : \"No\"); \n",
    "\n",
    "} \n",
    "main(args);"
   ]
  },
  {
   "cell_type": "markdown",
   "metadata": {},
   "source": [
    "## **467. Sum of bit differences among all pairs**\n",
    "https://www.geeksforgeeks.org/sum-of-bit-differences-among-all-pairs/"
   ]
  },
  {
   "cell_type": "code",
   "execution_count": 88,
   "metadata": {},
   "outputs": [],
   "source": [
    "/*\n",
    "Given an integer array of n integers, \n",
    "find sum of bit differences in all pairs that can be formed from array elements. \n",
    "\n",
    "Bit difference of a pair (x, y) is count of different bits at same positions in binary representations of x and y.\n",
    "\n",
    "For example, \n",
    "    bit difference for 2 and 7 is 2. \n",
    "    Binary representation of 2 is 010 and 7 is 111 ( first and last bits differ in two numbers).\n",
    "*/"
   ]
  },
  {
   "cell_type": "code",
   "execution_count": 89,
   "metadata": {},
   "outputs": [],
   "source": [
    "/*\n",
    "Examples :\n",
    "\n",
    "Input: arr[] = {1, 2}\n",
    "Output: 4\n",
    "All pairs in array are (1, 1), (1, 2)\n",
    "                       (2, 1), (2, 2)\n",
    "Sum of bit differences = 0 + 2 +\n",
    "                         2 + 0\n",
    "                      = 4\n",
    "\n",
    "Input:  arr[] = {1, 3, 5}\n",
    "Output: 8\n",
    "All pairs in array are (1, 1), (1, 3), (1, 5)\n",
    "                       (3, 1), (3, 3) (3, 5),\n",
    "                       (5, 1), (5, 3), (5, 5)\n",
    "Sum of bit differences =  0 + 1 + 1 +\n",
    "                          1 + 0 + 2 +\n",
    "                          1 + 2 + 0 \n",
    "                       = 8\n",
    "*/"
   ]
  },
  {
   "cell_type": "code",
   "execution_count": 90,
   "metadata": {},
   "outputs": [],
   "source": [
    "/*\n",
    "A Simple Solution \n",
    "    is to run two loops to consider all pairs one by one. \n",
    "\n",
    "For every pair, \n",
    "    count bit differences. \n",
    "Finally return sum of counts. \n",
    "\n",
    "Time complexity of this solution is O(n^2).\n",
    "*/"
   ]
  },
  {
   "cell_type": "code",
   "execution_count": 91,
   "metadata": {},
   "outputs": [],
   "source": [
    "/*\n",
    "An Efficient Solution \n",
    "    can solve this problem in O(n) time using the fact that all numbers are represented using 32 bits (or some fixed number of bits). \n",
    "\n",
    "The idea is to count differences at individual bit positions. \n",
    "We traverse from 0 to 31 and count numbers with i’th bit set. \n",
    "    Let this count be ‘count’. \n",
    "There would be “n-count” numbers with i’th bit not set. \n",
    "So count of differences at i’th bit would be “count * (n-count) * 2”, \n",
    "    the reason for this formula is as every pair having one element which has set bit at i’th position \n",
    "    and second element having unset bit at i’th position contributes exactly 1 to sum, \n",
    "    therefore total permutation count will be count*(n-count) and multiply by 2 \n",
    "        is due to one more repetition of all this type of pair as per given condition \n",
    "        for making pair 1<=i,j<=N.\n",
    "*/"
   ]
  },
  {
   "cell_type": "code",
   "execution_count": 92,
   "metadata": {},
   "outputs": [
    {
     "name": "stdout",
     "output_type": "stream",
     "text": [
      "8\n"
     ]
    }
   ],
   "source": [
    "static int sumBitDifferences(int arr[], int n) \n",
    "{ \n",
    "\n",
    "    int ans = 0; // Initialize result \n",
    "\n",
    "    // traverse over all bits \n",
    "    for (int i = 0; i < 32; i++) { \n",
    "\n",
    "        // count number of elements  \n",
    "        // with i'th bit set \n",
    "        int count = 0; \n",
    "\n",
    "        for (int j = 0; j < n; j++) \n",
    "            if ((arr[j] & (1 << i)) == 0) \n",
    "                count++; \n",
    "\n",
    "        // Add \"count * (n - count) * 2\"  \n",
    "        // to the answer \n",
    "        ans += (count * (n - count) * 2); \n",
    "    } \n",
    "\n",
    "    return ans; \n",
    "} \n",
    "\n",
    "// Driver prorgram \n",
    "public static void main(String args[])  \n",
    "{ \n",
    "\n",
    "    int arr[] = { 1, 3, 5 }; \n",
    "    int n = arr.length; \n",
    "\n",
    "    System.out.println(sumBitDifferences( \n",
    "                                    arr, n)); \n",
    "} \n",
    "main(args);"
   ]
  },
  {
   "cell_type": "markdown",
   "metadata": {},
   "source": [
    "## **468. Generate n-bit Gray Codes**\n",
    "https://www.geeksforgeeks.org/generate-n-bit-gray-codes/"
   ]
  },
  {
   "cell_type": "code",
   "execution_count": 93,
   "metadata": {},
   "outputs": [],
   "source": [
    "/*\n",
    "Given a number n, generate bit patterns from 0 to 2^n-1 such that successive patterns differ by one bit.\n",
    "*/"
   ]
  },
  {
   "cell_type": "code",
   "execution_count": 94,
   "metadata": {},
   "outputs": [],
   "source": [
    "/*\n",
    "Examples:\n",
    "\n",
    "Following is 2-bit sequence (n = 2)\n",
    "  00 01 11 10\n",
    "Following is 3-bit sequence (n = 3)\n",
    "  000 001 011 010 110 111 101 100\n",
    "And Following is 4-bit sequence (n = 4)\n",
    "  0000 0001 0011 0010 0110 0111 0101 0100 1100 1101 1111 \n",
    "  1110 1010 1011 1001 1000\n",
    "*/"
   ]
  },
  {
   "cell_type": "code",
   "execution_count": 95,
   "metadata": {},
   "outputs": [],
   "source": [
    "/*\n",
    "The above sequences are Gray Codes of different widths. \n",
    "Following is an interesting pattern in Gray Codes.\n",
    "\n",
    "n-bit Gray Codes can be generated from list of (n-1)-bit Gray codes using following steps.\n",
    "1) Let the list of (n-1)-bit Gray codes be L1. Create another list L2 which is reverse of L1.\n",
    "2) Modify the list L1 by prefixing a ‘0’ in all codes of L1.\n",
    "3) Modify the list L2 by prefixing a ‘1’ in all codes of L2.\n",
    "4) Concatenate L1 and L2. The concatenated list is required list of n-bit Gray codes.\n",
    "*/"
   ]
  },
  {
   "cell_type": "code",
   "execution_count": 96,
   "metadata": {},
   "outputs": [],
   "source": [
    "/*\n",
    "For example, \n",
    "\n",
    "following are steps for generating the 3-bit Gray code list from the list of 2-bit Gray code list.\n",
    "\n",
    "L1 = {00, 01, 11, 10} (List of 2-bit Gray Codes)\n",
    "L2 = {10, 11, 01, 00} (Reverse of L1)\n",
    "Prefix all entries of L1 with ‘0’, L1 becomes {000, 001, 011, 010}\n",
    "Prefix all entries of L2 with ‘1’, L2 becomes {110, 111, 101, 100}\n",
    "Concatenate L1 and L2, we get {000, 001, 011, 010, 110, 111, 101, 100}\n",
    "*/"
   ]
  },
  {
   "cell_type": "code",
   "execution_count": 97,
   "metadata": {},
   "outputs": [],
   "source": [
    "/*\n",
    "To generate n-bit Gray codes, \n",
    "    we start from list of 1 bit Gray codes. \n",
    "\n",
    "The list of 1 bit Gray code is {0, 1}.\n",
    "\n",
    "We repeat above steps to generate 2 bit Gray codes from 1 bit Gray codes, \n",
    "    then 3-bit Gray codes from 2-bit Gray codes till the number of bits becomes equal to n. \n",
    "*/"
   ]
  },
  {
   "cell_type": "code",
   "execution_count": 98,
   "metadata": {},
   "outputs": [
    {
     "name": "stdout",
     "output_type": "stream",
     "text": [
      "000\n",
      "001\n",
      "011\n",
      "010\n",
      "110\n",
      "111\n",
      "101\n",
      "100\n"
     ]
    }
   ],
   "source": [
    "// This function generates all n bit Gray codes and prints the  \n",
    "// generated codes  \n",
    "static void generateGrayarr(int n)  \n",
    "{  \n",
    "    // base case  \n",
    "    if (n <= 0)  \n",
    "        return;  \n",
    "  \n",
    "    // 'arr' will store all generated codes  \n",
    "    ArrayList<String> arr = new ArrayList<String> ();  \n",
    "  \n",
    "    // start with one-bit pattern  \n",
    "    arr.add(\"0\");  \n",
    "    arr.add(\"1\");  \n",
    "  \n",
    "    // Every iteration of this loop generates 2*i codes from previously  \n",
    "    // generated i codes.  \n",
    "    int i, j;  \n",
    "    for (i = 2; i < (1<<n); i = i<<1)  \n",
    "    {  \n",
    "        // Enter the prviously generated codes again in arr[] in reverse  \n",
    "        // order. Nor arr[] has double number of codes.  \n",
    "        for (j = i-1 ; j >= 0 ; j--)  \n",
    "            arr.add(arr.get(j));  \n",
    "  \n",
    "        // append 0 to the first half  \n",
    "        for (j = 0 ; j < i ; j++)  \n",
    "            arr.set(j, \"0\" + arr.get(j));  \n",
    "  \n",
    "        // append 1 to the second half  \n",
    "        for (j = i ; j < 2*i ; j++)  \n",
    "            arr.set(j, \"1\" + arr.get(j));  \n",
    "    }  \n",
    "  \n",
    "    // print contents of arr[]  \n",
    "    for (i = 0 ; i < arr.size() ; i++ )  \n",
    "        System.out.println(arr.get(i));  \n",
    "}  \n",
    "  \n",
    "// Driver program to test above function  \n",
    "public static void main(String[] args)  \n",
    "{  \n",
    "    generateGrayarr(3);  \n",
    "} \n",
    "main(args);"
   ]
  },
  {
   "cell_type": "markdown",
   "metadata": {},
   "source": [
    "## **469. Josephus problem | Set 1 (A O(n) Solution)**\n",
    "https://www.geeksforgeeks.org/josephus-problem-set-1-a-on-solution/"
   ]
  },
  {
   "cell_type": "code",
   "execution_count": 99,
   "metadata": {},
   "outputs": [],
   "source": [
    "/*\n",
    "Following is the problem statement:\n",
    "\n",
    "There are n people standing in a circle waiting to be executed.\n",
    "The counting out begins at some point in the circle and proceeds around the circle in a fixed direction. \n",
    "In each step,\n",
    "    a certain number of people are skipped and the next person is executed. \n",
    "\n",
    "The elimination proceeds around the circle (which is becoming smaller and smaller as the executed people are removed), \n",
    "    until only the last person remains, who is given freedom.\n",
    "    \n",
    "Given the total number of persons n and a number k \n",
    "    which indicates that k-1 persons are skipped and kth person is killed in circle.\n",
    "\n",
    "The task is to choose the place in the initial circle \n",
    "    so that you are the last one remaining and so survive.\n",
    "*/"
   ]
  },
  {
   "cell_type": "code",
   "execution_count": 100,
   "metadata": {},
   "outputs": [],
   "source": [
    "/*\n",
    "For example, \n",
    "\n",
    "if n = 5 and k = 2, \n",
    "    then the safe position is 3. \n",
    "Firstly, \n",
    "    the person at position 2 is killed, \n",
    "    then person at position 4 is killed,\n",
    "    then person at position 1 is killed. \n",
    "Finally, \n",
    "    the person at position 5 is killed. \n",
    "    So the person at position 3 survives.\n",
    "\n",
    "If n = 7 and k = 3,\n",
    "    then the safe position is 4. \n",
    "    The persons at positions 3, 6, 2, 7, 5, 1 are killed in order,\n",
    "    and person at position 4 survives.\n",
    "*/"
   ]
  },
  {
   "cell_type": "code",
   "execution_count": 101,
   "metadata": {},
   "outputs": [],
   "source": [
    "/*\n",
    "Time Complexity: O(n)\n",
    "\n",
    "The problem has following recursive structure.\n",
    "\n",
    "  josephus(n, k) = (josephus(n - 1, k) + k-1) % n + 1\n",
    "  josephus(1, k) = 1\n",
    "\n",
    "After the first person (kth from beginning) is killed,\n",
    "    n-1 persons are left. \n",
    "So \n",
    "    we call josephus(n – 1, k) to get the position with n-1 persons.\n",
    "But the position returned by josephus(n – 1, k) will consider the position starting from k%n + 1.\n",
    "So, \n",
    "    we must make adjustments to the position returned by josephus(n – 1, k).\n",
    "*/"
   ]
  },
  {
   "cell_type": "code",
   "execution_count": 102,
   "metadata": {},
   "outputs": [
    {
     "name": "stdout",
     "output_type": "stream",
     "text": [
      "The chosen place is 13\n"
     ]
    }
   ],
   "source": [
    "static int josephus(int n, int k) \n",
    "{ \n",
    "    if (n == 1) \n",
    "        return 1; \n",
    "    else\n",
    "        /* The position returned by josephus(n - 1, k)  \n",
    "        is adjusted because the recursive call  \n",
    "        josephus(n - 1, k) considers the original  \n",
    "        position k%n + 1 as position 1 */\n",
    "    return (josephus(n - 1, k) + k-1) % n + 1; \n",
    "} \n",
    "  \n",
    "// Driver Program to test above function \n",
    "public static void main(String[] args) \n",
    "{ \n",
    "    int n = 14; \n",
    "    int k = 2; \n",
    "    System.out.println(\"The chosen place is \" + josephus(n, k)); \n",
    "} \n",
    "main(args);"
   ]
  },
  {
   "cell_type": "markdown",
   "metadata": {},
   "source": [
    "***https://youtu.be/fZ3p2Iw-O2I***"
   ]
  },
  {
   "cell_type": "markdown",
   "metadata": {},
   "source": [
    "**Related Link :**\n",
    "<br>\n",
    "***https://www.geeksforgeeks.org/josephus-problem-set-2-simple-solution-k-2/***\n",
    "<br>\n",
    "***http://en.wikipedia.org/wiki/Josephus_problem***"
   ]
  },
  {
   "cell_type": "markdown",
   "metadata": {},
   "source": [
    "## **470. A Boolean Array Puzzle**\n",
    "https://www.geeksforgeeks.org/a-boolean-array-puzzle/"
   ]
  },
  {
   "cell_type": "code",
   "execution_count": 103,
   "metadata": {},
   "outputs": [],
   "source": [
    "/*\n",
    "Input: \n",
    "    A array arr[] of two elements having value 0 and 1\n",
    "\n",
    "Output: \n",
    "    Make both elements 0.\n",
    "\n",
    "Specifications: \n",
    "    Following are the specifications to follow.\n",
    "1) It is guaranteed that one element is 0 but we do not know its position.\n",
    "2) We can’t say about another element it can be 0 or 1.\n",
    "3) We can only complement array elements, no other operation like and, or, multi, division, …. etc.\n",
    "4) We can’t use if, else and loop constructs.\n",
    "5) Obviously, we can’t directly assign 0 to array elements.\n",
    "*/"
   ]
  },
  {
   "cell_type": "code",
   "execution_count": 104,
   "metadata": {},
   "outputs": [],
   "source": [
    "/*\n",
    "Method 1\n",
    "\n",
    "void changeToZero(int a[2])  \n",
    "{  \n",
    "    a[ a[1] ] = a[ !a[1] ];  \n",
    "} \n",
    "*/"
   ]
  },
  {
   "cell_type": "code",
   "execution_count": 105,
   "metadata": {},
   "outputs": [],
   "source": [
    "/*\n",
    "Method 2\n",
    "\n",
    "void changeToZero(int a[2]) \n",
    "{ \n",
    "    a[ !a[0] ] = a[ !a[1] ] \n",
    "} \n",
    "*/"
   ]
  },
  {
   "cell_type": "code",
   "execution_count": 106,
   "metadata": {},
   "outputs": [],
   "source": [
    "/*\n",
    "Method 3\n",
    "This method doesn’t even need complement\n",
    "\n",
    "void changeToZero(int a[2]) \n",
    "{ \n",
    "    a[ a[1] ] = a[ a[0] ] \n",
    "} \n",
    "*/"
   ]
  },
  {
   "cell_type": "code",
   "execution_count": 107,
   "metadata": {},
   "outputs": [],
   "source": [
    "/*\n",
    "Method 4\n",
    "This method doesn’t even need complement\n",
    "\n",
    "void changeToZero(int a[2]) \n",
    "{ \n",
    "  a[0] = a[a[0]]; \n",
    "  a[1] = a[0]; \n",
    "}\n",
    "*/"
   ]
  },
  {
   "cell_type": "code",
   "execution_count": 108,
   "metadata": {},
   "outputs": [],
   "source": [
    "/*\n",
    "Driver Function\n",
    "\n",
    "// Driver code \n",
    "int main()  \n",
    "{  \n",
    "    int a[] = {1, 0};  \n",
    "    changeToZero(a);  \n",
    "      \n",
    "    cout<<\"arr[0] = \"<<a[0]<<endl;  \n",
    "    cout<<\" arr[1] = \"<<a[1];  \n",
    "    return 0;  \n",
    "} \n",
    "*/"
   ]
  },
  {
   "cell_type": "markdown",
   "metadata": {},
   "source": [
    "## **471. Swap all odd and even bits**\n",
    "https://www.geeksforgeeks.org/swap-all-odd-and-even-bits/"
   ]
  },
  {
   "cell_type": "code",
   "execution_count": 109,
   "metadata": {},
   "outputs": [],
   "source": [
    "/*\n",
    "Given an unsigned integer, swap all odd bits with even bits.\n",
    "*/"
   ]
  },
  {
   "cell_type": "code",
   "execution_count": 110,
   "metadata": {},
   "outputs": [],
   "source": [
    "/*\n",
    "For example, \n",
    "if the given number is 23 (00010111), \n",
    "    it should be converted to 43 (00101011). \n",
    "    \n",
    "Every even position bit is swapped with adjacent bit on right side \n",
    "    and every odd position bit is swapped with adjacent on left side.\n",
    "*/"
   ]
  },
  {
   "cell_type": "code",
   "execution_count": 111,
   "metadata": {},
   "outputs": [],
   "source": [
    "/*\n",
    "If we take a closer look at the example,\n",
    "    we can observe that \n",
    "    we basically need to right shift (>>) all even bits by 1 \n",
    "        so that they become odd bits, \n",
    "    and left shift (<<) all odd bits by 1 \n",
    "        so that they become even bits.\n",
    "    \n",
    "The following solution is based on this observation. \n",
    "The solution assumes that input number is stored using 32 bits.\n",
    "*/"
   ]
  },
  {
   "cell_type": "code",
   "execution_count": 112,
   "metadata": {},
   "outputs": [],
   "source": [
    "/*\n",
    "Let the input number be x\n",
    "\n",
    "1) Get all even bits of x by doing bitwise and of x with 0xAAAAAAAA. \n",
    "    The number 0xAAAAAAAA is a 32 bit number with all even bits set as 1 and all odd bits as 0.\n",
    "2) Get all odd bits of x by doing bitwise and of x with 0x55555555. \n",
    "    The number 0x55555555 is a 32 bit number with all odd bits set as 1 and all even bits as 0.\n",
    "3) Right shift all even bits.\n",
    "4) Left shift all odd bits.\n",
    "5) Combine new even and odd bits and return.\n",
    "*/"
   ]
  },
  {
   "cell_type": "code",
   "execution_count": 113,
   "metadata": {},
   "outputs": [
    {
     "name": "stdout",
     "output_type": "stream",
     "text": [
      "43\n"
     ]
    }
   ],
   "source": [
    "// Function to swap even \n",
    "// and odd bits \n",
    "static int swapBits(int x) \n",
    "{ \n",
    "    // Get all even bits of x \n",
    "    int even_bits = x & 0xAAAAAAAA;  \n",
    "\n",
    "    // Get all odd bits of x \n",
    "    int odd_bits = x & 0x55555555;  \n",
    "\n",
    "    // Right shift even bits \n",
    "    even_bits >>= 1;  \n",
    "\n",
    "    // Left shift even bits \n",
    "    odd_bits <<= 1;  \n",
    "\n",
    "    // Combine even and odd bits \n",
    "    return (even_bits | odd_bits);  \n",
    "} \n",
    "\n",
    "// Driver program to test above function \n",
    "public static void main(String[] args) \n",
    "{ \n",
    "    int x = 23; // 00010111 \n",
    "\n",
    "    // Output is 43 (00101011) \n",
    "    System.out.println(swapBits(x)); \n",
    "} \n",
    "main(args);"
   ]
  },
  {
   "cell_type": "markdown",
   "metadata": {},
   "source": [
    "***https://youtu.be/GWLCF808oVI***"
   ]
  },
  {
   "cell_type": "markdown",
   "metadata": {},
   "source": [
    "## **472. Calculate 7n/8 without using division and multiplication operators**\n",
    "https://www.geeksforgeeks.org/calculate-7n8-without-using-division-and-multiplication-operators/"
   ]
  },
  {
   "cell_type": "code",
   "execution_count": 114,
   "metadata": {},
   "outputs": [],
   "source": [
    "/*\n",
    "Given an integer, \n",
    "    write a function that calculates ⌈7n/8⌉ (ceiling of 7n/8)\n",
    "        without using division and multiplication operators.\n",
    "*/"
   ]
  },
  {
   "cell_type": "code",
   "execution_count": 115,
   "metadata": {},
   "outputs": [],
   "source": [
    "/*\n",
    "Method 1:\n",
    "\n",
    "The idea is to first calculate floor of n/8, i.e., \n",
    "    ⌊n/8⌋ using right shift bitwise operator. \n",
    "    The expression n>>3 produces the same.\n",
    "\n",
    "If we subtract ⌊n/8⌋ from n, we get ⌈7n/8⌉\n",
    "*/"
   ]
  },
  {
   "cell_type": "code",
   "execution_count": 116,
   "metadata": {},
   "outputs": [
    {
     "name": "stdout",
     "output_type": "stream",
     "text": [
      "8\n"
     ]
    }
   ],
   "source": [
    "static int multiplyBySevenByEight(int n) \n",
    "{ \n",
    "    /* Note the inner bracket here. This is needed \n",
    "    because precedence of '-' operator is higher \n",
    "    than '<<' */\n",
    "    return (n - (n >> 3)); \n",
    "} \n",
    "\n",
    "// Driver code  \n",
    "public static void main(String args[]) \n",
    "{ \n",
    "    int n = 9; \n",
    "    System.out.println(multiplyBySevenByEight(n)); \n",
    "} \n",
    "main(args);"
   ]
  },
  {
   "cell_type": "code",
   "execution_count": 117,
   "metadata": {},
   "outputs": [],
   "source": [
    "/*\n",
    "Method 2 (Always matches with 7*n/8):\n",
    "\n",
    "The above method doesn’t always produce result same as “printf(“%u”, 7*n/8)”. \n",
    "\n",
    "For example, \n",
    "    the value of expression 7*n/8 is 13 for n = 15,\n",
    "        but above proogram produces 14. \n",
    "\n",
    "Below is modified version that always matches 7*n/8. \n",
    "The idea is to first multiply the number with 7, \n",
    "    then divide by 8 as it happens in expression 7*n/8.\n",
    "*/"
   ]
  },
  {
   "cell_type": "code",
   "execution_count": 118,
   "metadata": {},
   "outputs": [
    {
     "name": "stdout",
     "output_type": "stream",
     "text": [
      "13\n"
     ]
    }
   ],
   "source": [
    "static int multiplyBySevenByEight(int n) \n",
    "{  \n",
    "    // Step 1) First multiply number  \n",
    "    // by 7 i.e. 7n = (n << 3) -n \n",
    "    // * Step 2) Divide result by 8  \n",
    "    return ((n << 3) -n) >> 3; \n",
    "} \n",
    "\n",
    "// Driver program  \n",
    "public static void main(String args[]) \n",
    "{ \n",
    "\n",
    "    int n = 15; \n",
    "    System.out.println(multiplyBySevenByEight(n)); \n",
    "} \n",
    "main(args);"
   ]
  },
  {
   "cell_type": "code",
   "execution_count": 119,
   "metadata": {},
   "outputs": [],
   "source": [
    "/*\n",
    "Note : \n",
    "    There is difference between outcomes of two methods.\n",
    "    \n",
    "The method 1 produces ceil(7n/8),\n",
    "    but method two produces integer value of 7n/8. \n",
    "    \n",
    "For example,\n",
    "    for n = 15,\n",
    "        outcome of first method is 14, \n",
    "        but for second method is 13.\n",
    "*/"
   ]
  },
  {
   "cell_type": "code",
   "execution_count": null,
   "metadata": {},
   "outputs": [],
   "source": []
  }
 ],
 "metadata": {
  "kernelspec": {
   "display_name": "Java",
   "language": "java",
   "name": "java"
  },
  "language_info": {
   "codemirror_mode": "java",
   "file_extension": ".jshell",
   "mimetype": "text/x-java-source",
   "name": "Java",
   "pygments_lexer": "java",
   "version": "11.0.6+8-LTS"
  },
  "toc": {
   "base_numbering": 1,
   "nav_menu": {},
   "number_sections": true,
   "sideBar": true,
   "skip_h1_title": true,
   "title_cell": "Table of Contents",
   "title_sidebar": "Contents",
   "toc_cell": false,
   "toc_position": {},
   "toc_section_display": true,
   "toc_window_display": true
  }
 },
 "nbformat": 4,
 "nbformat_minor": 2
}
